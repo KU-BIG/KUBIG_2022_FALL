{
 "cells": [
  {
   "cell_type": "code",
   "execution_count": 7,
   "metadata": {},
   "outputs": [],
   "source": [
    "import pandas as pd\n",
    "import numpy as np\n",
    "import pickle\n",
    "from selenium import webdriver"
   ]
  },
  {
   "cell_type": "code",
   "execution_count": 23,
   "metadata": {},
   "outputs": [
    {
     "name": "stderr",
     "output_type": "stream",
     "text": [
      "C:\\Users\\ansem\\AppData\\Local\\Temp/ipykernel_22216/551986738.py:1: DeprecationWarning: executable_path has been deprecated, please pass in a Service object\n",
      "  driver = webdriver.Chrome(\"C:/Users/ansem/Desktop/chromedriver_win32/chromedriver.exe\")\n"
     ]
    }
   ],
   "source": [
    "driver = webdriver.Chrome(\"C:/Users/ansem/Desktop/chromedriver_win32/chromedriver.exe\")\n",
    "\n",
    "### headless\n",
    "# options = webdriver.ChromeOptions()\n",
    "# options.add_argument('headless')\n",
    "# driver = webdriver.Chrome('chromedriver.exe', options=options)"
   ]
  },
  {
   "cell_type": "code",
   "execution_count": 24,
   "metadata": {},
   "outputs": [],
   "source": [
    "driver.get('https://movie.naver.com/')\n",
    "driver.find_element(\"xpath\", '/html/body/div/div[3]/div/div[1]/div/div/ul/li[3]/a').click()"
   ]
  },
  {
   "cell_type": "code",
   "execution_count": 25,
   "metadata": {},
   "outputs": [],
   "source": [
    "driver.find_element(\"xpath\", '//*[@id=\"old_content\"]/table/tbody/tr[6]/td[2]/div/a').click()\n",
    "driver.find_element(\"xpath\", '/html/body/div/div[4]/div[1]/a').click()"
   ]
  },
  {
   "cell_type": "code",
   "execution_count": 27,
   "metadata": {},
   "outputs": [
    {
     "name": "stdout",
     "output_type": "stream",
     "text": [
      "헤어질 결심 | 멜로/로맨스 | 1,831,555명(08.17 기준)\n"
     ]
    }
   ],
   "source": [
    "# 영화정보\n",
    "movie_title = driver.find_element(\"xpath\", '/html/body/div/div[4]/div[3]/div[1]/div[2]/div[1]/h3/a[1]').text\n",
    "genre = driver.find_element(\"xpath\", '//*[@id=\"content\"]/div[1]/div[2]/div[1]/dl/dd[1]/p/span[1]/a').text\n",
    "attendance = driver.find_element(\"xpath\", '//*[@id=\"content\"]/div[1]/div[2]/div[1]/dl/dd[5]/div/p').text\n",
    "print(movie_title,'|', genre,'|',attendance)"
   ]
  },
  {
   "cell_type": "code",
   "execution_count": 28,
   "metadata": {},
   "outputs": [
    {
     "name": "stdout",
     "output_type": "stream",
     "text": [
      "관람객 연령대\n",
      "{'10대': '4%', '20대': '40%', '30대': '35%', '40대': '14%', '50대\\n이상': '6%'}\n"
     ]
    }
   ],
   "source": [
    "# 관람객 연령대\n",
    "attendance_age = []\n",
    "attendance_per = []\n",
    "for i in range(5):\n",
    "    attendance_per.append(driver.find_element(\"xpath\", f'//*[@id=\"content\"]/div[1]/div[2]/div[1]/div[2]/div/div[2]/div[{i+1}]/strong[1]').text)\n",
    "    attendance_age.append(driver.find_element(\"xpath\", f'//*[@id=\"content\"]/div[1]/div[2]/div[1]/div[2]/div/div[2]/div[{i+1}]/strong[2]').text)\n",
    "attendance_info = dict(zip(attendance_age,attendance_per))\n",
    "print('관람객 연령대')\n",
    "print(attendance_info)"
   ]
  },
  {
   "cell_type": "code",
   "execution_count": 29,
   "metadata": {},
   "outputs": [],
   "source": [
    "driver.find_element(\"xpath\", '//*[@id=\"movieEndTabMenu\"]/li[5]/a/em').click()"
   ]
  },
  {
   "cell_type": "code",
   "execution_count": 30,
   "metadata": {},
   "outputs": [
    {
     "name": "stdout",
     "output_type": "stream",
     "text": [
      "연령별 평점\n",
      "{'10대': '8.95', '20대': '8.45', '30대': '8.45', '40대': '8.70', '50대\\n이상': '8.72'}\n"
     ]
    }
   ],
   "source": [
    "# 연령별 평점\n",
    "attendance_rate = []\n",
    "for i in range(5):\n",
    "    attendance_rate.append(driver.find_element(\"xpath\", f'html/body/div/div[4]/div[2]/div[1]/div[4]/div[1]/div[1]/div[2]/div[1]/div[2]/div/div/div[1]/div[2]/div[{i+1}]/strong[2]').text)\n",
    "attendance_rate_info = dict(zip(attendance_age,attendance_rate))\n",
    "print('연령별 평점')\n",
    "print(attendance_rate_info)"
   ]
  },
  {
   "cell_type": "code",
   "execution_count": 31,
   "metadata": {},
   "outputs": [
    {
     "name": "stdout",
     "output_type": "stream",
     "text": [
      "관람 포인트\n",
      "{'연출': '26%', '연기': '24%', '스토리': '18%', '영상미': '21%', 'OST': '11%'}\n"
     ]
    }
   ],
   "source": [
    "# 관람 포인트\n",
    "point_field = []\n",
    "point_per = []\n",
    "for i in range(5):\n",
    "    point_field.append(driver.find_element(\"xpath\", f'//*[@id=\"netizen_point_graph\"]/div/div[2]/ul/li[{i+1}]/strong').text)\n",
    "    point_per.append(driver.find_element(\"xpath\", f'//*[@id=\"netizen_point_graph\"]/div/div[2]/ul/li[{i+1}]/span').text)\n",
    "\n",
    "point_view = dict(zip(point_field,point_per))\n",
    "print('관람 포인트')\n",
    "print(point_view)"
   ]
  },
  {
   "cell_type": "code",
   "execution_count": 32,
   "metadata": {},
   "outputs": [],
   "source": [
    "driver.switch_to.frame('pointAfterListIframe')"
   ]
  },
  {
   "cell_type": "code",
   "execution_count": 33,
   "metadata": {},
   "outputs": [
    {
     "data": {
      "text/html": [
       "<div>\n",
       "<style scoped>\n",
       "    .dataframe tbody tr th:only-of-type {\n",
       "        vertical-align: middle;\n",
       "    }\n",
       "\n",
       "    .dataframe tbody tr th {\n",
       "        vertical-align: top;\n",
       "    }\n",
       "\n",
       "    .dataframe thead th {\n",
       "        text-align: right;\n",
       "    }\n",
       "</style>\n",
       "<table border=\"1\" class=\"dataframe\">\n",
       "  <thead>\n",
       "    <tr style=\"text-align: right;\">\n",
       "      <th></th>\n",
       "      <th>평점</th>\n",
       "      <th>리뷰</th>\n",
       "      <th>공감</th>\n",
       "      <th>비공감</th>\n",
       "    </tr>\n",
       "  </thead>\n",
       "  <tbody>\n",
       "    <tr>\n",
       "      <th>0</th>\n",
       "      <td>10</td>\n",
       "      <td>네게 미결로 남고 싶은 내 삶의 흔적</td>\n",
       "      <td>2819</td>\n",
       "      <td>240</td>\n",
       "    </tr>\n",
       "    <tr>\n",
       "      <th>1</th>\n",
       "      <td>7</td>\n",
       "      <td>사랑에는 결심이 필요하지 않죠, 자연스러운 거니까. 그런데 헤어질 땐 결심이 필요하죠.</td>\n",
       "      <td>2064</td>\n",
       "      <td>166</td>\n",
       "    </tr>\n",
       "    <tr>\n",
       "      <th>2</th>\n",
       "      <td>10</td>\n",
       "      <td>이 영화는 4시 전후로 보는 것이 좋다. 엔딩크레딧이 올라가고 밖으로 나와 어둑해진...</td>\n",
       "      <td>2114</td>\n",
       "      <td>254</td>\n",
       "    </tr>\n",
       "    <tr>\n",
       "      <th>3</th>\n",
       "      <td>10</td>\n",
       "      <td>잠겨 죽어도 좋으니, 너는 물처럼 내게 밀려오라</td>\n",
       "      <td>1907</td>\n",
       "      <td>185</td>\n",
       "    </tr>\n",
       "    <tr>\n",
       "      <th>4</th>\n",
       "      <td>10</td>\n",
       "      <td>의심하고 미행하고 끝내 수갑 채우려 한다는 점에서 사랑은 하나의 수사극과 같다. 그...</td>\n",
       "      <td>1487</td>\n",
       "      <td>123</td>\n",
       "    </tr>\n",
       "    <tr>\n",
       "      <th>...</th>\n",
       "      <td>...</td>\n",
       "      <td>...</td>\n",
       "      <td>...</td>\n",
       "      <td>...</td>\n",
       "    </tr>\n",
       "    <tr>\n",
       "      <th>95</th>\n",
       "      <td>10</td>\n",
       "      <td>한번봐선 아쉬움.. 두세번봐야 파악할수있는 진심..</td>\n",
       "      <td>66</td>\n",
       "      <td>2</td>\n",
       "    </tr>\n",
       "    <tr>\n",
       "      <th>96</th>\n",
       "      <td>9</td>\n",
       "      <td>붕괴해야 사랑이 시작되는 그 슬픈 모순</td>\n",
       "      <td>73</td>\n",
       "      <td>9</td>\n",
       "    </tr>\n",
       "    <tr>\n",
       "      <th>97</th>\n",
       "      <td>7</td>\n",
       "      <td>박찬욱이 생각하는 사랑이 이런거구나</td>\n",
       "      <td>64</td>\n",
       "      <td>5</td>\n",
       "    </tr>\n",
       "    <tr>\n",
       "      <th>98</th>\n",
       "      <td>10</td>\n",
       "      <td>어느 시점부터 서래가 해일을 사랑하게 됐을까? 진심은 사람을 움직이게 만드는 힘이 있다.</td>\n",
       "      <td>76</td>\n",
       "      <td>17</td>\n",
       "    </tr>\n",
       "    <tr>\n",
       "      <th>99</th>\n",
       "      <td>9</td>\n",
       "      <td>산에서 시작해서 바다로, 의심으로 시작해서 결심으로, 그리고 묵직한 결말, 아름다운 영화</td>\n",
       "      <td>63</td>\n",
       "      <td>5</td>\n",
       "    </tr>\n",
       "  </tbody>\n",
       "</table>\n",
       "<p>100 rows × 4 columns</p>\n",
       "</div>"
      ],
      "text/plain": [
       "    평점                                                 리뷰    공감  비공감\n",
       "0   10                               네게 미결로 남고 싶은 내 삶의 흔적  2819  240\n",
       "1    7   사랑에는 결심이 필요하지 않죠, 자연스러운 거니까. 그런데 헤어질 땐 결심이 필요하죠.  2064  166\n",
       "2   10  이 영화는 4시 전후로 보는 것이 좋다. 엔딩크레딧이 올라가고 밖으로 나와 어둑해진...  2114  254\n",
       "3   10                         잠겨 죽어도 좋으니, 너는 물처럼 내게 밀려오라  1907  185\n",
       "4   10  의심하고 미행하고 끝내 수갑 채우려 한다는 점에서 사랑은 하나의 수사극과 같다. 그...  1487  123\n",
       "..  ..                                                ...   ...  ...\n",
       "95  10                       한번봐선 아쉬움.. 두세번봐야 파악할수있는 진심..    66    2\n",
       "96   9                              붕괴해야 사랑이 시작되는 그 슬픈 모순    73    9\n",
       "97   7                                박찬욱이 생각하는 사랑이 이런거구나    64    5\n",
       "98  10  어느 시점부터 서래가 해일을 사랑하게 됐을까? 진심은 사람을 움직이게 만드는 힘이 있다.    76   17\n",
       "99   9  산에서 시작해서 바다로, 의심으로 시작해서 결심으로, 그리고 묵직한 결말, 아름다운 영화    63    5\n",
       "\n",
       "[100 rows x 4 columns]"
      ]
     },
     "execution_count": 33,
     "metadata": {},
     "output_type": "execute_result"
    }
   ],
   "source": [
    "# 관람객 평점\n",
    "review_df = pd.DataFrame(columns=['평점','리뷰','공감','비공감'])\n",
    "\n",
    "for j in range(10):\n",
    "    for i in range(10):\n",
    "        grade = driver.find_element(\"xpath\", f'/html/body/div/div/div[5]/ul/li[{i+1}]/div[1]/em').text\n",
    "        review = driver.find_element(\"xpath\", f'//*[@id=\"_filtered_ment_{i}\"]').text\n",
    "        good = driver.find_element(\"xpath\", f'/html/body/div/div/div[5]/ul/li[{i+1}]/div[3]/a[1]/strong').text\n",
    "        bad = driver.find_element(\"xpath\", f'/html/body/div/div/div[5]/ul/li[{i+1}]/div[3]/a[2]/strong').text\n",
    "        review_df.loc[10*j+i] = [grade,review,good,bad]\n",
    "    driver.find_element(\"xpath\", f'//*[@id=\"pagerTagAnchor{j+1}\"]').click()\n",
    "\n",
    "review_df"
   ]
  },
  {
   "cell_type": "code",
   "execution_count": 34,
   "metadata": {},
   "outputs": [],
   "source": [
    "driver.switch_to.default_content()"
   ]
  },
  {
   "cell_type": "code",
   "execution_count": 35,
   "metadata": {},
   "outputs": [
    {
     "name": "stdout",
     "output_type": "stream",
     "text": [
      "14 명 참여 | 평균 평점 : 8.71\n"
     ]
    }
   ],
   "source": [
    "expert_rate_avg = ''\n",
    "for i in range(4):\n",
    "    expert_rate_avg += driver.find_element(\"xpath\", f'/html/body/div/div[4]/div[2]/div[1]/div[4]/div[4]/div/div[1]/div/em[{i+1}]').get_attribute(\"innerHTML\")\n",
    "    expert_num = driver.find_element(\"xpath\", f'//*[@id=\"content\"]/div[1]/div[4]/div[4]/div/div[1]/span/em').get_attribute(\"innerHTML\")\n",
    "\n",
    "print(f'{expert_num}명 참여 | 평균 평점 : {expert_rate_avg}')\n"
   ]
  },
  {
   "cell_type": "code",
   "execution_count": 36,
   "metadata": {},
   "outputs": [
    {
     "data": {
      "text/html": [
       "<div>\n",
       "<style scoped>\n",
       "    .dataframe tbody tr th:only-of-type {\n",
       "        vertical-align: middle;\n",
       "    }\n",
       "\n",
       "    .dataframe tbody tr th {\n",
       "        vertical-align: top;\n",
       "    }\n",
       "\n",
       "    .dataframe thead th {\n",
       "        text-align: right;\n",
       "    }\n",
       "</style>\n",
       "<table border=\"1\" class=\"dataframe\">\n",
       "  <thead>\n",
       "    <tr style=\"text-align: right;\">\n",
       "      <th></th>\n",
       "      <th>저널리스트</th>\n",
       "      <th>평점</th>\n",
       "      <th>리뷰</th>\n",
       "    </tr>\n",
       "  </thead>\n",
       "  <tbody>\n",
       "    <tr>\n",
       "      <th>0</th>\n",
       "      <td>이은선</td>\n",
       "      <td>9</td>\n",
       "      <td>박찬욱 감독은 이 영화로 지금 시점에서 자신이 추구하는 어떤 경지를 목격하게 한다....</td>\n",
       "    </tr>\n",
       "    <tr>\n",
       "      <th>1</th>\n",
       "      <td>이지혜</td>\n",
       "      <td>8</td>\n",
       "      <td>&amp;lt;헤어질 결심&amp;gt;은 자신만의 스타일이 있는 창작자가 만든 순도 높은 결과물...</td>\n",
       "    </tr>\n",
       "    <tr>\n",
       "      <th>2</th>\n",
       "      <td>정시우</td>\n",
       "      <td>9</td>\n",
       "      <td>의심은 관심이 되고, 잠복근무는 관음의 알리바이가 되고, 대화는 시(운율)가 되고,...</td>\n",
       "    </tr>\n",
       "    <tr>\n",
       "      <th>3</th>\n",
       "      <td>김소미</td>\n",
       "      <td>9</td>\n",
       "      <td>박찬욱 영화의 정서적 만조</td>\n",
       "    </tr>\n",
       "    <tr>\n",
       "      <th>4</th>\n",
       "      <td>김철홍</td>\n",
       "      <td>7</td>\n",
       "      <td>미결되어 영원 재생될 영화. 새롭진 않지만 마침내</td>\n",
       "    </tr>\n",
       "    <tr>\n",
       "      <th>5</th>\n",
       "      <td>남선우</td>\n",
       "      <td>9</td>\n",
       "      <td>침투하는 디스플레이와 침잠하는 데이터 너머, 끝내 안개를 껴안는 영화</td>\n",
       "    </tr>\n",
       "    <tr>\n",
       "      <th>6</th>\n",
       "      <td>배동미</td>\n",
       "      <td>8</td>\n",
       "      <td>한국영화계의 영원한 모더니스트 박찬욱</td>\n",
       "    </tr>\n",
       "    <tr>\n",
       "      <th>7</th>\n",
       "      <td>송경원</td>\n",
       "      <td>9</td>\n",
       "      <td>카메라의 권능과 변태적 편집의 위력. 숨소리마저 예쁜 극한의 세공</td>\n",
       "    </tr>\n",
       "    <tr>\n",
       "      <th>8</th>\n",
       "      <td>이용철</td>\n",
       "      <td>10</td>\n",
       "      <td>마.침.내. 이 엔딩에 도착하려고 그 오랜 시간 영화에 빠진 것처럼</td>\n",
       "    </tr>\n",
       "    <tr>\n",
       "      <th>9</th>\n",
       "      <td>이우빈</td>\n",
       "      <td>9</td>\n",
       "      <td>감정이 사건을 이끄는 영화. 그 반대가 아니라</td>\n",
       "    </tr>\n",
       "    <tr>\n",
       "      <th>10</th>\n",
       "      <td>임수연</td>\n",
       "      <td>9</td>\n",
       "      <td>오역과 지연, 미결의 역설로 완성된 사랑</td>\n",
       "    </tr>\n",
       "    <tr>\n",
       "      <th>11</th>\n",
       "      <td>정재현</td>\n",
       "      <td>9</td>\n",
       "      <td>짙은 사랑이 피어나는 자욱한 정념의 구덩이</td>\n",
       "    </tr>\n",
       "    <tr>\n",
       "      <th>12</th>\n",
       "      <td>조현나</td>\n",
       "      <td>8</td>\n",
       "      <td>그리하여 마침내, 반복해 갈구하며 기억되길 택하다</td>\n",
       "    </tr>\n",
       "    <tr>\n",
       "      <th>13</th>\n",
       "      <td>허남웅</td>\n",
       "      <td>9</td>\n",
       "      <td>수사(搜査)로 멜로를 감정하고, 멜로로 감정을 수사(修辭)한다</td>\n",
       "    </tr>\n",
       "  </tbody>\n",
       "</table>\n",
       "</div>"
      ],
      "text/plain": [
       "   저널리스트  평점                                                 리뷰\n",
       "0    이은선   9  박찬욱 감독은 이 영화로 지금 시점에서 자신이 추구하는 어떤 경지를 목격하게 한다....\n",
       "1    이지혜   8  &lt;헤어질 결심&gt;은 자신만의 스타일이 있는 창작자가 만든 순도 높은 결과물...\n",
       "2    정시우   9  의심은 관심이 되고, 잠복근무는 관음의 알리바이가 되고, 대화는 시(운율)가 되고,...\n",
       "3    김소미   9                                     박찬욱 영화의 정서적 만조\n",
       "4    김철홍   7                        미결되어 영원 재생될 영화. 새롭진 않지만 마침내\n",
       "5    남선우   9             침투하는 디스플레이와 침잠하는 데이터 너머, 끝내 안개를 껴안는 영화\n",
       "6    배동미   8                               한국영화계의 영원한 모더니스트 박찬욱\n",
       "7    송경원   9               카메라의 권능과 변태적 편집의 위력. 숨소리마저 예쁜 극한의 세공\n",
       "8    이용철  10              마.침.내. 이 엔딩에 도착하려고 그 오랜 시간 영화에 빠진 것처럼\n",
       "9    이우빈   9                          감정이 사건을 이끄는 영화. 그 반대가 아니라\n",
       "10   임수연   9                             오역과 지연, 미결의 역설로 완성된 사랑\n",
       "11   정재현   9                            짙은 사랑이 피어나는 자욱한 정념의 구덩이\n",
       "12   조현나   8                        그리하여 마침내, 반복해 갈구하며 기억되길 택하다\n",
       "13   허남웅   9                 수사(搜査)로 멜로를 감정하고, 멜로로 감정을 수사(修辭)한다"
      ]
     },
     "execution_count": 36,
     "metadata": {},
     "output_type": "execute_result"
    }
   ],
   "source": [
    "# 전문가\n",
    "review_exp_df = pd.DataFrame(columns=['저널리스트','평점','리뷰'])\n",
    "for i in range(100):\n",
    "    try:\n",
    "        name=driver.find_element(\"xpath\", f'//*[@id=\"content\"]/div[1]/div[4]/div[4]/div/div[2]/ul/li[{i+1}]/div[1]/dl/dt/a').get_attribute(\"innerHTML\")\n",
    "        grade=driver.find_element(\"xpath\", f'//*[@id=\"content\"]/div[1]/div[4]/div[4]/div/div[2]/ul/li[{i+1}]/div[2]/div/div/em').get_attribute(\"innerHTML\")\n",
    "        review=driver.find_element(\"xpath\", f'//*[@id=\"content\"]/div[1]/div[4]/div[4]/div/div[2]/ul/li[{i+1}]/p').get_attribute(\"innerHTML\")\n",
    "        review_exp_df.loc[i] = [name,grade,review]\n",
    "    except: pass\n",
    "index = len(review_exp_df)\n",
    "\n",
    "for i in range(100):\n",
    "    try:\n",
    "        name=driver.find_element(\"xpath\", f'//*[@id=\"content\"]/div[1]/div[4]/div[4]/div/div[3]/div/ul/li[{i+1}]/div[2]/dl/dd').get_attribute(\"innerHTML\").strip('\\n').strip('\\t').strip('\\n').strip('| ')\n",
    "        grade=driver.find_element(\"xpath\", f'//*[@id=\"content\"]/div[1]/div[4]/div[4]/div/div[3]/div/ul/li[{i+1}]/div[1]/em').get_attribute(\"innerHTML\")\n",
    "        review=driver.find_element(\"xpath\", f'//*[@id=\"content\"]/div[1]/div[4]/div[4]/div/div[3]/div/ul/li[{i+1}]/div[2]/p').get_attribute(\"innerHTML\")\n",
    "        review_exp_df.loc[index+i] = [name,grade,review]\n",
    "    except: pass\n",
    "        \n",
    "\n",
    "review_exp_df"
   ]
  },
  {
   "cell_type": "code",
   "execution_count": 38,
   "metadata": {},
   "outputs": [
    {
     "data": {
      "text/plain": [
       "'박찬욱 감독은 이 영화로 지금 시점에서 자신이 추구하는 어떤 경지를 목격하게 한다. 중요한 건 고고한 예술가의 도취적 결과가 아니라 대중예술로서의 겸허한 손짓이라는 점이다. 보는 이로 하여금 인물들의 말을 곱씹고 영화의 미학에 나의 시선을 덧대보고 싶은 욕구를 가지게 한다는 점에서 &lt;헤어질 결심&gt;은 훌륭하다. 어쩌면 이 영화에 분석적 접근은 필요하지 않을지 모른다. 정취의 파도를 하릴없이 얻어맞은 우리 각자가 그저 무너지고 깨어진 채로 존재하는 것이 이 영화를 최선으로 욕망하고 품는 방식일 것이기에. 애수와 회한 사이를 기품 있게 오가는 탕웨이와 박해일의 연기는 흠잡을 곳이 없다. 올해는 이미 그들의 해다.'"
      ]
     },
     "execution_count": 38,
     "metadata": {},
     "output_type": "execute_result"
    }
   ],
   "source": [
    "review_exp_df.iloc[0,2]"
   ]
  },
  {
   "cell_type": "code",
   "execution_count": 96,
   "metadata": {},
   "outputs": [],
   "source": [
    "# pickle로 저장\n",
    "with open('review_df.pickle', 'wb') as f:\n",
    "    pickle.dump(review_df, f)\n",
    "\n",
    "with open('review_exp_df.pickle', 'wb') as f:\n",
    "    pickle.dump(review_exp_df, f)"
   ]
  }
 ],
 "metadata": {
  "kernelspec": {
   "display_name": "Python 3.9.7 ('base')",
   "language": "python",
   "name": "python3"
  },
  "language_info": {
   "codemirror_mode": {
    "name": "ipython",
    "version": 3
   },
   "file_extension": ".py",
   "mimetype": "text/x-python",
   "name": "python",
   "nbconvert_exporter": "python",
   "pygments_lexer": "ipython3",
   "version": "3.9.12"
  },
  "orig_nbformat": 4,
  "vscode": {
   "interpreter": {
    "hash": "50a2ecafd68dbf24c13edfcaaf5cceb5fb9cfa070d5908841edef96f9b53975d"
   }
  }
 },
 "nbformat": 4,
 "nbformat_minor": 2
}
