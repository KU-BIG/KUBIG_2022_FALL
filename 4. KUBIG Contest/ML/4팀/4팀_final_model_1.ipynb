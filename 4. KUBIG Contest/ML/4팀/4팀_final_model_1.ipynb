{
  "nbformat": 4,
  "nbformat_minor": 0,
  "metadata": {
    "colab": {
      "name": "KBCON (EDA 위주) 이은찬,정은미,임채명,이영노,이수찬.ipynb",
      "provenance": [],
      "collapsed_sections": [
        "nD_NpjmoAQgo",
        "9YxCaB6ID_BD",
        "fJFWV4yYKzZn",
        "3ZYnuYzyUjTw",
        "ONBjF4F8aEkh",
        "1Qy7VVn0cvmv",
        "3d-Ll_2Gc0cO",
        "1MKgRZjhf6My"
      ]
    },
    "kernelspec": {
      "name": "python3",
      "display_name": "Python 3"
    },
    "language_info": {
      "name": "python"
    }
  },
  "cells": [
    {
      "cell_type": "markdown",
      "source": [
        "# Pre-Setting\n"
      ],
      "metadata": {
        "id": "VauiS-MR_LfX"
      }
    },
    {
      "cell_type": "code",
      "source": [
        "import pandas as pd\n",
        "import numpy as np\n",
        "import matplotlib.pyplot as plt\n",
        "import seaborn as sns"
      ],
      "metadata": {
        "id": "tbwtf3e0_b_P"
      },
      "execution_count": null,
      "outputs": []
    },
    {
      "cell_type": "code",
      "source": [
        "from google.colab import drive\n",
        "drive.mount('/content/drive')"
      ],
      "metadata": {
        "colab": {
          "base_uri": "https://localhost:8080/"
        },
        "id": "2KCMgSZ6_eX7",
        "outputId": "c12c2516-2f98-4c19-baf2-4d8f7a0ab48d"
      },
      "execution_count": null,
      "outputs": [
        {
          "output_type": "stream",
          "name": "stdout",
          "text": [
            "Drive already mounted at /content/drive; to attempt to forcibly remount, call drive.mount(\"/content/drive\", force_remount=True).\n"
          ]
        }
      ]
    },
    {
      "cell_type": "code",
      "source": [
        "train = pd.read_csv(\"/content/drive/Shareddrives/2022-KUBIG CONTEST_머신러닝 4팀/train.csv\")\n",
        "test=pd.read_csv(\"/content/drive/Shareddrives/2022-KUBIG CONTEST_머신러닝 4팀/test_x.csv\")"
      ],
      "metadata": {
        "id": "zyso6APL_gq1"
      },
      "execution_count": null,
      "outputs": []
    },
    {
      "cell_type": "code",
      "source": [
        "pd.set_option('display.max_columns', None)"
      ],
      "metadata": {
        "id": "lwHLgB70_kIA"
      },
      "execution_count": null,
      "outputs": []
    },
    {
      "cell_type": "code",
      "source": [
        "from sklearn.metrics import *"
      ],
      "metadata": {
        "id": "JITQTLwaRNeH"
      },
      "execution_count": null,
      "outputs": []
    },
    {
      "cell_type": "markdown",
      "source": [
        "# EDA"
      ],
      "metadata": {
        "id": "twjs6k2N_MWw"
      }
    },
    {
      "cell_type": "markdown",
      "source": [
        "# Basic"
      ],
      "metadata": {
        "id": "nD_NpjmoAQgo"
      }
    },
    {
      "cell_type": "code",
      "source": [
        "train.head()"
      ],
      "metadata": {
        "colab": {
          "base_uri": "https://localhost:8080/"
        },
        "id": "RkmRHMlpATso",
        "outputId": "820023ae-e60c-4bd3-a2d0-b7d9f4580e7c"
      },
      "execution_count": null,
      "outputs": [
        {
          "output_type": "execute_result",
          "data": {
            "text/plain": [
              "   index  QaA   QaE  QbA   QbE  QcA   QcE  QdA   QdE  QeA   QeE  QfA   QfE  \\\n",
              "0      0  3.0   363  4.0  1370  5.0   997  1.0  1024  2.0  1577  5.0   539   \n",
              "1      1  5.0   647  5.0  1313  3.0  3387  5.0  2969  1.0  4320  3.0  2190   \n",
              "2      2  4.0  1623  1.0  1480  1.0  1021  4.0  3374  5.0  1333  1.0   531   \n",
              "3      3  3.0   504  3.0  2311  4.0   992  3.0  3245  1.0   357  2.0  1519   \n",
              "4      4  1.0   927  1.0   707  5.0   556  2.0  1062  1.0  1014  2.0   628   \n",
              "\n",
              "   QgA   QgE  QhA   QhE  QiA   QiE  QjA   QjE  QkA   QkE  QlA   QlE  QmA  \\\n",
              "0  2.0   586  4.0  1095  5.0  1142  4.0  1287  4.0   883  4.0   851  2.0   \n",
              "1  1.0   826  1.0  4082  5.0  1867  3.0  1264  5.0  2943  4.0  3927  1.0   \n",
              "2  4.0  1167  1.0  1016  3.0  2653  2.0  1569  5.0   998  5.0  2547  2.0   \n",
              "3  4.0   159  3.0  2275  5.0  2809  4.0  5614  3.0  3219  4.0  1296  4.0   \n",
              "4  1.0   991  1.0  1259  5.0  1153  5.0  1388  5.0   740  5.0  1181  4.0   \n",
              "\n",
              "    QmE  QnA   QnE  QoA   QoE  QpA    QpE  QqA   QqE  QrA   QrE  QsA   QsE  \\\n",
              "0   851  5.0   816  2.0   579  2.0    924  2.0   366  2.0   876  2.0   633   \n",
              "1  4329  5.0  1828  1.0  1214  5.0   2414  5.0  1356  1.0  3039  4.0  4304   \n",
              "2   918  4.0  2153  2.0  1304  1.0   1131  5.0   937  4.0  1327  1.0  1170   \n",
              "3  9046  4.0  1216  4.0  1169  4.0  23868  3.0   581  4.0  8830  4.0  2392   \n",
              "4   547  2.0   575  1.0   754  4.0   1140  5.0   323  5.0  1070  1.0   583   \n",
              "\n",
              "   QtA   QtE age_group  education  engnat  familysize  gender  hand  married  \\\n",
              "0  1.0  1115       30s          2       1           4  Female     1        3   \n",
              "1  1.0  1346       20s          4       2           3  Female     1        1   \n",
              "2  1.0  1409       30s          3       1           3    Male     1        2   \n",
              "3  5.0  1312       20s          4       2           0  Female     1        1   \n",
              "4  2.0  1889       20s          3       1           2    Male     1        2   \n",
              "\n",
              "    race  religion  tp01  tp02  tp03  tp04  tp05  tp06  tp07  tp08  tp09  \\\n",
              "0  White     Other     2     2     2     1     2     1     7     4     4   \n",
              "1  Asian     Hindu     1     1     0     0     1     2     3     4     0   \n",
              "2  White     Other     2     3     1     5     3     4     2     6     1   \n",
              "3  Asian     Hindu     2     4     1     1     1     3     1     3     1   \n",
              "4  White  Agnostic     1     1     1     6     0     2     0     6     2   \n",
              "\n",
              "   tp10  urban  voted  wf_01  wf_02  wf_03  wr_01  wr_02  wr_03  wr_04  wr_05  \\\n",
              "0     3      1      2      0      0      0      0      1      0      0      1   \n",
              "1     4      3      2      0      0      0      0      1      0      1      1   \n",
              "2     3      2      1      0      0      1      1      1      0      1      1   \n",
              "3     3      3      1      0      0      0      0      1      0      0      0   \n",
              "4     6      1      1      0      1      0      1      1      0      1      1   \n",
              "\n",
              "   wr_06  wr_07  wr_08  wr_09  wr_10  wr_11  wr_12  wr_13  \n",
              "0      0      1      1      0      1      0      1      1  \n",
              "1      0      1      1      0      1      0      1      1  \n",
              "2      0      1      1      1      1      0      1      1  \n",
              "3      0      0      1      0      1      0      1      1  \n",
              "4      1      1      1      0      1      1      1      1  "
            ],
            "text/html": [
              "\n",
              "  <div id=\"df-ab6c96df-eb2b-438c-839a-ec7615765871\">\n",
              "    <div class=\"colab-df-container\">\n",
              "      <div>\n",
              "<style scoped>\n",
              "    .dataframe tbody tr th:only-of-type {\n",
              "        vertical-align: middle;\n",
              "    }\n",
              "\n",
              "    .dataframe tbody tr th {\n",
              "        vertical-align: top;\n",
              "    }\n",
              "\n",
              "    .dataframe thead th {\n",
              "        text-align: right;\n",
              "    }\n",
              "</style>\n",
              "<table border=\"1\" class=\"dataframe\">\n",
              "  <thead>\n",
              "    <tr style=\"text-align: right;\">\n",
              "      <th></th>\n",
              "      <th>index</th>\n",
              "      <th>QaA</th>\n",
              "      <th>QaE</th>\n",
              "      <th>QbA</th>\n",
              "      <th>QbE</th>\n",
              "      <th>QcA</th>\n",
              "      <th>QcE</th>\n",
              "      <th>QdA</th>\n",
              "      <th>QdE</th>\n",
              "      <th>QeA</th>\n",
              "      <th>QeE</th>\n",
              "      <th>QfA</th>\n",
              "      <th>QfE</th>\n",
              "      <th>QgA</th>\n",
              "      <th>QgE</th>\n",
              "      <th>QhA</th>\n",
              "      <th>QhE</th>\n",
              "      <th>QiA</th>\n",
              "      <th>QiE</th>\n",
              "      <th>QjA</th>\n",
              "      <th>QjE</th>\n",
              "      <th>QkA</th>\n",
              "      <th>QkE</th>\n",
              "      <th>QlA</th>\n",
              "      <th>QlE</th>\n",
              "      <th>QmA</th>\n",
              "      <th>QmE</th>\n",
              "      <th>QnA</th>\n",
              "      <th>QnE</th>\n",
              "      <th>QoA</th>\n",
              "      <th>QoE</th>\n",
              "      <th>QpA</th>\n",
              "      <th>QpE</th>\n",
              "      <th>QqA</th>\n",
              "      <th>QqE</th>\n",
              "      <th>QrA</th>\n",
              "      <th>QrE</th>\n",
              "      <th>QsA</th>\n",
              "      <th>QsE</th>\n",
              "      <th>QtA</th>\n",
              "      <th>QtE</th>\n",
              "      <th>age_group</th>\n",
              "      <th>education</th>\n",
              "      <th>engnat</th>\n",
              "      <th>familysize</th>\n",
              "      <th>gender</th>\n",
              "      <th>hand</th>\n",
              "      <th>married</th>\n",
              "      <th>race</th>\n",
              "      <th>religion</th>\n",
              "      <th>tp01</th>\n",
              "      <th>tp02</th>\n",
              "      <th>tp03</th>\n",
              "      <th>tp04</th>\n",
              "      <th>tp05</th>\n",
              "      <th>tp06</th>\n",
              "      <th>tp07</th>\n",
              "      <th>tp08</th>\n",
              "      <th>tp09</th>\n",
              "      <th>tp10</th>\n",
              "      <th>urban</th>\n",
              "      <th>voted</th>\n",
              "      <th>wf_01</th>\n",
              "      <th>wf_02</th>\n",
              "      <th>wf_03</th>\n",
              "      <th>wr_01</th>\n",
              "      <th>wr_02</th>\n",
              "      <th>wr_03</th>\n",
              "      <th>wr_04</th>\n",
              "      <th>wr_05</th>\n",
              "      <th>wr_06</th>\n",
              "      <th>wr_07</th>\n",
              "      <th>wr_08</th>\n",
              "      <th>wr_09</th>\n",
              "      <th>wr_10</th>\n",
              "      <th>wr_11</th>\n",
              "      <th>wr_12</th>\n",
              "      <th>wr_13</th>\n",
              "    </tr>\n",
              "  </thead>\n",
              "  <tbody>\n",
              "    <tr>\n",
              "      <th>0</th>\n",
              "      <td>0</td>\n",
              "      <td>3.0</td>\n",
              "      <td>363</td>\n",
              "      <td>4.0</td>\n",
              "      <td>1370</td>\n",
              "      <td>5.0</td>\n",
              "      <td>997</td>\n",
              "      <td>1.0</td>\n",
              "      <td>1024</td>\n",
              "      <td>2.0</td>\n",
              "      <td>1577</td>\n",
              "      <td>5.0</td>\n",
              "      <td>539</td>\n",
              "      <td>2.0</td>\n",
              "      <td>586</td>\n",
              "      <td>4.0</td>\n",
              "      <td>1095</td>\n",
              "      <td>5.0</td>\n",
              "      <td>1142</td>\n",
              "      <td>4.0</td>\n",
              "      <td>1287</td>\n",
              "      <td>4.0</td>\n",
              "      <td>883</td>\n",
              "      <td>4.0</td>\n",
              "      <td>851</td>\n",
              "      <td>2.0</td>\n",
              "      <td>851</td>\n",
              "      <td>5.0</td>\n",
              "      <td>816</td>\n",
              "      <td>2.0</td>\n",
              "      <td>579</td>\n",
              "      <td>2.0</td>\n",
              "      <td>924</td>\n",
              "      <td>2.0</td>\n",
              "      <td>366</td>\n",
              "      <td>2.0</td>\n",
              "      <td>876</td>\n",
              "      <td>2.0</td>\n",
              "      <td>633</td>\n",
              "      <td>1.0</td>\n",
              "      <td>1115</td>\n",
              "      <td>30s</td>\n",
              "      <td>2</td>\n",
              "      <td>1</td>\n",
              "      <td>4</td>\n",
              "      <td>Female</td>\n",
              "      <td>1</td>\n",
              "      <td>3</td>\n",
              "      <td>White</td>\n",
              "      <td>Other</td>\n",
              "      <td>2</td>\n",
              "      <td>2</td>\n",
              "      <td>2</td>\n",
              "      <td>1</td>\n",
              "      <td>2</td>\n",
              "      <td>1</td>\n",
              "      <td>7</td>\n",
              "      <td>4</td>\n",
              "      <td>4</td>\n",
              "      <td>3</td>\n",
              "      <td>1</td>\n",
              "      <td>2</td>\n",
              "      <td>0</td>\n",
              "      <td>0</td>\n",
              "      <td>0</td>\n",
              "      <td>0</td>\n",
              "      <td>1</td>\n",
              "      <td>0</td>\n",
              "      <td>0</td>\n",
              "      <td>1</td>\n",
              "      <td>0</td>\n",
              "      <td>1</td>\n",
              "      <td>1</td>\n",
              "      <td>0</td>\n",
              "      <td>1</td>\n",
              "      <td>0</td>\n",
              "      <td>1</td>\n",
              "      <td>1</td>\n",
              "    </tr>\n",
              "    <tr>\n",
              "      <th>1</th>\n",
              "      <td>1</td>\n",
              "      <td>5.0</td>\n",
              "      <td>647</td>\n",
              "      <td>5.0</td>\n",
              "      <td>1313</td>\n",
              "      <td>3.0</td>\n",
              "      <td>3387</td>\n",
              "      <td>5.0</td>\n",
              "      <td>2969</td>\n",
              "      <td>1.0</td>\n",
              "      <td>4320</td>\n",
              "      <td>3.0</td>\n",
              "      <td>2190</td>\n",
              "      <td>1.0</td>\n",
              "      <td>826</td>\n",
              "      <td>1.0</td>\n",
              "      <td>4082</td>\n",
              "      <td>5.0</td>\n",
              "      <td>1867</td>\n",
              "      <td>3.0</td>\n",
              "      <td>1264</td>\n",
              "      <td>5.0</td>\n",
              "      <td>2943</td>\n",
              "      <td>4.0</td>\n",
              "      <td>3927</td>\n",
              "      <td>1.0</td>\n",
              "      <td>4329</td>\n",
              "      <td>5.0</td>\n",
              "      <td>1828</td>\n",
              "      <td>1.0</td>\n",
              "      <td>1214</td>\n",
              "      <td>5.0</td>\n",
              "      <td>2414</td>\n",
              "      <td>5.0</td>\n",
              "      <td>1356</td>\n",
              "      <td>1.0</td>\n",
              "      <td>3039</td>\n",
              "      <td>4.0</td>\n",
              "      <td>4304</td>\n",
              "      <td>1.0</td>\n",
              "      <td>1346</td>\n",
              "      <td>20s</td>\n",
              "      <td>4</td>\n",
              "      <td>2</td>\n",
              "      <td>3</td>\n",
              "      <td>Female</td>\n",
              "      <td>1</td>\n",
              "      <td>1</td>\n",
              "      <td>Asian</td>\n",
              "      <td>Hindu</td>\n",
              "      <td>1</td>\n",
              "      <td>1</td>\n",
              "      <td>0</td>\n",
              "      <td>0</td>\n",
              "      <td>1</td>\n",
              "      <td>2</td>\n",
              "      <td>3</td>\n",
              "      <td>4</td>\n",
              "      <td>0</td>\n",
              "      <td>4</td>\n",
              "      <td>3</td>\n",
              "      <td>2</td>\n",
              "      <td>0</td>\n",
              "      <td>0</td>\n",
              "      <td>0</td>\n",
              "      <td>0</td>\n",
              "      <td>1</td>\n",
              "      <td>0</td>\n",
              "      <td>1</td>\n",
              "      <td>1</td>\n",
              "      <td>0</td>\n",
              "      <td>1</td>\n",
              "      <td>1</td>\n",
              "      <td>0</td>\n",
              "      <td>1</td>\n",
              "      <td>0</td>\n",
              "      <td>1</td>\n",
              "      <td>1</td>\n",
              "    </tr>\n",
              "    <tr>\n",
              "      <th>2</th>\n",
              "      <td>2</td>\n",
              "      <td>4.0</td>\n",
              "      <td>1623</td>\n",
              "      <td>1.0</td>\n",
              "      <td>1480</td>\n",
              "      <td>1.0</td>\n",
              "      <td>1021</td>\n",
              "      <td>4.0</td>\n",
              "      <td>3374</td>\n",
              "      <td>5.0</td>\n",
              "      <td>1333</td>\n",
              "      <td>1.0</td>\n",
              "      <td>531</td>\n",
              "      <td>4.0</td>\n",
              "      <td>1167</td>\n",
              "      <td>1.0</td>\n",
              "      <td>1016</td>\n",
              "      <td>3.0</td>\n",
              "      <td>2653</td>\n",
              "      <td>2.0</td>\n",
              "      <td>1569</td>\n",
              "      <td>5.0</td>\n",
              "      <td>998</td>\n",
              "      <td>5.0</td>\n",
              "      <td>2547</td>\n",
              "      <td>2.0</td>\n",
              "      <td>918</td>\n",
              "      <td>4.0</td>\n",
              "      <td>2153</td>\n",
              "      <td>2.0</td>\n",
              "      <td>1304</td>\n",
              "      <td>1.0</td>\n",
              "      <td>1131</td>\n",
              "      <td>5.0</td>\n",
              "      <td>937</td>\n",
              "      <td>4.0</td>\n",
              "      <td>1327</td>\n",
              "      <td>1.0</td>\n",
              "      <td>1170</td>\n",
              "      <td>1.0</td>\n",
              "      <td>1409</td>\n",
              "      <td>30s</td>\n",
              "      <td>3</td>\n",
              "      <td>1</td>\n",
              "      <td>3</td>\n",
              "      <td>Male</td>\n",
              "      <td>1</td>\n",
              "      <td>2</td>\n",
              "      <td>White</td>\n",
              "      <td>Other</td>\n",
              "      <td>2</td>\n",
              "      <td>3</td>\n",
              "      <td>1</td>\n",
              "      <td>5</td>\n",
              "      <td>3</td>\n",
              "      <td>4</td>\n",
              "      <td>2</td>\n",
              "      <td>6</td>\n",
              "      <td>1</td>\n",
              "      <td>3</td>\n",
              "      <td>2</td>\n",
              "      <td>1</td>\n",
              "      <td>0</td>\n",
              "      <td>0</td>\n",
              "      <td>1</td>\n",
              "      <td>1</td>\n",
              "      <td>1</td>\n",
              "      <td>0</td>\n",
              "      <td>1</td>\n",
              "      <td>1</td>\n",
              "      <td>0</td>\n",
              "      <td>1</td>\n",
              "      <td>1</td>\n",
              "      <td>1</td>\n",
              "      <td>1</td>\n",
              "      <td>0</td>\n",
              "      <td>1</td>\n",
              "      <td>1</td>\n",
              "    </tr>\n",
              "    <tr>\n",
              "      <th>3</th>\n",
              "      <td>3</td>\n",
              "      <td>3.0</td>\n",
              "      <td>504</td>\n",
              "      <td>3.0</td>\n",
              "      <td>2311</td>\n",
              "      <td>4.0</td>\n",
              "      <td>992</td>\n",
              "      <td>3.0</td>\n",
              "      <td>3245</td>\n",
              "      <td>1.0</td>\n",
              "      <td>357</td>\n",
              "      <td>2.0</td>\n",
              "      <td>1519</td>\n",
              "      <td>4.0</td>\n",
              "      <td>159</td>\n",
              "      <td>3.0</td>\n",
              "      <td>2275</td>\n",
              "      <td>5.0</td>\n",
              "      <td>2809</td>\n",
              "      <td>4.0</td>\n",
              "      <td>5614</td>\n",
              "      <td>3.0</td>\n",
              "      <td>3219</td>\n",
              "      <td>4.0</td>\n",
              "      <td>1296</td>\n",
              "      <td>4.0</td>\n",
              "      <td>9046</td>\n",
              "      <td>4.0</td>\n",
              "      <td>1216</td>\n",
              "      <td>4.0</td>\n",
              "      <td>1169</td>\n",
              "      <td>4.0</td>\n",
              "      <td>23868</td>\n",
              "      <td>3.0</td>\n",
              "      <td>581</td>\n",
              "      <td>4.0</td>\n",
              "      <td>8830</td>\n",
              "      <td>4.0</td>\n",
              "      <td>2392</td>\n",
              "      <td>5.0</td>\n",
              "      <td>1312</td>\n",
              "      <td>20s</td>\n",
              "      <td>4</td>\n",
              "      <td>2</td>\n",
              "      <td>0</td>\n",
              "      <td>Female</td>\n",
              "      <td>1</td>\n",
              "      <td>1</td>\n",
              "      <td>Asian</td>\n",
              "      <td>Hindu</td>\n",
              "      <td>2</td>\n",
              "      <td>4</td>\n",
              "      <td>1</td>\n",
              "      <td>1</td>\n",
              "      <td>1</td>\n",
              "      <td>3</td>\n",
              "      <td>1</td>\n",
              "      <td>3</td>\n",
              "      <td>1</td>\n",
              "      <td>3</td>\n",
              "      <td>3</td>\n",
              "      <td>1</td>\n",
              "      <td>0</td>\n",
              "      <td>0</td>\n",
              "      <td>0</td>\n",
              "      <td>0</td>\n",
              "      <td>1</td>\n",
              "      <td>0</td>\n",
              "      <td>0</td>\n",
              "      <td>0</td>\n",
              "      <td>0</td>\n",
              "      <td>0</td>\n",
              "      <td>1</td>\n",
              "      <td>0</td>\n",
              "      <td>1</td>\n",
              "      <td>0</td>\n",
              "      <td>1</td>\n",
              "      <td>1</td>\n",
              "    </tr>\n",
              "    <tr>\n",
              "      <th>4</th>\n",
              "      <td>4</td>\n",
              "      <td>1.0</td>\n",
              "      <td>927</td>\n",
              "      <td>1.0</td>\n",
              "      <td>707</td>\n",
              "      <td>5.0</td>\n",
              "      <td>556</td>\n",
              "      <td>2.0</td>\n",
              "      <td>1062</td>\n",
              "      <td>1.0</td>\n",
              "      <td>1014</td>\n",
              "      <td>2.0</td>\n",
              "      <td>628</td>\n",
              "      <td>1.0</td>\n",
              "      <td>991</td>\n",
              "      <td>1.0</td>\n",
              "      <td>1259</td>\n",
              "      <td>5.0</td>\n",
              "      <td>1153</td>\n",
              "      <td>5.0</td>\n",
              "      <td>1388</td>\n",
              "      <td>5.0</td>\n",
              "      <td>740</td>\n",
              "      <td>5.0</td>\n",
              "      <td>1181</td>\n",
              "      <td>4.0</td>\n",
              "      <td>547</td>\n",
              "      <td>2.0</td>\n",
              "      <td>575</td>\n",
              "      <td>1.0</td>\n",
              "      <td>754</td>\n",
              "      <td>4.0</td>\n",
              "      <td>1140</td>\n",
              "      <td>5.0</td>\n",
              "      <td>323</td>\n",
              "      <td>5.0</td>\n",
              "      <td>1070</td>\n",
              "      <td>1.0</td>\n",
              "      <td>583</td>\n",
              "      <td>2.0</td>\n",
              "      <td>1889</td>\n",
              "      <td>20s</td>\n",
              "      <td>3</td>\n",
              "      <td>1</td>\n",
              "      <td>2</td>\n",
              "      <td>Male</td>\n",
              "      <td>1</td>\n",
              "      <td>2</td>\n",
              "      <td>White</td>\n",
              "      <td>Agnostic</td>\n",
              "      <td>1</td>\n",
              "      <td>1</td>\n",
              "      <td>1</td>\n",
              "      <td>6</td>\n",
              "      <td>0</td>\n",
              "      <td>2</td>\n",
              "      <td>0</td>\n",
              "      <td>6</td>\n",
              "      <td>2</td>\n",
              "      <td>6</td>\n",
              "      <td>1</td>\n",
              "      <td>1</td>\n",
              "      <td>0</td>\n",
              "      <td>1</td>\n",
              "      <td>0</td>\n",
              "      <td>1</td>\n",
              "      <td>1</td>\n",
              "      <td>0</td>\n",
              "      <td>1</td>\n",
              "      <td>1</td>\n",
              "      <td>1</td>\n",
              "      <td>1</td>\n",
              "      <td>1</td>\n",
              "      <td>0</td>\n",
              "      <td>1</td>\n",
              "      <td>1</td>\n",
              "      <td>1</td>\n",
              "      <td>1</td>\n",
              "    </tr>\n",
              "  </tbody>\n",
              "</table>\n",
              "</div>\n",
              "      <button class=\"colab-df-convert\" onclick=\"convertToInteractive('df-ab6c96df-eb2b-438c-839a-ec7615765871')\"\n",
              "              title=\"Convert this dataframe to an interactive table.\"\n",
              "              style=\"display:none;\">\n",
              "        \n",
              "  <svg xmlns=\"http://www.w3.org/2000/svg\" height=\"24px\"viewBox=\"0 0 24 24\"\n",
              "       width=\"24px\">\n",
              "    <path d=\"M0 0h24v24H0V0z\" fill=\"none\"/>\n",
              "    <path d=\"M18.56 5.44l.94 2.06.94-2.06 2.06-.94-2.06-.94-.94-2.06-.94 2.06-2.06.94zm-11 1L8.5 8.5l.94-2.06 2.06-.94-2.06-.94L8.5 2.5l-.94 2.06-2.06.94zm10 10l.94 2.06.94-2.06 2.06-.94-2.06-.94-.94-2.06-.94 2.06-2.06.94z\"/><path d=\"M17.41 7.96l-1.37-1.37c-.4-.4-.92-.59-1.43-.59-.52 0-1.04.2-1.43.59L10.3 9.45l-7.72 7.72c-.78.78-.78 2.05 0 2.83L4 21.41c.39.39.9.59 1.41.59.51 0 1.02-.2 1.41-.59l7.78-7.78 2.81-2.81c.8-.78.8-2.07 0-2.86zM5.41 20L4 18.59l7.72-7.72 1.47 1.35L5.41 20z\"/>\n",
              "  </svg>\n",
              "      </button>\n",
              "      \n",
              "  <style>\n",
              "    .colab-df-container {\n",
              "      display:flex;\n",
              "      flex-wrap:wrap;\n",
              "      gap: 12px;\n",
              "    }\n",
              "\n",
              "    .colab-df-convert {\n",
              "      background-color: #E8F0FE;\n",
              "      border: none;\n",
              "      border-radius: 50%;\n",
              "      cursor: pointer;\n",
              "      display: none;\n",
              "      fill: #1967D2;\n",
              "      height: 32px;\n",
              "      padding: 0 0 0 0;\n",
              "      width: 32px;\n",
              "    }\n",
              "\n",
              "    .colab-df-convert:hover {\n",
              "      background-color: #E2EBFA;\n",
              "      box-shadow: 0px 1px 2px rgba(60, 64, 67, 0.3), 0px 1px 3px 1px rgba(60, 64, 67, 0.15);\n",
              "      fill: #174EA6;\n",
              "    }\n",
              "\n",
              "    [theme=dark] .colab-df-convert {\n",
              "      background-color: #3B4455;\n",
              "      fill: #D2E3FC;\n",
              "    }\n",
              "\n",
              "    [theme=dark] .colab-df-convert:hover {\n",
              "      background-color: #434B5C;\n",
              "      box-shadow: 0px 1px 3px 1px rgba(0, 0, 0, 0.15);\n",
              "      filter: drop-shadow(0px 1px 2px rgba(0, 0, 0, 0.3));\n",
              "      fill: #FFFFFF;\n",
              "    }\n",
              "  </style>\n",
              "\n",
              "      <script>\n",
              "        const buttonEl =\n",
              "          document.querySelector('#df-ab6c96df-eb2b-438c-839a-ec7615765871 button.colab-df-convert');\n",
              "        buttonEl.style.display =\n",
              "          google.colab.kernel.accessAllowed ? 'block' : 'none';\n",
              "\n",
              "        async function convertToInteractive(key) {\n",
              "          const element = document.querySelector('#df-ab6c96df-eb2b-438c-839a-ec7615765871');\n",
              "          const dataTable =\n",
              "            await google.colab.kernel.invokeFunction('convertToInteractive',\n",
              "                                                     [key], {});\n",
              "          if (!dataTable) return;\n",
              "\n",
              "          const docLinkHtml = 'Like what you see? Visit the ' +\n",
              "            '<a target=\"_blank\" href=https://colab.research.google.com/notebooks/data_table.ipynb>data table notebook</a>'\n",
              "            + ' to learn more about interactive tables.';\n",
              "          element.innerHTML = '';\n",
              "          dataTable['output_type'] = 'display_data';\n",
              "          await google.colab.output.renderOutput(dataTable, element);\n",
              "          const docLink = document.createElement('div');\n",
              "          docLink.innerHTML = docLinkHtml;\n",
              "          element.appendChild(docLink);\n",
              "        }\n",
              "      </script>\n",
              "    </div>\n",
              "  </div>\n",
              "  "
            ]
          },
          "metadata": {},
          "execution_count": 6
        }
      ]
    },
    {
      "cell_type": "code",
      "source": [
        "len(train.columns)"
      ],
      "metadata": {
        "colab": {
          "base_uri": "https://localhost:8080/"
        },
        "id": "kaJ1KjiK__Jw",
        "outputId": "1db9c549-5cb0-4560-8d67-5f08df406e2a"
      },
      "execution_count": null,
      "outputs": [
        {
          "output_type": "execute_result",
          "data": {
            "text/plain": [
              "78"
            ]
          },
          "metadata": {},
          "execution_count": 7
        }
      ]
    },
    {
      "cell_type": "code",
      "source": [
        "train.columns"
      ],
      "metadata": {
        "colab": {
          "base_uri": "https://localhost:8080/"
        },
        "id": "1qFy5kU1ADwi",
        "outputId": "ff395ad9-8acc-4d5d-ef62-a340e3cf84d4"
      },
      "execution_count": null,
      "outputs": [
        {
          "output_type": "execute_result",
          "data": {
            "text/plain": [
              "Index(['index', 'QaA', 'QaE', 'QbA', 'QbE', 'QcA', 'QcE', 'QdA', 'QdE', 'QeA',\n",
              "       'QeE', 'QfA', 'QfE', 'QgA', 'QgE', 'QhA', 'QhE', 'QiA', 'QiE', 'QjA',\n",
              "       'QjE', 'QkA', 'QkE', 'QlA', 'QlE', 'QmA', 'QmE', 'QnA', 'QnE', 'QoA',\n",
              "       'QoE', 'QpA', 'QpE', 'QqA', 'QqE', 'QrA', 'QrE', 'QsA', 'QsE', 'QtA',\n",
              "       'QtE', 'age_group', 'education', 'engnat', 'familysize', 'gender',\n",
              "       'hand', 'married', 'race', 'religion', 'tp01', 'tp02', 'tp03', 'tp04',\n",
              "       'tp05', 'tp06', 'tp07', 'tp08', 'tp09', 'tp10', 'urban', 'voted',\n",
              "       'wf_01', 'wf_02', 'wf_03', 'wr_01', 'wr_02', 'wr_03', 'wr_04', 'wr_05',\n",
              "       'wr_06', 'wr_07', 'wr_08', 'wr_09', 'wr_10', 'wr_11', 'wr_12', 'wr_13'],\n",
              "      dtype='object')"
            ]
          },
          "metadata": {},
          "execution_count": 8
        }
      ]
    },
    {
      "cell_type": "markdown",
      "source": [
        "Index\n",
        "Q_A / Q_E (a~t) 비식별화를 위해 일부 질문은 Secret 처리\n",
        "Qa : Secret\n",
        "Qb : The biggest difference between most criminals and other people is that the criminals are stupid enough to get caught.\n",
        "Qc : Anyone who completely trusts anyone else is asking for trouble.\n",
        "Qd : Secret\n",
        "Qe : P.T. Barnum was wrong when he said that there's a sucker born every minute.\n",
        "Qf : There is no excuse for lying to someone else.\n",
        "Qg : Secret\n",
        "Qh : Most people forget more easily the death of their parents than the loss of their property.\n",
        "Qi : Secret\n",
        "Qj : It is safest to assume that all people have a vicious streak and it will come out when they are given a chance.\n",
        "Qk : All in all, it is better to be humble and honest than to be important and dishonest.\n",
        "Ql : Secret\n",
        "Qm : It is hard to get ahead without cutting corners here and there.\n",
        "Qn : Secret\n",
        "Qo : The best way to handle people is to tell them what they want to hear.\n",
        "Qp : Secret\n",
        "Qq : Most people are basically good and kind.\n",
        "Qr : One should take action only when sure it is morally right.\n",
        "Qs : It is wise to flatter important people.\n",
        "Qt : Secret\n",
        "\n",
        "\n",
        "\t\t\t\t\t1=Disagree, 2=Slightly disagree, 3=Neutral, 4=Slightly agree, 5=Agree.\n",
        "\n",
        "\n",
        "\n",
        "Q_E(a~t) : 질문을 답할 때까지의 시간\n",
        "\n",
        "\n",
        "age_group : 연령\n",
        "\n",
        "\n",
        "education : 교육 수준\n",
        "1=Less than high school, 2=High school, 3=University degree, 4=Graduate degree, 0=무응답\n",
        "\n",
        "\n",
        "engnat : 모국어가 영어\n",
        "1=Yes, 2=No, 0=무응답\n",
        "\n",
        "\n",
        "familysize : 형제자매 수\n",
        "\n",
        "\n",
        "gender : 성별\n",
        "Male, Female\n",
        "\n",
        "\n",
        "hand : 필기하는 손\n",
        "1=Right, 2=Left, 3=Both, 0=무응답\n",
        "\n",
        "\n",
        "married : 혼인 상태\n",
        "1=Never married, 2=Currently married, 3=Previously married, 0=Other\n",
        "\n",
        "\n",
        "race : 인종\n",
        "Asian, Arab, Black, Indigenous Australian, Native American, White, Other\n",
        "\n",
        "\n",
        "religion : 종교\n",
        "Agnostic, Atheist, Buddhist, Christian_Catholic, Christian_Mormon, Christian_Protestant, Christian_Other, Hindu, Jewish, Muslim, Sikh, Other\n",
        "\n",
        "\n",
        "tp__(01~07) : items were rated \"I see myself as:\" _____ such that\n",
        "tp01 : Extraverted, enthusiastic.\n",
        "tp02 : Critical, quarrelsome.\n",
        "tp03 : Dependable, self-disciplined.\n",
        "tp04 : Anxious, easily upset.\n",
        "tp05 : Open to new experiences, complex.\n",
        "tp06 : Reserved, quiet.\n",
        "tp07 : Sympathetic, warm.\n",
        "tp08 : Disorganized, careless.\n",
        "tp09 : Calm, emotionally stable.\n",
        "tp10 : Conventional, uncreative.\n",
        "\t\t\t\t\t\t\t\t\n",
        "\n",
        "\t\t\t\t\t\t\t\t순서형 변수\n",
        "\n",
        "\t\t\t\t\t\t\t\n",
        "\n",
        "\n",
        "\n",
        "urban : 유년기의 거주 구역\n",
        "1=Rural (country side), 2=Suburban, 3=Urban (town, city), 0=무응답\n",
        "\n",
        "\n",
        "\n",
        "\n",
        "wr_(01~13) : 실존하는 해당 단어의 정의을 앎\n",
        "1=Yes, 0=No\n",
        "wf_(01~03) : 허구인 단어의 정의를 앎\n",
        "1=Yes, 0=No\n",
        "\n",
        "\n",
        "voted (타겟): 지난 해 국가 선거 투표 여부\n",
        "1=Yes, 2=No\n"
      ],
      "metadata": {
        "id": "wVFrHyYaAHR9"
      }
    },
    {
      "cell_type": "code",
      "source": [
        "train.shape"
      ],
      "metadata": {
        "colab": {
          "base_uri": "https://localhost:8080/"
        },
        "id": "ZeMQgVwvAqBx",
        "outputId": "9e668a02-0cb7-4690-faca-c68ebcfa718d"
      },
      "execution_count": null,
      "outputs": [
        {
          "output_type": "execute_result",
          "data": {
            "text/plain": [
              "(45532, 78)"
            ]
          },
          "metadata": {},
          "execution_count": 9
        }
      ]
    },
    {
      "cell_type": "code",
      "source": [
        "train.isnull().sum().sum()"
      ],
      "metadata": {
        "colab": {
          "base_uri": "https://localhost:8080/"
        },
        "id": "OfwpfSBeTIc1",
        "outputId": "4d8f114a-234e-4f7f-c206-e6cd158ffe7f"
      },
      "execution_count": null,
      "outputs": [
        {
          "output_type": "execute_result",
          "data": {
            "text/plain": [
              "0"
            ]
          },
          "metadata": {},
          "execution_count": 10
        }
      ]
    },
    {
      "cell_type": "markdown",
      "source": [
        "#Feature EDA (Catergorical)"
      ],
      "metadata": {
        "id": "9YxCaB6ID_BD"
      }
    },
    {
      "cell_type": "code",
      "source": [
        "train.columns"
      ],
      "metadata": {
        "colab": {
          "base_uri": "https://localhost:8080/"
        },
        "id": "j5g6fifkHrEy",
        "outputId": "41bd21b0-c9f0-4868-e1ff-7461e4f9f3a3"
      },
      "execution_count": null,
      "outputs": [
        {
          "output_type": "execute_result",
          "data": {
            "text/plain": [
              "Index(['index', 'QaA', 'QaE', 'QbA', 'QbE', 'QcA', 'QcE', 'QdA', 'QdE', 'QeA',\n",
              "       'QeE', 'QfA', 'QfE', 'QgA', 'QgE', 'QhA', 'QhE', 'QiA', 'QiE', 'QjA',\n",
              "       'QjE', 'QkA', 'QkE', 'QlA', 'QlE', 'QmA', 'QmE', 'QnA', 'QnE', 'QoA',\n",
              "       'QoE', 'QpA', 'QpE', 'QqA', 'QqE', 'QrA', 'QrE', 'QsA', 'QsE', 'QtA',\n",
              "       'QtE', 'age_group', 'education', 'engnat', 'familysize', 'gender',\n",
              "       'hand', 'married', 'race', 'religion', 'tp01', 'tp02', 'tp03', 'tp04',\n",
              "       'tp05', 'tp06', 'tp07', 'tp08', 'tp09', 'tp10', 'urban', 'voted',\n",
              "       'wf_01', 'wf_02', 'wf_03', 'wr_01', 'wr_02', 'wr_03', 'wr_04', 'wr_05',\n",
              "       'wr_06', 'wr_07', 'wr_08', 'wr_09', 'wr_10', 'wr_11', 'wr_12', 'wr_13'],\n",
              "      dtype='object')"
            ]
          },
          "metadata": {},
          "execution_count": 11
        }
      ]
    },
    {
      "cell_type": "code",
      "source": [
        "#hand 제외 나머지 이용"
      ],
      "metadata": {
        "id": "c-r5w0h8KJa1"
      },
      "execution_count": null,
      "outputs": []
    },
    {
      "cell_type": "code",
      "source": [
        "eda = train.copy()\n",
        "voted = eda[eda['voted']==1]\n",
        "unvoted = eda[eda['voted']==2]"
      ],
      "metadata": {
        "id": "a5WcuA70ECJI"
      },
      "execution_count": null,
      "outputs": []
    },
    {
      "cell_type": "code",
      "source": [
        "eda['age_group'].value_counts()"
      ],
      "metadata": {
        "id": "GKsSWkTrELVS",
        "colab": {
          "base_uri": "https://localhost:8080/"
        },
        "outputId": "35d2b872-e204-4654-b7ce-7144a65aaee5"
      },
      "execution_count": null,
      "outputs": [
        {
          "output_type": "execute_result",
          "data": {
            "text/plain": [
              "10s     14215\n",
              "20s     14112\n",
              "30s      7836\n",
              "40s      5051\n",
              "50s      2889\n",
              "60s      1194\n",
              "+70s      235\n",
              "Name: age_group, dtype: int64"
            ]
          },
          "metadata": {},
          "execution_count": 14
        }
      ]
    },
    {
      "cell_type": "code",
      "source": [
        "eda['education'].value_counts()"
      ],
      "metadata": {
        "colab": {
          "base_uri": "https://localhost:8080/"
        },
        "id": "h8leaSn7G6yD",
        "outputId": "394ba41b-b6a0-453e-c06b-c0afae65f088"
      },
      "execution_count": null,
      "outputs": [
        {
          "output_type": "execute_result",
          "data": {
            "text/plain": [
              "2    16835\n",
              "3    15227\n",
              "4     7854\n",
              "1     5088\n",
              "0      528\n",
              "Name: education, dtype: int64"
            ]
          },
          "metadata": {},
          "execution_count": 15
        }
      ]
    },
    {
      "cell_type": "code",
      "source": [
        "test['age_group'].value_counts()"
      ],
      "metadata": {
        "colab": {
          "base_uri": "https://localhost:8080/"
        },
        "id": "cfdyk1ypHOT8",
        "outputId": "eecdfb94-cdc1-4046-d263-c41936aef03c"
      },
      "execution_count": null,
      "outputs": [
        {
          "output_type": "execute_result",
          "data": {
            "text/plain": [
              "10s     3603\n",
              "20s     3549\n",
              "30s     1924\n",
              "40s     1257\n",
              "50s      692\n",
              "60s      286\n",
              "+70s      72\n",
              "Name: age_group, dtype: int64"
            ]
          },
          "metadata": {},
          "execution_count": 16
        }
      ]
    },
    {
      "cell_type": "code",
      "source": [
        "test['education'].value_counts()"
      ],
      "metadata": {
        "colab": {
          "base_uri": "https://localhost:8080/"
        },
        "id": "yxExvHOZHL-n",
        "outputId": "452f24e1-066f-41a5-9495-9340474e7dd3"
      },
      "execution_count": null,
      "outputs": [
        {
          "output_type": "execute_result",
          "data": {
            "text/plain": [
              "2    4236\n",
              "3    3798\n",
              "4    1963\n",
              "1    1264\n",
              "0     122\n",
              "Name: education, dtype: int64"
            ]
          },
          "metadata": {},
          "execution_count": 17
        }
      ]
    },
    {
      "cell_type": "code",
      "source": [
        "eda['familysize'].value_counts().sort_index()"
      ],
      "metadata": {
        "colab": {
          "base_uri": "https://localhost:8080/"
        },
        "id": "m5-lnLlWJMhM",
        "outputId": "fc7e056a-ec6d-4df7-c13e-11cc555869e4"
      },
      "execution_count": null,
      "outputs": [
        {
          "output_type": "execute_result",
          "data": {
            "text/plain": [
              "0              1217\n",
              "1              6535\n",
              "2             17918\n",
              "3             11256\n",
              "4              4907\n",
              "5              1962\n",
              "6               838\n",
              "7               387\n",
              "8               221\n",
              "9               126\n",
              "10               59\n",
              "11               39\n",
              "12               21\n",
              "13               11\n",
              "14                9\n",
              "15                8\n",
              "16                2\n",
              "17                3\n",
              "18                1\n",
              "20                2\n",
              "21                2\n",
              "30                1\n",
              "34                1\n",
              "44                3\n",
              "100               1\n",
              "999               1\n",
              "2147483647        1\n",
              "Name: familysize, dtype: int64"
            ]
          },
          "metadata": {},
          "execution_count": 18
        }
      ]
    },
    {
      "cell_type": "code",
      "source": [
        "eda[eda['familysize']>=21]"
      ],
      "metadata": {
        "colab": {
          "base_uri": "https://localhost:8080/"
        },
        "id": "7hNxJb1vJRSR",
        "outputId": "60d86000-670f-4453-d0d3-f4fd19d67496"
      },
      "execution_count": null,
      "outputs": [
        {
          "output_type": "execute_result",
          "data": {
            "text/plain": [
              "       index  QaA   QaE  QbA   QbE  QcA   QcE  QdA   QdE  QeA   QeE  QfA  \\\n",
              "379      379  1.0    43  1.0    40  1.0    41  1.0    40  1.0    40  1.0   \n",
              "4515    4515  1.0   711  1.0   762  5.0  1097  1.0   704  3.0   957  1.0   \n",
              "12056  12056  1.0   497  5.0   835  5.0   798  1.0   587  1.0  3244  5.0   \n",
              "21567  21567  3.0   450  3.0  3692  3.0  1219  2.0  1141  2.0   790  5.0   \n",
              "24598  24598  2.0  1292  4.0  1212  3.0  1507  3.0  1254  4.0  3801  3.0   \n",
              "25661  25661  1.0    27  3.0   109  2.0  2611  2.0    27  2.0  1384  4.0   \n",
              "28111  28111  2.0  1343  1.0  2022  2.0  1177  1.0   820  1.0   647  1.0   \n",
              "34749  34749  4.0   347  4.0   204  4.0   462  2.0   542  5.0   209  4.0   \n",
              "34847  34847  1.0   428  4.0  1402  2.0  1518  2.0  1720  5.0   321  2.0   \n",
              "41326  41326  3.0  1011  1.0  1057  1.0  3679  4.0  1316  5.0  1879  4.0   \n",
              "\n",
              "        QfE  QgA   QgE  QhA   QhE  QiA   QiE  QjA   QjE  QkA   QkE  QlA   QlE  \\\n",
              "379      36  1.0  5248  1.0    41  1.0    36  1.0    35  4.0   519  1.0  3096   \n",
              "4515    568  3.0   940  1.0  1347  2.0  1202  4.0  1057  4.0  2402  4.0   969   \n",
              "12056   712  1.0   837  1.0  2966  5.0  1945  5.0  1147  5.0   860  5.0  1469   \n",
              "21567   648  3.0  2065  3.0  9098  5.0  1994  3.0   981  5.0   702  4.0  3230   \n",
              "24598  3183  4.0  1524  2.0  4560  4.0  2991  3.0  1504  4.0  2085  4.0  2522   \n",
              "25661  2421  3.0    28  1.0    30  1.0  6637  5.0    33  4.0  8155  2.0    56   \n",
              "28111   637  5.0  1459  1.0  2517  4.0  3463  2.0  1598  5.0  2011  5.0   940   \n",
              "34749   633  2.0   464  2.0   587  3.0  3552  3.0   397  4.0   205  5.0   266   \n",
              "34847   602  2.0   823  1.0  1442  2.0  2625  3.0   910  4.0  2202  5.0   786   \n",
              "41326  2153  5.0  2802  1.0  2411  5.0  4326  1.0  1411  5.0  2434  3.0  3366   \n",
              "\n",
              "       QmA   QmE  QnA   QnE  QoA   QoE  QpA   QpE  QqA   QqE  QrA   QrE  QsA  \\\n",
              "379    1.0    44  1.0    40  1.0    37  1.0    40  2.0  6605  2.0  1488  1.0   \n",
              "4515   5.0   595  3.0   750  3.0  1045  4.0  1150  2.0   533  2.0   595  5.0   \n",
              "12056  4.0  1610  5.0   370  1.0   856  4.0  1687  1.0   755  5.0  1446  1.0   \n",
              "21567  4.0   640  5.0   323  4.0   949  3.0  1747  4.0   976  5.0   534  4.0   \n",
              "24598  4.0  1368  3.0  5020  3.0  1089  1.0   907  3.0   656  2.0  1120  2.0   \n",
              "25661  2.0   348  2.0    31  5.0   149  5.0   116  4.0    33  2.0  1243  4.0   \n",
              "28111  5.0   862  1.0   834  4.0  1455  2.0  2518  3.0   708  4.0  2373  2.0   \n",
              "34749  2.0   296  3.0   357  3.0   588  4.0   373  4.0   512  3.0   257  5.0   \n",
              "34847  2.0  1286  4.0   982  4.0   566  4.0   811  3.0   878  3.0  1177  3.0   \n",
              "41326  1.0  1521  5.0   533  1.0  1990  1.0  1219  5.0  1101  5.0  1338  3.0   \n",
              "\n",
              "        QsE  QtA   QtE age_group  education  engnat  familysize  gender  hand  \\\n",
              "379      40  1.0    41       10s          2       1         999    Male     1   \n",
              "4515    528  5.0   980       20s          0       1          21    Male     1   \n",
              "12056   600  1.0   790       40s          2       1          44  Female     2   \n",
              "21567   958  3.0   904       30s          3       1          44  Female     1   \n",
              "24598  1314  3.0  1985       10s          2       1  2147483647    Male     1   \n",
              "25661  3727  2.0    26      +70s          2       1         100    Male     3   \n",
              "28111  1337  3.0  3367       10s          2       1          34    Male     1   \n",
              "34749   338  4.0   321       20s          2       1          21    Male     1   \n",
              "34847  1000  4.0  2484       30s          2       1          44    Male     1   \n",
              "41326  5982  1.0  1952       50s          2       1          30  Female     1   \n",
              "\n",
              "       married   race              religion  tp01  tp02  tp03  tp04  tp05  \\\n",
              "379          1   Arab       Christian_Other     4     4     3     1     4   \n",
              "4515         1  Other                 Other     5     1     1     0     0   \n",
              "12056        2  White       Christian_Other     6     5     1     2     0   \n",
              "21567        2  White  Christian_Protestant     4     3     1     3     0   \n",
              "24598        1  Other                 Other     3     3     1     4     3   \n",
              "25661        3  Other                 Other     5     5     4     5     1   \n",
              "28111        1  White    Christian_Catholic     2     3     1     3     1   \n",
              "34749        1   Arab       Christian_Other     4     2     1     3     4   \n",
              "34847        1  White              Agnostic     4     3     1     2     2   \n",
              "41326        3  White    Christian_Catholic     1     6     0     6     0   \n",
              "\n",
              "       tp06  tp07  tp08  tp09  tp10  urban  voted  wf_01  wf_02  wf_03  wr_01  \\\n",
              "379       5     1     2     2     6      2      1      0      1      1      0   \n",
              "4515      0     1     1     4     4      3      2      0      0      0      0   \n",
              "12056     0     0     6     6     6      1      2      0      0      0      1   \n",
              "21567     3     2     3     1     3      3      1      0      1      0      1   \n",
              "24598     2     2     3     2     2      1      2      0      0      1      0   \n",
              "25661     6     0     1     2     4      1      1      0      0      1      0   \n",
              "28111     2     1     1     1     6      3      2      0      0      0      0   \n",
              "34749     6     1     2     0     6      2      1      1      0      1      0   \n",
              "34847     2     3     2     2     2      1      2      1      0      0      1   \n",
              "41326     3     0     5     0     6      2      1      0      0      0      0   \n",
              "\n",
              "       wr_02  wr_03  wr_04  wr_05  wr_06  wr_07  wr_08  wr_09  wr_10  wr_11  \\\n",
              "379        0      0      0      1      0      1      1      0      0      0   \n",
              "4515       1      0      1      1      0      1      1      0      1      0   \n",
              "12056      1      0      1      1      0      1      1      0      1      1   \n",
              "21567      1      0      1      1      0      1      1      0      1      1   \n",
              "24598      0      0      0      0      0      1      1      1      1      0   \n",
              "25661      1      1      0      1      0      0      0      0      0      1   \n",
              "28111      1      0      0      0      0      1      1      0      0      0   \n",
              "34749      1      0      0      0      0      1      0      0      0      0   \n",
              "34847      1      1      1      1      1      0      1      1      1      0   \n",
              "41326      1      0      1      1      0      1      1      0      1      0   \n",
              "\n",
              "       wr_12  wr_13  \n",
              "379        0      1  \n",
              "4515       1      1  \n",
              "12056      1      1  \n",
              "21567      1      1  \n",
              "24598      1      0  \n",
              "25661      1      0  \n",
              "28111      1      0  \n",
              "34749      0      0  \n",
              "34847      1      1  \n",
              "41326      1      1  "
            ],
            "text/html": [
              "\n",
              "  <div id=\"df-46a69677-34fd-4a3b-80e7-75d6072d530f\">\n",
              "    <div class=\"colab-df-container\">\n",
              "      <div>\n",
              "<style scoped>\n",
              "    .dataframe tbody tr th:only-of-type {\n",
              "        vertical-align: middle;\n",
              "    }\n",
              "\n",
              "    .dataframe tbody tr th {\n",
              "        vertical-align: top;\n",
              "    }\n",
              "\n",
              "    .dataframe thead th {\n",
              "        text-align: right;\n",
              "    }\n",
              "</style>\n",
              "<table border=\"1\" class=\"dataframe\">\n",
              "  <thead>\n",
              "    <tr style=\"text-align: right;\">\n",
              "      <th></th>\n",
              "      <th>index</th>\n",
              "      <th>QaA</th>\n",
              "      <th>QaE</th>\n",
              "      <th>QbA</th>\n",
              "      <th>QbE</th>\n",
              "      <th>QcA</th>\n",
              "      <th>QcE</th>\n",
              "      <th>QdA</th>\n",
              "      <th>QdE</th>\n",
              "      <th>QeA</th>\n",
              "      <th>QeE</th>\n",
              "      <th>QfA</th>\n",
              "      <th>QfE</th>\n",
              "      <th>QgA</th>\n",
              "      <th>QgE</th>\n",
              "      <th>QhA</th>\n",
              "      <th>QhE</th>\n",
              "      <th>QiA</th>\n",
              "      <th>QiE</th>\n",
              "      <th>QjA</th>\n",
              "      <th>QjE</th>\n",
              "      <th>QkA</th>\n",
              "      <th>QkE</th>\n",
              "      <th>QlA</th>\n",
              "      <th>QlE</th>\n",
              "      <th>QmA</th>\n",
              "      <th>QmE</th>\n",
              "      <th>QnA</th>\n",
              "      <th>QnE</th>\n",
              "      <th>QoA</th>\n",
              "      <th>QoE</th>\n",
              "      <th>QpA</th>\n",
              "      <th>QpE</th>\n",
              "      <th>QqA</th>\n",
              "      <th>QqE</th>\n",
              "      <th>QrA</th>\n",
              "      <th>QrE</th>\n",
              "      <th>QsA</th>\n",
              "      <th>QsE</th>\n",
              "      <th>QtA</th>\n",
              "      <th>QtE</th>\n",
              "      <th>age_group</th>\n",
              "      <th>education</th>\n",
              "      <th>engnat</th>\n",
              "      <th>familysize</th>\n",
              "      <th>gender</th>\n",
              "      <th>hand</th>\n",
              "      <th>married</th>\n",
              "      <th>race</th>\n",
              "      <th>religion</th>\n",
              "      <th>tp01</th>\n",
              "      <th>tp02</th>\n",
              "      <th>tp03</th>\n",
              "      <th>tp04</th>\n",
              "      <th>tp05</th>\n",
              "      <th>tp06</th>\n",
              "      <th>tp07</th>\n",
              "      <th>tp08</th>\n",
              "      <th>tp09</th>\n",
              "      <th>tp10</th>\n",
              "      <th>urban</th>\n",
              "      <th>voted</th>\n",
              "      <th>wf_01</th>\n",
              "      <th>wf_02</th>\n",
              "      <th>wf_03</th>\n",
              "      <th>wr_01</th>\n",
              "      <th>wr_02</th>\n",
              "      <th>wr_03</th>\n",
              "      <th>wr_04</th>\n",
              "      <th>wr_05</th>\n",
              "      <th>wr_06</th>\n",
              "      <th>wr_07</th>\n",
              "      <th>wr_08</th>\n",
              "      <th>wr_09</th>\n",
              "      <th>wr_10</th>\n",
              "      <th>wr_11</th>\n",
              "      <th>wr_12</th>\n",
              "      <th>wr_13</th>\n",
              "    </tr>\n",
              "  </thead>\n",
              "  <tbody>\n",
              "    <tr>\n",
              "      <th>379</th>\n",
              "      <td>379</td>\n",
              "      <td>1.0</td>\n",
              "      <td>43</td>\n",
              "      <td>1.0</td>\n",
              "      <td>40</td>\n",
              "      <td>1.0</td>\n",
              "      <td>41</td>\n",
              "      <td>1.0</td>\n",
              "      <td>40</td>\n",
              "      <td>1.0</td>\n",
              "      <td>40</td>\n",
              "      <td>1.0</td>\n",
              "      <td>36</td>\n",
              "      <td>1.0</td>\n",
              "      <td>5248</td>\n",
              "      <td>1.0</td>\n",
              "      <td>41</td>\n",
              "      <td>1.0</td>\n",
              "      <td>36</td>\n",
              "      <td>1.0</td>\n",
              "      <td>35</td>\n",
              "      <td>4.0</td>\n",
              "      <td>519</td>\n",
              "      <td>1.0</td>\n",
              "      <td>3096</td>\n",
              "      <td>1.0</td>\n",
              "      <td>44</td>\n",
              "      <td>1.0</td>\n",
              "      <td>40</td>\n",
              "      <td>1.0</td>\n",
              "      <td>37</td>\n",
              "      <td>1.0</td>\n",
              "      <td>40</td>\n",
              "      <td>2.0</td>\n",
              "      <td>6605</td>\n",
              "      <td>2.0</td>\n",
              "      <td>1488</td>\n",
              "      <td>1.0</td>\n",
              "      <td>40</td>\n",
              "      <td>1.0</td>\n",
              "      <td>41</td>\n",
              "      <td>10s</td>\n",
              "      <td>2</td>\n",
              "      <td>1</td>\n",
              "      <td>999</td>\n",
              "      <td>Male</td>\n",
              "      <td>1</td>\n",
              "      <td>1</td>\n",
              "      <td>Arab</td>\n",
              "      <td>Christian_Other</td>\n",
              "      <td>4</td>\n",
              "      <td>4</td>\n",
              "      <td>3</td>\n",
              "      <td>1</td>\n",
              "      <td>4</td>\n",
              "      <td>5</td>\n",
              "      <td>1</td>\n",
              "      <td>2</td>\n",
              "      <td>2</td>\n",
              "      <td>6</td>\n",
              "      <td>2</td>\n",
              "      <td>1</td>\n",
              "      <td>0</td>\n",
              "      <td>1</td>\n",
              "      <td>1</td>\n",
              "      <td>0</td>\n",
              "      <td>0</td>\n",
              "      <td>0</td>\n",
              "      <td>0</td>\n",
              "      <td>1</td>\n",
              "      <td>0</td>\n",
              "      <td>1</td>\n",
              "      <td>1</td>\n",
              "      <td>0</td>\n",
              "      <td>0</td>\n",
              "      <td>0</td>\n",
              "      <td>0</td>\n",
              "      <td>1</td>\n",
              "    </tr>\n",
              "    <tr>\n",
              "      <th>4515</th>\n",
              "      <td>4515</td>\n",
              "      <td>1.0</td>\n",
              "      <td>711</td>\n",
              "      <td>1.0</td>\n",
              "      <td>762</td>\n",
              "      <td>5.0</td>\n",
              "      <td>1097</td>\n",
              "      <td>1.0</td>\n",
              "      <td>704</td>\n",
              "      <td>3.0</td>\n",
              "      <td>957</td>\n",
              "      <td>1.0</td>\n",
              "      <td>568</td>\n",
              "      <td>3.0</td>\n",
              "      <td>940</td>\n",
              "      <td>1.0</td>\n",
              "      <td>1347</td>\n",
              "      <td>2.0</td>\n",
              "      <td>1202</td>\n",
              "      <td>4.0</td>\n",
              "      <td>1057</td>\n",
              "      <td>4.0</td>\n",
              "      <td>2402</td>\n",
              "      <td>4.0</td>\n",
              "      <td>969</td>\n",
              "      <td>5.0</td>\n",
              "      <td>595</td>\n",
              "      <td>3.0</td>\n",
              "      <td>750</td>\n",
              "      <td>3.0</td>\n",
              "      <td>1045</td>\n",
              "      <td>4.0</td>\n",
              "      <td>1150</td>\n",
              "      <td>2.0</td>\n",
              "      <td>533</td>\n",
              "      <td>2.0</td>\n",
              "      <td>595</td>\n",
              "      <td>5.0</td>\n",
              "      <td>528</td>\n",
              "      <td>5.0</td>\n",
              "      <td>980</td>\n",
              "      <td>20s</td>\n",
              "      <td>0</td>\n",
              "      <td>1</td>\n",
              "      <td>21</td>\n",
              "      <td>Male</td>\n",
              "      <td>1</td>\n",
              "      <td>1</td>\n",
              "      <td>Other</td>\n",
              "      <td>Other</td>\n",
              "      <td>5</td>\n",
              "      <td>1</td>\n",
              "      <td>1</td>\n",
              "      <td>0</td>\n",
              "      <td>0</td>\n",
              "      <td>0</td>\n",
              "      <td>1</td>\n",
              "      <td>1</td>\n",
              "      <td>4</td>\n",
              "      <td>4</td>\n",
              "      <td>3</td>\n",
              "      <td>2</td>\n",
              "      <td>0</td>\n",
              "      <td>0</td>\n",
              "      <td>0</td>\n",
              "      <td>0</td>\n",
              "      <td>1</td>\n",
              "      <td>0</td>\n",
              "      <td>1</td>\n",
              "      <td>1</td>\n",
              "      <td>0</td>\n",
              "      <td>1</td>\n",
              "      <td>1</td>\n",
              "      <td>0</td>\n",
              "      <td>1</td>\n",
              "      <td>0</td>\n",
              "      <td>1</td>\n",
              "      <td>1</td>\n",
              "    </tr>\n",
              "    <tr>\n",
              "      <th>12056</th>\n",
              "      <td>12056</td>\n",
              "      <td>1.0</td>\n",
              "      <td>497</td>\n",
              "      <td>5.0</td>\n",
              "      <td>835</td>\n",
              "      <td>5.0</td>\n",
              "      <td>798</td>\n",
              "      <td>1.0</td>\n",
              "      <td>587</td>\n",
              "      <td>1.0</td>\n",
              "      <td>3244</td>\n",
              "      <td>5.0</td>\n",
              "      <td>712</td>\n",
              "      <td>1.0</td>\n",
              "      <td>837</td>\n",
              "      <td>1.0</td>\n",
              "      <td>2966</td>\n",
              "      <td>5.0</td>\n",
              "      <td>1945</td>\n",
              "      <td>5.0</td>\n",
              "      <td>1147</td>\n",
              "      <td>5.0</td>\n",
              "      <td>860</td>\n",
              "      <td>5.0</td>\n",
              "      <td>1469</td>\n",
              "      <td>4.0</td>\n",
              "      <td>1610</td>\n",
              "      <td>5.0</td>\n",
              "      <td>370</td>\n",
              "      <td>1.0</td>\n",
              "      <td>856</td>\n",
              "      <td>4.0</td>\n",
              "      <td>1687</td>\n",
              "      <td>1.0</td>\n",
              "      <td>755</td>\n",
              "      <td>5.0</td>\n",
              "      <td>1446</td>\n",
              "      <td>1.0</td>\n",
              "      <td>600</td>\n",
              "      <td>1.0</td>\n",
              "      <td>790</td>\n",
              "      <td>40s</td>\n",
              "      <td>2</td>\n",
              "      <td>1</td>\n",
              "      <td>44</td>\n",
              "      <td>Female</td>\n",
              "      <td>2</td>\n",
              "      <td>2</td>\n",
              "      <td>White</td>\n",
              "      <td>Christian_Other</td>\n",
              "      <td>6</td>\n",
              "      <td>5</td>\n",
              "      <td>1</td>\n",
              "      <td>2</td>\n",
              "      <td>0</td>\n",
              "      <td>0</td>\n",
              "      <td>0</td>\n",
              "      <td>6</td>\n",
              "      <td>6</td>\n",
              "      <td>6</td>\n",
              "      <td>1</td>\n",
              "      <td>2</td>\n",
              "      <td>0</td>\n",
              "      <td>0</td>\n",
              "      <td>0</td>\n",
              "      <td>1</td>\n",
              "      <td>1</td>\n",
              "      <td>0</td>\n",
              "      <td>1</td>\n",
              "      <td>1</td>\n",
              "      <td>0</td>\n",
              "      <td>1</td>\n",
              "      <td>1</td>\n",
              "      <td>0</td>\n",
              "      <td>1</td>\n",
              "      <td>1</td>\n",
              "      <td>1</td>\n",
              "      <td>1</td>\n",
              "    </tr>\n",
              "    <tr>\n",
              "      <th>21567</th>\n",
              "      <td>21567</td>\n",
              "      <td>3.0</td>\n",
              "      <td>450</td>\n",
              "      <td>3.0</td>\n",
              "      <td>3692</td>\n",
              "      <td>3.0</td>\n",
              "      <td>1219</td>\n",
              "      <td>2.0</td>\n",
              "      <td>1141</td>\n",
              "      <td>2.0</td>\n",
              "      <td>790</td>\n",
              "      <td>5.0</td>\n",
              "      <td>648</td>\n",
              "      <td>3.0</td>\n",
              "      <td>2065</td>\n",
              "      <td>3.0</td>\n",
              "      <td>9098</td>\n",
              "      <td>5.0</td>\n",
              "      <td>1994</td>\n",
              "      <td>3.0</td>\n",
              "      <td>981</td>\n",
              "      <td>5.0</td>\n",
              "      <td>702</td>\n",
              "      <td>4.0</td>\n",
              "      <td>3230</td>\n",
              "      <td>4.0</td>\n",
              "      <td>640</td>\n",
              "      <td>5.0</td>\n",
              "      <td>323</td>\n",
              "      <td>4.0</td>\n",
              "      <td>949</td>\n",
              "      <td>3.0</td>\n",
              "      <td>1747</td>\n",
              "      <td>4.0</td>\n",
              "      <td>976</td>\n",
              "      <td>5.0</td>\n",
              "      <td>534</td>\n",
              "      <td>4.0</td>\n",
              "      <td>958</td>\n",
              "      <td>3.0</td>\n",
              "      <td>904</td>\n",
              "      <td>30s</td>\n",
              "      <td>3</td>\n",
              "      <td>1</td>\n",
              "      <td>44</td>\n",
              "      <td>Female</td>\n",
              "      <td>1</td>\n",
              "      <td>2</td>\n",
              "      <td>White</td>\n",
              "      <td>Christian_Protestant</td>\n",
              "      <td>4</td>\n",
              "      <td>3</td>\n",
              "      <td>1</td>\n",
              "      <td>3</td>\n",
              "      <td>0</td>\n",
              "      <td>3</td>\n",
              "      <td>2</td>\n",
              "      <td>3</td>\n",
              "      <td>1</td>\n",
              "      <td>3</td>\n",
              "      <td>3</td>\n",
              "      <td>1</td>\n",
              "      <td>0</td>\n",
              "      <td>1</td>\n",
              "      <td>0</td>\n",
              "      <td>1</td>\n",
              "      <td>1</td>\n",
              "      <td>0</td>\n",
              "      <td>1</td>\n",
              "      <td>1</td>\n",
              "      <td>0</td>\n",
              "      <td>1</td>\n",
              "      <td>1</td>\n",
              "      <td>0</td>\n",
              "      <td>1</td>\n",
              "      <td>1</td>\n",
              "      <td>1</td>\n",
              "      <td>1</td>\n",
              "    </tr>\n",
              "    <tr>\n",
              "      <th>24598</th>\n",
              "      <td>24598</td>\n",
              "      <td>2.0</td>\n",
              "      <td>1292</td>\n",
              "      <td>4.0</td>\n",
              "      <td>1212</td>\n",
              "      <td>3.0</td>\n",
              "      <td>1507</td>\n",
              "      <td>3.0</td>\n",
              "      <td>1254</td>\n",
              "      <td>4.0</td>\n",
              "      <td>3801</td>\n",
              "      <td>3.0</td>\n",
              "      <td>3183</td>\n",
              "      <td>4.0</td>\n",
              "      <td>1524</td>\n",
              "      <td>2.0</td>\n",
              "      <td>4560</td>\n",
              "      <td>4.0</td>\n",
              "      <td>2991</td>\n",
              "      <td>3.0</td>\n",
              "      <td>1504</td>\n",
              "      <td>4.0</td>\n",
              "      <td>2085</td>\n",
              "      <td>4.0</td>\n",
              "      <td>2522</td>\n",
              "      <td>4.0</td>\n",
              "      <td>1368</td>\n",
              "      <td>3.0</td>\n",
              "      <td>5020</td>\n",
              "      <td>3.0</td>\n",
              "      <td>1089</td>\n",
              "      <td>1.0</td>\n",
              "      <td>907</td>\n",
              "      <td>3.0</td>\n",
              "      <td>656</td>\n",
              "      <td>2.0</td>\n",
              "      <td>1120</td>\n",
              "      <td>2.0</td>\n",
              "      <td>1314</td>\n",
              "      <td>3.0</td>\n",
              "      <td>1985</td>\n",
              "      <td>10s</td>\n",
              "      <td>2</td>\n",
              "      <td>1</td>\n",
              "      <td>2147483647</td>\n",
              "      <td>Male</td>\n",
              "      <td>1</td>\n",
              "      <td>1</td>\n",
              "      <td>Other</td>\n",
              "      <td>Other</td>\n",
              "      <td>3</td>\n",
              "      <td>3</td>\n",
              "      <td>1</td>\n",
              "      <td>4</td>\n",
              "      <td>3</td>\n",
              "      <td>2</td>\n",
              "      <td>2</td>\n",
              "      <td>3</td>\n",
              "      <td>2</td>\n",
              "      <td>2</td>\n",
              "      <td>1</td>\n",
              "      <td>2</td>\n",
              "      <td>0</td>\n",
              "      <td>0</td>\n",
              "      <td>1</td>\n",
              "      <td>0</td>\n",
              "      <td>0</td>\n",
              "      <td>0</td>\n",
              "      <td>0</td>\n",
              "      <td>0</td>\n",
              "      <td>0</td>\n",
              "      <td>1</td>\n",
              "      <td>1</td>\n",
              "      <td>1</td>\n",
              "      <td>1</td>\n",
              "      <td>0</td>\n",
              "      <td>1</td>\n",
              "      <td>0</td>\n",
              "    </tr>\n",
              "    <tr>\n",
              "      <th>25661</th>\n",
              "      <td>25661</td>\n",
              "      <td>1.0</td>\n",
              "      <td>27</td>\n",
              "      <td>3.0</td>\n",
              "      <td>109</td>\n",
              "      <td>2.0</td>\n",
              "      <td>2611</td>\n",
              "      <td>2.0</td>\n",
              "      <td>27</td>\n",
              "      <td>2.0</td>\n",
              "      <td>1384</td>\n",
              "      <td>4.0</td>\n",
              "      <td>2421</td>\n",
              "      <td>3.0</td>\n",
              "      <td>28</td>\n",
              "      <td>1.0</td>\n",
              "      <td>30</td>\n",
              "      <td>1.0</td>\n",
              "      <td>6637</td>\n",
              "      <td>5.0</td>\n",
              "      <td>33</td>\n",
              "      <td>4.0</td>\n",
              "      <td>8155</td>\n",
              "      <td>2.0</td>\n",
              "      <td>56</td>\n",
              "      <td>2.0</td>\n",
              "      <td>348</td>\n",
              "      <td>2.0</td>\n",
              "      <td>31</td>\n",
              "      <td>5.0</td>\n",
              "      <td>149</td>\n",
              "      <td>5.0</td>\n",
              "      <td>116</td>\n",
              "      <td>4.0</td>\n",
              "      <td>33</td>\n",
              "      <td>2.0</td>\n",
              "      <td>1243</td>\n",
              "      <td>4.0</td>\n",
              "      <td>3727</td>\n",
              "      <td>2.0</td>\n",
              "      <td>26</td>\n",
              "      <td>+70s</td>\n",
              "      <td>2</td>\n",
              "      <td>1</td>\n",
              "      <td>100</td>\n",
              "      <td>Male</td>\n",
              "      <td>3</td>\n",
              "      <td>3</td>\n",
              "      <td>Other</td>\n",
              "      <td>Other</td>\n",
              "      <td>5</td>\n",
              "      <td>5</td>\n",
              "      <td>4</td>\n",
              "      <td>5</td>\n",
              "      <td>1</td>\n",
              "      <td>6</td>\n",
              "      <td>0</td>\n",
              "      <td>1</td>\n",
              "      <td>2</td>\n",
              "      <td>4</td>\n",
              "      <td>1</td>\n",
              "      <td>1</td>\n",
              "      <td>0</td>\n",
              "      <td>0</td>\n",
              "      <td>1</td>\n",
              "      <td>0</td>\n",
              "      <td>1</td>\n",
              "      <td>1</td>\n",
              "      <td>0</td>\n",
              "      <td>1</td>\n",
              "      <td>0</td>\n",
              "      <td>0</td>\n",
              "      <td>0</td>\n",
              "      <td>0</td>\n",
              "      <td>0</td>\n",
              "      <td>1</td>\n",
              "      <td>1</td>\n",
              "      <td>0</td>\n",
              "    </tr>\n",
              "    <tr>\n",
              "      <th>28111</th>\n",
              "      <td>28111</td>\n",
              "      <td>2.0</td>\n",
              "      <td>1343</td>\n",
              "      <td>1.0</td>\n",
              "      <td>2022</td>\n",
              "      <td>2.0</td>\n",
              "      <td>1177</td>\n",
              "      <td>1.0</td>\n",
              "      <td>820</td>\n",
              "      <td>1.0</td>\n",
              "      <td>647</td>\n",
              "      <td>1.0</td>\n",
              "      <td>637</td>\n",
              "      <td>5.0</td>\n",
              "      <td>1459</td>\n",
              "      <td>1.0</td>\n",
              "      <td>2517</td>\n",
              "      <td>4.0</td>\n",
              "      <td>3463</td>\n",
              "      <td>2.0</td>\n",
              "      <td>1598</td>\n",
              "      <td>5.0</td>\n",
              "      <td>2011</td>\n",
              "      <td>5.0</td>\n",
              "      <td>940</td>\n",
              "      <td>5.0</td>\n",
              "      <td>862</td>\n",
              "      <td>1.0</td>\n",
              "      <td>834</td>\n",
              "      <td>4.0</td>\n",
              "      <td>1455</td>\n",
              "      <td>2.0</td>\n",
              "      <td>2518</td>\n",
              "      <td>3.0</td>\n",
              "      <td>708</td>\n",
              "      <td>4.0</td>\n",
              "      <td>2373</td>\n",
              "      <td>2.0</td>\n",
              "      <td>1337</td>\n",
              "      <td>3.0</td>\n",
              "      <td>3367</td>\n",
              "      <td>10s</td>\n",
              "      <td>2</td>\n",
              "      <td>1</td>\n",
              "      <td>34</td>\n",
              "      <td>Male</td>\n",
              "      <td>1</td>\n",
              "      <td>1</td>\n",
              "      <td>White</td>\n",
              "      <td>Christian_Catholic</td>\n",
              "      <td>2</td>\n",
              "      <td>3</td>\n",
              "      <td>1</td>\n",
              "      <td>3</td>\n",
              "      <td>1</td>\n",
              "      <td>2</td>\n",
              "      <td>1</td>\n",
              "      <td>1</td>\n",
              "      <td>1</td>\n",
              "      <td>6</td>\n",
              "      <td>3</td>\n",
              "      <td>2</td>\n",
              "      <td>0</td>\n",
              "      <td>0</td>\n",
              "      <td>0</td>\n",
              "      <td>0</td>\n",
              "      <td>1</td>\n",
              "      <td>0</td>\n",
              "      <td>0</td>\n",
              "      <td>0</td>\n",
              "      <td>0</td>\n",
              "      <td>1</td>\n",
              "      <td>1</td>\n",
              "      <td>0</td>\n",
              "      <td>0</td>\n",
              "      <td>0</td>\n",
              "      <td>1</td>\n",
              "      <td>0</td>\n",
              "    </tr>\n",
              "    <tr>\n",
              "      <th>34749</th>\n",
              "      <td>34749</td>\n",
              "      <td>4.0</td>\n",
              "      <td>347</td>\n",
              "      <td>4.0</td>\n",
              "      <td>204</td>\n",
              "      <td>4.0</td>\n",
              "      <td>462</td>\n",
              "      <td>2.0</td>\n",
              "      <td>542</td>\n",
              "      <td>5.0</td>\n",
              "      <td>209</td>\n",
              "      <td>4.0</td>\n",
              "      <td>633</td>\n",
              "      <td>2.0</td>\n",
              "      <td>464</td>\n",
              "      <td>2.0</td>\n",
              "      <td>587</td>\n",
              "      <td>3.0</td>\n",
              "      <td>3552</td>\n",
              "      <td>3.0</td>\n",
              "      <td>397</td>\n",
              "      <td>4.0</td>\n",
              "      <td>205</td>\n",
              "      <td>5.0</td>\n",
              "      <td>266</td>\n",
              "      <td>2.0</td>\n",
              "      <td>296</td>\n",
              "      <td>3.0</td>\n",
              "      <td>357</td>\n",
              "      <td>3.0</td>\n",
              "      <td>588</td>\n",
              "      <td>4.0</td>\n",
              "      <td>373</td>\n",
              "      <td>4.0</td>\n",
              "      <td>512</td>\n",
              "      <td>3.0</td>\n",
              "      <td>257</td>\n",
              "      <td>5.0</td>\n",
              "      <td>338</td>\n",
              "      <td>4.0</td>\n",
              "      <td>321</td>\n",
              "      <td>20s</td>\n",
              "      <td>2</td>\n",
              "      <td>1</td>\n",
              "      <td>21</td>\n",
              "      <td>Male</td>\n",
              "      <td>1</td>\n",
              "      <td>1</td>\n",
              "      <td>Arab</td>\n",
              "      <td>Christian_Other</td>\n",
              "      <td>4</td>\n",
              "      <td>2</td>\n",
              "      <td>1</td>\n",
              "      <td>3</td>\n",
              "      <td>4</td>\n",
              "      <td>6</td>\n",
              "      <td>1</td>\n",
              "      <td>2</td>\n",
              "      <td>0</td>\n",
              "      <td>6</td>\n",
              "      <td>2</td>\n",
              "      <td>1</td>\n",
              "      <td>1</td>\n",
              "      <td>0</td>\n",
              "      <td>1</td>\n",
              "      <td>0</td>\n",
              "      <td>1</td>\n",
              "      <td>0</td>\n",
              "      <td>0</td>\n",
              "      <td>0</td>\n",
              "      <td>0</td>\n",
              "      <td>1</td>\n",
              "      <td>0</td>\n",
              "      <td>0</td>\n",
              "      <td>0</td>\n",
              "      <td>0</td>\n",
              "      <td>0</td>\n",
              "      <td>0</td>\n",
              "    </tr>\n",
              "    <tr>\n",
              "      <th>34847</th>\n",
              "      <td>34847</td>\n",
              "      <td>1.0</td>\n",
              "      <td>428</td>\n",
              "      <td>4.0</td>\n",
              "      <td>1402</td>\n",
              "      <td>2.0</td>\n",
              "      <td>1518</td>\n",
              "      <td>2.0</td>\n",
              "      <td>1720</td>\n",
              "      <td>5.0</td>\n",
              "      <td>321</td>\n",
              "      <td>2.0</td>\n",
              "      <td>602</td>\n",
              "      <td>2.0</td>\n",
              "      <td>823</td>\n",
              "      <td>1.0</td>\n",
              "      <td>1442</td>\n",
              "      <td>2.0</td>\n",
              "      <td>2625</td>\n",
              "      <td>3.0</td>\n",
              "      <td>910</td>\n",
              "      <td>4.0</td>\n",
              "      <td>2202</td>\n",
              "      <td>5.0</td>\n",
              "      <td>786</td>\n",
              "      <td>2.0</td>\n",
              "      <td>1286</td>\n",
              "      <td>4.0</td>\n",
              "      <td>982</td>\n",
              "      <td>4.0</td>\n",
              "      <td>566</td>\n",
              "      <td>4.0</td>\n",
              "      <td>811</td>\n",
              "      <td>3.0</td>\n",
              "      <td>878</td>\n",
              "      <td>3.0</td>\n",
              "      <td>1177</td>\n",
              "      <td>3.0</td>\n",
              "      <td>1000</td>\n",
              "      <td>4.0</td>\n",
              "      <td>2484</td>\n",
              "      <td>30s</td>\n",
              "      <td>2</td>\n",
              "      <td>1</td>\n",
              "      <td>44</td>\n",
              "      <td>Male</td>\n",
              "      <td>1</td>\n",
              "      <td>1</td>\n",
              "      <td>White</td>\n",
              "      <td>Agnostic</td>\n",
              "      <td>4</td>\n",
              "      <td>3</td>\n",
              "      <td>1</td>\n",
              "      <td>2</td>\n",
              "      <td>2</td>\n",
              "      <td>2</td>\n",
              "      <td>3</td>\n",
              "      <td>2</td>\n",
              "      <td>2</td>\n",
              "      <td>2</td>\n",
              "      <td>1</td>\n",
              "      <td>2</td>\n",
              "      <td>1</td>\n",
              "      <td>0</td>\n",
              "      <td>0</td>\n",
              "      <td>1</td>\n",
              "      <td>1</td>\n",
              "      <td>1</td>\n",
              "      <td>1</td>\n",
              "      <td>1</td>\n",
              "      <td>1</td>\n",
              "      <td>0</td>\n",
              "      <td>1</td>\n",
              "      <td>1</td>\n",
              "      <td>1</td>\n",
              "      <td>0</td>\n",
              "      <td>1</td>\n",
              "      <td>1</td>\n",
              "    </tr>\n",
              "    <tr>\n",
              "      <th>41326</th>\n",
              "      <td>41326</td>\n",
              "      <td>3.0</td>\n",
              "      <td>1011</td>\n",
              "      <td>1.0</td>\n",
              "      <td>1057</td>\n",
              "      <td>1.0</td>\n",
              "      <td>3679</td>\n",
              "      <td>4.0</td>\n",
              "      <td>1316</td>\n",
              "      <td>5.0</td>\n",
              "      <td>1879</td>\n",
              "      <td>4.0</td>\n",
              "      <td>2153</td>\n",
              "      <td>5.0</td>\n",
              "      <td>2802</td>\n",
              "      <td>1.0</td>\n",
              "      <td>2411</td>\n",
              "      <td>5.0</td>\n",
              "      <td>4326</td>\n",
              "      <td>1.0</td>\n",
              "      <td>1411</td>\n",
              "      <td>5.0</td>\n",
              "      <td>2434</td>\n",
              "      <td>3.0</td>\n",
              "      <td>3366</td>\n",
              "      <td>1.0</td>\n",
              "      <td>1521</td>\n",
              "      <td>5.0</td>\n",
              "      <td>533</td>\n",
              "      <td>1.0</td>\n",
              "      <td>1990</td>\n",
              "      <td>1.0</td>\n",
              "      <td>1219</td>\n",
              "      <td>5.0</td>\n",
              "      <td>1101</td>\n",
              "      <td>5.0</td>\n",
              "      <td>1338</td>\n",
              "      <td>3.0</td>\n",
              "      <td>5982</td>\n",
              "      <td>1.0</td>\n",
              "      <td>1952</td>\n",
              "      <td>50s</td>\n",
              "      <td>2</td>\n",
              "      <td>1</td>\n",
              "      <td>30</td>\n",
              "      <td>Female</td>\n",
              "      <td>1</td>\n",
              "      <td>3</td>\n",
              "      <td>White</td>\n",
              "      <td>Christian_Catholic</td>\n",
              "      <td>1</td>\n",
              "      <td>6</td>\n",
              "      <td>0</td>\n",
              "      <td>6</td>\n",
              "      <td>0</td>\n",
              "      <td>3</td>\n",
              "      <td>0</td>\n",
              "      <td>5</td>\n",
              "      <td>0</td>\n",
              "      <td>6</td>\n",
              "      <td>2</td>\n",
              "      <td>1</td>\n",
              "      <td>0</td>\n",
              "      <td>0</td>\n",
              "      <td>0</td>\n",
              "      <td>0</td>\n",
              "      <td>1</td>\n",
              "      <td>0</td>\n",
              "      <td>1</td>\n",
              "      <td>1</td>\n",
              "      <td>0</td>\n",
              "      <td>1</td>\n",
              "      <td>1</td>\n",
              "      <td>0</td>\n",
              "      <td>1</td>\n",
              "      <td>0</td>\n",
              "      <td>1</td>\n",
              "      <td>1</td>\n",
              "    </tr>\n",
              "  </tbody>\n",
              "</table>\n",
              "</div>\n",
              "      <button class=\"colab-df-convert\" onclick=\"convertToInteractive('df-46a69677-34fd-4a3b-80e7-75d6072d530f')\"\n",
              "              title=\"Convert this dataframe to an interactive table.\"\n",
              "              style=\"display:none;\">\n",
              "        \n",
              "  <svg xmlns=\"http://www.w3.org/2000/svg\" height=\"24px\"viewBox=\"0 0 24 24\"\n",
              "       width=\"24px\">\n",
              "    <path d=\"M0 0h24v24H0V0z\" fill=\"none\"/>\n",
              "    <path d=\"M18.56 5.44l.94 2.06.94-2.06 2.06-.94-2.06-.94-.94-2.06-.94 2.06-2.06.94zm-11 1L8.5 8.5l.94-2.06 2.06-.94-2.06-.94L8.5 2.5l-.94 2.06-2.06.94zm10 10l.94 2.06.94-2.06 2.06-.94-2.06-.94-.94-2.06-.94 2.06-2.06.94z\"/><path d=\"M17.41 7.96l-1.37-1.37c-.4-.4-.92-.59-1.43-.59-.52 0-1.04.2-1.43.59L10.3 9.45l-7.72 7.72c-.78.78-.78 2.05 0 2.83L4 21.41c.39.39.9.59 1.41.59.51 0 1.02-.2 1.41-.59l7.78-7.78 2.81-2.81c.8-.78.8-2.07 0-2.86zM5.41 20L4 18.59l7.72-7.72 1.47 1.35L5.41 20z\"/>\n",
              "  </svg>\n",
              "      </button>\n",
              "      \n",
              "  <style>\n",
              "    .colab-df-container {\n",
              "      display:flex;\n",
              "      flex-wrap:wrap;\n",
              "      gap: 12px;\n",
              "    }\n",
              "\n",
              "    .colab-df-convert {\n",
              "      background-color: #E8F0FE;\n",
              "      border: none;\n",
              "      border-radius: 50%;\n",
              "      cursor: pointer;\n",
              "      display: none;\n",
              "      fill: #1967D2;\n",
              "      height: 32px;\n",
              "      padding: 0 0 0 0;\n",
              "      width: 32px;\n",
              "    }\n",
              "\n",
              "    .colab-df-convert:hover {\n",
              "      background-color: #E2EBFA;\n",
              "      box-shadow: 0px 1px 2px rgba(60, 64, 67, 0.3), 0px 1px 3px 1px rgba(60, 64, 67, 0.15);\n",
              "      fill: #174EA6;\n",
              "    }\n",
              "\n",
              "    [theme=dark] .colab-df-convert {\n",
              "      background-color: #3B4455;\n",
              "      fill: #D2E3FC;\n",
              "    }\n",
              "\n",
              "    [theme=dark] .colab-df-convert:hover {\n",
              "      background-color: #434B5C;\n",
              "      box-shadow: 0px 1px 3px 1px rgba(0, 0, 0, 0.15);\n",
              "      filter: drop-shadow(0px 1px 2px rgba(0, 0, 0, 0.3));\n",
              "      fill: #FFFFFF;\n",
              "    }\n",
              "  </style>\n",
              "\n",
              "      <script>\n",
              "        const buttonEl =\n",
              "          document.querySelector('#df-46a69677-34fd-4a3b-80e7-75d6072d530f button.colab-df-convert');\n",
              "        buttonEl.style.display =\n",
              "          google.colab.kernel.accessAllowed ? 'block' : 'none';\n",
              "\n",
              "        async function convertToInteractive(key) {\n",
              "          const element = document.querySelector('#df-46a69677-34fd-4a3b-80e7-75d6072d530f');\n",
              "          const dataTable =\n",
              "            await google.colab.kernel.invokeFunction('convertToInteractive',\n",
              "                                                     [key], {});\n",
              "          if (!dataTable) return;\n",
              "\n",
              "          const docLinkHtml = 'Like what you see? Visit the ' +\n",
              "            '<a target=\"_blank\" href=https://colab.research.google.com/notebooks/data_table.ipynb>data table notebook</a>'\n",
              "            + ' to learn more about interactive tables.';\n",
              "          element.innerHTML = '';\n",
              "          dataTable['output_type'] = 'display_data';\n",
              "          await google.colab.output.renderOutput(dataTable, element);\n",
              "          const docLink = document.createElement('div');\n",
              "          docLink.innerHTML = docLinkHtml;\n",
              "          element.appendChild(docLink);\n",
              "        }\n",
              "      </script>\n",
              "    </div>\n",
              "  </div>\n",
              "  "
            ]
          },
          "metadata": {},
          "execution_count": 19
        }
      ]
    },
    {
      "cell_type": "code",
      "source": [
        "sns.countplot(data = eda, x = 'age_group', hue = eda['voted'])"
      ],
      "metadata": {
        "colab": {
          "base_uri": "https://localhost:8080/"
        },
        "id": "jYES1t7nEQUw",
        "outputId": "87538c19-5af6-4716-aed0-084387e48b63"
      },
      "execution_count": null,
      "outputs": [
        {
          "output_type": "execute_result",
          "data": {
            "text/plain": [
              "<matplotlib.axes._subplots.AxesSubplot at 0x7f228a4dea10>"
            ]
          },
          "metadata": {},
          "execution_count": 20
        },
        {
          "output_type": "display_data",
          "data": {
            "text/plain": [
              "<Figure size 432x288 with 1 Axes>"
            ],
            "image/png": "[encoded data removed]"
          },
          "metadata": {
            "needs_background": "light"
          }
        }
      ]
    },
    {
      "cell_type": "code",
      "source": [
        "sns.countplot(data = eda, x = 'married', hue = eda['voted'])"
      ],
      "metadata": {
        "colab": {
          "base_uri": "https://localhost:8080/"
        },
        "id": "95VETX85ETUS",
        "outputId": "acd41b5a-df22-4f1e-b943-e34bb7d2409b"
      },
      "execution_count": null,
      "outputs": [
        {
          "output_type": "execute_result",
          "data": {
            "text/plain": [
              "<matplotlib.axes._subplots.AxesSubplot at 0x7f2289f3a4d0>"
            ]
          },
          "metadata": {},
          "execution_count": 21
        },
        {
          "output_type": "display_data",
          "data": {
            "text/plain": [
              "<Figure size 432x288 with 1 Axes>"
            ],
            "image/png": "[encoded data removed]"
          },
          "metadata": {
            "needs_background": "light"
          }
        }
      ]
    },
    {
      "cell_type": "code",
      "source": [
        "sns.countplot(data = eda, x = 'gender', hue = eda['voted'])"
      ],
      "metadata": {
        "colab": {
          "base_uri": "https://localhost:8080/"
        },
        "id": "5VrcGW4bEVYV",
        "outputId": "62be1f60-dc90-47d0-ce84-4d8a274367b5"
      },
      "execution_count": null,
      "outputs": [
        {
          "output_type": "execute_result",
          "data": {
            "text/plain": [
              "<matplotlib.axes._subplots.AxesSubplot at 0x7f2289ed47d0>"
            ]
          },
          "metadata": {},
          "execution_count": 22
        },
        {
          "output_type": "display_data",
          "data": {
            "text/plain": [
              "<Figure size 432x288 with 1 Axes>"
            ],
            "image/png": "[encoded data removed]"
          },
          "metadata": {
            "needs_background": "light"
          }
        }
      ]
    },
    {
      "cell_type": "code",
      "source": [
        "sns.countplot(data = eda, x = 'race', hue = eda['voted'])"
      ],
      "metadata": {
        "colab": {
          "base_uri": "https://localhost:8080/"
        },
        "id": "BBW_AXJsEYLC",
        "outputId": "9bc02784-5fd6-48e6-c063-730ad8f1212f"
      },
      "execution_count": null,
      "outputs": [
        {
          "output_type": "execute_result",
          "data": {
            "text/plain": [
              "<matplotlib.axes._subplots.AxesSubplot at 0x7f2289e4af50>"
            ]
          },
          "metadata": {},
          "execution_count": 23
        },
        {
          "output_type": "display_data",
          "data": {
            "text/plain": [
              "<Figure size 432x288 with 1 Axes>"
            ],
            "image/png": "[encoded data removed]"
          },
          "metadata": {
            "needs_background": "light"
          }
        }
      ]
    },
    {
      "cell_type": "code",
      "source": [
        "print(eda.groupby('race').voted.value_counts(normalize=True).unstack(fill_value=0).mul(100))"
      ],
      "metadata": {
        "colab": {
          "base_uri": "https://localhost:8080/"
        },
        "id": "PrFeQAqFIdmD",
        "outputId": "ed16a2b0-1c64-4d79-b995-bcc20eff924c"
      },
      "execution_count": null,
      "outputs": [
        {
          "output_type": "stream",
          "name": "stdout",
          "text": [
            "voted                          1          2\n",
            "race                                       \n",
            "Arab                   29.059829  70.940171\n",
            "Asian                  29.543459  70.456541\n",
            "Black                  40.221402  59.778598\n",
            "Indigenous Australian  45.283019  54.716981\n",
            "Native American        41.240876  58.759124\n",
            "Other                  37.759815  62.240185\n",
            "White                  50.422427  49.577573\n"
          ]
        }
      ]
    },
    {
      "cell_type": "code",
      "source": [
        "sns.countplot(data = eda, x = 'religion', hue = eda['voted'])"
      ],
      "metadata": {
        "colab": {
          "base_uri": "https://localhost:8080/"
        },
        "id": "mXdEq_oXHTQs",
        "outputId": "5cc403df-fbd6-4c60-ca4d-63ef486aab21"
      },
      "execution_count": null,
      "outputs": [
        {
          "output_type": "execute_result",
          "data": {
            "text/plain": [
              "<matplotlib.axes._subplots.AxesSubplot at 0x7f2289e4a7d0>"
            ]
          },
          "metadata": {},
          "execution_count": 25
        },
        {
          "output_type": "display_data",
          "data": {
            "text/plain": [
              "<Figure size 432x288 with 1 Axes>"
            ],
            "image/png": "[encoded data removed]"
          },
          "metadata": {
            "needs_background": "light"
          }
        }
      ]
    },
    {
      "cell_type": "code",
      "source": [
        "print(eda.groupby('religion').voted.value_counts(normalize=True).unstack(fill_value=0).mul(100))"
      ],
      "metadata": {
        "colab": {
          "base_uri": "https://localhost:8080/"
        },
        "id": "CKR9NQEPI37T",
        "outputId": "a199374f-614b-4e65-942a-67576c7e555d"
      },
      "execution_count": null,
      "outputs": [
        {
          "output_type": "stream",
          "name": "stdout",
          "text": [
            "voted                         1          2\n",
            "religion                                  \n",
            "Agnostic              45.739817  54.260183\n",
            "Atheist               42.729592  57.270408\n",
            "Buddhist              37.882353  62.117647\n",
            "Christian_Catholic    47.348779  52.651221\n",
            "Christian_Mormon      38.084112  61.915888\n",
            "Christian_Other       46.038544  53.961456\n",
            "Christian_Protestant  56.533333  43.466667\n",
            "Hindu                 38.698390  61.301610\n",
            "Jewish                55.030801  44.969199\n",
            "Muslim                31.291946  68.708054\n",
            "Other                 41.719078  58.280922\n",
            "Sikh                  35.897436  64.102564\n"
          ]
        }
      ]
    },
    {
      "cell_type": "code",
      "source": [
        "sns.countplot(data = eda, x = 'urban', hue = eda['voted'])"
      ],
      "metadata": {
        "colab": {
          "base_uri": "https://localhost:8080/"
        },
        "id": "O4TOulioHWR2",
        "outputId": "99c82eff-29ab-4e4c-cd11-1e83b1f93c61"
      },
      "execution_count": null,
      "outputs": [
        {
          "output_type": "execute_result",
          "data": {
            "text/plain": [
              "<matplotlib.axes._subplots.AxesSubplot at 0x7f2289cd1710>"
            ]
          },
          "metadata": {},
          "execution_count": 27
        },
        {
          "output_type": "display_data",
          "data": {
            "text/plain": [
              "<Figure size 432x288 with 1 Axes>"
            ],
            "image/png": "[encoded data removed]"
          },
          "metadata": {
            "needs_background": "light"
          }
        }
      ]
    },
    {
      "cell_type": "code",
      "source": [
        "sns.countplot(data = eda, x = 'engnat', hue = eda['voted'])"
      ],
      "metadata": {
        "colab": {
          "base_uri": "https://localhost:8080/"
        },
        "id": "cHMbL30XHYKz",
        "outputId": "48c74f2e-7bd3-4e86-ce4a-cfc1b2015e67"
      },
      "execution_count": null,
      "outputs": [
        {
          "output_type": "execute_result",
          "data": {
            "text/plain": [
              "<matplotlib.axes._subplots.AxesSubplot at 0x7f2289d35d50>"
            ]
          },
          "metadata": {},
          "execution_count": 28
        },
        {
          "output_type": "display_data",
          "data": {
            "text/plain": [
              "<Figure size 432x288 with 1 Axes>"
            ],
            "image/png": "[encoded data removed]"
          },
          "metadata": {
            "needs_background": "light"
          }
        }
      ]
    },
    {
      "cell_type": "code",
      "source": [
        "sns.countplot(data = eda, x = 'familysize', hue = eda['voted'])"
      ],
      "metadata": {
        "colab": {
          "base_uri": "https://localhost:8080/"
        },
        "id": "mzPYJ4zTHbXz",
        "outputId": "0e065d8f-c50f-4be1-c7e5-bf82201debb1"
      },
      "execution_count": null,
      "outputs": [
        {
          "output_type": "execute_result",
          "data": {
            "text/plain": [
              "<matplotlib.axes._subplots.AxesSubplot at 0x7f2289be2d90>"
            ]
          },
          "metadata": {},
          "execution_count": 29
        },
        {
          "output_type": "display_data",
          "data": {
            "text/plain": [
              "<Figure size 432x288 with 1 Axes>"
            ],
            "image/png": "[encoded data removed]"
          },
          "metadata": {
            "needs_background": "light"
          }
        }
      ]
    },
    {
      "cell_type": "code",
      "source": [
        "sns.countplot(data = eda, x = 'hand', hue = eda['voted'])"
      ],
      "metadata": {
        "colab": {
          "base_uri": "https://localhost:8080/"
        },
        "id": "VoYW959qHwTF",
        "outputId": "6184d2b3-9345-426b-d852-bdea1a349fc9"
      },
      "execution_count": null,
      "outputs": [
        {
          "output_type": "execute_result",
          "data": {
            "text/plain": [
              "<matplotlib.axes._subplots.AxesSubplot at 0x7f2289a7cb50>"
            ]
          },
          "metadata": {},
          "execution_count": 30
        },
        {
          "output_type": "display_data",
          "data": {
            "text/plain": [
              "<Figure size 432x288 with 1 Axes>"
            ],
            "image/png": "[encoded data removed]"
          },
          "metadata": {
            "needs_background": "light"
          }
        }
      ]
    },
    {
      "cell_type": "markdown",
      "source": [
        "# Feature EDA (Q_A)"
      ],
      "metadata": {
        "id": "fJFWV4yYKzZn"
      }
    },
    {
      "cell_type": "code",
      "source": [
        "questions = ['a','b','c','d','e','f','g','h','i','j','k','l','m','n','o','p','q','r','s','t']\n",
        "answers = [('Q'+i+'A') for i in questions]"
      ],
      "metadata": {
        "id": "1EMBLDYpK6i8"
      },
      "execution_count": null,
      "outputs": []
    },
    {
      "cell_type": "code",
      "source": [
        "sns.countplot(data = eda, x = 'QaA', hue = eda['voted']) #+"
      ],
      "metadata": {
        "colab": {
          "base_uri": "https://localhost:8080/"
        },
        "id": "r0PS3Ra_LLIo",
        "outputId": "94e93c6e-80a5-4eb9-e6c4-a378c7887c0a"
      },
      "execution_count": null,
      "outputs": [
        {
          "output_type": "execute_result",
          "data": {
            "text/plain": [
              "<matplotlib.axes._subplots.AxesSubplot at 0x7f22899baa90>"
            ]
          },
          "metadata": {},
          "execution_count": 32
        },
        {
          "output_type": "display_data",
          "data": {
            "text/plain": [
              "<Figure size 432x288 with 1 Axes>"
            ],
            "image/png": "[encoded data removed]"
          },
          "metadata": {
            "needs_background": "light"
          }
        }
      ]
    },
    {
      "cell_type": "code",
      "source": [
        "sns.countplot(data = eda, x = 'QbA', hue = eda['voted'])"
      ],
      "metadata": {
        "colab": {
          "base_uri": "https://localhost:8080/"
        },
        "id": "OgJCE5eULcmM",
        "outputId": "81eca337-70fc-479f-dc1d-c99177060964"
      },
      "execution_count": null,
      "outputs": [
        {
          "output_type": "execute_result",
          "data": {
            "text/plain": [
              "<matplotlib.axes._subplots.AxesSubplot at 0x7f228993bf50>"
            ]
          },
          "metadata": {},
          "execution_count": 33
        },
        {
          "output_type": "display_data",
          "data": {
            "text/plain": [
              "<Figure size 432x288 with 1 Axes>"
            ],
            "image/png": "[encoded data removed]"
          },
          "metadata": {
            "needs_background": "light"
          }
        }
      ]
    },
    {
      "cell_type": "code",
      "source": [
        "fig, ax =plt.subplots(nrows=5, ncols=4, figsize=(24,18))\n",
        "\n",
        "sns.countplot(data = eda, x = 'QaA', hue = eda['voted'], ax = ax[0,0])\n",
        "sns.countplot(data = eda, x = 'QbA', hue = eda['voted'], ax = ax[0,1])\n",
        "sns.countplot(data = eda, x = 'QcA', hue = eda['voted'], ax = ax[0,2])\n",
        "sns.countplot(data = eda, x = 'QdA', hue = eda['voted'], ax = ax[0,3])\n",
        "\n",
        "sns.countplot(data = eda, x = 'QeA', hue = eda['voted'], ax = ax[1,0])\n",
        "sns.countplot(data = eda, x = 'QfA', hue = eda['voted'], ax = ax[1,1])\n",
        "sns.countplot(data = eda, x = 'QgA', hue = eda['voted'], ax = ax[1,2])\n",
        "sns.countplot(data = eda, x = 'QhA', hue = eda['voted'], ax = ax[1,3])\n",
        "\n",
        "sns.countplot(data = eda, x = 'QiA', hue = eda['voted'], ax = ax[2,0])\n",
        "sns.countplot(data = eda, x = 'QjA', hue = eda['voted'], ax = ax[2,1])\n",
        "sns.countplot(data = eda, x = 'QkA', hue = eda['voted'], ax = ax[2,2])\n",
        "sns.countplot(data = eda, x = 'QlA', hue = eda['voted'], ax = ax[2,3])\n",
        "\n",
        "sns.countplot(data = eda, x = 'QmA', hue = eda['voted'], ax = ax[3,0])\n",
        "sns.countplot(data = eda, x = 'QnA', hue = eda['voted'], ax = ax[3,1])\n",
        "sns.countplot(data = eda, x = 'QoA', hue = eda['voted'], ax = ax[3,2])\n",
        "sns.countplot(data = eda, x = 'QpA', hue = eda['voted'], ax = ax[3,3])\n",
        "\n",
        "sns.countplot(data = eda, x = 'QqA', hue = eda['voted'], ax = ax[4,0])\n",
        "sns.countplot(data = eda, x = 'QrA', hue = eda['voted'], ax = ax[4,1])\n",
        "sns.countplot(data = eda, x = 'QsA', hue = eda['voted'], ax = ax[4,2])\n",
        "sns.countplot(data = eda, x = 'QtA', hue = eda['voted'], ax = ax[4,3])\n",
        "\n",
        "fig.show()"
      ],
      "metadata": {
        "colab": {
          "base_uri": "https://localhost:8080/"
        },
        "id": "32-gw8JVL1sV",
        "outputId": "fb081553-3d27-4bb6-ac93-4d505cfb7c73"
      },
      "execution_count": null,
      "outputs": [
        {
          "output_type": "display_data",
          "data": {
            "text/plain": [
              "<Figure size 1728x1296 with 20 Axes>"
            ],
            "image/png": "[encoded data removed]"
          },
          "metadata": {
            "needs_background": "light"
          }
        }
      ]
    },
    {
      "cell_type": "code",
      "source": [
        "for i in answers:\n",
        "  print(eda.groupby(i).voted.value_counts(normalize=True).unstack(fill_value=0).mul(100))"
      ],
      "metadata": {
        "colab": {
          "base_uri": "https://localhost:8080/"
        },
        "id": "VFeJ5UbIOnMT",
        "outputId": "2474f98e-ab22-40ac-99af-a60beb853674"
      },
      "execution_count": null,
      "outputs": [
        {
          "output_type": "stream",
          "name": "stdout",
          "text": [
            "voted          1          2\n",
            "QaA                        \n",
            "1.0    43.510820  56.489180\n",
            "2.0    45.910781  54.089219\n",
            "3.0    43.696656  56.303344\n",
            "4.0    50.517516  49.482484\n",
            "5.0    49.956294  50.043706\n",
            "voted          1          2\n",
            "QbA                        \n",
            "1.0    51.210248  48.789752\n",
            "2.0    47.790549  52.209451\n",
            "3.0    43.879566  56.120434\n",
            "4.0    44.254351  55.745649\n",
            "5.0    37.216892  62.783108\n",
            "voted          1          2\n",
            "QcA                        \n",
            "1.0    50.025822  49.974178\n",
            "2.0    47.167668  52.832332\n",
            "3.0    42.936596  57.063404\n",
            "4.0    46.986244  53.013756\n",
            "5.0    42.524067  57.475933\n",
            "voted          1          2\n",
            "QdA                        \n",
            "1.0    45.055076  54.944924\n",
            "2.0    46.256141  53.743859\n",
            "3.0    45.100198  54.899802\n",
            "4.0    43.869210  56.130790\n",
            "5.0    45.500726  54.499274\n",
            "voted          1          2\n",
            "QeA                        \n",
            "1.0    46.274113  53.725887\n",
            "2.0    46.180323  53.819677\n",
            "3.0    40.376998  59.623002\n",
            "4.0    46.543408  53.456592\n",
            "5.0    46.126126  53.873874\n",
            "voted          1          2\n",
            "QfA                        \n",
            "1.0    43.162895  56.837105\n",
            "2.0    47.639519  52.360481\n",
            "3.0    41.414141  58.585859\n",
            "4.0    48.476848  51.523152\n",
            "5.0    47.770004  52.229996\n",
            "voted          1          2\n",
            "QgA                        \n",
            "1.0    43.487048  56.512952\n",
            "2.0    46.978989  53.021011\n",
            "3.0    41.625737  58.374263\n",
            "4.0    47.722008  52.277992\n",
            "5.0    46.628001  53.371999\n",
            "voted          1          2\n",
            "QhA                        \n",
            "1.0    48.533049  51.466951\n",
            "2.0    44.162366  55.837634\n",
            "3.0    40.525359  59.474641\n",
            "4.0    43.407506  56.592494\n",
            "5.0    42.226928  57.773072\n",
            "voted          1          2\n",
            "QiA                        \n",
            "1.0    41.673752  58.326248\n",
            "2.0    44.441106  55.558894\n",
            "3.0    40.312028  59.687972\n",
            "4.0    46.893589  53.106411\n",
            "5.0    49.739329  50.260671\n",
            "voted          1          2\n",
            "QjA                        \n",
            "1.0    53.898635  46.101365\n",
            "2.0    50.403226  49.596774\n",
            "3.0    42.145669  57.854331\n",
            "4.0    46.079058  53.920942\n",
            "5.0    40.316477  59.683523\n",
            "voted          1          2\n",
            "QkA                        \n",
            "1.0    36.125057  63.874943\n",
            "2.0    40.959907  59.040093\n",
            "3.0    40.835535  59.164465\n",
            "4.0    45.875000  54.125000\n",
            "5.0    49.350895  50.649105\n",
            "voted          1          2\n",
            "QlA                        \n",
            "1.0    48.797991  51.202009\n",
            "2.0    48.850575  51.149425\n",
            "3.0    44.079320  55.920680\n",
            "4.0    47.055805  52.944195\n",
            "5.0    44.499900  55.500100\n",
            "voted          1          2\n",
            "QmA                        \n",
            "1.0    53.241286  46.758714\n",
            "2.0    50.140625  49.859375\n",
            "3.0    43.634116  56.365884\n",
            "4.0    44.676231  55.323769\n",
            "5.0    40.751731  59.248269\n",
            "voted          1          2\n",
            "QnA                        \n",
            "1.0    42.154145  57.845855\n",
            "2.0    45.380358  54.619642\n",
            "3.0    42.231076  57.768924\n",
            "4.0    49.613174  50.386826\n",
            "5.0    48.233241  51.766759\n",
            "voted          1          2\n",
            "QoA                        \n",
            "1.0    50.118631  49.881369\n",
            "2.0    48.679487  51.320513\n",
            "3.0    43.944354  56.055646\n",
            "4.0    45.969983  54.030017\n",
            "5.0    39.157895  60.842105\n",
            "voted          1          2\n",
            "QpA                        \n",
            "1.0    51.662768  48.337232\n",
            "2.0    48.551502  51.448498\n",
            "3.0    41.181924  58.818076\n",
            "4.0    43.898947  56.101053\n",
            "5.0    39.640789  60.359211\n",
            "voted          1          2\n",
            "QqA                        \n",
            "1.0    37.494334  62.505666\n",
            "2.0    42.192583  57.807417\n",
            "3.0    43.685583  56.314417\n",
            "4.0    51.591258  48.408742\n",
            "5.0    54.562850  45.437150\n",
            "voted          1          2\n",
            "QrA                        \n",
            "1.0    42.752549  57.247451\n",
            "2.0    45.868867  54.131133\n",
            "3.0    42.916074  57.083926\n",
            "4.0    47.938032  52.061968\n",
            "5.0    47.218950  52.781050\n",
            "voted          1          2\n",
            "QsA                        \n",
            "1.0    50.862975  49.137025\n",
            "2.0    47.943396  52.056604\n",
            "3.0    45.648938  54.351062\n",
            "4.0    46.123672  53.876328\n",
            "5.0    40.003290  59.996710\n",
            "voted          1          2\n",
            "QtA                        \n",
            "1.0    53.091065  46.908935\n",
            "2.0    48.063334  51.936666\n",
            "3.0    44.023601  55.976399\n",
            "4.0    43.408867  56.591133\n",
            "5.0    40.227531  59.772469\n"
          ]
        }
      ]
    },
    {
      "cell_type": "code",
      "source": [
        "\"\"\"\n",
        "+: a, k,q,r\n",
        "-: b,c,m,o,p,s\n",
        "^: \n",
        "drop:c, d, e,f,g,h,i,j,l,n\n",
        "next time~\n",
        "\"\"\""
      ],
      "metadata": {
        "colab": {
          "base_uri": "https://localhost:8080/"
        },
        "id": "tcBtybkvOKF3",
        "outputId": "9bcf3940-2403-41e3-9dc9-f31b6beeabb5"
      },
      "execution_count": null,
      "outputs": [
        {
          "output_type": "execute_result",
          "data": {
            "text/plain": [
              "'\\n+: a, k,q,r\\n-: b,c,m,o,p,s\\n^: \\ndrop:c, d, e,f,g,h,i,j,l,n\\nnext time~\\n'"
            ],
            "application/vnd.google.colaboratory.intrinsic+json": {
              "type": "string"
            }
          },
          "metadata": {},
          "execution_count": 36
        }
      ]
    },
    {
      "cell_type": "markdown",
      "source": [
        "#Feature EDA (Q_A) Continued"
      ],
      "metadata": {
        "id": "3ZYnuYzyUjTw"
      }
    },
    {
      "cell_type": "code",
      "source": [
        "Answers = ['QaA', 'QbA', 'QcA', 'QdA', 'QeA',\n",
        "             'QfA', 'QgA', 'QhA', 'QiA', 'QjA', \n",
        "             'QkA', 'QlA', 'QmA', 'QnA', 'QoA', \n",
        "             'QpA', 'QqA', 'QrA', 'QsA', 'QtA']"
      ],
      "metadata": {
        "id": "6ipsyJCIUnLd"
      },
      "execution_count": null,
      "outputs": []
    },
    {
      "cell_type": "code",
      "source": [
        "correlations = eda[Answers].corr(method = 'spearman')\n",
        "sns.heatmap(correlations, cmap=\"coolwarm\", square=True, center=0)"
      ],
      "metadata": {
        "colab": {
          "base_uri": "https://localhost:8080/"
        },
        "id": "mTm0aVTYUrpH",
        "outputId": "e4a43e8d-c713-4a73-e7f2-14479866851c"
      },
      "execution_count": null,
      "outputs": [
        {
          "output_type": "execute_result",
          "data": {
            "text/plain": [
              "<matplotlib.axes._subplots.AxesSubplot at 0x7f2288f2ed90>"
            ]
          },
          "metadata": {},
          "execution_count": 38
        },
        {
          "output_type": "display_data",
          "data": {
            "text/plain": [
              "<Figure size 432x288 with 2 Axes>"
            ],
            "image/png": "[encoded data removed]"
          },
          "metadata": {
            "needs_background": "light"
          }
        }
      ]
    },
    {
      "cell_type": "code",
      "source": [
        "for col in eda[Answers]:\n",
        "    print(sorted(eda[col].unique()))"
      ],
      "metadata": {
        "colab": {
          "base_uri": "https://localhost:8080/"
        },
        "id": "SQutdnGKUyYO",
        "outputId": "da1dc957-7f1e-4a4c-cf61-bbdda3f9e340"
      },
      "execution_count": null,
      "outputs": [
        {
          "output_type": "stream",
          "name": "stdout",
          "text": [
            "[1.0, 2.0, 3.0, 4.0, 5.0]\n",
            "[1.0, 2.0, 3.0, 4.0, 5.0]\n",
            "[1.0, 2.0, 3.0, 4.0, 5.0]\n",
            "[1.0, 2.0, 3.0, 4.0, 5.0]\n",
            "[1.0, 2.0, 3.0, 4.0, 5.0]\n",
            "[1.0, 2.0, 3.0, 4.0, 5.0]\n",
            "[1.0, 2.0, 3.0, 4.0, 5.0]\n",
            "[1.0, 2.0, 3.0, 4.0, 5.0]\n",
            "[1.0, 2.0, 3.0, 4.0, 5.0]\n",
            "[1.0, 2.0, 3.0, 4.0, 5.0]\n",
            "[1.0, 2.0, 3.0, 4.0, 5.0]\n",
            "[1.0, 2.0, 3.0, 4.0, 5.0]\n",
            "[1.0, 2.0, 3.0, 4.0, 5.0]\n",
            "[1.0, 2.0, 3.0, 4.0, 5.0]\n",
            "[1.0, 2.0, 3.0, 4.0, 5.0]\n",
            "[1.0, 2.0, 3.0, 4.0, 5.0]\n",
            "[1.0, 2.0, 3.0, 4.0, 5.0]\n",
            "[1.0, 2.0, 3.0, 4.0, 5.0]\n",
            "[1.0, 2.0, 3.0, 4.0, 5.0]\n",
            "[1.0, 2.0, 3.0, 4.0, 5.0]\n"
          ]
        }
      ]
    },
    {
      "cell_type": "code",
      "source": [
        "flipping_columns = [\"QeA\", \"QfA\", \"QkA\", \"QqA\", \"QrA\"]\n",
        "for flip in flipping_columns: \n",
        "    eda[flip] = 6 - eda[flip]"
      ],
      "metadata": {
        "id": "2zSccNeLU2YL"
      },
      "execution_count": null,
      "outputs": []
    },
    {
      "cell_type": "code",
      "source": [
        "correlations = eda[Answers].corr(method='spearman')\n",
        "sns.heatmap(correlations, cmap=\"coolwarm\", square=True, center=0)"
      ],
      "metadata": {
        "colab": {
          "base_uri": "https://localhost:8080/"
        },
        "id": "9AcDqMwFU8BQ",
        "outputId": "8a11bc9c-1294-4b8b-a0b6-c451ac99d41f"
      },
      "execution_count": null,
      "outputs": [
        {
          "output_type": "execute_result",
          "data": {
            "text/plain": [
              "<matplotlib.axes._subplots.AxesSubplot at 0x7f228934ee90>"
            ]
          },
          "metadata": {},
          "execution_count": 41
        },
        {
          "output_type": "display_data",
          "data": {
            "text/plain": [
              "<Figure size 432x288 with 2 Axes>"
            ],
            "image/png": "[encoded data removed]"
          },
          "metadata": {
            "needs_background": "light"
          }
        }
      ]
    },
    {
      "cell_type": "code",
      "source": [
        "flipping_secret_columns = [\"QaA\", \"QdA\", \"QgA\", \"QiA\", \"QnA\"]\n",
        "for flip in flipping_secret_columns: \n",
        "    eda[flip] = 6 - eda[flip]"
      ],
      "metadata": {
        "id": "xye8ew3IXBKa"
      },
      "execution_count": null,
      "outputs": []
    },
    {
      "cell_type": "code",
      "source": [
        "correlations = eda[Answers].corr(method='spearman')\n",
        "sns.heatmap(correlations, cmap=\"coolwarm\", square=True, center=0)"
      ],
      "metadata": {
        "colab": {
          "base_uri": "https://localhost:8080/"
        },
        "id": "Be9_0mcdXByZ",
        "outputId": "ff0ba1c1-cdfe-4589-f678-6d061106315e"
      },
      "execution_count": null,
      "outputs": [
        {
          "output_type": "execute_result",
          "data": {
            "text/plain": [
              "<matplotlib.axes._subplots.AxesSubplot at 0x7f228942c410>"
            ]
          },
          "metadata": {},
          "execution_count": 43
        },
        {
          "output_type": "display_data",
          "data": {
            "text/plain": [
              "<Figure size 432x288 with 2 Axes>"
            ],
            "image/png": "[encoded data removed]"
          },
          "metadata": {
            "needs_background": "light"
          }
        }
      ]
    },
    {
      "cell_type": "code",
      "source": [
        "eda['Mach_score'] = eda[Answers].mean(axis = 1)"
      ],
      "metadata": {
        "id": "tzdY6BNTVA6E"
      },
      "execution_count": null,
      "outputs": []
    },
    {
      "cell_type": "code",
      "source": [
        "sns.displot(eda, x=\"Mach_score\", bins=100)"
      ],
      "metadata": {
        "colab": {
          "base_uri": "https://localhost:8080/"
        },
        "id": "BSwx6Y_gVJwO",
        "outputId": "950130cb-b4ad-4a57-9b1a-d89b29028928"
      },
      "execution_count": null,
      "outputs": [
        {
          "output_type": "execute_result",
          "data": {
            "text/plain": [
              "<seaborn.axisgrid.FacetGrid at 0x7f2284bbf250>"
            ]
          },
          "metadata": {},
          "execution_count": 45
        },
        {
          "output_type": "display_data",
          "data": {
            "text/plain": [
              "<Figure size 360x360 with 1 Axes>"
            ],
            "image/png": "[encoded data removed]"
          },
          "metadata": {
            "needs_background": "light"
          }
        }
      ]
    },
    {
      "cell_type": "code",
      "source": [
        "eda['T'] = eda['QcA'] - eda['QfA'] + eda['QoA'] - eda['QrA'] + eda['QsA'] #9 +1 -3\n",
        "eda['V'] = eda['QbA'] - eda['QeA'] + eda['QhA'] + eda['QjA'] + eda['QmA'] - eda['QqA'] #9 +1 -2\n",
        "eda['M'] = - eda['QkA'] #2 +1 \n"
      ],
      "metadata": {
        "id": "duT25OoOWNwP"
      },
      "execution_count": null,
      "outputs": []
    },
    {
      "cell_type": "code",
      "source": [
        "used = ['QbA', 'QcA', 'QeA',\n",
        "             'QfA', 'QhA', 'QjA', \n",
        "             'QkA', 'QmA','QoA', \n",
        "              'QqA', 'QrA', 'QsA']"
      ],
      "metadata": {
        "id": "tLEDju4deSdm"
      },
      "execution_count": null,
      "outputs": []
    },
    {
      "cell_type": "markdown",
      "source": [
        "#Feature EDA (Q_E)"
      ],
      "metadata": {
        "id": "ONBjF4F8aEkh"
      }
    },
    {
      "cell_type": "code",
      "source": [
        "eda['time'] = eda[[('Q'+i+'E') for i in questions]].sum(axis=1)\n",
        "eda['time'] = eda['time'] ** (1/10)"
      ],
      "metadata": {
        "id": "zI0vhoiRaIYr"
      },
      "execution_count": null,
      "outputs": []
    },
    {
      "cell_type": "code",
      "source": [
        "sns.distplot(eda['time'], rug = True)"
      ],
      "metadata": {
        "colab": {
          "base_uri": "https://localhost:8080/"
        },
        "id": "q0L7FnQJaYJH",
        "outputId": "633f2dfc-6ae4-43bb-88a6-7548a0612c7d"
      },
      "execution_count": null,
      "outputs": [
        {
          "output_type": "stream",
          "name": "stderr",
          "text": [
            "/usr/local/lib/python3.7/dist-packages/seaborn/distributions.py:2619: FutureWarning: `distplot` is a deprecated function and will be removed in a future version. Please adapt your code to use either `displot` (a figure-level function with similar flexibility) or `histplot` (an axes-level function for histograms).\n",
            "  warnings.warn(msg, FutureWarning)\n",
            "/usr/local/lib/python3.7/dist-packages/seaborn/distributions.py:2103: FutureWarning: The `axis` variable is no longer used and will be removed. Instead, assign variables directly to `x` or `y`.\n",
            "  warnings.warn(msg, FutureWarning)\n"
          ]
        },
        {
          "output_type": "execute_result",
          "data": {
            "text/plain": [
              "<matplotlib.axes._subplots.AxesSubplot at 0x7f2284a02590>"
            ]
          },
          "metadata": {},
          "execution_count": 49
        },
        {
          "output_type": "display_data",
          "data": {
            "text/plain": [
              "<Figure size 432x288 with 1 Axes>"
            ],
            "image/png": "[encoded data removed]"
          },
          "metadata": {
            "needs_background": "light"
          }
        }
      ]
    },
    {
      "cell_type": "code",
      "source": [
        "eda['time'].value_counts().sort_index()"
      ],
      "metadata": {
        "colab": {
          "base_uri": "https://localhost:8080/"
        },
        "id": "MPIuYXV6afjC",
        "outputId": "942c931a-2028-4331-9275-bbf69571a7ee"
      },
      "execution_count": null,
      "outputs": [
        {
          "output_type": "execute_result",
          "data": {
            "text/plain": [
              "1.933447    1\n",
              "1.936341    1\n",
              "1.939196    1\n",
              "1.971035    1\n",
              "1.976098    1\n",
              "           ..\n",
              "5.190394    1\n",
              "5.287029    1\n",
              "5.623329    1\n",
              "6.151332    1\n",
              "6.353015    1\n",
              "Name: time, Length: 26594, dtype: int64"
            ]
          },
          "metadata": {},
          "execution_count": 50
        }
      ]
    },
    {
      "cell_type": "markdown",
      "source": [
        "# Feature EDA (TIPI)"
      ],
      "metadata": {
        "id": "1Qy7VVn0cvmv"
      }
    },
    {
      "cell_type": "code",
      "source": [
        "flipping_columns = [\"tp06\", \"tp02\", \"tp08\", \"tp04\", \"tp10\"]\n",
        "for flip in flipping_columns: \n",
        "    eda[flip] = 8 - eda[flip]"
      ],
      "metadata": {
        "id": "6IQgBIYQdaX4"
      },
      "execution_count": null,
      "outputs": []
    },
    {
      "cell_type": "code",
      "source": [
        "eda['Ex'] = eda['tp01']+eda['tp06']\n",
        "eda['Ag'] = eda['tp07']+eda['tp02']\n",
        "eda['Con'] = eda['tp03']+eda['tp08']\n",
        "eda['Es'] =eda['tp09']+eda['tp04']\n",
        "eda['Op'] =eda['tp05']+eda['tp10']"
      ],
      "metadata": {
        "id": "6ebEl4kmc4dz"
      },
      "execution_count": null,
      "outputs": []
    },
    {
      "cell_type": "markdown",
      "source": [
        "# Feature EDA (WR,WF)"
      ],
      "metadata": {
        "id": "3d-Ll_2Gc0cO"
      }
    },
    {
      "cell_type": "code",
      "source": [
        "wr_list = [('wr_0'+str(i)) for i in range(1,10)]\n",
        "wr_list.extend([('wr_'+str(i)) for i in range(10,14)])"
      ],
      "metadata": {
        "id": "6ACOFIWleuDI"
      },
      "execution_count": null,
      "outputs": []
    },
    {
      "cell_type": "code",
      "source": [
        "wf_list = [('wf_0'+str(i)) for i in range(1,4)]"
      ],
      "metadata": {
        "id": "_WkH0wImfHD_"
      },
      "execution_count": null,
      "outputs": []
    },
    {
      "cell_type": "code",
      "source": [
        "eda['wr'] = eda[wr_list].sum(axis=1)"
      ],
      "metadata": {
        "id": "PrZ6wcF3fJ5M"
      },
      "execution_count": null,
      "outputs": []
    },
    {
      "cell_type": "code",
      "source": [
        "eda['wf'] = eda[wf_list].sum(axis=1)"
      ],
      "metadata": {
        "id": "FKBTgR9SfiVJ"
      },
      "execution_count": null,
      "outputs": []
    },
    {
      "cell_type": "code",
      "source": [
        "test['familysize'].value_counts().sort_index()\n",
        "#23 이상은 컷 "
      ],
      "metadata": {
        "colab": {
          "base_uri": "https://localhost:8080/"
        },
        "id": "SxuILHsUFTPo",
        "outputId": "73ee3b71-55f3-456e-ba04-1ff9b38a49c2"
      },
      "execution_count": null,
      "outputs": [
        {
          "output_type": "execute_result",
          "data": {
            "text/plain": [
              "0      287\n",
              "1     1679\n",
              "2     4454\n",
              "3     2836\n",
              "4     1237\n",
              "5      495\n",
              "6      185\n",
              "7       97\n",
              "8       51\n",
              "9       28\n",
              "10      18\n",
              "11       6\n",
              "12       6\n",
              "14       1\n",
              "15       1\n",
              "20       1\n",
              "23       1\n",
              "Name: familysize, dtype: int64"
            ]
          },
          "metadata": {},
          "execution_count": 57
        }
      ]
    },
    {
      "cell_type": "markdown",
      "source": [],
      "metadata": {
        "id": "VOBXMyZ7f487"
      }
    },
    {
      "cell_type": "markdown",
      "source": [
        "#Missing Values (무응답)"
      ],
      "metadata": {
        "id": "1MKgRZjhf6My"
      }
    },
    {
      "cell_type": "code",
      "source": [
        "eda.shape #before"
      ],
      "metadata": {
        "colab": {
          "base_uri": "https://localhost:8080/"
        },
        "id": "CjX6eN_If-SX",
        "outputId": "da49097a-ec54-4e27-959f-7b095ef586f7"
      },
      "execution_count": null,
      "outputs": [
        {
          "output_type": "execute_result",
          "data": {
            "text/plain": [
              "(45532, 90)"
            ]
          },
          "metadata": {},
          "execution_count": 58
        }
      ]
    },
    {
      "cell_type": "code",
      "source": [
        "#생각해보니 제거 해버리면 test set에서 예측이 잘 안 될듯"
      ],
      "metadata": {
        "id": "aO4zJtHTgG9q"
      },
      "execution_count": null,
      "outputs": []
    },
    {
      "cell_type": "code",
      "source": [],
      "metadata": {
        "id": "K7lFpcNnhu0o"
      },
      "execution_count": null,
      "outputs": []
    }
  ]
}