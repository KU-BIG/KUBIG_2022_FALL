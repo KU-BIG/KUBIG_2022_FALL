{
 "cells": [
  {
   "cell_type": "code",
   "execution_count": 1,
   "metadata": {},
   "outputs": [],
   "source": [
    "from selenium.webdriver.common.keys import Keys\n",
    "from selenium.webdriver.support.ui import WebDriverWait\n",
    "from selenium.webdriver.support import expected_conditions as EC\n",
    "from selenium.common.exceptions import TimeoutException\n",
    "from selenium.common.exceptions import NoSuchElementException\n",
    "from selenium.webdriver.common.by import By\n",
    "from selenium.webdriver.support.ui import Select\n",
    "import time"
   ]
  },
  {
   "cell_type": "code",
   "execution_count": 2,
   "metadata": {},
   "outputs": [],
   "source": [
    "import pandas as pd\n",
    "from bs4 import BeautifulSoup"
   ]
  },
  {
   "cell_type": "code",
   "execution_count": 63,
   "metadata": {},
   "outputs": [
    {
     "name": "stderr",
     "output_type": "stream",
     "text": [
      "<ipython-input-63-3245a9328b9b>:3: DeprecationWarning: executable_path has been deprecated, please pass in a Service object\n",
      "  browser = webdriver.Chrome('C:/chromedriver.exe')\n"
     ]
    }
   ],
   "source": [
    "from selenium import webdriver\n",
    "\n",
    "browser = webdriver.Chrome('C:/chromedriver.exe')\n",
    "\n",
    "browser.get('https://finance.naver.com/news/mainnews.naver?date=2022-08-23') # '성수' 검색했을 때 url"
   ]
  },
  {
   "cell_type": "code",
   "execution_count": 62,
   "metadata": {},
   "outputs": [],
   "source": [
    "url_list = []\n",
    "title_list = []\n",
    "text_list = []"
   ]
  },
  {
   "cell_type": "code",
   "execution_count": 64,
   "metadata": {},
   "outputs": [
    {
     "name": "stdout",
     "output_type": "stream",
     "text": [
      "돌아감\n",
      "돌아감\n",
      "돌아감\n",
      "돌아감\n",
      "돌아감\n",
      "돌아감\n",
      "돌아감\n",
      "돌아감\n",
      "돌아감\n",
      "돌아감\n",
      "돌아감\n",
      "돌아감\n",
      "돌아감\n",
      "돌아감\n"
     ]
    },
    {
     "ename": "NoSuchElementException",
     "evalue": "Message: no such element: Unable to locate element: {\"method\":\"xpath\",\"selector\":\"//*[@id='contentarea_left']/div[2]/ul/li[15]/dl/dt/a\"}\n  (Session info: chrome=104.0.5112.102)\nStacktrace:\nBacktrace:\n\tOrdinal0 [0x00B578B3+2193587]\n\tOrdinal0 [0x00AF0681+1771137]\n\tOrdinal0 [0x00A041A8+803240]\n\tOrdinal0 [0x00A324A0+992416]\n\tOrdinal0 [0x00A3273B+993083]\n\tOrdinal0 [0x00A5F7C2+1177538]\n\tOrdinal0 [0x00A4D7F4+1103860]\n\tOrdinal0 [0x00A5DAE2+1170146]\n\tOrdinal0 [0x00A4D5C6+1103302]\n\tOrdinal0 [0x00A277E0+948192]\n\tOrdinal0 [0x00A286E6+952038]\n\tGetHandleVerifier [0x00E00CB2+2738370]\n\tGetHandleVerifier [0x00DF21B8+2678216]\n\tGetHandleVerifier [0x00BE17AA+512954]\n\tGetHandleVerifier [0x00BE0856+509030]\n\tOrdinal0 [0x00AF743B+1799227]\n\tOrdinal0 [0x00AFBB68+1817448]\n\tOrdinal0 [0x00AFBC55+1817685]\n\tOrdinal0 [0x00B05230+1856048]\n\tBaseThreadInitThunk [0x76A26739+25]\n\tRtlGetFullPathName_UEx [0x779390AF+1215]\n\tRtlGetFullPathName_UEx [0x7793907D+1165]\n",
     "output_type": "error",
     "traceback": [
      "\u001b[1;31m---------------------------------------------------------------------------\u001b[0m",
      "\u001b[1;31mNoSuchElementException\u001b[0m                    Traceback (most recent call last)",
      "\u001b[1;32m<ipython-input-64-73736255c9e1>\u001b[0m in \u001b[0;36m<module>\u001b[1;34m\u001b[0m\n\u001b[0;32m      6\u001b[0m         \u001b[0mpath\u001b[0m \u001b[1;33m=\u001b[0m \u001b[1;34m\"//*[@id='contentarea_left']/div[2]/ul/li[\"\u001b[0m\u001b[1;33m+\u001b[0m\u001b[0mstr\u001b[0m\u001b[1;33m(\u001b[0m\u001b[0mi\u001b[0m\u001b[1;33m)\u001b[0m\u001b[1;33m+\u001b[0m\u001b[1;34m\"]/dl/dd[1]/a\"\u001b[0m\u001b[1;33m\u001b[0m\u001b[1;33m\u001b[0m\u001b[0m\n\u001b[1;32m----> 7\u001b[1;33m         \u001b[0murl\u001b[0m \u001b[1;33m=\u001b[0m \u001b[0mbrowser\u001b[0m\u001b[1;33m.\u001b[0m\u001b[0mfind_element\u001b[0m\u001b[1;33m(\u001b[0m\u001b[0mBy\u001b[0m\u001b[1;33m.\u001b[0m\u001b[0mXPATH\u001b[0m\u001b[1;33m,\u001b[0m\u001b[0mpath\u001b[0m\u001b[1;33m)\u001b[0m\u001b[1;33m.\u001b[0m\u001b[0mget_attribute\u001b[0m\u001b[1;33m(\u001b[0m\u001b[1;34m'href'\u001b[0m\u001b[1;33m)\u001b[0m\u001b[1;33m\u001b[0m\u001b[1;33m\u001b[0m\u001b[0m\n\u001b[0m\u001b[0;32m      8\u001b[0m         \u001b[0murl_list\u001b[0m\u001b[1;33m.\u001b[0m\u001b[0mappend\u001b[0m\u001b[1;33m(\u001b[0m\u001b[0murl\u001b[0m\u001b[1;33m)\u001b[0m\u001b[1;33m\u001b[0m\u001b[1;33m\u001b[0m\u001b[0m\n",
      "\u001b[1;32m~\\AppData\\Local\\Programs\\Python\\Python38\\lib\\site-packages\\selenium\\webdriver\\remote\\webdriver.py\u001b[0m in \u001b[0;36mfind_element\u001b[1;34m(self, by, value)\u001b[0m\n\u001b[0;32m   1247\u001b[0m \u001b[1;33m\u001b[0m\u001b[0m\n\u001b[1;32m-> 1248\u001b[1;33m         return self.execute(Command.FIND_ELEMENT, {\n\u001b[0m\u001b[0;32m   1249\u001b[0m             \u001b[1;34m'using'\u001b[0m\u001b[1;33m:\u001b[0m \u001b[0mby\u001b[0m\u001b[1;33m,\u001b[0m\u001b[1;33m\u001b[0m\u001b[1;33m\u001b[0m\u001b[0m\n",
      "\u001b[1;32m~\\AppData\\Local\\Programs\\Python\\Python38\\lib\\site-packages\\selenium\\webdriver\\remote\\webdriver.py\u001b[0m in \u001b[0;36mexecute\u001b[1;34m(self, driver_command, params)\u001b[0m\n\u001b[0;32m    424\u001b[0m         \u001b[1;32mif\u001b[0m \u001b[0mresponse\u001b[0m\u001b[1;33m:\u001b[0m\u001b[1;33m\u001b[0m\u001b[1;33m\u001b[0m\u001b[0m\n\u001b[1;32m--> 425\u001b[1;33m             \u001b[0mself\u001b[0m\u001b[1;33m.\u001b[0m\u001b[0merror_handler\u001b[0m\u001b[1;33m.\u001b[0m\u001b[0mcheck_response\u001b[0m\u001b[1;33m(\u001b[0m\u001b[0mresponse\u001b[0m\u001b[1;33m)\u001b[0m\u001b[1;33m\u001b[0m\u001b[1;33m\u001b[0m\u001b[0m\n\u001b[0m\u001b[0;32m    426\u001b[0m             response['value'] = self._unwrap_value(\n",
      "\u001b[1;32m~\\AppData\\Local\\Programs\\Python\\Python38\\lib\\site-packages\\selenium\\webdriver\\remote\\errorhandler.py\u001b[0m in \u001b[0;36mcheck_response\u001b[1;34m(self, response)\u001b[0m\n\u001b[0;32m    246\u001b[0m             \u001b[1;32mraise\u001b[0m \u001b[0mexception_class\u001b[0m\u001b[1;33m(\u001b[0m\u001b[0mmessage\u001b[0m\u001b[1;33m,\u001b[0m \u001b[0mscreen\u001b[0m\u001b[1;33m,\u001b[0m \u001b[0mstacktrace\u001b[0m\u001b[1;33m,\u001b[0m \u001b[0malert_text\u001b[0m\u001b[1;33m)\u001b[0m  \u001b[1;31m# type: ignore[call-arg]  # mypy is not smart enough here\u001b[0m\u001b[1;33m\u001b[0m\u001b[1;33m\u001b[0m\u001b[0m\n\u001b[1;32m--> 247\u001b[1;33m         \u001b[1;32mraise\u001b[0m \u001b[0mexception_class\u001b[0m\u001b[1;33m(\u001b[0m\u001b[0mmessage\u001b[0m\u001b[1;33m,\u001b[0m \u001b[0mscreen\u001b[0m\u001b[1;33m,\u001b[0m \u001b[0mstacktrace\u001b[0m\u001b[1;33m)\u001b[0m\u001b[1;33m\u001b[0m\u001b[1;33m\u001b[0m\u001b[0m\n\u001b[0m\u001b[0;32m    248\u001b[0m \u001b[1;33m\u001b[0m\u001b[0m\n",
      "\u001b[1;31mNoSuchElementException\u001b[0m: Message: no such element: Unable to locate element: {\"method\":\"xpath\",\"selector\":\"//*[@id='contentarea_left']/div[2]/ul/li[15]/dl/dd[1]/a\"}\n  (Session info: chrome=104.0.5112.102)\nStacktrace:\nBacktrace:\n\tOrdinal0 [0x00B578B3+2193587]\n\tOrdinal0 [0x00AF0681+1771137]\n\tOrdinal0 [0x00A041A8+803240]\n\tOrdinal0 [0x00A324A0+992416]\n\tOrdinal0 [0x00A3273B+993083]\n\tOrdinal0 [0x00A5F7C2+1177538]\n\tOrdinal0 [0x00A4D7F4+1103860]\n\tOrdinal0 [0x00A5DAE2+1170146]\n\tOrdinal0 [0x00A4D5C6+1103302]\n\tOrdinal0 [0x00A277E0+948192]\n\tOrdinal0 [0x00A286E6+952038]\n\tGetHandleVerifier [0x00E00CB2+2738370]\n\tGetHandleVerifier [0x00DF21B8+2678216]\n\tGetHandleVerifier [0x00BE17AA+512954]\n\tGetHandleVerifier [0x00BE0856+509030]\n\tOrdinal0 [0x00AF743B+1799227]\n\tOrdinal0 [0x00AFBB68+1817448]\n\tOrdinal0 [0x00AFBC55+1817685]\n\tOrdinal0 [0x00B05230+1856048]\n\tBaseThreadInitThunk [0x76A26739+25]\n\tRtlGetFullPathName_UEx [0x779390AF+1215]\n\tRtlGetFullPathName_UEx [0x7793907D+1165]\n",
      "\nDuring handling of the above exception, another exception occurred:\n",
      "\u001b[1;31mNoSuchElementException\u001b[0m                    Traceback (most recent call last)",
      "\u001b[1;32m<ipython-input-64-73736255c9e1>\u001b[0m in \u001b[0;36m<module>\u001b[1;34m\u001b[0m\n\u001b[0;32m     15\u001b[0m     \u001b[1;32mexcept\u001b[0m \u001b[1;33m:\u001b[0m\u001b[1;33m\u001b[0m\u001b[1;33m\u001b[0m\u001b[0m\n\u001b[0;32m     16\u001b[0m         \u001b[0mpath\u001b[0m \u001b[1;33m=\u001b[0m \u001b[1;34m\"//*[@id='contentarea_left']/div[2]/ul/li[\"\u001b[0m\u001b[1;33m+\u001b[0m\u001b[0mstr\u001b[0m\u001b[1;33m(\u001b[0m\u001b[0mi\u001b[0m\u001b[1;33m)\u001b[0m\u001b[1;33m+\u001b[0m\u001b[1;34m\"]/dl/dt/a\"\u001b[0m\u001b[1;33m\u001b[0m\u001b[1;33m\u001b[0m\u001b[0m\n\u001b[1;32m---> 17\u001b[1;33m         \u001b[0murl\u001b[0m \u001b[1;33m=\u001b[0m \u001b[0mbrowser\u001b[0m\u001b[1;33m.\u001b[0m\u001b[0mfind_element\u001b[0m\u001b[1;33m(\u001b[0m\u001b[0mBy\u001b[0m\u001b[1;33m.\u001b[0m\u001b[0mXPATH\u001b[0m\u001b[1;33m,\u001b[0m\u001b[0mpath\u001b[0m\u001b[1;33m)\u001b[0m\u001b[1;33m.\u001b[0m\u001b[0mget_attribute\u001b[0m\u001b[1;33m(\u001b[0m\u001b[1;34m'href'\u001b[0m\u001b[1;33m)\u001b[0m\u001b[1;33m\u001b[0m\u001b[1;33m\u001b[0m\u001b[0m\n\u001b[0m\u001b[0;32m     18\u001b[0m         \u001b[0murl_list\u001b[0m\u001b[1;33m.\u001b[0m\u001b[0mappend\u001b[0m\u001b[1;33m(\u001b[0m\u001b[0murl\u001b[0m\u001b[1;33m)\u001b[0m\u001b[1;33m\u001b[0m\u001b[1;33m\u001b[0m\u001b[0m\n\u001b[0;32m     19\u001b[0m \u001b[1;33m\u001b[0m\u001b[0m\n",
      "\u001b[1;32m~\\AppData\\Local\\Programs\\Python\\Python38\\lib\\site-packages\\selenium\\webdriver\\remote\\webdriver.py\u001b[0m in \u001b[0;36mfind_element\u001b[1;34m(self, by, value)\u001b[0m\n\u001b[0;32m   1246\u001b[0m             \u001b[0mvalue\u001b[0m \u001b[1;33m=\u001b[0m \u001b[1;34m'[name=\"%s\"]'\u001b[0m \u001b[1;33m%\u001b[0m \u001b[0mvalue\u001b[0m\u001b[1;33m\u001b[0m\u001b[1;33m\u001b[0m\u001b[0m\n\u001b[0;32m   1247\u001b[0m \u001b[1;33m\u001b[0m\u001b[0m\n\u001b[1;32m-> 1248\u001b[1;33m         return self.execute(Command.FIND_ELEMENT, {\n\u001b[0m\u001b[0;32m   1249\u001b[0m             \u001b[1;34m'using'\u001b[0m\u001b[1;33m:\u001b[0m \u001b[0mby\u001b[0m\u001b[1;33m,\u001b[0m\u001b[1;33m\u001b[0m\u001b[1;33m\u001b[0m\u001b[0m\n\u001b[0;32m   1250\u001b[0m             'value': value})['value']\n",
      "\u001b[1;32m~\\AppData\\Local\\Programs\\Python\\Python38\\lib\\site-packages\\selenium\\webdriver\\remote\\webdriver.py\u001b[0m in \u001b[0;36mexecute\u001b[1;34m(self, driver_command, params)\u001b[0m\n\u001b[0;32m    423\u001b[0m         \u001b[0mresponse\u001b[0m \u001b[1;33m=\u001b[0m \u001b[0mself\u001b[0m\u001b[1;33m.\u001b[0m\u001b[0mcommand_executor\u001b[0m\u001b[1;33m.\u001b[0m\u001b[0mexecute\u001b[0m\u001b[1;33m(\u001b[0m\u001b[0mdriver_command\u001b[0m\u001b[1;33m,\u001b[0m \u001b[0mparams\u001b[0m\u001b[1;33m)\u001b[0m\u001b[1;33m\u001b[0m\u001b[1;33m\u001b[0m\u001b[0m\n\u001b[0;32m    424\u001b[0m         \u001b[1;32mif\u001b[0m \u001b[0mresponse\u001b[0m\u001b[1;33m:\u001b[0m\u001b[1;33m\u001b[0m\u001b[1;33m\u001b[0m\u001b[0m\n\u001b[1;32m--> 425\u001b[1;33m             \u001b[0mself\u001b[0m\u001b[1;33m.\u001b[0m\u001b[0merror_handler\u001b[0m\u001b[1;33m.\u001b[0m\u001b[0mcheck_response\u001b[0m\u001b[1;33m(\u001b[0m\u001b[0mresponse\u001b[0m\u001b[1;33m)\u001b[0m\u001b[1;33m\u001b[0m\u001b[1;33m\u001b[0m\u001b[0m\n\u001b[0m\u001b[0;32m    426\u001b[0m             response['value'] = self._unwrap_value(\n\u001b[0;32m    427\u001b[0m                 response.get('value', None))\n",
      "\u001b[1;32m~\\AppData\\Local\\Programs\\Python\\Python38\\lib\\site-packages\\selenium\\webdriver\\remote\\errorhandler.py\u001b[0m in \u001b[0;36mcheck_response\u001b[1;34m(self, response)\u001b[0m\n\u001b[0;32m    245\u001b[0m                 \u001b[0malert_text\u001b[0m \u001b[1;33m=\u001b[0m \u001b[0mvalue\u001b[0m\u001b[1;33m[\u001b[0m\u001b[1;34m'alert'\u001b[0m\u001b[1;33m]\u001b[0m\u001b[1;33m.\u001b[0m\u001b[0mget\u001b[0m\u001b[1;33m(\u001b[0m\u001b[1;34m'text'\u001b[0m\u001b[1;33m)\u001b[0m\u001b[1;33m\u001b[0m\u001b[1;33m\u001b[0m\u001b[0m\n\u001b[0;32m    246\u001b[0m             \u001b[1;32mraise\u001b[0m \u001b[0mexception_class\u001b[0m\u001b[1;33m(\u001b[0m\u001b[0mmessage\u001b[0m\u001b[1;33m,\u001b[0m \u001b[0mscreen\u001b[0m\u001b[1;33m,\u001b[0m \u001b[0mstacktrace\u001b[0m\u001b[1;33m,\u001b[0m \u001b[0malert_text\u001b[0m\u001b[1;33m)\u001b[0m  \u001b[1;31m# type: ignore[call-arg]  # mypy is not smart enough here\u001b[0m\u001b[1;33m\u001b[0m\u001b[1;33m\u001b[0m\u001b[0m\n\u001b[1;32m--> 247\u001b[1;33m         \u001b[1;32mraise\u001b[0m \u001b[0mexception_class\u001b[0m\u001b[1;33m(\u001b[0m\u001b[0mmessage\u001b[0m\u001b[1;33m,\u001b[0m \u001b[0mscreen\u001b[0m\u001b[1;33m,\u001b[0m \u001b[0mstacktrace\u001b[0m\u001b[1;33m)\u001b[0m\u001b[1;33m\u001b[0m\u001b[1;33m\u001b[0m\u001b[0m\n\u001b[0m\u001b[0;32m    248\u001b[0m \u001b[1;33m\u001b[0m\u001b[0m\n\u001b[0;32m    249\u001b[0m     \u001b[1;32mdef\u001b[0m \u001b[0m_value_or_default\u001b[0m\u001b[1;33m(\u001b[0m\u001b[0mself\u001b[0m\u001b[1;33m,\u001b[0m \u001b[0mobj\u001b[0m\u001b[1;33m:\u001b[0m \u001b[0mMapping\u001b[0m\u001b[1;33m[\u001b[0m\u001b[0m_KT\u001b[0m\u001b[1;33m,\u001b[0m \u001b[0m_VT\u001b[0m\u001b[1;33m]\u001b[0m\u001b[1;33m,\u001b[0m \u001b[0mkey\u001b[0m\u001b[1;33m:\u001b[0m \u001b[0m_KT\u001b[0m\u001b[1;33m,\u001b[0m \u001b[0mdefault\u001b[0m\u001b[1;33m:\u001b[0m \u001b[0m_VT\u001b[0m\u001b[1;33m)\u001b[0m \u001b[1;33m->\u001b[0m \u001b[0m_VT\u001b[0m\u001b[1;33m:\u001b[0m\u001b[1;33m\u001b[0m\u001b[1;33m\u001b[0m\u001b[0m\n",
      "\u001b[1;31mNoSuchElementException\u001b[0m: Message: no such element: Unable to locate element: {\"method\":\"xpath\",\"selector\":\"//*[@id='contentarea_left']/div[2]/ul/li[15]/dl/dt/a\"}\n  (Session info: chrome=104.0.5112.102)\nStacktrace:\nBacktrace:\n\tOrdinal0 [0x00B578B3+2193587]\n\tOrdinal0 [0x00AF0681+1771137]\n\tOrdinal0 [0x00A041A8+803240]\n\tOrdinal0 [0x00A324A0+992416]\n\tOrdinal0 [0x00A3273B+993083]\n\tOrdinal0 [0x00A5F7C2+1177538]\n\tOrdinal0 [0x00A4D7F4+1103860]\n\tOrdinal0 [0x00A5DAE2+1170146]\n\tOrdinal0 [0x00A4D5C6+1103302]\n\tOrdinal0 [0x00A277E0+948192]\n\tOrdinal0 [0x00A286E6+952038]\n\tGetHandleVerifier [0x00E00CB2+2738370]\n\tGetHandleVerifier [0x00DF21B8+2678216]\n\tGetHandleVerifier [0x00BE17AA+512954]\n\tGetHandleVerifier [0x00BE0856+509030]\n\tOrdinal0 [0x00AF743B+1799227]\n\tOrdinal0 [0x00AFBB68+1817448]\n\tOrdinal0 [0x00AFBC55+1817685]\n\tOrdinal0 [0x00B05230+1856048]\n\tBaseThreadInitThunk [0x76A26739+25]\n\tRtlGetFullPathName_UEx [0x779390AF+1215]\n\tRtlGetFullPathName_UEx [0x7793907D+1165]\n"
     ]
    }
   ],
   "source": [
    "i = 1\n",
    "flag = 0\n",
    "\n",
    "while True:\n",
    "    try:   \n",
    "        path = \"//*[@id='contentarea_left']/div[2]/ul/li[\"+str(i)+\"]/dl/dd[1]/a\"\n",
    "        url = browser.find_element(By.XPATH,path).get_attribute('href')\n",
    "        url_list.append(url)\n",
    "        \n",
    "        title = browser.find_element(By.XPATH,path).text\n",
    "        title_list.append(title)\n",
    "        i+=1\n",
    "        print('돌아감')\n",
    "    \n",
    "    except :\n",
    "        path = \"//*[@id='contentarea_left']/div[2]/ul/li[\"+str(i)+\"]/dl/dt/a\"\n",
    "        url = browser.find_element(By.XPATH,path).get_attribute('href')\n",
    "        url_list.append(url)\n",
    "        \n",
    "        title = browser.find_element(By.XPATH,path).text\n",
    "        title_list.append(title)\n",
    "        i+=1\n",
    "        print('돌아감')\n",
    "    \n",
    "        \n",
    "        \n",
    "    "
   ]
  },
  {
   "cell_type": "code",
   "execution_count": 65,
   "metadata": {},
   "outputs": [
    {
     "data": {
      "text/plain": [
       "['https://finance.naver.com/news/news_read.naver?article_id=0004090869&office_id=011&mode=mainnews&type=&date=2022-08-23&page=1',\n",
       " 'https://finance.naver.com/news/news_read.naver?article_id=0004786236&office_id=008&mode=mainnews&type=&date=2022-08-23&page=1',\n",
       " 'https://finance.naver.com/news/news_read.naver?article_id=0000836005&office_id=366&mode=mainnews&type=&date=2022-08-23&page=1',\n",
       " 'https://finance.naver.com/news/news_read.naver?article_id=0011378923&office_id=003&mode=mainnews&type=&date=2022-08-23&page=1',\n",
       " 'https://finance.naver.com/news/news_read.naver?article_id=0005136673&office_id=277&mode=mainnews&type=&date=2022-08-23&page=1',\n",
       " 'https://finance.naver.com/news/news_read.naver?article_id=0006293164&office_id=421&mode=mainnews&type=&date=2022-08-23&page=1',\n",
       " 'https://finance.naver.com/news/news_read.naver?article_id=0005299428&office_id=018&mode=mainnews&type=&date=2022-08-23&page=1',\n",
       " 'https://finance.naver.com/news/news_read.naver?article_id=0005299412&office_id=018&mode=mainnews&type=&date=2022-08-23&page=1',\n",
       " 'https://finance.naver.com/news/news_read.naver?article_id=0004786061&office_id=008&mode=mainnews&type=&date=2022-08-23&page=1',\n",
       " 'https://finance.naver.com/news/news_read.naver?article_id=0005298912&office_id=018&mode=mainnews&type=&date=2022-08-23&page=1',\n",
       " 'https://finance.naver.com/news/news_read.naver?article_id=0005136263&office_id=277&mode=mainnews&type=&date=2022-08-23&page=1',\n",
       " 'https://finance.naver.com/news/news_read.naver?article_id=0005136239&office_id=277&mode=mainnews&type=&date=2022-08-23&page=1',\n",
       " 'https://finance.naver.com/news/news_read.naver?article_id=0004740024&office_id=015&mode=mainnews&type=&date=2022-08-23&page=1',\n",
       " 'https://finance.naver.com/news/news_read.naver?article_id=0004785903&office_id=008&mode=mainnews&type=&date=2022-08-23&page=1']"
      ]
     },
     "execution_count": 65,
     "metadata": {},
     "output_type": "execute_result"
    }
   ],
   "source": [
    "url_list"
   ]
  },
  {
   "cell_type": "code",
   "execution_count": 66,
   "metadata": {},
   "outputs": [
    {
     "data": {
      "text/plain": [
       "['잭슨 홀 리스크·유럽 침체우려에도 나스닥 소폭 상승 출발 [데일리 국제금융시장]',\n",
       " '[Asia마감] 긴축 공포에 짓눌린 시장…닛케이 1.19%↓',\n",
       " '[마켓뷰] 코스피·코스닥 1% 넘게 하락…치솟는 美 달러화 가치에 투자금 ‘썰물’',\n",
       " '[마감시황]코스피, 강달러 지속에 1%대 하락…2430선 마감',\n",
       " '[유럽개장]장 초반 하락세…獨 0.35%↓',\n",
       " '[시황종합] 코스피, 강달러 충격에 5일째 하락 2435선 마감…환율 1345.5원',\n",
       " '[외환마감]환율, 1340원대 연고점 경신…尹대통령 언급+당국개입도 역부족',\n",
       " '[코스닥 마감]킹달러·잭슨홀 경계감에 1.5%↓…780선 턱걸이',\n",
       " \"[Asia오전] 美 추락에 亞증시도 '뚝뚝뚝'…닛케이 1.17%↓\",\n",
       " '[외환브리핑]109선 찍은 달러인덱스…환율, 1340원대 안착 시도',\n",
       " '[굿모닝 증시]잭슨홀 경계·강달러에 약세 보인 美 증시…코스피 하락 출발 예상',\n",
       " '[일일펀드동향] 채권형펀드에서 911억원 순유출',\n",
       " '금리인상 우려에 美증시 \\'큰폭 하락\\'…환율 급등 \"금융위기 수준\" [모닝브리핑]',\n",
       " '\"위험 과소평가\" 잭슨홀 앞두고 긴장↑...美증시 \\'뚝\\'[뉴욕마감]']"
      ]
     },
     "execution_count": 66,
     "metadata": {},
     "output_type": "execute_result"
    }
   ],
   "source": [
    "title_list"
   ]
  },
  {
   "cell_type": "code",
   "execution_count": null,
   "metadata": {},
   "outputs": [],
   "source": [
    "//*[@id=\"content\"]/text()[2]\n",
    "//*[@id=\"content\"]/text()[9]"
   ]
  },
  {
   "cell_type": "code",
   "execution_count": 68,
   "metadata": {},
   "outputs": [
    {
     "name": "stderr",
     "output_type": "stream",
     "text": [
      "<ipython-input-68-639efb780faf>:2: DeprecationWarning: executable_path has been deprecated, please pass in a Service object\n",
      "  wd = webdriver.Chrome('C:/chromedriver.exe')\n"
     ]
    }
   ],
   "source": [
    "for url in url_list:\n",
    "    wd = webdriver.Chrome('C:/chromedriver.exe')\n",
    "    wd.get(url)\n",
    "    req = wd.page_source\n",
    "    soup = BeautifulSoup(req, 'html.parser')\n",
    "\n",
    "    ul =soup.find('div',{\"class\":\"articleCont\"}).text\n",
    "    cleantext = BeautifulSoup(ul, \"lxml\").text\n",
    "    text_list.append(cleantext)"
   ]
  },
  {
   "cell_type": "code",
   "execution_count": 69,
   "metadata": {},
   "outputs": [
    {
     "data": {
      "text/plain": [
       "14"
      ]
     },
     "execution_count": 69,
     "metadata": {},
     "output_type": "execute_result"
    }
   ],
   "source": [
    "len(text_list)"
   ]
  },
  {
   "cell_type": "code",
   "execution_count": 70,
   "metadata": {},
   "outputs": [
    {
     "data": {
      "text/html": [
       "<div>\n",
       "<style scoped>\n",
       "    .dataframe tbody tr th:only-of-type {\n",
       "        vertical-align: middle;\n",
       "    }\n",
       "\n",
       "    .dataframe tbody tr th {\n",
       "        vertical-align: top;\n",
       "    }\n",
       "\n",
       "    .dataframe thead th {\n",
       "        text-align: right;\n",
       "    }\n",
       "</style>\n",
       "<table border=\"1\" class=\"dataframe\">\n",
       "  <thead>\n",
       "    <tr style=\"text-align: right;\">\n",
       "      <th></th>\n",
       "      <th>url</th>\n",
       "      <th>title</th>\n",
       "      <th>text</th>\n",
       "    </tr>\n",
       "  </thead>\n",
       "  <tbody>\n",
       "    <tr>\n",
       "      <th>0</th>\n",
       "      <td>https://finance.naver.com/news/news_read.naver...</td>\n",
       "      <td>잭슨 홀 리스크·유럽 침체우려에도 나스닥 소폭 상승 출발 [데일리 국제금융시장]</td>\n",
       "      <td>다우 0.065%·S&amp;P 0.069% 상승10년 물 국채 3.06%로 올라유로존 8...</td>\n",
       "    </tr>\n",
       "    <tr>\n",
       "      <th>1</th>\n",
       "      <td>https://finance.naver.com/news/news_read.naver...</td>\n",
       "      <td>[Asia마감] 긴축 공포에 짓눌린 시장…닛케이 1.19%↓</td>\n",
       "      <td>23일 아시아 주요국 증시가 일제히 하락 마감했다. 통화긴축, 경기침체에 대한 우려...</td>\n",
       "    </tr>\n",
       "    <tr>\n",
       "      <th>2</th>\n",
       "      <td>https://finance.naver.com/news/news_read.naver...</td>\n",
       "      <td>[마켓뷰] 코스피·코스닥 1% 넘게 하락…치솟는 美 달러화 가치에 투자금 ‘썰물’</td>\n",
       "      <td>유럽, 500년 만에 최악의 가뭄…경기 우려 심화유로화 가치 20년 만에 최저치로,...</td>\n",
       "    </tr>\n",
       "    <tr>\n",
       "      <th>3</th>\n",
       "      <td>https://finance.naver.com/news/news_read.naver...</td>\n",
       "      <td>[마감시황]코스피, 강달러 지속에 1%대 하락…2430선 마감</td>\n",
       "      <td>[서울=뉴시스] 조성우 기자 =코스피가 전 거래일(2462.50)보다 27.16포인...</td>\n",
       "    </tr>\n",
       "    <tr>\n",
       "      <th>4</th>\n",
       "      <td>https://finance.naver.com/news/news_read.naver...</td>\n",
       "      <td>[유럽개장]장 초반 하락세…獨 0.35%↓</td>\n",
       "      <td>23일 유럽 증시가 장 초반 하락세를 보이고 있다.이날 오후 4시20분(한국시간) ...</td>\n",
       "    </tr>\n",
       "  </tbody>\n",
       "</table>\n",
       "</div>"
      ],
      "text/plain": [
       "                                                 url  \\\n",
       "0  https://finance.naver.com/news/news_read.naver...   \n",
       "1  https://finance.naver.com/news/news_read.naver...   \n",
       "2  https://finance.naver.com/news/news_read.naver...   \n",
       "3  https://finance.naver.com/news/news_read.naver...   \n",
       "4  https://finance.naver.com/news/news_read.naver...   \n",
       "\n",
       "                                           title  \\\n",
       "0   잭슨 홀 리스크·유럽 침체우려에도 나스닥 소폭 상승 출발 [데일리 국제금융시장]   \n",
       "1              [Asia마감] 긴축 공포에 짓눌린 시장…닛케이 1.19%↓   \n",
       "2  [마켓뷰] 코스피·코스닥 1% 넘게 하락…치솟는 美 달러화 가치에 투자금 ‘썰물’   \n",
       "3             [마감시황]코스피, 강달러 지속에 1%대 하락…2430선 마감   \n",
       "4                        [유럽개장]장 초반 하락세…獨 0.35%↓   \n",
       "\n",
       "                                                text  \n",
       "0  다우 0.065%·S&P 0.069% 상승10년 물 국채 3.06%로 올라유로존 8...  \n",
       "1  23일 아시아 주요국 증시가 일제히 하락 마감했다. 통화긴축, 경기침체에 대한 우려...  \n",
       "2  유럽, 500년 만에 최악의 가뭄…경기 우려 심화유로화 가치 20년 만에 최저치로,...  \n",
       "3  [서울=뉴시스] 조성우 기자 =코스피가 전 거래일(2462.50)보다 27.16포인...  \n",
       "4  23일 유럽 증시가 장 초반 하락세를 보이고 있다.이날 오후 4시20분(한국시간) ...  "
      ]
     },
     "execution_count": 70,
     "metadata": {},
     "output_type": "execute_result"
    }
   ],
   "source": [
    "import pandas as pd\n",
    "raw = {'url':url_list,\n",
    "       'title':title_list,\n",
    "       'text':text_list}\n",
    "\n",
    "data=pd.DataFrame(raw)\n",
    "data.head()"
   ]
  },
  {
   "cell_type": "code",
   "execution_count": 71,
   "metadata": {},
   "outputs": [],
   "source": [
    "data.to_csv('2022-08-23.csv',encoding='utf8',index=False)"
   ]
  }
 ],
 "metadata": {
  "interpreter": {
   "hash": "5be718a36ba95b1467e61ec2de95759690446b44afc99faaa23f773120d73ce1"
  },
  "kernelspec": {
   "display_name": "Python 3.8.5 64-bit",
   "language": "python",
   "name": "python3"
  },
  "language_info": {
   "codemirror_mode": {
    "name": "ipython",
    "version": 3
   },
   "file_extension": ".py",
   "mimetype": "text/x-python",
   "name": "python",
   "nbconvert_exporter": "python",
   "pygments_lexer": "ipython3",
   "version": "3.8.5"
  },
  "orig_nbformat": 4
 },
 "nbformat": 4,
 "nbformat_minor": 2
}
