{
  "cells": [
    {
      "cell_type": "code",
      "source": [
        "from google.colab import drive\n",
        "drive.mount('/content/drive')"
      ],
      "metadata": {
        "colab": {
          "base_uri": "https://localhost:8080/"
        },
        "id": "lljG-mK10USC",
        "outputId": "8c1f1ac6-6e8c-4616-84ec-dbb7dc79779b"
      },
      "execution_count": null,
      "outputs": [
        {
          "output_type": "stream",
          "name": "stdout",
          "text": [
            "Mounted at /content/drive\n"
          ]
        }
      ]
    },
    {
      "cell_type": "code",
      "source": [
        "%cd /content/drive/MyDrive/Handwriting-Transformers"
      ],
      "metadata": {
        "colab": {
          "base_uri": "https://localhost:8080/"
        },
        "id": "LxuJr-MD0V5V",
        "outputId": "4fb1e54c-5124-4969-ea5b-1e560afa3596"
      },
      "execution_count": null,
      "outputs": [
        {
          "output_type": "stream",
          "name": "stdout",
          "text": [
            "/content/drive/MyDrive/Handwriting-Transformers\n"
          ]
        }
      ]
    },
    {
      "cell_type": "code",
      "source": [
        "# !git clone https://github.com/ankanbhunia/Handwriting-Transformers\n",
        "# %cd Handwriting-Transformers\n",
        "# !pip install --upgrade --no-cache-dir gdown\n",
        "# !gdown --id 16g9zgysQnWk7-353_tMig92KsZsrcM6k && unzip files.zip && rm files.zip"
      ],
      "metadata": {
        "id": "Ovbc34eSqrpz",
        "outputId": "b778ddce-b62c-4397-cd7f-35ed5b648f15",
        "colab": {
          "base_uri": "https://localhost:8080/"
        }
      },
      "execution_count": null,
      "outputs": [
        {
          "output_type": "stream",
          "name": "stdout",
          "text": [
            "Cloning into 'Handwriting-Transformers'...\n",
            "remote: Enumerating objects: 497, done.\u001b[K\n",
            "remote: Counting objects: 100% (112/112), done.\u001b[K\n",
            "remote: Compressing objects: 100% (71/71), done.\u001b[K\n",
            "remote: Total 497 (delta 54), reused 72 (delta 41), pack-reused 385\u001b[K\n",
            "Receiving objects: 100% (497/497), 67.85 MiB | 19.33 MiB/s, done.\n",
            "Resolving deltas: 100% (197/197), done.\n",
            "/content/drive/MyDrive/Handwriting-Transformers\n",
            "Looking in indexes: https://pypi.org/simple, https://us-python.pkg.dev/colab-wheels/public/simple/\n",
            "Requirement already satisfied: gdown in /usr/local/lib/python3.8/dist-packages (4.4.0)\n",
            "Collecting gdown\n",
            "  Downloading gdown-4.6.0-py3-none-any.whl (14 kB)\n",
            "Requirement already satisfied: requests[socks] in /usr/local/lib/python3.8/dist-packages (from gdown) (2.23.0)\n",
            "Requirement already satisfied: six in /usr/local/lib/python3.8/dist-packages (from gdown) (1.15.0)\n",
            "Requirement already satisfied: beautifulsoup4 in /usr/local/lib/python3.8/dist-packages (from gdown) (4.6.3)\n",
            "Requirement already satisfied: filelock in /usr/local/lib/python3.8/dist-packages (from gdown) (3.8.2)\n",
            "Requirement already satisfied: tqdm in /usr/local/lib/python3.8/dist-packages (from gdown) (4.64.1)\n",
            "Requirement already satisfied: idna<3,>=2.5 in /usr/local/lib/python3.8/dist-packages (from requests[socks]->gdown) (2.10)\n",
            "Requirement already satisfied: chardet<4,>=3.0.2 in /usr/local/lib/python3.8/dist-packages (from requests[socks]->gdown) (3.0.4)\n",
            "Requirement already satisfied: urllib3!=1.25.0,!=1.25.1,<1.26,>=1.21.1 in /usr/local/lib/python3.8/dist-packages (from requests[socks]->gdown) (1.24.3)\n",
            "Requirement already satisfied: certifi>=2017.4.17 in /usr/local/lib/python3.8/dist-packages (from requests[socks]->gdown) (2022.12.7)\n",
            "Requirement already satisfied: PySocks!=1.5.7,>=1.5.6 in /usr/local/lib/python3.8/dist-packages (from requests[socks]->gdown) (1.7.1)\n",
            "Installing collected packages: gdown\n",
            "  Attempting uninstall: gdown\n",
            "    Found existing installation: gdown 4.4.0\n",
            "    Uninstalling gdown-4.4.0:\n",
            "      Successfully uninstalled gdown-4.4.0\n",
            "Successfully installed gdown-4.6.0\n",
            "/usr/local/lib/python3.8/dist-packages/gdown/cli.py:121: FutureWarning: Option `--id` was deprecated in version 4.3.1 and will be removed in 5.0. You don't need to pass it anymore to use a file ID.\n",
            "  warnings.warn(\n",
            "Downloading...\n",
            "From: https://drive.google.com/uc?id=16g9zgysQnWk7-353_tMig92KsZsrcM6k\n",
            "To: /content/drive/MyDrive/Handwriting-Transformers/files.zip\n",
            "100% 685M/685M [00:15<00:00, 44.4MB/s]\n",
            "Archive:  files.zip\n",
            "  inflating: files/cvl_model.pth     \n",
            "  inflating: files/CVL-32.pickle     \n",
            "  inflating: files/english_words.txt  \n",
            "  inflating: files/iam_model.pth     \n",
            "  inflating: files/IAM-32.pickle     \n"
          ]
        }
      ]
    },
    {
      "cell_type": "code",
      "execution_count": null,
      "metadata": {
        "id": "qCgH3y4Rqnap"
      },
      "outputs": [],
      "source": [
        "import os\n",
        "import time\n",
        "from data.dataset import TextDataset, TextDatasetval\n",
        "import torch\n",
        "import cv2\n",
        "import os\n",
        "import numpy as np\n",
        "from models.model import TRGAN\n",
        "from params import *\n",
        "from torch import nn\n",
        "from data.dataset import get_transform\n",
        "import pickle\n",
        "from PIL import Image\n",
        "import tqdm\n",
        "import shutil"
      ]
    },
    {
      "cell_type": "code",
      "execution_count": null,
      "metadata": {
        "id": "fPCYXZrlqnar"
      },
      "outputs": [],
      "source": [
        "text = \"Whenever you feel like criticizing anyone, just remember that all the people in this world haven't had the advantages that you've had\"\n",
        "output_path = 'results'"
      ]
    },
    {
      "cell_type": "code",
      "execution_count": null,
      "metadata": {
        "id": "E5Bo1qPlqnas"
      },
      "outputs": [],
      "source": [
        "model_path = 'files/iam_model.pth'; data_path = 'files/IAM-32.pickle' #(iam)\n",
        "# model_path = 'files/cvl_model.pth'; data_path = 'files/CVL-32.pickle' #(cvl)\n",
        "# model_path = 'files/iam_model.pth'; data_path = 'files/CVL-32.pickle' #(iam-cvl-cross)\n",
        "#model_path = 'files/cvl_model.pth'; data_path = 'files/IAM-32.pickle' #(cvl-iam-cross)#"
      ]
    },
    {
      "cell_type": "code",
      "execution_count": null,
      "metadata": {
        "id": "1ZH79QVnqnat",
        "outputId": "7bb16df2-c50c-4626-dffe-d1617f37dd4e",
        "colab": {
          "base_uri": "https://localhost:8080/"
        }
      },
      "outputs": [
        {
          "output_type": "stream",
          "name": "stdout",
          "text": [
            "(1) Loading dataset files...\n",
            "(2) Loading model...\n"
          ]
        },
        {
          "output_type": "stream",
          "name": "stderr",
          "text": [
            "/usr/local/lib/python3.8/dist-packages/torchvision/models/_utils.py:208: UserWarning: The parameter 'pretrained' is deprecated since 0.13 and may be removed in the future, please use 'weights' instead.\n",
            "  warnings.warn(\n",
            "/usr/local/lib/python3.8/dist-packages/torchvision/models/_utils.py:223: UserWarning: Arguments other than a weight enum or `None` for 'weights' are deprecated since 0.13 and may be removed in the future. The current behavior is equivalent to passing `weights=ResNet18_Weights.IMAGENET1K_V1`. You can also use `weights=ResNet18_Weights.DEFAULT` to get the most up-to-date weights.\n",
            "  warnings.warn(msg)\n"
          ]
        },
        {
          "output_type": "stream",
          "name": "stdout",
          "text": [
            "initialize network with N02\n",
            "initialize network with N02\n",
            "initialize network with N02\n"
          ]
        },
        {
          "output_type": "stream",
          "name": "stderr",
          "text": [
            "/usr/local/lib/python3.8/dist-packages/torchvision/models/_utils.py:223: UserWarning: Arguments other than a weight enum or `None` for 'weights' are deprecated since 0.13 and may be removed in the future. The current behavior is equivalent to passing `weights=None`.\n",
            "  warnings.warn(msg)\n",
            "/usr/local/lib/python3.8/dist-packages/torchvision/models/inception.py:43: FutureWarning: The default weight initialization of inception_v3 will be changed in future releases of torchvision. If you wish to keep the old behavior (which leads to long initialization times due to scipy/scipy#11299), please set init_weights=True.\n",
            "  warnings.warn(\n"
          ]
        },
        {
          "output_type": "stream",
          "name": "stdout",
          "text": [
            "files/iam_model.pth : Model loaded Successfully\n",
            "(3) Loading text content...\n"
          ]
        }
      ],
      "source": [
        "print ('(1) Loading dataset files...')\n",
        "\n",
        "TextDatasetObjval = TextDatasetval(base_path = data_path, num_examples = 15)\n",
        "datasetval = torch.utils.data.DataLoader(\n",
        "            TextDatasetObjval,\n",
        "            batch_size=batch_size,\n",
        "            shuffle=True,\n",
        "            num_workers=0,\n",
        "            pin_memory=True, drop_last=True,\n",
        "            collate_fn=TextDatasetObjval.collate_fn)\n",
        "\n",
        "print ('(2) Loading model...')\n",
        "\n",
        "model = TRGAN()\n",
        "model.netG.load_state_dict(torch.load(model_path))\n",
        "print (model_path+' : Model loaded Successfully')\n",
        "\n",
        "print ('(3) Loading text content...')\n",
        "text_encode =  [j.encode() for j in text.split(' ')]\n",
        "eval_text_encode, eval_len_text = model.netconverter.encode(text_encode)\n",
        "eval_text_encode = eval_text_encode.to('cuda:0').repeat(batch_size, 1, 1)\n"
      ]
    },
    {
      "cell_type": "code",
      "source": [
        "batch_size"
      ],
      "metadata": {
        "colab": {
          "base_uri": "https://localhost:8080/"
        },
        "id": "mhFkxfo0Lq4Z",
        "outputId": "60de8001-79e1-4bd6-b60c-bc31926cacbd"
      },
      "execution_count": null,
      "outputs": [
        {
          "output_type": "execute_result",
          "data": {
            "text/plain": [
              "8"
            ]
          },
          "metadata": {},
          "execution_count": 46
        }
      ]
    },
    {
      "cell_type": "code",
      "source": [
        "import numpy as np\n",
        "from PIL import Image\n",
        "import matplotlib.pyplot as plt\n",
        "from sklearn.preprocessing import StandardScaler\n",
        "\n",
        "%matplotlib inline"
      ],
      "metadata": {
        "id": "X6fWElUIZu_W"
      },
      "execution_count": null,
      "outputs": []
    },
    {
      "cell_type": "code",
      "source": [
        "import os\n",
        "file_list = os.listdir('/content/drive/MyDrive/Handwriting-Transformers/files/exp2/')"
      ],
      "metadata": {
        "id": "375nIJ0deUp-"
      },
      "execution_count": null,
      "outputs": []
    },
    {
      "cell_type": "code",
      "source": [
        "file_list"
      ],
      "metadata": {
        "colab": {
          "base_uri": "https://localhost:8080/"
        },
        "id": "Ej4jlWBKgVjc",
        "outputId": "fe7008cd-0e5b-4291-b6c5-96925f4cdfcc"
      },
      "execution_count": null,
      "outputs": [
        {
          "output_type": "execute_result",
          "data": {
            "text/plain": [
              "['2.png',\n",
              " '7.png',\n",
              " 'KakaoTalk_20221230_141737354_01.png',\n",
              " 'KakaoTalk_20221230_141737354.png',\n",
              " 'KakaoTalk_20221230_142116248_01.jpg',\n",
              " 'KakaoTalk_20221230_142116248.jpg',\n",
              " 'KakaoTalk_20221230_142340734.png',\n",
              " 'KakaoTalk_20221230_142531134.jpg']"
            ]
          },
          "metadata": {},
          "execution_count": 49
        }
      ]
    },
    {
      "cell_type": "code",
      "source": [],
      "metadata": {
        "id": "S_PgtQlpRMyF"
      },
      "execution_count": null,
      "outputs": []
    },
    {
      "cell_type": "code",
      "source": [
        "imgs_pad = []\n",
        "imgs_wids = []\n",
        "for i in range(len(file_list)):\n",
        "  img = Image.open(\"/content/drive/MyDrive/Handwriting-Transformers/files/exp2/\" + str(file_list[i]))\n",
        "  img = np.array(img)\n",
        "  img = img[:, :, 0]\n",
        "  scaler = StandardScaler()\n",
        "  img = scaler.fit_transform(img)\n",
        "  img = cv2.resize(img, (768, 32))\n",
        "  img = torch.Tensor(img).to(DEVICE)\n",
        "  temp = torch.stack((img, img, img, img, img, img, img, img, img, img, img, img, img, img, img), 0)\n",
        "  imgs_pad.append(temp)\n",
        "  imgs_wids.append(temp[:, 0, 0])"
      ],
      "metadata": {
        "id": "wYHmUmgOJ1fL"
      },
      "execution_count": null,
      "outputs": []
    },
    {
      "cell_type": "code",
      "source": [
        "img = torch.stack((imgs_pad[0], imgs_pad[1], imgs_pad[2], imgs_pad[3], imgs_pad[4], imgs_pad[5], imgs_pad[6], imgs_pad[7]), 0)"
      ],
      "metadata": {
        "id": "Eu7YrzuVbC9t"
      },
      "execution_count": null,
      "outputs": []
    },
    {
      "cell_type": "code",
      "source": [
        "img2 = torch.stack((imgs_wids[0], imgs_wids[1], imgs_wids[2], imgs_wids[3], imgs_wids[4], imgs_wids[5], imgs_wids[6], imgs_wids[7]), 0)"
      ],
      "metadata": {
        "id": "Ex7KWhb2bBI2"
      },
      "execution_count": null,
      "outputs": []
    },
    {
      "cell_type": "code",
      "source": [
        "print(batch_size, img.shape, img2.shape)"
      ],
      "metadata": {
        "colab": {
          "base_uri": "https://localhost:8080/"
        },
        "id": "1rrGWM6MROrj",
        "outputId": "02c2bbb1-8042-4c9a-d4c8-3c223f16a958"
      },
      "execution_count": null,
      "outputs": [
        {
          "output_type": "stream",
          "name": "stdout",
          "text": [
            "8 torch.Size([8, 15, 32, 768]) torch.Size([8, 15])\n"
          ]
        }
      ]
    },
    {
      "cell_type": "code",
      "source": [
        "page_val = model._generate_page(img, img2, eval_text_encode,eval_len_text)\n",
        "cv2.imwrite(output_path+'/image' + '20221230-exp5' + '.png', page_val*255)"
      ],
      "metadata": {
        "id": "1a8Q2gUONkHE",
        "colab": {
          "base_uri": "https://localhost:8080/"
        },
        "outputId": "8700549f-1431-4cf3-86e3-478e524d584d"
      },
      "execution_count": null,
      "outputs": [
        {
          "output_type": "execute_result",
          "data": {
            "text/plain": [
              "True"
            ]
          },
          "metadata": {},
          "execution_count": 55
        }
      ]
    },
    {
      "cell_type": "code",
      "source": [],
      "metadata": {
        "id": "eUyTe2v9V-n7"
      },
      "execution_count": null,
      "outputs": []
    },
    {
      "cell_type": "code",
      "source": [
        "imgs_wids[0].shape"
      ],
      "metadata": {
        "colab": {
          "base_uri": "https://localhost:8080/"
        },
        "id": "TFRI9TGZLyiq",
        "outputId": "a19aa376-0f41-488a-9d38-48d83cf4fb22"
      },
      "execution_count": null,
      "outputs": [
        {
          "output_type": "execute_result",
          "data": {
            "text/plain": [
              "torch.Size([15])"
            ]
          },
          "metadata": {},
          "execution_count": 52
        }
      ]
    },
    {
      "cell_type": "code",
      "source": [
        "imgs_pad[0].shape"
      ],
      "metadata": {
        "id": "EdoRYWzrLRQZ",
        "colab": {
          "base_uri": "https://localhost:8080/"
        },
        "outputId": "7ec07e6a-42e1-48f0-c262-67836bc3dba7"
      },
      "execution_count": null,
      "outputs": [
        {
          "output_type": "execute_result",
          "data": {
            "text/plain": [
              "torch.Size([15, 32, 768])"
            ]
          },
          "metadata": {},
          "execution_count": 51
        }
      ]
    }
  ],
  "metadata": {
    "interpreter": {
      "hash": "4c885012b6ee2fb005b46447812e9260e4ca86a559fe5f498946153523288731"
    },
    "kernelspec": {
      "display_name": "Python 3",
      "language": "python",
      "name": "python3"
    },
    "language_info": {
      "codemirror_mode": {
        "name": "ipython",
        "version": 3
      },
      "file_extension": ".py",
      "mimetype": "text/x-python",
      "name": "python",
      "nbconvert_exporter": "python",
      "pygments_lexer": "ipython3",
      "version": "3.8.5-final"
    },
    "orig_nbformat": 4,
    "colab": {
      "provenance": []
    },
    "accelerator": "GPU"
  },
  "nbformat": 4,
  "nbformat_minor": 0
}