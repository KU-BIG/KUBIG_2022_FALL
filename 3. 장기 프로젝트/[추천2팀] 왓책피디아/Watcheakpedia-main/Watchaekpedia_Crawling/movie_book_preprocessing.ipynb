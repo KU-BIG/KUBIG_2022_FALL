{
  "nbformat": 4,
  "nbformat_minor": 0,
  "metadata": {
    "colab": {
      "provenance": []
    },
    "kernelspec": {
      "name": "python3",
      "display_name": "Python 3"
    },
    "language_info": {
      "name": "python"
    }
  },
  "cells": [
    {
      "cell_type": "code",
      "source": [
        "from google.colab import drive\n",
        "drive.mount('/content/drive')"
      ],
      "metadata": {
        "colab": {
          "base_uri": "https://localhost:8080/"
        },
        "id": "JZCeSqyCW_QM",
        "outputId": "66e41a40-8f77-4473-b9b0-c0da04bf1b6a"
      },
      "execution_count": null,
      "outputs": [
        {
          "output_type": "stream",
          "name": "stdout",
          "text": [
            "Mounted at /content/drive\n"
          ]
        }
      ]
    },
    {
      "cell_type": "code",
      "execution_count": null,
      "metadata": {
        "id": "nqYtb6-SW3VL"
      },
      "outputs": [],
      "source": [
        "import pandas as pd\n",
        "import numpy as np\n",
        "import warnings; warnings.filterwarnings('ignore')"
      ]
    },
    {
      "cell_type": "code",
      "source": [
        "book = pd.read_csv(\"/content/drive/Shareddrives/2022-2 KUBIG 추천시스템/2팀/6주차/도서 추천시스템/Watchapedia_book_DB_added2.csv\", encoding='cp949')\n",
        "movie = pd.read_csv(\"/content/drive/Shareddrives/2022-2 KUBIG 추천시스템/2팀/6주차/도서 추천시스템/Movie_DB_added2.csv\", encoding='cp949')"
      ],
      "metadata": {
        "id": "b8oFnMmmXTXe"
      },
      "execution_count": null,
      "outputs": []
    },
    {
      "cell_type": "code",
      "source": [
        "movie.info()"
      ],
      "metadata": {
        "colab": {
          "base_uri": "https://localhost:8080/"
        },
        "id": "JFsSS6w-XgRy",
        "outputId": "192497e2-27ee-4a7f-8e90-03b5e2f09176"
      },
      "execution_count": null,
      "outputs": [
        {
          "output_type": "stream",
          "name": "stdout",
          "text": [
            "<class 'pandas.core.frame.DataFrame'>\n",
            "RangeIndex: 2244 entries, 0 to 2243\n",
            "Data columns (total 10 columns):\n",
            " #   Column   Non-Null Count  Dtype  \n",
            "---  ------   --------------  -----  \n",
            " 0   Column1  2244 non-null   int64  \n",
            " 1   제목       2244 non-null   object \n",
            " 2   원제       2244 non-null   object \n",
            " 3   제작연도     2243 non-null   float64\n",
            " 4   국가       2244 non-null   object \n",
            " 5   장르       2215 non-null   object \n",
            " 6   상영시간     2244 non-null   object \n",
            " 7   연령등급     2145 non-null   object \n",
            " 8   내용       2244 non-null   object \n",
            " 9   리뷰       2244 non-null   object \n",
            "dtypes: float64(1), int64(1), object(8)\n",
            "memory usage: 175.4+ KB\n"
          ]
        }
      ]
    },
    {
      "cell_type": "code",
      "source": [
        "movie=movie.drop(columns=['Column1', '원제', '국가', '상영시간', '연령등급', '리뷰'])"
      ],
      "metadata": {
        "id": "1OgETgO2XowH"
      },
      "execution_count": null,
      "outputs": []
    },
    {
      "cell_type": "code",
      "source": [
        "movie.info()"
      ],
      "metadata": {
        "colab": {
          "base_uri": "https://localhost:8080/"
        },
        "id": "Ryr7_8tdexsC",
        "outputId": "3d072b87-2e15-41e8-81b5-8fdfb67b9721"
      },
      "execution_count": null,
      "outputs": [
        {
          "output_type": "stream",
          "name": "stdout",
          "text": [
            "<class 'pandas.core.frame.DataFrame'>\n",
            "RangeIndex: 2244 entries, 0 to 2243\n",
            "Data columns (total 4 columns):\n",
            " #   Column  Non-Null Count  Dtype  \n",
            "---  ------  --------------  -----  \n",
            " 0   제목      2244 non-null   object \n",
            " 1   제작연도    2243 non-null   float64\n",
            " 2   장르      2215 non-null   object \n",
            " 3   내용      2244 non-null   object \n",
            "dtypes: float64(1), object(3)\n",
            "memory usage: 70.2+ KB\n"
          ]
        }
      ]
    },
    {
      "cell_type": "code",
      "source": [
        "book.info()"
      ],
      "metadata": {
        "id": "UD0N8He4ey_U"
      },
      "execution_count": null,
      "outputs": []
    },
    {
      "cell_type": "code",
      "source": [
        "book=book.drop(columns=['Column1', '부제', '저자', '페이지수', '연령등급','리뷰'])"
      ],
      "metadata": {
        "id": "K6VNEdwae3-Y"
      },
      "execution_count": null,
      "outputs": []
    },
    {
      "cell_type": "code",
      "source": [
        "book.info()"
      ],
      "metadata": {
        "colab": {
          "base_uri": "https://localhost:8080/"
        },
        "id": "Ukx6FozCft8j",
        "outputId": "340a8a7d-fe4a-49b1-e9e7-c374a4bc1c6d"
      },
      "execution_count": null,
      "outputs": [
        {
          "output_type": "stream",
          "name": "stdout",
          "text": [
            "<class 'pandas.core.frame.DataFrame'>\n",
            "RangeIndex: 210 entries, 0 to 209\n",
            "Data columns (total 4 columns):\n",
            " #   Column  Non-Null Count  Dtype \n",
            "---  ------  --------------  ----- \n",
            " 0   제목      210 non-null    object\n",
            " 1   카테고리    210 non-null    object\n",
            " 2   출간연도    210 non-null    int64 \n",
            " 3   내용      210 non-null    object\n",
            "dtypes: int64(1), object(3)\n",
            "memory usage: 6.7+ KB\n"
          ]
        }
      ]
    },
    {
      "cell_type": "code",
      "source": [
        "book=book[['제목', '출간연도', '카테고리', '내용']]\n",
        "book.info()"
      ],
      "metadata": {
        "id": "-I6H7HkKfu7D"
      },
      "execution_count": null,
      "outputs": []
    },
    {
      "cell_type": "code",
      "source": [
        "movie.columns=['제목', '연도', '카테고리', '내용']\n",
        "book.columns=['제목', '연도', '카테고리', '내용']"
      ],
      "metadata": {
        "id": "qQiNODXQhEXz"
      },
      "execution_count": null,
      "outputs": []
    },
    {
      "cell_type": "code",
      "source": [
        "movie.info()"
      ],
      "metadata": {
        "colab": {
          "base_uri": "https://localhost:8080/"
        },
        "id": "8NjUquVyhX1E",
        "outputId": "bb1db0cb-ac8d-4d73-9f58-0d3158635714"
      },
      "execution_count": null,
      "outputs": [
        {
          "output_type": "stream",
          "name": "stdout",
          "text": [
            "<class 'pandas.core.frame.DataFrame'>\n",
            "RangeIndex: 2244 entries, 0 to 2243\n",
            "Data columns (total 4 columns):\n",
            " #   Column  Non-Null Count  Dtype  \n",
            "---  ------  --------------  -----  \n",
            " 0   제목      2244 non-null   object \n",
            " 1   연도      2243 non-null   float64\n",
            " 2   카테고리    2215 non-null   object \n",
            " 3   내용      2244 non-null   object \n",
            "dtypes: float64(1), object(3)\n",
            "memory usage: 70.2+ KB\n"
          ]
        }
      ]
    },
    {
      "cell_type": "code",
      "source": [
        "book.info()"
      ],
      "metadata": {
        "colab": {
          "base_uri": "https://localhost:8080/"
        },
        "id": "AOzlxhNBhcrq",
        "outputId": "0220f6d8-2964-4446-ea5b-8c64a8d2a5ea"
      },
      "execution_count": null,
      "outputs": [
        {
          "output_type": "stream",
          "name": "stdout",
          "text": [
            "<class 'pandas.core.frame.DataFrame'>\n",
            "RangeIndex: 210 entries, 0 to 209\n",
            "Data columns (total 4 columns):\n",
            " #   Column  Non-Null Count  Dtype \n",
            "---  ------  --------------  ----- \n",
            " 0   제목      210 non-null    object\n",
            " 1   연도      210 non-null    int64 \n",
            " 2   카테고리    210 non-null    object\n",
            " 3   내용      210 non-null    object\n",
            "dtypes: int64(1), object(3)\n",
            "memory usage: 6.7+ KB\n"
          ]
        }
      ]
    },
    {
      "cell_type": "code",
      "source": [
        "movie['제목']=movie['제목']+\"*\"\n",
        "movie.head()"
      ],
      "metadata": {
        "colab": {
          "base_uri": "https://localhost:8080/",
          "height": 206
        },
        "id": "OOyueH0Lhexy",
        "outputId": "290908dd-a838-4cd2-aef7-039f8818db3f"
      },
      "execution_count": null,
      "outputs": [
        {
          "output_type": "execute_result",
          "data": {
            "text/plain": [
              "             제목      연도       카테고리  \\\n",
              "0  물방울을 그리는 남자*  2020.0      다큐멘터리   \n",
              "1        2차 송환*  2022.0      다큐멘터리   \n",
              "2      달이 지는 밤*  2020.0         모험   \n",
              "3         썬더버드*  2021.0      범죄/액션   \n",
              "4         기기묘묘*  2022.0  공포/액션/스릴러   \n",
              "\n",
              "                                                  내용  \n",
              "0  50년간 묵묵히 '물방울'만을 그리며?물방울 작가로 사랑받은 화가 김창열. 침묵과 ...  \n",
              "1  \"한국전쟁은 아직 끝나지 않았다!\"?\\n\\n현재까지 남과 북은 정치 공작원들을 상호...  \n",
              "2  중년의 여인이 무주 시외버스 터미널에서 내린다. 그녀는 마을길을 지나 숲으로 들어간...  \n",
              "3  돈이 미치게 필요한 태균\\n돈이 든 자동차를 잃어버린 태민\\n돈은 중요하지 않은 미...  \n",
              "4  땅을 둘러 싼 이웃들의 다툼,?엄마와 딸의 기이한 관계,?낙향한 청년과 괴인의 기묘...  "
            ],
            "text/html": [
              "\n",
              "  <div id=\"df-d207d896-3a78-4ae4-a80c-3179a1ffc448\">\n",
              "    <div class=\"colab-df-container\">\n",
              "      <div>\n",
              "<style scoped>\n",
              "    .dataframe tbody tr th:only-of-type {\n",
              "        vertical-align: middle;\n",
              "    }\n",
              "\n",
              "    .dataframe tbody tr th {\n",
              "        vertical-align: top;\n",
              "    }\n",
              "\n",
              "    .dataframe thead th {\n",
              "        text-align: right;\n",
              "    }\n",
              "</style>\n",
              "<table border=\"1\" class=\"dataframe\">\n",
              "  <thead>\n",
              "    <tr style=\"text-align: right;\">\n",
              "      <th></th>\n",
              "      <th>제목</th>\n",
              "      <th>연도</th>\n",
              "      <th>카테고리</th>\n",
              "      <th>내용</th>\n",
              "    </tr>\n",
              "  </thead>\n",
              "  <tbody>\n",
              "    <tr>\n",
              "      <th>0</th>\n",
              "      <td>물방울을 그리는 남자*</td>\n",
              "      <td>2020.0</td>\n",
              "      <td>다큐멘터리</td>\n",
              "      <td>50년간 묵묵히 '물방울'만을 그리며?물방울 작가로 사랑받은 화가 김창열. 침묵과 ...</td>\n",
              "    </tr>\n",
              "    <tr>\n",
              "      <th>1</th>\n",
              "      <td>2차 송환*</td>\n",
              "      <td>2022.0</td>\n",
              "      <td>다큐멘터리</td>\n",
              "      <td>\"한국전쟁은 아직 끝나지 않았다!\"?\\n\\n현재까지 남과 북은 정치 공작원들을 상호...</td>\n",
              "    </tr>\n",
              "    <tr>\n",
              "      <th>2</th>\n",
              "      <td>달이 지는 밤*</td>\n",
              "      <td>2020.0</td>\n",
              "      <td>모험</td>\n",
              "      <td>중년의 여인이 무주 시외버스 터미널에서 내린다. 그녀는 마을길을 지나 숲으로 들어간...</td>\n",
              "    </tr>\n",
              "    <tr>\n",
              "      <th>3</th>\n",
              "      <td>썬더버드*</td>\n",
              "      <td>2021.0</td>\n",
              "      <td>범죄/액션</td>\n",
              "      <td>돈이 미치게 필요한 태균\\n돈이 든 자동차를 잃어버린 태민\\n돈은 중요하지 않은 미...</td>\n",
              "    </tr>\n",
              "    <tr>\n",
              "      <th>4</th>\n",
              "      <td>기기묘묘*</td>\n",
              "      <td>2022.0</td>\n",
              "      <td>공포/액션/스릴러</td>\n",
              "      <td>땅을 둘러 싼 이웃들의 다툼,?엄마와 딸의 기이한 관계,?낙향한 청년과 괴인의 기묘...</td>\n",
              "    </tr>\n",
              "  </tbody>\n",
              "</table>\n",
              "</div>\n",
              "      <button class=\"colab-df-convert\" onclick=\"convertToInteractive('df-d207d896-3a78-4ae4-a80c-3179a1ffc448')\"\n",
              "              title=\"Convert this dataframe to an interactive table.\"\n",
              "              style=\"display:none;\">\n",
              "        \n",
              "  <svg xmlns=\"http://www.w3.org/2000/svg\" height=\"24px\"viewBox=\"0 0 24 24\"\n",
              "       width=\"24px\">\n",
              "    <path d=\"M0 0h24v24H0V0z\" fill=\"none\"/>\n",
              "    <path d=\"M18.56 5.44l.94 2.06.94-2.06 2.06-.94-2.06-.94-.94-2.06-.94 2.06-2.06.94zm-11 1L8.5 8.5l.94-2.06 2.06-.94-2.06-.94L8.5 2.5l-.94 2.06-2.06.94zm10 10l.94 2.06.94-2.06 2.06-.94-2.06-.94-.94-2.06-.94 2.06-2.06.94z\"/><path d=\"M17.41 7.96l-1.37-1.37c-.4-.4-.92-.59-1.43-.59-.52 0-1.04.2-1.43.59L10.3 9.45l-7.72 7.72c-.78.78-.78 2.05 0 2.83L4 21.41c.39.39.9.59 1.41.59.51 0 1.02-.2 1.41-.59l7.78-7.78 2.81-2.81c.8-.78.8-2.07 0-2.86zM5.41 20L4 18.59l7.72-7.72 1.47 1.35L5.41 20z\"/>\n",
              "  </svg>\n",
              "      </button>\n",
              "      \n",
              "  <style>\n",
              "    .colab-df-container {\n",
              "      display:flex;\n",
              "      flex-wrap:wrap;\n",
              "      gap: 12px;\n",
              "    }\n",
              "\n",
              "    .colab-df-convert {\n",
              "      background-color: #E8F0FE;\n",
              "      border: none;\n",
              "      border-radius: 50%;\n",
              "      cursor: pointer;\n",
              "      display: none;\n",
              "      fill: #1967D2;\n",
              "      height: 32px;\n",
              "      padding: 0 0 0 0;\n",
              "      width: 32px;\n",
              "    }\n",
              "\n",
              "    .colab-df-convert:hover {\n",
              "      background-color: #E2EBFA;\n",
              "      box-shadow: 0px 1px 2px rgba(60, 64, 67, 0.3), 0px 1px 3px 1px rgba(60, 64, 67, 0.15);\n",
              "      fill: #174EA6;\n",
              "    }\n",
              "\n",
              "    [theme=dark] .colab-df-convert {\n",
              "      background-color: #3B4455;\n",
              "      fill: #D2E3FC;\n",
              "    }\n",
              "\n",
              "    [theme=dark] .colab-df-convert:hover {\n",
              "      background-color: #434B5C;\n",
              "      box-shadow: 0px 1px 3px 1px rgba(0, 0, 0, 0.15);\n",
              "      filter: drop-shadow(0px 1px 2px rgba(0, 0, 0, 0.3));\n",
              "      fill: #FFFFFF;\n",
              "    }\n",
              "  </style>\n",
              "\n",
              "      <script>\n",
              "        const buttonEl =\n",
              "          document.querySelector('#df-d207d896-3a78-4ae4-a80c-3179a1ffc448 button.colab-df-convert');\n",
              "        buttonEl.style.display =\n",
              "          google.colab.kernel.accessAllowed ? 'block' : 'none';\n",
              "\n",
              "        async function convertToInteractive(key) {\n",
              "          const element = document.querySelector('#df-d207d896-3a78-4ae4-a80c-3179a1ffc448');\n",
              "          const dataTable =\n",
              "            await google.colab.kernel.invokeFunction('convertToInteractive',\n",
              "                                                     [key], {});\n",
              "          if (!dataTable) return;\n",
              "\n",
              "          const docLinkHtml = 'Like what you see? Visit the ' +\n",
              "            '<a target=\"_blank\" href=https://colab.research.google.com/notebooks/data_table.ipynb>data table notebook</a>'\n",
              "            + ' to learn more about interactive tables.';\n",
              "          element.innerHTML = '';\n",
              "          dataTable['output_type'] = 'display_data';\n",
              "          await google.colab.output.renderOutput(dataTable, element);\n",
              "          const docLink = document.createElement('div');\n",
              "          docLink.innerHTML = docLinkHtml;\n",
              "          element.appendChild(docLink);\n",
              "        }\n",
              "      </script>\n",
              "    </div>\n",
              "  </div>\n",
              "  "
            ]
          },
          "metadata": {},
          "execution_count": 23
        }
      ]
    },
    {
      "cell_type": "code",
      "source": [
        "movieplusbook=pd.concat([movie, book])\n",
        "movieplusbook"
      ],
      "metadata": {
        "colab": {
          "base_uri": "https://localhost:8080/",
          "height": 424
        },
        "id": "CH5Z7Ppoh38q",
        "outputId": "314496b0-0f45-488e-a91c-d9a414c2ce11"
      },
      "execution_count": null,
      "outputs": [
        {
          "output_type": "execute_result",
          "data": {
            "text/plain": [
              "                제목      연도       카테고리  \\\n",
              "0     물방울을 그리는 남자*  2020.0      다큐멘터리   \n",
              "1           2차 송환*  2022.0      다큐멘터리   \n",
              "2         달이 지는 밤*  2020.0         모험   \n",
              "3            썬더버드*  2021.0      범죄/액션   \n",
              "4            기기묘묘*  2022.0  공포/액션/스릴러   \n",
              "..             ...     ...        ...   \n",
              "205             0년  2016.0      역사/문화   \n",
              "206       아날로그의 반격  2017.0       사회과학   \n",
              "207  마이클 케인의 연기 수업  2017.0    예술/대중문화   \n",
              "208       아프리카 우화집  2009.0         소설   \n",
              "209          노마드랜드  2021.0       사회과학   \n",
              "\n",
              "                                                    내용  \n",
              "0    50년간 묵묵히 '물방울'만을 그리며?물방울 작가로 사랑받은 화가 김창열. 침묵과 ...  \n",
              "1    \"한국전쟁은 아직 끝나지 않았다!\"?\\n\\n현재까지 남과 북은 정치 공작원들을 상호...  \n",
              "2    중년의 여인이 무주 시외버스 터미널에서 내린다. 그녀는 마을길을 지나 숲으로 들어간...  \n",
              "3    돈이 미치게 필요한 태균\\n돈이 든 자동차를 잃어버린 태민\\n돈은 중요하지 않은 미...  \n",
              "4    땅을 둘러 싼 이웃들의 다툼,?엄마와 딸의 기이한 관계,?낙향한 청년과 괴인의 기묘...  \n",
              "..                                                 ...  \n",
              "205  1945년이라는 한 해를 대상으로 세계사를 써내려간 독특한 역사서이자 논픽션 다큐멘...  \n",
              "206  디지털 라이프가 영구적인 현실이 된 지금, 새로운 얼굴을 한 아날로그가 유행하기 시...  \n",
              "207  세계적인 명배우 마이클 케인이 배우를 꿈꾸는 이들에게 자신의 연기 노하우를 생생하게...  \n",
              "208  야생의 땅 아프리카가 들려주는 옛이야기 스물아홉 편을 우화집으로 엮었다. 아프리카 ...  \n",
              "209  미국에서 고정된 주거지 없이 자동차에서 살며 저임금 떠돌이 노동을 하는 사람들의 삶...  \n",
              "\n",
              "[2454 rows x 4 columns]"
            ],
            "text/html": [
              "\n",
              "  <div id=\"df-9e78e4e5-8cc1-4e2a-b0f3-0da67f82299b\">\n",
              "    <div class=\"colab-df-container\">\n",
              "      <div>\n",
              "<style scoped>\n",
              "    .dataframe tbody tr th:only-of-type {\n",
              "        vertical-align: middle;\n",
              "    }\n",
              "\n",
              "    .dataframe tbody tr th {\n",
              "        vertical-align: top;\n",
              "    }\n",
              "\n",
              "    .dataframe thead th {\n",
              "        text-align: right;\n",
              "    }\n",
              "</style>\n",
              "<table border=\"1\" class=\"dataframe\">\n",
              "  <thead>\n",
              "    <tr style=\"text-align: right;\">\n",
              "      <th></th>\n",
              "      <th>제목</th>\n",
              "      <th>연도</th>\n",
              "      <th>카테고리</th>\n",
              "      <th>내용</th>\n",
              "    </tr>\n",
              "  </thead>\n",
              "  <tbody>\n",
              "    <tr>\n",
              "      <th>0</th>\n",
              "      <td>물방울을 그리는 남자*</td>\n",
              "      <td>2020.0</td>\n",
              "      <td>다큐멘터리</td>\n",
              "      <td>50년간 묵묵히 '물방울'만을 그리며?물방울 작가로 사랑받은 화가 김창열. 침묵과 ...</td>\n",
              "    </tr>\n",
              "    <tr>\n",
              "      <th>1</th>\n",
              "      <td>2차 송환*</td>\n",
              "      <td>2022.0</td>\n",
              "      <td>다큐멘터리</td>\n",
              "      <td>\"한국전쟁은 아직 끝나지 않았다!\"?\\n\\n현재까지 남과 북은 정치 공작원들을 상호...</td>\n",
              "    </tr>\n",
              "    <tr>\n",
              "      <th>2</th>\n",
              "      <td>달이 지는 밤*</td>\n",
              "      <td>2020.0</td>\n",
              "      <td>모험</td>\n",
              "      <td>중년의 여인이 무주 시외버스 터미널에서 내린다. 그녀는 마을길을 지나 숲으로 들어간...</td>\n",
              "    </tr>\n",
              "    <tr>\n",
              "      <th>3</th>\n",
              "      <td>썬더버드*</td>\n",
              "      <td>2021.0</td>\n",
              "      <td>범죄/액션</td>\n",
              "      <td>돈이 미치게 필요한 태균\\n돈이 든 자동차를 잃어버린 태민\\n돈은 중요하지 않은 미...</td>\n",
              "    </tr>\n",
              "    <tr>\n",
              "      <th>4</th>\n",
              "      <td>기기묘묘*</td>\n",
              "      <td>2022.0</td>\n",
              "      <td>공포/액션/스릴러</td>\n",
              "      <td>땅을 둘러 싼 이웃들의 다툼,?엄마와 딸의 기이한 관계,?낙향한 청년과 괴인의 기묘...</td>\n",
              "    </tr>\n",
              "    <tr>\n",
              "      <th>...</th>\n",
              "      <td>...</td>\n",
              "      <td>...</td>\n",
              "      <td>...</td>\n",
              "      <td>...</td>\n",
              "    </tr>\n",
              "    <tr>\n",
              "      <th>205</th>\n",
              "      <td>0년</td>\n",
              "      <td>2016.0</td>\n",
              "      <td>역사/문화</td>\n",
              "      <td>1945년이라는 한 해를 대상으로 세계사를 써내려간 독특한 역사서이자 논픽션 다큐멘...</td>\n",
              "    </tr>\n",
              "    <tr>\n",
              "      <th>206</th>\n",
              "      <td>아날로그의 반격</td>\n",
              "      <td>2017.0</td>\n",
              "      <td>사회과학</td>\n",
              "      <td>디지털 라이프가 영구적인 현실이 된 지금, 새로운 얼굴을 한 아날로그가 유행하기 시...</td>\n",
              "    </tr>\n",
              "    <tr>\n",
              "      <th>207</th>\n",
              "      <td>마이클 케인의 연기 수업</td>\n",
              "      <td>2017.0</td>\n",
              "      <td>예술/대중문화</td>\n",
              "      <td>세계적인 명배우 마이클 케인이 배우를 꿈꾸는 이들에게 자신의 연기 노하우를 생생하게...</td>\n",
              "    </tr>\n",
              "    <tr>\n",
              "      <th>208</th>\n",
              "      <td>아프리카 우화집</td>\n",
              "      <td>2009.0</td>\n",
              "      <td>소설</td>\n",
              "      <td>야생의 땅 아프리카가 들려주는 옛이야기 스물아홉 편을 우화집으로 엮었다. 아프리카 ...</td>\n",
              "    </tr>\n",
              "    <tr>\n",
              "      <th>209</th>\n",
              "      <td>노마드랜드</td>\n",
              "      <td>2021.0</td>\n",
              "      <td>사회과학</td>\n",
              "      <td>미국에서 고정된 주거지 없이 자동차에서 살며 저임금 떠돌이 노동을 하는 사람들의 삶...</td>\n",
              "    </tr>\n",
              "  </tbody>\n",
              "</table>\n",
              "<p>2454 rows × 4 columns</p>\n",
              "</div>\n",
              "      <button class=\"colab-df-convert\" onclick=\"convertToInteractive('df-9e78e4e5-8cc1-4e2a-b0f3-0da67f82299b')\"\n",
              "              title=\"Convert this dataframe to an interactive table.\"\n",
              "              style=\"display:none;\">\n",
              "        \n",
              "  <svg xmlns=\"http://www.w3.org/2000/svg\" height=\"24px\"viewBox=\"0 0 24 24\"\n",
              "       width=\"24px\">\n",
              "    <path d=\"M0 0h24v24H0V0z\" fill=\"none\"/>\n",
              "    <path d=\"M18.56 5.44l.94 2.06.94-2.06 2.06-.94-2.06-.94-.94-2.06-.94 2.06-2.06.94zm-11 1L8.5 8.5l.94-2.06 2.06-.94-2.06-.94L8.5 2.5l-.94 2.06-2.06.94zm10 10l.94 2.06.94-2.06 2.06-.94-2.06-.94-.94-2.06-.94 2.06-2.06.94z\"/><path d=\"M17.41 7.96l-1.37-1.37c-.4-.4-.92-.59-1.43-.59-.52 0-1.04.2-1.43.59L10.3 9.45l-7.72 7.72c-.78.78-.78 2.05 0 2.83L4 21.41c.39.39.9.59 1.41.59.51 0 1.02-.2 1.41-.59l7.78-7.78 2.81-2.81c.8-.78.8-2.07 0-2.86zM5.41 20L4 18.59l7.72-7.72 1.47 1.35L5.41 20z\"/>\n",
              "  </svg>\n",
              "      </button>\n",
              "      \n",
              "  <style>\n",
              "    .colab-df-container {\n",
              "      display:flex;\n",
              "      flex-wrap:wrap;\n",
              "      gap: 12px;\n",
              "    }\n",
              "\n",
              "    .colab-df-convert {\n",
              "      background-color: #E8F0FE;\n",
              "      border: none;\n",
              "      border-radius: 50%;\n",
              "      cursor: pointer;\n",
              "      display: none;\n",
              "      fill: #1967D2;\n",
              "      height: 32px;\n",
              "      padding: 0 0 0 0;\n",
              "      width: 32px;\n",
              "    }\n",
              "\n",
              "    .colab-df-convert:hover {\n",
              "      background-color: #E2EBFA;\n",
              "      box-shadow: 0px 1px 2px rgba(60, 64, 67, 0.3), 0px 1px 3px 1px rgba(60, 64, 67, 0.15);\n",
              "      fill: #174EA6;\n",
              "    }\n",
              "\n",
              "    [theme=dark] .colab-df-convert {\n",
              "      background-color: #3B4455;\n",
              "      fill: #D2E3FC;\n",
              "    }\n",
              "\n",
              "    [theme=dark] .colab-df-convert:hover {\n",
              "      background-color: #434B5C;\n",
              "      box-shadow: 0px 1px 3px 1px rgba(0, 0, 0, 0.15);\n",
              "      filter: drop-shadow(0px 1px 2px rgba(0, 0, 0, 0.3));\n",
              "      fill: #FFFFFF;\n",
              "    }\n",
              "  </style>\n",
              "\n",
              "      <script>\n",
              "        const buttonEl =\n",
              "          document.querySelector('#df-9e78e4e5-8cc1-4e2a-b0f3-0da67f82299b button.colab-df-convert');\n",
              "        buttonEl.style.display =\n",
              "          google.colab.kernel.accessAllowed ? 'block' : 'none';\n",
              "\n",
              "        async function convertToInteractive(key) {\n",
              "          const element = document.querySelector('#df-9e78e4e5-8cc1-4e2a-b0f3-0da67f82299b');\n",
              "          const dataTable =\n",
              "            await google.colab.kernel.invokeFunction('convertToInteractive',\n",
              "                                                     [key], {});\n",
              "          if (!dataTable) return;\n",
              "\n",
              "          const docLinkHtml = 'Like what you see? Visit the ' +\n",
              "            '<a target=\"_blank\" href=https://colab.research.google.com/notebooks/data_table.ipynb>data table notebook</a>'\n",
              "            + ' to learn more about interactive tables.';\n",
              "          element.innerHTML = '';\n",
              "          dataTable['output_type'] = 'display_data';\n",
              "          await google.colab.output.renderOutput(dataTable, element);\n",
              "          const docLink = document.createElement('div');\n",
              "          docLink.innerHTML = docLinkHtml;\n",
              "          element.appendChild(docLink);\n",
              "        }\n",
              "      </script>\n",
              "    </div>\n",
              "  </div>\n",
              "  "
            ]
          },
          "metadata": {},
          "execution_count": 24
        }
      ]
    },
    {
      "cell_type": "code",
      "source": [
        "address='/content/drive/Shareddrives/2022-2 KUBIG 추천시스템/2팀/7주차/'"
      ],
      "metadata": {
        "id": "bNJGdxggin8F"
      },
      "execution_count": null,
      "outputs": []
    },
    {
      "cell_type": "code",
      "source": [
        "movieplusbook.to_csv(path_or_buf=address+'movie+book.csv')"
      ],
      "metadata": {
        "id": "v1kR0ez6jFTz"
      },
      "execution_count": null,
      "outputs": []
    }
  ]
}
