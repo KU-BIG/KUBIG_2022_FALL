{
  "nbformat": 4,
  "nbformat_minor": 0,
  "metadata": {
    "colab": {
      "provenance": []
    },
    "kernelspec": {
      "name": "python3",
      "display_name": "Python 3"
    },
    "language_info": {
      "name": "python"
    }
  },
  "cells": [
    {
      "cell_type": "markdown",
      "source": [
        "https://aeda.tistory.com/16 \n"
      ],
      "metadata": {
        "id": "PkiXHvk40NXe"
      }
    },
    {
      "cell_type": "markdown",
      "source": [],
      "metadata": {
        "id": "97TZ3-Mo0Loz"
      }
    },
    {
      "cell_type": "code",
      "source": [
        "import numpy as np\n",
        "import pandas as pd\n",
        "\n",
        "from bs4 import BeautifulSoup\n",
        "from sklearn.feature_extraction.text import CountVectorizer,TfidfVectorizer"
      ],
      "metadata": {
        "id": "x4_Xidvxv3zT"
      },
      "execution_count": null,
      "outputs": []
    },
    {
      "cell_type": "code",
      "source": [
        "!pip install konlpy"
      ],
      "metadata": {
        "colab": {
          "base_uri": "https://localhost:8080/"
        },
        "id": "yXyHLOcvAkRK",
        "outputId": "f60e91c3-93e3-4a54-e4a6-5e54998c58a6"
      },
      "execution_count": null,
      "outputs": [
        {
          "output_type": "stream",
          "name": "stdout",
          "text": [
            "Looking in indexes: https://pypi.org/simple, https://us-python.pkg.dev/colab-wheels/public/simple/\n",
            "Collecting konlpy\n",
            "  Downloading konlpy-0.6.0-py2.py3-none-any.whl (19.4 MB)\n",
            "\u001b[K     |████████████████████████████████| 19.4 MB 970 kB/s \n",
            "\u001b[?25hRequirement already satisfied: lxml>=4.1.0 in /usr/local/lib/python3.7/dist-packages (from konlpy) (4.9.1)\n",
            "Collecting JPype1>=0.7.0\n",
            "  Downloading JPype1-1.4.1-cp37-cp37m-manylinux_2_12_x86_64.manylinux2010_x86_64.whl (465 kB)\n",
            "\u001b[K     |████████████████████████████████| 465 kB 58.8 MB/s \n",
            "\u001b[?25hRequirement already satisfied: numpy>=1.6 in /usr/local/lib/python3.7/dist-packages (from konlpy) (1.21.6)\n",
            "Requirement already satisfied: packaging in /usr/local/lib/python3.7/dist-packages (from JPype1>=0.7.0->konlpy) (21.3)\n",
            "Requirement already satisfied: typing-extensions in /usr/local/lib/python3.7/dist-packages (from JPype1>=0.7.0->konlpy) (4.1.1)\n",
            "Requirement already satisfied: pyparsing!=3.0.5,>=2.0.2 in /usr/local/lib/python3.7/dist-packages (from packaging->JPype1>=0.7.0->konlpy) (3.0.9)\n",
            "Installing collected packages: JPype1, konlpy\n",
            "Successfully installed JPype1-1.4.1 konlpy-0.6.0\n"
          ]
        }
      ]
    },
    {
      "cell_type": "code",
      "source": [
        "book = pd.read_csv('/content/drive/Shareddrives/2022-2 KUBIG 추천시스템/2팀/6주차/도서 추천시스템/Movie_DB_added2.csv', encoding='cp949') #한국어 포함된 데이터"
      ],
      "metadata": {
        "id": "FHgfAxPfv2Tf"
      },
      "execution_count": null,
      "outputs": []
    },
    {
      "cell_type": "code",
      "source": [
        "book.info()"
      ],
      "metadata": {
        "colab": {
          "base_uri": "https://localhost:8080/"
        },
        "id": "JSoP0Oh3wV1K",
        "outputId": "834ff555-0163-49bc-e599-b5db7de8b496"
      },
      "execution_count": null,
      "outputs": [
        {
          "output_type": "stream",
          "name": "stdout",
          "text": [
            "<class 'pandas.core.frame.DataFrame'>\n",
            "RangeIndex: 2244 entries, 0 to 2243\n",
            "Data columns (total 10 columns):\n",
            " #   Column   Non-Null Count  Dtype  \n",
            "---  ------   --------------  -----  \n",
            " 0   Column1  2244 non-null   int64  \n",
            " 1   제목       2244 non-null   object \n",
            " 2   원제       2244 non-null   object \n",
            " 3   제작연도     2243 non-null   float64\n",
            " 4   국가       2244 non-null   object \n",
            " 5   장르       2215 non-null   object \n",
            " 6   상영시간     2244 non-null   object \n",
            " 7   연령등급     2145 non-null   object \n",
            " 8   내용       2244 non-null   object \n",
            " 9   리뷰       2244 non-null   object \n",
            "dtypes: float64(1), int64(1), object(8)\n",
            "memory usage: 175.4+ KB\n"
          ]
        }
      ]
    },
    {
      "cell_type": "code",
      "source": [
        "book.head(10)"
      ],
      "metadata": {
        "colab": {
          "base_uri": "https://localhost:8080/",
          "height": 772
        },
        "id": "Vgqw_ztEwZHB",
        "outputId": "ae1314ef-ff61-4fd3-ed83-9d98457ee950"
      },
      "execution_count": null,
      "outputs": [
        {
          "output_type": "execute_result",
          "data": {
            "text/plain": [
              "   Column1           제목                                   원제    제작연도  \\\n",
              "0        0  물방울을 그리는 남자  L'homme qui peint des gouttes d'eau  2020.0   \n",
              "1        1        2차 송환                                2차 송환  2022.0   \n",
              "2        2      달이 지는 밤                              달이 지는 밤  2020.0   \n",
              "3        3         썬더버드                                 썬더버드  2021.0   \n",
              "4        4         기기묘묘                                 기기묘묘  2022.0   \n",
              "5        5      9명의 번역가                      Les Traducteurs  2019.0   \n",
              "6        6          홈리스                                  홈리스  2020.0   \n",
              "7        7       라이트하우스                       The Lighthouse  2019.0   \n",
              "8        8         더 위치   The VVitch: A New-England Folktale  2015.0   \n",
              "9        9     성적표의 김민영                             성적표의 김민영  2021.0   \n",
              "\n",
              "              국가                      장르     상영시간      연령등급  \\\n",
              "0         프랑스,한국                   다큐멘터리  1시간 19분    전체 관람가   \n",
              "1             한국                   다큐멘터리  2시간 36분   12세 관람가   \n",
              "2             한국                      모험  1시간 10분   15세 관람가   \n",
              "3             한국                   범죄/액션  1시간 37분   15세 관람가   \n",
              "4             한국               공포/액션/스릴러  1시간 56분   15세 관람가   \n",
              "5        프랑스,벨기에                미스터리/스릴러  1시간 45분   15세 관람가   \n",
              "6             한국                  드라마/가족  1시간 23분   12세 관람가   \n",
              "7     미국,브라질,캐나다  드라마/판타지/역사/공포/미스터리/스릴러  1시간 49분  청소년 관람불가   \n",
              "8  미국,영국,캐나다,브라질             드라마/공포/미스터리  1시간 32분   15세 관람가   \n",
              "9             한국                     드라마  1시간 34분    전체 관람가   \n",
              "\n",
              "                                                  내용  \\\n",
              "0  50년간 묵묵히 '물방울'만을 그리며?물방울 작가로 사랑받은 화가 김창열. 침묵과 ...   \n",
              "1  \"한국전쟁은 아직 끝나지 않았다!\"?\\n\\n현재까지 남과 북은 정치 공작원들을 상호...   \n",
              "2  중년의 여인이 무주 시외버스 터미널에서 내린다. 그녀는 마을길을 지나 숲으로 들어간...   \n",
              "3  돈이 미치게 필요한 태균\\n돈이 든 자동차를 잃어버린 태민\\n돈은 중요하지 않은 미...   \n",
              "4  땅을 둘러 싼 이웃들의 다툼,?엄마와 딸의 기이한 관계,?낙향한 청년과 괴인의 기묘...   \n",
              "5  밀실에서 유출된 세계적 베스트셀러..!\\n범인은 우리들 중에 있다!\\n\\n화제의 베...   \n",
              "6  이사를 앞둔 어린 부부 ‘한결’과 ‘고운’, 하지만 설렘도 잠시, 보증금 사기를 당...   \n",
              "7  1890년대, 동떨어진 섬의 등대를 지키게 된 두 등대지기의 이야기. 고독과 외로움...   \n",
              "8  1692년 살렘마녀재판을 소재로, 일련의 기이한 사건들로 광기에 사로잡히는 가족의 ...   \n",
              "9  “앞으로 무엇을 하든, 그때의 우리 같았으면 좋겠어”\\n\\n기숙사 생활을 하며 삼행...   \n",
              "\n",
              "                                                  리뷰  \n",
              "0  [[['이동진 평론가', '4.0', '삶이 어떻게 영화가 될 수 있는지 매우 아름...  \n",
              "1  [[['이동진 평론가', '3.5', '여전히 뜻을 꺾지 않는 사람들을 다시 21년...  \n",
              "2  [[['이동진 평론가', '3.5', '꿈인 듯 현실인 듯 죽음인 듯 삶인 듯, 경...  \n",
              "3  [[['이동진 평론가', '3.0', '사북의 차가운 밤거리에서 실제로 엿보는 것 ...  \n",
              "4  [[['이동진 평론가', '2.5', '이탁 오민애 김재화. <불모지>가 참 좋았다...  \n",
              "5  [[['이동진 평론가', '3.5', '효과적인 트릭과 반전들 아래, 승부에서 이기...  \n",
              "6  [[['이동진 평론가', '3.0', '영화가 미뤄둔 그 이후의 일들을 떠올리면 더...  \n",
              "7  [[['혁준', '4.0', '구원의 빛은 너무나 밝고 강렬해서\\n이미 시커먼 어둠...  \n",
              "8  [[['윤종원', '5.0', '2015 년 선댄스 드라마 부문 감독상의 영광을 누...  \n",
              "9  [[['이동진 평론가', '3.5', '만물이 정지한 순간에 끼어들어 오는 딸꾹질 ...  "
            ],
            "text/html": [
              "\n",
              "  <div id=\"df-7d0c9ce8-d7e6-41c8-a9ad-940c9c8e13f6\">\n",
              "    <div class=\"colab-df-container\">\n",
              "      <div>\n",
              "<style scoped>\n",
              "    .dataframe tbody tr th:only-of-type {\n",
              "        vertical-align: middle;\n",
              "    }\n",
              "\n",
              "    .dataframe tbody tr th {\n",
              "        vertical-align: top;\n",
              "    }\n",
              "\n",
              "    .dataframe thead th {\n",
              "        text-align: right;\n",
              "    }\n",
              "</style>\n",
              "<table border=\"1\" class=\"dataframe\">\n",
              "  <thead>\n",
              "    <tr style=\"text-align: right;\">\n",
              "      <th></th>\n",
              "      <th>Column1</th>\n",
              "      <th>제목</th>\n",
              "      <th>원제</th>\n",
              "      <th>제작연도</th>\n",
              "      <th>국가</th>\n",
              "      <th>장르</th>\n",
              "      <th>상영시간</th>\n",
              "      <th>연령등급</th>\n",
              "      <th>내용</th>\n",
              "      <th>리뷰</th>\n",
              "    </tr>\n",
              "  </thead>\n",
              "  <tbody>\n",
              "    <tr>\n",
              "      <th>0</th>\n",
              "      <td>0</td>\n",
              "      <td>물방울을 그리는 남자</td>\n",
              "      <td>L'homme qui peint des gouttes d'eau</td>\n",
              "      <td>2020.0</td>\n",
              "      <td>프랑스,한국</td>\n",
              "      <td>다큐멘터리</td>\n",
              "      <td>1시간 19분</td>\n",
              "      <td>전체 관람가</td>\n",
              "      <td>50년간 묵묵히 '물방울'만을 그리며?물방울 작가로 사랑받은 화가 김창열. 침묵과 ...</td>\n",
              "      <td>[[['이동진 평론가', '4.0', '삶이 어떻게 영화가 될 수 있는지 매우 아름...</td>\n",
              "    </tr>\n",
              "    <tr>\n",
              "      <th>1</th>\n",
              "      <td>1</td>\n",
              "      <td>2차 송환</td>\n",
              "      <td>2차 송환</td>\n",
              "      <td>2022.0</td>\n",
              "      <td>한국</td>\n",
              "      <td>다큐멘터리</td>\n",
              "      <td>2시간 36분</td>\n",
              "      <td>12세 관람가</td>\n",
              "      <td>\"한국전쟁은 아직 끝나지 않았다!\"?\\n\\n현재까지 남과 북은 정치 공작원들을 상호...</td>\n",
              "      <td>[[['이동진 평론가', '3.5', '여전히 뜻을 꺾지 않는 사람들을 다시 21년...</td>\n",
              "    </tr>\n",
              "    <tr>\n",
              "      <th>2</th>\n",
              "      <td>2</td>\n",
              "      <td>달이 지는 밤</td>\n",
              "      <td>달이 지는 밤</td>\n",
              "      <td>2020.0</td>\n",
              "      <td>한국</td>\n",
              "      <td>모험</td>\n",
              "      <td>1시간 10분</td>\n",
              "      <td>15세 관람가</td>\n",
              "      <td>중년의 여인이 무주 시외버스 터미널에서 내린다. 그녀는 마을길을 지나 숲으로 들어간...</td>\n",
              "      <td>[[['이동진 평론가', '3.5', '꿈인 듯 현실인 듯 죽음인 듯 삶인 듯, 경...</td>\n",
              "    </tr>\n",
              "    <tr>\n",
              "      <th>3</th>\n",
              "      <td>3</td>\n",
              "      <td>썬더버드</td>\n",
              "      <td>썬더버드</td>\n",
              "      <td>2021.0</td>\n",
              "      <td>한국</td>\n",
              "      <td>범죄/액션</td>\n",
              "      <td>1시간 37분</td>\n",
              "      <td>15세 관람가</td>\n",
              "      <td>돈이 미치게 필요한 태균\\n돈이 든 자동차를 잃어버린 태민\\n돈은 중요하지 않은 미...</td>\n",
              "      <td>[[['이동진 평론가', '3.0', '사북의 차가운 밤거리에서 실제로 엿보는 것 ...</td>\n",
              "    </tr>\n",
              "    <tr>\n",
              "      <th>4</th>\n",
              "      <td>4</td>\n",
              "      <td>기기묘묘</td>\n",
              "      <td>기기묘묘</td>\n",
              "      <td>2022.0</td>\n",
              "      <td>한국</td>\n",
              "      <td>공포/액션/스릴러</td>\n",
              "      <td>1시간 56분</td>\n",
              "      <td>15세 관람가</td>\n",
              "      <td>땅을 둘러 싼 이웃들의 다툼,?엄마와 딸의 기이한 관계,?낙향한 청년과 괴인의 기묘...</td>\n",
              "      <td>[[['이동진 평론가', '2.5', '이탁 오민애 김재화. &lt;불모지&gt;가 참 좋았다...</td>\n",
              "    </tr>\n",
              "    <tr>\n",
              "      <th>5</th>\n",
              "      <td>5</td>\n",
              "      <td>9명의 번역가</td>\n",
              "      <td>Les Traducteurs</td>\n",
              "      <td>2019.0</td>\n",
              "      <td>프랑스,벨기에</td>\n",
              "      <td>미스터리/스릴러</td>\n",
              "      <td>1시간 45분</td>\n",
              "      <td>15세 관람가</td>\n",
              "      <td>밀실에서 유출된 세계적 베스트셀러..!\\n범인은 우리들 중에 있다!\\n\\n화제의 베...</td>\n",
              "      <td>[[['이동진 평론가', '3.5', '효과적인 트릭과 반전들 아래, 승부에서 이기...</td>\n",
              "    </tr>\n",
              "    <tr>\n",
              "      <th>6</th>\n",
              "      <td>6</td>\n",
              "      <td>홈리스</td>\n",
              "      <td>홈리스</td>\n",
              "      <td>2020.0</td>\n",
              "      <td>한국</td>\n",
              "      <td>드라마/가족</td>\n",
              "      <td>1시간 23분</td>\n",
              "      <td>12세 관람가</td>\n",
              "      <td>이사를 앞둔 어린 부부 ‘한결’과 ‘고운’, 하지만 설렘도 잠시, 보증금 사기를 당...</td>\n",
              "      <td>[[['이동진 평론가', '3.0', '영화가 미뤄둔 그 이후의 일들을 떠올리면 더...</td>\n",
              "    </tr>\n",
              "    <tr>\n",
              "      <th>7</th>\n",
              "      <td>7</td>\n",
              "      <td>라이트하우스</td>\n",
              "      <td>The Lighthouse</td>\n",
              "      <td>2019.0</td>\n",
              "      <td>미국,브라질,캐나다</td>\n",
              "      <td>드라마/판타지/역사/공포/미스터리/스릴러</td>\n",
              "      <td>1시간 49분</td>\n",
              "      <td>청소년 관람불가</td>\n",
              "      <td>1890년대, 동떨어진 섬의 등대를 지키게 된 두 등대지기의 이야기. 고독과 외로움...</td>\n",
              "      <td>[[['혁준', '4.0', '구원의 빛은 너무나 밝고 강렬해서\\n이미 시커먼 어둠...</td>\n",
              "    </tr>\n",
              "    <tr>\n",
              "      <th>8</th>\n",
              "      <td>8</td>\n",
              "      <td>더 위치</td>\n",
              "      <td>The VVitch: A New-England Folktale</td>\n",
              "      <td>2015.0</td>\n",
              "      <td>미국,영국,캐나다,브라질</td>\n",
              "      <td>드라마/공포/미스터리</td>\n",
              "      <td>1시간 32분</td>\n",
              "      <td>15세 관람가</td>\n",
              "      <td>1692년 살렘마녀재판을 소재로, 일련의 기이한 사건들로 광기에 사로잡히는 가족의 ...</td>\n",
              "      <td>[[['윤종원', '5.0', '2015 년 선댄스 드라마 부문 감독상의 영광을 누...</td>\n",
              "    </tr>\n",
              "    <tr>\n",
              "      <th>9</th>\n",
              "      <td>9</td>\n",
              "      <td>성적표의 김민영</td>\n",
              "      <td>성적표의 김민영</td>\n",
              "      <td>2021.0</td>\n",
              "      <td>한국</td>\n",
              "      <td>드라마</td>\n",
              "      <td>1시간 34분</td>\n",
              "      <td>전체 관람가</td>\n",
              "      <td>“앞으로 무엇을 하든, 그때의 우리 같았으면 좋겠어”\\n\\n기숙사 생활을 하며 삼행...</td>\n",
              "      <td>[[['이동진 평론가', '3.5', '만물이 정지한 순간에 끼어들어 오는 딸꾹질 ...</td>\n",
              "    </tr>\n",
              "  </tbody>\n",
              "</table>\n",
              "</div>\n",
              "      <button class=\"colab-df-convert\" onclick=\"convertToInteractive('df-7d0c9ce8-d7e6-41c8-a9ad-940c9c8e13f6')\"\n",
              "              title=\"Convert this dataframe to an interactive table.\"\n",
              "              style=\"display:none;\">\n",
              "        \n",
              "  <svg xmlns=\"http://www.w3.org/2000/svg\" height=\"24px\"viewBox=\"0 0 24 24\"\n",
              "       width=\"24px\">\n",
              "    <path d=\"M0 0h24v24H0V0z\" fill=\"none\"/>\n",
              "    <path d=\"M18.56 5.44l.94 2.06.94-2.06 2.06-.94-2.06-.94-.94-2.06-.94 2.06-2.06.94zm-11 1L8.5 8.5l.94-2.06 2.06-.94-2.06-.94L8.5 2.5l-.94 2.06-2.06.94zm10 10l.94 2.06.94-2.06 2.06-.94-2.06-.94-.94-2.06-.94 2.06-2.06.94z\"/><path d=\"M17.41 7.96l-1.37-1.37c-.4-.4-.92-.59-1.43-.59-.52 0-1.04.2-1.43.59L10.3 9.45l-7.72 7.72c-.78.78-.78 2.05 0 2.83L4 21.41c.39.39.9.59 1.41.59.51 0 1.02-.2 1.41-.59l7.78-7.78 2.81-2.81c.8-.78.8-2.07 0-2.86zM5.41 20L4 18.59l7.72-7.72 1.47 1.35L5.41 20z\"/>\n",
              "  </svg>\n",
              "      </button>\n",
              "      \n",
              "  <style>\n",
              "    .colab-df-container {\n",
              "      display:flex;\n",
              "      flex-wrap:wrap;\n",
              "      gap: 12px;\n",
              "    }\n",
              "\n",
              "    .colab-df-convert {\n",
              "      background-color: #E8F0FE;\n",
              "      border: none;\n",
              "      border-radius: 50%;\n",
              "      cursor: pointer;\n",
              "      display: none;\n",
              "      fill: #1967D2;\n",
              "      height: 32px;\n",
              "      padding: 0 0 0 0;\n",
              "      width: 32px;\n",
              "    }\n",
              "\n",
              "    .colab-df-convert:hover {\n",
              "      background-color: #E2EBFA;\n",
              "      box-shadow: 0px 1px 2px rgba(60, 64, 67, 0.3), 0px 1px 3px 1px rgba(60, 64, 67, 0.15);\n",
              "      fill: #174EA6;\n",
              "    }\n",
              "\n",
              "    [theme=dark] .colab-df-convert {\n",
              "      background-color: #3B4455;\n",
              "      fill: #D2E3FC;\n",
              "    }\n",
              "\n",
              "    [theme=dark] .colab-df-convert:hover {\n",
              "      background-color: #434B5C;\n",
              "      box-shadow: 0px 1px 3px 1px rgba(0, 0, 0, 0.15);\n",
              "      filter: drop-shadow(0px 1px 2px rgba(0, 0, 0, 0.3));\n",
              "      fill: #FFFFFF;\n",
              "    }\n",
              "  </style>\n",
              "\n",
              "      <script>\n",
              "        const buttonEl =\n",
              "          document.querySelector('#df-7d0c9ce8-d7e6-41c8-a9ad-940c9c8e13f6 button.colab-df-convert');\n",
              "        buttonEl.style.display =\n",
              "          google.colab.kernel.accessAllowed ? 'block' : 'none';\n",
              "\n",
              "        async function convertToInteractive(key) {\n",
              "          const element = document.querySelector('#df-7d0c9ce8-d7e6-41c8-a9ad-940c9c8e13f6');\n",
              "          const dataTable =\n",
              "            await google.colab.kernel.invokeFunction('convertToInteractive',\n",
              "                                                     [key], {});\n",
              "          if (!dataTable) return;\n",
              "\n",
              "          const docLinkHtml = 'Like what you see? Visit the ' +\n",
              "            '<a target=\"_blank\" href=https://colab.research.google.com/notebooks/data_table.ipynb>data table notebook</a>'\n",
              "            + ' to learn more about interactive tables.';\n",
              "          element.innerHTML = '';\n",
              "          dataTable['output_type'] = 'display_data';\n",
              "          await google.colab.output.renderOutput(dataTable, element);\n",
              "          const docLink = document.createElement('div');\n",
              "          docLink.innerHTML = docLinkHtml;\n",
              "          element.appendChild(docLink);\n",
              "        }\n",
              "      </script>\n",
              "    </div>\n",
              "  </div>\n",
              "  "
            ]
          },
          "metadata": {},
          "execution_count": 14
        }
      ]
    },
    {
      "cell_type": "markdown",
      "source": [
        "책 정보 데이터 변환\n",
        "\n",
        "lightfm 사이트에서는 countvectorizeration을 사용했는데, 이는 한국어의 처리를 하는데에 적합하지 않다. 그렇기 때문에 한국어는 불용어를 처리하여 BoW 방식으로 처리해줘야한다. \n"
      ],
      "metadata": {
        "id": "Z4AqaBjXZqtj"
      }
    },
    {
      "cell_type": "code",
      "source": [
        "#품사태깅\n",
        "#특수 문자 제거 + 숫자(??)\n",
        "#문장부호 제거\n",
        "#영어, 한자 제거 \n",
        "#불용어 제거 "
      ],
      "metadata": {
        "id": "04tDkRU2EGQK"
      },
      "execution_count": null,
      "outputs": []
    },
    {
      "cell_type": "code",
      "source": [
        "from konlpy.tag import Okt\n",
        "import re #정규식"
      ],
      "metadata": {
        "id": "LkNt6sDbAr0w"
      },
      "execution_count": null,
      "outputs": []
    },
    {
      "cell_type": "code",
      "source": [
        "#품사 태깅\n",
        "\n",
        "okt = Okt() # 형태소 분석기\n",
        "\n",
        "def clean1(text):\n",
        "   clean = []\n",
        "\n",
        "   for word in okt.pos(text, stem = True): #어간 추출\n",
        "    if word[1] not in [\"Josa\", \"Eomi\", \"Punctuation\"]:\n",
        "      clean.append(word[0])\n",
        "    \n",
        "   return \" \".join(clean)"
      ],
      "metadata": {
        "id": "h4FY1Ad3AuHv"
      },
      "execution_count": null,
      "outputs": []
    },
    {
      "cell_type": "code",
      "source": [
        "book.내용 = book.내용.apply(lambda x : clean1(x)) "
      ],
      "metadata": {
        "id": "YbTxqJPAurYe"
      },
      "execution_count": null,
      "outputs": []
    },
    {
      "cell_type": "code",
      "source": [
        "print(book.내용)"
      ],
      "metadata": {
        "colab": {
          "base_uri": "https://localhost:8080/"
        },
        "id": "68r7RKgQucNq",
        "outputId": "03edeb14-4a4b-49d5-c631-86ee9ea02764"
      },
      "execution_count": null,
      "outputs": [
        {
          "output_type": "stream",
          "name": "stdout",
          "text": [
            "0       50년 간 묵묵하다 물방울 그리다 물방울 작가 사랑받다 화가 김창열 침묵 고독 가득...\n",
            "1       한국 전쟁 아직 끝나다 않다 \\n\\n 현재 남 북 정치 공작원 들 상호 침투 시키다...\n",
            "2       중년 여인 무주 시외버스 터미널 내 린다 그녀 마을 길 지나 숲 들어가다 숲 어디 ...\n",
            "3       돈 미치다 필요하다 태균 \\n 돈 들다 자동차 잃어버리다 태민 \\n 돈 중요하다 않...\n",
            "4       땅 두르다 싸다 이웃 들 다툼 엄마 딸 기이하다 관계 낙향 청년 괴인 기묘하다 만남...\n",
            "                              ...                        \n",
            "2239    제 2 차 세계대전 발발 전 나치 점령 독일 연극 파우스트 메피스 토 텔레스 연기 ...\n",
            "2240    해군 정신의학 장교 제롬 데이븐포트 덴젤 워싱턴 분 늘다 상관 폭행 하다 일 계급 ...\n",
            "2241    어리다 시절 어머니 강요 트럼펫 불다 블릭 덴젤 워싱턴 은 성장하다 재능 있다 연 ...\n",
            "2242    전편 여 주인공 애니 포터 산드라 블록 분 은 경찰 잭 헤어지다 지금 새 애인 알렉...\n",
            "2243    TV 엔터테인먼트 뉴스 기자 맹활약 하다 자다 나가다 커리어 우먼 앨리슨 클럽 승진...\n",
            "Name: 내용, Length: 2244, dtype: object\n"
          ]
        }
      ]
    },
    {
      "cell_type": "code",
      "source": [
        "#불용어 사전 만들기\n",
        "stopwords = pd.read_csv(\"https://raw.githubusercontent.com/yoonkt200/FastCampusDataset/master/korean_stopwords.txt\").values.tolist()\n",
        "stop_words = set([x[0] for x in stopwords])"
      ],
      "metadata": {
        "id": "oT2x6yILDcsD"
      },
      "execution_count": null,
      "outputs": []
    },
    {
      "cell_type": "code",
      "source": [
        "def text_cleaning(text):\n",
        "    hangul = re.compile('[^ a-z A-Z ㄱ-ㅣ 가-힣]')  # 정규 표현식 처리\n",
        "    result = hangul.sub('', text)\n",
        "    okt = Okt()\n",
        "    words = okt.morphs(result, norm=True)\n",
        "    words = [x for x in words if x not in stop_words]  # 불용어 제거\n",
        "    return words"
      ],
      "metadata": {
        "id": "CK66omMkBIne"
      },
      "execution_count": null,
      "outputs": []
    },
    {
      "cell_type": "code",
      "source": [
        "book.내용 = book.내용.apply(lambda x : text_cleaning(x)) "
      ],
      "metadata": {
        "id": "oByDRkMGhE8u"
      },
      "execution_count": null,
      "outputs": []
    },
    {
      "cell_type": "code",
      "source": [
        "print(book.내용)"
      ],
      "metadata": {
        "colab": {
          "base_uri": "https://localhost:8080/"
        },
        "id": "8sNgHrRYvulE",
        "outputId": "85fbe527-e3b2-4dac-cc87-6c8f0114d023"
      },
      "execution_count": null,
      "outputs": [
        {
          "output_type": "stream",
          "name": "stdout",
          "text": [
            "0       [간, 묵묵하다, 물방울, 리다, 물방울, 작가, 사랑받다, 화가, 김창열, 침묵,...\n",
            "1       [한국, 전쟁, 아직, 끝나다, 않다, 현재, 남, 북, 정치, 공작원, 상호, 침...\n",
            "2       [중년, 여인, 무주, 시외버스, 터미널, 내, 린다, 그녀, 마을, 길, 지나, ...\n",
            "3       [돈, 미치다, 필요하다, 태균, 돈, 들다, 자동차, 잃어버리다, 태민, 돈, 중...\n",
            "4       [땅, 두르다, 싸다, 이웃, 다툼, 엄마, 딸, 기이하다, 관계, 낙향, 청년, ...\n",
            "                              ...                        \n",
            "2239    [차, 세계대전, 발발, 전, 나치, 점령, 독일, 연극, 파우스트, 메피스, 토,...\n",
            "2240    [해군, 정신의학, 장교, 제롬, 데이븐포트, 덴젤, 워싱턴, 분, 늘다, 상관, ...\n",
            "2241    [어리다, 시절, 어머니, 강요, 트럼펫, 불다, 블릭, 덴젤, 워싱턴, 은, 성장...\n",
            "2242    [전편, 주인공, 애니, 포터, 산드라, 블록, 분, 은, 경찰, 잭, 헤어지다, ...\n",
            "2243    [TV, 엔터테인먼트, 뉴스, 기자, 맹활약, 하다, 자다, 나가다, 커리어, 우먼...\n",
            "Name: 내용, Length: 2244, dtype: object\n"
          ]
        }
      ]
    },
    {
      "cell_type": "code",
      "source": [
        "transformer = Countvectorizer()"
      ],
      "metadata": {
        "id": "j9GUgeNq0mDX"
      },
      "execution_count": null,
      "outputs": []
    },
    {
      "cell_type": "markdown",
      "source": [
        "\n",
        "\n",
        "---\n",
        "\n"
      ],
      "metadata": {
        "id": "kATbt1vt0j_T"
      }
    },
    {
      "cell_type": "code",
      "source": [
        "#숫자, 특수문자 제거 \n",
        "def clean2(text):\n",
        "  sent_clean = re.sub(r\"[^a-zA-Z가-힣]\",\" \",text) #substraction 숫자, 특수문자 제거\n",
        "  clean =[]\n",
        "\n",
        "  return \" \".join(clean)"
      ],
      "metadata": {
        "id": "Mjj5sfeIIxTB"
      },
      "execution_count": null,
      "outputs": []
    },
    {
      "cell_type": "code",
      "source": [
        "book.내용 = book.내용.apply(lambda x : clean2(x)) "
      ],
      "metadata": {
        "id": "cv4fbhhsu7Sq"
      },
      "execution_count": null,
      "outputs": []
    },
    {
      "cell_type": "code",
      "source": [
        "print(book.내용)"
      ],
      "metadata": {
        "colab": {
          "base_uri": "https://localhost:8080/"
        },
        "id": "y5-TU28_u9OW",
        "outputId": "fe78d2a2-3881-4cf6-988e-296204a2e56f"
      },
      "execution_count": null,
      "outputs": [
        {
          "output_type": "stream",
          "name": "stdout",
          "text": [
            "0        \n",
            "1        \n",
            "2        \n",
            "3        \n",
            "4        \n",
            "       ..\n",
            "2239     \n",
            "2240     \n",
            "2241     \n",
            "2242     \n",
            "2243     \n",
            "Name: 내용, Length: 2244, dtype: object\n"
          ]
        }
      ]
    },
    {
      "cell_type": "code",
      "source": [
        "book.head()"
      ],
      "metadata": {
        "colab": {
          "base_uri": "https://localhost:8080/",
          "height": 354
        },
        "id": "nVmQmJxjgwfa",
        "outputId": "6f7d5b67-59a2-452a-ccce-d6fcc06e0d1d"
      },
      "execution_count": null,
      "outputs": [
        {
          "output_type": "execute_result",
          "data": {
            "text/plain": [
              "   Column1           제목                                   원제    제작연도      국가  \\\n",
              "0        0  물방울을 그리는 남자  L'homme qui peint des gouttes d'eau  2020.0  프랑스,한국   \n",
              "1        1        2차 송환                                2차 송환  2022.0      한국   \n",
              "2        2      달이 지는 밤                              달이 지는 밤  2020.0      한국   \n",
              "3        3         썬더버드                                 썬더버드  2021.0      한국   \n",
              "4        4         기기묘묘                                 기기묘묘  2022.0      한국   \n",
              "\n",
              "          장르     상영시간     연령등급 내용  \\\n",
              "0      다큐멘터리  1시간 19분   전체 관람가      \n",
              "1      다큐멘터리  2시간 36분  12세 관람가      \n",
              "2         모험  1시간 10분  15세 관람가      \n",
              "3      범죄/액션  1시간 37분  15세 관람가      \n",
              "4  공포/액션/스릴러  1시간 56분  15세 관람가      \n",
              "\n",
              "                                                  리뷰  \n",
              "0  [[['이동진 평론가', '4.0', '삶이 어떻게 영화가 될 수 있는지 매우 아름...  \n",
              "1  [[['이동진 평론가', '3.5', '여전히 뜻을 꺾지 않는 사람들을 다시 21년...  \n",
              "2  [[['이동진 평론가', '3.5', '꿈인 듯 현실인 듯 죽음인 듯 삶인 듯, 경...  \n",
              "3  [[['이동진 평론가', '3.0', '사북의 차가운 밤거리에서 실제로 엿보는 것 ...  \n",
              "4  [[['이동진 평론가', '2.5', '이탁 오민애 김재화. <불모지>가 참 좋았다...  "
            ],
            "text/html": [
              "\n",
              "  <div id=\"df-0520d535-de35-4248-a78d-3967b11d4264\">\n",
              "    <div class=\"colab-df-container\">\n",
              "      <div>\n",
              "<style scoped>\n",
              "    .dataframe tbody tr th:only-of-type {\n",
              "        vertical-align: middle;\n",
              "    }\n",
              "\n",
              "    .dataframe tbody tr th {\n",
              "        vertical-align: top;\n",
              "    }\n",
              "\n",
              "    .dataframe thead th {\n",
              "        text-align: right;\n",
              "    }\n",
              "</style>\n",
              "<table border=\"1\" class=\"dataframe\">\n",
              "  <thead>\n",
              "    <tr style=\"text-align: right;\">\n",
              "      <th></th>\n",
              "      <th>Column1</th>\n",
              "      <th>제목</th>\n",
              "      <th>원제</th>\n",
              "      <th>제작연도</th>\n",
              "      <th>국가</th>\n",
              "      <th>장르</th>\n",
              "      <th>상영시간</th>\n",
              "      <th>연령등급</th>\n",
              "      <th>내용</th>\n",
              "      <th>리뷰</th>\n",
              "    </tr>\n",
              "  </thead>\n",
              "  <tbody>\n",
              "    <tr>\n",
              "      <th>0</th>\n",
              "      <td>0</td>\n",
              "      <td>물방울을 그리는 남자</td>\n",
              "      <td>L'homme qui peint des gouttes d'eau</td>\n",
              "      <td>2020.0</td>\n",
              "      <td>프랑스,한국</td>\n",
              "      <td>다큐멘터리</td>\n",
              "      <td>1시간 19분</td>\n",
              "      <td>전체 관람가</td>\n",
              "      <td></td>\n",
              "      <td>[[['이동진 평론가', '4.0', '삶이 어떻게 영화가 될 수 있는지 매우 아름...</td>\n",
              "    </tr>\n",
              "    <tr>\n",
              "      <th>1</th>\n",
              "      <td>1</td>\n",
              "      <td>2차 송환</td>\n",
              "      <td>2차 송환</td>\n",
              "      <td>2022.0</td>\n",
              "      <td>한국</td>\n",
              "      <td>다큐멘터리</td>\n",
              "      <td>2시간 36분</td>\n",
              "      <td>12세 관람가</td>\n",
              "      <td></td>\n",
              "      <td>[[['이동진 평론가', '3.5', '여전히 뜻을 꺾지 않는 사람들을 다시 21년...</td>\n",
              "    </tr>\n",
              "    <tr>\n",
              "      <th>2</th>\n",
              "      <td>2</td>\n",
              "      <td>달이 지는 밤</td>\n",
              "      <td>달이 지는 밤</td>\n",
              "      <td>2020.0</td>\n",
              "      <td>한국</td>\n",
              "      <td>모험</td>\n",
              "      <td>1시간 10분</td>\n",
              "      <td>15세 관람가</td>\n",
              "      <td></td>\n",
              "      <td>[[['이동진 평론가', '3.5', '꿈인 듯 현실인 듯 죽음인 듯 삶인 듯, 경...</td>\n",
              "    </tr>\n",
              "    <tr>\n",
              "      <th>3</th>\n",
              "      <td>3</td>\n",
              "      <td>썬더버드</td>\n",
              "      <td>썬더버드</td>\n",
              "      <td>2021.0</td>\n",
              "      <td>한국</td>\n",
              "      <td>범죄/액션</td>\n",
              "      <td>1시간 37분</td>\n",
              "      <td>15세 관람가</td>\n",
              "      <td></td>\n",
              "      <td>[[['이동진 평론가', '3.0', '사북의 차가운 밤거리에서 실제로 엿보는 것 ...</td>\n",
              "    </tr>\n",
              "    <tr>\n",
              "      <th>4</th>\n",
              "      <td>4</td>\n",
              "      <td>기기묘묘</td>\n",
              "      <td>기기묘묘</td>\n",
              "      <td>2022.0</td>\n",
              "      <td>한국</td>\n",
              "      <td>공포/액션/스릴러</td>\n",
              "      <td>1시간 56분</td>\n",
              "      <td>15세 관람가</td>\n",
              "      <td></td>\n",
              "      <td>[[['이동진 평론가', '2.5', '이탁 오민애 김재화. &lt;불모지&gt;가 참 좋았다...</td>\n",
              "    </tr>\n",
              "  </tbody>\n",
              "</table>\n",
              "</div>\n",
              "      <button class=\"colab-df-convert\" onclick=\"convertToInteractive('df-0520d535-de35-4248-a78d-3967b11d4264')\"\n",
              "              title=\"Convert this dataframe to an interactive table.\"\n",
              "              style=\"display:none;\">\n",
              "        \n",
              "  <svg xmlns=\"http://www.w3.org/2000/svg\" height=\"24px\"viewBox=\"0 0 24 24\"\n",
              "       width=\"24px\">\n",
              "    <path d=\"M0 0h24v24H0V0z\" fill=\"none\"/>\n",
              "    <path d=\"M18.56 5.44l.94 2.06.94-2.06 2.06-.94-2.06-.94-.94-2.06-.94 2.06-2.06.94zm-11 1L8.5 8.5l.94-2.06 2.06-.94-2.06-.94L8.5 2.5l-.94 2.06-2.06.94zm10 10l.94 2.06.94-2.06 2.06-.94-2.06-.94-.94-2.06-.94 2.06-2.06.94z\"/><path d=\"M17.41 7.96l-1.37-1.37c-.4-.4-.92-.59-1.43-.59-.52 0-1.04.2-1.43.59L10.3 9.45l-7.72 7.72c-.78.78-.78 2.05 0 2.83L4 21.41c.39.39.9.59 1.41.59.51 0 1.02-.2 1.41-.59l7.78-7.78 2.81-2.81c.8-.78.8-2.07 0-2.86zM5.41 20L4 18.59l7.72-7.72 1.47 1.35L5.41 20z\"/>\n",
              "  </svg>\n",
              "      </button>\n",
              "      \n",
              "  <style>\n",
              "    .colab-df-container {\n",
              "      display:flex;\n",
              "      flex-wrap:wrap;\n",
              "      gap: 12px;\n",
              "    }\n",
              "\n",
              "    .colab-df-convert {\n",
              "      background-color: #E8F0FE;\n",
              "      border: none;\n",
              "      border-radius: 50%;\n",
              "      cursor: pointer;\n",
              "      display: none;\n",
              "      fill: #1967D2;\n",
              "      height: 32px;\n",
              "      padding: 0 0 0 0;\n",
              "      width: 32px;\n",
              "    }\n",
              "\n",
              "    .colab-df-convert:hover {\n",
              "      background-color: #E2EBFA;\n",
              "      box-shadow: 0px 1px 2px rgba(60, 64, 67, 0.3), 0px 1px 3px 1px rgba(60, 64, 67, 0.15);\n",
              "      fill: #174EA6;\n",
              "    }\n",
              "\n",
              "    [theme=dark] .colab-df-convert {\n",
              "      background-color: #3B4455;\n",
              "      fill: #D2E3FC;\n",
              "    }\n",
              "\n",
              "    [theme=dark] .colab-df-convert:hover {\n",
              "      background-color: #434B5C;\n",
              "      box-shadow: 0px 1px 3px 1px rgba(0, 0, 0, 0.15);\n",
              "      filter: drop-shadow(0px 1px 2px rgba(0, 0, 0, 0.3));\n",
              "      fill: #FFFFFF;\n",
              "    }\n",
              "  </style>\n",
              "\n",
              "      <script>\n",
              "        const buttonEl =\n",
              "          document.querySelector('#df-0520d535-de35-4248-a78d-3967b11d4264 button.colab-df-convert');\n",
              "        buttonEl.style.display =\n",
              "          google.colab.kernel.accessAllowed ? 'block' : 'none';\n",
              "\n",
              "        async function convertToInteractive(key) {\n",
              "          const element = document.querySelector('#df-0520d535-de35-4248-a78d-3967b11d4264');\n",
              "          const dataTable =\n",
              "            await google.colab.kernel.invokeFunction('convertToInteractive',\n",
              "                                                     [key], {});\n",
              "          if (!dataTable) return;\n",
              "\n",
              "          const docLinkHtml = 'Like what you see? Visit the ' +\n",
              "            '<a target=\"_blank\" href=https://colab.research.google.com/notebooks/data_table.ipynb>data table notebook</a>'\n",
              "            + ' to learn more about interactive tables.';\n",
              "          element.innerHTML = '';\n",
              "          dataTable['output_type'] = 'display_data';\n",
              "          await google.colab.output.renderOutput(dataTable, element);\n",
              "          const docLink = document.createElement('div');\n",
              "          docLink.innerHTML = docLinkHtml;\n",
              "          element.appendChild(docLink);\n",
              "        }\n",
              "      </script>\n",
              "    </div>\n",
              "  </div>\n",
              "  "
            ]
          },
          "metadata": {},
          "execution_count": 10
        }
      ]
    },
    {
      "cell_type": "code",
      "source": [
        "#문장부호 제거 \n",
        "punct = \"/-'?!.,#$%\\'()*+-/:;<=>@[\\\\]^_`{|}~\" + '\"\"“”’' + '∞θ÷α•à−β∅³π‘₹´°£€\\×™√²—–&'\n",
        "punct_mapping = {\"‘\": \"'\", \"₹\": \"e\", \"´\": \"'\", \"°\": \"\", \"€\": \"e\", \"™\": \"tm\", \"√\": \" sqrt \", \"×\": \"x\", \"²\": \"2\", \"—\": \"-\", \"–\": \"-\", \"’\": \"'\", \"_\": \"-\", \"`\": \"'\", '“': '\"', '”': '\"', '“': '\"', \"£\": \"e\", '∞': 'infinity', 'θ': 'theta', '÷': '/', 'α': 'alpha', '•': '.', 'à': 'a', '−': '-', 'β': 'beta', '∅': '', '³': '3', 'π': 'pi', }\n",
        "\n",
        "def clean_punc(text, punct, mapping):\n",
        "    for p in mapping:\n",
        "        text = text.replace(p, mapping[p])\n",
        "    \n",
        "    for p in punct:\n",
        "        text = text.replace(p, f' {p} ')\n",
        "    \n",
        "    return text.strip()\n",
        "\n",
        "cleaned_train_corpus = []\n",
        "cleaned_test_corpus = []\n",
        "train.title = train.title.apply(lambda x : hanja.translate(x, 'substitution'))\n",
        "test.title = test.title.apply(lambda x : hanja.translate(x, 'substitution'))\n",
        "\n",
        "for sent in train['title']:\n",
        "    cleaned_train_corpus.append(clean_punc(sent, punct, punct_mapping))\n",
        "    \n",
        "for sent in test['title']:\n",
        "    cleaned_test_corpus.append(clean_punc(sent, punct, punct_mapping))\n"
      ],
      "metadata": {
        "id": "POLYUxRYJRpL"
      },
      "execution_count": null,
      "outputs": []
    },
    {
      "cell_type": "code",
      "source": [
        "#책 정보\n",
        "item_transformers = [\n",
        "    ('content_pipeline', Pipeline([\n",
        "        ('content_extractor', TupleExtractor(0)),\n",
        "        ('content_vectorizer', CountVectorizer(min_df = 2, ngram_range = (1,1)))\n",
        "    ]))\n",
        "    \n",
        "]"
      ],
      "metadata": {
        "id": "rX4Y41k5aYFB"
      },
      "execution_count": null,
      "outputs": []
    }
  ]
}
