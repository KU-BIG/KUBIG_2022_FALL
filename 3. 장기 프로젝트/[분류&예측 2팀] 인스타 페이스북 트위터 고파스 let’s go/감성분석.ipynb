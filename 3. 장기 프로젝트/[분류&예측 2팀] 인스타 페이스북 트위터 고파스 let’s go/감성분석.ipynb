{
  "nbformat": 4,
  "nbformat_minor": 0,
  "metadata": {
    "colab": {
      "provenance": []
    },
    "kernelspec": {
      "name": "python3",
      "display_name": "Python 3"
    },
    "language_info": {
      "name": "python"
    },
    "accelerator": "GPU",
    "gpuClass": "standard"
  },
  "cells": [
    {
      "cell_type": "code",
      "execution_count": null,
      "metadata": {
        "id": "2KrkQuMmR36J"
      },
      "outputs": [],
      "source": [
        "import pandas as pd\n",
        "import matplotlib.pyplot as plt\n",
        "import seaborn as sns\n",
        "import numpy as np\n",
        "%matplotlib inline\n",
        "\n",
        "from google.colab import drive\n",
        "\n",
        "import matplotlib.ticker as ticker\n",
        "from matplotlib import dates\n",
        "import datetime as dt\n",
        "\n",
        "from collections import Counter"
      ]
    },
    {
      "cell_type": "code",
      "source": [
        "drive.mount('/content/drive') #구글 드라이브 접속하려면 이거 써야함\n",
        "%cd ./drive/Shareddrives/22_FW_고파스 분류예측 프로젝트/ \n",
        "df=pd.read_csv(\"/content/drive/Shareddrives/22_FW_고파스 분류예측 프로젝트/real_last.csv\")\n",
        "df=df.reset_index(drop=True)"
      ],
      "metadata": {
        "colab": {
          "base_uri": "https://localhost:8080/"
        },
        "id": "OUBoUYGFR7KL",
        "outputId": "7f8632ef-b06c-4cea-a31f-eff31d9cc6b8"
      },
      "execution_count": null,
      "outputs": [
        {
          "output_type": "stream",
          "name": "stdout",
          "text": [
            "Mounted at /content/drive\n",
            "/content/drive/Shareddrives/22_FW_고파스 분류예측 프로젝트\n"
          ]
        }
      ]
    },
    {
      "cell_type": "code",
      "source": [
        "sentiword = pd.read_table('/content/drive/Shareddrives/22_FW_고파스 분류예측 프로젝트/sentiword.txt')"
      ],
      "metadata": {
        "id": "mgCJ2zsDY5Q_"
      },
      "execution_count": null,
      "outputs": []
    },
    {
      "cell_type": "code",
      "source": [
        "sentiword"
      ],
      "metadata": {
        "colab": {
          "base_uri": "https://localhost:8080/",
          "height": 424
        },
        "id": "quxgqp_DZcvY",
        "outputId": "aa0d43de-34d3-497e-dadc-a3faf7601e6a"
      },
      "execution_count": null,
      "outputs": [
        {
          "output_type": "execute_result",
          "data": {
            "text/plain": [
              "        sent  point\n",
              "0        (-;    1.0\n",
              "1      (;_;)   -1.0\n",
              "2       (^^)    1.0\n",
              "3      (^-^)    1.0\n",
              "4       (^^*    1.0\n",
              "...      ...    ...\n",
              "14850  갈등 -1    NaN\n",
              "14851     의혹   -1.0\n",
              "14852  내팽개치다   -2.0\n",
              "14853     횡령   -2.0\n",
              "14854    불안증   -2.0\n",
              "\n",
              "[14855 rows x 2 columns]"
            ],
            "text/html": [
              "\n",
              "  <div id=\"df-eaa3c677-e67b-4273-87d5-1b947d165814\">\n",
              "    <div class=\"colab-df-container\">\n",
              "      <div>\n",
              "<style scoped>\n",
              "    .dataframe tbody tr th:only-of-type {\n",
              "        vertical-align: middle;\n",
              "    }\n",
              "\n",
              "    .dataframe tbody tr th {\n",
              "        vertical-align: top;\n",
              "    }\n",
              "\n",
              "    .dataframe thead th {\n",
              "        text-align: right;\n",
              "    }\n",
              "</style>\n",
              "<table border=\"1\" class=\"dataframe\">\n",
              "  <thead>\n",
              "    <tr style=\"text-align: right;\">\n",
              "      <th></th>\n",
              "      <th>sent</th>\n",
              "      <th>point</th>\n",
              "    </tr>\n",
              "  </thead>\n",
              "  <tbody>\n",
              "    <tr>\n",
              "      <th>0</th>\n",
              "      <td>(-;</td>\n",
              "      <td>1.0</td>\n",
              "    </tr>\n",
              "    <tr>\n",
              "      <th>1</th>\n",
              "      <td>(;_;)</td>\n",
              "      <td>-1.0</td>\n",
              "    </tr>\n",
              "    <tr>\n",
              "      <th>2</th>\n",
              "      <td>(^^)</td>\n",
              "      <td>1.0</td>\n",
              "    </tr>\n",
              "    <tr>\n",
              "      <th>3</th>\n",
              "      <td>(^-^)</td>\n",
              "      <td>1.0</td>\n",
              "    </tr>\n",
              "    <tr>\n",
              "      <th>4</th>\n",
              "      <td>(^^*</td>\n",
              "      <td>1.0</td>\n",
              "    </tr>\n",
              "    <tr>\n",
              "      <th>...</th>\n",
              "      <td>...</td>\n",
              "      <td>...</td>\n",
              "    </tr>\n",
              "    <tr>\n",
              "      <th>14850</th>\n",
              "      <td>갈등 -1</td>\n",
              "      <td>NaN</td>\n",
              "    </tr>\n",
              "    <tr>\n",
              "      <th>14851</th>\n",
              "      <td>의혹</td>\n",
              "      <td>-1.0</td>\n",
              "    </tr>\n",
              "    <tr>\n",
              "      <th>14852</th>\n",
              "      <td>내팽개치다</td>\n",
              "      <td>-2.0</td>\n",
              "    </tr>\n",
              "    <tr>\n",
              "      <th>14853</th>\n",
              "      <td>횡령</td>\n",
              "      <td>-2.0</td>\n",
              "    </tr>\n",
              "    <tr>\n",
              "      <th>14854</th>\n",
              "      <td>불안증</td>\n",
              "      <td>-2.0</td>\n",
              "    </tr>\n",
              "  </tbody>\n",
              "</table>\n",
              "<p>14855 rows × 2 columns</p>\n",
              "</div>\n",
              "      <button class=\"colab-df-convert\" onclick=\"convertToInteractive('df-eaa3c677-e67b-4273-87d5-1b947d165814')\"\n",
              "              title=\"Convert this dataframe to an interactive table.\"\n",
              "              style=\"display:none;\">\n",
              "        \n",
              "  <svg xmlns=\"http://www.w3.org/2000/svg\" height=\"24px\"viewBox=\"0 0 24 24\"\n",
              "       width=\"24px\">\n",
              "    <path d=\"M0 0h24v24H0V0z\" fill=\"none\"/>\n",
              "    <path d=\"M18.56 5.44l.94 2.06.94-2.06 2.06-.94-2.06-.94-.94-2.06-.94 2.06-2.06.94zm-11 1L8.5 8.5l.94-2.06 2.06-.94-2.06-.94L8.5 2.5l-.94 2.06-2.06.94zm10 10l.94 2.06.94-2.06 2.06-.94-2.06-.94-.94-2.06-.94 2.06-2.06.94z\"/><path d=\"M17.41 7.96l-1.37-1.37c-.4-.4-.92-.59-1.43-.59-.52 0-1.04.2-1.43.59L10.3 9.45l-7.72 7.72c-.78.78-.78 2.05 0 2.83L4 21.41c.39.39.9.59 1.41.59.51 0 1.02-.2 1.41-.59l7.78-7.78 2.81-2.81c.8-.78.8-2.07 0-2.86zM5.41 20L4 18.59l7.72-7.72 1.47 1.35L5.41 20z\"/>\n",
              "  </svg>\n",
              "      </button>\n",
              "      \n",
              "  <style>\n",
              "    .colab-df-container {\n",
              "      display:flex;\n",
              "      flex-wrap:wrap;\n",
              "      gap: 12px;\n",
              "    }\n",
              "\n",
              "    .colab-df-convert {\n",
              "      background-color: #E8F0FE;\n",
              "      border: none;\n",
              "      border-radius: 50%;\n",
              "      cursor: pointer;\n",
              "      display: none;\n",
              "      fill: #1967D2;\n",
              "      height: 32px;\n",
              "      padding: 0 0 0 0;\n",
              "      width: 32px;\n",
              "    }\n",
              "\n",
              "    .colab-df-convert:hover {\n",
              "      background-color: #E2EBFA;\n",
              "      box-shadow: 0px 1px 2px rgba(60, 64, 67, 0.3), 0px 1px 3px 1px rgba(60, 64, 67, 0.15);\n",
              "      fill: #174EA6;\n",
              "    }\n",
              "\n",
              "    [theme=dark] .colab-df-convert {\n",
              "      background-color: #3B4455;\n",
              "      fill: #D2E3FC;\n",
              "    }\n",
              "\n",
              "    [theme=dark] .colab-df-convert:hover {\n",
              "      background-color: #434B5C;\n",
              "      box-shadow: 0px 1px 3px 1px rgba(0, 0, 0, 0.15);\n",
              "      filter: drop-shadow(0px 1px 2px rgba(0, 0, 0, 0.3));\n",
              "      fill: #FFFFFF;\n",
              "    }\n",
              "  </style>\n",
              "\n",
              "      <script>\n",
              "        const buttonEl =\n",
              "          document.querySelector('#df-eaa3c677-e67b-4273-87d5-1b947d165814 button.colab-df-convert');\n",
              "        buttonEl.style.display =\n",
              "          google.colab.kernel.accessAllowed ? 'block' : 'none';\n",
              "\n",
              "        async function convertToInteractive(key) {\n",
              "          const element = document.querySelector('#df-eaa3c677-e67b-4273-87d5-1b947d165814');\n",
              "          const dataTable =\n",
              "            await google.colab.kernel.invokeFunction('convertToInteractive',\n",
              "                                                     [key], {});\n",
              "          if (!dataTable) return;\n",
              "\n",
              "          const docLinkHtml = 'Like what you see? Visit the ' +\n",
              "            '<a target=\"_blank\" href=https://colab.research.google.com/notebooks/data_table.ipynb>data table notebook</a>'\n",
              "            + ' to learn more about interactive tables.';\n",
              "          element.innerHTML = '';\n",
              "          dataTable['output_type'] = 'display_data';\n",
              "          await google.colab.output.renderOutput(dataTable, element);\n",
              "          const docLink = document.createElement('div');\n",
              "          docLink.innerHTML = docLinkHtml;\n",
              "          element.appendChild(docLink);\n",
              "        }\n",
              "      </script>\n",
              "    </div>\n",
              "  </div>\n",
              "  "
            ]
          },
          "metadata": {},
          "execution_count": 4
        }
      ]
    },
    {
      "cell_type": "code",
      "source": [
        "sentiword['point'][100:150]"
      ],
      "metadata": {
        "colab": {
          "base_uri": "https://localhost:8080/"
        },
        "id": "G7EuSpglrdGP",
        "outputId": "2e437535-055d-4e38-8718-5abaed1299b8"
      },
      "execution_count": null,
      "outputs": [
        {
          "output_type": "execute_result",
          "data": {
            "text/plain": [
              "100   -1.0\n",
              "101   -1.0\n",
              "102   -1.0\n",
              "103   -1.0\n",
              "104   -1.0\n",
              "105   -1.0\n",
              "106   -1.0\n",
              "107   -1.0\n",
              "108   -1.0\n",
              "109   -1.0\n",
              "110   -1.0\n",
              "111   -1.0\n",
              "112   -1.0\n",
              "113   -1.0\n",
              "114   -1.0\n",
              "115   -1.0\n",
              "116    1.0\n",
              "117    1.0\n",
              "118    0.0\n",
              "119   -1.0\n",
              "120    0.0\n",
              "121   -1.0\n",
              "122   -1.0\n",
              "123   -1.0\n",
              "124   -2.0\n",
              "125    1.0\n",
              "126   -1.0\n",
              "127   -1.0\n",
              "128   -1.0\n",
              "129   -1.0\n",
              "130   -1.0\n",
              "131   -1.0\n",
              "132   -1.0\n",
              "133   -1.0\n",
              "134    1.0\n",
              "135   -1.0\n",
              "136   -1.0\n",
              "137   -1.0\n",
              "138   -1.0\n",
              "139    1.0\n",
              "140    1.0\n",
              "141    2.0\n",
              "142    2.0\n",
              "143    2.0\n",
              "144    2.0\n",
              "145    2.0\n",
              "146    1.0\n",
              "147    1.0\n",
              "148    1.0\n",
              "149    1.0\n",
              "Name: point, dtype: float64"
            ]
          },
          "metadata": {},
          "execution_count": 43
        }
      ]
    },
    {
      "cell_type": "code",
      "source": [
        "sentiword['sent'][14850] = '갈등'\n",
        "sentiword['point'][14850] = -1.0"
      ],
      "metadata": {
        "colab": {
          "base_uri": "https://localhost:8080/"
        },
        "id": "b5Lf899ZZ-GX",
        "outputId": "ac712b08-af78-406c-f43a-2d2b8d2e39b9"
      },
      "execution_count": null,
      "outputs": [
        {
          "output_type": "stream",
          "name": "stderr",
          "text": [
            "<ipython-input-5-924c93b20692>:1: SettingWithCopyWarning: \n",
            "A value is trying to be set on a copy of a slice from a DataFrame\n",
            "\n",
            "See the caveats in the documentation: https://pandas.pydata.org/pandas-docs/stable/user_guide/indexing.html#returning-a-view-versus-a-copy\n",
            "  sentiword['sent'][14850] = '갈등'\n",
            "<ipython-input-5-924c93b20692>:2: SettingWithCopyWarning: \n",
            "A value is trying to be set on a copy of a slice from a DataFrame\n",
            "\n",
            "See the caveats in the documentation: https://pandas.pydata.org/pandas-docs/stable/user_guide/indexing.html#returning-a-view-versus-a-copy\n",
            "  sentiword['point'][14850] = -1.0\n"
          ]
        }
      ]
    },
    {
      "cell_type": "code",
      "source": [
        "sentiword.info()"
      ],
      "metadata": {
        "colab": {
          "base_uri": "https://localhost:8080/"
        },
        "id": "HBLnsCuhZoah",
        "outputId": "ac031d70-f82c-4239-be8d-05f3d75e1a57"
      },
      "execution_count": null,
      "outputs": [
        {
          "output_type": "stream",
          "name": "stdout",
          "text": [
            "<class 'pandas.core.frame.DataFrame'>\n",
            "RangeIndex: 14855 entries, 0 to 14854\n",
            "Data columns (total 2 columns):\n",
            " #   Column  Non-Null Count  Dtype  \n",
            "---  ------  --------------  -----  \n",
            " 0   sent    14855 non-null  object \n",
            " 1   point   14855 non-null  float64\n",
            "dtypes: float64(1), object(1)\n",
            "memory usage: 232.2+ KB\n"
          ]
        }
      ]
    },
    {
      "cell_type": "code",
      "source": [
        "df"
      ],
      "metadata": {
        "colab": {
          "base_uri": "https://localhost:8080/",
          "height": 424
        },
        "id": "UvAkIYtmSGNt",
        "outputId": "73120bd0-ec98-449e-a80f-0716080bc7c6"
      },
      "execution_count": null,
      "outputs": [
        {
          "output_type": "execute_result",
          "data": {
            "text/plain": [
              "                                  title  \\\n",
              "0                신은 없어도 위대한 자들은 존재합니다     \n",
              "1          한국교회는 남들에게 민폐를 끼쳐서 조롱 받는 거     \n",
              "2      솔로지옥2보는 분들 출연자 인기투표 해봐요 (투표수정)     \n",
              "3              신 말고 그럼 귀신의 존재는 믿으시나요?     \n",
              "4                       저 오늘 생일이에여 ㅎㅎ     \n",
              "...                                 ...   \n",
              "48091           안암에서 해 볼 수 있는 곳 있을까요?     \n",
              "48092                   비문학 뇌지컬 기르는 법     \n",
              "48093                    1월 1일!!!!!!!     \n",
              "48094                    새해 복 많이 받으세요     \n",
              "48095                            새해 복     \n",
              "\n",
              "                                                    text                 date  \\\n",
              "0                       크툴루를 믿으십시오 \\n오 아미그달라 아미그달라     출  2022-12-28 00:20:13   \n",
              "1      진짜 예수님 말씀대로 봉사만 잘 하면 알아서 신자 늘어나는데 온갖 추악한 일은 다 ...  2022-12-28 00:19:01   \n",
              "2      투표지가 너무 헷갈려서 저부터 잘못 투표했더라구요 ㅋㅋ \\n남자분들은 위에 12명,...  2022-12-28 00:16:07   \n",
              "3                                  귀신이 존재한다고 보시나요?     출  2022-12-28 00:09:08   \n",
              "4         근데 다들 사는게 바빠서ㅜ그런지 아무도 축하메세가 어흑 ㅠㅜ....ㅎㅎ      출  2022-12-28 00:08:58   \n",
              "...                                                  ...                  ...   \n",
              "48091                                    일출 보고싶어요ㅠ     출  2022-01-01 00:11:17   \n",
              "48092  리트고 수능비문학이고 \\n뇌지컬을 기르는게 방법이라 생각합니다 \\n \\n뇌지컬을 향...  2022-01-01 00:08:53   \n",
              "48093                              닉네임 바꾸러 가야지....     출  2022-01-01 00:02:59   \n",
              "48094                               다들 원하는 일 이루시길      출  2022-01-01 00:00:29   \n",
              "48095                                  많이 받으세요!!!!     출  2022-01-01 00:00:28   \n",
              "\n",
              "       see  like  comment  \n",
              "0      248     6      1.0  \n",
              "1      161     6      4.0  \n",
              "2      586     1      0.0  \n",
              "3      340     0      9.0  \n",
              "4      301     8     10.0  \n",
              "...    ...   ...      ...  \n",
              "48091  663     0      9.0  \n",
              "48092  625     0      4.0  \n",
              "48093  164     1      1.0  \n",
              "48094  158     6      1.0  \n",
              "48095  107     5      1.0  \n",
              "\n",
              "[48096 rows x 6 columns]"
            ],
            "text/html": [
              "\n",
              "  <div id=\"df-f833aa3d-cfcb-43e3-8591-608180118635\">\n",
              "    <div class=\"colab-df-container\">\n",
              "      <div>\n",
              "<style scoped>\n",
              "    .dataframe tbody tr th:only-of-type {\n",
              "        vertical-align: middle;\n",
              "    }\n",
              "\n",
              "    .dataframe tbody tr th {\n",
              "        vertical-align: top;\n",
              "    }\n",
              "\n",
              "    .dataframe thead th {\n",
              "        text-align: right;\n",
              "    }\n",
              "</style>\n",
              "<table border=\"1\" class=\"dataframe\">\n",
              "  <thead>\n",
              "    <tr style=\"text-align: right;\">\n",
              "      <th></th>\n",
              "      <th>title</th>\n",
              "      <th>text</th>\n",
              "      <th>date</th>\n",
              "      <th>see</th>\n",
              "      <th>like</th>\n",
              "      <th>comment</th>\n",
              "    </tr>\n",
              "  </thead>\n",
              "  <tbody>\n",
              "    <tr>\n",
              "      <th>0</th>\n",
              "      <td>신은 없어도 위대한 자들은 존재합니다</td>\n",
              "      <td>크툴루를 믿으십시오 \\n오 아미그달라 아미그달라     출</td>\n",
              "      <td>2022-12-28 00:20:13</td>\n",
              "      <td>248</td>\n",
              "      <td>6</td>\n",
              "      <td>1.0</td>\n",
              "    </tr>\n",
              "    <tr>\n",
              "      <th>1</th>\n",
              "      <td>한국교회는 남들에게 민폐를 끼쳐서 조롱 받는 거</td>\n",
              "      <td>진짜 예수님 말씀대로 봉사만 잘 하면 알아서 신자 늘어나는데 온갖 추악한 일은 다 ...</td>\n",
              "      <td>2022-12-28 00:19:01</td>\n",
              "      <td>161</td>\n",
              "      <td>6</td>\n",
              "      <td>4.0</td>\n",
              "    </tr>\n",
              "    <tr>\n",
              "      <th>2</th>\n",
              "      <td>솔로지옥2보는 분들 출연자 인기투표 해봐요 (투표수정)</td>\n",
              "      <td>투표지가 너무 헷갈려서 저부터 잘못 투표했더라구요 ㅋㅋ \\n남자분들은 위에 12명,...</td>\n",
              "      <td>2022-12-28 00:16:07</td>\n",
              "      <td>586</td>\n",
              "      <td>1</td>\n",
              "      <td>0.0</td>\n",
              "    </tr>\n",
              "    <tr>\n",
              "      <th>3</th>\n",
              "      <td>신 말고 그럼 귀신의 존재는 믿으시나요?</td>\n",
              "      <td>귀신이 존재한다고 보시나요?     출</td>\n",
              "      <td>2022-12-28 00:09:08</td>\n",
              "      <td>340</td>\n",
              "      <td>0</td>\n",
              "      <td>9.0</td>\n",
              "    </tr>\n",
              "    <tr>\n",
              "      <th>4</th>\n",
              "      <td>저 오늘 생일이에여 ㅎㅎ</td>\n",
              "      <td>근데 다들 사는게 바빠서ㅜ그런지 아무도 축하메세가 어흑 ㅠㅜ....ㅎㅎ      출</td>\n",
              "      <td>2022-12-28 00:08:58</td>\n",
              "      <td>301</td>\n",
              "      <td>8</td>\n",
              "      <td>10.0</td>\n",
              "    </tr>\n",
              "    <tr>\n",
              "      <th>...</th>\n",
              "      <td>...</td>\n",
              "      <td>...</td>\n",
              "      <td>...</td>\n",
              "      <td>...</td>\n",
              "      <td>...</td>\n",
              "      <td>...</td>\n",
              "    </tr>\n",
              "    <tr>\n",
              "      <th>48091</th>\n",
              "      <td>안암에서 해 볼 수 있는 곳 있을까요?</td>\n",
              "      <td>일출 보고싶어요ㅠ     출</td>\n",
              "      <td>2022-01-01 00:11:17</td>\n",
              "      <td>663</td>\n",
              "      <td>0</td>\n",
              "      <td>9.0</td>\n",
              "    </tr>\n",
              "    <tr>\n",
              "      <th>48092</th>\n",
              "      <td>비문학 뇌지컬 기르는 법</td>\n",
              "      <td>리트고 수능비문학이고 \\n뇌지컬을 기르는게 방법이라 생각합니다 \\n \\n뇌지컬을 향...</td>\n",
              "      <td>2022-01-01 00:08:53</td>\n",
              "      <td>625</td>\n",
              "      <td>0</td>\n",
              "      <td>4.0</td>\n",
              "    </tr>\n",
              "    <tr>\n",
              "      <th>48093</th>\n",
              "      <td>1월 1일!!!!!!!</td>\n",
              "      <td>닉네임 바꾸러 가야지....     출</td>\n",
              "      <td>2022-01-01 00:02:59</td>\n",
              "      <td>164</td>\n",
              "      <td>1</td>\n",
              "      <td>1.0</td>\n",
              "    </tr>\n",
              "    <tr>\n",
              "      <th>48094</th>\n",
              "      <td>새해 복 많이 받으세요</td>\n",
              "      <td>다들 원하는 일 이루시길      출</td>\n",
              "      <td>2022-01-01 00:00:29</td>\n",
              "      <td>158</td>\n",
              "      <td>6</td>\n",
              "      <td>1.0</td>\n",
              "    </tr>\n",
              "    <tr>\n",
              "      <th>48095</th>\n",
              "      <td>새해 복</td>\n",
              "      <td>많이 받으세요!!!!     출</td>\n",
              "      <td>2022-01-01 00:00:28</td>\n",
              "      <td>107</td>\n",
              "      <td>5</td>\n",
              "      <td>1.0</td>\n",
              "    </tr>\n",
              "  </tbody>\n",
              "</table>\n",
              "<p>48096 rows × 6 columns</p>\n",
              "</div>\n",
              "      <button class=\"colab-df-convert\" onclick=\"convertToInteractive('df-f833aa3d-cfcb-43e3-8591-608180118635')\"\n",
              "              title=\"Convert this dataframe to an interactive table.\"\n",
              "              style=\"display:none;\">\n",
              "        \n",
              "  <svg xmlns=\"http://www.w3.org/2000/svg\" height=\"24px\"viewBox=\"0 0 24 24\"\n",
              "       width=\"24px\">\n",
              "    <path d=\"M0 0h24v24H0V0z\" fill=\"none\"/>\n",
              "    <path d=\"M18.56 5.44l.94 2.06.94-2.06 2.06-.94-2.06-.94-.94-2.06-.94 2.06-2.06.94zm-11 1L8.5 8.5l.94-2.06 2.06-.94-2.06-.94L8.5 2.5l-.94 2.06-2.06.94zm10 10l.94 2.06.94-2.06 2.06-.94-2.06-.94-.94-2.06-.94 2.06-2.06.94z\"/><path d=\"M17.41 7.96l-1.37-1.37c-.4-.4-.92-.59-1.43-.59-.52 0-1.04.2-1.43.59L10.3 9.45l-7.72 7.72c-.78.78-.78 2.05 0 2.83L4 21.41c.39.39.9.59 1.41.59.51 0 1.02-.2 1.41-.59l7.78-7.78 2.81-2.81c.8-.78.8-2.07 0-2.86zM5.41 20L4 18.59l7.72-7.72 1.47 1.35L5.41 20z\"/>\n",
              "  </svg>\n",
              "      </button>\n",
              "      \n",
              "  <style>\n",
              "    .colab-df-container {\n",
              "      display:flex;\n",
              "      flex-wrap:wrap;\n",
              "      gap: 12px;\n",
              "    }\n",
              "\n",
              "    .colab-df-convert {\n",
              "      background-color: #E8F0FE;\n",
              "      border: none;\n",
              "      border-radius: 50%;\n",
              "      cursor: pointer;\n",
              "      display: none;\n",
              "      fill: #1967D2;\n",
              "      height: 32px;\n",
              "      padding: 0 0 0 0;\n",
              "      width: 32px;\n",
              "    }\n",
              "\n",
              "    .colab-df-convert:hover {\n",
              "      background-color: #E2EBFA;\n",
              "      box-shadow: 0px 1px 2px rgba(60, 64, 67, 0.3), 0px 1px 3px 1px rgba(60, 64, 67, 0.15);\n",
              "      fill: #174EA6;\n",
              "    }\n",
              "\n",
              "    [theme=dark] .colab-df-convert {\n",
              "      background-color: #3B4455;\n",
              "      fill: #D2E3FC;\n",
              "    }\n",
              "\n",
              "    [theme=dark] .colab-df-convert:hover {\n",
              "      background-color: #434B5C;\n",
              "      box-shadow: 0px 1px 3px 1px rgba(0, 0, 0, 0.15);\n",
              "      filter: drop-shadow(0px 1px 2px rgba(0, 0, 0, 0.3));\n",
              "      fill: #FFFFFF;\n",
              "    }\n",
              "  </style>\n",
              "\n",
              "      <script>\n",
              "        const buttonEl =\n",
              "          document.querySelector('#df-f833aa3d-cfcb-43e3-8591-608180118635 button.colab-df-convert');\n",
              "        buttonEl.style.display =\n",
              "          google.colab.kernel.accessAllowed ? 'block' : 'none';\n",
              "\n",
              "        async function convertToInteractive(key) {\n",
              "          const element = document.querySelector('#df-f833aa3d-cfcb-43e3-8591-608180118635');\n",
              "          const dataTable =\n",
              "            await google.colab.kernel.invokeFunction('convertToInteractive',\n",
              "                                                     [key], {});\n",
              "          if (!dataTable) return;\n",
              "\n",
              "          const docLinkHtml = 'Like what you see? Visit the ' +\n",
              "            '<a target=\"_blank\" href=https://colab.research.google.com/notebooks/data_table.ipynb>data table notebook</a>'\n",
              "            + ' to learn more about interactive tables.';\n",
              "          element.innerHTML = '';\n",
              "          dataTable['output_type'] = 'display_data';\n",
              "          await google.colab.output.renderOutput(dataTable, element);\n",
              "          const docLink = document.createElement('div');\n",
              "          docLink.innerHTML = docLinkHtml;\n",
              "          element.appendChild(docLink);\n",
              "        }\n",
              "      </script>\n",
              "    </div>\n",
              "  </div>\n",
              "  "
            ]
          },
          "metadata": {},
          "execution_count": 7
        }
      ]
    },
    {
      "cell_type": "code",
      "source": [
        "#맨 뒤에 출 계쏙 나오는거 지우는 간단코드\n",
        "for i in range(len(df)):\n",
        "  df['text'][i] = df['text'][i][:-1].strip()"
      ],
      "metadata": {
        "colab": {
          "base_uri": "https://localhost:8080/"
        },
        "id": "V-9-5PIZZ3MX",
        "outputId": "f66bc182-de71-4290-a15c-c5aca57d3837"
      },
      "execution_count": null,
      "outputs": [
        {
          "output_type": "stream",
          "name": "stderr",
          "text": [
            "<ipython-input-8-3bb0b9ca0360>:3: SettingWithCopyWarning: \n",
            "A value is trying to be set on a copy of a slice from a DataFrame\n",
            "\n",
            "See the caveats in the documentation: https://pandas.pydata.org/pandas-docs/stable/user_guide/indexing.html#returning-a-view-versus-a-copy\n",
            "  df['text'][i] = df['text'][i][:-1].strip()\n"
          ]
        }
      ]
    },
    {
      "cell_type": "code",
      "source": [
        "df_text = df['text']\n",
        "df_title = df['title']"
      ],
      "metadata": {
        "id": "siwhoXjtSfDU"
      },
      "execution_count": null,
      "outputs": []
    },
    {
      "cell_type": "code",
      "source": [
        "df_text"
      ],
      "metadata": {
        "colab": {
          "base_uri": "https://localhost:8080/"
        },
        "id": "4UwB9pNXYtMc",
        "outputId": "c45d1a42-eec2-4515-9da4-73f00a7e4cf8"
      },
      "execution_count": null,
      "outputs": [
        {
          "output_type": "execute_result",
          "data": {
            "text/plain": [
              "0                               크툴루를 믿으십시오 \\n오 아미그달라 아미그달라\n",
              "1        진짜 예수님 말씀대로 봉사만 잘 하면 알아서 신자 늘어나는데 온갖 추악한 일은 다 ...\n",
              "2        투표지가 너무 헷갈려서 저부터 잘못 투표했더라구요 ㅋㅋ \\n남자분들은 위에 12명,...\n",
              "3                                          귀신이 존재한다고 보시나요?\n",
              "4                  근데 다들 사는게 바빠서ㅜ그런지 아무도 축하메세가 어흑 ㅠㅜ....ㅎㅎ\n",
              "                               ...                        \n",
              "48091                                            일출 보고싶어요ㅠ\n",
              "48092    리트고 수능비문학이고 \\n뇌지컬을 기르는게 방법이라 생각합니다 \\n \\n뇌지컬을 향...\n",
              "48093                                      닉네임 바꾸러 가야지....\n",
              "48094                                        다들 원하는 일 이루시길\n",
              "48095                                          많이 받으세요!!!!\n",
              "Name: text, Length: 48096, dtype: object"
            ]
          },
          "metadata": {},
          "execution_count": 10
        }
      ]
    },
    {
      "cell_type": "markdown",
      "source": [
        "#감성분석"
      ],
      "metadata": {
        "id": "VKjedPVscINo"
      }
    },
    {
      "cell_type": "code",
      "source": [
        "pip install konlpy"
      ],
      "metadata": {
        "colab": {
          "base_uri": "https://localhost:8080/"
        },
        "id": "aOGbmTbGcJ2T",
        "outputId": "a93fff04-9e95-4487-f734-75746c0fbacb"
      },
      "execution_count": null,
      "outputs": [
        {
          "output_type": "stream",
          "name": "stdout",
          "text": [
            "Looking in indexes: https://pypi.org/simple, https://us-python.pkg.dev/colab-wheels/public/simple/\n",
            "Collecting konlpy\n",
            "  Downloading konlpy-0.6.0-py2.py3-none-any.whl (19.4 MB)\n",
            "\u001b[2K     \u001b[90m━━━━━━━━━━━━━━━━━━━━━━━━━━━━━━━━━━━━━━━━\u001b[0m \u001b[32m19.4/19.4 MB\u001b[0m \u001b[31m58.5 MB/s\u001b[0m eta \u001b[36m0:00:00\u001b[0m\n",
            "\u001b[?25hRequirement already satisfied: lxml>=4.1.0 in /usr/local/lib/python3.8/dist-packages (from konlpy) (4.9.2)\n",
            "Requirement already satisfied: numpy>=1.6 in /usr/local/lib/python3.8/dist-packages (from konlpy) (1.21.6)\n",
            "Collecting JPype1>=0.7.0\n",
            "  Downloading JPype1-1.4.1-cp38-cp38-manylinux_2_12_x86_64.manylinux2010_x86_64.whl (465 kB)\n",
            "\u001b[2K     \u001b[90m━━━━━━━━━━━━━━━━━━━━━━━━━━━━━━━━━━━━━━\u001b[0m \u001b[32m465.6/465.6 KB\u001b[0m \u001b[31m42.6 MB/s\u001b[0m eta \u001b[36m0:00:00\u001b[0m\n",
            "\u001b[?25hRequirement already satisfied: packaging in /usr/local/lib/python3.8/dist-packages (from JPype1>=0.7.0->konlpy) (21.3)\n",
            "Requirement already satisfied: pyparsing!=3.0.5,>=2.0.2 in /usr/local/lib/python3.8/dist-packages (from packaging->JPype1>=0.7.0->konlpy) (3.0.9)\n",
            "Installing collected packages: JPype1, konlpy\n",
            "Successfully installed JPype1-1.4.1 konlpy-0.6.0\n"
          ]
        }
      ]
    },
    {
      "cell_type": "code",
      "source": [
        "from konlpy.tag import Okt"
      ],
      "metadata": {
        "id": "zhmR6qFbcM2T"
      },
      "execution_count": null,
      "outputs": []
    },
    {
      "cell_type": "code",
      "source": [
        "stopwords_seoyongi=pd.read_csv(\"/content/drive/Shareddrives/22_FW_고파스 분류예측 프로젝트/stopword.txt\",sep=',', header=None)\n",
        "stopwords_seoyongi.columns=['stopwords']\n",
        "stopwords = set(stopwords_seoyongi['stopwords'])\n"
      ],
      "metadata": {
        "id": "k_d9Gxe7dGK1"
      },
      "execution_count": null,
      "outputs": []
    },
    {
      "cell_type": "code",
      "source": [
        "#불용어 제거 함수\n",
        "def re_bu(df_text):\n",
        "  okt = Okt()\n",
        "  result_bul = []\n",
        "  for i in range(len(df_text)):\n",
        "    example=df_text[i]\n",
        "\n",
        "    word_tokens = okt.morphs(example)\n",
        "\n",
        "    result = [word for word in word_tokens if not word in stopwords]\n",
        "    result_bul.append(result)\n",
        "  return result_bul"
      ],
      "metadata": {
        "id": "XrpI31pPTB2J"
      },
      "execution_count": null,
      "outputs": []
    },
    {
      "cell_type": "code",
      "source": [
        "#감성점수 매기는 함수\n",
        "def re_po(result_bul):\n",
        "  result_point=[]\n",
        "  for r_b in result_bul:\n",
        "    s_point = 0\n",
        "    for j in r_b:\n",
        "      try:\n",
        "        a = sentiword[sentiword['sent'] == j]['point'].item()\n",
        "        s_point += a\n",
        "      except:\n",
        "        pass\n",
        "    result_point.append(s_point)\n",
        "  return result_point"
      ],
      "metadata": {
        "id": "BGY2yZ09eMsk"
      },
      "execution_count": null,
      "outputs": []
    },
    {
      "cell_type": "code",
      "source": [
        "#최종 값으로 뽑아주는 함수\n",
        "def cole(data):\n",
        "  pos = 0\n",
        "  neg = 0\n",
        "  cen = 0\n",
        "  for i in data:\n",
        "    if i > 0:\n",
        "      pos += 1\n",
        "    elif i == 0:\n",
        "      cen += 1\n",
        "    elif i < 0:\n",
        "      neg += 1\n",
        "  sum = pos+neg+cen\n",
        "  print(f'긍정 비율은 {pos/sum*100}% 부정 비율은 {neg/sum*100}% 중성 비율은 {cen/sum*100} 총 데이터 수는 {len(data)} 오류 수는 {len(data) - sum}')\n",
        "  return pos, neg, cen\n"
      ],
      "metadata": {
        "id": "4Un9qwK1haY8"
      },
      "execution_count": null,
      "outputs": []
    },
    {
      "cell_type": "code",
      "source": [],
      "metadata": {
        "id": "H-SOj-CxAxR4"
      },
      "execution_count": null,
      "outputs": []
    },
    {
      "cell_type": "code",
      "source": [
        "#list 두개 더하는 함수\n",
        "def listsum(a,b):\n",
        "  result = list()\n",
        "  for i in range(len(a)):\n",
        "    result.append(a[i]+b[i])\n",
        "  return result"
      ],
      "metadata": {
        "id": "MHkh44eyVpYt"
      },
      "execution_count": null,
      "outputs": []
    },
    {
      "cell_type": "code",
      "source": [
        "rebu_text = re_bu(df_text)\n",
        "rebu_title = re_bu(df_title)\n",
        "point_text = re_po(rebu_text)\n",
        "point_title = re_po(rebu_title)\n",
        "data = listsum(point_text, point_title)\n",
        "cole(data)"
      ],
      "metadata": {
        "colab": {
          "base_uri": "https://localhost:8080/"
        },
        "id": "pztVvEmPUxHn",
        "outputId": "557d9ca3-8aec-4055-9791-261e512008b7"
      },
      "execution_count": null,
      "outputs": [
        {
          "output_type": "stream",
          "name": "stdout",
          "text": [
            "긍정 비율은 28.274700598802394% 부정 비율은 25.03534597471723% 중성 비율은 46.68995342648037 총 데이터 수는 48096 오류 수는 0\n"
          ]
        },
        {
          "output_type": "execute_result",
          "data": {
            "text/plain": [
              "(13599, 12041, 22456)"
            ]
          },
          "metadata": {},
          "execution_count": 18
        }
      ]
    },
    {
      "cell_type": "code",
      "source": [
        "print(data.index(max(data)), data.index(min(data)))\n",
        "print(max(data), min(data))"
      ],
      "metadata": {
        "colab": {
          "base_uri": "https://localhost:8080/"
        },
        "id": "lWPRDqTVlDRr",
        "outputId": "7abff21a-5d7b-48af-eff0-d28ddb7cf7cd"
      },
      "execution_count": null,
      "outputs": [
        {
          "output_type": "stream",
          "name": "stdout",
          "text": [
            "18136 12426\n",
            "46.0 -50.0\n"
          ]
        }
      ]
    },
    {
      "cell_type": "code",
      "source": [
        "print(df['title'][18136])\n",
        "print(df['title'][12426])"
      ],
      "metadata": {
        "colab": {
          "base_uri": "https://localhost:8080/"
        },
        "id": "ONWipVHkmEGb",
        "outputId": "1222b964-13e5-4d25-b98c-66ec17091adf"
      },
      "execution_count": null,
      "outputs": [
        {
          "output_type": "stream",
          "name": "stdout",
          "text": [
            "재미로 보는 진화심리학, 그리고 남성과 여성  \n",
            "인간이 타인에 대해 느끼는 슬픔은 심리적 거리에 기반한다고 생각한다.\n"
          ]
        }
      ]
    },
    {
      "cell_type": "code",
      "source": [
        "#print(df['text'][18136])\n",
        "print(df['text'][12426])"
      ],
      "metadata": {
        "colab": {
          "base_uri": "https://localhost:8080/"
        },
        "id": "uMvr-f-UlZNN",
        "outputId": "9f4a1944-6f98-44a8-85d3-2ea3956d7c08"
      },
      "execution_count": null,
      "outputs": [
        {
          "output_type": "stream",
          "name": "stdout",
          "text": [
            "그래서 사람마다 느끼는 슬픔의 유무나 정도는 다를 수 있다. 그러니 굳이 죄없는 사람의 죽음에 대해 타인과 슬픔의 정도를 비교하며 '나는 슬프지 않아요, 이것보다 어떤 죽음이 더 슬퍼요'라고 외치지는 않으면 좋겠다. 굳이 왜 외치는건지 모르겠다. \n",
            " \n",
            "자신만의 입장에서는, \n",
            " \n",
            "본적도 없고 알지도 못하는 가까운 이웃 사람의 죽음보다, 등하교길이나 출퇴근길에 들리던 카페의 사장님이 돌아가셨다는 죽음이 더 슬플 것이다. 개인적으로 알지는 못해도 자신이 속한 학교나 직장에 다니는 사람이 죽었다는 것이 다른 집단에 속한 사람이 죽었다는 것보다 더 슬플 것이다. 자신이 자주가던 장소에서 사고가 나면 다른장소 사고보다 더 슬플 수 있다. 건설현장에서 하루에 1~2명씩 돌아가신다고 하는데, 자신이 그쪽 일을 해본적이 있다면 다른 현장사고보다 더 슬플 수도 있다. 지금 이 글을 쓰고 있는 중에도 아프리카에서 누군가는 굶어죽어가고 있다는 것에 슬퍼하고 있지는 않지만, 아프리카 의료봉사를 다녀온 누군가는 슬퍼할 수도 있다. 자식이 있는 부부는 없는 부부들보다 다른 가정의 아이의 죽음에 더 슬픔을 공감할 수도 있다. 다 다르다. \n",
            " \n",
            "이렇게 사람은 타인과의 심리적 거리에 따라서 '모두 다르게' 슬픔을 느낀다고 생각한다. \n",
            " \n",
            "그러므로 나는 슬프지 않거나 주변보다 덜 슬프다고, 슬퍼하는 사람들이 있을 것임을 분명하게 알면서도 '나는 슬프지 않은데요?'라고 굳이 먼저 말하거나 티내는 것은 슬픔을 강요하는 것만큼이나 참 씁쓸한 행태라고 생각된다. 분명 슬퍼하는 사람들이 있을 걸 알면서도 굳이 '제가 슬프지는 않은데 싸이코패스인가요? 쏘시오패스인가요? 어떤 죽음이 더 슬프고 이건 슬프지 않아요'라는 식의 말은 인터넷에서든 현실에서든 하지 않는게 좋겠다. 다 다르다. 이것이 우리가 장례식장에 갔을때, 다른 방에서 당신이 전혀 모르는 사람의 죽음을 슬퍼하는 사람들에게 '저는 슬프지 않은데요' 라고 말하는 것과 무슨 차이가 있는 행태인지 모르겠다. \n",
            " \n",
            " \n",
            " \n",
            "'죄없는 죽음'은 참 안타깝다. 그래서 이번 이태원 사고로 돌아가신 분들 모두 안타깝다. 특정 주체가 주최한 행사에서 질서 통제에 따르지 않은 것도 아니고, 줄서서 기다려야 하는 식의 규칙이 있는 상황에서 위반을 한 것도 아니다. 다들 즐겁게 놀려고 나갔다가 정말 어쩌다보니 자연재해같은 사고가 발생한 것이라 생각한다. 누구에게도 어디에서도 일어날 수 있는 일이다. 그래서 더 안타깝다. 한편으로는 무섭고 어이없어서 충격적으로 느껴진다. '사람끼리 몰리면 저렇게 될 수 있구나, 밀폐된 장소가 아니어도 저럴 수 있구나, 축구 경기끝나고도 지하철역 가면 사람빽빽한데 그것도 위험했던거구나 등등'... 참 충격적이고 안타까운 사고다. \n",
            " \n",
            "주말에 이런저런 기사와 사진, 영상들 그리고 글들을 찬찬히 보며 여러가지 생각이 든다\n"
          ]
        }
      ]
    },
    {
      "cell_type": "code",
      "source": [
        "pos, neg, cen = cole(data)"
      ],
      "metadata": {
        "colab": {
          "base_uri": "https://localhost:8080/"
        },
        "id": "lgstdD0LkpEO",
        "outputId": "66b1c447-7f7e-40fd-a280-222981ef3d27"
      },
      "execution_count": null,
      "outputs": [
        {
          "output_type": "stream",
          "name": "stdout",
          "text": [
            "긍정 비율은 28.274700598802394% 부정 비율은 25.03534597471723% 중성 비율은 46.68995342648037 총 데이터 수는 48096 오류 수는 0\n"
          ]
        }
      ]
    },
    {
      "cell_type": "code",
      "source": [
        "!sudo apt-get install -y fonts-nanum\n",
        "!sudo fc-cache -fv\n",
        "!rm ~/.cache/matplotlib -rf"
      ],
      "metadata": {
        "colab": {
          "base_uri": "https://localhost:8080/"
        },
        "id": "VG_deiSolVoA",
        "outputId": "ee8f73af-3c45-46cb-8b3b-64a711ed44e3"
      },
      "execution_count": null,
      "outputs": [
        {
          "output_type": "stream",
          "name": "stdout",
          "text": [
            "Reading package lists... Done\n",
            "Building dependency tree       \n",
            "Reading state information... Done\n",
            "The following package was automatically installed and is no longer required:\n",
            "  libnvidia-common-460\n",
            "Use 'sudo apt autoremove' to remove it.\n",
            "The following NEW packages will be installed:\n",
            "  fonts-nanum\n",
            "0 upgraded, 1 newly installed, 0 to remove and 21 not upgraded.\n",
            "Need to get 9,604 kB of archives.\n",
            "After this operation, 29.5 MB of additional disk space will be used.\n",
            "Get:1 http://archive.ubuntu.com/ubuntu bionic/universe amd64 fonts-nanum all 20170925-1 [9,604 kB]\n",
            "Fetched 9,604 kB in 3s (3,280 kB/s)\n",
            "debconf: unable to initialize frontend: Dialog\n",
            "debconf: (No usable dialog-like program is installed, so the dialog based frontend cannot be used. at /usr/share/perl5/Debconf/FrontEnd/Dialog.pm line 76, <> line 1.)\n",
            "debconf: falling back to frontend: Readline\n",
            "debconf: unable to initialize frontend: Readline\n",
            "debconf: (This frontend requires a controlling tty.)\n",
            "debconf: falling back to frontend: Teletype\n",
            "dpkg-preconfigure: unable to re-open stdin: \n",
            "Selecting previously unselected package fonts-nanum.\n",
            "(Reading database ... 124016 files and directories currently installed.)\n",
            "Preparing to unpack .../fonts-nanum_20170925-1_all.deb ...\n",
            "Unpacking fonts-nanum (20170925-1) ...\n",
            "Setting up fonts-nanum (20170925-1) ...\n",
            "Processing triggers for fontconfig (2.12.6-0ubuntu2) ...\n",
            "/usr/share/fonts: caching, new cache contents: 0 fonts, 1 dirs\n",
            "/usr/share/fonts/truetype: caching, new cache contents: 0 fonts, 3 dirs\n",
            "/usr/share/fonts/truetype/humor-sans: caching, new cache contents: 1 fonts, 0 dirs\n",
            "/usr/share/fonts/truetype/liberation: caching, new cache contents: 16 fonts, 0 dirs\n",
            "/usr/share/fonts/truetype/nanum: caching, new cache contents: 10 fonts, 0 dirs\n",
            "/usr/local/share/fonts: caching, new cache contents: 0 fonts, 0 dirs\n",
            "/root/.local/share/fonts: skipping, no such directory\n",
            "/root/.fonts: skipping, no such directory\n",
            "/var/cache/fontconfig: cleaning cache directory\n",
            "/root/.cache/fontconfig: not cleaning non-existent cache directory\n",
            "/root/.fontconfig: not cleaning non-existent cache directory\n",
            "fc-cache: succeeded\n"
          ]
        }
      ]
    },
    {
      "cell_type": "code",
      "source": [
        "ratio = [pos, cen, neg]\n",
        "labels = ['긍정', '중립', '부정']\n",
        "exp = [0.03, 0.03, 0.03]\n",
        "colors = ['royalblue', 'limegreen', '#e35f62']\n",
        "plt.rc('font', family='NanumBarunGothic', size = 15) \n",
        "plt.pie(ratio, labels = labels, colors = colors, autopct = '%.1f%%', startangle = 90, explode = exp, shadow = True)\n",
        "plt.show()"
      ],
      "metadata": {
        "colab": {
          "base_uri": "https://localhost:8080/",
          "height": 634
        },
        "id": "DsNpJLfZk0dH",
        "outputId": "817a79b0-c576-4fc4-b9f9-f944d81c0310"
      },
      "execution_count": null,
      "outputs": [
        {
          "output_type": "stream",
          "name": "stderr",
          "text": [
            "WARNING:matplotlib.font_manager:findfont: Font family ['NanumBarunGothic'] not found. Falling back to DejaVu Sans.\n",
            "/usr/local/lib/python3.8/dist-packages/matplotlib/backends/backend_agg.py:214: RuntimeWarning: Glyph 44557 missing from current font.\n",
            "  font.set_text(s, 0.0, flags=flags)\n",
            "/usr/local/lib/python3.8/dist-packages/matplotlib/backends/backend_agg.py:214: RuntimeWarning: Glyph 51221 missing from current font.\n",
            "  font.set_text(s, 0.0, flags=flags)\n",
            "/usr/local/lib/python3.8/dist-packages/matplotlib/backends/backend_agg.py:214: RuntimeWarning: Glyph 51473 missing from current font.\n",
            "  font.set_text(s, 0.0, flags=flags)\n",
            "/usr/local/lib/python3.8/dist-packages/matplotlib/backends/backend_agg.py:214: RuntimeWarning: Glyph 47549 missing from current font.\n",
            "  font.set_text(s, 0.0, flags=flags)\n",
            "/usr/local/lib/python3.8/dist-packages/matplotlib/backends/backend_agg.py:214: RuntimeWarning: Glyph 48512 missing from current font.\n",
            "  font.set_text(s, 0.0, flags=flags)\n",
            "/usr/local/lib/python3.8/dist-packages/matplotlib/backends/backend_agg.py:183: RuntimeWarning: Glyph 44557 missing from current font.\n",
            "  font.set_text(s, 0, flags=flags)\n",
            "/usr/local/lib/python3.8/dist-packages/matplotlib/backends/backend_agg.py:183: RuntimeWarning: Glyph 51221 missing from current font.\n",
            "  font.set_text(s, 0, flags=flags)\n",
            "/usr/local/lib/python3.8/dist-packages/matplotlib/backends/backend_agg.py:183: RuntimeWarning: Glyph 51473 missing from current font.\n",
            "  font.set_text(s, 0, flags=flags)\n",
            "/usr/local/lib/python3.8/dist-packages/matplotlib/backends/backend_agg.py:183: RuntimeWarning: Glyph 47549 missing from current font.\n",
            "  font.set_text(s, 0, flags=flags)\n",
            "/usr/local/lib/python3.8/dist-packages/matplotlib/backends/backend_agg.py:183: RuntimeWarning: Glyph 48512 missing from current font.\n",
            "  font.set_text(s, 0, flags=flags)\n"
          ]
        },
        {
          "output_type": "display_data",
          "data": {
            "text/plain": [
              "<Figure size 432x288 with 1 Axes>"
            ],
            "image/png": "[encoded data removed]"
          },
          "metadata": {}
        }
      ]
    },
    {
      "cell_type": "markdown",
      "source": [
        "#참고목록\n",
        "\n",
        "https://bookdown.org/ahn_media/bookdown-demo/anal1freq.html"
      ],
      "metadata": {
        "id": "NufnoOUxTjlS"
      }
    }
  ]
}