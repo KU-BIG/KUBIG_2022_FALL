{
  "nbformat": 4,
  "nbformat_minor": 0,
  "metadata": {
    "colab": {
      "name": "6주차_과제_김지호.ipynb",
      "provenance": [],
      "collapsed_sections": []
    },
    "kernelspec": {
      "name": "python3",
      "display_name": "Python 3"
    },
    "language_info": {
      "name": "python"
    },
    "accelerator": "GPU",
    "gpuClass": "standard"
  },
  "cells": [
    {
      "cell_type": "code",
      "execution_count": null,
      "metadata": {
        "id": "nmQ5F7UAeKB_"
      },
      "outputs": [],
      "source": [
        "import numpy as np\n",
        "import torch\n",
        "import torch.nn as nn\n",
        "import torch.optim as optim"
      ]
    },
    {
      "cell_type": "code",
      "source": [
        "device = torch.device(\"cuda\" if torch.cuda.is_available() else \"cpu\")\n",
        "torch.manual_seed(777)\n",
        "device"
      ],
      "metadata": {
        "colab": {
          "base_uri": "https://localhost:8080/"
        },
        "id": "1caprEkGEDUQ",
        "outputId": "6da7229e-f807-4d36-8882-4368caf8d924"
      },
      "execution_count": null,
      "outputs": [
        {
          "output_type": "execute_result",
          "data": {
            "text/plain": [
              "device(type='cuda')"
            ]
          },
          "metadata": {},
          "execution_count": 175
        }
      ]
    },
    {
      "cell_type": "markdown",
      "source": [
        "## Task1\n"
      ],
      "metadata": {
        "id": "Sgxd6SxmeVcP"
      }
    },
    {
      "cell_type": "markdown",
      "source": [
        "1. 생성할 문장 데이터"
      ],
      "metadata": {
        "id": "xff8TKJfafQi"
      }
    },
    {
      "cell_type": "code",
      "source": [
        "sentence = (\"Brick walls are there for a reason and you must not think \"\n",
        "            \"that the brick walls aren't there to keep us out, but rather \"\n",
        "            \"in this way that the brick walls are there to show us how badly we want things.\")"
      ],
      "metadata": {
        "id": "NDvUeC8BoUb6"
      },
      "execution_count": null,
      "outputs": []
    },
    {
      "cell_type": "markdown",
      "source": [
        "### 1. 데이터 전처리"
      ],
      "metadata": {
        "id": "Jb-81dx1aA1A"
      }
    },
    {
      "cell_type": "markdown",
      "source": [
        "2. 문자 집합 만들기"
      ],
      "metadata": {
        "id": "Nnb3YdsVaizY"
      }
    },
    {
      "cell_type": "code",
      "source": [
        "world_set = sorted(list(set(sentence)))  # 글자 단위로 쪼개기\n",
        "\n",
        "## 문제(1): 각 문자에 정수 인코딩 (공백도 하나의 원소로 포함)\n",
        "vocab = {word : index for index, word in enumerate(world_set)}"
      ],
      "metadata": {
        "id": "b9lkrKyZf8ie"
      },
      "execution_count": null,
      "outputs": []
    },
    {
      "cell_type": "code",
      "source": [
        "print(vocab)"
      ],
      "metadata": {
        "colab": {
          "base_uri": "https://localhost:8080/"
        },
        "id": "JJqE1wpp2R0L",
        "outputId": "f9682929-87ab-466a-8030-0e737a5516db"
      },
      "execution_count": null,
      "outputs": [
        {
          "output_type": "stream",
          "name": "stdout",
          "text": [
            "{' ': 0, \"'\": 1, ',': 2, '.': 3, 'B': 4, 'a': 5, 'b': 6, 'c': 7, 'd': 8, 'e': 9, 'f': 10, 'g': 11, 'h': 12, 'i': 13, 'k': 14, 'l': 15, 'm': 16, 'n': 17, 'o': 18, 'p': 19, 'r': 20, 's': 21, 't': 22, 'u': 23, 'w': 24, 'y': 25}\n"
          ]
        }
      ]
    },
    {
      "cell_type": "markdown",
      "source": [
        "3. 문자 집합 크기 확인"
      ],
      "metadata": {
        "id": "b378Lq5ban7A"
      }
    },
    {
      "cell_type": "code",
      "source": [
        "vocab_size = len(vocab)\n",
        "print('문자 집합 크기 : {}'.format(vocab_size))"
      ],
      "metadata": {
        "colab": {
          "base_uri": "https://localhost:8080/"
        },
        "id": "s7t8l1N44NQJ",
        "outputId": "1198e251-c8a6-4275-8699-aaea916b3fca"
      },
      "execution_count": null,
      "outputs": [
        {
          "output_type": "stream",
          "name": "stdout",
          "text": [
            "문자 집합 크기 : 26\n"
          ]
        }
      ]
    },
    {
      "cell_type": "markdown",
      "source": [
        "4. 하이퍼 파라미터 설정(자유롭게 수정해보세요!)"
      ],
      "metadata": {
        "id": "yr1thj_qasLb"
      }
    },
    {
      "cell_type": "code",
      "source": [
        "hidden_size = vocab_size \n",
        "# 입력은 원-핫 벡터를 사용할 것이므로 입력의 크기는 문자 집합의 크기여야만 함\n",
        "# hidden_size(은닉층의 크기)를 입력의 크기와 동일하게 줬는데, 다른 값을 줘도 무방\b\n",
        "sequence_length = 10  # 샘플을 10개 단위로 끊어서 샘플을 만들 예정\n",
        "learning_rate = 0.01"
      ],
      "metadata": {
        "id": "wFDZJHSMg9In"
      },
      "execution_count": null,
      "outputs": []
    },
    {
      "cell_type": "markdown",
      "source": [
        "5. sequence 길이 단위 자르기"
      ],
      "metadata": {
        "id": "4yVTRh1YawH0"
      }
    },
    {
      "cell_type": "code",
      "source": [
        "# 데이터 구성을 위한 리스트\n",
        "x_data = []\n",
        "y_data = []\n",
        "\n",
        "## 문제(2): 반복문 내에서의 인덱싱을 사용하여 sequence_length 값 단위로 샘플을 잘라 데이터 만들기, y_str은 x_str은 한 칸씩 쉬프트된 sequence\n",
        "\n",
        "for i in range(0, len(sentence) - sequence_length):\n",
        "  x_str = sentence[i:i+sequence_length]\n",
        "  y_str = sentence[i+1: i+sequence_length+1]\n",
        "  print(i, x_str, \"->\", y_str)\n",
        "\n",
        "  # x_str과 y_str이 문자집합에 해당하는 인덱스를 각각 x_data, y_data에 append\n",
        "  x_data.append([vocab[c] for c in x_str])\n",
        "  y_data.append([vocab[d] for d in y_str])"
      ],
      "metadata": {
        "colab": {
          "base_uri": "https://localhost:8080/"
        },
        "id": "RbDcmJmghN7V",
        "outputId": "5e6d27ed-d4fc-40d0-c17d-b7c3f0320971"
      },
      "execution_count": null,
      "outputs": [
        {
          "output_type": "stream",
          "name": "stdout",
          "text": [
            "0 Brick wall -> rick walls\n",
            "1 rick walls -> ick walls \n",
            "2 ick walls  -> ck walls a\n",
            "3 ck walls a -> k walls ar\n",
            "4 k walls ar ->  walls are\n",
            "5  walls are -> walls are \n",
            "6 walls are  -> alls are t\n",
            "7 alls are t -> lls are th\n",
            "8 lls are th -> ls are the\n",
            "9 ls are the -> s are ther\n",
            "10 s are ther ->  are there\n",
            "11  are there -> are there \n",
            "12 are there  -> re there f\n",
            "13 re there f -> e there fo\n",
            "14 e there fo ->  there for\n",
            "15  there for -> there for \n",
            "16 there for  -> here for a\n",
            "17 here for a -> ere for a \n",
            "18 ere for a  -> re for a r\n",
            "19 re for a r -> e for a re\n",
            "20 e for a re ->  for a rea\n",
            "21  for a rea -> for a reas\n",
            "22 for a reas -> or a reaso\n",
            "23 or a reaso -> r a reason\n",
            "24 r a reason ->  a reason \n",
            "25  a reason  -> a reason a\n",
            "26 a reason a ->  reason an\n",
            "27  reason an -> reason and\n",
            "28 reason and -> eason and \n",
            "29 eason and  -> ason and y\n",
            "30 ason and y -> son and yo\n",
            "31 son and yo -> on and you\n",
            "32 on and you -> n and you \n",
            "33 n and you  ->  and you m\n",
            "34  and you m -> and you mu\n",
            "35 and you mu -> nd you mus\n",
            "36 nd you mus -> d you must\n",
            "37 d you must ->  you must \n",
            "38  you must  -> you must n\n",
            "39 you must n -> ou must no\n",
            "40 ou must no -> u must not\n",
            "41 u must not ->  must not \n",
            "42  must not  -> must not t\n",
            "43 must not t -> ust not th\n",
            "44 ust not th -> st not thi\n",
            "45 st not thi -> t not thin\n",
            "46 t not thin ->  not think\n",
            "47  not think -> not think \n",
            "48 not think  -> ot think t\n",
            "49 ot think t -> t think th\n",
            "50 t think th ->  think tha\n",
            "51  think tha -> think that\n",
            "52 think that -> hink that \n",
            "53 hink that  -> ink that t\n",
            "54 ink that t -> nk that th\n",
            "55 nk that th -> k that the\n",
            "56 k that the ->  that the \n",
            "57  that the  -> that the b\n",
            "58 that the b -> hat the br\n",
            "59 hat the br -> at the bri\n",
            "60 at the bri -> t the bric\n",
            "61 t the bric ->  the brick\n",
            "62  the brick -> the brick \n",
            "63 the brick  -> he brick w\n",
            "64 he brick w -> e brick wa\n",
            "65 e brick wa ->  brick wal\n",
            "66  brick wal -> brick wall\n",
            "67 brick wall -> rick walls\n",
            "68 rick walls -> ick walls \n",
            "69 ick walls  -> ck walls a\n",
            "70 ck walls a -> k walls ar\n",
            "71 k walls ar ->  walls are\n",
            "72  walls are -> walls aren\n",
            "73 walls aren -> alls aren'\n",
            "74 alls aren' -> lls aren't\n",
            "75 lls aren't -> ls aren't \n",
            "76 ls aren't  -> s aren't t\n",
            "77 s aren't t ->  aren't th\n",
            "78  aren't th -> aren't the\n",
            "79 aren't the -> ren't ther\n",
            "80 ren't ther -> en't there\n",
            "81 en't there -> n't there \n",
            "82 n't there  -> 't there t\n",
            "83 't there t -> t there to\n",
            "84 t there to ->  there to \n",
            "85  there to  -> there to k\n",
            "86 there to k -> here to ke\n",
            "87 here to ke -> ere to kee\n",
            "88 ere to kee -> re to keep\n",
            "89 re to keep -> e to keep \n",
            "90 e to keep  ->  to keep u\n",
            "91  to keep u -> to keep us\n",
            "92 to keep us -> o keep us \n",
            "93 o keep us  ->  keep us o\n",
            "94  keep us o -> keep us ou\n",
            "95 keep us ou -> eep us out\n",
            "96 eep us out -> ep us out,\n",
            "97 ep us out, -> p us out, \n",
            "98 p us out,  ->  us out, b\n",
            "99  us out, b -> us out, bu\n",
            "100 us out, bu -> s out, but\n",
            "101 s out, but ->  out, but \n",
            "102  out, but  -> out, but r\n",
            "103 out, but r -> ut, but ra\n",
            "104 ut, but ra -> t, but rat\n",
            "105 t, but rat -> , but rath\n",
            "106 , but rath ->  but rathe\n",
            "107  but rathe -> but rather\n",
            "108 but rather -> ut rather \n",
            "109 ut rather  -> t rather i\n",
            "110 t rather i ->  rather in\n",
            "111  rather in -> rather in \n",
            "112 rather in  -> ather in t\n",
            "113 ather in t -> ther in th\n",
            "114 ther in th -> her in thi\n",
            "115 her in thi -> er in this\n",
            "116 er in this -> r in this \n",
            "117 r in this  ->  in this w\n",
            "118  in this w -> in this wa\n",
            "119 in this wa -> n this way\n",
            "120 n this way ->  this way \n",
            "121  this way  -> this way t\n",
            "122 this way t -> his way th\n",
            "123 his way th -> is way tha\n",
            "124 is way tha -> s way that\n",
            "125 s way that ->  way that \n",
            "126  way that  -> way that t\n",
            "127 way that t -> ay that th\n",
            "128 ay that th -> y that the\n",
            "129 y that the ->  that the \n",
            "130  that the  -> that the b\n",
            "131 that the b -> hat the br\n",
            "132 hat the br -> at the bri\n",
            "133 at the bri -> t the bric\n",
            "134 t the bric ->  the brick\n",
            "135  the brick -> the brick \n",
            "136 the brick  -> he brick w\n",
            "137 he brick w -> e brick wa\n",
            "138 e brick wa ->  brick wal\n",
            "139  brick wal -> brick wall\n",
            "140 brick wall -> rick walls\n",
            "141 rick walls -> ick walls \n",
            "142 ick walls  -> ck walls a\n",
            "143 ck walls a -> k walls ar\n",
            "144 k walls ar ->  walls are\n",
            "145  walls are -> walls are \n",
            "146 walls are  -> alls are t\n",
            "147 alls are t -> lls are th\n",
            "148 lls are th -> ls are the\n",
            "149 ls are the -> s are ther\n",
            "150 s are ther ->  are there\n",
            "151  are there -> are there \n",
            "152 are there  -> re there t\n",
            "153 re there t -> e there to\n",
            "154 e there to ->  there to \n",
            "155  there to  -> there to s\n",
            "156 there to s -> here to sh\n",
            "157 here to sh -> ere to sho\n",
            "158 ere to sho -> re to show\n",
            "159 re to show -> e to show \n",
            "160 e to show  ->  to show u\n",
            "161  to show u -> to show us\n",
            "162 to show us -> o show us \n",
            "163 o show us  ->  show us h\n",
            "164  show us h -> show us ho\n",
            "165 show us ho -> how us how\n",
            "166 how us how -> ow us how \n",
            "167 ow us how  -> w us how b\n",
            "168 w us how b ->  us how ba\n",
            "169  us how ba -> us how bad\n",
            "170 us how bad -> s how badl\n",
            "171 s how badl ->  how badly\n",
            "172  how badly -> how badly \n",
            "173 how badly  -> ow badly w\n",
            "174 ow badly w -> w badly we\n",
            "175 w badly we ->  badly we \n",
            "176  badly we  -> badly we w\n",
            "177 badly we w -> adly we wa\n",
            "178 adly we wa -> dly we wan\n",
            "179 dly we wan -> ly we want\n",
            "180 ly we want -> y we want \n",
            "181 y we want  ->  we want t\n",
            "182  we want t -> we want th\n",
            "183 we want th -> e want thi\n",
            "184 e want thi ->  want thin\n",
            "185  want thin -> want thing\n",
            "186 want thing -> ant things\n",
            "187 ant things -> nt things.\n"
          ]
        }
      ]
    },
    {
      "cell_type": "code",
      "source": [
        "# 출력해서 한 칸씩 쉬프트된 것 확인하기!\n",
        "print(x_data[0])\n",
        "print(y_data[0])"
      ],
      "metadata": {
        "colab": {
          "base_uri": "https://localhost:8080/"
        },
        "id": "DPW_wJ7x5tai",
        "outputId": "fc6c61d4-d43c-4b2d-9016-d3f4d1fe665a"
      },
      "execution_count": null,
      "outputs": [
        {
          "output_type": "stream",
          "name": "stdout",
          "text": [
            "[4, 20, 13, 7, 14, 0, 24, 5, 15, 15]\n",
            "[20, 13, 7, 14, 0, 24, 5, 15, 15, 21]\n"
          ]
        }
      ]
    },
    {
      "cell_type": "code",
      "source": [
        "len(x_data)"
      ],
      "metadata": {
        "colab": {
          "base_uri": "https://localhost:8080/"
        },
        "id": "Ims82EqS54F3",
        "outputId": "e335bf2e-3275-45b3-e5c1-85f7cce6140b"
      },
      "execution_count": null,
      "outputs": [
        {
          "output_type": "execute_result",
          "data": {
            "text/plain": [
              "188"
            ]
          },
          "metadata": {},
          "execution_count": 218
        }
      ]
    },
    {
      "cell_type": "markdown",
      "source": [
        "6. 입력 시퀀스에 대해 원핫인코딩 수행\n",
        "7. 입력 데이터, 레이블데이터 텐서로 변환\n",
        "\n",
        "\n",
        "    데이터 타입 + cpu/gpu 에 따라서 텐서 타입 다르게 : https://subinium.github.io/pytorch-Tensor-Variable/\n",
        "    "
      ],
      "metadata": {
        "id": "ZqXi3IhvEl-b"
      }
    },
    {
      "cell_type": "code",
      "source": [
        "## 문제(4) : x_data를 원핫인코딩 \n",
        "x_one_hot = [np.eye(vocab_size)[x] for x in x_data]\n",
        "\n",
        "## 문제(5) : x_one_hot과 y_data를 텐서로 변환 \n",
        "# torch.Tensor() = torch.tensor([])  \n",
        "X = torch.cuda.FloatTensor(x_one_hot)\n",
        "Y = torch.cuda.LongTensor(y_data) # \"nll_loss_forward_reduce_cuda_kernel_2d_index\" not implemented for 'Float'"
      ],
      "metadata": {
        "id": "5lPes1dvjlNb"
      },
      "execution_count": null,
      "outputs": []
    },
    {
      "cell_type": "markdown",
      "source": [
        "8. 크기 확인"
      ],
      "metadata": {
        "id": "McaY-_OYdMUm"
      }
    },
    {
      "cell_type": "code",
      "source": [
        "print('훈련 데이터의 크기 : {}'.format(X.shape)) # (batch size, 문장 길이, 단어 벡터의 차원)\n",
        "print('레이블의 크기 : {}'.format(Y.shape))"
      ],
      "metadata": {
        "colab": {
          "base_uri": "https://localhost:8080/"
        },
        "id": "lMZzZlaymMk8",
        "outputId": "6f6d25e2-ecf5-49b1-8fb5-f20ad473a021"
      },
      "execution_count": null,
      "outputs": [
        {
          "output_type": "stream",
          "name": "stdout",
          "text": [
            "훈련 데이터의 크기 : torch.Size([188, 10, 26])\n",
            "레이블의 크기 : torch.Size([188, 10])\n"
          ]
        }
      ]
    },
    {
      "cell_type": "markdown",
      "source": [
        "9. 원핫인코딩 결과 샘플 확인하기"
      ],
      "metadata": {
        "id": "_5TQ0nn3dJrB"
      }
    },
    {
      "cell_type": "code",
      "source": [
        "print(X[0])"
      ],
      "metadata": {
        "colab": {
          "base_uri": "https://localhost:8080/"
        },
        "id": "cbbVwp_rJLNU",
        "outputId": "ccf9d113-adf7-4770-a1ac-c811b6da0269"
      },
      "execution_count": null,
      "outputs": [
        {
          "output_type": "stream",
          "name": "stdout",
          "text": [
            "tensor([[0., 0., 0., 0., 1., 0., 0., 0., 0., 0., 0., 0., 0., 0., 0., 0., 0., 0.,\n",
            "         0., 0., 0., 0., 0., 0., 0., 0.],\n",
            "        [0., 0., 0., 0., 0., 0., 0., 0., 0., 0., 0., 0., 0., 0., 0., 0., 0., 0.,\n",
            "         0., 0., 1., 0., 0., 0., 0., 0.],\n",
            "        [0., 0., 0., 0., 0., 0., 0., 0., 0., 0., 0., 0., 0., 1., 0., 0., 0., 0.,\n",
            "         0., 0., 0., 0., 0., 0., 0., 0.],\n",
            "        [0., 0., 0., 0., 0., 0., 0., 1., 0., 0., 0., 0., 0., 0., 0., 0., 0., 0.,\n",
            "         0., 0., 0., 0., 0., 0., 0., 0.],\n",
            "        [0., 0., 0., 0., 0., 0., 0., 0., 0., 0., 0., 0., 0., 0., 1., 0., 0., 0.,\n",
            "         0., 0., 0., 0., 0., 0., 0., 0.],\n",
            "        [1., 0., 0., 0., 0., 0., 0., 0., 0., 0., 0., 0., 0., 0., 0., 0., 0., 0.,\n",
            "         0., 0., 0., 0., 0., 0., 0., 0.],\n",
            "        [0., 0., 0., 0., 0., 0., 0., 0., 0., 0., 0., 0., 0., 0., 0., 0., 0., 0.,\n",
            "         0., 0., 0., 0., 0., 0., 1., 0.],\n",
            "        [0., 0., 0., 0., 0., 1., 0., 0., 0., 0., 0., 0., 0., 0., 0., 0., 0., 0.,\n",
            "         0., 0., 0., 0., 0., 0., 0., 0.],\n",
            "        [0., 0., 0., 0., 0., 0., 0., 0., 0., 0., 0., 0., 0., 0., 0., 1., 0., 0.,\n",
            "         0., 0., 0., 0., 0., 0., 0., 0.],\n",
            "        [0., 0., 0., 0., 0., 0., 0., 0., 0., 0., 0., 0., 0., 0., 0., 1., 0., 0.,\n",
            "         0., 0., 0., 0., 0., 0., 0., 0.]], device='cuda:0')\n"
          ]
        }
      ]
    },
    {
      "cell_type": "markdown",
      "source": [
        "10. 레이블 데이터 샘플 확인하기"
      ],
      "metadata": {
        "id": "MU4zafjUdTng"
      }
    },
    {
      "cell_type": "code",
      "source": [
        "print(Y[0])"
      ],
      "metadata": {
        "colab": {
          "base_uri": "https://localhost:8080/"
        },
        "id": "JBJ_4n-lJpUo",
        "outputId": "b1ed7ae7-9420-4dfe-c305-b608752878f6"
      },
      "execution_count": null,
      "outputs": [
        {
          "output_type": "stream",
          "name": "stdout",
          "text": [
            "tensor([20, 13,  7, 14,  0, 24,  5, 15, 15, 21], device='cuda:0')\n"
          ]
        }
      ]
    },
    {
      "cell_type": "markdown",
      "source": [
        "### 2. 모델 구현하기"
      ],
      "metadata": {
        "id": "krk9R2D7Pr9x"
      }
    },
    {
      "cell_type": "markdown",
      "source": [
        "11. RNN 모델 구현 문자 단위 RNN"
      ],
      "metadata": {
        "id": "g3scTSzqbXGt"
      }
    },
    {
      "cell_type": "code",
      "source": [
        "## 문제(6) : 기본 pytorch 인자 넣기 연습 + forward 채우기\n",
        "### 조건 : rnn layer 2개 쌓기 + 마지막은 fc layer\n",
        "### batch_fisrt 설정 필요할까? (유튜브 강의 참고)\n",
        "### https://luminitworld.tistory.com/75\n",
        "\n",
        "class Net(torch.nn.Module):\n",
        "  def __init__(self, input_dim, hidden_dim, layers):\n",
        "    super(Net, self).__init__()\n",
        "    self.rnn = torch.nn.RNN(input_dim, hidden_dim, num_layers=layers, batch_first=True)\n",
        "    self.fc = torch.nn.Linear(hidden_size, hidden_size, bias=True)\n",
        "  \n",
        "  def forward(self, x):\n",
        "    x, _status = self.rnn(x)\n",
        "    x = self.fc(x)\n",
        "    return x"
      ],
      "metadata": {
        "id": "-Ww22xu8mfUc"
      },
      "execution_count": null,
      "outputs": []
    },
    {
      "cell_type": "code",
      "source": [
        "net = Net(vocab_size, hidden_size, 2) # 현재 hidden_size는 vocab_size와 같음\n",
        "\n",
        "net.to(device) # gpu에 올리지 않으면 모델의 파라미터는 cpu, 데이터는 gpu에 얹어놓은 상태라는 내용의 .. 에러 띄움"
      ],
      "metadata": {
        "id": "No2GRvTpnLBl",
        "colab": {
          "base_uri": "https://localhost:8080/"
        },
        "outputId": "42f63e8d-968c-4d8e-c776-0949b735d593"
      },
      "execution_count": null,
      "outputs": [
        {
          "output_type": "execute_result",
          "data": {
            "text/plain": [
              "Net(\n",
              "  (rnn): RNN(26, 26, num_layers=2, batch_first=True)\n",
              "  (fc): Linear(in_features=26, out_features=26, bias=True)\n",
              ")"
            ]
          },
          "metadata": {},
          "execution_count": 224
        }
      ]
    },
    {
      "cell_type": "code",
      "source": [
        "device"
      ],
      "metadata": {
        "colab": {
          "base_uri": "https://localhost:8080/"
        },
        "id": "yHDt7jdjcZwP",
        "outputId": "8aab20c6-925d-4d90-a1ba-b49b527796f6"
      },
      "execution_count": null,
      "outputs": [
        {
          "output_type": "execute_result",
          "data": {
            "text/plain": [
              "device(type='cuda')"
            ]
          },
          "metadata": {},
          "execution_count": 225
        }
      ]
    },
    {
      "cell_type": "markdown",
      "source": [
        "12. loss function\n",
        "13. optimizer"
      ],
      "metadata": {
        "id": "MwR5p1IRbq9E"
      }
    },
    {
      "cell_type": "code",
      "source": [
        "criterion = torch.nn.CrossEntropyLoss() \n",
        "optimizer = optim.Adam(net.parameters(), learning_rate)"
      ],
      "metadata": {
        "id": "9-zuJLeUnQLB"
      },
      "execution_count": null,
      "outputs": []
    },
    {
      "cell_type": "markdown",
      "source": [
        "14. 출력 크기 점검\n",
        "    - 출력 크기 = 배치 차원, 시점(timesteps), 출력의 크기\n",
        "    - 나중에 정확도 측정할 때는 모두 펼쳐서 계산하게 되는데, view를 사용하여 배치 차원과 시점 차원을 하나로 만든다"
      ],
      "metadata": {
        "id": "FQTBVmXPb04P"
      }
    },
    {
      "cell_type": "code",
      "source": [
        "outputs = net(X)      # nn.RNN()은 기본적으로 3차원 텐서를 입력받는다\n",
        "print(outputs.shape)  # 배치 차원, 시점(timesteps), 출력의 크기 \n",
        "print(outputs.view(-1, vocab_size).shape)"
      ],
      "metadata": {
        "colab": {
          "base_uri": "https://localhost:8080/"
        },
        "id": "0W4GBP-9QdVm",
        "outputId": "699928c6-b531-4cfd-f7e8-3e712955e4fb"
      },
      "execution_count": null,
      "outputs": [
        {
          "output_type": "stream",
          "name": "stdout",
          "text": [
            "torch.Size([188, 10, 26])\n",
            "torch.Size([1880, 26])\n"
          ]
        }
      ]
    },
    {
      "cell_type": "code",
      "source": [
        "print(Y.shape)\n",
        "print(Y.view(-1).shape)"
      ],
      "metadata": {
        "colab": {
          "base_uri": "https://localhost:8080/"
        },
        "id": "uhGTrOnjR2QX",
        "outputId": "30d78401-1757-46be-c0b2-e7b86ce05b48"
      },
      "execution_count": null,
      "outputs": [
        {
          "output_type": "stream",
          "name": "stdout",
          "text": [
            "torch.Size([188, 10])\n",
            "torch.Size([1880])\n"
          ]
        }
      ]
    },
    {
      "cell_type": "markdown",
      "source": [
        "15. Training 시작\n",
        "16. 예측결과 확인"
      ],
      "metadata": {
        "id": "6gGCg433dbQl"
      }
    },
    {
      "cell_type": "code",
      "source": [
        "for i in range(100):\n",
        "    optimizer.zero_grad()\n",
        "    outputs = net(X) # (188, 10, 26) 크기의 텐서를 매 에포크마다 모델의 입력으로 사용\n",
        "    ##문제(7) : outputs, Y 형태 그대로 넣으면 안되죠. view 함수를 이용해 loss값을 계산해봅시다.\n",
        "    loss = criterion(outputs.view(-1, vocab_size), Y.view(-1))\n",
        "    loss.backward()\n",
        "    optimizer.step()\n",
        "\n",
        "    #########  예측결과 확인 ####################\n",
        "\n",
        "    results = outputs.argmax(dim=2) # result 텐서 크기는 (188,10) \n",
        "    predict_str = \"\"\n",
        "    for j, result in enumerate(results): \n",
        "        if j == 0: # 처음(0)에는 예측 결과 전부 가져오기\n",
        "            predict_str += ''.join([world_set[t] for t in result])\n",
        "        else: # 그 다음부터는 마지막 글자만 반복 추가\n",
        "            predict_str += world_set[result[-1]]\n",
        "\n",
        "    print(predict_str)"
      ],
      "metadata": {
        "colab": {
          "base_uri": "https://localhost:8080/"
        },
        "id": "uxxrxCd2nwoo",
        "outputId": "e199fc85-c9e6-462e-f4c4-d5299577c799"
      },
      "execution_count": null,
      "outputs": [
        {
          "output_type": "stream",
          "name": "stdout",
          "text": [
            "ygnnnnnnnnnnnnnrnnnnnnnnnnnrnnnnnnnnnnrnnnnnnnnnnnnnnnnnnnnnnnnnnnnnnnnnnnnnnnnnnnnnnnnnnnnnnnrnnnnnnnnnnnnrnnnnnnnnnnnnnnnnnnnnnnnnnnnnnnnnnnnnnnnnnnnnnnnrnnnnnnnnrnnnnnnnnnnnnnnnnnnnnnnnnnnnnnnnn\n",
            "nrnrnrnrrrrrrrnrrrrrrrrrrrrrnrrrrrrrrnrrrrrnrrnrrrnrrrrrrrrrrrrrrrrrrrrnrnrrrrrrrnrrnrnrrrrrrrrrrrrrrrrrrrnrrrrrrrrnrrrrrrnrrrrnrrrrrrrrrrrrrrrrnrnrrrrrrrnrrrrrrrrrrrrrnrrrrrrnrrrrrrrnrrrrrnrrrrrrn\n",
            "r rr r rr  arr r rr  rrr rrr  rrrrrr  r rrr r  rrr r rrr r rrrrrrrrr  r rarr  arr    r rr  r rr r rrr rrr  rrr r r rr rrrr rrrrarrarrr rrrrrr  r rarr  arr r rr  r rrrrrrrr rrrrrrr   aarr rr r rrrr \n",
            "r           a             a        a           a              a                a                                                       a                a                             a       a      \n",
            "r                                                                                                                                                                                                    \n",
            "r                                                                                                                                                                                                    \n",
            "                                                                                                                                                                                                     \n",
            "                                                                                                                                                                                                     \n",
            "                                                                                                                                                                                                     \n",
            "                                                                                                                                                                                                     \n",
            "                                                                                                                                                                                                     \n",
            "                                                                                                                                                                                                     \n",
            "                                                                                                                                                                                                     \n",
            "     t     tr  t     t    r           t        t         t         r    t     tr           t       t       t          t       t             r    t     tr  t     t               r    t       t      \n",
            "     ta    tr  tr    tr  tr   t   tt  t        t   th    tr   t   tr    ta    tr  tt t     t       tr tt   tr  t      tr      ta  th   t   tr    ta    tr  tr    t       tr ta  tr    ta  a   tr     \n",
            "     ta    tr  tre   tr  tr   t   tt  ta  ta   tr  the   tr   th  tr    ta    tr  tt th    th      tr ta   tr  ta     tr  a   ta  the  th  tr    ta    tr  tre   th      tr ta  trr   ta tar  tr     \n",
            "     ta    tr  tre   tr  ta   t   ta  ta  ta   tr  the   tae  the tr    ta    tr  tt the   th      tr ta   tr  tae    tr  ae  ta  the  the tr    ta    tr  tre   th      tr ta  tae   ta tar  tre    \n",
            "     tae   tr  tre   tr  ta   t   ta  tae th   tr  the   tae  the tre   tae   tr  tt the   the     tr ta   tr  tae    tr  ae  tae the  the tre   tae   tr  tre   the     tr ta  tae   ta tae  tre    \n",
            "     tae   tre the   tre tre  t   ta  tae th   tr  the   the  the tre   tae   tre    the   the     tr ta   tr  the e  tr   e  tae the  the tre   tae   tre the   the     tr tae tre   tae ae  tre    \n",
            "     tae   tre the   tre the      the the th   th  the   the  the the   tae   tre    the   the     tr ta   tae the e  tr   e  tae the  the the   tae   tre the   the     tr tae tre   taetae  the    \n",
            "     tae   tre the e the the      the the the  the the   the  the the   tae   tre    the e the e   tr ta   tre the e etr   e  tae the  the the   tae   tre the e the     tr tae tre   taetae  the    \n",
            "     tae   tre the e the the e    the the the  the the   the  the the   tae   tre    the e the e   tr ta   tre the e etr the  tae the  the the   tae   tre the e the e   th tae tre   taetae  the    \n",
            "     tae   tre the e toe the e    the the the  the the   ther the the   tae   tre    the e the e   tr tr   tre the e etr the  tae the  the the   tae   tre the e the e t th tae tre   taetae  the    \n",
            "     tae   are the e toe the et   the the the  the the   ther the the   tae   are    the e the e   tr tr   tre the e eto the  tae the  the the   tae   are the e the e t th tae tre   taetae  the    \n",
            "     tae   are the e toe toe  t   toe toe the  the the   toer the tre   tae   are    the e the e   tr ta   tre the e  to the  tae ther the tre   tae   are the e the eet tr tae tre   taetae  the    \n",
            "     taes  are the e toe toe  t   aoe toe the  the the   toer the tre   taes  are t  the   thete   tr ta   tre tht e  to the  tae ther the tre   taes  are the e thetaet tr tae tae   taetae  the    \n",
            " e   taes  are the   toe tae  t   aae toe the  the the   toet the tre   taes  are t  the   thete   tr ta   tre tht e  to the  tar ther the tre   taes  are the   thetaet tr tae tae   taetae  the    \n",
            "re   tael  are the   toe tat  t   aae tot tae  th  the   ther the tre   tael  are t  the   thtt    tr ta   tre tht e  to thes tar ther the tre   tael  are the   thttaet tr tat tar   taetaes the    \n",
            "re   tael  are the e tot tot  t   aal tot tas  tht the   ther the tre   tael  are t  the e tht e   tr ta   tae tht e  to thes tar ther the tre   tael  are the e tht aet th tat tarl  taetaes then   \n",
            "re   tarl  are the e tot tot  t   aol tot ths  tht the   ther the toec  tarl  are t  the e tht e   tr wr   tae ththe  to thes tar ther the toec  tarl  are the e tht aet th tat tarll taetars then   \n",
            "re   tarl  are the e tot tot et   aol tot ahs  tht ther  ther the toec  tarl  are t  the e tht e   ur ar   tae ththe  th then aar ther the toec  tarl  are the e tht aet th tat tarll taetars then   \n",
            "re   tarl  are the e tot tou et   arl tot ahs  tht ther  ther the trec  tarl  are t  the e tht e   ur ar   tae ththe  th then aar ther the trec  tarl  are the e tht aet th tat trrll ta tars then   \n",
            "re   tarls are the e tot tru et   arl aot ahs  th  thes  ther the trec  tarls are t  there tht e   ur ar   war ththe  th then aar thet the trec  tarls are the e tht aet tr aat trrll ta tars then   \n",
            "rec  tarls are there tot aru et   arl aot aos  th  ahen  thet the trec  warls are t  there thtke   ur ar   war ahthe  to then aar thet the trec  warls are there thtkaet tr aat trrll ta tars then   \n",
            "renk warls are there tot aru et   arl aot aos hth  ahen  whet the trec  warls are t  there thtke   ur hr   war aothe  tn then aar thet the trec  warls are there thtkaet tr aat trrll ta tars then   \n",
            "renk walls are there tot arueet   arl aot bos hth  ahen  wher the treck walls are tt there thtke   ur hu   war tother tn then tal thet the treck walls are there thtkaet tr hat trrll ta tar  then   \n",
            "renk walls are there tot arueet   arl art bos hth  ahen  wher the treck walls are tt there thtke   ur hu   war totheretn then tal thet the treck walls are there thtkaet tr hat trrll ta tan  then   \n",
            "renk walls are there tot arueet n anl brt bus hth  ahen  wher the treck walls are tt there thtke   ur hu   war totheretn then tal thet the treck walls are there thtkaet ws hat brrll ta tant then   \n",
            "renk walls are there tor arueet n anl brt bus hth  ahen  whet the treck walls are tt there thtke n us hu   war totheretn then tal thet the treck walls are there thtkaet us hat brrll ta tant then   \n",
            "renk walls are there tor arueet nkanl brt bus hth  ahen  whet the treck walls are tt there thtke n us hu   wrr tothereen then tal thet the treck walls are there thtkhet us hat brull ta talt then   \n",
            "renk walls are there tor anueet nkanl brt bus hth  then  whet the treck walls are tt there th ke t us hu   brr tothereen then tal thet the treck walls are there thtkhet us hat brull ta talt thenk  \n",
            "rink walls are there tor anueet nkanl brt bus hth  then  whet the trink walls are tt there th ke t us hu h brt tothereen then tal thet the trink walls are there thtkhet us hat urull ta tant thenk h\n",
            "rink walls are there tor anueet nkanl brt bus  tht then  whet the trink walls are 't there th ke l us hu h brt tothereen then wal thet the trink walls are there thtkhet us oat urull te tant thenk h\n",
            "rink walls are there tor anueet nkanl bou bus  tht thenk whet the trink walls are 't there th ke y us ou h brt tothereen then wal thet the trink walls are there thtkhet us oat urull te tant thenk h\n",
            "rick walls are there tor anreet nkanl bou bus  tht thenk whet the trick walls are 't there th ke t us ou h brt tothereen then wal thet the trick walls are there th khet us oat urull te tant thenk h\n",
            "rick walls are there tor anreat nkanl bou bust tst thenk whet the brick walls are 't there th ke t us ou h brt tother en then wal thet the brick walls are there th khet us oat urtll te tant thenk h\n",
            "rick walls are there tor anreat n anl you must tst thenk whet the brick walls are 't there th ke t us ou h brt tether in then wal thet the brick walls are there th khet us oat brtly we tant thenk h\n",
            "rick walls are there tor anreas n anl you must tot then  whet the brick walls are 't there th ke t us ou h brt tether in then wal thet the brick walls are there th khet us oat brtly we tant thenkth\n",
            "rick walls are there tor anreas n anl you must tot then  whet the brick walls are 't there th ke ' us ou h brt tether in then wal thet the brick walls are there th khet us oat brlly we tant thenkth\n",
            "rick walls are there tor anreas n anl you must tot then  whet the brick walls are 't there to ke ' us ou h brt rether in then wal thet the brick walls are there th khet us oat brlly we tant thenkth\n",
            "rick walls are there tor anreas n anl you must tot then  whet the brick walls are 't there th ke ' us ou , brt rether in then wal thet the brick walls are there th khet us oot bally we tant thenkth\n",
            "rick walls are there tor a reas n anl you must tot thenk whet the brick walls are 't there th ke ' us out, but rether in thec wal thet the brick walls are there th khet us oot brlly we tant thenkt'\n",
            "rick walls are there tor a reas n anl you must tot thenk whet the brick walls are 't there th ke ' us out, but rether in thec wal thet the brick walls are there th khet us  ot brlly we tant thenkt'\n",
            "rick walls are there tor a reas n and you must not thenk whet the brick walls are 't there to ke ' us out, but rether in thec wal thet the brick walls are there th khet us oot brdly we tant thenkt'\n",
            "rick walls are there tor a reason and you must not thenk whet the brick walls are 't there to ke ' us out, but rether in then wal that the brick walls are there to khet us oot badly we tant thenkt'\n",
            "rick walls are there tor a reason and you must not thenk whet the brick walls are 't there to keel us out, but rather in then wal that the brick walls are there to khet us oot badly we tant thenkt'\n",
            "rick walls are there tor a reason and you must not thenk whet the brick walls are 't there to kee' us out, but rather in then wal that the brick walls are there to khet us oot badly we tant thenkt'\n",
            "rick walls are there tor a reason and you must not thenk whet the brick walls are 't there to kee' us out, but rather in this wal that the brick walls are there to khew us oot badly we tant thenks'\n",
            "rick walls are there tor a reason and you must not thenk whet the brick walls are 't there to kee' us out, but rather in this wal that the brick walls are there to khew us oot badly we tant thenks'\n",
            "rick walls are there tor a reason and you must not thenk whet the brick walls are 't there to kee' us out, but rather in this wal that the brick walls are there to khew us oot badly we tant thenks'\n",
            "rick walls are there tor a reason and you must not think whet the brick walls are 't there to keep us out, but rather in this wal that the brick walls are there to khew us oot badly we tant thenks'\n",
            "rick walls are there tor a reason and you must not think whet the brick walls are 't there to keep us out, but rather in this wal that the brick walls are there to khew us hot badly we tant thenks'\n",
            "rick walls are there tor a reason and you must not think what the brick walls are 't there to keep us out, but rather in this wal that the brick walls are there to khew us hot badly we tant thenks'\n",
            "rick walls are there tor a reason and you must not think what the brick walls are 't there to keep us out, but rather in this wal that the brick walls are there to khew us hot badly we tant thenks'\n",
            "rick walls are there tor a reason and you must not think what the brick walls are 't there to keep us out, but rather in this wal that the brick walls are there to khow us how badly we tant thenks'\n",
            "rick walls are there tor a reason and you must not think what the brick walls are 't there to keep us out, but rather in this wal that the brick walls are there to khow us how badly we tant thenks'\n",
            "rick walls are there tor a reason and you must not think what the brick walls are 't there to keep us out, but rather in this way that the brick walls are there to khow us how badly we tant thenks'\n",
            "rick walls are there tor a reason and you must not think that the brick walls are 't there to keep us out, but rather in this way that the brick walls are there to khow us how badly we tant thenks'\n",
            "rick walls are there tor a reason and you must not think that the brick walls are 't there to keep us out, but rather in this way that the brick walls are there to khow us how badly we tant thenks'\n",
            "rick walls are there tor a reason and you must not think that the brick walls are 't there to keep us out, but rather in this way that the brick walls are there to khow us how badly we want thenks'\n",
            "rick walls are there tor a reason and you must not think that the brick walls are 't there to keep us out, but rather in this way that the brick walls are there to khow us how badly we want thenks'\n",
            "rick walls are there tor a reason and you must not think that the brick walls are 't there to keep us out, but rather in this way that the brick walls are there to khow us how badly we want thinks'\n",
            "rick walls are there tor a reason and you must not think that the brick walls are 't there to keep us out, but rather in this way that the brick walls are there to khow us how badly we want thinks'\n",
            "rick walls are there tor a reason and you must not think that the brick walls are 't there to keep us out, but rather in this way that the brick walls are there to khow us how badly we want thinks'\n",
            "rick walls are there tor a reason and you must not think that the brick walls are 't there to keep us out, but rather in this way that the brick walls are there to khow us how badly we want thinks'\n",
            "rick walls are there tor a reason and you must not think that the brick walls are 't there to keep us out, but rather in this way that the brick walls are there to khow us how badly we want thinksm\n",
            "rick walls are there tor a reason and you must not think that the brick walls are 't there to keep us out, but rather in this way that the brick walls are there to khow us how badly we want thinksm\n",
            "rick walls are there tor a reason and you must not think that the brick walls are 't there to keep us out, but rather in this way that the brick walls are there to khow us how badly we want thinksm\n",
            "rick walls are there tor a reason and you must not think that the brick walls are 't there to keep us out, but rather in this way that the brick walls are there to khow us how badly we want thinksm\n",
            "rick walls are there tor a reason and you must not think that the brick walls are 't there to keep us out, but rather in this way that the brick walls are there to khow us how badly we want thinksm\n",
            "rick walls are there tor a reason and you must not think that the brick walls are 't there to keep us out, but rather in this way that the brick walls are there to khow us how badly we want thinksm\n",
            "rick walls are there tor a reason and you must not think that the brick walls are 't there to keep us out, but rather in this way that the brick walls are there to khow us how badly we want thinksm\n",
            "rick walls are there tor a reason and you must not think that the brick walls are 't there to keep us out, but rather in this way that the brick walls are there to khow us how badly we want thinksm\n",
            "rick walls are there tor a reason and you must not think that the brick walls are 't there to keep us out, but rather in this way that the brick walls are there to khow us how badly we want thinksm\n",
            "rick walls are there tor a reason and you must not think that the brick walls are 't there to keep us out, but rather in this way that the brick walls are there to khow us how badly we want thinksm\n",
            "rick walls are there tor a reason and you must not think that the brick walls are 't there to keep us out, but rather in this way that the brick walls are there to khow us how badly we want thinksm\n",
            "rick walls are there tor a reason and you must not think that the brick walls are 't there to keep us out, but rather in this way that the brick walls are there to khow us how badly we want thinks'\n",
            "rick walls are there tor a reason and you must not think that the brick walls are 't there to keep us out, but rather in this way that the brick walls are there to khow us how badly we want thinks'\n",
            "rick walls are there tor a reason and you must not think that the brick walls are 't there to keep us out, but rather in this way that the brick walls are there to khow us how badly we want thinks'\n",
            "rick walls are there tor a reason and you must not think that the brick walls are 't there to keep us out, but rather in this way that the brick walls are there to khow us how badly we want thinks'\n",
            "rick walls are there tor a reason and you must not think that the brick walls are 't there to keep us out, but rather in this way that the brick walls are there to khow us how badly we want thinkso\n",
            "rick walls are there tor a reason and you must not think that the brick walls are 't there to keep us out, but rather in this way that the brick walls are there to khow us how badly we want thinkso\n",
            "rick walls are there tor a reason and you must not think that the brick walls are 't there to keep us out, but rather in this way that the brick walls are there to khow us how badly we want thinksm\n",
            "rick walls are there tor a reason and you must not think that the brick walls are 't there to keep us out, but rather in this way that the brick walls are there to khow us how badly we want thinksm\n",
            "rick walls are there tor a reason and you must not think that the brick walls are 't there to keep us out, but rather in this way that the brick walls are there to khow us how badly we want thinksm\n",
            "rick walls are there tor a reason and you must not think that the brick walls are 't there to keep us out, but rather in this way that the brick walls are there to khow us how badly we want thinksm\n",
            "rick walls are there tor a reason and you must not think that the brick walls are 't there to keep us out, but rather in this way that the brick walls are there to khow us how badly we want thinksm\n",
            "rick walls are there tor a reason and you must not think that the brick walls are 't there to keep us out, but rather in this way that the brick walls are there to khow us how badly we want thinksm\n",
            "rick walls are there tor a reason and you must not think that the brick walls are 't there to keep us out, but rather in this way that the brick walls are there to khow us how badly we want thinksm\n",
            "rick walls are there tor a reason and you must not think that the brick walls are 't there to keep us out, but rather in this way that the brick walls are there to khow us how badly we want thinksm\n"
          ]
        }
      ]
    },
    {
      "cell_type": "code",
      "source": [
        "predict_str"
      ],
      "metadata": {
        "colab": {
          "base_uri": "https://localhost:8080/",
          "height": 53
        },
        "id": "8qUkbiw2t0Il",
        "outputId": "e1996539-46ab-43e7-f1e8-45fa6146ee3b"
      },
      "execution_count": null,
      "outputs": [
        {
          "output_type": "execute_result",
          "data": {
            "text/plain": [
              "\"rick walls are there tor a reason and you must not think that the brick walls are 't there to keep us out, but rather in this way that the brick walls are there to khow us how badly we want thinksm\""
            ],
            "application/vnd.google.colaboratory.intrinsic+json": {
              "type": "string"
            }
          },
          "metadata": {},
          "execution_count": 230
        }
      ]
    },
    {
      "cell_type": "markdown",
      "source": [
        "## Task2 - 한국어 텍스트\n",
        "\n"
      ],
      "metadata": {
        "id": "kN1zL8Dpvane"
      }
    },
    {
      "cell_type": "code",
      "source": [
        "sentence = (\"그러나 한편 냉정히 생각해보면 큰 욕심 안 부리고 노력한 것만큼만 잘살아보겠다는 게 과연 보통 사람의 경지일까? \"\n",
        "            \"보통 사람이란 좌절한 욕망을 한 장의 올림픽복권에 걸고 일주일 동안 행복하고 허황된 꿈을 꾸는 사람이 아닐까? \"\n",
        "            \"보통 사람의 숨은 허욕이 없다면 주택복권이나 올림픽복권이 그렇게 큰 이익을 올릴 수는 없을 것이다. \"\n",
        "            \"이 풍진세상風塵世上에서 노력한 만큼만 잘살기를 바라고 딴 욕심이 없다면 그건 보통 사람을 훨씬 넘은 성인의 경지이다.  \"\n",
        "            \"그럼 진짜 보통 사람은 어디 있는 것일까? 과연 있기는 있는 것일까? 보통 사람이란 평균 점수처럼 어떤 집단을 대표하고 싶어 하는 가공의 숫자일 뿐, \"\n",
        "            \"실지로 존재하는 것은 아닐지도 모른다.\"\n",
        "            \"- 박완서 '모래알만한 진실이라도'\")"
      ],
      "metadata": {
        "id": "IKp-lKrjvXR9"
      },
      "execution_count": null,
      "outputs": []
    },
    {
      "cell_type": "markdown",
      "source": [
        "### 1. 데이터 전처리"
      ],
      "metadata": {
        "id": "jM_DwMgze04W"
      }
    },
    {
      "cell_type": "markdown",
      "source": [
        "2. 문자 집합 만들기"
      ],
      "metadata": {
        "id": "W97YzuyKe04W"
      }
    },
    {
      "cell_type": "code",
      "source": [
        "world_set = sorted(list(set(sentence)))  \n",
        "vocab = {word : index for index, word in enumerate(world_set)}\n",
        "\n",
        "print(vocab)"
      ],
      "metadata": {
        "colab": {
          "base_uri": "https://localhost:8080/"
        },
        "outputId": "46ed84a4-5a41-4db6-c5f9-406e4fdaa5fd",
        "id": "w7IM5Z7Ge04X"
      },
      "execution_count": null,
      "outputs": [
        {
          "output_type": "stream",
          "name": "stdout",
          "text": [
            "{' ': 0, \"'\": 1, ',': 2, '-': 3, '.': 4, '?': 5, '上': 6, '世': 7, '塵': 8, '風': 9, '가': 10, '각': 11, '건': 12, '걸': 13, '것': 14, '게': 15, '겠': 16, '경': 17, '고': 18, '공': 19, '과': 20, '권': 21, '균': 22, '그': 23, '기': 24, '까': 25, '꾸': 26, '꿈': 27, '나': 28, '냉': 29, '넘': 30, '노': 31, '는': 32, '닐': 33, '다': 34, '단': 35, '대': 36, '도': 37, '동': 38, '된': 39, '디': 40, '딴': 41, '떤': 42, '라': 43, '란': 44, '람': 45, '래': 46, '러': 47, '럼': 48, '렇': 49, '력': 50, '로': 51, '른': 52, '를': 53, '리': 54, '릴': 55, '림': 56, '만': 57, '망': 58, '면': 59, '모': 60, '바': 61, '박': 62, '보': 63, '복': 64, '부': 65, '뿐': 66, '사': 67, '살': 68, '상': 69, '생': 70, '서': 71, '성': 72, '세': 73, '수': 74, '숨': 75, '숫': 76, '실': 77, '심': 78, '싶': 79, '씬': 80, '아': 81, '안': 82, '알': 83, '어': 84, '없': 85, '에': 86, '연': 87, '올': 88, '완': 89, '욕': 90, '은': 91, '을': 92, '의': 93, '이': 94, '익': 95, '인': 96, '일': 97, '있': 98, '자': 99, '잘': 100, '장': 101, '재': 102, '절': 103, '점': 104, '정': 105, '존': 106, '좌': 107, '주': 108, '지': 109, '진': 110, '집': 111, '짜': 112, '처': 113, '큰': 114, '큼': 115, '택': 116, '통': 117, '편': 118, '평': 119, '표': 120, '풍': 121, '픽': 122, '하': 123, '한': 124, '해': 125, '행': 126, '허': 127, '황': 128, '훨': 129, '히': 130}\n"
          ]
        }
      ]
    },
    {
      "cell_type": "markdown",
      "source": [
        "3. 문자 집합 크기 확인"
      ],
      "metadata": {
        "id": "C-yiSDzre04X"
      }
    },
    {
      "cell_type": "code",
      "source": [
        "vocab_size = len(vocab)\n",
        "print('문자 집합 크기 : {}'.format(vocab_size))"
      ],
      "metadata": {
        "colab": {
          "base_uri": "https://localhost:8080/"
        },
        "outputId": "11b55fb6-5a07-499f-ac73-64b4496f7c6e",
        "id": "Abfyrg47e04X"
      },
      "execution_count": null,
      "outputs": [
        {
          "output_type": "stream",
          "name": "stdout",
          "text": [
            "문자 집합 크기 : 131\n"
          ]
        }
      ]
    },
    {
      "cell_type": "markdown",
      "source": [
        "4. 하이퍼 파라미터 설정(자유롭게 수정해보세요!)"
      ],
      "metadata": {
        "id": "USFo5kWPe04X"
      }
    },
    {
      "cell_type": "code",
      "source": [
        "hidden_size = vocab_size \n",
        "sequence_length = 10 \n",
        "learning_rate = 0.01"
      ],
      "metadata": {
        "id": "ZtFMl2yTe04X"
      },
      "execution_count": null,
      "outputs": []
    },
    {
      "cell_type": "markdown",
      "source": [
        "5. sequence 길이 단위 자르기"
      ],
      "metadata": {
        "id": "HbWgfPEVe04Y"
      }
    },
    {
      "cell_type": "code",
      "source": [
        "x_data = []\n",
        "y_data = []\n",
        "\n",
        "for i in range(0, len(sentence) - sequence_length):\n",
        "  x_str = sentence[i:i+sequence_length]\n",
        "  y_str = sentence[i+1: i+sequence_length+1]\n",
        "  print(i, x_str, \"->\", y_str)\n",
        "\n",
        "  x_data.append([vocab[c] for c in x_str])\n",
        "  y_data.append([vocab[d] for d in y_str])"
      ],
      "metadata": {
        "colab": {
          "base_uri": "https://localhost:8080/"
        },
        "outputId": "2788e070-332e-43a4-e505-33866db1bd89",
        "id": "ZNKdzVS-e04Y"
      },
      "execution_count": null,
      "outputs": [
        {
          "output_type": "stream",
          "name": "stdout",
          "text": [
            "0 그러나 한편 냉정히 -> 러나 한편 냉정히 \n",
            "1 러나 한편 냉정히  -> 나 한편 냉정히 생\n",
            "2 나 한편 냉정히 생 ->  한편 냉정히 생각\n",
            "3  한편 냉정히 생각 -> 한편 냉정히 생각해\n",
            "4 한편 냉정히 생각해 -> 편 냉정히 생각해보\n",
            "5 편 냉정히 생각해보 ->  냉정히 생각해보면\n",
            "6  냉정히 생각해보면 -> 냉정히 생각해보면 \n",
            "7 냉정히 생각해보면  -> 정히 생각해보면 큰\n",
            "8 정히 생각해보면 큰 -> 히 생각해보면 큰 \n",
            "9 히 생각해보면 큰  ->  생각해보면 큰 욕\n",
            "10  생각해보면 큰 욕 -> 생각해보면 큰 욕심\n",
            "11 생각해보면 큰 욕심 -> 각해보면 큰 욕심 \n",
            "12 각해보면 큰 욕심  -> 해보면 큰 욕심 안\n",
            "13 해보면 큰 욕심 안 -> 보면 큰 욕심 안 \n",
            "14 보면 큰 욕심 안  -> 면 큰 욕심 안 부\n",
            "15 면 큰 욕심 안 부 ->  큰 욕심 안 부리\n",
            "16  큰 욕심 안 부리 -> 큰 욕심 안 부리고\n",
            "17 큰 욕심 안 부리고 ->  욕심 안 부리고 \n",
            "18  욕심 안 부리고  -> 욕심 안 부리고 노\n",
            "19 욕심 안 부리고 노 -> 심 안 부리고 노력\n",
            "20 심 안 부리고 노력 ->  안 부리고 노력한\n",
            "21  안 부리고 노력한 -> 안 부리고 노력한 \n",
            "22 안 부리고 노력한  ->  부리고 노력한 것\n",
            "23  부리고 노력한 것 -> 부리고 노력한 것만\n",
            "24 부리고 노력한 것만 -> 리고 노력한 것만큼\n",
            "25 리고 노력한 것만큼 -> 고 노력한 것만큼만\n",
            "26 고 노력한 것만큼만 ->  노력한 것만큼만 \n",
            "27  노력한 것만큼만  -> 노력한 것만큼만 잘\n",
            "28 노력한 것만큼만 잘 -> 력한 것만큼만 잘살\n",
            "29 력한 것만큼만 잘살 -> 한 것만큼만 잘살아\n",
            "30 한 것만큼만 잘살아 ->  것만큼만 잘살아보\n",
            "31  것만큼만 잘살아보 -> 것만큼만 잘살아보겠\n",
            "32 것만큼만 잘살아보겠 -> 만큼만 잘살아보겠다\n",
            "33 만큼만 잘살아보겠다 -> 큼만 잘살아보겠다는\n",
            "34 큼만 잘살아보겠다는 -> 만 잘살아보겠다는 \n",
            "35 만 잘살아보겠다는  ->  잘살아보겠다는 게\n",
            "36  잘살아보겠다는 게 -> 잘살아보겠다는 게 \n",
            "37 잘살아보겠다는 게  -> 살아보겠다는 게 과\n",
            "38 살아보겠다는 게 과 -> 아보겠다는 게 과연\n",
            "39 아보겠다는 게 과연 -> 보겠다는 게 과연 \n",
            "40 보겠다는 게 과연  -> 겠다는 게 과연 보\n",
            "41 겠다는 게 과연 보 -> 다는 게 과연 보통\n",
            "42 다는 게 과연 보통 -> 는 게 과연 보통 \n",
            "43 는 게 과연 보통  ->  게 과연 보통 사\n",
            "44  게 과연 보통 사 -> 게 과연 보통 사람\n",
            "45 게 과연 보통 사람 ->  과연 보통 사람의\n",
            "46  과연 보통 사람의 -> 과연 보통 사람의 \n",
            "47 과연 보통 사람의  -> 연 보통 사람의 경\n",
            "48 연 보통 사람의 경 ->  보통 사람의 경지\n",
            "49  보통 사람의 경지 -> 보통 사람의 경지일\n",
            "50 보통 사람의 경지일 -> 통 사람의 경지일까\n",
            "51 통 사람의 경지일까 ->  사람의 경지일까?\n",
            "52  사람의 경지일까? -> 사람의 경지일까? \n",
            "53 사람의 경지일까?  -> 람의 경지일까? 보\n",
            "54 람의 경지일까? 보 -> 의 경지일까? 보통\n",
            "55 의 경지일까? 보통 ->  경지일까? 보통 \n",
            "56  경지일까? 보통  -> 경지일까? 보통 사\n",
            "57 경지일까? 보통 사 -> 지일까? 보통 사람\n",
            "58 지일까? 보통 사람 -> 일까? 보통 사람이\n",
            "59 일까? 보통 사람이 -> 까? 보통 사람이란\n",
            "60 까? 보통 사람이란 -> ? 보통 사람이란 \n",
            "61 ? 보통 사람이란  ->  보통 사람이란 좌\n",
            "62  보통 사람이란 좌 -> 보통 사람이란 좌절\n",
            "63 보통 사람이란 좌절 -> 통 사람이란 좌절한\n",
            "64 통 사람이란 좌절한 ->  사람이란 좌절한 \n",
            "65  사람이란 좌절한  -> 사람이란 좌절한 욕\n",
            "66 사람이란 좌절한 욕 -> 람이란 좌절한 욕망\n",
            "67 람이란 좌절한 욕망 -> 이란 좌절한 욕망을\n",
            "68 이란 좌절한 욕망을 -> 란 좌절한 욕망을 \n",
            "69 란 좌절한 욕망을  ->  좌절한 욕망을 한\n",
            "70  좌절한 욕망을 한 -> 좌절한 욕망을 한 \n",
            "71 좌절한 욕망을 한  -> 절한 욕망을 한 장\n",
            "72 절한 욕망을 한 장 -> 한 욕망을 한 장의\n",
            "73 한 욕망을 한 장의 ->  욕망을 한 장의 \n",
            "74  욕망을 한 장의  -> 욕망을 한 장의 올\n",
            "75 욕망을 한 장의 올 -> 망을 한 장의 올림\n",
            "76 망을 한 장의 올림 -> 을 한 장의 올림픽\n",
            "77 을 한 장의 올림픽 ->  한 장의 올림픽복\n",
            "78  한 장의 올림픽복 -> 한 장의 올림픽복권\n",
            "79 한 장의 올림픽복권 ->  장의 올림픽복권에\n",
            "80  장의 올림픽복권에 -> 장의 올림픽복권에 \n",
            "81 장의 올림픽복권에  -> 의 올림픽복권에 걸\n",
            "82 의 올림픽복권에 걸 ->  올림픽복권에 걸고\n",
            "83  올림픽복권에 걸고 -> 올림픽복권에 걸고 \n",
            "84 올림픽복권에 걸고  -> 림픽복권에 걸고 일\n",
            "85 림픽복권에 걸고 일 -> 픽복권에 걸고 일주\n",
            "86 픽복권에 걸고 일주 -> 복권에 걸고 일주일\n",
            "87 복권에 걸고 일주일 -> 권에 걸고 일주일 \n",
            "88 권에 걸고 일주일  -> 에 걸고 일주일 동\n",
            "89 에 걸고 일주일 동 ->  걸고 일주일 동안\n",
            "90  걸고 일주일 동안 -> 걸고 일주일 동안 \n",
            "91 걸고 일주일 동안  -> 고 일주일 동안 행\n",
            "92 고 일주일 동안 행 ->  일주일 동안 행복\n",
            "93  일주일 동안 행복 -> 일주일 동안 행복하\n",
            "94 일주일 동안 행복하 -> 주일 동안 행복하고\n",
            "95 주일 동안 행복하고 -> 일 동안 행복하고 \n",
            "96 일 동안 행복하고  ->  동안 행복하고 허\n",
            "97  동안 행복하고 허 -> 동안 행복하고 허황\n",
            "98 동안 행복하고 허황 -> 안 행복하고 허황된\n",
            "99 안 행복하고 허황된 ->  행복하고 허황된 \n",
            "100  행복하고 허황된  -> 행복하고 허황된 꿈\n",
            "101 행복하고 허황된 꿈 -> 복하고 허황된 꿈을\n",
            "102 복하고 허황된 꿈을 -> 하고 허황된 꿈을 \n",
            "103 하고 허황된 꿈을  -> 고 허황된 꿈을 꾸\n",
            "104 고 허황된 꿈을 꾸 ->  허황된 꿈을 꾸는\n",
            "105  허황된 꿈을 꾸는 -> 허황된 꿈을 꾸는 \n",
            "106 허황된 꿈을 꾸는  -> 황된 꿈을 꾸는 사\n",
            "107 황된 꿈을 꾸는 사 -> 된 꿈을 꾸는 사람\n",
            "108 된 꿈을 꾸는 사람 ->  꿈을 꾸는 사람이\n",
            "109  꿈을 꾸는 사람이 -> 꿈을 꾸는 사람이 \n",
            "110 꿈을 꾸는 사람이  -> 을 꾸는 사람이 아\n",
            "111 을 꾸는 사람이 아 ->  꾸는 사람이 아닐\n",
            "112  꾸는 사람이 아닐 -> 꾸는 사람이 아닐까\n",
            "113 꾸는 사람이 아닐까 -> 는 사람이 아닐까?\n",
            "114 는 사람이 아닐까? ->  사람이 아닐까? \n",
            "115  사람이 아닐까?  -> 사람이 아닐까? 보\n",
            "116 사람이 아닐까? 보 -> 람이 아닐까? 보통\n",
            "117 람이 아닐까? 보통 -> 이 아닐까? 보통 \n",
            "118 이 아닐까? 보통  ->  아닐까? 보통 사\n",
            "119  아닐까? 보통 사 -> 아닐까? 보통 사람\n",
            "120 아닐까? 보통 사람 -> 닐까? 보통 사람의\n",
            "121 닐까? 보통 사람의 -> 까? 보통 사람의 \n",
            "122 까? 보통 사람의  -> ? 보통 사람의 숨\n",
            "123 ? 보통 사람의 숨 ->  보통 사람의 숨은\n",
            "124  보통 사람의 숨은 -> 보통 사람의 숨은 \n",
            "125 보통 사람의 숨은  -> 통 사람의 숨은 허\n",
            "126 통 사람의 숨은 허 ->  사람의 숨은 허욕\n",
            "127  사람의 숨은 허욕 -> 사람의 숨은 허욕이\n",
            "128 사람의 숨은 허욕이 -> 람의 숨은 허욕이 \n",
            "129 람의 숨은 허욕이  -> 의 숨은 허욕이 없\n",
            "130 의 숨은 허욕이 없 ->  숨은 허욕이 없다\n",
            "131  숨은 허욕이 없다 -> 숨은 허욕이 없다면\n",
            "132 숨은 허욕이 없다면 -> 은 허욕이 없다면 \n",
            "133 은 허욕이 없다면  ->  허욕이 없다면 주\n",
            "134  허욕이 없다면 주 -> 허욕이 없다면 주택\n",
            "135 허욕이 없다면 주택 -> 욕이 없다면 주택복\n",
            "136 욕이 없다면 주택복 -> 이 없다면 주택복권\n",
            "137 이 없다면 주택복권 ->  없다면 주택복권이\n",
            "138  없다면 주택복권이 -> 없다면 주택복권이나\n",
            "139 없다면 주택복권이나 -> 다면 주택복권이나 \n",
            "140 다면 주택복권이나  -> 면 주택복권이나 올\n",
            "141 면 주택복권이나 올 ->  주택복권이나 올림\n",
            "142  주택복권이나 올림 -> 주택복권이나 올림픽\n",
            "143 주택복권이나 올림픽 -> 택복권이나 올림픽복\n",
            "144 택복권이나 올림픽복 -> 복권이나 올림픽복권\n",
            "145 복권이나 올림픽복권 -> 권이나 올림픽복권이\n",
            "146 권이나 올림픽복권이 -> 이나 올림픽복권이 \n",
            "147 이나 올림픽복권이  -> 나 올림픽복권이 그\n",
            "148 나 올림픽복권이 그 ->  올림픽복권이 그렇\n",
            "149  올림픽복권이 그렇 -> 올림픽복권이 그렇게\n",
            "150 올림픽복권이 그렇게 -> 림픽복권이 그렇게 \n",
            "151 림픽복권이 그렇게  -> 픽복권이 그렇게 큰\n",
            "152 픽복권이 그렇게 큰 -> 복권이 그렇게 큰 \n",
            "153 복권이 그렇게 큰  -> 권이 그렇게 큰 이\n",
            "154 권이 그렇게 큰 이 -> 이 그렇게 큰 이익\n",
            "155 이 그렇게 큰 이익 ->  그렇게 큰 이익을\n",
            "156  그렇게 큰 이익을 -> 그렇게 큰 이익을 \n",
            "157 그렇게 큰 이익을  -> 렇게 큰 이익을 올\n",
            "158 렇게 큰 이익을 올 -> 게 큰 이익을 올릴\n",
            "159 게 큰 이익을 올릴 ->  큰 이익을 올릴 \n",
            "160  큰 이익을 올릴  -> 큰 이익을 올릴 수\n",
            "161 큰 이익을 올릴 수 ->  이익을 올릴 수는\n",
            "162  이익을 올릴 수는 -> 이익을 올릴 수는 \n",
            "163 이익을 올릴 수는  -> 익을 올릴 수는 없\n",
            "164 익을 올릴 수는 없 -> 을 올릴 수는 없을\n",
            "165 을 올릴 수는 없을 ->  올릴 수는 없을 \n",
            "166  올릴 수는 없을  -> 올릴 수는 없을 것\n",
            "167 올릴 수는 없을 것 -> 릴 수는 없을 것이\n",
            "168 릴 수는 없을 것이 ->  수는 없을 것이다\n",
            "169  수는 없을 것이다 -> 수는 없을 것이다.\n",
            "170 수는 없을 것이다. -> 는 없을 것이다. \n",
            "171 는 없을 것이다.  ->  없을 것이다. 이\n",
            "172  없을 것이다. 이 -> 없을 것이다. 이 \n",
            "173 없을 것이다. 이  -> 을 것이다. 이 풍\n",
            "174 을 것이다. 이 풍 ->  것이다. 이 풍진\n",
            "175  것이다. 이 풍진 -> 것이다. 이 풍진세\n",
            "176 것이다. 이 풍진세 -> 이다. 이 풍진세상\n",
            "177 이다. 이 풍진세상 -> 다. 이 풍진세상風\n",
            "178 다. 이 풍진세상風 -> . 이 풍진세상風塵\n",
            "179 . 이 풍진세상風塵 ->  이 풍진세상風塵世\n",
            "180  이 풍진세상風塵世 -> 이 풍진세상風塵世上\n",
            "181 이 풍진세상風塵世上 ->  풍진세상風塵世上에\n",
            "182  풍진세상風塵世上에 -> 풍진세상風塵世上에서\n",
            "183 풍진세상風塵世上에서 -> 진세상風塵世上에서 \n",
            "184 진세상風塵世上에서  -> 세상風塵世上에서 노\n",
            "185 세상風塵世上에서 노 -> 상風塵世上에서 노력\n",
            "186 상風塵世上에서 노력 -> 風塵世上에서 노력한\n",
            "187 風塵世上에서 노력한 -> 塵世上에서 노력한 \n",
            "188 塵世上에서 노력한  -> 世上에서 노력한 만\n",
            "189 世上에서 노력한 만 -> 上에서 노력한 만큼\n",
            "190 上에서 노력한 만큼 -> 에서 노력한 만큼만\n",
            "191 에서 노력한 만큼만 -> 서 노력한 만큼만 \n",
            "192 서 노력한 만큼만  ->  노력한 만큼만 잘\n",
            "193  노력한 만큼만 잘 -> 노력한 만큼만 잘살\n",
            "194 노력한 만큼만 잘살 -> 력한 만큼만 잘살기\n",
            "195 력한 만큼만 잘살기 -> 한 만큼만 잘살기를\n",
            "196 한 만큼만 잘살기를 ->  만큼만 잘살기를 \n",
            "197  만큼만 잘살기를  -> 만큼만 잘살기를 바\n",
            "198 만큼만 잘살기를 바 -> 큼만 잘살기를 바라\n",
            "199 큼만 잘살기를 바라 -> 만 잘살기를 바라고\n",
            "200 만 잘살기를 바라고 ->  잘살기를 바라고 \n",
            "201  잘살기를 바라고  -> 잘살기를 바라고 딴\n",
            "202 잘살기를 바라고 딴 -> 살기를 바라고 딴 \n",
            "203 살기를 바라고 딴  -> 기를 바라고 딴 욕\n",
            "204 기를 바라고 딴 욕 -> 를 바라고 딴 욕심\n",
            "205 를 바라고 딴 욕심 ->  바라고 딴 욕심이\n",
            "206  바라고 딴 욕심이 -> 바라고 딴 욕심이 \n",
            "207 바라고 딴 욕심이  -> 라고 딴 욕심이 없\n",
            "208 라고 딴 욕심이 없 -> 고 딴 욕심이 없다\n",
            "209 고 딴 욕심이 없다 ->  딴 욕심이 없다면\n",
            "210  딴 욕심이 없다면 -> 딴 욕심이 없다면 \n",
            "211 딴 욕심이 없다면  ->  욕심이 없다면 그\n",
            "212  욕심이 없다면 그 -> 욕심이 없다면 그건\n",
            "213 욕심이 없다면 그건 -> 심이 없다면 그건 \n",
            "214 심이 없다면 그건  -> 이 없다면 그건 보\n",
            "215 이 없다면 그건 보 ->  없다면 그건 보통\n",
            "216  없다면 그건 보통 -> 없다면 그건 보통 \n",
            "217 없다면 그건 보통  -> 다면 그건 보통 사\n",
            "218 다면 그건 보통 사 -> 면 그건 보통 사람\n",
            "219 면 그건 보통 사람 ->  그건 보통 사람을\n",
            "220  그건 보통 사람을 -> 그건 보통 사람을 \n",
            "221 그건 보통 사람을  -> 건 보통 사람을 훨\n",
            "222 건 보통 사람을 훨 ->  보통 사람을 훨씬\n",
            "223  보통 사람을 훨씬 -> 보통 사람을 훨씬 \n",
            "224 보통 사람을 훨씬  -> 통 사람을 훨씬 넘\n",
            "225 통 사람을 훨씬 넘 ->  사람을 훨씬 넘은\n",
            "226  사람을 훨씬 넘은 -> 사람을 훨씬 넘은 \n",
            "227 사람을 훨씬 넘은  -> 람을 훨씬 넘은 성\n",
            "228 람을 훨씬 넘은 성 -> 을 훨씬 넘은 성인\n",
            "229 을 훨씬 넘은 성인 ->  훨씬 넘은 성인의\n",
            "230  훨씬 넘은 성인의 -> 훨씬 넘은 성인의 \n",
            "231 훨씬 넘은 성인의  -> 씬 넘은 성인의 경\n",
            "232 씬 넘은 성인의 경 ->  넘은 성인의 경지\n",
            "233  넘은 성인의 경지 -> 넘은 성인의 경지이\n",
            "234 넘은 성인의 경지이 -> 은 성인의 경지이다\n",
            "235 은 성인의 경지이다 ->  성인의 경지이다.\n",
            "236  성인의 경지이다. -> 성인의 경지이다. \n",
            "237 성인의 경지이다.  -> 인의 경지이다.  \n",
            "238 인의 경지이다.   -> 의 경지이다.  그\n",
            "239 의 경지이다.  그 ->  경지이다.  그럼\n",
            "240  경지이다.  그럼 -> 경지이다.  그럼 \n",
            "241 경지이다.  그럼  -> 지이다.  그럼 진\n",
            "242 지이다.  그럼 진 -> 이다.  그럼 진짜\n",
            "243 이다.  그럼 진짜 -> 다.  그럼 진짜 \n",
            "244 다.  그럼 진짜  -> .  그럼 진짜 보\n",
            "245 .  그럼 진짜 보 ->   그럼 진짜 보통\n",
            "246   그럼 진짜 보통 ->  그럼 진짜 보통 \n",
            "247  그럼 진짜 보통  -> 그럼 진짜 보통 사\n",
            "248 그럼 진짜 보통 사 -> 럼 진짜 보통 사람\n",
            "249 럼 진짜 보통 사람 ->  진짜 보통 사람은\n",
            "250  진짜 보통 사람은 -> 진짜 보통 사람은 \n",
            "251 진짜 보통 사람은  -> 짜 보통 사람은 어\n",
            "252 짜 보통 사람은 어 ->  보통 사람은 어디\n",
            "253  보통 사람은 어디 -> 보통 사람은 어디 \n",
            "254 보통 사람은 어디  -> 통 사람은 어디 있\n",
            "255 통 사람은 어디 있 ->  사람은 어디 있는\n",
            "256  사람은 어디 있는 -> 사람은 어디 있는 \n",
            "257 사람은 어디 있는  -> 람은 어디 있는 것\n",
            "258 람은 어디 있는 것 -> 은 어디 있는 것일\n",
            "259 은 어디 있는 것일 ->  어디 있는 것일까\n",
            "260  어디 있는 것일까 -> 어디 있는 것일까?\n",
            "261 어디 있는 것일까? -> 디 있는 것일까? \n",
            "262 디 있는 것일까?  ->  있는 것일까? 과\n",
            "263  있는 것일까? 과 -> 있는 것일까? 과연\n",
            "264 있는 것일까? 과연 -> 는 것일까? 과연 \n",
            "265 는 것일까? 과연  ->  것일까? 과연 있\n",
            "266  것일까? 과연 있 -> 것일까? 과연 있기\n",
            "267 것일까? 과연 있기 -> 일까? 과연 있기는\n",
            "268 일까? 과연 있기는 -> 까? 과연 있기는 \n",
            "269 까? 과연 있기는  -> ? 과연 있기는 있\n",
            "270 ? 과연 있기는 있 ->  과연 있기는 있는\n",
            "271  과연 있기는 있는 -> 과연 있기는 있는 \n",
            "272 과연 있기는 있는  -> 연 있기는 있는 것\n",
            "273 연 있기는 있는 것 ->  있기는 있는 것일\n",
            "274  있기는 있는 것일 -> 있기는 있는 것일까\n",
            "275 있기는 있는 것일까 -> 기는 있는 것일까?\n",
            "276 기는 있는 것일까? -> 는 있는 것일까? \n",
            "277 는 있는 것일까?  ->  있는 것일까? 보\n",
            "278  있는 것일까? 보 -> 있는 것일까? 보통\n",
            "279 있는 것일까? 보통 -> 는 것일까? 보통 \n",
            "280 는 것일까? 보통  ->  것일까? 보통 사\n",
            "281  것일까? 보통 사 -> 것일까? 보통 사람\n",
            "282 것일까? 보통 사람 -> 일까? 보통 사람이\n",
            "283 일까? 보통 사람이 -> 까? 보통 사람이란\n",
            "284 까? 보통 사람이란 -> ? 보통 사람이란 \n",
            "285 ? 보통 사람이란  ->  보통 사람이란 평\n",
            "286  보통 사람이란 평 -> 보통 사람이란 평균\n",
            "287 보통 사람이란 평균 -> 통 사람이란 평균 \n",
            "288 통 사람이란 평균  ->  사람이란 평균 점\n",
            "289  사람이란 평균 점 -> 사람이란 평균 점수\n",
            "290 사람이란 평균 점수 -> 람이란 평균 점수처\n",
            "291 람이란 평균 점수처 -> 이란 평균 점수처럼\n",
            "292 이란 평균 점수처럼 -> 란 평균 점수처럼 \n",
            "293 란 평균 점수처럼  ->  평균 점수처럼 어\n",
            "294  평균 점수처럼 어 -> 평균 점수처럼 어떤\n",
            "295 평균 점수처럼 어떤 -> 균 점수처럼 어떤 \n",
            "296 균 점수처럼 어떤  ->  점수처럼 어떤 집\n",
            "297  점수처럼 어떤 집 -> 점수처럼 어떤 집단\n",
            "298 점수처럼 어떤 집단 -> 수처럼 어떤 집단을\n",
            "299 수처럼 어떤 집단을 -> 처럼 어떤 집단을 \n",
            "300 처럼 어떤 집단을  -> 럼 어떤 집단을 대\n",
            "301 럼 어떤 집단을 대 ->  어떤 집단을 대표\n",
            "302  어떤 집단을 대표 -> 어떤 집단을 대표하\n",
            "303 어떤 집단을 대표하 -> 떤 집단을 대표하고\n",
            "304 떤 집단을 대표하고 ->  집단을 대표하고 \n",
            "305  집단을 대표하고  -> 집단을 대표하고 싶\n",
            "306 집단을 대표하고 싶 -> 단을 대표하고 싶어\n",
            "307 단을 대표하고 싶어 -> 을 대표하고 싶어 \n",
            "308 을 대표하고 싶어  ->  대표하고 싶어 하\n",
            "309  대표하고 싶어 하 -> 대표하고 싶어 하는\n",
            "310 대표하고 싶어 하는 -> 표하고 싶어 하는 \n",
            "311 표하고 싶어 하는  -> 하고 싶어 하는 가\n",
            "312 하고 싶어 하는 가 -> 고 싶어 하는 가공\n",
            "313 고 싶어 하는 가공 ->  싶어 하는 가공의\n",
            "314  싶어 하는 가공의 -> 싶어 하는 가공의 \n",
            "315 싶어 하는 가공의  -> 어 하는 가공의 숫\n",
            "316 어 하는 가공의 숫 ->  하는 가공의 숫자\n",
            "317  하는 가공의 숫자 -> 하는 가공의 숫자일\n",
            "318 하는 가공의 숫자일 -> 는 가공의 숫자일 \n",
            "319 는 가공의 숫자일  ->  가공의 숫자일 뿐\n",
            "320  가공의 숫자일 뿐 -> 가공의 숫자일 뿐,\n",
            "321 가공의 숫자일 뿐, -> 공의 숫자일 뿐, \n",
            "322 공의 숫자일 뿐,  -> 의 숫자일 뿐, 실\n",
            "323 의 숫자일 뿐, 실 ->  숫자일 뿐, 실지\n",
            "324  숫자일 뿐, 실지 -> 숫자일 뿐, 실지로\n",
            "325 숫자일 뿐, 실지로 -> 자일 뿐, 실지로 \n",
            "326 자일 뿐, 실지로  -> 일 뿐, 실지로 존\n",
            "327 일 뿐, 실지로 존 ->  뿐, 실지로 존재\n",
            "328  뿐, 실지로 존재 -> 뿐, 실지로 존재하\n",
            "329 뿐, 실지로 존재하 -> , 실지로 존재하는\n",
            "330 , 실지로 존재하는 ->  실지로 존재하는 \n",
            "331  실지로 존재하는  -> 실지로 존재하는 것\n",
            "332 실지로 존재하는 것 -> 지로 존재하는 것은\n",
            "333 지로 존재하는 것은 -> 로 존재하는 것은 \n",
            "334 로 존재하는 것은  ->  존재하는 것은 아\n",
            "335  존재하는 것은 아 -> 존재하는 것은 아닐\n",
            "336 존재하는 것은 아닐 -> 재하는 것은 아닐지\n",
            "337 재하는 것은 아닐지 -> 하는 것은 아닐지도\n",
            "338 하는 것은 아닐지도 -> 는 것은 아닐지도 \n",
            "339 는 것은 아닐지도  ->  것은 아닐지도 모\n",
            "340  것은 아닐지도 모 -> 것은 아닐지도 모른\n",
            "341 것은 아닐지도 모른 -> 은 아닐지도 모른다\n",
            "342 은 아닐지도 모른다 ->  아닐지도 모른다.\n",
            "343  아닐지도 모른다. -> 아닐지도 모른다.-\n",
            "344 아닐지도 모른다.- -> 닐지도 모른다.- \n",
            "345 닐지도 모른다.-  -> 지도 모른다.- 박\n",
            "346 지도 모른다.- 박 -> 도 모른다.- 박완\n",
            "347 도 모른다.- 박완 ->  모른다.- 박완서\n",
            "348  모른다.- 박완서 -> 모른다.- 박완서 \n",
            "349 모른다.- 박완서  -> 른다.- 박완서 '\n",
            "350 른다.- 박완서 ' -> 다.- 박완서 '모\n",
            "351 다.- 박완서 '모 -> .- 박완서 '모래\n",
            "352 .- 박완서 '모래 -> - 박완서 '모래알\n",
            "353 - 박완서 '모래알 ->  박완서 '모래알만\n",
            "354  박완서 '모래알만 -> 박완서 '모래알만한\n",
            "355 박완서 '모래알만한 -> 완서 '모래알만한 \n",
            "356 완서 '모래알만한  -> 서 '모래알만한 진\n",
            "357 서 '모래알만한 진 ->  '모래알만한 진실\n",
            "358  '모래알만한 진실 -> '모래알만한 진실이\n",
            "359 '모래알만한 진실이 -> 모래알만한 진실이라\n",
            "360 모래알만한 진실이라 -> 래알만한 진실이라도\n",
            "361 래알만한 진실이라도 -> 알만한 진실이라도'\n"
          ]
        }
      ]
    },
    {
      "cell_type": "code",
      "source": [
        "print(x_data[0])\n",
        "print(y_data[0])"
      ],
      "metadata": {
        "colab": {
          "base_uri": "https://localhost:8080/"
        },
        "outputId": "f688a35e-ffc1-45be-bbb6-12bd80df3e00",
        "id": "hn5PuC1Ke04Y"
      },
      "execution_count": null,
      "outputs": [
        {
          "output_type": "stream",
          "name": "stdout",
          "text": [
            "[23, 47, 28, 0, 124, 118, 0, 29, 105, 130]\n",
            "[47, 28, 0, 124, 118, 0, 29, 105, 130, 0]\n"
          ]
        }
      ]
    },
    {
      "cell_type": "markdown",
      "source": [
        "6. 입력 시퀀스에 대해 원핫인코딩 수행\n",
        "7. 입력 데이터, 레이블데이터 텐서로 변환\n",
        "\n",
        "\n",
        "    데이터 타입 + cpu/gpu 에 따라서 텐서 타입 다르게 : https://subinium.github.io/pytorch-Tensor-Variable/\n",
        "    "
      ],
      "metadata": {
        "id": "pHOWlgpoe04Y"
      }
    },
    {
      "cell_type": "code",
      "source": [
        "x_one_hot = [np.eye(vocab_size)[x] for x in x_data]\n",
        "\n",
        "X = torch.cuda.FloatTensor(x_one_hot)\n",
        "Y = torch.cuda.LongTensor(y_data) "
      ],
      "metadata": {
        "id": "Arl5AXije04Y"
      },
      "execution_count": null,
      "outputs": []
    },
    {
      "cell_type": "markdown",
      "source": [
        "8. 크기 확인"
      ],
      "metadata": {
        "id": "_Rokt5Sde04Y"
      }
    },
    {
      "cell_type": "code",
      "source": [
        "print('훈련 데이터의 크기 : {}'.format(X.shape)) # (batch size, 문장 길이, 단어 벡터의 차원)\n",
        "print('레이블의 크기 : {}'.format(Y.shape))"
      ],
      "metadata": {
        "colab": {
          "base_uri": "https://localhost:8080/"
        },
        "outputId": "af8b126c-29b8-4892-d7f3-82b53691888f",
        "id": "jHO727O8e04Y"
      },
      "execution_count": null,
      "outputs": [
        {
          "output_type": "stream",
          "name": "stdout",
          "text": [
            "훈련 데이터의 크기 : torch.Size([362, 10, 131])\n",
            "레이블의 크기 : torch.Size([362, 10])\n"
          ]
        }
      ]
    },
    {
      "cell_type": "markdown",
      "source": [
        "9. 원핫인코딩 결과 샘플 확인하기"
      ],
      "metadata": {
        "id": "VbcrRUsMe04Y"
      }
    },
    {
      "cell_type": "code",
      "source": [
        "print(X[0])"
      ],
      "metadata": {
        "colab": {
          "base_uri": "https://localhost:8080/"
        },
        "outputId": "fa3035f2-8b6f-4fde-c018-a10b3984d8f5",
        "id": "1AdnBnF2e04Z"
      },
      "execution_count": null,
      "outputs": [
        {
          "output_type": "stream",
          "name": "stdout",
          "text": [
            "tensor([[0., 0., 0.,  ..., 0., 0., 0.],\n",
            "        [0., 0., 0.,  ..., 0., 0., 0.],\n",
            "        [0., 0., 0.,  ..., 0., 0., 0.],\n",
            "        ...,\n",
            "        [0., 0., 0.,  ..., 0., 0., 0.],\n",
            "        [0., 0., 0.,  ..., 0., 0., 0.],\n",
            "        [0., 0., 0.,  ..., 0., 0., 1.]], device='cuda:0')\n"
          ]
        }
      ]
    },
    {
      "cell_type": "markdown",
      "source": [
        "10. 레이블 데이터 샘플 확인하기"
      ],
      "metadata": {
        "id": "oh-dTJule04Z"
      }
    },
    {
      "cell_type": "code",
      "source": [
        "print(Y[0])"
      ],
      "metadata": {
        "colab": {
          "base_uri": "https://localhost:8080/"
        },
        "outputId": "31a18259-6436-4d22-df41-d2f9d8a03082",
        "id": "mxvNmMGve04Z"
      },
      "execution_count": null,
      "outputs": [
        {
          "output_type": "stream",
          "name": "stdout",
          "text": [
            "tensor([ 47,  28,   0, 124, 118,   0,  29, 105, 130,   0], device='cuda:0')\n"
          ]
        }
      ]
    },
    {
      "cell_type": "markdown",
      "source": [
        "### 2. 모델 구현하기"
      ],
      "metadata": {
        "id": "lU1Ry-Oof2Vm"
      }
    },
    {
      "cell_type": "markdown",
      "source": [
        "11. RNN 모델 구현 문자 단위 RNN"
      ],
      "metadata": {
        "id": "cVylO-rrf2Vz"
      }
    },
    {
      "cell_type": "code",
      "source": [
        "class Net(torch.nn.Module):\n",
        "  def __init__(self, input_dim, hidden_dim, layers):\n",
        "    super(Net, self).__init__()\n",
        "    self.rnn = torch.nn.RNN(input_dim, hidden_dim, num_layers=layers, batch_first=True)\n",
        "    self.fc = torch.nn.Linear(hidden_size, hidden_size, bias=True)\n",
        "  \n",
        "  def forward(self, x):\n",
        "    x, _status = self.rnn(x)\n",
        "    x = self.fc(x)\n",
        "    return x\n",
        "\n",
        "\n",
        "\n",
        "net = Net(vocab_size, hidden_size, 2) \n",
        "net.to(device) "
      ],
      "metadata": {
        "colab": {
          "base_uri": "https://localhost:8080/"
        },
        "id": "9oV39IJ3f2Vz",
        "outputId": "f24caa83-bcfc-47d9-f20f-89f8440fa917"
      },
      "execution_count": null,
      "outputs": [
        {
          "output_type": "execute_result",
          "data": {
            "text/plain": [
              "Net(\n",
              "  (rnn): RNN(131, 131, num_layers=2, batch_first=True)\n",
              "  (fc): Linear(in_features=131, out_features=131, bias=True)\n",
              ")"
            ]
          },
          "metadata": {},
          "execution_count": 276
        }
      ]
    },
    {
      "cell_type": "markdown",
      "source": [
        "12. loss function\n",
        "13. optimizer"
      ],
      "metadata": {
        "id": "mJ7xkEqcf2V0"
      }
    },
    {
      "cell_type": "code",
      "source": [
        "criterion = torch.nn.CrossEntropyLoss() \n",
        "optimizer = optim.Adam(net.parameters(), learning_rate)"
      ],
      "metadata": {
        "id": "qj2h0m5uf2V0"
      },
      "execution_count": null,
      "outputs": []
    },
    {
      "cell_type": "markdown",
      "source": [
        "14. 출력 크기 점검\n",
        "    - 출력 크기 = 배치 차원, 시점(timesteps), 출력의 크기\n",
        "    - 나중에 정확도 측정할 때는 모두 펼쳐서 계산하게 되는데, view를 사용하여 배치 차원과 시점 차원을 하나로 만든다"
      ],
      "metadata": {
        "id": "Jx_NhQmBf2V0"
      }
    },
    {
      "cell_type": "code",
      "source": [
        "outputs = net(X)     \n",
        "print(outputs.shape)  \n",
        "print(outputs.view(-1, vocab_size).shape)\n",
        "\n",
        "print(Y.shape)\n",
        "print(Y.view(-1).shape)"
      ],
      "metadata": {
        "colab": {
          "base_uri": "https://localhost:8080/"
        },
        "outputId": "c718c376-c0f5-4313-cc65-0d235eab0048",
        "id": "HaJraY7_f2V0"
      },
      "execution_count": null,
      "outputs": [
        {
          "output_type": "stream",
          "name": "stdout",
          "text": [
            "torch.Size([362, 10, 131])\n",
            "torch.Size([3620, 131])\n",
            "torch.Size([362, 10])\n",
            "torch.Size([3620])\n"
          ]
        }
      ]
    },
    {
      "cell_type": "markdown",
      "source": [
        "15. Training 시작\n",
        "16. 예측결과 확인"
      ],
      "metadata": {
        "id": "9m7LlrYIf2V0"
      }
    },
    {
      "cell_type": "code",
      "source": [
        "for i in range(200):\n",
        "    optimizer.zero_grad()\n",
        "    outputs = net(X) \n",
        "    loss = criterion(outputs.view(-1, vocab_size), Y.view(-1))\n",
        "    loss.backward()\n",
        "    optimizer.step()\n",
        "\n",
        "    #########  예측결과 확인 ####################\n",
        "\n",
        "    results = outputs.argmax(dim=2) \n",
        "    predict_str = \"\"\n",
        "    for j, result in enumerate(results): \n",
        "        if j == 0: \n",
        "            predict_str += ''.join([world_set[t] for t in result])\n",
        "        else: \n",
        "            predict_str += world_set[result[-1]]\n",
        "\n",
        "    print(predict_str)"
      ],
      "metadata": {
        "colab": {
          "base_uri": "https://localhost:8080/"
        },
        "outputId": "8427e7d0-7242-4351-a7d1-b213e7fac083",
        "id": "MXTgsvOpf2V0"
      },
      "execution_count": null,
      "outputs": [
        {
          "output_type": "stream",
          "name": "stdout",
          "text": [
            "라동씬동라동동있동동세있라라있동동있동있있있있있있있동세있동라세있력세있라있있세있세동있세동동동라라있있있라있있동있있동동있라있있동라있동있세람있라동있동세동라동있있동있있있있세각세있동동있있동라세있세있있세있있있있동세있있동라있세라있동있세력라라동있있있라있있동동있동세있동있있있있동있동있동각있세라있있있세각세라있동동있세동있라세있있세있있세있있동있력동있있세있동있라세있세동동동있세있동라세있있있라있있라있동있있동세있동있있동있있있있동라동있있있동라있있동세있동있동있있동동동있있동동있있세있동동세있있있있있라있동있있력라있있세있있동라라동있라세동있세있동세있있동라라있있동라있동있세있동라있력라세있동있세있동세동있력세동동있동동있있세있동동동있있있동있있세있있세있있있동있세있있동있동있세동있동동있동세있세동동있라세동력라세있있세있동\n",
            "                                                                                                                                                                                                                                                                                                                                                                                   \n",
            "                                                                                                                                                                                                                                                                                                                                                                                   \n",
            "                                                                                                                                                                                                                                                                                                                                                                                   \n",
            "                                                                                                                                                                                                                                                                                                                                                                                   \n",
            "                                                                                                                                                                                                                                                                                                                                                                                   \n",
            "   지                            통                        지            그   그                                   을         지   지       을                                                                     의                            을         통                   통         지       을      그       그   람               지          통                                             \n",
            "   것  그   만     것          것   지  만         것    것  것   람  것  것통 것    의          람        것  것   만  것           것  것람     것    것   람  것람  람   람         것   것   람        것   람  람                것   것      것                  것  것람  람  것람 것   람      람     것통 것   람  것  것람      것   람  것  것    것    의  것       것   것          것람  람   을  것           것              람      만     \n",
            "   것   이        것 것        것   것              것     것 이 것   는 것  사 이      것   것         이 것    이 것       것 이 것  것  것 이 것    것  것 이 것  것   것   것   이   이 것 이 것   것 것   것        것    것 것   것          것   것    것   것 것   것   것   다 것 이 것     것 이 것     것 이 것  것  사 이 것        사 것  것   것   람 사 것  사 이     것       것   것        는 것   것   것   이       것             것   것   것      것 \n",
            "   것  사 이 것람    사 이  것 것   것람이 것람 사 것람 사 이  것 이는 것람 사 이  욕    사람 사 이  것   것람  것람 사 것람   것  는 사 이  다 사 이  것람   지 사람 사 이  욕   것람 사 이  욕 사람이  욕  것람   이 것람   이  람    이    이  람이        것  사 이     이 사람이 것람   욕 사 것람   람   사 것  것람 사람 사 이  욕 사람 사 이  지         욕  람 사 이  욕 사  사    것람 사    지 사람 ? 것람 사 이  것람 사람이  것람 사 이 것람 사 것람 사람 사 이  람  것람 사람이 사람   것람 사 이  것    보 이  것람   이 사람   보\n",
            "   올람  람의  람의   것    보 이   것람의 사람의  것통   보  사람이  보통  람의  올의   보통 사람의  올균의 것람의 사람의  보람의  보  사 사 이 사람   의  것통의 것지    사 이  올균  것통  람의  올   욕  올의 사람의  이  람   욕     사람이   사람   의        보통         지  람의 사람의 사각망  것통  것람의    이  사람  람   의  올    사 이  람의  람이    욕    사 이  올의   사    보통 사람이  람  람의  보통 사람의  올통  람의  것통  람의  람의  올통  없 이 이 사람의 사람   의  람의  것통   욕  보람    것람  것각의  욕  람이   \n",
            "   보람 보람이 보통 보는 사 이    이이  보람이 보람 사 보통 사  는 보람이  보통 사람이 보지  는 보통 사람이  욕람이 보람이 보 이통 보통   이 보통 보람이 큰람 보람 사 보람이 보통 보통 사람이 보지 ? 보통 사람이 보통 보람이 보통  보람 보람  올통   이 보람이 큰 이   보통 사람 사람 사람 사 이통 보  보람  람  보람이 보람이 보통 사 보통이 보 이 이 보통이 보통 보통 사람이 보통 보통 사람이 올통  . 보람의 보통 보통 사람이 보통 보람 사람 사 보통 사람  올통 보람 사 보통 사람이  욕통 사람   보통 보람이 보통 사 보통 사통 사람  올람이 큰람 보람이 보통   보통 사람이사 보람    보람이 보통  보이 보람이   \n",
            "   보  보람이 보통 보  사 한 이   통  보람한 보  만 보통 사 이  사 이  보통 사람이 보통 보는 보통 사람이  욕 한 사 한 큰 보통 보통 복 이 보는 보 한 욕  보 이는 보람이 보통 보는 사람이 보통 ? 보통 사람이 보통 보람이  통  보  보는  보통 복 이 보 이 사 한 이 보람 보는 보통 보  . 보  보  보      보 한 보 한 보통 사 보 이 욕 한 이 보 이 보  보통 사람이 보통 보통 보 이 보통  이 보통  주통 보통 사람이 보통 보는 보람 ? 보통 사 이 보통 보람 ? 보통 사람이  욕  보는   보  보 한 보통 고 보통 보는 보람이 보람이 욕  보이이 보은 는 보통 사 이는 보 이   큰람이 보람이 이  보 이 이 \n",
            "   보  보람의 보통 사는 사 한 이는 보는이 사람한 보  사 보 까? 한  사 한고 보  사람이 보통 보는 보는 사람이  욕 한 보 한 큰 보는 보 이복 이 보는 사 한 사  사 이고 보 이 보통 사는 사람의 보통 ? 보통 사람의 보통 사람이 사통  보  보는  보통 사권이 보 이 사 한 이 보통 사는 보는 사 이  한 보통  보   는  보 한 보 한 보통 사 보 한 사 한 이 보는이 보  보통 사람이 보통 보는 사람한 보통  .  보  보통 보통 사람이 보통 사는 보는까? 보는 사 한 보는 사는까? 보통 사 의  욕  사는   보  사 한 보통 사 보는 보는 사람이 보통이 욕  보는이 보은 사 보는 사 이고 보 한.  사람한 보통 보 한 보 이 한 \n",
            "   올  사람의 보통 사통 사 이 이  보다이 사람한 보통 사 보는 ? 이. 사 이고 보통 사람의 보은 보? 보통 사람이  욕 한 보력한 보  고 보는픽복권이 사는 사람이 보통 사는 ? 보 이 보통 사는 사람의 보은 ? 보통 사람의 있은 보통픽 보은  보  보는  보통 사람이 사는이 사 한 이 사통 사는 사는 사는 ? 이 보은  사통  는  보력한 보 한 보통 사 보 한 사 한람이 보는이 보통 보통 사람의 있은 보는 사람의 있통  .  보는 보통 사통 사람의 있은 보는 사는 ? 보고 사는  있통 사통 ? 보통 사람의  욕  사람   보  사람의 보통 사 보는 보는 사는  사림이 보통 사통까 있지 ? 보는 사람픽? 한  보는 사람이 보통 사는의 사는하 . \n",
            "   올  보람의 보통 사통 사 이  고 보지이 사력한 보람 ? 보통 ? 이. 사 이연 보통 사람의 없지  ? 보통 사람의  보 한 보력한 보  고 보통픽복권이 보는 사람한 보통 사람하? 보람이 경은 사는 사람의 없은 ? 보통 사람의 없은 보통픽 없지  사력이 이  보림픽복권이 사는이 사 한 이 보림 사는 사는 사람 ? 이  지이 사력이 에  보력한 보 한 보살까? 보 이 사 한 이  다이 사력 보통 사람의 없은 보통 사람의 없지  .  주일 보통 사통 사람의 없은 보는 사람까? 보통 사는이 있는 사는까? 보통 사람의  보통 사람의  보통 사람을 보통 ? 보통 보는 사람의 보림이 보통 사지의 올지하고 보통 사람이? 보  .  사람이 없지  어을 보람이 . \n",
            "   올  보지의 없지 사통 ? 한  고 보 이 보력한 보람 ? 보통 ? 을  사 한는 사통 사람이 없지  ? 보통 사람이  보 한 보력한 보 이고 보통픽복권이 보는 사 한 보통 사 하고 보람이 경은 사는 사람이  지 ? 보통 사람이 없은 보람이 없지  사 이 이  보지픽복권이 사 이 보 한 이 보림 보는 사는 사람이. 보  만  보塵이 에  보력한 보 한 보살 ? 보 이 한 한 이  은  사  보통 사람이 없은 보통 사람을 경지  .  주이 없통 보통 사람이 없은 보는 사람까? 보통 사람이 경는 사람까? 보통 사람이  보람 사람의  올통 사람을 보통 고 보통 보는 사람이 경자일 보  보지의 없지하고 보통 사람이? 사  .  보람이 없지  권을 보람이   \n",
            "   올  없지의 없각 보통 사 보통 사 보 이 것력한 보람 ? 보통 ? 다. 사 보통 보통 사람이 없지  ? 보통 사람이  좌절한 욕력한 욕 이통 보지픽복권이 보는 사 한 욕통 보  고 보람이 경은 보는 사람이  지 ? 보통 사람이 없은 보지이 없다  그  권이  올림픽복권이 보 이 욕 한 이 올통 보는 없는 사람 . 보  좌  권지 上에서 어력한 보 한 보살 ? 욕 이 욕 욕심이  지  어  보통 사람이 없은 보통 사람을 경지  .  어  없은 보통 사람이 없은 보는 사통 ? 보통 사는  경는 보통 ? 보통 사람이  좌통 사람의  올통 사람을 보력하고 보통 보는 사람이 경자일 욕  없지로 없지하고 보통 사람이? 보  .  보완이 어지  권을 보력이   \n",
            "   올  없지의 경각해보통 사 욕통   보다고 욕력한 욕심 고 보살 ? 다. 욕 것통 보통 사람이 경지일 ? 보통 사람이  좌절한 욕심을 욕 이통 것림픽복권이 보는 사람을 욕통 있복 고 보황을 경은 보는 사람이 없지해? 보통 사람이 경은 보지이 없다  그 복권이  올림픽복권이 없렇이 욕 이 이 올통 보는 없은 보람 .    좌세 권塵世上에서 어력한 욕 한 보살해? 욕라이 욕 욕심이 없지  어다 보통 사람이 없은 경은 보람의 경지이 .  어  없은 보통 사람이 없은 보는 것일 ? 보통 보는  올는 보일 ? 보통 사람이  좌통 사람의  어통 사람을 욕력하고 보통 아는 것람의 올자일 욕  실지로 어재하는 보통 사람하? 욕심 .  것림서 어지래 만을 욕력이   \n",
            "   욕  실지의 것각해보는 ? 욕심   과다고 욕력한 욕심다고 잘살아?겠다. 욕 욕연 보통 사람이 경지일 ? 과통 사람이  좌절한 욕심을 욕 과는 것림픽복권이 하는 한주을 욕  있복하고 욕황을 경을 보는 사람이 없지해? 과통 사람이 경은 보지이 없다면 그 복권이  올림픽복권이 . 이 욕 이 이 욕림 보는 것는 사람다. 이  좌세상風塵世권에서 욕력한 욕 을 잘살픽? 욕라이 욕 욕심이 없다면 그  보통 사람이 없은 보은 사람의 경지이 .  어  없은 보통 사람이 없은 보는 것일까? 과통 사는이 올는 것일까? 과통 사람이  좌통 사수처럼 어통 사람을 욕람하고 것통 아는 것람의 것자일 욕  실지로 .재하는 것일 사람이? 욕심다.  것완서 어림래알만한 욕심이   \n",
            "   욕  실지의 것각해보면 ? 욕심 사 과다고 욕력한 욕안 고 잘살아를겠다. 욕 과연 보통 사람이 경지일까? 과통 사람이  평절한 욕심을 욕 과고 것림픽복권이  고 한주을 욕  있복하고 과황된 경을 보는 사람이 없지해? 과통 사람이 경은 보람이 없다면 그 복권이  올림픽복권이 . 이 욕 이 을 올림 보는 것는 사는다.    평세상風塵世권에서 욕력한 욕 을 잘살아를 욕라이 욕 욕심다 없다면 그  있통 사람이 없은 보는 사람의 경지이다.  어다 없은 보통 사람이 없은 보는 것는까? 과는 사는이 올는 것일까? 과통 사람이  평균 사수처럼 어통 사람을 욕람하고 과통 하는 것람의 것자일 욕  실지로 .재하는 것일 사람지? 욕심다.  것림서 어림래알만한 욕심지   \n",
            "   욕  있림히 것각해보면 사 욕심 사 과리고 욕력한 욕일 만 잘살아를겠다. 욕 과연 있통 사람이 경지일까? 과통 사람이란 평절한 욕심을 욕 과연 것림픽복권이 없고 한주을 동  있복하고 과황된 경을 보는 사람이 없지해? 과통 사람이 경은 보람이 없다면 그 복권이  올림픽복권이 .다면 큰 이안을 올림 보는 것는 사는다.   풍진세상風塵世上에서 욕력한 욕 한 잘살아를 바라고 욕 욕심다 없다면 그건 있통 사람이 경은 보은 사람의 경지이다.  어다 있은 보통 사람이 없은 있는 것일까? 과통 사는이 올는 것일까? 과통 사람이란 평균 사수처럼 어떤 사람을 욕력하고 과통 하는 것람의 올자일 동, 실지로 그재하는 것일 사람지? 욕심다.- 올림서 어림래알만한 욕심지란. \n",
            "   뿐  실림히 그각해보면 사 욕심 안 잘리고 욕력한 욕일까만 잘살아를겠다. 욕 과연 보통 사람이 경지일까? 과통 사람이란 평절한 욕심한 한 과의 올림픽복권이 없고 한주을 동안 진복하고 과황된 경을 보는 사람이 없닐해? 과통 사람이 경은 보림이 없다면 그택복권이  올림픽복권이 .다게 큰 이익을 올림 보는 올을 것는다.   풍진세상風塵世上에서 노력한 욕큼만 잘살아를 바라고 한 욕심이 없다면 그건 보통 사람이 경은 보은 사람의 경지일다.  어다 올은 보통 사람이 없은 있는 것일까? 과통 있는는 올는 올일까? 과통 사람이란 평균 사수처럼 어떤 사람을 욕른하고 과통 하는 것람의 올자일 뿐, 실지로 그재하는 것일 사닐처? 욕른다.- 올완서 어림래알만한 만심지 . \n",
            "   올  실지히 생각해보면 사 욕심 안 잘리고 노력한 욕만큼만 잘살아를겠다. 사 과연 보통 사람이 경지일까? 보통 사람이란 평절한 욕심한 한 장의 올림픽복권이 없고 한주한 동안 행복하고 것황된 경을 보는 사람이 없닐까? 보통 사람이 경은 보모이 없다면 그택복권이  올림픽복권이 그 게 큰 이익을 올림 보는 없을 것는다.   풍진세상風塵世上에서 노력한 장큼만 잘살아를 바라고 한 욕심이 없다면 그건 보통 사람이 아은 보은 사람의 경지일다.  어  올짜 보통 사람이 아은 보는 것일까? 보통 사는는 올는 것일까? 보통 사람이란 평균 사수처럼 어떤 사람을 큰표하고 과어 하는 것람의 올자일 뿐, 실지로 존재하는 것일 사닐지도 욕른다.- 올완서 어모래알만한 만심지 . \n",
            "럼  큰  실지히 생각해보면 사 욕심 안 보리고 노력한 장만큼만 잘살아를겠다. 사 과연 보통 사람이 경지일까? 보통 사람이란 평절한 욕심한 한 장만 경림픽복권이 걸고 한주한 동안 행복하고 노황된 경을 보는 사람이 없닐까? 보통 사람이 아은 보수이 없다면 그택복권이  올림픽복권이 그 게 큰 이익을 올릴 수는 없을 것람다.   풍진세상風塵世上에서 노력한 이큼만 잘살아를 바라고 한 욕심이 없다면 그건 보통 사람이 아씬 보통 사인의 경지이다.  그  올짜 보통 사람이 아디 보는 것일까? 보통 보는는 보는 것일까? 보통 사람이란 평균 점수처럼 어떤 사단을 대표하고 과어 하는 것공의 올자일 뿐, 실지로 존재하는 것일 보닐지도 욕른다.- 것완서 경모래알만한 만심지라. \n",
            "럼  뿐  실정히 생각해보면 큰 욕심 안 부리고 노력한 장만큼만 잘살아보겠다는 게 과연 보통 사람의 경지일까? 보통 사람의란 평절한 욕심한 한 장의 올림픽복권이 걸고 한주한 동안 행복하고 노황된 꿈을 보는 사람이 없닐까? 보통 사람이 경은 보모이 없다면 그택복권이  올림픽복권이 그렇게 큰 이익을 올릴 수는 없을 것는다. 이 풍진세상風塵世上에서 노력한 이큼만 잘살아를 바라고 딴 욕심이 없다면 그건 보통 사람의 경씬 보은 사인의 경지이다.  그럼 올짜 보통 사람의 아디 보는 것일까? 보통 있는는 올는 것일까? 보통 사람의란 평균 점수처럼 어떤 사단을 대표하고 싶어 하는 것공의 숫자일 뿐, 실지로 존재하는 것일 보닐지도 큰른다.- 것완서 '모래알만한 만심지라. \n",
            "럼  큰  냉정히 생각해보면 큰 욕심 안 부리고 노력한 장만큼만 잘살아보겠다는 게 과연 보통 사람의 경지일까? 보통 사람의란 평절한 욕심을 한 장의 올림픽복권이 걸고 일주일 동안 행복하고 노황된 꿈을 보는 사람이 없닐까? 보통 사람의 경은 경지이 없다면 그택복권이  올림픽복권이 그렇게 큰 이익을 올릴 수는 없을 것일다. 이 풍진세상風塵世上에서 노력한 이큼만 잘살아를 바라고 딴 욕심이 없다면 그건 보통 사람의 경씬 보은 것인의 경지이다.  그럼 올짜 보통 사람의 경디 있는 것일까? 보통 있기는 올는 것일까? 보통 사람의란 평균 점수처럼 어떤 집단을 대표하고 싶어 하는 것공의 숫자일 뿐, 실지로 존재하는 것은 보닐지도 모른다.- 것완서 '모래알만한 만실지다. \n",
            "럼  큰  냉정히 생각해보면 큰 욕심 안 부리고 노력한 장만큼만 잘살아보겠다는 이 과연 보통 사람의 경지일까? 보통 사람의란 좌절한 욕심을 한 장의 올림픽복권이 걸고 일주일 동안 행복하고 게황된 꿈을 보는 사람이 없닐까? 보통 사람의 경은 아욕이 없다면 그택복권이  올림픽복권이 그렇게 큰 이익을 올릴 수는 없을 것이다. 이 풍진세상風塵世上에서 노력한 이큼만 잘살아를 바라고 딴 욕심이 없다면 그건 보통 사람의 경씬 넘은 성인의 경지이다.  그럼 진짜 보통 사람의 경은 있는 것일까? 보연 있기는 것는 것일까? 보통 사람의란 좌균 점수처럼 어떤 집단을 대표하고 싶어 하는 것공의 숫자일 뿐, 실지로 존재하는 것은 아닐지도 모른다.- 박완서 '모래알만한 만실일다. \n",
            "럼  큰  냉정히 생각해보면 큰 욕심 안 부리고 노력한 만만큼만 잘살아보겠다는 게 과연 보통 사람의 경지일까? 보통 사람의란 좌절한 욕망을 한 장의 올림픽복권에 걸고 일주일 동안 행복하고 싶황된 꿈을 꾸는 사람이 아닐까? 보통 사람의 경은 아욕이 없다면 그택복권이나 올림픽복권이 그렇게 큰 이익을 올릴 수는 없을 것이다. 이 풍진세상風塵世上에서 노력한 만큼만 잘살아를 바라고 딴 욕심이 없다면 그건 보통 사람의 경씬 넘은 성인의 경지이다.  그럼 진짜 보통 사람의 아디 있는 것일까? 보연 있기는 것는 것일까? 보통 사람의란 좌균 점수처럼 어떤 집단을 대표하고 싶어 하는 것공의 숫자일 뿐, 실지로 존재하는 것은 아닐지도 모른다.- 박완서 '모래알만한 만실일까고 \n",
            "럼  큰  냉정히 생각해보면 큰 욕심 안 부리고 노력한 만만큼만 잘살기보겠다는 게 과연 보통 사람의 경지일까? 보통 사람의란 평절한 욕망을 한 장의 올림픽복권에 걸고 일주일 동안 행복하고 싶황된 꿈을 꾸는 사람이 아닐까? 보통 사람의 경은 아욕이 없다면 그택복권이나 올림픽복권이 그렇게 큰 이익을 올릴 수는 없을 것이다. 이 풍진세상風塵世上에서 노력한 만큼만 잘살기를 바라고 딴 욕심이 없다면 그건 보통 사람의 훨씬 넘은 성인의 경지이다.  그럼 진짜 보통 사람의 아디 있는 것일까? 보연 있기는 있는 것일까? 보통 사람의란 평균 점수처럼 어떤 집단을 대표하고 싶어 하는 것공의 숫자일 뿐, 실지로 존재하는 것은 아닐지도 모른다.- 박완서 '모래알만한 진실일라고 \n",
            "럼  큰  냉정히 생각해보면 큰 욕심 안 부리고 노력한 만만큼만 잘살기보겠다는 게 과연 보통 사람의 경지일까? 보통 사람의란 평절한 욕망을 한 장의 올림픽복권에 걸고 일주일 동안 행복하고 싶황된 꿈을 꾸는 사람이란아닐까? 보통 사람의 경은 아욕이 없다면 주택복권이나 올림픽복권이 그렇게 큰 이익을 올릴 수는 없을 것이다. 이 풍진세상風塵世上에서 노력한 만큼만 잘살기를 바라고 딴 욕심이 없다면 그건 보통 사람의 훨씬 넘은 성인의 경지이다.  그럼 진짜 보통 사람의 아디 있는 것일까? 보연 있기는 있는 것일까? 보통 사람의란 평균 점수처럼 어떤 집단을 대표하고 싶어 하는 것공의 숫자일 뿐, 실지로 존재하는 것은 아닐지도 모른다.- 박완서 '모래알만한 진실일라고실\n",
            "럼  큰  냉정히 생각해보면 큰 욕심 안 부리고 노력한 만만큼만 잘살기보겠다는 게 과연 보통 사람의 경지일까? 보통 사람이란 평절한 욕망을 한 장의 올림픽복권에 걸고 일주일 동안 행복하고 허황된 꿈을 꾸는 사람이란아닐까? 보통 사람이 경은 허욕이 없다면 주택복권이나 올림픽복권이 그렇게 큰 이익을 올릴 수는 없을 것이다. 이 풍진세상風塵世上에서 노력한 만큼만 잘살기를 바라고 딴 욕심이 없다면 그건 보통 사람의 훨씬 넘은 성인의 경지이다.  그럼 진짜 보통 사람의 아디 있는 것일까? 보연 있기는 있는 것일까? 보통 사람이란 평균 점수처럼 어떤 집단을 대표하고 싶어 하는 것공의 숫자일 뿐, 실지로 존재하는 것은 아닐지도 모른다.- 박완서 '모래알만한 진실이라고실\n",
            "럼  한  냉정히 생각해보면 큰 욕심 안 부리고 노력한 만만큼만 잘살기보겠다는 게 과연 보통 사람의 경지일까? 보통 사람이란 평절한 욕망을 한 장의 올림픽복권에 걸고 일주일 동안 행복하고 허황된 꿈을 꾸는 사람이란아닐까? 보통 사람이 경은 허욕이 없다면 주택복권이나 올림픽복권이 그렇게 큰 이익을 올릴 수는 없을 것이다. 이 풍진세상風塵世上에서 노력한 만큼만 잘살기를 바라고 딴 욕심이 없다면 그건 보통 사람이 훨씬 넘은 성인의 경지이다.  그럼 진짜 보통 사람의 아디 있는 것일까? 보연 있기는 있는 것일까? 보통 사람이란 평균 점수처럼 어떤 집단을 대표하고 싶어 하는 것공의 숫자일 뿐, 실지로 존재하는 것은 아닐지도 모른다.- 박완서 '모래알만한 진실이라.실\n",
            "럼  한  냉정히 생각해보면 큰 욕심 안 부리고 노력한 만만큼만 잘살기보겠다는 게 과연 보통 사람의 경지일까? 보통 사람이란 평절한 욕망을 한 장의 올림픽복권에 걸고 일주일 동안 행복하고 허황된 꿈을 꾸는 사람이 아닐까? 보통 사람이 경은 허욕이 없다면 주택복권이나 올림픽복권이 그렇게 큰 이익을 올릴 수는 없을 것이다. 이 풍진세상風塵世上에서 노력한 만큼만 잘살기를 바라고 딴 욕심이 없다면 그건 보통 사람의 훨씬 넘은 성인의 경지이다.  그럼 진짜 보통 사람의 아디 있는 것일까? 보연 있기는 있는 것일까? 보통 사람이란 평균 점수처럼 어떤 집단을 대표하고 싶어 하는 것공의 숫자일 뿐, 실지로 존재하는 것은 아닐지도 모른다.- 박완서 '모래알만한 진실이라고실\n",
            "럼  한  냉정히 생각해보면 큰 욕심 안 부리고 노력한 만만큼만 잘살기보겠다는 게 과연 보통 사람의 경지일까? 보통 사람이란 평절한 욕망을 한 장의 올림픽복권에 걸고 일주일 동안 행복하고 허황된 꿈을 꾸는 사람이 아닐까? 보통 사람이 경은 허욕이 없다면 주택복권이나 올림픽복권이 그렇게 큰 이익을 올릴 수는 없을 것이다. 이 풍진세상風塵世上에서 노력한 만큼만 잘살기를 바라고 딴 욕심이 없다면 그건 보통 사람의 훨씬 넘은 성인의 경지이다.  그럼 진짜 보통 사람의 숨디 있는 것일까? 보연 있기는 있는 것일까? 보통 사람의란 평균 점수처럼 어떤 집단을 대표하고 싶어 하는 것공의 숫자일 뿐, 실지로 존재하는 것은 아닐지도 모른다.- 박완서 '모래알만한 진실이라고실\n",
            "럼나 한편 냉정히 생각해보면 큰 욕심 안 부리고 노력한 만만큼만 잘살기보겠다는 게 과연 보통 사람의 경지일까? 보통 사람이란 평절한 욕망을 한 장의 올림픽복권에 걸고 일주일 동안 행복하고 허황된 꿈을 꾸는 사람이 아닐까? 보통 사람이 경은 허욕이 없다면 주택복권이나 올림픽복권이 그렇게 큰 이익을 올릴 수는 없을 것이다. 이 풍진세상風塵世上에서 노력한 만큼만 잘살기를 바라고 딴 욕심이 없다면 그건 보통 사람의 훨씬 넘은 성인의 경지이다.  그럼 진짜 보통 사람의 경디 있는 것일까? 보연 있기는 있는 것일까? 보통 사람이란 평균 점수처럼 어떤 집단을 대표하고 싶어 하는 것공의 숫자일 뿐, 실지로 존재하는 것은 아닐지도 모른다.- 박완서 '모래알만한 진실이라고'\n",
            "럼나 한편 냉정히 생각해보면 큰 욕심 안 부리고 노력한 것만큼만 잘살기보겠다는 게 과연 보통 사람의 경지일까? 보통 사람이란 평절한 욕망을 한 장의 올림픽복권에 걸고 일주일 동안 행복하고 허황된 꿈을 꾸는 사람이 아닐까? 보통 사람이 경은 허욕이 없다면 주택복권이나 올림픽복권이 그렇게 큰 이익을 올릴 수는 없을 것이다. 이 풍진세상風塵世上에서 노력한 만큼만 잘살기를 바라고 딴 욕심이 없다면 그건 보통 사람의 훨씬 넘은 성인의 경지이다.  그럼 진짜 보통 사람의 어디 있는 것일까? 보연 있기는 있는 것일까? 보통 사람이란 평균 점수처럼 어떤 집단을 대표하고 싶어 하는 가공의 숫자일 뿐, 실지로 존재하는 것은 아닐지도 모른다.- 박완서 '모래알만한 진실이라고'\n",
            "럼나 한편 냉정히 생각해보면 큰 욕심 안 부리고 노력한 것만큼만 잘살기보겠다는 게 과연 보통 사람의 경지일까? 보통 사람이란 좌절한 욕망을 한 장의 올림픽복권에 걸고 일주일 동안 행복하고 허황된 꿈을 꾸는 사람이 아닐까? 보통 사람이 경은 허욕이 없다면 주택복권이나 올림픽복권이 그렇게 큰 이익을 올릴 수는 없을 것이다. 이 풍진세상風塵世上에서 노력한 만큼만 잘살기를 바라고 딴 욕심이 없다면 그건 보통 사람이 훨씬 넘은 성인의 경지이다.  그럼 진짜 보통 사람의 어디 있는 것일까? 보연 있기는 있는 것일까? 보통 사람이란 좌균 점수처럼 어떤 집단을 대표하고 싶어 하는 가공의 숫자일 뿐, 실지로 존재하는 것은 아닐지도 모른다.- 박완서 '모래알만한 진실이라고'\n",
            "럼나 한편 냉정히 생각해보면 큰 욕심 안 부리고 노력한 것만큼만 잘살아보겠다는 게 과연 보통 사람의 경지일까? 보통 사람이란 좌절한 욕망을 한 장의 올림픽복권에 걸고 일주일 동안 행복하고 허황된 꿈을 꾸는 사람이 아닐까? 보통 사람이 경은 허욕이 없다면 주택복권이나 올림픽복권이 그렇게 큰 이익을 올릴 수는 없을 것이다. 이 풍진세상風塵世上에서 노력한 만큼만 잘살기를 바라고 딴 욕심이 없다면 그건 보통 사람의 훨씬 넘은 성인의 경지이다.  그럼 진짜 보통 사람의 어디 있는 것일까? 보연 있기는 있는 것일까? 보통 사람이란 좌균 점수처럼 어떤 집단을 대표하고 싶어 하는 가공의 숫자일 뿐, 실지로 존재하는 것은 아닐지도 모른다.- 박완서 '모래알만한 진실이라도'\n",
            "럼나 한편 냉정히 생각해보면 큰 욕심 안 부리고 노력한 것만큼만 잘살아보겠다는 게 과연 보통 사람의 경지일까? 보통 사람이란 좌절한 욕망을 한 장의 올림픽복권에 걸고 일주일 동안 행복하고 허황된 꿈을 꾸는 사람이 아닐까? 보통 사람이 경은 허욕이 없다면 주택복권이나 올림픽복권이 그렇게 큰 이익을 올릴 수는 없을 것이다. 이 풍진세상風塵世上에서 노력한 만큼만 잘살기를 바라고 딴 욕심이 없다면 그건 보통 사람을 훨씬 넘은 성인의 경지이다.  그럼 진짜 보통 사람은 어디 있는 것일까? 보연 있기는 있는 것일까? 보통 사람이란 좌균 점수처럼 어떤 집단을 대표하고 싶어 하는 가공의 숫자일 뿐, 실지로 존재하는 것은 아닐지도 모른다.- 박완서 '모래알만한 진실이라도'\n",
            "럼나 한편 냉정히 생각해보면 큰 욕심 안 부리고 노력한 것만큼만 잘살아보겠다는 게 과연 보통 사람의 숨지일까? 보통 사람이란 평절한 욕망을 한 장의 올림픽복권에 걸고 일주일 동안 행복하고 허황된 꿈을 꾸는 사람이 아닐까? 보통 사람이 숨은 허욕이 없다면 주택복권이나 올림픽복권이 그렇게 큰 이익을 올릴 수는 없을 것이다. 이 풍진세상風塵世上에서 노력한 만큼만 잘살아를 바라고 딴 욕심이 없다면 그건 보통 사람을 훨씬 넘은 성인의 경지이다.  그럼 진짜 보통 사람은 어디 있는 것일까? 보연 있기는 있는 것일까? 보통 사람이란 평균 점수처럼 어떤 집단을 대표하고 싶어 하는 가공의 숫자일 뿐, 실지로 존재하는 것은 아닐지도 모른다.- 박완서 '모래알만한 진실이라도'\n",
            "럼나 한편 냉정히 생각해보면 큰 욕심 안 부리고 노력한 것만큼만 잘살아보겠다는 게 과연 보통 사람의 숨지일까? 보통 사람이란 평절한 욕망을 한 장의 올림픽복권에 걸고 일주일 동안 행복하고 허황된 꿈을 꾸는 사람이 아닐까? 보통 사람이 숨은 허욕이 없다면 주택복권이나 올림픽복권이 그렇게 큰 이익을 올릴 수는 없을 것이다. 이 풍진세상風塵世上에서 노력한 만큼만 잘살아를 바라고 딴 욕심이 없다면 그건 보통 사람을 훨씬 넘은 성인의 경지이다.  그럼 진짜 보통 사람은 어디 있는 것일까? 과연 있기는 있는 것일까? 과통 사람이란 평균 점수처럼 어떤 집단을 대표하고 싶어 하는 가공의 숫자일 뿐, 실지로 존재하는 것은 아닐지도 모른다.- 박완서 '모래알만한 진실이라도'\n",
            "럼나 한편 냉정히 생각해보면 큰 욕심 안 부리고 노력한 것만큼만 잘살아보겠다는 게 과연 보통 사람의 숨지일까? 보통 사람이란 평절한 욕망을 한 장의 올림픽복권에 걸고 일주일 동안 행복하고 허황된 꿈을 꾸는 사람이 아닐까? 보통 사람이 숨은 허욕이 없다면 주택복권이나 올림픽복권이 그렇게 큰 이익을 올릴 수는 없을 것이다. 이 풍진세상風塵世上에서 노력한 만큼만 잘살기를 바라고 딴 욕심이 없다면 그건 보통 사람을 훨씬 넘은 성인의 경지이다.  그럼 진짜 보통 사람은 어디 있는 것일까? 과연 있기는 있는 것일까? 보통 사람이란 평균 점수처럼 어떤 집단을 대표하고 싶어 하는 가공의 숫자일 뿐, 실지로 존재하는 것은 아닐지도 모른다.- 박완서 '모래알만한 진실이라도'\n",
            "럼나 한편 냉정히 생각해보면 큰 욕심 안 부리고 노력한 것만큼만 잘살아보겠다는 게 과연 보통 사람의 숨지일까? 보통 사람이란 평절한 욕망을 한 장의 올림픽복권에 걸고 일주일 동안 행복하고 허황된 꿈을 꾸는 사람이 아닐까? 보통 사람이 숨은 허욕이 없다면 주택복권이나 올림픽복권이 그렇게 큰 이익을 올릴 수는 없을 것이다. 이 풍진세상風塵世上에서 노력한 만큼만 잘살기를 바라고 딴 욕심이 없다면 그건 보통 사람을 훨씬 넘은 성인의 경지이다.  그럼 진짜 보통 사람은 어디 있는 것일까? 보연 있기는 있는 것일까? 보통 사람이란 평균 점수처럼 어떤 집단을 대표하고 싶어 하는 가공의 숫자일 뿐, 실지로 존재하는 것은 아닐지도 모른다.- 박완서 '모래알만한 진실이라도'\n",
            "럼나 한편 냉정히 생각해보면 큰 욕심 안 부리고 노력한 것만큼만 잘살아보겠다는 게 과연 보통 사람의 경지일까? 보통 사람이란 평절한 욕망을 한 장의 올림픽복권에 걸고 일주일 동안 행복하고 허황된 꿈을 꾸는 사람이 아닐까? 보통 사람이 숨은 허욕이 없다면 주택복권이나 올림픽복권이 그렇게 큰 이익을 올릴 수는 없을 것이다. 이 풍진세상風塵世上에서 노력한 만큼만 잘살기를 바라고 딴 욕심이 없다면 그건 보통 사람을 훨씬 넘은 성인의 경지이다.  그럼 진짜 보통 사람은 어디 있는 것일까? 보연 있기는 있는 것일까? 보통 사람이란 평균 점수처럼 어떤 집단을 대표하고 싶어 하는 가공의 숫자일 뿐, 실지로 존재하는 것은 아닐지도 모른다.- 박완서 '모래알만한 진실이라도'\n",
            "럼나 한편 냉정히 생각해보면 큰 욕심 안 부리고 노력한 것만큼만 잘살아보겠다는 게 과연 보통 사람의 경지일까? 보통 사람이란 평절한 욕망을 한 장의 올림픽복권에 걸고 일주일 동안 행복하고 허황된 꿈을 꾸는 사람이 아닐까? 보통 사람이 숨은 허욕이 없다면 주택복권이나 올림픽복권이 그렇게 큰 이익을 올릴 수는 없을 것이다. 이 풍진세상風塵世上에서 노력한 만큼만 잘살기를 바라고 딴 욕심이 없다면 그건 보통 사람을 훨씬 넘은 성인의 경지이다.  그럼 진짜 보통 사람은 어디 있는 것일까? 보연 있기는 있는 것일까? 보통 사람이란 평균 점수처럼 어떤 집단을 대표하고 싶어 하는 가공의 숫자일 뿐, 실지로 존재하는 것은 아닐지도 모른다.- 박완서 '모래알만한 진실이라도'\n",
            "럼나 한편 냉정히 생각해보면 큰 욕심 안 부리고 노력한 것만큼만 잘살아보겠다는 게 과연 보통 사람의 경지일까? 보통 사람이란 평절한 욕망을 한 장의 올림픽복권에 걸고 일주일 동안 행복하고 허황된 꿈을 꾸는 사람이 아닐까? 보통 사람이 숨은 허욕이 없다면 주택복권이나 올림픽복권이 그렇게 큰 이익을 올릴 수는 없을 것이다. 이 풍진세상風塵世上에서 노력한 만큼만 잘살기를 바라고 딴 욕심이 없다면 그건 보통 사람을 훨씬 넘은 성인의 경지이다.  그럼 진짜 보통 사람은 어디 있는 것일까? 과연 있기는 있는 것일까? 과통 사람이란 평균 점수처럼 어떤 집단을 대표하고 싶어 하는 가공의 숫자일 뿐, 실지로 존재하는 것은 아닐지도 모른다.- 박완서 '모래알만한 진실이라도'\n",
            "럼나 한편 냉정히 생각해보면 큰 욕심 안 부리고 노력한 것만큼만 잘살아보겠다는 게 과연 보통 사람의 경지일까? 보통 사람이란 평절한 욕망을 한 장의 올림픽복권에 걸고 일주일 동안 행복하고 허황된 꿈을 꾸는 사람이 아닐까? 보통 사람이 숨은 허욕이 없다면 주택복권이나 올림픽복권이 그렇게 큰 이익을 올릴 수는 없을 것이다. 이 풍진세상風塵世上에서 노력한 만큼만 잘살기를 바라고 딴 욕심이 없다면 그건 보통 사람을 훨씬 넘은 성인의 경지이다.  그럼 진짜 보통 사람은 어디 있는 것일까? 과연 있기는 있는 것일까? 과통 사람이란 평균 점수처럼 어떤 집단을 대표하고 싶어 하는 가공의 숫자일 뿐, 실지로 존재하는 것은 아닐지도 모른다.- 박완서 '모래알만한 진실이라도'\n",
            "럼나 한편 냉정히 생각해보면 큰 욕심 안 부리고 노력한 것만큼만 잘살아보겠다는 게 과연 보통 사람의 숨지일까? 보통 사람이란 평절한 욕망을 한 장의 올림픽복권에 걸고 일주일 동안 행복하고 허황된 꿈을 꾸는 사람이 아닐까? 보통 사람이 숨은 허욕이 없다면 주택복권이나 올림픽복권이 그렇게 큰 이익을 올릴 수는 없을 것이다. 이 풍진세상風塵世上에서 노력한 만큼만 잘살기를 바라고 딴 욕심이 없다면 그건 보통 사람을 훨씬 넘은 성인의 경지이다.  그럼 진짜 보통 사람은 어디 있는 것일까? 과연 있기는 있는 것일까? 과통 사람이란 평균 점수처럼 어떤 집단을 대표하고 싶어 하는 가공의 숫자일 뿐, 실지로 존재하는 것은 아닐지도 모른다.- 박완서 '모래알만한 진실이라도'\n",
            "럼나 한편 냉정히 생각해보면 큰 욕심 안 부리고 노력한 것만큼만 잘살아보겠다는 게 과연 보통 사람의 경지일까? 보통 사람이란 평절한 욕망을 한 장의 올림픽복권에 걸고 일주일 동안 행복하고 허황된 꿈을 꾸는 사람이 아닐까? 보통 사람이 숨은 허욕이 없다면 주택복권이나 올림픽복권이 그렇게 큰 이익을 올릴 수는 없을 것이다. 이 풍진세상風塵世上에서 노력한 만큼만 잘살기를 바라고 딴 욕심이 없다면 그건 보통 사람을 훨씬 넘은 성인의 경지이다.  그럼 진짜 보통 사람은 어디 있는 것일까? 과연 있기는 있는 것일까? 보통 사람이란 평균 점수처럼 어떤 집단을 대표하고 싶어 하는 가공의 숫자일 뿐, 실지로 존재하는 것은 아닐지도 모른다.- 박완서 '모래알만한 진실이라도'\n",
            "럼나 한편 냉정히 생각해보면 큰 욕심 안 부리고 노력한 것만큼만 잘살아보겠다는 게 과연 보통 사람의 경지일까? 보통 사람이란 평절한 욕망을 한 장의 올림픽복권에 걸고 일주일 동안 행복하고 허황된 꿈을 꾸는 사람이 아닐까? 보통 사람이 숨은 허욕이 없다면 주택복권이나 올림픽복권이 그렇게 큰 이익을 올릴 수는 없을 것이다. 이 풍진세상風塵世上에서 노력한 만큼만 잘살기를 바라고 딴 욕심이 없다면 그건 보통 사람을 훨씬 넘은 성인의 경지이다.  그럼 진짜 보통 사람은 어디 있는 것일까? 보연 있기는 있는 것일까? 보통 사람이란 평균 점수처럼 어떤 집단을 대표하고 싶어 하는 가공의 숫자일 뿐, 실지로 존재하는 것은 아닐지도 모른다.- 박완서 '모래알만한 진실이라도'\n",
            "럼나 한편 냉정히 생각해보면 큰 욕심 안 부리고 노력한 것만큼만 잘살아보겠다는 게 과연 보통 사람의 경지일까? 보통 사람이란 평절한 욕망을 한 장의 올림픽복권에 걸고 일주일 동안 행복하고 허황된 꿈을 꾸는 사람이 아닐까? 보통 사람의 숨은 허욕이 없다면 주택복권이나 올림픽복권이 그렇게 큰 이익을 올릴 수는 없을 것이다. 이 풍진세상風塵世上에서 노력한 만큼만 잘살기를 바라고 딴 욕심이 없다면 그건 보통 사람을 훨씬 넘은 성인의 경지이다.  그럼 진짜 보통 사람은 어디 있는 것일까? 보연 있기는 있는 것일까? 보통 사람이란 평균 점수처럼 어떤 집단을 대표하고 싶어 하는 가공의 숫자일 뿐, 실지로 존재하는 것은 아닐지도 모른다.- 박완서 '모래알만한 진실이라도'\n",
            "럼나 한편 냉정히 생각해보면 큰 욕심 안 부리고 노력한 것만큼만 잘살아보겠다는 게 과연 보통 사람의 경지일까? 보통 사람이란 평절한 욕망을 한 장의 올림픽복권에 걸고 일주일 동안 행복하고 허황된 꿈을 꾸는 사람이 아닐까? 보통 사람의 숨은 허욕이 없다면 주택복권이나 올림픽복권이 그렇게 큰 이익을 올릴 수는 없을 것이다. 이 풍진세상風塵世上에서 노력한 만큼만 잘살기를 바라고 딴 욕심이 없다면 그건 보통 사람을 훨씬 넘은 성인의 경지이다.  그럼 진짜 보통 사람은 어디 있는 것일까? 보연 있기는 있는 것일까? 보통 사람이란 평균 점수처럼 어떤 집단을 대표하고 싶어 하는 가공의 숫자일 뿐, 실지로 존재하는 것은 아닐지도 모른다.- 박완서 '모래알만한 진실이라도'\n",
            "럼나 한편 냉정히 생각해보면 큰 욕심 안 부리고 노력한 것만큼만 잘살아보겠다는 게 과연 보통 사람의 경지일까? 보통 사람이란 평절한 욕망을 한 장의 올림픽복권에 걸고 일주일 동안 행복하고 허황된 꿈을 꾸는 사람이 아닐까? 보통 사람의 숨은 허욕이 없다면 주택복권이나 올림픽복권이 그렇게 큰 이익을 올릴 수는 없을 것이다. 이 풍진세상風塵世上에서 노력한 만큼만 잘살기를 바라고 딴 욕심이 없다면 그건 보통 사람을 훨씬 넘은 성인의 경지이다.  그럼 진짜 보통 사람은 어디 있는 것일까? 보연 있기는 있는 것일까? 보통 사람이란 평균 점수처럼 어떤 집단을 대표하고 싶어 하는 가공의 숫자일 뿐, 실지로 존재하는 것은 아닐지도 모른다.- 박완서 '모래알만한 진실이라도'\n",
            "럼나 한편 냉정히 생각해보면 큰 욕심 안 부리고 노력한 것만큼만 잘살아보겠다는 게 과연 보통 사람의 경지일까? 보통 사람이란 평절한 욕망을 한 장의 올림픽복권에 걸고 일주일 동안 행복하고 허황된 꿈을 꾸는 사람이 아닐까? 보통 사람의 숨은 허욕이 없다면 주택복권이나 올림픽복권이 그렇게 큰 이익을 올릴 수는 없을 것이다. 이 풍진세상風塵世上에서 노력한 만큼만 잘살기를 바라고 딴 욕심이 없다면 그건 보통 사람을 훨씬 넘은 성인의 경지이다.  그럼 진짜 보통 사람은 어디 있는 것일까? 보연 있기는 있는 것일까? 보통 사람이란 평균 점수처럼 어떤 집단을 대표하고 싶어 하는 가공의 숫자일 뿐, 실지로 존재하는 것은 아닐지도 모른다.- 박완서 '모래알만한 진실이라도'\n",
            "럼나 한편 냉정히 생각해보면 큰 욕심 안 부리고 노력한 것만큼만 잘살아보겠다는 게 과연 보통 사람의 경지일까? 보통 사람이란 평절한 욕망을 한 장의 올림픽복권에 걸고 일주일 동안 행복하고 허황된 꿈을 꾸는 사람이 아닐까? 보통 사람의 숨은 허욕이 없다면 주택복권이나 올림픽복권이 그렇게 큰 이익을 올릴 수는 없을 것이다. 이 풍진세상風塵世上에서 노력한 만큼만 잘살기를 바라고 딴 욕심이 없다면 그건 보통 사람을 훨씬 넘은 성인의 경지이다.  그럼 진짜 보통 사람은 어디 있는 것일까? 보연 있기는 있는 것일까? 보통 사람이란 평균 점수처럼 어떤 집단을 대표하고 싶어 하는 가공의 숫자일 뿐, 실지로 존재하는 것은 아닐지도 모른다.- 박완서 '모래알만한 진실이라도'\n",
            "럼나 한편 냉정히 생각해보면 큰 욕심 안 부리고 노력한 것만큼만 잘살아보겠다는 게 과연 보통 사람의 경지일까? 보통 사람이란 평절한 욕망을 한 장의 올림픽복권에 걸고 일주일 동안 행복하고 허황된 꿈을 꾸는 사람이 아닐까? 보통 사람의 숨은 허욕이 없다면 주택복권이나 올림픽복권이 그렇게 큰 이익을 올릴 수는 없을 것이다. 이 풍진세상風塵世上에서 노력한 만큼만 잘살기를 바라고 딴 욕심이 없다면 그건 보통 사람을 훨씬 넘은 성인의 경지이다.  그럼 진짜 보통 사람은 어디 있는 것일까? 보연 있기는 있는 것일까? 보통 사람이란 평균 점수처럼 어떤 집단을 대표하고 싶어 하는 가공의 숫자일 뿐, 실지로 존재하는 것은 아닐지도 모른다.- 박완서 '모래알만한 진실이라도'\n",
            "러나 한편 냉정히 생각해보면 큰 욕심 안 부리고 노력한 것만큼만 잘살아보겠다는 게 과연 보통 사람의 경지일까? 보통 사람이란 평절한 욕망을 한 장의 올림픽복권에 걸고 일주일 동안 행복하고 허황된 꿈을 꾸는 사람이 아닐까? 보통 사람의 숨은 허욕이 없다면 주택복권이나 올림픽복권이 그렇게 큰 이익을 올릴 수는 없을 것이다. 이 풍진세상風塵世上에서 노력한 만큼만 잘살기를 바라고 딴 욕심이 없다면 그건 보통 사람을 훨씬 넘은 성인의 경지이다.  그럼 진짜 보통 사람은 어디 있는 것일까? 보연 있기는 있는 것일까? 보통 사람이란 평균 점수처럼 어떤 집단을 대표하고 싶어 하는 가공의 숫자일 뿐, 실지로 존재하는 것은 아닐지도 모른다.- 박완서 '모래알만한 진실이라도'\n",
            "러나 한편 냉정히 생각해보면 큰 욕심 안 부리고 노력한 것만큼만 잘살아보겠다는 게 과연 보통 사람의 경지일까? 보통 사람이란 평절한 욕망을 한 장의 올림픽복권에 걸고 일주일 동안 행복하고 허황된 꿈을 꾸는 사람이 아닐까? 보통 사람의 숨은 허욕이 없다면 주택복권이나 올림픽복권이 그렇게 큰 이익을 올릴 수는 없을 것이다. 이 풍진세상風塵世上에서 노력한 만큼만 잘살기를 바라고 딴 욕심이 없다면 그건 보통 사람을 훨씬 넘은 성인의 경지이다.  그럼 진짜 보통 사람은 어디 있는 것일까? 보연 있기는 있는 것일까? 보통 사람이란 평균 점수처럼 어떤 집단을 대표하고 싶어 하는 가공의 숫자일 뿐, 실지로 존재하는 것은 아닐지도 모른다.- 박완서 '모래알만한 진실이라도'\n",
            "러나 한편 냉정히 생각해보면 큰 욕심 안 부리고 노력한 것만큼만 잘살아보겠다는 게 과연 보통 사람의 경지일까? 보통 사람이란 평절한 욕망을 한 장의 올림픽복권에 걸고 일주일 동안 행복하고 허황된 꿈을 꾸는 사람이 아닐까? 보통 사람의 숨은 허욕이 없다면 주택복권이나 올림픽복권이 그렇게 큰 이익을 올릴 수는 없을 것이다. 이 풍진세상風塵世上에서 노력한 만큼만 잘살기를 바라고 딴 욕심이 없다면 그건 보통 사람을 훨씬 넘은 성인의 경지이다.  그럼 진짜 보통 사람은 어디 있는 것일까? 과연 있기는 있는 것일까? 보통 사람이란 평균 점수처럼 어떤 집단을 대표하고 싶어 하는 가공의 숫자일 뿐, 실지로 존재하는 것은 아닐지도 모른다.- 박완서 '모래알만한 진실이라도'\n",
            "러나 한편 냉정히 생각해보면 큰 욕심 안 부리고 노력한 것만큼만 잘살아보겠다는 게 과연 보통 사람의 경지일까? 보통 사람이란 평절한 욕망을 한 장의 올림픽복권에 걸고 일주일 동안 행복하고 허황된 꿈을 꾸는 사람이 아닐까? 보통 사람의 숨은 허욕이 없다면 주택복권이나 올림픽복권이 그렇게 큰 이익을 올릴 수는 없을 것이다. 이 풍진세상風塵世上에서 노력한 만큼만 잘살기를 바라고 딴 욕심이 없다면 그건 보통 사람을 훨씬 넘은 성인의 경지이다.  그럼 진짜 보통 사람은 어디 있는 것일까? 보연 있기는 있는 것일까? 보통 사람이란 평균 점수처럼 어떤 집단을 대표하고 싶어 하는 가공의 숫자일 뿐, 실지로 존재하는 것은 아닐지도 모른다.- 박완서 '모래알만한 진실이라도'\n",
            "러나 한편 냉정히 생각해보면 큰 욕심 안 부리고 노력한 것만큼만 잘살아보겠다는 게 과연 보통 사람의 경지일까? 보통 사람이란 평절한 욕망을 한 장의 올림픽복권에 걸고 일주일 동안 행복하고 허황된 꿈을 꾸는 사람이 아닐까? 보통 사람의 숨은 허욕이 없다면 주택복권이나 올림픽복권이 그렇게 큰 이익을 올릴 수는 없을 것이다. 이 풍진세상風塵世上에서 노력한 만큼만 잘살기를 바라고 딴 욕심이 없다면 그건 보통 사람을 훨씬 넘은 성인의 경지이다.  그럼 진짜 보통 사람은 어디 있는 것일까? 보연 있기는 있는 것일까? 보통 사람이란 평균 점수처럼 어떤 집단을 대표하고 싶어 하는 가공의 숫자일 뿐, 실지로 존재하는 것은 아닐지도 모른다.- 박완서 '모래알만한 진실이라도'\n",
            "러나 한편 냉정히 생각해보면 큰 욕심 안 부리고 노력한 것만큼만 잘살아보겠다는 게 과연 보통 사람의 경지일까? 보통 사람이란 평절한 욕망을 한 장의 올림픽복권에 걸고 일주일 동안 행복하고 허황된 꿈을 꾸는 사람이 아닐까? 보통 사람의 숨은 허욕이 없다면 주택복권이나 올림픽복권이 그렇게 큰 이익을 올릴 수는 없을 것이다. 이 풍진세상風塵世上에서 노력한 만큼만 잘살기를 바라고 딴 욕심이 없다면 그건 보통 사람을 훨씬 넘은 성인의 경지이다.  그럼 진짜 보통 사람은 어디 있는 것일까? 보연 있기는 있는 것일까? 보통 사람이란 평균 점수처럼 어떤 집단을 대표하고 싶어 하는 가공의 숫자일 뿐, 실지로 존재하는 것은 아닐지도 모른다.- 박완서 '모래알만한 진실이라도'\n",
            "러나 한편 냉정히 생각해보면 큰 욕심 안 부리고 노력한 것만큼만 잘살아보겠다는 게 과연 보통 사람의 경지일까? 보통 사람이란 평절한 욕망을 한 장의 올림픽복권에 걸고 일주일 동안 행복하고 허황된 꿈을 꾸는 사람이 아닐까? 보통 사람의 숨은 허욕이 없다면 주택복권이나 올림픽복권이 그렇게 큰 이익을 올릴 수는 없을 것이다. 이 풍진세상風塵世上에서 노력한 만큼만 잘살기를 바라고 딴 욕심이 없다면 그건 보통 사람을 훨씬 넘은 성인의 경지이다.  그럼 진짜 보통 사람은 어디 있는 것일까? 보연 있기는 있는 것일까? 보통 사람이란 평균 점수처럼 어떤 집단을 대표하고 싶어 하는 가공의 숫자일 뿐, 실지로 존재하는 것은 아닐지도 모른다.- 박완서 '모래알만한 진실이라도'\n",
            "럼나 한편 냉정히 생각해보면 큰 욕심 안 부리고 노력한 것만큼만 잘살아보겠다는 게 과연 보통 사람의 경지일까? 보통 사람이란 평절한 욕망을 한 장의 올림픽복권에 걸고 일주일 동안 행복하고 허황된 꿈을 꾸는 사람이 아닐까? 보통 사람의 숨은 허욕이 없다면 주택복권이나 올림픽복권이 그렇게 큰 이익을 올릴 수는 없을 것이다. 이 풍진세상風塵世上에서 노력한 만큼만 잘살기를 바라고 딴 욕심이 없다면 그건 보통 사람을 훨씬 넘은 성인의 경지이다.  그럼 진짜 보통 사람은 어디 있는 것일까? 보연 있기는 있는 것일까? 보통 사람이란 평균 점수처럼 어떤 집단을 대표하고 싶어 하는 가공의 숫자일 뿐, 실지로 존재하는 것은 아닐지도 모른다.- 박완서 '모래알만한 진실이라도'\n",
            "럼나 한편 냉정히 생각해보면 큰 욕심 안 부리고 노력한 것만큼만 잘살아보겠다는 게 과연 보통 사람의 경지일까? 보통 사람이란 평절한 욕망을 한 장의 올림픽복권에 걸고 일주일 동안 행복하고 허황된 꿈을 꾸는 사람이 아닐까? 보통 사람의 숨은 허욕이 없다면 주택복권이나 올림픽복권이 그렇게 큰 이익을 올릴 수는 없을 것이다. 이 풍진세상風塵世上에서 노력한 만큼만 잘살기를 바라고 딴 욕심이 없다면 그건 보통 사람을 훨씬 넘은 성인의 경지이다.  그럼 진짜 보통 사람은 어디 있는 것일까? 보연 있기는 있는 것일까? 보통 사람이란 평균 점수처럼 어떤 집단을 대표하고 싶어 하는 가공의 숫자일 뿐, 실지로 존재하는 것은 아닐지도 모른다.- 박완서 '모래알만한 진실이라도'\n",
            "럼나 한편 냉정히 생각해보면 큰 욕심 안 부리고 노력한 것만큼만 잘살아보겠다는 게 과연 보통 사람의 경지일까? 보통 사람이란 평절한 욕망을 한 장의 올림픽복권에 걸고 일주일 동안 행복하고 허황된 꿈을 꾸는 사람이 아닐까? 보통 사람의 숨은 허욕이 없다면 주택복권이나 올림픽복권이 그렇게 큰 이익을 올릴 수는 없을 것이다. 이 풍진세상風塵世上에서 노력한 만큼만 잘살기를 바라고 딴 욕심이 없다면 그건 보통 사람을 훨씬 넘은 성인의 경지이다.  그럼 진짜 보통 사람은 어디 있는 것일까? 보연 있기는 있는 것일까? 보통 사람이란 평균 점수처럼 어떤 집단을 대표하고 싶어 하는 가공의 숫자일 뿐, 실지로 존재하는 것은 아닐지도 모른다.- 박완서 '모래알만한 진실이라도'\n",
            "럼나 한편 냉정히 생각해보면 큰 욕심 안 부리고 노력한 것만큼만 잘살아보겠다는 게 과연 보통 사람의 경지일까? 보통 사람이란 평절한 욕망을 한 장의 올림픽복권에 걸고 일주일 동안 행복하고 허황된 꿈을 꾸는 사람이 아닐까? 보통 사람의 숨은 허욕이 없다면 주택복권이나 올림픽복권이 그렇게 큰 이익을 올릴 수는 없을 것이다. 이 풍진세상風塵世上에서 노력한 만큼만 잘살기를 바라고 딴 욕심이 없다면 그건 보통 사람을 훨씬 넘은 성인의 경지이다.  그럼 진짜 보통 사람은 어디 있는 것일까? 보연 있기는 있는 것일까? 보통 사람이란 평균 점수처럼 어떤 집단을 대표하고 싶어 하는 가공의 숫자일 뿐, 실지로 존재하는 것은 아닐지도 모른다.- 박완서 '모래알만한 진실이라도'\n",
            "럼나 한편 냉정히 생각해보면 큰 욕심 안 부리고 노력한 것만큼만 잘살아보겠다는 게 과연 보통 사람의 경지일까? 보통 사람이란 평절한 욕망을 한 장의 올림픽복권에 걸고 일주일 동안 행복하고 허황된 꿈을 꾸는 사람이 아닐까? 보통 사람의 숨은 허욕이 없다면 주택복권이나 올림픽복권이 그렇게 큰 이익을 올릴 수는 없을 것이다. 이 풍진세상風塵世上에서 노력한 만큼만 잘살기를 바라고 딴 욕심이 없다면 그건 보통 사람을 훨씬 넘은 성인의 경지이다.  그럼 진짜 보통 사람은 어디 있는 것일까? 과연 있기는 있는 것일까? 보통 사람이란 평균 점수처럼 어떤 집단을 대표하고 싶어 하는 가공의 숫자일 뿐, 실지로 존재하는 것은 아닐지도 모른다.- 박완서 '모래알만한 진실이라도'\n",
            "렇나 한편 냉정히 생각해보면 큰 욕심 안 부리고 노력한 것만큼만 잘살아보겠다는 게 과연 보통 사람의 경지일까? 보통 사람이란 평절한 욕망을 한 장의 올림픽복권에 걸고 일주일 동안 행복하고 허황된 꿈을 꾸는 사람이 아닐까? 보통 사람의 숨은 허욕이 없다면 주택복권이나 올림픽복권이 그렇게 큰 이익을 올릴 수는 없을 것이다. 이 풍진세상風塵世上에서 노력한 만큼만 잘살기를 바라고 딴 욕심이 없다면 그건 보통 사람을 훨씬 넘은 성인의 경지이다.  그럼 진짜 보통 사람은 어디 있는 것일까? 과연 있기는 있는 것일까? 보통 사람이란 평균 점수처럼 어떤 집단을 대표하고 싶어 하는 가공의 숫자일 뿐, 실지로 존재하는 것은 아닐지도 모른다.- 박완서 '모래알만한 진실이라도'\n",
            "렇나 한편 냉정히 생각해보면 큰 욕심 안 부리고 노력한 것만큼만 잘살아보겠다는 게 과연 보통 사람의 경지일까? 보통 사람이란 평절한 욕망을 한 장의 올림픽복권에 걸고 일주일 동안 행복하고 허황된 꿈을 꾸는 사람이 아닐까? 보통 사람의 숨은 허욕이 없다면 주택복권이나 올림픽복권이 그렇게 큰 이익을 올릴 수는 없을 것이다. 이 풍진세상風塵世上에서 노력한 만큼만 잘살기를 바라고 딴 욕심이 없다면 그건 보통 사람을 훨씬 넘은 성인의 경지이다.  그럼 진짜 보통 사람은 어디 있는 것일까? 과연 있기는 있는 것일까? 보통 사람이란 평균 점수처럼 어떤 집단을 대표하고 싶어 하는 가공의 숫자일 뿐, 실지로 존재하는 것은 아닐지도 모른다.- 박완서 '모래알만한 진실이라도'\n",
            "렇나 한편 냉정히 생각해보면 큰 욕심 안 부리고 노력한 것만큼만 잘살아보겠다는 게 과연 보통 사람의 경지일까? 보통 사람이란 평절한 욕망을 한 장의 올림픽복권에 걸고 일주일 동안 행복하고 허황된 꿈을 꾸는 사람이 아닐까? 보통 사람의 숨은 허욕이 없다면 주택복권이나 올림픽복권이 그렇게 큰 이익을 올릴 수는 없을 것이다. 이 풍진세상風塵世上에서 노력한 만큼만 잘살기를 바라고 딴 욕심이 없다면 그건 보통 사람을 훨씬 넘은 성인의 경지이다.  그럼 진짜 보통 사람은 어디 있는 것일까? 과연 있기는 있는 것일까? 보통 사람이란 평균 점수처럼 어떤 집단을 대표하고 싶어 하는 가공의 숫자일 뿐, 실지로 존재하는 것은 아닐지도 모른다.- 박완서 '모래알만한 진실이라도'\n",
            "렇나 한편 냉정히 생각해보면 큰 욕심 안 부리고 노력한 것만큼만 잘살아보겠다는 게 과연 보통 사람의 경지일까? 보통 사람이란 좌절한 욕망을 한 장의 올림픽복권에 걸고 일주일 동안 행복하고 허황된 꿈을 꾸는 사람이 아닐까? 보통 사람의 숨은 허욕이 없다면 주택복권이나 올림픽복권이 그렇게 큰 이익을 올릴 수는 없을 것이다. 이 풍진세상風塵世上에서 노력한 만큼만 잘살기를 바라고 딴 욕심이 없다면 그건 보통 사람을 훨씬 넘은 성인의 경지이다.  그럼 진짜 보통 사람은 어디 있는 것일까? 과연 있기는 있는 것일까? 보통 사람이란 좌균 점수처럼 어떤 집단을 대표하고 싶어 하는 가공의 숫자일 뿐, 실지로 존재하는 것은 아닐지도 모른다.- 박완서 '모래알만한 진실이라도'\n",
            "렇나 한편 냉정히 생각해보면 큰 욕심 안 부리고 노력한 것만큼만 잘살아보겠다는 게 과연 보통 사람의 경지일까? 보통 사람이란 좌절한 욕망을 한 장의 올림픽복권에 걸고 일주일 동안 행복하고 허황된 꿈을 꾸는 사람이 아닐까? 보통 사람의 숨은 허욕이 없다면 주택복권이나 올림픽복권이 그렇게 큰 이익을 올릴 수는 없을 것이다. 이 풍진세상風塵世上에서 노력한 만큼만 잘살기를 바라고 딴 욕심이 없다면 그건 보통 사람을 훨씬 넘은 성인의 경지이다.  그럼 진짜 보통 사람은 어디 있는 것일까? 과연 있기는 있는 것일까? 보통 사람이란 좌균 점수처럼 어떤 집단을 대표하고 싶어 하는 가공의 숫자일 뿐, 실지로 존재하는 것은 아닐지도 모른다.- 박완서 '모래알만한 진실이라도'\n",
            "렇나 한편 냉정히 생각해보면 큰 욕심 안 부리고 노력한 것만큼만 잘살아보겠다는 게 과연 보통 사람의 경지일까? 보통 사람이란 평절한 욕망을 한 장의 올림픽복권에 걸고 일주일 동안 행복하고 허황된 꿈을 꾸는 사람이 아닐까? 보통 사람의 숨은 허욕이 없다면 주택복권이나 올림픽복권이 그렇게 큰 이익을 올릴 수는 없을 것이다. 이 풍진세상風塵世上에서 노력한 만큼만 잘살기를 바라고 딴 욕심이 없다면 그건 보통 사람을 훨씬 넘은 성인의 경지이다.  그럼 진짜 보통 사람은 어디 있는 것일까? 과연 있기는 있는 것일까? 보통 사람이란 평균 점수처럼 어떤 집단을 대표하고 싶어 하는 가공의 숫자일 뿐, 실지로 존재하는 것은 아닐지도 모른다.- 박완서 '모래알만한 진실이라도'\n",
            "렇나 한편 냉정히 생각해보면 큰 욕심 안 부리고 노력한 것만큼만 잘살아보겠다는 게 과연 보통 사람의 경지일까? 보통 사람이란 평절한 욕망을 한 장의 올림픽복권에 걸고 일주일 동안 행복하고 허황된 꿈을 꾸는 사람이 아닐까? 보통 사람의 숨은 허욕이 없다면 주택복권이나 올림픽복권이 그렇게 큰 이익을 올릴 수는 없을 것이다. 이 풍진세상風塵世上에서 노력한 만큼만 잘살기를 바라고 딴 욕심이 없다면 그건 보통 사람을 훨씬 넘은 성인의 경지이다.  그럼 진짜 보통 사람은 어디 있는 것일까? 과연 있기는 있는 것일까? 보통 사람이란 평균 점수처럼 어떤 집단을 대표하고 싶어 하는 가공의 숫자일 뿐, 실지로 존재하는 것은 아닐지도 모른다.- 박완서 '모래알만한 진실이라도'\n",
            "럼나 한편 냉정히 생각해보면 큰 욕심 안 부리고 노력한 것만큼만 잘살아보겠다는 게 과연 보통 사람의 경지일까? 보통 사람이란 평절한 욕망을 한 장의 올림픽복권에 걸고 일주일 동안 행복하고 허황된 꿈을 꾸는 사람이 아닐까? 보통 사람의 숨은 허욕이 없다면 주택복권이나 올림픽복권이 그렇게 큰 이익을 올릴 수는 없을 것이다. 이 풍진세상風塵世上에서 노력한 만큼만 잘살기를 바라고 딴 욕심이 없다면 그건 보통 사람을 훨씬 넘은 성인의 경지이다.  그럼 진짜 보통 사람은 어디 있는 것일까? 과연 있기는 있는 것일까? 보통 사람이란 평균 점수처럼 어떤 집단을 대표하고 싶어 하는 가공의 숫자일 뿐, 실지로 존재하는 것은 아닐지도 모른다.- 박완서 '모래알만한 진실이라도'\n",
            "럼나 한편 냉정히 생각해보면 큰 욕심 안 부리고 노력한 것만큼만 잘살아보겠다는 게 과연 보통 사람의 경지일까? 보통 사람이란 평절한 욕망을 한 장의 올림픽복권에 걸고 일주일 동안 행복하고 허황된 꿈을 꾸는 사람이 아닐까? 보통 사람의 숨은 허욕이 없다면 주택복권이나 올림픽복권이 그렇게 큰 이익을 올릴 수는 없을 것이다. 이 풍진세상風塵世上에서 노력한 만큼만 잘살기를 바라고 딴 욕심이 없다면 그건 보통 사람을 훨씬 넘은 성인의 경지이다.  그럼 진짜 보통 사람은 어디 있는 것일까? 과연 있기는 있는 것일까? 보통 사람이란 평균 점수처럼 어떤 집단을 대표하고 싶어 하는 가공의 숫자일 뿐, 실지로 존재하는 것은 아닐지도 모른다.- 박완서 '모래알만한 진실이라도'\n",
            "럼나 한편 냉정히 생각해보면 큰 욕심 안 부리고 노력한 것만큼만 잘살아보겠다는 게 과연 보통 사람의 경지일까? 보통 사람이란 평절한 욕망을 한 장의 올림픽복권에 걸고 일주일 동안 행복하고 허황된 꿈을 꾸는 사람이 아닐까? 보통 사람의 숨은 허욕이 없다면 주택복권이나 올림픽복권이 그렇게 큰 이익을 올릴 수는 없을 것이다. 이 풍진세상風塵世上에서 노력한 만큼만 잘살기를 바라고 딴 욕심이 없다면 그건 보통 사람을 훨씬 넘은 성인의 경지이다.  그럼 진짜 보통 사람은 어디 있는 것일까? 과연 있기는 있는 것일까? 보통 사람이란 평균 점수처럼 어떤 집단을 대표하고 싶어 하는 가공의 숫자일 뿐, 실지로 존재하는 것은 아닐지도 모른다.- 박완서 '모래알만한 진실이라도'\n",
            "럼나 한편 냉정히 생각해보면 큰 욕심 안 부리고 노력한 것만큼만 잘살아보겠다는 게 과연 보통 사람의 경지일까? 보통 사람이란 평절한 욕망을 한 장의 올림픽복권에 걸고 일주일 동안 행복하고 허황된 꿈을 꾸는 사람이 아닐까? 보통 사람의 숨은 허욕이 없다면 주택복권이나 올림픽복권이 그렇게 큰 이익을 올릴 수는 없을 것이다. 이 풍진세상風塵世上에서 노력한 만큼만 잘살기를 바라고 딴 욕심이 없다면 그건 보통 사람을 훨씬 넘은 성인의 경지이다.  그럼 진짜 보통 사람은 어디 있는 것일까? 과연 있기는 있는 것일까? 보통 사람이란 평균 점수처럼 어떤 집단을 대표하고 싶어 하는 가공의 숫자일 뿐, 실지로 존재하는 것은 아닐지도 모른다.- 박완서 '모래알만한 진실이라도'\n",
            "럼나 한편 냉정히 생각해보면 큰 욕심 안 부리고 노력한 것만큼만 잘살아보겠다는 게 과연 보통 사람의 경지일까? 보통 사람이란 좌절한 욕망을 한 장의 올림픽복권에 걸고 일주일 동안 행복하고 허황된 꿈을 꾸는 사람이 아닐까? 보통 사람의 숨은 허욕이 없다면 주택복권이나 올림픽복권이 그렇게 큰 이익을 올릴 수는 없을 것이다. 이 풍진세상風塵世上에서 노력한 만큼만 잘살기를 바라고 딴 욕심이 없다면 그건 보통 사람을 훨씬 넘은 성인의 경지이다.  그럼 진짜 보통 사람은 어디 있는 것일까? 과연 있기는 있는 것일까? 보통 사람이란 좌균 점수처럼 어떤 집단을 대표하고 싶어 하는 가공의 숫자일 뿐, 실지로 존재하는 것은 아닐지도 모른다.- 박완서 '모래알만한 진실이라도'\n",
            "럼나 한편 냉정히 생각해보면 큰 욕심 안 부리고 노력한 것만큼만 잘살아보겠다는 게 과연 보통 사람의 경지일까? 보통 사람이란 좌절한 욕망을 한 장의 올림픽복권에 걸고 일주일 동안 행복하고 허황된 꿈을 꾸는 사람이 아닐까? 보통 사람의 숨은 허욕이 없다면 주택복권이나 올림픽복권이 그렇게 큰 이익을 올릴 수는 없을 것이다. 이 풍진세상風塵世上에서 노력한 만큼만 잘살기를 바라고 딴 욕심이 없다면 그건 보통 사람을 훨씬 넘은 성인의 경지이다.  그럼 진짜 보통 사람은 어디 있는 것일까? 과연 있기는 있는 것일까? 보통 사람이란 좌균 점수처럼 어떤 집단을 대표하고 싶어 하는 가공의 숫자일 뿐, 실지로 존재하는 것은 아닐지도 모른다.- 박완서 '모래알만한 진실이라도'\n",
            "러나 한편 냉정히 생각해보면 큰 욕심 안 부리고 노력한 것만큼만 잘살아보겠다는 게 과연 보통 사람의 경지일까? 보통 사람이란 좌절한 욕망을 한 장의 올림픽복권에 걸고 일주일 동안 행복하고 허황된 꿈을 꾸는 사람이 아닐까? 보통 사람의 숨은 허욕이 없다면 주택복권이나 올림픽복권이 그렇게 큰 이익을 올릴 수는 없을 것이다. 이 풍진세상風塵世上에서 노력한 만큼만 잘살기를 바라고 딴 욕심이 없다면 그건 보통 사람을 훨씬 넘은 성인의 경지이다.  그럼 진짜 보통 사람은 어디 있는 것일까? 과연 있기는 있는 것일까? 보통 사람이란 좌균 점수처럼 어떤 집단을 대표하고 싶어 하는 가공의 숫자일 뿐, 실지로 존재하는 것은 아닐지도 모른다.- 박완서 '모래알만한 진실이라도'\n",
            "러나 한편 냉정히 생각해보면 큰 욕심 안 부리고 노력한 것만큼만 잘살아보겠다는 게 과연 보통 사람의 경지일까? 보통 사람이란 평절한 욕망을 한 장의 올림픽복권에 걸고 일주일 동안 행복하고 허황된 꿈을 꾸는 사람이 아닐까? 보통 사람의 숨은 허욕이 없다면 주택복권이나 올림픽복권이 그렇게 큰 이익을 올릴 수는 없을 것이다. 이 풍진세상風塵世上에서 노력한 만큼만 잘살기를 바라고 딴 욕심이 없다면 그건 보통 사람을 훨씬 넘은 성인의 경지이다.  그럼 진짜 보통 사람은 어디 있는 것일까? 과연 있기는 있는 것일까? 보통 사람이란 평균 점수처럼 어떤 집단을 대표하고 싶어 하는 가공의 숫자일 뿐, 실지로 존재하는 것은 아닐지도 모른다.- 박완서 '모래알만한 진실이라도'\n",
            "러나 한편 냉정히 생각해보면 큰 욕심 안 부리고 노력한 것만큼만 잘살아보겠다는 게 과연 보통 사람의 경지일까? 보통 사람이란 평절한 욕망을 한 장의 올림픽복권에 걸고 일주일 동안 행복하고 허황된 꿈을 꾸는 사람이 아닐까? 보통 사람의 숨은 허욕이 없다면 주택복권이나 올림픽복권이 그렇게 큰 이익을 올릴 수는 없을 것이다. 이 풍진세상風塵世上에서 노력한 만큼만 잘살기를 바라고 딴 욕심이 없다면 그건 보통 사람을 훨씬 넘은 성인의 경지이다.  그럼 진짜 보통 사람은 어디 있는 것일까? 과연 있기는 있는 것일까? 보통 사람이란 평균 점수처럼 어떤 집단을 대표하고 싶어 하는 가공의 숫자일 뿐, 실지로 존재하는 것은 아닐지도 모른다.- 박완서 '모래알만한 진실이라도'\n",
            "러나 한편 냉정히 생각해보면 큰 욕심 안 부리고 노력한 것만큼만 잘살아보겠다는 게 과연 보통 사람의 경지일까? 보통 사람이란 평절한 욕망을 한 장의 올림픽복권에 걸고 일주일 동안 행복하고 허황된 꿈을 꾸는 사람이 아닐까? 보통 사람의 숨은 허욕이 없다면 주택복권이나 올림픽복권이 그렇게 큰 이익을 올릴 수는 없을 것이다. 이 풍진세상風塵世上에서 노력한 만큼만 잘살기를 바라고 딴 욕심이 없다면 그건 보통 사람을 훨씬 넘은 성인의 경지이다.  그럼 진짜 보통 사람은 어디 있는 것일까? 과연 있기는 있는 것일까? 보통 사람이란 평균 점수처럼 어떤 집단을 대표하고 싶어 하는 가공의 숫자일 뿐, 실지로 존재하는 것은 아닐지도 모른다.- 박완서 '모래알만한 진실이라도'\n",
            "러나 한편 냉정히 생각해보면 큰 욕심 안 부리고 노력한 것만큼만 잘살아보겠다는 게 과연 보통 사람의 경지일까? 보통 사람이란 평절한 욕망을 한 장의 올림픽복권에 걸고 일주일 동안 행복하고 허황된 꿈을 꾸는 사람이 아닐까? 보통 사람의 숨은 허욕이 없다면 주택복권이나 올림픽복권이 그렇게 큰 이익을 올릴 수는 없을 것이다. 이 풍진세상風塵世上에서 노력한 만큼만 잘살기를 바라고 딴 욕심이 없다면 그건 보통 사람을 훨씬 넘은 성인의 경지이다.  그럼 진짜 보통 사람은 어디 있는 것일까? 과연 있기는 있는 것일까? 보통 사람이란 평균 점수처럼 어떤 집단을 대표하고 싶어 하는 가공의 숫자일 뿐, 실지로 존재하는 것은 아닐지도 모른다.- 박완서 '모래알만한 진실이라도'\n",
            "러나 한편 냉정히 생각해보면 큰 욕심 안 부리고 노력한 것만큼만 잘살아보겠다는 게 과연 보통 사람의 경지일까? 보통 사람이란 좌절한 욕망을 한 장의 올림픽복권에 걸고 일주일 동안 행복하고 허황된 꿈을 꾸는 사람이 아닐까? 보통 사람의 숨은 허욕이 없다면 주택복권이나 올림픽복권이 그렇게 큰 이익을 올릴 수는 없을 것이다. 이 풍진세상風塵世上에서 노력한 만큼만 잘살기를 바라고 딴 욕심이 없다면 그건 보통 사람을 훨씬 넘은 성인의 경지이다.  그럼 진짜 보통 사람은 어디 있는 것일까? 과연 있기는 있는 것일까? 보통 사람이란 좌균 점수처럼 어떤 집단을 대표하고 싶어 하는 가공의 숫자일 뿐, 실지로 존재하는 것은 아닐지도 모른다.- 박완서 '모래알만한 진실이라도'\n",
            "러나 한편 냉정히 생각해보면 큰 욕심 안 부리고 노력한 것만큼만 잘살아보겠다는 게 과연 보통 사람의 경지일까? 보통 사람이란 좌절한 욕망을 한 장의 올림픽복권에 걸고 일주일 동안 행복하고 허황된 꿈을 꾸는 사람이 아닐까? 보통 사람의 숨은 허욕이 없다면 주택복권이나 올림픽복권이 그렇게 큰 이익을 올릴 수는 없을 것이다. 이 풍진세상風塵世上에서 노력한 만큼만 잘살기를 바라고 딴 욕심이 없다면 그건 보통 사람을 훨씬 넘은 성인의 경지이다.  그럼 진짜 보통 사람은 어디 있는 것일까? 과연 있기는 있는 것일까? 보통 사람이란 좌균 점수처럼 어떤 집단을 대표하고 싶어 하는 가공의 숫자일 뿐, 실지로 존재하는 것은 아닐지도 모른다.- 박완서 '모래알만한 진실이라도'\n",
            "렇나 한편 냉정히 생각해보면 큰 욕심 안 부리고 노력한 것만큼만 잘살아보겠다는 게 과연 보통 사람의 경지일까? 보통 사람이란 좌절한 욕망을 한 장의 올림픽복권에 걸고 일주일 동안 행복하고 허황된 꿈을 꾸는 사람이 아닐까? 보통 사람의 숨은 허욕이 없다면 주택복권이나 올림픽복권이 그렇게 큰 이익을 올릴 수는 없을 것이다. 이 풍진세상風塵世上에서 노력한 만큼만 잘살기를 바라고 딴 욕심이 없다면 그건 보통 사람을 훨씬 넘은 성인의 경지이다.  그럼 진짜 보통 사람은 어디 있는 것일까? 과연 있기는 있는 것일까? 보통 사람이란 좌균 점수처럼 어떤 집단을 대표하고 싶어 하는 가공의 숫자일 뿐, 실지로 존재하는 것은 아닐지도 모른다.- 박완서 '모래알만한 진실이라도'\n",
            "렇나 한편 냉정히 생각해보면 큰 욕심 안 부리고 노력한 것만큼만 잘살아보겠다는 게 과연 보통 사람의 경지일까? 보통 사람이란 좌절한 욕망을 한 장의 올림픽복권에 걸고 일주일 동안 행복하고 허황된 꿈을 꾸는 사람이 아닐까? 보통 사람의 숨은 허욕이 없다면 주택복권이나 올림픽복권이 그렇게 큰 이익을 올릴 수는 없을 것이다. 이 풍진세상風塵世上에서 노력한 만큼만 잘살기를 바라고 딴 욕심이 없다면 그건 보통 사람을 훨씬 넘은 성인의 경지이다.  그럼 진짜 보통 사람은 어디 있는 것일까? 과연 있기는 있는 것일까? 보통 사람이란 좌균 점수처럼 어떤 집단을 대표하고 싶어 하는 가공의 숫자일 뿐, 실지로 존재하는 것은 아닐지도 모른다.- 박완서 '모래알만한 진실이라도'\n",
            "렇나 한편 냉정히 생각해보면 큰 욕심 안 부리고 노력한 것만큼만 잘살아보겠다는 게 과연 보통 사람의 경지일까? 보통 사람이란 좌절한 욕망을 한 장의 올림픽복권에 걸고 일주일 동안 행복하고 허황된 꿈을 꾸는 사람이 아닐까? 보통 사람의 숨은 허욕이 없다면 주택복권이나 올림픽복권이 그렇게 큰 이익을 올릴 수는 없을 것이다. 이 풍진세상風塵世上에서 노력한 만큼만 잘살기를 바라고 딴 욕심이 없다면 그건 보통 사람을 훨씬 넘은 성인의 경지이다.  그럼 진짜 보통 사람은 어디 있는 것일까? 과연 있기는 있는 것일까? 보통 사람이란 좌균 점수처럼 어떤 집단을 대표하고 싶어 하는 가공의 숫자일 뿐, 실지로 존재하는 것은 아닐지도 모른다.- 박완서 '모래알만한 진실이라도'\n",
            "렇나 한편 냉정히 생각해보면 큰 욕심 안 부리고 노력한 것만큼만 잘살아보겠다는 게 과연 보통 사람의 경지일까? 보통 사람이란 좌절한 욕망을 한 장의 올림픽복권에 걸고 일주일 동안 행복하고 허황된 꿈을 꾸는 사람이 아닐까? 보통 사람의 숨은 허욕이 없다면 주택복권이나 올림픽복권이 그렇게 큰 이익을 올릴 수는 없을 것이다. 이 풍진세상風塵世上에서 노력한 만큼만 잘살기를 바라고 딴 욕심이 없다면 그건 보통 사람을 훨씬 넘은 성인의 경지이다.  그럼 진짜 보통 사람은 어디 있는 것일까? 과연 있기는 있는 것일까? 보통 사람이란 좌균 점수처럼 어떤 집단을 대표하고 싶어 하는 가공의 숫자일 뿐, 실지로 존재하는 것은 아닐지도 모른다.- 박완서 '모래알만한 진실이라도'\n",
            "렇나 한편 냉정히 생각해보면 큰 욕심 안 부리고 노력한 것만큼만 잘살아보겠다는 게 과연 보통 사람의 경지일까? 보통 사람이란 좌절한 욕망을 한 장의 올림픽복권에 걸고 일주일 동안 행복하고 허황된 꿈을 꾸는 사람이 아닐까? 보통 사람의 숨은 허욕이 없다면 주택복권이나 올림픽복권이 그렇게 큰 이익을 올릴 수는 없을 것이다. 이 풍진세상風塵世上에서 노력한 만큼만 잘살기를 바라고 딴 욕심이 없다면 그건 보통 사람을 훨씬 넘은 성인의 경지이다.  그럼 진짜 보통 사람은 어디 있는 것일까? 과연 있기는 있는 것일까? 보통 사람이란 좌균 점수처럼 어떤 집단을 대표하고 싶어 하는 가공의 숫자일 뿐, 실지로 존재하는 것은 아닐지도 모른다.- 박완서 '모래알만한 진실이라도'\n",
            "럼나 한편 냉정히 생각해보면 큰 욕심 안 부리고 노력한 것만큼만 잘살아보겠다는 게 과연 보통 사람의 경지일까? 보통 사람이란 좌절한 욕망을 한 장의 올림픽복권에 걸고 일주일 동안 행복하고 허황된 꿈을 꾸는 사람이 아닐까? 보통 사람의 숨은 허욕이 없다면 주택복권이나 올림픽복권이 그렇게 큰 이익을 올릴 수는 없을 것이다. 이 풍진세상風塵世上에서 노력한 만큼만 잘살기를 바라고 딴 욕심이 없다면 그건 보통 사람을 훨씬 넘은 성인의 경지이다.  그럼 진짜 보통 사람은 어디 있는 것일까? 과연 있기는 있는 것일까? 보통 사람이란 좌균 점수처럼 어떤 집단을 대표하고 싶어 하는 가공의 숫자일 뿐, 실지로 존재하는 것은 아닐지도 모른다.- 박완서 '모래알만한 진실이라도'\n",
            "럼나 한편 냉정히 생각해보면 큰 욕심 안 부리고 노력한 것만큼만 잘살아보겠다는 게 과연 보통 사람의 경지일까? 보통 사람이란 좌절한 욕망을 한 장의 올림픽복권에 걸고 일주일 동안 행복하고 허황된 꿈을 꾸는 사람이 아닐까? 보통 사람의 숨은 허욕이 없다면 주택복권이나 올림픽복권이 그렇게 큰 이익을 올릴 수는 없을 것이다. 이 풍진세상風塵世上에서 노력한 만큼만 잘살기를 바라고 딴 욕심이 없다면 그건 보통 사람을 훨씬 넘은 성인의 경지이다.  그럼 진짜 보통 사람은 어디 있는 것일까? 과연 있기는 있는 것일까? 보통 사람이란 좌균 점수처럼 어떤 집단을 대표하고 싶어 하는 가공의 숫자일 뿐, 실지로 존재하는 것은 아닐지도 모른다.- 박완서 '모래알만한 진실이라도'\n",
            "럼나 한편 냉정히 생각해보면 큰 욕심 안 부리고 노력한 것만큼만 잘살아보겠다는 게 과연 보통 사람의 경지일까? 보통 사람이란 좌절한 욕망을 한 장의 올림픽복권에 걸고 일주일 동안 행복하고 허황된 꿈을 꾸는 사람이 아닐까? 보통 사람의 숨은 허욕이 없다면 주택복권이나 올림픽복권이 그렇게 큰 이익을 올릴 수는 없을 것이다. 이 풍진세상風塵世上에서 노력한 만큼만 잘살기를 바라고 딴 욕심이 없다면 그건 보통 사람을 훨씬 넘은 성인의 경지이다.  그럼 진짜 보통 사람은 어디 있는 것일까? 과연 있기는 있는 것일까? 보통 사람이란 좌균 점수처럼 어떤 집단을 대표하고 싶어 하는 가공의 숫자일 뿐, 실지로 존재하는 것은 아닐지도 모른다.- 박완서 '모래알만한 진실이라도'\n",
            "럼나 한편 냉정히 생각해보면 큰 욕심 안 부리고 노력한 것만큼만 잘살아보겠다는 게 과연 보통 사람의 경지일까? 보통 사람이란 좌절한 욕망을 한 장의 올림픽복권에 걸고 일주일 동안 행복하고 허황된 꿈을 꾸는 사람이 아닐까? 보통 사람의 숨은 허욕이 없다면 주택복권이나 올림픽복권이 그렇게 큰 이익을 올릴 수는 없을 것이다. 이 풍진세상風塵世上에서 노력한 만큼만 잘살기를 바라고 딴 욕심이 없다면 그건 보통 사람을 훨씬 넘은 성인의 경지이다.  그럼 진짜 보통 사람은 어디 있는 것일까? 과연 있기는 있는 것일까? 보통 사람이란 좌균 점수처럼 어떤 집단을 대표하고 싶어 하는 가공의 숫자일 뿐, 실지로 존재하는 것은 아닐지도 모른다.- 박완서 '모래알만한 진실이라도'\n",
            "럼나 한편 냉정히 생각해보면 큰 욕심 안 부리고 노력한 것만큼만 잘살아보겠다는 게 과연 보통 사람의 경지일까? 보통 사람이란 좌절한 욕망을 한 장의 올림픽복권에 걸고 일주일 동안 행복하고 허황된 꿈을 꾸는 사람이 아닐까? 보통 사람의 숨은 허욕이 없다면 주택복권이나 올림픽복권이 그렇게 큰 이익을 올릴 수는 없을 것이다. 이 풍진세상風塵世上에서 노력한 만큼만 잘살기를 바라고 딴 욕심이 없다면 그건 보통 사람을 훨씬 넘은 성인의 경지이다.  그럼 진짜 보통 사람은 어디 있는 것일까? 과연 있기는 있는 것일까? 보통 사람이란 좌균 점수처럼 어떤 집단을 대표하고 싶어 하는 가공의 숫자일 뿐, 실지로 존재하는 것은 아닐지도 모른다.- 박완서 '모래알만한 진실이라도'\n",
            "럼나 한편 냉정히 생각해보면 큰 욕심 안 부리고 노력한 것만큼만 잘살아보겠다는 게 과연 보통 사람의 경지일까? 보통 사람이란 평절한 욕망을 한 장의 올림픽복권에 걸고 일주일 동안 행복하고 허황된 꿈을 꾸는 사람이 아닐까? 보통 사람의 숨은 허욕이 없다면 주택복권이나 올림픽복권이 그렇게 큰 이익을 올릴 수는 없을 것이다. 이 풍진세상風塵世上에서 노력한 만큼만 잘살기를 바라고 딴 욕심이 없다면 그건 보통 사람을 훨씬 넘은 성인의 경지이다.  그럼 진짜 보통 사람은 어디 있는 것일까? 과연 있기는 있는 것일까? 보통 사람이란 평균 점수처럼 어떤 집단을 대표하고 싶어 하는 가공의 숫자일 뿐, 실지로 존재하는 것은 아닐지도 모른다.- 박완서 '모래알만한 진실이라도'\n",
            "럼나 한편 냉정히 생각해보면 큰 욕심 안 부리고 노력한 것만큼만 잘살아보겠다는 게 과연 보통 사람의 경지일까? 보통 사람이란 평절한 욕망을 한 장의 올림픽복권에 걸고 일주일 동안 행복하고 허황된 꿈을 꾸는 사람이 아닐까? 보통 사람의 숨은 허욕이 없다면 주택복권이나 올림픽복권이 그렇게 큰 이익을 올릴 수는 없을 것이다. 이 풍진세상風塵世上에서 노력한 만큼만 잘살기를 바라고 딴 욕심이 없다면 그건 보통 사람을 훨씬 넘은 성인의 경지이다.  그럼 진짜 보통 사람은 어디 있는 것일까? 과연 있기는 있는 것일까? 보통 사람이란 평균 점수처럼 어떤 집단을 대표하고 싶어 하는 가공의 숫자일 뿐, 실지로 존재하는 것은 아닐지도 모른다.- 박완서 '모래알만한 진실이라도'\n",
            "럼나 한편 냉정히 생각해보면 큰 욕심 안 부리고 노력한 것만큼만 잘살아보겠다는 게 과연 보통 사람의 경지일까? 보통 사람이란 평절한 욕망을 한 장의 올림픽복권에 걸고 일주일 동안 행복하고 허황된 꿈을 꾸는 사람이 아닐까? 보통 사람의 숨은 허욕이 없다면 주택복권이나 올림픽복권이 그렇게 큰 이익을 올릴 수는 없을 것이다. 이 풍진세상風塵世上에서 노력한 만큼만 잘살기를 바라고 딴 욕심이 없다면 그건 보통 사람을 훨씬 넘은 성인의 경지이다.  그럼 진짜 보통 사람은 어디 있는 것일까? 과연 있기는 있는 것일까? 보통 사람이란 평균 점수처럼 어떤 집단을 대표하고 싶어 하는 가공의 숫자일 뿐, 실지로 존재하는 것은 아닐지도 모른다.- 박완서 '모래알만한 진실이라도'\n",
            "럼나 한편 냉정히 생각해보면 큰 욕심 안 부리고 노력한 것만큼만 잘살아보겠다는 게 과연 보통 사람의 경지일까? 보통 사람이란 평절한 욕망을 한 장의 올림픽복권에 걸고 일주일 동안 행복하고 허황된 꿈을 꾸는 사람이 아닐까? 보통 사람의 숨은 허욕이 없다면 주택복권이나 올림픽복권이 그렇게 큰 이익을 올릴 수는 없을 것이다. 이 풍진세상風塵世上에서 노력한 만큼만 잘살기를 바라고 딴 욕심이 없다면 그건 보통 사람을 훨씬 넘은 성인의 경지이다.  그럼 진짜 보통 사람은 어디 있는 것일까? 과연 있기는 있는 것일까? 보통 사람이란 평균 점수처럼 어떤 집단을 대표하고 싶어 하는 가공의 숫자일 뿐, 실지로 존재하는 것은 아닐지도 모른다.- 박완서 '모래알만한 진실이라도'\n",
            "럼나 한편 냉정히 생각해보면 큰 욕심 안 부리고 노력한 것만큼만 잘살아보겠다는 게 과연 보통 사람의 경지일까? 보통 사람이란 평절한 욕망을 한 장의 올림픽복권에 걸고 일주일 동안 행복하고 허황된 꿈을 꾸는 사람이 아닐까? 보통 사람의 숨은 허욕이 없다면 주택복권이나 올림픽복권이 그렇게 큰 이익을 올릴 수는 없을 것이다. 이 풍진세상風塵世上에서 노력한 만큼만 잘살기를 바라고 딴 욕심이 없다면 그건 보통 사람을 훨씬 넘은 성인의 경지이다.  그럼 진짜 보통 사람은 어디 있는 것일까? 과연 있기는 있는 것일까? 보통 사람이란 평균 점수처럼 어떤 집단을 대표하고 싶어 하는 가공의 숫자일 뿐, 실지로 존재하는 것은 아닐지도 모른다.- 박완서 '모래알만한 진실이라도'\n",
            "럼나 한편 냉정히 생각해보면 큰 욕심 안 부리고 노력한 것만큼만 잘살아보겠다는 게 과연 보통 사람의 경지일까? 보통 사람이란 평절한 욕망을 한 장의 올림픽복권에 걸고 일주일 동안 행복하고 허황된 꿈을 꾸는 사람이 아닐까? 보통 사람의 숨은 허욕이 없다면 주택복권이나 올림픽복권이 그렇게 큰 이익을 올릴 수는 없을 것이다. 이 풍진세상風塵世上에서 노력한 만큼만 잘살기를 바라고 딴 욕심이 없다면 그건 보통 사람을 훨씬 넘은 성인의 경지이다.  그럼 진짜 보통 사람은 어디 있는 것일까? 과연 있기는 있는 것일까? 보통 사람이란 평균 점수처럼 어떤 집단을 대표하고 싶어 하는 가공의 숫자일 뿐, 실지로 존재하는 것은 아닐지도 모른다.- 박완서 '모래알만한 진실이라도'\n",
            "럼나 한편 냉정히 생각해보면 큰 욕심 안 부리고 노력한 것만큼만 잘살아보겠다는 게 과연 보통 사람의 경지일까? 보통 사람이란 평절한 욕망을 한 장의 올림픽복권에 걸고 일주일 동안 행복하고 허황된 꿈을 꾸는 사람이 아닐까? 보통 사람의 숨은 허욕이 없다면 주택복권이나 올림픽복권이 그렇게 큰 이익을 올릴 수는 없을 것이다. 이 풍진세상風塵世上에서 노력한 만큼만 잘살기를 바라고 딴 욕심이 없다면 그건 보통 사람을 훨씬 넘은 성인의 경지이다.  그럼 진짜 보통 사람은 어디 있는 것일까? 과연 있기는 있는 것일까? 보통 사람이란 평균 점수처럼 어떤 집단을 대표하고 싶어 하는 가공의 숫자일 뿐, 실지로 존재하는 것은 아닐지도 모른다.- 박완서 '모래알만한 진실이라도'\n",
            "러나 한편 냉정히 생각해보면 큰 욕심 안 부리고 노력한 것만큼만 잘살아보겠다는 게 과연 보통 사람의 경지일까? 보통 사람이란 평절한 욕망을 한 장의 올림픽복권에 걸고 일주일 동안 행복하고 허황된 꿈을 꾸는 사람이 아닐까? 보통 사람의 숨은 허욕이 없다면 주택복권이나 올림픽복권이 그렇게 큰 이익을 올릴 수는 없을 것이다. 이 풍진세상風塵世上에서 노력한 만큼만 잘살기를 바라고 딴 욕심이 없다면 그건 보통 사람을 훨씬 넘은 성인의 경지이다.  그럼 진짜 보통 사람은 어디 있는 것일까? 과연 있기는 있는 것일까? 보통 사람이란 평균 점수처럼 어떤 집단을 대표하고 싶어 하는 가공의 숫자일 뿐, 실지로 존재하는 것은 아닐지도 모른다.- 박완서 '모래알만한 진실이라도'\n",
            "러나 한편 냉정히 생각해보면 큰 욕심 안 부리고 노력한 것만큼만 잘살아보겠다는 게 과연 보통 사람의 경지일까? 보통 사람이란 평절한 욕망을 한 장의 올림픽복권에 걸고 일주일 동안 행복하고 허황된 꿈을 꾸는 사람이 아닐까? 보통 사람의 숨은 허욕이 없다면 주택복권이나 올림픽복권이 그렇게 큰 이익을 올릴 수는 없을 것이다. 이 풍진세상風塵世上에서 노력한 만큼만 잘살기를 바라고 딴 욕심이 없다면 그건 보통 사람을 훨씬 넘은 성인의 경지이다.  그럼 진짜 보통 사람은 어디 있는 것일까? 과연 있기는 있는 것일까? 보통 사람이란 평균 점수처럼 어떤 집단을 대표하고 싶어 하는 가공의 숫자일 뿐, 실지로 존재하는 것은 아닐지도 모른다.- 박완서 '모래알만한 진실이라도'\n",
            "러나 한편 냉정히 생각해보면 큰 욕심 안 부리고 노력한 것만큼만 잘살아보겠다는 게 과연 보통 사람의 경지일까? 보통 사람이란 평절한 욕망을 한 장의 올림픽복권에 걸고 일주일 동안 행복하고 허황된 꿈을 꾸는 사람이 아닐까? 보통 사람의 숨은 허욕이 없다면 주택복권이나 올림픽복권이 그렇게 큰 이익을 올릴 수는 없을 것이다. 이 풍진세상風塵世上에서 노력한 만큼만 잘살기를 바라고 딴 욕심이 없다면 그건 보통 사람을 훨씬 넘은 성인의 경지이다.  그럼 진짜 보통 사람은 어디 있는 것일까? 과연 있기는 있는 것일까? 보통 사람이란 평균 점수처럼 어떤 집단을 대표하고 싶어 하는 가공의 숫자일 뿐, 실지로 존재하는 것은 아닐지도 모른다.- 박완서 '모래알만한 진실이라도'\n",
            "럼나 한편 냉정히 생각해보면 큰 욕심 안 부리고 노력한 것만큼만 잘살아보겠다는 게 과연 보통 사람의 경지일까? 보통 사람이란 평절한 욕망을 한 장의 올림픽복권에 걸고 일주일 동안 행복하고 허황된 꿈을 꾸는 사람이 아닐까? 보통 사람의 숨은 허욕이 없다면 주택복권이나 올림픽복권이 그렇게 큰 이익을 올릴 수는 없을 것이다. 이 풍진세상風塵世上에서 노력한 만큼만 잘살기를 바라고 딴 욕심이 없다면 그건 보통 사람을 훨씬 넘은 성인의 경지이다.  그럼 진짜 보통 사람은 어디 있는 것일까? 과연 있기는 있는 것일까? 보통 사람이란 평균 점수처럼 어떤 집단을 대표하고 싶어 하는 가공의 숫자일 뿐, 실지로 존재하는 것은 아닐지도 모른다.- 박완서 '모래알만한 진실이라도'\n",
            "럼나 한편 냉정히 생각해보면 큰 욕심 안 부리고 노력한 것만큼만 잘살아보겠다는 게 과연 보통 사람의 경지일까? 보통 사람이란 평절한 욕망을 한 장의 올림픽복권에 걸고 일주일 동안 행복하고 허황된 꿈을 꾸는 사람이 아닐까? 보통 사람의 숨은 허욕이 없다면 주택복권이나 올림픽복권이 그렇게 큰 이익을 올릴 수는 없을 것이다. 이 풍진세상風塵世上에서 노력한 만큼만 잘살기를 바라고 딴 욕심이 없다면 그건 보통 사람을 훨씬 넘은 성인의 경지이다.  그럼 진짜 보통 사람은 어디 있는 것일까? 과연 있기는 있는 것일까? 보통 사람이란 평균 점수처럼 어떤 집단을 대표하고 싶어 하는 가공의 숫자일 뿐, 실지로 존재하는 것은 아닐지도 모른다.- 박완서 '모래알만한 진실이라도'\n",
            "럼나 한편 냉정히 생각해보면 큰 욕심 안 부리고 노력한 것만큼만 잘살아보겠다는 게 과연 보통 사람의 경지일까? 보통 사람이란 평절한 욕망을 한 장의 올림픽복권에 걸고 일주일 동안 행복하고 허황된 꿈을 꾸는 사람이 아닐까? 보통 사람의 숨은 허욕이 없다면 주택복권이나 올림픽복권이 그렇게 큰 이익을 올릴 수는 없을 것이다. 이 풍진세상風塵世上에서 노력한 만큼만 잘살기를 바라고 딴 욕심이 없다면 그건 보통 사람을 훨씬 넘은 성인의 경지이다.  그럼 진짜 보통 사람은 어디 있는 것일까? 과연 있기는 있는 것일까? 보통 사람이란 평균 점수처럼 어떤 집단을 대표하고 싶어 하는 가공의 숫자일 뿐, 실지로 존재하는 것은 아닐지도 모른다.- 박완서 '모래알만한 진실이라도'\n",
            "럼나 한편 냉정히 생각해보면 큰 욕심 안 부리고 노력한 것만큼만 잘살아보겠다는 게 과연 보통 사람의 경지일까? 보통 사람이란 평절한 욕망을 한 장의 올림픽복권에 걸고 일주일 동안 행복하고 허황된 꿈을 꾸는 사람이 아닐까? 보통 사람의 숨은 허욕이 없다면 주택복권이나 올림픽복권이 그렇게 큰 이익을 올릴 수는 없을 것이다. 이 풍진세상風塵世上에서 노력한 만큼만 잘살기를 바라고 딴 욕심이 없다면 그건 보통 사람을 훨씬 넘은 성인의 경지이다.  그럼 진짜 보통 사람은 어디 있는 것일까? 과연 있기는 있는 것일까? 보통 사람이란 평균 점수처럼 어떤 집단을 대표하고 싶어 하는 가공의 숫자일 뿐, 실지로 존재하는 것은 아닐지도 모른다.- 박완서 '모래알만한 진실이라도'\n",
            "럼나 한편 냉정히 생각해보면 큰 욕심 안 부리고 노력한 것만큼만 잘살아보겠다는 게 과연 보통 사람의 경지일까? 보통 사람이란 평절한 욕망을 한 장의 올림픽복권에 걸고 일주일 동안 행복하고 허황된 꿈을 꾸는 사람이 아닐까? 보통 사람의 숨은 허욕이 없다면 주택복권이나 올림픽복권이 그렇게 큰 이익을 올릴 수는 없을 것이다. 이 풍진세상風塵世上에서 노력한 만큼만 잘살기를 바라고 딴 욕심이 없다면 그건 보통 사람을 훨씬 넘은 성인의 경지이다.  그럼 진짜 보통 사람은 어디 있는 것일까? 과연 있기는 있는 것일까? 보통 사람이란 평균 점수처럼 어떤 집단을 대표하고 싶어 하는 가공의 숫자일 뿐, 실지로 존재하는 것은 아닐지도 모른다.- 박완서 '모래알만한 진실이라도'\n",
            "럼나 한편 냉정히 생각해보면 큰 욕심 안 부리고 노력한 것만큼만 잘살아보겠다는 게 과연 보통 사람의 경지일까? 보통 사람이란 평절한 욕망을 한 장의 올림픽복권에 걸고 일주일 동안 행복하고 허황된 꿈을 꾸는 사람이 아닐까? 보통 사람의 숨은 허욕이 없다면 주택복권이나 올림픽복권이 그렇게 큰 이익을 올릴 수는 없을 것이다. 이 풍진세상風塵世上에서 노력한 만큼만 잘살기를 바라고 딴 욕심이 없다면 그건 보통 사람을 훨씬 넘은 성인의 경지이다.  그럼 진짜 보통 사람은 어디 있는 것일까? 과연 있기는 있는 것일까? 보통 사람이란 평균 점수처럼 어떤 집단을 대표하고 싶어 하는 가공의 숫자일 뿐, 실지로 존재하는 것은 아닐지도 모른다.- 박완서 '모래알만한 진실이라도'\n",
            "럼나 한편 냉정히 생각해보면 큰 욕심 안 부리고 노력한 것만큼만 잘살아보겠다는 게 과연 보통 사람의 경지일까? 보통 사람이란 평절한 욕망을 한 장의 올림픽복권에 걸고 일주일 동안 행복하고 허황된 꿈을 꾸는 사람이 아닐까? 보통 사람의 숨은 허욕이 없다면 주택복권이나 올림픽복권이 그렇게 큰 이익을 올릴 수는 없을 것이다. 이 풍진세상風塵世上에서 노력한 만큼만 잘살기를 바라고 딴 욕심이 없다면 그건 보통 사람을 훨씬 넘은 성인의 경지이다.  그럼 진짜 보통 사람은 어디 있는 것일까? 과연 있기는 있는 것일까? 보통 사람이란 평균 점수처럼 어떤 집단을 대표하고 싶어 하는 가공의 숫자일 뿐, 실지로 존재하는 것은 아닐지도 모른다.- 박완서 '모래알만한 진실이라도'\n",
            "럼나 한편 냉정히 생각해보면 큰 욕심 안 부리고 노력한 것만큼만 잘살아보겠다는 게 과연 보통 사람의 경지일까? 보통 사람이란 평절한 욕망을 한 장의 올림픽복권에 걸고 일주일 동안 행복하고 허황된 꿈을 꾸는 사람이 아닐까? 보통 사람의 숨은 허욕이 없다면 주택복권이나 올림픽복권이 그렇게 큰 이익을 올릴 수는 없을 것이다. 이 풍진세상風塵世上에서 노력한 만큼만 잘살기를 바라고 딴 욕심이 없다면 그건 보통 사람을 훨씬 넘은 성인의 경지이다.  그럼 진짜 보통 사람은 어디 있는 것일까? 과연 있기는 있는 것일까? 보통 사람이란 평균 점수처럼 어떤 집단을 대표하고 싶어 하는 가공의 숫자일 뿐, 실지로 존재하는 것은 아닐지도 모른다.- 박완서 '모래알만한 진실이라도'\n",
            "럼나 한편 냉정히 생각해보면 큰 욕심 안 부리고 노력한 것만큼만 잘살아보겠다는 게 과연 보통 사람의 경지일까? 보통 사람이란 평절한 욕망을 한 장의 올림픽복권에 걸고 일주일 동안 행복하고 허황된 꿈을 꾸는 사람이 아닐까? 보통 사람의 숨은 허욕이 없다면 주택복권이나 올림픽복권이 그렇게 큰 이익을 올릴 수는 없을 것이다. 이 풍진세상風塵世上에서 노력한 만큼만 잘살기를 바라고 딴 욕심이 없다면 그건 보통 사람을 훨씬 넘은 성인의 경지이다.  그럼 진짜 보통 사람은 어디 있는 것일까? 과연 있기는 있는 것일까? 보통 사람이란 평균 점수처럼 어떤 집단을 대표하고 싶어 하는 가공의 숫자일 뿐, 실지로 존재하는 것은 아닐지도 모른다.- 박완서 '모래알만한 진실이라도'\n",
            "럼나 한편 냉정히 생각해보면 큰 욕심 안 부리고 노력한 것만큼만 잘살아보겠다는 게 과연 보통 사람의 경지일까? 보통 사람이란 평절한 욕망을 한 장의 올림픽복권에 걸고 일주일 동안 행복하고 허황된 꿈을 꾸는 사람이 아닐까? 보통 사람의 숨은 허욕이 없다면 주택복권이나 올림픽복권이 그렇게 큰 이익을 올릴 수는 없을 것이다. 이 풍진세상風塵世上에서 노력한 만큼만 잘살기를 바라고 딴 욕심이 없다면 그건 보통 사람을 훨씬 넘은 성인의 경지이다.  그럼 진짜 보통 사람은 어디 있는 것일까? 과연 있기는 있는 것일까? 보통 사람이란 평균 점수처럼 어떤 집단을 대표하고 싶어 하는 가공의 숫자일 뿐, 실지로 존재하는 것은 아닐지도 모른다.- 박완서 '모래알만한 진실이라도'\n",
            "럼나 한편 냉정히 생각해보면 큰 욕심 안 부리고 노력한 것만큼만 잘살아보겠다는 게 과연 보통 사람의 경지일까? 보통 사람이란 평절한 욕망을 한 장의 올림픽복권에 걸고 일주일 동안 행복하고 허황된 꿈을 꾸는 사람이 아닐까? 보통 사람의 숨은 허욕이 없다면 주택복권이나 올림픽복권이 그렇게 큰 이익을 올릴 수는 없을 것이다. 이 풍진세상風塵世上에서 노력한 만큼만 잘살기를 바라고 딴 욕심이 없다면 그건 보통 사람을 훨씬 넘은 성인의 경지이다.  그럼 진짜 보통 사람은 어디 있는 것일까? 과연 있기는 있는 것일까? 보통 사람이란 평균 점수처럼 어떤 집단을 대표하고 싶어 하는 가공의 숫자일 뿐, 실지로 존재하는 것은 아닐지도 모른다.- 박완서 '모래알만한 진실이라도'\n",
            "럼나 한편 냉정히 생각해보면 큰 욕심 안 부리고 노력한 것만큼만 잘살아보겠다는 게 과연 보통 사람의 경지일까? 보통 사람이란 평절한 욕망을 한 장의 올림픽복권에 걸고 일주일 동안 행복하고 허황된 꿈을 꾸는 사람이 아닐까? 보통 사람의 숨은 허욕이 없다면 주택복권이나 올림픽복권이 그렇게 큰 이익을 올릴 수는 없을 것이다. 이 풍진세상風塵世上에서 노력한 만큼만 잘살기를 바라고 딴 욕심이 없다면 그건 보통 사람을 훨씬 넘은 성인의 경지이다.  그럼 진짜 보통 사람은 어디 있는 것일까? 과연 있기는 있는 것일까? 보통 사람이란 평균 점수처럼 어떤 집단을 대표하고 싶어 하는 가공의 숫자일 뿐, 실지로 존재하는 것은 아닐지도 모른다.- 박완서 '모래알만한 진실이라도'\n",
            "럼나 한편 냉정히 생각해보면 큰 욕심 안 부리고 노력한 것만큼만 잘살아보겠다는 게 과연 보통 사람의 경지일까? 보통 사람이란 평절한 욕망을 한 장의 올림픽복권에 걸고 일주일 동안 행복하고 허황된 꿈을 꾸는 사람이 아닐까? 보통 사람의 숨은 허욕이 없다면 주택복권이나 올림픽복권이 그렇게 큰 이익을 올릴 수는 없을 것이다. 이 풍진세상風塵世上에서 노력한 만큼만 잘살기를 바라고 딴 욕심이 없다면 그건 보통 사람을 훨씬 넘은 성인의 경지이다.  그럼 진짜 보통 사람은 어디 있는 것일까? 과연 있기는 있는 것일까? 보통 사람이란 평균 점수처럼 어떤 집단을 대표하고 싶어 하는 가공의 숫자일 뿐, 실지로 존재하는 것은 아닐지도 모른다.- 박완서 '모래알만한 진실이라도'\n",
            "럼나 한편 냉정히 생각해보면 큰 욕심 안 부리고 노력한 것만큼만 잘살아보겠다는 게 과연 보통 사람의 경지일까? 보통 사람이란 평절한 욕망을 한 장의 올림픽복권에 걸고 일주일 동안 행복하고 허황된 꿈을 꾸는 사람이 아닐까? 보통 사람의 숨은 허욕이 없다면 주택복권이나 올림픽복권이 그렇게 큰 이익을 올릴 수는 없을 것이다. 이 풍진세상風塵世上에서 노력한 만큼만 잘살기를 바라고 딴 욕심이 없다면 그건 보통 사람을 훨씬 넘은 성인의 경지이다.  그럼 진짜 보통 사람은 어디 있는 것일까? 과연 있기는 있는 것일까? 보통 사람이란 평균 점수처럼 어떤 집단을 대표하고 싶어 하는 가공의 숫자일 뿐, 실지로 존재하는 것은 아닐지도 모른다.- 박완서 '모래알만한 진실이라도'\n",
            "럼나 한편 냉정히 생각해보면 큰 욕심 안 부리고 노력한 것만큼만 잘살아보겠다는 게 과연 보통 사람의 경지일까? 보통 사람이란 평절한 욕망을 한 장의 올림픽복권에 걸고 일주일 동안 행복하고 허황된 꿈을 꾸는 사람이 아닐까? 보통 사람의 숨은 허욕이 없다면 주택복권이나 올림픽복권이 그렇게 큰 이익을 올릴 수는 없을 것이다. 이 풍진세상風塵世上에서 노력한 만큼만 잘살기를 바라고 딴 욕심이 없다면 그건 보통 사람을 훨씬 넘은 성인의 경지이다.  그럼 진짜 보통 사람은 어디 있는 것일까? 과연 있기는 있는 것일까? 보통 사람이란 평균 점수처럼 어떤 집단을 대표하고 싶어 하는 가공의 숫자일 뿐, 실지로 존재하는 것은 아닐지도 모른다.- 박완서 '모래알만한 진실이라도'\n",
            "럼나 한편 냉정히 생각해보면 큰 욕심 안 부리고 노력한 것만큼만 잘살아보겠다는 게 과연 보통 사람의 경지일까? 보통 사람이란 평절한 욕망을 한 장의 올림픽복권에 걸고 일주일 동안 행복하고 허황된 꿈을 꾸는 사람이 아닐까? 보통 사람의 숨은 허욕이 없다면 주택복권이나 올림픽복권이 그렇게 큰 이익을 올릴 수는 없을 것이다. 이 풍진세상風塵世上에서 노력한 만큼만 잘살기를 바라고 딴 욕심이 없다면 그건 보통 사람을 훨씬 넘은 성인의 경지이다.  그럼 진짜 보통 사람은 어디 있는 것일까? 과연 있기는 있는 것일까? 보통 사람이란 평균 점수처럼 어떤 집단을 대표하고 싶어 하는 가공의 숫자일 뿐, 실지로 존재하는 것은 아닐지도 모른다.- 박완서 '모래알만한 진실이라도'\n",
            "럼나 한편 냉정히 생각해보면 큰 욕심 안 부리고 노력한 것만큼만 잘살아보겠다는 게 과연 보통 사람의 경지일까? 보통 사람이란 평절한 욕망을 한 장의 올림픽복권에 걸고 일주일 동안 행복하고 허황된 꿈을 꾸는 사람이 아닐까? 보통 사람의 숨은 허욕이 없다면 주택복권이나 올림픽복권이 그렇게 큰 이익을 올릴 수는 없을 것이다. 이 풍진세상風塵世上에서 노력한 만큼만 잘살기를 바라고 딴 욕심이 없다면 그건 보통 사람을 훨씬 넘은 성인의 경지이다.  그럼 진짜 보통 사람은 어디 있는 것일까? 과연 있기는 있는 것일까? 보통 사람이란 평균 점수처럼 어떤 집단을 대표하고 싶어 하는 가공의 숫자일 뿐, 실지로 존재하는 것은 아닐지도 모른다.- 박완서 '모래알만한 진실이라도'\n",
            "럼나 한편 냉정히 생각해보면 큰 욕심 안 부리고 노력한 것만큼만 잘살아보겠다는 게 과연 보통 사람의 경지일까? 보통 사람이란 평절한 욕망을 한 장의 올림픽복권에 걸고 일주일 동안 행복하고 허황된 꿈을 꾸는 사람이 아닐까? 보통 사람의 숨은 허욕이 없다면 주택복권이나 올림픽복권이 그렇게 큰 이익을 올릴 수는 없을 것이다. 이 풍진세상風塵世上에서 노력한 만큼만 잘살기를 바라고 딴 욕심이 없다면 그건 보통 사람을 훨씬 넘은 성인의 경지이다.  그럼 진짜 보통 사람은 어디 있는 것일까? 과연 있기는 있는 것일까? 보통 사람이란 평균 점수처럼 어떤 집단을 대표하고 싶어 하는 가공의 숫자일 뿐, 실지로 존재하는 것은 아닐지도 모른다.- 박완서 '모래알만한 진실이라도'\n",
            "럼나 한편 냉정히 생각해보면 큰 욕심 안 부리고 노력한 것만큼만 잘살아보겠다는 게 과연 보통 사람의 경지일까? 보통 사람이란 평절한 욕망을 한 장의 올림픽복권에 걸고 일주일 동안 행복하고 허황된 꿈을 꾸는 사람이 아닐까? 보통 사람의 숨은 허욕이 없다면 주택복권이나 올림픽복권이 그렇게 큰 이익을 올릴 수는 없을 것이다. 이 풍진세상風塵世上에서 노력한 만큼만 잘살기를 바라고 딴 욕심이 없다면 그건 보통 사람을 훨씬 넘은 성인의 경지이다.  그럼 진짜 보통 사람은 어디 있는 것일까? 과연 있기는 있는 것일까? 보통 사람이란 평균 점수처럼 어떤 집단을 대표하고 싶어 하는 가공의 숫자일 뿐, 실지로 존재하는 것은 아닐지도 모른다.- 박완서 '모래알만한 진실이라도'\n",
            "럼나 한편 냉정히 생각해보면 큰 욕심 안 부리고 노력한 것만큼만 잘살아보겠다는 게 과연 보통 사람의 경지일까? 보통 사람이란 평절한 욕망을 한 장의 올림픽복권에 걸고 일주일 동안 행복하고 허황된 꿈을 꾸는 사람이 아닐까? 보통 사람의 숨은 허욕이 없다면 주택복권이나 올림픽복권이 그렇게 큰 이익을 올릴 수는 없을 것이다. 이 풍진세상風塵世上에서 노력한 만큼만 잘살기를 바라고 딴 욕심이 없다면 그건 보통 사람을 훨씬 넘은 성인의 경지이다.  그럼 진짜 보통 사람은 어디 있는 것일까? 과연 있기는 있는 것일까? 보통 사람이란 평균 점수처럼 어떤 집단을 대표하고 싶어 하는 가공의 숫자일 뿐, 실지로 존재하는 것은 아닐지도 모른다.- 박완서 '모래알만한 진실이라도'\n",
            "럼나 한편 냉정히 생각해보면 큰 욕심 안 부리고 노력한 것만큼만 잘살아보겠다는 게 과연 보통 사람의 경지일까? 보통 사람이란 평절한 욕망을 한 장의 올림픽복권에 걸고 일주일 동안 행복하고 허황된 꿈을 꾸는 사람이 아닐까? 보통 사람의 숨은 허욕이 없다면 주택복권이나 올림픽복권이 그렇게 큰 이익을 올릴 수는 없을 것이다. 이 풍진세상風塵世上에서 노력한 만큼만 잘살기를 바라고 딴 욕심이 없다면 그건 보통 사람을 훨씬 넘은 성인의 경지이다.  그럼 진짜 보통 사람은 어디 있는 것일까? 과연 있기는 있는 것일까? 보통 사람이란 평균 점수처럼 어떤 집단을 대표하고 싶어 하는 가공의 숫자일 뿐, 실지로 존재하는 것은 아닐지도 모른다.- 박완서 '모래알만한 진실이라도'\n",
            "럼나 한편 냉정히 생각해보면 큰 욕심 안 부리고 노력한 것만큼만 잘살아보겠다는 게 과연 보통 사람의 경지일까? 보통 사람이란 평절한 욕망을 한 장의 올림픽복권에 걸고 일주일 동안 행복하고 허황된 꿈을 꾸는 사람이 아닐까? 보통 사람의 숨은 허욕이 없다면 주택복권이나 올림픽복권이 그렇게 큰 이익을 올릴 수는 없을 것이다. 이 풍진세상風塵世上에서 노력한 만큼만 잘살기를 바라고 딴 욕심이 없다면 그건 보통 사람을 훨씬 넘은 성인의 경지이다.  그럼 진짜 보통 사람은 어디 있는 것일까? 과연 있기는 있는 것일까? 보통 사람이란 평균 점수처럼 어떤 집단을 대표하고 싶어 하는 가공의 숫자일 뿐, 실지로 존재하는 것은 아닐지도 모른다.- 박완서 '모래알만한 진실이라도'\n",
            "럼나 한편 냉정히 생각해보면 큰 욕심 안 부리고 노력한 것만큼만 잘살아보겠다는 게 과연 보통 사람의 경지일까? 보통 사람이란 평절한 욕망을 한 장의 올림픽복권에 걸고 일주일 동안 행복하고 허황된 꿈을 꾸는 사람이 아닐까? 보통 사람의 숨은 허욕이 없다면 주택복권이나 올림픽복권이 그렇게 큰 이익을 올릴 수는 없을 것이다. 이 풍진세상風塵世上에서 노력한 만큼만 잘살기를 바라고 딴 욕심이 없다면 그건 보통 사람을 훨씬 넘은 성인의 경지이다.  그럼 진짜 보통 사람은 어디 있는 것일까? 과연 있기는 있는 것일까? 보통 사람이란 평균 점수처럼 어떤 집단을 대표하고 싶어 하는 가공의 숫자일 뿐, 실지로 존재하는 것은 아닐지도 모른다.- 박완서 '모래알만한 진실이라도'\n",
            "럼나 한편 냉정히 생각해보면 큰 욕심 안 부리고 노력한 것만큼만 잘살아보겠다는 게 과연 보통 사람의 경지일까? 보통 사람이란 평절한 욕망을 한 장의 올림픽복권에 걸고 일주일 동안 행복하고 허황된 꿈을 꾸는 사람이 아닐까? 보통 사람의 숨은 허욕이 없다면 주택복권이나 올림픽복권이 그렇게 큰 이익을 올릴 수는 없을 것이다. 이 풍진세상風塵世上에서 노력한 만큼만 잘살기를 바라고 딴 욕심이 없다면 그건 보통 사람을 훨씬 넘은 성인의 경지이다.  그럼 진짜 보통 사람은 어디 있는 것일까? 과연 있기는 있는 것일까? 보통 사람이란 평균 점수처럼 어떤 집단을 대표하고 싶어 하는 가공의 숫자일 뿐, 실지로 존재하는 것은 아닐지도 모른다.- 박완서 '모래알만한 진실이라도'\n",
            "럼나 한편 냉정히 생각해보면 큰 욕심 안 부리고 노력한 것만큼만 잘살아보겠다는 게 과연 보통 사람의 경지일까? 보통 사람이란 평절한 욕망을 한 장의 올림픽복권에 걸고 일주일 동안 행복하고 허황된 꿈을 꾸는 사람이 아닐까? 보통 사람의 숨은 허욕이 없다면 주택복권이나 올림픽복권이 그렇게 큰 이익을 올릴 수는 없을 것이다. 이 풍진세상風塵世上에서 노력한 만큼만 잘살기를 바라고 딴 욕심이 없다면 그건 보통 사람을 훨씬 넘은 성인의 경지이다.  그럼 진짜 보통 사람은 어디 있는 것일까? 과연 있기는 있는 것일까? 보통 사람이란 평균 점수처럼 어떤 집단을 대표하고 싶어 하는 가공의 숫자일 뿐, 실지로 존재하는 것은 아닐지도 모른다.- 박완서 '모래알만한 진실이라도'\n",
            "럼나 한편 냉정히 생각해보면 큰 욕심 안 부리고 노력한 것만큼만 잘살아보겠다는 게 과연 보통 사람의 경지일까? 보통 사람이란 평절한 욕망을 한 장의 올림픽복권에 걸고 일주일 동안 행복하고 허황된 꿈을 꾸는 사람이 아닐까? 보통 사람의 숨은 허욕이 없다면 주택복권이나 올림픽복권이 그렇게 큰 이익을 올릴 수는 없을 것이다. 이 풍진세상風塵世上에서 노력한 만큼만 잘살기를 바라고 딴 욕심이 없다면 그건 보통 사람을 훨씬 넘은 성인의 경지이다.  그럼 진짜 보통 사람은 어디 있는 것일까? 과연 있기는 있는 것일까? 보통 사람이란 평균 점수처럼 어떤 집단을 대표하고 싶어 하는 가공의 숫자일 뿐, 실지로 존재하는 것은 아닐지도 모른다.- 박완서 '모래알만한 진실이라도'\n",
            "럼나 한편 냉정히 생각해보면 큰 욕심 안 부리고 노력한 것만큼만 잘살아보겠다는 게 과연 보통 사람의 경지일까? 보통 사람이란 평절한 욕망을 한 장의 올림픽복권에 걸고 일주일 동안 행복하고 허황된 꿈을 꾸는 사람이 아닐까? 보통 사람의 숨은 허욕이 없다면 주택복권이나 올림픽복권이 그렇게 큰 이익을 올릴 수는 없을 것이다. 이 풍진세상風塵世上에서 노력한 만큼만 잘살기를 바라고 딴 욕심이 없다면 그건 보통 사람을 훨씬 넘은 성인의 경지이다.  그럼 진짜 보통 사람은 어디 있는 것일까? 과연 있기는 있는 것일까? 보통 사람이란 평균 점수처럼 어떤 집단을 대표하고 싶어 하는 가공의 숫자일 뿐, 실지로 존재하는 것은 아닐지도 모른다.- 박완서 '모래알만한 진실이라도'\n",
            "럼나 한편 냉정히 생각해보면 큰 욕심 안 부리고 노력한 것만큼만 잘살아보겠다는 게 과연 보통 사람의 경지일까? 보통 사람이란 평절한 욕망을 한 장의 올림픽복권에 걸고 일주일 동안 행복하고 허황된 꿈을 꾸는 사람이 아닐까? 보통 사람의 숨은 허욕이 없다면 주택복권이나 올림픽복권이 그렇게 큰 이익을 올릴 수는 없을 것이다. 이 풍진세상風塵世上에서 노력한 만큼만 잘살기를 바라고 딴 욕심이 없다면 그건 보통 사람을 훨씬 넘은 성인의 경지이다.  그럼 진짜 보통 사람은 어디 있는 것일까? 과연 있기는 있는 것일까? 보통 사람이란 평균 점수처럼 어떤 집단을 대표하고 싶어 하는 가공의 숫자일 뿐, 실지로 존재하는 것은 아닐지도 모른다.- 박완서 '모래알만한 진실이라도'\n",
            "럼나 한편 냉정히 생각해보면 큰 욕심 안 부리고 노력한 것만큼만 잘살아보겠다는 게 과연 보통 사람의 경지일까? 보통 사람이란 평절한 욕망을 한 장의 올림픽복권에 걸고 일주일 동안 행복하고 허황된 꿈을 꾸는 사람이 아닐까? 보통 사람의 숨은 허욕이 없다면 주택복권이나 올림픽복권이 그렇게 큰 이익을 올릴 수는 없을 것이다. 이 풍진세상風塵世上에서 노력한 만큼만 잘살기를 바라고 딴 욕심이 없다면 그건 보통 사람을 훨씬 넘은 성인의 경지이다.  그럼 진짜 보통 사람은 어디 있는 것일까? 과연 있기는 있는 것일까? 보통 사람이란 평균 점수처럼 어떤 집단을 대표하고 싶어 하는 가공의 숫자일 뿐, 실지로 존재하는 것은 아닐지도 모른다.- 박완서 '모래알만한 진실이라도'\n",
            "럼나 한편 냉정히 생각해보면 큰 욕심 안 부리고 노력한 것만큼만 잘살아보겠다는 게 과연 보통 사람의 경지일까? 보통 사람이란 평절한 욕망을 한 장의 올림픽복권에 걸고 일주일 동안 행복하고 허황된 꿈을 꾸는 사람이 아닐까? 보통 사람의 숨은 허욕이 없다면 주택복권이나 올림픽복권이 그렇게 큰 이익을 올릴 수는 없을 것이다. 이 풍진세상風塵世上에서 노력한 만큼만 잘살기를 바라고 딴 욕심이 없다면 그건 보통 사람을 훨씬 넘은 성인의 경지이다.  그럼 진짜 보통 사람은 어디 있는 것일까? 과연 있기는 있는 것일까? 보통 사람이란 평균 점수처럼 어떤 집단을 대표하고 싶어 하는 가공의 숫자일 뿐, 실지로 존재하는 것은 아닐지도 모른다.- 박완서 '모래알만한 진실이라도'\n",
            "럼나 한편 냉정히 생각해보면 큰 욕심 안 부리고 노력한 것만큼만 잘살아보겠다는 게 과연 보통 사람의 경지일까? 보통 사람이란 평절한 욕망을 한 장의 올림픽복권에 걸고 일주일 동안 행복하고 허황된 꿈을 꾸는 사람이 아닐까? 보통 사람의 숨은 허욕이 없다면 주택복권이나 올림픽복권이 그렇게 큰 이익을 올릴 수는 없을 것이다. 이 풍진세상風塵世上에서 노력한 만큼만 잘살기를 바라고 딴 욕심이 없다면 그건 보통 사람을 훨씬 넘은 성인의 경지이다.  그럼 진짜 보통 사람은 어디 있는 것일까? 과연 있기는 있는 것일까? 보통 사람이란 평균 점수처럼 어떤 집단을 대표하고 싶어 하는 가공의 숫자일 뿐, 실지로 존재하는 것은 아닐지도 모른다.- 박완서 '모래알만한 진실이라도'\n",
            "럼나 한편 냉정히 생각해보면 큰 욕심 안 부리고 노력한 것만큼만 잘살아보겠다는 게 과연 보통 사람의 경지일까? 보통 사람이란 평절한 욕망을 한 장의 올림픽복권에 걸고 일주일 동안 행복하고 허황된 꿈을 꾸는 사람이 아닐까? 보통 사람의 숨은 허욕이 없다면 주택복권이나 올림픽복권이 그렇게 큰 이익을 올릴 수는 없을 것이다. 이 풍진세상風塵世上에서 노력한 만큼만 잘살기를 바라고 딴 욕심이 없다면 그건 보통 사람을 훨씬 넘은 성인의 경지이다.  그럼 진짜 보통 사람은 어디 있는 것일까? 과연 있기는 있는 것일까? 보통 사람이란 평균 점수처럼 어떤 집단을 대표하고 싶어 하는 가공의 숫자일 뿐, 실지로 존재하는 것은 아닐지도 모른다.- 박완서 '모래알만한 진실이라도'\n",
            "럼나 한편 냉정히 생각해보면 큰 욕심 안 부리고 노력한 것만큼만 잘살아보겠다는 게 과연 보통 사람의 경지일까? 보통 사람이란 평절한 욕망을 한 장의 올림픽복권에 걸고 일주일 동안 행복하고 허황된 꿈을 꾸는 사람이 아닐까? 보통 사람의 숨은 허욕이 없다면 주택복권이나 올림픽복권이 그렇게 큰 이익을 올릴 수는 없을 것이다. 이 풍진세상風塵世上에서 노력한 만큼만 잘살기를 바라고 딴 욕심이 없다면 그건 보통 사람을 훨씬 넘은 성인의 경지이다.  그럼 진짜 보통 사람은 어디 있는 것일까? 과연 있기는 있는 것일까? 보통 사람이란 평균 점수처럼 어떤 집단을 대표하고 싶어 하는 가공의 숫자일 뿐, 실지로 존재하는 것은 아닐지도 모른다.- 박완서 '모래알만한 진실이라도'\n",
            "럼나 한편 냉정히 생각해보면 큰 욕심 안 부리고 노력한 것만큼만 잘살아보겠다는 게 과연 보통 사람의 경지일까? 보통 사람이란 평절한 욕망을 한 장의 올림픽복권에 걸고 일주일 동안 행복하고 허황된 꿈을 꾸는 사람이 아닐까? 보통 사람의 숨은 허욕이 없다면 주택복권이나 올림픽복권이 그렇게 큰 이익을 올릴 수는 없을 것이다. 이 풍진세상風塵世上에서 노력한 만큼만 잘살기를 바라고 딴 욕심이 없다면 그건 보통 사람을 훨씬 넘은 성인의 경지이다.  그럼 진짜 보통 사람은 어디 있는 것일까? 과연 있기는 있는 것일까? 보통 사람이란 평균 점수처럼 어떤 집단을 대표하고 싶어 하는 가공의 숫자일 뿐, 실지로 존재하는 것은 아닐지도 모른다.- 박완서 '모래알만한 진실이라도'\n",
            "럼나 한편 냉정히 생각해보면 큰 욕심 안 부리고 노력한 것만큼만 잘살아보겠다는 게 과연 보통 사람의 경지일까? 보통 사람이란 평절한 욕망을 한 장의 올림픽복권에 걸고 일주일 동안 행복하고 허황된 꿈을 꾸는 사람이 아닐까? 보통 사람의 숨은 허욕이 없다면 주택복권이나 올림픽복권이 그렇게 큰 이익을 올릴 수는 없을 것이다. 이 풍진세상風塵世上에서 노력한 만큼만 잘살기를 바라고 딴 욕심이 없다면 그건 보통 사람을 훨씬 넘은 성인의 경지이다.  그럼 진짜 보통 사람은 어디 있는 것일까? 과연 있기는 있는 것일까? 보통 사람이란 평균 점수처럼 어떤 집단을 대표하고 싶어 하는 가공의 숫자일 뿐, 실지로 존재하는 것은 아닐지도 모른다.- 박완서 '모래알만한 진실이라도'\n",
            "럼나 한편 냉정히 생각해보면 큰 욕심 안 부리고 노력한 것만큼만 잘살아보겠다는 게 과연 보통 사람의 경지일까? 보통 사람이란 평절한 욕망을 한 장의 올림픽복권에 걸고 일주일 동안 행복하고 허황된 꿈을 꾸는 사람이 아닐까? 보통 사람의 숨은 허욕이 없다면 주택복권이나 올림픽복권이 그렇게 큰 이익을 올릴 수는 없을 것이다. 이 풍진세상風塵世上에서 노력한 만큼만 잘살기를 바라고 딴 욕심이 없다면 그건 보통 사람을 훨씬 넘은 성인의 경지이다.  그럼 진짜 보통 사람은 어디 있는 것일까? 과연 있기는 있는 것일까? 보통 사람이란 평균 점수처럼 어떤 집단을 대표하고 싶어 하는 가공의 숫자일 뿐, 실지로 존재하는 것은 아닐지도 모른다.- 박완서 '모래알만한 진실이라도'\n",
            "럼나 한편 냉정히 생각해보면 큰 욕심 안 부리고 노력한 것만큼만 잘살아보겠다는 게 과연 보통 사람의 경지일까? 보통 사람이란 평절한 욕망을 한 장의 올림픽복권에 걸고 일주일 동안 행복하고 허황된 꿈을 꾸는 사람이 아닐까? 보통 사람의 숨은 허욕이 없다면 주택복권이나 올림픽복권이 그렇게 큰 이익을 올릴 수는 없을 것이다. 이 풍진세상風塵世上에서 노력한 만큼만 잘살기를 바라고 딴 욕심이 없다면 그건 보통 사람을 훨씬 넘은 성인의 경지이다.  그럼 진짜 보통 사람은 어디 있는 것일까? 과연 있기는 있는 것일까? 보통 사람이란 평균 점수처럼 어떤 집단을 대표하고 싶어 하는 가공의 숫자일 뿐, 실지로 존재하는 것은 아닐지도 모른다.- 박완서 '모래알만한 진실이라도'\n",
            "럼나 한편 냉정히 생각해보면 큰 욕심 안 부리고 노력한 것만큼만 잘살아보겠다는 게 과연 보통 사람의 경지일까? 보통 사람이란 평절한 욕망을 한 장의 올림픽복권에 걸고 일주일 동안 행복하고 허황된 꿈을 꾸는 사람이 아닐까? 보통 사람의 숨은 허욕이 없다면 주택복권이나 올림픽복권이 그렇게 큰 이익을 올릴 수는 없을 것이다. 이 풍진세상風塵世上에서 노력한 만큼만 잘살기를 바라고 딴 욕심이 없다면 그건 보통 사람을 훨씬 넘은 성인의 경지이다.  그럼 진짜 보통 사람은 어디 있는 것일까? 과연 있기는 있는 것일까? 보통 사람이란 평균 점수처럼 어떤 집단을 대표하고 싶어 하는 가공의 숫자일 뿐, 실지로 존재하는 것은 아닐지도 모른다.- 박완서 '모래알만한 진실이라도'\n",
            "럼나 한편 냉정히 생각해보면 큰 욕심 안 부리고 노력한 것만큼만 잘살아보겠다는 게 과연 보통 사람의 경지일까? 보통 사람이란 평절한 욕망을 한 장의 올림픽복권에 걸고 일주일 동안 행복하고 허황된 꿈을 꾸는 사람이 아닐까? 보통 사람의 숨은 허욕이 없다면 주택복권이나 올림픽복권이 그렇게 큰 이익을 올릴 수는 없을 것이다. 이 풍진세상風塵世上에서 노력한 만큼만 잘살기를 바라고 딴 욕심이 없다면 그건 보통 사람을 훨씬 넘은 성인의 경지이다.  그럼 진짜 보통 사람은 어디 있는 것일까? 과연 있기는 있는 것일까? 보통 사람이란 평균 점수처럼 어떤 집단을 대표하고 싶어 하는 가공의 숫자일 뿐, 실지로 존재하는 것은 아닐지도 모른다.- 박완서 '모래알만한 진실이라도'\n",
            "럼나 한편 냉정히 생각해보면 큰 욕심 안 부리고 노력한 것만큼만 잘살아보겠다는 게 과연 보통 사람의 경지일까? 보통 사람이란 평절한 욕망을 한 장의 올림픽복권에 걸고 일주일 동안 행복하고 허황된 꿈을 꾸는 사람이 아닐까? 보통 사람의 숨은 허욕이 없다면 주택복권이나 올림픽복권이 그렇게 큰 이익을 올릴 수는 없을 것이다. 이 풍진세상風塵世上에서 노력한 만큼만 잘살기를 바라고 딴 욕심이 없다면 그건 보통 사람을 훨씬 넘은 성인의 경지이다.  그럼 진짜 보통 사람은 어디 있는 것일까? 과연 있기는 있는 것일까? 보통 사람이란 평균 점수처럼 어떤 집단을 대표하고 싶어 하는 가공의 숫자일 뿐, 실지로 존재하는 것은 아닐지도 모른다.- 박완서 '모래알만한 진실이라도'\n",
            "럼나 한편 냉정히 생각해보면 큰 욕심 안 부리고 노력한 것만큼만 잘살아보겠다는 게 과연 보통 사람의 경지일까? 보통 사람이란 평절한 욕망을 한 장의 올림픽복권에 걸고 일주일 동안 행복하고 허황된 꿈을 꾸는 사람이 아닐까? 보통 사람의 숨은 허욕이 없다면 주택복권이나 올림픽복권이 그렇게 큰 이익을 올릴 수는 없을 것이다. 이 풍진세상風塵世上에서 노력한 만큼만 잘살기를 바라고 딴 욕심이 없다면 그건 보통 사람을 훨씬 넘은 성인의 경지이다.  그럼 진짜 보통 사람은 어디 있는 것일까? 과연 있기는 있는 것일까? 보통 사람이란 평균 점수처럼 어떤 집단을 대표하고 싶어 하는 가공의 숫자일 뿐, 실지로 존재하는 것은 아닐지도 모른다.- 박완서 '모래알만한 진실이라도'\n",
            "럼나 한편 냉정히 생각해보면 큰 욕심 안 부리고 노력한 것만큼만 잘살아보겠다는 게 과연 보통 사람의 경지일까? 보통 사람이란 평절한 욕망을 한 장의 올림픽복권에 걸고 일주일 동안 행복하고 허황된 꿈을 꾸는 사람이 아닐까? 보통 사람의 숨은 허욕이 없다면 주택복권이나 올림픽복권이 그렇게 큰 이익을 올릴 수는 없을 것이다. 이 풍진세상風塵世上에서 노력한 만큼만 잘살기를 바라고 딴 욕심이 없다면 그건 보통 사람을 훨씬 넘은 성인의 경지이다.  그럼 진짜 보통 사람은 어디 있는 것일까? 과연 있기는 있는 것일까? 보통 사람이란 평균 점수처럼 어떤 집단을 대표하고 싶어 하는 가공의 숫자일 뿐, 실지로 존재하는 것은 아닐지도 모른다.- 박완서 '모래알만한 진실이라도'\n",
            "럼나 한편 냉정히 생각해보면 큰 욕심 안 부리고 노력한 것만큼만 잘살아보겠다는 게 과연 보통 사람의 경지일까? 보통 사람이란 평절한 욕망을 한 장의 올림픽복권에 걸고 일주일 동안 행복하고 허황된 꿈을 꾸는 사람이 아닐까? 보통 사람의 숨은 허욕이 없다면 주택복권이나 올림픽복권이 그렇게 큰 이익을 올릴 수는 없을 것이다. 이 풍진세상風塵世上에서 노력한 만큼만 잘살기를 바라고 딴 욕심이 없다면 그건 보통 사람을 훨씬 넘은 성인의 경지이다.  그럼 진짜 보통 사람은 어디 있는 것일까? 과연 있기는 있는 것일까? 보통 사람이란 평균 점수처럼 어떤 집단을 대표하고 싶어 하는 가공의 숫자일 뿐, 실지로 존재하는 것은 아닐지도 모른다.- 박완서 '모래알만한 진실이라도'\n",
            "럼나 한편 냉정히 생각해보면 큰 욕심 안 부리고 노력한 것만큼만 잘살아보겠다는 게 과연 보통 사람의 경지일까? 보통 사람이란 평절한 욕망을 한 장의 올림픽복권에 걸고 일주일 동안 행복하고 허황된 꿈을 꾸는 사람이 아닐까? 보통 사람의 숨은 허욕이 없다면 주택복권이나 올림픽복권이 그렇게 큰 이익을 올릴 수는 없을 것이다. 이 풍진세상風塵世上에서 노력한 만큼만 잘살기를 바라고 딴 욕심이 없다면 그건 보통 사람을 훨씬 넘은 성인의 경지이다.  그럼 진짜 보통 사람은 어디 있는 것일까? 과연 있기는 있는 것일까? 보통 사람이란 평균 점수처럼 어떤 집단을 대표하고 싶어 하는 가공의 숫자일 뿐, 실지로 존재하는 것은 아닐지도 모른다.- 박완서 '모래알만한 진실이라도'\n",
            "럼나 한편 냉정히 생각해보면 큰 욕심 안 부리고 노력한 것만큼만 잘살아보겠다는 게 과연 보통 사람의 경지일까? 보통 사람이란 평절한 욕망을 한 장의 올림픽복권에 걸고 일주일 동안 행복하고 허황된 꿈을 꾸는 사람이 아닐까? 보통 사람의 숨은 허욕이 없다면 주택복권이나 올림픽복권이 그렇게 큰 이익을 올릴 수는 없을 것이다. 이 풍진세상風塵世上에서 노력한 만큼만 잘살기를 바라고 딴 욕심이 없다면 그건 보통 사람을 훨씬 넘은 성인의 경지이다.  그럼 진짜 보통 사람은 어디 있는 것일까? 과연 있기는 있는 것일까? 보통 사람이란 평균 점수처럼 어떤 집단을 대표하고 싶어 하는 가공의 숫자일 뿐, 실지로 존재하는 것은 아닐지도 모른다.- 박완서 '모래알만한 진실이라도'\n",
            "럼나 한편 냉정히 생각해보면 큰 욕심 안 부리고 노력한 것만큼만 잘살아보겠다는 게 과연 보통 사람의 경지일까? 보통 사람이란 평절한 욕망을 한 장의 올림픽복권에 걸고 일주일 동안 행복하고 허황된 꿈을 꾸는 사람이 아닐까? 보통 사람의 숨은 허욕이 없다면 주택복권이나 올림픽복권이 그렇게 큰 이익을 올릴 수는 없을 것이다. 이 풍진세상風塵世上에서 노력한 만큼만 잘살기를 바라고 딴 욕심이 없다면 그건 보통 사람을 훨씬 넘은 성인의 경지이다.  그럼 진짜 보통 사람은 어디 있는 것일까? 과연 있기는 있는 것일까? 보통 사람이란 평균 점수처럼 어떤 집단을 대표하고 싶어 하는 가공의 숫자일 뿐, 실지로 존재하는 것은 아닐지도 모른다.- 박완서 '모래알만한 진실이라도'\n",
            "럼나 한편 냉정히 생각해보면 큰 욕심 안 부리고 노력한 것만큼만 잘살아보겠다는 게 과연 보통 사람의 경지일까? 보통 사람이란 평절한 욕망을 한 장의 올림픽복권에 걸고 일주일 동안 행복하고 허황된 꿈을 꾸는 사람이 아닐까? 보통 사람의 숨은 허욕이 없다면 주택복권이나 올림픽복권이 그렇게 큰 이익을 올릴 수는 없을 것이다. 이 풍진세상風塵世上에서 노력한 만큼만 잘살기를 바라고 딴 욕심이 없다면 그건 보통 사람을 훨씬 넘은 성인의 경지이다.  그럼 진짜 보통 사람은 어디 있는 것일까? 과연 있기는 있는 것일까? 보통 사람이란 평균 점수처럼 어떤 집단을 대표하고 싶어 하는 가공의 숫자일 뿐, 실지로 존재하는 것은 아닐지도 모른다.- 박완서 '모래알만한 진실이라도'\n",
            "럼나 한편 냉정히 생각해보면 큰 욕심 안 부리고 노력한 것만큼만 잘살아보겠다는 게 과연 보통 사람의 경지일까? 보통 사람이란 평절한 욕망을 한 장의 올림픽복권에 걸고 일주일 동안 행복하고 허황된 꿈을 꾸는 사람이 아닐까? 보통 사람의 숨은 허욕이 없다면 주택복권이나 올림픽복권이 그렇게 큰 이익을 올릴 수는 없을 것이다. 이 풍진세상風塵世上에서 노력한 만큼만 잘살기를 바라고 딴 욕심이 없다면 그건 보통 사람을 훨씬 넘은 성인의 경지이다.  그럼 진짜 보통 사람은 어디 있는 것일까? 과연 있기는 있는 것일까? 보통 사람이란 평균 점수처럼 어떤 집단을 대표하고 싶어 하는 가공의 숫자일 뿐, 실지로 존재하는 것은 아닐지도 모른다.- 박완서 '모래알만한 진실이라도'\n",
            "럼나 한편 냉정히 생각해보면 큰 욕심 안 부리고 노력한 것만큼만 잘살아보겠다는 게 과연 보통 사람의 경지일까? 보통 사람이란 평절한 욕망을 한 장의 올림픽복권에 걸고 일주일 동안 행복하고 허황된 꿈을 꾸는 사람이 아닐까? 보통 사람의 숨은 허욕이 없다면 주택복권이나 올림픽복권이 그렇게 큰 이익을 올릴 수는 없을 것이다. 이 풍진세상風塵世上에서 노력한 만큼만 잘살기를 바라고 딴 욕심이 없다면 그건 보통 사람을 훨씬 넘은 성인의 경지이다.  그럼 진짜 보통 사람은 어디 있는 것일까? 과연 있기는 있는 것일까? 보통 사람이란 평균 점수처럼 어떤 집단을 대표하고 싶어 하는 가공의 숫자일 뿐, 실지로 존재하는 것은 아닐지도 모른다.- 박완서 '모래알만한 진실이라도'\n",
            "럼나 한편 냉정히 생각해보면 큰 욕심 안 부리고 노력한 것만큼만 잘살아보겠다는 게 과연 보통 사람의 경지일까? 보통 사람이란 평절한 욕망을 한 장의 올림픽복권에 걸고 일주일 동안 행복하고 허황된 꿈을 꾸는 사람이 아닐까? 보통 사람의 숨은 허욕이 없다면 주택복권이나 올림픽복권이 그렇게 큰 이익을 올릴 수는 없을 것이다. 이 풍진세상風塵世上에서 노력한 만큼만 잘살기를 바라고 딴 욕심이 없다면 그건 보통 사람을 훨씬 넘은 성인의 경지이다.  그럼 진짜 보통 사람은 어디 있는 것일까? 과연 있기는 있는 것일까? 보통 사람이란 평균 점수처럼 어떤 집단을 대표하고 싶어 하는 가공의 숫자일 뿐, 실지로 존재하는 것은 아닐지도 모른다.- 박완서 '모래알만한 진실이라도'\n",
            "럼나 한편 냉정히 생각해보면 큰 욕심 안 부리고 노력한 것만큼만 잘살아보겠다는 게 과연 보통 사람의 경지일까? 보통 사람이란 평절한 욕망을 한 장의 올림픽복권에 걸고 일주일 동안 행복하고 허황된 꿈을 꾸는 사람이 아닐까? 보통 사람의 숨은 허욕이 없다면 주택복권이나 올림픽복권이 그렇게 큰 이익을 올릴 수는 없을 것이다. 이 풍진세상風塵世上에서 노력한 만큼만 잘살기를 바라고 딴 욕심이 없다면 그건 보통 사람을 훨씬 넘은 성인의 경지이다.  그럼 진짜 보통 사람은 어디 있는 것일까? 과연 있기는 있는 것일까? 보통 사람이란 평균 점수처럼 어떤 집단을 대표하고 싶어 하는 가공의 숫자일 뿐, 실지로 존재하는 것은 아닐지도 모른다.- 박완서 '모래알만한 진실이라도'\n",
            "럼나 한편 냉정히 생각해보면 큰 욕심 안 부리고 노력한 것만큼만 잘살아보겠다는 게 과연 보통 사람의 경지일까? 보통 사람이란 평절한 욕망을 한 장의 올림픽복권에 걸고 일주일 동안 행복하고 허황된 꿈을 꾸는 사람이 아닐까? 보통 사람의 숨은 허욕이 없다면 주택복권이나 올림픽복권이 그렇게 큰 이익을 올릴 수는 없을 것이다. 이 풍진세상風塵世上에서 노력한 만큼만 잘살기를 바라고 딴 욕심이 없다면 그건 보통 사람을 훨씬 넘은 성인의 경지이다.  그럼 진짜 보통 사람은 어디 있는 것일까? 과연 있기는 있는 것일까? 보통 사람이란 평균 점수처럼 어떤 집단을 대표하고 싶어 하는 가공의 숫자일 뿐, 실지로 존재하는 것은 아닐지도 모른다.- 박완서 '모래알만한 진실이라도'\n",
            "럼나 한편 냉정히 생각해보면 큰 욕심 안 부리고 노력한 것만큼만 잘살아보겠다는 게 과연 보통 사람의 경지일까? 보통 사람이란 평절한 욕망을 한 장의 올림픽복권에 걸고 일주일 동안 행복하고 허황된 꿈을 꾸는 사람이 아닐까? 보통 사람의 숨은 허욕이 없다면 주택복권이나 올림픽복권이 그렇게 큰 이익을 올릴 수는 없을 것이다. 이 풍진세상風塵世上에서 노력한 만큼만 잘살기를 바라고 딴 욕심이 없다면 그건 보통 사람을 훨씬 넘은 성인의 경지이다.  그럼 진짜 보통 사람은 어디 있는 것일까? 과연 있기는 있는 것일까? 보통 사람이란 평균 점수처럼 어떤 집단을 대표하고 싶어 하는 가공의 숫자일 뿐, 실지로 존재하는 것은 아닐지도 모른다.- 박완서 '모래알만한 진실이라도'\n",
            "럼나 한편 냉정히 생각해보면 큰 욕심 안 부리고 노력한 것만큼만 잘살아보겠다는 게 과연 보통 사람의 경지일까? 보통 사람이란 평절한 욕망을 한 장의 올림픽복권에 걸고 일주일 동안 행복하고 허황된 꿈을 꾸는 사람이 아닐까? 보통 사람의 숨은 허욕이 없다면 주택복권이나 올림픽복권이 그렇게 큰 이익을 올릴 수는 없을 것이다. 이 풍진세상風塵世上에서 노력한 만큼만 잘살기를 바라고 딴 욕심이 없다면 그건 보통 사람을 훨씬 넘은 성인의 경지이다.  그럼 진짜 보통 사람은 어디 있는 것일까? 과연 있기는 있는 것일까? 보통 사람이란 평균 점수처럼 어떤 집단을 대표하고 싶어 하는 가공의 숫자일 뿐, 실지로 존재하는 것은 아닐지도 모른다.- 박완서 '모래알만한 진실이라도'\n",
            "럼나 한편 냉정히 생각해보면 큰 욕심 안 부리고 노력한 것만큼만 잘살아보겠다는 게 과연 보통 사람의 경지일까? 보통 사람이란 평절한 욕망을 한 장의 올림픽복권에 걸고 일주일 동안 행복하고 허황된 꿈을 꾸는 사람이 아닐까? 보통 사람의 숨은 허욕이 없다면 주택복권이나 올림픽복권이 그렇게 큰 이익을 올릴 수는 없을 것이다. 이 풍진세상風塵世上에서 노력한 만큼만 잘살기를 바라고 딴 욕심이 없다면 그건 보통 사람을 훨씬 넘은 성인의 경지이다.  그럼 진짜 보통 사람은 어디 있는 것일까? 과연 있기는 있는 것일까? 보통 사람이란 평균 점수처럼 어떤 집단을 대표하고 싶어 하는 가공의 숫자일 뿐, 실지로 존재하는 것은 아닐지도 모른다.- 박완서 '모래알만한 진실이라도'\n",
            "럼나 한편 냉정히 생각해보면 큰 욕심 안 부리고 노력한 것만큼만 잘살아보겠다는 게 과연 보통 사람의 경지일까? 보통 사람이란 평절한 욕망을 한 장의 올림픽복권에 걸고 일주일 동안 행복하고 허황된 꿈을 꾸는 사람이 아닐까? 보통 사람의 숨은 허욕이 없다면 주택복권이나 올림픽복권이 그렇게 큰 이익을 올릴 수는 없을 것이다. 이 풍진세상風塵世上에서 노력한 만큼만 잘살기를 바라고 딴 욕심이 없다면 그건 보통 사람을 훨씬 넘은 성인의 경지이다.  그럼 진짜 보통 사람은 어디 있는 것일까? 과연 있기는 있는 것일까? 보통 사람이란 평균 점수처럼 어떤 집단을 대표하고 싶어 하는 가공의 숫자일 뿐, 실지로 존재하는 것은 아닐지도 모른다.- 박완서 '모래알만한 진실이라도'\n",
            "럼나 한편 냉정히 생각해보면 큰 욕심 안 부리고 노력한 것만큼만 잘살아보겠다는 게 과연 보통 사람의 경지일까? 보통 사람이란 평절한 욕망을 한 장의 올림픽복권에 걸고 일주일 동안 행복하고 허황된 꿈을 꾸는 사람이 아닐까? 보통 사람의 숨은 허욕이 없다면 주택복권이나 올림픽복권이 그렇게 큰 이익을 올릴 수는 없을 것이다. 이 풍진세상風塵世上에서 노력한 만큼만 잘살기를 바라고 딴 욕심이 없다면 그건 보통 사람을 훨씬 넘은 성인의 경지이다.  그럼 진짜 보통 사람은 어디 있는 것일까? 과연 있기는 있는 것일까? 보통 사람이란 평균 점수처럼 어떤 집단을 대표하고 싶어 하는 가공의 숫자일 뿐, 실지로 존재하는 것은 아닐지도 모른다.- 박완서 '모래알만한 진실이라도'\n",
            "럼나 한편 냉정히 생각해보면 큰 욕심 안 부리고 노력한 것만큼만 잘살아보겠다는 게 과연 보통 사람의 경지일까? 보통 사람이란 평절한 욕망을 한 장의 올림픽복권에 걸고 일주일 동안 행복하고 허황된 꿈을 꾸는 사람이 아닐까? 보통 사람의 숨은 허욕이 없다면 주택복권이나 올림픽복권이 그렇게 큰 이익을 올릴 수는 없을 것이다. 이 풍진세상風塵世上에서 노력한 만큼만 잘살기를 바라고 딴 욕심이 없다면 그건 보통 사람을 훨씬 넘은 성인의 경지이다.  그럼 진짜 보통 사람은 어디 있는 것일까? 과연 있기는 있는 것일까? 보통 사람이란 평균 점수처럼 어떤 집단을 대표하고 싶어 하는 가공의 숫자일 뿐, 실지로 존재하는 것은 아닐지도 모른다.- 박완서 '모래알만한 진실이라도'\n",
            "럼나 한편 냉정히 생각해보면 큰 욕심 안 부리고 노력한 것만큼만 잘살아보겠다는 게 과연 보통 사람의 경지일까? 보통 사람이란 평절한 욕망을 한 장의 올림픽복권에 걸고 일주일 동안 행복하고 허황된 꿈을 꾸는 사람이 아닐까? 보통 사람의 숨은 허욕이 없다면 주택복권이나 올림픽복권이 그렇게 큰 이익을 올릴 수는 없을 것이다. 이 풍진세상風塵世上에서 노력한 만큼만 잘살기를 바라고 딴 욕심이 없다면 그건 보통 사람을 훨씬 넘은 성인의 경지이다.  그럼 진짜 보통 사람은 어디 있는 것일까? 과연 있기는 있는 것일까? 보통 사람이란 평균 점수처럼 어떤 집단을 대표하고 싶어 하는 가공의 숫자일 뿐, 실지로 존재하는 것은 아닐지도 모른다.- 박완서 '모래알만한 진실이라도'\n",
            "럼나 한편 냉정히 생각해보면 큰 욕심 안 부리고 노력한 것만큼만 잘살아보겠다는 게 과연 보통 사람의 경지일까? 보통 사람이란 평절한 욕망을 한 장의 올림픽복권에 걸고 일주일 동안 행복하고 허황된 꿈을 꾸는 사람이 아닐까? 보통 사람의 숨은 허욕이 없다면 주택복권이나 올림픽복권이 그렇게 큰 이익을 올릴 수는 없을 것이다. 이 풍진세상風塵世上에서 노력한 만큼만 잘살기를 바라고 딴 욕심이 없다면 그건 보통 사람을 훨씬 넘은 성인의 경지이다.  그럼 진짜 보통 사람은 어디 있는 것일까? 과연 있기는 있는 것일까? 보통 사람이란 평균 점수처럼 어떤 집단을 대표하고 싶어 하는 가공의 숫자일 뿐, 실지로 존재하는 것은 아닐지도 모른다.- 박완서 '모래알만한 진실이라도'\n",
            "럼나 한편 냉정히 생각해보면 큰 욕심 안 부리고 노력한 것만큼만 잘살아보겠다는 게 과연 보통 사람의 경지일까? 보통 사람이란 평절한 욕망을 한 장의 올림픽복권에 걸고 일주일 동안 행복하고 허황된 꿈을 꾸는 사람이 아닐까? 보통 사람의 숨은 허욕이 없다면 주택복권이나 올림픽복권이 그렇게 큰 이익을 올릴 수는 없을 것이다. 이 풍진세상風塵世上에서 노력한 만큼만 잘살기를 바라고 딴 욕심이 없다면 그건 보통 사람을 훨씬 넘은 성인의 경지이다.  그럼 진짜 보통 사람은 어디 있는 것일까? 과연 있기는 있는 것일까? 보통 사람이란 평균 점수처럼 어떤 집단을 대표하고 싶어 하는 가공의 숫자일 뿐, 실지로 존재하는 것은 아닐지도 모른다.- 박완서 '모래알만한 진실이라도'\n",
            "럼나 한편 냉정히 생각해보면 큰 욕심 안 부리고 노력한 것만큼만 잘살아보겠다는 게 과연 보통 사람의 경지일까? 보통 사람이란 평절한 욕망을 한 장의 올림픽복권에 걸고 일주일 동안 행복하고 허황된 꿈을 꾸는 사람이 아닐까? 보통 사람의 숨은 허욕이 없다면 주택복권이나 올림픽복권이 그렇게 큰 이익을 올릴 수는 없을 것이다. 이 풍진세상風塵世上에서 노력한 만큼만 잘살기를 바라고 딴 욕심이 없다면 그건 보통 사람을 훨씬 넘은 성인의 경지이다.  그럼 진짜 보통 사람은 어디 있는 것일까? 과연 있기는 있는 것일까? 보통 사람이란 평균 점수처럼 어떤 집단을 대표하고 싶어 하는 가공의 숫자일 뿐, 실지로 존재하는 것은 아닐지도 모른다.- 박완서 '모래알만한 진실이라도'\n",
            "럼나 한편 냉정히 생각해보면 큰 욕심 안 부리고 노력한 것만큼만 잘살아보겠다는 게 과연 보통 사람의 경지일까? 보통 사람이란 평절한 욕망을 한 장의 올림픽복권에 걸고 일주일 동안 행복하고 허황된 꿈을 꾸는 사람이 아닐까? 보통 사람의 숨은 허욕이 없다면 주택복권이나 올림픽복권이 그렇게 큰 이익을 올릴 수는 없을 것이다. 이 풍진세상風塵世上에서 노력한 만큼만 잘살기를 바라고 딴 욕심이 없다면 그건 보통 사람을 훨씬 넘은 성인의 경지이다.  그럼 진짜 보통 사람은 어디 있는 것일까? 과연 있기는 있는 것일까? 보통 사람이란 평균 점수처럼 어떤 집단을 대표하고 싶어 하는 가공의 숫자일 뿐, 실지로 존재하는 것은 아닐지도 모른다.- 박완서 '모래알만한 진실이라도'\n",
            "럼나 한편 냉정히 생각해보면 큰 욕심 안 부리고 노력한 것만큼만 잘살아보겠다는 게 과연 보통 사람의 경지일까? 보통 사람이란 평절한 욕망을 한 장의 올림픽복권에 걸고 일주일 동안 행복하고 허황된 꿈을 꾸는 사람이 아닐까? 보통 사람의 숨은 허욕이 없다면 주택복권이나 올림픽복권이 그렇게 큰 이익을 올릴 수는 없을 것이다. 이 풍진세상風塵世上에서 노력한 만큼만 잘살기를 바라고 딴 욕심이 없다면 그건 보통 사람을 훨씬 넘은 성인의 경지이다.  그럼 진짜 보통 사람은 어디 있는 것일까? 과연 있기는 있는 것일까? 보통 사람이란 평균 점수처럼 어떤 집단을 대표하고 싶어 하는 가공의 숫자일 뿐, 실지로 존재하는 것은 아닐지도 모른다.- 박완서 '모래알만한 진실이라도'\n",
            "럼나 한편 냉정히 생각해보면 큰 욕심 안 부리고 노력한 것만큼만 잘살아보겠다는 게 과연 보통 사람의 경지일까? 보통 사람이란 평절한 욕망을 한 장의 올림픽복권에 걸고 일주일 동안 행복하고 허황된 꿈을 꾸는 사람이 아닐까? 보통 사람의 숨은 허욕이 없다면 주택복권이나 올림픽복권이 그렇게 큰 이익을 올릴 수는 없을 것이다. 이 풍진세상風塵世上에서 노력한 만큼만 잘살기를 바라고 딴 욕심이 없다면 그건 보통 사람을 훨씬 넘은 성인의 경지이다.  그럼 진짜 보통 사람은 어디 있는 것일까? 과연 있기는 있는 것일까? 보통 사람이란 평균 점수처럼 어떤 집단을 대표하고 싶어 하는 가공의 숫자일 뿐, 실지로 존재하는 것은 아닐지도 모른다.- 박완서 '모래알만한 진실이라도'\n",
            "럼나 한편 냉정히 생각해보면 큰 욕심 안 부리고 노력한 것만큼만 잘살아보겠다는 게 과연 보통 사람의 경지일까? 보통 사람이란 평절한 욕망을 한 장의 올림픽복권에 걸고 일주일 동안 행복하고 허황된 꿈을 꾸는 사람이 아닐까? 보통 사람의 숨은 허욕이 없다면 주택복권이나 올림픽복권이 그렇게 큰 이익을 올릴 수는 없을 것이다. 이 풍진세상風塵世上에서 노력한 만큼만 잘살기를 바라고 딴 욕심이 없다면 그건 보통 사람을 훨씬 넘은 성인의 경지이다.  그럼 진짜 보통 사람은 어디 있는 것일까? 과연 있기는 있는 것일까? 보통 사람이란 평균 점수처럼 어떤 집단을 대표하고 싶어 하는 가공의 숫자일 뿐, 실지로 존재하는 것은 아닐지도 모른다.- 박완서 '모래알만한 진실이라도'\n",
            "럼나 한편 냉정히 생각해보면 큰 욕심 안 부리고 노력한 것만큼만 잘살아보겠다는 게 과연 보통 사람의 경지일까? 보통 사람이란 평절한 욕망을 한 장의 올림픽복권에 걸고 일주일 동안 행복하고 허황된 꿈을 꾸는 사람이 아닐까? 보통 사람의 숨은 허욕이 없다면 주택복권이나 올림픽복권이 그렇게 큰 이익을 올릴 수는 없을 것이다. 이 풍진세상風塵世上에서 노력한 만큼만 잘살기를 바라고 딴 욕심이 없다면 그건 보통 사람을 훨씬 넘은 성인의 경지이다.  그럼 진짜 보통 사람은 어디 있는 것일까? 과연 있기는 있는 것일까? 보통 사람이란 평균 점수처럼 어떤 집단을 대표하고 싶어 하는 가공의 숫자일 뿐, 실지로 존재하는 것은 아닐지도 모른다.- 박완서 '모래알만한 진실이라도'\n",
            "럼나 한편 냉정히 생각해보면 큰 욕심 안 부리고 노력한 것만큼만 잘살아보겠다는 게 과연 보통 사람의 경지일까? 보통 사람이란 평절한 욕망을 한 장의 올림픽복권에 걸고 일주일 동안 행복하고 허황된 꿈을 꾸는 사람이 아닐까? 보통 사람의 숨은 허욕이 없다면 주택복권이나 올림픽복권이 그렇게 큰 이익을 올릴 수는 없을 것이다. 이 풍진세상風塵世上에서 노력한 만큼만 잘살기를 바라고 딴 욕심이 없다면 그건 보통 사람을 훨씬 넘은 성인의 경지이다.  그럼 진짜 보통 사람은 어디 있는 것일까? 과연 있기는 있는 것일까? 보통 사람이란 평균 점수처럼 어떤 집단을 대표하고 싶어 하는 가공의 숫자일 뿐, 실지로 존재하는 것은 아닐지도 모른다.- 박완서 '모래알만한 진실이라도'\n",
            "럼나 한편 냉정히 생각해보면 큰 욕심 안 부리고 노력한 것만큼만 잘살아보겠다는 게 과연 보통 사람의 경지일까? 보통 사람이란 평절한 욕망을 한 장의 올림픽복권에 걸고 일주일 동안 행복하고 허황된 꿈을 꾸는 사람이 아닐까? 보통 사람의 숨은 허욕이 없다면 주택복권이나 올림픽복권이 그렇게 큰 이익을 올릴 수는 없을 것이다. 이 풍진세상風塵世上에서 노력한 만큼만 잘살기를 바라고 딴 욕심이 없다면 그건 보통 사람을 훨씬 넘은 성인의 경지이다.  그럼 진짜 보통 사람은 어디 있는 것일까? 과연 있기는 있는 것일까? 보통 사람이란 평균 점수처럼 어떤 집단을 대표하고 싶어 하는 가공의 숫자일 뿐, 실지로 존재하는 것은 아닐지도 모른다.- 박완서 '모래알만한 진실이라도'\n",
            "럼나 한편 냉정히 생각해보면 큰 욕심 안 부리고 노력한 것만큼만 잘살아보겠다는 게 과연 보통 사람의 경지일까? 보통 사람이란 평절한 욕망을 한 장의 올림픽복권에 걸고 일주일 동안 행복하고 허황된 꿈을 꾸는 사람이 아닐까? 보통 사람의 숨은 허욕이 없다면 주택복권이나 올림픽복권이 그렇게 큰 이익을 올릴 수는 없을 것이다. 이 풍진세상風塵世上에서 노력한 만큼만 잘살기를 바라고 딴 욕심이 없다면 그건 보통 사람을 훨씬 넘은 성인의 경지이다.  그럼 진짜 보통 사람은 어디 있는 것일까? 과연 있기는 있는 것일까? 보통 사람이란 평균 점수처럼 어떤 집단을 대표하고 싶어 하는 가공의 숫자일 뿐, 실지로 존재하는 것은 아닐지도 모른다.- 박완서 '모래알만한 진실이라도'\n",
            "럼나 한편 냉정히 생각해보면 큰 욕심 안 부리고 노력한 것만큼만 잘살아보겠다는 게 과연 보통 사람의 경지일까? 보통 사람이란 평절한 욕망을 한 장의 올림픽복권에 걸고 일주일 동안 행복하고 허황된 꿈을 꾸는 사람이 아닐까? 보통 사람의 숨은 허욕이 없다면 주택복권이나 올림픽복권이 그렇게 큰 이익을 올릴 수는 없을 것이다. 이 풍진세상風塵世上에서 노력한 만큼만 잘살기를 바라고 딴 욕심이 없다면 그건 보통 사람을 훨씬 넘은 성인의 경지이다.  그럼 진짜 보통 사람은 어디 있는 것일까? 과연 있기는 있는 것일까? 보통 사람이란 평균 점수처럼 어떤 집단을 대표하고 싶어 하는 가공의 숫자일 뿐, 실지로 존재하는 것은 아닐지도 모른다.- 박완서 '모래알만한 진실이라도'\n",
            "럼나 한편 냉정히 생각해보면 큰 욕심 안 부리고 노력한 것만큼만 잘살아보겠다는 게 과연 보통 사람의 경지일까? 보통 사람이란 평절한 욕망을 한 장의 올림픽복권에 걸고 일주일 동안 행복하고 허황된 꿈을 꾸는 사람이 아닐까? 보통 사람의 숨은 허욕이 없다면 주택복권이나 올림픽복권이 그렇게 큰 이익을 올릴 수는 없을 것이다. 이 풍진세상風塵世上에서 노력한 만큼만 잘살기를 바라고 딴 욕심이 없다면 그건 보통 사람을 훨씬 넘은 성인의 경지이다.  그럼 진짜 보통 사람은 어디 있는 것일까? 과연 있기는 있는 것일까? 보통 사람이란 평균 점수처럼 어떤 집단을 대표하고 싶어 하는 가공의 숫자일 뿐, 실지로 존재하는 것은 아닐지도 모른다.- 박완서 '모래알만한 진실이라도'\n",
            "럼나 한편 냉정히 생각해보면 큰 욕심 안 부리고 노력한 것만큼만 잘살아보겠다는 게 과연 보통 사람의 경지일까? 보통 사람이란 평절한 욕망을 한 장의 올림픽복권에 걸고 일주일 동안 행복하고 허황된 꿈을 꾸는 사람이 아닐까? 보통 사람의 숨은 허욕이 없다면 주택복권이나 올림픽복권이 그렇게 큰 이익을 올릴 수는 없을 것이다. 이 풍진세상風塵世上에서 노력한 만큼만 잘살기를 바라고 딴 욕심이 없다면 그건 보통 사람을 훨씬 넘은 성인의 경지이다.  그럼 진짜 보통 사람은 어디 있는 것일까? 과연 있기는 있는 것일까? 보통 사람이란 평균 점수처럼 어떤 집단을 대표하고 싶어 하는 가공의 숫자일 뿐, 실지로 존재하는 것은 아닐지도 모른다.- 박완서 '모래알만한 진실이라도'\n",
            "럼나 한편 냉정히 생각해보면 큰 욕심 안 부리고 노력한 것만큼만 잘살아보겠다는 게 과연 보통 사람의 경지일까? 보통 사람이란 평절한 욕망을 한 장의 올림픽복권에 걸고 일주일 동안 행복하고 허황된 꿈을 꾸는 사람이 아닐까? 보통 사람의 숨은 허욕이 없다면 주택복권이나 올림픽복권이 그렇게 큰 이익을 올릴 수는 없을 것이다. 이 풍진세상風塵世上에서 노력한 만큼만 잘살기를 바라고 딴 욕심이 없다면 그건 보통 사람을 훨씬 넘은 성인의 경지이다.  그럼 진짜 보통 사람은 어디 있는 것일까? 과연 있기는 있는 것일까? 보통 사람이란 평균 점수처럼 어떤 집단을 대표하고 싶어 하는 가공의 숫자일 뿐, 실지로 존재하는 것은 아닐지도 모른다.- 박완서 '모래알만한 진실이라도'\n",
            "럼나 한편 냉정히 생각해보면 큰 욕심 안 부리고 노력한 것만큼만 잘살아보겠다는 게 과연 보통 사람의 경지일까? 보통 사람이란 좌절한 욕망을 한 장의 올림픽복권에 걸고 일주일 동안 행복하고 허황된 꿈을 꾸는 사람이 아닐까? 보통 사람의 숨은 허욕이 없다면 주택복권이나 올림픽복권이 그렇게 큰 이익을 올릴 수는 없을 것이다. 이 풍진세상風塵世上에서 노력한 만큼만 잘살기를 바라고 딴 욕심이 없다면 그건 보통 사람을 훨씬 넘은 성인의 경지이다.  그럼 진짜 보통 사람은 어디 있는 것일까? 과연 있기는 있는 것일까? 보통 사람이란 좌균 점수처럼 어떤 집단을 대표하고 싶어 하는 가공의 숫자일 뿐, 실지로 존재하는 것은 아닐지도 모른다.- 박완서 '모래알만한 진실이라도'\n",
            "럼나 한편 냉정히 생각해보면 큰 욕심 안 부리고 노력한 것만큼만 잘살아보겠다는 게 과연 보통 사람의 경지일까? 보통 사람이란 좌절한 욕망을 한 장의 올림픽복권에 걸고 일주일 동안 행복하고 허황된 꿈을 꾸는 사람이 아닐까? 보통 사람의 숨은 허욕이 없다면 주택복권이나 올림픽복권이 그렇게 큰 이익을 올릴 수는 없을 것이다. 이 풍진세상風塵世上에서 노력한 만큼만 잘살기를 바라고 딴 욕심이 없다면 그건 보통 사람을 훨씬 넘은 성인의 경지이다.  그럼 진짜 보통 사람은 어디 있는 것일까? 과연 있기는 있는 것일까? 보통 사람이란 좌균 점수처럼 어떤 집단을 대표하고 싶어 하는 가공의 숫자일 뿐, 실지로 존재하는 것은 아닐지도 모른다.- 박완서 '모래알만한 진실이라도'\n",
            "럼나 한편 냉정히 생각해보면 큰 욕심 안 부리고 노력한 것만큼만 잘살아보겠다는 게 과연 보통 사람의 경지일까? 보통 사람이란 좌절한 욕망을 한 장의 올림픽복권에 걸고 일주일 동안 행복하고 허황된 꿈을 꾸는 사람이 아닐까? 보통 사람의 숨은 허욕이 없다면 주택복권이나 올림픽복권이 그렇게 큰 이익을 올릴 수는 없을 것이다. 이 풍진세상風塵世上에서 노력한 만큼만 잘살기를 바라고 딴 욕심이 없다면 그건 보통 사람을 훨씬 넘은 성인의 경지이다.  그럼 진짜 보통 사람은 어디 있는 것일까? 과연 있기는 있는 것일까? 보통 사람이란 좌균 점수처럼 어떤 집단을 대표하고 싶어 하는 가공의 숫자일 뿐, 실지로 존재하는 것은 아닐지도 모른다.- 박완서 '모래알만한 진실이라도'\n",
            "럼나 한편 냉정히 생각해보면 큰 욕심 안 부리고 노력한 것만큼만 잘살아보겠다는 게 과연 보통 사람의 경지일까? 보통 사람이란 좌절한 욕망을 한 장의 올림픽복권에 걸고 일주일 동안 행복하고 허황된 꿈을 꾸는 사람이 아닐까? 보통 사람의 숨은 허욕이 없다면 주택복권이나 올림픽복권이 그렇게 큰 이익을 올릴 수는 없을 것이다. 이 풍진세상風塵世上에서 노력한 만큼만 잘살기를 바라고 딴 욕심이 없다면 그건 보통 사람을 훨씬 넘은 성인의 경지이다.  그럼 진짜 보통 사람은 어디 있는 것일까? 과연 있기는 있는 것일까? 보통 사람이란 좌균 점수처럼 어떤 집단을 대표하고 싶어 하는 가공의 숫자일 뿐, 실지로 존재하는 것은 아닐지도 모른다.- 박완서 '모래알만한 진실이라도'\n",
            "럼나 한편 냉정히 생각해보면 큰 욕심 안 부리고 노력한 것만큼만 잘살아보겠다는 게 과연 보통 사람의 경지일까? 보통 사람이란 좌절한 욕망을 한 장의 올림픽복권에 걸고 일주일 동안 행복하고 허황된 꿈을 꾸는 사람이 아닐까? 보통 사람의 숨은 허욕이 없다면 주택복권이나 올림픽복권이 그렇게 큰 이익을 올릴 수는 없을 것이다. 이 풍진세상風塵世上에서 노력한 만큼만 잘살기를 바라고 딴 욕심이 없다면 그건 보통 사람을 훨씬 넘은 성인의 경지이다.  그럼 진짜 보통 사람은 어디 있는 것일까? 과연 있기는 있는 것일까? 보통 사람이란 좌균 점수처럼 어떤 집단을 대표하고 싶어 하는 가공의 숫자일 뿐, 실지로 존재하는 것은 아닐지도 모른다.- 박완서 '모래알만한 진실이라도'\n",
            "럼나 한편 냉정히 생각해보면 큰 욕심 안 부리고 노력한 것만큼만 잘살아보겠다는 게 과연 보통 사람의 경지일까? 보통 사람이란 좌절한 욕망을 한 장의 올림픽복권에 걸고 일주일 동안 행복하고 허황된 꿈을 꾸는 사람이 아닐까? 보통 사람의 숨은 허욕이 없다면 주택복권이나 올림픽복권이 그렇게 큰 이익을 올릴 수는 없을 것이다. 이 풍진세상風塵世上에서 노력한 만큼만 잘살기를 바라고 딴 욕심이 없다면 그건 보통 사람을 훨씬 넘은 성인의 경지이다.  그럼 진짜 보통 사람은 어디 있는 것일까? 과연 있기는 있는 것일까? 보통 사람이란 좌균 점수처럼 어떤 집단을 대표하고 싶어 하는 가공의 숫자일 뿐, 실지로 존재하는 것은 아닐지도 모른다.- 박완서 '모래알만한 진실이라도'\n",
            "럼나 한편 냉정히 생각해보면 큰 욕심 안 부리고 노력한 것만큼만 잘살아보겠다는 게 과연 보통 사람의 경지일까? 보통 사람이란 좌절한 욕망을 한 장의 올림픽복권에 걸고 일주일 동안 행복하고 허황된 꿈을 꾸는 사람이 아닐까? 보통 사람의 숨은 허욕이 없다면 주택복권이나 올림픽복권이 그렇게 큰 이익을 올릴 수는 없을 것이다. 이 풍진세상風塵世上에서 노력한 만큼만 잘살기를 바라고 딴 욕심이 없다면 그건 보통 사람을 훨씬 넘은 성인의 경지이다.  그럼 진짜 보통 사람은 어디 있는 것일까? 과연 있기는 있는 것일까? 보통 사람이란 좌균 점수처럼 어떤 집단을 대표하고 싶어 하는 가공의 숫자일 뿐, 실지로 존재하는 것은 아닐지도 모른다.- 박완서 '모래알만한 진실이라도'\n",
            "럼나 한편 냉정히 생각해보면 큰 욕심 안 부리고 노력한 것만큼만 잘살아보겠다는 게 과연 보통 사람의 경지일까? 보통 사람이란 좌절한 욕망을 한 장의 올림픽복권에 걸고 일주일 동안 행복하고 허황된 꿈을 꾸는 사람이 아닐까? 보통 사람의 숨은 허욕이 없다면 주택복권이나 올림픽복권이 그렇게 큰 이익을 올릴 수는 없을 것이다. 이 풍진세상風塵世上에서 노력한 만큼만 잘살기를 바라고 딴 욕심이 없다면 그건 보통 사람을 훨씬 넘은 성인의 경지이다.  그럼 진짜 보통 사람은 어디 있는 것일까? 과연 있기는 있는 것일까? 보통 사람이란 좌균 점수처럼 어떤 집단을 대표하고 싶어 하는 가공의 숫자일 뿐, 실지로 존재하는 것은 아닐지도 모른다.- 박완서 '모래알만한 진실이라도'\n",
            "럼나 한편 냉정히 생각해보면 큰 욕심 안 부리고 노력한 것만큼만 잘살아보겠다는 게 과연 보통 사람의 경지일까? 보통 사람이란 좌절한 욕망을 한 장의 올림픽복권에 걸고 일주일 동안 행복하고 허황된 꿈을 꾸는 사람이 아닐까? 보통 사람의 숨은 허욕이 없다면 주택복권이나 올림픽복권이 그렇게 큰 이익을 올릴 수는 없을 것이다. 이 풍진세상風塵世上에서 노력한 만큼만 잘살기를 바라고 딴 욕심이 없다면 그건 보통 사람을 훨씬 넘은 성인의 경지이다.  그럼 진짜 보통 사람은 어디 있는 것일까? 과연 있기는 있는 것일까? 보통 사람이란 좌균 점수처럼 어떤 집단을 대표하고 싶어 하는 가공의 숫자일 뿐, 실지로 존재하는 것은 아닐지도 모른다.- 박완서 '모래알만한 진실이라도'\n",
            "럼나 한편 냉정히 생각해보면 큰 욕심 안 부리고 노력한 것만큼만 잘살아보겠다는 게 과연 보통 사람의 경지일까? 보통 사람이란 좌절한 욕망을 한 장의 올림픽복권에 걸고 일주일 동안 행복하고 허황된 꿈을 꾸는 사람이 아닐까? 보통 사람의 숨은 허욕이 없다면 주택복권이나 올림픽복권이 그렇게 큰 이익을 올릴 수는 없을 것이다. 이 풍진세상風塵世上에서 노력한 만큼만 잘살기를 바라고 딴 욕심이 없다면 그건 보통 사람을 훨씬 넘은 성인의 경지이다.  그럼 진짜 보통 사람은 어디 있는 것일까? 과연 있기는 있는 것일까? 보통 사람이란 좌균 점수처럼 어떤 집단을 대표하고 싶어 하는 가공의 숫자일 뿐, 실지로 존재하는 것은 아닐지도 모른다.- 박완서 '모래알만한 진실이라도'\n",
            "럼나 한편 냉정히 생각해보면 큰 욕심 안 부리고 노력한 것만큼만 잘살아보겠다는 게 과연 보통 사람의 경지일까? 보통 사람이란 좌절한 욕망을 한 장의 올림픽복권에 걸고 일주일 동안 행복하고 허황된 꿈을 꾸는 사람이 아닐까? 보통 사람의 숨은 허욕이 없다면 주택복권이나 올림픽복권이 그렇게 큰 이익을 올릴 수는 없을 것이다. 이 풍진세상風塵世上에서 노력한 만큼만 잘살기를 바라고 딴 욕심이 없다면 그건 보통 사람을 훨씬 넘은 성인의 경지이다.  그럼 진짜 보통 사람은 어디 있는 것일까? 과연 있기는 있는 것일까? 보통 사람이란 좌균 점수처럼 어떤 집단을 대표하고 싶어 하는 가공의 숫자일 뿐, 실지로 존재하는 것은 아닐지도 모른다.- 박완서 '모래알만한 진실이라도'\n",
            "럼나 한편 냉정히 생각해보면 큰 욕심 안 부리고 노력한 것만큼만 잘살아보겠다는 게 과연 보통 사람의 경지일까? 보통 사람이란 좌절한 욕망을 한 장의 올림픽복권에 걸고 일주일 동안 행복하고 허황된 꿈을 꾸는 사람이 아닐까? 보통 사람의 숨은 허욕이 없다면 주택복권이나 올림픽복권이 그렇게 큰 이익을 올릴 수는 없을 것이다. 이 풍진세상風塵世上에서 노력한 만큼만 잘살기를 바라고 딴 욕심이 없다면 그건 보통 사람을 훨씬 넘은 성인의 경지이다.  그럼 진짜 보통 사람은 어디 있는 것일까? 과연 있기는 있는 것일까? 보통 사람이란 좌균 점수처럼 어떤 집단을 대표하고 싶어 하는 가공의 숫자일 뿐, 실지로 존재하는 것은 아닐지도 모른다.- 박완서 '모래알만한 진실이라도'\n",
            "럼나 한편 냉정히 생각해보면 큰 욕심 안 부리고 노력한 것만큼만 잘살아보겠다는 게 과연 보통 사람의 경지일까? 보통 사람이란 좌절한 욕망을 한 장의 올림픽복권에 걸고 일주일 동안 행복하고 허황된 꿈을 꾸는 사람이 아닐까? 보통 사람의 숨은 허욕이 없다면 주택복권이나 올림픽복권이 그렇게 큰 이익을 올릴 수는 없을 것이다. 이 풍진세상風塵世上에서 노력한 만큼만 잘살기를 바라고 딴 욕심이 없다면 그건 보통 사람을 훨씬 넘은 성인의 경지이다.  그럼 진짜 보통 사람은 어디 있는 것일까? 과연 있기는 있는 것일까? 보통 사람이란 좌균 점수처럼 어떤 집단을 대표하고 싶어 하는 가공의 숫자일 뿐, 실지로 존재하는 것은 아닐지도 모른다.- 박완서 '모래알만한 진실이라도'\n",
            "럼나 한편 냉정히 생각해보면 큰 욕심 안 부리고 노력한 것만큼만 잘살아보겠다는 게 과연 보통 사람의 경지일까? 보통 사람이란 좌절한 욕망을 한 장의 올림픽복권에 걸고 일주일 동안 행복하고 허황된 꿈을 꾸는 사람이 아닐까? 보통 사람의 숨은 허욕이 없다면 주택복권이나 올림픽복권이 그렇게 큰 이익을 올릴 수는 없을 것이다. 이 풍진세상風塵世上에서 노력한 만큼만 잘살기를 바라고 딴 욕심이 없다면 그건 보통 사람을 훨씬 넘은 성인의 경지이다.  그럼 진짜 보통 사람은 어디 있는 것일까? 과연 있기는 있는 것일까? 보통 사람이란 좌균 점수처럼 어떤 집단을 대표하고 싶어 하는 가공의 숫자일 뿐, 실지로 존재하는 것은 아닐지도 모른다.- 박완서 '모래알만한 진실이라도'\n",
            "럼나 한편 냉정히 생각해보면 큰 욕심 안 부리고 노력한 것만큼만 잘살아보겠다는 게 과연 보통 사람의 경지일까? 보통 사람이란 평절한 욕망을 한 장의 올림픽복권에 걸고 일주일 동안 행복하고 허황된 꿈을 꾸는 사람이 아닐까? 보통 사람의 숨은 허욕이 없다면 주택복권이나 올림픽복권이 그렇게 큰 이익을 올릴 수는 없을 것이다. 이 풍진세상風塵世上에서 노력한 만큼만 잘살기를 바라고 딴 욕심이 없다면 그건 보통 사람을 훨씬 넘은 성인의 경지이다.  그럼 진짜 보통 사람은 어디 있는 것일까? 과연 있기는 있는 것일까? 보통 사람이란 평균 점수처럼 어떤 집단을 대표하고 싶어 하는 가공의 숫자일 뿐, 실지로 존재하는 것은 아닐지도 모른다.- 박완서 '모래알만한 진실이라도'\n",
            "럼나 한편 냉정히 생각해보면 큰 욕심 안 부리고 노력한 것만큼만 잘살아보겠다는 게 과연 보통 사람의 경지일까? 보통 사람이란 평절한 욕망을 한 장의 올림픽복권에 걸고 일주일 동안 행복하고 허황된 꿈을 꾸는 사람이 아닐까? 보통 사람의 숨은 허욕이 없다면 주택복권이나 올림픽복권이 그렇게 큰 이익을 올릴 수는 없을 것이다. 이 풍진세상風塵世上에서 노력한 만큼만 잘살기를 바라고 딴 욕심이 없다면 그건 보통 사람을 훨씬 넘은 성인의 경지이다.  그럼 진짜 보통 사람은 어디 있는 것일까? 과연 있기는 있는 것일까? 보통 사람이란 평균 점수처럼 어떤 집단을 대표하고 싶어 하는 가공의 숫자일 뿐, 실지로 존재하는 것은 아닐지도 모른다.- 박완서 '모래알만한 진실이라도'\n",
            "럼나 한편 냉정히 생각해보면 큰 욕심 안 부리고 노력한 것만큼만 잘살아보겠다는 게 과연 보통 사람의 경지일까? 보통 사람이란 평절한 욕망을 한 장의 올림픽복권에 걸고 일주일 동안 행복하고 허황된 꿈을 꾸는 사람이 아닐까? 보통 사람의 숨은 허욕이 없다면 주택복권이나 올림픽복권이 그렇게 큰 이익을 올릴 수는 없을 것이다. 이 풍진세상風塵世上에서 노력한 만큼만 잘살기를 바라고 딴 욕심이 없다면 그건 보통 사람을 훨씬 넘은 성인의 경지이다.  그럼 진짜 보통 사람은 어디 있는 것일까? 과연 있기는 있는 것일까? 보통 사람이란 평균 점수처럼 어떤 집단을 대표하고 싶어 하는 가공의 숫자일 뿐, 실지로 존재하는 것은 아닐지도 모른다.- 박완서 '모래알만한 진실이라도'\n"
          ]
        }
      ]
    },
    {
      "cell_type": "code",
      "source": [
        "sentence"
      ],
      "metadata": {
        "colab": {
          "base_uri": "https://localhost:8080/",
          "height": 71
        },
        "id": "Qr9ReSFSgFKJ",
        "outputId": "dd2a097c-cd63-4cd9-8136-748358226785"
      },
      "execution_count": null,
      "outputs": [
        {
          "output_type": "execute_result",
          "data": {
            "text/plain": [
              "\"그러나 한편 냉정히 생각해보면 큰 욕심 안 부리고 노력한 것만큼만 잘살아보겠다는 게 과연 보통 사람의 경지일까? 보통 사람이란 좌절한 욕망을 한 장의 올림픽복권에 걸고 일주일 동안 행복하고 허황된 꿈을 꾸는 사람이 아닐까? 보통 사람의 숨은 허욕이 없다면 주택복권이나 올림픽복권이 그렇게 큰 이익을 올릴 수는 없을 것이다. 이 풍진세상風塵世上에서 노력한 만큼만 잘살기를 바라고 딴 욕심이 없다면 그건 보통 사람을 훨씬 넘은 성인의 경지이다.  그럼 진짜 보통 사람은 어디 있는 것일까? 과연 있기는 있는 것일까? 보통 사람이란 평균 점수처럼 어떤 집단을 대표하고 싶어 하는 가공의 숫자일 뿐, 실지로 존재하는 것은 아닐지도 모른다.- 박완서 '모래알만한 진실이라도'\""
            ],
            "application/vnd.google.colaboratory.intrinsic+json": {
              "type": "string"
            }
          },
          "metadata": {},
          "execution_count": 280
        }
      ]
    },
    {
      "cell_type": "code",
      "source": [
        "predict_str"
      ],
      "metadata": {
        "colab": {
          "base_uri": "https://localhost:8080/",
          "height": 71
        },
        "outputId": "63e93903-0e7b-4474-eba1-992e74da49c8",
        "id": "7S24YVHcf2V0"
      },
      "execution_count": null,
      "outputs": [
        {
          "output_type": "execute_result",
          "data": {
            "text/plain": [
              "\"럼나 한편 냉정히 생각해보면 큰 욕심 안 부리고 노력한 것만큼만 잘살아보겠다는 게 과연 보통 사람의 경지일까? 보통 사람이란 평절한 욕망을 한 장의 올림픽복권에 걸고 일주일 동안 행복하고 허황된 꿈을 꾸는 사람이 아닐까? 보통 사람의 숨은 허욕이 없다면 주택복권이나 올림픽복권이 그렇게 큰 이익을 올릴 수는 없을 것이다. 이 풍진세상風塵世上에서 노력한 만큼만 잘살기를 바라고 딴 욕심이 없다면 그건 보통 사람을 훨씬 넘은 성인의 경지이다.  그럼 진짜 보통 사람은 어디 있는 것일까? 과연 있기는 있는 것일까? 보통 사람이란 평균 점수처럼 어떤 집단을 대표하고 싶어 하는 가공의 숫자일 뿐, 실지로 존재하는 것은 아닐지도 모른다.- 박완서 '모래알만한 진실이라도'\""
            ],
            "application/vnd.google.colaboratory.intrinsic+json": {
              "type": "string"
            }
          },
          "metadata": {},
          "execution_count": 281
        }
      ]
    },
    {
      "cell_type": "markdown",
      "source": [
        "전처리 하나도 안했는데 거의 똑같이 텍스트 생성됨 "
      ],
      "metadata": {
        "id": "9uDRXefxgSVI"
      }
    }
  ]
}