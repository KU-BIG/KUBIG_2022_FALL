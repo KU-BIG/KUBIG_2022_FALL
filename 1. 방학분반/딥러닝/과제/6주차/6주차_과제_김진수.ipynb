{
  "nbformat": 4,
  "nbformat_minor": 0,
  "metadata": {
    "colab": {
      "name": "6주차_과제_김진수.ipynb",
      "provenance": [],
      "collapsed_sections": []
    },
    "kernelspec": {
      "name": "python3",
      "display_name": "Python 3"
    },
    "language_info": {
      "name": "python"
    },
    "accelerator": "GPU",
    "gpuClass": "standard"
  },
  "cells": [
    {
      "cell_type": "markdown",
      "source": [
        "## Task1\n",
        "\n",
        "빈 칸을 채워주세요!\n",
        "\n",
        "단계별 output이 github 파일에는 남아있으니 그 output과 동일한 형태인지 확인하면서 진행해주시면 됩니다~"
      ],
      "metadata": {
        "id": "Sgxd6SxmeVcP"
      }
    },
    {
      "cell_type": "code",
      "source": [
        "#1. 생성할 문장 데이터\n",
        "\n",
        "sentence = (\"Brick walls are there for a reason and you must not think \"\n",
        "            \"that the brick walls aren't there to keep us out, but rather \"\n",
        "            \"in this way that the brick walls are there to show us how badly we want things.\")"
      ],
      "metadata": {
        "id": "NDvUeC8BoUb6"
      },
      "execution_count": 2,
      "outputs": []
    },
    {
      "cell_type": "code",
      "source": [
        "#2. 문자 집합 만들기\n",
        "world_set = list(set(sentence))\n",
        "\n",
        "## 문제(1): 각 문자에 정수 인코딩 (공백도 하나의 원소로 포함)\n",
        "vocab = {i:j for j, i in enumerate(world_set)}"
      ],
      "metadata": {
        "id": "b9lkrKyZf8ie"
      },
      "execution_count": 8,
      "outputs": []
    },
    {
      "cell_type": "code",
      "source": [
        "print(vocab)"
      ],
      "metadata": {
        "colab": {
          "base_uri": "https://localhost:8080/"
        },
        "id": "F_0we5Y-gYDq",
        "outputId": "3e76bfed-70b5-46bf-de03-b2905f5a242f"
      },
      "execution_count": 9,
      "outputs": [
        {
          "output_type": "stream",
          "name": "stdout",
          "text": [
            "{'y': 0, 'p': 1, 'd': 2, 'u': 3, 'e': 4, 'h': 5, 'b': 6, 'n': 7, 'g': 8, 'f': 9, 'B': 10, 's': 11, 'm': 12, 't': 13, \"'\": 14, 'r': 15, 'w': 16, ',': 17, 'k': 18, 'c': 19, 'a': 20, 'l': 21, ' ': 22, '.': 23, 'o': 24, 'i': 25}\n"
          ]
        }
      ]
    },
    {
      "cell_type": "code",
      "source": [
        "#3. 문자 집합 크기 확인\n",
        "\n",
        "vocab_size = len(vocab)\n",
        "print('문자 집합 크기 : {}'.format(vocab_size))"
      ],
      "metadata": {
        "colab": {
          "base_uri": "https://localhost:8080/"
        },
        "id": "TpKupU6lgpfT",
        "outputId": "fa8043fe-018c-4afc-dd43-c28ae3b6c48c"
      },
      "execution_count": 12,
      "outputs": [
        {
          "output_type": "stream",
          "name": "stdout",
          "text": [
            "문자 집합 크기 : 26\n"
          ]
        }
      ]
    },
    {
      "cell_type": "code",
      "source": [
        "#4. 하이퍼 파라미터 설정(자유롭게 수정해보세요!)\n",
        "\n",
        "hidden_size = vocab_size # 같아야 하는 것 확인!\n",
        "sequence_length = 10  # 너무 길거나 너무 짧게 잡으면 안됩니다!\n",
        "learning_rate = 0.01"
      ],
      "metadata": {
        "id": "wFDZJHSMg9In"
      },
      "execution_count": 13,
      "outputs": []
    },
    {
      "cell_type": "code",
      "source": [
        "#5. seqence 길이 단위 자르기\n",
        "\n",
        "# 데이터 구성을 위한 리스트\n",
        "x_data = []\n",
        "y_data = []\n",
        "\n",
        "## 문제(2): 반복문 내에서의 인덱싱을 사용하여 sequence_length 값 단위로 샘플을 잘라 데이터 만들기, y_str은 x_str은 한 칸씩 쉬프트된 sequnce\n",
        "\n",
        "for i in range(0, len(sentence) - sequence_length):\n",
        "  x_str = sentence[i:sequence_length+i]\n",
        "  y_str = sentence[i+1:sequence_length+i+1]\n",
        "  print(i, x_str, \"->\", y_str)\n",
        "\n",
        "  # x_str과 y_str이 문자집합에 해당하는 인덱스를 각각 x_data, y_data에 append\n",
        "  x_data.append([vocab[c] for c in x_str])\n",
        "  y_data.append([vocab[d] for d in y_str])"
      ],
      "metadata": {
        "colab": {
          "base_uri": "https://localhost:8080/"
        },
        "id": "RbDcmJmghN7V",
        "outputId": "34bdd0c2-17bd-40eb-cd12-963d0aea1571"
      },
      "execution_count": 14,
      "outputs": [
        {
          "output_type": "stream",
          "name": "stdout",
          "text": [
            "0 Brick wall -> rick walls\n",
            "1 rick walls -> ick walls \n",
            "2 ick walls  -> ck walls a\n",
            "3 ck walls a -> k walls ar\n",
            "4 k walls ar ->  walls are\n",
            "5  walls are -> walls are \n",
            "6 walls are  -> alls are t\n",
            "7 alls are t -> lls are th\n",
            "8 lls are th -> ls are the\n",
            "9 ls are the -> s are ther\n",
            "10 s are ther ->  are there\n",
            "11  are there -> are there \n",
            "12 are there  -> re there f\n",
            "13 re there f -> e there fo\n",
            "14 e there fo ->  there for\n",
            "15  there for -> there for \n",
            "16 there for  -> here for a\n",
            "17 here for a -> ere for a \n",
            "18 ere for a  -> re for a r\n",
            "19 re for a r -> e for a re\n",
            "20 e for a re ->  for a rea\n",
            "21  for a rea -> for a reas\n",
            "22 for a reas -> or a reaso\n",
            "23 or a reaso -> r a reason\n",
            "24 r a reason ->  a reason \n",
            "25  a reason  -> a reason a\n",
            "26 a reason a ->  reason an\n",
            "27  reason an -> reason and\n",
            "28 reason and -> eason and \n",
            "29 eason and  -> ason and y\n",
            "30 ason and y -> son and yo\n",
            "31 son and yo -> on and you\n",
            "32 on and you -> n and you \n",
            "33 n and you  ->  and you m\n",
            "34  and you m -> and you mu\n",
            "35 and you mu -> nd you mus\n",
            "36 nd you mus -> d you must\n",
            "37 d you must ->  you must \n",
            "38  you must  -> you must n\n",
            "39 you must n -> ou must no\n",
            "40 ou must no -> u must not\n",
            "41 u must not ->  must not \n",
            "42  must not  -> must not t\n",
            "43 must not t -> ust not th\n",
            "44 ust not th -> st not thi\n",
            "45 st not thi -> t not thin\n",
            "46 t not thin ->  not think\n",
            "47  not think -> not think \n",
            "48 not think  -> ot think t\n",
            "49 ot think t -> t think th\n",
            "50 t think th ->  think tha\n",
            "51  think tha -> think that\n",
            "52 think that -> hink that \n",
            "53 hink that  -> ink that t\n",
            "54 ink that t -> nk that th\n",
            "55 nk that th -> k that the\n",
            "56 k that the ->  that the \n",
            "57  that the  -> that the b\n",
            "58 that the b -> hat the br\n",
            "59 hat the br -> at the bri\n",
            "60 at the bri -> t the bric\n",
            "61 t the bric ->  the brick\n",
            "62  the brick -> the brick \n",
            "63 the brick  -> he brick w\n",
            "64 he brick w -> e brick wa\n",
            "65 e brick wa ->  brick wal\n",
            "66  brick wal -> brick wall\n",
            "67 brick wall -> rick walls\n",
            "68 rick walls -> ick walls \n",
            "69 ick walls  -> ck walls a\n",
            "70 ck walls a -> k walls ar\n",
            "71 k walls ar ->  walls are\n",
            "72  walls are -> walls aren\n",
            "73 walls aren -> alls aren'\n",
            "74 alls aren' -> lls aren't\n",
            "75 lls aren't -> ls aren't \n",
            "76 ls aren't  -> s aren't t\n",
            "77 s aren't t ->  aren't th\n",
            "78  aren't th -> aren't the\n",
            "79 aren't the -> ren't ther\n",
            "80 ren't ther -> en't there\n",
            "81 en't there -> n't there \n",
            "82 n't there  -> 't there t\n",
            "83 't there t -> t there to\n",
            "84 t there to ->  there to \n",
            "85  there to  -> there to k\n",
            "86 there to k -> here to ke\n",
            "87 here to ke -> ere to kee\n",
            "88 ere to kee -> re to keep\n",
            "89 re to keep -> e to keep \n",
            "90 e to keep  ->  to keep u\n",
            "91  to keep u -> to keep us\n",
            "92 to keep us -> o keep us \n",
            "93 o keep us  ->  keep us o\n",
            "94  keep us o -> keep us ou\n",
            "95 keep us ou -> eep us out\n",
            "96 eep us out -> ep us out,\n",
            "97 ep us out, -> p us out, \n",
            "98 p us out,  ->  us out, b\n",
            "99  us out, b -> us out, bu\n",
            "100 us out, bu -> s out, but\n",
            "101 s out, but ->  out, but \n",
            "102  out, but  -> out, but r\n",
            "103 out, but r -> ut, but ra\n",
            "104 ut, but ra -> t, but rat\n",
            "105 t, but rat -> , but rath\n",
            "106 , but rath ->  but rathe\n",
            "107  but rathe -> but rather\n",
            "108 but rather -> ut rather \n",
            "109 ut rather  -> t rather i\n",
            "110 t rather i ->  rather in\n",
            "111  rather in -> rather in \n",
            "112 rather in  -> ather in t\n",
            "113 ather in t -> ther in th\n",
            "114 ther in th -> her in thi\n",
            "115 her in thi -> er in this\n",
            "116 er in this -> r in this \n",
            "117 r in this  ->  in this w\n",
            "118  in this w -> in this wa\n",
            "119 in this wa -> n this way\n",
            "120 n this way ->  this way \n",
            "121  this way  -> this way t\n",
            "122 this way t -> his way th\n",
            "123 his way th -> is way tha\n",
            "124 is way tha -> s way that\n",
            "125 s way that ->  way that \n",
            "126  way that  -> way that t\n",
            "127 way that t -> ay that th\n",
            "128 ay that th -> y that the\n",
            "129 y that the ->  that the \n",
            "130  that the  -> that the b\n",
            "131 that the b -> hat the br\n",
            "132 hat the br -> at the bri\n",
            "133 at the bri -> t the bric\n",
            "134 t the bric ->  the brick\n",
            "135  the brick -> the brick \n",
            "136 the brick  -> he brick w\n",
            "137 he brick w -> e brick wa\n",
            "138 e brick wa ->  brick wal\n",
            "139  brick wal -> brick wall\n",
            "140 brick wall -> rick walls\n",
            "141 rick walls -> ick walls \n",
            "142 ick walls  -> ck walls a\n",
            "143 ck walls a -> k walls ar\n",
            "144 k walls ar ->  walls are\n",
            "145  walls are -> walls are \n",
            "146 walls are  -> alls are t\n",
            "147 alls are t -> lls are th\n",
            "148 lls are th -> ls are the\n",
            "149 ls are the -> s are ther\n",
            "150 s are ther ->  are there\n",
            "151  are there -> are there \n",
            "152 are there  -> re there t\n",
            "153 re there t -> e there to\n",
            "154 e there to ->  there to \n",
            "155  there to  -> there to s\n",
            "156 there to s -> here to sh\n",
            "157 here to sh -> ere to sho\n",
            "158 ere to sho -> re to show\n",
            "159 re to show -> e to show \n",
            "160 e to show  ->  to show u\n",
            "161  to show u -> to show us\n",
            "162 to show us -> o show us \n",
            "163 o show us  ->  show us h\n",
            "164  show us h -> show us ho\n",
            "165 show us ho -> how us how\n",
            "166 how us how -> ow us how \n",
            "167 ow us how  -> w us how b\n",
            "168 w us how b ->  us how ba\n",
            "169  us how ba -> us how bad\n",
            "170 us how bad -> s how badl\n",
            "171 s how badl ->  how badly\n",
            "172  how badly -> how badly \n",
            "173 how badly  -> ow badly w\n",
            "174 ow badly w -> w badly we\n",
            "175 w badly we ->  badly we \n",
            "176  badly we  -> badly we w\n",
            "177 badly we w -> adly we wa\n",
            "178 adly we wa -> dly we wan\n",
            "179 dly we wan -> ly we want\n",
            "180 ly we want -> y we want \n",
            "181 y we want  ->  we want t\n",
            "182  we want t -> we want th\n",
            "183 we want th -> e want thi\n",
            "184 e want thi ->  want thin\n",
            "185  want thin -> want thing\n",
            "186 want thing -> ant things\n",
            "187 ant things -> nt things.\n"
          ]
        }
      ]
    },
    {
      "cell_type": "code",
      "source": [
        "# 출력해서 한 칸씩 쉬프트된 것 확인하기!\n",
        "\n",
        "print(x_data[0])\n",
        "print(y_data[0])"
      ],
      "metadata": {
        "colab": {
          "base_uri": "https://localhost:8080/"
        },
        "id": "XVFlILiOixdc",
        "outputId": "650ac1a3-37fc-4fad-8792-6fd9702a5a7c"
      },
      "execution_count": 15,
      "outputs": [
        {
          "output_type": "stream",
          "name": "stdout",
          "text": [
            "[10, 15, 25, 19, 18, 22, 16, 20, 21, 21]\n",
            "[15, 25, 19, 18, 22, 16, 20, 21, 21, 11]\n"
          ]
        }
      ]
    },
    {
      "cell_type": "code",
      "source": [
        "##6. 입력 시퀀스에 대해 원핫인코딩 수행\n",
        "\n",
        "## 문제(4) : x_data를 원핫인코딩 > numpy의 eye를 쓸 수 있지 않을까?\n",
        "x_one_hot = [np.eye(vocab_size)[i] for i in x_data]\n",
        "\n",
        "##7. 입력 데이터, 레이블데이터 텐서로 변환\n",
        "\n",
        "## 문제(5) : x_one_hot과 y_data 텐서로 변환 : 둘 다 같은 형식의 텐서로 변환하면 될까?? (FloatTensor, LongTesor 중 맞는 것은?)\n",
        "X = torch.FloatTensor(x_one_hot)\n",
        "Y = torch.LongTensor(y_data)"
      ],
      "metadata": {
        "id": "5lPes1dvjlNb",
        "colab": {
          "base_uri": "https://localhost:8080/"
        },
        "outputId": "b73921c8-6905-4a70-b00e-6272ca2ce039"
      },
      "execution_count": 39,
      "outputs": [
        {
          "output_type": "stream",
          "name": "stderr",
          "text": [
            "/usr/local/lib/python3.7/dist-packages/ipykernel_launcher.py:9: UserWarning: Creating a tensor from a list of numpy.ndarrays is extremely slow. Please consider converting the list to a single numpy.ndarray with numpy.array() before converting to a tensor. (Triggered internally at  ../torch/csrc/utils/tensor_new.cpp:201.)\n",
            "  if __name__ == '__main__':\n"
          ]
        }
      ]
    },
    {
      "cell_type": "code",
      "source": [
        "##8. 크기 확인\n",
        "print('훈련 데이터의 크기 : {}'.format(X.shape))\n",
        "print('레이블의 크기 : {}'.format(Y.shape))"
      ],
      "metadata": {
        "colab": {
          "base_uri": "https://localhost:8080/"
        },
        "id": "lMZzZlaymMk8",
        "outputId": "22a496b0-b6d3-41d9-a689-6f7010440438"
      },
      "execution_count": 40,
      "outputs": [
        {
          "output_type": "stream",
          "name": "stdout",
          "text": [
            "훈련 데이터의 크기 : torch.Size([188, 10, 26])\n",
            "레이블의 크기 : torch.Size([188, 10])\n"
          ]
        }
      ]
    },
    {
      "cell_type": "code",
      "source": [
        "##9.원핫인코딩 결과 샘플 확인하기\n",
        "print(X[0])"
      ],
      "metadata": {
        "colab": {
          "base_uri": "https://localhost:8080/"
        },
        "id": "knx1DE_AmSFB",
        "outputId": "bc1700f5-360f-4f52-b86c-7d29771ca05a"
      },
      "execution_count": 41,
      "outputs": [
        {
          "output_type": "stream",
          "name": "stdout",
          "text": [
            "tensor([[0., 0., 0., 0., 0., 0., 0., 0., 0., 0., 1., 0., 0., 0., 0., 0., 0., 0.,\n",
            "         0., 0., 0., 0., 0., 0., 0., 0.],\n",
            "        [0., 0., 0., 0., 0., 0., 0., 0., 0., 0., 0., 0., 0., 0., 0., 1., 0., 0.,\n",
            "         0., 0., 0., 0., 0., 0., 0., 0.],\n",
            "        [0., 0., 0., 0., 0., 0., 0., 0., 0., 0., 0., 0., 0., 0., 0., 0., 0., 0.,\n",
            "         0., 0., 0., 0., 0., 0., 0., 1.],\n",
            "        [0., 0., 0., 0., 0., 0., 0., 0., 0., 0., 0., 0., 0., 0., 0., 0., 0., 0.,\n",
            "         0., 1., 0., 0., 0., 0., 0., 0.],\n",
            "        [0., 0., 0., 0., 0., 0., 0., 0., 0., 0., 0., 0., 0., 0., 0., 0., 0., 0.,\n",
            "         1., 0., 0., 0., 0., 0., 0., 0.],\n",
            "        [0., 0., 0., 0., 0., 0., 0., 0., 0., 0., 0., 0., 0., 0., 0., 0., 0., 0.,\n",
            "         0., 0., 0., 0., 1., 0., 0., 0.],\n",
            "        [0., 0., 0., 0., 0., 0., 0., 0., 0., 0., 0., 0., 0., 0., 0., 0., 1., 0.,\n",
            "         0., 0., 0., 0., 0., 0., 0., 0.],\n",
            "        [0., 0., 0., 0., 0., 0., 0., 0., 0., 0., 0., 0., 0., 0., 0., 0., 0., 0.,\n",
            "         0., 0., 1., 0., 0., 0., 0., 0.],\n",
            "        [0., 0., 0., 0., 0., 0., 0., 0., 0., 0., 0., 0., 0., 0., 0., 0., 0., 0.,\n",
            "         0., 0., 0., 1., 0., 0., 0., 0.],\n",
            "        [0., 0., 0., 0., 0., 0., 0., 0., 0., 0., 0., 0., 0., 0., 0., 0., 0., 0.,\n",
            "         0., 0., 0., 1., 0., 0., 0., 0.]])\n"
          ]
        }
      ]
    },
    {
      "cell_type": "code",
      "source": [
        "##10. 레이블 데이터 샘플 확인하기\n",
        "print(Y[0])"
      ],
      "metadata": {
        "colab": {
          "base_uri": "https://localhost:8080/"
        },
        "id": "6pWDiH1SmYT_",
        "outputId": "31725a61-f887-422b-a300-91fc555d019c"
      },
      "execution_count": 42,
      "outputs": [
        {
          "output_type": "stream",
          "name": "stdout",
          "text": [
            "tensor([15, 25, 19, 18, 22, 16, 20, 21, 21, 11])\n"
          ]
        }
      ]
    },
    {
      "cell_type": "code",
      "source": [
        "##11. RNN 모델 구현\n",
        "\n",
        "##문제(6) : 기본 pytorch 인자 넣기 연습 + forward 채우기\n",
        "### 조건 : rnn layer 2개 쌓기 + 마지막은 fc layer\n",
        "### batch_fisrt 설정 필요할까? (유튜브 강의 참고)\n",
        "\n",
        "class Net(torch.nn.Module):\n",
        "  def __init__(self, input_dim, hidden_dim, layers):\n",
        "    super(Net, self).__init__()\n",
        "    self.rnn = torch.nn.RNN(input_dim, hidden_dim, layers, batch_first=True)\n",
        "    self.fc = torch.nn.Linear(hidden_dim, vocab_size)\n",
        "  \n",
        "  def forward(self, x):\n",
        "    x, hidden = self.rnn(x)\n",
        "    x = self.fc(x)\n",
        "    return x"
      ],
      "metadata": {
        "id": "-Ww22xu8mfUc"
      },
      "execution_count": 43,
      "outputs": []
    },
    {
      "cell_type": "code",
      "source": [
        "net = Net(vocab_size, hidden_size, 2)"
      ],
      "metadata": {
        "id": "No2GRvTpnLBl"
      },
      "execution_count": 44,
      "outputs": []
    },
    {
      "cell_type": "code",
      "source": [
        "##12. loss function\n",
        "criterion = torch.nn.CrossEntropyLoss()\n",
        "\n",
        "##13. optimizer\n",
        "optimizer = optim.Adam(net.parameters(), learning_rate)"
      ],
      "metadata": {
        "id": "9-zuJLeUnQLB"
      },
      "execution_count": 45,
      "outputs": []
    },
    {
      "cell_type": "code",
      "source": [
        "##14. 출력 크기 점검\n",
        "outputs = net(X)\n",
        "print(outputs.shape)"
      ],
      "metadata": {
        "colab": {
          "base_uri": "https://localhost:8080/"
        },
        "id": "z-RxRaiHnh9U",
        "outputId": "26c98d49-1f48-42e7-dbb8-b98d511c4bec"
      },
      "execution_count": 46,
      "outputs": [
        {
          "output_type": "stream",
          "name": "stdout",
          "text": [
            "torch.Size([188, 10, 26])\n"
          ]
        }
      ]
    },
    {
      "cell_type": "code",
      "source": [
        "##15. Training 시작\n",
        "\n",
        "for i in range(100):\n",
        "    optimizer.zero_grad()\n",
        "    outputs = net(X)\n",
        "    ##문제(7) : outputs, Y 형태 그대로 넣으면 안되죠. view 함수를 이용해 loss값을 계산해봅시다.\n",
        "    loss = criterion(outputs.view(-1, vocab_size), Y.view(-1))\n",
        "    loss.backward()\n",
        "    optimizer.step()\n",
        "\n",
        "    #16. 예측결과 확인\n",
        "    results = outputs.argmax(dim=2)\n",
        "    predict_str = \"\"\n",
        "    for j, result in enumerate(results):\n",
        "        if j == 0: # 처음에는 예측 결과를 전부 가져오기\n",
        "            predict_str += ''.join([world_set[t] for t in result])\n",
        "        else: # 그 다음에는 마지막 글자만 반복 추가\n",
        "            predict_str += world_set[result[-1]]\n",
        "\n",
        "    print(predict_str)"
      ],
      "metadata": {
        "colab": {
          "base_uri": "https://localhost:8080/"
        },
        "id": "uxxrxCd2nwoo",
        "outputId": "3572c654-9c70-4651-e136-1022514fd6ad"
      },
      "execution_count": 57,
      "outputs": [
        {
          "output_type": "stream",
          "name": "stdout",
          "text": [
            "                                                  l                                                                                                                                                  \n",
            "                                                                                                                                                                                                     \n",
            "                                                                                                                                                                                                     \n",
            "                                                                                                                                                                                                     \n",
            "                                                                                                                                                                                                     \n",
            "                                                                                                                                                                                                     \n",
            "                                                                                                                                                                                                     \n",
            "                                                                                                                                                                                                     \n",
            "                                                                                                                                                                                                     \n",
            "                                                                                                                                                                                                     \n",
            "                                                                                                                                                                                                     \n",
            "                                                                                                                                                                                                     \n",
            "                                                                                                                                                                                                     \n",
            "                                                               h                      h                                                 h                                                            \n",
            "     t                                              h          h                      h               t    t          t                 h                                   t            t     h     \n",
            "     t     t   t     t   th       th  t    h        h    th    h        t     t       h    t       t  t    t          t  th   th  th   th        t     t   t     t       t  t   t     t  t     h     \n",
            "     th l  th  t     t   th       th  t   th       th t  th   th  t  n  t  l  th     th    th t    t  t    th  t      to th t th  th   th  t  n  t  l  th  t     th t    t  t   t  l  t  th   th t   \n",
            "     th l  th  t     t   tht  t   th  t   th    h  th t  th   th  th n  th l  th     th    th t    t  th   th  t  h   to th t th  th t th  th n  th l  th  t     th t    t  th  thtl  t  th   th t   \n",
            "  t  th    th  th    th  tht  t   th  t   th    h  th t  th t th  th n  th l  th     th    th t    t  th   th  t  h   to th t th  th t th  th n  th l  th  th    th t    t  th  thtl  th th   th t   \n",
            "  t  th    th  th    th  tht  t   th  t   th       th t  th t th  th n  th    th  t  th    th t    t  th   th  t  h   to th t th  th t th  th n  th    th  th    th t    t  th  t tl  th th   th t   \n",
            "  t  th    th  th    th  tht  t   th  th  th   t   th t  th t th  thenk th    th  t  th    th t   tt  th   th  thth   to th t th  th   th  thenk th    th  th    th t    t  th  thtll th th   th t   \n",
            "  tu thel  the th    th  tht  t t the tht th   th  th t  th   th  thenk thel  the t  the   th t   tu  th   tue thth   to the  tht the  the thenk thel  the th    th t    t  th  thtll th tos  th t   \n",
            "  tu thll  the the   th  tht  t t the tht th   th  the   the  the thenk thll  the t  the   tht    tu  th   tue thth   to the  thl the  the thenk thll  the the   tht     t  th  tudll th tod  th     \n",
            "  nk thll  the the   th  tht  t   the tht th   th  the   the  the thenk thll  the t  the   tht    tu  th   tut thth   to the  thl the  the thenk thll  the the   tht     t  th  tudll th tob  the    \n",
            "  nk thll  the the   th  tht  t   the tht th   th  the   the  the thenk thll  the t  the   tht    tu  th   tut tht    ta then tal the  the thenk thll  the the   tht     u  tht tudll th tou  thet   \n",
            "  nk tall  the the   th  tht  t   thl tot tht  th  thet  thet the thenk tall  the ta the   thtt   tu  th   tut tht   etn then tau then the thenk tall  the the   thtt    u  tht uudll ta tou  thet   \n",
            " enk tall  the the   th  thb  t   aul tot tht  th  thet  thet the thenk tall  the ta the   thtt   tu  tu   tut tht   etn then tau then the thenk tall  the the   thtt  t ue tot uudll ta tau  then   \n",
            " enk tall  aae the e th  tub  t t aul w u wus  th  then  then the thenk tall  aae t  the   thtt   tu  au   tut thth  etn then tau then the thenk tall  aae the e thtt et ue tot uudll ta tau  then   \n",
            " enk tall  are the e th  aub  n t aul w u aut  th  then  then the thenk tall  are a  the   thtt    u  au   tut thth  etn then tau then the thenk tall  are the e thttaet ue tot uedll ta tau  then   \n",
            " enk tall  are the e to  aub  n t aul t u aut  th  then  then the thenk tall  are a  the e thta   nu  au h tut ththe etn then tau then the thenk tall  are the e thtaeet u  a t uedll ta tau  then   \n",
            " eck tall  are the e to  aut  n t aul t t aut  th  then  then the thenk tall  are at the e thta   nu  au h tut ththe etn then tau then the thenk tall  are the e thtaeet u  a t uedll ta tau  then   \n",
            " eck tall  are the e to  aub  n t aul t t aut  th  then  then the thenk tall  are nt the e thta   nu  au h tut ththe etn then tau then the thenk tall  are the e thtaeet u  a t uudll ta tau  then   \n",
            " eck talls are the e to  anb  n t aul t u aus  tht then  then the trenk talls are nt the e thtre  nu  au h tut ththe etn then tau then the trenk talls are the e thtraet u  a t uudll ta tau  then   \n",
            " eck talls are the e to  anb  t t aul tou aus  tht then  then the treck talls are tt the e thtre  nu  au h tut ththe etn then tau then the treck talls are the e thtraet u  aot uudll ta tau  then   \n",
            " eck talls are the e to  anb  t t aul wou aus  tht then  thet the treck talls are tt the e thtre   u  au h tut ththe etn then tau then the treck talls are the e thtraet u  aot uudll ta tau  then   \n",
            " eck talls are the e to  anb  t t aal wou aus  tht then  thet the trick talls are tt the e thtte   u  au h tut ththe etn then tal then the trick talls are the e thttaet u  aot uudll ta tau  then   \n",
            " eck walls are the e tor anb  t t aal wou aus  tht then  thet the trick walls are tt the e thtte   u  au h tut ththe ean then tal then the trick walls are the e thttaet us aot uudll wa tal  then   \n",
            " eck walls are there tor arbe t t anl wou aus  tht then  thet thertrick walls are tt there thtte   u  au h tut ththe ean then tal thet thertrick walls are there thttaet us aot uudll w  tal  then  a\n",
            " eck walls are there tor arbe t t anl wou aus htht then  thet thertrick walls are kt there thtte l us au h tut ththerean then wal thet thertrick walls are there thttaet us aot uudll w  tal  then  a\n",
            " eck walls are there tor arbe t t arl you aus htht then  whet thertrick walls are kt there thtre l us au h but ththerean then wal thet thertrick walls are there thtraet us aot uudll u  tal  then  a\n",
            " ick walls are there tor arbe t t ard you ausththt thenk whet thertrick walls are kt there thtte l us auth but ththerean then wal thet thertrick walls are there thttaet us aot uudls u  tal  then  a\n",
            " ick walls are there tor arbe to  ard you bust tht thenk whet thertrick walls are kt there thtte l us auth but ththerean then wal thet thertrick walls are there thttaet us aot uadly u  tals thenk a\n",
            " ick walls are there tor arbe to  ard you bust tor thenk whet thertrick walls are kt there th te l us auth but tht eretn then wal thet thertrick walls are there th taet us aot uadly ue tans thenk a\n",
            " ick walls are there tor arbe to  ard you bust tor thenk whet therbrick walls are kt there th te l us au h but tht eretn then wal thet therbrick walls are there th taat us aot uadly ua tals thenk a\n",
            " ick walls are there tor arbe to  ard you bust tor thenk whet therbrick walls are kt there th te l us au h but ththerean then wal thet therbrick walls are there th taat us aot uadly wa tals thenk a\n",
            " ick walls are there tor arbe to  ard you bust tot thenk whet therbrick walls are kt there th te l us au h but ththerean then wal thet therbrick walls are there th taat us aot uadly wa tals thenk a\n",
            "rick walls are there tor arbe tor ard you bust tot thenk whet therbrick walls are  t there th te l us au h but ththerean then wal thet therbrick walls are there th taow us aow uadly wa tans thenk a\n",
            "rick walls are there tor arbeison ard you bust tot thenk whet therbrick walls are st there th te p us ou h but ththerean then wal thet therbrick walls are there th taow us aow uadly ta tans thenk a\n",
            "rick walls are there tor arbeason ard you bust tot thenk whet therbrick walls are st there th teep us ou h but ththerean then wal thet therbrick walls are there th taow us oew uadly wa tals thenk ,\n",
            "rick walls are there tor arbeason and you bust tot thenk whet therbrick walls are 't there th teep us ou h but ththerean then wal thet therbrick walls are there th taow us oow uadly wa talt thenk ,\n",
            "rick walls are there tor arueason and you bust tot thenk whet therbrick walls are 't there th teep us outh but tatherean then wal thet therbrick walls are there th taow us oow uadly wa talt thenk ,\n",
            "rick walls are there tor anbeason and you bust tot thenk whet therbrick walls are 't there th teep us outh but tatherean thin wal thet therbrick walls are there th taow us oow badly wa tant thenkt,\n",
            "rick walls are there tor anbeason and you bust tot thenk whet therbrick walls are 't there th teep us outh but tatherean thin wal thet therbrick walls are there th thow us oow badly we tant thenkt,\n",
            "rick walls are there tor anbeason and you bust tot thenk whet therbrick walls are 't there th teep us out, but tatherean thin wal thet therbrick walls are there to thow us oow badly we tant thenkt,\n",
            "rick walls are there tor anbeason and you bust tot thenk thet therbrick walls are 't there to teep us out, but tatherean thin wal thet therbrick walls are there to thow us how badly we tant thenkt,\n",
            "rick walls are there tor a beason and you bust tot thenk thet therbrick walls are 't there to keep us out, but tatherean thin wal thet therbrick walls are there to khow us how badly we tant thenktl\n",
            "rick walls are there tor a beason and you must tot thenk thet therbrick walls are 't there to keep us out, but tatherean thin wal thet therbrick walls are there to khow us how badly we tant thenkt'\n",
            "rick walls are there tor a beason and you must tot think thit therbrick walls are 't there to keep us out, but tatherean thin way thet therbrick walls are there to khow us how badly we tant thenkt'\n",
            "rick walls are there tor a reason and you must tot think thit therbrick walls are 't there to keep us out, but  atherean thin way thet therbrick walls are there to khow us how badly we tant thenkt'\n",
            "rick walls are there tor a reason and you must tot think thit therbrick walls are 't there to keep us out, but  atherean thin way thet therbrick walls are there to khow us how badly we tant thenktc\n",
            "rick walls are there tor a reason and you must tot think thit therbrick walls are 't there to keep us out, but tatherean thin way thet therbrick walls are there to khow us how badly we tant thenkt'\n",
            "rick walls are there tor a reason and you must tot think that therbrick walls are 't there to keep us out, but tatherean this way thet therbrick walls are there to khow us how badly we tant thenkt'\n",
            "rick walls are there tor a reason and you must tot think that therbrick walls are 't there to keep us out, but ratherein this way thet therbrick walls are there to khow us how badly we want thinkt'\n",
            "rick walls are there tor a reason and you must tot think that therbrick walls are 't there to keep us out, but ratherein this way that therbrick walls are there to khow us how badly we want thinkt'\n",
            "rick walls are there tor a reason and you must tot think that therbrick walls are 't there to keep us out, but ratherein this way that therbrick walls are there to khow us how badly we want thinkt'\n",
            "rick walls are there tor a reason and you must tot think that therbrick walls are 't there to keep us out, but ratherein this way that therbrick walls are there to khow us how badly we want thinkt'\n",
            "rick walls are there tor a reason and you must tot think that therbrick walls are 't there to keep us out, but ratherein this way that therbrick walls are there to khow us how badly we want thinkt'\n",
            "rick walls are there tor a reason and you must tot think that the brick walls are 't there to keep us out, but ratherein this way that the brick walls are there to khow us how badly we want thinkt'\n",
            "rick walls are there tor a reason and you must tot think that the brick walls are 't there to keep us out, but ratherein this way that the brick walls are there to khow us how badly we want think '\n",
            "rick walls are there tor a reason and you must tot think that the brick walls are 't there to keep us out, but ratherein this way that the brick walls are there to khow us how badly we want think '\n",
            "rick walls are there tor a reason and you must tot think that the brick walls are 't there to keep us out, but ratherein this way that the brick walls are there to khow us how badly we want think '\n",
            "rick walls are there tor a reason and you must not think that the brick walls are 't there to keep us out, but ratherein this way that the brick walls are there to khow us how badly we want think '\n",
            "rick walls are there tor a reason and you must not think that the brick walls are 't there to keep us out, but ratherein this way that the brick walls are there to khow us how badly we want think '\n",
            "rick walls are there tor a reason and you must not think that the brick walls are 't there to keep us out, but ratherein this way that the brick walls are there to khow us how badly we want think l\n",
            "rick walls are there tor a reason and you must not think that the brick walls are 't there to keep us out, but ratherein this way that the brick walls are there to khow us how badly we want think l\n",
            "rick walls are there tor a reason and you must not think that the brick walls are 't there to keep us out, but rather in this way that the brick walls are there to khow us how badly we want think l\n",
            "rick walls are there tor a reason and you must not think that the brick walls are 't there to keep us out, but rather in this way that the brick walls are there to khow us how badly we want think l\n",
            "rick walls are there tor a reason and you must not think that the brick walls are 't there to keep us out, but rather in this way that the brick walls are there to khow us how badly we want think l\n",
            "rick walls are there tor a reason and you must not think that the brick walls are 't there to keep us out, but rather in this way that the brick walls are there to khow us how badly we want think l\n",
            "rick walls are there tor a reason and you must not think that the brick walls are 't there to keep us out, but rather in this way that the brick walls are there to khow us how badly we want think l\n",
            "rick walls are there tor a reason and you must not think that the brick walls are 't there to keep us out, but rather in this way that the brick walls are there to khow us how badly we want think '\n",
            "rick walls are there tor a reason and you must not think that the brick walls are 't there to keep us out, but rather in this way that the brick walls are there to khow us how badly we want think '\n",
            "rick walls are there tor a reason and you must not think that the brick walls are 't there to keep us out, but rather in this way that the brick walls are there to khow us how badly we want think '\n",
            "rick walls are there tor a reason and you must not think that the brick walls are 't there to keep us out, but rather in this way that the brick walls are there to khow us how badly we want think '\n",
            "rick walls are there tor a reason and you must not think that the brick walls are 't there to keep us out, but rather in this way that the brick walls are there to khow us how badly we want think '\n",
            "rick walls are there tor a reason and you must not think that the brick walls are 't there to keep us out, but rather in this way that the brick walls are there to khow us how badly we want think '\n",
            "rick walls are there tor a reason and you must not think that the brick walls are 't there to keep us out, but rather in this way that the brick walls are there to khow us how badly we want think '\n",
            "rick walls are there tor a reason and you must not think that the brick walls are 't there to keep us out, but rather in this way that the brick walls are there to khow us how badly we want think '\n",
            "rick walls are there tor a reason and you must not think that the brick walls are 't there to keep us out, but rather in this way that the brick walls are there to khow us how badly we want think '\n",
            "rick walls are there tor a reason and you must not think that the brick walls are 't there to keep us out, but rather in this way that the brick walls are there to khow us how badly we want think '\n",
            "rick walls are there tor a reason and you must not think that the brick walls are 't there to keep us out, but rather in this way that the brick walls are there to khow us how badly we want think '\n",
            "rick walls are there tor a reason and you must not think that the brick walls are 't there to keep us out, but rather in this way that the brick walls are there to khow us how badly we want think '\n",
            "rick walls are there tor a reason and you must not think that the brick walls are 't there to keep us out, but rather in this way that the brick walls are there to khow us how badly we want think '\n",
            "rick walls are there tor a reason and you must not think that the brick walls are 't there to keep us out, but rather in this way that the brick walls are there to khow us how badly we want think '\n",
            "rick walls are there tor a reason and you must not think that the brick walls are 't there to keep us out, but rather in this way that the brick walls are there to khow us how badly we want thinks'\n",
            "rick walls are there tor a reason and you must not think that the brick walls are 't there to keep us out, but rather in this way that the brick walls are there to khow us how badly we want thinks'\n",
            "rick walls are there tor a reason and you must not think that the brick walls are 't there to keep us out, but rather in this way that the brick walls are there to khow us how badly we want thinks'\n",
            "rick walls are there tor a reason and you must not think that the brick walls are 't there to keep us out, but rather in this way that the brick walls are there to khow us how badly we want thinks'\n",
            "rick walls are there tor a reason and you must not think that the brick walls are 't there to keep us out, but rather in this way that the brick walls are there to khow us how badly we want thinks'\n",
            "rick walls are there tor a reason and you must not think that the brick walls are 't there to keep us out, but rather in this way that the brick walls are there to khow us how badly we want thinks'\n"
          ]
        }
      ]
    },
    {
      "cell_type": "code",
      "source": [
        "predict_str"
      ],
      "metadata": {
        "colab": {
          "base_uri": "https://localhost:8080/",
          "height": 54
        },
        "id": "8qUkbiw2t0Il",
        "outputId": "df825ad4-3239-41c4-abf4-b1d8de201133"
      },
      "execution_count": 58,
      "outputs": [
        {
          "output_type": "execute_result",
          "data": {
            "text/plain": [
              "\"rick walls are there tor a reason and you must not think that the brick walls are 't there to keep us out, but rather in this way that the brick walls are there to khow us how badly we want thinks'\""
            ],
            "application/vnd.google.colaboratory.intrinsic+json": {
              "type": "string"
            }
          },
          "metadata": {},
          "execution_count": 58
        }
      ]
    },
    {
      "cell_type": "markdown",
      "source": [
        "결과가 어떤가요?? 마지막 에폭의 문장이 그럴싸한가요?"
      ],
      "metadata": {
        "id": "PkIzDTdyvTHz"
      }
    },
    {
      "cell_type": "markdown",
      "source": [
        "## Task2\n",
        "\n",
        "위 sentence는 제가 임의로 생성한 문장들입니다.\n",
        "\n",
        "마음에 드시는 문구 가져오셔서 문장이 어떻게 생성되는지 확인해보세요! \n",
        "\n",
        "영어가 아닌 한국어로 시도해보는 것도 좋겠죠? \n",
        "\n",
        "수정이 많이 필요(토큰화 등) 할 수 있으나 한번 시도해보시는 것 권장드립니다 :)\n",
        "\n",
        "위 베이스라인은 어디든 수정하셔도 좋고 조금 더 자연스러운 문장이 나올 수 있게 다양한 시도를 해보세요!\n",
        "\n",
        "조건 : 문장 3개 이상, 연결성이 있는 문장을 \" \" 으로 구분하여 ( )에 넣기"
      ],
      "metadata": {
        "id": "kN1zL8Dpvane"
      }
    },
    {
      "cell_type": "code",
      "source": [
        "sentence = (\"The idea of eternal return is a mysterious one. \"\n",
        "\"And Nietzsche has often perplexed other philosophers with it. \"\n",
        "\"To think that everything recurs as we once experienced it. \"\n",
        "\"And that the recurrence itself recurs ad infinitum! \"\n",
        "\"What does this mad myth signify? \")\n"
      ],
      "metadata": {
        "id": "IKp-lKrjvXR9"
      },
      "execution_count": 63,
      "outputs": []
    },
    {
      "cell_type": "code",
      "source": [
        "world_set = sorted(list(set(sentence)))  \n",
        "vocab = {word : index for index, word in enumerate(world_set)}\n",
        "\n",
        "print(vocab)"
      ],
      "metadata": {
        "colab": {
          "base_uri": "https://localhost:8080/"
        },
        "id": "aHyetRi7C2XX",
        "outputId": "7e55763c-6dee-4979-a38c-e2cfb7f73b73"
      },
      "execution_count": 66,
      "outputs": [
        {
          "output_type": "stream",
          "name": "stdout",
          "text": [
            "{' ': 0, '!': 1, '.': 2, '?': 3, 'A': 4, 'N': 5, 'T': 6, 'W': 7, 'a': 8, 'c': 9, 'd': 10, 'e': 11, 'f': 12, 'g': 13, 'h': 14, 'i': 15, 'k': 16, 'l': 17, 'm': 18, 'n': 19, 'o': 20, 'p': 21, 'r': 22, 's': 23, 't': 24, 'u': 25, 'v': 26, 'w': 27, 'x': 28, 'y': 29, 'z': 30}\n"
          ]
        }
      ]
    },
    {
      "cell_type": "code",
      "source": [
        "vocab_size = len(vocab)\n",
        "print('문자 집합 크기 : {}'.format(vocab_size))"
      ],
      "metadata": {
        "colab": {
          "base_uri": "https://localhost:8080/"
        },
        "id": "ALm8vG4WC9vC",
        "outputId": "10f410e1-d11f-42e2-8344-1c32af76b3bf"
      },
      "execution_count": 67,
      "outputs": [
        {
          "output_type": "stream",
          "name": "stdout",
          "text": [
            "문자 집합 크기 : 31\n"
          ]
        }
      ]
    },
    {
      "cell_type": "code",
      "source": [
        "# 하이퍼 파라미터\n",
        "hidden_size = vocab_size \n",
        "sequence_length = 10\n",
        "learning_rate = 0.01"
      ],
      "metadata": {
        "id": "qtdCuRWaDAvW"
      },
      "execution_count": 68,
      "outputs": []
    },
    {
      "cell_type": "code",
      "source": [
        "# 데이터 구성을 위한 리스트\n",
        "x_data = []\n",
        "y_data = []\n",
        "\n",
        "for i in range(0, len(sentence) - sequence_length):\n",
        "  x_str = sentence[i:i+sequence_length]\n",
        "  y_str = sentence[i+1: i+sequence_length+1]\n",
        "  print(i, x_str, \"->\", y_str)\n",
        "\n",
        "  # x_str과 y_str이 문자집합에 해당하는 인덱스를 각각 x_data, y_data에 append\n",
        "  x_data.append([vocab[c] for c in x_str])\n",
        "  y_data.append([vocab[d] for d in y_str])"
      ],
      "metadata": {
        "colab": {
          "base_uri": "https://localhost:8080/"
        },
        "id": "0TGjws9eDIS2",
        "outputId": "4d934c22-8245-4854-89d4-0735010a0606"
      },
      "execution_count": 69,
      "outputs": [
        {
          "output_type": "stream",
          "name": "stdout",
          "text": [
            "0 The idea o -> he idea of\n",
            "1 he idea of -> e idea of \n",
            "2 e idea of  ->  idea of e\n",
            "3  idea of e -> idea of et\n",
            "4 idea of et -> dea of ete\n",
            "5 dea of ete -> ea of eter\n",
            "6 ea of eter -> a of etern\n",
            "7 a of etern ->  of eterna\n",
            "8  of eterna -> of eternal\n",
            "9 of eternal -> f eternal \n",
            "10 f eternal  ->  eternal r\n",
            "11  eternal r -> eternal re\n",
            "12 eternal re -> ternal ret\n",
            "13 ternal ret -> ernal retu\n",
            "14 ernal retu -> rnal retur\n",
            "15 rnal retur -> nal return\n",
            "16 nal return -> al return \n",
            "17 al return  -> l return i\n",
            "18 l return i ->  return is\n",
            "19  return is -> return is \n",
            "20 return is  -> eturn is a\n",
            "21 eturn is a -> turn is a \n",
            "22 turn is a  -> urn is a m\n",
            "23 urn is a m -> rn is a my\n",
            "24 rn is a my -> n is a mys\n",
            "25 n is a mys ->  is a myst\n",
            "26  is a myst -> is a myste\n",
            "27 is a myste -> s a myster\n",
            "28 s a myster ->  a mysteri\n",
            "29  a mysteri -> a mysterio\n",
            "30 a mysterio ->  mysteriou\n",
            "31  mysteriou -> mysterious\n",
            "32 mysterious -> ysterious \n",
            "33 ysterious  -> sterious o\n",
            "34 sterious o -> terious on\n",
            "35 terious on -> erious one\n",
            "36 erious one -> rious one.\n",
            "37 rious one. -> ious one. \n",
            "38 ious one.  -> ous one. A\n",
            "39 ous one. A -> us one. An\n",
            "40 us one. An -> s one. And\n",
            "41 s one. And ->  one. And \n",
            "42  one. And  -> one. And N\n",
            "43 one. And N -> ne. And Ni\n",
            "44 ne. And Ni -> e. And Nie\n",
            "45 e. And Nie -> . And Niet\n",
            "46 . And Niet ->  And Nietz\n",
            "47  And Nietz -> And Nietzs\n",
            "48 And Nietzs -> nd Nietzsc\n",
            "49 nd Nietzsc -> d Nietzsch\n",
            "50 d Nietzsch ->  Nietzsche\n",
            "51  Nietzsche -> Nietzsche \n",
            "52 Nietzsche  -> ietzsche h\n",
            "53 ietzsche h -> etzsche ha\n",
            "54 etzsche ha -> tzsche has\n",
            "55 tzsche has -> zsche has \n",
            "56 zsche has  -> sche has o\n",
            "57 sche has o -> che has of\n",
            "58 che has of -> he has oft\n",
            "59 he has oft -> e has ofte\n",
            "60 e has ofte ->  has often\n",
            "61  has often -> has often \n",
            "62 has often  -> as often p\n",
            "63 as often p -> s often pe\n",
            "64 s often pe ->  often per\n",
            "65  often per -> often perp\n",
            "66 often perp -> ften perpl\n",
            "67 ften perpl -> ten perple\n",
            "68 ten perple -> en perplex\n",
            "69 en perplex -> n perplexe\n",
            "70 n perplexe ->  perplexed\n",
            "71  perplexed -> perplexed \n",
            "72 perplexed  -> erplexed o\n",
            "73 erplexed o -> rplexed ot\n",
            "74 rplexed ot -> plexed oth\n",
            "75 plexed oth -> lexed othe\n",
            "76 lexed othe -> exed other\n",
            "77 exed other -> xed other \n",
            "78 xed other  -> ed other p\n",
            "79 ed other p -> d other ph\n",
            "80 d other ph ->  other phi\n",
            "81  other phi -> other phil\n",
            "82 other phil -> ther philo\n",
            "83 ther philo -> her philos\n",
            "84 her philos -> er philoso\n",
            "85 er philoso -> r philosop\n",
            "86 r philosop ->  philosoph\n",
            "87  philosoph -> philosophe\n",
            "88 philosophe -> hilosopher\n",
            "89 hilosopher -> ilosophers\n",
            "90 ilosophers -> losophers \n",
            "91 losophers  -> osophers w\n",
            "92 osophers w -> sophers wi\n",
            "93 sophers wi -> ophers wit\n",
            "94 ophers wit -> phers with\n",
            "95 phers with -> hers with \n",
            "96 hers with  -> ers with i\n",
            "97 ers with i -> rs with it\n",
            "98 rs with it -> s with it.\n",
            "99 s with it. ->  with it. \n",
            "100  with it.  -> with it. T\n",
            "101 with it. T -> ith it. To\n",
            "102 ith it. To -> th it. To \n",
            "103 th it. To  -> h it. To t\n",
            "104 h it. To t ->  it. To th\n",
            "105  it. To th -> it. To thi\n",
            "106 it. To thi -> t. To thin\n",
            "107 t. To thin -> . To think\n",
            "108 . To think ->  To think \n",
            "109  To think  -> To think t\n",
            "110 To think t -> o think th\n",
            "111 o think th ->  think tha\n",
            "112  think tha -> think that\n",
            "113 think that -> hink that \n",
            "114 hink that  -> ink that e\n",
            "115 ink that e -> nk that ev\n",
            "116 nk that ev -> k that eve\n",
            "117 k that eve ->  that ever\n",
            "118  that ever -> that every\n",
            "119 that every -> hat everyt\n",
            "120 hat everyt -> at everyth\n",
            "121 at everyth -> t everythi\n",
            "122 t everythi ->  everythin\n",
            "123  everythin -> everything\n",
            "124 everything -> verything \n",
            "125 verything  -> erything r\n",
            "126 erything r -> rything re\n",
            "127 rything re -> ything rec\n",
            "128 ything rec -> thing recu\n",
            "129 thing recu -> hing recur\n",
            "130 hing recur -> ing recurs\n",
            "131 ing recurs -> ng recurs \n",
            "132 ng recurs  -> g recurs a\n",
            "133 g recurs a ->  recurs as\n",
            "134  recurs as -> recurs as \n",
            "135 recurs as  -> ecurs as w\n",
            "136 ecurs as w -> curs as we\n",
            "137 curs as we -> urs as we \n",
            "138 urs as we  -> rs as we o\n",
            "139 rs as we o -> s as we on\n",
            "140 s as we on ->  as we onc\n",
            "141  as we onc -> as we once\n",
            "142 as we once -> s we once \n",
            "143 s we once  ->  we once e\n",
            "144  we once e -> we once ex\n",
            "145 we once ex -> e once exp\n",
            "146 e once exp ->  once expe\n",
            "147  once expe -> once exper\n",
            "148 once exper -> nce experi\n",
            "149 nce experi -> ce experie\n",
            "150 ce experie -> e experien\n",
            "151 e experien ->  experienc\n",
            "152  experienc -> experience\n",
            "153 experience -> xperienced\n",
            "154 xperienced -> perienced \n",
            "155 perienced  -> erienced i\n",
            "156 erienced i -> rienced it\n",
            "157 rienced it -> ienced it.\n",
            "158 ienced it. -> enced it. \n",
            "159 enced it.  -> nced it. A\n",
            "160 nced it. A -> ced it. An\n",
            "161 ced it. An -> ed it. And\n",
            "162 ed it. And -> d it. And \n",
            "163 d it. And  ->  it. And t\n",
            "164  it. And t -> it. And th\n",
            "165 it. And th -> t. And tha\n",
            "166 t. And tha -> . And that\n",
            "167 . And that ->  And that \n",
            "168  And that  -> And that t\n",
            "169 And that t -> nd that th\n",
            "170 nd that th -> d that the\n",
            "171 d that the ->  that the \n",
            "172  that the  -> that the r\n",
            "173 that the r -> hat the re\n",
            "174 hat the re -> at the rec\n",
            "175 at the rec -> t the recu\n",
            "176 t the recu ->  the recur\n",
            "177  the recur -> the recurr\n",
            "178 the recurr -> he recurre\n",
            "179 he recurre -> e recurren\n",
            "180 e recurren ->  recurrenc\n",
            "181  recurrenc -> recurrence\n",
            "182 recurrence -> ecurrence \n",
            "183 ecurrence  -> currence i\n",
            "184 currence i -> urrence it\n",
            "185 urrence it -> rrence its\n",
            "186 rrence its -> rence itse\n",
            "187 rence itse -> ence itsel\n",
            "188 ence itsel -> nce itself\n",
            "189 nce itself -> ce itself \n",
            "190 ce itself  -> e itself r\n",
            "191 e itself r ->  itself re\n",
            "192  itself re -> itself rec\n",
            "193 itself rec -> tself recu\n",
            "194 tself recu -> self recur\n",
            "195 self recur -> elf recurs\n",
            "196 elf recurs -> lf recurs \n",
            "197 lf recurs  -> f recurs a\n",
            "198 f recurs a ->  recurs ad\n",
            "199  recurs ad -> recurs ad \n",
            "200 recurs ad  -> ecurs ad i\n",
            "201 ecurs ad i -> curs ad in\n",
            "202 curs ad in -> urs ad inf\n",
            "203 urs ad inf -> rs ad infi\n",
            "204 rs ad infi -> s ad infin\n",
            "205 s ad infin ->  ad infini\n",
            "206  ad infini -> ad infinit\n",
            "207 ad infinit -> d infinitu\n",
            "208 d infinitu ->  infinitum\n",
            "209  infinitum -> infinitum!\n",
            "210 infinitum! -> nfinitum! \n",
            "211 nfinitum!  -> finitum! W\n",
            "212 finitum! W -> initum! Wh\n",
            "213 initum! Wh -> nitum! Wha\n",
            "214 nitum! Wha -> itum! What\n",
            "215 itum! What -> tum! What \n",
            "216 tum! What  -> um! What d\n",
            "217 um! What d -> m! What do\n",
            "218 m! What do -> ! What doe\n",
            "219 ! What doe ->  What does\n",
            "220  What does -> What does \n",
            "221 What does  -> hat does t\n",
            "222 hat does t -> at does th\n",
            "223 at does th -> t does thi\n",
            "224 t does thi ->  does this\n",
            "225  does this -> does this \n",
            "226 does this  -> oes this m\n",
            "227 oes this m -> es this ma\n",
            "228 es this ma -> s this mad\n",
            "229 s this mad ->  this mad \n",
            "230  this mad  -> this mad m\n",
            "231 this mad m -> his mad my\n",
            "232 his mad my -> is mad myt\n",
            "233 is mad myt -> s mad myth\n",
            "234 s mad myth ->  mad myth \n",
            "235  mad myth  -> mad myth s\n",
            "236 mad myth s -> ad myth si\n",
            "237 ad myth si -> d myth sig\n",
            "238 d myth sig ->  myth sign\n",
            "239  myth sign -> myth signi\n",
            "240 myth signi -> yth signif\n",
            "241 yth signif -> th signify\n",
            "242 th signify -> h signify?\n",
            "243 h signify? ->  signify? \n"
          ]
        }
      ]
    },
    {
      "cell_type": "code",
      "source": [
        "len(x_data)"
      ],
      "metadata": {
        "colab": {
          "base_uri": "https://localhost:8080/"
        },
        "id": "A9FpOYI8DmO8",
        "outputId": "4b39763e-2fef-41d0-c4f5-a49a006f0531"
      },
      "execution_count": 71,
      "outputs": [
        {
          "output_type": "execute_result",
          "data": {
            "text/plain": [
              "244"
            ]
          },
          "metadata": {},
          "execution_count": 71
        }
      ]
    },
    {
      "cell_type": "code",
      "source": [
        "x_one_hot = [np.eye(vocab_size)[i] for i in x_data]\n",
        "\n",
        "X = torch.FloatTensor(x_one_hot)\n",
        "Y = torch.LongTensor(y_data)"
      ],
      "metadata": {
        "id": "RX7X9oREDuCY"
      },
      "execution_count": 72,
      "outputs": []
    },
    {
      "cell_type": "code",
      "source": [
        "print('훈련 데이터의 크기 : {}'.format(X.shape))\n",
        "print('레이블의 크기 : {}'.format(Y.shape))"
      ],
      "metadata": {
        "colab": {
          "base_uri": "https://localhost:8080/"
        },
        "outputId": "50f554bc-94c3-401b-bd14-da0fa195fcbf",
        "id": "ChLKlnbjDuCY"
      },
      "execution_count": 73,
      "outputs": [
        {
          "output_type": "stream",
          "name": "stdout",
          "text": [
            "훈련 데이터의 크기 : torch.Size([244, 10, 31])\n",
            "레이블의 크기 : torch.Size([244, 10])\n"
          ]
        }
      ]
    },
    {
      "cell_type": "code",
      "source": [
        "print(X[0])"
      ],
      "metadata": {
        "colab": {
          "base_uri": "https://localhost:8080/"
        },
        "outputId": "ef34a74e-5ce7-443f-de1f-712fbd18d1af",
        "id": "xOjoYS-fDuCY"
      },
      "execution_count": 74,
      "outputs": [
        {
          "output_type": "stream",
          "name": "stdout",
          "text": [
            "tensor([[0., 0., 0., 0., 0., 0., 1., 0., 0., 0., 0., 0., 0., 0., 0., 0., 0., 0.,\n",
            "         0., 0., 0., 0., 0., 0., 0., 0., 0., 0., 0., 0., 0.],\n",
            "        [0., 0., 0., 0., 0., 0., 0., 0., 0., 0., 0., 0., 0., 0., 1., 0., 0., 0.,\n",
            "         0., 0., 0., 0., 0., 0., 0., 0., 0., 0., 0., 0., 0.],\n",
            "        [0., 0., 0., 0., 0., 0., 0., 0., 0., 0., 0., 1., 0., 0., 0., 0., 0., 0.,\n",
            "         0., 0., 0., 0., 0., 0., 0., 0., 0., 0., 0., 0., 0.],\n",
            "        [1., 0., 0., 0., 0., 0., 0., 0., 0., 0., 0., 0., 0., 0., 0., 0., 0., 0.,\n",
            "         0., 0., 0., 0., 0., 0., 0., 0., 0., 0., 0., 0., 0.],\n",
            "        [0., 0., 0., 0., 0., 0., 0., 0., 0., 0., 0., 0., 0., 0., 0., 1., 0., 0.,\n",
            "         0., 0., 0., 0., 0., 0., 0., 0., 0., 0., 0., 0., 0.],\n",
            "        [0., 0., 0., 0., 0., 0., 0., 0., 0., 0., 1., 0., 0., 0., 0., 0., 0., 0.,\n",
            "         0., 0., 0., 0., 0., 0., 0., 0., 0., 0., 0., 0., 0.],\n",
            "        [0., 0., 0., 0., 0., 0., 0., 0., 0., 0., 0., 1., 0., 0., 0., 0., 0., 0.,\n",
            "         0., 0., 0., 0., 0., 0., 0., 0., 0., 0., 0., 0., 0.],\n",
            "        [0., 0., 0., 0., 0., 0., 0., 0., 1., 0., 0., 0., 0., 0., 0., 0., 0., 0.,\n",
            "         0., 0., 0., 0., 0., 0., 0., 0., 0., 0., 0., 0., 0.],\n",
            "        [1., 0., 0., 0., 0., 0., 0., 0., 0., 0., 0., 0., 0., 0., 0., 0., 0., 0.,\n",
            "         0., 0., 0., 0., 0., 0., 0., 0., 0., 0., 0., 0., 0.],\n",
            "        [0., 0., 0., 0., 0., 0., 0., 0., 0., 0., 0., 0., 0., 0., 0., 0., 0., 0.,\n",
            "         0., 0., 1., 0., 0., 0., 0., 0., 0., 0., 0., 0., 0.]])\n"
          ]
        }
      ]
    },
    {
      "cell_type": "code",
      "source": [
        "print(Y[0])"
      ],
      "metadata": {
        "colab": {
          "base_uri": "https://localhost:8080/"
        },
        "outputId": "5e401832-0bbe-4cb8-d5fc-1ea0ba6e9c53",
        "id": "WbRPRtK5DuCZ"
      },
      "execution_count": 75,
      "outputs": [
        {
          "output_type": "stream",
          "name": "stdout",
          "text": [
            "tensor([14, 11,  0, 15, 10, 11,  8,  0, 20, 12])\n"
          ]
        }
      ]
    },
    {
      "cell_type": "code",
      "source": [
        "class Net(torch.nn.Module):\n",
        "  def __init__(self, input_dim, hidden_dim, layers):\n",
        "    super(Net, self).__init__()\n",
        "    self.rnn = torch.nn.RNN(input_dim, hidden_dim, layers, batch_first=True)\n",
        "    self.fc = torch.nn.Linear(hidden_dim, vocab_size)\n",
        "  \n",
        "  def forward(self, x):\n",
        "    x, hidden = self.rnn(x)\n",
        "    x = self.fc(x)\n",
        "    return x"
      ],
      "metadata": {
        "id": "KoNNYC2-DuCZ"
      },
      "execution_count": 76,
      "outputs": []
    },
    {
      "cell_type": "code",
      "source": [
        "net = Net(vocab_size, hidden_size, 2)"
      ],
      "metadata": {
        "id": "Z4PEkIuGDuCZ"
      },
      "execution_count": 77,
      "outputs": []
    },
    {
      "cell_type": "code",
      "source": [
        "##12. loss function\n",
        "criterion = torch.nn.CrossEntropyLoss()\n",
        "\n",
        "##13. optimizer\n",
        "optimizer = optim.Adam(net.parameters(), learning_rate)"
      ],
      "metadata": {
        "id": "bMl3bMW2DuCZ"
      },
      "execution_count": 78,
      "outputs": []
    },
    {
      "cell_type": "code",
      "source": [
        "##14. 출력 크기 점검\n",
        "outputs = net(X)\n",
        "print(outputs.shape)"
      ],
      "metadata": {
        "colab": {
          "base_uri": "https://localhost:8080/"
        },
        "outputId": "26de2228-0953-49ac-ee12-a4e33bf436a4",
        "id": "oviBY9PuDuCZ"
      },
      "execution_count": 79,
      "outputs": [
        {
          "output_type": "stream",
          "name": "stdout",
          "text": [
            "torch.Size([244, 10, 31])\n"
          ]
        }
      ]
    },
    {
      "cell_type": "code",
      "source": [
        "##15. Training 시작\n",
        "\n",
        "for i in range(100):\n",
        "    optimizer.zero_grad()\n",
        "    outputs = net(X)\n",
        "    ##문제(7) : outputs, Y 형태 그대로 넣으면 안되죠. view 함수를 이용해 loss값을 계산해봅시다.\n",
        "    loss = criterion(outputs.view(-1, vocab_size), Y.view(-1))\n",
        "    loss.backward()\n",
        "    optimizer.step()\n",
        "\n",
        "    #16. 예측결과 확인\n",
        "    results = outputs.argmax(dim=2)\n",
        "    predict_str = \"\"\n",
        "    for j, result in enumerate(results):\n",
        "        if j == 0: # 처음에는 예측 결과를 전부 가져오기\n",
        "            predict_str += ''.join([world_set[t] for t in result])\n",
        "        else: # 그 다음에는 마지막 글자만 반복 추가\n",
        "            predict_str += world_set[result[-1]]\n",
        "\n",
        "    print(predict_str)"
      ],
      "metadata": {
        "colab": {
          "base_uri": "https://localhost:8080/"
        },
        "outputId": "5e6aed55-e184-4d76-ffbd-00b1c508f1b0",
        "id": "RY29wxytDuCZ"
      },
      "execution_count": 80,
      "outputs": [
        {
          "output_type": "stream",
          "name": "stdout",
          "text": [
            "WWWWvWvWWWWWWrvWkWtWWWvvWWWkvWvtvtvvvWkrWvWvWWWWWWWWkWkrkWkWkWWWtWvWWkWWtWWkWrWWWWkWWWWWkWWtvWWkWkWWkvWvWWkrvWWtWvtWrWWvtWtWWkWWWvWWrWWWtrWWWWvtWvvWvWkWWvWkWWkkWkWWWktvWWWWWvtWtWvtWWWkrWWWkvWWWkrvWWtWWkkWWWWvWWkvWWvWrvWWWkWWtWWrWWkvtWtWvWtWWtvvWvWtvktWk\n",
            "ettttttttttttttdttttttttdttttttttttttdtttdttdttttdtttttttdttttttttttttdtttttttttttttttttdttttttttttttttttttttttttdttttttttttdttttttttttttttttttdttdttdttttxtttttttttttttttdttttttttttttttttttdtttttt.tttttttttttttttttttttvttttttttttdttttttttttttttttttvtttd\n",
            "etttttt tttttttttt ttttttttt ttttttot ttt tt ttttttttttttttttttt ttttttttttttttttttttttttttttttttttttt ttottttttttttttttttttttt ttttttttttttttt tt tttttttttttttttttttttttttttttttttttttttttt tttttt ttttttttttt tttttttttttttttttttt ttttttt tttttttt tttttt\n",
            "ett                                        t   tt             t   t    t               t                                        t                   t               t    t                       t                          t         t     t   t   t        \n",
            "t                                                                                                                                                                                                                                                            \n",
            "t                                                                                                                                                                                                                                                            \n",
            "e                                                                                                                                                                                                                                                            \n",
            "e                                                                                                                                                                                                                                                            \n",
            "e                                                                                                                                                                                                                                                            \n",
            "e   e   ee     ee   e   e e  e        e   e    ee  ee   e e   e  ee    e   e  e  ee   ee          eee   ee   ee       e    e   ee     ee   e e  ee  e   ee   ee  e  ee  ee  ee   ee  ee   ee  e ee     ee  ee e  ee   ee    e    ee   e    ee  ee  ee    e   \n",
            "e  ee   ee e   ee  ee  eeee  ee ee e  ee  ee   ee  eee  eeee ee  ee   ee  eee ee ee   eee e  ee e eeee  eee  ee  eee ee    ee  ee  e  ee  eeee  ee  e e ee   ee  e  ee  ee  eee  ee  ee  eee  e ee   e ee  eeee  ee   ee  e eee  ee   ee   ee  ee  ee    e   \n",
            "e  ee   ee  e   ee  e  eeee  et ee e  ee  ee   et  eee  eee  ee  ee   ee  eee ee ee   een    ee   eeee  eee  ee  ee  ee    en  ee  e  ee  eeee  ee  e e ee   ee  e  et  ee  eee  ee  ee  eee  e ee   e ee  eeee  ee   ee  eeeee  ee   et   ee  ee  ee    e   \n",
            "e   e   et  e   et  e   eee  et e  et e   et   et  eee  ene  ee  et   ie  eet ee et   een    ee   eeet  eet  et  ee   e    et  eeh e  ee   eee  et  e e et   ee  e  et  et  eee  ee   e   ee  e  t   e ee  eeee  et   ee  eeeee  et   et   et  ee   eh   e   \n",
            "e   t   et  t e et  e   eee  et e  et e   et   et  eee  ene  et  et    et ee  e  et    et    ee   eeet  eet  et  eet  ehe  et   eh e  ee   eee  et  t e  t   ee  e  et  et   ee  et   et  ee  e  t     ee   eee  et    e  eeeee  et   et   et  eet  eh   e   \n",
            "e   t   et  t e et  e   eet  et e  et et  et   et   re  ete  et  et    et ee  e  et    et e  ee   eeet  ett  et   et  the  et   et t  tee  eee  et  t e  t    t  e  et   t   ee  et   et   et e  t     et   eet  et    e  e eee  et   et   et  eee  th   e   \n",
            "    t   et  t e et et    et  et e  et et eet   et   re  etet et  et e  et ee  e  et e  et t  eee   eet  eth  et   et  thet et   et t  tee  eee  et et e  t    t  e  tt   e   eet et   et e et e  t  t  et    et  et    e  e eee  et   et t et  ehe  th   e  t\n",
            "  t t    e et e et et    et  et et et et eet   et   iet etet et  et et et et  et et et et t  eet   eet  eth  it   et  thet et   et t  tee   ett et et et t e  t  t  tt   e   het etet e  t et e  t  t  et    eth et e  et e ehet et   et t et  rhe  the  e  t\n",
            "  t t    t et t et et  r ett et et et et eet   it  tiet eret et  et et et et  et et et etet  eet t eet  eth  it ehet  thet et t et t  tee   eeh et et et t e  t  e  tt tih  rhet etet e  t et e it  t  et  t eth et e  et e ehet et   et t et  rhe  t e  e  t\n",
            "  t t   ethet t et iet riett et et et et eet   it  riet e et it  et et et ee  et ethet ehet   et t eit  rih  it ehet  thet et t ehet  ree   eeh et et et tee  e  e  et  ih  rhet ehet e  t et e it  r  et  r eth et e  et i ehet et   et t et  rhe it et e  t\n",
            " et t   ethet r et iet ri et et et et et  et   it  riet e et itt et er et ee  et ethet ehet   et t  it  rit  it ehet  thet et r ehet  ree    at et et etitee ie  e  eth it  rhet rhet e  t et e ith r  et  r eat et    et i ehet rte  eh t et  rhe it et e e \n",
            " et t   ethet r e  iet rr et et et it eth et   it  riet e et  tt it er et eet et ethet ehet   et t  itt  it  it ehet  rhet rn rithet  ree    at it et eritee  e  e  eth it  rhet rhet t  r er e ith i  it  r  at rt    etii rhet rhe  ehet eh  iht it e  e i \n",
            " et t   ethet r e  iet  r et at et it eth et   ia  riet e et  tt it er et eet et ethet ehet   etet  itt  it  it ehet  rhet rh rithet  ree    at it it   itee  e  e  eth it  rhet rhet t  r er e ith i  it  r  at it    eeii rhet rhe  ohet eh  iht  t e  e i \n",
            " et t   ethet rie  iet  n et at at it eth et   ia  rhet  iet  et it er et eer er ethet ehet   etet  itt  it  it ehet  rhet rnerithet  ree r  at ot it   itee ie  er eth it  rhet rhet t  r er e ith i  et  r  at it    eeii rhet rhe  ohet ih  rhth t e  e i \n",
            " et t   ethet rie  ret rn et at at etieth ot   At  rhet riet  et ot ercet eerher ethen ehet   etet  ath  nt  At thin  thet rnerethet  ree r  at ot et   iteerie  er eth it  rhet rhet t  r erce ith r  et  r  at ot   ieeih rhet rhe  ohet ih  rheh nhe  e i \n",
            " etit   ethet rie  ret rn et at at erieth ot   At  rhet riet  et ot ercet eerher ethen ehet   eten  athh nte At thin  thet rnerethet  ree r  at at et   iteerie  er eth An  rhet rhen t  rserce ith r  et  rs at ot  rieeia rhet rhet ohet oh  rheh nhe  e i \n",
            " etit   ethen rie  ret rn et atiat erieth ot   At  rhet riet  et rn ercpt eerhe  ethen ehet   eten  athh nte Ahethin  thet rnerethet  ree rs at at eth  iteerie  e  oth An  rhet rhen tc rserce ith r  et  rs at ot  rieei! rhet rhet ahit oh  rheh nhe  e i \n",
            " etit   ethen rie  ret rn et atiat erieth ot   At  rhe  riet iet rn ercpt eethe  ethen ehen   eten  athh nte Ahethin  thet rnerethen  ree rs as at etce ineerie  e  oth An  rhet rhen tc rserce ith r  et  rs as ot  rie r! rhet rhet ahit ah  rheh nhe  e i \n",
            " etit   ethen rie  ret rn et atiat eriets et   At  the  ript iet rn ercpt eethe  ethen ehen   eten  atth nte Asethin  thet rnerethen  recurs as at itce ineerie  e  oth An  thet rhen ecurserce ith r  et  rs as ot  rie r! rhet rset ahin ah  rhth nhe  e is\n",
            " etit r etsen rie  ret rn et at at eriets et   Atd the  ript iet rt ercptreethe  ethen ehen   esen  atth nse Atethen  thet rnerethen  reeurs as At itce ineerie  e  eth An  thet rhen ecurserce ith r  et  rs as ot  rie r! rhet rset ahin ih  rhth n e  e is\n",
            " etit r etsenhr ed return es as yt hriets en   Atd tse  r pt iet rn ercptrperhe  ethen ehen   esen  weth nse At then  thet rnerethin  reeurs as At itce ineerie ce  eth And thet rhen ecurserce ith T  etcurs as mt  rie r! rhet rset ahin ia  rhth n e  e is\n",
            " etit r eneenhr ed returs es asiyt hriets in   Atd tiedir pt iet rn ercptrperhe  ethen ehet   esen  weth ise At then  thet rnerethin   eeurs as As itce ineerie ce  eth And thet rhed ecurserce ith r  etcurs as mtc rie r! rhet rset ahin iyd rythen e  e is\n",
            " etit r en enhr pd returs ts asiyt eriets it   Atd tiedir pt iet rn ercptrperce  ethen ehet   esen  weth is  At then  thet rnerethinc  ecurs as as itce ineerie ce  eth And thet rhed ecursence ith r  etcurs as rnc rie r! rhet rset ahin iyd rythen i  e is\n",
            " etit r et ethr pd returs ts asiyt eriets it   Atd tiedircptriet rt ercptrper!ed ethen ehet   esen  weth is  At then  thet rnerethinc  ecurs as as etce ineerierce  eth And thet rhe  ecursence ith rf etcurs as rtc rit r! ihet rset ahin iyd rythen i  e is\n",
            " etit r et et ripd returs ts asiyt eriets it   Atd tied rcatriet rtsercpurper!ed ethen ehet   ahen eweth ish At thin  thet rnerethinc recurs as as etce ireeriedce  eth And thet rhe  ecursence ith rf etcurs as mtc rit i! ihet roet ahin iyd rythen i  e is\n",
            "eetit r etset ripd returs as asiyt hrieus at   Atd tied rch riet mfsercpurper!ed ither ehitu  ahen eweth ish At thin  thet rnerpthinc recurs as as etce ireeriedce  ith And thet rhe  ecursence ith rf etcurs as mtc ritui! ihet roet ahin myd ryth r a re is\n",
            "eetit r et et ried returs as asiyt hrieus at   Atd tiethrch riet mfser purper!ed ither ehitu  ahen eweth ish At thin  thet rnerpthinc recurs as as otce rreeriedce  ith And thet rhe  ecursence rth rf etcurs as mt  ritui! ihet roet ahin myd ryth r a re i \n",
            "eetit r rf eteried returs as asiytehrieus ot e Atd tiethr h rhed mfser purper!ed ither ehitu  ahen  weth ish At thin  thet rnerpthinc recurs as as otce rreerierce  ith And thet rhe  ecursence rth Tf itcurs as ot  ritum! ihet roes ahin myd myth r a ie i \n",
            "eetit r rf eteried returs as asiytshrieus on e And tiethr h rhed mfser perper!ed ither ehitu  ahene weth ith At thin  that rrerpthinc recurs as ws otce rreerierce  ith And thet rhe  ecursence rthe!f itcurs as ot eritum! rhet roet ahit mad myth r a ie i \n",
            "eetit r rfseteried returs as asiytshrieus on e And tiethr h rhed mfter perperved ether ahitu  ahene weth ith Ao thin  that rrerpthinc recurs as ws otce rrperietce  ith And thet rhe recursence rthe!f iecurs as ot eritum! rhet roet ahit mad myth ria ie i \n",
            "eetit r rfseteriel returs as asiytshrieus on e And tiethr h rhed mfter perpeeved ether phith  ahen  weth ith Ao thin  that rrerpthinc recurs as ws otce rrperietce  ith And that rhe recursence rthe!  iecurs as ot eritum! rhet roes ahit mad myth ria ie i \n",
            "eetit i  fseterrel returs is asiytserieus on e And tiethr h rhed mfter perpeeved ether phith  phen  weth ith Ao thin  that rrerpth nc recurs as ws otce rrperietce  ith And that rhe recursence rthe!  eecurs as ot enitum! rhat roes ahit mad myth ria it i \n",
            "eetit i  fseterrpl returs is asiyteeriaus onee And tietzr h rhed mfter perpeered ether phith  phen  with ith Ao thin  that rrerpth nc recurs as ws once rrperietce  ith And that rhe recursence ithe!  iecurs as otcenitum! rhat roes ahit mad myth ria it i \n",
            "eetit i  fseterrpl returs is asiyteeritus onee And tietzsch rhed mfter perpeered ether phith  phen  with ith Ao thin  that rrerpthinc recurs as ws once rrperience  ith And that rhe recursence ithe!  iecurs as otcpnitum! rhat roes thit mad myth ria it i \n",
            "eetit i  f eterrpl returs is asmyteeritus onee And tietzscherhed mfter perpeered ether phith  phen  with it. Ao thin  that rrerpthinc recurs as ws once rrperience  ith And that rhe recursence ithe!  recurs as otcpnitum! What roes thit mad myth ria it w \n",
            "eetitei  f eterrpl returs is asmytteritus onee And tietzsche hat mfter perpeered ether phiths phen  with it. Ao thin  that rrerythinc recurs as we once orperience  ith And that rhe recursence ithe!f recurs as on  nitum! What roes thit mad myth ria ituw \n",
            "eetitei if eterrpl returs as asmytteritus onee And tietzsche hat mfter perpeeved ether phinosephen  with it. Ao thin  that rrerythinc recurs as we once orperience  ith And that rhe recursence iteelf recurs as on lnitum! What roes thit mad myth ria ituW \n",
            "eetiteh if eterrpl returs as asmytteritus onee And tietzsche hat mfter perpeeved ether phitosephen  with it. Ao thin  that rrerythinc recurs as we once orperience  ith And that rhe oecursence iteelf recurs as mn  nitum! What roes thit mad myth sia ieuW \n",
            "ee iteh if eterrpl returs as asmytteritus onee And tietzsche hat ofter perpeered ether phitosephen  with it. Ao thin  that rrerythinc recurs as we once orperience  ith And that rhe recursence iteelf recurs as mn  nitum! What roes thit myd myth sia ieuW \n",
            "oe iteh if eterrpl returs as asmytteriaus onee And tietzsche hat ofter perpeered ether phitosephens with it. Ao think that rxerythinc recurs as we once orperience  it. And that rhe recursence iteelf recurs as mncinitum! What roes thit myd myth tia ieuW \n",
            "oe iteh if eterrpl returs is asmysterious onee And tietzsche hat ofter perpeered ether phitosephens with it. Ao think that rxerythinc recurs as we once orperience  it. And that rhe recursence iteelf recurs as mncinitum! What roes thit myd myth tia ieuW \n",
            "oe htth if eterrpl returs is asmysterious onee And tietzsche hat ofter perpeexed ether phinosephens with it. Ao think that rxerythinc recurs as we once orperience  ot. And that rhe recursence ittelf recurs as mncinitum! What roes thit myd myth tia ieuW \n",
            "oe htth of eterrpl return is asmysterious onee And tietzsche hat often perpeexed ether phinosephens with it. Ao think that rxerything recurs as we once orperience  ot. And that rhe recursence ittelf recurs as mncinitum! What roes thit myd myth tia ieuh \n",
            "oe htth of eterrpl return is asmysterious onee And tietzsche hat often perpeexed ether phinosephens with it. Ao think that rxerything recurs as we once orperience  it. And that rhe recursence ittelf recurs as mncinitum! What roes thit myd myth sia ituh \n",
            "oe htth of eterrpl return is asmysterious onee And tietzsche hat often perpeexed ether philosephels with it. Ao think that rxerything recurs as we once oxperience  it. And that rhe recursence ittelf recurs as infinitum! What roes thit myd myth sia ituh \n",
            "oe htth of eterrpl return is asmysterious onee And tietzsche hat often perpeexed ether philosephels with it. Ao think that rxerything recurs as we once oxperience  it. And that ohe recursence ittelf recurs as infinitum! What roes thit myd myth sia ituh \n",
            "oe hteh of eternpl return is asmysterious onee And tietzsche hat often perplexed ether philos phels with it. Ao think that oxerything recurs as we once ixperience  it. And that ohe recursence itself recurs as infinitum! What roes thit myd myth sia ituh \n",
            "oe hteh of eternpl return is asmysterious onee And tietzsche hat often perplexed ether philos phels with it. Ao think that oxerything recurs as we once ixperience  it. And that ohe recursence itself recurs as infinitum! What roes thit myd myth sia inuW \n",
            "oe htea of eternpl return is asmysterious onee And tietzsche hat often perplexed ether philos phels with it. Ao think that oxerything recurs as we once ixperience  it. And that ohe recurrence itself recurs as infinitum! What roes thit myd myth sianinuW \n",
            "oe htea of eternpl return is asmysterious onee And tietzsche hat often perplexed ether philos phers with it. Ao think that oxerything recurs as we once ixperienced it. And that ohe recurrence itself recurs as infinitum! What roes thit myd myth sianinuW \n",
            "oe htea of eternpl return is asmysterious onee And tietzsche hat often perplexed ether philosophers with it. Ao think that oxerything recurs as we once ixperienced it. And that ohe recurrence itself recurs as infinitum! What does thit myd myth sianinuh \n",
            "oe htea of eternal return is asmysterious onee And tietzsche hat often perplexed ether philosophers with it. Ao think that oxerything recurs as we once ixperienced it. And that ohe recurrence itself recurs as infinitum! What does thit myd myth sianifuh \n",
            "oe htea of eternal return is asmysterious onee And tietzsche hat often perplexed other philosophers with it. Ao think that oxerything recurs as we once ixperienced it. And that ohe recurrence itself recurs as infinitum! What does thit mad myth sianifuh \n",
            "oe htea of eternal return is asmysterious onee And tietzsche hat often perplexed other philosophers with it. Ao think that overything recurs as we once ixperienced it. And that ohe recurrence itself recurs as infinitum! What does this mad myth sianifxh \n",
            "oe htea of eternal return is asmysterious onee And tietzsche hat often perplexed other philosophers with it. Ao think that tverything recurs as we once ixperienced it. And that ohe recurrence itself recurs as infinitum! What does this mad myth sianifxh \n",
            "oe htea of eternal return is asmysterious onee And tietzsche hat often perplexed other philosophers with it. To think that tverything recurs as we once ixperienced it. And that ohe recurrence itself recurs as infinitum! What does this mad myth sianifpW \n",
            "oe htea of eternal return is asmysterious onee And tietzsche hat often perplexed other philosophers with it. To think that tverything recurs as we once ixperienced it. And that ohe recurrence itself recurs as infinitum! What does this mad myth sianifpW \n",
            "oe htea of eternal return is asmysterious one. And tietzsche hat often perplexed other philosophers with it. To think that tverything recurs as we once ixperienced it. And that ohe recurrence itself recurs as infinitum! What does this mad myth sianifpW \n",
            "oe htea of eternal return is asmysterious one. And tietzsche hat often perplexed other philosophers with it. To think that tverything recurs as we once ixperienced it. And that ohe recurrence itself recurs as infinitum! What does this mad myth sianifyW \n",
            "oe htea of eternal return is a mysterious one. And tietzsche hat often perplexed other philosophers with it. To think that tverything recurs as we once ixperienced it. And that ohe recurrence itself recurs as infinitum! What does this mad myth sianifyW \n",
            "oe itea of eternal return is a mysterious one. And tietzsche hat often perplexed other philosophers with it. To think that tverything recurs as we once ixperienced it. And that ohe recurrence itself recurs as infinitum! What does this mad myth signifyW \n",
            "oe itea of eternal return is a mysterious one. And tietzsche hat often perplexed other philosophers with it. To think that tverything recurs as we once ixperienced it. And that ohe recurrence itself recurs as infinitum! What does this mad myth signifyW \n",
            "oe itea of eternal return is a mysterious one. And tietzsche hat often perplexed other philosophers with it. To think that everything recurs as we once ixperienced it. And that ohe recurrence itself recurs as infinitum! What does this mad myth signifyW \n",
            "oe htea of eternal return is a mysterious one. And tietzsche hat often perplexed other philosophers with it. To think that everything recurs as we once ixperienced it. And that ohe recurrence itself recurs as infinitum! What does this mad myth signifyW \n",
            "oe hdea of eternal return is a mysterious one. And tietzsche hat often perplexed other philosophers with it. To think that everything recurs as we once ixperienced it. And that ohe recurrence itself recurs as infinitum! What does this mad myth signifyW \n",
            "oe hdea of eternal return is a mysterious one. And tietzsche hat often perplexed other philosophers with it. To think that everything recurs as we once ixperienced it. And that ohe recurrence itself recurs as infinitum! What does this mad myth signifyW \n",
            "oe hdea of eternal return is a mysterious one. And tietzsche hat often perplexed other philosophers with it. To think that everything recurs as we once ixperienced it. And that ohe recurrence itself recurs as infinitum! What does this mad myth signifyy \n",
            "oe idea of eternal return is a mysterious one. And tietzsche hat often perplexed other philosophers with it. To think that everything recurs as we once ixperienced it. And that the recurrence itself recurs as infinitum! What does this mad myth signifyy \n",
            "oe idea of eternal return is a mysterious one. And tietzsche hat often perplexed other philosophers with it. To think that everything recurs as we once ixperienced it. And that the recurrence itself recurs as infinitum! What does this mad myth signifyy \n",
            "oe idea of eternal return is a mysterious one. And tietzsche has often perplexed other philosophers with it. To think that everything recurs as we once experienced it. And that the recurrence itself recurs as infinitum! What does this mad myth signifyy \n",
            "oe idea of eternal return is a mysterious one. And tietzsche has often perplexed other philosophers with it. To think that everything recurs as we once experienced it. And that the recurrence itself recurs as infinitum! What does this mad myth signifyy \n",
            "oe idea of eternal return is a mysterious one. And tietzsche has often perplexed other philosophers with it. To think that everything recurs as we once experienced it. And that the recurrence itself recurs as infinitum! What does this mad myth signify? \n",
            "oe idea of eternal return is a mysterious one. And tietzsche has often perplexed other philosophers with it. To think that everything recurs ad we once experienced it. And that the recurrence itself recurs as infinitum! What does this mad myth signify? \n",
            "oe idea of eternal return is a mysterious one. And tietzsche has often perplexed other philosophers with it. To think that everything recurs ad we once experienced it. And that the recurrence itself recurs as infinitum! What does this mad myth signify? \n",
            "oe idea of eternal return is a mysterious one. And tietzsche has often perplexed other philosophers with it. To think that everything recurs ad we once experienced it. And that the recurrence itself recurs as infinitum! What does this mad myth signify? \n",
            "oe idea of eternal return is a mysterious one. And tietzsche has often perplexed other philosophers with it. To think that everything recurs ad we once experienced it. And that the recurrence itself recurs as infinitum! What does this mad myth signify? \n",
            "oe idea of eternal return is a mysterious one. And tietzsche has often perplexed other philosophers with it. To think that everything recurs ad we once experienced it. And that the recurrence itself recurs as infinitum! What does this mad myth signify? \n",
            "oe idea of eternal return is a mysterious one. And tietzsche has often perplexed other philosophers with it. To think that everything recurs ad we once experienced it. And that the recurrence itself recurs as infinitum! What does this mad myth signify? \n",
            "oe idea of eternal return is a mysterious one. And Nietzsche has often perplexed other philosophers with it. To think that everything recurs ad we once experienced it. And that the recurrence itself recurs as infinitum! What does this mad myth signify? \n",
            "oe idea of eternal return is a mysterious one. And Nietzsche has often perplexed other philosophers with it. To think that everything recurs ad we once experienced it. And that the recurrence itself recurs as infinitum! What does this mad myth signify? \n",
            "oe idea of eternal return is a mysterious one. And Nietzsche has often perplexed other philosophers with it. To think that everything recurs ad we once experienced it. And that the recurrence itself recurs as infinitum! What does this mad myth signify? \n",
            "oe idea of eternal return is a mysterious one. And Nietzsche has often perplexed other philosophers with it. To think that everything recurs ad we once experienced it. And that the recurrence itself recurs as infinitum! What does this mad myth signify? \n",
            "oe idea of eternal return is a mysterious one. And Nietzsche has often perplexed other philosophers with it. To think that everything recurs ad we once experienced it. And that the recurrence itself recurs as infinitum! What does this mad myth signify? \n",
            "oe idea of eternal return is a mysterious one. And Nietzsche has often perplexed other philosophers with it. To think that everything recurs ad we once experienced it. And that the recurrence itself recurs as infinitum! What does this mad myth signify? \n",
            "oe idea of eternal return is a mysterious one. And Nietzsche has often perplexed other philosophers with it. To think that everything recurs ad we once experienced it. And that the recurrence itself recurs as infinitum! What does this mad myth signify? \n",
            "oe idea of eternal return is a mysterious one. And Nietzsche has often perplexed other philosophers with it. To think that everything recurs ad we once experienced it. And that the recurrence itself recurs as infinitum! What does this mad myth signify? \n",
            "oe idea of eternal return is a mysterious one. And Nietzsche has often perplexed other philosophers with it. To think that everything recurs ad we once experienced it. And that the recurrence itself recurs as infinitum! What does this mad myth signify? \n",
            "oe idea of eternal return is a mysterious one. And Nietzsche has often perplexed other philosophers with it. To think that everything recurs ad we once experienced it. And that the recurrence itself recurs as infinitum! What does this mad myth signify? \n",
            "oe idea of eternal return is a mysterious one. And Nietzsche has often perplexed other philosophers with it. To think that everything recurs ad we once experienced it. And that the recurrence itself recurs as infinitum! What does this mad myth signify? \n",
            "oe idea of eternal return is a mysterious one. And Nietzsche has often perplexed other philosophers with it. To think that everything recurs ad we once experienced it. And that the recurrence itself recurs as infinitum! What does this mad myth signify? \n",
            "oe idea of eternal return is a mysterious one. And Nietzsche has often perplexed other philosophers with it. To think that everything recurs ad we once experienced it. And that the recurrence itself recurs as infinitum! What does this mad myth signify? \n"
          ]
        }
      ]
    },
    {
      "cell_type": "code",
      "source": [
        "predict_str"
      ],
      "metadata": {
        "colab": {
          "base_uri": "https://localhost:8080/",
          "height": 54
        },
        "outputId": "92e56d64-4d6a-4614-9240-47bc4884fb9a",
        "id": "Z3pwETPUDuCZ"
      },
      "execution_count": 81,
      "outputs": [
        {
          "output_type": "execute_result",
          "data": {
            "text/plain": [
              "'oe idea of eternal return is a mysterious one. And Nietzsche has often perplexed other philosophers with it. To think that everything recurs ad we once experienced it. And that the recurrence itself recurs as infinitum! What does this mad myth signify? '"
            ],
            "application/vnd.google.colaboratory.intrinsic+json": {
              "type": "string"
            }
          },
          "metadata": {},
          "execution_count": 81
        }
      ]
    }
  ]
}