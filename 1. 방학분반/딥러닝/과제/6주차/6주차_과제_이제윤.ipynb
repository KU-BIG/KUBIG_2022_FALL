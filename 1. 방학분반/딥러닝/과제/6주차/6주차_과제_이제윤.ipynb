{
  "nbformat": 4,
  "nbformat_minor": 0,
  "metadata": {
    "colab": {
      "name": "6주차_과제_이제윤.ipynb",
      "provenance": [],
      "collapsed_sections": []
    },
    "kernelspec": {
      "name": "python3",
      "display_name": "Python 3"
    },
    "language_info": {
      "name": "python"
    },
    "accelerator": "GPU",
    "gpuClass": "standard"
  },
  "cells": [
    {
      "cell_type": "code",
      "execution_count": 1,
      "metadata": {
        "id": "nmQ5F7UAeKB_"
      },
      "outputs": [],
      "source": [
        "import numpy as np\n",
        "import torch\n",
        "import torch.nn as nn\n",
        "import torch.optim as optim"
      ]
    },
    {
      "cell_type": "markdown",
      "source": [
        "## Task1\n",
        "\n",
        "빈 칸을 채워주세요!\n",
        "\n",
        "단계별 output이 github 파일에는 남아있으니 그 output과 동일한 형태인지 확인하면서 진행해주시면 됩니다~"
      ],
      "metadata": {
        "id": "Sgxd6SxmeVcP"
      }
    },
    {
      "cell_type": "code",
      "source": [
        "#1. 생성할 문장 데이터\n",
        "\n",
        "sentence = (\"Brick walls are there for a reason and you must not think \"\n",
        "            \"that the brick walls aren't there to keep us out, but rather \"\n",
        "            \"in this way that the brick walls are there to show us how badly we want things.\")"
      ],
      "metadata": {
        "id": "NDvUeC8BoUb6"
      },
      "execution_count": 2,
      "outputs": []
    },
    {
      "cell_type": "code",
      "source": [
        "#2. 문자 집합 만들기\n",
        "world_set = list(set(sentence))\n",
        "\n",
        "## 문제(1): 각 문자에 정수 인코딩 (공백도 하나의 원소로 포함)\n",
        "vocab = {c: i for i, c in enumerate(world_set)}"
      ],
      "metadata": {
        "id": "b9lkrKyZf8ie"
      },
      "execution_count": 3,
      "outputs": []
    },
    {
      "cell_type": "code",
      "source": [
        "print(vocab)"
      ],
      "metadata": {
        "colab": {
          "base_uri": "https://localhost:8080/"
        },
        "id": "F_0we5Y-gYDq",
        "outputId": "83d017ce-1a13-4f0c-a82d-68416bcdf0c1"
      },
      "execution_count": 4,
      "outputs": [
        {
          "output_type": "stream",
          "name": "stdout",
          "text": [
            "{'m': 0, 'B': 1, 'l': 2, 'b': 3, 'a': 4, 'o': 5, 'y': 6, 'd': 7, '.': 8, 'c': 9, 'r': 10, 'w': 11, 'e': 12, 'n': 13, 'u': 14, 'i': 15, 't': 16, 'p': 17, 's': 18, \"'\": 19, 'g': 20, ',': 21, 'f': 22, 'k': 23, ' ': 24, 'h': 25}\n"
          ]
        }
      ]
    },
    {
      "cell_type": "code",
      "source": [
        "#3. 문자 집합 크기 확인\n",
        "\n",
        "vocab_size = len(vocab)\n",
        "print('문자 집합 크기 : {}'.format(vocab_size))"
      ],
      "metadata": {
        "colab": {
          "base_uri": "https://localhost:8080/"
        },
        "id": "TpKupU6lgpfT",
        "outputId": "cf5cf8ed-b162-421e-e23d-5b8d5f422c24"
      },
      "execution_count": 5,
      "outputs": [
        {
          "output_type": "stream",
          "name": "stdout",
          "text": [
            "문자 집합 크기 : 26\n"
          ]
        }
      ]
    },
    {
      "cell_type": "code",
      "source": [
        "#4. 하이퍼 파라미터 설정(자유롭게 수정해보세요!)\n",
        "\n",
        "hidden_size = vocab_size # 같아야 하는 것 확인!\n",
        "sequence_length = 10  # 너무 길거나 너무 짧게 잡으면 안됩니다!\n",
        "learning_rate = 0.01"
      ],
      "metadata": {
        "id": "wFDZJHSMg9In"
      },
      "execution_count": 6,
      "outputs": []
    },
    {
      "cell_type": "code",
      "source": [
        "#5. seqence 길이 단위 자르기\n",
        "\n",
        "# 데이터 구성을 위한 리스트\n",
        "x_data = []\n",
        "y_data = []\n",
        "\n",
        "## 문제(2): 반복문 내에서의 인덱싱을 사용하여 sequence_length 값 단위로 샘플을 잘라 데이터 만들기, y_str은 x_str은 한 칸씩 쉬프트된 sequnce\n",
        "\n",
        "for i in range(0, len(sentence) - sequence_length):\n",
        "  x_str = sentence[i:i + sequence_length] \n",
        "  y_str = sentence[i + 1: i + sequence_length + 1]\n",
        "  print(i, x_str, \"->\", y_str)\n",
        "\n",
        "  # x_str과 y_str이 문자집합에 해당하는 인덱스를 각각 x_data, y_data에 append\n",
        "  x_data.append([vocab[c] for c in x_str])\n",
        "  y_data.append([vocab[d] for d in y_str])"
      ],
      "metadata": {
        "colab": {
          "base_uri": "https://localhost:8080/"
        },
        "id": "RbDcmJmghN7V",
        "outputId": "f9bc50c4-07a8-450d-db45-30096601129e"
      },
      "execution_count": 7,
      "outputs": [
        {
          "output_type": "stream",
          "name": "stdout",
          "text": [
            "0 Brick wall -> rick walls\n",
            "1 rick walls -> ick walls \n",
            "2 ick walls  -> ck walls a\n",
            "3 ck walls a -> k walls ar\n",
            "4 k walls ar ->  walls are\n",
            "5  walls are -> walls are \n",
            "6 walls are  -> alls are t\n",
            "7 alls are t -> lls are th\n",
            "8 lls are th -> ls are the\n",
            "9 ls are the -> s are ther\n",
            "10 s are ther ->  are there\n",
            "11  are there -> are there \n",
            "12 are there  -> re there f\n",
            "13 re there f -> e there fo\n",
            "14 e there fo ->  there for\n",
            "15  there for -> there for \n",
            "16 there for  -> here for a\n",
            "17 here for a -> ere for a \n",
            "18 ere for a  -> re for a r\n",
            "19 re for a r -> e for a re\n",
            "20 e for a re ->  for a rea\n",
            "21  for a rea -> for a reas\n",
            "22 for a reas -> or a reaso\n",
            "23 or a reaso -> r a reason\n",
            "24 r a reason ->  a reason \n",
            "25  a reason  -> a reason a\n",
            "26 a reason a ->  reason an\n",
            "27  reason an -> reason and\n",
            "28 reason and -> eason and \n",
            "29 eason and  -> ason and y\n",
            "30 ason and y -> son and yo\n",
            "31 son and yo -> on and you\n",
            "32 on and you -> n and you \n",
            "33 n and you  ->  and you m\n",
            "34  and you m -> and you mu\n",
            "35 and you mu -> nd you mus\n",
            "36 nd you mus -> d you must\n",
            "37 d you must ->  you must \n",
            "38  you must  -> you must n\n",
            "39 you must n -> ou must no\n",
            "40 ou must no -> u must not\n",
            "41 u must not ->  must not \n",
            "42  must not  -> must not t\n",
            "43 must not t -> ust not th\n",
            "44 ust not th -> st not thi\n",
            "45 st not thi -> t not thin\n",
            "46 t not thin ->  not think\n",
            "47  not think -> not think \n",
            "48 not think  -> ot think t\n",
            "49 ot think t -> t think th\n",
            "50 t think th ->  think tha\n",
            "51  think tha -> think that\n",
            "52 think that -> hink that \n",
            "53 hink that  -> ink that t\n",
            "54 ink that t -> nk that th\n",
            "55 nk that th -> k that the\n",
            "56 k that the ->  that the \n",
            "57  that the  -> that the b\n",
            "58 that the b -> hat the br\n",
            "59 hat the br -> at the bri\n",
            "60 at the bri -> t the bric\n",
            "61 t the bric ->  the brick\n",
            "62  the brick -> the brick \n",
            "63 the brick  -> he brick w\n",
            "64 he brick w -> e brick wa\n",
            "65 e brick wa ->  brick wal\n",
            "66  brick wal -> brick wall\n",
            "67 brick wall -> rick walls\n",
            "68 rick walls -> ick walls \n",
            "69 ick walls  -> ck walls a\n",
            "70 ck walls a -> k walls ar\n",
            "71 k walls ar ->  walls are\n",
            "72  walls are -> walls aren\n",
            "73 walls aren -> alls aren'\n",
            "74 alls aren' -> lls aren't\n",
            "75 lls aren't -> ls aren't \n",
            "76 ls aren't  -> s aren't t\n",
            "77 s aren't t ->  aren't th\n",
            "78  aren't th -> aren't the\n",
            "79 aren't the -> ren't ther\n",
            "80 ren't ther -> en't there\n",
            "81 en't there -> n't there \n",
            "82 n't there  -> 't there t\n",
            "83 't there t -> t there to\n",
            "84 t there to ->  there to \n",
            "85  there to  -> there to k\n",
            "86 there to k -> here to ke\n",
            "87 here to ke -> ere to kee\n",
            "88 ere to kee -> re to keep\n",
            "89 re to keep -> e to keep \n",
            "90 e to keep  ->  to keep u\n",
            "91  to keep u -> to keep us\n",
            "92 to keep us -> o keep us \n",
            "93 o keep us  ->  keep us o\n",
            "94  keep us o -> keep us ou\n",
            "95 keep us ou -> eep us out\n",
            "96 eep us out -> ep us out,\n",
            "97 ep us out, -> p us out, \n",
            "98 p us out,  ->  us out, b\n",
            "99  us out, b -> us out, bu\n",
            "100 us out, bu -> s out, but\n",
            "101 s out, but ->  out, but \n",
            "102  out, but  -> out, but r\n",
            "103 out, but r -> ut, but ra\n",
            "104 ut, but ra -> t, but rat\n",
            "105 t, but rat -> , but rath\n",
            "106 , but rath ->  but rathe\n",
            "107  but rathe -> but rather\n",
            "108 but rather -> ut rather \n",
            "109 ut rather  -> t rather i\n",
            "110 t rather i ->  rather in\n",
            "111  rather in -> rather in \n",
            "112 rather in  -> ather in t\n",
            "113 ather in t -> ther in th\n",
            "114 ther in th -> her in thi\n",
            "115 her in thi -> er in this\n",
            "116 er in this -> r in this \n",
            "117 r in this  ->  in this w\n",
            "118  in this w -> in this wa\n",
            "119 in this wa -> n this way\n",
            "120 n this way ->  this way \n",
            "121  this way  -> this way t\n",
            "122 this way t -> his way th\n",
            "123 his way th -> is way tha\n",
            "124 is way tha -> s way that\n",
            "125 s way that ->  way that \n",
            "126  way that  -> way that t\n",
            "127 way that t -> ay that th\n",
            "128 ay that th -> y that the\n",
            "129 y that the ->  that the \n",
            "130  that the  -> that the b\n",
            "131 that the b -> hat the br\n",
            "132 hat the br -> at the bri\n",
            "133 at the bri -> t the bric\n",
            "134 t the bric ->  the brick\n",
            "135  the brick -> the brick \n",
            "136 the brick  -> he brick w\n",
            "137 he brick w -> e brick wa\n",
            "138 e brick wa ->  brick wal\n",
            "139  brick wal -> brick wall\n",
            "140 brick wall -> rick walls\n",
            "141 rick walls -> ick walls \n",
            "142 ick walls  -> ck walls a\n",
            "143 ck walls a -> k walls ar\n",
            "144 k walls ar ->  walls are\n",
            "145  walls are -> walls are \n",
            "146 walls are  -> alls are t\n",
            "147 alls are t -> lls are th\n",
            "148 lls are th -> ls are the\n",
            "149 ls are the -> s are ther\n",
            "150 s are ther ->  are there\n",
            "151  are there -> are there \n",
            "152 are there  -> re there t\n",
            "153 re there t -> e there to\n",
            "154 e there to ->  there to \n",
            "155  there to  -> there to s\n",
            "156 there to s -> here to sh\n",
            "157 here to sh -> ere to sho\n",
            "158 ere to sho -> re to show\n",
            "159 re to show -> e to show \n",
            "160 e to show  ->  to show u\n",
            "161  to show u -> to show us\n",
            "162 to show us -> o show us \n",
            "163 o show us  ->  show us h\n",
            "164  show us h -> show us ho\n",
            "165 show us ho -> how us how\n",
            "166 how us how -> ow us how \n",
            "167 ow us how  -> w us how b\n",
            "168 w us how b ->  us how ba\n",
            "169  us how ba -> us how bad\n",
            "170 us how bad -> s how badl\n",
            "171 s how badl ->  how badly\n",
            "172  how badly -> how badly \n",
            "173 how badly  -> ow badly w\n",
            "174 ow badly w -> w badly we\n",
            "175 w badly we ->  badly we \n",
            "176  badly we  -> badly we w\n",
            "177 badly we w -> adly we wa\n",
            "178 adly we wa -> dly we wan\n",
            "179 dly we wan -> ly we want\n",
            "180 ly we want -> y we want \n",
            "181 y we want  ->  we want t\n",
            "182  we want t -> we want th\n",
            "183 we want th -> e want thi\n",
            "184 e want thi ->  want thin\n",
            "185  want thin -> want thing\n",
            "186 want thing -> ant things\n",
            "187 ant things -> nt things.\n"
          ]
        }
      ]
    },
    {
      "cell_type": "code",
      "source": [
        "# 출력해서 한 칸씩 쉬프트된 것 확인하기!\n",
        "\n",
        "print(x_data[0])\n",
        "print(y_data[0])"
      ],
      "metadata": {
        "colab": {
          "base_uri": "https://localhost:8080/"
        },
        "id": "XVFlILiOixdc",
        "outputId": "de09e4f5-e381-4e41-e07d-854205c9009c"
      },
      "execution_count": 8,
      "outputs": [
        {
          "output_type": "stream",
          "name": "stdout",
          "text": [
            "[1, 10, 15, 9, 23, 24, 11, 4, 2, 2]\n",
            "[10, 15, 9, 23, 24, 11, 4, 2, 2, 18]\n"
          ]
        }
      ]
    },
    {
      "cell_type": "code",
      "source": [
        "##6. 입력 시퀀스에 대해 원핫인코딩 수행\n",
        "\n",
        "## 문제(4) : x_data를 원핫인코딩 > numpy의 eye를 쓸 수 있지 않을까?\n",
        "x_one_hot = [np.eye(vocab_size)[x] for x in x_data]\n",
        "\n",
        "##7. 입력 데이터, 레이블데이터 텐서로 변환\n",
        "\n",
        "## 문제(5) : x_one_hot과 y_data 텐서로 변환 : 둘 다 같은 형식의 텐서로 변환하면 될까?? (FloatTensor, LongTesor 중 맞는 것은?)\n",
        "X = torch.FloatTensor(x_one_hot) \n",
        "Y = torch.LongTensor(y_data)"
      ],
      "metadata": {
        "id": "5lPes1dvjlNb",
        "colab": {
          "base_uri": "https://localhost:8080/"
        },
        "outputId": "22bf69cf-2964-4d6a-d0fb-afb8a0172dfd"
      },
      "execution_count": 9,
      "outputs": [
        {
          "output_type": "stream",
          "name": "stderr",
          "text": [
            "/usr/local/lib/python3.7/dist-packages/ipykernel_launcher.py:9: UserWarning: Creating a tensor from a list of numpy.ndarrays is extremely slow. Please consider converting the list to a single numpy.ndarray with numpy.array() before converting to a tensor. (Triggered internally at  ../torch/csrc/utils/tensor_new.cpp:201.)\n",
            "  if __name__ == '__main__':\n"
          ]
        }
      ]
    },
    {
      "cell_type": "code",
      "source": [
        "##8. 크기 확인\n",
        "print('훈련 데이터의 크기 : {}'.format(X.shape))\n",
        "print('레이블의 크기 : {}'.format(Y.shape))"
      ],
      "metadata": {
        "colab": {
          "base_uri": "https://localhost:8080/"
        },
        "id": "lMZzZlaymMk8",
        "outputId": "f0b2a1d2-d319-410d-99d8-6c91c0571303"
      },
      "execution_count": 10,
      "outputs": [
        {
          "output_type": "stream",
          "name": "stdout",
          "text": [
            "훈련 데이터의 크기 : torch.Size([188, 10, 26])\n",
            "레이블의 크기 : torch.Size([188, 10])\n"
          ]
        }
      ]
    },
    {
      "cell_type": "code",
      "source": [
        "##9.원핫인코딩 결과 샘플 확인하기\n",
        "print(X[0])"
      ],
      "metadata": {
        "colab": {
          "base_uri": "https://localhost:8080/"
        },
        "id": "knx1DE_AmSFB",
        "outputId": "732df59f-a50c-4710-f194-51e8cee40104"
      },
      "execution_count": 11,
      "outputs": [
        {
          "output_type": "stream",
          "name": "stdout",
          "text": [
            "tensor([[0., 1., 0., 0., 0., 0., 0., 0., 0., 0., 0., 0., 0., 0., 0., 0., 0., 0.,\n",
            "         0., 0., 0., 0., 0., 0., 0., 0.],\n",
            "        [0., 0., 0., 0., 0., 0., 0., 0., 0., 0., 1., 0., 0., 0., 0., 0., 0., 0.,\n",
            "         0., 0., 0., 0., 0., 0., 0., 0.],\n",
            "        [0., 0., 0., 0., 0., 0., 0., 0., 0., 0., 0., 0., 0., 0., 0., 1., 0., 0.,\n",
            "         0., 0., 0., 0., 0., 0., 0., 0.],\n",
            "        [0., 0., 0., 0., 0., 0., 0., 0., 0., 1., 0., 0., 0., 0., 0., 0., 0., 0.,\n",
            "         0., 0., 0., 0., 0., 0., 0., 0.],\n",
            "        [0., 0., 0., 0., 0., 0., 0., 0., 0., 0., 0., 0., 0., 0., 0., 0., 0., 0.,\n",
            "         0., 0., 0., 0., 0., 1., 0., 0.],\n",
            "        [0., 0., 0., 0., 0., 0., 0., 0., 0., 0., 0., 0., 0., 0., 0., 0., 0., 0.,\n",
            "         0., 0., 0., 0., 0., 0., 1., 0.],\n",
            "        [0., 0., 0., 0., 0., 0., 0., 0., 0., 0., 0., 1., 0., 0., 0., 0., 0., 0.,\n",
            "         0., 0., 0., 0., 0., 0., 0., 0.],\n",
            "        [0., 0., 0., 0., 1., 0., 0., 0., 0., 0., 0., 0., 0., 0., 0., 0., 0., 0.,\n",
            "         0., 0., 0., 0., 0., 0., 0., 0.],\n",
            "        [0., 0., 1., 0., 0., 0., 0., 0., 0., 0., 0., 0., 0., 0., 0., 0., 0., 0.,\n",
            "         0., 0., 0., 0., 0., 0., 0., 0.],\n",
            "        [0., 0., 1., 0., 0., 0., 0., 0., 0., 0., 0., 0., 0., 0., 0., 0., 0., 0.,\n",
            "         0., 0., 0., 0., 0., 0., 0., 0.]])\n"
          ]
        }
      ]
    },
    {
      "cell_type": "code",
      "source": [
        "##10. 레이블 데이터 샘플 확인하기\n",
        "print(Y[0])"
      ],
      "metadata": {
        "colab": {
          "base_uri": "https://localhost:8080/"
        },
        "id": "6pWDiH1SmYT_",
        "outputId": "0a109e88-e7ea-483a-cc6b-b98e20d2c6c7"
      },
      "execution_count": 12,
      "outputs": [
        {
          "output_type": "stream",
          "name": "stdout",
          "text": [
            "tensor([10, 15,  9, 23, 24, 11,  4,  2,  2, 18])\n"
          ]
        }
      ]
    },
    {
      "cell_type": "code",
      "source": [
        "##11. RNN 모델 구현\n",
        "\n",
        "##문제(6) : 기본 pytorch 인자 넣기 연습 + forward 채우기\n",
        "### 조건 : rnn layer 2개 쌓기 + 마지막은 fc layer\n",
        "### batch_fisrt 설정 필요할까? (유튜브 강의 참고)\n",
        "\n",
        "class Net(torch.nn.Module):\n",
        "  def __init__(self, input_dim, hidden_dim, layers):\n",
        "    super(Net, self).__init__()\n",
        "    self.rnn = torch.nn.RNN(input_dim, hidden_dim, num_layers=layers, batch_first=True)\n",
        "    self.fc = torch.nn.Linear(hidden_dim, hidden_dim, bias=True)\n",
        "  \n",
        "  def forward(self, x):\n",
        "    x, _status = self.rnn(x)\n",
        "    x = self.fc(x)\n",
        "    return x"
      ],
      "metadata": {
        "id": "-Ww22xu8mfUc"
      },
      "execution_count": 13,
      "outputs": []
    },
    {
      "cell_type": "code",
      "source": [
        "net = Net(vocab_size, hidden_size, 2)"
      ],
      "metadata": {
        "id": "No2GRvTpnLBl"
      },
      "execution_count": 14,
      "outputs": []
    },
    {
      "cell_type": "code",
      "source": [
        "##12. loss function\n",
        "criterion = torch.nn.CrossEntropyLoss()\n",
        "\n",
        "##13. optimizer\n",
        "optimizer = optim.Adam(net.parameters(), learning_rate)"
      ],
      "metadata": {
        "id": "9-zuJLeUnQLB"
      },
      "execution_count": 15,
      "outputs": []
    },
    {
      "cell_type": "code",
      "source": [
        "##14. 출력 크기 점검\n",
        "outputs = net(X)\n",
        "print(outputs.shape)"
      ],
      "metadata": {
        "colab": {
          "base_uri": "https://localhost:8080/"
        },
        "id": "z-RxRaiHnh9U",
        "outputId": "b5760cf8-8198-46ff-c9ed-801cda346ec4"
      },
      "execution_count": 16,
      "outputs": [
        {
          "output_type": "stream",
          "name": "stdout",
          "text": [
            "torch.Size([188, 10, 26])\n"
          ]
        }
      ]
    },
    {
      "cell_type": "code",
      "source": [
        "##15. Training 시작\n",
        "\n",
        "for i in range(100):\n",
        "    optimizer.zero_grad()\n",
        "    outputs = net(X)\n",
        "    ##문제(7) : outputs, Y 형태 그대로 넣으면 안되죠. view 함수를 이용해 loss값을 계산해봅시다.\n",
        "    loss = criterion(outputs.view(-1, vocab_size), Y.view(-1))\n",
        "    loss.backward()\n",
        "    optimizer.step()\n",
        "\n",
        "    #16. 예측결과 확인\n",
        "    results = outputs.argmax(dim=2)\n",
        "    predict_str = \"\"\n",
        "    for j, result in enumerate(results):\n",
        "        if j == 0: # 처음에는 예측 결과를 전부 가져오기\n",
        "            predict_str += ''.join([world_set[t] for t in result])\n",
        "        else: # 그 다음에는 마지막 글자만 반복 추가\n",
        "            predict_str += world_set[result[-1]]\n",
        "\n",
        "    print(predict_str)"
      ],
      "metadata": {
        "colab": {
          "base_uri": "https://localhost:8080/"
        },
        "id": "uxxrxCd2nwoo",
        "outputId": "4f39ad47-6016-4af0-d1e3-8c792bacfcc1"
      },
      "execution_count": 17,
      "outputs": [
        {
          "output_type": "stream",
          "name": "stdout",
          "text": [
            "ybyyyyyyyyybyyybbyyyybbyyyybyyyyyyyyyybbyyyyyybyyyyybyyyyybyybybyybbyyyyyyyyyybyyybbbbbyyyybbyyyyybbyybyyyyybyyyyybyyyyyybbyyybyyyybyybybyybbyyyyyyyyyybyyybbyyyybbyyyyyybyybyyybbyyyyybbyyyybybyyyby\n",
            "ywyaaaaaaaaaaaaaaaaaaaaaaaaaaaaaaaaaaaaaaaaaaaaaaaaaaasaaaaaaaaaaaaaaaaaaaaaaaaaaaaaaaaaaaaaaaaaaayaaaaaaaaaayaaaaaaaaasaaaasyaaaaaaaaaaaaaaaaaaaaaaaaaaaaaaaaaaaaaaaaaaaaaaaaaaaaaaaaaaaaaaaaaaasaaa\n",
            "a    a      a         a   a        a                     a              a      a                    a      a          a                          a      a                 a                          \n",
            "a                                                                                                                                                                                                    \n",
            "a                                                                                                                                                                                                    \n",
            "                                                                                                                                                                                                     \n",
            "                                                                                                                                                                                                     \n",
            "                                                                                                                                                                                                     \n",
            "                                                                                                                                                                                                     \n",
            "                                                                                                                                                                                                     \n",
            "                                                                                                                                                                                                     \n",
            "                                                                                                                                                                                                     \n",
            "                                                                                                                                                                                                     \n",
            "                                                                                                                                                                                                     \n",
            "     t                                                      t                                              t                         t                                                               \n",
            "     t         t     t    t   t                          t  t           t                  t       t       t             t           t           t         t     t                    t  t           \n",
            "     t     t   t     t   tt   t   t   t        t   t     t  t           t     t            t       t       t             t  t t   t  t           t     t   t     t       t  t         t  t    t  t   \n",
            "     t     t   t e   t   tt   t   t   t        t   t  t  t  t the       t     t      t     t       t  t    t          t  t  t t   t et the       t     t   t e   t       ta t   t     t  t    t  t t \n",
            "     t     ta  the   t   tt   t   t   t        t   thet  t et the       t     ta   t the   t       t  th   t          t  thet th  t et the       t     ta  the   t     t th t   th    t  t    thet t \n",
            "     th    the the   th  th   t   th  t t      t   then  t et the t e   th    the  t the   th      th th   t   t      t  then the thet the t e   th    the the   t     t th t   the   th th   then t \n",
            "     th    the the   th  the  t   th  t t      t   then  thet the t e   th    the tt the   th      th the  t   th     ta then the thet the t e   th    the the   th   et th th  the   th th   then t \n",
            "     th    the the   th  the  t   th  t t th   th  then  thet the the   tht   the tt the   th      th the  t   tht     t then ths thet the the   tht   the the   th   et th th  the t th th   then t \n",
            "     thts  the the   th  the  t   th  t t th   th  then  thet the the   thts  the tt the   th      th the  th  tht e e t then ths thet the the   thts  the the   th   et th th  the t th tht  then t \n",
            "     thtss the the e th  the  t   the t t ths  th  then  thet the the   thtss the tt the e th      th the  th  tht e e t then ths thet the the   thtss the the e th  aet th tht ths t th tht  then t \n",
            "  c  thtss the the e tht ths  t   the t t ths  th  then  thet the then  thtss the  t the e th t    ts the  th  tht e e t then tas thet the then  thtss the the e th taet ts tht ths t th tht  then t \n",
            " ec  tasss tae there tht ths  t   the t t ths  th  then  thet the thec  tatss tae  t the e th ta   ts the  the tht e e s then tas thet the thec  tatss tae there th thet ts tht ths t th tht  then t \n",
            " ec  tasss tae thete tht tase t   the t t tas  th  then  thet the thec  tasss tae  t the e th th   ts ths  the tht e e s then tas thet the thec  tasss tae thete th thet ts  at ths t ta tht  then t \n",
            " ec  wasss tae thete tht tase t   the t t tas  tht then  thet the thec  wasss tae  t the e th th   ts  hs  tas tht e e s then tat thet the thec  wasss tae thete th thet ts  at taset ta tht  then t \n",
            " ec  wasss aae thete tht tase t   tre t t tas  tht then  thet the trec  wasss aae  t the e th th   ts  as  tas tht e e n then wat thet the trec  wasss aae thete th thet ts  at taset ta tht  then t \n",
            " ec  wasss aae the e tht tase t   tre t t tas  tht then  thet the trec  wasss aae  t the e th th   ts  ae  tal tht e e n then wat thet the trec  wasss aae the e th thet ts  at tatet ta tht  then t \n",
            "rec  walss aae the e tht wase t   tre t t tas  tht then  thet the trec  walss aae tt the e th th   ts aae  tal tht e e n then wat thet the trec  walss aae the e th thet ts aat tatet ta tht  then n \n",
            "rec  walss aae the e tht wase t   tre t t tas  tht then  whet the trec  walss aae tt the e th to   ts aae  tal tht e e n then wal thet the trec  walss aae the e th thet ws aat talet wa tht  then n \n",
            "reck walss are the e tot wase t   tre t t was  aht then  whet the treck walss are tt the e th to   ts aa   wal tothete n then wal thet the treck walss are the e th thet ws aat walet wa thtt then n \n",
            "reck walls are the e tot ware t   tre t t was  aht then  whet the treck walls are tt the e th to   ts aa   wal tothete n then wal thet the treck walls are the e th thet ws aat walls wa thtt then n \n",
            "reck walls are there tot ware t   wre t u wus  aht then  whet the treck walls are tt the e th ro   ws aae  whl tothete n then wal thet the treck walls are there th rhew ws aat walls wa thtt then n \n",
            "reck walls are there tot ware t   wre t u wus  aht then  whet the treck walls are tt there th ro   ws aal  whl tot ete n thes wal thet the treck walls are there th rhew ws aat wales wa thlt then n \n",
            "reck walls are there tot ware t   wre t u wus  aht then  whet the treck walls are tt there th ro   ws aal  whl tot ete n thes wal thet the treck walls are there th rhew ws aat walls wa thlt then n \n",
            "reck walls are there tot ware t   wrl t u wus  wht then  whet the treck walls are  t there th ro   ws aal  whl tot ere n thes wal thet the treck walls are there th rhew ws aat walls wa talt then n \n",
            "reck walls are there tot ware t   wrl t u wus  wht then  thet the treck walls are  t there th ro   us aus  wal tot ere n thes wal thet the treck walls are there th rhew ws aat walls wa talt then t \n",
            "reck walls are there tot ware t   trl t u wusu wht then  thet the treck walls are  t there th ro a us aus  wal tothere n thes wal thet the treck walls are there th rhew us aat walls wa talt then t \n",
            "reck walls are there tot ware t t trl t u wusu wat then  thet the treck walls are  t the e th ro w us aus  wal tothere n then wal thet the treck walls are there th rhew us aat ualls wa walt then t \n",
            "reck walls are there tot ware t t trl t u wusu wat then  thet the treck walls are  t the e th ro w us aus  wat tothere n then wal thet the treck walls are there th rhew us aat ualls wa walt then t \n",
            "reck walls are there tot ware t t trl t u wusu wat then  thet the treck walls are  t the e th ro w us aus  wat tothere n then wal thet the treck walls are there th rhew us aaw ualls wa walt then t \n",
            "reck walls are there tot ware t t trl t u wusu wat then  thet the treck walls are  t there th ro c us aus  wat tothere n then wal that the treck walls are there th rhew us aaw ualls w  walt then t \n",
            "reck walls are there tot ware t t trl t u wusu wat then  whet the treck walls are  t there th roec us aus  wat tothere n thes wal that the treck walls are there th rhew us aat ualls w  walt then tu\n",
            "reck walls are there tot ware t t  rl t u wusu wot then  what the treck walls are ct there th roec us aut  wat tothere n thes wal that the treck walls are there th rhew us aat ualls w  walt then tu\n",
            "reck walls are there tor ware t t  rl t u wusu wot then  what the treck walls are ct there th roec us aut  wut tothere s thes wal that the treck walls are there th rhew us aat uallt w  walt then tu\n",
            "reck walls are there tor ware t n  rd t u wust wot then  what the brick walls are ct there th roec us aut  wut tothere s thes wal that the brick walls are there th rhew us aat ually w  walt then nk\n",
            "reck walls are there tor ware t n  rd t u wust wot then  what the brick walls are ct there th soec us aut  wut tothere s thes wal that the brick walls are there th shew us aaw ually w  walt then nk\n",
            "reck walls are there tor ware t n  rd tou wust wot then  what the brick walls are ct there to soew us aut  wut tothere s then wal that the brick walls are there to shew us aow ually w  walt thenknk\n",
            "reck walls are there tor ware t n  rd tou wust wot then  what the brick walls are ct there to soew us aut  wut tothere s then wal that the brick walls are there to shew us aow uadly w  walt thenknk\n",
            "reck walls are there tor w re t n  rd tou wust wot then  what the brick walls are ct there to soew us aut  wut tothere s then wal that the brick walls are there to shew us how uadly w  walt thenknk\n",
            "reck walls are there tor w re t n  nd tou wust wot then  that the brick walls are ct there to soew us aut  wut tothere n then wal that the brick walls are there to show us how uadly w  walt thenknk\n",
            "rick walls are there tor w re t n  nd tou wust wot then  that the brick walls are ct there to soec us  ut  wut tothere n then wal that the brick walls are there to show us how uadly w  walt thenknk\n",
            "rick walls are there tor w re ton  nd tou tust wot then  that the brick walls are ct there to soec us  ut  wut tothere n then wal that the brick walls are there to show us how uadly w  walt thenknk\n",
            "rick walls are there tor a re ton and tou tust wot then  that the brick walls are ct there to soec us  ut  wut tothere n then wal that the brick walls are there to show us how uadly wa want thenknk\n",
            "rick walls are there tor a re ton and tou tust wot then  that the brick walls are ct there to soec us  uth wut tathere n then wal that the brick walls are there to show us how uadly wa want thenknk\n",
            "rick walls are there tor a re ton and tou must wot then  that the brick walls are ct there to soec us  uth wut tathere n thes wal that the brick walls are there to show us how uadly we want thenksk\n",
            "rick walls are there tor a re ton and tou must wot then  that the brick walls are ct there to seec us huth wut tathere n thes wal that the brick walls are there to show us how uadly we want thenksk\n",
            "rick walls are there tor a re ton and tou must wot then  that the brick walls are 't there to seep us out, aut tathere n thes wal that the brick walls are there to show us how uadly we want thenksk\n",
            "rick walls are there tor a re ton and tou must wot then  that the brick walls are 't there to seep us out, but tathere n thes wal that the brick walls are there to show us how uadly we want thenksk\n",
            "rick walls are there tor a re ton and tou must wot then  that the brick walls are 't there to seep us out, but tathere n thes wal that the brick walls are there to show us how uadly we want thenksk\n",
            "rick walls are there tor a re ton and you must wot then  that the brick walls are 't there to seep us out, but tathere n thes wal that the brick walls are there to show us how uadly we want thenksk\n",
            "rick walls are there tor a re ton and you must wot thenk that the brick walls are 't there to seep us out, but tather  n thes wal that the brick walls are there to show us how uadly we want thenkso\n",
            "rick walls are there tor a re ton and you must wot thenk that the brick walls are 't there to seep us out, but tather  n thes wal that the brick walls are there to show us how uadly we want thenkso\n",
            "rick walls are there tor a re ton and you must not thenk that the brick walls are 't there to seep us out, but tather  n thes wal that the brick walls are there to show us how badly we want thenkso\n",
            "rick walls are there tor a re ton and you must not thenk that the brick walls are 't there to seep us out, but tather  n thes wal that the brick walls are there to show us how badly we want thenkso\n",
            "rick walls are there tor a re son and you must not thenk that the brick walls are 't there to seep us out, but tather  n thes wal that the brick walls are there to show us how badly we want thenkso\n",
            "rick walls are there tor a re son and you must not thenk that the brick walls are 't there to seep us out, but tather  n this wal that the brick walls are there to show us how badly we want thenkso\n",
            "rick walls are there tor a re son and you must not thenk that the brick walls are 't there to seep us out, but tather  n this wal that the brick walls are there to show us how badly we want thenkso\n",
            "rick walls are there tor a re son and you must not thenk that the brick walls are 't there to seep us out, but tather  n this way that the brick walls are there to show us how badly we want thenkso\n",
            "rick walls are there tor a re son and you must not thenk that the brick walls are 't there to seep us out, but tather in this way that the brick walls are there to show us how badly we want thenkso\n",
            "rick walls are there tor a re son and you must not thenk that the brick walls are 't there to seep us out, but tather in this way that the brick walls are there to show us how badly we want thenkso\n",
            "rick walls are there tor a reason and you must not thenk that the brick walls are 't there to seep us out, but tather in this way that the brick walls are there to show us how badly we want thenkso\n",
            "rick walls are there tor a reason and you must not thenk that the brick walls are 't there to seep us out, but tather in this way that the brick walls are there to show us how badly we want thenkso\n",
            "rick walls are there tor a reason and you must not thenk that the brick walls are 't there to seep us out, but tather in this way that the brick walls are there to show us how badly we want thenkso\n",
            "rick walls are there tor a reason and you must not think that the brick walls are 't there to seep us out, but tather in this way that the brick walls are there to show us how badly we want thenkso\n",
            "rick walls are there tor a reason and you must not think that the brick walls are 't there to seep us out, but tather in this way that the brick walls are there to show us how badly we want thenkso\n",
            "rick walls are there tor a reason and you must not think that the brick walls are 't there to seep us out, but tather in this way that the brick walls are there to show us how badly we want thenkso\n",
            "rick walls are there tor a reason and you must not think that the brick walls are 't there to seep us out, but tather in this way that the brick walls are there to show us how badly we want thenkso\n",
            "rick walls are there tor a reason and you must not think that the brick walls are 't there to seep us out, but tather in this way that the brick walls are there to show us how badly we want thinkso\n",
            "rick walls are there tor a reason and you must not think that the brick walls are 't there to seep us out, but tather in this way that the brick walls are there to show us how badly we want thinkso\n",
            "rick walls are there tor a reason and you must not think that the brick walls are 't there to seep us out, but tather in this way that the brick walls are there to show us how badly we want thinkso\n",
            "rick walls are there tor a reason and you must not think that the brick walls are 't there to seep us out, but rather in this way that the brick walls are there to show us how badly we want thinkso\n",
            "rick walls are there tor a reason and you must not think that the brick walls are 't there to seep us out, but rather in this way that the brick walls are there to show us how badly we want thinkso\n",
            "rick walls are there tor a reason and you must not think that the brick walls are 't there to seep us out, but rather in this way that the brick walls are there to show us how badly we want thinkso\n",
            "rick walls are there tor a reason and you must not think that the brick walls are 't there to seep us out, but rather in this way that the brick walls are there to show us how badly we want thinkso\n",
            "rick walls are there tor a reason and you must not think that the brick walls are 't there to seep us out, but rather in this way that the brick walls are there to show us how badly we want thinks.\n",
            "rick walls are there tor a reason and you must not think that the brick walls are 't there to seep us out, but rather in this way that the brick walls are there to show us how badly we want thinks.\n",
            "rick walls are there tor a reason and you must not think that the brick walls are 't there to seep us out, but rather in this way that the brick walls are there to show us how badly we want thinks.\n",
            "rick walls are there tor a reason and you must not think that the brick walls are 't there to seep us out, but rather in this way that the brick walls are there to show us how badly we want thinks.\n",
            "rick walls are there tor a reason and you must not think that the brick walls are 't there to seep us out, but rather in this way that the brick walls are there to show us how badly we want thinks.\n",
            "rick walls are there tor a reason and you must not think that the brick walls are 't there to seep us out, but rather in this way that the brick walls are there to show us how badly we want thinks.\n",
            "rick walls are there tor a reason and you must not think that the brick walls are 't there to seep us out, but rather in this way that the brick walls are there to show us how badly we want thinks.\n",
            "rick walls are there tor a reason and you must not think that the brick walls are 't there to seep us out, but rather in this way that the brick walls are there to show us how badly we want thinks.\n",
            "rick walls are there tor a reason and you must not think that the brick walls are 't there to seep us out, but rather in this way that the brick walls are there to show us how badly we want thinks.\n",
            "rick walls are there tor a reason and you must not think that the brick walls are 't there to seep us out, but rather in this way that the brick walls are there to show us how badly we want thinks.\n",
            "rick walls are there tor a reason and you must not think that the brick walls are 't there to seep us out, but rather in this way that the brick walls are there to show us how badly we want thinks.\n",
            "rick walls are there tor a reason and you must not think that the brick walls are 't there to seep us out, but rather in this way that the brick walls are there to show us how badly we want thinks.\n",
            "rick walls are there tor a reason and you must not think that the brick walls are 't there to seep us out, but rather in this way that the brick walls are there to show us how badly we want thinks.\n"
          ]
        }
      ]
    },
    {
      "cell_type": "code",
      "source": [
        "predict_str"
      ],
      "metadata": {
        "colab": {
          "base_uri": "https://localhost:8080/",
          "height": 53
        },
        "id": "8qUkbiw2t0Il",
        "outputId": "fc6fb5a5-0fd6-4c6d-f2b1-ec1e8af46e5f"
      },
      "execution_count": 18,
      "outputs": [
        {
          "output_type": "execute_result",
          "data": {
            "text/plain": [
              "\"rick walls are there tor a reason and you must not think that the brick walls are 't there to seep us out, but rather in this way that the brick walls are there to show us how badly we want thinks.\""
            ],
            "application/vnd.google.colaboratory.intrinsic+json": {
              "type": "string"
            }
          },
          "metadata": {},
          "execution_count": 18
        }
      ]
    },
    {
      "cell_type": "markdown",
      "source": [
        "결과가 어떤가요?? 마지막 에폭의 문장이 그럴싸한가요?"
      ],
      "metadata": {
        "id": "PkIzDTdyvTHz"
      }
    },
    {
      "cell_type": "markdown",
      "source": [
        "## Task2\n",
        "\n",
        "위 sentence는 제가 임의로 생성한 문장들입니다.\n",
        "\n",
        "마음에 드시는 문구 가져오셔서 문장이 어떻게 생성되는지 확인해보세요! \n",
        "\n",
        "영어가 아닌 한국어로 시도해보는 것도 좋겠죠? \n",
        "\n",
        "수정이 많이 필요(토큰화 등) 할 수 있으나 한번 시도해보시는 것 권장드립니다 :)\n",
        "\n",
        "위 베이스라인은 어디든 수정하셔도 좋고 조금 더 자연스러운 문장이 나올 수 있게 다양한 시도를 해보세요!\n",
        "\n",
        "조건 : 문장 3개 이상, 연결성이 있는 문장을 \" \" 으로 구분하여 ( )에 넣기"
      ],
      "metadata": {
        "id": "kN1zL8Dpvane"
      }
    },
    {
      "cell_type": "code",
      "source": [
        ""
      ],
      "metadata": {
        "id": "IKp-lKrjvXR9"
      },
      "execution_count": 18,
      "outputs": []
    },
    {
      "cell_type": "markdown",
      "source": [
        "Shutter Island 소설의 서평에서 가져옴"
      ],
      "metadata": {
        "id": "t33kok14KlVk"
      }
    },
    {
      "cell_type": "markdown",
      "source": [
        "The year is 1954. U.S. Marshal Teddy Daniels and his new partner, Chuck Aule, have come to Shutter Island, home of Ashecliffe Hospital for the Criminally Insane, to investigate the disappearance of a patient.\n",
        "\n",
        "Multiple murderess Rachel Solando is loose somewhere on this remote and barren island, despite having been kept in a locked cell under constant surveillance.\n",
        "\n",
        " As a killer hurricane bears relentlessly down on them, a strange case takes on even darker, more sinister shades with hints of radical experimentation, horrifying surgeries, and lethal countermoves made in the cause of a covert shadow war."
      ],
      "metadata": {
        "id": "LIl0O0zVJNHB"
      }
    },
    {
      "cell_type": "markdown",
      "source": [
        ""
      ],
      "metadata": {
        "id": "z3rvj9F-KptQ"
      }
    },
    {
      "cell_type": "code",
      "source": [
        ""
      ],
      "metadata": {
        "id": "wsBhWlXhJc5M"
      },
      "execution_count": null,
      "outputs": []
    },
    {
      "cell_type": "code",
      "source": [
        "#1. 생성할 문장 데이터\n",
        "\n",
        "sentence = (\"The year is 1954. U.S. Marshal Teddy Daniels and his new partner, Chuck Aule, have come to Shutter Island, home of Ashecliffe Hospital for the Criminally Insane, to investigate the disappearance of a patient.\"\n",
        "            \"Multiple murderess Rachel Solando is loose somewhere on this remote and barren island, despite having been kept in a locked cell under constant surveillance.\"\n",
        "            \"As a killer hurricane bears relentlessly down on them, a strange case takes on even darker, more sinister shades with hints of radical experimentation, horrifying surgeries, and lethal countermoves made in the cause of a covert shadow war.\")"
      ],
      "metadata": {
        "id": "gIMDfgxpJdDW"
      },
      "execution_count": 19,
      "outputs": []
    },
    {
      "cell_type": "code",
      "source": [
        "#2. 문자 집합 만들기\n",
        "world_set = list(set(sentence))\n",
        "\n",
        "## 문제(1): 각 문자에 정수 인코딩 (공백도 하나의 원소로 포함)\n",
        "vocab = {c: i for i, c in enumerate(world_set)}"
      ],
      "metadata": {
        "id": "A3CNF39-JdDX"
      },
      "execution_count": 20,
      "outputs": []
    },
    {
      "cell_type": "code",
      "source": [
        "print(vocab)"
      ],
      "metadata": {
        "colab": {
          "base_uri": "https://localhost:8080/"
        },
        "outputId": "259be140-48b0-48bf-d936-84d62483c2d2",
        "id": "7tQgYrG0JdDX"
      },
      "execution_count": 21,
      "outputs": [
        {
          "output_type": "stream",
          "name": "stdout",
          "text": [
            "{'v': 0, 'm': 1, 'H': 2, 'l': 3, 'U': 4, 'b': 5, 'C': 6, 'a': 7, 'D': 8, 'o': 9, 'y': 10, 'd': 11, '.': 12, 'c': 13, 'x': 14, 'R': 15, 'r': 16, 'A': 17, 'w': 18, 'e': 19, '1': 20, 'n': 21, 'u': 22, 'i': 23, 't': 24, 'p': 25, 's': 26, 'S': 27, '5': 28, 'g': 29, 'M': 30, ',': 31, '4': 32, 'h': 33, 'f': 34, 'k': 35, 'I': 36, '9': 37, ' ': 38, 'T': 39}\n"
          ]
        }
      ]
    },
    {
      "cell_type": "code",
      "source": [
        "#3. 문자 집합 크기 확인\n",
        "\n",
        "vocab_size = len(vocab)\n",
        "print('문자 집합 크기 : {}'.format(vocab_size))"
      ],
      "metadata": {
        "colab": {
          "base_uri": "https://localhost:8080/"
        },
        "outputId": "c4f51616-62f2-4301-c75a-5f99fe63e46f",
        "id": "TwPlyAq5JdDY"
      },
      "execution_count": 22,
      "outputs": [
        {
          "output_type": "stream",
          "name": "stdout",
          "text": [
            "문자 집합 크기 : 40\n"
          ]
        }
      ]
    },
    {
      "cell_type": "code",
      "source": [
        "#4. 하이퍼 파라미터 설정(자유롭게 수정해보세요!)\n",
        "\n",
        "hidden_size = vocab_size # 같아야 하는 것 확인!\n",
        "sequence_length = 10  # 너무 길거나 너무 짧게 잡으면 안됩니다!\n",
        "learning_rate = 0.01"
      ],
      "metadata": {
        "id": "KnIjiNF0JdDZ"
      },
      "execution_count": 23,
      "outputs": []
    },
    {
      "cell_type": "code",
      "source": [
        "#5. seqence 길이 단위 자르기\n",
        "\n",
        "# 데이터 구성을 위한 리스트\n",
        "x_data = []\n",
        "y_data = []\n",
        "\n",
        "## 문제(2): 반복문 내에서의 인덱싱을 사용하여 sequence_length 값 단위로 샘플을 잘라 데이터 만들기, y_str은 x_str은 한 칸씩 쉬프트된 sequnce\n",
        "\n",
        "for i in range(0, len(sentence) - sequence_length):\n",
        "  x_str = sentence[i:i + sequence_length] \n",
        "  y_str = sentence[i + 1: i + sequence_length + 1]\n",
        "  print(i, x_str, \"->\", y_str)\n",
        "\n",
        "  # x_str과 y_str이 문자집합에 해당하는 인덱스를 각각 x_data, y_data에 append\n",
        "  x_data.append([vocab[c] for c in x_str])\n",
        "  y_data.append([vocab[d] for d in y_str])"
      ],
      "metadata": {
        "colab": {
          "base_uri": "https://localhost:8080/"
        },
        "outputId": "ba81d8bb-0eb3-4eb9-e576-b98b848f2f44",
        "id": "HBXiq10BJdDZ"
      },
      "execution_count": 24,
      "outputs": [
        {
          "output_type": "stream",
          "name": "stdout",
          "text": [
            "0 The year i -> he year is\n",
            "1 he year is -> e year is \n",
            "2 e year is  ->  year is 1\n",
            "3  year is 1 -> year is 19\n",
            "4 year is 19 -> ear is 195\n",
            "5 ear is 195 -> ar is 1954\n",
            "6 ar is 1954 -> r is 1954.\n",
            "7 r is 1954. ->  is 1954. \n",
            "8  is 1954.  -> is 1954. U\n",
            "9 is 1954. U -> s 1954. U.\n",
            "10 s 1954. U. ->  1954. U.S\n",
            "11  1954. U.S -> 1954. U.S.\n",
            "12 1954. U.S. -> 954. U.S. \n",
            "13 954. U.S.  -> 54. U.S. M\n",
            "14 54. U.S. M -> 4. U.S. Ma\n",
            "15 4. U.S. Ma -> . U.S. Mar\n",
            "16 . U.S. Mar ->  U.S. Mars\n",
            "17  U.S. Mars -> U.S. Marsh\n",
            "18 U.S. Marsh -> .S. Marsha\n",
            "19 .S. Marsha -> S. Marshal\n",
            "20 S. Marshal -> . Marshal \n",
            "21 . Marshal  ->  Marshal T\n",
            "22  Marshal T -> Marshal Te\n",
            "23 Marshal Te -> arshal Ted\n",
            "24 arshal Ted -> rshal Tedd\n",
            "25 rshal Tedd -> shal Teddy\n",
            "26 shal Teddy -> hal Teddy \n",
            "27 hal Teddy  -> al Teddy D\n",
            "28 al Teddy D -> l Teddy Da\n",
            "29 l Teddy Da ->  Teddy Dan\n",
            "30  Teddy Dan -> Teddy Dani\n",
            "31 Teddy Dani -> eddy Danie\n",
            "32 eddy Danie -> ddy Daniel\n",
            "33 ddy Daniel -> dy Daniels\n",
            "34 dy Daniels -> y Daniels \n",
            "35 y Daniels  ->  Daniels a\n",
            "36  Daniels a -> Daniels an\n",
            "37 Daniels an -> aniels and\n",
            "38 aniels and -> niels and \n",
            "39 niels and  -> iels and h\n",
            "40 iels and h -> els and hi\n",
            "41 els and hi -> ls and his\n",
            "42 ls and his -> s and his \n",
            "43 s and his  ->  and his n\n",
            "44  and his n -> and his ne\n",
            "45 and his ne -> nd his new\n",
            "46 nd his new -> d his new \n",
            "47 d his new  ->  his new p\n",
            "48  his new p -> his new pa\n",
            "49 his new pa -> is new par\n",
            "50 is new par -> s new part\n",
            "51 s new part ->  new partn\n",
            "52  new partn -> new partne\n",
            "53 new partne -> ew partner\n",
            "54 ew partner -> w partner,\n",
            "55 w partner, ->  partner, \n",
            "56  partner,  -> partner, C\n",
            "57 partner, C -> artner, Ch\n",
            "58 artner, Ch -> rtner, Chu\n",
            "59 rtner, Chu -> tner, Chuc\n",
            "60 tner, Chuc -> ner, Chuck\n",
            "61 ner, Chuck -> er, Chuck \n",
            "62 er, Chuck  -> r, Chuck A\n",
            "63 r, Chuck A -> , Chuck Au\n",
            "64 , Chuck Au ->  Chuck Aul\n",
            "65  Chuck Aul -> Chuck Aule\n",
            "66 Chuck Aule -> huck Aule,\n",
            "67 huck Aule, -> uck Aule, \n",
            "68 uck Aule,  -> ck Aule, h\n",
            "69 ck Aule, h -> k Aule, ha\n",
            "70 k Aule, ha ->  Aule, hav\n",
            "71  Aule, hav -> Aule, have\n",
            "72 Aule, have -> ule, have \n",
            "73 ule, have  -> le, have c\n",
            "74 le, have c -> e, have co\n",
            "75 e, have co -> , have com\n",
            "76 , have com ->  have come\n",
            "77  have come -> have come \n",
            "78 have come  -> ave come t\n",
            "79 ave come t -> ve come to\n",
            "80 ve come to -> e come to \n",
            "81 e come to  ->  come to S\n",
            "82  come to S -> come to Sh\n",
            "83 come to Sh -> ome to Shu\n",
            "84 ome to Shu -> me to Shut\n",
            "85 me to Shut -> e to Shutt\n",
            "86 e to Shutt ->  to Shutte\n",
            "87  to Shutte -> to Shutter\n",
            "88 to Shutter -> o Shutter \n",
            "89 o Shutter  ->  Shutter I\n",
            "90  Shutter I -> Shutter Is\n",
            "91 Shutter Is -> hutter Isl\n",
            "92 hutter Isl -> utter Isla\n",
            "93 utter Isla -> tter Islan\n",
            "94 tter Islan -> ter Island\n",
            "95 ter Island -> er Island,\n",
            "96 er Island, -> r Island, \n",
            "97 r Island,  ->  Island, h\n",
            "98  Island, h -> Island, ho\n",
            "99 Island, ho -> sland, hom\n",
            "100 sland, hom -> land, home\n",
            "101 land, home -> and, home \n",
            "102 and, home  -> nd, home o\n",
            "103 nd, home o -> d, home of\n",
            "104 d, home of -> , home of \n",
            "105 , home of  ->  home of A\n",
            "106  home of A -> home of As\n",
            "107 home of As -> ome of Ash\n",
            "108 ome of Ash -> me of Ashe\n",
            "109 me of Ashe -> e of Ashec\n",
            "110 e of Ashec ->  of Ashecl\n",
            "111  of Ashecl -> of Ashecli\n",
            "112 of Ashecli -> f Asheclif\n",
            "113 f Asheclif ->  Ashecliff\n",
            "114  Ashecliff -> Ashecliffe\n",
            "115 Ashecliffe -> shecliffe \n",
            "116 shecliffe  -> hecliffe H\n",
            "117 hecliffe H -> ecliffe Ho\n",
            "118 ecliffe Ho -> cliffe Hos\n",
            "119 cliffe Hos -> liffe Hosp\n",
            "120 liffe Hosp -> iffe Hospi\n",
            "121 iffe Hospi -> ffe Hospit\n",
            "122 ffe Hospit -> fe Hospita\n",
            "123 fe Hospita -> e Hospital\n",
            "124 e Hospital ->  Hospital \n",
            "125  Hospital  -> Hospital f\n",
            "126 Hospital f -> ospital fo\n",
            "127 ospital fo -> spital for\n",
            "128 spital for -> pital for \n",
            "129 pital for  -> ital for t\n",
            "130 ital for t -> tal for th\n",
            "131 tal for th -> al for the\n",
            "132 al for the -> l for the \n",
            "133 l for the  ->  for the C\n",
            "134  for the C -> for the Cr\n",
            "135 for the Cr -> or the Cri\n",
            "136 or the Cri -> r the Crim\n",
            "137 r the Crim ->  the Crimi\n",
            "138  the Crimi -> the Crimin\n",
            "139 the Crimin -> he Crimina\n",
            "140 he Crimina -> e Criminal\n",
            "141 e Criminal ->  Criminall\n",
            "142  Criminall -> Criminally\n",
            "143 Criminally -> riminally \n",
            "144 riminally  -> iminally I\n",
            "145 iminally I -> minally In\n",
            "146 minally In -> inally Ins\n",
            "147 inally Ins -> nally Insa\n",
            "148 nally Insa -> ally Insan\n",
            "149 ally Insan -> lly Insane\n",
            "150 lly Insane -> ly Insane,\n",
            "151 ly Insane, -> y Insane, \n",
            "152 y Insane,  ->  Insane, t\n",
            "153  Insane, t -> Insane, to\n",
            "154 Insane, to -> nsane, to \n",
            "155 nsane, to  -> sane, to i\n",
            "156 sane, to i -> ane, to in\n",
            "157 ane, to in -> ne, to inv\n",
            "158 ne, to inv -> e, to inve\n",
            "159 e, to inve -> , to inves\n",
            "160 , to inves ->  to invest\n",
            "161  to invest -> to investi\n",
            "162 to investi -> o investig\n",
            "163 o investig ->  investiga\n",
            "164  investiga -> investigat\n",
            "165 investigat -> nvestigate\n",
            "166 nvestigate -> vestigate \n",
            "167 vestigate  -> estigate t\n",
            "168 estigate t -> stigate th\n",
            "169 stigate th -> tigate the\n",
            "170 tigate the -> igate the \n",
            "171 igate the  -> gate the d\n",
            "172 gate the d -> ate the di\n",
            "173 ate the di -> te the dis\n",
            "174 te the dis -> e the disa\n",
            "175 e the disa ->  the disap\n",
            "176  the disap -> the disapp\n",
            "177 the disapp -> he disappe\n",
            "178 he disappe -> e disappea\n",
            "179 e disappea ->  disappear\n",
            "180  disappear -> disappeara\n",
            "181 disappeara -> isappearan\n",
            "182 isappearan -> sappearanc\n",
            "183 sappearanc -> appearance\n",
            "184 appearance -> ppearance \n",
            "185 ppearance  -> pearance o\n",
            "186 pearance o -> earance of\n",
            "187 earance of -> arance of \n",
            "188 arance of  -> rance of a\n",
            "189 rance of a -> ance of a \n",
            "190 ance of a  -> nce of a p\n",
            "191 nce of a p -> ce of a pa\n",
            "192 ce of a pa -> e of a pat\n",
            "193 e of a pat ->  of a pati\n",
            "194  of a pati -> of a patie\n",
            "195 of a patie -> f a patien\n",
            "196 f a patien ->  a patient\n",
            "197  a patient -> a patient.\n",
            "198 a patient. ->  patient.M\n",
            "199  patient.M -> patient.Mu\n",
            "200 patient.Mu -> atient.Mul\n",
            "201 atient.Mul -> tient.Mult\n",
            "202 tient.Mult -> ient.Multi\n",
            "203 ient.Multi -> ent.Multip\n",
            "204 ent.Multip -> nt.Multipl\n",
            "205 nt.Multipl -> t.Multiple\n",
            "206 t.Multiple -> .Multiple \n",
            "207 .Multiple  -> Multiple m\n",
            "208 Multiple m -> ultiple mu\n",
            "209 ultiple mu -> ltiple mur\n",
            "210 ltiple mur -> tiple murd\n",
            "211 tiple murd -> iple murde\n",
            "212 iple murde -> ple murder\n",
            "213 ple murder -> le murdere\n",
            "214 le murdere -> e murderes\n",
            "215 e murderes ->  murderess\n",
            "216  murderess -> murderess \n",
            "217 murderess  -> urderess R\n",
            "218 urderess R -> rderess Ra\n",
            "219 rderess Ra -> deress Rac\n",
            "220 deress Rac -> eress Rach\n",
            "221 eress Rach -> ress Rache\n",
            "222 ress Rache -> ess Rachel\n",
            "223 ess Rachel -> ss Rachel \n",
            "224 ss Rachel  -> s Rachel S\n",
            "225 s Rachel S ->  Rachel So\n",
            "226  Rachel So -> Rachel Sol\n",
            "227 Rachel Sol -> achel Sola\n",
            "228 achel Sola -> chel Solan\n",
            "229 chel Solan -> hel Soland\n",
            "230 hel Soland -> el Solando\n",
            "231 el Solando -> l Solando \n",
            "232 l Solando  ->  Solando i\n",
            "233  Solando i -> Solando is\n",
            "234 Solando is -> olando is \n",
            "235 olando is  -> lando is l\n",
            "236 lando is l -> ando is lo\n",
            "237 ando is lo -> ndo is loo\n",
            "238 ndo is loo -> do is loos\n",
            "239 do is loos -> o is loose\n",
            "240 o is loose ->  is loose \n",
            "241  is loose  -> is loose s\n",
            "242 is loose s -> s loose so\n",
            "243 s loose so ->  loose som\n",
            "244  loose som -> loose some\n",
            "245 loose some -> oose somew\n",
            "246 oose somew -> ose somewh\n",
            "247 ose somewh -> se somewhe\n",
            "248 se somewhe -> e somewher\n",
            "249 e somewher ->  somewhere\n",
            "250  somewhere -> somewhere \n",
            "251 somewhere  -> omewhere o\n",
            "252 omewhere o -> mewhere on\n",
            "253 mewhere on -> ewhere on \n",
            "254 ewhere on  -> where on t\n",
            "255 where on t -> here on th\n",
            "256 here on th -> ere on thi\n",
            "257 ere on thi -> re on this\n",
            "258 re on this -> e on this \n",
            "259 e on this  ->  on this r\n",
            "260  on this r -> on this re\n",
            "261 on this re -> n this rem\n",
            "262 n this rem ->  this remo\n",
            "263  this remo -> this remot\n",
            "264 this remot -> his remote\n",
            "265 his remote -> is remote \n",
            "266 is remote  -> s remote a\n",
            "267 s remote a ->  remote an\n",
            "268  remote an -> remote and\n",
            "269 remote and -> emote and \n",
            "270 emote and  -> mote and b\n",
            "271 mote and b -> ote and ba\n",
            "272 ote and ba -> te and bar\n",
            "273 te and bar -> e and barr\n",
            "274 e and barr ->  and barre\n",
            "275  and barre -> and barren\n",
            "276 and barren -> nd barren \n",
            "277 nd barren  -> d barren i\n",
            "278 d barren i ->  barren is\n",
            "279  barren is -> barren isl\n",
            "280 barren isl -> arren isla\n",
            "281 arren isla -> rren islan\n",
            "282 rren islan -> ren island\n",
            "283 ren island -> en island,\n",
            "284 en island, -> n island, \n",
            "285 n island,  ->  island, d\n",
            "286  island, d -> island, de\n",
            "287 island, de -> sland, des\n",
            "288 sland, des -> land, desp\n",
            "289 land, desp -> and, despi\n",
            "290 and, despi -> nd, despit\n",
            "291 nd, despit -> d, despite\n",
            "292 d, despite -> , despite \n",
            "293 , despite  ->  despite h\n",
            "294  despite h -> despite ha\n",
            "295 despite ha -> espite hav\n",
            "296 espite hav -> spite havi\n",
            "297 spite havi -> pite havin\n",
            "298 pite havin -> ite having\n",
            "299 ite having -> te having \n",
            "300 te having  -> e having b\n",
            "301 e having b ->  having be\n",
            "302  having be -> having bee\n",
            "303 having bee -> aving been\n",
            "304 aving been -> ving been \n",
            "305 ving been  -> ing been k\n",
            "306 ing been k -> ng been ke\n",
            "307 ng been ke -> g been kep\n",
            "308 g been kep ->  been kept\n",
            "309  been kept -> been kept \n",
            "310 been kept  -> een kept i\n",
            "311 een kept i -> en kept in\n",
            "312 en kept in -> n kept in \n",
            "313 n kept in  ->  kept in a\n",
            "314  kept in a -> kept in a \n",
            "315 kept in a  -> ept in a l\n",
            "316 ept in a l -> pt in a lo\n",
            "317 pt in a lo -> t in a loc\n",
            "318 t in a loc ->  in a lock\n",
            "319  in a lock -> in a locke\n",
            "320 in a locke -> n a locked\n",
            "321 n a locked ->  a locked \n",
            "322  a locked  -> a locked c\n",
            "323 a locked c ->  locked ce\n",
            "324  locked ce -> locked cel\n",
            "325 locked cel -> ocked cell\n",
            "326 ocked cell -> cked cell \n",
            "327 cked cell  -> ked cell u\n",
            "328 ked cell u -> ed cell un\n",
            "329 ed cell un -> d cell und\n",
            "330 d cell und ->  cell unde\n",
            "331  cell unde -> cell under\n",
            "332 cell under -> ell under \n",
            "333 ell under  -> ll under c\n",
            "334 ll under c -> l under co\n",
            "335 l under co ->  under con\n",
            "336  under con -> under cons\n",
            "337 under cons -> nder const\n",
            "338 nder const -> der consta\n",
            "339 der consta -> er constan\n",
            "340 er constan -> r constant\n",
            "341 r constant ->  constant \n",
            "342  constant  -> constant s\n",
            "343 constant s -> onstant su\n",
            "344 onstant su -> nstant sur\n",
            "345 nstant sur -> stant surv\n",
            "346 stant surv -> tant surve\n",
            "347 tant surve -> ant survei\n",
            "348 ant survei -> nt surveil\n",
            "349 nt surveil -> t surveill\n",
            "350 t surveill ->  surveilla\n",
            "351  surveilla -> surveillan\n",
            "352 surveillan -> urveillanc\n",
            "353 urveillanc -> rveillance\n",
            "354 rveillance -> veillance.\n",
            "355 veillance. -> eillance.A\n",
            "356 eillance.A -> illance.As\n",
            "357 illance.As -> llance.As \n",
            "358 llance.As  -> lance.As a\n",
            "359 lance.As a -> ance.As a \n",
            "360 ance.As a  -> nce.As a k\n",
            "361 nce.As a k -> ce.As a ki\n",
            "362 ce.As a ki -> e.As a kil\n",
            "363 e.As a kil -> .As a kill\n",
            "364 .As a kill -> As a kille\n",
            "365 As a kille -> s a killer\n",
            "366 s a killer ->  a killer \n",
            "367  a killer  -> a killer h\n",
            "368 a killer h ->  killer hu\n",
            "369  killer hu -> killer hur\n",
            "370 killer hur -> iller hurr\n",
            "371 iller hurr -> ller hurri\n",
            "372 ller hurri -> ler hurric\n",
            "373 ler hurric -> er hurrica\n",
            "374 er hurrica -> r hurrican\n",
            "375 r hurrican ->  hurricane\n",
            "376  hurricane -> hurricane \n",
            "377 hurricane  -> urricane b\n",
            "378 urricane b -> rricane be\n",
            "379 rricane be -> ricane bea\n",
            "380 ricane bea -> icane bear\n",
            "381 icane bear -> cane bears\n",
            "382 cane bears -> ane bears \n",
            "383 ane bears  -> ne bears r\n",
            "384 ne bears r -> e bears re\n",
            "385 e bears re ->  bears rel\n",
            "386  bears rel -> bears rele\n",
            "387 bears rele -> ears relen\n",
            "388 ears relen -> ars relent\n",
            "389 ars relent -> rs relentl\n",
            "390 rs relentl -> s relentle\n",
            "391 s relentle ->  relentles\n",
            "392  relentles -> relentless\n",
            "393 relentless -> elentlessl\n",
            "394 elentlessl -> lentlessly\n",
            "395 lentlessly -> entlessly \n",
            "396 entlessly  -> ntlessly d\n",
            "397 ntlessly d -> tlessly do\n",
            "398 tlessly do -> lessly dow\n",
            "399 lessly dow -> essly down\n",
            "400 essly down -> ssly down \n",
            "401 ssly down  -> sly down o\n",
            "402 sly down o -> ly down on\n",
            "403 ly down on -> y down on \n",
            "404 y down on  ->  down on t\n",
            "405  down on t -> down on th\n",
            "406 down on th -> own on the\n",
            "407 own on the -> wn on them\n",
            "408 wn on them -> n on them,\n",
            "409 n on them, ->  on them, \n",
            "410  on them,  -> on them, a\n",
            "411 on them, a -> n them, a \n",
            "412 n them, a  ->  them, a s\n",
            "413  them, a s -> them, a st\n",
            "414 them, a st -> hem, a str\n",
            "415 hem, a str -> em, a stra\n",
            "416 em, a stra -> m, a stran\n",
            "417 m, a stran -> , a strang\n",
            "418 , a strang ->  a strange\n",
            "419  a strange -> a strange \n",
            "420 a strange  ->  strange c\n",
            "421  strange c -> strange ca\n",
            "422 strange ca -> trange cas\n",
            "423 trange cas -> range case\n",
            "424 range case -> ange case \n",
            "425 ange case  -> nge case t\n",
            "426 nge case t -> ge case ta\n",
            "427 ge case ta -> e case tak\n",
            "428 e case tak ->  case take\n",
            "429  case take -> case takes\n",
            "430 case takes -> ase takes \n",
            "431 ase takes  -> se takes o\n",
            "432 se takes o -> e takes on\n",
            "433 e takes on ->  takes on \n",
            "434  takes on  -> takes on e\n",
            "435 takes on e -> akes on ev\n",
            "436 akes on ev -> kes on eve\n",
            "437 kes on eve -> es on even\n",
            "438 es on even -> s on even \n",
            "439 s on even  ->  on even d\n",
            "440  on even d -> on even da\n",
            "441 on even da -> n even dar\n",
            "442 n even dar ->  even dark\n",
            "443  even dark -> even darke\n",
            "444 even darke -> ven darker\n",
            "445 ven darker -> en darker,\n",
            "446 en darker, -> n darker, \n",
            "447 n darker,  ->  darker, m\n",
            "448  darker, m -> darker, mo\n",
            "449 darker, mo -> arker, mor\n",
            "450 arker, mor -> rker, more\n",
            "451 rker, more -> ker, more \n",
            "452 ker, more  -> er, more s\n",
            "453 er, more s -> r, more si\n",
            "454 r, more si -> , more sin\n",
            "455 , more sin ->  more sini\n",
            "456  more sini -> more sinis\n",
            "457 more sinis -> ore sinist\n",
            "458 ore sinist -> re siniste\n",
            "459 re siniste -> e sinister\n",
            "460 e sinister ->  sinister \n",
            "461  sinister  -> sinister s\n",
            "462 sinister s -> inister sh\n",
            "463 inister sh -> nister sha\n",
            "464 nister sha -> ister shad\n",
            "465 ister shad -> ster shade\n",
            "466 ster shade -> ter shades\n",
            "467 ter shades -> er shades \n",
            "468 er shades  -> r shades w\n",
            "469 r shades w ->  shades wi\n",
            "470  shades wi -> shades wit\n",
            "471 shades wit -> hades with\n",
            "472 hades with -> ades with \n",
            "473 ades with  -> des with h\n",
            "474 des with h -> es with hi\n",
            "475 es with hi -> s with hin\n",
            "476 s with hin ->  with hint\n",
            "477  with hint -> with hints\n",
            "478 with hints -> ith hints \n",
            "479 ith hints  -> th hints o\n",
            "480 th hints o -> h hints of\n",
            "481 h hints of ->  hints of \n",
            "482  hints of  -> hints of r\n",
            "483 hints of r -> ints of ra\n",
            "484 ints of ra -> nts of rad\n",
            "485 nts of rad -> ts of radi\n",
            "486 ts of radi -> s of radic\n",
            "487 s of radic ->  of radica\n",
            "488  of radica -> of radical\n",
            "489 of radical -> f radical \n",
            "490 f radical  ->  radical e\n",
            "491  radical e -> radical ex\n",
            "492 radical ex -> adical exp\n",
            "493 adical exp -> dical expe\n",
            "494 dical expe -> ical exper\n",
            "495 ical exper -> cal experi\n",
            "496 cal experi -> al experim\n",
            "497 al experim -> l experime\n",
            "498 l experime ->  experimen\n",
            "499  experimen -> experiment\n",
            "500 experiment -> xperimenta\n",
            "501 xperimenta -> perimentat\n",
            "502 perimentat -> erimentati\n",
            "503 erimentati -> rimentatio\n",
            "504 rimentatio -> imentation\n",
            "505 imentation -> mentation,\n",
            "506 mentation, -> entation, \n",
            "507 entation,  -> ntation, h\n",
            "508 ntation, h -> tation, ho\n",
            "509 tation, ho -> ation, hor\n",
            "510 ation, hor -> tion, horr\n",
            "511 tion, horr -> ion, horri\n",
            "512 ion, horri -> on, horrif\n",
            "513 on, horrif -> n, horrify\n",
            "514 n, horrify -> , horrifyi\n",
            "515 , horrifyi ->  horrifyin\n",
            "516  horrifyin -> horrifying\n",
            "517 horrifying -> orrifying \n",
            "518 orrifying  -> rrifying s\n",
            "519 rrifying s -> rifying su\n",
            "520 rifying su -> ifying sur\n",
            "521 ifying sur -> fying surg\n",
            "522 fying surg -> ying surge\n",
            "523 ying surge -> ing surger\n",
            "524 ing surger -> ng surgeri\n",
            "525 ng surgeri -> g surgerie\n",
            "526 g surgerie ->  surgeries\n",
            "527  surgeries -> surgeries,\n",
            "528 surgeries, -> urgeries, \n",
            "529 urgeries,  -> rgeries, a\n",
            "530 rgeries, a -> geries, an\n",
            "531 geries, an -> eries, and\n",
            "532 eries, and -> ries, and \n",
            "533 ries, and  -> ies, and l\n",
            "534 ies, and l -> es, and le\n",
            "535 es, and le -> s, and let\n",
            "536 s, and let -> , and leth\n",
            "537 , and leth ->  and letha\n",
            "538  and letha -> and lethal\n",
            "539 and lethal -> nd lethal \n",
            "540 nd lethal  -> d lethal c\n",
            "541 d lethal c ->  lethal co\n",
            "542  lethal co -> lethal cou\n",
            "543 lethal cou -> ethal coun\n",
            "544 ethal coun -> thal count\n",
            "545 thal count -> hal counte\n",
            "546 hal counte -> al counter\n",
            "547 al counter -> l counterm\n",
            "548 l counterm ->  countermo\n",
            "549  countermo -> countermov\n",
            "550 countermov -> ountermove\n",
            "551 ountermove -> untermoves\n",
            "552 untermoves -> ntermoves \n",
            "553 ntermoves  -> termoves m\n",
            "554 termoves m -> ermoves ma\n",
            "555 ermoves ma -> rmoves mad\n",
            "556 rmoves mad -> moves made\n",
            "557 moves made -> oves made \n",
            "558 oves made  -> ves made i\n",
            "559 ves made i -> es made in\n",
            "560 es made in -> s made in \n",
            "561 s made in  ->  made in t\n",
            "562  made in t -> made in th\n",
            "563 made in th -> ade in the\n",
            "564 ade in the -> de in the \n",
            "565 de in the  -> e in the c\n",
            "566 e in the c ->  in the ca\n",
            "567  in the ca -> in the cau\n",
            "568 in the cau -> n the caus\n",
            "569 n the caus ->  the cause\n",
            "570  the cause -> the cause \n",
            "571 the cause  -> he cause o\n",
            "572 he cause o -> e cause of\n",
            "573 e cause of ->  cause of \n",
            "574  cause of  -> cause of a\n",
            "575 cause of a -> ause of a \n",
            "576 ause of a  -> use of a c\n",
            "577 use of a c -> se of a co\n",
            "578 se of a co -> e of a cov\n",
            "579 e of a cov ->  of a cove\n",
            "580  of a cove -> of a cover\n",
            "581 of a cover -> f a covert\n",
            "582 f a covert ->  a covert \n",
            "583  a covert  -> a covert s\n",
            "584 a covert s ->  covert sh\n",
            "585  covert sh -> covert sha\n",
            "586 covert sha -> overt shad\n",
            "587 overt shad -> vert shado\n",
            "588 vert shado -> ert shadow\n",
            "589 ert shadow -> rt shadow \n",
            "590 rt shadow  -> t shadow w\n",
            "591 t shadow w ->  shadow wa\n",
            "592  shadow wa -> shadow war\n",
            "593 shadow war -> hadow war.\n"
          ]
        }
      ]
    },
    {
      "cell_type": "code",
      "source": [
        "# 출력해서 한 칸씩 쉬프트된 것 확인하기!\n",
        "\n",
        "print(x_data[0])\n",
        "print(y_data[0])"
      ],
      "metadata": {
        "colab": {
          "base_uri": "https://localhost:8080/"
        },
        "outputId": "89cce4de-4ef1-45fc-b950-fe16b87aeb73",
        "id": "AnVXMaAvJdDa"
      },
      "execution_count": 25,
      "outputs": [
        {
          "output_type": "stream",
          "name": "stdout",
          "text": [
            "[39, 33, 19, 38, 10, 19, 7, 16, 38, 23]\n",
            "[33, 19, 38, 10, 19, 7, 16, 38, 23, 26]\n"
          ]
        }
      ]
    },
    {
      "cell_type": "code",
      "source": [
        "##6. 입력 시퀀스에 대해 원핫인코딩 수행\n",
        "\n",
        "## 문제(4) : x_data를 원핫인코딩 > numpy의 eye를 쓸 수 있지 않을까?\n",
        "x_one_hot = [np.eye(vocab_size)[x] for x in x_data]\n",
        "\n",
        "##7. 입력 데이터, 레이블데이터 텐서로 변환\n",
        "\n",
        "## 문제(5) : x_one_hot과 y_data 텐서로 변환 : 둘 다 같은 형식의 텐서로 변환하면 될까?? (FloatTensor, LongTesor 중 맞는 것은?)\n",
        "X = torch.FloatTensor(x_one_hot) \n",
        "Y = torch.LongTensor(y_data)"
      ],
      "metadata": {
        "id": "3SUGwriqJdDa"
      },
      "execution_count": 26,
      "outputs": []
    },
    {
      "cell_type": "code",
      "source": [
        "##8. 크기 확인\n",
        "print('훈련 데이터의 크기 : {}'.format(X.shape))\n",
        "print('레이블의 크기 : {}'.format(Y.shape))"
      ],
      "metadata": {
        "colab": {
          "base_uri": "https://localhost:8080/"
        },
        "outputId": "89323205-487d-47e6-834c-6103b560e677",
        "id": "y3SVMPiOJdDb"
      },
      "execution_count": 27,
      "outputs": [
        {
          "output_type": "stream",
          "name": "stdout",
          "text": [
            "훈련 데이터의 크기 : torch.Size([594, 10, 40])\n",
            "레이블의 크기 : torch.Size([594, 10])\n"
          ]
        }
      ]
    },
    {
      "cell_type": "code",
      "source": [
        "##9.원핫인코딩 결과 샘플 확인하기\n",
        "print(X[0])"
      ],
      "metadata": {
        "colab": {
          "base_uri": "https://localhost:8080/"
        },
        "outputId": "e4f9d109-ea66-45f8-dd9f-2e1e8d73d2f7",
        "id": "t-o7EV9FJdDc"
      },
      "execution_count": 28,
      "outputs": [
        {
          "output_type": "stream",
          "name": "stdout",
          "text": [
            "tensor([[0., 0., 0., 0., 0., 0., 0., 0., 0., 0., 0., 0., 0., 0., 0., 0., 0., 0.,\n",
            "         0., 0., 0., 0., 0., 0., 0., 0., 0., 0., 0., 0., 0., 0., 0., 0., 0., 0.,\n",
            "         0., 0., 0., 1.],\n",
            "        [0., 0., 0., 0., 0., 0., 0., 0., 0., 0., 0., 0., 0., 0., 0., 0., 0., 0.,\n",
            "         0., 0., 0., 0., 0., 0., 0., 0., 0., 0., 0., 0., 0., 0., 0., 1., 0., 0.,\n",
            "         0., 0., 0., 0.],\n",
            "        [0., 0., 0., 0., 0., 0., 0., 0., 0., 0., 0., 0., 0., 0., 0., 0., 0., 0.,\n",
            "         0., 1., 0., 0., 0., 0., 0., 0., 0., 0., 0., 0., 0., 0., 0., 0., 0., 0.,\n",
            "         0., 0., 0., 0.],\n",
            "        [0., 0., 0., 0., 0., 0., 0., 0., 0., 0., 0., 0., 0., 0., 0., 0., 0., 0.,\n",
            "         0., 0., 0., 0., 0., 0., 0., 0., 0., 0., 0., 0., 0., 0., 0., 0., 0., 0.,\n",
            "         0., 0., 1., 0.],\n",
            "        [0., 0., 0., 0., 0., 0., 0., 0., 0., 0., 1., 0., 0., 0., 0., 0., 0., 0.,\n",
            "         0., 0., 0., 0., 0., 0., 0., 0., 0., 0., 0., 0., 0., 0., 0., 0., 0., 0.,\n",
            "         0., 0., 0., 0.],\n",
            "        [0., 0., 0., 0., 0., 0., 0., 0., 0., 0., 0., 0., 0., 0., 0., 0., 0., 0.,\n",
            "         0., 1., 0., 0., 0., 0., 0., 0., 0., 0., 0., 0., 0., 0., 0., 0., 0., 0.,\n",
            "         0., 0., 0., 0.],\n",
            "        [0., 0., 0., 0., 0., 0., 0., 1., 0., 0., 0., 0., 0., 0., 0., 0., 0., 0.,\n",
            "         0., 0., 0., 0., 0., 0., 0., 0., 0., 0., 0., 0., 0., 0., 0., 0., 0., 0.,\n",
            "         0., 0., 0., 0.],\n",
            "        [0., 0., 0., 0., 0., 0., 0., 0., 0., 0., 0., 0., 0., 0., 0., 0., 1., 0.,\n",
            "         0., 0., 0., 0., 0., 0., 0., 0., 0., 0., 0., 0., 0., 0., 0., 0., 0., 0.,\n",
            "         0., 0., 0., 0.],\n",
            "        [0., 0., 0., 0., 0., 0., 0., 0., 0., 0., 0., 0., 0., 0., 0., 0., 0., 0.,\n",
            "         0., 0., 0., 0., 0., 0., 0., 0., 0., 0., 0., 0., 0., 0., 0., 0., 0., 0.,\n",
            "         0., 0., 1., 0.],\n",
            "        [0., 0., 0., 0., 0., 0., 0., 0., 0., 0., 0., 0., 0., 0., 0., 0., 0., 0.,\n",
            "         0., 0., 0., 0., 0., 1., 0., 0., 0., 0., 0., 0., 0., 0., 0., 0., 0., 0.,\n",
            "         0., 0., 0., 0.]])\n"
          ]
        }
      ]
    },
    {
      "cell_type": "code",
      "source": [
        "##10. 레이블 데이터 샘플 확인하기\n",
        "print(Y[0])"
      ],
      "metadata": {
        "colab": {
          "base_uri": "https://localhost:8080/"
        },
        "outputId": "be82ac3f-cc2e-4e2f-b7c3-55338ffca6e0",
        "id": "8QbZF5gkJdDe"
      },
      "execution_count": 29,
      "outputs": [
        {
          "output_type": "stream",
          "name": "stdout",
          "text": [
            "tensor([33, 19, 38, 10, 19,  7, 16, 38, 23, 26])\n"
          ]
        }
      ]
    },
    {
      "cell_type": "code",
      "source": [
        "##11. RNN 모델 구현\n",
        "\n",
        "##문제(6) : 기본 pytorch 인자 넣기 연습 + forward 채우기\n",
        "### 조건 : rnn layer 2개 쌓기 + 마지막은 fc layer\n",
        "### batch_fisrt 설정 필요할까? (유튜브 강의 참고)\n",
        "\n",
        "class Net(torch.nn.Module):\n",
        "  def __init__(self, input_dim, hidden_dim, layers):\n",
        "    super(Net, self).__init__()\n",
        "    self.rnn = torch.nn.RNN(input_dim, hidden_dim, num_layers=layers, batch_first=True)\n",
        "    self.fc = torch.nn.Linear(hidden_dim, hidden_dim, bias=True)\n",
        "  \n",
        "  def forward(self, x):\n",
        "    x, _status = self.rnn(x)\n",
        "    x = self.fc(x)\n",
        "    return x"
      ],
      "metadata": {
        "id": "XLQ4Pp8DJdDf"
      },
      "execution_count": 30,
      "outputs": []
    },
    {
      "cell_type": "code",
      "source": [
        "net = Net(vocab_size, hidden_size, 2)"
      ],
      "metadata": {
        "id": "s6Favu_1JdDg"
      },
      "execution_count": 31,
      "outputs": []
    },
    {
      "cell_type": "code",
      "source": [
        "##12. loss function\n",
        "criterion = torch.nn.CrossEntropyLoss()\n",
        "\n",
        "##13. optimizer\n",
        "optimizer = optim.Adam(net.parameters(), learning_rate)"
      ],
      "metadata": {
        "id": "vfpXqpxMJdDh"
      },
      "execution_count": 32,
      "outputs": []
    },
    {
      "cell_type": "code",
      "source": [
        "##14. 출력 크기 점검\n",
        "outputs = net(X)\n",
        "print(outputs.shape)"
      ],
      "metadata": {
        "colab": {
          "base_uri": "https://localhost:8080/"
        },
        "outputId": "8fecac95-149b-4928-ebfe-15e00db670d7",
        "id": "8PU0xa-CJdDh"
      },
      "execution_count": 33,
      "outputs": [
        {
          "output_type": "stream",
          "name": "stdout",
          "text": [
            "torch.Size([594, 10, 40])\n"
          ]
        }
      ]
    },
    {
      "cell_type": "code",
      "source": [
        "##15. Training 시작\n",
        "\n",
        "for i in range(100):\n",
        "    optimizer.zero_grad()\n",
        "    outputs = net(X)\n",
        "    ##문제(7) : outputs, Y 형태 그대로 넣으면 안되죠. view 함수를 이용해 loss값을 계산해봅시다.\n",
        "    loss = criterion(outputs.view(-1, vocab_size), Y.view(-1))\n",
        "    loss.backward()\n",
        "    optimizer.step()\n",
        "\n",
        "    #16. 예측결과 확인\n",
        "    results = outputs.argmax(dim=2)\n",
        "    predict_str = \"\"\n",
        "    for j, result in enumerate(results):\n",
        "        if j == 0: # 처음에는 예측 결과를 전부 가져오기\n",
        "            predict_str += ''.join([world_set[t] for t in result])\n",
        "        else: # 그 다음에는 마지막 글자만 반복 추가\n",
        "            predict_str += world_set[result[-1]]\n",
        "\n",
        "    print(predict_str)"
      ],
      "metadata": {
        "colab": {
          "base_uri": "https://localhost:8080/"
        },
        "outputId": "fe95c099-b76c-4cac-d435-12d312ca351f",
        "id": "pxdm_odlJdDi"
      },
      "execution_count": 34,
      "outputs": [
        {
          "output_type": "stream",
          "name": "stdout",
          "text": [
            "uuudDSdDdcdudDdDdDcrDSSd1DdulDdcDlDdSSdaDddddcdDdclddcDluSdDdcDudrcDldrDdlduDrDludddruulDDSDuurDDDdDdddaDddDruulDuldddSuddruddcddddrDddruudcuSrcDdDdrDddrdDdDddDDrDDScruddDDldDDlDuSrDdddSudlDdcDdlDuldSSdDDdlDddrddDdddlDdulDDddddrdduDddDcudrDducdDdAruDlDdduludDdlDdDlulDdDduunDlcdDdDlDSdlDddddaDddDddddrDlDlcdrDdDlDrDluSrDcrDcDduouulddddddDuDdDddruDdDlDdddDuDdDddrDdlDdd1SuudddDdcluudlrrDlDSdDdDDuddlDdddDdrSDddrDcuDruldDdcSddDdrDdlddDDrDdludDDrDduDdDldDuuuulduudlDdrDdDDDdculDDdddururDlrDDdDudDdSdudddDuSdDddblDdDDdrDdDruddrluaDdDdDduDdDdDdcdDdddruldddrudDDDdruDdDdlSddDdDculrddDdDlDuldSdruDDdDdulDDdDdlS\n",
            "reellelllllllellellllllllelllellelllllllllllllelllllllellllellelellllllllleellllellleelllelleleelllllllllelleelllelllelllleeellelllellleeellellllllllllllllllllelllelleellllllelllellllllellllllllleelllllellleleleelllelllellllllllleelllleelllellllleelllleelllllllelllelllleleellllllelellllllllelellllllellllellllllelllellllllllleelelllllllleelllleellllellleelllllllllllllelllllllllelllleeleelllllelelellllllelellllellelllllllellllelllllllllllllellllllllllllelleelllllelellllelellllleellllelllelelllllellleelllllellleeelleellelelllllellllllellelllellllllellellllellllllllllllelllllleleelllleellllllleelllle\n",
            "eeeeeeeeeeeeeeeeeeeeeeeeeeeeeeeeeeeeeeeeeeeeeeeeeeeeeeeeeeeeeeeeeeeeeeeeeeeeeeeeeeeeeeeeeeeeeeeeeeeeeeeeeeeeeeeeeeeeeeeeeeeeeeeeeeeeeeeeeeeeeeeeeeeeeeeeeeeeeeeeeeeeeeeeeeeeeeeeeeeeeeeeeeeeeeeeeeeeeeeeeeeeeeeeeeeeeeeeeeeeeeeeeeeeeeeeeeeeeeeeeeeeeeeeeeeeeeeeeeeeeeeeeeeeeeeeeeeeeeeeeeeeeeeeeeeeeeeeeeeeeeeeeeeeeeeeeeeeeeeeeeeeeeeeeeeeeeeeeeeeeeeeeeeeeeeeeeeeeeeeeeeeeeeeeeeeeeeeeeeeeeeeeeeeeeeeeeeeeeeeeeeeeeeeeeeeeeeeeeeeeeeeeeeeeeeeeeeeeeeeeeeeeeeeeeeeeeeeeeeeeeeeeeeeeeeeeeeeeeeeeeeeeeeeeeeeeeeeeeeeeeeeeeeeeeeeeeeeeeeeeeeeeeeeeeeeeeeeeeeeeeeeeeeeeeeeeeeeeeeeeeeeeeeeeeeeeeeeeeeeeeeeeeeeeeeeeeeeeeeeeee\n",
            "eeeeeeeeeeeeeeeeeeeeeeeeeeeeeeeeeeeeeeeeeeeeeeeeeeeeeeeeeeeeeeeeeeeeeeeeeeeeeeeeeeeeeeeeeeeeeeeeeeeeeeeeeeeeeeeeeeeeeeeeeeeeeeeeeeeeeeeeeeeeeeeeeeeeeeeeeeeeeeeeeeeeeeeeeeeeeeeeeeeeeeeeeeeeeeeeeeeeeeeeeeeeeeeeeeeeeeeeeeeeeeeeeeeeeeeeeeeeeeeeeeeeeeeeeeeeeeeeeeeeeeeeeeeeeeeeeeeeeeeeeeeeeeeeeeeeeeeeeeeeeeeeeeeeeeeeeeeeeeeeeeeeeeeeeeeeeeeeeeeeeeeeeeeeeeeeeeeeeeeeeeeeeeeeeeeeeeeeeeeeeeeeeeeeeeeeeeeeeeeeeeeeeeeeeeeeeeeeeeeeeeeeeeeeeeeeeeeeeeeeeeeeeeeeeeeeeeeeeeeeeeeeeeeeeeeeeeeeeeeeeeeeeeeeeeeeeeeeeeeeeeeeeeeeeeeeeeeeeeeeeeeeeeeeeeeeeeeeeeeeeeeeeeeeeeeeeeeeeeeeeeeeeeeeeeeeeeeeeeeeeeeeeeeeeeeeeeeeeeeeeee\n",
            "eeeeeeeeeeeeeeeeeeeeeeeeeeeeeeeeeeeeeeeeeeeeeeeeeeeeeeeeeeeeeeeeeeeeeeeeeeeeeeeeeeeeeeeeeeeeeeeeeeeeeeeeeeeeeeeeeeeeeeeeeeeeeeeeeeeeeeeeeeeeeeeeeeeeeeeeeeeeeeeeeeeeeeeeeeeeeeeeeeeeeeeeeeeeeeeeeeeeeeeeeeeeeeeeeeeeeeeeeeeeeeeeeeeeeeeeeeeeeeeeeeeeeeeeeeeeeeeeeeeeeeeeeeeeeeeeeeeeeeeeeeeeeeeeeeeeeeeeeeeeeeeeeeeeeeeeeeeeeeeeeeeeeeeeeeeeeeeeeeeeeeeeeeeeeeeeeeeeeeeeeeeeeeeeeeeeeeeeeeeeeeeeeeeeeeeeeeeeeeeeeeeeeeeeeeeeeeeeeeeeeeeeeeeeeeeeeeeeeeeeeeeeeeeeeeeeeeeeeeeeeeeeeeeeeeeeeeeeeeeeeeeeeeeeeeeeeeeeeeeeeeeeeeeeeeeeeeeeeeeeeeeeeeeeeeeeeeeeeeeeeeeeeeeeeeeeeeeeeeeeeeeeeeeeeeeeeeeeeeeeeeeeeeeeeeeeeeeeeeeeeee\n",
            "ee                                                                                                                                                                                                                                                                                                                                                                                                                                                                                                                                                                                                                         \n",
            "e                                                                                                                                                                                                                                                                                                                                                                                                                                                                                                                                                                                                                          \n",
            "e                                                                                                                                                                                                                                                                                                                                                                                                                                                                                                                                                                                                                          \n",
            "e                                                                                                                                                                                                                                                                                                                                                                                                                                                                                                                                                                                                                          \n",
            "e                                                                                                                                                                                                                                                                                                                                                                                                                                                                                                                                                                                                                          \n",
            "e                                                                                                                                                                                                                                                                                                                                                                                                                                                                                                                                                                                                                          \n",
            "ee e  eeee eee e ee e ee e e eee ee ee ee e eeee e eee  ee ee  e eee e ee e  ee e ee e ee eee ee eeeee ee ee e e  ee e ee ee ee ee e eee eeee eeeee eeee ee e e  ee ee e ee e e eee ee e ee ee ee e  e ee e  ee e ee ee ee ee e  eee ee eee e ee e eee    ee e ee e ee eee eee e e eeee e ee  e ee ee ee ee e ee e eeee e ee eeee e ee e  eee eeee e eee e e eeee ee eee ee ee eeee ee eee ee e e ee ee ee e eee eee ee e e  eee e e eeee ee ee e ee e  e  e e eee ee e ee e ee ee e eeee e eeeeeeee ee e  ee e e eeeee eee ee e    ee eeee eeeee ee e  e eeee e ee eee e e ee e eee e ee eee ee e  ee e ee e eeeee e eee e\n",
            "ee e  eeeeeeee e ee e ee eee eee ee ee ee e eeee e eee  ee eeeeeeeee eeee e eee e ee e ee eeeeee eeeee ee ee e e  ee e eeeee ee eeee eee eeee eeeee eeee eeee ee ee eeee eeee e eee ee e ee ee ee e  eeee e eee e eeeee ee ee e eeee ee eee e ee eeeee e  ee e ee e ee eee eee e e eeee e ee ee ee ee ee ee e ee e eeee e ee eeeeee ee e eeee eeee e eee e e eeeeeee eee ee ee eeee ee eee eeee e ee eeeee e eee eee ee e e eeee e e eeeeeee ee e ee e eee e e eee ee e ee e eeeee e eeee e eeeeeeee ee ee ee e e eeeee eee ee ee eeee eeeeeeeeee ee ee eeeeee e ee eee e e ee e eee e eeeeee ee e eee e ee e eeeee e eee e\n",
            "ee e   ee  e e e e  e ee e e e e e  ee e  e e ee e e e  ee e     eee e e  e  ee e ee e ee eee ee ee  e ee ee e e  ee e e     ee ee e e e eeee e   e e e  e  e e  ee e  e ee e e eee ee e ee  e  e e  e ee e   e e e  ee ee e  e   ee e  e e e ee e  ee    ee e ee e e  e e eee e e e  e e e   e  e ee ee ee e ee e ee e e e  e e  e ee e  e e e ee e e e e e ee e ee ee  ee    e ee e  eee e  e e ee ee ee e  e    e ee e e  eee e e e  e  e ee e ee e  e  e e  ee e  e ee e e   e e ee e e ee  ee e ee e  ee e e e   e e e ee e    ee e      e e e  e    e  e e ee e e e e ee e eee e e  eee ee e  ee e ee e eee e e  ee e\n",
            "ee e       e e   e  e e    e e e e  ee    e e  e e e     e e         e e  e  ee e ee e e   e         e ee ee e e     e e     ee    e e     ee e   e      e       e  e  e      e ee  ee e e      e e  e ee e   e e    e   e e  e    e e  e e e ee e  e        e  e      e e     e e e  e e e   e  e ee e     e  e e    e   e  e e  e ee e    e e e  e e e           e      e    e  e e    e e  e    e     e e  e      ee   e    e e e e       ee e  e e     e e  e  e     e e e     e    e e     e  e e     e  e e e   e e e    e     e e        e e  e       e e e  e e e e ee e   e e e  e e ee e     e ee e e   e e     e\n",
            "ee e             e  e e      e e e        e    e e       e e         e    e   e e  e e e             e e  e  e e     e e      e    e       e      e      e       e     e      e  e       e      e e  e  e e   e e        e e       e e  e e e    e  e        e         e e     e e    e e e   e    e  e     e  e e    e   e    e  e e  e    e e    e e e           e      e       e e    e e  e    e          e      e    e    e e e         e     e e     e e  e  e     e e       e    e e     e  e          e e e   e e e    e     e e        e    e       e e e  e e   e    e   e e e  e e ee e     e ee e     e e     e\n",
            "ee               e  e e      e e e        e    e e       a e         e    e   e e  a e a             e e  e  e a     e e      e    e              e      e  e    e  e  e      e  e       e      e e  e  e e     e        a e  e    a e  e e e    e  a        e         e e     e e    e e e   a    e  e     e  e e    e   a       e ee e    a e    e e a           e      a    a  e e    e    a    e          e           a    e e e         e  e  e e     e e  a  e     e e       e    e e     e  e       e  e e e   e e      e     e e        e            e e e  e a   e    e   e e    e e  a e     e  e e       e     e\n",
            "ee               a  e ea e   e e e   a e  e    e e       a e         e    e  ee e  a e  e            e e  ee e    e  e e      e    e       e      e         e    ee e  e         e     e  e     e e  e  e e     e        a e  e    a e  e e e  e e  a        e  e      e       e e    e e e   a  e e  e  e  e  e e  e e   a    a  e ee e    e e    e e e           e      a    e  e e    e    e    e     e    e       e e a  e e e e  e      ea e  e    a  e e  e  e     e e       e    e e     e  e       e  e e e   e e    e e     e          e    e     e e e ee e a   e  e e  ae e    e    a e     e  e e       e     e\n",
            "ee e       e e   e  e ee     e e e  ee e  e    e e       e e      e  e    e  ee e  e e  e  e         e ee ee e    e  e e     ee    e       ee     e      e  e    ee e  e         e  ee e  e  e  e e  e  e e   e e  e     e e  e    e e  e e e  e e  e      e e  e    e e e     e e    e e e   e  e ee ee e  e  e e  e e   e  e e  e ee e    e e  e e e e      e    e  e  ee    e  e e    e e  e    e     e e  e      ee e a  e e e e  e    e ea e  e    a  e    e  e     e e  e    e    e e  a  e  e  e    e  e e e   e e    e e     e          e          e e e ee e e   e  e e  ae e    e    a e   e e  e e  e  e e     e\n",
            "ee e       e e   e  e ea     e e e  ee e  e    e e       e e      e  e  e e  ee e  e e  e  e   e     e ee ee e    e  e e     ee    e       ee     e      ee e    ee e  e      e  e  ee e  e  e  e e  e  e e   e e  e e   e e  e    e e  e e e  e e  ee     e e  e    e e e   e e e  e e e e   e  e ee ee e  e  e e  e e   e  e e  e ee e    e e  e e e e e    e e  e  e  ee    e  e e   ee e  e    e     e e  e      ee e e  e e e e  e    e ee e  e e  a  e e  ee e     e e  e  e e    e e  e  e  e  e    e  e e e   e e e  e e     e e     e  e  e       e e e ee e e e e  e e  ae e  e e e  e e   e e ee e  ee e e   e e\n",
            "ee e       e e e ee e ea     e e e  ee ee e e ee e e e   e e     eee e ee e  ee e  a e aa  e   e   e e ee ee e  e    e e   e ee    e       ee  a  e e    ee e    ee ee e      e  ee ee e ee  e  e e  e ee e   e e  e ee  e ee e    e e  e e e  e e  ee     e e  e    e eee   e e e    e e e   e  e ee ee ee e  e e  e e   e  e e  e ee e    e e  e e e e e    e e  e  e  ee    e  e e   ee e  e    e     e e  ee     ee   e  eee e e  e e ee ea e  e e  ae e e  ee e     e e  a  e e   ee e  ae e  e ee  e e  e e e   e e e ee ee    e e     e  e  e       e e e ee e e e e  e e  ae e  e eee ee e   e e ee e   e e e   e e\n",
            "ee e    ae eae e ae e ea     e e e   e ee e e ee e e e   a e     eae e ee e   a e  o e aa  e   e  ee e ee ea e ar e  e e   e ee    e   e   ee  ae e e e  ee e     e ee e   e  e  ee ee e ee  e  e e  e ee e   e e  e ee  a ee e   aa ee e e e  e  e ee    ae e  e    e eee   a e e ee e e e   e  e ee ea  e e  e e  e e   ee e e  e ee e    e e aa e e e e   ee e  e  ee ee    eeee e   ee e  e    e     e e  ee   a ee   er eee e eeee e ee ea e  e e  ae e e  ee e    ee e  a  e e eeee e  ae e  e ee  e e  e e e e e e e ee ee   ee e   e e  e  e       e e e ee e e e e  e e  ae e  a eee ea e   e e ee e   e e e   e e\n",
            "ee e    e  e e e ea e ea  ee e e e   e ee e e ee e e e   e e     eae e ee e   a e  o e aa  e   e  ee e ee ea e en ee e e   e  e    e   e   ee  ee e   e  ee e     e    e   e  e  ee  e e ee  e  e ee e ee e   e e  e ee  e ee     aa ee e e e  e  e ee     e e  e    e eee   e e e  e e e e   ee e ee ee  e e  e e  e e   ee e e  e ee e    e e  a e e e e   ee e  e  ee ee    aeee e   ee e  e    e     e e  ee   a ee   ar eee e eeee e  e ea e  e e  ae e e  ee e    ee e  a  e e   ee e  ae ee e ee  e e  e e e   e e e  e  e    e e   e e  e  e       e e e ee e e e e  e e   a e  a eee  a e   e e ee e   e e e   e e\n",
            "ee e    e  e e e e  e ea  ee e e e   a ee e anee e e e   e e     eae e e  e   a e  a e ee  e   e   e e  e ea e e  ee e e   e  e    e  ee   ee  ee e    e ea e     a    e      e  ee  e   ee     e e  e ee e   e e  e ee  e ee     aa ee   e e  e    ee     a e  e    e eee   e e e  e e e e   ae e  e ee  e e  e e  e e   ae e e  e  e e    e e  a e e e      e e  e  ee  e    anee e   ee e  e    e     e e  ee   a ee   an eee e eeee e  e ea    e e   a e e  ae ee    e e  a  e e   ee e   a ee e  e  e e  e e e   e e e  e  e    a e     ee e  e       a e e ee e e   e  e e   o e  e eee  a e   e e ee e   eee e   e e\n",
            "ee e    e  e e e e  e ean ee e e e   anee e anee e   e   e ee    aoe eee  e   o e  are ee  ee  e   e e  e ea e e  e  e e   e  o    e  ee   ee  ee e    e ea e     a    e      e  ee  e   ee     e e  e ee e     e  e ee  oree     aonee   e e  e    aa     one  e    a eee   e e e    e e e   ae e  e ee    e  e e  e e   ae e e  e  e e    o e ea e e a      e e  e   e  e    anee e   aa e  e    e   e a e  ee   a ee   an eee e enee e  e eon   e e   n e e   e ee   ao e  a  e e   ee e   o ee e  e    e  e e e   e e e  e  e    o e      e e  e e     o e e ee e a   e  e e   one  e eee  a     a e ee e   aee e   a e\n",
            "ee e    en anane e    eon ee e e e  aonee e ande e   e   eree    aoe eeee e  aore  ore ee  ee  e   e e  e eo e e  e  e e   e  or   e  ee   ee  ee e    e ao e     o    e    e e  ee  e   ee     e e  enee e     a  e ee  oree e   oonee e e e  e e  aa     one  e   an eee   a e e  n e e ee  aa e  e eo    e  e e  e e   aa e en e ee e    ore eo e e or  e  e e  e   e  e    anee e   aoree en   e   e o e  ee   a ao   en eee e ende e  e eor   ene  an e e   a ee   aore  a    e   aene   onee e ee an ee e ene   e e e  e ee    ore        e  e e    aore e ee e a   e  e e   one ea eee  ore   o enee e   aee e   a e\n",
            "ee e    en ano4e en   aon eene eee  aont  e ande e e e   ereee   aoeneeee e  aore  ore ee  ee ee   e enee eo e en e ea e   e  or   eneee  eee eee e e  e ao e    ao    e   ee e  ee  e e ee     e e  enee e     an e ee  oree e   oonee e e e  e e  oa     one  e   an eee   a e e  n e enee   e e ee eo    e  ere  e e   aa e en enee e    ore eo e e or  en e e  e   e  e    anee e   aoree en   e   eao e  ee   a ao   en eee e ende e  e eor   one  an   e   a ee   aore eo    e e aone   o ee e ee an ee e ene   e e e  e ee    ore        er e e    aode e ee e an  e  e e   one ee eee eore   o eneore eeaeene   e e\n",
            "ee e    en anD4x en   aon eene a e  aont  e ande en  d   aree    aoeneee  e  eore  ore ee  eente   e ande eo e en e  a e   e  o    en  e  eee t ene    e an e t  eo    e   ee e  ee  e  nee     e en eneere      n e e   oree e   oonee e e e te e  oo     o e  e   an  ee   a e e  n e ente   e e te eo    e  ore  e e   ae e en enee e    ore ao e e or  en e en e   e  e    ande e   aarte en   e   e o e  ee   a aor  en  ee e ende en e eor   one  an   e   e ee   aore ee    e   aone   a ee e te an ee e ene   e e e  e e     or         er e e    an e e ee e an  e  e e   one en aee tor    n eneore eeaeene   e e\n",
            "ee t    en onR4x onxn oondeane a e  aond  e onde en  d   aree    aoereeen e  aare tore ee  eente   e ande eore en e  aree  e tor n en aa  eee taene t  e on ent  to  n e   ee e  ee te  nee     e en aneore     an e ee toree e   ooneo eno e te en oon   to e  e   an  een aa ene tnte ente   e ente eo   te  ore  e e   ae eeendeneo e    ore aode eoor  en ehente  ee te    ande ee  oarte ent  e   e o e tee   a dor  en  ee e ende ente eor  tone  on   e   e ee   aore te    e  oaone  oa ee ente on ae e eneo  e e e  e e    tor      e  ente e    ande e te e on  e  e e   one tn aee tort   n aneore eeaeane   e e\n",
            "ee t  n en onR4x onS  oondeaneaane  aont  e onde en nd  taree    aoereeenne  eare tore ee  eente  ae ande eore en es aree  e tor n entoan eee toenent te on ent  ta tn e   ee e  ee te  nee     e en enearee  e en e ee toree e   ooneo enorente en oon   te e  e   an  een aa ene tnte ente  ae ende eo  ete tore  e e   ee eeendenteree  sore ande eoor  entehente  ee te    ande ee eoarte ent  e   e o e tee   a oor  en  ee e ende ente eor  tene  on   e   e ee   aore te t  e  ohone  oa ee erte on ee e eneon e e e te ee   ear      e  ente e    ande e te e or  e  e e   are tn aee tort  tn aneore eeaeane   e e\n",
            "ee t    en onR4d on   aonteaneaare  aord  e onde en  a   aree    aoereeanne  eare tore ee  eente  an ande eare en es areee e tor esen oan eee toenent  e cn ent  te  n e  eee e  ee te  nee     e en eneare   e en e ee coree e   oonee   ore te e  oan   te e  e   an  ee  aa ene tnte ente  ee ende eo  ete tore    e   ee eeendenteree  sore onde eaar  ent hente  ee de    ande  e eaarte ent  ee  e o e tee   a oor  en  ee e ende ente eor  te e  an   e   e ee   hore he t  e  ohane   e ee ert  on ee e eneon e e e te e    ear      e  ente e    ande e te t or  e  ere   are hn  ee tort  tn eneore eeaeane   e e\n",
            "ee tn   en oRR4e onS  aanteaneaore  oard  e onde er  a   aree    aoereean e  aare tore ea  eente  an ande eare en es areee e tor eten oon eae toenent  e cn ent  ta  n e   ee e  ee terenee n   e en eneare   e ente ee coree e   aonee  oore te e  oan   he e ee   hn  ee  aa ene hnde ente  en ende eo  ete tare    e   ee eean aneeree  hore onde eaar  ent hende  eende    ande  e eaarte ent  ee eero e tee   a oor  an  ee e ende ente eor  he e  on   e   e ee   hore he t  e  ohane  ne ee ort  on eene eneonse ene t  e    ear      e  ende e    ande e eere or  e  ere   are hn  ee tord  tn eneore eeaeane   e e\n",
            "ee t    an odR4e on   hanteane are  aard  e onde er  a   aree    aoereean e  hare tore he  eenee  an ande eare an es areee e tor ete  ohn eae tnenene  e cn ent  ha en e   ee e  ee tere ee  e  e en eneare     en e ee coree e   aonee  aore te e  aan   he e ee   hn  ee   a ene hnd  en e  en ende ea eete tare    e   ee eean eneeree  hore onde eaar  en  herde  eende    ande  e eaarte ent  ee e re     e   a oor  an  ee e ende ente ear  he e  an   e   e ee   hare he t  e  ohane   e ee art  on eene eneon e e e t  e    har      e  erde e    ande ertere on  e  ere   are hn  ee tord  hn eneore  eheane   e e\n",
            "ee t  n an odR4e hnS  handeaneoan   oand  e onde er  a   aree    aoereean e  hare tore ha  eenee  an ande hare hn es areee e tor ede  ohn hae tnenene  e cn end  haren e  eee e  ee terenee     e en eneare     en e ee coree e   aonee  aorente ee aan   here ee   hn  ee   arene hnd  en e ten ende eareede tare    ee  ae  ean aneeree  hore onde eaon  en  herde  eende    ande  e eaar e ent  ee e re    ee   a oor  an  ee e ande ente hare he e  an   e   eree   hare hert  e  ohane  ae ee art  on aene eneon e ene t  e    har      e terde e    hnde ertere on  e  are  oare hn  eertord  hn aneore  eheane   e e\n",
            "ee c  n an ad54e hnS, 1andeaneoar   oand    onderer  a  taree    hoereean e  tare tore ha  eende  an ande hare hn as areee e tor ede  ohn hae csenene  e cn end  ta  n e   ee e hee terenee    te tn andare     en eeee coree e   aonee  aorende ee aan   hene eer  hn  ee   arene hnd  ee e t n ande hareede tare    ee  ae  ean anderee  core onde eaon  hn  herde   ande    ande  e eoar e ent  ee e re     e   anoor  an ahe e andesende hare he e  an t e   eree   hore hert  e  ohane  re eeharte on aene eneor e ene t  e    har    e e terde e    hnd  erder  on  e  are  nane hn  eercord  hn andore  eheane   e e\n",
            "ee c  n an ad54e hnw, Dandeaneoar   oand    onderer  a  taree    hoereean e  tare tore he  eende  cn ande hare an as areee e cor ede  ohn haercsenene  e cn end  ta  n e   eene hee cerenee    te tn andare     an eeee coree e   aonee  torende ee aan   hhre eer  hn tee  tarene hnd ree e t n ande hareede tare    ee  ae  ean anderee  coreeonde eaon  hn  herde   ande    ande  e eoar e ent  een ere     e   ancor  an ahe e andesende tare he e  an t e   eree   hore hert  e  hhane  re eeharte on aene eneor e ene t  e    har  t e e terde e    hndererder  on  e  ane  nane hn thercand  hn andore  eheane   e e\n",
            "eerc  n an ad54e Dnw, Dandeaneoar   oand    onderer te  taree    hoereean e  tare tore he  eende  cn ande hare an ashareee e cor ede  ohn haercsenene  e cn end  ta  n e   eene hee cesenee n  te tn andare     an eeee coree e   aonee  corende ie aar   hhre eer  hn the  tarene hnd reese t n ande hareede tare   cee  ae  ean anaeree  coreeonde eaon  hn  herde   ander   ande  e eoar e ant  eeneereren  e   ancor  an ahe e andesende tare he e  an a e   eree   hore hert  e  hhare  re eehorte on aene eneor e enente ee   har  tee e cerde e    hndererder non te  ane  nane an ahercord  hn andore  eheane   e e\n",
            "eerc  n an ad54e Dnw, candeaneoar   aand    onderer te  taree    hoereehn e  tare tore he  eende  cn ande hare hn asharaee e cor ede  ohn haercsenene  e cn end  ta  n e   eene hee ce ente n  te tn andare     ir ee e coree e   aoneer corende  e aarn  hhre eer  hn the  rarane hnd cee e t n ande hereete tare   ceer ae  ean anaeree  careeonde eaon  hn  herde   ande    ande  e eoar e ant  eeneerertn  e   ancor  an ahe e andesende tare he e  an a e   e ee   hore hert  e  chare  re eehorte on aene eneor e enante e    har  tee t cerdere    hndererder  on te  ane  nane an thercord  hn andore  eheane   e e\n",
            "eerc  n an aR54e Dnw, tardeaneoar   aanee   onderer te  tareee   hoereehn e  tare tore he  eende  cn ande hare hn ahharaee e cor ade  ohn haercsenene  e cn end  ta  n e    ene hee cerente n  te hn andare     ir eeee coreere   aoneer corende    aarn  hhre eer  hn the  rarone hnd ceese t n ande hare te tare   ceer ae  ean tnaeree  coreeande ehon  an  herde   ander   ande  e ehartesant  eene rerin  e   ancor  an ahe a andeaende tare ho e  an a e   eree   core hert  e  chare ere eehorte on aere eneor e enante ee   har  tee e cerdere    and certer  on te  ane  oane an thercord  hn andore  eheane   e e\n",
            "earc  n on a954e Unw, tardeanecar   aanee   ondecer  e  tareee   hoereehnse  tare tore he  aende  cn ande hare hn ahharaee e cor ate eohn hhercsenene  e cn end  ta in e     ne ceercer neesn   e hn andore     ir eeee coreere   aoreer corende    aern  thre eer  hn the  rarone hnd ceede t n and  har  te hare   ceer ae  ean tnharee  coreeande ehon  an  herder  ander   ande  e ehartesant teane reri   e   a cor  an the a andeaende tare to e  an t e   ere    core hert  e  chare ere eehort  on aede eneor erenante ee   hor  t e e cerdere    and certer  an te  are  nane an thercord  hn andore  eheane   e e\n",
            "earc rn on a954e Unw, tardeanecart  aanee   ondecer  e  iareee   hoereehore  hare tore ha  aende  cn ande hare hn ahhariee e cor ate eohn toerc enene  e cn end  ta in e  a ene ceercer neern nterhn andore     ir eeee cordere   aoreer corende    aern  thre eer  hn the  rerone hnd ceede tan and  har  te hare   ceer ae tean tnhoree  coreeande ehon  ant herder  ander   ander e eharterant ceane reri   e   a cor  an the a andeaende hore tore  an t e   ere    core cert  e  ohare ere eehort  on aere en or erenante ee   hor  t e t cerdere    and certer  an te  are  nane an thercord  cn andore  eheane   ane\n",
            "earc rn on ad54e U4w, tarteanecerd  aanee   ond cer  e  iareee   hoereehore  hare tore hos aerde  cn ande hare hn ahharhen e cor ate  oon toerc enane  e cn end  ta in e  a ene chercer ntern nterhn andore     or eeee cordere   aoreer cosend     aenn  thre eer  hn the  rerone cnd celdertan and  har  te hare   ceer ae tean tnhoree  core ande ehon  ant herder  ander   ander e  harterant ceane reri   e   a cor  an the e anderende hore tore  an t er  ere    core cort  e  chare  re eecort  on aere en or erenanteree   hor  t e t cerdere    and certer  on te  ore  rane an thercord  cn andore  eheane   ane\n",
            "earc rn on ad54e U4S, tarteanecerd  aanee   ond cer re  harehe   hoereeaure  hare tore hos hedde  cn ande hare hn ahharhen e cos ate  oon toercsenane  e cn end  hasin e  aeene shercer neern nderhn andore     or eeee cordere   aoreer cosend  e  aenn  thne eer  on the  rerone tnd celdertan and  hor  te hare   cear ae tean tnhoree  core anderehon  ant herder  ander   ander e ehorterant cean  reri   e   a cod  an the o anderende hore tore  on t er  eree   core cort  e  ohare  re eecort  on aere en on erenantenee   hor  t ent terdere    and certer con te  ove  rane an thercord  cn andore  eheane  tane\n",
            "earc rn on a954. U.w, Martean nerd  aanee   and cer re  harehe   hoerdeaure  hare tore ho  herte  cn ande hare hn ahharh n e cos ate  oon thercsenane    cn end  ha in e   eene  he cer  eern n e hn andore      rteele cordere   aareer cosend     aenn  thne eer  on the  rerose tnd celd rtan and  har  te tare   cear ae tean tnhoree  core ander hon  ant hhrder  ende    ander e  horterant tean  reri   e   a cod  an the o hnderende hone tole  an t er  ere    core chrt  e  chare  re aecort  on aere en on erenante ee   hor  t e d terdere    and certer  on te  ove  rare an thercord  cn andore  eheane   ane\n",
            "earc rn on ah54. U.w. Marteaneoerdi aanee   ondeces rer harehe   hoerkeaule  hare tose ha ahedde  on ande hare hn ahharien e cos ate  oon thercsenane  e cn end  ho in e  aeene shercereneesn nde hn andoree t aorteeee cordere   aadher cosende e  aefn  thnereer  on then rerose tnd ceedertae and  har lte hare tecear ae teanltnhoree  core anderehon  ant horder eendes   andosle ehartenane tean  rerintee   a cod  an thero hnserenderhone tole  an t ert eree   hore chrt  e  ohade  re aehort  on aeresen onderenantenee   hor  teend terderee   and cerher oon te  ove  rare an thercord  af andore  ehhade  tane\n",
            "ea c rn os a954. U.w. Martean ferd  oanee   and ces rer  arehe   hherkeaule  hare tose ha  hette  cn and  aare hn ts aro n e cos ate  oun thercsenane    In end  ha  n e     ne  he c r  te   n e on andole      rteele cordere   aadher mosend     aenn  thne eer  on then rerose tnd celd  t n and  har  te  are   cear ae tean t toree  co   ander hon  an  hhrder  ende    andes e  har enant tean  re     e     Iow  an ther  hnshrende cane to e  an t er  ere    core chrt  e  chade  re aecort  on t ne an onde ena te      hor  t  nd shrdere    and ce ter mov te  ove  rare  n thercond  of tndore   hhade   e e\n",
            "easc rn os a954. U.S. Marthad oedd  oanee   andeces rer halehe   hherkeaule  hare tose ha ahedte  on ande aare hn ahharien e cos ate  oon thercsanane  a In end  ho tnle  aeene shercereneesn nde on andolee t aorteele cordere   aadher cosend  i  aefn  hhneseer  on then rerose tnd ceadestae and  har  te tarent cear ae teanlt horee  core onder hon  ant horder  ende  s ankesle  hartenane tean  rerintee   a cod  an thero hnshrenderhare tole  an t ert aree   core cort  e  ohade  re aehart  on teresan onderenante ee   hor  oaend torderee   and certer oov te  ove  rare an thercodd  of andove  ehhade  tene\n",
            "easc rn on a954. U.S. harthadeoedd  oanee   andehes rer halehe   hherkeaule  hare tose ha ahldde  os ande aare hn ahharien e cos ate  oon thercsananen a cn ene  ha tnle taeene thercereneean nde on andolee t aorteele cordere   aadher cosend  i  aefn  hhneseer  on then rerose tnd ceadestae and  har  te tarent cear ae teanltnhoree  core ander hon  ant horder  ande  s ankesle ehartenane tean  resintee   a cov  an there hnshrendercare tole  an t ert aree   core cort  e  chade  re aehart  of tedesaneorderenante ee   hor  oaend torderee   and corter oovlte  ove  rare in thercodd  of andove  ehhade  tene\n",
            "east rn os a954. U.S. harthad fedd  oanee   and hes rer  arehe   hherkeasle  hare tose ha ahltte  cs ande tare hn ts ari n e cos ete  oon thercsanane    In ene  ha tn e    ene thers re eeen nde on andele  t  orteele cordere   aadher sosend     aemn  thne eer  on then rerose tnd heare tin and  har  te tarent cear ae tean t soree  ca   ander han  ant hhrder  ende  s ankesle  har enane tean  reri t e   a Iow  an ther  anshrende care to e  an t ert are    core cort  e  chade  re aehart  of t resan orderenante  e   hor  ca ng torderee   and horter oovlte  ove  rare in thercand  of a dove   hhade  tene\n",
            "easc rn os a954. U.S. Marthad fedd  oanee   and hes rer ialtoe   hherkeasle  hare tose ho ahldte  os ande tare on tslari n e cos ete  oon thercsanane  e Intene  ha tnle  n ene shers re eeen nde on andelee t  orteele cordere   aadher mosend  i  aomn  tone eer  on thes rerose tnd helre tin and  har  te tarent cear ae teanlt saree  ca   ander han  ant hhrder  ende  s ankesle  har enane tean  reri tee   a Iow  an ther  anshrende care to e  an t ert aree   core cort  e  chade  re aehert  of t desan orperenante ee   hor  ca ng sorderee   and horter oovlte  ove  rare sn thercond  af a dove   hhadew tare\n",
            "easc rn os a954. U.S. Marthad oedde oanee   andehes rer ialtoe   hherkeasle  hare cove ho ahldte  os ande tare on ahharien e cos ete  oon the csanane  a Intene  ho tnde ta ene shercomeneeenende on andelee t  orteele cordere   aadher cosendesi  aomn  tone eer  on thet rerose tnd helrestin ande hor ate harent hear ae teanlt saree  co   onderehone ant hordert ende  s ankelle ehar enane teans rerintee  oa Iow  an thero hnshrendercare tole  on t ertlareer  core cort  e  hhade  re aehart  of a desaneonderenante eer  hor  oo ng sorgeree   and horter oovlte  ove  rare in thercond  af andove thhhadew tari\n",
            "easc rn os a954. U.S. Marthad oeddi oanee   and hes rer haltoe   hherkeasle  hare cove ho ihldte  os ande tare on ahharien e cos ete  oon the csanane  e Intene  ho tnde tn are shercomeneeen nde on andelee t  orteele cordere   aadher cosendesi  aofn  tone eer  on thet recose tnd helrestin ande tor ate oarent hear ae teanlt saree  co   onderehon  ant hordert ende  s ankelle  har enane teans rerintee   a Iow  an the o anshrendercare tole  on t ertlareer  sore chrt  e  hhade  me aehart  of a desaneonperenarte een  hor  ol ng sorgeree   and herter oovnte  ove  rare in therconr  af andove   hhadew tari\n",
            "easc rn os a954. U.S. Marthad oedd  oanee   and hes rer haltoe   sherkeasle  hare cose ho thltte  os ande tare on asharoen e cos ete  oon the csanane    Intene  ho tnle  n are  hersime eeen nde on andele  t  orteele mordere   aadher cosend  i  aefn  thne her  on thet recose tnd belre  in and  tor  te oarent cear ae teanlt saree  co   onder hon  ant hhrders ende  s ankelle  har enane tean  reri tee   a Iow  on the   ans rendercare to e  mn t er  are r  sore chnt  e  chade  me aehert  of a desan onperenarte  e   hor  o  ng sorgeren   and he ter covnte  ove  rare sn therconr  af a dove   shadew  a s\n",
            "east rn os a954. U.S. Marthad oedd  oanee   and hes rer haltoe   sherkeasle  hore come ho ahldter os ande tare of ahharoen e cos etel oon the csanene  e Intene  ho tnde tn are shercameneean nde on andelee t  orteele cordere   aadher cosendesi  aefn  tone her  on thet recose tnd bearestin ande tor ate oarent cear ae teanlt sarees co   onderehon  ant horgerslande As ankelae  hol enane tean  recintee   a Ioc  on the   anshrendercare tole  on t ertlareer  sore chnt  e  hhade  me aehert  of aedesan onperenante een  hor  oi ng sorgeren   and berher counter ove  rare sn therconr  af andove   shadew ta i\n",
            "easo rn os a954. U.S. Marthad oedd  oanee   and hes rer haltoe   hherkeaule  horencofe ho thldter os ande tare of ahharoef e cos etel oon the csacene  a Intene  ho tnde tntare shercamineean nde on andelen t  orteale cordere   aadher cosendesi  aafn  tonerher  on thet recose tnd beasestin ande tortate oarent hear ae teanlt sarees co   onderecone ant horgerslande As ankesae  hor ecane tean  recintae s a Ioc  on the   anshrendercare tole  mn t ertlareer  hore chnt  e  hhade  mesaehort  of aedesan onperenante een  hor  oueng sorgeren   and herhel counter ove  rare in therconr  af a dove   shadew tark\n",
            "easo rn os a954. U.S. Marthad fedd  fanee   ond hes rer paltne   hherk asle  horencove ho thltter os and  tare of ahharoef e cos etel oon the csimene  o In ane  ho tnde  n are  he sasi tean nde on andelen t  orteale mordere   aadher cosend, i  aamn  tone her  on thes recose tnd heases in and  tortate oarent ceac ae teanlt samkes mo   onder con  ant horgerslande As ankesae  hor ecane tean  recintae   a Ioc  on the   ans rende care tole  mn t er lareer  sore shnt  e  hhade  me hehort  of aedesan onperenerte ten  hor  os ng sorgeren   and horhel covnter ove  rade in thercanr  af a dove   shadew ta d\n",
            "easo rn os a954. U.S. Marthad fedd  fanee   ond hes rer paltoe   sherk aule  horencove ho thltter os and  tare of asheroef e tos etal oon the csimene  o In ane  ho tnde tatare  he sasi tean nde on a delee t  orteale mordere   aacher cosande i  aamn  tomerher  on thes recose tnd helres in and  tortate havent ceac ae tein t samkes mo   ondereoon  ant horgerslande As ankesae  hel ecane tean  recinta    a Ioc  on the   ans rende care tole  on t er tareer  hore sent  e  hhade  me hehert  of aedesa  orperenerte een  hor  fi ng sorgeree   and herhet counter ove  made in thercanre af a dove   shadew ta d\n",
            "easo dn os a954. U.S. Marthad oedd  oanee   ond hes rer ialtoe   hherk aule  horencove ho ihutter os and  tare of asheroef e tos etal fon the csicene  o Insane  ho tnde tatare the casi eeaninde on a delee t  orteale morderesh aacher cosende is aamn  tomerher  on thes recose tnd helres inland  torhate havent heac ae tein t damkes co   onderecone ant horgerslande As ankesae  her ecane teans recinta  sla Ioc  on thes  anshrendercare tole  on t er dareer  hore sent  e  hhade  meshehert  of aedecan onperenerte een  hor  fu ng sorgeren   and herhet counter ove  made in thercanre af a dove   shadew ta d\n",
            "easo dn os r954. U.S. Marthad fedd  fanee   ond hes rer paltoe   hhurk asle  horencove ho thutter os and  tore of asheroef e tos etal fon the csicenen o Insane  ho tnle tnsare thercisa teaninde on a delen t  urteale morderesh aacher cosande i  aamn  tomerher  on thes recose tnd helres inland  tortate havent bear ae tean t damkes co   ondericone ant horgerslande As ankesle  her ecane teans recintae sla Ioc  on thes  ans rende care tole  mn t er dareer  hore sent  e  shade  meshehert  of aedecan onperenerte een  hor  fy ng sorgeree   and herhel counter ove  made in thercanre af a dove   shadew ta d\n",
            "easo rn os r954. U.S. Marthal fedd  Ianee   ond hes rer paltoe   hhurk asle  horencove ho thutter os and  tore of asherl f e tos etal fon the csimene  y Insane  ho tnle  n are she cisa teaninde on a delee t  urteale morderes  aacher cosande i  aamn  tomerher  on thes recose tnd helres inland  tortate havent bear ae tean t samkes mo   onder oon  ant horgerslande As ankesle  herrecane teans recintae s a Iow  on the   ans rende care tale  mn t er dareer  hore sent  e  share  meshehert  of a desan oxperenerte isn  hor  fy ng sorgeree   and herhel counter ove  made in thercanre af a dove   shadew ta d\n",
            "easo dn os r954. U.S. Marthad fedd  aanee   ond hes rer paltne   hhurk aule  horencove ho ihutter osland  aore of asherl f e tospetal fon the cricene  y Insane  ho inde  nsare the cisa tee inde of a deren t  urtesle morderesh aacher cosande is aomn  tomerhere on thes remose tnd helres itland  horhate havent bear ae t an t homked mo   ondericone ant horgerslande As ankesae  hurtecane teans recintae sla Iow  on the   ans rende care tale  mn t ertdareer  hore sent  e  shade  meshehert  of aedecan onperenerte ien  hor  fu ng sorgeree   and herhal counter ove  mode in thercanse af a dove   shadew ta d\n",
            "easo dn is r954. U.S. Marthad fedd  aanee   ond hes rer paltne   hhuck aule  horencove to thutter osland  tore of asherl ffe tospetal for the cricene  y Insane  ho inve  nsare the cisa tee inde of a heree t  urtesle sorderesh aacher cosande is aomne tomerhere on thes remose tnd,helres itland, torhate havent beer ae t an t homkes ma   onder con  ant horgerslande As a kesle  hurrecane teacs recintae sla Iown on the   a s rende care tave  on t en dareer  hore sents e  shade  meshehert  of aedecan oxperenent then  hor efi ng sorgerie   and horhal counter ove  mode in the canse af a dove   shadew ta d\n",
            "easo dn os a954. U.S. Marthad fedd  aanee   ond hes rer paltne   hhuck aule  hore cove to thutter osland  tore of asherl ffe tospetal for the cricene  y Insane  ho inve  ngare the cisa tea inde of a heree t  urtesle sorderes  aacher cosande is aomne tomerher  on thes remose tnd,helres itland  tortate havent beer ae t in t somked ma   onder con  ant sorgerslande As a kesle  hurrecane teans recintle sla Iow  on the   a s rende cale tave  ln t en dareer  hore sengs e  shade  meshehert  of aedesan oxperenert thsn  hor ef  ng sorgerie   and horhal counter ove  mode in the canse af a dove   shadew ta d\n",
            "easo dn os a954. U.S. Marthad fedd  aanee   and,hes rer paltne   hhuck aule  horercove to thutter osland  aore of asherl ffe tospatal for the cricene  y Insane  ho inve  ngare the cisa tea inde of a heree t  urtesle sorderesh aacher cosande is aomn  tomerhere on thes remose tnd,helres itland  torhate haveng bear ae t in a homked ma   onder con  ant sorgerslande As a kesler hurtecane teacs recintle sla Iow  on the   a shrende cale tave  ln t en dareer  hore sentste  shade  meshehert  of aedecan oxperenent thsn  hor efy ng surgerie   and herhal counter ove  mode in the canse af a cove   shadew ta d\n",
            "easo dn os a954. U.S. Marthad feddy aaneer  and,hes rer paltne   hhuck aule  hore cove to thutter osland  tore of asherliffe tospatal for the crimenen y Insane  ho inver ngate tha cisa tea inde of a heree t  urtesle sorderesh aacher cosande is aoms  tomerhere on thes remose tnd,helres itland  torpate haveng bear ae t in a homked ma   onder con  ant sorgerslande As a kesler hurrecane teacs recintlensla Iow  on the   a shrende cale tave  on t en tarker  hore sengste  shade  meshehertl of aedecan ixperenentathen  hor efy ng surgerie   and herhal counter ove  mode in the canse af a cove   shadew ta d\n",
            "easo dn is a954. U.S. Marthad feddy aaneer  and,hes rer paltne   hhuck aule  hore cove to thutter osland  tore of asherl ffe tospatal for the crimenen y Insane  ho inves ngate tha cisa tea inde of a heree t  urtesle sorderes  aacher cosande is aoms  comerher  on thes remose tnd,helres itland  dorpate haveng bear ae t in a somked ma   onder con  ant sorverslande As a kesler hurrecane teans recintle sla Iow  on the   a strende cale tave  on t en tarker  hore sengste  shade  meshehertl of aedesan ixperenent thon  hor efy ng surgerie   and hushal counter ove  mode in the cause af a cove   shadew te d\n",
            "easo dn is a954. U.S. Marthad feddy aaneer  and,hes rer paltner  hhuck aule  hore coce ho thutter osland  tore of ashe liffe tospatal for the crimenen y Insane  ho inves ngate tha cisa tea inde of a heteelt  urtesle sorderesh aacher cosande is aoms  somerhere on thes remose tnd,belres itland  dorpate haveng bear ae t in a pomked mo l onder cou  ant sorverslande As a kesler hurrecane teans recintlensla Iown on the   a shrande cale tave  on t en dorker  hore singnte  shade  meshehertl of aedecan experenentation  hor efy ng surgerie   and heshal counter ove  mode in the cause af a cove   shadew te d\n",
            "easo dn is a954. U.S. Marthad feddy aanier  and,hes rer paltner  hhuck Aule  hore coce to thutter osland  tore of ashe liffe tospatal for the crimenen y Insane  ho inves igate tha cisa tea inde of a heteelt Murtesle sorderess aachel colande is aomse somewhere on thes remose tnd,belres itland, dorpata haveng bear ae t an a pomked co l onder cou  ant sorverslande As a kesler hurrecane teans recintle sla Iown on the   a shrande cane tave  on t en dorker  core singnter shades meshehentl of aedecan experenentathon  hor efyeng surgerie   and herhal counter ove  mode in the cause af a cove   shadew te d\n",
            "easo dn is a954. U.S. Marthad feddy aanien  and,hes rer paltner  hhuck Aule  hore coce to thutter osland  dore of ashe liffe tospatal for the crimenen y Insane  ho inves igate tha cisa tea inde of a hetee t Murtesle sorderes  aachel colande is aomse somewher  on thes remose tnd,belres itland  dorpata haveng bear ae t in a somked co   onder cou  a t sorvea lande As a kesler hurrecane teans recintle sla Iown on the   a s rande cale tave  on t en dorker  hore singnter shades meshehentl of aedecan experinertathon  hor efyeng surgerie   and hushal counter ove  mode in the cause af a cove   shadew te d\n",
            "easo dn is a954. U.S. Marthad feddy aanien  and,hes rer paltner  hhuck Aule  hore coce ho thutter osland  dore of ashewliffe tospatal for the cricenen y Insane  ho inves igate tha cisaltea inde of a heteent Murtesle sorderes  aaches colande is aomse somewhere on thes remone tnd,belren itland  dorpata haveng bear aept in a homked ce l onder cou  ant sorvernlande As a kesler hurrecane teans recintle sla Iown on the   a shrande cane tave  on t en darker  hore singnter shades meshehentl of aedecan experenertathon  hor efyeng surgerie   and berhal counter ove  mode in the cause af a cove   shadew te d\n",
            "easo dn is a954. U.S. Marthad feddy aanien  and,hes rer paltner  hhuck Aule  hore coce ho thutter osland  dore of ashewliffe tospatal for the cricenen y Intane  ho inves igate tha cisaltea inde of a heteent Mu tesle sorderess aaches colande is aomse somewhere on thes remone ond,belren island, dorpata haveng bear aept in t somked ce l onder cou  ant sorvernlande As a kesler hurrecane teans recintle sla Iown on the , a shrande cale tave  on t en darker  hore singnter shades meshehantl of aedecan experinertathon  hor efyeng surgerie   and beshal counter ove  mode in the cause Af a cove   shadew te d\n",
            "easo dn is a954. U.S. Marthal feddy aaniel  and,hes ner paltner  hhuck Aule  hore come ho thutter osland  dore of ashewliffe tospatal for the cricenen y Intane  ho inves igate tha cisa tea inde of a hetielt Mu tesle sarderess aachel Solande is aomse somewher  on thes remone ond,helren inland, derpate haveng bear kept in t somked ce   onder cou tant sorveanlande As a kesler hurrecane teans recintle sla down on the , a s rande cale tave  on t en darker  hore singster shades weshehantl of aedecan experinertathon  hor efyeng surgerie   and beshal counter ove  mode in the cause Af a cove   shadew te d\n",
            "easo dn is a954. U.S. Marthad feddy aaniel  and,hes ner paltner  hhuck Aule  hore come ho thutter osland  dore of ashewliffe tospatal for the crimenen y Intane  ho investigate the cisaltea inde of a hetient Mu tesle sarderess aachel Solande is aomse somewhere on thes remone ond,helren island  dorpata haveng bear kept in t socked cesl onder cou tant sorgernlande As a kesler hulrecane teans recontae sla down on the , a shrande cane tave  on i en darker  bore singster shades weshehantl of aedecan experenertation  hor efyeng surgerieve and beshal counter ove  mode in the cause Af a cove t shadew te d\n",
            "easo dn is a954. U.S. Marthad Teddy aaniel  and,hes new paltner  hhuck Aule  hore come to thutter osland  dore of rshewliffe tospatal for the crimanen y Intane  ho investigate tha cisa tea inde of a petielt Mu tesle sarderess aachel Solando is aomse sorewher  on thes rewone ond,helren island  dorpate haveng bear kept in t somked cesl onder cou tant sorveanlande As a kesler hurrecane teans recontle sly down on the , a shrande cale tave  on t en darker  bore singstir shades weshesantl of aedecal experinertation  hor efyeng surgeriev  and boshal counter ove  mode in the cause Af a cove t shadew te d\n",
            "easo dn is a954. U.S. Marthad Teddy aaniel  and,hes new paltner  hhuck Aule  hore come to thutter osland  dose of ashewliffe tospatal for the crimanen y Intane, ho investigate the cisaltea inde of a petient Mu tesle sarderess aachel Solando is aamse sorewhere on thes rewone ond,belren island  dorpata haveng bear kept in t socked cesl onder cou tant sorveanlande As a kesler hulrecane teans recontle sly down on the , a shrande cale taves on i en darker  bore singstir shades weshehantl of aedical experinertation  hor efyeng surgeriev  and boshal counter ove  mode in the cause Af a cove t shadew te d\n",
            "easo dn is a954. U.S. Marthad Teddy aaniel  and,hes new paltner  hhuck Aule  hore come to thutter osland  dose of ashewliffe tospatal for the crimenan y Intane, ho investigate the cisaltea inde of a petient Mu tesle sarderess Rachel Solando is aamse sorewhere on thes rewote ond,berren island  dorpata haveng bear kept in a socked cesl onder cou tant surveanlande As a kesler hurrecane tears recentle sla down on the , a shrande cale taves on i en darker  hore sinastir shades weshehantl of aedical experinertation  hor efyeng surgeriev  and beshal counter ove  mode in the cause Af a cove t shadew te d\n",
            "easo dn is a954. U.S. Marthal Teddy aaniel  and,hes new paltner  hhuck Aule  hore come to thutter osland  dose of ashewliffe tospatal for the crimanan y Intane, do investigate the cisa tea inde of a petient Mu tesle sarderess Rachel Solando is aamse sorewhere on thes rewote ond,berren island  dorpita haveng bear kept in a socked cesl onder cou tant surveanlande As a keller hurrecane tears remontle sly down on the , a shrande cale taves on i en darker  bore singstir shades wethehantl of aedical experinertation  hor efyeng surgeriev  and boshal counter ove  mode in thu cause Af a cove t shadew te d\n",
            "easo dn is a954. U.S. Marthal Teddy aaniel  and,hes new paltner  hhuck Aule  hore come to ihutter osland  home of ashewliffe tospatal for the crimanan y Intane, ho investigate the cisaltea inde of a petient Multesle sarderess Rachel Solando is aamse sorewhere on thes rewote ond,berren island  dorpita haveng bear kept in a socked cesl onder con tant surveanlande As a keller hurrecane tears recentlensla down on the , a shrande cale taves on i en darker  hore sinaster shades wethehantl of aedical experinertation  hor efyeng surgeriev  and beshal counter ove  mode in thu cause Af a cove t shadew pe d\n",
            "easo dn is a954. U.S. Marthal Teddy aaniel  and,hes new paltner  hhuck Aule  hore come to ihutter osland  dome of ashewliffe tospatal for the crimanan y Intane, do inves igate the cisaltea inde of a petient Multesle marderess Rachel Solando is tamse sorewhere on thes rewote ond berren island  dospita haveng bear kept in a socked cesl onder con tant survesnlande As a keller hurrecane tears rementle sly down on the , a shrande cale taves on i en darker  bore singster shades wethehentl of aedical experinertation  hor efyeng surgerie   and beshal counter ove  made in the cause Af a cove t shadew pe d\n",
            "easo an is a954. U.S. Marthal Teddy aaniel  and,hes new paltner  hhuck Aule  hore come to ihutter Island  dome of ashewliffe tospatal for the crimanan y Intane, do investigate the cisaltea inde of a petient Multesle marderess Rachel Solando is tamse sorewhere on thes rewote and berren island  dospita haveng bear kept in a socked cesl onder con tant survesnlande As a keller hurrecane tears rementlensly down on the , a shrande cale taves on iven darker  hore sinaster shades wethehentl of redical experenertation  horrefyeng surgeries  and beshal counter ove  mode in the cause Af a cove t shadew pe d\n",
            "easo an is a954. U.S. Marthal Teddy aaniel  and,hes new paltner  Chuck Aule  have come to ihutter osland  home of ashecliffe tospatal for the crimanan y Intane, do inves igate the cisaltea inde of a petient Multesle marderess Rachel Solando is tamse sorewhere on thes rewote and berren island  dospita haveng bear kept in a socked cesl onder con tant survesnlande As a keller hurrecane tears rementlensly down on the , a shrande cale taves on iven darker  core sinaster shades wethehentl of radical experenentation  horrefyeng surgeries  and beshal counter ove  mode in the cause Af a cove t shadew pa d\n",
            "easo an is a954. U.S. Marthal Teddy aaniel  and,hes new paltner  hhuck Aule  have come to Shutter Island  home of Ashecliffe tospatal for the crimanal y Intane, to inves igate the cisaltea inde of a petient Multisle murderess Rachel Solando is tamse sorewhere on thes rewote and berren island  dospite haveng bear kept in a socked cesl onder con tant surveanlande As a keller hurrecane tears rementlensly down on the , a shrange cale taves on even darker  hore sinaster shades wethehentl of aadical experenentation  horrefyeng surgerie   and beshal counter ove  mode in the cause of a cove t shadew pa k\n",
            "easo an is a954. U.S. Marthal Teddy aaniel  and,hes new paltner  Chuck Aule  have come to Shutter Island  home of ashecliffe tospatal for the crimanal y Insane, to investigate the cisaltea inde of a pitient Multisle murderess Rachel Solando is tomse sorewhere on thes rewote and berren island  dospita haveng bear kept in a socked cesl onder con tant survesnlande As a keller hurrecane tears rementlensly down on the , a shrance cale taves on even darker  core sinaster shades wethehentl of radical experenentation  horrefyeng surgeries  and beshal counter ove  mode in the cause of a cove t shadow pa k\n",
            "easi an is a954. U.S. Marthal Teddy Daniel  and,hes new paltner  Chuck Aule  have come to Shutter Island  home of Ashecliffe tospatal for the criminal y Intane, to inves igate the cisaltea inde of a petient Multisle murderess Rachel Solando is lomse sorewhere on thes rewote and berren island, dospite haveng bear kept in a socked cesl onder con tant surveanlande As a keller hurrecane tears rementlensly down on the , a shrange ca e taves on even darker  Core sinaster siades wethehent  of aadical experementation  horrefyeng surgeries  and beshal counter ove  made in the cause of a cove t shadow pa k\n",
            "easi an is a954. U.S. Marshal Teddy Daniel  and,hes new paltner, Chuck Aule  have come to Shutter osland  home of Ashecliffe tospatal for the crimanally Insane, to investigate the cisaltea inde of a pitient Multisle murderess Rachel Solando is lomse sorewhere on thes remote and berren island  dospita haveng bear kept in a socked cesl onder con tant survesnlance As a keller hurrecane tears rementlensly down on the , a shrange cale taves on even darker  core singster siades wethehentl of radical experinentation  horrefyeng surgeries  and beshal counter ove  made in the cause of a cove t shadow pa k\n",
            "easi an is a954. U.S. Marshal Teddy Daniel  and,hes new paltner, Chuck Aule  have come to Shutter Island  home of Ashecliffe tospatal for the criminal y Insane, to investigate the Cisaltea inde of a pitient Multisle murderess Rachel Solando is tomse sorewhere on thes remote and berren island  dospite haveng bear kept in a socked cesl onder con tant surveanlande As a keller hurrecane tears rementlensly down on the , a s rande ca e taves on even darker, Core sinaster siados wethehent  of aadical experementation  horrefyeng surgeries  and beshal counter ove  made in the cause of a covert shadow pa k\n",
            "easi an is a954. U.S. Marshal Teddy Daniel  and,hes new paltner, Chuck Aule  have come to Shutter Island  home of Ashecliffe tospital for the criminally Insane, to investigate the Cisaltea inde of a pirient Multisle murderess Rachel Solando is lomse sorewhere on thes remote and berren island, dospite haveng bear kept in a socked cesl onder con tant survesnlance As a keller hurrecane tears rementlensly down on the , a strange ca e taves on even darker, core sinaster siados wethehunt  of radical experementation  horrefyeng surgeries  and beshal counter ove  made in the cause of a covert shadow pa k\n",
            "eesi an is a954. U.S. Marshal Teddy Daniel  and,hes new paltner, Chuck Aule  have come to Shutter Island  home of Ashecliffe tospital for the criminally Insane, to investigate the Cisaltearinde of a pitient Multisle murderess Rachel Solando is lomse sorewhere on thes remote and berren island, despite haveng bear kept in a locked cesl onder con tant survesnlance As a keller hurrecane tears rementlemsly down on the , a s range ca e taves on even darker, core sinaster siados wethehunt  of radical experementation  horrefyeng surgeries  and reshal counter ove  made in the cause of a covert shadow pa k\n",
            "eesi an is a954. U.S. Marshal Teddy Daniel  and,hes new partner, Chuck Aule  have come to Shutter Island  home of Ashecliffe Hospital for the criminally Insane, to investigate the Cisalpearince of a pitient Multisle murderess Rachel Solando is tomse somewhere on thes remote and berren island, despite haveng bear kept in a locked cesl onder con tant survesnlance As a keller hurrecane tears rementlemsly down on the , a strange ca e taves on even darker, core sinaster siados wethehunt  of aadical experementation  horrefyeng surgeries  and reshal counter ove  made in the cause of a covert shadow pa k\n",
            "eeli ar is a954. U.S. Marshal Teddy Daniel  and,hes new partner, Chuck Aule  have come to Shutter Island  home of Ashecliffe Hospital for the criminally Insane, to investigate the disaltearance of a pitient Multisle murderess Rachel Solando is lomse somewhere on thes remote and berren island, dospite haveng bear kept in a locked cesl under con tant survesnlance As a keller hurrecane bears rementlemsly down on the , a strange ca e taves on even darker, core sinaster siados withehunts of radical experimentation  horrefying surgeries  and reshal counter ove  made in the cause of a covert shadow pa k\n",
            "eeli ar is a954. U.S. Marshal Teddy Daniel  and,hes new partner, Chuck Aule  have come to Shutter Island  home of Ashecliffe Hospital for the criminally Insane, to investigate the disalpearance of a pitient Multisle murderess Rachel Solando is lomse somewhere on thes remote and berren island, despite haveng bear kept in a locked cesl under con tant survesnlance As a keller hurrecane bears rementlemsly down on the , a strange ca e taves on even darker, sore sinaster siades withehents of aadical experimentation  horrefying surgeries  and reshal counter ove  made in the cause of a covert shadow pa k\n",
            "eeli ar is a954. U.S. Marshal Teddy Daniel  and,hes new partner, Chuck Aule, have come to Shutter Island, home of Ashecliffe Hospital for the criminally Insane, to investigate the disalpearance of a pitient Multisle murderess Rachel Solando is lomse somewhere on thes remote and berren island, despite haveng bear kept in a locked cell under con tant survesnlance As a keller hurrecane bears rementlemsly down on the , a strange ca e taves on even darker, sore sinaster siados withehunts of radical experimentation  horrefying surgeries  and leshal counter ove  made in the cause of a covert shadow wa k\n",
            "eeli ar is a954. U.S. Marshal Teddy Daniel  and,hes new partner, Chuck Aule, have come to Shutter Island, home of Ashecliffe Hospital for the criminally Insane, to investigate the disalpearance of a pitient Multisle murderess Rachel Solando is lomse somewhere on thes remote and berren island, despite haveng beer kept in a locked cesl under con tant survesnlance As a keller hurrecane bears rementlemsly down on the , a strange ca e taves on even darker, core sinaster siades withehunts of radical experimentation  horrefying surgeries  and leshal counter ove  made in the cause of a covert shadow wa k\n",
            "eeli ar is a954. U.S. Marshal Teddy Daniel  and hes new partner, Chuck Aule, have come to Shutter Island, home of Ashecliffe Hospital for the criminally Insane, to investigate the disalpearance of a patient Multisle murderess Rachel Solando is lomse somewhere on thes remote and berren island, despite haveng beer kept in a locked cell under con tant survesnlance.As a keller hurrecane bears rementlemsly down on the , a strange ca e taves on even darker, more sinaster siades withehunts of radical experimentation  horrefying surgeries  and leshal countermove  made in the cause of a covert shadow wa k\n",
            "eeli ar is 1954. U.S. Marshal Teddy Daniel  and hes new partner, Chuck Aule, have come to Shutter Island, home of Ashecliffe Hospital for the criminally Insane, to investigate the disalpearance of a patient Multisle murderess Rachel Solando is lomse somewhere on thes remote and berren island, despite haveng beer kept in a locked cell under con tant survesnlance.As a keller hurrecane bears rementlemsly down on the , a strange ca e taves on even darker, core sinaster siades withehunts of radical experimentation  horrifying surgeries  and leshal countermove  made in the cause of a covert shadow wa k\n",
            "eeli ar is 1954. U.S. Marshal Teddy Daniel  and,hes new partner, Chuck Aule, have come to Shutter Island, home of Ashecliffe Hospital for the criminally Insane, to investigate the disalpearance of a patient Multiple murderess Rachel Solando is lomse somewhere on thes remote and berren island, despite haveng beer kept in a locked cell under con tant survesnlance.As a keller hurrecane bears rementlemsly down on the , a strange ca e taves on even darker, more sinaster siades withehunts of radical experimentatione horrifying surgeries  and leshal countermove  made in the cause of a covert shadow wa k\n",
            "eeli ar is 1954. U.S. Marshal Teddy Daniel  and hes new partner, Chuck Aule, have come to Shutter Island, home of Ashecliffe Hospital for the criminally Insane, to investigate the disalpearance of a patient Multiple murderess Rachel Solando is lomse somewhere on thes remote and berren island, despite haveng beer kept in a locked cell under con tant survesnlance.As a keller hurrecane bears relentlemsly down on the , a strange ca e taves on even darker, more sinaster siades withehunts of radical experimentatione horrifying surgeries  and leshal countermoves made in the cause of a covert shadow wa k\n",
            "eeli ar is 1954. U.S. Marshal Teddy Daniel  and hes new partner, Chuck Aule, have come to Shutter Island, home of Ashecliffe Hospital for the criminally Insane, to investigate the disalpearance of a patient Multiple murderess Rachel Solando is lomse somewhere on thes remote and berren island, despite haveng beer kept in a locked cell under con tant survesnlance.As a keller hurrecane bears relentlemsly down on the , a strange ca e taves on even darker, more sinaster siades withehunts of radical experimentatione horrifying surgeries  and leshal countermoves made in the cause of a covert shadow wa k\n",
            "eeliear is 1954. U.S. Marshal Teddy Daniels and hes new partner, Chuck Aule, have come to Shutter Island, home of Ashecliffe Hospital for the driminally Insane, to investigate the disalpearance of a patient.Multiple murderess Rachel Solando is lomse somewhere on thes remote and berren island, despite haveng beer kept in a locked cell under con tant survesnlance.As a keller hurrecane baars relentlemsly down on the , a strange ca e taves on even darker, more sinaster siades withehants of radical experimentatione horrifying surgeries  and lethal countermoves made in the cause of a covert shadow wa k\n",
            "eeliear is 1954. U.S. Marshal Teddy Daniels and his new partner, Chuck Aule, have come to Shutter Island, home of Ashecliffe Hospital for the criminally Insane, to investigate the disalpearance of a patient.Multiple murderess Rachel Solando is lomse somewhere on thes remote and berren island, despite haveng beer kept in a locked cell under constant survesnlance.As a keller hurrecane baars relentlemsly down on the , a strange ca e taves on even darker, more sinaster siades withehants of radical experimentatione horrifying surgeries  and lethal countermoves made in the cause of a covert shadow wark\n"
          ]
        }
      ]
    },
    {
      "cell_type": "code",
      "source": [
        "predict_str"
      ],
      "metadata": {
        "colab": {
          "base_uri": "https://localhost:8080/",
          "height": 88
        },
        "outputId": "fc5111e2-de18-4345-c79e-3c17d25c6515",
        "id": "img9SMmuJdDk"
      },
      "execution_count": 35,
      "outputs": [
        {
          "output_type": "execute_result",
          "data": {
            "text/plain": [
              "'eeliear is 1954. U.S. Marshal Teddy Daniels and his new partner, Chuck Aule, have come to Shutter Island, home of Ashecliffe Hospital for the criminally Insane, to investigate the disalpearance of a patient.Multiple murderess Rachel Solando is lomse somewhere on thes remote and berren island, despite haveng beer kept in a locked cell under constant survesnlance.As a keller hurrecane baars relentlemsly down on the , a strange ca e taves on even darker, more sinaster siades withehants of radical experimentatione horrifying surgeries  and lethal countermoves made in the cause of a covert shadow wark'"
            ],
            "application/vnd.google.colaboratory.intrinsic+json": {
              "type": "string"
            }
          },
          "metadata": {},
          "execution_count": 35
        }
      ]
    },
    {
      "cell_type": "markdown",
      "source": [
        "#한글 sentences"
      ],
      "metadata": {
        "id": "Vnz30o96J-YD"
      }
    },
    {
      "cell_type": "markdown",
      "source": [
        "박경리, 작가와의 대화, 신동아 1981.5 에서 추출"
      ],
      "metadata": {
        "id": "yOlMbA2dKeNi"
      }
    },
    {
      "cell_type": "code",
      "source": [
        ""
      ],
      "metadata": {
        "id": "cliTnXteKGGC"
      },
      "execution_count": 35,
      "outputs": []
    },
    {
      "cell_type": "code",
      "source": [
        "#1. 생성할 문장 데이터\n",
        "\n",
        "sentence = (\"유교가 농민들에게도 흘러갔던 것입니다.\"\n",
        "            \"제사라든지, 의식 구조라든지, 조상 숭배라든지 이 모든 것이 농부들에게 흘러갔는데, 이것은 농부들에게 인간으로서의 존엄성을 인식시키게 되었습니다.\"\n",
        "            \"이러한 예의 범절은 우리 농민에게 미의식이 있었다는 얘기입니다.\")"
      ],
      "metadata": {
        "id": "f1S16WKuKGKc"
      },
      "execution_count": 36,
      "outputs": []
    },
    {
      "cell_type": "code",
      "source": [
        "#2. 문자 집합 만들기\n",
        "world_set = list(set(sentence))\n",
        "\n",
        "## 문제(1): 각 문자에 정수 인코딩 (공백도 하나의 원소로 포함)\n",
        "vocab = {c: i for i, c in enumerate(world_set)}"
      ],
      "metadata": {
        "id": "pKDVvQJkKGKc"
      },
      "execution_count": 37,
      "outputs": []
    },
    {
      "cell_type": "code",
      "source": [
        "print(vocab)"
      ],
      "metadata": {
        "colab": {
          "base_uri": "https://localhost:8080/"
        },
        "outputId": "0a96c175-08ca-4027-c628-cde94ad4d2b8",
        "id": "RKmPps5bKGKc"
      },
      "execution_count": 38,
      "outputs": [
        {
          "output_type": "stream",
          "name": "stdout",
          "text": [
            "{'상': 0, '게': 1, '입': 2, '것': 3, '식': 4, '을': 5, '한': 6, '얘': 7, '민': 8, '되': 9, '로': 10, '이': 11, '구': 12, '습': 13, '유': 14, '배': 15, '은': 16, '절': 17, '.': 18, '키': 19, '우': 20, '흘': 21, '부': 22, '존': 23, '기': 24, '데': 25, '에': 26, '라': 27, '가': 28, '는': 29, '었': 30, '의': 31, '던': 32, '러': 33, '농': 34, '예': 35, '제': 36, ' ': 37, '조': 38, '범': 39, '들': 40, '든': 41, '간': 42, '있': 43, '사': 44, '교': 45, '으': 46, '성': 47, '갔': 48, ',': 49, '엄': 50, '시': 51, '도': 52, '리': 53, '지': 54, '모': 55, '인': 56, '서': 57, '숭': 58, '다': 59, '미': 60, '니': 61}\n"
          ]
        }
      ]
    },
    {
      "cell_type": "code",
      "source": [
        "#3. 문자 집합 크기 확인\n",
        "\n",
        "vocab_size = len(vocab)\n",
        "print('문자 집합 크기 : {}'.format(vocab_size))"
      ],
      "metadata": {
        "colab": {
          "base_uri": "https://localhost:8080/"
        },
        "outputId": "0778d2d9-b8af-415e-8708-090d14318b34",
        "id": "1rLzoc1WKGKd"
      },
      "execution_count": 39,
      "outputs": [
        {
          "output_type": "stream",
          "name": "stdout",
          "text": [
            "문자 집합 크기 : 62\n"
          ]
        }
      ]
    },
    {
      "cell_type": "code",
      "source": [
        "#4. 하이퍼 파라미터 설정(자유롭게 수정해보세요!)\n",
        "\n",
        "hidden_size = vocab_size # 같아야 하는 것 확인!\n",
        "sequence_length = 10  # 너무 길거나 너무 짧게 잡으면 안됩니다!\n",
        "learning_rate = 0.01"
      ],
      "metadata": {
        "id": "r1gbaEx0KGKd"
      },
      "execution_count": 40,
      "outputs": []
    },
    {
      "cell_type": "code",
      "source": [
        "#5. seqence 길이 단위 자르기\n",
        "\n",
        "# 데이터 구성을 위한 리스트\n",
        "x_data = []\n",
        "y_data = []\n",
        "\n",
        "## 문제(2): 반복문 내에서의 인덱싱을 사용하여 sequence_length 값 단위로 샘플을 잘라 데이터 만들기, y_str은 x_str은 한 칸씩 쉬프트된 sequnce\n",
        "\n",
        "for i in range(0, len(sentence) - sequence_length):\n",
        "  x_str = sentence[i:i + sequence_length] \n",
        "  y_str = sentence[i + 1: i + sequence_length + 1]\n",
        "  print(i, x_str, \"->\", y_str)\n",
        "\n",
        "  # x_str과 y_str이 문자집합에 해당하는 인덱스를 각각 x_data, y_data에 append\n",
        "  x_data.append([vocab[c] for c in x_str])\n",
        "  y_data.append([vocab[d] for d in y_str])"
      ],
      "metadata": {
        "colab": {
          "base_uri": "https://localhost:8080/"
        },
        "outputId": "a0d767df-a9ca-43de-c707-e83fb1760280",
        "id": "-suvezfRKGKd"
      },
      "execution_count": 41,
      "outputs": [
        {
          "output_type": "stream",
          "name": "stdout",
          "text": [
            "0 유교가 농민들에게도 -> 교가 농민들에게도 \n",
            "1 교가 농민들에게도  -> 가 농민들에게도 흘\n",
            "2 가 농민들에게도 흘 ->  농민들에게도 흘러\n",
            "3  농민들에게도 흘러 -> 농민들에게도 흘러갔\n",
            "4 농민들에게도 흘러갔 -> 민들에게도 흘러갔던\n",
            "5 민들에게도 흘러갔던 -> 들에게도 흘러갔던 \n",
            "6 들에게도 흘러갔던  -> 에게도 흘러갔던 것\n",
            "7 에게도 흘러갔던 것 -> 게도 흘러갔던 것입\n",
            "8 게도 흘러갔던 것입 -> 도 흘러갔던 것입니\n",
            "9 도 흘러갔던 것입니 ->  흘러갔던 것입니다\n",
            "10  흘러갔던 것입니다 -> 흘러갔던 것입니다.\n",
            "11 흘러갔던 것입니다. -> 러갔던 것입니다.제\n",
            "12 러갔던 것입니다.제 -> 갔던 것입니다.제사\n",
            "13 갔던 것입니다.제사 -> 던 것입니다.제사라\n",
            "14 던 것입니다.제사라 ->  것입니다.제사라든\n",
            "15  것입니다.제사라든 -> 것입니다.제사라든지\n",
            "16 것입니다.제사라든지 -> 입니다.제사라든지,\n",
            "17 입니다.제사라든지, -> 니다.제사라든지, \n",
            "18 니다.제사라든지,  -> 다.제사라든지, 의\n",
            "19 다.제사라든지, 의 -> .제사라든지, 의식\n",
            "20 .제사라든지, 의식 -> 제사라든지, 의식 \n",
            "21 제사라든지, 의식  -> 사라든지, 의식 구\n",
            "22 사라든지, 의식 구 -> 라든지, 의식 구조\n",
            "23 라든지, 의식 구조 -> 든지, 의식 구조라\n",
            "24 든지, 의식 구조라 -> 지, 의식 구조라든\n",
            "25 지, 의식 구조라든 -> , 의식 구조라든지\n",
            "26 , 의식 구조라든지 ->  의식 구조라든지,\n",
            "27  의식 구조라든지, -> 의식 구조라든지, \n",
            "28 의식 구조라든지,  -> 식 구조라든지, 조\n",
            "29 식 구조라든지, 조 ->  구조라든지, 조상\n",
            "30  구조라든지, 조상 -> 구조라든지, 조상 \n",
            "31 구조라든지, 조상  -> 조라든지, 조상 숭\n",
            "32 조라든지, 조상 숭 -> 라든지, 조상 숭배\n",
            "33 라든지, 조상 숭배 -> 든지, 조상 숭배라\n",
            "34 든지, 조상 숭배라 -> 지, 조상 숭배라든\n",
            "35 지, 조상 숭배라든 -> , 조상 숭배라든지\n",
            "36 , 조상 숭배라든지 ->  조상 숭배라든지 \n",
            "37  조상 숭배라든지  -> 조상 숭배라든지 이\n",
            "38 조상 숭배라든지 이 -> 상 숭배라든지 이 \n",
            "39 상 숭배라든지 이  ->  숭배라든지 이 모\n",
            "40  숭배라든지 이 모 -> 숭배라든지 이 모든\n",
            "41 숭배라든지 이 모든 -> 배라든지 이 모든 \n",
            "42 배라든지 이 모든  -> 라든지 이 모든 것\n",
            "43 라든지 이 모든 것 -> 든지 이 모든 것이\n",
            "44 든지 이 모든 것이 -> 지 이 모든 것이 \n",
            "45 지 이 모든 것이  ->  이 모든 것이 농\n",
            "46  이 모든 것이 농 -> 이 모든 것이 농부\n",
            "47 이 모든 것이 농부 ->  모든 것이 농부들\n",
            "48  모든 것이 농부들 -> 모든 것이 농부들에\n",
            "49 모든 것이 농부들에 -> 든 것이 농부들에게\n",
            "50 든 것이 농부들에게 ->  것이 농부들에게 \n",
            "51  것이 농부들에게  -> 것이 농부들에게 흘\n",
            "52 것이 농부들에게 흘 -> 이 농부들에게 흘러\n",
            "53 이 농부들에게 흘러 ->  농부들에게 흘러갔\n",
            "54  농부들에게 흘러갔 -> 농부들에게 흘러갔는\n",
            "55 농부들에게 흘러갔는 -> 부들에게 흘러갔는데\n",
            "56 부들에게 흘러갔는데 -> 들에게 흘러갔는데,\n",
            "57 들에게 흘러갔는데, -> 에게 흘러갔는데, \n",
            "58 에게 흘러갔는데,  -> 게 흘러갔는데, 이\n",
            "59 게 흘러갔는데, 이 ->  흘러갔는데, 이것\n",
            "60  흘러갔는데, 이것 -> 흘러갔는데, 이것은\n",
            "61 흘러갔는데, 이것은 -> 러갔는데, 이것은 \n",
            "62 러갔는데, 이것은  -> 갔는데, 이것은 농\n",
            "63 갔는데, 이것은 농 -> 는데, 이것은 농부\n",
            "64 는데, 이것은 농부 -> 데, 이것은 농부들\n",
            "65 데, 이것은 농부들 -> , 이것은 농부들에\n",
            "66 , 이것은 농부들에 ->  이것은 농부들에게\n",
            "67  이것은 농부들에게 -> 이것은 농부들에게 \n",
            "68 이것은 농부들에게  -> 것은 농부들에게 인\n",
            "69 것은 농부들에게 인 -> 은 농부들에게 인간\n",
            "70 은 농부들에게 인간 ->  농부들에게 인간으\n",
            "71  농부들에게 인간으 -> 농부들에게 인간으로\n",
            "72 농부들에게 인간으로 -> 부들에게 인간으로서\n",
            "73 부들에게 인간으로서 -> 들에게 인간으로서의\n",
            "74 들에게 인간으로서의 -> 에게 인간으로서의 \n",
            "75 에게 인간으로서의  -> 게 인간으로서의 존\n",
            "76 게 인간으로서의 존 ->  인간으로서의 존엄\n",
            "77  인간으로서의 존엄 -> 인간으로서의 존엄성\n",
            "78 인간으로서의 존엄성 -> 간으로서의 존엄성을\n",
            "79 간으로서의 존엄성을 -> 으로서의 존엄성을 \n",
            "80 으로서의 존엄성을  -> 로서의 존엄성을 인\n",
            "81 로서의 존엄성을 인 -> 서의 존엄성을 인식\n",
            "82 서의 존엄성을 인식 -> 의 존엄성을 인식시\n",
            "83 의 존엄성을 인식시 ->  존엄성을 인식시키\n",
            "84  존엄성을 인식시키 -> 존엄성을 인식시키게\n",
            "85 존엄성을 인식시키게 -> 엄성을 인식시키게 \n",
            "86 엄성을 인식시키게  -> 성을 인식시키게 되\n",
            "87 성을 인식시키게 되 -> 을 인식시키게 되었\n",
            "88 을 인식시키게 되었 ->  인식시키게 되었습\n",
            "89  인식시키게 되었습 -> 인식시키게 되었습니\n",
            "90 인식시키게 되었습니 -> 식시키게 되었습니다\n",
            "91 식시키게 되었습니다 -> 시키게 되었습니다.\n",
            "92 시키게 되었습니다. -> 키게 되었습니다.이\n",
            "93 키게 되었습니다.이 -> 게 되었습니다.이러\n",
            "94 게 되었습니다.이러 ->  되었습니다.이러한\n",
            "95  되었습니다.이러한 -> 되었습니다.이러한 \n",
            "96 되었습니다.이러한  -> 었습니다.이러한 예\n",
            "97 었습니다.이러한 예 -> 습니다.이러한 예의\n",
            "98 습니다.이러한 예의 -> 니다.이러한 예의 \n",
            "99 니다.이러한 예의  -> 다.이러한 예의 범\n",
            "100 다.이러한 예의 범 -> .이러한 예의 범절\n",
            "101 .이러한 예의 범절 -> 이러한 예의 범절은\n",
            "102 이러한 예의 범절은 -> 러한 예의 범절은 \n",
            "103 러한 예의 범절은  -> 한 예의 범절은 우\n",
            "104 한 예의 범절은 우 ->  예의 범절은 우리\n",
            "105  예의 범절은 우리 -> 예의 범절은 우리 \n",
            "106 예의 범절은 우리  -> 의 범절은 우리 농\n",
            "107 의 범절은 우리 농 ->  범절은 우리 농민\n",
            "108  범절은 우리 농민 -> 범절은 우리 농민에\n",
            "109 범절은 우리 농민에 -> 절은 우리 농민에게\n",
            "110 절은 우리 농민에게 -> 은 우리 농민에게 \n",
            "111 은 우리 농민에게  ->  우리 농민에게 미\n",
            "112  우리 농민에게 미 -> 우리 농민에게 미의\n",
            "113 우리 농민에게 미의 -> 리 농민에게 미의식\n",
            "114 리 농민에게 미의식 ->  농민에게 미의식이\n",
            "115  농민에게 미의식이 -> 농민에게 미의식이 \n",
            "116 농민에게 미의식이  -> 민에게 미의식이 있\n",
            "117 민에게 미의식이 있 -> 에게 미의식이 있었\n",
            "118 에게 미의식이 있었 -> 게 미의식이 있었다\n",
            "119 게 미의식이 있었다 ->  미의식이 있었다는\n",
            "120  미의식이 있었다는 -> 미의식이 있었다는 \n",
            "121 미의식이 있었다는  -> 의식이 있었다는 얘\n",
            "122 의식이 있었다는 얘 -> 식이 있었다는 얘기\n",
            "123 식이 있었다는 얘기 -> 이 있었다는 얘기입\n",
            "124 이 있었다는 얘기입 ->  있었다는 얘기입니\n",
            "125  있었다는 얘기입니 -> 있었다는 얘기입니다\n",
            "126 있었다는 얘기입니다 -> 었다는 얘기입니다.\n"
          ]
        }
      ]
    },
    {
      "cell_type": "code",
      "source": [
        "# 출력해서 한 칸씩 쉬프트된 것 확인하기!\n",
        "\n",
        "print(x_data[0])\n",
        "print(y_data[0])"
      ],
      "metadata": {
        "colab": {
          "base_uri": "https://localhost:8080/"
        },
        "outputId": "0846d7e5-aafc-45b5-a407-bd4c0aa7067b",
        "id": "r7V0V616KGKd"
      },
      "execution_count": 42,
      "outputs": [
        {
          "output_type": "stream",
          "name": "stdout",
          "text": [
            "[14, 45, 28, 37, 34, 8, 40, 26, 1, 52]\n",
            "[45, 28, 37, 34, 8, 40, 26, 1, 52, 37]\n"
          ]
        }
      ]
    },
    {
      "cell_type": "code",
      "source": [
        "##6. 입력 시퀀스에 대해 원핫인코딩 수행\n",
        "\n",
        "## 문제(4) : x_data를 원핫인코딩 > numpy의 eye를 쓸 수 있지 않을까?\n",
        "x_one_hot = [np.eye(vocab_size)[x] for x in x_data]\n",
        "\n",
        "##7. 입력 데이터, 레이블데이터 텐서로 변환\n",
        "\n",
        "## 문제(5) : x_one_hot과 y_data 텐서로 변환 : 둘 다 같은 형식의 텐서로 변환하면 될까?? (FloatTensor, LongTesor 중 맞는 것은?)\n",
        "X = torch.FloatTensor(x_one_hot) \n",
        "Y = torch.LongTensor(y_data)"
      ],
      "metadata": {
        "id": "nEpt-Jn4KGKd"
      },
      "execution_count": 43,
      "outputs": []
    },
    {
      "cell_type": "code",
      "source": [
        "##8. 크기 확인\n",
        "print('훈련 데이터의 크기 : {}'.format(X.shape))\n",
        "print('레이블의 크기 : {}'.format(Y.shape))"
      ],
      "metadata": {
        "colab": {
          "base_uri": "https://localhost:8080/"
        },
        "outputId": "a12fc1d8-4c9d-4e8b-8a47-a6d7f4310c7d",
        "id": "6Wo_YD9hKGKe"
      },
      "execution_count": 44,
      "outputs": [
        {
          "output_type": "stream",
          "name": "stdout",
          "text": [
            "훈련 데이터의 크기 : torch.Size([127, 10, 62])\n",
            "레이블의 크기 : torch.Size([127, 10])\n"
          ]
        }
      ]
    },
    {
      "cell_type": "code",
      "source": [
        "##9.원핫인코딩 결과 샘플 확인하기\n",
        "print(X[0])"
      ],
      "metadata": {
        "colab": {
          "base_uri": "https://localhost:8080/"
        },
        "outputId": "497346ca-b20f-4574-9ff7-e1da3fdd2e69",
        "id": "WlpKzBLpKGKe"
      },
      "execution_count": 45,
      "outputs": [
        {
          "output_type": "stream",
          "name": "stdout",
          "text": [
            "tensor([[0., 0., 0., 0., 0., 0., 0., 0., 0., 0., 0., 0., 0., 0., 1., 0., 0., 0.,\n",
            "         0., 0., 0., 0., 0., 0., 0., 0., 0., 0., 0., 0., 0., 0., 0., 0., 0., 0.,\n",
            "         0., 0., 0., 0., 0., 0., 0., 0., 0., 0., 0., 0., 0., 0., 0., 0., 0., 0.,\n",
            "         0., 0., 0., 0., 0., 0., 0., 0.],\n",
            "        [0., 0., 0., 0., 0., 0., 0., 0., 0., 0., 0., 0., 0., 0., 0., 0., 0., 0.,\n",
            "         0., 0., 0., 0., 0., 0., 0., 0., 0., 0., 0., 0., 0., 0., 0., 0., 0., 0.,\n",
            "         0., 0., 0., 0., 0., 0., 0., 0., 0., 1., 0., 0., 0., 0., 0., 0., 0., 0.,\n",
            "         0., 0., 0., 0., 0., 0., 0., 0.],\n",
            "        [0., 0., 0., 0., 0., 0., 0., 0., 0., 0., 0., 0., 0., 0., 0., 0., 0., 0.,\n",
            "         0., 0., 0., 0., 0., 0., 0., 0., 0., 0., 1., 0., 0., 0., 0., 0., 0., 0.,\n",
            "         0., 0., 0., 0., 0., 0., 0., 0., 0., 0., 0., 0., 0., 0., 0., 0., 0., 0.,\n",
            "         0., 0., 0., 0., 0., 0., 0., 0.],\n",
            "        [0., 0., 0., 0., 0., 0., 0., 0., 0., 0., 0., 0., 0., 0., 0., 0., 0., 0.,\n",
            "         0., 0., 0., 0., 0., 0., 0., 0., 0., 0., 0., 0., 0., 0., 0., 0., 0., 0.,\n",
            "         0., 1., 0., 0., 0., 0., 0., 0., 0., 0., 0., 0., 0., 0., 0., 0., 0., 0.,\n",
            "         0., 0., 0., 0., 0., 0., 0., 0.],\n",
            "        [0., 0., 0., 0., 0., 0., 0., 0., 0., 0., 0., 0., 0., 0., 0., 0., 0., 0.,\n",
            "         0., 0., 0., 0., 0., 0., 0., 0., 0., 0., 0., 0., 0., 0., 0., 0., 1., 0.,\n",
            "         0., 0., 0., 0., 0., 0., 0., 0., 0., 0., 0., 0., 0., 0., 0., 0., 0., 0.,\n",
            "         0., 0., 0., 0., 0., 0., 0., 0.],\n",
            "        [0., 0., 0., 0., 0., 0., 0., 0., 1., 0., 0., 0., 0., 0., 0., 0., 0., 0.,\n",
            "         0., 0., 0., 0., 0., 0., 0., 0., 0., 0., 0., 0., 0., 0., 0., 0., 0., 0.,\n",
            "         0., 0., 0., 0., 0., 0., 0., 0., 0., 0., 0., 0., 0., 0., 0., 0., 0., 0.,\n",
            "         0., 0., 0., 0., 0., 0., 0., 0.],\n",
            "        [0., 0., 0., 0., 0., 0., 0., 0., 0., 0., 0., 0., 0., 0., 0., 0., 0., 0.,\n",
            "         0., 0., 0., 0., 0., 0., 0., 0., 0., 0., 0., 0., 0., 0., 0., 0., 0., 0.,\n",
            "         0., 0., 0., 0., 1., 0., 0., 0., 0., 0., 0., 0., 0., 0., 0., 0., 0., 0.,\n",
            "         0., 0., 0., 0., 0., 0., 0., 0.],\n",
            "        [0., 0., 0., 0., 0., 0., 0., 0., 0., 0., 0., 0., 0., 0., 0., 0., 0., 0.,\n",
            "         0., 0., 0., 0., 0., 0., 0., 0., 1., 0., 0., 0., 0., 0., 0., 0., 0., 0.,\n",
            "         0., 0., 0., 0., 0., 0., 0., 0., 0., 0., 0., 0., 0., 0., 0., 0., 0., 0.,\n",
            "         0., 0., 0., 0., 0., 0., 0., 0.],\n",
            "        [0., 1., 0., 0., 0., 0., 0., 0., 0., 0., 0., 0., 0., 0., 0., 0., 0., 0.,\n",
            "         0., 0., 0., 0., 0., 0., 0., 0., 0., 0., 0., 0., 0., 0., 0., 0., 0., 0.,\n",
            "         0., 0., 0., 0., 0., 0., 0., 0., 0., 0., 0., 0., 0., 0., 0., 0., 0., 0.,\n",
            "         0., 0., 0., 0., 0., 0., 0., 0.],\n",
            "        [0., 0., 0., 0., 0., 0., 0., 0., 0., 0., 0., 0., 0., 0., 0., 0., 0., 0.,\n",
            "         0., 0., 0., 0., 0., 0., 0., 0., 0., 0., 0., 0., 0., 0., 0., 0., 0., 0.,\n",
            "         0., 0., 0., 0., 0., 0., 0., 0., 0., 0., 0., 0., 0., 0., 0., 0., 1., 0.,\n",
            "         0., 0., 0., 0., 0., 0., 0., 0.]])\n"
          ]
        }
      ]
    },
    {
      "cell_type": "code",
      "source": [
        "##10. 레이블 데이터 샘플 확인하기\n",
        "print(Y[0])"
      ],
      "metadata": {
        "colab": {
          "base_uri": "https://localhost:8080/"
        },
        "outputId": "6284e1b7-fdab-4b06-9b54-603d782ef18a",
        "id": "RneagWB8KGKe"
      },
      "execution_count": 46,
      "outputs": [
        {
          "output_type": "stream",
          "name": "stdout",
          "text": [
            "tensor([45, 28, 37, 34,  8, 40, 26,  1, 52, 37])\n"
          ]
        }
      ]
    },
    {
      "cell_type": "code",
      "source": [
        "##11. RNN 모델 구현\n",
        "\n",
        "##문제(6) : 기본 pytorch 인자 넣기 연습 + forward 채우기\n",
        "### 조건 : rnn layer 2개 쌓기 + 마지막은 fc layer\n",
        "### batch_fisrt 설정 필요할까? (유튜브 강의 참고)\n",
        "\n",
        "class Net(torch.nn.Module):\n",
        "  def __init__(self, input_dim, hidden_dim, layers):\n",
        "    super(Net, self).__init__()\n",
        "    self.rnn = torch.nn.RNN(input_dim, hidden_dim, num_layers=layers, batch_first=True)\n",
        "    self.fc = torch.nn.Linear(hidden_dim, hidden_dim, bias=True)\n",
        "  \n",
        "  def forward(self, x):\n",
        "    x, _status = self.rnn(x)\n",
        "    x = self.fc(x)\n",
        "    return x"
      ],
      "metadata": {
        "id": "3Q9UT60kKGKe"
      },
      "execution_count": 47,
      "outputs": []
    },
    {
      "cell_type": "code",
      "source": [
        "net = Net(vocab_size, hidden_size, 2)"
      ],
      "metadata": {
        "id": "1uDIKU3CKGKf"
      },
      "execution_count": 48,
      "outputs": []
    },
    {
      "cell_type": "code",
      "source": [
        "##12. loss function\n",
        "criterion = torch.nn.CrossEntropyLoss()\n",
        "\n",
        "##13. optimizer\n",
        "optimizer = optim.Adam(net.parameters(), learning_rate)"
      ],
      "metadata": {
        "id": "QpzGUj-hKGKf"
      },
      "execution_count": 49,
      "outputs": []
    },
    {
      "cell_type": "code",
      "source": [
        "##14. 출력 크기 점검\n",
        "outputs = net(X)\n",
        "print(outputs.shape)"
      ],
      "metadata": {
        "colab": {
          "base_uri": "https://localhost:8080/"
        },
        "outputId": "eabc2ee6-fb6f-4a1b-d22f-82aec8ba7474",
        "id": "EGHYxq4zKGKf"
      },
      "execution_count": 50,
      "outputs": [
        {
          "output_type": "stream",
          "name": "stdout",
          "text": [
            "torch.Size([127, 10, 62])\n"
          ]
        }
      ]
    },
    {
      "cell_type": "code",
      "source": [
        "##15. Training 시작\n",
        "\n",
        "for i in range(100):\n",
        "    optimizer.zero_grad()\n",
        "    outputs = net(X)\n",
        "    ##문제(7) : outputs, Y 형태 그대로 넣으면 안되죠. view 함수를 이용해 loss값을 계산해봅시다.\n",
        "    loss = criterion(outputs.view(-1, vocab_size), Y.view(-1))\n",
        "    loss.backward()\n",
        "    optimizer.step()\n",
        "\n",
        "    #16. 예측결과 확인\n",
        "    results = outputs.argmax(dim=2)\n",
        "    predict_str = \"\"\n",
        "    for j, result in enumerate(results):\n",
        "        if j == 0: # 처음에는 예측 결과를 전부 가져오기\n",
        "            predict_str += ''.join([world_set[t] for t in result])\n",
        "        else: # 그 다음에는 마지막 글자만 반복 추가\n",
        "            predict_str += world_set[result[-1]]\n",
        "\n",
        "    print(predict_str)"
      ],
      "metadata": {
        "colab": {
          "base_uri": "https://localhost:8080/"
        },
        "outputId": "d1eda2f8-4633-4ce5-eedc-4549ee05875d",
        "id": "1luwBNNIKGKf"
      },
      "execution_count": 51,
      "outputs": [
        {
          "output_type": "stream",
          "name": "stdout",
          "text": [
            "민민 게게  , ,게,,게 , , ,,, 게게 민  ,게, ,간 민 ,,게 ,지민 게 ,게,  ,,게  , 게,,게  민 , 게게민  , 게 ,,,, 게민,, 게 ,민,민게 , 게,,  민 , 게 ,게,,게게게 , 게,,민민,,,,지게 , 게,\n",
            "                                                                                                                                        \n",
            "                                                                                                                                        \n",
            "                                                                                                                                        \n",
            "                                                                                                                                        \n",
            "                                                                                                                                        \n",
            "                                                                                                                                        \n",
            "      든      게 것       든      게  든      게  든          이  든  이  게             이  든           든  이  게  든                게    이    이       \n",
            "   이  든      게         든      게  든      이  든       것     든  에  든 것    든   에  에  든   농  든    든   게 이  든      이      이  든 들  든    게       \n",
            "   이  든게  이부라든        라든지  농  든  든지  농  이 라든지      것     에게  러라든   농  든농  에게 에게라든   이사 든 농 은든   게 에         에 은 농  이  든 것  든 것  든    게  \n",
            "   농부 에게  흘간라든   은든   라든지  농  이사라든지  농식 이사라든지   라든 에  에  에게 에러라든 , 농  든농부 에게 에러라든지  이사들든 농 라든지 에었라에  에 라    에사은 농부 이부라든 라  든 인  는    이  \n",
            "   농부 든게  의상라든 것  든   라든지   식 이사라든지   식 이사라든지   라든 에  농 라에게 농러라든 , 농   농부 에게 농러라든지  농엄은든 농 라든지 농었라든  에 라든   이식은 농부 이부라든 미었 에 은  는    이  \n",
            "   농부라든   흘교갔든 농 은  이 라든지,  식 이러라든지   식 이러라든지   라든 농  농 라에게 농러시는 , 농식은 농부 에게 농었시로지  농엄은든 농 라든지 농었으로 .이 라든 의 농식은 농부 농부라든 미었 에 있  는    이  \n",
            " 게 농부라든   흘간갔게 것 이 . 게라든지, 농식 게조라든지, 농식 농배라든지   라든 농  농 들에게 농었갔는 , 농식은 농부 에게 농었으로게의 존엄은든 인식시키게 미었으로 .에러라든 의 이식은 농엄 농부라든 미었 에 있었 는    농  \n",
            " 게 농부들든게  흘러갔게 것 이 . 게라든지, 농식 게조라든지, 농식 농배라든지   라  것  농  에게 농었갔는 , 이 , 농부 에게 농었으로게의 존엄은든 인식시키게 되었으니 .에게라  의 농식은 농식 농부들게 미었 에 있었 는 .라 농  \n",
            " 지 농부들든게  흘러갔던 것 니 .제사라든지, 농식 존조라든지, 농상 존배라든지   라  것  농부들에게 흘러갔는 , 농 , 농부들에게 농었으로서의 존엄은는 인었시키게 되었습니 .에러라 농의 존식은 농리 농부들게 미었 에 미었 는 .제 농 .\n",
            " 지 농부들든게  흘러갔던 것 니 .제사라든지, 농식 존조라든지, 농상 존배라든지 이 라든 ,  농부들에게 흘러갔는 , 농 , 농부들에게 농러으로서의 존엄갔는 인식시키게 되었습니 .이러라 농의 존절은 농리 농부들게 미었식에 미었갔는 농었 니 .\n",
            " 지 농부들든게  흘러갔던 것 니 .제사라든지, 의식 게조라든지, 조상 존배라든지 이 모든 ,  농부들에게 흘러갔는데, 농식, 농부들에게 농러으로서의 존엄성는 인식시키게 흘었습니 .이러라 농의 이절은 농리 농부들게 미의 에 있었 는 얘었 니 .\n",
            " 지 농부들든게  흘러갔던 것 니다.제사라든지, 의식 구조라든지, 조상 숭배라든지 이 모든 것  농부들에게 흘러갔는데, 이부은 농부들에게 흘러으로서의 존엄성을 인식시키게 흘었습니다.제러라 농의 존절은 우리 농부들게 미의 에 있었 는 얘제입니다.\n",
            " 지 농부들에게  흘러갔는 것 니다.제사라든지, 의식 구조라든지, 조상 숭배라든지,이 모든 것  농부들에게 흘러갔는데, 이부은 농부들에게 흘러으로서의 존엄성을 인식시키게 흘었습니다.제러갔 예의 존절은 우리 농부들게 미의 이 있었 는 얘었입니다.\n",
            " 지 농부들에게  흘러갔는 것 니다.제사라든지, 의식 구조라든지, 조상 숭배라든지,이 모  것이 농부들에게 흘러갔는데, 이지은 농부들에게 농러으로서의 존엄성을 인식시키게 흘었습니다.제러한 예의 이절은 우리 농부에게 인의식이 있었 는 얘기입니다.\n",
            "러있 농부들에게  흘러갔는 것입니다.제사라든지, 의식 구조라든지, 조상 숭배라든지 이 모든 것이 농부들에게 흘러갔는데, 이지은 농부들에게 흘러으로서의 존엄성을 인식시키게 흘었습니다.제러한 예의 범절은 우리 농부에게 인의식이 있었 는 얘기입니다.\n",
            "러있 농부들에게도 흘러갔는 것입니다.제사라든지, 의식 구조라든지, 조상 숭배라든지 이 모든 것이 농부들에게 흘러갔는데, 이지은 농부들에게 흘러으로서의 존엄성을 인식시키게 흘었습니다.이러한 예의 범절은 우리 농민에게 미의식이 있었다는 얘기입니다.\n",
            "간있 농부들에게도 흘러갔는 것입니다.제사라든지, 의식 구조라든지, 조상 숭배라든지 이 모든 것이 농부들에게 흘러갔는데, 이것은 농부들에게 흘러으로서의 존엄성을 인식시키게 되었습니다.이러한 예의 범절은 우리 농민에게 미의식이 있었다는 얘기입니다.\n",
            "간으 농부들에게도 흘러갔는 것입니다.제사라든지, 의식 구조라든지, 조상 숭배라든지 이 모든 것이 농부들에게 흘러갔는데, 이것은 농부들에게 흘러으로서의 존엄성을 인식시키게 되었습니다.이러한 예의 범절은 우리 농민에게 미의식이 있었다는 얘기입니다.\n",
            "간으 농민들에게도 흘러갔는 것입니다.제사라든지, 의식 구조라든지, 조상 숭배라든지 이 모든 것이 농부들에게 인러갔는데, 이것은 농부들에게 인간으로서의 존엄성을 인식시키게 되었습니다.이러한 예의 범절은 우리 농민에게 미의식이 있었다는 얘기입니다.\n",
            "간으 농민들에게도 흘러갔는 것입니다.제사라든지, 의식 구조라든지, 조상 숭배라든지 이 모든 것이 농부들에게 인러갔는데, 이것은 농부들에게 인간으로서의 존엄성을 인식시키게 되었습니다.이러한 예의 범절은 우리 농민에게 미의식이 있었다는 얘기입니다.\n",
            "간으 농민들에게도 흘러갔던 것입니다.제사라든지, 의식 구조라든지, 조상 숭배라든지 이 모든 것이 농부들에게 인러갔는데, 이것은 농부들에게 인간으로서의 존엄성을 인식시키게 되었습니다.이러한 예의 범절은 우리 농민에게 미의식이 있었다는 얘기입니다.\n",
            "간으 농민들에게도 흘러갔던 것입니다.제사라든지, 의식 구조라든지, 조상 숭배라든지 이 모든 것이 농부들에게 인러갔는데, 이것은 농부들에게 인간으로서의 존엄성을 인식시키게 되었습니다.이러한 예의 범절은 우리 농민에게 미의식이 있었다는 얘기입니다.\n",
            "간으 농민들에게도 흘러갔던 것입니다.제사라든지, 의식 구조라든지, 조상 숭배라든지 이 모든 것이 농부들에게 흘러갔는데, 이것은 농부들에게 인간으로서의 존엄성을 인식시키게 되었습니다.이러한 예의 범절은 우리 농민에게 미의식이 있었다는 얘기입니다.\n",
            "간으 농민들에게도 흘러갔던 것입니다.제사라든지, 의식 구조라든지, 조상 숭배라든지 이 모든 것이 농부들에게 흘러갔는데, 이것은 농부들에게 인간으로서의 존엄성을 인식시키게 되었습니다.이러한 예의 범절은 우리 농민에게 미의식이 있었다는 얘기입니다.\n",
            "간으 농민들에게도 흘러갔던 것입니다.제사라든지, 의식 구조라든지, 조상 숭배라든지 이 모든 것이 농부들에게 흘러갔는데, 이것은 농부들에게 인간으로서의 존엄성을 인식시키게 되었습니다.이러한 예의 범절은 우리 농민에게 미의식이 있었다는 얘기입니다.\n",
            "간으 농민들에게도 흘러갔던 것입니다.제사라든지, 의식 구조라든지, 조상 숭배라든지 이 모든 것이 농부들에게 인러갔는데, 이것은 농부들에게 인간으로서의 존엄성을 인식시키게 되었습니다.이러한 예의 범절은 우리 농민에게 미의식이 있었다는 얘기입니다.\n",
            "간으 농민들에게도 흘러갔던 것입니다.제사라든지, 의식 구조라든지, 조상 숭배라든지 이 모든 것이 농부들에게 인러갔는데, 이것은 농부들에게 인간으로서의 존엄성을 인식시키게 되었습니다.이러한 예의 범절은 우리 농민에게 미의식이 있었다는 얘기입니다.\n",
            "간가 농민들에게도 흘러갔던 것입니다.제사라든지, 의식 구조라든지, 조상 숭배라든지 이 모든 것이 농부들에게 인러갔는데, 이것은 농부들에게 인간으로서의 존엄성을 인식시키게 되었습니다.이러한 예의 범절은 우리 농민에게 미의식이 있었다는 얘기입니다.\n",
            "간가 농민들에게도 흘러갔던 것입니다.제사라든지, 의식 구조라든지, 조상 숭배라든지 이 모든 것이 농부들에게 흘러갔는데, 이것은 농부들에게 인간으로서의 존엄성을 인식시키게 되었습니다.이러한 예의 범절은 우리 농민에게 미의식이 있었다는 얘기입니다.\n",
            "간가 농민들에게도 흘러갔던 것입니다.제사라든지, 의식 구조라든지, 조상 숭배라든지 이 모든 것이 농부들에게 흘러갔는데, 이것은 농부들에게 인간으로서의 존엄성을 인식시키게 되었습니다.이러한 예의 범절은 우리 농민에게 미의식이 있었다는 얘기입니다.\n",
            "간가 농민들에게도 흘러갔던 것입니다.제사라든지, 의식 구조라든지, 조상 숭배라든지 이 모든 것이 농부들에게 흘러갔는데, 이것은 농부들에게 인간으로서의 존엄성을 인식시키게 되었습니다.이러한 예의 범절은 우리 농민에게 미의식이 있었다는 얘기입니다.\n",
            "간가 농민들에게도 흘러갔던 것입니다.제사라든지, 의식 구조라든지, 조상 숭배라든지 이 모든 것이 농부들에게 흘러갔는데, 이것은 농부들에게 인간으로서의 존엄성을 인식시키게 되었습니다.이러한 예의 범절은 우리 농민에게 미의식이 있었다는 얘기입니다.\n",
            "간가 농민들에게도 흘러갔던 것입니다.제사라든지, 의식 구조라든지, 조상 숭배라든지 이 모든 것이 농부들에게 인러갔는데, 이것은 농부들에게 인간으로서의 존엄성을 인식시키게 되었습니다.이러한 예의 범절은 우리 농민에게 미의식이 있었다는 얘기입니다.\n",
            "간가 농민들에게도 흘러갔던 것입니다.제사라든지, 의식 구조라든지, 조상 숭배라든지 이 모든 것이 농부들에게 흘러갔는데, 이것은 농부들에게 인간으로서의 존엄성을 인식시키게 되었습니다.이러한 예의 범절은 우리 농민에게 미의식이 있었다는 얘기입니다.\n",
            "간가 농민들에게도 흘러갔던 것입니다.제사라든지, 의식 구조라든지, 조상 숭배라든지 이 모든 것이 농부들에게 흘러갔는데, 이것은 농부들에게 인간으로서의 존엄성을 인식시키게 되었습니다.이러한 예의 범절은 우리 농민에게 미의식이 있었다는 얘기입니다.\n",
            "간가 농민들에게도 흘러갔던 것입니다.제사라든지, 의식 구조라든지, 조상 숭배라든지 이 모든 것이 농부들에게 흘러갔는데, 이것은 농부들에게 인간으로서의 존엄성을 인식시키게 되었습니다.이러한 예의 범절은 우리 농민에게 미의식이 있었다는 얘기입니다.\n",
            "으가 농민들에게도 흘러갔던 것입니다.제사라든지, 의식 구조라든지, 조상 숭배라든지 이 모든 것이 농부들에게 흘러갔는데, 이것은 농부들에게 인간으로서의 존엄성을 인식시키게 되었습니다.이러한 예의 범절은 우리 농민에게 미의식이 있었다는 얘기입니다.\n",
            "으가 농민들에게도 흘러갔던 것입니다.제사라든지, 의식 구조라든지, 조상 숭배라든지 이 모든 것이 농부들에게 흘러갔는데, 이것은 농부들에게 인간으로서의 존엄성을 인식시키게 되었습니다.이러한 예의 범절은 우리 농민에게 미의식이 있었다는 얘기입니다.\n",
            "으가 농민들에게도 흘러갔던 것입니다.제사라든지, 의식 구조라든지, 조상 숭배라든지 이 모든 것이 농부들에게 흘러갔는데, 이것은 농부들에게 인간으로서의 존엄성을 인식시키게 되었습니다.이러한 예의 범절은 우리 농민에게 미의식이 있었다는 얘기입니다.\n",
            "으가 농민들에게도 흘러갔던 것입니다.제사라든지, 의식 구조라든지, 조상 숭배라든지 이 모든 것이 농부들에게 흘러갔는데, 이것은 농부들에게 인간으로서의 존엄성을 인식시키게 되었습니다.이러한 예의 범절은 우리 농민에게 미의식이 있었다는 얘기입니다.\n",
            "교가 농민들에게도 흘러갔던 것입니다.제사라든지, 의식 구조라든지, 조상 숭배라든지 이 모든 것이 농부들에게 흘러갔는데, 이것은 농부들에게 인간으로서의 존엄성을 인식시키게 되었습니다.이러한 예의 범절은 우리 농민에게 미의식이 있었다는 얘기입니다.\n",
            "교가 농민들에게도 흘러갔던 것입니다.제사라든지, 의식 구조라든지, 조상 숭배라든지 이 모든 것이 농부들에게 흘러갔는데, 이것은 농부들에게 인간으로서의 존엄성을 인식시키게 되었습니다.이러한 예의 범절은 우리 농민에게 미의식이 있었다는 얘기입니다.\n",
            "교가 농민들에게도 흘러갔던 것입니다.제사라든지, 의식 구조라든지, 조상 숭배라든지 이 모든 것이 농부들에게 흘러갔는데, 이것은 농부들에게 인간으로서의 존엄성을 인식시키게 되었습니다.이러한 예의 범절은 우리 농민에게 미의식이 있었다는 얘기입니다.\n",
            "교가 농민들에게도 흘러갔던 것입니다.제사라든지, 의식 구조라든지, 조상 숭배라든지 이 모든 것이 농부들에게 흘러갔는데, 이것은 농부들에게 인간으로서의 존엄성을 인식시키게 되었습니다.이러한 예의 범절은 우리 농민에게 미의식이 있었다는 얘기입니다.\n",
            "교가 농민들에게도 흘러갔던 것입니다.제사라든지, 의식 구조라든지, 조상 숭배라든지 이 모든 것이 농부들에게 흘러갔는데, 이것은 농부들에게 인간으로서의 존엄성을 인식시키게 되었습니다.이러한 예의 범절은 우리 농민에게 미의식이 있었다는 얘기입니다.\n",
            "교가 농민들에게도 흘러갔던 것입니다.제사라든지, 의식 구조라든지, 조상 숭배라든지 이 모든 것이 농부들에게 흘러갔는데, 이것은 농부들에게 인간으로서의 존엄성을 인식시키게 되었습니다.이러한 예의 범절은 우리 농민에게 미의식이 있었다는 얘기입니다.\n",
            "교가 농민들에게도 흘러갔던 것입니다.제사라든지, 의식 구조라든지, 조상 숭배라든지 이 모든 것이 농부들에게 흘러갔는데, 이것은 농부들에게 인간으로서의 존엄성을 인식시키게 되었습니다.이러한 예의 범절은 우리 농민에게 미의식이 있었다는 얘기입니다.\n",
            "교가 농민들에게도 흘러갔던 것입니다.제사라든지, 의식 구조라든지, 조상 숭배라든지 이 모든 것이 농부들에게 흘러갔는데, 이것은 농부들에게 인간으로서의 존엄성을 인식시키게 되었습니다.이러한 예의 범절은 우리 농민에게 미의식이 있었다는 얘기입니다.\n",
            "교가 농민들에게도 흘러갔던 것입니다.제사라든지, 의식 구조라든지, 조상 숭배라든지 이 모든 것이 농부들에게 흘러갔는데, 이것은 농부들에게 인간으로서의 존엄성을 인식시키게 되었습니다.이러한 예의 범절은 우리 농민에게 미의식이 있었다는 얘기입니다.\n",
            "교가 농민들에게도 흘러갔던 것입니다.제사라든지, 의식 구조라든지, 조상 숭배라든지 이 모든 것이 농부들에게 흘러갔는데, 이것은 농부들에게 인간으로서의 존엄성을 인식시키게 되었습니다.이러한 예의 범절은 우리 농민에게 미의식이 있었다는 얘기입니다.\n",
            "교가 농민들에게도 흘러갔던 것입니다.제사라든지, 의식 구조라든지, 조상 숭배라든지 이 모든 것이 농부들에게 흘러갔는데, 이것은 농부들에게 인간으로서의 존엄성을 인식시키게 되었습니다.이러한 예의 범절은 우리 농민에게 미의식이 있었다는 얘기입니다.\n",
            "교가 농민들에게도 흘러갔던 것입니다.제사라든지, 의식 구조라든지, 조상 숭배라든지 이 모든 것이 농부들에게 흘러갔는데, 이것은 농부들에게 인간으로서의 존엄성을 인식시키게 되었습니다.이러한 예의 범절은 우리 농민에게 미의식이 있었다는 얘기입니다.\n",
            "교가 농민들에게도 흘러갔던 것입니다.제사라든지, 의식 구조라든지, 조상 숭배라든지 이 모든 것이 농부들에게 흘러갔는데, 이것은 농부들에게 인간으로서의 존엄성을 인식시키게 되었습니다.이러한 예의 범절은 우리 농민에게 미의식이 있었다는 얘기입니다.\n",
            "교가 농민들에게도 흘러갔던 것입니다.제사라든지, 의식 구조라든지, 조상 숭배라든지 이 모든 것이 농부들에게 흘러갔는데, 이것은 농부들에게 인간으로서의 존엄성을 인식시키게 되었습니다.이러한 예의 범절은 우리 농민에게 미의식이 있었다는 얘기입니다.\n",
            "교가 농민들에게도 흘러갔던 것입니다.제사라든지, 의식 구조라든지, 조상 숭배라든지 이 모든 것이 농부들에게 흘러갔는데, 이것은 농부들에게 인간으로서의 존엄성을 인식시키게 되었습니다.이러한 예의 범절은 우리 농민에게 미의식이 있었다는 얘기입니다.\n",
            "교가 농민들에게도 흘러갔던 것입니다.제사라든지, 의식 구조라든지, 조상 숭배라든지 이 모든 것이 농부들에게 흘러갔는데, 이것은 농부들에게 인간으로서의 존엄성을 인식시키게 되었습니다.이러한 예의 범절은 우리 농민에게 미의식이 있었다는 얘기입니다.\n",
            "교가 농민들에게도 흘러갔던 것입니다.제사라든지, 의식 구조라든지, 조상 숭배라든지 이 모든 것이 농부들에게 흘러갔는데, 이것은 농부들에게 인간으로서의 존엄성을 인식시키게 되었습니다.이러한 예의 범절은 우리 농민에게 미의식이 있었다는 얘기입니다.\n",
            "교가 농민들에게도 흘러갔던 것입니다.제사라든지, 의식 구조라든지, 조상 숭배라든지 이 모든 것이 농부들에게 흘러갔는데, 이것은 농부들에게 인간으로서의 존엄성을 인식시키게 되었습니다.이러한 예의 범절은 우리 농민에게 미의식이 있었다는 얘기입니다.\n",
            "교가 농민들에게도 흘러갔던 것입니다.제사라든지, 의식 구조라든지, 조상 숭배라든지 이 모든 것이 농부들에게 흘러갔는데, 이것은 농부들에게 인간으로서의 존엄성을 인식시키게 되었습니다.이러한 예의 범절은 우리 농민에게 미의식이 있었다는 얘기입니다.\n",
            "교가 농민들에게도 흘러갔던 것입니다.제사라든지, 의식 구조라든지, 조상 숭배라든지 이 모든 것이 농부들에게 흘러갔는데, 이것은 농부들에게 인간으로서의 존엄성을 인식시키게 되었습니다.이러한 예의 범절은 우리 농민에게 미의식이 있었다는 얘기입니다.\n",
            "교가 농민들에게도 흘러갔던 것입니다.제사라든지, 의식 구조라든지, 조상 숭배라든지 이 모든 것이 농부들에게 흘러갔는데, 이것은 농부들에게 인간으로서의 존엄성을 인식시키게 되었습니다.이러한 예의 범절은 우리 농민에게 미의식이 있었다는 얘기입니다.\n",
            "교가 농민들에게도 흘러갔던 것입니다.제사라든지, 의식 구조라든지, 조상 숭배라든지 이 모든 것이 농부들에게 흘러갔는데, 이것은 농부들에게 인간으로서의 존엄성을 인식시키게 되었습니다.이러한 예의 범절은 우리 농민에게 미의식이 있었다는 얘기입니다.\n",
            "교가 농민들에게도 흘러갔던 것입니다.제사라든지, 의식 구조라든지, 조상 숭배라든지 이 모든 것이 농부들에게 흘러갔는데, 이것은 농부들에게 인간으로서의 존엄성을 인식시키게 되었습니다.이러한 예의 범절은 우리 농민에게 미의식이 있었다는 얘기입니다.\n",
            "교가 농민들에게도 흘러갔던 것입니다.제사라든지, 의식 구조라든지, 조상 숭배라든지 이 모든 것이 농부들에게 흘러갔는데, 이것은 농부들에게 인간으로서의 존엄성을 인식시키게 되었습니다.이러한 예의 범절은 우리 농민에게 미의식이 있었다는 얘기입니다.\n",
            "교가 농민들에게도 흘러갔던 것입니다.제사라든지, 의식 구조라든지, 조상 숭배라든지 이 모든 것이 농부들에게 흘러갔는데, 이것은 농부들에게 인간으로서의 존엄성을 인식시키게 되었습니다.이러한 예의 범절은 우리 농민에게 미의식이 있었다는 얘기입니다.\n",
            "교가 농민들에게도 흘러갔던 것입니다.제사라든지, 의식 구조라든지, 조상 숭배라든지 이 모든 것이 농부들에게 흘러갔는데, 이것은 농부들에게 인간으로서의 존엄성을 인식시키게 되었습니다.이러한 예의 범절은 우리 농민에게 미의식이 있었다는 얘기입니다.\n",
            "교가 농민들에게도 흘러갔던 것입니다.제사라든지, 의식 구조라든지, 조상 숭배라든지 이 모든 것이 농부들에게 흘러갔는데, 이것은 농부들에게 인간으로서의 존엄성을 인식시키게 되었습니다.이러한 예의 범절은 우리 농민에게 미의식이 있었다는 얘기입니다.\n",
            "교가 농민들에게도 흘러갔던 것입니다.제사라든지, 의식 구조라든지, 조상 숭배라든지 이 모든 것이 농부들에게 흘러갔는데, 이것은 농부들에게 인간으로서의 존엄성을 인식시키게 되었습니다.이러한 예의 범절은 우리 농민에게 미의식이 있었다는 얘기입니다.\n",
            "교가 농민들에게도 흘러갔던 것입니다.제사라든지, 의식 구조라든지, 조상 숭배라든지 이 모든 것이 농부들에게 흘러갔는데, 이것은 농부들에게 인간으로서의 존엄성을 인식시키게 되었습니다.이러한 예의 범절은 우리 농민에게 미의식이 있었다는 얘기입니다.\n",
            "교가 농민들에게도 흘러갔던 것입니다.제사라든지, 의식 구조라든지, 조상 숭배라든지 이 모든 것이 농부들에게 흘러갔는데, 이것은 농부들에게 인간으로서의 존엄성을 인식시키게 되었습니다.이러한 예의 범절은 우리 농민에게 미의식이 있었다는 얘기입니다.\n",
            "교가 농민들에게도 흘러갔던 것입니다.제사라든지, 의식 구조라든지, 조상 숭배라든지 이 모든 것이 농부들에게 흘러갔는데, 이것은 농부들에게 인간으로서의 존엄성을 인식시키게 되었습니다.이러한 예의 범절은 우리 농민에게 미의식이 있었다는 얘기입니다.\n",
            "교가 농민들에게도 흘러갔던 것입니다.제사라든지, 의식 구조라든지, 조상 숭배라든지 이 모든 것이 농부들에게 흘러갔는데, 이것은 농부들에게 인간으로서의 존엄성을 인식시키게 되었습니다.이러한 예의 범절은 우리 농민에게 미의식이 있었다는 얘기입니다.\n",
            "교가 농민들에게도 흘러갔던 것입니다.제사라든지, 의식 구조라든지, 조상 숭배라든지 이 모든 것이 농부들에게 흘러갔는데, 이것은 농부들에게 인간으로서의 존엄성을 인식시키게 되었습니다.이러한 예의 범절은 우리 농민에게 미의식이 있었다는 얘기입니다.\n",
            "교가 농민들에게도 흘러갔던 것입니다.제사라든지, 의식 구조라든지, 조상 숭배라든지 이 모든 것이 농부들에게 흘러갔는데, 이것은 농부들에게 인간으로서의 존엄성을 인식시키게 되었습니다.이러한 예의 범절은 우리 농민에게 미의식이 있었다는 얘기입니다.\n",
            "교가 농민들에게도 흘러갔던 것입니다.제사라든지, 의식 구조라든지, 조상 숭배라든지 이 모든 것이 농부들에게 흘러갔는데, 이것은 농부들에게 인간으로서의 존엄성을 인식시키게 되었습니다.이러한 예의 범절은 우리 농민에게 미의식이 있었다는 얘기입니다.\n",
            "교가 농민들에게도 흘러갔던 것입니다.제사라든지, 의식 구조라든지, 조상 숭배라든지 이 모든 것이 농부들에게 흘러갔는데, 이것은 농부들에게 인간으로서의 존엄성을 인식시키게 되었습니다.이러한 예의 범절은 우리 농민에게 미의식이 있었다는 얘기입니다.\n",
            "교가 농민들에게도 흘러갔던 것입니다.제사라든지, 의식 구조라든지, 조상 숭배라든지 이 모든 것이 농부들에게 흘러갔는데, 이것은 농부들에게 인간으로서의 존엄성을 인식시키게 되었습니다.이러한 예의 범절은 우리 농민에게 미의식이 있었다는 얘기입니다.\n",
            "교가 농민들에게도 흘러갔던 것입니다.제사라든지, 의식 구조라든지, 조상 숭배라든지 이 모든 것이 농부들에게 흘러갔는데, 이것은 농부들에게 인간으로서의 존엄성을 인식시키게 되었습니다.이러한 예의 범절은 우리 농민에게 미의식이 있었다는 얘기입니다.\n",
            "교가 농민들에게도 흘러갔던 것입니다.제사라든지, 의식 구조라든지, 조상 숭배라든지 이 모든 것이 농부들에게 흘러갔는데, 이것은 농부들에게 인간으로서의 존엄성을 인식시키게 되었습니다.이러한 예의 범절은 우리 농민에게 미의식이 있었다는 얘기입니다.\n",
            "교가 농민들에게도 흘러갔던 것입니다.제사라든지, 의식 구조라든지, 조상 숭배라든지 이 모든 것이 농부들에게 흘러갔는데, 이것은 농부들에게 인간으로서의 존엄성을 인식시키게 되었습니다.이러한 예의 범절은 우리 농민에게 미의식이 있었다는 얘기입니다.\n",
            "교가 농민들에게도 흘러갔던 것입니다.제사라든지, 의식 구조라든지, 조상 숭배라든지 이 모든 것이 농부들에게 흘러갔는데, 이것은 농부들에게 인간으로서의 존엄성을 인식시키게 되었습니다.이러한 예의 범절은 우리 농민에게 미의식이 있었다는 얘기입니다.\n",
            "교가 농민들에게도 흘러갔던 것입니다.제사라든지, 의식 구조라든지, 조상 숭배라든지 이 모든 것이 농부들에게 흘러갔는데, 이것은 농부들에게 인간으로서의 존엄성을 인식시키게 되었습니다.이러한 예의 범절은 우리 농민에게 미의식이 있었다는 얘기입니다.\n",
            "교가 농민들에게도 흘러갔던 것입니다.제사라든지, 의식 구조라든지, 조상 숭배라든지 이 모든 것이 농부들에게 흘러갔는데, 이것은 농부들에게 인간으로서의 존엄성을 인식시키게 되었습니다.이러한 예의 범절은 우리 농민에게 미의식이 있었다는 얘기입니다.\n",
            "교가 농민들에게도 흘러갔던 것입니다.제사라든지, 의식 구조라든지, 조상 숭배라든지 이 모든 것이 농부들에게 흘러갔는데, 이것은 농부들에게 인간으로서의 존엄성을 인식시키게 되었습니다.이러한 예의 범절은 우리 농민에게 미의식이 있었다는 얘기입니다.\n",
            "교가 농민들에게도 흘러갔던 것입니다.제사라든지, 의식 구조라든지, 조상 숭배라든지 이 모든 것이 농부들에게 흘러갔는데, 이것은 농부들에게 인간으로서의 존엄성을 인식시키게 되었습니다.이러한 예의 범절은 우리 농민에게 미의식이 있었다는 얘기입니다.\n",
            "교가 농민들에게도 흘러갔던 것입니다.제사라든지, 의식 구조라든지, 조상 숭배라든지 이 모든 것이 농부들에게 흘러갔는데, 이것은 농부들에게 인간으로서의 존엄성을 인식시키게 되었습니다.이러한 예의 범절은 우리 농민에게 미의식이 있었다는 얘기입니다.\n",
            "교가 농민들에게도 흘러갔던 것입니다.제사라든지, 의식 구조라든지, 조상 숭배라든지 이 모든 것이 농부들에게 흘러갔는데, 이것은 농부들에게 인간으로서의 존엄성을 인식시키게 되었습니다.이러한 예의 범절은 우리 농민에게 미의식이 있었다는 얘기입니다.\n",
            "교가 농민들에게도 흘러갔던 것입니다.제사라든지, 의식 구조라든지, 조상 숭배라든지 이 모든 것이 농부들에게 흘러갔는데, 이것은 농부들에게 인간으로서의 존엄성을 인식시키게 되었습니다.이러한 예의 범절은 우리 농민에게 미의식이 있었다는 얘기입니다.\n",
            "교가 농민들에게도 흘러갔던 것입니다.제사라든지, 의식 구조라든지, 조상 숭배라든지 이 모든 것이 농부들에게 흘러갔는데, 이것은 농부들에게 인간으로서의 존엄성을 인식시키게 되었습니다.이러한 예의 범절은 우리 농민에게 미의식이 있었다는 얘기입니다.\n",
            "교가 농민들에게도 흘러갔던 것입니다.제사라든지, 의식 구조라든지, 조상 숭배라든지 이 모든 것이 농부들에게 흘러갔는데, 이것은 농부들에게 인간으로서의 존엄성을 인식시키게 되었습니다.이러한 예의 범절은 우리 농민에게 미의식이 있었다는 얘기입니다.\n",
            "교가 농민들에게도 흘러갔던 것입니다.제사라든지, 의식 구조라든지, 조상 숭배라든지 이 모든 것이 농부들에게 흘러갔는데, 이것은 농부들에게 인간으로서의 존엄성을 인식시키게 되었습니다.이러한 예의 범절은 우리 농민에게 미의식이 있었다는 얘기입니다.\n",
            "교가 농민들에게도 흘러갔던 것입니다.제사라든지, 의식 구조라든지, 조상 숭배라든지 이 모든 것이 농부들에게 흘러갔는데, 이것은 농부들에게 인간으로서의 존엄성을 인식시키게 되었습니다.이러한 예의 범절은 우리 농민에게 미의식이 있었다는 얘기입니다.\n",
            "교가 농민들에게도 흘러갔던 것입니다.제사라든지, 의식 구조라든지, 조상 숭배라든지 이 모든 것이 농부들에게 흘러갔는데, 이것은 농부들에게 인간으로서의 존엄성을 인식시키게 되었습니다.이러한 예의 범절은 우리 농민에게 미의식이 있었다는 얘기입니다.\n"
          ]
        }
      ]
    },
    {
      "cell_type": "code",
      "source": [
        "predict_str"
      ],
      "metadata": {
        "colab": {
          "base_uri": "https://localhost:8080/",
          "height": 53
        },
        "outputId": "51f976c1-ad77-4502-a1de-df9a8223d426",
        "id": "FSAs08rDKGKf"
      },
      "execution_count": 52,
      "outputs": [
        {
          "output_type": "execute_result",
          "data": {
            "text/plain": [
              "'교가 농민들에게도 흘러갔던 것입니다.제사라든지, 의식 구조라든지, 조상 숭배라든지 이 모든 것이 농부들에게 흘러갔는데, 이것은 농부들에게 인간으로서의 존엄성을 인식시키게 되었습니다.이러한 예의 범절은 우리 농민에게 미의식이 있었다는 얘기입니다.'"
            ],
            "application/vnd.google.colaboratory.intrinsic+json": {
              "type": "string"
            }
          },
          "metadata": {},
          "execution_count": 52
        }
      ]
    }
  ]
}