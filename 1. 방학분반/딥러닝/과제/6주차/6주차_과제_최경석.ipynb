{
  "nbformat": 4,
  "nbformat_minor": 0,
  "metadata": {
    "colab": {
      "name": "6주차_과제_최경석.ipynb",
      "provenance": [],
      "collapsed_sections": []
    },
    "kernelspec": {
      "name": "python3",
      "display_name": "Python 3"
    },
    "language_info": {
      "name": "python"
    },
    "accelerator": "GPU",
    "gpuClass": "standard"
  },
  "cells": [
    {
      "cell_type": "code",
      "source": [
        "! pip install konlpy"
      ],
      "metadata": {
        "colab": {
          "base_uri": "https://localhost:8080/"
        },
        "id": "OLo6IxwAvWXd",
        "outputId": "2c8a2b92-b773-4262-8be3-f5bad31eda24"
      },
      "execution_count": 1,
      "outputs": [
        {
          "output_type": "stream",
          "name": "stdout",
          "text": [
            "Looking in indexes: https://pypi.org/simple, https://us-python.pkg.dev/colab-wheels/public/simple/\n",
            "Collecting konlpy\n",
            "  Downloading konlpy-0.6.0-py2.py3-none-any.whl (19.4 MB)\n",
            "\u001b[K     |████████████████████████████████| 19.4 MB 1.3 MB/s \n",
            "\u001b[?25hRequirement already satisfied: numpy>=1.6 in /usr/local/lib/python3.7/dist-packages (from konlpy) (1.21.6)\n",
            "Requirement already satisfied: lxml>=4.1.0 in /usr/local/lib/python3.7/dist-packages (from konlpy) (4.9.1)\n",
            "Collecting JPype1>=0.7.0\n",
            "  Downloading JPype1-1.4.0-cp37-cp37m-manylinux_2_5_x86_64.manylinux1_x86_64.whl (453 kB)\n",
            "\u001b[K     |████████████████████████████████| 453 kB 62.2 MB/s \n",
            "\u001b[?25hRequirement already satisfied: typing-extensions in /usr/local/lib/python3.7/dist-packages (from JPype1>=0.7.0->konlpy) (4.1.1)\n",
            "Installing collected packages: JPype1, konlpy\n",
            "Successfully installed JPype1-1.4.0 konlpy-0.6.0\n"
          ]
        }
      ]
    },
    {
      "cell_type": "code",
      "execution_count": 2,
      "metadata": {
        "id": "nmQ5F7UAeKB_"
      },
      "outputs": [],
      "source": [
        "import numpy as np\n",
        "import torch\n",
        "import torch.nn as nn\n",
        "import torch.optim as optim\n",
        "from konlpy.tag import Okt"
      ]
    },
    {
      "cell_type": "markdown",
      "source": [
        "## Task1\n",
        "\n",
        "빈 칸을 채워주세요!\n",
        "\n",
        "단계별 output이 github 파일에는 남아있으니 그 output과 동일한 형태인지 확인하면서 진행해주시면 됩니다~"
      ],
      "metadata": {
        "id": "Sgxd6SxmeVcP"
      }
    },
    {
      "cell_type": "code",
      "source": [
        "#1. 생성할 문장 데이터\n",
        "\n",
        "sentence = (\"Brick walls are there for a reason and you must not think \"\n",
        "            \"that the brick walls aren't there to keep us out, but rather \"\n",
        "            \"in this way that the brick walls are there to show us how badly we want things.\")"
      ],
      "metadata": {
        "id": "NDvUeC8BoUb6"
      },
      "execution_count": 21,
      "outputs": []
    },
    {
      "cell_type": "code",
      "source": [
        "#2. 문자 집합 만들기\n",
        "word_set = list(sorted(set(sentence)))\n",
        "\n",
        "## 문제(1): 각 문자에 정수 인코딩 (공백도 하나의 원소로 포함)\n",
        "vocab = {word:encode for encode, word in enumerate(word_set)}"
      ],
      "metadata": {
        "id": "b9lkrKyZf8ie"
      },
      "execution_count": 22,
      "outputs": []
    },
    {
      "cell_type": "code",
      "source": [
        "print(vocab)"
      ],
      "metadata": {
        "colab": {
          "base_uri": "https://localhost:8080/"
        },
        "id": "F_0we5Y-gYDq",
        "outputId": "96a08373-1820-4439-91b1-fce5633dfff9"
      },
      "execution_count": 23,
      "outputs": [
        {
          "output_type": "stream",
          "name": "stdout",
          "text": [
            "{' ': 0, \"'\": 1, ',': 2, '.': 3, 'B': 4, 'a': 5, 'b': 6, 'c': 7, 'd': 8, 'e': 9, 'f': 10, 'g': 11, 'h': 12, 'i': 13, 'k': 14, 'l': 15, 'm': 16, 'n': 17, 'o': 18, 'p': 19, 'r': 20, 's': 21, 't': 22, 'u': 23, 'w': 24, 'y': 25}\n"
          ]
        }
      ]
    },
    {
      "cell_type": "code",
      "source": [
        "#3. 문자 집합 크기 확인\n",
        "\n",
        "vocab_size = len(vocab)\n",
        "print('문자 집합 크기 : {}'.format(vocab_size))"
      ],
      "metadata": {
        "colab": {
          "base_uri": "https://localhost:8080/"
        },
        "id": "TpKupU6lgpfT",
        "outputId": "82ba5b2d-cd2a-4a72-cf65-530a7aece9c8"
      },
      "execution_count": 24,
      "outputs": [
        {
          "output_type": "stream",
          "name": "stdout",
          "text": [
            "문자 집합 크기 : 26\n"
          ]
        }
      ]
    },
    {
      "cell_type": "code",
      "source": [
        "#4. 하이퍼 파라미터 설정(자유롭게 수정해보세요!)\n",
        "print(len(sentence))\n",
        "hidden_size = vocab_size # 같아야 하는 것 확인!\n",
        "sequence_length = 20  # 너무 길거나 너무 짧게 잡으면 안됩니다!\n",
        "learning_rate = 0.01"
      ],
      "metadata": {
        "id": "wFDZJHSMg9In",
        "colab": {
          "base_uri": "https://localhost:8080/"
        },
        "outputId": "9e0aacac-7e6f-44e6-e2c3-04ca8261cd26"
      },
      "execution_count": 25,
      "outputs": [
        {
          "output_type": "stream",
          "name": "stdout",
          "text": [
            "198\n"
          ]
        }
      ]
    },
    {
      "cell_type": "code",
      "source": [
        "#5. seqence 길이 단위 자르기\n",
        "\n",
        "# 데이터 구성을 위한 리스트\n",
        "x_data = []\n",
        "y_data = []\n",
        "\n",
        "## 문제(2): 반복문 내에서의 인덱싱을 사용하여 sequence_length 값 단위로 샘플을 잘라 데이터 만들기, y_str은 x_str은 한 칸씩 쉬프트된 sequnce\n",
        "\n",
        "for i in range(0, len(sentence) - sequence_length):\n",
        "  x_str = sentence[i:i+sequence_length]\n",
        "  y_str = sentence[i+1:i+sequence_length+1]\n",
        "  print(i, x_str, \"->\", y_str)\n",
        "\n",
        "  # x_str과 y_str이 문자집합에 해당하는 인덱스를 각각 x_data, y_data에 append\n",
        "  x_data.append([vocab[c] for c in x_str])\n",
        "  y_data.append([vocab[d] for d in y_str])"
      ],
      "metadata": {
        "colab": {
          "base_uri": "https://localhost:8080/"
        },
        "id": "RbDcmJmghN7V",
        "outputId": "8c2b5a81-e230-4482-d9d9-ecfba86f646e"
      },
      "execution_count": 26,
      "outputs": [
        {
          "output_type": "stream",
          "name": "stdout",
          "text": [
            "0 Brick walls are ther -> rick walls are there\n",
            "1 rick walls are there -> ick walls are there \n",
            "2 ick walls are there  -> ck walls are there f\n",
            "3 ck walls are there f -> k walls are there fo\n",
            "4 k walls are there fo ->  walls are there for\n",
            "5  walls are there for -> walls are there for \n",
            "6 walls are there for  -> alls are there for a\n",
            "7 alls are there for a -> lls are there for a \n",
            "8 lls are there for a  -> ls are there for a r\n",
            "9 ls are there for a r -> s are there for a re\n",
            "10 s are there for a re ->  are there for a rea\n",
            "11  are there for a rea -> are there for a reas\n",
            "12 are there for a reas -> re there for a reaso\n",
            "13 re there for a reaso -> e there for a reason\n",
            "14 e there for a reason ->  there for a reason \n",
            "15  there for a reason  -> there for a reason a\n",
            "16 there for a reason a -> here for a reason an\n",
            "17 here for a reason an -> ere for a reason and\n",
            "18 ere for a reason and -> re for a reason and \n",
            "19 re for a reason and  -> e for a reason and y\n",
            "20 e for a reason and y ->  for a reason and yo\n",
            "21  for a reason and yo -> for a reason and you\n",
            "22 for a reason and you -> or a reason and you \n",
            "23 or a reason and you  -> r a reason and you m\n",
            "24 r a reason and you m ->  a reason and you mu\n",
            "25  a reason and you mu -> a reason and you mus\n",
            "26 a reason and you mus ->  reason and you must\n",
            "27  reason and you must -> reason and you must \n",
            "28 reason and you must  -> eason and you must n\n",
            "29 eason and you must n -> ason and you must no\n",
            "30 ason and you must no -> son and you must not\n",
            "31 son and you must not -> on and you must not \n",
            "32 on and you must not  -> n and you must not t\n",
            "33 n and you must not t ->  and you must not th\n",
            "34  and you must not th -> and you must not thi\n",
            "35 and you must not thi -> nd you must not thin\n",
            "36 nd you must not thin -> d you must not think\n",
            "37 d you must not think ->  you must not think \n",
            "38  you must not think  -> you must not think t\n",
            "39 you must not think t -> ou must not think th\n",
            "40 ou must not think th -> u must not think tha\n",
            "41 u must not think tha ->  must not think that\n",
            "42  must not think that -> must not think that \n",
            "43 must not think that  -> ust not think that t\n",
            "44 ust not think that t -> st not think that th\n",
            "45 st not think that th -> t not think that the\n",
            "46 t not think that the ->  not think that the \n",
            "47  not think that the  -> not think that the b\n",
            "48 not think that the b -> ot think that the br\n",
            "49 ot think that the br -> t think that the bri\n",
            "50 t think that the bri ->  think that the bric\n",
            "51  think that the bric -> think that the brick\n",
            "52 think that the brick -> hink that the brick \n",
            "53 hink that the brick  -> ink that the brick w\n",
            "54 ink that the brick w -> nk that the brick wa\n",
            "55 nk that the brick wa -> k that the brick wal\n",
            "56 k that the brick wal ->  that the brick wall\n",
            "57  that the brick wall -> that the brick walls\n",
            "58 that the brick walls -> hat the brick walls \n",
            "59 hat the brick walls  -> at the brick walls a\n",
            "60 at the brick walls a -> t the brick walls ar\n",
            "61 t the brick walls ar ->  the brick walls are\n",
            "62  the brick walls are -> the brick walls aren\n",
            "63 the brick walls aren -> he brick walls aren'\n",
            "64 he brick walls aren' -> e brick walls aren't\n",
            "65 e brick walls aren't ->  brick walls aren't \n",
            "66  brick walls aren't  -> brick walls aren't t\n",
            "67 brick walls aren't t -> rick walls aren't th\n",
            "68 rick walls aren't th -> ick walls aren't the\n",
            "69 ick walls aren't the -> ck walls aren't ther\n",
            "70 ck walls aren't ther -> k walls aren't there\n",
            "71 k walls aren't there ->  walls aren't there \n",
            "72  walls aren't there  -> walls aren't there t\n",
            "73 walls aren't there t -> alls aren't there to\n",
            "74 alls aren't there to -> lls aren't there to \n",
            "75 lls aren't there to  -> ls aren't there to k\n",
            "76 ls aren't there to k -> s aren't there to ke\n",
            "77 s aren't there to ke ->  aren't there to kee\n",
            "78  aren't there to kee -> aren't there to keep\n",
            "79 aren't there to keep -> ren't there to keep \n",
            "80 ren't there to keep  -> en't there to keep u\n",
            "81 en't there to keep u -> n't there to keep us\n",
            "82 n't there to keep us -> 't there to keep us \n",
            "83 't there to keep us  -> t there to keep us o\n",
            "84 t there to keep us o ->  there to keep us ou\n",
            "85  there to keep us ou -> there to keep us out\n",
            "86 there to keep us out -> here to keep us out,\n",
            "87 here to keep us out, -> ere to keep us out, \n",
            "88 ere to keep us out,  -> re to keep us out, b\n",
            "89 re to keep us out, b -> e to keep us out, bu\n",
            "90 e to keep us out, bu ->  to keep us out, but\n",
            "91  to keep us out, but -> to keep us out, but \n",
            "92 to keep us out, but  -> o keep us out, but r\n",
            "93 o keep us out, but r ->  keep us out, but ra\n",
            "94  keep us out, but ra -> keep us out, but rat\n",
            "95 keep us out, but rat -> eep us out, but rath\n",
            "96 eep us out, but rath -> ep us out, but rathe\n",
            "97 ep us out, but rathe -> p us out, but rather\n",
            "98 p us out, but rather ->  us out, but rather \n",
            "99  us out, but rather  -> us out, but rather i\n",
            "100 us out, but rather i -> s out, but rather in\n",
            "101 s out, but rather in ->  out, but rather in \n",
            "102  out, but rather in  -> out, but rather in t\n",
            "103 out, but rather in t -> ut, but rather in th\n",
            "104 ut, but rather in th -> t, but rather in thi\n",
            "105 t, but rather in thi -> , but rather in this\n",
            "106 , but rather in this ->  but rather in this \n",
            "107  but rather in this  -> but rather in this w\n",
            "108 but rather in this w -> ut rather in this wa\n",
            "109 ut rather in this wa -> t rather in this way\n",
            "110 t rather in this way ->  rather in this way \n",
            "111  rather in this way  -> rather in this way t\n",
            "112 rather in this way t -> ather in this way th\n",
            "113 ather in this way th -> ther in this way tha\n",
            "114 ther in this way tha -> her in this way that\n",
            "115 her in this way that -> er in this way that \n",
            "116 er in this way that  -> r in this way that t\n",
            "117 r in this way that t ->  in this way that th\n",
            "118  in this way that th -> in this way that the\n",
            "119 in this way that the -> n this way that the \n",
            "120 n this way that the  ->  this way that the b\n",
            "121  this way that the b -> this way that the br\n",
            "122 this way that the br -> his way that the bri\n",
            "123 his way that the bri -> is way that the bric\n",
            "124 is way that the bric -> s way that the brick\n",
            "125 s way that the brick ->  way that the brick \n",
            "126  way that the brick  -> way that the brick w\n",
            "127 way that the brick w -> ay that the brick wa\n",
            "128 ay that the brick wa -> y that the brick wal\n",
            "129 y that the brick wal ->  that the brick wall\n",
            "130  that the brick wall -> that the brick walls\n",
            "131 that the brick walls -> hat the brick walls \n",
            "132 hat the brick walls  -> at the brick walls a\n",
            "133 at the brick walls a -> t the brick walls ar\n",
            "134 t the brick walls ar ->  the brick walls are\n",
            "135  the brick walls are -> the brick walls are \n",
            "136 the brick walls are  -> he brick walls are t\n",
            "137 he brick walls are t -> e brick walls are th\n",
            "138 e brick walls are th ->  brick walls are the\n",
            "139  brick walls are the -> brick walls are ther\n",
            "140 brick walls are ther -> rick walls are there\n",
            "141 rick walls are there -> ick walls are there \n",
            "142 ick walls are there  -> ck walls are there t\n",
            "143 ck walls are there t -> k walls are there to\n",
            "144 k walls are there to ->  walls are there to \n",
            "145  walls are there to  -> walls are there to s\n",
            "146 walls are there to s -> alls are there to sh\n",
            "147 alls are there to sh -> lls are there to sho\n",
            "148 lls are there to sho -> ls are there to show\n",
            "149 ls are there to show -> s are there to show \n",
            "150 s are there to show  ->  are there to show u\n",
            "151  are there to show u -> are there to show us\n",
            "152 are there to show us -> re there to show us \n",
            "153 re there to show us  -> e there to show us h\n",
            "154 e there to show us h ->  there to show us ho\n",
            "155  there to show us ho -> there to show us how\n",
            "156 there to show us how -> here to show us how \n",
            "157 here to show us how  -> ere to show us how b\n",
            "158 ere to show us how b -> re to show us how ba\n",
            "159 re to show us how ba -> e to show us how bad\n",
            "160 e to show us how bad ->  to show us how badl\n",
            "161  to show us how badl -> to show us how badly\n",
            "162 to show us how badly -> o show us how badly \n",
            "163 o show us how badly  ->  show us how badly w\n",
            "164  show us how badly w -> show us how badly we\n",
            "165 show us how badly we -> how us how badly we \n",
            "166 how us how badly we  -> ow us how badly we w\n",
            "167 ow us how badly we w -> w us how badly we wa\n",
            "168 w us how badly we wa ->  us how badly we wan\n",
            "169  us how badly we wan -> us how badly we want\n",
            "170 us how badly we want -> s how badly we want \n",
            "171 s how badly we want  ->  how badly we want t\n",
            "172  how badly we want t -> how badly we want th\n",
            "173 how badly we want th -> ow badly we want thi\n",
            "174 ow badly we want thi -> w badly we want thin\n",
            "175 w badly we want thin ->  badly we want thing\n",
            "176  badly we want thing -> badly we want things\n",
            "177 badly we want things -> adly we want things.\n"
          ]
        }
      ]
    },
    {
      "cell_type": "code",
      "source": [
        "# 출력해서 한 칸씩 쉬프트된 것 확인하기!\n",
        "\n",
        "print(x_data[0])\n",
        "print(y_data[0])"
      ],
      "metadata": {
        "colab": {
          "base_uri": "https://localhost:8080/"
        },
        "id": "XVFlILiOixdc",
        "outputId": "bbf9ead5-569f-4ac2-a8a7-a1c6074b2cb7"
      },
      "execution_count": 27,
      "outputs": [
        {
          "output_type": "stream",
          "name": "stdout",
          "text": [
            "[4, 20, 13, 7, 14, 0, 24, 5, 15, 15, 21, 0, 5, 20, 9, 0, 22, 12, 9, 20]\n",
            "[20, 13, 7, 14, 0, 24, 5, 15, 15, 21, 0, 5, 20, 9, 0, 22, 12, 9, 20, 9]\n"
          ]
        }
      ]
    },
    {
      "cell_type": "code",
      "source": [
        "##6. 입력 시퀀스에 대해 원핫인코딩 수행\n",
        "\n",
        "## 문제(4) : x_data를 원핫인코딩 > numpy의 eye를 쓸 수 있지 않을까?\n",
        "x_one_hot = [np.eye(vocab_size,k=1,dtype=int)[i] for i in x_data]\n",
        "\n",
        "##7. 입력 데이터, 레이블데이터 텐서로 변환\n",
        "\n",
        "## 문제(5) : x_one_hot과 y_data 텐서로 변환 : 둘 다 같은 형식의 텐서로 변환하면 될까?? (FloatTensor, LongTesor 중 맞는 것은?)\n",
        "X = torch.FloatTensor(x_one_hot)\n",
        "Y = torch.LongTensor(y_data)"
      ],
      "metadata": {
        "id": "5lPes1dvjlNb"
      },
      "execution_count": 28,
      "outputs": []
    },
    {
      "cell_type": "code",
      "source": [
        "##8. 크기 확인\n",
        "print('훈련 데이터의 크기 : {}'.format(X.shape))\n",
        "print('레이블의 크기 : {}'.format(Y.shape))"
      ],
      "metadata": {
        "colab": {
          "base_uri": "https://localhost:8080/"
        },
        "id": "lMZzZlaymMk8",
        "outputId": "f95413b2-03b9-4bf6-f691-197ce57820ca"
      },
      "execution_count": 29,
      "outputs": [
        {
          "output_type": "stream",
          "name": "stdout",
          "text": [
            "훈련 데이터의 크기 : torch.Size([178, 20, 26])\n",
            "레이블의 크기 : torch.Size([178, 20])\n"
          ]
        }
      ]
    },
    {
      "cell_type": "code",
      "source": [
        "##9.원핫인코딩 결과 샘플 확인하기\n",
        "print(X[0])"
      ],
      "metadata": {
        "colab": {
          "base_uri": "https://localhost:8080/"
        },
        "id": "knx1DE_AmSFB",
        "outputId": "802d5da5-f35a-4da0-92c4-3044d29a5081"
      },
      "execution_count": 30,
      "outputs": [
        {
          "output_type": "stream",
          "name": "stdout",
          "text": [
            "tensor([[0., 0., 0., 0., 0., 1., 0., 0., 0., 0., 0., 0., 0., 0., 0., 0., 0., 0.,\n",
            "         0., 0., 0., 0., 0., 0., 0., 0.],\n",
            "        [0., 0., 0., 0., 0., 0., 0., 0., 0., 0., 0., 0., 0., 0., 0., 0., 0., 0.,\n",
            "         0., 0., 0., 1., 0., 0., 0., 0.],\n",
            "        [0., 0., 0., 0., 0., 0., 0., 0., 0., 0., 0., 0., 0., 0., 1., 0., 0., 0.,\n",
            "         0., 0., 0., 0., 0., 0., 0., 0.],\n",
            "        [0., 0., 0., 0., 0., 0., 0., 0., 1., 0., 0., 0., 0., 0., 0., 0., 0., 0.,\n",
            "         0., 0., 0., 0., 0., 0., 0., 0.],\n",
            "        [0., 0., 0., 0., 0., 0., 0., 0., 0., 0., 0., 0., 0., 0., 0., 1., 0., 0.,\n",
            "         0., 0., 0., 0., 0., 0., 0., 0.],\n",
            "        [0., 1., 0., 0., 0., 0., 0., 0., 0., 0., 0., 0., 0., 0., 0., 0., 0., 0.,\n",
            "         0., 0., 0., 0., 0., 0., 0., 0.],\n",
            "        [0., 0., 0., 0., 0., 0., 0., 0., 0., 0., 0., 0., 0., 0., 0., 0., 0., 0.,\n",
            "         0., 0., 0., 0., 0., 0., 0., 1.],\n",
            "        [0., 0., 0., 0., 0., 0., 1., 0., 0., 0., 0., 0., 0., 0., 0., 0., 0., 0.,\n",
            "         0., 0., 0., 0., 0., 0., 0., 0.],\n",
            "        [0., 0., 0., 0., 0., 0., 0., 0., 0., 0., 0., 0., 0., 0., 0., 0., 1., 0.,\n",
            "         0., 0., 0., 0., 0., 0., 0., 0.],\n",
            "        [0., 0., 0., 0., 0., 0., 0., 0., 0., 0., 0., 0., 0., 0., 0., 0., 1., 0.,\n",
            "         0., 0., 0., 0., 0., 0., 0., 0.],\n",
            "        [0., 0., 0., 0., 0., 0., 0., 0., 0., 0., 0., 0., 0., 0., 0., 0., 0., 0.,\n",
            "         0., 0., 0., 0., 1., 0., 0., 0.],\n",
            "        [0., 1., 0., 0., 0., 0., 0., 0., 0., 0., 0., 0., 0., 0., 0., 0., 0., 0.,\n",
            "         0., 0., 0., 0., 0., 0., 0., 0.],\n",
            "        [0., 0., 0., 0., 0., 0., 1., 0., 0., 0., 0., 0., 0., 0., 0., 0., 0., 0.,\n",
            "         0., 0., 0., 0., 0., 0., 0., 0.],\n",
            "        [0., 0., 0., 0., 0., 0., 0., 0., 0., 0., 0., 0., 0., 0., 0., 0., 0., 0.,\n",
            "         0., 0., 0., 1., 0., 0., 0., 0.],\n",
            "        [0., 0., 0., 0., 0., 0., 0., 0., 0., 0., 1., 0., 0., 0., 0., 0., 0., 0.,\n",
            "         0., 0., 0., 0., 0., 0., 0., 0.],\n",
            "        [0., 1., 0., 0., 0., 0., 0., 0., 0., 0., 0., 0., 0., 0., 0., 0., 0., 0.,\n",
            "         0., 0., 0., 0., 0., 0., 0., 0.],\n",
            "        [0., 0., 0., 0., 0., 0., 0., 0., 0., 0., 0., 0., 0., 0., 0., 0., 0., 0.,\n",
            "         0., 0., 0., 0., 0., 1., 0., 0.],\n",
            "        [0., 0., 0., 0., 0., 0., 0., 0., 0., 0., 0., 0., 0., 1., 0., 0., 0., 0.,\n",
            "         0., 0., 0., 0., 0., 0., 0., 0.],\n",
            "        [0., 0., 0., 0., 0., 0., 0., 0., 0., 0., 1., 0., 0., 0., 0., 0., 0., 0.,\n",
            "         0., 0., 0., 0., 0., 0., 0., 0.],\n",
            "        [0., 0., 0., 0., 0., 0., 0., 0., 0., 0., 0., 0., 0., 0., 0., 0., 0., 0.,\n",
            "         0., 0., 0., 1., 0., 0., 0., 0.]])\n"
          ]
        }
      ]
    },
    {
      "cell_type": "code",
      "source": [
        "##10. 레이블 데이터 샘플 확인하기\n",
        "print(Y[0])"
      ],
      "metadata": {
        "colab": {
          "base_uri": "https://localhost:8080/"
        },
        "id": "6pWDiH1SmYT_",
        "outputId": "17368f37-88f2-445c-af15-d74ed2c26f26"
      },
      "execution_count": 31,
      "outputs": [
        {
          "output_type": "stream",
          "name": "stdout",
          "text": [
            "tensor([20, 13,  7, 14,  0, 24,  5, 15, 15, 21,  0,  5, 20,  9,  0, 22, 12,  9,\n",
            "        20,  9])\n"
          ]
        }
      ]
    },
    {
      "cell_type": "code",
      "source": [
        "##11. RNN 모델 구현\n",
        "\n",
        "##문제(6) : 기본 pytorch 인자 넣기 연습 + forward 채우기\n",
        "### 조건 : rnn layer 2개 쌓기 + 마지막은 fc layer\n",
        "### batch_first 설정 필요할까? (유튜브 강의 참고)\n",
        "\n",
        "class Net(torch.nn.Module):\n",
        "  def __init__(self, input_dim, hidden_dim, layers):\n",
        "    super(Net, self).__init__()\n",
        "    self.rnn = torch.nn.RNN(input_dim, hidden_dim, num_layers=layers, batch_first=True)\n",
        "    self.fc = torch.nn.Linear(hidden_dim, vocab_size, bias=True) # label개수 == vocab_size개수\n",
        "  \n",
        "  def forward(self, x):\n",
        "    x,_ = self.rnn(x)\n",
        "    x = self.fc(x)\n",
        "    return x"
      ],
      "metadata": {
        "id": "-Ww22xu8mfUc"
      },
      "execution_count": 32,
      "outputs": []
    },
    {
      "cell_type": "code",
      "source": [
        "net = Net(vocab_size, hidden_size, layers=2)"
      ],
      "metadata": {
        "id": "No2GRvTpnLBl"
      },
      "execution_count": 33,
      "outputs": []
    },
    {
      "cell_type": "code",
      "source": [
        "##12. loss function\n",
        "criterion = torch.nn.CrossEntropyLoss()\n",
        "\n",
        "##13. optimizer\n",
        "optimizer = optim.Adam(net.parameters(), learning_rate)"
      ],
      "metadata": {
        "id": "9-zuJLeUnQLB"
      },
      "execution_count": 34,
      "outputs": []
    },
    {
      "cell_type": "code",
      "source": [
        "##14. 출력 크기 점검\n",
        "outputs = net(X)\n",
        "print(outputs.shape)"
      ],
      "metadata": {
        "colab": {
          "base_uri": "https://localhost:8080/"
        },
        "id": "z-RxRaiHnh9U",
        "outputId": "9b9de77c-e89c-47eb-e8ab-f21e758c7e83"
      },
      "execution_count": 35,
      "outputs": [
        {
          "output_type": "stream",
          "name": "stdout",
          "text": [
            "torch.Size([178, 20, 26])\n"
          ]
        }
      ]
    },
    {
      "cell_type": "code",
      "source": [
        "Y.view(-1).size()[0]"
      ],
      "metadata": {
        "colab": {
          "base_uri": "https://localhost:8080/"
        },
        "id": "fehTC60GsoWa",
        "outputId": "861ff032-6dcb-4f50-c095-99424f184f09"
      },
      "execution_count": 36,
      "outputs": [
        {
          "output_type": "execute_result",
          "data": {
            "text/plain": [
              "3560"
            ]
          },
          "metadata": {},
          "execution_count": 36
        }
      ]
    },
    {
      "cell_type": "code",
      "source": [
        "##15. Training 시작\n",
        "\n",
        "for i in range(100):\n",
        "    optimizer.zero_grad()\n",
        "    outputs = net(X)\n",
        "    ##문제(7) : outputs, Y 형태 그대로 넣으면 안되죠. view 함수를 이용해 loss값을 계산해봅시다.\n",
        "    loss = criterion(outputs.view(Y.view(-1).size()[0],-1), Y.view(-1))\n",
        "    loss.backward()\n",
        "    optimizer.step()\n",
        "\n",
        "    #16. 예측결과 확인\n",
        "    results = outputs.argmax(dim=2)\n",
        "    predict_str = \"\"\n",
        "    for j, result in enumerate(results):\n",
        "        if j == 0: # 처음에는 예측 결과를 전부 가져오기\n",
        "            predict_str += ''.join([word_set[t] for t in result])\n",
        "        else: # 그 다음에는 마지막 글자만 반복 추가\n",
        "            predict_str += word_set[result[-1]]\n",
        "\n",
        "    print(predict_str)"
      ],
      "metadata": {
        "colab": {
          "base_uri": "https://localhost:8080/"
        },
        "id": "uxxrxCd2nwoo",
        "outputId": "bf4f05cd-a9d5-4580-f355-84071a784ea8"
      },
      "execution_count": 39,
      "outputs": [
        {
          "output_type": "stream",
          "name": "stdout",
          "text": [
            "          h h   h         h    h   h       h        h     h    h             h h      h     h               h          h  h  h     h    h             h h   h     h  h                       h h    h\n",
            "                                                                                                                                                                                                     \n",
            "                                                                                                                                                                                                     \n",
            "                                                                                                                                                                                                     \n",
            "                                                                                                                                                                                                     \n",
            "                                                                                                                                                                                                     \n",
            "                                                                                                                                                                                                     \n",
            "                                                                                                                                                                                                     \n",
            "                                                                                                                                                                                                     \n",
            "                h                                   h          h                      h                                            h    h                   h                                        \n",
            "                h                      h   h        h     h    h                      h                         h                  h    h                   h                                  h     \n",
            "                h    t                 h   h        h     h    h        t             h    th               h   h                  h    h        t          h    th                            h     \n",
            "     tht    h   he   th   h   t    h   h   h   t    he    he   he       tht    h      he   th              ah   h          e       he   he       tht    h   he   th  h       h    t      t     he    \n",
            "     tht    h   he   tht  ht  t   th   ht  h   t   the    he  the  ht   tht    h     the   the     t       th   h      h  he       he  the  ht   tht    h   he   the he      h   at   t  tht  ahe    \n",
            "     tht   the  he   tht  ht  t   th   ht  ht  th  the   the  the  he   tht   the    the   the h   t       the  ht     h  he       he  the  he   tht   the  he   the he  t   h   at   th tht  ahe    \n",
            " t   tht   the the   tht  ht  t   the  ht tht  the the   the  the  he   tht   the    the   the h  he   e   the  ht     e  he      the  the  he   tht   the the   the het t t ht tat   th tht  ahe    \n",
            " t   tht   the the e tht thth t   the  ht tht  the the   thet the the   tht   the    the e the h  he   e   the  ht   t e  he      thet the the   tht   the the e the het t t et tat t tattht  ahe    \n",
            " t   t t   ahe the e tht tht  t   the  ht tht  the the   thet the the   t t   ahe    the e the h  he   e   the  ht e e e  he      thet the the   t t   ahe the e the het t t et t t t t  tht  ahe    \n",
            " t   t t   ate the e tht tht  t   the  ht th   t e the   thet the the   t t   ate    the e the h   e   e   the  ht   e e  he    t thet the the   t t   ate the e the het t t at t t   t  tht  ahe    \n",
            " e   t t   ate the e tht tht  t   the  he  het tee the   thet the the   t t   ate    the e the h   e   e   the the   e e  het  at thet the the   t t   ate the e the het t t at tat   ta tht  ahe    \n",
            " e   tat   are the e tht thee t   tae  he  het tee thet  thet the the   t t   are    thete theth   e   at  ahe the   e e  het  at thet the the   t t   are the e thethet t t at tat   aa tat  ahet   \n",
            " e   tat   are thete tht taee t   tae  ae  het ahe thet  thet the the   tat s are    thete theth   a   at  ahe the   e e  het  at thet the the   tat s are thete thethet t t at tat   aa tat  ahet   \n",
            " e   tat s are thete t t aate t   tat tae th t ahe thet  thet the tae   tat s are    thete theth   a   at  ahe tat   e e  het  at thet the tae   tat s are thete thethet t t at tat   aa tat  ahet   \n",
            "ae   tat s are thete t t aath t   tat tat thtt the thet  thet the tae   tat s are    thete theth   a   at  the tathe e e thet  at thet the tae   tat s are thete thethet t t at tat t aa tat  ahet   \n",
            "ae   tat s are there t t aath t   tat tat tatt the thet  thet the tae k tat s are t  thete the h taa  aat  tre tathere e thet  at thet the tae k tat s are there thethet t t at tat t aa tat  ahet   \n",
            "ae k tat s are there t t tath t   tat tat tatt the thet  thet the tre k tat s are t  thete the h   a  aat  tre tathere e thes  at thet the tre k tat s are there thethet t t at tat t aa tat  ahet   \n",
            "ae k tat s are there t t tath t   tat tat tutt the thet  thet the tre k tat s are t  there th th   as aat  tae tathere e thes  at thet the tre k tat s are there th thet t t at tat s aa tat  aher   \n",
            "re k tatss are there t   trth t   tat tae tutt the ther  thet the tre k tatss are b  there th ta   rs aat  tre tathereto  hes  at thet the tre k tatss are there th thet t that tat s aa tat  ahek   \n",
            "re k talss are there t   trth t   tae tae tuat the ther  thet the bre k talss are    there th ta   rs aat  tat tathereto  hes  at thet the bre k talss are there th thet t that tat s ar tat  ahek   \n",
            "re k talss are there t   trth t   tae tae tuat toe ther  thet the bre k talss are    there th  a   rs aas  tat totheret  thes tat thet the bre k talss are there th thet t shat tat s aa tal  ahek   \n",
            "re k talls are there to  trth t   tae tae tuat toe ther  thet the breck talls are k  there th  a   rs art  trt totheret  thes tat thet the breck talls are there th  het t that tat t aa tal  ahek   \n",
            "re k talls are there to  trth t   tai toe tust toe ther  thet the breck talls are k  there th  o   rs art  trt tothere   thes tat thet the breck talls are there th  het t that tat t ta tal  ahek   \n",
            "re k talls are there to  trth t   tai toe tust to  ther  thet the brick talls are    there th  e t rs art  tut totheret  thes tal thet the brick talls are there th  het tsshat tat t ta tal  ahek   \n",
            "re k talls are there to  trth t   tai toe bust to  ther  thet the brick talls are    there th  e trrs art  tut totheret  toes tal thet the brick talls are there th thet tsshat tat t ta tal  ahen   \n",
            "re k talls are there to  trte t   tai toi bust to  ther  that the brick talls are    there th  e s rs aus  tut totheret  toes tal that the brick talls are there th  hat tsshat tat t ta tal  ahen   \n",
            "re k talls are there to  trte t   tai toi bust to  ther  that the brick talls are    there th  e s rs aus  tut totheret  toes tal that the brick talls are there th  hat tsshat tat t ta tal  ahen   \n",
            "re k talls are there tot trte t   tai toi bust ro  then  that the brick walls are    there th  e s rs aus  tut totheret  thes tal that the brick walls are there th  hat ts hat tat t ta tal  then   \n",
            "rick walls are there to  trte t   tai toi bust ro  then  that the brick walls are    there th  e s us aus  tut totheret  thes tal that the brick walls are there th  hat ts hat tat t ta tal  then   \n",
            "rick walls are there to  t te t   tai toi bust ro  then  that the brick walls are kt there th  e t us aus  tut uatheretn thes tal that the brick walls are there th  hat us hot bad y ta tal  then   \n",
            "rick walls are there to  t te t   tai toi bust ro  then  that the brick walls are kt there th  e t us aus  tut uatheretn thes wal that the brick walls are there th that us hot bad y ta tal  then   \n",
            "rick walls are there to  t te t   aai toi bust no  then  that the brick walls are kt there th te t us aus  but uatheretn thes wal that the brick walls are there th that us hot bad y ta tal  then   \n",
            "rick walls are there ton t te t   ani toi bust no  then  that the brick walls are kt there th  e t us aus  brt uatheretn thes wal that the brick walls are there th that us hot bad y ta tal  then   \n",
            "rick walls are there ton t te t   ani toi bust no  then  that the brick walls are kt there th  e t us aut  brt uatheretn this wal that the brick walls are there th that us hot bad y ta tal  then   \n",
            "rick walls are there ton a teat   ani toi bust no  then  that the brick walls are kt there to  e t us aut  but uather tn this wal that the brick walls are there to thaw us hot bad y ta tal  then   \n",
            "rick walls are there ton a teaw   and toi must no  then  that the brick walls are 't there to  e t us aut  but uatheretn this wal that the brick walls are there to thaw us hot bad y ta tal  then w \n",
            "rick walls are there ton a teaw   and toi must no  then  that the brick walls are 't there to  e t us aut  but uatherern this wal that the brick walls are there to thow us hot bad y te wal   henkw \n",
            "rick walls are there ton a teaw   and toi must no  then  that the brick walls are 't there to  e t us aut  but uatherern this wal that the brick walls are there to thow us hot bad y te wal   henkw \n",
            "rick walls are there tor a teaw n and toi must no  then  that the brick walls are 't there to  e t us aut  but uatherern this wal that the brick walls are there to thow us hot bad y te wal   henkw \n",
            "rick walls are there tor a teaw n and toi must no  then  that the brick walls are 't there to  e t us aut  but uatherern this wal that the brick walls are there to thow us hot bad y te wan   henkw \n",
            "rick walls are there tor a teaw n and you must no  then  that the brick walls are 't there to  e s us aut, but uatherern this wal that the brick walls are there to thow us how bad y re wan  thenkt \n",
            "rick walls are there tor a teaw n and you must no  then  that the brick walls are 't there to ke s us aut, but uatherern this wal that the brick walls are there to thow us how bad y re wan  thenkw \n",
            "rick walls are there tor a teaw n and you must not thin  that the brick walls are 't there to ke p us aut, but uatherern this wal that the brick walls are there to thow us how bad y re wan  thenkw \n",
            "rick walls are there tor a teaw n and you must not thin  that the brick walls are 't there to ke p us aut, but ratherern this wal that the brick walls are there to thow us how bad y we wan  thenkw,\n",
            "rick walls are there tor a teaw n and you must not thin  that the brick walls are 't there to keep us aut, but ratherern this wal that the brick walls are there to show us how bad y we wan  thenkw,\n",
            "rick walls are there tor a teas n and you must not thin  that the brick walls are 't there to keep us aut, but ratherern this wal that the brick walls are there to show us how badly we wan  thenkw,\n",
            "rick walls are there tor a reas n and you must not think that the brick walls are 't there to keep us aut, but ratherern this wal that the brick walls are there to show us how badly we wan  thinkw,\n",
            "rick walls are there tor a reas n and you must not think that the brick walls are 't there to keep us aut, but ratherein this wal that the brick walls are there to show us how badly we wan  thinkt,\n",
            "rick walls are there tor a reas n and you must not think that the brick walls are 't there to keep us aut, but ratherein this wal that the brick walls are there to show us how badly we wan  thinkt,\n",
            "rick walls are there tor a reas n and you must not think that the brick walls are 't there to keep us aut, but rather in this way that the brick walls are there to show us how badly we wan  thinkt,\n",
            "rick walls are there tor a reason and you must not think that the brick walls are 't there to seep us out, but rather in this way that the brick walls are there to show us how badly we wan  thinktm\n",
            "rick walls are there tor a reason and you must not think that the brick walls are 't there to seep us out, but rather in this way that the brick walls are there to show us how badly we wan  thinktm\n",
            "rick walls are there tor a reason and you must not think that the brick walls are 't there to seep us out, but rather in this way that the brick walls are there to show us how badly we wan  thinktm\n",
            "rick walls are there tor a reason and you must not think that the brick walls are 't there to keep us out, but rather in this way that the brick walls are there to show us how badly we wan  thinktm\n",
            "rick walls are there tor a reason and you must not think that the brick walls are 't there to keep us out, but rather in this way that the brick walls are there to show us how badly we wan  thinksm\n",
            "rick walls are there tor a reason and you must not think that the brick walls are 't there to keep us out, but rather in this way that the brick walls are there to show us how badly we wan  thinksm\n",
            "rick walls are there tor a reason and you must not think that the brick walls are 't there to keep us out, but rather in this way that the brick walls are there to show us how badly we wan  thinksm\n",
            "rick walls are there tor a reason and you must not think that the brick walls are 't there to keep us out, but rather in this way that the brick walls are there to show us how badly we wan  thinksm\n",
            "rick walls are there tor a reason and you must not think that the brick walls are 't there to keep us out, but rather in this way that the brick walls are there to show us how badly we wan  thinksm\n",
            "rick walls are there tor a reason and you must not think that the brick walls are 't there to keep us out, but rather in this way that the brick walls are there to show us how badly we wan  thinksm\n",
            "rick walls are there tor a reason and you must not think that the brick walls are 't there to keep us out, but rather in this way that the brick walls are there to show us how badly we wan  thinksm\n",
            "rick walls are there tor a reason and you must not think that the brick walls are 't there to keep us out, but rather in this way that the brick walls are there to show us how badly we wan  thinksm\n",
            "rick walls are there tor a reason and you must not think that the brick walls are 't there to keep us out, but rather in this way that the brick walls are there to show us how badly we wan  thinksm\n",
            "rick walls are there tor a reason and you must not think that the brick walls are 't there to keep us out, but rather in this way that the brick walls are there to show us how badly we wan  thinksm\n",
            "rick walls are there tor a reason and you must not think that the brick walls are 't there to keep us out, but rather in this way that the brick walls are there to show us how badly we want thinksm\n",
            "rick walls are there tor a reason and you must not think that the brick walls are 't there to keep us out, but rather in this way that the brick walls are there to show us how badly we want thinksm\n",
            "rick walls are there tor a reason and you must not think that the brick walls are 't there to keep us out, but rather in this way that the brick walls are there to show us how badly we want thinksm\n",
            "rick walls are there tor a reason and you must not think that the brick walls are 't there to keep us out, but rather in this way that the brick walls are there to show us how badly we want thinksm\n",
            "rick walls are there tor a reason and you must not think that the brick walls are 't there to keep us out, but rather in this way that the brick walls are there to show us how badly we want thinksm\n",
            "rick walls are there tor a reason and you must not think that the brick walls are 't there to keep us out, but rather in this way that the brick walls are there to show us how badly we want thinksm\n",
            "rick walls are there tor a reason and you must not think that the brick walls are 't there to keep us out, but rather in this way that the brick walls are there to show us how badly we want thinksm\n",
            "rick walls are there tor a reason and you must not think that the brick walls are 't there to keep us out, but rather in this way that the brick walls are there to show us how badly we want thinksm\n",
            "rick walls are there tor a reason and you must not think that the brick walls are 't there to keep us out, but rather in this way that the brick walls are there to show us how badly we want thinksm\n",
            "rick walls are there tor a reason and you must not think that the brick walls are 't there to keep us out, but rather in this way that the brick walls are there to show us how badly we want thinksm\n",
            "rick walls are there tor a reason and you must not think that the brick walls are 't there to keep us out, but rather in this way that the brick walls are there to show us how badly we want thinksm\n",
            "rick walls are there tor a reason and you must not think that the brick walls are 't there to keep us out, but rather in this way that the brick walls are there to show us how badly we want thinksm\n",
            "rick walls are there tor a reason and you must not think that the brick walls are 't there to keep us out, but rather in this way that the brick walls are there to show us how badly we want thinksm\n",
            "rick walls are there tor a reason and you must not think that the brick walls are 't there to keep us out, but rather in this way that the brick walls are there to show us how badly we want thinksm\n",
            "rick walls are there tor a reason and you must not think that the brick walls are 't there to keep us out, but rather in this way that the brick walls are there to show us how badly we want thinksm\n",
            "rick walls are there tor a reason and you must not think that the brick walls are 't there to keep us out, but rather in this way that the brick walls are there to show us how badly we want thinksm\n",
            "rick walls are there tor a reason and you must not think that the brick walls are 't there to keep us out, but rather in this way that the brick walls are there to show us how badly we want thinksm\n",
            "rick walls are there tor a reason and you must not think that the brick walls are 't there to keep us out, but rather in this way that the brick walls are there to show us how badly we want thinksm\n",
            "rick walls are there tor a reason and you must not think that the brick walls are 't there to keep us out, but rather in this way that the brick walls are there to show us how badly we want thinksm\n",
            "rick walls are there tor a reason and you must not think that the brick walls are 't there to keep us out, but rather in this way that the brick walls are there to show us how badly we want thinksm\n",
            "rick walls are there tor a reason and you must not think that the brick walls are 't there to keep us out, but rather in this way that the brick walls are there to show us how badly we want thinksm\n",
            "rick walls are there tor a reason and you must not think that the brick walls are 't there to keep us out, but rather in this way that the brick walls are there to show us how badly we want thinksm\n",
            "rick walls are there tor a reason and you must not think that the brick walls are 't there to keep us out, but rather in this way that the brick walls are there to show us how badly we want thinksm\n",
            "rick walls are there tor a reason and you must not think that the brick walls are 't there to keep us out, but rather in this way that the brick walls are there to show us how badly we want thinksm\n",
            "rick walls are there tor a reason and you must not think that the brick walls are 't there to keep us out, but rather in this way that the brick walls are there to show us how badly we want thinksm\n",
            "rick walls are there tor a reason and you must not think that the brick walls are 't there to keep us out, but rather in this way that the brick walls are there to show us how badly we want thinksm\n",
            "rick walls are there tor a reason and you must not think that the brick walls are 't there to keep us out, but rather in this way that the brick walls are there to show us how badly we want thinksm\n"
          ]
        }
      ]
    },
    {
      "cell_type": "code",
      "source": [
        "predict_str"
      ],
      "metadata": {
        "colab": {
          "base_uri": "https://localhost:8080/",
          "height": 54
        },
        "id": "8qUkbiw2t0Il",
        "outputId": "3f4cc6d9-656e-40e9-8c2f-232a41696913"
      },
      "execution_count": 40,
      "outputs": [
        {
          "output_type": "execute_result",
          "data": {
            "text/plain": [
              "\"rick walls are there tor a reason and you must not think that the brick walls are 't there to keep us out, but rather in this way that the brick walls are there to show us how badly we want thinksm\""
            ],
            "application/vnd.google.colaboratory.intrinsic+json": {
              "type": "string"
            }
          },
          "metadata": {},
          "execution_count": 40
        }
      ]
    },
    {
      "cell_type": "code",
      "source": [
        "sentence"
      ],
      "metadata": {
        "colab": {
          "base_uri": "https://localhost:8080/",
          "height": 54
        },
        "id": "r9Pn8fo1tL8n",
        "outputId": "a2cb7b1a-8d39-45d0-dfa7-8ede2c3bc640"
      },
      "execution_count": 41,
      "outputs": [
        {
          "output_type": "execute_result",
          "data": {
            "text/plain": [
              "\"Brick walls are there for a reason and you must not think that the brick walls aren't there to keep us out, but rather in this way that the brick walls are there to show us how badly we want things.\""
            ],
            "application/vnd.google.colaboratory.intrinsic+json": {
              "type": "string"
            }
          },
          "metadata": {},
          "execution_count": 41
        }
      ]
    },
    {
      "cell_type": "code",
      "source": [
        "cor = 0\n",
        "for i in range(len(predict_str)):\n",
        "  if list(predict_str)[i] == list(sentence)[i+1]: # sentence의 경우 B가 없으므로\n",
        "    cor +=1\n",
        "\n",
        "print(f'정확도 {cor/len(predict_str)*100:.2f}%')"
      ],
      "metadata": {
        "colab": {
          "base_uri": "https://localhost:8080/"
        },
        "id": "2uA1iZpYtOLx",
        "outputId": "c68972b7-863a-471d-e80e-906ef61fc52f"
      },
      "execution_count": 42,
      "outputs": [
        {
          "output_type": "stream",
          "name": "stdout",
          "text": [
            "정확도 97.97%\n"
          ]
        }
      ]
    },
    {
      "cell_type": "markdown",
      "source": [
        "결과가 어떤가요?? 마지막 에폭의 문장이 그럴싸한가요?"
      ],
      "metadata": {
        "id": "PkIzDTdyvTHz"
      }
    },
    {
      "cell_type": "markdown",
      "source": [
        "## Task2\n",
        "\n",
        "위 sentence는 제가 임의로 생성한 문장들입니다.\n",
        "\n",
        "마음에 드시는 문구 가져오셔서 문장이 어떻게 생성되는지 확인해보세요! \n",
        "\n",
        "영어가 아닌 한국어로 시도해보는 것도 좋겠죠? \n",
        "\n",
        "수정이 많이 필요(토큰화 등) 할 수 있으나 한번 시도해보시는 것 권장드립니다 :)\n",
        "\n",
        "위 베이스라인은 어디든 수정하셔도 좋고 조금 더 자연스러운 문장이 나올 수 있게 다양한 시도를 해보세요!\n",
        "\n",
        "조건 : 문장 3개 이상, 연결성이 있는 문장을 \" \" 으로 구분하여 ( )에 넣기"
      ],
      "metadata": {
        "id": "kN1zL8Dpvane"
      }
    },
    {
      "cell_type": "code",
      "source": [
        "sentence = ('젊은 피가 젊은 사랑을 후회 할 수가 있나'\n",
        "            '나도 뭐가 뭔지 모르겠는데'\n",
        "            '언젠가는 나도 누구의 버림을 받겠지'\n",
        "            '그래도 나는 아무 상관없는 걸'\n",
        "            )"
      ],
      "metadata": {
        "id": "IKp-lKrjvXR9"
      },
      "execution_count": 43,
      "outputs": []
    },
    {
      "cell_type": "code",
      "source": [
        "okt = Okt()\n",
        "word = okt.pos(sentence)\n",
        "word"
      ],
      "metadata": {
        "colab": {
          "base_uri": "https://localhost:8080/"
        },
        "id": "20TwjS-1wIK8",
        "outputId": "b41ecfea-df02-475e-fba2-bcb8bf2a39dd"
      },
      "execution_count": 44,
      "outputs": [
        {
          "output_type": "execute_result",
          "data": {
            "text/plain": [
              "[('젊은', 'Adjective'),\n",
              " ('피', 'Noun'),\n",
              " ('가', 'Josa'),\n",
              " ('젊은', 'Adjective'),\n",
              " ('사랑', 'Noun'),\n",
              " ('을', 'Josa'),\n",
              " ('후회', 'Noun'),\n",
              " ('할', 'Verb'),\n",
              " ('수가', 'Noun'),\n",
              " ('있나나도', 'Adjective'),\n",
              " ('뭐', 'Noun'),\n",
              " ('가', 'Josa'),\n",
              " ('뭔', 'Modifier'),\n",
              " ('지', 'Modifier'),\n",
              " ('모르겠는데', 'Verb'),\n",
              " ('언젠가', 'Adverb'),\n",
              " ('는', 'Verb'),\n",
              " ('나도', 'Verb'),\n",
              " ('누구', 'Noun'),\n",
              " ('의', 'Josa'),\n",
              " ('버림을', 'Verb'),\n",
              " ('받겠지', 'Verb'),\n",
              " ('그래도', 'Adverb'),\n",
              " ('나', 'Noun'),\n",
              " ('는', 'Josa'),\n",
              " ('아무', 'Noun'),\n",
              " ('상관없는', 'Adjective'),\n",
              " ('걸', 'Noun')]"
            ]
          },
          "metadata": {},
          "execution_count": 44
        }
      ]
    },
    {
      "cell_type": "code",
      "source": [
        "word = [w[0] for w in word]\n",
        "vocab = {word:encode for encode, word in enumerate(sorted(set(word)))}\n",
        "vocab_size = len(vocab)\n",
        "print(vocab_size)\n",
        "vocab # 형태소 단위이기 때문에 뛰어쓰기 포함할 필요없음"
      ],
      "metadata": {
        "colab": {
          "base_uri": "https://localhost:8080/"
        },
        "id": "oqozBDNmxHoG",
        "outputId": "48eae26c-8881-4af4-c517-9082d9ec8335"
      },
      "execution_count": 45,
      "outputs": [
        {
          "output_type": "stream",
          "name": "stdout",
          "text": [
            "25\n"
          ]
        },
        {
          "output_type": "execute_result",
          "data": {
            "text/plain": [
              "{'가': 0,\n",
              " '걸': 1,\n",
              " '그래도': 2,\n",
              " '나': 3,\n",
              " '나도': 4,\n",
              " '누구': 5,\n",
              " '는': 6,\n",
              " '모르겠는데': 7,\n",
              " '뭐': 8,\n",
              " '뭔': 9,\n",
              " '받겠지': 10,\n",
              " '버림을': 11,\n",
              " '사랑': 12,\n",
              " '상관없는': 13,\n",
              " '수가': 14,\n",
              " '아무': 15,\n",
              " '언젠가': 16,\n",
              " '을': 17,\n",
              " '의': 18,\n",
              " '있나나도': 19,\n",
              " '젊은': 20,\n",
              " '지': 21,\n",
              " '피': 22,\n",
              " '할': 23,\n",
              " '후회': 24}"
            ]
          },
          "metadata": {},
          "execution_count": 45
        }
      ]
    },
    {
      "cell_type": "code",
      "source": [
        "hidden_size = vocab_size # 같아야 하는 것 확인!\n",
        "sequence_length = 7 # 너무 길거나 너무 짧게 잡으면 안됩니다!\n",
        "learning_rate = 0.01\n",
        "\n",
        "#5. seqence 길이 단위 자르기\n",
        "\n",
        "# 데이터 구성을 위한 리스트\n",
        "x_data = []\n",
        "y_data = []\n",
        "\n",
        "## 문제(2): 반복문 내에서의 인덱싱을 사용하여 sequence_length 값 단위로 샘플을 잘라 데이터 만들기, y_str은 x_str은 한 칸씩 쉬프트된 sequnce\n",
        "\n",
        "for i in range(0, len(word) - sequence_length):\n",
        "  x_str = word[i:i+sequence_length]\n",
        "  y_str = word[i+1:i+sequence_length+1]\n",
        "  print(i, x_str, \"->\", y_str)\n",
        "\n",
        "  # x_str과 y_str이 문자집합에 해당하는 인덱스를 각각 x_data, y_data에 append\n",
        "  x_data.append([vocab[c] for c in x_str])\n",
        "  y_data.append([vocab[d] for d in y_str])"
      ],
      "metadata": {
        "colab": {
          "base_uri": "https://localhost:8080/"
        },
        "id": "wkdDOhdGxUXD",
        "outputId": "38956b58-c451-47e7-81b6-f857732aca6a"
      },
      "execution_count": 76,
      "outputs": [
        {
          "output_type": "stream",
          "name": "stdout",
          "text": [
            "0 ['젊은', '피', '가', '젊은', '사랑', '을', '후회'] -> ['피', '가', '젊은', '사랑', '을', '후회', '할']\n",
            "1 ['피', '가', '젊은', '사랑', '을', '후회', '할'] -> ['가', '젊은', '사랑', '을', '후회', '할', '수가']\n",
            "2 ['가', '젊은', '사랑', '을', '후회', '할', '수가'] -> ['젊은', '사랑', '을', '후회', '할', '수가', '있나나도']\n",
            "3 ['젊은', '사랑', '을', '후회', '할', '수가', '있나나도'] -> ['사랑', '을', '후회', '할', '수가', '있나나도', '뭐']\n",
            "4 ['사랑', '을', '후회', '할', '수가', '있나나도', '뭐'] -> ['을', '후회', '할', '수가', '있나나도', '뭐', '가']\n",
            "5 ['을', '후회', '할', '수가', '있나나도', '뭐', '가'] -> ['후회', '할', '수가', '있나나도', '뭐', '가', '뭔']\n",
            "6 ['후회', '할', '수가', '있나나도', '뭐', '가', '뭔'] -> ['할', '수가', '있나나도', '뭐', '가', '뭔', '지']\n",
            "7 ['할', '수가', '있나나도', '뭐', '가', '뭔', '지'] -> ['수가', '있나나도', '뭐', '가', '뭔', '지', '모르겠는데']\n",
            "8 ['수가', '있나나도', '뭐', '가', '뭔', '지', '모르겠는데'] -> ['있나나도', '뭐', '가', '뭔', '지', '모르겠는데', '언젠가']\n",
            "9 ['있나나도', '뭐', '가', '뭔', '지', '모르겠는데', '언젠가'] -> ['뭐', '가', '뭔', '지', '모르겠는데', '언젠가', '는']\n",
            "10 ['뭐', '가', '뭔', '지', '모르겠는데', '언젠가', '는'] -> ['가', '뭔', '지', '모르겠는데', '언젠가', '는', '나도']\n",
            "11 ['가', '뭔', '지', '모르겠는데', '언젠가', '는', '나도'] -> ['뭔', '지', '모르겠는데', '언젠가', '는', '나도', '누구']\n",
            "12 ['뭔', '지', '모르겠는데', '언젠가', '는', '나도', '누구'] -> ['지', '모르겠는데', '언젠가', '는', '나도', '누구', '의']\n",
            "13 ['지', '모르겠는데', '언젠가', '는', '나도', '누구', '의'] -> ['모르겠는데', '언젠가', '는', '나도', '누구', '의', '버림을']\n",
            "14 ['모르겠는데', '언젠가', '는', '나도', '누구', '의', '버림을'] -> ['언젠가', '는', '나도', '누구', '의', '버림을', '받겠지']\n",
            "15 ['언젠가', '는', '나도', '누구', '의', '버림을', '받겠지'] -> ['는', '나도', '누구', '의', '버림을', '받겠지', '그래도']\n",
            "16 ['는', '나도', '누구', '의', '버림을', '받겠지', '그래도'] -> ['나도', '누구', '의', '버림을', '받겠지', '그래도', '나']\n",
            "17 ['나도', '누구', '의', '버림을', '받겠지', '그래도', '나'] -> ['누구', '의', '버림을', '받겠지', '그래도', '나', '는']\n",
            "18 ['누구', '의', '버림을', '받겠지', '그래도', '나', '는'] -> ['의', '버림을', '받겠지', '그래도', '나', '는', '아무']\n",
            "19 ['의', '버림을', '받겠지', '그래도', '나', '는', '아무'] -> ['버림을', '받겠지', '그래도', '나', '는', '아무', '상관없는']\n",
            "20 ['버림을', '받겠지', '그래도', '나', '는', '아무', '상관없는'] -> ['받겠지', '그래도', '나', '는', '아무', '상관없는', '걸']\n"
          ]
        }
      ]
    },
    {
      "cell_type": "code",
      "source": [
        "# 출력해서 한 칸씩 쉬프트된 것 확인하기!\n",
        "\n",
        "print(x_data[0])\n",
        "print(y_data[0])"
      ],
      "metadata": {
        "colab": {
          "base_uri": "https://localhost:8080/"
        },
        "outputId": "372851da-2ecf-48eb-f461-37f95919ba9c",
        "id": "BfEdDijQ1n5j"
      },
      "execution_count": 77,
      "outputs": [
        {
          "output_type": "stream",
          "name": "stdout",
          "text": [
            "[20, 22, 0, 20, 12, 17, 24]\n",
            "[22, 0, 20, 12, 17, 24, 23]\n"
          ]
        }
      ]
    },
    {
      "cell_type": "code",
      "source": [
        "##6. 입력 시퀀스에 대해 원핫인코딩 수행\n",
        "\n",
        "## 문제(4) : x_data를 원핫인코딩 > numpy의 eye를 쓸 수 있지 않을까?\n",
        "x_one_hot = [np.eye(vocab_size,k=1,dtype=int)[i] for i in x_data]\n",
        "\n",
        "##7. 입력 데이터, 레이블데이터 텐서로 변환\n",
        "\n",
        "## 문제(5) : x_one_hot과 y_data 텐서로 변환 : 둘 다 같은 형식의 텐서로 변환하면 될까?? (FloatTensor, LongTesor 중 맞는 것은?)\n",
        "X = torch.FloatTensor(x_one_hot)\n",
        "Y = torch.LongTensor(y_data)"
      ],
      "metadata": {
        "id": "LjaGoEWz1n5o"
      },
      "execution_count": 78,
      "outputs": []
    },
    {
      "cell_type": "code",
      "source": [
        "##8. 크기 확인\n",
        "print('훈련 데이터의 크기 : {}'.format(X.shape))\n",
        "print('레이블의 크기 : {}'.format(Y.shape))"
      ],
      "metadata": {
        "colab": {
          "base_uri": "https://localhost:8080/"
        },
        "outputId": "cdeab9cc-e19e-4696-8848-90175e73c07c",
        "id": "a5ybxQWe1n5o"
      },
      "execution_count": 79,
      "outputs": [
        {
          "output_type": "stream",
          "name": "stdout",
          "text": [
            "훈련 데이터의 크기 : torch.Size([21, 7, 25])\n",
            "레이블의 크기 : torch.Size([21, 7])\n"
          ]
        }
      ]
    },
    {
      "cell_type": "code",
      "source": [
        "##9.원핫인코딩 결과 샘플 확인하기\n",
        "print(X[0])"
      ],
      "metadata": {
        "colab": {
          "base_uri": "https://localhost:8080/"
        },
        "outputId": "0e877f30-8de3-4770-e7e9-cce3b9b93b58",
        "id": "kSc7lVrA1n5p"
      },
      "execution_count": 80,
      "outputs": [
        {
          "output_type": "stream",
          "name": "stdout",
          "text": [
            "tensor([[0., 0., 0., 0., 0., 0., 0., 0., 0., 0., 0., 0., 0., 0., 0., 0., 0., 0.,\n",
            "         0., 0., 0., 1., 0., 0., 0.],\n",
            "        [0., 0., 0., 0., 0., 0., 0., 0., 0., 0., 0., 0., 0., 0., 0., 0., 0., 0.,\n",
            "         0., 0., 0., 0., 0., 1., 0.],\n",
            "        [0., 1., 0., 0., 0., 0., 0., 0., 0., 0., 0., 0., 0., 0., 0., 0., 0., 0.,\n",
            "         0., 0., 0., 0., 0., 0., 0.],\n",
            "        [0., 0., 0., 0., 0., 0., 0., 0., 0., 0., 0., 0., 0., 0., 0., 0., 0., 0.,\n",
            "         0., 0., 0., 1., 0., 0., 0.],\n",
            "        [0., 0., 0., 0., 0., 0., 0., 0., 0., 0., 0., 0., 0., 1., 0., 0., 0., 0.,\n",
            "         0., 0., 0., 0., 0., 0., 0.],\n",
            "        [0., 0., 0., 0., 0., 0., 0., 0., 0., 0., 0., 0., 0., 0., 0., 0., 0., 0.,\n",
            "         1., 0., 0., 0., 0., 0., 0.],\n",
            "        [0., 0., 0., 0., 0., 0., 0., 0., 0., 0., 0., 0., 0., 0., 0., 0., 0., 0.,\n",
            "         0., 0., 0., 0., 0., 0., 0.]])\n"
          ]
        }
      ]
    },
    {
      "cell_type": "code",
      "source": [
        "##10. 레이블 데이터 샘플 확인하기\n",
        "print(Y[0])"
      ],
      "metadata": {
        "colab": {
          "base_uri": "https://localhost:8080/"
        },
        "outputId": "69c84ec0-b525-4b8a-a72a-01776a847b9e",
        "id": "Smf-6Y1w1n5p"
      },
      "execution_count": 81,
      "outputs": [
        {
          "output_type": "stream",
          "name": "stdout",
          "text": [
            "tensor([22,  0, 20, 12, 17, 24, 23])\n"
          ]
        }
      ]
    },
    {
      "cell_type": "code",
      "source": [
        "##11. RNN 모델 구현\n",
        "\n",
        "##문제(6) : 기본 pytorch 인자 넣기 연습 + forward 채우기\n",
        "### 조건 : rnn layer 2개 쌓기 + 마지막은 fc layer\n",
        "### batch_first 설정 필요할까? (유튜브 강의 참고)\n",
        "\n",
        "class Net(torch.nn.Module):\n",
        "  def __init__(self, input_dim, hidden_dim, layers):\n",
        "    super(Net, self).__init__()\n",
        "    self.rnn = torch.nn.RNN(input_dim, hidden_dim, num_layers=layers, batch_first=True)\n",
        "    self.fc = torch.nn.Linear(hidden_dim, vocab_size, bias=True) # label개수 == vocab_size개수\n",
        "  \n",
        "  def forward(self, x):\n",
        "    x,_ = self.rnn(x)\n",
        "    x = self.fc(x)\n",
        "    return x"
      ],
      "metadata": {
        "id": "ObW8m7r81n5p"
      },
      "execution_count": 82,
      "outputs": []
    },
    {
      "cell_type": "code",
      "source": [
        "net = Net(vocab_size, hidden_size, layers=2)"
      ],
      "metadata": {
        "id": "M77KFeg01n5p"
      },
      "execution_count": 83,
      "outputs": []
    },
    {
      "cell_type": "code",
      "source": [
        "##12. loss function\n",
        "criterion = torch.nn.CrossEntropyLoss()\n",
        "\n",
        "##13. optimizer\n",
        "optimizer = optim.Adam(net.parameters(), learning_rate)"
      ],
      "metadata": {
        "id": "UtFM-45Q1n5p"
      },
      "execution_count": 84,
      "outputs": []
    },
    {
      "cell_type": "code",
      "source": [
        "##14. 출력 크기 점검\n",
        "outputs = net(X)\n",
        "print(outputs.shape)"
      ],
      "metadata": {
        "colab": {
          "base_uri": "https://localhost:8080/"
        },
        "outputId": "1079aeb0-d114-4541-c62e-0e3398a04db9",
        "id": "McQlf_Wi1n5p"
      },
      "execution_count": 85,
      "outputs": [
        {
          "output_type": "stream",
          "name": "stdout",
          "text": [
            "torch.Size([21, 7, 25])\n"
          ]
        }
      ]
    },
    {
      "cell_type": "code",
      "source": [
        "Y.view(-1).size()[0]"
      ],
      "metadata": {
        "colab": {
          "base_uri": "https://localhost:8080/"
        },
        "outputId": "6603a1bf-348f-4b85-eac0-ec3869482aab",
        "id": "tR3W5h1W1n5p"
      },
      "execution_count": 86,
      "outputs": [
        {
          "output_type": "execute_result",
          "data": {
            "text/plain": [
              "147"
            ]
          },
          "metadata": {},
          "execution_count": 86
        }
      ]
    },
    {
      "cell_type": "code",
      "source": [
        "##15. Training 시작\n",
        "\n",
        "for i in range(100):\n",
        "    optimizer.zero_grad()\n",
        "    outputs = net(X)\n",
        "    ##문제(7) : outputs, Y 형태 그대로 넣으면 안되죠. view 함수를 이용해 loss값을 계산해봅시다.\n",
        "    loss = criterion(outputs.view(Y.view(-1).size()[0],-1), Y.view(-1))\n",
        "    loss.backward()\n",
        "    optimizer.step()\n",
        "\n",
        "    #16. 예측결과 확인\n",
        "    results = outputs.argmax(dim=2)\n",
        "    predict_str = \"제게 \"\n",
        "    for j, result in enumerate(results):\n",
        "        if j == 0: # 처음에는 예측 결과를 전부 가져오기\n",
        "            predict_str += ''.join([word[t] for t in result])\n",
        "        else: # 그 다음에는 마지막 글자만 반복 추가\n",
        "            predict_str += ' '+word[result[-1]]\n",
        "\n",
        "    print(predict_str)"
      ],
      "metadata": {
        "colab": {
          "base_uri": "https://localhost:8080/"
        },
        "outputId": "1d413431-6892-4cc0-ffaf-68eda4c7131a",
        "id": "R1w98m0n1n5p"
      },
      "execution_count": 87,
      "outputs": [
        {
          "output_type": "stream",
          "name": "stdout",
          "text": [
            "제게 을을을을을을을 을 을 을 을 을 을 을 을 을 을 을 을 을 을 을 을 을 을 을 을\n",
            "제게 을젊은젊은젊은젊은젊은젊은 을 젊은 후회 젊은 젊은 젊은 젊은 을 젊은 을 을 젊은 젊은 젊은 을 젊은 을 을 을 젊은\n",
            "제게 젊은젊은젊은젊은젊은받겠지젊은 젊은 후회 후회 젊은 젊은 젊은 받겠지 젊은 젊은 후회 을 젊은 젊은 젊은 젊은 젊은 후회 젊은 젊은 후회\n",
            "제게 후회젊은후회후회젊은젊은젊은 젊은 후회 후회 젊은 젊은 젊은 모르겠는데 후회 젊은 후회 을 젊은 젊은 젊은 후회 후회 후회 젊은 후회 후회\n",
            "제게 후회젊은후회후회젊은후회젊은 모르겠는데 후회 후회 젊은 후회 젊은 모르겠는데 후회 후회 후회 을 후회 후회 젊은 후회 후회 후회 후회 후회 후회\n",
            "제게 후회젊은후회후회후회후회후회 모르겠는데 후회 후회 젊은 후회 젊은 할 후회 후회 후회 을 후회 후회 젊은 가 후회 후회 후회 후회 후회\n",
            "제게 후회젊은후회젊은후회는받겠지 모르겠는데 의 수가 젊은 후회 받겠지 할 는 후회 후회 을 후회 을 뭐 가 후회 후회 누구 모르겠는데 후회\n",
            "제게 젊은젊은후회젊은는는받겠지 모르겠는데 의 수가 젊은 할 받겠지 할 는 후회 후회 을 누구 을 뭐 가 젊은 후회 누구 모르겠는데 후회\n",
            "제게 젊은젊은후회젊은는는나 모르겠는데 의 수가 젊은 할 받겠지 할 는 후회 후회 을 누구 을 뭐 가 젊은 후회 누구 모르겠는데 의\n",
            "제게 젊은젊은할수가는는나 모르겠는데 의 수가 젊은 있나나도 받겠지 할 는 후회 사랑 을 누구 을 뭐 가 젊은 후회 누구 모르겠는데 의\n",
            "제게 젊은젊은할수가는는나 모르겠는데 의 수가 젊은 있나나도 받겠지 할 는 후회 사랑 을 누구 가 뭐 가 젊은 후회 누구 모르겠는데 의\n",
            "제게 젊은젊은할받겠지는는나 모르겠는데 의 수가 젊은 있나나도 받겠지 할 는 후회 사랑 을 누구 가 뭐 가 젊은 후회 누구 모르겠는데 의\n",
            "제게 젊은젊은할받겠지는는나 모르겠는데 의 수가 젊은 있나나도 받겠지 할 는 후회 사랑 을 누구 가 뭐 가 젊은 후회 사랑 모르겠는데 의\n",
            "제게 젊은젊은할받겠지는는나 모르겠는데 의 수가 젊은 있나나도 받겠지 할 는 후회 사랑 을 누구 가 뭐 가 젊은 후회 사랑 모르겠는데 의\n",
            "제게 젊은젊은할받겠지는는나 모르겠는데 의 수가 젊은 있나나도 받겠지 할 는 후회 사랑 을 누구 가 뭐 가 젊은 후회 사랑 을 의\n",
            "제게 젊은젊은할받겠지는는나 모르겠는데 의 수가 젊은 있나나도 받겠지 할 는 후회 사랑 을 누구 가 뭐 가 젊은 후회 사랑 을 의\n",
            "제게 젊은젊은할받겠지는는나 모르겠는데 의 수가 젊은 있나나도 받겠지 할 는 후회 사랑 을 누구 가 뭐 가 젊은 후회 사랑 을 의\n",
            "제게 젊은젊은있나나도뭔는는나 모르겠는데 의 수가 젊은 있나나도 받겠지 할 는 후회 사랑 을 누구 가 뭐 가 젊은 후회 사랑 을 누구\n",
            "제게 뭔젊은있나나도뭔는는나 모르겠는데 의 수가 젊은 있나나도 받겠지 할 는 후회 사랑 을 누구 가 뭐 가 젊은 후회 사랑 지 는\n",
            "제게 뭔젊은있나나도뭔는는나 모르겠는데 의 수가 젊은 있나나도 받겠지 할 는 후회 사랑 을 누구 가 뭐 가 젊은 후회 언젠가 지 는\n",
            "제게 뭔젊은있나나도뭔는는나 모르겠는데 의 수가 젊은 있나나도 받겠지 할 는 후회 사랑 을 누구 가 뭐 가 젊은 후회 언젠가 지 는\n",
            "제게 뭔젊은있나나도뭔는는나 모르겠는데 의 수가 젊은 있나나도 받겠지 할 는 후회 사랑 을 누구 가 뭐 가 젊은 후회 언젠가 지 는\n",
            "제게 뭔젊은있나나도뭔나도는나 모르겠는데 의 수가 젊은 있나나도 받겠지 할 는 후회 사랑 을 누구 가 뭐 가 젊은 후회 언젠가 지 피\n",
            "제게 뭔젊은있나나도뭔나도는나 모르겠는데 의 수가 젊은 있나나도 받겠지 할 는 후회 사랑 을 누구 가 뭐 가 젊은 후회 언젠가 지 피\n",
            "제게 뭔젊은있나나도뭔나도는나 모르겠는데 의 수가 젊은 있나나도 받겠지 할 는 후회 사랑 을 누구 가 뭐 가 젊은 후회 언젠가 지 피\n",
            "제게 뭔젊은있나나도뭔나도는나 모르겠는데 의 수가 젊은 있나나도 받겠지 할 는 후회 사랑 을 누구 가 뭐 가 젊은 후회 언젠가 지 피\n",
            "제게 뭔젊은있나나도뭔나도는나 모르겠는데 의 수가 젊은 있나나도 받겠지 할 는 후회 사랑 을 누구 가 뭐 가 젊은 후회 언젠가 지 피\n",
            "제게 뭔젊은있나나도뭔나도는나 모르겠는데 의 수가 젊은 있나나도 받겠지 할 는 후회 사랑 을 누구 가 뭐 가 젊은 후회 언젠가 지 피\n",
            "제게 뭔젊은있나나도뭔나도는나 모르겠는데 의 수가 젊은 있나나도 받겠지 할 는 후회 사랑 을 누구 가 뭐 가 젊은 후회 언젠가 지 피\n",
            "제게 뭔젊은있나나도뭔나도는나 모르겠는데 의 수가 젊은 있나나도 받겠지 할 는 후회 사랑 을 누구 가 뭐 가 젊은 후회 언젠가 지 피\n",
            "제게 뭔젊은있나나도뭔나도는나 모르겠는데 의 수가 젊은 있나나도 받겠지 할 는 후회 사랑 을 누구 가 뭐 가 젊은 후회 언젠가 지 피\n",
            "제게 뭔젊은있나나도뭔나도는나 모르겠는데 의 수가 젊은 있나나도 받겠지 할 는 후회 사랑 을 누구 가 뭐 가 젊은 후회 언젠가 지 피\n",
            "제게 뭔젊은버림을뭔나도는나 모르겠는데 의 수가 젊은 있나나도 받겠지 할 는 후회 사랑 을 누구 가 뭐 가 젊은 후회 언젠가 지 피\n",
            "제게 뭔젊은버림을뭔나도는나 모르겠는데 의 수가 젊은 있나나도 받겠지 할 는 후회 사랑 을 누구 가 뭐 가 젊은 후회 언젠가 지 피\n",
            "제게 뭔젊은버림을뭔나도는나 모르겠는데 의 수가 젊은 있나나도 받겠지 할 는 후회 사랑 을 누구 가 뭐 가 젊은 후회 언젠가 지 피\n",
            "제게 뭔젊은버림을뭔나도는나 모르겠는데 의 수가 젊은 있나나도 받겠지 할 는 후회 사랑 을 누구 가 뭐 가 젊은 후회 언젠가 지 피\n",
            "제게 뭔젊은버림을뭔나도는나 모르겠는데 의 수가 젊은 있나나도 받겠지 할 는 후회 사랑 을 누구 가 뭐 가 젊은 후회 언젠가 지 피\n",
            "제게 뭔젊은버림을뭔나도는나 모르겠는데 의 수가 젊은 있나나도 받겠지 할 는 후회 사랑 을 누구 가 뭐 가 젊은 후회 언젠가 지 피\n",
            "제게 뭔젊은버림을뭔나도는나 모르겠는데 의 수가 젊은 있나나도 받겠지 할 는 후회 사랑 을 누구 가 뭐 가 젊은 후회 언젠가 지 피\n",
            "제게 뭔젊은버림을뭔나도는나 모르겠는데 의 수가 젊은 있나나도 받겠지 할 는 후회 사랑 을 누구 가 뭐 가 젊은 후회 언젠가 지 피\n",
            "제게 뭔젊은버림을뭔나도는나 모르겠는데 의 수가 젊은 있나나도 받겠지 할 는 후회 사랑 을 누구 가 뭐 가 젊은 후회 언젠가 지 피\n",
            "제게 뭔젊은버림을뭔나도는나 모르겠는데 의 수가 젊은 있나나도 받겠지 할 는 후회 사랑 을 누구 가 뭐 가 젊은 후회 언젠가 지 피\n",
            "제게 뭔젊은버림을뭔나도는나 모르겠는데 의 수가 젊은 있나나도 받겠지 할 는 후회 사랑 을 누구 가 뭐 가 젊은 후회 언젠가 지 피\n",
            "제게 뭔젊은버림을뭔나도는나 모르겠는데 의 수가 젊은 있나나도 받겠지 할 는 후회 사랑 을 누구 가 뭐 가 젊은 후회 언젠가 지 피\n",
            "제게 뭔젊은버림을뭔나도는나 모르겠는데 의 수가 젊은 있나나도 받겠지 할 는 후회 사랑 을 누구 가 뭐 가 젊은 후회 언젠가 지 피\n",
            "제게 뭔젊은버림을뭔나도는나 모르겠는데 의 수가 젊은 있나나도 받겠지 할 는 후회 사랑 을 누구 가 뭐 가 젊은 후회 언젠가 지 피\n",
            "제게 뭔젊은버림을뭔나도는나 모르겠는데 의 수가 젊은 있나나도 받겠지 할 는 후회 사랑 을 누구 가 뭐 가 젊은 후회 언젠가 지 피\n",
            "제게 뭔젊은버림을뭔나도는나 모르겠는데 의 수가 젊은 있나나도 받겠지 할 는 후회 사랑 을 누구 가 뭐 가 젊은 후회 언젠가 지 피\n",
            "제게 뭔젊은버림을뭔나도는나 모르겠는데 의 수가 젊은 있나나도 받겠지 할 는 후회 사랑 을 누구 가 뭐 가 젊은 후회 언젠가 지 피\n",
            "제게 뭔젊은버림을뭔나도는나 모르겠는데 의 수가 젊은 있나나도 받겠지 할 는 후회 사랑 을 누구 가 뭐 가 젊은 후회 언젠가 지 피\n",
            "제게 뭔젊은버림을뭔나도는나 모르겠는데 의 수가 젊은 있나나도 받겠지 할 는 후회 사랑 을 누구 가 뭐 가 젊은 후회 언젠가 지 피\n",
            "제게 뭔젊은버림을뭔나도는나 모르겠는데 의 수가 젊은 있나나도 받겠지 할 는 후회 사랑 을 누구 가 뭐 가 젊은 후회 언젠가 지 피\n",
            "제게 뭔젊은버림을뭔나도는나 모르겠는데 의 수가 젊은 있나나도 받겠지 할 는 후회 사랑 을 누구 가 뭐 가 젊은 후회 언젠가 지 피\n",
            "제게 뭔젊은버림을뭔나도는나 모르겠는데 의 수가 젊은 있나나도 받겠지 할 는 후회 사랑 을 누구 가 뭐 가 젊은 후회 언젠가 지 피\n",
            "제게 뭔젊은버림을뭔나도는나 모르겠는데 의 수가 젊은 있나나도 받겠지 할 는 후회 사랑 을 누구 가 뭐 가 젊은 후회 언젠가 지 피\n",
            "제게 뭔젊은버림을뭔나도는나 모르겠는데 의 수가 젊은 있나나도 받겠지 할 는 후회 사랑 을 누구 가 뭐 가 젊은 후회 언젠가 지 피\n",
            "제게 뭔젊은버림을뭔나도는나 모르겠는데 의 수가 젊은 있나나도 받겠지 할 는 후회 사랑 을 누구 가 뭐 가 젊은 후회 언젠가 지 피\n",
            "제게 뭔젊은버림을뭔나도는나 모르겠는데 의 수가 젊은 있나나도 받겠지 할 는 후회 사랑 을 누구 가 뭐 가 젊은 후회 언젠가 지 피\n",
            "제게 뭔젊은버림을뭔나도는나 모르겠는데 의 수가 젊은 있나나도 받겠지 할 는 후회 사랑 을 누구 가 뭐 가 젊은 후회 언젠가 지 피\n",
            "제게 그래도젊은버림을뭔나도는나 모르겠는데 의 수가 젊은 있나나도 받겠지 할 는 후회 사랑 을 누구 가 뭐 가 젊은 후회 언젠가 지 피\n",
            "제게 그래도젊은버림을뭔나도는나 모르겠는데 의 수가 젊은 있나나도 받겠지 할 는 후회 사랑 을 누구 가 뭐 가 젊은 후회 언젠가 지 피\n",
            "제게 그래도젊은버림을뭔나도는나 모르겠는데 의 수가 젊은 있나나도 받겠지 할 는 후회 사랑 을 누구 가 뭐 가 젊은 후회 언젠가 지 피\n",
            "제게 그래도젊은버림을뭔나도는나 모르겠는데 의 수가 젊은 있나나도 받겠지 할 는 후회 사랑 을 누구 가 뭐 가 젊은 후회 언젠가 지 피\n",
            "제게 그래도젊은버림을뭔나도는나 모르겠는데 의 수가 젊은 있나나도 받겠지 할 는 후회 사랑 을 누구 가 뭐 가 젊은 후회 언젠가 지 피\n",
            "제게 그래도젊은버림을뭔나도는나 모르겠는데 의 수가 젊은 있나나도 받겠지 할 는 후회 사랑 을 누구 가 뭐 가 젊은 후회 언젠가 지 피\n",
            "제게 그래도젊은버림을뭔나도는나 모르겠는데 의 수가 젊은 있나나도 받겠지 할 는 후회 사랑 을 누구 가 뭐 가 젊은 후회 언젠가 지 피\n",
            "제게 그래도젊은버림을뭔나도는나 모르겠는데 의 수가 젊은 있나나도 받겠지 할 는 후회 사랑 을 누구 가 뭐 가 젊은 후회 언젠가 지 피\n",
            "제게 그래도젊은버림을뭔나도는나 모르겠는데 의 수가 젊은 있나나도 받겠지 할 는 후회 사랑 을 누구 가 뭐 가 젊은 후회 언젠가 지 피\n",
            "제게 그래도젊은버림을뭔나도는나 모르겠는데 의 수가 젊은 있나나도 받겠지 할 는 후회 사랑 을 누구 가 뭐 가 젊은 후회 언젠가 지 피\n",
            "제게 그래도젊은버림을뭔나도는나 모르겠는데 의 수가 젊은 있나나도 받겠지 할 는 후회 사랑 을 누구 가 뭐 가 젊은 후회 언젠가 지 피\n",
            "제게 그래도젊은버림을뭔나도는나 모르겠는데 의 수가 젊은 있나나도 받겠지 할 는 후회 사랑 을 누구 가 뭐 가 젊은 후회 언젠가 지 피\n",
            "제게 뭔젊은버림을뭔나도는나 모르겠는데 의 수가 젊은 있나나도 받겠지 할 는 후회 사랑 을 누구 가 뭐 가 젊은 후회 언젠가 지 피\n",
            "제게 뭔젊은버림을뭔나도는나 모르겠는데 의 수가 젊은 있나나도 받겠지 할 는 후회 사랑 을 누구 가 뭐 가 젊은 후회 언젠가 지 피\n",
            "제게 뭔젊은버림을뭔나도는나 모르겠는데 의 수가 젊은 있나나도 받겠지 할 는 후회 사랑 을 누구 가 뭐 가 젊은 후회 언젠가 지 피\n",
            "제게 뭔젊은버림을뭔나도는나 모르겠는데 의 수가 젊은 있나나도 받겠지 할 는 후회 사랑 을 누구 가 뭐 가 젊은 후회 언젠가 지 피\n",
            "제게 뭔젊은버림을뭔나도는나 모르겠는데 의 수가 젊은 있나나도 받겠지 할 는 후회 사랑 을 누구 가 뭐 가 젊은 후회 언젠가 지 피\n",
            "제게 뭔젊은버림을뭔나도는나 모르겠는데 의 수가 젊은 있나나도 받겠지 할 는 후회 사랑 을 누구 가 뭐 가 젊은 후회 언젠가 지 피\n",
            "제게 뭔젊은버림을뭔나도는나 모르겠는데 의 수가 젊은 있나나도 받겠지 할 는 후회 사랑 을 누구 가 뭐 가 젊은 후회 언젠가 지 피\n",
            "제게 뭔젊은버림을뭔나도는나 모르겠는데 의 수가 젊은 있나나도 받겠지 할 는 후회 사랑 을 누구 가 뭐 가 젊은 후회 언젠가 지 피\n",
            "제게 뭔젊은버림을뭔나도는나 모르겠는데 의 수가 젊은 있나나도 받겠지 할 는 후회 사랑 을 누구 가 뭐 가 젊은 후회 언젠가 지 피\n",
            "제게 뭔젊은버림을뭔나도는나 모르겠는데 의 수가 젊은 있나나도 받겠지 할 는 후회 사랑 을 누구 가 뭐 가 젊은 후회 언젠가 지 피\n",
            "제게 뭔젊은버림을뭔나도는나 모르겠는데 의 수가 젊은 있나나도 받겠지 할 는 후회 사랑 을 누구 가 뭐 가 젊은 후회 언젠가 지 피\n",
            "제게 뭔젊은버림을뭔나도는나 모르겠는데 의 수가 젊은 있나나도 받겠지 할 는 후회 사랑 을 누구 가 뭐 가 젊은 후회 언젠가 지 피\n",
            "제게 뭔젊은버림을뭔나도는나 모르겠는데 의 수가 젊은 있나나도 받겠지 할 는 후회 사랑 을 누구 가 뭐 가 젊은 후회 언젠가 지 피\n",
            "제게 뭔젊은버림을뭔나도는나 모르겠는데 의 수가 젊은 있나나도 받겠지 할 는 후회 사랑 을 누구 가 뭐 가 젊은 후회 언젠가 지 피\n",
            "제게 뭔젊은버림을뭔나도는나 모르겠는데 의 수가 젊은 있나나도 받겠지 할 는 후회 사랑 을 누구 가 뭐 가 젊은 후회 언젠가 지 피\n",
            "제게 뭔젊은버림을뭔나도는나 모르겠는데 의 수가 젊은 있나나도 받겠지 할 는 후회 사랑 을 누구 가 뭐 가 젊은 후회 언젠가 지 피\n",
            "제게 뭔젊은버림을뭔나도는나 모르겠는데 의 수가 젊은 있나나도 받겠지 할 는 후회 사랑 을 누구 가 뭐 가 젊은 후회 언젠가 지 피\n",
            "제게 뭔젊은버림을뭔나도는나 모르겠는데 의 수가 젊은 있나나도 받겠지 할 는 후회 사랑 을 누구 가 뭐 가 젊은 후회 언젠가 지 피\n",
            "제게 뭔젊은버림을뭔나도는나 모르겠는데 의 수가 젊은 있나나도 받겠지 할 는 후회 사랑 을 누구 가 뭐 가 젊은 후회 언젠가 지 피\n",
            "제게 뭔젊은버림을뭔나도는나 모르겠는데 의 수가 젊은 있나나도 받겠지 할 는 후회 사랑 을 누구 가 뭐 가 젊은 후회 언젠가 지 피\n",
            "제게 뭔젊은버림을뭔나도는나 모르겠는데 의 수가 젊은 있나나도 받겠지 할 는 후회 사랑 을 누구 가 뭐 가 젊은 후회 언젠가 지 피\n",
            "제게 뭔젊은버림을뭔나도는나 모르겠는데 의 수가 젊은 있나나도 받겠지 할 는 후회 사랑 을 누구 가 뭐 가 젊은 후회 언젠가 지 피\n",
            "제게 뭔젊은버림을뭔나도는나 모르겠는데 의 수가 젊은 있나나도 받겠지 할 는 후회 사랑 을 누구 가 뭐 가 젊은 후회 언젠가 지 피\n",
            "제게 뭔젊은버림을뭔나도는나 모르겠는데 의 수가 젊은 있나나도 받겠지 할 는 후회 사랑 을 누구 가 뭐 가 젊은 후회 언젠가 지 피\n",
            "제게 뭔젊은버림을뭔나도는나 모르겠는데 의 수가 젊은 있나나도 받겠지 할 는 후회 사랑 을 누구 가 뭐 가 젊은 후회 언젠가 지 피\n",
            "제게 뭔젊은버림을뭔나도는나 모르겠는데 의 수가 젊은 있나나도 받겠지 할 는 후회 사랑 을 누구 가 뭐 가 젊은 후회 언젠가 지 피\n",
            "제게 뭔젊은버림을뭔나도는나 모르겠는데 의 수가 젊은 있나나도 받겠지 할 는 후회 사랑 을 누구 가 뭐 가 젊은 후회 언젠가 지 피\n",
            "제게 뭔젊은버림을뭔나도는나 모르겠는데 의 수가 젊은 있나나도 받겠지 할 는 후회 사랑 을 누구 가 뭐 가 젊은 후회 언젠가 지 피\n",
            "제게 뭔젊은버림을뭔나도는나 모르겠는데 의 수가 젊은 있나나도 받겠지 할 는 후회 사랑 을 누구 가 뭐 가 젊은 후회 언젠가 지 피\n"
          ]
        }
      ]
    },
    {
      "cell_type": "code",
      "source": [
        "predict_str"
      ],
      "metadata": {
        "colab": {
          "base_uri": "https://localhost:8080/",
          "height": 36
        },
        "id": "U1UnSv5B2nDA",
        "outputId": "cdd90ea0-53cc-4fe9-8370-b60fa8f6e512"
      },
      "execution_count": 88,
      "outputs": [
        {
          "output_type": "execute_result",
          "data": {
            "text/plain": [
              "'제게 뭔젊은버림을뭔나도는나 모르겠는데 의 수가 젊은 있나나도 받겠지 할 는 후회 사랑 을 누구 가 뭐 가 젊은 후회 언젠가 지 피'"
            ],
            "application/vnd.google.colaboratory.intrinsic+json": {
              "type": "string"
            }
          },
          "metadata": {},
          "execution_count": 88
        }
      ]
    },
    {
      "cell_type": "code",
      "source": [
        "sentence"
      ],
      "metadata": {
        "colab": {
          "base_uri": "https://localhost:8080/",
          "height": 36
        },
        "id": "Jyr28MVn3E2z",
        "outputId": "e0b1702f-6b30-4890-d61f-27d109a82dc1"
      },
      "execution_count": 89,
      "outputs": [
        {
          "output_type": "execute_result",
          "data": {
            "text/plain": [
              "'젊은 피가 젊은 사랑을 후회 할 수가 있나나도 뭐가 뭔지 모르겠는데언젠가는 나도 누구의 버림을 받겠지그래도 나는 아무 상관없는 걸'"
            ],
            "application/vnd.google.colaboratory.intrinsic+json": {
              "type": "string"
            }
          },
          "metadata": {},
          "execution_count": 89
        }
      ]
    },
    {
      "cell_type": "code",
      "source": [
        "cor = 0\n",
        "for i in range(len(sentence)):\n",
        "  if list(predict_str)[i] == list(sentence)[i]: # sentence의 경우 B가 없으므로\n",
        "    cor +=1\n",
        "\n",
        "print(f'정확도 {cor/len(predict_str)*100:.2f}%')\n",
        "# 같은 로직을 거쳤지만 정확도가 많이 떨어진다."
      ],
      "metadata": {
        "colab": {
          "base_uri": "https://localhost:8080/"
        },
        "id": "tKdcECPv3jB_",
        "outputId": "93feaa8f-065b-4d9e-8891-86385daa6673"
      },
      "execution_count": 90,
      "outputs": [
        {
          "output_type": "stream",
          "name": "stdout",
          "text": [
            "정확도 12.50%\n"
          ]
        }
      ]
    }
  ]
}