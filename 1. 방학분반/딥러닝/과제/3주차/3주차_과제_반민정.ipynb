{
  "nbformat": 4,
  "nbformat_minor": 0,
  "metadata": {
    "colab": {
      "name": "3주차 과제 - 반민정.ipynb",
      "provenance": [],
      "collapsed_sections": []
    },
    "kernelspec": {
      "name": "python3",
      "display_name": "Python 3"
    },
    "language_info": {
      "name": "python"
    }
  },
  "cells": [
    {
      "cell_type": "code",
      "execution_count": 1,
      "metadata": {
        "id": "zaivNhHfBa2D"
      },
      "outputs": [],
      "source": [
        "import torch\n",
        "from torch import nn, optim\n",
        "from sklearn.datasets import load_breast_cancer\n",
        "from torch.utils.data import  TensorDataset, DataLoader\n",
        "from sklearn.model_selection import train_test_split\n",
        "from sklearn.metrics import accuracy_score\n",
        "import numpy as np\n",
        "import pandas as pd\n",
        "import seaborn as sns\n",
        "from sklearn.preprocessing import StandardScaler\n",
        "import matplotlib.pyplot as plt"
      ]
    },
    {
      "cell_type": "code",
      "source": [
        "from google.colab import drive\n",
        "drive.mount('/content/drive')"
      ],
      "metadata": {
        "colab": {
          "base_uri": "https://localhost:8080/"
        },
        "id": "0IKdckgfJwEH",
        "outputId": "f2466eef-7b58-4653-cf5c-ad17517a5b52"
      },
      "execution_count": 2,
      "outputs": [
        {
          "output_type": "stream",
          "name": "stdout",
          "text": [
            "Mounted at /content/drive\n"
          ]
        }
      ]
    },
    {
      "cell_type": "code",
      "source": [
        "device = 'cuda' if torch.cuda.is_available() else 'cpu'\n",
        "\n",
        "torch.manual_seed(777)\n",
        "if device == \"cuda\":\n",
        "  torch.cuda.manual_seed_all(777)"
      ],
      "metadata": {
        "id": "Mu7_wcW7M08S"
      },
      "execution_count": 3,
      "outputs": []
    },
    {
      "cell_type": "markdown",
      "source": [
        "# 1. 데이터 살펴보기"
      ],
      "metadata": {
        "id": "qGvzgbKkMtTy"
      }
    },
    {
      "cell_type": "markdown",
      "source": [
        "Campus Recruitment https://www.kaggle.com/datasets/benroshan/factors-affecting-campus-placement"
      ],
      "metadata": {
        "id": "gc4Z7A4hWKgO"
      }
    },
    {
      "cell_type": "code",
      "source": [
        "df = pd.read_csv('/content/drive/MyDrive/쿠빅/딥러닝 방학세션/3주차 과제/Placement_Data_Full_Class.csv')"
      ],
      "metadata": {
        "id": "50IUYtdmJyk5"
      },
      "execution_count": 4,
      "outputs": []
    },
    {
      "cell_type": "code",
      "source": [
        "df.info()"
      ],
      "metadata": {
        "colab": {
          "base_uri": "https://localhost:8080/"
        },
        "id": "vpDkDe52Kcee",
        "outputId": "7ff4f425-1e88-4126-edc3-d4282463b003"
      },
      "execution_count": 5,
      "outputs": [
        {
          "output_type": "stream",
          "name": "stdout",
          "text": [
            "<class 'pandas.core.frame.DataFrame'>\n",
            "RangeIndex: 215 entries, 0 to 214\n",
            "Data columns (total 15 columns):\n",
            " #   Column          Non-Null Count  Dtype  \n",
            "---  ------          --------------  -----  \n",
            " 0   sl_no           215 non-null    int64  \n",
            " 1   gender          215 non-null    object \n",
            " 2   ssc_p           215 non-null    float64\n",
            " 3   ssc_b           215 non-null    object \n",
            " 4   hsc_p           215 non-null    float64\n",
            " 5   hsc_b           215 non-null    object \n",
            " 6   hsc_s           215 non-null    object \n",
            " 7   degree_p        215 non-null    float64\n",
            " 8   degree_t        215 non-null    object \n",
            " 9   workex          215 non-null    object \n",
            " 10  etest_p         215 non-null    float64\n",
            " 11  specialisation  215 non-null    object \n",
            " 12  mba_p           215 non-null    float64\n",
            " 13  status          215 non-null    object \n",
            " 14  salary          148 non-null    float64\n",
            "dtypes: float64(6), int64(1), object(8)\n",
            "memory usage: 25.3+ KB\n"
          ]
        }
      ]
    },
    {
      "cell_type": "markdown",
      "source": [
        "ssc_p: Secondary Education percentage- 10th Grade\\\n",
        "ssc_b: Board of Education- Central/ Others\\\n",
        "hsc_p: Higher Secondary Education percentage- 12th Grade\\\n",
        "hsc_b: Board of Education- Central/ Others\\\n",
        "hsc_s: Specialization in Higher Secondary Education\\\n",
        "degree_p: Degree Percentage\\\n",
        "degree_t: Under Graduation(Degree type)- Field of degree education\\\n",
        "workex: Work Experience\\\n",
        "etest_p: Employability test percentage ( conducted by college)\\\n",
        "specialisation: Post Graduation(MBA)- Specialization\\\n",
        "mba_p: MBA percentage\\\n",
        "status: Status of placement- Placed/Not placed\\\n",
        "salary: Salary offered by corporate to candidates"
      ],
      "metadata": {
        "id": "Ojqhi8WxNrNP"
      }
    },
    {
      "cell_type": "code",
      "source": [
        "df.describe()"
      ],
      "metadata": {
        "colab": {
          "base_uri": "https://localhost:8080/",
          "height": 300
        },
        "id": "edXgpxdRNNrk",
        "outputId": "883c4964-c041-429c-ac1d-d87150064ade"
      },
      "execution_count": 6,
      "outputs": [
        {
          "output_type": "execute_result",
          "data": {
            "text/plain": [
              "            sl_no       ssc_p       hsc_p    degree_p     etest_p       mba_p  \\\n",
              "count  215.000000  215.000000  215.000000  215.000000  215.000000  215.000000   \n",
              "mean   108.000000   67.303395   66.333163   66.370186   72.100558   62.278186   \n",
              "std     62.209324   10.827205   10.897509    7.358743   13.275956    5.833385   \n",
              "min      1.000000   40.890000   37.000000   50.000000   50.000000   51.210000   \n",
              "25%     54.500000   60.600000   60.900000   61.000000   60.000000   57.945000   \n",
              "50%    108.000000   67.000000   65.000000   66.000000   71.000000   62.000000   \n",
              "75%    161.500000   75.700000   73.000000   72.000000   83.500000   66.255000   \n",
              "max    215.000000   89.400000   97.700000   91.000000   98.000000   77.890000   \n",
              "\n",
              "              salary  \n",
              "count     148.000000  \n",
              "mean   288655.405405  \n",
              "std     93457.452420  \n",
              "min    200000.000000  \n",
              "25%    240000.000000  \n",
              "50%    265000.000000  \n",
              "75%    300000.000000  \n",
              "max    940000.000000  "
            ],
            "text/html": [
              "\n",
              "  <div id=\"df-c964383c-34d7-445f-8dbd-e9ceecec1c98\">\n",
              "    <div class=\"colab-df-container\">\n",
              "      <div>\n",
              "<style scoped>\n",
              "    .dataframe tbody tr th:only-of-type {\n",
              "        vertical-align: middle;\n",
              "    }\n",
              "\n",
              "    .dataframe tbody tr th {\n",
              "        vertical-align: top;\n",
              "    }\n",
              "\n",
              "    .dataframe thead th {\n",
              "        text-align: right;\n",
              "    }\n",
              "</style>\n",
              "<table border=\"1\" class=\"dataframe\">\n",
              "  <thead>\n",
              "    <tr style=\"text-align: right;\">\n",
              "      <th></th>\n",
              "      <th>sl_no</th>\n",
              "      <th>ssc_p</th>\n",
              "      <th>hsc_p</th>\n",
              "      <th>degree_p</th>\n",
              "      <th>etest_p</th>\n",
              "      <th>mba_p</th>\n",
              "      <th>salary</th>\n",
              "    </tr>\n",
              "  </thead>\n",
              "  <tbody>\n",
              "    <tr>\n",
              "      <th>count</th>\n",
              "      <td>215.000000</td>\n",
              "      <td>215.000000</td>\n",
              "      <td>215.000000</td>\n",
              "      <td>215.000000</td>\n",
              "      <td>215.000000</td>\n",
              "      <td>215.000000</td>\n",
              "      <td>148.000000</td>\n",
              "    </tr>\n",
              "    <tr>\n",
              "      <th>mean</th>\n",
              "      <td>108.000000</td>\n",
              "      <td>67.303395</td>\n",
              "      <td>66.333163</td>\n",
              "      <td>66.370186</td>\n",
              "      <td>72.100558</td>\n",
              "      <td>62.278186</td>\n",
              "      <td>288655.405405</td>\n",
              "    </tr>\n",
              "    <tr>\n",
              "      <th>std</th>\n",
              "      <td>62.209324</td>\n",
              "      <td>10.827205</td>\n",
              "      <td>10.897509</td>\n",
              "      <td>7.358743</td>\n",
              "      <td>13.275956</td>\n",
              "      <td>5.833385</td>\n",
              "      <td>93457.452420</td>\n",
              "    </tr>\n",
              "    <tr>\n",
              "      <th>min</th>\n",
              "      <td>1.000000</td>\n",
              "      <td>40.890000</td>\n",
              "      <td>37.000000</td>\n",
              "      <td>50.000000</td>\n",
              "      <td>50.000000</td>\n",
              "      <td>51.210000</td>\n",
              "      <td>200000.000000</td>\n",
              "    </tr>\n",
              "    <tr>\n",
              "      <th>25%</th>\n",
              "      <td>54.500000</td>\n",
              "      <td>60.600000</td>\n",
              "      <td>60.900000</td>\n",
              "      <td>61.000000</td>\n",
              "      <td>60.000000</td>\n",
              "      <td>57.945000</td>\n",
              "      <td>240000.000000</td>\n",
              "    </tr>\n",
              "    <tr>\n",
              "      <th>50%</th>\n",
              "      <td>108.000000</td>\n",
              "      <td>67.000000</td>\n",
              "      <td>65.000000</td>\n",
              "      <td>66.000000</td>\n",
              "      <td>71.000000</td>\n",
              "      <td>62.000000</td>\n",
              "      <td>265000.000000</td>\n",
              "    </tr>\n",
              "    <tr>\n",
              "      <th>75%</th>\n",
              "      <td>161.500000</td>\n",
              "      <td>75.700000</td>\n",
              "      <td>73.000000</td>\n",
              "      <td>72.000000</td>\n",
              "      <td>83.500000</td>\n",
              "      <td>66.255000</td>\n",
              "      <td>300000.000000</td>\n",
              "    </tr>\n",
              "    <tr>\n",
              "      <th>max</th>\n",
              "      <td>215.000000</td>\n",
              "      <td>89.400000</td>\n",
              "      <td>97.700000</td>\n",
              "      <td>91.000000</td>\n",
              "      <td>98.000000</td>\n",
              "      <td>77.890000</td>\n",
              "      <td>940000.000000</td>\n",
              "    </tr>\n",
              "  </tbody>\n",
              "</table>\n",
              "</div>\n",
              "      <button class=\"colab-df-convert\" onclick=\"convertToInteractive('df-c964383c-34d7-445f-8dbd-e9ceecec1c98')\"\n",
              "              title=\"Convert this dataframe to an interactive table.\"\n",
              "              style=\"display:none;\">\n",
              "        \n",
              "  <svg xmlns=\"http://www.w3.org/2000/svg\" height=\"24px\"viewBox=\"0 0 24 24\"\n",
              "       width=\"24px\">\n",
              "    <path d=\"M0 0h24v24H0V0z\" fill=\"none\"/>\n",
              "    <path d=\"M18.56 5.44l.94 2.06.94-2.06 2.06-.94-2.06-.94-.94-2.06-.94 2.06-2.06.94zm-11 1L8.5 8.5l.94-2.06 2.06-.94-2.06-.94L8.5 2.5l-.94 2.06-2.06.94zm10 10l.94 2.06.94-2.06 2.06-.94-2.06-.94-.94-2.06-.94 2.06-2.06.94z\"/><path d=\"M17.41 7.96l-1.37-1.37c-.4-.4-.92-.59-1.43-.59-.52 0-1.04.2-1.43.59L10.3 9.45l-7.72 7.72c-.78.78-.78 2.05 0 2.83L4 21.41c.39.39.9.59 1.41.59.51 0 1.02-.2 1.41-.59l7.78-7.78 2.81-2.81c.8-.78.8-2.07 0-2.86zM5.41 20L4 18.59l7.72-7.72 1.47 1.35L5.41 20z\"/>\n",
              "  </svg>\n",
              "      </button>\n",
              "      \n",
              "  <style>\n",
              "    .colab-df-container {\n",
              "      display:flex;\n",
              "      flex-wrap:wrap;\n",
              "      gap: 12px;\n",
              "    }\n",
              "\n",
              "    .colab-df-convert {\n",
              "      background-color: #E8F0FE;\n",
              "      border: none;\n",
              "      border-radius: 50%;\n",
              "      cursor: pointer;\n",
              "      display: none;\n",
              "      fill: #1967D2;\n",
              "      height: 32px;\n",
              "      padding: 0 0 0 0;\n",
              "      width: 32px;\n",
              "    }\n",
              "\n",
              "    .colab-df-convert:hover {\n",
              "      background-color: #E2EBFA;\n",
              "      box-shadow: 0px 1px 2px rgba(60, 64, 67, 0.3), 0px 1px 3px 1px rgba(60, 64, 67, 0.15);\n",
              "      fill: #174EA6;\n",
              "    }\n",
              "\n",
              "    [theme=dark] .colab-df-convert {\n",
              "      background-color: #3B4455;\n",
              "      fill: #D2E3FC;\n",
              "    }\n",
              "\n",
              "    [theme=dark] .colab-df-convert:hover {\n",
              "      background-color: #434B5C;\n",
              "      box-shadow: 0px 1px 3px 1px rgba(0, 0, 0, 0.15);\n",
              "      filter: drop-shadow(0px 1px 2px rgba(0, 0, 0, 0.3));\n",
              "      fill: #FFFFFF;\n",
              "    }\n",
              "  </style>\n",
              "\n",
              "      <script>\n",
              "        const buttonEl =\n",
              "          document.querySelector('#df-c964383c-34d7-445f-8dbd-e9ceecec1c98 button.colab-df-convert');\n",
              "        buttonEl.style.display =\n",
              "          google.colab.kernel.accessAllowed ? 'block' : 'none';\n",
              "\n",
              "        async function convertToInteractive(key) {\n",
              "          const element = document.querySelector('#df-c964383c-34d7-445f-8dbd-e9ceecec1c98');\n",
              "          const dataTable =\n",
              "            await google.colab.kernel.invokeFunction('convertToInteractive',\n",
              "                                                     [key], {});\n",
              "          if (!dataTable) return;\n",
              "\n",
              "          const docLinkHtml = 'Like what you see? Visit the ' +\n",
              "            '<a target=\"_blank\" href=https://colab.research.google.com/notebooks/data_table.ipynb>data table notebook</a>'\n",
              "            + ' to learn more about interactive tables.';\n",
              "          element.innerHTML = '';\n",
              "          dataTable['output_type'] = 'display_data';\n",
              "          await google.colab.output.renderOutput(dataTable, element);\n",
              "          const docLink = document.createElement('div');\n",
              "          docLink.innerHTML = docLinkHtml;\n",
              "          element.appendChild(docLink);\n",
              "        }\n",
              "      </script>\n",
              "    </div>\n",
              "  </div>\n",
              "  "
            ]
          },
          "metadata": {},
          "execution_count": 6
        }
      ]
    },
    {
      "cell_type": "markdown",
      "source": [
        "Gender"
      ],
      "metadata": {
        "id": "wxKFZw0lvSsj"
      }
    },
    {
      "cell_type": "code",
      "source": [
        "df['gender'].value_counts()"
      ],
      "metadata": {
        "colab": {
          "base_uri": "https://localhost:8080/"
        },
        "id": "73AMJEyRNNv_",
        "outputId": "c743cff2-a8c6-4b4f-cefa-adc711d530c4"
      },
      "execution_count": 7,
      "outputs": [
        {
          "output_type": "execute_result",
          "data": {
            "text/plain": [
              "M    139\n",
              "F     76\n",
              "Name: gender, dtype: int64"
            ]
          },
          "metadata": {},
          "execution_count": 7
        }
      ]
    },
    {
      "cell_type": "code",
      "source": [
        "df[df['gender']== 'M']['status'].value_counts()/len(df[df['gender']== 'M']['status'])"
      ],
      "metadata": {
        "colab": {
          "base_uri": "https://localhost:8080/"
        },
        "id": "VCvyzUYYsUNh",
        "outputId": "f1688286-df70-495c-b8cb-ebc3d5516ea8"
      },
      "execution_count": 8,
      "outputs": [
        {
          "output_type": "execute_result",
          "data": {
            "text/plain": [
              "Placed        0.719424\n",
              "Not Placed    0.280576\n",
              "Name: status, dtype: float64"
            ]
          },
          "metadata": {},
          "execution_count": 8
        }
      ]
    },
    {
      "cell_type": "code",
      "source": [
        "df[df['gender']== 'F']['status'].value_counts()/len(df[df['gender']== 'F']['status'])"
      ],
      "metadata": {
        "colab": {
          "base_uri": "https://localhost:8080/"
        },
        "id": "rnZtV9g1ubZz",
        "outputId": "cc8571f2-9e86-4d1c-b1db-8e0edfa1e98d"
      },
      "execution_count": 9,
      "outputs": [
        {
          "output_type": "execute_result",
          "data": {
            "text/plain": [
              "Placed        0.631579\n",
              "Not Placed    0.368421\n",
              "Name: status, dtype: float64"
            ]
          },
          "metadata": {},
          "execution_count": 9
        }
      ]
    },
    {
      "cell_type": "markdown",
      "source": [
        "Board of Education"
      ],
      "metadata": {
        "id": "e3oHL3xEvYAh"
      }
    },
    {
      "cell_type": "code",
      "source": [
        "df['ssc_b'].value_counts()"
      ],
      "metadata": {
        "colab": {
          "base_uri": "https://localhost:8080/"
        },
        "id": "IyCw-y6XNNpP",
        "outputId": "a3389eab-9f6a-4c86-b11d-5a967da16bac"
      },
      "execution_count": 10,
      "outputs": [
        {
          "output_type": "execute_result",
          "data": {
            "text/plain": [
              "Central    116\n",
              "Others      99\n",
              "Name: ssc_b, dtype: int64"
            ]
          },
          "metadata": {},
          "execution_count": 10
        }
      ]
    },
    {
      "cell_type": "code",
      "source": [
        "df[df['ssc_b']== 'Central']['status'].value_counts()/len(df[df['ssc_b']== 'Central']['status'])"
      ],
      "metadata": {
        "colab": {
          "base_uri": "https://localhost:8080/"
        },
        "id": "DTqEINfjvR7d",
        "outputId": "76f2d6a8-b5d8-43d8-d902-484462bdb8fb"
      },
      "execution_count": 11,
      "outputs": [
        {
          "output_type": "execute_result",
          "data": {
            "text/plain": [
              "Placed        0.672414\n",
              "Not Placed    0.327586\n",
              "Name: status, dtype: float64"
            ]
          },
          "metadata": {},
          "execution_count": 11
        }
      ]
    },
    {
      "cell_type": "code",
      "source": [
        "df[df['ssc_b']== 'Others']['status'].value_counts()/len(df[df['ssc_b']== 'Others']['status'])"
      ],
      "metadata": {
        "colab": {
          "base_uri": "https://localhost:8080/"
        },
        "id": "6UfWE_Ftva1k",
        "outputId": "a0a4cf27-f650-45ac-9551-ef68c0b83fb5"
      },
      "execution_count": 12,
      "outputs": [
        {
          "output_type": "execute_result",
          "data": {
            "text/plain": [
              "Placed        0.707071\n",
              "Not Placed    0.292929\n",
              "Name: status, dtype: float64"
            ]
          },
          "metadata": {},
          "execution_count": 12
        }
      ]
    },
    {
      "cell_type": "markdown",
      "source": [
        "Board of Education"
      ],
      "metadata": {
        "id": "k7vpi53JvnMu"
      }
    },
    {
      "cell_type": "code",
      "source": [
        "df['hsc_b'].value_counts()"
      ],
      "metadata": {
        "colab": {
          "base_uri": "https://localhost:8080/"
        },
        "id": "2kBLVRyFNNm2",
        "outputId": "e85fabb3-c12c-443c-ddda-f14ea430d19a"
      },
      "execution_count": 13,
      "outputs": [
        {
          "output_type": "execute_result",
          "data": {
            "text/plain": [
              "Others     131\n",
              "Central     84\n",
              "Name: hsc_b, dtype: int64"
            ]
          },
          "metadata": {},
          "execution_count": 13
        }
      ]
    },
    {
      "cell_type": "markdown",
      "source": [
        "Specialization in Higher Secondary Education"
      ],
      "metadata": {
        "id": "ypqvteMwv80K"
      }
    },
    {
      "cell_type": "code",
      "source": [
        "df['hsc_s'].value_counts()"
      ],
      "metadata": {
        "colab": {
          "base_uri": "https://localhost:8080/"
        },
        "id": "RZBJfoiUNNj3",
        "outputId": "12b210d3-d3c6-48ef-8409-caf65be901ce"
      },
      "execution_count": 14,
      "outputs": [
        {
          "output_type": "execute_result",
          "data": {
            "text/plain": [
              "Commerce    113\n",
              "Science      91\n",
              "Arts         11\n",
              "Name: hsc_s, dtype: int64"
            ]
          },
          "metadata": {},
          "execution_count": 14
        }
      ]
    },
    {
      "cell_type": "markdown",
      "source": [
        " Under Graduation(Degree type)"
      ],
      "metadata": {
        "id": "jixKT62cwDL7"
      }
    },
    {
      "cell_type": "code",
      "source": [
        "df['degree_t'].value_counts()"
      ],
      "metadata": {
        "colab": {
          "base_uri": "https://localhost:8080/"
        },
        "id": "gTMJkFYeOmOI",
        "outputId": "691e4d00-5176-4b64-e172-5d4eb3dcb47f"
      },
      "execution_count": 15,
      "outputs": [
        {
          "output_type": "execute_result",
          "data": {
            "text/plain": [
              "Comm&Mgmt    145\n",
              "Sci&Tech      59\n",
              "Others        11\n",
              "Name: degree_t, dtype: int64"
            ]
          },
          "metadata": {},
          "execution_count": 15
        }
      ]
    },
    {
      "cell_type": "markdown",
      "source": [
        "Work experience"
      ],
      "metadata": {
        "id": "rX8c_u7ZwEGN"
      }
    },
    {
      "cell_type": "code",
      "source": [
        "df['workex'].value_counts()"
      ],
      "metadata": {
        "colab": {
          "base_uri": "https://localhost:8080/"
        },
        "id": "IOY8ezZVOudM",
        "outputId": "f7621e11-2f94-411f-a6cb-ed88caba7931"
      },
      "execution_count": 16,
      "outputs": [
        {
          "output_type": "execute_result",
          "data": {
            "text/plain": [
              "No     141\n",
              "Yes     74\n",
              "Name: workex, dtype: int64"
            ]
          },
          "metadata": {},
          "execution_count": 16
        }
      ]
    },
    {
      "cell_type": "markdown",
      "source": [
        " Post Graduation(MBA)"
      ],
      "metadata": {
        "id": "KEv186S6wND6"
      }
    },
    {
      "cell_type": "code",
      "source": [
        "df['specialisation'].value_counts()"
      ],
      "metadata": {
        "colab": {
          "base_uri": "https://localhost:8080/"
        },
        "id": "uQU4nrRwOuax",
        "outputId": "947d15d5-a02f-49df-c9a8-e8ff9d8f8bbd"
      },
      "execution_count": 17,
      "outputs": [
        {
          "output_type": "execute_result",
          "data": {
            "text/plain": [
              "Mkt&Fin    120\n",
              "Mkt&HR      95\n",
              "Name: specialisation, dtype: int64"
            ]
          },
          "metadata": {},
          "execution_count": 17
        }
      ]
    },
    {
      "cell_type": "markdown",
      "source": [
        "고용 여부"
      ],
      "metadata": {
        "id": "2qD1V_wiwOBo"
      }
    },
    {
      "cell_type": "code",
      "source": [
        "df['status'].value_counts()"
      ],
      "metadata": {
        "colab": {
          "base_uri": "https://localhost:8080/"
        },
        "id": "J7LiJQL4OuXu",
        "outputId": "df84f2ed-1457-4155-adb9-93ced4e819ca"
      },
      "execution_count": 18,
      "outputs": [
        {
          "output_type": "execute_result",
          "data": {
            "text/plain": [
              "Placed        148\n",
              "Not Placed     67\n",
              "Name: status, dtype: int64"
            ]
          },
          "metadata": {},
          "execution_count": 18
        }
      ]
    },
    {
      "cell_type": "markdown",
      "source": [
        "# 2. 데이터 전처리"
      ],
      "metadata": {
        "id": "GcprcbNHQcuT"
      }
    },
    {
      "cell_type": "markdown",
      "source": [
        "one-hot encoding"
      ],
      "metadata": {
        "id": "CW3pC47y2go2"
      }
    },
    {
      "cell_type": "code",
      "source": [
        "df['gender'].replace({'M':1,'F':0},inplace=True)\n",
        "df['workex'].replace({'No':0,'Yes':1},inplace=True)\n",
        "df['status'].replace({'Placed':1,'Not Placed':0},inplace=True)\n",
        "df['ssc_b'].replace({'Others':0,'Central':1},inplace=True)\n",
        "df['hsc_b'].replace({'Others':0,'Central':1},inplace=True)\n",
        "df['hsc_s'].replace({'Science':2,'Commerce':1,'Arts':0},inplace=True)\n",
        "df['degree_t'].replace({'Sci&Tech':0, 'Comm&Mgmt':1, 'Others':2},inplace = True)\n",
        "df['specialisation'].replace({'Mkt&HR':0,'Mkt&Fin':1},inplace=True)"
      ],
      "metadata": {
        "id": "OgRzdWbwQTM4"
      },
      "execution_count": 19,
      "outputs": []
    },
    {
      "cell_type": "code",
      "source": [
        "X= df.drop(['status','salary','sl_no'], axis=1)\n",
        "y= df['status']"
      ],
      "metadata": {
        "id": "akEJG3vKKdji"
      },
      "execution_count": 20,
      "outputs": []
    },
    {
      "cell_type": "code",
      "source": [
        "X.info()"
      ],
      "metadata": {
        "colab": {
          "base_uri": "https://localhost:8080/"
        },
        "id": "_iwnxZ_iQgNV",
        "outputId": "12829527-f6c3-4f7f-d9a3-d7d1e617f7ad"
      },
      "execution_count": 21,
      "outputs": [
        {
          "output_type": "stream",
          "name": "stdout",
          "text": [
            "<class 'pandas.core.frame.DataFrame'>\n",
            "RangeIndex: 215 entries, 0 to 214\n",
            "Data columns (total 12 columns):\n",
            " #   Column          Non-Null Count  Dtype  \n",
            "---  ------          --------------  -----  \n",
            " 0   gender          215 non-null    int64  \n",
            " 1   ssc_p           215 non-null    float64\n",
            " 2   ssc_b           215 non-null    int64  \n",
            " 3   hsc_p           215 non-null    float64\n",
            " 4   hsc_b           215 non-null    int64  \n",
            " 5   hsc_s           215 non-null    int64  \n",
            " 6   degree_p        215 non-null    float64\n",
            " 7   degree_t        215 non-null    int64  \n",
            " 8   workex          215 non-null    int64  \n",
            " 9   etest_p         215 non-null    float64\n",
            " 10  specialisation  215 non-null    int64  \n",
            " 11  mba_p           215 non-null    float64\n",
            "dtypes: float64(5), int64(7)\n",
            "memory usage: 20.3 KB\n"
          ]
        }
      ]
    },
    {
      "cell_type": "markdown",
      "source": [
        "Dataframe -> array"
      ],
      "metadata": {
        "id": "ay7Z8M0-2v1b"
      }
    },
    {
      "cell_type": "code",
      "source": [
        "input = np.array(X)\n",
        "output = np.array(y)"
      ],
      "metadata": {
        "id": "RbDnC8zKSQKb"
      },
      "execution_count": 22,
      "outputs": []
    },
    {
      "cell_type": "markdown",
      "source": [
        "train, test 분리"
      ],
      "metadata": {
        "id": "98MMeecl2y_g"
      }
    },
    {
      "cell_type": "code",
      "source": [
        "x_train, x_test, y_train, y_test = train_test_split(input,output, test_size = 0.2, random_state = 42, stratify= output, shuffle = True)"
      ],
      "metadata": {
        "id": "BVeZYj4LQhUs"
      },
      "execution_count": 23,
      "outputs": []
    },
    {
      "cell_type": "markdown",
      "source": [
        "Tensor로 변형"
      ],
      "metadata": {
        "id": "FcmFQxZ822bX"
      }
    },
    {
      "cell_type": "code",
      "source": [
        "# to(device): GPU로 전송\n",
        "x_train = torch.FloatTensor(x_train).to(device)  #FloatTensor: 32비트 부동소수점 (Tensor의 default)\n",
        "y_train = torch.LongTensor(y_train).to(device) #LongTensor: 64비트 정수(부호있음)\n",
        "x_test = torch.FloatTensor(x_test)\n",
        "y_test = torch.LongTensor(y_test)"
      ],
      "metadata": {
        "id": "JSBAlALZRQz8"
      },
      "execution_count": 24,
      "outputs": []
    },
    {
      "cell_type": "code",
      "source": [
        "print(x_train[0])\n",
        "print(x_train[0].size())\n",
        "print(y_train[0])\n",
        "#input 속성 12개\n",
        "#output class 2개 (0과 1 고용과 고용x)"
      ],
      "metadata": {
        "colab": {
          "base_uri": "https://localhost:8080/"
        },
        "id": "7BiWz_oHRXEK",
        "outputId": "3231fc1a-fb7a-424a-a140-6d102a5fbd4c"
      },
      "execution_count": 25,
      "outputs": [
        {
          "output_type": "stream",
          "name": "stdout",
          "text": [
            "tensor([ 1.0000, 70.0000,  1.0000, 74.0000,  1.0000,  1.0000, 65.0000,  1.0000,\n",
            "         0.0000, 83.0000,  1.0000, 62.2800])\n",
            "torch.Size([12])\n",
            "tensor(1)\n"
          ]
        }
      ]
    },
    {
      "cell_type": "markdown",
      "source": [
        "사용자 정의 클래스"
      ],
      "metadata": {
        "id": "PtVd9mCs26RU"
      }
    },
    {
      "cell_type": "code",
      "source": [
        "from torch.utils.data import Dataset\n",
        "class CustomDataset(Dataset):\n",
        "  def __init__(self):\n",
        "    self.x_data = x_train\n",
        "    self.y_data = [[y] for y in y_train]\n",
        "#  데이터셋의 전처리를 해주는 부분\n",
        "\n",
        "  def __len__(self):\n",
        "    return len(self.x_data)\n",
        "#  데이터셋의 길이. 즉, 총 샘플의 수를 적어주는 부분\n",
        "\n",
        "  def __getitem__(self, idx):\n",
        "    x = torch.FloatTensor(self.x_data[idx]).to(device)\n",
        "    y = torch.LongTensor(self.y_data[idx]).to(device)\n",
        "#  데이터셋에서 특정 1개의 샘플을 가져오는 함수\n",
        "\n",
        "    return x,y"
      ],
      "metadata": {
        "id": "292xYcqOS9JT"
      },
      "execution_count": 26,
      "outputs": []
    },
    {
      "cell_type": "markdown",
      "source": [
        "DataLoader"
      ],
      "metadata": {
        "id": "On2GWjNq299J"
      }
    },
    {
      "cell_type": "code",
      "source": [
        "batch_size = 8\n",
        "\n",
        "dataset = CustomDataset()\n",
        "dataloader = DataLoader(dataset, batch_size=batch_size) "
      ],
      "metadata": {
        "id": "D4OG86WcTgoT"
      },
      "execution_count": 27,
      "outputs": []
    },
    {
      "cell_type": "markdown",
      "source": [
        "# 3. 모델 생성 및 구현"
      ],
      "metadata": {
        "id": "zTSQoWnSTm6v"
      }
    },
    {
      "cell_type": "markdown",
      "source": [
        "## 3.1 모델1 - sigmoid"
      ],
      "metadata": {
        "id": "3xeuOQtP4WQ7"
      }
    },
    {
      "cell_type": "code",
      "source": [
        "# sigmoid -> 주로 이진분류할때 쓰임\n",
        "class Model(torch.nn.Module):\n",
        "  def __init__(self):\n",
        "    super(Model, self).__init__()\n",
        "    self.layer = nn.Sequential(\n",
        "        nn.Linear(12,32, bias=True),\n",
        "        nn.Sigmoid(),\n",
        "        nn.BatchNorm1d(32),\n",
        "        nn.Linear(32, 16, bias=True),\n",
        "        nn.Sigmoid(),\n",
        "        nn.Linear(16,8, bias=True),\n",
        "        nn.Sigmoid(),\n",
        "        nn.Linear(8,2, bias=True),\n",
        "        nn.Softmax()\n",
        "    )\n",
        "\n",
        "  def forward(self,x):\n",
        "    out = self.layer(x)\n",
        "    return out"
      ],
      "metadata": {
        "id": "3DPYziv4Tirn"
      },
      "execution_count": 57,
      "outputs": []
    },
    {
      "cell_type": "code",
      "source": [
        "def init_weights(layer):\n",
        "    if isinstance(layer, nn.Linear):\n",
        "        torch.nn.init.xavier_uniform(layer.weight)\n",
        "        layer.bias.data.fill_(0.01)\n",
        "\n",
        "        #xavier사용\n",
        "        # Layer의 weight를 어떤 분포를 가지도록 초기화시켜줌+global minimum찾기 위해서"
      ],
      "metadata": {
        "id": "TNGW65jHU3k_"
      },
      "execution_count": 58,
      "outputs": []
    },
    {
      "cell_type": "code",
      "source": [
        "model = Model().to(device)\n",
        "model.apply(init_weights)"
      ],
      "metadata": {
        "colab": {
          "base_uri": "https://localhost:8080/"
        },
        "id": "Rv_M-O4pU5AN",
        "outputId": "88507bb0-a13e-4bec-edcf-92f6a28e3a2e"
      },
      "execution_count": 59,
      "outputs": [
        {
          "output_type": "stream",
          "name": "stderr",
          "text": [
            "/usr/local/lib/python3.7/dist-packages/ipykernel_launcher.py:3: UserWarning: nn.init.xavier_uniform is now deprecated in favor of nn.init.xavier_uniform_.\n",
            "  This is separate from the ipykernel package so we can avoid doing imports until\n"
          ]
        },
        {
          "output_type": "execute_result",
          "data": {
            "text/plain": [
              "Model(\n",
              "  (layer): Sequential(\n",
              "    (0): Linear(in_features=12, out_features=32, bias=True)\n",
              "    (1): Sigmoid()\n",
              "    (2): BatchNorm1d(32, eps=1e-05, momentum=0.1, affine=True, track_running_stats=True)\n",
              "    (3): Linear(in_features=32, out_features=16, bias=True)\n",
              "    (4): Sigmoid()\n",
              "    (5): Linear(in_features=16, out_features=8, bias=True)\n",
              "    (6): Sigmoid()\n",
              "    (7): Linear(in_features=8, out_features=2, bias=True)\n",
              "    (8): Softmax(dim=None)\n",
              "  )\n",
              ")"
            ]
          },
          "metadata": {},
          "execution_count": 59
        }
      ]
    },
    {
      "cell_type": "markdown",
      "source": [
        "optimizer 설정\\\n",
        "Adam은 SGD + Momentum, RMSprop을 같이 사용하여 더욱 효율적으로 gradient를 조절함"
      ],
      "metadata": {
        "id": "1BmphuXY5XRK"
      }
    },
    {
      "cell_type": "code",
      "source": [
        "loss_fn  = nn.CrossEntropyLoss().to(device)\n",
        "\n",
        "optimizer = optim.Adam(model.parameters(), lr= 0.01)\n",
        "\n",
        "# https://pytorch.org/docs/stable/optim.html#module-torch.optim 페이지 참조\n",
        "# optimizer = optim.SGD(model.parameters(), lr=0.1, momentum=0.9)\n",
        "# sgd 등등"
      ],
      "metadata": {
        "id": "EuQhz247U6VL"
      },
      "execution_count": 60,
      "outputs": []
    },
    {
      "cell_type": "markdown",
      "source": [
        "학습"
      ],
      "metadata": {
        "id": "aOuM9LBk6JOZ"
      }
    },
    {
      "cell_type": "code",
      "source": [
        "losses = []\n",
        "for epoch in range(100):\n",
        "\n",
        "  optimizer.zero_grad()\n",
        "  hypothesis = model(x_train)\n",
        "\n",
        "  # 비용 함수\n",
        "  cost = loss_fn(hypothesis, y_train)\n",
        "  cost.backward()\n",
        "  optimizer.step()\n",
        "  losses.append(cost.item())\n",
        "\n",
        "  if epoch % 10 == 0:\n",
        "    print(epoch, cost.item())"
      ],
      "metadata": {
        "colab": {
          "base_uri": "https://localhost:8080/"
        },
        "id": "nLLNDs9IVGLY",
        "outputId": "b5037bcb-be00-4ec3-d7fa-06ee1d015abc"
      },
      "execution_count": 61,
      "outputs": [
        {
          "output_type": "stream",
          "name": "stdout",
          "text": [
            "0 0.7477619051933289\n",
            "10 0.6177831292152405\n",
            "20 0.5838873982429504\n",
            "30 0.5256823301315308\n",
            "40 0.4658450782299042\n",
            "50 0.42797577381134033\n",
            "60 0.4137042164802551\n",
            "70 0.4051007032394409\n",
            "80 0.3885428309440613\n",
            "90 0.38436129689216614\n"
          ]
        },
        {
          "output_type": "stream",
          "name": "stderr",
          "text": [
            "/usr/local/lib/python3.7/dist-packages/torch/nn/modules/container.py:139: UserWarning: Implicit dimension choice for softmax has been deprecated. Change the call to include dim=X as an argument.\n",
            "  input = module(input)\n"
          ]
        }
      ]
    },
    {
      "cell_type": "markdown",
      "source": [
        "loss"
      ],
      "metadata": {
        "id": "dyE1szMQ6LGe"
      }
    },
    {
      "cell_type": "code",
      "source": [
        "plt.plot(losses)\n",
        "plt.show()"
      ],
      "metadata": {
        "colab": {
          "base_uri": "https://localhost:8080/",
          "height": 265
        },
        "id": "Yq1p8iheVHhO",
        "outputId": "4036c17a-810d-4d9e-bb39-5c576628dd40"
      },
      "execution_count": 62,
      "outputs": [
        {
          "output_type": "display_data",
          "data": {
            "text/plain": [
              "<Figure size 432x288 with 1 Axes>"
            ],
            "image/png": "[encoded data removed]"
          },
          "metadata": {
            "needs_background": "light"
          }
        }
      ]
    },
    {
      "cell_type": "markdown",
      "source": [
        "test accuracy"
      ],
      "metadata": {
        "id": "zz2CuJJL6MQz"
      }
    },
    {
      "cell_type": "code",
      "source": [
        "with torch.no_grad():\n",
        "  model = model.to('cpu')\n",
        "  y_pred = model(x_test)\n",
        "  y_pred = y_pred.detach().numpy()\n",
        "  predicted = np.argmax(y_pred, axis =1)\n",
        "  accuracy = (accuracy_score(predicted, y_test))\n",
        "  \n",
        "  print(f'model의 output은 :  {y_pred[0]}')\n",
        "print(f'argmax를 한 후의 output은 {predicted[0]}')\n",
        "print(f'accuracy는 {accuracy}')"
      ],
      "metadata": {
        "colab": {
          "base_uri": "https://localhost:8080/"
        },
        "id": "xxrsY4oDVJaQ",
        "outputId": "f409eb4b-7809-49ff-adb8-1d4b2a79e408"
      },
      "execution_count": 63,
      "outputs": [
        {
          "output_type": "stream",
          "name": "stdout",
          "text": [
            "model의 output은 :  [0.00565227 0.99434775]\n",
            "argmax를 한 후의 output은 1\n",
            "accuracy는 0.7441860465116279\n"
          ]
        },
        {
          "output_type": "stream",
          "name": "stderr",
          "text": [
            "/usr/local/lib/python3.7/dist-packages/torch/nn/modules/container.py:139: UserWarning: Implicit dimension choice for softmax has been deprecated. Change the call to include dim=X as an argument.\n",
            "  input = module(input)\n"
          ]
        }
      ]
    },
    {
      "cell_type": "markdown",
      "source": [
        "## 3.2 모델2 - relu"
      ],
      "metadata": {
        "id": "zGJMv0A65zfm"
      }
    },
    {
      "cell_type": "code",
      "source": [
        "def relu(x):\n",
        "  a = torch.zeros_like(x)\n",
        "  return torch.max(x,a)"
      ],
      "metadata": {
        "id": "o-qNlgMZ6kAX"
      },
      "execution_count": 35,
      "outputs": []
    },
    {
      "cell_type": "code",
      "source": [
        "class Model(torch.nn.Module):\n",
        "  def __init__(self):\n",
        "    super(Model, self).__init__()\n",
        "    self.layer1 = nn.Linear(12,32, bias=True)\n",
        "    self.layer2 = nn.Sequential(\n",
        "        nn.BatchNorm1d(32),\n",
        "        nn.Linear(32,16, bias=True)\n",
        "    )\n",
        "    self.layer3 = nn.Linear(16,8, bias=True)\n",
        "    self.layer4 = nn.Sequential(\n",
        "        nn.Linear(8,2, bias=True),\n",
        "        nn.Softmax()\n",
        "    )\n",
        "\n",
        "# 활성화함수는 forward 메서드에 넣어줘도 무방합니다. 함수형 API를 사용합니다.\n",
        "  def forward(self,x):\n",
        "    output = self.layer1(x)\n",
        "    output = relu(output)\n",
        "\n",
        "    output = self.layer2(output)\n",
        "    output = relu(output)\n",
        "\n",
        "    output = self.layer3(output)\n",
        "    output = relu(output)\n",
        "    \n",
        "    output = self.layer4(output)\n",
        "    return output"
      ],
      "metadata": {
        "id": "b5ZygsU3V0I8"
      },
      "execution_count": 72,
      "outputs": []
    },
    {
      "cell_type": "code",
      "source": [
        "model = Model().to(device)\n",
        "model.apply(init_weights)"
      ],
      "metadata": {
        "colab": {
          "base_uri": "https://localhost:8080/"
        },
        "id": "dH22Hg8053wX",
        "outputId": "5b0341d5-cc4b-4d2c-b87a-84c3d3cb65e3"
      },
      "execution_count": 73,
      "outputs": [
        {
          "output_type": "stream",
          "name": "stderr",
          "text": [
            "/usr/local/lib/python3.7/dist-packages/ipykernel_launcher.py:3: UserWarning: nn.init.xavier_uniform is now deprecated in favor of nn.init.xavier_uniform_.\n",
            "  This is separate from the ipykernel package so we can avoid doing imports until\n"
          ]
        },
        {
          "output_type": "execute_result",
          "data": {
            "text/plain": [
              "Model(\n",
              "  (layer1): Linear(in_features=12, out_features=32, bias=True)\n",
              "  (layer2): Sequential(\n",
              "    (0): BatchNorm1d(32, eps=1e-05, momentum=0.1, affine=True, track_running_stats=True)\n",
              "    (1): Linear(in_features=32, out_features=16, bias=True)\n",
              "  )\n",
              "  (layer3): Linear(in_features=16, out_features=8, bias=True)\n",
              "  (layer4): Sequential(\n",
              "    (0): Linear(in_features=8, out_features=2, bias=True)\n",
              "    (1): Softmax(dim=None)\n",
              "  )\n",
              ")"
            ]
          },
          "metadata": {},
          "execution_count": 73
        }
      ]
    },
    {
      "cell_type": "code",
      "source": [
        "loss_fn  = nn.CrossEntropyLoss().to(device)\n",
        "\n",
        "optimizer = optim.Adam(model.parameters(), lr= 0.01)"
      ],
      "metadata": {
        "id": "hTW7MqNC--Uo"
      },
      "execution_count": 74,
      "outputs": []
    },
    {
      "cell_type": "code",
      "source": [
        "losses = []\n",
        "for epoch in range(100):\n",
        "\n",
        "  optimizer.zero_grad()\n",
        "  hypothesis = model(x_train)\n",
        "\n",
        "  # 비용 함수\n",
        "  cost = loss_fn(hypothesis, y_train)\n",
        "  cost.backward()\n",
        "  optimizer.step()\n",
        "  losses.append(cost.item())\n",
        "\n",
        "  if epoch % 10 == 0:\n",
        "    print(epoch, cost.item())"
      ],
      "metadata": {
        "colab": {
          "base_uri": "https://localhost:8080/"
        },
        "id": "qkYfV4Lr58c4",
        "outputId": "68dd422d-1310-45a8-85d8-bd5f431b7b80"
      },
      "execution_count": 75,
      "outputs": [
        {
          "output_type": "stream",
          "name": "stdout",
          "text": [
            "0 0.7401201725006104\n",
            "10 0.4853239357471466\n",
            "20 0.4247078597545624\n",
            "30 0.4042557179927826\n",
            "40 0.3951943814754486\n",
            "50 0.3888036906719208\n",
            "60 0.3888382017612457\n",
            "70 0.38226574659347534\n",
            "80 0.3795102536678314\n",
            "90 0.37818872928619385\n"
          ]
        },
        {
          "output_type": "stream",
          "name": "stderr",
          "text": [
            "/usr/local/lib/python3.7/dist-packages/torch/nn/modules/container.py:139: UserWarning: Implicit dimension choice for softmax has been deprecated. Change the call to include dim=X as an argument.\n",
            "  input = module(input)\n"
          ]
        }
      ]
    },
    {
      "cell_type": "code",
      "source": [
        "plt.plot(losses)\n",
        "plt.show()"
      ],
      "metadata": {
        "colab": {
          "base_uri": "https://localhost:8080/",
          "height": 265
        },
        "id": "FZPrCOyD5-jV",
        "outputId": "2ddec166-0111-4221-c43f-db09926a12ed"
      },
      "execution_count": 76,
      "outputs": [
        {
          "output_type": "display_data",
          "data": {
            "text/plain": [
              "<Figure size 432x288 with 1 Axes>"
            ],
            "image/png": "[encoded data removed]"
          },
          "metadata": {
            "needs_background": "light"
          }
        }
      ]
    },
    {
      "cell_type": "code",
      "source": [
        "with torch.no_grad():\n",
        "  model = model.to('cpu')\n",
        "  y_pred = model(x_test)\n",
        "  y_pred = y_pred.detach().numpy()\n",
        "  predicted = np.argmax(y_pred, axis =1)\n",
        "  accuracy = (accuracy_score(predicted, y_test))\n",
        "  \n",
        "  print(f'model의 output은 :  {y_pred[0]}')\n",
        "print(f'argmax를 한 후의 output은 {predicted[0]}')\n",
        "print(f'accuracy는 {accuracy}')"
      ],
      "metadata": {
        "colab": {
          "base_uri": "https://localhost:8080/"
        },
        "id": "GWePwwkC5-eW",
        "outputId": "045bd7f2-e2df-4665-a224-1dee6b9b020c"
      },
      "execution_count": 77,
      "outputs": [
        {
          "output_type": "stream",
          "name": "stdout",
          "text": [
            "model의 output은 :  [1.2810672e-06 9.9999869e-01]\n",
            "argmax를 한 후의 output은 1\n",
            "accuracy는 0.8372093023255814\n"
          ]
        },
        {
          "output_type": "stream",
          "name": "stderr",
          "text": [
            "/usr/local/lib/python3.7/dist-packages/torch/nn/modules/container.py:139: UserWarning: Implicit dimension choice for softmax has been deprecated. Change the call to include dim=X as an argument.\n",
            "  input = module(input)\n"
          ]
        }
      ]
    },
    {
      "cell_type": "markdown",
      "source": [
        "오잉 이진분류인데 relu가 더 accuracy 좋게 나옴"
      ],
      "metadata": {
        "id": "g6X6O7C2_hpM"
      }
    },
    {
      "cell_type": "markdown",
      "source": [
        "## 3.3 모델3 - dropout 추가"
      ],
      "metadata": {
        "id": "heoRrVst_rk2"
      }
    },
    {
      "cell_type": "code",
      "source": [
        "class Model(torch.nn.Module):\n",
        "  def __init__(self):\n",
        "    super(Model, self).__init__()\n",
        "    self.layer1 = nn.Linear(12,32, bias=True)\n",
        "    self.layer2 = nn.Sequential(\n",
        "        nn.BatchNorm1d(32),\n",
        "        nn.Linear(32,16, bias=True)\n",
        "    )\n",
        "    self.layer3 = nn.Sequential(\n",
        "        nn.Dropout(0.2),\n",
        "        nn.Linear(16,8, bias=True)\n",
        "    )\n",
        "    self.layer4 = nn.Sequential(\n",
        "        nn.Dropout(0.2),\n",
        "        nn.Linear(8,2, bias=True),\n",
        "        nn.Softmax()\n",
        "    )\n",
        "\n",
        "# 활성화함수는 forward 메서드에 넣어줘도 무방합니다. 함수형 API를 사용합니다.\n",
        "  def forward(self,x):\n",
        "    output = self.layer1(x)\n",
        "    output = relu(output)\n",
        "\n",
        "    output = self.layer2(output)\n",
        "    output = relu(output)\n",
        "\n",
        "    output = self.layer3(output)\n",
        "    output = relu(output)\n",
        "    \n",
        "    output = self.layer4(output)\n",
        "    return output"
      ],
      "metadata": {
        "id": "4lBwlmcD_WLx"
      },
      "execution_count": 97,
      "outputs": []
    },
    {
      "cell_type": "code",
      "source": [
        "model = Model().to(device)\n",
        "model.apply(init_weights)"
      ],
      "metadata": {
        "colab": {
          "base_uri": "https://localhost:8080/"
        },
        "id": "i2RIoRVe_0xz",
        "outputId": "2c60b717-6a22-45af-d26a-999e3116d785"
      },
      "execution_count": 98,
      "outputs": [
        {
          "output_type": "stream",
          "name": "stderr",
          "text": [
            "/usr/local/lib/python3.7/dist-packages/ipykernel_launcher.py:3: UserWarning: nn.init.xavier_uniform is now deprecated in favor of nn.init.xavier_uniform_.\n",
            "  This is separate from the ipykernel package so we can avoid doing imports until\n"
          ]
        },
        {
          "output_type": "execute_result",
          "data": {
            "text/plain": [
              "Model(\n",
              "  (layer1): Linear(in_features=12, out_features=32, bias=True)\n",
              "  (layer2): Sequential(\n",
              "    (0): BatchNorm1d(32, eps=1e-05, momentum=0.1, affine=True, track_running_stats=True)\n",
              "    (1): Linear(in_features=32, out_features=16, bias=True)\n",
              "  )\n",
              "  (layer3): Sequential(\n",
              "    (0): Dropout(p=0.2, inplace=False)\n",
              "    (1): Linear(in_features=16, out_features=8, bias=True)\n",
              "  )\n",
              "  (layer4): Sequential(\n",
              "    (0): Dropout(p=0.2, inplace=False)\n",
              "    (1): Linear(in_features=8, out_features=2, bias=True)\n",
              "    (2): Softmax(dim=None)\n",
              "  )\n",
              ")"
            ]
          },
          "metadata": {},
          "execution_count": 98
        }
      ]
    },
    {
      "cell_type": "code",
      "source": [
        "loss_fn  = nn.CrossEntropyLoss().to(device)\n",
        "\n",
        "optimizer = optim.Adam(model.parameters(), lr= 0.01)"
      ],
      "metadata": {
        "id": "3yqeKM6X_0vh"
      },
      "execution_count": 99,
      "outputs": []
    },
    {
      "cell_type": "code",
      "source": [
        "losses = []\n",
        "for epoch in range(100):\n",
        "\n",
        "  optimizer.zero_grad()\n",
        "  hypothesis = model(x_train)\n",
        "\n",
        "  # 비용 함수\n",
        "  cost = loss_fn(hypothesis, y_train)\n",
        "  cost.backward()\n",
        "  optimizer.step()\n",
        "  losses.append(cost.item())\n",
        "\n",
        "  if epoch % 10 == 0:\n",
        "    print(epoch, cost.item())"
      ],
      "metadata": {
        "colab": {
          "base_uri": "https://localhost:8080/"
        },
        "id": "pZxvhuLc_0s4",
        "outputId": "662fc954-dbab-4e44-d356-cc58eb8f92ba"
      },
      "execution_count": 100,
      "outputs": [
        {
          "output_type": "stream",
          "name": "stdout",
          "text": [
            "0 0.6930589079856873\n",
            "10 0.4982176423072815\n",
            "20 0.4601689279079437\n",
            "30 0.420181006193161\n",
            "40 0.4205528199672699\n",
            "50 0.4011327624320984\n",
            "60 0.3905124366283417\n",
            "70 0.3853951394557953\n",
            "80 0.38871222734451294\n",
            "90 0.3834552764892578\n"
          ]
        },
        {
          "output_type": "stream",
          "name": "stderr",
          "text": [
            "/usr/local/lib/python3.7/dist-packages/torch/nn/modules/container.py:139: UserWarning: Implicit dimension choice for softmax has been deprecated. Change the call to include dim=X as an argument.\n",
            "  input = module(input)\n"
          ]
        }
      ]
    },
    {
      "cell_type": "code",
      "source": [
        "plt.plot(losses)\n",
        "plt.show()"
      ],
      "metadata": {
        "colab": {
          "base_uri": "https://localhost:8080/",
          "height": 265
        },
        "id": "neoclhju_0py",
        "outputId": "99cd07c9-88b3-4031-fbcb-d87ba6e9e256"
      },
      "execution_count": 101,
      "outputs": [
        {
          "output_type": "display_data",
          "data": {
            "text/plain": [
              "<Figure size 432x288 with 1 Axes>"
            ],
            "image/png": "[encoded data removed]"
          },
          "metadata": {
            "needs_background": "light"
          }
        }
      ]
    },
    {
      "cell_type": "code",
      "source": [
        "with torch.no_grad():\n",
        "  model = model.to('cpu')\n",
        "  y_pred = model(x_test)\n",
        "  y_pred = y_pred.detach().numpy()\n",
        "  predicted = np.argmax(y_pred, axis =1)\n",
        "  accuracy = (accuracy_score(predicted, y_test))\n",
        "  \n",
        "  print(f'model의 output은 :  {y_pred[0]}')\n",
        "print(f'argmax를 한 후의 output은 {predicted[0]}')\n",
        "print(f'accuracy는 {accuracy}')"
      ],
      "metadata": {
        "colab": {
          "base_uri": "https://localhost:8080/"
        },
        "id": "3bv2QN-c_61j",
        "outputId": "49fc192d-7bef-41aa-c904-7f3a4a38b3b3"
      },
      "execution_count": 102,
      "outputs": [
        {
          "output_type": "stream",
          "name": "stdout",
          "text": [
            "model의 output은 :  [0.12353317 0.8764668 ]\n",
            "argmax를 한 후의 output은 1\n",
            "accuracy는 0.7906976744186046\n"
          ]
        },
        {
          "output_type": "stream",
          "name": "stderr",
          "text": [
            "/usr/local/lib/python3.7/dist-packages/torch/nn/modules/container.py:139: UserWarning: Implicit dimension choice for softmax has been deprecated. Change the call to include dim=X as an argument.\n",
            "  input = module(input)\n"
          ]
        }
      ]
    },
    {
      "cell_type": "markdown",
      "source": [
        "이미지 데이터가 아니기도 하고 복잡한 데이터가 아니라서 dropout 효과 없는듯"
      ],
      "metadata": {
        "id": "7ekkWhfcAgeJ"
      }
    },
    {
      "cell_type": "code",
      "source": [
        ""
      ],
      "metadata": {
        "id": "BpLkAcYAAR-i"
      },
      "execution_count": 90,
      "outputs": []
    }
  ]
}