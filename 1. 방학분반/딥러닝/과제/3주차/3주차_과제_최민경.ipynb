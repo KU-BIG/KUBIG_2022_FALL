{
  "nbformat": 4,
  "nbformat_minor": 0,
  "metadata": {
    "colab": {
      "name": "3주차_과제_최민경.ipynb",
      "provenance": [],
      "collapsed_sections": [],
      "machine_shape": "hm"
    },
    "kernelspec": {
      "name": "python3",
      "display_name": "Python 3"
    },
    "language_info": {
      "name": "python"
    },
    "accelerator": "GPU",
    "gpuClass": "standard"
  },
  "cells": [
    {
      "cell_type": "markdown",
      "source": [
        "- dataset을 임의로 선정해서 직접 분석 해보기(제공한 코드를 활용해서 해보기)\n",
        "- activation functions 중 relu사용시 함수 직접 정의\n",
        "- lr, optimizer 등 바꿔보기\n",
        "- hidden layer/neuron 수를 바꾸기\n",
        "- 전처리도 추가\n",
        "- 모든 시도를 올려주세요!\n",
        "- 제일 높은 acc를 보인 시도를 명시해주세요!\n"
      ],
      "metadata": {
        "id": "sgAYo4nrw2F4"
      }
    },
    {
      "cell_type": "code",
      "execution_count": 269,
      "metadata": {
        "id": "fX437IL6qbI-"
      },
      "outputs": [],
      "source": [
        "import torch\n",
        "from torch import nn, optim\n",
        "from sklearn.datasets import load_breast_cancer\n",
        "from torch.utils.data import  TensorDataset, DataLoader\n",
        "from sklearn.model_selection import train_test_split\n",
        "from sklearn.metrics import accuracy_score\n",
        "import numpy as np\n",
        "import pandas as pd\n",
        "from sklearn.preprocessing import StandardScaler\n",
        "import matplotlib.pyplot as plt\n",
        "import seaborn as sns\n",
        "import torch.nn.functional as F"
      ]
    },
    {
      "cell_type": "code",
      "source": [
        "from google.colab import drive\n",
        "drive.mount('/content/drive')"
      ],
      "metadata": {
        "colab": {
          "base_uri": "https://localhost:8080/"
        },
        "id": "9OXWRkSiwEh3",
        "outputId": "14972fe9-00cb-4ae9-b4c1-e31f9837fbd9"
      },
      "execution_count": 270,
      "outputs": [
        {
          "output_type": "stream",
          "name": "stdout",
          "text": [
            "Drive already mounted at /content/drive; to attempt to forcibly remount, call drive.mount(\"/content/drive\", force_remount=True).\n"
          ]
        }
      ]
    },
    {
      "cell_type": "code",
      "source": [
        "# Kaggle의 smartphone cost classification data\n",
        "data = pd.read_csv(\"/content/drive/MyDrive/Colab Notebooks/DL/train.csv\")"
      ],
      "metadata": {
        "id": "FywYbfsKtjcR"
      },
      "execution_count": 271,
      "outputs": []
    },
    {
      "cell_type": "code",
      "source": [
        "data"
      ],
      "metadata": {
        "colab": {
          "base_uri": "https://localhost:8080/",
          "height": 424
        },
        "id": "c8EeuQu6wwnQ",
        "outputId": "8884204f-e0bc-437a-f8ad-f815fd522e8e"
      },
      "execution_count": 272,
      "outputs": [
        {
          "output_type": "execute_result",
          "data": {
            "text/plain": [
              "      battery_power  blue  clock_speed  dual_sim  fc  four_g  int_memory  \\\n",
              "0               842     0          2.2         0   1       0           7   \n",
              "1              1021     1          0.5         1   0       1          53   \n",
              "2               563     1          0.5         1   2       1          41   \n",
              "3               615     1          2.5         0   0       0          10   \n",
              "4              1821     1          1.2         0  13       1          44   \n",
              "...             ...   ...          ...       ...  ..     ...         ...   \n",
              "1995            794     1          0.5         1   0       1           2   \n",
              "1996           1965     1          2.6         1   0       0          39   \n",
              "1997           1911     0          0.9         1   1       1          36   \n",
              "1998           1512     0          0.9         0   4       1          46   \n",
              "1999            510     1          2.0         1   5       1          45   \n",
              "\n",
              "      m_dep  mobile_wt  n_cores  ...  px_height  px_width   ram  sc_h  sc_w  \\\n",
              "0       0.6        188        2  ...         20       756  2549     9     7   \n",
              "1       0.7        136        3  ...        905      1988  2631    17     3   \n",
              "2       0.9        145        5  ...       1263      1716  2603    11     2   \n",
              "3       0.8        131        6  ...       1216      1786  2769    16     8   \n",
              "4       0.6        141        2  ...       1208      1212  1411     8     2   \n",
              "...     ...        ...      ...  ...        ...       ...   ...   ...   ...   \n",
              "1995    0.8        106        6  ...       1222      1890   668    13     4   \n",
              "1996    0.2        187        4  ...        915      1965  2032    11    10   \n",
              "1997    0.7        108        8  ...        868      1632  3057     9     1   \n",
              "1998    0.1        145        5  ...        336       670   869    18    10   \n",
              "1999    0.9        168        6  ...        483       754  3919    19     4   \n",
              "\n",
              "      talk_time  three_g  touch_screen  wifi  price_range  \n",
              "0            19        0             0     1            1  \n",
              "1             7        1             1     0            2  \n",
              "2             9        1             1     0            2  \n",
              "3            11        1             0     0            2  \n",
              "4            15        1             1     0            1  \n",
              "...         ...      ...           ...   ...          ...  \n",
              "1995         19        1             1     0            0  \n",
              "1996         16        1             1     1            2  \n",
              "1997          5        1             1     0            3  \n",
              "1998         19        1             1     1            0  \n",
              "1999          2        1             1     1            3  \n",
              "\n",
              "[2000 rows x 21 columns]"
            ],
            "text/html": [
              "\n",
              "  <div id=\"df-a8b14340-ce6d-41a1-85ff-015215d22a51\">\n",
              "    <div class=\"colab-df-container\">\n",
              "      <div>\n",
              "<style scoped>\n",
              "    .dataframe tbody tr th:only-of-type {\n",
              "        vertical-align: middle;\n",
              "    }\n",
              "\n",
              "    .dataframe tbody tr th {\n",
              "        vertical-align: top;\n",
              "    }\n",
              "\n",
              "    .dataframe thead th {\n",
              "        text-align: right;\n",
              "    }\n",
              "</style>\n",
              "<table border=\"1\" class=\"dataframe\">\n",
              "  <thead>\n",
              "    <tr style=\"text-align: right;\">\n",
              "      <th></th>\n",
              "      <th>battery_power</th>\n",
              "      <th>blue</th>\n",
              "      <th>clock_speed</th>\n",
              "      <th>dual_sim</th>\n",
              "      <th>fc</th>\n",
              "      <th>four_g</th>\n",
              "      <th>int_memory</th>\n",
              "      <th>m_dep</th>\n",
              "      <th>mobile_wt</th>\n",
              "      <th>n_cores</th>\n",
              "      <th>...</th>\n",
              "      <th>px_height</th>\n",
              "      <th>px_width</th>\n",
              "      <th>ram</th>\n",
              "      <th>sc_h</th>\n",
              "      <th>sc_w</th>\n",
              "      <th>talk_time</th>\n",
              "      <th>three_g</th>\n",
              "      <th>touch_screen</th>\n",
              "      <th>wifi</th>\n",
              "      <th>price_range</th>\n",
              "    </tr>\n",
              "  </thead>\n",
              "  <tbody>\n",
              "    <tr>\n",
              "      <th>0</th>\n",
              "      <td>842</td>\n",
              "      <td>0</td>\n",
              "      <td>2.2</td>\n",
              "      <td>0</td>\n",
              "      <td>1</td>\n",
              "      <td>0</td>\n",
              "      <td>7</td>\n",
              "      <td>0.6</td>\n",
              "      <td>188</td>\n",
              "      <td>2</td>\n",
              "      <td>...</td>\n",
              "      <td>20</td>\n",
              "      <td>756</td>\n",
              "      <td>2549</td>\n",
              "      <td>9</td>\n",
              "      <td>7</td>\n",
              "      <td>19</td>\n",
              "      <td>0</td>\n",
              "      <td>0</td>\n",
              "      <td>1</td>\n",
              "      <td>1</td>\n",
              "    </tr>\n",
              "    <tr>\n",
              "      <th>1</th>\n",
              "      <td>1021</td>\n",
              "      <td>1</td>\n",
              "      <td>0.5</td>\n",
              "      <td>1</td>\n",
              "      <td>0</td>\n",
              "      <td>1</td>\n",
              "      <td>53</td>\n",
              "      <td>0.7</td>\n",
              "      <td>136</td>\n",
              "      <td>3</td>\n",
              "      <td>...</td>\n",
              "      <td>905</td>\n",
              "      <td>1988</td>\n",
              "      <td>2631</td>\n",
              "      <td>17</td>\n",
              "      <td>3</td>\n",
              "      <td>7</td>\n",
              "      <td>1</td>\n",
              "      <td>1</td>\n",
              "      <td>0</td>\n",
              "      <td>2</td>\n",
              "    </tr>\n",
              "    <tr>\n",
              "      <th>2</th>\n",
              "      <td>563</td>\n",
              "      <td>1</td>\n",
              "      <td>0.5</td>\n",
              "      <td>1</td>\n",
              "      <td>2</td>\n",
              "      <td>1</td>\n",
              "      <td>41</td>\n",
              "      <td>0.9</td>\n",
              "      <td>145</td>\n",
              "      <td>5</td>\n",
              "      <td>...</td>\n",
              "      <td>1263</td>\n",
              "      <td>1716</td>\n",
              "      <td>2603</td>\n",
              "      <td>11</td>\n",
              "      <td>2</td>\n",
              "      <td>9</td>\n",
              "      <td>1</td>\n",
              "      <td>1</td>\n",
              "      <td>0</td>\n",
              "      <td>2</td>\n",
              "    </tr>\n",
              "    <tr>\n",
              "      <th>3</th>\n",
              "      <td>615</td>\n",
              "      <td>1</td>\n",
              "      <td>2.5</td>\n",
              "      <td>0</td>\n",
              "      <td>0</td>\n",
              "      <td>0</td>\n",
              "      <td>10</td>\n",
              "      <td>0.8</td>\n",
              "      <td>131</td>\n",
              "      <td>6</td>\n",
              "      <td>...</td>\n",
              "      <td>1216</td>\n",
              "      <td>1786</td>\n",
              "      <td>2769</td>\n",
              "      <td>16</td>\n",
              "      <td>8</td>\n",
              "      <td>11</td>\n",
              "      <td>1</td>\n",
              "      <td>0</td>\n",
              "      <td>0</td>\n",
              "      <td>2</td>\n",
              "    </tr>\n",
              "    <tr>\n",
              "      <th>4</th>\n",
              "      <td>1821</td>\n",
              "      <td>1</td>\n",
              "      <td>1.2</td>\n",
              "      <td>0</td>\n",
              "      <td>13</td>\n",
              "      <td>1</td>\n",
              "      <td>44</td>\n",
              "      <td>0.6</td>\n",
              "      <td>141</td>\n",
              "      <td>2</td>\n",
              "      <td>...</td>\n",
              "      <td>1208</td>\n",
              "      <td>1212</td>\n",
              "      <td>1411</td>\n",
              "      <td>8</td>\n",
              "      <td>2</td>\n",
              "      <td>15</td>\n",
              "      <td>1</td>\n",
              "      <td>1</td>\n",
              "      <td>0</td>\n",
              "      <td>1</td>\n",
              "    </tr>\n",
              "    <tr>\n",
              "      <th>...</th>\n",
              "      <td>...</td>\n",
              "      <td>...</td>\n",
              "      <td>...</td>\n",
              "      <td>...</td>\n",
              "      <td>...</td>\n",
              "      <td>...</td>\n",
              "      <td>...</td>\n",
              "      <td>...</td>\n",
              "      <td>...</td>\n",
              "      <td>...</td>\n",
              "      <td>...</td>\n",
              "      <td>...</td>\n",
              "      <td>...</td>\n",
              "      <td>...</td>\n",
              "      <td>...</td>\n",
              "      <td>...</td>\n",
              "      <td>...</td>\n",
              "      <td>...</td>\n",
              "      <td>...</td>\n",
              "      <td>...</td>\n",
              "      <td>...</td>\n",
              "    </tr>\n",
              "    <tr>\n",
              "      <th>1995</th>\n",
              "      <td>794</td>\n",
              "      <td>1</td>\n",
              "      <td>0.5</td>\n",
              "      <td>1</td>\n",
              "      <td>0</td>\n",
              "      <td>1</td>\n",
              "      <td>2</td>\n",
              "      <td>0.8</td>\n",
              "      <td>106</td>\n",
              "      <td>6</td>\n",
              "      <td>...</td>\n",
              "      <td>1222</td>\n",
              "      <td>1890</td>\n",
              "      <td>668</td>\n",
              "      <td>13</td>\n",
              "      <td>4</td>\n",
              "      <td>19</td>\n",
              "      <td>1</td>\n",
              "      <td>1</td>\n",
              "      <td>0</td>\n",
              "      <td>0</td>\n",
              "    </tr>\n",
              "    <tr>\n",
              "      <th>1996</th>\n",
              "      <td>1965</td>\n",
              "      <td>1</td>\n",
              "      <td>2.6</td>\n",
              "      <td>1</td>\n",
              "      <td>0</td>\n",
              "      <td>0</td>\n",
              "      <td>39</td>\n",
              "      <td>0.2</td>\n",
              "      <td>187</td>\n",
              "      <td>4</td>\n",
              "      <td>...</td>\n",
              "      <td>915</td>\n",
              "      <td>1965</td>\n",
              "      <td>2032</td>\n",
              "      <td>11</td>\n",
              "      <td>10</td>\n",
              "      <td>16</td>\n",
              "      <td>1</td>\n",
              "      <td>1</td>\n",
              "      <td>1</td>\n",
              "      <td>2</td>\n",
              "    </tr>\n",
              "    <tr>\n",
              "      <th>1997</th>\n",
              "      <td>1911</td>\n",
              "      <td>0</td>\n",
              "      <td>0.9</td>\n",
              "      <td>1</td>\n",
              "      <td>1</td>\n",
              "      <td>1</td>\n",
              "      <td>36</td>\n",
              "      <td>0.7</td>\n",
              "      <td>108</td>\n",
              "      <td>8</td>\n",
              "      <td>...</td>\n",
              "      <td>868</td>\n",
              "      <td>1632</td>\n",
              "      <td>3057</td>\n",
              "      <td>9</td>\n",
              "      <td>1</td>\n",
              "      <td>5</td>\n",
              "      <td>1</td>\n",
              "      <td>1</td>\n",
              "      <td>0</td>\n",
              "      <td>3</td>\n",
              "    </tr>\n",
              "    <tr>\n",
              "      <th>1998</th>\n",
              "      <td>1512</td>\n",
              "      <td>0</td>\n",
              "      <td>0.9</td>\n",
              "      <td>0</td>\n",
              "      <td>4</td>\n",
              "      <td>1</td>\n",
              "      <td>46</td>\n",
              "      <td>0.1</td>\n",
              "      <td>145</td>\n",
              "      <td>5</td>\n",
              "      <td>...</td>\n",
              "      <td>336</td>\n",
              "      <td>670</td>\n",
              "      <td>869</td>\n",
              "      <td>18</td>\n",
              "      <td>10</td>\n",
              "      <td>19</td>\n",
              "      <td>1</td>\n",
              "      <td>1</td>\n",
              "      <td>1</td>\n",
              "      <td>0</td>\n",
              "    </tr>\n",
              "    <tr>\n",
              "      <th>1999</th>\n",
              "      <td>510</td>\n",
              "      <td>1</td>\n",
              "      <td>2.0</td>\n",
              "      <td>1</td>\n",
              "      <td>5</td>\n",
              "      <td>1</td>\n",
              "      <td>45</td>\n",
              "      <td>0.9</td>\n",
              "      <td>168</td>\n",
              "      <td>6</td>\n",
              "      <td>...</td>\n",
              "      <td>483</td>\n",
              "      <td>754</td>\n",
              "      <td>3919</td>\n",
              "      <td>19</td>\n",
              "      <td>4</td>\n",
              "      <td>2</td>\n",
              "      <td>1</td>\n",
              "      <td>1</td>\n",
              "      <td>1</td>\n",
              "      <td>3</td>\n",
              "    </tr>\n",
              "  </tbody>\n",
              "</table>\n",
              "<p>2000 rows × 21 columns</p>\n",
              "</div>\n",
              "      <button class=\"colab-df-convert\" onclick=\"convertToInteractive('df-a8b14340-ce6d-41a1-85ff-015215d22a51')\"\n",
              "              title=\"Convert this dataframe to an interactive table.\"\n",
              "              style=\"display:none;\">\n",
              "        \n",
              "  <svg xmlns=\"http://www.w3.org/2000/svg\" height=\"24px\"viewBox=\"0 0 24 24\"\n",
              "       width=\"24px\">\n",
              "    <path d=\"M0 0h24v24H0V0z\" fill=\"none\"/>\n",
              "    <path d=\"M18.56 5.44l.94 2.06.94-2.06 2.06-.94-2.06-.94-.94-2.06-.94 2.06-2.06.94zm-11 1L8.5 8.5l.94-2.06 2.06-.94-2.06-.94L8.5 2.5l-.94 2.06-2.06.94zm10 10l.94 2.06.94-2.06 2.06-.94-2.06-.94-.94-2.06-.94 2.06-2.06.94z\"/><path d=\"M17.41 7.96l-1.37-1.37c-.4-.4-.92-.59-1.43-.59-.52 0-1.04.2-1.43.59L10.3 9.45l-7.72 7.72c-.78.78-.78 2.05 0 2.83L4 21.41c.39.39.9.59 1.41.59.51 0 1.02-.2 1.41-.59l7.78-7.78 2.81-2.81c.8-.78.8-2.07 0-2.86zM5.41 20L4 18.59l7.72-7.72 1.47 1.35L5.41 20z\"/>\n",
              "  </svg>\n",
              "      </button>\n",
              "      \n",
              "  <style>\n",
              "    .colab-df-container {\n",
              "      display:flex;\n",
              "      flex-wrap:wrap;\n",
              "      gap: 12px;\n",
              "    }\n",
              "\n",
              "    .colab-df-convert {\n",
              "      background-color: #E8F0FE;\n",
              "      border: none;\n",
              "      border-radius: 50%;\n",
              "      cursor: pointer;\n",
              "      display: none;\n",
              "      fill: #1967D2;\n",
              "      height: 32px;\n",
              "      padding: 0 0 0 0;\n",
              "      width: 32px;\n",
              "    }\n",
              "\n",
              "    .colab-df-convert:hover {\n",
              "      background-color: #E2EBFA;\n",
              "      box-shadow: 0px 1px 2px rgba(60, 64, 67, 0.3), 0px 1px 3px 1px rgba(60, 64, 67, 0.15);\n",
              "      fill: #174EA6;\n",
              "    }\n",
              "\n",
              "    [theme=dark] .colab-df-convert {\n",
              "      background-color: #3B4455;\n",
              "      fill: #D2E3FC;\n",
              "    }\n",
              "\n",
              "    [theme=dark] .colab-df-convert:hover {\n",
              "      background-color: #434B5C;\n",
              "      box-shadow: 0px 1px 3px 1px rgba(0, 0, 0, 0.15);\n",
              "      filter: drop-shadow(0px 1px 2px rgba(0, 0, 0, 0.3));\n",
              "      fill: #FFFFFF;\n",
              "    }\n",
              "  </style>\n",
              "\n",
              "      <script>\n",
              "        const buttonEl =\n",
              "          document.querySelector('#df-a8b14340-ce6d-41a1-85ff-015215d22a51 button.colab-df-convert');\n",
              "        buttonEl.style.display =\n",
              "          google.colab.kernel.accessAllowed ? 'block' : 'none';\n",
              "\n",
              "        async function convertToInteractive(key) {\n",
              "          const element = document.querySelector('#df-a8b14340-ce6d-41a1-85ff-015215d22a51');\n",
              "          const dataTable =\n",
              "            await google.colab.kernel.invokeFunction('convertToInteractive',\n",
              "                                                     [key], {});\n",
              "          if (!dataTable) return;\n",
              "\n",
              "          const docLinkHtml = 'Like what you see? Visit the ' +\n",
              "            '<a target=\"_blank\" href=https://colab.research.google.com/notebooks/data_table.ipynb>data table notebook</a>'\n",
              "            + ' to learn more about interactive tables.';\n",
              "          element.innerHTML = '';\n",
              "          dataTable['output_type'] = 'display_data';\n",
              "          await google.colab.output.renderOutput(dataTable, element);\n",
              "          const docLink = document.createElement('div');\n",
              "          docLink.innerHTML = docLinkHtml;\n",
              "          element.appendChild(docLink);\n",
              "        }\n",
              "      </script>\n",
              "    </div>\n",
              "  </div>\n",
              "  "
            ]
          },
          "metadata": {},
          "execution_count": 272
        }
      ]
    },
    {
      "cell_type": "code",
      "source": [
        "data.info()"
      ],
      "metadata": {
        "colab": {
          "base_uri": "https://localhost:8080/"
        },
        "id": "5er5xhsxw4ik",
        "outputId": "543f0eda-3c7b-4e3d-9135-9157d9be83b9"
      },
      "execution_count": 273,
      "outputs": [
        {
          "output_type": "stream",
          "name": "stdout",
          "text": [
            "<class 'pandas.core.frame.DataFrame'>\n",
            "RangeIndex: 2000 entries, 0 to 1999\n",
            "Data columns (total 21 columns):\n",
            " #   Column         Non-Null Count  Dtype  \n",
            "---  ------         --------------  -----  \n",
            " 0   battery_power  2000 non-null   int64  \n",
            " 1   blue           2000 non-null   int64  \n",
            " 2   clock_speed    2000 non-null   float64\n",
            " 3   dual_sim       2000 non-null   int64  \n",
            " 4   fc             2000 non-null   int64  \n",
            " 5   four_g         2000 non-null   int64  \n",
            " 6   int_memory     2000 non-null   int64  \n",
            " 7   m_dep          2000 non-null   float64\n",
            " 8   mobile_wt      2000 non-null   int64  \n",
            " 9   n_cores        2000 non-null   int64  \n",
            " 10  pc             2000 non-null   int64  \n",
            " 11  px_height      2000 non-null   int64  \n",
            " 12  px_width       2000 non-null   int64  \n",
            " 13  ram            2000 non-null   int64  \n",
            " 14  sc_h           2000 non-null   int64  \n",
            " 15  sc_w           2000 non-null   int64  \n",
            " 16  talk_time      2000 non-null   int64  \n",
            " 17  three_g        2000 non-null   int64  \n",
            " 18  touch_screen   2000 non-null   int64  \n",
            " 19  wifi           2000 non-null   int64  \n",
            " 20  price_range    2000 non-null   int64  \n",
            "dtypes: float64(2), int64(19)\n",
            "memory usage: 328.2 KB\n"
          ]
        }
      ]
    },
    {
      "cell_type": "code",
      "source": [
        "input = data.drop(['price_range'], axis=1)\n",
        "output = data.price_range"
      ],
      "metadata": {
        "id": "aF4twEYcxD5n"
      },
      "execution_count": 274,
      "outputs": []
    },
    {
      "cell_type": "code",
      "source": [
        "#EDA\n",
        "for colm in data.select_dtypes(np.number).columns[:-1]:\n",
        "    \n",
        "    print(colm) \n",
        "    #sns.displot(data, x = colm,  hue=\"price_range\")\n",
        "    sns.displot(data, x = colm,  hue=\"price_range\", kind=\"kde\", fill=True)\n",
        "    plt.grid()\n",
        "    plt.show()"
      ],
      "metadata": {
        "colab": {
          "base_uri": "https://localhost:8080/",
          "height": 1000
        },
        "id": "Bfor-ubvC7hQ",
        "outputId": "54635b6b-d0e1-4f77-f966-de143d8b2e32"
      },
      "execution_count": 275,
      "outputs": [
        {
          "output_type": "stream",
          "name": "stdout",
          "text": [
            "battery_power\n"
          ]
        },
        {
          "output_type": "display_data",
          "data": {
            "text/plain": [
              "<Figure size 427x360 with 1 Axes>"
            ],
            "image/png": "[encoded data removed]"
          },
          "metadata": {
            "needs_background": "light"
          }
        },
        {
          "output_type": "stream",
          "name": "stdout",
          "text": [
            "blue\n"
          ]
        },
        {
          "output_type": "display_data",
          "data": {
            "text/plain": [
              "<Figure size 427x360 with 1 Axes>"
            ],
            "image/png": "[encoded data removed]"
          },
          "metadata": {
            "needs_background": "light"
          }
        },
        {
          "output_type": "stream",
          "name": "stdout",
          "text": [
            "clock_speed\n"
          ]
        },
        {
          "output_type": "display_data",
          "data": {
            "text/plain": [
              "<Figure size 427x360 with 1 Axes>"
            ],
            "image/png": "[encoded data removed]"
          },
          "metadata": {
            "needs_background": "light"
          }
        },
        {
          "output_type": "stream",
          "name": "stdout",
          "text": [
            "dual_sim\n"
          ]
        },
        {
          "output_type": "display_data",
          "data": {
            "text/plain": [
              "<Figure size 427x360 with 1 Axes>"
            ],
            "image/png": "[encoded data removed]"
          },
          "metadata": {
            "needs_background": "light"
          }
        },
        {
          "output_type": "stream",
          "name": "stdout",
          "text": [
            "fc\n"
          ]
        },
        {
          "output_type": "display_data",
          "data": {
            "text/plain": [
              "<Figure size 427x360 with 1 Axes>"
            ],
            "image/png": "[encoded data removed]"
          },
          "metadata": {
            "needs_background": "light"
          }
        },
        {
          "output_type": "stream",
          "name": "stdout",
          "text": [
            "four_g\n"
          ]
        },
        {
          "output_type": "display_data",
          "data": {
            "text/plain": [
              "<Figure size 427x360 with 1 Axes>"
            ],
            "image/png": "[encoded data removed]"
          },
          "metadata": {
            "needs_background": "light"
          }
        },
        {
          "output_type": "stream",
          "name": "stdout",
          "text": [
            "int_memory\n"
          ]
        },
        {
          "output_type": "display_data",
          "data": {
            "text/plain": [
              "<Figure size 427x360 with 1 Axes>"
            ],
            "image/png": "[encoded data removed]"
          },
          "metadata": {
            "needs_background": "light"
          }
        },
        {
          "output_type": "stream",
          "name": "stdout",
          "text": [
            "m_dep\n"
          ]
        },
        {
          "output_type": "display_data",
          "data": {
            "text/plain": [
              "<Figure size 427x360 with 1 Axes>"
            ],
            "image/png": "[encoded data removed]"
          },
          "metadata": {
            "needs_background": "light"
          }
        },
        {
          "output_type": "stream",
          "name": "stdout",
          "text": [
            "mobile_wt\n"
          ]
        },
        {
          "output_type": "display_data",
          "data": {
            "text/plain": [
              "<Figure size 427x360 with 1 Axes>"
            ],
            "image/png": "[encoded data removed]"
          },
          "metadata": {
            "needs_background": "light"
          }
        },
        {
          "output_type": "stream",
          "name": "stdout",
          "text": [
            "n_cores\n"
          ]
        },
        {
          "output_type": "display_data",
          "data": {
            "text/plain": [
              "<Figure size 427x360 with 1 Axes>"
            ],
            "image/png": "[encoded data removed]"
          },
          "metadata": {
            "needs_background": "light"
          }
        },
        {
          "output_type": "stream",
          "name": "stdout",
          "text": [
            "pc\n"
          ]
        },
        {
          "output_type": "display_data",
          "data": {
            "text/plain": [
              "<Figure size 427x360 with 1 Axes>"
            ],
            "image/png": "[encoded data removed]"
          },
          "metadata": {
            "needs_background": "light"
          }
        },
        {
          "output_type": "stream",
          "name": "stdout",
          "text": [
            "px_height\n"
          ]
        },
        {
          "output_type": "display_data",
          "data": {
            "text/plain": [
              "<Figure size 427x360 with 1 Axes>"
            ],
            "image/png": "[encoded data removed]"
          },
          "metadata": {
            "needs_background": "light"
          }
        },
        {
          "output_type": "stream",
          "name": "stdout",
          "text": [
            "px_width\n"
          ]
        },
        {
          "output_type": "display_data",
          "data": {
            "text/plain": [
              "<Figure size 427x360 with 1 Axes>"
            ],
            "image/png": "[encoded data removed]"
          },
          "metadata": {
            "needs_background": "light"
          }
        },
        {
          "output_type": "stream",
          "name": "stdout",
          "text": [
            "ram\n"
          ]
        },
        {
          "output_type": "display_data",
          "data": {
            "text/plain": [
              "<Figure size 427x360 with 1 Axes>"
            ],
            "image/png": "[encoded data removed]"
          },
          "metadata": {
            "needs_background": "light"
          }
        },
        {
          "output_type": "stream",
          "name": "stdout",
          "text": [
            "sc_h\n"
          ]
        },
        {
          "output_type": "display_data",
          "data": {
            "text/plain": [
              "<Figure size 427x360 with 1 Axes>"
            ],
            "image/png": "[encoded data removed]"
          },
          "metadata": {
            "needs_background": "light"
          }
        },
        {
          "output_type": "stream",
          "name": "stdout",
          "text": [
            "sc_w\n"
          ]
        },
        {
          "output_type": "display_data",
          "data": {
            "text/plain": [
              "<Figure size 427x360 with 1 Axes>"
            ],
            "image/png": "[encoded data removed]"
          },
          "metadata": {
            "needs_background": "light"
          }
        },
        {
          "output_type": "stream",
          "name": "stdout",
          "text": [
            "talk_time\n"
          ]
        },
        {
          "output_type": "display_data",
          "data": {
            "text/plain": [
              "<Figure size 427x360 with 1 Axes>"
            ],
            "image/png": "[encoded data removed]"
          },
          "metadata": {
            "needs_background": "light"
          }
        },
        {
          "output_type": "stream",
          "name": "stdout",
          "text": [
            "three_g\n"
          ]
        },
        {
          "output_type": "display_data",
          "data": {
            "text/plain": [
              "<Figure size 427x360 with 1 Axes>"
            ],
            "image/png": "[encoded data removed]"
          },
          "metadata": {
            "needs_background": "light"
          }
        },
        {
          "output_type": "stream",
          "name": "stdout",
          "text": [
            "touch_screen\n"
          ]
        },
        {
          "output_type": "display_data",
          "data": {
            "text/plain": [
              "<Figure size 427x360 with 1 Axes>"
            ],
            "image/png": "[encoded data removed]"
          },
          "metadata": {
            "needs_background": "light"
          }
        },
        {
          "output_type": "stream",
          "name": "stdout",
          "text": [
            "wifi\n"
          ]
        },
        {
          "output_type": "display_data",
          "data": {
            "text/plain": [
              "<Figure size 427x360 with 1 Axes>"
            ],
            "image/png": "[encoded data removed]"
          },
          "metadata": {
            "needs_background": "light"
          }
        }
      ]
    },
    {
      "cell_type": "code",
      "source": [
        "# 골고루 분포되어있어서 오버샘플링 따로 필요없다\n",
        "sns.countplot(x = 'price_range' , data = data)"
      ],
      "metadata": {
        "colab": {
          "base_uri": "https://localhost:8080/",
          "height": 299
        },
        "id": "ALZY0Eq5xTJq",
        "outputId": "d1020453-2a2f-4f58-eb59-7317c829ca4d"
      },
      "execution_count": 276,
      "outputs": [
        {
          "output_type": "execute_result",
          "data": {
            "text/plain": [
              "<matplotlib.axes._subplots.AxesSubplot at 0x7f82f6f865d0>"
            ]
          },
          "metadata": {},
          "execution_count": 276
        },
        {
          "output_type": "display_data",
          "data": {
            "text/plain": [
              "<Figure size 432x288 with 1 Axes>"
            ],
            "image/png": "[encoded data removed]"
          },
          "metadata": {
            "needs_background": "light"
          }
        }
      ]
    },
    {
      "cell_type": "code",
      "source": [
        "device = 'cuda' if torch.cuda.is_available() else 'cpu'\n",
        "\n",
        "torch.manual_seed(777)\n",
        "if device == \"cuda\":\n",
        "  torch.cuda.manual_seed_all(777)"
      ],
      "metadata": {
        "id": "SggpQfSPt85C"
      },
      "execution_count": 277,
      "outputs": []
    },
    {
      "cell_type": "code",
      "source": [
        "x_train, x_test, y_train, y_test = train_test_split(input, output, test_size = 0.3, random_state = 42, stratify= data.price_range, shuffle = True)\n",
        "\n",
        "x_train = torch.FloatTensor(x_train.values).to(device)\n",
        "y_train = torch.LongTensor(y_train.values).to(device)\n",
        "x_test = torch.FloatTensor(x_test.values)\n",
        "y_test = torch.LongTensor(y_test.values)\n",
        "\n",
        "# 데이터를 tensor로 바꿔주고 gpu 연산이 가능해지도록 gpu에 옮김\n",
        "# label 값을 왜 long 에 옮겨놓는가? loss function이 다르기 때문 "
      ],
      "metadata": {
        "id": "bLMzf-2ntYeX"
      },
      "execution_count": 278,
      "outputs": []
    },
    {
      "cell_type": "code",
      "source": [
        "print(x_train[0])\n",
        "print(y_train[0])\n",
        "\n",
        "#input 20개 (속성이 20개)\n",
        "#y의 class는 4개 (0,1,2,3)"
      ],
      "metadata": {
        "colab": {
          "base_uri": "https://localhost:8080/"
        },
        "id": "umEdiTZkrVqS",
        "outputId": "37537a2f-c308-4958-ecdd-b71a2e0c8723"
      },
      "execution_count": 279,
      "outputs": [
        {
          "output_type": "stream",
          "name": "stdout",
          "text": [
            "tensor([8.0700e+02, 1.0000e+00, 5.0000e-01, 1.0000e+00, 0.0000e+00, 0.0000e+00,\n",
            "        3.7000e+01, 2.0000e-01, 1.2700e+02, 4.0000e+00, 0.0000e+00, 2.4500e+02,\n",
            "        8.2900e+02, 2.3190e+03, 5.0000e+00, 4.0000e+00, 4.0000e+00, 0.0000e+00,\n",
            "        0.0000e+00, 0.0000e+00], device='cuda:0')\n",
            "tensor(1, device='cuda:0')\n"
          ]
        }
      ]
    },
    {
      "cell_type": "markdown",
      "source": [
        "파이토치에서는 데이터셋을 좀 더 쉽게 다룰 수 있도록 유용한 도구로서 torch.utils.data.Dataset과 torch.utils.data.DataLoader를 제공합니다. 이를 사용하면 미니 배치 학습, 데이터 셔플(shuffle), 병렬 처리까지 간단히 수행할 수 있습니다. 기본적인 사용 방법은 Dataset을 정의하고, 이를 DataLoader에 전달하는 것\n",
        "- init : class 에서 객체가 생성되면 바로 실행되는 함수\n",
        "- len : observation 수를 정의하는 함수\n",
        "- getitem : iteration 마다 해당하는 데이터를 돌려주는 함수"
      ],
      "metadata": {
        "id": "combmxzmYFyn"
      }
    },
    {
      "cell_type": "code",
      "source": [
        "from torch.utils.data import Dataset\n",
        "class CustomDataset(Dataset):\n",
        "  def __init__(self):\n",
        "    self.x_data = x_train\n",
        "    self.y_data = [[y] for y in y_train]\n",
        "#  데이터셋의 전처리를 해주는 부분\n",
        "\n",
        "  def __len__(self):\n",
        "    return len(self.x_data)\n",
        "#  데이터셋의 길이. 즉, 총 샘플의 수를 적어주는 부분\n",
        "\n",
        "  def __getitem__(self, idx):\n",
        "    x = torch.FloatTensor(self.x_data[idx]).to(device)\n",
        "    y = torch.LongTensor(self.y_data[idx]).to(device)\n",
        "#  데이터셋에서 특정 1개의 샘플을 가져오는 함수\n",
        "\n",
        "    return x,y"
      ],
      "metadata": {
        "id": "y38TlgXoqV5Z"
      },
      "execution_count": 280,
      "outputs": []
    },
    {
      "cell_type": "code",
      "source": [
        "batch_size = 8\n",
        "\n",
        "dataset = CustomDataset()\n",
        "dataloader = DataLoader(dataset, batch_size=batch_size) "
      ],
      "metadata": {
        "id": "x8VHwnuFqino"
      },
      "execution_count": 281,
      "outputs": []
    },
    {
      "cell_type": "code",
      "source": [
        "model = nn.Sequential(\n",
        "          nn.Linear(30,398, bias=True),\n",
        "          nn.Sigmoid(),\n",
        "          nn.Linear(398,15, bias=True),\n",
        "          nn.Sigmoid(),\n",
        "          nn.Linear(15,4, bias=True), \n",
        "          nn.Softmax()\n",
        "          ).to(device)"
      ],
      "metadata": {
        "id": "C6V7a4tyq6Jc"
      },
      "execution_count": 282,
      "outputs": []
    },
    {
      "cell_type": "markdown",
      "source": [
        "class로 구현 가능\n",
        "- init : 초기 생성 함수\n",
        "- foward : 순전파(입력값 => 예측값 의 과정)"
      ],
      "metadata": {
        "id": "07uV8RY7Yr_5"
      }
    },
    {
      "cell_type": "markdown",
      "source": [
        "# Model1 - 기본 제공 모델"
      ],
      "metadata": {
        "id": "d2_TL8bJ_wEo"
      }
    },
    {
      "cell_type": "code",
      "source": [
        "class Model(torch.nn.Module):\n",
        "\n",
        "  def __init__(self):\n",
        "    super(Model, self).__init__()\n",
        "    self.layer1 = nn.Sequential(\n",
        "          nn.Linear(20,398, bias=True), # input_layer = 20, hidden_layer1 = 398 \n",
        "          nn.Sigmoid(),\n",
        "        nn.BatchNorm1d(398)\n",
        "    )\n",
        "  # activation function 이용 \n",
        "  #   nn.ReLU()\n",
        "  #   nn.tanH()\n",
        "  #   https://pytorch.org/docs/stable/nn.html 그 외에도 여기서 확인 가능함 \n",
        "  #   파라미터가 필요하지 않다는 것이 특징\n",
        "\n",
        "  # batch normazliation 1d, 파라미터 값으로 vector의 길이를 전해줌\n",
        "  # 추후에 이미지를 다루게 된다면, 그때는 batch normalization 2d를 이용하게 됨 \n",
        "  # 그때는 파라미터 값으로 채널, 가로, 세로 길이를 전달해주게 됨 \n",
        "\n",
        "    self.layer2 = nn.Sequential(\n",
        "          nn.Linear(398,15, bias=True), # hidden_layer1 = 398, hidden_layer2 = 15\n",
        "        nn.Sigmoid()\n",
        "    )\n",
        "    self.layer3 = nn.Sequential(\n",
        "          nn.Linear(15,10, bias=True), # hidden_layer1 = 15, hidden_layer2 = 10\n",
        "        nn.Sigmoid()\n",
        "    )\n",
        "    self.layer4 = nn.Sequential(\n",
        "        nn.Linear(10, 4, bias=True), # hidden_layer3 = 10, output_layer = 4\n",
        "        nn.Softmax()\n",
        "    )\n",
        "\n",
        "  def forward(self,x):\n",
        "    output = self.layer1(x)\n",
        "    output = self.layer2(output)\n",
        "    output = self.layer3(output)\n",
        "    output = self.layer4(output)\n",
        "    return output"
      ],
      "metadata": {
        "id": "a0zLstbMqxEZ"
      },
      "execution_count": 283,
      "outputs": []
    },
    {
      "cell_type": "code",
      "source": [
        "def init_weights(layer):\n",
        "    if isinstance(layer, nn.Linear):\n",
        "        torch.nn.init.xavier_uniform(layer.weight)\n",
        "        layer.bias.data.fill_(0.01)\n",
        "\n",
        "        #xavier사용\n",
        "        # Layer의 weight를 어떤 분포를 가지도록 초기화시켜줌+global minimum찾기 위해서"
      ],
      "metadata": {
        "id": "kqcqqkECrSGK"
      },
      "execution_count": 284,
      "outputs": []
    },
    {
      "cell_type": "code",
      "source": [
        "model = Model().to(device)\n",
        "model.apply(init_weights)"
      ],
      "metadata": {
        "colab": {
          "base_uri": "https://localhost:8080/"
        },
        "id": "oMDUBFg6rUpw",
        "outputId": "db4e3bce-a3bc-4ff3-9e85-b05e85d72ce2"
      },
      "execution_count": 285,
      "outputs": [
        {
          "output_type": "stream",
          "name": "stderr",
          "text": [
            "/usr/local/lib/python3.7/dist-packages/ipykernel_launcher.py:3: UserWarning: nn.init.xavier_uniform is now deprecated in favor of nn.init.xavier_uniform_.\n",
            "  This is separate from the ipykernel package so we can avoid doing imports until\n"
          ]
        },
        {
          "output_type": "execute_result",
          "data": {
            "text/plain": [
              "Model(\n",
              "  (layer1): Sequential(\n",
              "    (0): Linear(in_features=20, out_features=398, bias=True)\n",
              "    (1): Sigmoid()\n",
              "    (2): BatchNorm1d(398, eps=1e-05, momentum=0.1, affine=True, track_running_stats=True)\n",
              "  )\n",
              "  (layer2): Sequential(\n",
              "    (0): Linear(in_features=398, out_features=15, bias=True)\n",
              "    (1): Sigmoid()\n",
              "  )\n",
              "  (layer3): Sequential(\n",
              "    (0): Linear(in_features=15, out_features=10, bias=True)\n",
              "    (1): Sigmoid()\n",
              "  )\n",
              "  (layer4): Sequential(\n",
              "    (0): Linear(in_features=10, out_features=4, bias=True)\n",
              "    (1): Softmax(dim=None)\n",
              "  )\n",
              ")"
            ]
          },
          "metadata": {},
          "execution_count": 285
        }
      ]
    },
    {
      "cell_type": "code",
      "source": [
        "print(model)"
      ],
      "metadata": {
        "colab": {
          "base_uri": "https://localhost:8080/"
        },
        "id": "OwZt5CetrYFb",
        "outputId": "066f7a49-d8cf-45a8-c2bd-c2ae56e50e44"
      },
      "execution_count": 286,
      "outputs": [
        {
          "output_type": "stream",
          "name": "stdout",
          "text": [
            "Model(\n",
            "  (layer1): Sequential(\n",
            "    (0): Linear(in_features=20, out_features=398, bias=True)\n",
            "    (1): Sigmoid()\n",
            "    (2): BatchNorm1d(398, eps=1e-05, momentum=0.1, affine=True, track_running_stats=True)\n",
            "  )\n",
            "  (layer2): Sequential(\n",
            "    (0): Linear(in_features=398, out_features=15, bias=True)\n",
            "    (1): Sigmoid()\n",
            "  )\n",
            "  (layer3): Sequential(\n",
            "    (0): Linear(in_features=15, out_features=10, bias=True)\n",
            "    (1): Sigmoid()\n",
            "  )\n",
            "  (layer4): Sequential(\n",
            "    (0): Linear(in_features=10, out_features=4, bias=True)\n",
            "    (1): Softmax(dim=None)\n",
            "  )\n",
            ")\n"
          ]
        }
      ]
    },
    {
      "cell_type": "code",
      "source": [
        "loss_fn  = nn.CrossEntropyLoss().to(device)\n",
        "\n",
        "optimizer = optim.Adam(model.parameters(), lr= 0.01)\n",
        "\n",
        "# https://pytorch.org/docs/stable/optim.html#module-torch.optim 페이지 참조\n",
        "# optimizer = optim.SGD(model.parameters(), lr=0.1, momentum=0.9)\n",
        "# sgd 등등"
      ],
      "metadata": {
        "id": "AYFp-eTErh7b"
      },
      "execution_count": 287,
      "outputs": []
    },
    {
      "cell_type": "code",
      "source": [
        "losses = []\n",
        "for epoch in range(100):\n",
        "\n",
        "  optimizer.zero_grad()\n",
        "  hypothesis = model(x_train)\n",
        "\n",
        "  # 비용 함수\n",
        "  cost = loss_fn(hypothesis, y_train)\n",
        "  cost.backward()\n",
        "  optimizer.step()\n",
        "  losses.append(cost.item())\n",
        "\n",
        "  if epoch % 10 == 0:\n",
        "    print(epoch, cost.item())"
      ],
      "metadata": {
        "colab": {
          "base_uri": "https://localhost:8080/"
        },
        "id": "90QxHvlIrjS7",
        "outputId": "4c3c69b5-53f7-40c4-a4cd-de8f4c71ae30"
      },
      "execution_count": 288,
      "outputs": [
        {
          "output_type": "stream",
          "name": "stdout",
          "text": [
            "0 1.3948723077774048\n",
            "10 1.314161777496338\n",
            "20 1.2644449472427368\n"
          ]
        },
        {
          "output_type": "stream",
          "name": "stderr",
          "text": [
            "/usr/local/lib/python3.7/dist-packages/torch/nn/modules/container.py:139: UserWarning: Implicit dimension choice for softmax has been deprecated. Change the call to include dim=X as an argument.\n",
            "  input = module(input)\n"
          ]
        },
        {
          "output_type": "stream",
          "name": "stdout",
          "text": [
            "30 1.2180700302124023\n",
            "40 1.1718837022781372\n",
            "50 1.1352571249008179\n",
            "60 1.1167467832565308\n",
            "70 1.1018304824829102\n",
            "80 1.104492425918579\n",
            "90 1.0976581573486328\n"
          ]
        }
      ]
    },
    {
      "cell_type": "code",
      "source": [
        "plt.plot(losses)\n",
        "plt.show()"
      ],
      "metadata": {
        "colab": {
          "base_uri": "https://localhost:8080/",
          "height": 265
        },
        "id": "81ASYrW7roFM",
        "outputId": "2cf68e17-3fb5-4abd-c698-d296268fb701"
      },
      "execution_count": 289,
      "outputs": [
        {
          "output_type": "display_data",
          "data": {
            "text/plain": [
              "<Figure size 432x288 with 1 Axes>"
            ],
            "image/png": "[encoded data removed]"
          },
          "metadata": {
            "needs_background": "light"
          }
        }
      ]
    },
    {
      "cell_type": "code",
      "source": [
        "with torch.no_grad():\n",
        "  model = model.to('cpu')\n",
        "  y_pred = model(x_test)\n",
        "  y_pred = y_pred.detach().numpy()\n",
        "  predicted = np.argmax(y_pred, axis =1)\n",
        "  accuracy = (accuracy_score(predicted, y_test))"
      ],
      "metadata": {
        "colab": {
          "base_uri": "https://localhost:8080/"
        },
        "id": "h4kJzpLErqhZ",
        "outputId": "d99fc8ef-d379-410c-9984-9f3f8eb3cc0b"
      },
      "execution_count": 290,
      "outputs": [
        {
          "output_type": "stream",
          "name": "stderr",
          "text": [
            "/usr/local/lib/python3.7/dist-packages/torch/nn/modules/container.py:139: UserWarning: Implicit dimension choice for softmax has been deprecated. Change the call to include dim=X as an argument.\n",
            "  input = module(input)\n"
          ]
        }
      ]
    },
    {
      "cell_type": "code",
      "source": [
        "print(f'model의 output은 :  {y_pred[0]}')\n",
        "print(f'argmax를 한 후의 output은 {predicted[0]}')\n",
        "print(f'accuracy는 {accuracy}')"
      ],
      "metadata": {
        "colab": {
          "base_uri": "https://localhost:8080/"
        },
        "id": "vyIKhs3Nr6Ay",
        "outputId": "1c21f3ee-cc8e-4f07-bee9-2f33fc995b89"
      },
      "execution_count": 291,
      "outputs": [
        {
          "output_type": "stream",
          "name": "stdout",
          "text": [
            "model의 output은 :  [0.0017568  0.01271942 0.1913803  0.79414356]\n",
            "argmax를 한 후의 output은 3\n",
            "accuracy는 0.6333333333333333\n"
          ]
        }
      ]
    },
    {
      "cell_type": "code",
      "source": [
        "result = pd.DataFrame(columns=['activation_f','optimizer','epoch', 'layer','lr','accuracy'])"
      ],
      "metadata": {
        "id": "WVDog74qTNIv"
      },
      "execution_count": 292,
      "outputs": []
    },
    {
      "cell_type": "code",
      "source": [
        "new_row = {'activation_f':'Sigmoid','optimizer':'Adam','epoch':100, 'layer':4,'lr':0.01,'accuracy':accuracy}\n",
        "result = result.append(new_row, ignore_index=True)"
      ],
      "metadata": {
        "id": "ETC7MBcUT45M"
      },
      "execution_count": 293,
      "outputs": []
    },
    {
      "cell_type": "markdown",
      "source": [
        "# Model2\n",
        "- 첫번째, 두번째 층에 배치정규화, 활성화함수는 tanh()"
      ],
      "metadata": {
        "id": "qfdPusj_7I3f"
      }
    },
    {
      "cell_type": "code",
      "source": [
        "class Model(torch.nn.Module):\n",
        "\n",
        "  def __init__(self):\n",
        "    \n",
        "    super().__init__()\n",
        "    \n",
        "    self.layer1 = nn.Sequential(\n",
        "          nn.Linear(20,64, bias=True),\n",
        "          nn.Tanh(),\n",
        "        nn.BatchNorm1d(64)\n",
        "    )\n",
        "    self.layer2 = nn.Sequential(\n",
        "          nn.Linear(64,32, bias=True),\n",
        "        nn.Tanh(),\n",
        "        nn.BatchNorm1d(32)\n",
        "    )\n",
        "    self.layer3 = nn.Sequential(\n",
        "          nn.Linear(32,16, bias=True), \n",
        "        nn.Tanh()\n",
        "    )\n",
        "    self.layer4 = nn.Sequential(\n",
        "          nn.Linear(16,4, bias=True), \n",
        "        nn.Tanh()\n",
        "    )\n",
        "\n",
        "  def forward(self,x):\n",
        "    output = self.layer1(x)\n",
        "    output = self.layer2(output)\n",
        "    output = self.layer3(output)\n",
        "    output = self.layer4(output)\n",
        "    return output"
      ],
      "metadata": {
        "id": "UgVCPu0H7H5f"
      },
      "execution_count": 294,
      "outputs": []
    },
    {
      "cell_type": "code",
      "source": [
        "model = Model().to(device)\n",
        "model.apply(init_weights)"
      ],
      "metadata": {
        "colab": {
          "base_uri": "https://localhost:8080/"
        },
        "outputId": "64c44aff-a8bc-4498-b709-94024c62d1d8",
        "id": "l5U-KTiV7YIZ"
      },
      "execution_count": 295,
      "outputs": [
        {
          "output_type": "stream",
          "name": "stderr",
          "text": [
            "/usr/local/lib/python3.7/dist-packages/ipykernel_launcher.py:3: UserWarning: nn.init.xavier_uniform is now deprecated in favor of nn.init.xavier_uniform_.\n",
            "  This is separate from the ipykernel package so we can avoid doing imports until\n"
          ]
        },
        {
          "output_type": "execute_result",
          "data": {
            "text/plain": [
              "Model(\n",
              "  (layer1): Sequential(\n",
              "    (0): Linear(in_features=20, out_features=64, bias=True)\n",
              "    (1): Tanh()\n",
              "    (2): BatchNorm1d(64, eps=1e-05, momentum=0.1, affine=True, track_running_stats=True)\n",
              "  )\n",
              "  (layer2): Sequential(\n",
              "    (0): Linear(in_features=64, out_features=32, bias=True)\n",
              "    (1): Tanh()\n",
              "    (2): BatchNorm1d(32, eps=1e-05, momentum=0.1, affine=True, track_running_stats=True)\n",
              "  )\n",
              "  (layer3): Sequential(\n",
              "    (0): Linear(in_features=32, out_features=16, bias=True)\n",
              "    (1): Tanh()\n",
              "  )\n",
              "  (layer4): Sequential(\n",
              "    (0): Linear(in_features=16, out_features=4, bias=True)\n",
              "    (1): Tanh()\n",
              "  )\n",
              ")"
            ]
          },
          "metadata": {},
          "execution_count": 295
        }
      ]
    },
    {
      "cell_type": "code",
      "source": [
        "print(model)"
      ],
      "metadata": {
        "colab": {
          "base_uri": "https://localhost:8080/"
        },
        "outputId": "950f7376-7098-465e-e075-6b36d4d0401d",
        "id": "Qmnd-58D7YIa"
      },
      "execution_count": 296,
      "outputs": [
        {
          "output_type": "stream",
          "name": "stdout",
          "text": [
            "Model(\n",
            "  (layer1): Sequential(\n",
            "    (0): Linear(in_features=20, out_features=64, bias=True)\n",
            "    (1): Tanh()\n",
            "    (2): BatchNorm1d(64, eps=1e-05, momentum=0.1, affine=True, track_running_stats=True)\n",
            "  )\n",
            "  (layer2): Sequential(\n",
            "    (0): Linear(in_features=64, out_features=32, bias=True)\n",
            "    (1): Tanh()\n",
            "    (2): BatchNorm1d(32, eps=1e-05, momentum=0.1, affine=True, track_running_stats=True)\n",
            "  )\n",
            "  (layer3): Sequential(\n",
            "    (0): Linear(in_features=32, out_features=16, bias=True)\n",
            "    (1): Tanh()\n",
            "  )\n",
            "  (layer4): Sequential(\n",
            "    (0): Linear(in_features=16, out_features=4, bias=True)\n",
            "    (1): Tanh()\n",
            "  )\n",
            ")\n"
          ]
        }
      ]
    },
    {
      "cell_type": "code",
      "source": [
        "loss_fn  = nn.CrossEntropyLoss().to(device)\n",
        "\n",
        "optimizer = optim.Adam(model.parameters(), lr= 0.01)\n",
        "\n",
        "# https://pytorch.org/docs/stable/optim.html#module-torch.optim 페이지 참조\n",
        "# optimizer = optim.SGD(model.parameters(), lr=0.1, momentum=0.9)\n",
        "# sgd 등등"
      ],
      "metadata": {
        "id": "9iYZm4_97YIa"
      },
      "execution_count": 297,
      "outputs": []
    },
    {
      "cell_type": "code",
      "source": [
        "losses = []\n",
        "for epoch in range(1000):\n",
        "\n",
        "  optimizer.zero_grad()\n",
        "  hypothesis = model(x_train)\n",
        "\n",
        "  # 비용 함수\n",
        "  cost = loss_fn(hypothesis, y_train)\n",
        "  cost.backward()\n",
        "  optimizer.step()\n",
        "  losses.append(cost.item())\n",
        "\n",
        "  if epoch % 10 == 0:\n",
        "    print(epoch, cost.item())"
      ],
      "metadata": {
        "colab": {
          "base_uri": "https://localhost:8080/"
        },
        "outputId": "3241243e-09f0-4c89-f391-1ad3816fb0f0",
        "id": "Qt_1F3yZ7YIa"
      },
      "execution_count": 298,
      "outputs": [
        {
          "output_type": "stream",
          "name": "stdout",
          "text": [
            "0 1.331551432609558\n",
            "10 1.0531113147735596\n",
            "20 1.0122816562652588\n",
            "30 0.989161491394043\n",
            "40 1.01007878780365\n",
            "50 0.9924046993255615\n",
            "60 0.9902581572532654\n",
            "70 0.9802326560020447\n",
            "80 0.9872114062309265\n",
            "90 1.0035942792892456\n",
            "100 0.9630110263824463\n",
            "110 0.9519355893135071\n",
            "120 0.9648498296737671\n",
            "130 0.9762609004974365\n",
            "140 0.9571745991706848\n",
            "150 0.9442890286445618\n",
            "160 0.908323347568512\n",
            "170 0.946918785572052\n",
            "180 0.9474157094955444\n",
            "190 0.9211970567703247\n",
            "200 0.9718666076660156\n",
            "210 0.957414448261261\n",
            "220 0.8820002675056458\n",
            "230 0.8681020736694336\n",
            "240 0.8800565004348755\n",
            "250 0.8647297620773315\n",
            "260 0.8834730982780457\n",
            "270 0.8641480207443237\n",
            "280 0.9098224639892578\n",
            "290 0.8889333605766296\n",
            "300 0.8730818629264832\n",
            "310 0.8978380560874939\n",
            "320 0.872692346572876\n",
            "330 0.8556917309761047\n",
            "340 0.8504282236099243\n",
            "350 0.8774988055229187\n",
            "360 0.9040265083312988\n",
            "370 0.8463581800460815\n",
            "380 0.8699849247932434\n",
            "390 0.8703524470329285\n",
            "400 0.9003894925117493\n",
            "410 0.8504957556724548\n",
            "420 0.8510762453079224\n",
            "430 0.901611328125\n",
            "440 0.8621833920478821\n",
            "450 0.8679589629173279\n",
            "460 0.9021571278572083\n",
            "470 0.8541280627250671\n",
            "480 0.8455822467803955\n",
            "490 0.8314809799194336\n",
            "500 0.8221858143806458\n",
            "510 0.8586174845695496\n",
            "520 0.8440169095993042\n",
            "530 0.8995211124420166\n",
            "540 0.8699684143066406\n",
            "550 0.935222864151001\n",
            "560 0.8438444137573242\n",
            "570 0.8538357019424438\n",
            "580 0.8455113768577576\n",
            "590 0.8269438147544861\n",
            "600 0.8470697999000549\n",
            "610 0.8496989011764526\n",
            "620 0.8481353521347046\n",
            "630 0.837176501750946\n",
            "640 0.8996208906173706\n",
            "650 0.8910053968429565\n",
            "660 0.849096953868866\n",
            "670 0.8894152641296387\n",
            "680 0.8836818933486938\n",
            "690 0.8538820743560791\n",
            "700 0.8449481129646301\n",
            "710 0.8460565209388733\n",
            "720 0.8249421119689941\n",
            "730 0.8537618517875671\n",
            "740 0.8179287910461426\n",
            "750 0.8201000690460205\n",
            "760 0.8285977840423584\n",
            "770 0.8248826265335083\n",
            "780 0.8135088086128235\n",
            "790 0.8434440493583679\n",
            "800 0.8302568793296814\n",
            "810 0.8434982895851135\n",
            "820 0.8743746280670166\n",
            "830 0.8584527373313904\n",
            "840 0.8462936878204346\n",
            "850 0.8519791960716248\n",
            "860 0.8910785913467407\n",
            "870 0.8495464324951172\n",
            "880 0.8599528074264526\n",
            "890 0.8648751378059387\n",
            "900 0.8537691235542297\n",
            "910 0.8818265199661255\n",
            "920 0.9220134019851685\n",
            "930 0.872056782245636\n",
            "940 0.8775038123130798\n",
            "950 0.8969662189483643\n",
            "960 0.8995807766914368\n",
            "970 0.8759797811508179\n",
            "980 0.8649617433547974\n",
            "990 0.9141336679458618\n"
          ]
        }
      ]
    },
    {
      "cell_type": "code",
      "source": [
        "plt.plot(losses)\n",
        "plt.show()"
      ],
      "metadata": {
        "colab": {
          "base_uri": "https://localhost:8080/",
          "height": 265
        },
        "outputId": "317e5e49-ba2d-48bd-dd7a-ecc37aa0a91d",
        "id": "pFkYqt2H7YIa"
      },
      "execution_count": 299,
      "outputs": [
        {
          "output_type": "display_data",
          "data": {
            "text/plain": [
              "<Figure size 432x288 with 1 Axes>"
            ],
            "image/png": "[encoded data removed]"
          },
          "metadata": {
            "needs_background": "light"
          }
        }
      ]
    },
    {
      "cell_type": "code",
      "source": [
        "with torch.no_grad():\n",
        "  model = model.to('cpu')\n",
        "  y_pred = model(x_test)\n",
        "  y_pred = y_pred.detach().numpy()\n",
        "  predicted = np.argmax(y_pred, axis =1)\n",
        "  accuracy = (accuracy_score(predicted, y_test))"
      ],
      "metadata": {
        "id": "sP2S8SX-7YIa"
      },
      "execution_count": 300,
      "outputs": []
    },
    {
      "cell_type": "code",
      "source": [
        "print(f'model의 output은 :  {y_pred[0]}')\n",
        "print(f'argmax를 한 후의 output은 {predicted[0]}')\n",
        "print(f'accuracy는 {accuracy}')"
      ],
      "metadata": {
        "colab": {
          "base_uri": "https://localhost:8080/"
        },
        "outputId": "3b95e22c-d00a-4631-9f7f-60b737d5246a",
        "id": "staCH0xL7YIa"
      },
      "execution_count": 301,
      "outputs": [
        {
          "output_type": "stream",
          "name": "stdout",
          "text": [
            "model의 output은 :  [-0.99982035 -0.93652785  0.17175631  0.9998892 ]\n",
            "argmax를 한 후의 output은 3\n",
            "accuracy는 0.6\n"
          ]
        }
      ]
    },
    {
      "cell_type": "code",
      "source": [
        "new_row = {'activation_f':'tanh','optimizer':'Adam','epoch':1000, 'layer':4,'lr':0.01,'accuracy':accuracy}\n",
        "result = result.append(new_row, ignore_index=True)"
      ],
      "metadata": {
        "id": "CD1kSoL3Ue1A"
      },
      "execution_count": 302,
      "outputs": []
    },
    {
      "cell_type": "markdown",
      "source": [
        "#Model3\n",
        "- Relu 함수 활용 - 제공되는걸로, 첫번째 배치정규화"
      ],
      "metadata": {
        "id": "M87PEd8BAeVI"
      }
    },
    {
      "cell_type": "code",
      "source": [
        "class Model(torch.nn.Module):\n",
        "\n",
        "  def __init__(self):\n",
        "    super(Model, self).__init__()\n",
        "    self.layer1 = nn.Sequential(\n",
        "          nn.Linear(20,64, bias=True),\n",
        "          nn.ReLU(),\n",
        "        nn.BatchNorm1d(64)\n",
        "    )\n",
        "\n",
        "\n",
        "    self.layer2 = nn.Sequential(\n",
        "          nn.Linear(64,32, bias=True),\n",
        "        nn.ReLU()\n",
        "    \n",
        "    )\n",
        "    self.layer3 = nn.Sequential(\n",
        "          nn.Linear(32,16, bias=True),\n",
        "        nn.ReLU()\n",
        "    )\n",
        "    self.layer4 = nn.Sequential(\n",
        "        nn.Linear(16, 4, bias=True), \n",
        "        nn.ReLU()\n",
        "    )\n",
        "\n",
        "  def forward(self,x):\n",
        "    output = self.layer1(x)\n",
        "    output = self.layer2(output)\n",
        "    output = self.layer3(output)\n",
        "    output = self.layer4(output)\n",
        "    return output"
      ],
      "metadata": {
        "id": "YhJLjt7fDyhz"
      },
      "execution_count": 303,
      "outputs": []
    },
    {
      "cell_type": "code",
      "source": [
        "def init_weights(layer):\n",
        "    if isinstance(layer, nn.Linear):\n",
        "        torch.nn.init.xavier_uniform(layer.weight)\n",
        "        layer.bias.data.fill_(0.01)\n",
        "\n",
        "        #xavier사용\n",
        "        # Layer의 weight를 어떤 분포를 가지도록 초기화시켜줌+global minimum찾기 위해서"
      ],
      "metadata": {
        "id": "jBNnQTeDDyh7"
      },
      "execution_count": 304,
      "outputs": []
    },
    {
      "cell_type": "code",
      "source": [
        "model = Model().to(device)\n",
        "model.apply(init_weights)"
      ],
      "metadata": {
        "colab": {
          "base_uri": "https://localhost:8080/"
        },
        "outputId": "d80b64a0-bcb1-4ac7-b19f-79dc9be0c497",
        "id": "YW-lXCJBDyh8"
      },
      "execution_count": 305,
      "outputs": [
        {
          "output_type": "stream",
          "name": "stderr",
          "text": [
            "/usr/local/lib/python3.7/dist-packages/ipykernel_launcher.py:3: UserWarning: nn.init.xavier_uniform is now deprecated in favor of nn.init.xavier_uniform_.\n",
            "  This is separate from the ipykernel package so we can avoid doing imports until\n"
          ]
        },
        {
          "output_type": "execute_result",
          "data": {
            "text/plain": [
              "Model(\n",
              "  (layer1): Sequential(\n",
              "    (0): Linear(in_features=20, out_features=64, bias=True)\n",
              "    (1): ReLU()\n",
              "    (2): BatchNorm1d(64, eps=1e-05, momentum=0.1, affine=True, track_running_stats=True)\n",
              "  )\n",
              "  (layer2): Sequential(\n",
              "    (0): Linear(in_features=64, out_features=32, bias=True)\n",
              "    (1): ReLU()\n",
              "  )\n",
              "  (layer3): Sequential(\n",
              "    (0): Linear(in_features=32, out_features=16, bias=True)\n",
              "    (1): ReLU()\n",
              "  )\n",
              "  (layer4): Sequential(\n",
              "    (0): Linear(in_features=16, out_features=4, bias=True)\n",
              "    (1): ReLU()\n",
              "  )\n",
              ")"
            ]
          },
          "metadata": {},
          "execution_count": 305
        }
      ]
    },
    {
      "cell_type": "code",
      "source": [
        "print(model)"
      ],
      "metadata": {
        "colab": {
          "base_uri": "https://localhost:8080/"
        },
        "outputId": "5668d493-1aa4-4ebb-af9b-5bbfc2dedb55",
        "id": "Lufn7PaNDyh8"
      },
      "execution_count": 306,
      "outputs": [
        {
          "output_type": "stream",
          "name": "stdout",
          "text": [
            "Model(\n",
            "  (layer1): Sequential(\n",
            "    (0): Linear(in_features=20, out_features=64, bias=True)\n",
            "    (1): ReLU()\n",
            "    (2): BatchNorm1d(64, eps=1e-05, momentum=0.1, affine=True, track_running_stats=True)\n",
            "  )\n",
            "  (layer2): Sequential(\n",
            "    (0): Linear(in_features=64, out_features=32, bias=True)\n",
            "    (1): ReLU()\n",
            "  )\n",
            "  (layer3): Sequential(\n",
            "    (0): Linear(in_features=32, out_features=16, bias=True)\n",
            "    (1): ReLU()\n",
            "  )\n",
            "  (layer4): Sequential(\n",
            "    (0): Linear(in_features=16, out_features=4, bias=True)\n",
            "    (1): ReLU()\n",
            "  )\n",
            ")\n"
          ]
        }
      ]
    },
    {
      "cell_type": "code",
      "source": [
        "loss_fn  = nn.CrossEntropyLoss().to(device)\n",
        "\n",
        "optimizer = optim.Adam(model.parameters(), lr= 0.01)\n",
        "\n",
        "# https://pytorch.org/docs/stable/optim.html#module-torch.optim 페이지 참조\n",
        "# optimizer = optim.SGD(model.parameters(), lr=0.1, momentum=0.9)\n",
        "# sgd 등등"
      ],
      "metadata": {
        "id": "_ctyQuMmDyh8"
      },
      "execution_count": 307,
      "outputs": []
    },
    {
      "cell_type": "code",
      "source": [
        "losses = []\n",
        "for epoch in range(1000):\n",
        "\n",
        "  optimizer.zero_grad()\n",
        "  hypothesis = model(x_train)\n",
        "\n",
        "  # 비용 함수\n",
        "  cost = loss_fn(hypothesis, y_train)\n",
        "  cost.backward()\n",
        "  optimizer.step()\n",
        "  losses.append(cost.item())\n",
        "\n",
        "  if epoch % 10 == 0:\n",
        "    print(epoch, cost.item())"
      ],
      "metadata": {
        "colab": {
          "base_uri": "https://localhost:8080/"
        },
        "outputId": "a91df942-af3d-4abf-bf71-e47271e3b015",
        "id": "dRch7B9CDyh8"
      },
      "execution_count": 308,
      "outputs": [
        {
          "output_type": "stream",
          "name": "stdout",
          "text": [
            "0 1.4809908866882324\n",
            "10 0.47128331661224365\n",
            "20 0.145673930644989\n",
            "30 0.07129324972629547\n",
            "40 0.04627464339137077\n",
            "50 0.033457983285188675\n",
            "60 0.02485485002398491\n",
            "70 0.018966682255268097\n",
            "80 0.014528627507388592\n",
            "90 0.011403478682041168\n",
            "100 0.008981944061815739\n",
            "110 0.00707200588658452\n",
            "120 0.005714963655918837\n",
            "130 0.004401592072099447\n",
            "140 0.003537548938766122\n",
            "150 0.0028333135414868593\n",
            "160 0.0022415597923099995\n",
            "170 0.0018073905957862735\n",
            "180 0.001516032381914556\n",
            "190 0.001266365172341466\n",
            "200 0.0010831825202330947\n",
            "210 0.0009331274195574224\n",
            "220 0.0008137684199027717\n",
            "230 0.0007183279376477003\n",
            "240 0.0006395095842890441\n",
            "250 0.0005728635005652905\n",
            "260 0.0005178011488169432\n",
            "270 0.0004701220022980124\n",
            "280 0.00043158134212717414\n",
            "290 0.00039081572322174907\n",
            "300 0.0003575641894713044\n",
            "310 0.0003289126616436988\n",
            "320 0.0003049338120035827\n",
            "330 0.00028045132057741284\n",
            "340 0.0002595926052890718\n",
            "350 0.00024117175780702382\n",
            "360 0.0002252919366583228\n",
            "370 0.0002105818421114236\n",
            "380 0.00019800096924882382\n",
            "390 0.0001863955840235576\n",
            "400 0.00017626927001401782\n",
            "410 0.00016681055421940982\n",
            "420 0.0001577231741975993\n",
            "430 0.00015009622438810766\n",
            "440 0.0001421730557922274\n",
            "450 0.00013536811457015574\n",
            "460 0.00012864285963587463\n",
            "470 0.0001225931046064943\n",
            "480 0.00011708210513461381\n",
            "490 0.00011176870611961931\n",
            "500 0.00010733160888776183\n",
            "510 0.0001026310128509067\n",
            "520 9.840697020990774e-05\n",
            "530 9.434492676518857e-05\n",
            "540 9.053736721398309e-05\n",
            "550 8.689386595506221e-05\n",
            "560 8.356800390174612e-05\n",
            "570 8.030702156247571e-05\n",
            "580 7.737569831078872e-05\n",
            "590 7.461668428732082e-05\n",
            "600 7.188468589447439e-05\n",
            "610 6.935586134204641e-05\n",
            "620 6.694210605928674e-05\n",
            "630 6.472260429291055e-05\n",
            "640 6.25865432084538e-05\n",
            "650 6.045498594176024e-05\n",
            "660 5.843600956723094e-05\n",
            "670 5.662898547598161e-05\n",
            "680 5.486184454639442e-05\n",
            "690 5.3168132581049576e-05\n",
            "700 5.155156395630911e-05\n",
            "710 5.005084676668048e-05\n",
            "720 4.863221329287626e-05\n",
            "730 4.724812970380299e-05\n",
            "740 4.582077235681936e-05\n",
            "750 4.448568870429881e-05\n",
            "760 4.323934263084084e-05\n",
            "770 4.200715557090007e-05\n",
            "780 4.091811570106074e-05\n",
            "790 3.978280437877402e-05\n",
            "800 3.872020897688344e-05\n",
            "810 3.771855335799046e-05\n",
            "820 3.675447078421712e-05\n",
            "830 3.576258313842118e-05\n",
            "840 3.4885029890574515e-05\n",
            "850 3.402852235012688e-05\n",
            "860 3.312545231892727e-05\n",
            "870 3.226327680749819e-05\n",
            "880 3.151279088342562e-05\n",
            "890 3.073995321756229e-05\n",
            "900 3.0079436328378506e-05\n",
            "910 2.9321836336748675e-05\n",
            "920 2.8652189939748496e-05\n",
            "930 2.79890500678448e-05\n",
            "940 2.734082954702899e-05\n",
            "950 2.6670071747503243e-05\n",
            "960 2.6066843929584138e-05\n",
            "970 2.549111559346784e-05\n",
            "980 2.490781480446458e-05\n",
            "990 2.4368646336370148e-05\n"
          ]
        }
      ]
    },
    {
      "cell_type": "code",
      "source": [
        "plt.plot(losses)\n",
        "plt.show()"
      ],
      "metadata": {
        "colab": {
          "base_uri": "https://localhost:8080/",
          "height": 265
        },
        "outputId": "babb74c7-ef85-4a38-8f38-e37cd951df6b",
        "id": "pfcq8tA9Dyh8"
      },
      "execution_count": 309,
      "outputs": [
        {
          "output_type": "display_data",
          "data": {
            "text/plain": [
              "<Figure size 432x288 with 1 Axes>"
            ],
            "image/png": "[encoded data removed]"
          },
          "metadata": {
            "needs_background": "light"
          }
        }
      ]
    },
    {
      "cell_type": "code",
      "source": [
        "with torch.no_grad():\n",
        "  model = model.to('cpu')\n",
        "  y_pred = model(x_test)\n",
        "  y_pred = y_pred.detach().numpy()\n",
        "  predicted = np.argmax(y_pred, axis =1)\n",
        "  accuracy = (accuracy_score(predicted, y_test))"
      ],
      "metadata": {
        "id": "rZwa7mPNDyh8"
      },
      "execution_count": 310,
      "outputs": []
    },
    {
      "cell_type": "code",
      "source": [
        "print(f'model의 output은 :  {y_pred[0]}')\n",
        "print(f'argmax를 한 후의 output은 {predicted[0]}')\n",
        "print(f'accuracy는 {accuracy}')"
      ],
      "metadata": {
        "colab": {
          "base_uri": "https://localhost:8080/"
        },
        "outputId": "ab6e840b-3301-4ec9-c903-92385b588a23",
        "id": "E3EHKxuZDyh9"
      },
      "execution_count": 311,
      "outputs": [
        {
          "output_type": "stream",
          "name": "stdout",
          "text": [
            "model의 output은 :  [ 0.        0.       35.332222 94.98906 ]\n",
            "argmax를 한 후의 output은 3\n",
            "accuracy는 0.9733333333333334\n"
          ]
        }
      ]
    },
    {
      "cell_type": "code",
      "source": [
        "new_row = {'activation_f':'nn.Relu','optimizer':'Adam','epoch':1000, 'layer':4,'lr':0.01,'accuracy':accuracy}\n",
        "result = result.append(new_row, ignore_index=True)"
      ],
      "metadata": {
        "id": "MDv8aRjeUsY2"
      },
      "execution_count": 312,
      "outputs": []
    },
    {
      "cell_type": "markdown",
      "source": [
        "# Model4\n",
        "-직접 정의한 Relu함수 사용"
      ],
      "metadata": {
        "id": "toBlgqheKGAe"
      }
    },
    {
      "cell_type": "code",
      "source": [
        "def relu(x):\n",
        "  a = torch.zeros_like(x)\n",
        "  return torch.max(x, a)"
      ],
      "metadata": {
        "id": "j9yluwA5AhxF"
      },
      "execution_count": 313,
      "outputs": []
    },
    {
      "cell_type": "code",
      "source": [
        "class Model(torch.nn.Module):\n",
        "\n",
        "  def __init__(self):\n",
        "    \n",
        "    super().__init__()\n",
        "    \n",
        "    self.layer1 = nn.Linear(20,64, bias=True)\n",
        "    self.bnorm1 = nn.BatchNorm1d(64)\n",
        "    self.layer2 = nn.Linear(64,32, bias=True)\n",
        "    self.bnorm2 = nn.BatchNorm1d(32)\n",
        "    self.layer3 = nn.Linear(32,16, bias=True)\n",
        "    self.layer4 = nn.Linear(16,4, bias=True)\n",
        "\n",
        "\n",
        "   \n",
        "    \n",
        "  def forward(self,x):\n",
        "    \n",
        "    output = self.layer1(x)\n",
        "    output = F.relu(output)\n",
        "    output = self.bnorm1(output)\n",
        "    output = F.relu(output)\n",
        "    output = self.layer2(output)\n",
        "    output = self.bnorm2(output)\n",
        "    output = self.layer3(output)\n",
        "    output = F.relu(output)\n",
        "    output = self.layer4(output)\n",
        "    return output"
      ],
      "metadata": {
        "id": "aiuHXe4hKnmK"
      },
      "execution_count": 314,
      "outputs": []
    },
    {
      "cell_type": "code",
      "source": [
        "def init_weights(layer):\n",
        "    if isinstance(layer, nn.Linear):\n",
        "        torch.nn.init.xavier_uniform(layer.weight)\n",
        "        layer.bias.data.fill_(0.01)\n",
        "\n",
        "        #xavier사용\n",
        "        # Layer의 weight를 어떤 분포를 가지도록 초기화시켜줌+global minimum찾기 위해서"
      ],
      "metadata": {
        "id": "qTnUZFx5KnmQ"
      },
      "execution_count": 315,
      "outputs": []
    },
    {
      "cell_type": "code",
      "source": [
        "model = Model().to(device)\n",
        "model.apply(init_weights)"
      ],
      "metadata": {
        "colab": {
          "base_uri": "https://localhost:8080/"
        },
        "outputId": "078c90db-cb91-41d2-ba97-83ffac7433f0",
        "id": "rNDn2sh8KnmQ"
      },
      "execution_count": 316,
      "outputs": [
        {
          "output_type": "stream",
          "name": "stderr",
          "text": [
            "/usr/local/lib/python3.7/dist-packages/ipykernel_launcher.py:3: UserWarning: nn.init.xavier_uniform is now deprecated in favor of nn.init.xavier_uniform_.\n",
            "  This is separate from the ipykernel package so we can avoid doing imports until\n"
          ]
        },
        {
          "output_type": "execute_result",
          "data": {
            "text/plain": [
              "Model(\n",
              "  (layer1): Linear(in_features=20, out_features=64, bias=True)\n",
              "  (bnorm1): BatchNorm1d(64, eps=1e-05, momentum=0.1, affine=True, track_running_stats=True)\n",
              "  (layer2): Linear(in_features=64, out_features=32, bias=True)\n",
              "  (bnorm2): BatchNorm1d(32, eps=1e-05, momentum=0.1, affine=True, track_running_stats=True)\n",
              "  (layer3): Linear(in_features=32, out_features=16, bias=True)\n",
              "  (layer4): Linear(in_features=16, out_features=4, bias=True)\n",
              ")"
            ]
          },
          "metadata": {},
          "execution_count": 316
        }
      ]
    },
    {
      "cell_type": "code",
      "source": [
        "print(model)"
      ],
      "metadata": {
        "colab": {
          "base_uri": "https://localhost:8080/"
        },
        "outputId": "3f1fe8af-076d-41ea-d019-2a0209786759",
        "id": "tb3mizz8KnmQ"
      },
      "execution_count": 317,
      "outputs": [
        {
          "output_type": "stream",
          "name": "stdout",
          "text": [
            "Model(\n",
            "  (layer1): Linear(in_features=20, out_features=64, bias=True)\n",
            "  (bnorm1): BatchNorm1d(64, eps=1e-05, momentum=0.1, affine=True, track_running_stats=True)\n",
            "  (layer2): Linear(in_features=64, out_features=32, bias=True)\n",
            "  (bnorm2): BatchNorm1d(32, eps=1e-05, momentum=0.1, affine=True, track_running_stats=True)\n",
            "  (layer3): Linear(in_features=32, out_features=16, bias=True)\n",
            "  (layer4): Linear(in_features=16, out_features=4, bias=True)\n",
            ")\n"
          ]
        }
      ]
    },
    {
      "cell_type": "code",
      "source": [
        "loss_fn  = nn.CrossEntropyLoss().to(device)\n",
        "\n",
        "optimizer = optim.Adam(model.parameters(), lr= 0.01)\n",
        "\n",
        "# https://pytorch.org/docs/stable/optim.html#module-torch.optim 페이지 참조\n",
        "# optimizer = optim.SGD(model.parameters(), lr=0.1, momentum=0.9)\n",
        "# sgd 등등"
      ],
      "metadata": {
        "id": "oaBTMFlnKnmQ"
      },
      "execution_count": 318,
      "outputs": []
    },
    {
      "cell_type": "code",
      "source": [
        "losses = []\n",
        "for epoch in range(1000):\n",
        "\n",
        "  optimizer.zero_grad()\n",
        "  hypothesis = model(x_train)\n",
        "\n",
        "  # 비용 함수\n",
        "  cost = loss_fn(hypothesis, y_train)\n",
        "  cost.backward()\n",
        "  optimizer.step()\n",
        "  losses.append(cost.item())\n",
        "\n",
        "  if epoch % 10 == 0:\n",
        "    print(epoch, cost.item())"
      ],
      "metadata": {
        "colab": {
          "base_uri": "https://localhost:8080/"
        },
        "outputId": "0bb78924-9dd9-4a3e-db0c-06770a2f3e9d",
        "id": "oNENVl90KnmQ"
      },
      "execution_count": 319,
      "outputs": [
        {
          "output_type": "stream",
          "name": "stdout",
          "text": [
            "0 1.5072695016860962\n",
            "10 0.36752694845199585\n",
            "20 0.16935470700263977\n",
            "30 0.09824018180370331\n",
            "40 0.061918843537569046\n",
            "50 0.042272817343473434\n",
            "60 0.029572492465376854\n",
            "70 0.023530445992946625\n",
            "80 0.02080865018069744\n",
            "90 0.01893102563917637\n",
            "100 0.013264601118862629\n",
            "110 0.009122790768742561\n",
            "120 0.006812116596847773\n",
            "130 0.005163094960153103\n",
            "140 0.004001804161816835\n",
            "150 0.0031866529025137424\n",
            "160 0.002583900699391961\n",
            "170 0.002130130073055625\n",
            "180 0.0017805431270971894\n",
            "190 0.0014927799347788095\n",
            "200 0.0012698989594355226\n",
            "210 0.0010884222574532032\n",
            "220 0.0009452481754124165\n",
            "230 0.0008262940682470798\n",
            "240 0.000729705614503473\n",
            "250 0.0006491455133073032\n",
            "260 0.0005820043734274805\n",
            "270 0.0005250803660601377\n",
            "280 0.00047631669440306723\n",
            "290 0.0004335751582402736\n",
            "300 0.00039674140862189233\n",
            "310 0.00036462766001932323\n",
            "320 0.00033633384737186134\n",
            "330 0.0003115682047791779\n",
            "340 0.0002886077854782343\n",
            "350 0.00026826420798897743\n",
            "360 0.0002500536502338946\n",
            "370 0.00023349504044745117\n",
            "380 0.00021881052816752344\n",
            "390 0.00020532695634756237\n",
            "400 0.0001932833401951939\n",
            "410 0.0001819866884034127\n",
            "420 0.00017171620856970549\n",
            "430 0.00016251085617113858\n",
            "440 0.0001540524244774133\n",
            "450 0.00014633516548201442\n",
            "460 0.00013910898996982723\n",
            "470 0.00013233064964879304\n",
            "480 0.00012614460138138384\n",
            "490 0.00012040157162118703\n",
            "500 0.00011496760998852551\n",
            "510 0.00010994874901371077\n",
            "520 0.00010532131273066625\n",
            "530 0.0001008661201922223\n",
            "540 9.675892215454951e-05\n",
            "550 9.290023444918916e-05\n",
            "560 8.928826719056815e-05\n",
            "570 8.580787107348442e-05\n",
            "580 8.261113543994725e-05\n",
            "590 7.957868365338072e-05\n",
            "600 7.669666229048744e-05\n",
            "610 7.3929266363848e-05\n",
            "620 7.137751526897773e-05\n",
            "630 6.89240187057294e-05\n",
            "640 6.658454367425293e-05\n",
            "650 6.43995008431375e-05\n",
            "660 6.232623854884878e-05\n",
            "670 6.031272641848773e-05\n",
            "680 5.8401627029525116e-05\n",
            "690 5.6605109421070665e-05\n",
            "700 5.487064117914997e-05\n",
            "710 5.322335709934123e-05\n",
            "720 5.16545660502743e-05\n",
            "730 5.004370177630335e-05\n",
            "740 4.8572775995125994e-05\n",
            "750 4.71655439469032e-05\n",
            "760 4.5830485760234296e-05\n",
            "770 4.4551692553795874e-05\n",
            "780 4.333817196311429e-05\n",
            "790 4.216680827084929e-05\n",
            "800 4.103020910406485e-05\n",
            "810 3.997733801952563e-05\n",
            "820 3.894732435583137e-05\n",
            "830 3.791145354625769e-05\n",
            "840 3.695051418617368e-05\n",
            "850 3.606568861869164e-05\n",
            "860 3.514773925417103e-05\n",
            "870 3.4288212191313505e-05\n",
            "880 3.346915400470607e-05\n",
            "890 3.268406726419926e-05\n",
            "900 3.1960826163413e-05\n",
            "910 3.1143947126111016e-05\n",
            "920 3.0410299586947076e-05\n",
            "930 2.970470450236462e-05\n",
            "940 2.903899257944431e-05\n",
            "950 2.838083491951693e-05\n",
            "960 2.7740283258026466e-05\n",
            "970 2.7136164135299623e-05\n",
            "980 2.6544683350948617e-05\n",
            "990 2.597392631287221e-05\n"
          ]
        }
      ]
    },
    {
      "cell_type": "code",
      "source": [
        "plt.plot(losses)\n",
        "plt.show()"
      ],
      "metadata": {
        "colab": {
          "base_uri": "https://localhost:8080/",
          "height": 265
        },
        "outputId": "0d6c556f-d801-4a75-e17f-3cb77de8a80f",
        "id": "zRb2wr-4KnmR"
      },
      "execution_count": 320,
      "outputs": [
        {
          "output_type": "display_data",
          "data": {
            "text/plain": [
              "<Figure size 432x288 with 1 Axes>"
            ],
            "image/png": "[encoded data removed]"
          },
          "metadata": {
            "needs_background": "light"
          }
        }
      ]
    },
    {
      "cell_type": "code",
      "source": [
        "with torch.no_grad():\n",
        "  model = model.to('cpu')\n",
        "  y_pred = model(x_test)\n",
        "  y_pred = y_pred.detach().numpy()\n",
        "  predicted = np.argmax(y_pred, axis =1)\n",
        "  accuracy = (accuracy_score(predicted, y_test))"
      ],
      "metadata": {
        "id": "tO4259TgKnmR"
      },
      "execution_count": 321,
      "outputs": []
    },
    {
      "cell_type": "code",
      "source": [
        "print(f'model의 output은 :  {y_pred[0]}')\n",
        "print(f'argmax를 한 후의 output은 {predicted[0]}')\n",
        "print(f'accuracy는 {accuracy}')"
      ],
      "metadata": {
        "colab": {
          "base_uri": "https://localhost:8080/"
        },
        "outputId": "72d3cb03-4bea-4b1b-c0f1-27e0a21479b2",
        "id": "yTVotaWjKnmR"
      },
      "execution_count": 322,
      "outputs": [
        {
          "output_type": "stream",
          "name": "stdout",
          "text": [
            "model의 output은 :  [-20.21246    -34.492       -0.25871864  41.448616  ]\n",
            "argmax를 한 후의 output은 3\n",
            "accuracy는 0.9516666666666667\n"
          ]
        }
      ]
    },
    {
      "cell_type": "code",
      "source": [
        "new_row = {'activation_f':'F.relu','optimizer':'Adam','epoch':1000, 'layer':4,'lr':0.01,'accuracy':accuracy}\n",
        "result = result.append(new_row, ignore_index=True)"
      ],
      "metadata": {
        "id": "gQ-_54g0U-4c"
      },
      "execution_count": 323,
      "outputs": []
    },
    {
      "cell_type": "markdown",
      "source": [
        "#Model5\n",
        "-LeakyRelu, adam"
      ],
      "metadata": {
        "id": "WPLJuVniVqUB"
      }
    },
    {
      "cell_type": "code",
      "source": [
        "class Model(torch.nn.Module):\n",
        "\n",
        "  def __init__(self):\n",
        "    \n",
        "    super().__init__()\n",
        "    \n",
        "    self.layer1 = nn.Sequential(\n",
        "        nn.Linear(20,64, bias=True),\n",
        "        nn.LeakyReLU(),\n",
        "        nn.BatchNorm1d(64)\n",
        "    )\n",
        "\n",
        "    self.layer2 = nn.Sequential(\n",
        "        nn.Linear(64,32, bias=True),\n",
        "        nn.LeakyReLU()\n",
        "    )\n",
        "    self.layer3 = nn.Sequential(\n",
        "        nn.Linear(32,16, bias=True),\n",
        "        nn.LeakyReLU()\n",
        "    )\n",
        "    self.layer4 = nn.Sequential(\n",
        "        nn.Linear(16, 4, bias=True), \n",
        "        nn.LeakyReLU()\n",
        "    )\n",
        "\n",
        "  def forward(self,x):\n",
        "    output = self.layer1(x)\n",
        "    output = self.layer2(output)\n",
        "    output = self.layer3(output)\n",
        "    output = self.layer4(output)\n",
        "    return output"
      ],
      "metadata": {
        "id": "pIqtP0FPVsC7"
      },
      "execution_count": 324,
      "outputs": []
    },
    {
      "cell_type": "code",
      "source": [
        "model = Model().to(device)\n",
        "model.apply(init_weights)"
      ],
      "metadata": {
        "colab": {
          "base_uri": "https://localhost:8080/"
        },
        "outputId": "92513453-405d-441a-9eef-64b353974cac",
        "id": "tOHX4L7gVsC8"
      },
      "execution_count": 325,
      "outputs": [
        {
          "output_type": "stream",
          "name": "stderr",
          "text": [
            "/usr/local/lib/python3.7/dist-packages/ipykernel_launcher.py:3: UserWarning: nn.init.xavier_uniform is now deprecated in favor of nn.init.xavier_uniform_.\n",
            "  This is separate from the ipykernel package so we can avoid doing imports until\n"
          ]
        },
        {
          "output_type": "execute_result",
          "data": {
            "text/plain": [
              "Model(\n",
              "  (layer1): Sequential(\n",
              "    (0): Linear(in_features=20, out_features=64, bias=True)\n",
              "    (1): LeakyReLU(negative_slope=0.01)\n",
              "    (2): BatchNorm1d(64, eps=1e-05, momentum=0.1, affine=True, track_running_stats=True)\n",
              "  )\n",
              "  (layer2): Sequential(\n",
              "    (0): Linear(in_features=64, out_features=32, bias=True)\n",
              "    (1): LeakyReLU(negative_slope=0.01)\n",
              "  )\n",
              "  (layer3): Sequential(\n",
              "    (0): Linear(in_features=32, out_features=16, bias=True)\n",
              "    (1): LeakyReLU(negative_slope=0.01)\n",
              "  )\n",
              "  (layer4): Sequential(\n",
              "    (0): Linear(in_features=16, out_features=4, bias=True)\n",
              "    (1): LeakyReLU(negative_slope=0.01)\n",
              "  )\n",
              ")"
            ]
          },
          "metadata": {},
          "execution_count": 325
        }
      ]
    },
    {
      "cell_type": "code",
      "source": [
        "print(model)"
      ],
      "metadata": {
        "colab": {
          "base_uri": "https://localhost:8080/"
        },
        "outputId": "c86c039c-b217-47bf-ded9-d1a3e39c1d0c",
        "id": "EP4tby11VsC8"
      },
      "execution_count": 326,
      "outputs": [
        {
          "output_type": "stream",
          "name": "stdout",
          "text": [
            "Model(\n",
            "  (layer1): Sequential(\n",
            "    (0): Linear(in_features=20, out_features=64, bias=True)\n",
            "    (1): LeakyReLU(negative_slope=0.01)\n",
            "    (2): BatchNorm1d(64, eps=1e-05, momentum=0.1, affine=True, track_running_stats=True)\n",
            "  )\n",
            "  (layer2): Sequential(\n",
            "    (0): Linear(in_features=64, out_features=32, bias=True)\n",
            "    (1): LeakyReLU(negative_slope=0.01)\n",
            "  )\n",
            "  (layer3): Sequential(\n",
            "    (0): Linear(in_features=32, out_features=16, bias=True)\n",
            "    (1): LeakyReLU(negative_slope=0.01)\n",
            "  )\n",
            "  (layer4): Sequential(\n",
            "    (0): Linear(in_features=16, out_features=4, bias=True)\n",
            "    (1): LeakyReLU(negative_slope=0.01)\n",
            "  )\n",
            ")\n"
          ]
        }
      ]
    },
    {
      "cell_type": "code",
      "source": [
        "loss_fn  = nn.CrossEntropyLoss().to(device)\n",
        "\n",
        "optimizer = optimizer = optim.Adam(model.parameters(), lr= 0.01)"
      ],
      "metadata": {
        "id": "EoKnP7iDVsC8"
      },
      "execution_count": 327,
      "outputs": []
    },
    {
      "cell_type": "code",
      "source": [
        "losses = []\n",
        "for epoch in range(1000):\n",
        "\n",
        "  optimizer.zero_grad()\n",
        "  hypothesis = model(x_train)\n",
        "\n",
        "  # 비용 함수\n",
        "  cost = loss_fn(hypothesis, y_train)\n",
        "  cost.backward()\n",
        "  optimizer.step()\n",
        "  losses.append(cost.item())\n",
        "\n",
        "  if epoch % 10 == 0:\n",
        "    print(epoch, cost.item())"
      ],
      "metadata": {
        "colab": {
          "base_uri": "https://localhost:8080/"
        },
        "outputId": "1de5465a-9f95-43b2-cbbf-d199df6d0efe",
        "id": "np1w0VzPVsC9"
      },
      "execution_count": 328,
      "outputs": [
        {
          "output_type": "stream",
          "name": "stdout",
          "text": [
            "0 1.329804539680481\n",
            "10 0.4135156571865082\n",
            "20 0.13710546493530273\n",
            "30 0.064700648188591\n",
            "40 0.04021857678890228\n",
            "50 0.02830730937421322\n",
            "60 0.021032441407442093\n",
            "70 0.015957873314619064\n",
            "80 0.012785828672349453\n",
            "90 0.010129922069609165\n",
            "100 0.00839392188936472\n",
            "110 0.006536380387842655\n",
            "120 0.005908046383410692\n",
            "130 0.004751094616949558\n",
            "140 0.003926232922822237\n",
            "150 0.002822429873049259\n",
            "160 0.0022575242910534143\n",
            "170 0.0017803023802116513\n",
            "180 0.0014748451067134738\n",
            "190 0.001243575825355947\n",
            "200 0.001043942989781499\n",
            "210 0.0008968543261289597\n",
            "220 0.0007881746278144419\n",
            "230 0.0006837850087322295\n",
            "240 0.0006124021019786596\n",
            "250 0.0005452714976854622\n",
            "260 0.0004888211842626333\n",
            "270 0.00044028402771800756\n",
            "280 0.000404210266424343\n",
            "290 0.00036418568925000727\n",
            "300 0.00033693609293550253\n",
            "310 0.00030819838866591454\n",
            "320 0.00028592871967703104\n",
            "330 0.00026565304142422974\n",
            "340 0.00024804059648886323\n",
            "350 0.00023160057025961578\n",
            "360 0.00021708190615754575\n",
            "370 0.00020396230684127659\n",
            "380 0.0001917043118737638\n",
            "390 0.0001811314868973568\n",
            "400 0.00017041857063304633\n",
            "410 0.00016192157636396587\n",
            "420 0.00015305275155697018\n",
            "430 0.00014507076411973685\n",
            "440 0.00013772383681498468\n",
            "450 0.0001308790233451873\n",
            "460 0.00012475230323616415\n",
            "470 0.00011904544953722507\n",
            "480 0.00011367336992407218\n",
            "490 0.00010875826410483569\n",
            "500 0.00010388216469436884\n",
            "510 9.950533421942964e-05\n",
            "520 9.539840539218858e-05\n",
            "530 9.147921809926629e-05\n",
            "540 8.78359642229043e-05\n",
            "550 8.432063623331487e-05\n",
            "560 8.111960050882772e-05\n",
            "570 7.807704241713509e-05\n",
            "580 7.51289480831474e-05\n",
            "590 7.237798854475841e-05\n",
            "600 6.95794151397422e-05\n",
            "610 6.705716805299744e-05\n",
            "620 6.467527418863028e-05\n",
            "630 6.238300557015464e-05\n",
            "640 6.017720079398714e-05\n",
            "650 5.816001430503093e-05\n",
            "660 5.620867159450427e-05\n",
            "670 5.4346295655705035e-05\n",
            "680 5.260818943497725e-05\n",
            "690 5.089402839075774e-05\n",
            "700 4.9253729230258614e-05\n",
            "710 4.781917959917337e-05\n",
            "720 4.6331737394211814e-05\n",
            "730 4.4824875658378005e-05\n",
            "740 4.356071804068051e-05\n",
            "750 4.220076516503468e-05\n",
            "760 4.0966686356114224e-05\n",
            "770 3.983228452852927e-05\n",
            "780 3.8618294638581574e-05\n",
            "790 3.759403989533894e-05\n",
            "800 3.6541921872412786e-05\n",
            "810 3.550678593455814e-05\n",
            "820 3.4559343475848436e-05\n",
            "830 3.3662985515547916e-05\n",
            "840 3.277861833339557e-05\n",
            "850 3.197066325810738e-05\n",
            "860 3.113098136964254e-05\n",
            "870 3.0346847779583186e-05\n",
            "880 2.9621915018651634e-05\n",
            "890 2.8884913263027556e-05\n",
            "900 2.8183803806314245e-05\n",
            "910 2.750966996245552e-05\n",
            "920 2.685000072233379e-05\n",
            "930 2.622072679514531e-05\n",
            "940 2.5611929231672548e-05\n",
            "950 2.503888390492648e-05\n",
            "960 2.4476517864968628e-05\n",
            "970 2.3922875698190182e-05\n",
            "980 2.3385873646475375e-05\n",
            "990 2.2880871256347746e-05\n"
          ]
        }
      ]
    },
    {
      "cell_type": "code",
      "source": [
        "plt.plot(losses)\n",
        "plt.show()"
      ],
      "metadata": {
        "colab": {
          "base_uri": "https://localhost:8080/",
          "height": 265
        },
        "outputId": "a95bd417-9eb6-41f8-f722-9f2f255398fd",
        "id": "7m4NVFxhVsC9"
      },
      "execution_count": 329,
      "outputs": [
        {
          "output_type": "display_data",
          "data": {
            "text/plain": [
              "<Figure size 432x288 with 1 Axes>"
            ],
            "image/png": "[encoded data removed]"
          },
          "metadata": {
            "needs_background": "light"
          }
        }
      ]
    },
    {
      "cell_type": "code",
      "source": [
        "with torch.no_grad():\n",
        "  model = model.to('cpu')\n",
        "  y_pred = model(x_test)\n",
        "  y_pred = y_pred.detach().numpy()\n",
        "  predicted = np.argmax(y_pred, axis =1)\n",
        "  accuracy = (accuracy_score(predicted, y_test))"
      ],
      "metadata": {
        "id": "WOVcJBBlVsC9"
      },
      "execution_count": 330,
      "outputs": []
    },
    {
      "cell_type": "code",
      "source": [
        "print(f'model의 output은 :  {y_pred[0]}')\n",
        "print(f'argmax를 한 후의 output은 {predicted[0]}')\n",
        "print(f'accuracy는 {accuracy}')"
      ],
      "metadata": {
        "colab": {
          "base_uri": "https://localhost:8080/"
        },
        "outputId": "b0b4c7cd-d663-468e-b51f-ab9d7919394a",
        "id": "PQenpiVfVsC9"
      },
      "execution_count": 331,
      "outputs": [
        {
          "output_type": "stream",
          "name": "stdout",
          "text": [
            "model의 output은 :  [-0.42447445 -0.3412532  27.767452   67.55106   ]\n",
            "argmax를 한 후의 output은 3\n",
            "accuracy는 0.97\n"
          ]
        }
      ]
    },
    {
      "cell_type": "code",
      "source": [
        "new_row = {'activation_f':'nn.LeakyReLU','optimizer':'Adam','epoch':1000, 'layer':4,'lr':0.01,'accuracy':accuracy}\n",
        "result = result.append(new_row, ignore_index=True)"
      ],
      "metadata": {
        "id": "DSgAIWtiVsC9"
      },
      "execution_count": 332,
      "outputs": []
    },
    {
      "cell_type": "markdown",
      "source": [
        "# Model6\n",
        "- Optimizer변경: SGD로"
      ],
      "metadata": {
        "id": "sBvsXOz4LzXR"
      }
    },
    {
      "cell_type": "code",
      "source": [
        "class Model(torch.nn.Module):\n",
        "\n",
        "  def __init__(self):\n",
        "    super(Model, self).__init__()\n",
        "    self.layer1 = nn.Sequential(\n",
        "          nn.Linear(20,64, bias=True),\n",
        "          nn.ReLU(),\n",
        "        nn.BatchNorm1d(64)\n",
        "    )\n",
        "\n",
        "\n",
        "    self.layer2 = nn.Sequential(\n",
        "          nn.Linear(64,32, bias=True),\n",
        "        nn.ReLU()\n",
        "    \n",
        "    )\n",
        "    self.layer3 = nn.Sequential(\n",
        "          nn.Linear(32,16, bias=True),\n",
        "        nn.ReLU()\n",
        "    )\n",
        "    self.layer4 = nn.Sequential(\n",
        "        nn.Linear(16, 4, bias=True), \n",
        "        nn.ReLU()\n",
        "    )\n",
        "\n",
        "  def forward(self,x):\n",
        "    output = self.layer1(x)\n",
        "    output = self.layer2(output)\n",
        "    output = self.layer3(output)\n",
        "    output = self.layer4(output)\n",
        "    return output"
      ],
      "metadata": {
        "id": "IhA7BYulMHrf"
      },
      "execution_count": 333,
      "outputs": []
    },
    {
      "cell_type": "code",
      "source": [
        "model = Model().to(device)\n",
        "model.apply(init_weights)"
      ],
      "metadata": {
        "colab": {
          "base_uri": "https://localhost:8080/"
        },
        "outputId": "fbaba0ee-6f19-4964-d55a-5e3a8df9d27a",
        "id": "CYfYvMyZMHrg"
      },
      "execution_count": 334,
      "outputs": [
        {
          "output_type": "stream",
          "name": "stderr",
          "text": [
            "/usr/local/lib/python3.7/dist-packages/ipykernel_launcher.py:3: UserWarning: nn.init.xavier_uniform is now deprecated in favor of nn.init.xavier_uniform_.\n",
            "  This is separate from the ipykernel package so we can avoid doing imports until\n"
          ]
        },
        {
          "output_type": "execute_result",
          "data": {
            "text/plain": [
              "Model(\n",
              "  (layer1): Sequential(\n",
              "    (0): Linear(in_features=20, out_features=64, bias=True)\n",
              "    (1): ReLU()\n",
              "    (2): BatchNorm1d(64, eps=1e-05, momentum=0.1, affine=True, track_running_stats=True)\n",
              "  )\n",
              "  (layer2): Sequential(\n",
              "    (0): Linear(in_features=64, out_features=32, bias=True)\n",
              "    (1): ReLU()\n",
              "  )\n",
              "  (layer3): Sequential(\n",
              "    (0): Linear(in_features=32, out_features=16, bias=True)\n",
              "    (1): ReLU()\n",
              "  )\n",
              "  (layer4): Sequential(\n",
              "    (0): Linear(in_features=16, out_features=4, bias=True)\n",
              "    (1): ReLU()\n",
              "  )\n",
              ")"
            ]
          },
          "metadata": {},
          "execution_count": 334
        }
      ]
    },
    {
      "cell_type": "code",
      "source": [
        "print(model)"
      ],
      "metadata": {
        "colab": {
          "base_uri": "https://localhost:8080/"
        },
        "outputId": "a0a345fe-2559-46d0-8aba-f34dcce88bef",
        "id": "E4Gmvn1yMHrh"
      },
      "execution_count": 335,
      "outputs": [
        {
          "output_type": "stream",
          "name": "stdout",
          "text": [
            "Model(\n",
            "  (layer1): Sequential(\n",
            "    (0): Linear(in_features=20, out_features=64, bias=True)\n",
            "    (1): ReLU()\n",
            "    (2): BatchNorm1d(64, eps=1e-05, momentum=0.1, affine=True, track_running_stats=True)\n",
            "  )\n",
            "  (layer2): Sequential(\n",
            "    (0): Linear(in_features=64, out_features=32, bias=True)\n",
            "    (1): ReLU()\n",
            "  )\n",
            "  (layer3): Sequential(\n",
            "    (0): Linear(in_features=32, out_features=16, bias=True)\n",
            "    (1): ReLU()\n",
            "  )\n",
            "  (layer4): Sequential(\n",
            "    (0): Linear(in_features=16, out_features=4, bias=True)\n",
            "    (1): ReLU()\n",
            "  )\n",
            ")\n"
          ]
        }
      ]
    },
    {
      "cell_type": "code",
      "source": [
        "loss_fn  = nn.CrossEntropyLoss().to(device)\n",
        "\n",
        "optimizer = optim.SGD(model.parameters(), lr=0.01, momentum=0.9)"
      ],
      "metadata": {
        "id": "bTK9dnFJMHrh"
      },
      "execution_count": 336,
      "outputs": []
    },
    {
      "cell_type": "code",
      "source": [
        "losses = []\n",
        "for epoch in range(1000):\n",
        "\n",
        "  optimizer.zero_grad()\n",
        "  hypothesis = model(x_train)\n",
        "\n",
        "  # 비용 함수\n",
        "  cost = loss_fn(hypothesis, y_train)\n",
        "  cost.backward()\n",
        "  optimizer.step()\n",
        "  losses.append(cost.item())\n",
        "\n",
        "  if epoch % 10 == 0:\n",
        "    print(epoch, cost.item())"
      ],
      "metadata": {
        "colab": {
          "base_uri": "https://localhost:8080/"
        },
        "outputId": "789bec19-8d1b-464e-90b7-4a4489840956",
        "id": "Q9x90BqqMHrh"
      },
      "execution_count": 337,
      "outputs": [
        {
          "output_type": "stream",
          "name": "stdout",
          "text": [
            "0 1.4323495626449585\n",
            "10 1.105473518371582\n",
            "20 0.8727229237556458\n",
            "30 0.7444635033607483\n",
            "40 0.6623276472091675\n",
            "50 0.6139952540397644\n",
            "60 0.5822336077690125\n",
            "70 0.5588467717170715\n",
            "80 0.538932740688324\n",
            "90 0.5200392007827759\n",
            "100 0.4985901713371277\n",
            "110 0.47054365277290344\n",
            "120 0.43647700548171997\n",
            "130 0.38806474208831787\n",
            "140 0.3066071569919586\n",
            "150 0.2465198040008545\n",
            "160 0.2090664952993393\n",
            "170 0.18295209109783173\n",
            "180 0.16358759999275208\n",
            "190 0.14892332255840302\n",
            "200 0.1374373883008957\n",
            "210 0.1280946135520935\n",
            "220 0.1204414889216423\n",
            "230 0.11392632871866226\n",
            "240 0.10841178894042969\n",
            "250 0.10359438508749008\n",
            "260 0.09945695102214813\n",
            "270 0.09582164138555527\n",
            "280 0.09262678772211075\n",
            "290 0.08971033990383148\n",
            "300 0.08701631426811218\n",
            "310 0.08452187478542328\n",
            "320 0.0821886882185936\n",
            "330 0.0799940899014473\n",
            "340 0.07787786424160004\n",
            "350 0.07592311501502991\n",
            "360 0.07415684312582016\n",
            "370 0.0725470632314682\n",
            "380 0.07104508578777313\n",
            "390 0.0696076825261116\n",
            "400 0.06823812425136566\n",
            "410 0.06689342856407166\n",
            "420 0.06561775505542755\n",
            "430 0.06442360579967499\n",
            "440 0.06327620148658752\n",
            "450 0.06218666210770607\n",
            "460 0.06113186478614807\n",
            "470 0.06012171506881714\n",
            "480 0.05914716422557831\n",
            "490 0.05820731073617935\n",
            "500 0.05730422958731651\n",
            "510 0.056444741785526276\n",
            "520 0.05561977997422218\n",
            "530 0.054824348539114\n",
            "540 0.054048147052526474\n",
            "550 0.05329536274075508\n",
            "560 0.052556026726961136\n",
            "570 0.05184182897210121\n",
            "580 0.05114108324050903\n",
            "590 0.0504656657576561\n",
            "600 0.04976830258965492\n",
            "610 0.04912742227315903\n",
            "620 0.04845978692173958\n",
            "630 0.04780592396855354\n",
            "640 0.047189947217702866\n",
            "650 0.046608902513980865\n",
            "660 0.04605133458971977\n",
            "670 0.04547660052776337\n",
            "680 0.04491283372044563\n",
            "690 0.04436418414115906\n",
            "700 0.04382137954235077\n",
            "710 0.043252330273389816\n",
            "720 0.04269890859723091\n",
            "730 0.0421728640794754\n",
            "740 0.04164919629693031\n",
            "750 0.04116310551762581\n",
            "760 0.04069126024842262\n",
            "770 0.040248870849609375\n",
            "780 0.03977692127227783\n",
            "790 0.03934964910149574\n",
            "800 0.038917239755392075\n",
            "810 0.038484640419483185\n",
            "820 0.038038160651922226\n",
            "830 0.03762500360608101\n",
            "840 0.03722842410206795\n",
            "850 0.03700726479291916\n",
            "860 0.03699387609958649\n",
            "870 0.03627386316657066\n",
            "880 0.03584681823849678\n",
            "890 0.03579106554389\n",
            "900 0.038951676338911057\n",
            "910 0.03618570417165756\n",
            "920 0.035391852259635925\n",
            "930 0.03420160710811615\n",
            "940 0.033814337104558945\n",
            "950 0.033349789679050446\n",
            "960 0.03289494290947914\n",
            "970 0.032489679753780365\n",
            "980 0.032476142048835754\n",
            "990 0.032170891761779785\n"
          ]
        }
      ]
    },
    {
      "cell_type": "code",
      "source": [
        "plt.plot(losses)\n",
        "plt.show()"
      ],
      "metadata": {
        "colab": {
          "base_uri": "https://localhost:8080/",
          "height": 265
        },
        "outputId": "53fa4ef9-8d90-4ba6-c919-0b4d18b586e3",
        "id": "M8QrtkmsMHri"
      },
      "execution_count": 338,
      "outputs": [
        {
          "output_type": "display_data",
          "data": {
            "text/plain": [
              "<Figure size 432x288 with 1 Axes>"
            ],
            "image/png": "[encoded data removed]"
          },
          "metadata": {
            "needs_background": "light"
          }
        }
      ]
    },
    {
      "cell_type": "code",
      "source": [
        "with torch.no_grad():\n",
        "  model = model.to('cpu')\n",
        "  y_pred = model(x_test)\n",
        "  y_pred = y_pred.detach().numpy()\n",
        "  predicted = np.argmax(y_pred, axis =1)\n",
        "  accuracy = (accuracy_score(predicted, y_test))"
      ],
      "metadata": {
        "id": "RSGc8-7IMHri"
      },
      "execution_count": 339,
      "outputs": []
    },
    {
      "cell_type": "code",
      "source": [
        "print(f'model의 output은 :  {y_pred[0]}')\n",
        "print(f'argmax를 한 후의 output은 {predicted[0]}')\n",
        "print(f'accuracy는 {accuracy}')"
      ],
      "metadata": {
        "colab": {
          "base_uri": "https://localhost:8080/"
        },
        "outputId": "286eeaf8-00bf-4c75-9856-6bad33c64299",
        "id": "5KigtfTgMHri"
      },
      "execution_count": 340,
      "outputs": [
        {
          "output_type": "stream",
          "name": "stdout",
          "text": [
            "model의 output은 :  [ 0.       0.      19.54913 33.76447]\n",
            "argmax를 한 후의 output은 3\n",
            "accuracy는 0.9783333333333334\n"
          ]
        }
      ]
    },
    {
      "cell_type": "code",
      "source": [
        "new_row = {'activation_f':'nn.Relu','optimizer':'SGD','epoch':1000, 'layer':4,'lr':0.01,'accuracy':accuracy}\n",
        "result = result.append(new_row, ignore_index=True)"
      ],
      "metadata": {
        "id": "VUpA7u2mVKfs"
      },
      "execution_count": 341,
      "outputs": []
    },
    {
      "cell_type": "markdown",
      "source": [
        "#Model7 \n",
        "- leakyRelu 활성화함수 사용, SGD"
      ],
      "metadata": {
        "id": "wAqzp0YAPUSm"
      }
    },
    {
      "cell_type": "code",
      "source": [
        "class Model(torch.nn.Module):\n",
        "\n",
        "  def __init__(self):\n",
        "    \n",
        "    super().__init__()\n",
        "    \n",
        "    self.layer1 = nn.Sequential(\n",
        "        nn.Linear(20,64, bias=True),\n",
        "        nn.LeakyReLU(),\n",
        "        nn.BatchNorm1d(64)\n",
        "    )\n",
        "\n",
        "    self.layer2 = nn.Sequential(\n",
        "        nn.Linear(64,32, bias=True),\n",
        "        nn.LeakyReLU()\n",
        "    )\n",
        "    self.layer3 = nn.Sequential(\n",
        "        nn.Linear(32,16, bias=True),\n",
        "        nn.LeakyReLU()\n",
        "    )\n",
        "    self.layer4 = nn.Sequential(\n",
        "        nn.Linear(16, 4, bias=True), \n",
        "        nn.LeakyReLU()\n",
        "    )\n",
        "\n",
        "  def forward(self,x):\n",
        "    output = self.layer1(x)\n",
        "    output = self.layer2(output)\n",
        "    output = self.layer3(output)\n",
        "    output = self.layer4(output)\n",
        "    return output"
      ],
      "metadata": {
        "id": "4-Sd44FBNIPY"
      },
      "execution_count": 342,
      "outputs": []
    },
    {
      "cell_type": "code",
      "source": [
        "model = Model().to(device)\n",
        "model.apply(init_weights)"
      ],
      "metadata": {
        "colab": {
          "base_uri": "https://localhost:8080/"
        },
        "outputId": "a0f94475-f221-4389-f2d1-b6813a7cc344",
        "id": "wCvZftlIRMRk"
      },
      "execution_count": 343,
      "outputs": [
        {
          "output_type": "stream",
          "name": "stderr",
          "text": [
            "/usr/local/lib/python3.7/dist-packages/ipykernel_launcher.py:3: UserWarning: nn.init.xavier_uniform is now deprecated in favor of nn.init.xavier_uniform_.\n",
            "  This is separate from the ipykernel package so we can avoid doing imports until\n"
          ]
        },
        {
          "output_type": "execute_result",
          "data": {
            "text/plain": [
              "Model(\n",
              "  (layer1): Sequential(\n",
              "    (0): Linear(in_features=20, out_features=64, bias=True)\n",
              "    (1): LeakyReLU(negative_slope=0.01)\n",
              "    (2): BatchNorm1d(64, eps=1e-05, momentum=0.1, affine=True, track_running_stats=True)\n",
              "  )\n",
              "  (layer2): Sequential(\n",
              "    (0): Linear(in_features=64, out_features=32, bias=True)\n",
              "    (1): LeakyReLU(negative_slope=0.01)\n",
              "  )\n",
              "  (layer3): Sequential(\n",
              "    (0): Linear(in_features=32, out_features=16, bias=True)\n",
              "    (1): LeakyReLU(negative_slope=0.01)\n",
              "  )\n",
              "  (layer4): Sequential(\n",
              "    (0): Linear(in_features=16, out_features=4, bias=True)\n",
              "    (1): LeakyReLU(negative_slope=0.01)\n",
              "  )\n",
              ")"
            ]
          },
          "metadata": {},
          "execution_count": 343
        }
      ]
    },
    {
      "cell_type": "code",
      "source": [
        "print(model)"
      ],
      "metadata": {
        "colab": {
          "base_uri": "https://localhost:8080/"
        },
        "outputId": "22ddaa84-93f5-4d75-f6d2-beb8300dc89c",
        "id": "vF7IGwekRMRq"
      },
      "execution_count": 344,
      "outputs": [
        {
          "output_type": "stream",
          "name": "stdout",
          "text": [
            "Model(\n",
            "  (layer1): Sequential(\n",
            "    (0): Linear(in_features=20, out_features=64, bias=True)\n",
            "    (1): LeakyReLU(negative_slope=0.01)\n",
            "    (2): BatchNorm1d(64, eps=1e-05, momentum=0.1, affine=True, track_running_stats=True)\n",
            "  )\n",
            "  (layer2): Sequential(\n",
            "    (0): Linear(in_features=64, out_features=32, bias=True)\n",
            "    (1): LeakyReLU(negative_slope=0.01)\n",
            "  )\n",
            "  (layer3): Sequential(\n",
            "    (0): Linear(in_features=32, out_features=16, bias=True)\n",
            "    (1): LeakyReLU(negative_slope=0.01)\n",
            "  )\n",
            "  (layer4): Sequential(\n",
            "    (0): Linear(in_features=16, out_features=4, bias=True)\n",
            "    (1): LeakyReLU(negative_slope=0.01)\n",
            "  )\n",
            ")\n"
          ]
        }
      ]
    },
    {
      "cell_type": "code",
      "source": [
        "loss_fn  = nn.CrossEntropyLoss().to(device)\n",
        "\n",
        "optimizer = optim.SGD(model.parameters(), lr=0.01, momentum=0.9)"
      ],
      "metadata": {
        "id": "tJuXcHGGRMRq"
      },
      "execution_count": 345,
      "outputs": []
    },
    {
      "cell_type": "code",
      "source": [
        "losses = []\n",
        "for epoch in range(1000):\n",
        "\n",
        "  optimizer.zero_grad()\n",
        "  hypothesis = model(x_train)\n",
        "\n",
        "  # 비용 함수\n",
        "  cost = loss_fn(hypothesis, y_train)\n",
        "  cost.backward()\n",
        "  optimizer.step()\n",
        "  losses.append(cost.item())\n",
        "\n",
        "  if epoch % 10 == 0:\n",
        "    print(epoch, cost.item())"
      ],
      "metadata": {
        "colab": {
          "base_uri": "https://localhost:8080/"
        },
        "outputId": "1b7b1aaa-7db1-44fb-82af-a933f81c2fdf",
        "id": "FgmIxCxpRMRq"
      },
      "execution_count": 346,
      "outputs": [
        {
          "output_type": "stream",
          "name": "stdout",
          "text": [
            "0 1.4643774032592773\n",
            "10 1.1903492212295532\n",
            "20 1.1018272638320923\n",
            "30 0.938890814781189\n",
            "40 0.885148286819458\n",
            "50 0.8085344433784485\n",
            "60 0.7295868992805481\n",
            "70 0.6670535206794739\n",
            "80 0.6246618628501892\n",
            "90 0.594940721988678\n",
            "100 0.5712125897407532\n",
            "110 0.5514147281646729\n",
            "120 0.5347552299499512\n",
            "130 0.5205494165420532\n",
            "140 0.5083823204040527\n",
            "150 0.4979037940502167\n",
            "160 0.4889145791530609\n",
            "170 0.48112574219703674\n",
            "180 0.47424691915512085\n",
            "190 0.468161940574646\n",
            "200 0.46268972754478455\n",
            "210 0.4578089118003845\n",
            "220 0.45339587330818176\n",
            "230 0.4492897689342499\n",
            "240 0.44544342160224915\n",
            "250 0.4418211281299591\n",
            "260 0.4383864402770996\n",
            "270 0.43503156304359436\n",
            "280 0.43160051107406616\n",
            "290 0.427902489900589\n",
            "300 0.4234914779663086\n",
            "310 0.41558364033699036\n",
            "320 0.3912231922149658\n",
            "330 0.29488569498062134\n",
            "340 0.18195487558841705\n",
            "350 0.1297776699066162\n",
            "360 0.10701610147953033\n",
            "370 0.09374012798070908\n",
            "380 0.0853436142206192\n",
            "390 0.07928911596536636\n",
            "400 0.07456967234611511\n",
            "410 0.07069884985685349\n",
            "420 0.06747456640005112\n",
            "430 0.06470395624637604\n",
            "440 0.06228901818394661\n",
            "450 0.060136523097753525\n",
            "460 0.058188389986753464\n",
            "470 0.056421928107738495\n",
            "480 0.05477515235543251\n",
            "490 0.0532766729593277\n",
            "500 0.05191601812839508\n",
            "510 0.05062536150217056\n",
            "520 0.04927389323711395\n",
            "530 0.04798238351941109\n",
            "540 0.046761464327573776\n",
            "550 0.04548215493559837\n",
            "560 0.0444302000105381\n",
            "570 0.043432869017124176\n",
            "580 0.04252931848168373\n",
            "590 0.0416620671749115\n",
            "600 0.04080413654446602\n",
            "610 0.040051624178886414\n",
            "620 0.03933665156364441\n",
            "630 0.03863825649023056\n",
            "640 0.03799273446202278\n",
            "650 0.03735215961933136\n",
            "660 0.036657508462667465\n",
            "670 0.03604033216834068\n",
            "680 0.035478219389915466\n",
            "690 0.03497903421521187\n",
            "700 0.03441677242517471\n",
            "710 0.03393978253006935\n",
            "720 0.03344622626900673\n",
            "730 0.032968830317258835\n",
            "740 0.03253156691789627\n",
            "750 0.03210332989692688\n",
            "760 0.031679797917604446\n",
            "770 0.03123454563319683\n",
            "780 0.03084355778992176\n",
            "790 0.030431054532527924\n",
            "800 0.030038638040423393\n",
            "810 0.029668938368558884\n",
            "820 0.029285678640007973\n",
            "830 0.028937039896845818\n",
            "840 0.028610412031412125\n",
            "850 0.028261331841349602\n",
            "860 0.0279254037886858\n",
            "870 0.027617301791906357\n",
            "880 0.02732122130692005\n",
            "890 0.026972366496920586\n",
            "900 0.026699626818299294\n",
            "910 0.026408759877085686\n",
            "920 0.02609771117568016\n",
            "930 0.025828395038843155\n",
            "940 0.02551702782511711\n",
            "950 0.025240126997232437\n",
            "960 0.024948539212346077\n",
            "970 0.02470380999147892\n",
            "980 0.024441266432404518\n",
            "990 0.024118278175592422\n"
          ]
        }
      ]
    },
    {
      "cell_type": "code",
      "source": [
        "plt.plot(losses)\n",
        "plt.show()"
      ],
      "metadata": {
        "colab": {
          "base_uri": "https://localhost:8080/",
          "height": 265
        },
        "outputId": "940221cd-5ed6-4e73-c2f3-35d9a636b2ee",
        "id": "C-cYJtjIRMRq"
      },
      "execution_count": 347,
      "outputs": [
        {
          "output_type": "display_data",
          "data": {
            "text/plain": [
              "<Figure size 432x288 with 1 Axes>"
            ],
            "image/png": "[encoded data removed]"
          },
          "metadata": {
            "needs_background": "light"
          }
        }
      ]
    },
    {
      "cell_type": "code",
      "source": [
        "with torch.no_grad():\n",
        "  model = model.to('cpu')\n",
        "  y_pred = model(x_test)\n",
        "  y_pred = y_pred.detach().numpy()\n",
        "  predicted = np.argmax(y_pred, axis =1)\n",
        "  accuracy = (accuracy_score(predicted, y_test))"
      ],
      "metadata": {
        "id": "V7VvHv3TRMRr"
      },
      "execution_count": 348,
      "outputs": []
    },
    {
      "cell_type": "code",
      "source": [
        "print(f'model의 output은 :  {y_pred[0]}')\n",
        "print(f'argmax를 한 후의 output은 {predicted[0]}')\n",
        "print(f'accuracy는 {accuracy}')"
      ],
      "metadata": {
        "colab": {
          "base_uri": "https://localhost:8080/"
        },
        "outputId": "6d6ea733-1951-4d5f-866c-aaae035f70a9",
        "id": "_vrqdmilRMRr"
      },
      "execution_count": 349,
      "outputs": [
        {
          "output_type": "stream",
          "name": "stdout",
          "text": [
            "model의 output은 :  [-0.15201822 -0.07161145 19.436188   38.727745  ]\n",
            "argmax를 한 후의 output은 3\n",
            "accuracy는 0.98\n"
          ]
        }
      ]
    },
    {
      "cell_type": "code",
      "source": [
        "new_row = {'activation_f':'nn.LeakyReLU','optimizer':'SGD','epoch':1000, 'layer':4,'lr':0.01,'accuracy':accuracy}\n",
        "result = result.append(new_row, ignore_index=True)"
      ],
      "metadata": {
        "id": "FTIXwMqZVWFK"
      },
      "execution_count": 350,
      "outputs": []
    },
    {
      "cell_type": "markdown",
      "source": [
        "#Model 8\n",
        "층의 개수를 하나 줄여봄"
      ],
      "metadata": {
        "id": "IQQ-4SpoR_7y"
      }
    },
    {
      "cell_type": "code",
      "source": [
        "class Model(torch.nn.Module):\n",
        "\n",
        "  def __init__(self):\n",
        "    \n",
        "    super().__init__()\n",
        "    \n",
        "    self.layer1 = nn.Sequential(\n",
        "        nn.Linear(20,64, bias=True),\n",
        "        nn.LeakyReLU(),\n",
        "        nn.BatchNorm1d(64)\n",
        "    )\n",
        "\n",
        "    self.layer2 = nn.Sequential(\n",
        "        nn.Linear(64,16, bias=True),\n",
        "        nn.LeakyReLU()\n",
        "    )\n",
        "    self.layer3 = nn.Sequential(\n",
        "        nn.Linear(16,4, bias=True),\n",
        "        nn.LeakyReLU()\n",
        "    )\n",
        "  \n",
        "  def forward(self,x):\n",
        "    output = self.layer1(x)\n",
        "    output = self.layer2(output)\n",
        "    output = self.layer3(output)\n",
        "    return output"
      ],
      "metadata": {
        "id": "YIM7jZXwSAPJ"
      },
      "execution_count": 351,
      "outputs": []
    },
    {
      "cell_type": "code",
      "source": [
        "model = Model().to(device)\n",
        "model.apply(init_weights)"
      ],
      "metadata": {
        "colab": {
          "base_uri": "https://localhost:8080/"
        },
        "outputId": "00d63836-49cd-4710-eca9-4cb5a857e09a",
        "id": "p6vaAQkcSAPK"
      },
      "execution_count": 352,
      "outputs": [
        {
          "output_type": "stream",
          "name": "stderr",
          "text": [
            "/usr/local/lib/python3.7/dist-packages/ipykernel_launcher.py:3: UserWarning: nn.init.xavier_uniform is now deprecated in favor of nn.init.xavier_uniform_.\n",
            "  This is separate from the ipykernel package so we can avoid doing imports until\n"
          ]
        },
        {
          "output_type": "execute_result",
          "data": {
            "text/plain": [
              "Model(\n",
              "  (layer1): Sequential(\n",
              "    (0): Linear(in_features=20, out_features=64, bias=True)\n",
              "    (1): LeakyReLU(negative_slope=0.01)\n",
              "    (2): BatchNorm1d(64, eps=1e-05, momentum=0.1, affine=True, track_running_stats=True)\n",
              "  )\n",
              "  (layer2): Sequential(\n",
              "    (0): Linear(in_features=64, out_features=16, bias=True)\n",
              "    (1): LeakyReLU(negative_slope=0.01)\n",
              "  )\n",
              "  (layer3): Sequential(\n",
              "    (0): Linear(in_features=16, out_features=4, bias=True)\n",
              "    (1): LeakyReLU(negative_slope=0.01)\n",
              "  )\n",
              ")"
            ]
          },
          "metadata": {},
          "execution_count": 352
        }
      ]
    },
    {
      "cell_type": "code",
      "source": [
        "print(model)"
      ],
      "metadata": {
        "colab": {
          "base_uri": "https://localhost:8080/"
        },
        "outputId": "61c940f0-c9ff-4a01-c777-2767e2902426",
        "id": "iSm7KjYNSAPL"
      },
      "execution_count": 353,
      "outputs": [
        {
          "output_type": "stream",
          "name": "stdout",
          "text": [
            "Model(\n",
            "  (layer1): Sequential(\n",
            "    (0): Linear(in_features=20, out_features=64, bias=True)\n",
            "    (1): LeakyReLU(negative_slope=0.01)\n",
            "    (2): BatchNorm1d(64, eps=1e-05, momentum=0.1, affine=True, track_running_stats=True)\n",
            "  )\n",
            "  (layer2): Sequential(\n",
            "    (0): Linear(in_features=64, out_features=16, bias=True)\n",
            "    (1): LeakyReLU(negative_slope=0.01)\n",
            "  )\n",
            "  (layer3): Sequential(\n",
            "    (0): Linear(in_features=16, out_features=4, bias=True)\n",
            "    (1): LeakyReLU(negative_slope=0.01)\n",
            "  )\n",
            ")\n"
          ]
        }
      ]
    },
    {
      "cell_type": "code",
      "source": [
        "loss_fn  = nn.CrossEntropyLoss().to(device)\n",
        "\n",
        "optimizer = optim.SGD(model.parameters(), lr=0.01, momentum=0.9)"
      ],
      "metadata": {
        "id": "ous26aP4SAPL"
      },
      "execution_count": 354,
      "outputs": []
    },
    {
      "cell_type": "code",
      "source": [
        "losses = []\n",
        "for epoch in range(1000):\n",
        "\n",
        "  optimizer.zero_grad()\n",
        "  hypothesis = model(x_train)\n",
        "\n",
        "  # 비용 함수\n",
        "  cost = loss_fn(hypothesis, y_train)\n",
        "  cost.backward()\n",
        "  optimizer.step()\n",
        "  losses.append(cost.item())\n",
        "\n",
        "  if epoch % 10 == 0:\n",
        "    print(epoch, cost.item())"
      ],
      "metadata": {
        "colab": {
          "base_uri": "https://localhost:8080/"
        },
        "outputId": "df984375-afe9-4237-acb1-0c5e43724ca0",
        "id": "1HHN3uphSAPL"
      },
      "execution_count": 355,
      "outputs": [
        {
          "output_type": "stream",
          "name": "stdout",
          "text": [
            "0 1.5773100852966309\n",
            "10 0.9682134985923767\n",
            "20 0.6916682720184326\n",
            "30 0.5836169719696045\n",
            "40 0.5019147396087646\n",
            "50 0.43390676379203796\n",
            "60 0.3739478290081024\n",
            "70 0.3276630938053131\n",
            "80 0.29165735840797424\n",
            "90 0.26317310333251953\n",
            "100 0.24216493964195251\n",
            "110 0.2234487533569336\n",
            "120 0.2077268809080124\n",
            "130 0.195430189371109\n",
            "140 0.1856648027896881\n",
            "150 0.17754772305488586\n",
            "160 0.17044217884540558\n",
            "170 0.1641615927219391\n",
            "180 0.15829326212406158\n",
            "190 0.15305013954639435\n",
            "200 0.14835983514785767\n",
            "210 0.14375925064086914\n",
            "220 0.13892431557178497\n",
            "230 0.13264648616313934\n",
            "240 0.13473111391067505\n",
            "250 0.12943589687347412\n",
            "260 0.12601293623447418\n",
            "270 0.12296155840158463\n",
            "280 0.12007296830415726\n",
            "290 0.11734682321548462\n",
            "300 0.11493046581745148\n",
            "310 0.11253010481595993\n",
            "320 0.11007184535264969\n",
            "330 0.10764268040657043\n",
            "340 0.10513187199831009\n",
            "350 0.10251633822917938\n",
            "360 0.09950583428144455\n",
            "370 0.09554705768823624\n",
            "380 0.09395904839038849\n",
            "390 0.09221150726079941\n",
            "400 0.09055834263563156\n",
            "410 0.08911825716495514\n",
            "420 0.08775105327367783\n",
            "430 0.0864318311214447\n",
            "440 0.08516566455364227\n",
            "450 0.0839942991733551\n",
            "460 0.08285331726074219\n",
            "470 0.08174663782119751\n",
            "480 0.08070778101682663\n",
            "490 0.07969743758440018\n",
            "500 0.07873161137104034\n",
            "510 0.07779654115438461\n",
            "520 0.07688300311565399\n",
            "530 0.07601107656955719\n",
            "540 0.075164295732975\n",
            "550 0.07435823976993561\n",
            "560 0.07358073443174362\n",
            "570 0.07283249497413635\n",
            "580 0.07209610939025879\n",
            "590 0.07139810919761658\n",
            "600 0.07069844007492065\n",
            "610 0.07002393156290054\n",
            "620 0.0693683922290802\n",
            "630 0.06873270124197006\n",
            "640 0.0681317001581192\n",
            "650 0.06752645969390869\n",
            "660 0.06696458905935287\n",
            "670 0.06632648408412933\n",
            "680 0.06562962383031845\n",
            "690 0.06499027460813522\n",
            "700 0.06437987089157104\n",
            "710 0.06381423771381378\n",
            "720 0.06326375156641006\n",
            "730 0.06274013221263885\n",
            "740 0.062228769063949585\n",
            "750 0.061722684651613235\n",
            "760 0.06126031652092934\n",
            "770 0.06080150604248047\n",
            "780 0.060348041355609894\n",
            "790 0.05990879610180855\n",
            "800 0.059480052441358566\n",
            "810 0.05905623733997345\n",
            "820 0.05864866077899933\n",
            "830 0.058248382061719894\n",
            "840 0.05783942714333534\n",
            "850 0.057452671229839325\n",
            "860 0.0570579469203949\n",
            "870 0.05667813494801521\n",
            "880 0.05630829930305481\n",
            "890 0.0559508353471756\n",
            "900 0.05559344217181206\n",
            "910 0.05523619428277016\n",
            "920 0.054866060614585876\n",
            "930 0.054499369114637375\n",
            "940 0.05415620654821396\n",
            "950 0.05382303148508072\n",
            "960 0.053491029888391495\n",
            "970 0.05316148325800896\n",
            "980 0.05284741148352623\n",
            "990 0.052521079778671265\n"
          ]
        }
      ]
    },
    {
      "cell_type": "code",
      "source": [
        "plt.plot(losses)\n",
        "plt.show()"
      ],
      "metadata": {
        "colab": {
          "base_uri": "https://localhost:8080/",
          "height": 265
        },
        "outputId": "13741c76-c2c2-441a-8b7d-86a349f2d1ee",
        "id": "v47XkfCeSAPM"
      },
      "execution_count": 356,
      "outputs": [
        {
          "output_type": "display_data",
          "data": {
            "text/plain": [
              "<Figure size 432x288 with 1 Axes>"
            ],
            "image/png": "[encoded data removed]"
          },
          "metadata": {
            "needs_background": "light"
          }
        }
      ]
    },
    {
      "cell_type": "code",
      "source": [
        "with torch.no_grad():\n",
        "  model = model.to('cpu')\n",
        "  y_pred = model(x_test)\n",
        "  y_pred = y_pred.detach().numpy()\n",
        "  predicted = np.argmax(y_pred, axis =1)\n",
        "  accuracy = (accuracy_score(predicted, y_test))"
      ],
      "metadata": {
        "id": "BmxU44YDSAPM"
      },
      "execution_count": 357,
      "outputs": []
    },
    {
      "cell_type": "code",
      "source": [
        "print(f'model의 output은 :  {y_pred[0]}')\n",
        "print(f'argmax를 한 후의 output은 {predicted[0]}')\n",
        "print(f'accuracy는 {accuracy}')"
      ],
      "metadata": {
        "colab": {
          "base_uri": "https://localhost:8080/"
        },
        "outputId": "6b41edb6-39ef-43af-e285-bbd564467ae3",
        "id": "wjcFu8dVSAPM"
      },
      "execution_count": 358,
      "outputs": [
        {
          "output_type": "stream",
          "name": "stdout",
          "text": [
            "model의 output은 :  [-0.10191409 -0.05686259 15.336512   27.786077  ]\n",
            "argmax를 한 후의 output은 3\n",
            "accuracy는 0.9783333333333334\n"
          ]
        }
      ]
    },
    {
      "cell_type": "code",
      "source": [
        "new_row = {'activation_f':'nn.LeakyReLU','optimizer':'SGD','epoch':1000, 'layer':3,'lr':0.01,'accuracy':accuracy}\n",
        "result = result.append(new_row, ignore_index=True)"
      ],
      "metadata": {
        "id": "Jmyfx4jUWDEH"
      },
      "execution_count": 359,
      "outputs": []
    },
    {
      "cell_type": "code",
      "source": [
        "result"
      ],
      "metadata": {
        "colab": {
          "base_uri": "https://localhost:8080/",
          "height": 300
        },
        "id": "pEpTUNOSWRgx",
        "outputId": "4d38a7de-246b-478b-ffd0-acf003e7b23d"
      },
      "execution_count": 360,
      "outputs": [
        {
          "output_type": "execute_result",
          "data": {
            "text/plain": [
              "   activation_f optimizer epoch layer    lr  accuracy\n",
              "0       Sigmoid      Adam   100     4  0.01  0.633333\n",
              "1          tanh      Adam  1000     4  0.01  0.600000\n",
              "2       nn.Relu      Adam  1000     4  0.01  0.973333\n",
              "3        F.relu      Adam  1000     4  0.01  0.951667\n",
              "4  nn.LeakyReLU      Adam  1000     4  0.01  0.970000\n",
              "5       nn.Relu       SGD  1000     4  0.01  0.978333\n",
              "6  nn.LeakyReLU       SGD  1000     4  0.01  0.980000\n",
              "7  nn.LeakyReLU       SGD  1000     3  0.01  0.978333"
            ],
            "text/html": [
              "\n",
              "  <div id=\"df-65ce37fa-ef9a-447e-976f-cc416a178e57\">\n",
              "    <div class=\"colab-df-container\">\n",
              "      <div>\n",
              "<style scoped>\n",
              "    .dataframe tbody tr th:only-of-type {\n",
              "        vertical-align: middle;\n",
              "    }\n",
              "\n",
              "    .dataframe tbody tr th {\n",
              "        vertical-align: top;\n",
              "    }\n",
              "\n",
              "    .dataframe thead th {\n",
              "        text-align: right;\n",
              "    }\n",
              "</style>\n",
              "<table border=\"1\" class=\"dataframe\">\n",
              "  <thead>\n",
              "    <tr style=\"text-align: right;\">\n",
              "      <th></th>\n",
              "      <th>activation_f</th>\n",
              "      <th>optimizer</th>\n",
              "      <th>epoch</th>\n",
              "      <th>layer</th>\n",
              "      <th>lr</th>\n",
              "      <th>accuracy</th>\n",
              "    </tr>\n",
              "  </thead>\n",
              "  <tbody>\n",
              "    <tr>\n",
              "      <th>0</th>\n",
              "      <td>Sigmoid</td>\n",
              "      <td>Adam</td>\n",
              "      <td>100</td>\n",
              "      <td>4</td>\n",
              "      <td>0.01</td>\n",
              "      <td>0.633333</td>\n",
              "    </tr>\n",
              "    <tr>\n",
              "      <th>1</th>\n",
              "      <td>tanh</td>\n",
              "      <td>Adam</td>\n",
              "      <td>1000</td>\n",
              "      <td>4</td>\n",
              "      <td>0.01</td>\n",
              "      <td>0.600000</td>\n",
              "    </tr>\n",
              "    <tr>\n",
              "      <th>2</th>\n",
              "      <td>nn.Relu</td>\n",
              "      <td>Adam</td>\n",
              "      <td>1000</td>\n",
              "      <td>4</td>\n",
              "      <td>0.01</td>\n",
              "      <td>0.973333</td>\n",
              "    </tr>\n",
              "    <tr>\n",
              "      <th>3</th>\n",
              "      <td>F.relu</td>\n",
              "      <td>Adam</td>\n",
              "      <td>1000</td>\n",
              "      <td>4</td>\n",
              "      <td>0.01</td>\n",
              "      <td>0.951667</td>\n",
              "    </tr>\n",
              "    <tr>\n",
              "      <th>4</th>\n",
              "      <td>nn.LeakyReLU</td>\n",
              "      <td>Adam</td>\n",
              "      <td>1000</td>\n",
              "      <td>4</td>\n",
              "      <td>0.01</td>\n",
              "      <td>0.970000</td>\n",
              "    </tr>\n",
              "    <tr>\n",
              "      <th>5</th>\n",
              "      <td>nn.Relu</td>\n",
              "      <td>SGD</td>\n",
              "      <td>1000</td>\n",
              "      <td>4</td>\n",
              "      <td>0.01</td>\n",
              "      <td>0.978333</td>\n",
              "    </tr>\n",
              "    <tr>\n",
              "      <th>6</th>\n",
              "      <td>nn.LeakyReLU</td>\n",
              "      <td>SGD</td>\n",
              "      <td>1000</td>\n",
              "      <td>4</td>\n",
              "      <td>0.01</td>\n",
              "      <td>0.980000</td>\n",
              "    </tr>\n",
              "    <tr>\n",
              "      <th>7</th>\n",
              "      <td>nn.LeakyReLU</td>\n",
              "      <td>SGD</td>\n",
              "      <td>1000</td>\n",
              "      <td>3</td>\n",
              "      <td>0.01</td>\n",
              "      <td>0.978333</td>\n",
              "    </tr>\n",
              "  </tbody>\n",
              "</table>\n",
              "</div>\n",
              "      <button class=\"colab-df-convert\" onclick=\"convertToInteractive('df-65ce37fa-ef9a-447e-976f-cc416a178e57')\"\n",
              "              title=\"Convert this dataframe to an interactive table.\"\n",
              "              style=\"display:none;\">\n",
              "        \n",
              "  <svg xmlns=\"http://www.w3.org/2000/svg\" height=\"24px\"viewBox=\"0 0 24 24\"\n",
              "       width=\"24px\">\n",
              "    <path d=\"M0 0h24v24H0V0z\" fill=\"none\"/>\n",
              "    <path d=\"M18.56 5.44l.94 2.06.94-2.06 2.06-.94-2.06-.94-.94-2.06-.94 2.06-2.06.94zm-11 1L8.5 8.5l.94-2.06 2.06-.94-2.06-.94L8.5 2.5l-.94 2.06-2.06.94zm10 10l.94 2.06.94-2.06 2.06-.94-2.06-.94-.94-2.06-.94 2.06-2.06.94z\"/><path d=\"M17.41 7.96l-1.37-1.37c-.4-.4-.92-.59-1.43-.59-.52 0-1.04.2-1.43.59L10.3 9.45l-7.72 7.72c-.78.78-.78 2.05 0 2.83L4 21.41c.39.39.9.59 1.41.59.51 0 1.02-.2 1.41-.59l7.78-7.78 2.81-2.81c.8-.78.8-2.07 0-2.86zM5.41 20L4 18.59l7.72-7.72 1.47 1.35L5.41 20z\"/>\n",
              "  </svg>\n",
              "      </button>\n",
              "      \n",
              "  <style>\n",
              "    .colab-df-container {\n",
              "      display:flex;\n",
              "      flex-wrap:wrap;\n",
              "      gap: 12px;\n",
              "    }\n",
              "\n",
              "    .colab-df-convert {\n",
              "      background-color: #E8F0FE;\n",
              "      border: none;\n",
              "      border-radius: 50%;\n",
              "      cursor: pointer;\n",
              "      display: none;\n",
              "      fill: #1967D2;\n",
              "      height: 32px;\n",
              "      padding: 0 0 0 0;\n",
              "      width: 32px;\n",
              "    }\n",
              "\n",
              "    .colab-df-convert:hover {\n",
              "      background-color: #E2EBFA;\n",
              "      box-shadow: 0px 1px 2px rgba(60, 64, 67, 0.3), 0px 1px 3px 1px rgba(60, 64, 67, 0.15);\n",
              "      fill: #174EA6;\n",
              "    }\n",
              "\n",
              "    [theme=dark] .colab-df-convert {\n",
              "      background-color: #3B4455;\n",
              "      fill: #D2E3FC;\n",
              "    }\n",
              "\n",
              "    [theme=dark] .colab-df-convert:hover {\n",
              "      background-color: #434B5C;\n",
              "      box-shadow: 0px 1px 3px 1px rgba(0, 0, 0, 0.15);\n",
              "      filter: drop-shadow(0px 1px 2px rgba(0, 0, 0, 0.3));\n",
              "      fill: #FFFFFF;\n",
              "    }\n",
              "  </style>\n",
              "\n",
              "      <script>\n",
              "        const buttonEl =\n",
              "          document.querySelector('#df-65ce37fa-ef9a-447e-976f-cc416a178e57 button.colab-df-convert');\n",
              "        buttonEl.style.display =\n",
              "          google.colab.kernel.accessAllowed ? 'block' : 'none';\n",
              "\n",
              "        async function convertToInteractive(key) {\n",
              "          const element = document.querySelector('#df-65ce37fa-ef9a-447e-976f-cc416a178e57');\n",
              "          const dataTable =\n",
              "            await google.colab.kernel.invokeFunction('convertToInteractive',\n",
              "                                                     [key], {});\n",
              "          if (!dataTable) return;\n",
              "\n",
              "          const docLinkHtml = 'Like what you see? Visit the ' +\n",
              "            '<a target=\"_blank\" href=https://colab.research.google.com/notebooks/data_table.ipynb>data table notebook</a>'\n",
              "            + ' to learn more about interactive tables.';\n",
              "          element.innerHTML = '';\n",
              "          dataTable['output_type'] = 'display_data';\n",
              "          await google.colab.output.renderOutput(dataTable, element);\n",
              "          const docLink = document.createElement('div');\n",
              "          docLink.innerHTML = docLinkHtml;\n",
              "          element.appendChild(docLink);\n",
              "        }\n",
              "      </script>\n",
              "    </div>\n",
              "  </div>\n",
              "  "
            ]
          },
          "metadata": {},
          "execution_count": 360
        }
      ]
    },
    {
      "cell_type": "markdown",
      "source": [
        "#Model9\n",
        "- Model7에서 RMSprop optimizer 사용"
      ],
      "metadata": {
        "id": "cRpC9WDtW05V"
      }
    },
    {
      "cell_type": "code",
      "source": [
        "class Model(torch.nn.Module):\n",
        "\n",
        "  def __init__(self):\n",
        "    \n",
        "    super().__init__()\n",
        "    \n",
        "    self.layer1 = nn.Sequential(\n",
        "        nn.Linear(20,64, bias=True),\n",
        "        nn.LeakyReLU(),\n",
        "        nn.BatchNorm1d(64)\n",
        "    )\n",
        "\n",
        "    self.layer2 = nn.Sequential(\n",
        "        nn.Linear(64,32, bias=True),\n",
        "        nn.LeakyReLU()\n",
        "    )\n",
        "    self.layer3 = nn.Sequential(\n",
        "        nn.Linear(32,16, bias=True),\n",
        "        nn.LeakyReLU()\n",
        "    )\n",
        "    self.layer4 = nn.Sequential(\n",
        "        nn.Linear(16, 4, bias=True), \n",
        "        nn.LeakyReLU()\n",
        "    )\n",
        "\n",
        "  def forward(self,x):\n",
        "    output = self.layer1(x)\n",
        "    output = self.layer2(output)\n",
        "    output = self.layer3(output)\n",
        "    output = self.layer4(output)\n",
        "    return output"
      ],
      "metadata": {
        "id": "eVCkalohW1Lr"
      },
      "execution_count": 361,
      "outputs": []
    },
    {
      "cell_type": "code",
      "source": [
        "model = Model().to(device)\n",
        "model.apply(init_weights)"
      ],
      "metadata": {
        "colab": {
          "base_uri": "https://localhost:8080/"
        },
        "outputId": "c1faef02-6a78-428e-9d74-2dce6a942639",
        "id": "CzWEBQTIW1Ls"
      },
      "execution_count": 362,
      "outputs": [
        {
          "output_type": "stream",
          "name": "stderr",
          "text": [
            "/usr/local/lib/python3.7/dist-packages/ipykernel_launcher.py:3: UserWarning: nn.init.xavier_uniform is now deprecated in favor of nn.init.xavier_uniform_.\n",
            "  This is separate from the ipykernel package so we can avoid doing imports until\n"
          ]
        },
        {
          "output_type": "execute_result",
          "data": {
            "text/plain": [
              "Model(\n",
              "  (layer1): Sequential(\n",
              "    (0): Linear(in_features=20, out_features=64, bias=True)\n",
              "    (1): LeakyReLU(negative_slope=0.01)\n",
              "    (2): BatchNorm1d(64, eps=1e-05, momentum=0.1, affine=True, track_running_stats=True)\n",
              "  )\n",
              "  (layer2): Sequential(\n",
              "    (0): Linear(in_features=64, out_features=32, bias=True)\n",
              "    (1): LeakyReLU(negative_slope=0.01)\n",
              "  )\n",
              "  (layer3): Sequential(\n",
              "    (0): Linear(in_features=32, out_features=16, bias=True)\n",
              "    (1): LeakyReLU(negative_slope=0.01)\n",
              "  )\n",
              "  (layer4): Sequential(\n",
              "    (0): Linear(in_features=16, out_features=4, bias=True)\n",
              "    (1): LeakyReLU(negative_slope=0.01)\n",
              "  )\n",
              ")"
            ]
          },
          "metadata": {},
          "execution_count": 362
        }
      ]
    },
    {
      "cell_type": "code",
      "source": [
        "print(model)"
      ],
      "metadata": {
        "colab": {
          "base_uri": "https://localhost:8080/"
        },
        "outputId": "fee54fb3-e7c1-4c2b-851e-6f8dff248f40",
        "id": "NFtOCsE5W1Ls"
      },
      "execution_count": 363,
      "outputs": [
        {
          "output_type": "stream",
          "name": "stdout",
          "text": [
            "Model(\n",
            "  (layer1): Sequential(\n",
            "    (0): Linear(in_features=20, out_features=64, bias=True)\n",
            "    (1): LeakyReLU(negative_slope=0.01)\n",
            "    (2): BatchNorm1d(64, eps=1e-05, momentum=0.1, affine=True, track_running_stats=True)\n",
            "  )\n",
            "  (layer2): Sequential(\n",
            "    (0): Linear(in_features=64, out_features=32, bias=True)\n",
            "    (1): LeakyReLU(negative_slope=0.01)\n",
            "  )\n",
            "  (layer3): Sequential(\n",
            "    (0): Linear(in_features=32, out_features=16, bias=True)\n",
            "    (1): LeakyReLU(negative_slope=0.01)\n",
            "  )\n",
            "  (layer4): Sequential(\n",
            "    (0): Linear(in_features=16, out_features=4, bias=True)\n",
            "    (1): LeakyReLU(negative_slope=0.01)\n",
            "  )\n",
            ")\n"
          ]
        }
      ]
    },
    {
      "cell_type": "code",
      "source": [
        "loss_fn  = nn.CrossEntropyLoss().to(device)\n",
        "\n",
        "optimizer = optim.RMSprop(model.parameters(), lr=0.01)"
      ],
      "metadata": {
        "id": "cbk1EIJBW1Lt"
      },
      "execution_count": 364,
      "outputs": []
    },
    {
      "cell_type": "code",
      "source": [
        "losses = []\n",
        "for epoch in range(1000):\n",
        "\n",
        "  optimizer.zero_grad()\n",
        "  hypothesis = model(x_train)\n",
        "\n",
        "  # 비용 함수\n",
        "  cost = loss_fn(hypothesis, y_train)\n",
        "  cost.backward()\n",
        "  optimizer.step()\n",
        "  losses.append(cost.item())\n",
        "\n",
        "  if epoch % 10 == 0:\n",
        "    print(epoch, cost.item())"
      ],
      "metadata": {
        "colab": {
          "base_uri": "https://localhost:8080/"
        },
        "outputId": "796e56ae-a8de-45e3-b19f-647ce179aef4",
        "id": "cwQZdpx8W1Lt"
      },
      "execution_count": 365,
      "outputs": [
        {
          "output_type": "stream",
          "name": "stdout",
          "text": [
            "0 1.373666763305664\n",
            "10 1.256460189819336\n",
            "20 1.1170272827148438\n",
            "30 0.8621276021003723\n",
            "40 0.7205294370651245\n",
            "50 0.6181418299674988\n",
            "60 0.5046564340591431\n",
            "70 0.2836325168609619\n",
            "80 0.2297380566596985\n",
            "90 0.10552569478750229\n",
            "100 0.14142008125782013\n",
            "110 0.11274808645248413\n",
            "120 0.09794963151216507\n",
            "130 0.06137783080339432\n",
            "140 0.12890416383743286\n",
            "150 0.10427962988615036\n",
            "160 0.050045110285282135\n",
            "170 0.1393323838710785\n",
            "180 0.05699320137500763\n",
            "190 0.04182158410549164\n",
            "200 0.07260730117559433\n",
            "210 0.15225248038768768\n",
            "220 0.0968998596072197\n",
            "230 0.033425893634557724\n",
            "240 0.03394237533211708\n",
            "250 0.43472111225128174\n",
            "260 0.028259258717298508\n",
            "270 0.027944087982177734\n",
            "280 0.09382674098014832\n",
            "290 0.12641872465610504\n",
            "300 0.026073679327964783\n",
            "310 0.021609261631965637\n",
            "320 0.35344427824020386\n",
            "330 0.028521820902824402\n",
            "340 0.027337603271007538\n",
            "350 0.22669023275375366\n",
            "360 0.02327267825603485\n",
            "370 0.022835426032543182\n",
            "380 0.05094975605607033\n",
            "390 0.024805067107081413\n",
            "400 0.041931796818971634\n",
            "410 0.08886945247650146\n",
            "420 0.1411249190568924\n",
            "430 0.018809661269187927\n",
            "440 0.01635385863482952\n",
            "450 0.015218302607536316\n",
            "460 0.09000418335199356\n",
            "470 0.048975344747304916\n",
            "480 0.016863705590367317\n",
            "490 0.014301200397312641\n",
            "500 0.01291490439325571\n",
            "510 0.15772561728954315\n",
            "520 0.08228582888841629\n",
            "530 0.018791139125823975\n",
            "540 0.014807669445872307\n",
            "550 0.012917878106236458\n",
            "560 0.01187915075570345\n",
            "570 0.11487303674221039\n",
            "580 0.043907973915338516\n",
            "590 0.014257366769015789\n",
            "600 0.011908596381545067\n",
            "610 0.012890120968222618\n",
            "620 0.09432519972324371\n",
            "630 0.06407500803470612\n",
            "640 0.015446995384991169\n",
            "650 0.012275118380784988\n",
            "660 0.010638214647769928\n",
            "670 0.024481525644659996\n",
            "680 0.06789415329694748\n",
            "690 0.0132770836353302\n",
            "700 0.01028295885771513\n",
            "710 0.009068186394870281\n",
            "720 0.11758194863796234\n",
            "730 0.13997599482536316\n",
            "740 0.012194295413792133\n",
            "750 0.009536199271678925\n",
            "760 0.008112112991511822\n",
            "770 0.074835866689682\n",
            "780 0.04788944125175476\n",
            "790 0.03180481120944023\n",
            "800 0.013019820675253868\n",
            "810 0.009961606934666634\n",
            "820 0.012099523097276688\n",
            "830 0.0872250646352768\n",
            "840 0.010663466528058052\n",
            "850 0.008106403052806854\n",
            "860 0.006793479435145855\n",
            "870 0.006105904467403889\n",
            "880 0.08342023938894272\n",
            "890 0.06251061707735062\n",
            "900 0.011820542626082897\n",
            "910 0.008180479519069195\n",
            "920 0.006988180801272392\n",
            "930 0.04574344679713249\n",
            "940 0.006198822986334562\n",
            "950 0.005475431680679321\n",
            "960 0.03682582452893257\n",
            "970 0.023388786241412163\n",
            "980 0.010670735500752926\n",
            "990 0.014035540632903576\n"
          ]
        }
      ]
    },
    {
      "cell_type": "code",
      "source": [
        "plt.plot(losses)\n",
        "plt.show()"
      ],
      "metadata": {
        "colab": {
          "base_uri": "https://localhost:8080/",
          "height": 269
        },
        "outputId": "783d4585-ad82-4359-bde3-a30a60c4ecd9",
        "id": "4r-OTE15W1Lt"
      },
      "execution_count": 366,
      "outputs": [
        {
          "output_type": "display_data",
          "data": {
            "text/plain": [
              "<Figure size 432x288 with 1 Axes>"
            ],
            "image/png": "[encoded data removed]"
          },
          "metadata": {
            "needs_background": "light"
          }
        }
      ]
    },
    {
      "cell_type": "code",
      "source": [
        "with torch.no_grad():\n",
        "  model = model.to('cpu')\n",
        "  y_pred = model(x_test)\n",
        "  y_pred = y_pred.detach().numpy()\n",
        "  predicted = np.argmax(y_pred, axis =1)\n",
        "  accuracy = (accuracy_score(predicted, y_test))"
      ],
      "metadata": {
        "id": "TnPDBFZ9W1Lt"
      },
      "execution_count": 367,
      "outputs": []
    },
    {
      "cell_type": "code",
      "source": [
        "print(f'model의 output은 :  {y_pred[0]}')\n",
        "print(f'argmax를 한 후의 output은 {predicted[0]}')\n",
        "print(f'accuracy는 {accuracy}')"
      ],
      "metadata": {
        "colab": {
          "base_uri": "https://localhost:8080/"
        },
        "outputId": "5dbbc71f-d9d7-46f9-f684-58079e6c9de3",
        "id": "umLbNAupW1Lu"
      },
      "execution_count": 368,
      "outputs": [
        {
          "output_type": "stream",
          "name": "stdout",
          "text": [
            "model의 output은 :  [-0.23102632 -0.34413978  3.75954    22.181538  ]\n",
            "argmax를 한 후의 output은 3\n",
            "accuracy는 0.965\n"
          ]
        }
      ]
    },
    {
      "cell_type": "code",
      "source": [
        "new_row = {'activation_f':'nn.LeakyReLU','optimizer':'RMSprop','epoch':1000, 'layer':4,'lr':0.01,'accuracy':accuracy}\n",
        "result = result.append(new_row, ignore_index=True)"
      ],
      "metadata": {
        "id": "KcASmNW5W1Lu"
      },
      "execution_count": 369,
      "outputs": []
    },
    {
      "cell_type": "markdown",
      "source": [
        "#Model 10\n",
        " - model7에서 뉴런개수만 바꿈\n",
        "\n"
      ],
      "metadata": {
        "id": "PKMAy4ptSyEX"
      }
    },
    {
      "cell_type": "code",
      "source": [
        "class Model(torch.nn.Module):\n",
        "\n",
        "  def __init__(self):\n",
        "    \n",
        "    super().__init__()\n",
        "    \n",
        "    self.layer1 = nn.Sequential(\n",
        "        nn.Linear(20,256, bias=True),\n",
        "        nn.LeakyReLU(),\n",
        "        nn.BatchNorm1d(256)\n",
        "    )\n",
        "\n",
        "    self.layer2 = nn.Sequential(\n",
        "        nn.Linear(256,64, bias=True),\n",
        "        nn.LeakyReLU()\n",
        "    )\n",
        "    self.layer3 = nn.Sequential(\n",
        "        nn.Linear(64,16, bias=True),\n",
        "        nn.LeakyReLU()\n",
        "    )\n",
        "    self.layer4 = nn.Sequential(\n",
        "        nn.Linear(16, 4, bias=True), \n",
        "        nn.LeakyReLU()\n",
        "    )\n",
        "\n",
        "  def forward(self,x):\n",
        "    output = self.layer1(x)\n",
        "    output = self.layer2(output)\n",
        "    output = self.layer3(output)\n",
        "    output = self.layer4(output)\n",
        "    return output"
      ],
      "metadata": {
        "id": "NXLLsceuS3DD"
      },
      "execution_count": 370,
      "outputs": []
    },
    {
      "cell_type": "code",
      "source": [
        "model = Model().to(device)\n",
        "model.apply(init_weights)"
      ],
      "metadata": {
        "colab": {
          "base_uri": "https://localhost:8080/"
        },
        "outputId": "f2788744-4527-4e87-fcb4-c89cb49a6edb",
        "id": "DFnAhiAhS3DE"
      },
      "execution_count": 371,
      "outputs": [
        {
          "output_type": "stream",
          "name": "stderr",
          "text": [
            "/usr/local/lib/python3.7/dist-packages/ipykernel_launcher.py:3: UserWarning: nn.init.xavier_uniform is now deprecated in favor of nn.init.xavier_uniform_.\n",
            "  This is separate from the ipykernel package so we can avoid doing imports until\n"
          ]
        },
        {
          "output_type": "execute_result",
          "data": {
            "text/plain": [
              "Model(\n",
              "  (layer1): Sequential(\n",
              "    (0): Linear(in_features=20, out_features=256, bias=True)\n",
              "    (1): LeakyReLU(negative_slope=0.01)\n",
              "    (2): BatchNorm1d(256, eps=1e-05, momentum=0.1, affine=True, track_running_stats=True)\n",
              "  )\n",
              "  (layer2): Sequential(\n",
              "    (0): Linear(in_features=256, out_features=64, bias=True)\n",
              "    (1): LeakyReLU(negative_slope=0.01)\n",
              "  )\n",
              "  (layer3): Sequential(\n",
              "    (0): Linear(in_features=64, out_features=16, bias=True)\n",
              "    (1): LeakyReLU(negative_slope=0.01)\n",
              "  )\n",
              "  (layer4): Sequential(\n",
              "    (0): Linear(in_features=16, out_features=4, bias=True)\n",
              "    (1): LeakyReLU(negative_slope=0.01)\n",
              "  )\n",
              ")"
            ]
          },
          "metadata": {},
          "execution_count": 371
        }
      ]
    },
    {
      "cell_type": "code",
      "source": [
        "print(model)"
      ],
      "metadata": {
        "colab": {
          "base_uri": "https://localhost:8080/"
        },
        "outputId": "a10c1924-53ee-4fa4-8bdd-2a8aa2508bea",
        "id": "xh9kU9VbS3DE"
      },
      "execution_count": 372,
      "outputs": [
        {
          "output_type": "stream",
          "name": "stdout",
          "text": [
            "Model(\n",
            "  (layer1): Sequential(\n",
            "    (0): Linear(in_features=20, out_features=256, bias=True)\n",
            "    (1): LeakyReLU(negative_slope=0.01)\n",
            "    (2): BatchNorm1d(256, eps=1e-05, momentum=0.1, affine=True, track_running_stats=True)\n",
            "  )\n",
            "  (layer2): Sequential(\n",
            "    (0): Linear(in_features=256, out_features=64, bias=True)\n",
            "    (1): LeakyReLU(negative_slope=0.01)\n",
            "  )\n",
            "  (layer3): Sequential(\n",
            "    (0): Linear(in_features=64, out_features=16, bias=True)\n",
            "    (1): LeakyReLU(negative_slope=0.01)\n",
            "  )\n",
            "  (layer4): Sequential(\n",
            "    (0): Linear(in_features=16, out_features=4, bias=True)\n",
            "    (1): LeakyReLU(negative_slope=0.01)\n",
            "  )\n",
            ")\n"
          ]
        }
      ]
    },
    {
      "cell_type": "code",
      "source": [
        "loss_fn  = nn.CrossEntropyLoss().to(device)\n",
        "\n",
        "optimizer = optim.SGD(model.parameters(), lr=0.01, momentum=0.9)"
      ],
      "metadata": {
        "id": "2DctQdyRS3DE"
      },
      "execution_count": 373,
      "outputs": []
    },
    {
      "cell_type": "code",
      "source": [
        "losses = []\n",
        "for epoch in range(1000):\n",
        "\n",
        "  optimizer.zero_grad()\n",
        "  hypothesis = model(x_train)\n",
        "\n",
        "  # 비용 함수\n",
        "  cost = loss_fn(hypothesis, y_train)\n",
        "  cost.backward()\n",
        "  optimizer.step()\n",
        "  losses.append(cost.item())\n",
        "\n",
        "  if epoch % 10 == 0:\n",
        "    print(epoch, cost.item())"
      ],
      "metadata": {
        "colab": {
          "base_uri": "https://localhost:8080/"
        },
        "outputId": "6e3cb55a-41fa-48a0-95b8-e5a3b580f5b4",
        "id": "DQzyqnZ1S3DE"
      },
      "execution_count": 374,
      "outputs": [
        {
          "output_type": "stream",
          "name": "stdout",
          "text": [
            "0 1.4752789735794067\n",
            "10 0.8784638047218323\n",
            "20 0.572481095790863\n",
            "30 0.3840165138244629\n",
            "40 0.24822738766670227\n",
            "50 0.18562129139900208\n",
            "60 0.14985540509223938\n",
            "70 0.12857989966869354\n",
            "80 0.11375917494297028\n",
            "90 0.10330626368522644\n",
            "100 0.09504838287830353\n",
            "110 0.08830739557743073\n",
            "120 0.08265208452939987\n",
            "130 0.07773253321647644\n",
            "140 0.07336723059415817\n",
            "150 0.06946466863155365\n",
            "160 0.06598410755395889\n",
            "170 0.06270206719636917\n",
            "180 0.05953739210963249\n",
            "190 0.056575678288936615\n",
            "200 0.054286930710077286\n",
            "210 0.05209553241729736\n",
            "220 0.05007757991552353\n",
            "230 0.04822701960802078\n",
            "240 0.04653452709317207\n",
            "250 0.04496966674923897\n",
            "260 0.04350351169705391\n",
            "270 0.04214927926659584\n",
            "280 0.04085926339030266\n",
            "290 0.039645954966545105\n",
            "300 0.03848255053162575\n",
            "310 0.03740581497550011\n",
            "320 0.03641914203763008\n",
            "330 0.03544042259454727\n",
            "340 0.03453689441084862\n",
            "350 0.0336732417345047\n",
            "360 0.03283683583140373\n",
            "370 0.032012224197387695\n",
            "380 0.031211676076054573\n",
            "390 0.030451152473688126\n",
            "400 0.029671579599380493\n",
            "410 0.028973110020160675\n",
            "420 0.02828248217701912\n",
            "430 0.027629435062408447\n",
            "440 0.026997648179531097\n",
            "450 0.026399729773402214\n",
            "460 0.025788122788071632\n",
            "470 0.02519611269235611\n",
            "480 0.024655526503920555\n",
            "490 0.024154704064130783\n",
            "500 0.023651527240872383\n",
            "510 0.023129675537347794\n",
            "520 0.022681714966893196\n",
            "530 0.022188745439052582\n",
            "540 0.021809836849570274\n",
            "550 0.021414944902062416\n",
            "560 0.020938526839017868\n",
            "570 0.02056247368454933\n",
            "580 0.02018878608942032\n",
            "590 0.019806599244475365\n",
            "600 0.019431406632065773\n",
            "610 0.019124150276184082\n",
            "620 0.01873519830405712\n",
            "630 0.01841713860630989\n",
            "640 0.018026167526841164\n",
            "650 0.01799117960035801\n",
            "660 0.017539318650960922\n",
            "670 0.01726594939827919\n",
            "680 0.016935117542743683\n",
            "690 0.01665768399834633\n",
            "700 0.016311146318912506\n",
            "710 0.015966691076755524\n",
            "720 0.016019748523831367\n",
            "730 0.015592996031045914\n",
            "740 0.015210449695587158\n",
            "750 0.015333343297243118\n",
            "760 0.014913649298250675\n",
            "770 0.014763793908059597\n",
            "780 0.014595064334571362\n",
            "790 0.014231481589376926\n",
            "800 0.013919650577008724\n",
            "810 0.01394543144851923\n",
            "820 0.013670571148395538\n",
            "830 0.013667839579284191\n",
            "840 0.013239054940640926\n",
            "850 0.01297959964722395\n",
            "860 0.013257971033453941\n",
            "870 0.012954635545611382\n",
            "880 0.012718072161078453\n",
            "890 0.012442109175026417\n",
            "900 0.012200267054140568\n",
            "910 0.011986232362687588\n",
            "920 0.011842482723295689\n",
            "930 0.011645503342151642\n",
            "940 0.011484184302389622\n",
            "950 0.011340414173901081\n",
            "960 0.011197500862181187\n",
            "970 0.011051506735384464\n",
            "980 0.011232603341341019\n",
            "990 0.011036274023354053\n"
          ]
        }
      ]
    },
    {
      "cell_type": "code",
      "source": [
        "plt.plot(losses)\n",
        "plt.show()"
      ],
      "metadata": {
        "colab": {
          "base_uri": "https://localhost:8080/",
          "height": 265
        },
        "outputId": "076ae705-8a54-4898-c657-e671403fb8dd",
        "id": "XRAo643HS3DE"
      },
      "execution_count": 375,
      "outputs": [
        {
          "output_type": "display_data",
          "data": {
            "text/plain": [
              "<Figure size 432x288 with 1 Axes>"
            ],
            "image/png": "[encoded data removed]"
          },
          "metadata": {
            "needs_background": "light"
          }
        }
      ]
    },
    {
      "cell_type": "code",
      "source": [
        "with torch.no_grad():\n",
        "  model = model.to('cpu')\n",
        "  y_pred = model(x_test)\n",
        "  y_pred = y_pred.detach().numpy()\n",
        "  predicted = np.argmax(y_pred, axis =1)\n",
        "  accuracy = (accuracy_score(predicted, y_test))"
      ],
      "metadata": {
        "id": "4hoOSJduS3DE"
      },
      "execution_count": 376,
      "outputs": []
    },
    {
      "cell_type": "code",
      "source": [
        "print(f'model의 output은 :  {y_pred[0]}')\n",
        "print(f'argmax를 한 후의 output은 {predicted[0]}')\n",
        "print(f'accuracy는 {accuracy}')"
      ],
      "metadata": {
        "colab": {
          "base_uri": "https://localhost:8080/"
        },
        "outputId": "bf7b3d05-c6e2-487d-a51c-3ad8d02b72ca",
        "id": "3V8ymHGMS3DE"
      },
      "execution_count": 377,
      "outputs": [
        {
          "output_type": "stream",
          "name": "stdout",
          "text": [
            "model의 output은 :  [-0.18980649 -0.24398603  9.022851   35.328453  ]\n",
            "argmax를 한 후의 output은 3\n",
            "accuracy는 0.9783333333333334\n"
          ]
        }
      ]
    },
    {
      "cell_type": "markdown",
      "source": [
        "뉴런의 수를 바꾸어도 정확도가 비슷하다."
      ],
      "metadata": {
        "id": "RWOM9lSyX8ZI"
      }
    },
    {
      "cell_type": "code",
      "source": [
        "result"
      ],
      "metadata": {
        "colab": {
          "base_uri": "https://localhost:8080/",
          "height": 332
        },
        "id": "wjBtcAHVXqVK",
        "outputId": "3c7ba3d0-26c2-4914-d9a5-9bc863abe68c"
      },
      "execution_count": 378,
      "outputs": [
        {
          "output_type": "execute_result",
          "data": {
            "text/plain": [
              "   activation_f optimizer epoch layer    lr  accuracy\n",
              "0       Sigmoid      Adam   100     4  0.01  0.633333\n",
              "1          tanh      Adam  1000     4  0.01  0.600000\n",
              "2       nn.Relu      Adam  1000     4  0.01  0.973333\n",
              "3        F.relu      Adam  1000     4  0.01  0.951667\n",
              "4  nn.LeakyReLU      Adam  1000     4  0.01  0.970000\n",
              "5       nn.Relu       SGD  1000     4  0.01  0.978333\n",
              "6  nn.LeakyReLU       SGD  1000     4  0.01  0.980000\n",
              "7  nn.LeakyReLU       SGD  1000     3  0.01  0.978333\n",
              "8  nn.LeakyReLU   RMSprop  1000     4  0.01  0.965000"
            ],
            "text/html": [
              "\n",
              "  <div id=\"df-9632755e-c23e-4a8a-9530-dbe87fa47b88\">\n",
              "    <div class=\"colab-df-container\">\n",
              "      <div>\n",
              "<style scoped>\n",
              "    .dataframe tbody tr th:only-of-type {\n",
              "        vertical-align: middle;\n",
              "    }\n",
              "\n",
              "    .dataframe tbody tr th {\n",
              "        vertical-align: top;\n",
              "    }\n",
              "\n",
              "    .dataframe thead th {\n",
              "        text-align: right;\n",
              "    }\n",
              "</style>\n",
              "<table border=\"1\" class=\"dataframe\">\n",
              "  <thead>\n",
              "    <tr style=\"text-align: right;\">\n",
              "      <th></th>\n",
              "      <th>activation_f</th>\n",
              "      <th>optimizer</th>\n",
              "      <th>epoch</th>\n",
              "      <th>layer</th>\n",
              "      <th>lr</th>\n",
              "      <th>accuracy</th>\n",
              "    </tr>\n",
              "  </thead>\n",
              "  <tbody>\n",
              "    <tr>\n",
              "      <th>0</th>\n",
              "      <td>Sigmoid</td>\n",
              "      <td>Adam</td>\n",
              "      <td>100</td>\n",
              "      <td>4</td>\n",
              "      <td>0.01</td>\n",
              "      <td>0.633333</td>\n",
              "    </tr>\n",
              "    <tr>\n",
              "      <th>1</th>\n",
              "      <td>tanh</td>\n",
              "      <td>Adam</td>\n",
              "      <td>1000</td>\n",
              "      <td>4</td>\n",
              "      <td>0.01</td>\n",
              "      <td>0.600000</td>\n",
              "    </tr>\n",
              "    <tr>\n",
              "      <th>2</th>\n",
              "      <td>nn.Relu</td>\n",
              "      <td>Adam</td>\n",
              "      <td>1000</td>\n",
              "      <td>4</td>\n",
              "      <td>0.01</td>\n",
              "      <td>0.973333</td>\n",
              "    </tr>\n",
              "    <tr>\n",
              "      <th>3</th>\n",
              "      <td>F.relu</td>\n",
              "      <td>Adam</td>\n",
              "      <td>1000</td>\n",
              "      <td>4</td>\n",
              "      <td>0.01</td>\n",
              "      <td>0.951667</td>\n",
              "    </tr>\n",
              "    <tr>\n",
              "      <th>4</th>\n",
              "      <td>nn.LeakyReLU</td>\n",
              "      <td>Adam</td>\n",
              "      <td>1000</td>\n",
              "      <td>4</td>\n",
              "      <td>0.01</td>\n",
              "      <td>0.970000</td>\n",
              "    </tr>\n",
              "    <tr>\n",
              "      <th>5</th>\n",
              "      <td>nn.Relu</td>\n",
              "      <td>SGD</td>\n",
              "      <td>1000</td>\n",
              "      <td>4</td>\n",
              "      <td>0.01</td>\n",
              "      <td>0.978333</td>\n",
              "    </tr>\n",
              "    <tr>\n",
              "      <th>6</th>\n",
              "      <td>nn.LeakyReLU</td>\n",
              "      <td>SGD</td>\n",
              "      <td>1000</td>\n",
              "      <td>4</td>\n",
              "      <td>0.01</td>\n",
              "      <td>0.980000</td>\n",
              "    </tr>\n",
              "    <tr>\n",
              "      <th>7</th>\n",
              "      <td>nn.LeakyReLU</td>\n",
              "      <td>SGD</td>\n",
              "      <td>1000</td>\n",
              "      <td>3</td>\n",
              "      <td>0.01</td>\n",
              "      <td>0.978333</td>\n",
              "    </tr>\n",
              "    <tr>\n",
              "      <th>8</th>\n",
              "      <td>nn.LeakyReLU</td>\n",
              "      <td>RMSprop</td>\n",
              "      <td>1000</td>\n",
              "      <td>4</td>\n",
              "      <td>0.01</td>\n",
              "      <td>0.965000</td>\n",
              "    </tr>\n",
              "  </tbody>\n",
              "</table>\n",
              "</div>\n",
              "      <button class=\"colab-df-convert\" onclick=\"convertToInteractive('df-9632755e-c23e-4a8a-9530-dbe87fa47b88')\"\n",
              "              title=\"Convert this dataframe to an interactive table.\"\n",
              "              style=\"display:none;\">\n",
              "        \n",
              "  <svg xmlns=\"http://www.w3.org/2000/svg\" height=\"24px\"viewBox=\"0 0 24 24\"\n",
              "       width=\"24px\">\n",
              "    <path d=\"M0 0h24v24H0V0z\" fill=\"none\"/>\n",
              "    <path d=\"M18.56 5.44l.94 2.06.94-2.06 2.06-.94-2.06-.94-.94-2.06-.94 2.06-2.06.94zm-11 1L8.5 8.5l.94-2.06 2.06-.94-2.06-.94L8.5 2.5l-.94 2.06-2.06.94zm10 10l.94 2.06.94-2.06 2.06-.94-2.06-.94-.94-2.06-.94 2.06-2.06.94z\"/><path d=\"M17.41 7.96l-1.37-1.37c-.4-.4-.92-.59-1.43-.59-.52 0-1.04.2-1.43.59L10.3 9.45l-7.72 7.72c-.78.78-.78 2.05 0 2.83L4 21.41c.39.39.9.59 1.41.59.51 0 1.02-.2 1.41-.59l7.78-7.78 2.81-2.81c.8-.78.8-2.07 0-2.86zM5.41 20L4 18.59l7.72-7.72 1.47 1.35L5.41 20z\"/>\n",
              "  </svg>\n",
              "      </button>\n",
              "      \n",
              "  <style>\n",
              "    .colab-df-container {\n",
              "      display:flex;\n",
              "      flex-wrap:wrap;\n",
              "      gap: 12px;\n",
              "    }\n",
              "\n",
              "    .colab-df-convert {\n",
              "      background-color: #E8F0FE;\n",
              "      border: none;\n",
              "      border-radius: 50%;\n",
              "      cursor: pointer;\n",
              "      display: none;\n",
              "      fill: #1967D2;\n",
              "      height: 32px;\n",
              "      padding: 0 0 0 0;\n",
              "      width: 32px;\n",
              "    }\n",
              "\n",
              "    .colab-df-convert:hover {\n",
              "      background-color: #E2EBFA;\n",
              "      box-shadow: 0px 1px 2px rgba(60, 64, 67, 0.3), 0px 1px 3px 1px rgba(60, 64, 67, 0.15);\n",
              "      fill: #174EA6;\n",
              "    }\n",
              "\n",
              "    [theme=dark] .colab-df-convert {\n",
              "      background-color: #3B4455;\n",
              "      fill: #D2E3FC;\n",
              "    }\n",
              "\n",
              "    [theme=dark] .colab-df-convert:hover {\n",
              "      background-color: #434B5C;\n",
              "      box-shadow: 0px 1px 3px 1px rgba(0, 0, 0, 0.15);\n",
              "      filter: drop-shadow(0px 1px 2px rgba(0, 0, 0, 0.3));\n",
              "      fill: #FFFFFF;\n",
              "    }\n",
              "  </style>\n",
              "\n",
              "      <script>\n",
              "        const buttonEl =\n",
              "          document.querySelector('#df-9632755e-c23e-4a8a-9530-dbe87fa47b88 button.colab-df-convert');\n",
              "        buttonEl.style.display =\n",
              "          google.colab.kernel.accessAllowed ? 'block' : 'none';\n",
              "\n",
              "        async function convertToInteractive(key) {\n",
              "          const element = document.querySelector('#df-9632755e-c23e-4a8a-9530-dbe87fa47b88');\n",
              "          const dataTable =\n",
              "            await google.colab.kernel.invokeFunction('convertToInteractive',\n",
              "                                                     [key], {});\n",
              "          if (!dataTable) return;\n",
              "\n",
              "          const docLinkHtml = 'Like what you see? Visit the ' +\n",
              "            '<a target=\"_blank\" href=https://colab.research.google.com/notebooks/data_table.ipynb>data table notebook</a>'\n",
              "            + ' to learn more about interactive tables.';\n",
              "          element.innerHTML = '';\n",
              "          dataTable['output_type'] = 'display_data';\n",
              "          await google.colab.output.renderOutput(dataTable, element);\n",
              "          const docLink = document.createElement('div');\n",
              "          docLink.innerHTML = docLinkHtml;\n",
              "          element.appendChild(docLink);\n",
              "        }\n",
              "      </script>\n",
              "    </div>\n",
              "  </div>\n",
              "  "
            ]
          },
          "metadata": {},
          "execution_count": 378
        }
      ]
    },
    {
      "cell_type": "markdown",
      "source": [
        "# 가장 정확도가 높은 결과는 \n",
        "\n",
        "**Model7**    nn.LeakyReLU,\tSGD,\tepoch  : 1000,\tlayer:4,\tlr:0.01일때 accuracy : 0.980000\n",
        "\n",
        "-> 위 모델을 바탕으로 layer바꾸기, neuron수 바꾸기, lr바꾸기 epoch 바꾸기 해봤지만 더 성능이 좋아지지는 않았다"
      ],
      "metadata": {
        "id": "eiiWzuw_YIox"
      }
    }
  ]
}