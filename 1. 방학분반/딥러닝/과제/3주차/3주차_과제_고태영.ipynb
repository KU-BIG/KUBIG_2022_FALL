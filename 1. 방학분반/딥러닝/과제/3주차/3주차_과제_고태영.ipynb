{
  "nbformat": 4,
  "nbformat_minor": 0,
  "metadata": {
    "colab": {
      "name": "3주차_과제_고태영.ipynb",
      "provenance": [],
      "collapsed_sections": [],
      "machine_shape": "hm"
    },
    "kernelspec": {
      "name": "python3",
      "display_name": "Python 3"
    },
    "language_info": {
      "name": "python"
    },
    "accelerator": "GPU"
  },
  "cells": [
    {
      "cell_type": "markdown",
      "source": [
        "- dataset을 임의로 선정해서 직접 분석 해보기(제공한 코드를 활용해서 해보기)\n",
        "- activation functions 중 relu사용시 함수 직접 정의\n",
        "- lr, optimizer 등 바꿔보기\n",
        "- hidden layer/neuron 수를 바꾸기\n",
        "- 전처리도 추가\n",
        "- 모든 시도를 올려주세요!\n",
        "- 제일 높은 acc를 보인 시도를 명시해주세요!\n"
      ],
      "metadata": {
        "id": "sgAYo4nrw2F4"
      }
    },
    {
      "cell_type": "code",
      "execution_count": null,
      "metadata": {
        "id": "fX437IL6qbI-"
      },
      "outputs": [],
      "source": [
        "import torch\n",
        "from torch import nn, optim\n",
        "from sklearn.datasets import load_wine\n",
        "from torch.utils.data import  TensorDataset, DataLoader\n",
        "from sklearn.model_selection import train_test_split\n",
        "from sklearn.metrics import accuracy_score\n",
        "import numpy as np\n",
        "from sklearn.preprocessing import StandardScaler\n",
        "import matplotlib.pyplot as plt\n",
        "from IPython.display import Image\n",
        "from torchvision import transforms"
      ]
    },
    {
      "cell_type": "code",
      "source": [
        "data=load_wine()\n",
        "input = data.data\n",
        "output = data.target\n",
        "\n",
        "device = 'cuda' if torch.cuda.is_available() else 'cpu'\n",
        "\n",
        "torch.manual_seed(777)\n",
        "if device == \"cuda\":\n",
        "  torch.cuda.manual_seed_all(777)"
      ],
      "metadata": {
        "id": "FywYbfsKtjcR"
      },
      "execution_count": null,
      "outputs": []
    },
    {
      "cell_type": "code",
      "source": [
        "print(input.shape) #178개의 sample input 13"
      ],
      "metadata": {
        "id": "W_ooZVmKCvGa",
        "outputId": "0aa397f4-c078-46a6-a049-4cc61f113427",
        "colab": {
          "base_uri": "https://localhost:8080/"
        }
      },
      "execution_count": null,
      "outputs": [
        {
          "output_type": "stream",
          "name": "stdout",
          "text": [
            "(178, 13)\n"
          ]
        }
      ]
    },
    {
      "cell_type": "code",
      "source": [
        "x_train, x_test, y_train, y_test = train_test_split(input, output, test_size = 0.3, random_state = 42, stratify= data.target, shuffle = True)\n",
        "\n",
        "x_train = torch.FloatTensor(x_train).to(device) #데이터를 gpu로\n",
        "y_train = torch.LongTensor(y_train).to(device)\n",
        "x_test = torch.FloatTensor(x_test)\n",
        "y_test = torch.LongTensor(y_test) ##?\n",
        "\n",
        "# 데이터를 tensor로 바꿔주고 gpu 연산이 가능해지도록 gpu에 옮김\n",
        "# label 값을 왜 long 에 옮겨놓는가? loss function이 다르기 때문 "
      ],
      "metadata": {
        "id": "bLMzf-2ntYeX"
      },
      "execution_count": null,
      "outputs": []
    },
    {
      "cell_type": "code",
      "source": [
        "print(x_train[0])\n",
        "print(y_train[0])\n",
        "\n",
        "#input 13개 (속성이 13개)\n",
        "#y의 class는 3개 "
      ],
      "metadata": {
        "colab": {
          "base_uri": "https://localhost:8080/"
        },
        "id": "umEdiTZkrVqS",
        "outputId": "df0849e9-3369-46c3-9ab7-643a9bdf65ab"
      },
      "execution_count": null,
      "outputs": [
        {
          "output_type": "stream",
          "name": "stdout",
          "text": [
            "tensor([1.3750e+01, 1.7300e+00, 2.4100e+00, 1.6000e+01, 8.9000e+01, 2.6000e+00,\n",
            "        2.7600e+00, 2.9000e-01, 1.8100e+00, 5.6000e+00, 1.1500e+00, 2.9000e+00,\n",
            "        1.3200e+03], device='cuda:0')\n",
            "tensor(0, device='cuda:0')\n"
          ]
        }
      ]
    },
    {
      "cell_type": "markdown",
      "source": [
        "파이토치에서는 데이터셋을 좀 더 쉽게 다룰 수 있도록 유용한 도구로서 torch.utils.data.Dataset과 torch.utils.data.DataLoader를 제공합니다. 이를 사용하면 미니 배치 학습, 데이터 셔플(shuffle), 병렬 처리까지 간단히 수행할 수 있습니다. 기본적인 사용 방법은 Dataset을 정의하고, 이를 DataLoader에 전달하는 것\n",
        "- init : class 에서 객체가 생성되면 바로 실행되는 함수\n",
        "- len : observation 수를 정의하는 함수\n",
        "- getitem : iteration 마다 해당하는 데이터를 돌려주는 함수"
      ],
      "metadata": {
        "id": "combmxzmYFyn"
      }
    },
    {
      "cell_type": "markdown",
      "source": [
        "#case1: 베이스라인 코드 그대로"
      ],
      "metadata": {
        "id": "WP751MW0sZNz"
      }
    },
    {
      "cell_type": "code",
      "source": [
        "from torch.utils.data import Dataset   # Dataset 은 샘플과 정답(label)을 저장하고, DataLoader 는 Dataset 을 샘플에 쉽게 접근할 수 있도록 순회 가능한 객체(iterable)로 감싼다.\n",
        "class CustomDataset(Dataset):\n",
        "  def __init__(self,transform = None):\n",
        "    self.x_data = x_train\n",
        "    self.y_data = [[y] for y in y_train]  \n",
        "#  데이터셋의 전처리를 해주는 부분\n",
        "\n",
        "  def __len__(self):\n",
        "    return len(self.x_data)\n",
        "#  데이터셋의 길이. 즉, 총 샘플의 수를 적어주는 부분\n",
        "\n",
        "  def __getitem__(self, idx):\n",
        "    x = torch.FloatTensor(self.x_data[idx]).to(device) #객체에 []을 하면 자동으로 x,y 저장됨\n",
        "    y = torch.LongTensor(self.y_data[idx]).to(device)\n",
        "#  데이터셋에서 특정 1개의 샘플을 가져오는 함수\n",
        "\n",
        "    return x,y"
      ],
      "metadata": {
        "id": "y38TlgXoqV5Z"
      },
      "execution_count": null,
      "outputs": []
    },
    {
      "cell_type": "code",
      "source": [
        "batch_size = 10\n",
        "\n",
        "dataset = CustomDataset()\n",
        "dataloader = DataLoader(dataset, batch_size=batch_size) "
      ],
      "metadata": {
        "id": "x8VHwnuFqino"
      },
      "execution_count": null,
      "outputs": []
    },
    {
      "cell_type": "code",
      "source": [
        "model = nn.Sequential(\n",
        "          nn.Linear(13,26, bias=True),\n",
        "          nn.Sigmoid(),\n",
        "          nn.Linear(26,39, bias=True),\n",
        "          nn.Sigmoid(),\n",
        "          nn.Linear(39,3, bias=True), \n",
        "          nn.Softmax()\n",
        "          ).to(device)"
      ],
      "metadata": {
        "id": "C6V7a4tyq6Jc"
      },
      "execution_count": null,
      "outputs": []
    },
    {
      "cell_type": "markdown",
      "source": [
        "class로 구현 가능\n",
        "- init : 초기 생성 함수\n",
        "- foward : 순전파(입력값 => 예측값 의 과정)"
      ],
      "metadata": {
        "id": "07uV8RY7Yr_5"
      }
    },
    {
      "cell_type": "code",
      "source": [
        "class Model(torch.nn.Module):\n",
        "\n",
        "  def __init__(self):\n",
        "    super(Model, self).__init__()\n",
        "    self.layer1 = nn.Sequential(\n",
        "          nn.Linear(13,26, bias=True),\n",
        "          nn.Sigmoid(),\n",
        "        nn.BatchNorm1d(26)   #input 값 맞춰주기\n",
        "    )\n",
        "  # activation function 이용 \n",
        "  #   nn.ReLU()\n",
        "  #   nn.tanH()\n",
        "  #   https://pytorch.org/docs/stable/nn.html 그 외에도 여기서 확인 가능함 \n",
        "  #   파라미터가 필요하지 않다는 것이 특징\n",
        "\n",
        "  # batch normazliation 1d, 파라미터 값으로 vector의 길이를 전해줌\n",
        "  # 추후에 이미지를 다루게 된다면, 그때는 batch normalization 2d를 이용하게 됨 \n",
        "  # 그때는 파라미터 값으로 채널, 가로, 세로 길이를 전달해주게 됨 \n",
        "\n",
        "    self.layer2 = nn.Sequential(\n",
        "          nn.Linear(26,39, bias=True),nn.Sigmoid()\n",
        "    )\n",
        "    self.layer3 = nn.Sequential(\n",
        "          nn.Linear(39,52, bias=True),\n",
        "          nn.Sigmoid()\n",
        "    )\n",
        "    self.layer4 = nn.Sequential(\n",
        "        nn.Linear(52, 3, bias=True), \n",
        "        nn.Softmax()\n",
        "    )\n",
        "\n",
        "  def forward(self,x):\n",
        "    output = self.layer1(x)\n",
        "    output = self.layer2(output)\n",
        "    output = self.layer3(output)\n",
        "    output = self.layer4(output)\n",
        "    return output\n",
        "\n",
        "def init_weights(layer):\n",
        "    if isinstance(layer, nn.Linear):\n",
        "        torch.nn.init.xavier_uniform(layer.weight)\n",
        "        layer.bias.data.fill_(0.01)\n",
        "\n",
        "        #xavier사용\n",
        "        # Layer의 weight를 어떤 분포를 가지도록 초기화시켜줌+global minimum찾기 위해서    "
      ],
      "metadata": {
        "id": "a0zLstbMqxEZ"
      },
      "execution_count": null,
      "outputs": []
    },
    {
      "cell_type": "code",
      "source": [
        "model = Model().to(device)\n",
        "model.apply(init_weights)"
      ],
      "metadata": {
        "colab": {
          "base_uri": "https://localhost:8080/"
        },
        "id": "oMDUBFg6rUpw",
        "outputId": "f11b20aa-50af-4d02-d4ff-d1fcdc2ffe9d"
      },
      "execution_count": null,
      "outputs": [
        {
          "output_type": "stream",
          "name": "stderr",
          "text": [
            "/usr/local/lib/python3.7/dist-packages/ipykernel_launcher.py:41: UserWarning: nn.init.xavier_uniform is now deprecated in favor of nn.init.xavier_uniform_.\n"
          ]
        },
        {
          "output_type": "execute_result",
          "data": {
            "text/plain": [
              "Model(\n",
              "  (layer1): Sequential(\n",
              "    (0): Linear(in_features=13, out_features=26, bias=True)\n",
              "    (1): Sigmoid()\n",
              "    (2): BatchNorm1d(26, eps=1e-05, momentum=0.1, affine=True, track_running_stats=True)\n",
              "  )\n",
              "  (layer2): Sequential(\n",
              "    (0): Linear(in_features=26, out_features=39, bias=True)\n",
              "    (1): Sigmoid()\n",
              "  )\n",
              "  (layer3): Sequential(\n",
              "    (0): Linear(in_features=39, out_features=52, bias=True)\n",
              "    (1): Sigmoid()\n",
              "  )\n",
              "  (layer4): Sequential(\n",
              "    (0): Linear(in_features=52, out_features=3, bias=True)\n",
              "    (1): Softmax(dim=None)\n",
              "  )\n",
              ")"
            ]
          },
          "metadata": {},
          "execution_count": 9
        }
      ]
    },
    {
      "cell_type": "code",
      "source": [
        "print(model)"
      ],
      "metadata": {
        "colab": {
          "base_uri": "https://localhost:8080/"
        },
        "id": "OwZt5CetrYFb",
        "outputId": "3941b24a-c3de-462b-d337-1f5bc2975073"
      },
      "execution_count": null,
      "outputs": [
        {
          "output_type": "stream",
          "name": "stdout",
          "text": [
            "Model(\n",
            "  (layer1): Sequential(\n",
            "    (0): Linear(in_features=13, out_features=26, bias=True)\n",
            "    (1): Sigmoid()\n",
            "    (2): BatchNorm1d(26, eps=1e-05, momentum=0.1, affine=True, track_running_stats=True)\n",
            "  )\n",
            "  (layer2): Sequential(\n",
            "    (0): Linear(in_features=26, out_features=39, bias=True)\n",
            "    (1): Sigmoid()\n",
            "  )\n",
            "  (layer3): Sequential(\n",
            "    (0): Linear(in_features=39, out_features=52, bias=True)\n",
            "    (1): Sigmoid()\n",
            "  )\n",
            "  (layer4): Sequential(\n",
            "    (0): Linear(in_features=52, out_features=10, bias=True)\n",
            "    (1): Softmax(dim=None)\n",
            "  )\n",
            ")\n"
          ]
        }
      ]
    },
    {
      "cell_type": "code",
      "source": [
        "loss_fn  = nn.CrossEntropyLoss().to(device)\n",
        "\n",
        "optimizer = optim.Adam(model.parameters(), lr= 0.01)\n",
        "\n",
        "# https://pytorch.org/docs/stable/optim.html#module-torch.optim 페이지 참조\n",
        "# optimizer = optim.SGD(model.parameters(), lr=0.1, momentum=0.9)\n",
        "# sgd 등등"
      ],
      "metadata": {
        "id": "AYFp-eTErh7b"
      },
      "execution_count": null,
      "outputs": []
    },
    {
      "cell_type": "code",
      "source": [
        "losses = []\n",
        "for epoch in range(100):\n",
        "\n",
        "  optimizer.zero_grad()\n",
        "  hypothesis = model(x_train)\n",
        "\n",
        "  # 비용 함수\n",
        "  cost = loss_fn(hypothesis, y_train)\n",
        "  cost.backward()\n",
        "  optimizer.step()\n",
        "  losses.append(cost.item())\n",
        "\n",
        "  if epoch % 10 == 0:\n",
        "    print(epoch, cost.item())"
      ],
      "metadata": {
        "colab": {
          "base_uri": "https://localhost:8080/"
        },
        "id": "90QxHvlIrjS7",
        "outputId": "35c71b52-d6dd-4e74-bdf5-a1f89fa7a800"
      },
      "execution_count": null,
      "outputs": [
        {
          "output_type": "stream",
          "name": "stderr",
          "text": [
            "/usr/local/lib/python3.7/dist-packages/torch/nn/modules/container.py:139: UserWarning: Implicit dimension choice for softmax has been deprecated. Change the call to include dim=X as an argument.\n",
            "  input = module(input)\n"
          ]
        },
        {
          "output_type": "stream",
          "name": "stdout",
          "text": [
            "0 1.153936743736267\n",
            "10 1.0552979707717896\n",
            "20 0.9223798513412476\n",
            "30 0.8678139448165894\n",
            "40 0.8625806570053101\n",
            "50 0.8327105045318604\n",
            "60 0.8046091794967651\n",
            "70 0.7563766241073608\n",
            "80 0.7105939984321594\n",
            "90 0.653317928314209\n"
          ]
        }
      ]
    },
    {
      "cell_type": "code",
      "source": [
        "plt.plot(losses)\n",
        "plt.show()"
      ],
      "metadata": {
        "colab": {
          "base_uri": "https://localhost:8080/",
          "height": 265
        },
        "id": "81ASYrW7roFM",
        "outputId": "39f38c9b-88a9-4e3b-fc63-aa686d80855b"
      },
      "execution_count": null,
      "outputs": [
        {
          "output_type": "display_data",
          "data": {
            "text/plain": [
              "<Figure size 432x288 with 1 Axes>"
            ],
            "image/png": "[encoded data removed]"
          },
          "metadata": {
            "needs_background": "light"
          }
        }
      ]
    },
    {
      "cell_type": "code",
      "source": [
        "with torch.no_grad():\n",
        "  model = model.to('cpu')\n",
        "  y_pred = model(x_test)\n",
        "  y_pred = y_pred.detach().numpy()\n",
        "  predicted = np.argmax(y_pred, axis =1)\n",
        "  accuracy = (accuracy_score(predicted, y_test))"
      ],
      "metadata": {
        "colab": {
          "base_uri": "https://localhost:8080/"
        },
        "id": "h4kJzpLErqhZ",
        "outputId": "1eff021f-1f68-42e2-d806-a24c8b96015f"
      },
      "execution_count": null,
      "outputs": [
        {
          "output_type": "stream",
          "name": "stderr",
          "text": [
            "/usr/local/lib/python3.7/dist-packages/torch/nn/modules/container.py:139: UserWarning: Implicit dimension choice for softmax has been deprecated. Change the call to include dim=X as an argument.\n",
            "  input = module(input)\n"
          ]
        }
      ]
    },
    {
      "cell_type": "code",
      "source": [
        "print(f'model의 output은 : {y_pred[0]}')\n",
        "print(f'argmax를 한 후의 output은 {predicted[0]}')\n",
        "print(f'accuracy는 {accuracy}')   #초기 accuracy 약 0.91"
      ],
      "metadata": {
        "colab": {
          "base_uri": "https://localhost:8080/"
        },
        "id": "vyIKhs3Nr6Ay",
        "outputId": "c68fd358-77fe-4d7d-8c65-b308fd520fce"
      },
      "execution_count": null,
      "outputs": [
        {
          "output_type": "stream",
          "name": "stdout",
          "text": [
            "model의 output은 : [9.9825186e-01 5.3679406e-07 1.7474985e-03]\n",
            "argmax를 한 후의 output은 0\n",
            "accuracy는 0.9074074074074074\n"
          ]
        }
      ]
    },
    {
      "cell_type": "markdown",
      "source": [
        "# case 2: 전처리: normalize 추가"
      ],
      "metadata": {
        "id": "esFgd8Des5_j"
      }
    },
    {
      "cell_type": "code",
      "source": [
        "print(x_train.mean(),x_train.std())"
      ],
      "metadata": {
        "colab": {
          "base_uri": "https://localhost:8080/"
        },
        "id": "3g0f7dvcxHOs",
        "outputId": "e36ea980-976a-450a-d1ce-3ec04b376968"
      },
      "execution_count": null,
      "outputs": [
        {
          "output_type": "stream",
          "name": "stdout",
          "text": [
            "tensor(4.8869, device='cuda:0') tensor(6.0144, device='cuda:0')\n"
          ]
        }
      ]
    },
    {
      "cell_type": "code",
      "source": [
        "from torch.utils.data import Dataset  \n",
        "class CustomDataset(Dataset):\n",
        "  def __init__(self,transform = None):\n",
        "    self.x_data = x_train\n",
        "    self.y_data = [[y] for y in y_train]  \n",
        "    self.transform = transform \n",
        "#  데이터셋의 전처리를 해주는 부분\n",
        "\n",
        "  def __len__(self):\n",
        "    return len(self.x_data)\n",
        "#  데이터셋의 길이. 즉, 총 샘플의 수를 적어주는 부분\n",
        "\n",
        "  def __getitem__(self, idx):\n",
        "    x = torch.FloatTensor(self.x_data[idx]).to(device) #객체에 []을 하면 자동으로 x,y 저장됨\n",
        "    y = torch.LongTensor(self.y_data[idx]).to(device)\n",
        "#  데이터셋에서 특정 1개의 샘플을 가져오는 함수\n",
        "\n",
        "    return x,y\n",
        "\n",
        "\n",
        "torchvision_transform = transforms.Normalize(4.8869, 6.0144, inplace=False)  #추가한 부분\n",
        "\n",
        "\n",
        "batch_size = 10\n",
        "\n",
        "dataset = CustomDataset(transform=torchvision_transform)\n",
        "dataloader = DataLoader(dataset, batch_size=batch_size) "
      ],
      "metadata": {
        "id": "5pArVqxXtHjY"
      },
      "execution_count": null,
      "outputs": []
    },
    {
      "cell_type": "code",
      "source": [
        "class Model(torch.nn.Module):\n",
        "\n",
        "  def __init__(self):\n",
        "    super(Model, self).__init__()\n",
        "    self.layer1 = nn.Sequential(\n",
        "          nn.Linear(13,26, bias=True), # input_layer = 30, hidden_layer1 = 398 \n",
        "          nn.Sigmoid(),\n",
        "        nn.BatchNorm1d(26)   #input 값 맞춰주기\n",
        "    )\n",
        "  # activation function 이용 \n",
        "  #   nn.ReLU()\n",
        "  #   nn.tanH()\n",
        "  #   https://pytorch.org/docs/stable/nn.html 그 외에도 여기서 확인 가능함 \n",
        "  #   파라미터가 필요하지 않다는 것이 특징\n",
        "\n",
        "  # batch normazliation 1d, 파라미터 값으로 vector의 길이를 전해줌\n",
        "  # 추후에 이미지를 다루게 된다면, 그때는 batch normalization 2d를 이용하게 됨 \n",
        "  # 그때는 파라미터 값으로 채널, 가로, 세로 길이를 전달해주게 됨 \n",
        "\n",
        "    self.layer2 = nn.Sequential(\n",
        "          nn.Linear(26,39, bias=True),\n",
        "        nn.Sigmoid()\n",
        "    )\n",
        "    self.layer3 = nn.Sequential(\n",
        "          nn.Linear(39,52, bias=True), \n",
        "        nn.Sigmoid()\n",
        "    )\n",
        "    self.layer4 = nn.Sequential(\n",
        "        nn.Linear(52, 3, bias=True), \n",
        "        nn.Softmax()\n",
        "    )\n",
        "\n",
        "  def forward(self,x):\n",
        "    output = self.layer1(x)\n",
        "    output = self.layer2(output)\n",
        "    output = self.layer3(output)\n",
        "    output = self.layer4(output)\n",
        "    return output\n",
        "\n",
        "def init_weights(layer):\n",
        "    if isinstance(layer, nn.Linear):\n",
        "        torch.nn.init.xavier_uniform(layer.weight)\n",
        "        layer.bias.data.fill_(0.01)  \n",
        "\n",
        "model = Model().to(device)\n",
        "model.apply(init_weights)    "
      ],
      "metadata": {
        "colab": {
          "base_uri": "https://localhost:8080/"
        },
        "id": "D0H5OBx-t86r",
        "outputId": "bff4b11c-7f13-4529-91df-56d1d316326b"
      },
      "execution_count": null,
      "outputs": [
        {
          "output_type": "stream",
          "name": "stderr",
          "text": [
            "/usr/local/lib/python3.7/dist-packages/ipykernel_launcher.py:42: UserWarning: nn.init.xavier_uniform is now deprecated in favor of nn.init.xavier_uniform_.\n"
          ]
        },
        {
          "output_type": "execute_result",
          "data": {
            "text/plain": [
              "Model(\n",
              "  (layer1): Sequential(\n",
              "    (0): Linear(in_features=13, out_features=26, bias=True)\n",
              "    (1): Sigmoid()\n",
              "    (2): BatchNorm1d(26, eps=1e-05, momentum=0.1, affine=True, track_running_stats=True)\n",
              "  )\n",
              "  (layer2): Sequential(\n",
              "    (0): Linear(in_features=26, out_features=39, bias=True)\n",
              "    (1): Sigmoid()\n",
              "  )\n",
              "  (layer3): Sequential(\n",
              "    (0): Linear(in_features=39, out_features=52, bias=True)\n",
              "    (1): Sigmoid()\n",
              "  )\n",
              "  (layer4): Sequential(\n",
              "    (0): Linear(in_features=52, out_features=3, bias=True)\n",
              "    (1): Softmax(dim=None)\n",
              "  )\n",
              ")"
            ]
          },
          "metadata": {},
          "execution_count": 10
        }
      ]
    },
    {
      "cell_type": "code",
      "source": [
        "loss_fn  = nn.CrossEntropyLoss().to(device)\n",
        "\n",
        "optimizer = optim.Adam(model.parameters(), lr= 0.01)\n",
        "\n",
        "# https://pytorch.org/docs/stable/optim.html#module-torch.optim 페이지 참조\n",
        "# optimizer = optim.SGD(model.parameters(), lr=0.1, momentum=0.9)\n",
        "# sgd 등등"
      ],
      "metadata": {
        "id": "ik7KYHpCuA1w"
      },
      "execution_count": null,
      "outputs": []
    },
    {
      "cell_type": "code",
      "source": [
        "losses = []\n",
        "for epoch in range(100):\n",
        "\n",
        "  optimizer.zero_grad()\n",
        "  hypothesis = model(x_train)\n",
        "\n",
        "  # 비용 함수\n",
        "  cost = loss_fn(hypothesis, y_train)\n",
        "  cost.backward()\n",
        "  optimizer.step()\n",
        "  losses.append(cost.item())\n",
        "\n",
        "  if epoch % 10 == 0:\n",
        "    print(epoch, cost.item())"
      ],
      "metadata": {
        "colab": {
          "base_uri": "https://localhost:8080/"
        },
        "id": "tl3jdKGouNar",
        "outputId": "0a87e86e-c495-4785-e4c5-12316f5e2ce6"
      },
      "execution_count": null,
      "outputs": [
        {
          "output_type": "stream",
          "name": "stderr",
          "text": [
            "/usr/local/lib/python3.7/dist-packages/torch/nn/modules/container.py:139: UserWarning: Implicit dimension choice for softmax has been deprecated. Change the call to include dim=X as an argument.\n",
            "  input = module(input)\n"
          ]
        },
        {
          "output_type": "stream",
          "name": "stdout",
          "text": [
            "0 1.1176129579544067\n",
            "10 0.9931424856185913\n",
            "20 0.8746321201324463\n",
            "30 0.8510243892669678\n",
            "40 0.8474462628364563\n",
            "50 0.8404250144958496\n",
            "60 0.8381294012069702\n",
            "70 0.8249585032463074\n",
            "80 0.7662920951843262\n",
            "90 0.764864444732666\n"
          ]
        }
      ]
    },
    {
      "cell_type": "code",
      "source": [
        "with torch.no_grad():\n",
        "  model = model.to('cpu')\n",
        "  y_pred = model(x_test)\n",
        "  y_pred = y_pred.detach().numpy()\n",
        "  predicted = np.argmax(y_pred, axis =1)\n",
        "  accuracy = (accuracy_score(predicted, y_test))\n",
        "\n",
        "print(f'accuracy는 {accuracy}')  #0.91로 성능 동일(normarlize가 이미 포함된 데이터임)"
      ],
      "metadata": {
        "colab": {
          "base_uri": "https://localhost:8080/"
        },
        "id": "eIlPwN3LuN09",
        "outputId": "45666410-ae86-4e06-9721-d26c5a749d8d"
      },
      "execution_count": null,
      "outputs": [
        {
          "output_type": "stream",
          "name": "stdout",
          "text": [
            "accuracy는 0.5555555555555556\n"
          ]
        },
        {
          "output_type": "stream",
          "name": "stderr",
          "text": [
            "/usr/local/lib/python3.7/dist-packages/torch/nn/modules/container.py:139: UserWarning: Implicit dimension choice for softmax has been deprecated. Change the call to include dim=X as an argument.\n",
            "  input = module(input)\n"
          ]
        }
      ]
    },
    {
      "cell_type": "markdown",
      "source": [
        "#case 3: relu 함수+ layer 수 1개로 줄이기"
      ],
      "metadata": {
        "id": "NOFGMOEOtaxA"
      }
    },
    {
      "cell_type": "code",
      "source": [
        "import numpy as np\n",
        "\n",
        "def relu(x):\n",
        "\treturn np.maximum(0, x)"
      ],
      "metadata": {
        "id": "3fZcEjYatdEr"
      },
      "execution_count": null,
      "outputs": []
    },
    {
      "cell_type": "code",
      "source": [
        "from torch.utils.data import Dataset  \n",
        "class CustomDataset(Dataset):\n",
        "  def __init__(self,transform = None):\n",
        "    self.x_data = x_train\n",
        "    self.y_data = [[y] for y in y_train]  \n",
        "    self.transform = transform \n",
        "#  데이터셋의 전처리를 해주는 부분\n",
        "\n",
        "  def __len__(self):\n",
        "    return len(self.x_data)\n",
        "#  데이터셋의 길이. 즉, 총 샘플의 수를 적어주는 부분\n",
        "\n",
        "  def __getitem__(self, idx):\n",
        "    x = torch.FloatTensor(self.x_data[idx]).to(device) #객체에 []을 하면 자동으로 x,y 저장됨\n",
        "    y = torch.LongTensor(self.y_data[idx]).to(device)\n",
        "#  데이터셋에서 특정 1개의 샘플을 가져오는 함수\n",
        "\n",
        "    return x,y\n",
        "\n",
        "\n",
        "torchvision_transform = transforms.Normalize(4.8869, 6.0144, inplace=False)  #추가한 부분\n",
        "\n",
        "\n",
        "batch_size = 10\n",
        "\n",
        "dataset = CustomDataset(transform=torchvision_transform)\n",
        "dataloader = DataLoader(dataset, batch_size=batch_size) "
      ],
      "metadata": {
        "id": "XgXulYTL1vjI"
      },
      "execution_count": null,
      "outputs": []
    },
    {
      "cell_type": "code",
      "source": [
        "class Model(torch.nn.Module):\n",
        "\n",
        "  def __init__(self):\n",
        "    super(Model, self).__init__()\n",
        "    self.layer1 = nn.Sequential(\n",
        "          nn.Linear(13,26, bias=True),\n",
        "          nn.ReLU(),\n",
        "        nn.BatchNorm1d(26)   #input 값 맞춰주기\n",
        "    ) \n",
        "\n",
        "    self.layer2 = nn.Sequential(\n",
        "          nn.Linear(26,3, bias=True), \n",
        "        nn.ReLU()\n",
        "    )\n",
        "\n",
        "  def forward(self,x):\n",
        "    output = self.layer1(x)\n",
        "    output = self.layer2(output)\n",
        "    return output\n",
        "\n",
        "def init_weights(layer):\n",
        "    if isinstance(layer, nn.Linear):\n",
        "        torch.nn.init.xavier_uniform(layer.weight)\n",
        "        layer.bias.data.fill_(0.01)  \n",
        "\n",
        "model = Model().to(device)\n",
        "model.apply(init_weights)    \n",
        "\n",
        "\n",
        "loss_fn  = nn.CrossEntropyLoss().to(device)\n",
        "\n",
        "optimizer = optim.Adam(model.parameters(), lr= 0.01)\n",
        "\n",
        "losses = []\n",
        "for epoch in range(100):\n",
        "\n",
        "  optimizer.zero_grad()\n",
        "  hypothesis = model(x_train)\n",
        "\n",
        "  # 비용 함수\n",
        "  cost = loss_fn(hypothesis, y_train)\n",
        "  cost.backward()\n",
        "  optimizer.step()\n",
        "  losses.append(cost.item())\n",
        "\n",
        "  if epoch % 10 == 0:\n",
        "    print(epoch, cost.item())\n",
        "\n",
        "with torch.no_grad():\n",
        "  model = model.to('cpu')\n",
        "  y_pred = model(x_test)\n",
        "  y_pred = y_pred.detach().numpy()\n",
        "  predicted = np.argmax(y_pred, axis =1)\n",
        "  accuracy = (accuracy_score(predicted, y_test))\n",
        "\n",
        "print(f'accuracy는 {accuracy}')  #0.72로 낮아짐 "
      ],
      "metadata": {
        "colab": {
          "base_uri": "https://localhost:8080/"
        },
        "id": "aXW3gRD0z9i0",
        "outputId": "1c43c18e-1e89-4655-8c64-0119f3851244"
      },
      "execution_count": null,
      "outputs": [
        {
          "output_type": "stream",
          "name": "stderr",
          "text": [
            "/usr/local/lib/python3.7/dist-packages/ipykernel_launcher.py:23: UserWarning: nn.init.xavier_uniform is now deprecated in favor of nn.init.xavier_uniform_.\n"
          ]
        },
        {
          "output_type": "stream",
          "name": "stdout",
          "text": [
            "0 1.246024489402771\n",
            "10 0.7162477970123291\n",
            "20 0.6224349737167358\n",
            "30 0.5459978580474854\n",
            "40 0.48217323422431946\n",
            "50 0.43875351548194885\n",
            "60 0.39589571952819824\n",
            "70 0.3665273189544678\n",
            "80 0.34330540895462036\n",
            "90 0.3233625590801239\n",
            "accuracy는 0.7222222222222222\n"
          ]
        }
      ]
    },
    {
      "cell_type": "markdown",
      "source": [
        "# case 4: relu 함수+ layer 수 그대로+노드 바꿔보기+lr->0.03\n",
        "\n"
      ],
      "metadata": {
        "id": "e-VmGr4d1T_6"
      }
    },
    {
      "cell_type": "code",
      "source": [
        "from torch.utils.data import Dataset  \n",
        "class CustomDataset(Dataset):\n",
        "  def __init__(self,transform = None):\n",
        "    self.x_data = x_train\n",
        "    self.y_data = [[y] for y in y_train]  \n",
        "    self.transform = transform \n",
        "#  데이터셋의 전처리를 해주는 부분\n",
        "\n",
        "  def __len__(self):\n",
        "    return len(self.x_data)\n",
        "#  데이터셋의 길이. 즉, 총 샘플의 수를 적어주는 부분\n",
        "\n",
        "  def __getitem__(self, idx):\n",
        "    x = torch.FloatTensor(self.x_data[idx]).to(device) #객체에 []을 하면 자동으로 x,y 저장됨\n",
        "    y = torch.LongTensor(self.y_data[idx]).to(device)\n",
        "#  데이터셋에서 특정 1개의 샘플을 가져오는 함수\n",
        "\n",
        "    return x,y\n",
        "\n",
        "\n",
        "torchvision_transform = transforms.Normalize(4.8869, 6.0144, inplace=False)  #추가한 부분\n",
        "\n",
        "\n",
        "batch_size = 10\n",
        "\n",
        "dataset = CustomDataset(transform=torchvision_transform)\n",
        "dataloader = DataLoader(dataset, batch_size=batch_size) "
      ],
      "metadata": {
        "id": "eMyjFdGw1wrJ"
      },
      "execution_count": null,
      "outputs": []
    },
    {
      "cell_type": "code",
      "source": [
        "class Model1(torch.nn.Module):\n",
        "\n",
        "  def __init__(self):\n",
        "    super(Model1, self).__init__()\n",
        "    self.layer1 = nn.Sequential(\n",
        "          nn.Linear(13,10, bias=True), \n",
        "          nn.ReLU(),\n",
        "        nn.BatchNorm1d(10)   #input 값 맞춰주기\n",
        "    )\n",
        "\n",
        "    self.layer2 = nn.Sequential(\n",
        "          nn.Linear(10,7, bias=True),\n",
        "          nn.ReLU()\n",
        "    )\n",
        "    self.layer3 = nn.Sequential(\n",
        "          nn.Linear(7,6, bias=True),\n",
        "          nn.ReLU())\n",
        "    \n",
        "    self.layer4 = nn.Sequential(\n",
        "          nn.Linear(6,3, bias=True),\n",
        "          nn.ReLU()\n",
        "    )    \n",
        "    \n",
        "  def forward(self,x):\n",
        "      output = self.layer1(x)\n",
        "      output = self.layer2(output)\n",
        "      output = self.layer3(output)\n",
        "      output = self.layer4(output)\n",
        "      return output\n",
        "\n",
        "def init_weights(layer):\n",
        "    if isinstance(layer, nn.Linear):\n",
        "        torch.nn.init.xavier_uniform(layer.weight)\n",
        "        layer.bias.data.fill_(0.01)\n",
        "\n",
        "        #xavier사용\n",
        "        # Layer의 weight를 어떤 분포를 가지도록 초기화시켜줌+global minimum찾기 위해서  \n",
        "\n",
        "model = Model1().to(device)\n",
        "model.apply(init_weights)    \n",
        "\n",
        "\n",
        "loss_fn  = nn.CrossEntropyLoss().to(device)\n",
        "\n",
        "optimizer = optim.Adam(model.parameters(), lr= 0.03)\n",
        "\n",
        "losses = []\n",
        "for epoch in range(100):\n",
        "\n",
        "  optimizer.zero_grad()\n",
        "  hypothesis = model(x_train)\n",
        "\n",
        "  # 비용 함수\n",
        "  cost = loss_fn(hypothesis, y_train)\n",
        "  cost.backward()\n",
        "  optimizer.step()\n",
        "  losses.append(cost.item())\n",
        "\n",
        "  if epoch % 10 == 0:\n",
        "    print(epoch, cost.item())\n",
        "\n",
        "with torch.no_grad():\n",
        "  model1 = model.to('cpu')\n",
        "  y_pred = model(x_test)\n",
        "  y_pred = y_pred.detach().numpy()\n",
        "  predicted = np.argmax(y_pred, axis =1)\n",
        "  accuracy = (accuracy_score(predicted, y_test))\n",
        "\n",
        "print(f'accuracy는 {accuracy}')  #0.94"
      ],
      "metadata": {
        "colab": {
          "base_uri": "https://localhost:8080/"
        },
        "id": "7vQGeRdn1yZe",
        "outputId": "2bc9cc77-403b-4322-c9bd-5459d8ad45be"
      },
      "execution_count": null,
      "outputs": [
        {
          "output_type": "stream",
          "name": "stderr",
          "text": [
            "/usr/local/lib/python3.7/dist-packages/ipykernel_launcher.py:33: UserWarning: nn.init.xavier_uniform is now deprecated in favor of nn.init.xavier_uniform_.\n"
          ]
        },
        {
          "output_type": "stream",
          "name": "stdout",
          "text": [
            "0 1.0402253866195679\n",
            "10 0.7123870253562927\n",
            "20 0.5942121148109436\n",
            "30 0.5908019542694092\n",
            "40 0.4673052430152893\n",
            "50 0.45830318331718445\n",
            "60 0.4081529378890991\n",
            "70 0.2634502053260803\n",
            "80 0.17430885136127472\n",
            "90 0.07419569790363312\n",
            "accuracy는 0.9444444444444444\n"
          ]
        }
      ]
    },
    {
      "cell_type": "markdown",
      "source": [
        "# case 5: relu 함수+ layer 수 그대로+노드 바꿔보기+lr:0.05+dropout"
      ],
      "metadata": {
        "id": "eyNxvRF_2lRM"
      }
    },
    {
      "cell_type": "code",
      "source": [
        "from torch.utils.data import Dataset  \n",
        "class CustomDataset(Dataset):\n",
        "  def __init__(self,transform = None):\n",
        "    self.x_data = x_train\n",
        "    self.y_data = [[y] for y in y_train]  \n",
        "    self.transform = transform \n",
        "#  데이터셋의 전처리를 해주는 부분\n",
        "\n",
        "  def __len__(self):\n",
        "    return len(self.x_data)\n",
        "#  데이터셋의 길이. 즉, 총 샘플의 수를 적어주는 부분\n",
        "\n",
        "  def __getitem__(self, idx):\n",
        "    x = torch.FloatTensor(self.x_data[idx]).to(device) #객체에 []을 하면 자동으로 x,y 저장됨\n",
        "    y = torch.LongTensor(self.y_data[idx]).to(device)\n",
        "#  데이터셋에서 특정 1개의 샘플을 가져오는 함수\n",
        "\n",
        "    return x,y\n",
        "\n",
        "\n",
        "torchvision_transform = transforms.Normalize(4.8869, 6.0144, inplace=False)  #추가한 부분\n",
        "\n",
        "\n",
        "batch_size = 10\n",
        "\n",
        "dataset = CustomDataset(transform=torchvision_transform)\n",
        "dataloader = DataLoader(dataset, batch_size=batch_size) "
      ],
      "metadata": {
        "id": "AEST0B0d2mSJ"
      },
      "execution_count": null,
      "outputs": []
    },
    {
      "cell_type": "code",
      "source": [
        "class Model2(torch.nn.Module):\n",
        "\n",
        "  def __init__(self):\n",
        "    super(Model2, self).__init__()\n",
        "    self.layer1 = nn.Sequential(\n",
        "          nn.Linear(13,10, bias=True), \n",
        "          nn.ReLU(),\n",
        "        nn.BatchNorm1d(10)   #input 값 맞춰주기\n",
        "    )\n",
        "\n",
        "    self.layer2 = nn.Sequential(\n",
        "          nn.Linear(10,7, bias=True),\n",
        "          nn.ReLU()\n",
        "    )\n",
        "    self.layer3 = nn.Sequential(\n",
        "          nn.Linear(7,6, bias=True),\n",
        "          nn.ReLU())\n",
        "    \n",
        "    self.layer4 = nn.Sequential(\n",
        "          nn.Linear(6,3, bias=True),\n",
        "          nn.ReLU()\n",
        "    ) \n",
        "\n",
        "    self.dropout = nn.Dropout(0.25)      \n",
        "    \n",
        "  def forward(self,x):\n",
        "      output = self.layer1(x)\n",
        "      output = self.layer2(output)\n",
        "      output = self.layer3(output)\n",
        "      output = self.dropout(output)      \n",
        "      output = self.layer4(output)\n",
        "      return output\n",
        "\n",
        "def init_weights(layer):\n",
        "    if isinstance(layer, nn.Linear):\n",
        "        torch.nn.init.xavier_uniform(layer.weight)\n",
        "        layer.bias.data.fill_(0.01)\n",
        "\n",
        "        #xavier사용\n",
        "        # Layer의 weight를 어떤 분포를 가지도록 초기화시켜줌+global minimum찾기 위해서  \n",
        "\n",
        "model = Model().to(device)\n",
        "model.apply(init_weights)    \n",
        "\n",
        "\n",
        "loss_fn  = nn.CrossEntropyLoss().to(device)\n",
        "\n",
        "optimizer = optim.Adam(model.parameters(), lr= 0.05)\n",
        "\n",
        "losses = []\n",
        "for epoch in range(100):\n",
        "\n",
        "  optimizer.zero_grad()\n",
        "  hypothesis = model(x_train)\n",
        "\n",
        "  # 비용 함수\n",
        "  cost = loss_fn(hypothesis, y_train)\n",
        "  cost.backward()\n",
        "  optimizer.step()\n",
        "  losses.append(cost.item())\n",
        "\n",
        "  if epoch % 10 == 0:\n",
        "    print(epoch, cost.item())\n",
        "\n",
        "with torch.no_grad():\n",
        "  model = model.to('cpu')\n",
        "  y_pred = model(x_test)\n",
        "  y_pred = y_pred.detach().numpy()\n",
        "  predicted = np.argmax(y_pred, axis =1)\n",
        "  accuracy = (accuracy_score(predicted, y_test))\n",
        "\n",
        "print(f'accuracy는 {accuracy}')  #0.67로 낮아짐"
      ],
      "metadata": {
        "colab": {
          "base_uri": "https://localhost:8080/"
        },
        "id": "FTSdFV1A2sp9",
        "outputId": "db477f28-e37c-4fbf-abe8-7ccfc4b05e4a"
      },
      "execution_count": null,
      "outputs": [
        {
          "output_type": "stream",
          "name": "stderr",
          "text": [
            "/usr/local/lib/python3.7/dist-packages/ipykernel_launcher.py:36: UserWarning: nn.init.xavier_uniform is now deprecated in favor of nn.init.xavier_uniform_.\n"
          ]
        },
        {
          "output_type": "stream",
          "name": "stdout",
          "text": [
            "0 1.2648327350616455\n",
            "10 0.8121306896209717\n",
            "20 0.7291269898414612\n",
            "30 0.7110924124717712\n",
            "40 0.7343065142631531\n",
            "50 0.6494840383529663\n",
            "60 0.6406269669532776\n",
            "70 0.5395769476890564\n",
            "80 0.5073202848434448\n",
            "90 0.5579782724380493\n",
            "accuracy는 0.6666666666666666\n"
          ]
        }
      ]
    },
    {
      "cell_type": "markdown",
      "source": [
        "# case 6: relu 함수+ layer 수 그대로+노드 바꿔보기+lr:0.05+SGD"
      ],
      "metadata": {
        "id": "UjdjnS-uGkTw"
      }
    },
    {
      "cell_type": "code",
      "source": [
        "from torch.utils.data import Dataset  \n",
        "class CustomDataset(Dataset):\n",
        "  def __init__(self,transform = None):\n",
        "    self.x_data = x_train\n",
        "    self.y_data = [[y] for y in y_train]  \n",
        "    self.transform = transform \n",
        "#  데이터셋의 전처리를 해주는 부분\n",
        "\n",
        "  def __len__(self):\n",
        "    return len(self.x_data)\n",
        "#  데이터셋의 길이. 즉, 총 샘플의 수를 적어주는 부분\n",
        "\n",
        "  def __getitem__(self, idx):\n",
        "    x = torch.FloatTensor(self.x_data[idx]).to(device) #객체에 []을 하면 자동으로 x,y 저장됨\n",
        "    y = torch.LongTensor(self.y_data[idx]).to(device)\n",
        "#  데이터셋에서 특정 1개의 샘플을 가져오는 함수\n",
        "\n",
        "    return x,y\n",
        "\n",
        "\n",
        "torchvision_transform = transforms.Normalize(4.8869, 6.0144, inplace=False)  #추가한 부분\n",
        "\n",
        "\n",
        "batch_size = 10\n",
        "\n",
        "dataset = CustomDataset(transform=torchvision_transform)\n",
        "dataloader = DataLoader(dataset, batch_size=batch_size) "
      ],
      "metadata": {
        "id": "JbF5qaBWHC_x"
      },
      "execution_count": null,
      "outputs": []
    },
    {
      "cell_type": "code",
      "source": [
        "class Model(torch.nn.Module):\n",
        "\n",
        "  def __init__(self):\n",
        "    super(Model, self).__init__()\n",
        "    self.layer1 = nn.Sequential(\n",
        "          nn.Linear(13,10, bias=True), \n",
        "          nn.ReLU(),\n",
        "        nn.BatchNorm1d(10)   #input 값 맞춰주기\n",
        "    )\n",
        "\n",
        "    self.layer2 = nn.Sequential(\n",
        "          nn.Linear(10,7, bias=True),\n",
        "          nn.ReLU()\n",
        "    )\n",
        "    self.layer3 = nn.Sequential(\n",
        "          nn.Linear(7,6, bias=True),\n",
        "          nn.ReLU())\n",
        "    \n",
        "    self.layer4 = nn.Sequential(\n",
        "          nn.Linear(6,3, bias=True),\n",
        "          nn.ReLU()\n",
        "    ) \n",
        "   \n",
        "    \n",
        "  def forward(self,x):\n",
        "      output = self.layer1(x)\n",
        "      output = self.layer2(output)\n",
        "      output = self.layer3(output)    \n",
        "      output = self.layer4(output)\n",
        "      return output\n",
        "\n",
        "def init_weights(layer):\n",
        "    if isinstance(layer, nn.Linear):\n",
        "        torch.nn.init.xavier_uniform(layer.weight)\n",
        "        layer.bias.data.fill_(0.01)\n",
        "\n",
        "        #xavier사용\n",
        "        # Layer의 weight를 어떤 분포를 가지도록 초기화시켜줌+global minimum찾기 위해서  \n",
        "\n",
        "model = Model().to(device)\n",
        "model.apply(init_weights)    \n",
        "\n",
        "\n",
        "loss_fn  = nn.CrossEntropyLoss().to(device)\n",
        "\n",
        "optimizer = optim.SGD(model.parameters(), lr= 0.05)\n",
        "\n",
        "losses = []\n",
        "for epoch in range(100):\n",
        "\n",
        "  optimizer.zero_grad()\n",
        "  hypothesis = model(x_train)\n",
        "\n",
        "  # 비용 함수\n",
        "  cost = loss_fn(hypothesis, y_train)\n",
        "  cost.backward()\n",
        "  optimizer.step()\n",
        "  losses.append(cost.item())\n",
        "\n",
        "  if epoch % 10 == 0:\n",
        "    print(epoch, cost.item())\n",
        "\n",
        "with torch.no_grad():\n",
        "  model = model.to('cpu')\n",
        "  y_pred = model(x_test)\n",
        "  y_pred = y_pred.detach().numpy()\n",
        "  predicted = np.argmax(y_pred, axis =1)\n",
        "  accuracy = (accuracy_score(predicted, y_test))\n",
        "\n",
        "print(f'accuracy는 {accuracy}')  #0.33으로 낮아짐"
      ],
      "metadata": {
        "colab": {
          "base_uri": "https://localhost:8080/"
        },
        "id": "1opTlnjbHGoZ",
        "outputId": "35ddaf50-de3c-4b30-bc90-05929c4c3168"
      },
      "execution_count": null,
      "outputs": [
        {
          "output_type": "stream",
          "name": "stdout",
          "text": [
            "0 1.1428662538528442\n",
            "10 0.9605160355567932\n",
            "20 0.8848334550857544\n",
            "30 0.8578853011131287\n",
            "40 0.8469720482826233\n",
            "50 0.8414644598960876\n",
            "60 0.8373143672943115\n",
            "70 0.8361294269561768\n",
            "80 0.8343256711959839\n",
            "90 0.8335631489753723\n",
            "accuracy는 0.3333333333333333\n"
          ]
        },
        {
          "output_type": "stream",
          "name": "stderr",
          "text": [
            "/usr/local/lib/python3.7/dist-packages/ipykernel_launcher.py:34: UserWarning: nn.init.xavier_uniform is now deprecated in favor of nn.init.xavier_uniform_.\n"
          ]
        }
      ]
    },
    {
      "cell_type": "markdown",
      "source": [
        "##이외에도 여러번 시도 결과\n",
        "\n",
        "##case4:relu 함수+ layer 수 그대로(4개)+노드 바꿔보기(13,10,7,6,3)+lr->0.03 이 약 94%로 가장 높았음"
      ],
      "metadata": {
        "id": "xKRicxngJdxs"
      }
    }
  ]
}