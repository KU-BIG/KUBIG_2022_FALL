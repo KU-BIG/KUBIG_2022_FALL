{
  "nbformat": 4,
  "nbformat_minor": 0,
  "metadata": {
    "colab": {
      "name": "1주차_과제 반민정.ipynb",
      "provenance": [],
      "collapsed_sections": []
    },
    "kernelspec": {
      "name": "python3",
      "display_name": "Python 3"
    },
    "language_info": {
      "name": "python"
    }
  },
  "cells": [
    {
      "cell_type": "markdown",
      "source": [
        "#1주차 과제\n",
        "- 파이토치 시작하기 및 간단한 코드 빈칸 채워넣기"
      ],
      "metadata": {
        "id": "YffDGVSIxijw"
      }
    },
    {
      "cell_type": "markdown",
      "source": [
        "#파이토치 시작하기"
      ],
      "metadata": {
        "id": "MivAstLj4EpN"
      }
    },
    {
      "cell_type": "markdown",
      "source": [
        "파이토치 시작하기"
      ],
      "metadata": {
        "id": "XE4yLA7N4TwG"
      }
    },
    {
      "cell_type": "code",
      "execution_count": 1,
      "metadata": {
        "id": "BS39ZJTi4CD0"
      },
      "outputs": [],
      "source": [
        "import torch \n",
        "import numpy as np"
      ]
    },
    {
      "cell_type": "markdown",
      "source": [
        "- tensor 개념 파악 (array of numerical values(vector, matrix..))\\\n",
        ": numpy의 array와 비슷하다고 보면 됨. pytorch의 array는 tensor. (3차원 이상의 행렬)\n",
        "- 4x3 행렬 두개 만들고 행으로 병합, 열로 병합\n"
      ],
      "metadata": {
        "id": "ixz0WyWH4kSJ"
      }
    },
    {
      "cell_type": "code",
      "source": [
        "#랜덤생성 \n",
        "X=torch.rand(4, 3)\n",
        "Y=torch.rand(4, 3)\n",
        "\n",
        "#torch.empty() -> 빈 행렬\n",
        "\n",
        "###행으로 병합 코드\n",
        "output1 = torch.cat([X,Y], dim=0) \n",
        "\n",
        "###열로 병합 코드\n",
        "output2 = torch.cat([X,Y], dim=1) "
      ],
      "metadata": {
        "id": "OlLUsvmL4kEY"
      },
      "execution_count": 2,
      "outputs": []
    },
    {
      "cell_type": "code",
      "source": [
        "X.shape"
      ],
      "metadata": {
        "colab": {
          "base_uri": "https://localhost:8080/"
        },
        "id": "24-nMHXR1twj",
        "outputId": "a776b3bd-47d6-4712-8061-86bea3010cba"
      },
      "execution_count": 3,
      "outputs": [
        {
          "output_type": "execute_result",
          "data": {
            "text/plain": [
              "torch.Size([4, 3])"
            ]
          },
          "metadata": {},
          "execution_count": 3
        }
      ]
    },
    {
      "cell_type": "code",
      "source": [
        "output1"
      ],
      "metadata": {
        "colab": {
          "base_uri": "https://localhost:8080/"
        },
        "id": "FAVtwncE0Dgx",
        "outputId": "4df09d9d-e7ab-4574-83fa-dc94919de006"
      },
      "execution_count": 4,
      "outputs": [
        {
          "output_type": "execute_result",
          "data": {
            "text/plain": [
              "tensor([[0.3569, 0.0220, 0.7567],\n",
              "        [0.5537, 0.4715, 0.9705],\n",
              "        [0.8653, 0.9012, 0.0557],\n",
              "        [0.4681, 0.5682, 0.4875],\n",
              "        [0.1202, 0.9097, 0.5202],\n",
              "        [0.4493, 0.8446, 0.7481],\n",
              "        [0.0568, 0.8855, 0.5900],\n",
              "        [0.3267, 0.2170, 0.6797]])"
            ]
          },
          "metadata": {},
          "execution_count": 4
        }
      ]
    },
    {
      "cell_type": "code",
      "source": [
        "output2"
      ],
      "metadata": {
        "colab": {
          "base_uri": "https://localhost:8080/"
        },
        "id": "L_MHvT9j0GQU",
        "outputId": "223c2d03-d8c0-4221-f6de-099fa1f8ab86"
      },
      "execution_count": 5,
      "outputs": [
        {
          "output_type": "execute_result",
          "data": {
            "text/plain": [
              "tensor([[0.3569, 0.0220, 0.7567, 0.1202, 0.9097, 0.5202],\n",
              "        [0.5537, 0.4715, 0.9705, 0.4493, 0.8446, 0.7481],\n",
              "        [0.8653, 0.9012, 0.0557, 0.0568, 0.8855, 0.5900],\n",
              "        [0.4681, 0.5682, 0.4875, 0.3267, 0.2170, 0.6797]])"
            ]
          },
          "metadata": {},
          "execution_count": 5
        }
      ]
    },
    {
      "cell_type": "markdown",
      "source": [
        "linear regression implementation from scratch\n",
        "- 머신러닝 기초와 비슷한 내용이지만 파이토치로 실행해보며 익숙해지는것이 목표\n"
      ],
      "metadata": {
        "id": "Gh-1LJliusEc"
      }
    },
    {
      "cell_type": "code",
      "source": [
        "!pip install d2l"
      ],
      "metadata": {
        "id": "Ybbbqg8TqAVR"
      },
      "execution_count": null,
      "outputs": []
    },
    {
      "cell_type": "code",
      "source": [
        "%matplotlib inline\n",
        "import random\n",
        "import torch\n",
        "from d2l import torch as d2l"
      ],
      "metadata": {
        "id": "YyWEB6e3FKYY"
      },
      "execution_count": null,
      "outputs": []
    },
    {
      "cell_type": "code",
      "source": [
        "def synthetic_data(w, b, num_examples):\n",
        "    \"\"\"Generate y = Xw + b + noise.\"\"\"\n",
        "    X = torch.normal(0, 1, (num_examples, len(w))) #torch.normal(mean, std, *, generator=None, out=None) #size=(1,4)\n",
        "    y = torch.matmul(X, w) + b #matmul: 두 tensor의 행렬곱\n",
        "    y += torch.normal(0, 0.01, y.shape)\n",
        "    return X, y.reshape((-1, 1))\n",
        "\n",
        "true_w = torch.tensor([3, -1.5])\n",
        "true_b = 5.5\n",
        "features, labels = synthetic_data(true_w, true_b, 2000)"
      ],
      "metadata": {
        "id": "exWjbVn2v3CT"
      },
      "execution_count": 102,
      "outputs": []
    },
    {
      "cell_type": "code",
      "source": [
        "print('features:', features[0],'\\nlabel:', labels[0])"
      ],
      "metadata": {
        "id": "5UcjckXPv6iy",
        "colab": {
          "base_uri": "https://localhost:8080/"
        },
        "outputId": "c4f12653-0c27-4989-a667-05096f638715"
      },
      "execution_count": 103,
      "outputs": [
        {
          "output_type": "stream",
          "name": "stdout",
          "text": [
            "features: tensor([1.1718, 0.8859]) \n",
            "label: tensor([7.6760])\n"
          ]
        }
      ]
    },
    {
      "cell_type": "code",
      "source": [
        "def data_iter(batch_size, features, labels):\n",
        "    num_examples = len(features)\n",
        "    indices = list(range(num_examples))\n",
        "    # The examples are read at random, in no particular order\n",
        "    random.shuffle(indices)\n",
        "    for i in range(0, num_examples, batch_size):\n",
        "       batch_indices = torch.tensor(\n",
        "            indices[i: min(i + batch_size, num_examples)]) # 슬라이싱\n",
        "       yield features[batch_indices], labels[batch_indices]"
      ],
      "metadata": {
        "id": "jLY6YR5Zv_gO"
      },
      "execution_count": 104,
      "outputs": []
    },
    {
      "cell_type": "code",
      "source": [
        "batch_size = 20\n",
        "\n",
        "for X, y in data_iter(batch_size, features, labels): # features, labels 출력\n",
        "    print(X, '\\n', y)\n",
        "    break #하나만 print"
      ],
      "metadata": {
        "id": "zuxxEAvdwA7p",
        "colab": {
          "base_uri": "https://localhost:8080/"
        },
        "outputId": "f87982e4-edeb-456f-bdee-afa0f7e41431"
      },
      "execution_count": 105,
      "outputs": [
        {
          "output_type": "stream",
          "name": "stdout",
          "text": [
            "tensor([[ 0.0257, -0.5518],\n",
            "        [-1.9934, -1.1892],\n",
            "        [ 0.6842, -0.3391],\n",
            "        [-0.0377, -0.6744],\n",
            "        [ 0.2691, -0.8068],\n",
            "        [ 1.0710,  0.4590],\n",
            "        [ 0.5348, -0.4394],\n",
            "        [-0.6240,  0.9749],\n",
            "        [ 0.7445,  2.2986],\n",
            "        [-2.0758,  0.2347],\n",
            "        [ 0.4572,  0.5209],\n",
            "        [ 1.1878, -0.8343],\n",
            "        [-0.2222, -1.3138],\n",
            "        [ 0.2279, -0.2444],\n",
            "        [-0.2191,  0.3332],\n",
            "        [ 0.9782, -0.5466],\n",
            "        [ 1.3010, -0.2867],\n",
            "        [-0.1435, -1.5900],\n",
            "        [-1.0652, -1.6169],\n",
            "        [-1.4024,  1.2135]]) \n",
            " tensor([[ 6.3987],\n",
            "        [ 1.3128],\n",
            "        [ 8.0526],\n",
            "        [ 6.4010],\n",
            "        [ 7.5157],\n",
            "        [ 8.0169],\n",
            "        [ 7.7712],\n",
            "        [ 2.1652],\n",
            "        [ 4.2609],\n",
            "        [-1.0667],\n",
            "        [ 6.0939],\n",
            "        [10.3128],\n",
            "        [ 6.7978],\n",
            "        [ 6.5352],\n",
            "        [ 4.3422],\n",
            "        [ 9.2601],\n",
            "        [ 9.8284],\n",
            "        [ 7.4585],\n",
            "        [ 4.7151],\n",
            "        [-0.5040]])\n"
          ]
        }
      ]
    },
    {
      "cell_type": "code",
      "source": [
        "w = torch.normal(0, 0.01, size=(2,1), requires_grad=True)\n",
        "b = torch.zeros(1, requires_grad=True)"
      ],
      "metadata": {
        "id": "f_yHcVYEwCHq"
      },
      "execution_count": 106,
      "outputs": []
    },
    {
      "cell_type": "code",
      "source": [
        "def linreg(X, w, b):\n",
        "    \"\"\"The linear regression model.\"\"\"\n",
        "    return torch.matmul(X, w) + b"
      ],
      "metadata": {
        "id": "wOT4gBtZwDVA"
      },
      "execution_count": 107,
      "outputs": []
    },
    {
      "cell_type": "code",
      "source": [
        "def squared_loss(y_hat, y):  \n",
        "    \"\"\"Squared loss.\"\"\"\n",
        "    return (y_hat-y.reshape(y_hat.shape))**2 / 2  #y_hat shape로 변형해야 함 -> 다른가? 크기가?"
      ],
      "metadata": {
        "id": "WFYMJrrSwE5R"
      },
      "execution_count": 108,
      "outputs": []
    },
    {
      "cell_type": "code",
      "source": [
        "def sgd(params, lr, batch_size):\n",
        "    \"\"\"Minibatch stochastic gradient descent.\"\"\"\n",
        "    with torch.no_grad():\n",
        "      for param in params:\n",
        "        param[:] = param - lr * param.grad/batch_size\n",
        "        param.grad.zero_() #backpropagation을 하기전에 gradients를 zero로 만들어주고 시작을 해야합\n"
      ],
      "metadata": {
        "id": "MXD0qP8PwIn0"
      },
      "execution_count": 109,
      "outputs": []
    },
    {
      "cell_type": "code",
      "source": [
        "lr = 0.001\n",
        "num_epochs = 20\n",
        "net = linreg\n",
        "loss = squared_loss\n",
        "\n",
        "w1_list =[]\n",
        "w2_list =[]\n",
        "loss1_list = []\n",
        "loss2_list = []\n",
        "b_list =[]\n",
        "\n",
        "for epoch in range(num_epochs):\n",
        "    for X, y in data_iter(batch_size, features, labels):\n",
        "        l = loss(net(X, w, b), y) \n",
        "        # Compute gradient on `l` with respect to [`w`, `b`]\n",
        "        l.sum().backward()\n",
        "        sgd([w],lr,batch_size)  #update -> b는 제외\n",
        "    with torch.no_grad():\n",
        "        train_l = loss(net(features, w, b), labels)\n",
        "        print(f'epoch {epoch + 1}, loss {float(train_l.mean()):f}')\n",
        "\n",
        "        w1_list.append(float(w[0]))\n",
        "        w2_list.append(float(w[1]))\n",
        "        loss1_list.append(float(train_l[0].mean()))\n",
        "        loss2_list.append(float(train_l[1].mean()))\n",
        "        b_list.append(b)\n"
      ],
      "metadata": {
        "id": "pS_hm3J8wJ4z",
        "colab": {
          "base_uri": "https://localhost:8080/"
        },
        "outputId": "3342d536-5ab4-45d1-b945-d8fa06bc90f1"
      },
      "execution_count": 110,
      "outputs": [
        {
          "output_type": "stream",
          "name": "stdout",
          "text": [
            "epoch 1, loss 20.171738\n",
            "epoch 2, loss 19.276390\n",
            "epoch 3, loss 18.538492\n",
            "epoch 4, loss 17.930975\n",
            "epoch 5, loss 17.431282\n",
            "epoch 6, loss 17.019665\n",
            "epoch 7, loss 16.680172\n",
            "epoch 8, loss 16.400305\n",
            "epoch 9, loss 16.170994\n",
            "epoch 10, loss 15.981606\n",
            "epoch 11, loss 15.825676\n",
            "epoch 12, loss 15.697669\n",
            "epoch 13, loss 15.591513\n",
            "epoch 14, loss 15.504072\n",
            "epoch 15, loss 15.432391\n",
            "epoch 16, loss 15.373627\n",
            "epoch 17, loss 15.324952\n",
            "epoch 18, loss 15.284562\n",
            "epoch 19, loss 15.251420\n",
            "epoch 20, loss 15.224260\n"
          ]
        }
      ]
    },
    {
      "cell_type": "code",
      "source": [
        "print(f'error in estimating w: {true_w - w.reshape(true_w.shape)}')\n",
        "print(f'error in estimating b: {true_b - b}')"
      ],
      "metadata": {
        "id": "u_WSAjwNwMEY",
        "colab": {
          "base_uri": "https://localhost:8080/"
        },
        "outputId": "1b781c6f-553a-4c76-d211-56d8a4ec727e"
      },
      "execution_count": 111,
      "outputs": [
        {
          "output_type": "stream",
          "name": "stdout",
          "text": [
            "error in estimating w: tensor([ 0.2349, -0.2012], grad_fn=<SubBackward0>)\n",
            "error in estimating b: tensor([5.5000], grad_fn=<RsubBackward1>)\n"
          ]
        }
      ]
    },
    {
      "cell_type": "markdown",
      "source": [
        "+cost graph 그리기 (x축 w, y축 loss)"
      ],
      "metadata": {
        "id": "tDSteRKdREC9"
      }
    },
    {
      "cell_type": "code",
      "source": [
        "! python -m pip uninstall matplotlib\n",
        "! pip install matplotlib==3.1.3"
      ],
      "metadata": {
        "id": "FA31xD-oFK9E"
      },
      "execution_count": null,
      "outputs": []
    },
    {
      "cell_type": "code",
      "source": [
        "from matplotlib import pyplot as plt\n",
        "import numpy as np\n",
        "\n",
        "\n",
        "plt.plot(w1_list, loss1_list)\n",
        "plt.ylabel('loss')\n",
        "plt.xlabel('w')"
      ],
      "metadata": {
        "id": "13ySyXh7RMcn",
        "colab": {
          "base_uri": "https://localhost:8080/",
          "height": 297
        },
        "outputId": "31695e3c-9d07-4228-c305-26fde24ff4a3"
      },
      "execution_count": 112,
      "outputs": [
        {
          "output_type": "execute_result",
          "data": {
            "text/plain": [
              "Text(0.5, 0, 'w')"
            ]
          },
          "metadata": {},
          "execution_count": 112
        },
        {
          "output_type": "display_data",
          "data": {
            "text/plain": [
              "<Figure size 432x288 with 1 Axes>"
            ],
            "image/png": "[encoded data removed]"
          },
          "metadata": {
            "needs_background": "light"
          }
        }
      ]
    },
    {
      "cell_type": "code",
      "source": [
        "plt.plot(w2_list, loss2_list)\n",
        "plt.ylabel('loss')\n",
        "plt.xlabel('w')"
      ],
      "metadata": {
        "colab": {
          "base_uri": "https://localhost:8080/",
          "height": 297
        },
        "id": "TgcFBHouGPDL",
        "outputId": "1cc76b6f-c313-4f38-ee46-3230110fcb89"
      },
      "execution_count": 113,
      "outputs": [
        {
          "output_type": "execute_result",
          "data": {
            "text/plain": [
              "Text(0.5, 0, 'w')"
            ]
          },
          "metadata": {},
          "execution_count": 113
        },
        {
          "output_type": "display_data",
          "data": {
            "text/plain": [
              "<Figure size 432x288 with 1 Axes>"
            ],
            "image/png": "[encoded data removed]"
          },
          "metadata": {
            "needs_background": "light"
          }
        }
      ]
    },
    {
      "cell_type": "markdown",
      "source": [
        "concise implementation of linear regression \n",
        "- api 사용해보기"
      ],
      "metadata": {
        "id": "WSKKAGx4wNd4"
      }
    },
    {
      "cell_type": "code",
      "source": [
        "import numpy as np\n",
        "import torch\n",
        "from torch.utils import data\n",
        "from d2l import torch as d2l\n",
        "\n",
        "\n",
        "true_w = torch.tensor([3, -1.5])\n",
        "true_b = 5.5\n",
        "features, labels = d2l.synthetic_data(true_w, true_b, 2000)"
      ],
      "metadata": {
        "id": "CWiOlkzKxEkf"
      },
      "execution_count": 119,
      "outputs": []
    },
    {
      "cell_type": "code",
      "source": [
        "def load_array(data_arrays, batch_size, is_train=True): \n",
        "    \"\"\"Construct a PyTorch data iterator.\"\"\"\n",
        "    dataset = data.TensorDataset(*data_arrays)\n",
        "    return data.DataLoader(dataset, batch_size, shuffle=is_train)\n",
        "\n",
        "batch_size = 20\n",
        "data_iter = load_array((features, labels), batch_size)"
      ],
      "metadata": {
        "id": "F5tRyjkmxGUe"
      },
      "execution_count": 120,
      "outputs": []
    },
    {
      "cell_type": "code",
      "source": [
        "next(iter(data_iter))"
      ],
      "metadata": {
        "id": "NBaqnZG4xHgP",
        "colab": {
          "base_uri": "https://localhost:8080/"
        },
        "outputId": "e43b7217-7436-463e-f678-d418aa01dace"
      },
      "execution_count": 121,
      "outputs": [
        {
          "output_type": "execute_result",
          "data": {
            "text/plain": [
              "[tensor([[ 2.4971e-01,  2.6952e-01],\n",
              "         [-1.5170e+00,  1.2815e+00],\n",
              "         [-1.6487e+00,  3.5478e-01],\n",
              "         [ 2.4345e+00,  1.5910e+00],\n",
              "         [-1.3839e+00,  6.2025e-01],\n",
              "         [ 4.5208e-02, -1.7359e+00],\n",
              "         [-1.8254e-01, -1.8421e-01],\n",
              "         [-1.5365e+00,  1.0491e+00],\n",
              "         [ 5.5967e-01, -8.4760e-01],\n",
              "         [ 1.7188e-01,  1.5694e+00],\n",
              "         [ 1.1986e+00, -1.5662e+00],\n",
              "         [-1.6304e+00,  9.0895e-01],\n",
              "         [ 4.8640e-01, -1.3904e+00],\n",
              "         [ 5.1116e-01, -9.0784e-01],\n",
              "         [-1.9981e-01, -4.5835e-01],\n",
              "         [-2.2143e+00,  7.0452e-01],\n",
              "         [-5.8015e-01, -1.0240e+00],\n",
              "         [-1.0353e+00, -1.5497e-01],\n",
              "         [ 2.2138e+00, -1.9345e+00],\n",
              "         [-9.3402e-01,  7.6792e-04]]), tensor([[ 5.8276],\n",
              "         [-0.9658],\n",
              "         [ 0.0372],\n",
              "         [10.4125],\n",
              "         [ 0.4111],\n",
              "         [ 8.2434],\n",
              "         [ 5.2529],\n",
              "         [-0.6765],\n",
              "         [ 8.4581],\n",
              "         [ 3.6642],\n",
              "         [11.4556],\n",
              "         [-0.7570],\n",
              "         [ 9.0213],\n",
              "         [ 8.3826],\n",
              "         [ 5.5796],\n",
              "         [-2.2148],\n",
              "         [ 5.3128],\n",
              "         [ 2.6278],\n",
              "         [15.0535],\n",
              "         [ 2.6981]])]"
            ]
          },
          "metadata": {},
          "execution_count": 121
        }
      ]
    },
    {
      "cell_type": "code",
      "source": [
        "from torch import nn\n",
        "\n",
        "net = nn.Sequential(\n",
        "    nn.Linear(2,1)\n",
        ")"
      ],
      "metadata": {
        "id": "J_83KBFOxJFB"
      },
      "execution_count": 122,
      "outputs": []
    },
    {
      "cell_type": "code",
      "source": [
        "net[0].weight.data.normal_(0, 0.01)\n",
        "net[0].bias.data.fill_(0)"
      ],
      "metadata": {
        "id": "AdJQQgFaxL2H",
        "colab": {
          "base_uri": "https://localhost:8080/"
        },
        "outputId": "79476cb3-64f4-4613-8965-24a965389135"
      },
      "execution_count": 123,
      "outputs": [
        {
          "output_type": "execute_result",
          "data": {
            "text/plain": [
              "tensor([0.])"
            ]
          },
          "metadata": {},
          "execution_count": 123
        }
      ]
    },
    {
      "cell_type": "code",
      "source": [
        "loss = torch.nn.MSELoss(size_average=False)"
      ],
      "metadata": {
        "id": "vSCAFyfAxNAn",
        "colab": {
          "base_uri": "https://localhost:8080/"
        },
        "outputId": "2ee30896-26b6-47e7-b535-67429dd766ad"
      },
      "execution_count": 124,
      "outputs": [
        {
          "output_type": "stream",
          "name": "stderr",
          "text": [
            "/usr/local/lib/python3.7/dist-packages/torch/nn/_reduction.py:42: UserWarning: size_average and reduce args will be deprecated, please use reduction='sum' instead.\n",
            "  warnings.warn(warning.format(ret))\n"
          ]
        }
      ]
    },
    {
      "cell_type": "code",
      "source": [
        "trainer = torch.optim.SGD(net.parameters(), lr=0.01)"
      ],
      "metadata": {
        "id": "_yee2wG1xOYW"
      },
      "execution_count": 125,
      "outputs": []
    },
    {
      "cell_type": "code",
      "source": [
        "num_epochs = 3\n",
        "for epoch in range(num_epochs):\n",
        "    for X, y in data_iter:\n",
        "        l = loss(net(X),y)\n",
        "        trainer.zero_grad()\n",
        "        l.backward()\n",
        "        trainer.step()\n",
        "    l = loss(net(features), labels)\n",
        "    print(f'epoch {epoch + 1}, loss {l:f}')"
      ],
      "metadata": {
        "id": "5fAmW5bUxP9Z",
        "colab": {
          "base_uri": "https://localhost:8080/"
        },
        "outputId": "5da46c79-e72b-44ba-c7a9-2dc11bb32739"
      },
      "execution_count": 126,
      "outputs": [
        {
          "output_type": "stream",
          "name": "stdout",
          "text": [
            "epoch 1, loss 0.208405\n",
            "epoch 2, loss 0.200867\n",
            "epoch 3, loss 0.200963\n"
          ]
        }
      ]
    },
    {
      "cell_type": "code",
      "source": [
        "w = net[0].weight.data\n",
        "print('error in estimating w:', true_w - w.reshape(true_w.shape))\n",
        "b = net[0].bias.data\n",
        "print('error in estimating b:', true_b - b)"
      ],
      "metadata": {
        "id": "JT8VD6GhxR5m",
        "colab": {
          "base_uri": "https://localhost:8080/"
        },
        "outputId": "c8d7d01c-4352-4fad-aaba-b56bb5c41429"
      },
      "execution_count": 138,
      "outputs": [
        {
          "output_type": "stream",
          "name": "stdout",
          "text": [
            "error in estimating w: tensor([0.0002, 0.0011])\n",
            "error in estimating b: tensor([3.9101e-05])\n"
          ]
        }
      ]
    }
  ]
}