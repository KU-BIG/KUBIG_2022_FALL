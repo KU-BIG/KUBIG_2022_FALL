{
  "nbformat": 4,
  "nbformat_minor": 0,
  "metadata": {
    "colab": {
      "name": "1주차_과제_공도웅.ipynb",
      "provenance": [],
      "collapsed_sections": []
    },
    "kernelspec": {
      "name": "python3",
      "display_name": "Python 3"
    },
    "language_info": {
      "name": "python"
    }
  },
  "cells": [
    {
      "cell_type": "markdown",
      "source": [
        "#1주차 과제\n",
        "- 파이토치 시작하기 및 간단한 코드 빈칸 채워넣기"
      ],
      "metadata": {
        "id": "YffDGVSIxijw"
      }
    },
    {
      "cell_type": "markdown",
      "source": [
        "#파이토치 시작하기"
      ],
      "metadata": {
        "id": "MivAstLj4EpN"
      }
    },
    {
      "cell_type": "markdown",
      "source": [
        "파이토치 시작하기"
      ],
      "metadata": {
        "id": "XE4yLA7N4TwG"
      }
    },
    {
      "cell_type": "code",
      "execution_count": 1,
      "metadata": {
        "id": "BS39ZJTi4CD0"
      },
      "outputs": [],
      "source": [
        "import torch "
      ]
    },
    {
      "cell_type": "markdown",
      "source": [
        "- tensor 개념 파악 (array of numerical values(vector, matrix..))\n",
        "- 4x3 행렬 두개 만들고 행으로 병합, 열로 병합\n"
      ],
      "metadata": {
        "id": "ixz0WyWH4kSJ"
      }
    },
    {
      "cell_type": "code",
      "source": [
        "X=torch.rand(4,3)\n",
        "Y=torch.rand(4,3)\n",
        "print(torch.cat([X,Y],dim=0))\n",
        "print(torch.cat([X,Y],dim=1))"
      ],
      "metadata": {
        "id": "OlLUsvmL4kEY",
        "colab": {
          "base_uri": "https://localhost:8080/"
        },
        "outputId": "c0659eda-862f-4f18-ea78-072272cc4e43"
      },
      "execution_count": 2,
      "outputs": [
        {
          "output_type": "stream",
          "name": "stdout",
          "text": [
            "tensor([[0.9411, 0.2747, 0.5510],\n",
            "        [0.1452, 0.7956, 0.4310],\n",
            "        [0.0903, 0.6072, 0.4079],\n",
            "        [0.2394, 0.8512, 0.0059],\n",
            "        [0.2428, 0.3618, 0.7573],\n",
            "        [0.1528, 0.5934, 0.0237],\n",
            "        [0.5621, 0.2962, 0.9063],\n",
            "        [0.7744, 0.6170, 0.8090]])\n",
            "tensor([[0.9411, 0.2747, 0.5510, 0.2428, 0.3618, 0.7573],\n",
            "        [0.1452, 0.7956, 0.4310, 0.1528, 0.5934, 0.0237],\n",
            "        [0.0903, 0.6072, 0.4079, 0.5621, 0.2962, 0.9063],\n",
            "        [0.2394, 0.8512, 0.0059, 0.7744, 0.6170, 0.8090]])\n"
          ]
        }
      ]
    },
    {
      "cell_type": "markdown",
      "source": [
        "linear regression implementation from scratch\n",
        "- 머신러닝 기초와 비슷한 내용이지만 파이토치로 실행해보며 익숙해지는것이 목표\n"
      ],
      "metadata": {
        "id": "Gh-1LJliusEc"
      }
    },
    {
      "cell_type": "code",
      "source": [
        "!pip install d2l"
      ],
      "metadata": {
        "id": "Ybbbqg8TqAVR",
        "colab": {
          "base_uri": "https://localhost:8080/",
          "height": 1000
        },
        "outputId": "95d59dd2-f33e-42cb-ca9c-9268289512aa"
      },
      "execution_count": 3,
      "outputs": [
        {
          "output_type": "stream",
          "name": "stdout",
          "text": [
            "Looking in indexes: https://pypi.org/simple, https://us-python.pkg.dev/colab-wheels/public/simple/\n",
            "Requirement already satisfied: d2l in /usr/local/lib/python3.7/dist-packages (0.17.5)\n",
            "Collecting matplotlib==3.5.1\n",
            "  Using cached matplotlib-3.5.1-cp37-cp37m-manylinux_2_5_x86_64.manylinux1_x86_64.whl (11.2 MB)\n",
            "Requirement already satisfied: jupyter==1.0.0 in /usr/local/lib/python3.7/dist-packages (from d2l) (1.0.0)\n",
            "Requirement already satisfied: pandas==1.2.4 in /usr/local/lib/python3.7/dist-packages (from d2l) (1.2.4)\n",
            "Requirement already satisfied: numpy==1.21.5 in /usr/local/lib/python3.7/dist-packages (from d2l) (1.21.5)\n",
            "Requirement already satisfied: requests==2.25.1 in /usr/local/lib/python3.7/dist-packages (from d2l) (2.25.1)\n",
            "Requirement already satisfied: jupyter-console in /usr/local/lib/python3.7/dist-packages (from jupyter==1.0.0->d2l) (5.2.0)\n",
            "Requirement already satisfied: nbconvert in /usr/local/lib/python3.7/dist-packages (from jupyter==1.0.0->d2l) (5.6.1)\n",
            "Requirement already satisfied: ipywidgets in /usr/local/lib/python3.7/dist-packages (from jupyter==1.0.0->d2l) (7.7.0)\n",
            "Requirement already satisfied: qtconsole in /usr/local/lib/python3.7/dist-packages (from jupyter==1.0.0->d2l) (5.3.1)\n",
            "Requirement already satisfied: notebook in /usr/local/lib/python3.7/dist-packages (from jupyter==1.0.0->d2l) (5.3.1)\n",
            "Requirement already satisfied: ipykernel in /usr/local/lib/python3.7/dist-packages (from jupyter==1.0.0->d2l) (4.10.1)\n",
            "Requirement already satisfied: pillow>=6.2.0 in /usr/local/lib/python3.7/dist-packages (from matplotlib==3.5.1->d2l) (7.1.2)\n",
            "Requirement already satisfied: kiwisolver>=1.0.1 in /usr/local/lib/python3.7/dist-packages (from matplotlib==3.5.1->d2l) (1.4.3)\n",
            "Requirement already satisfied: python-dateutil>=2.7 in /usr/local/lib/python3.7/dist-packages (from matplotlib==3.5.1->d2l) (2.8.2)\n",
            "Requirement already satisfied: pyparsing>=2.2.1 in /usr/local/lib/python3.7/dist-packages (from matplotlib==3.5.1->d2l) (3.0.9)\n",
            "Requirement already satisfied: packaging>=20.0 in /usr/local/lib/python3.7/dist-packages (from matplotlib==3.5.1->d2l) (21.3)\n",
            "Requirement already satisfied: cycler>=0.10 in /usr/local/lib/python3.7/dist-packages (from matplotlib==3.5.1->d2l) (0.11.0)\n",
            "Requirement already satisfied: fonttools>=4.22.0 in /usr/local/lib/python3.7/dist-packages (from matplotlib==3.5.1->d2l) (4.34.4)\n",
            "Requirement already satisfied: pytz>=2017.3 in /usr/local/lib/python3.7/dist-packages (from pandas==1.2.4->d2l) (2022.1)\n",
            "Requirement already satisfied: certifi>=2017.4.17 in /usr/local/lib/python3.7/dist-packages (from requests==2.25.1->d2l) (2022.6.15)\n",
            "Requirement already satisfied: urllib3<1.27,>=1.21.1 in /usr/local/lib/python3.7/dist-packages (from requests==2.25.1->d2l) (1.24.3)\n",
            "Requirement already satisfied: idna<3,>=2.5 in /usr/local/lib/python3.7/dist-packages (from requests==2.25.1->d2l) (2.10)\n",
            "Requirement already satisfied: chardet<5,>=3.0.2 in /usr/local/lib/python3.7/dist-packages (from requests==2.25.1->d2l) (3.0.4)\n",
            "Requirement already satisfied: typing-extensions in /usr/local/lib/python3.7/dist-packages (from kiwisolver>=1.0.1->matplotlib==3.5.1->d2l) (4.1.1)\n",
            "Requirement already satisfied: six>=1.5 in /usr/local/lib/python3.7/dist-packages (from python-dateutil>=2.7->matplotlib==3.5.1->d2l) (1.15.0)\n",
            "Requirement already satisfied: traitlets>=4.1.0 in /usr/local/lib/python3.7/dist-packages (from ipykernel->jupyter==1.0.0->d2l) (5.1.1)\n",
            "Requirement already satisfied: jupyter-client in /usr/local/lib/python3.7/dist-packages (from ipykernel->jupyter==1.0.0->d2l) (5.3.5)\n",
            "Requirement already satisfied: tornado>=4.0 in /usr/local/lib/python3.7/dist-packages (from ipykernel->jupyter==1.0.0->d2l) (5.1.1)\n",
            "Requirement already satisfied: ipython>=4.0.0 in /usr/local/lib/python3.7/dist-packages (from ipykernel->jupyter==1.0.0->d2l) (5.5.0)\n",
            "Requirement already satisfied: simplegeneric>0.8 in /usr/local/lib/python3.7/dist-packages (from ipython>=4.0.0->ipykernel->jupyter==1.0.0->d2l) (0.8.1)\n",
            "Requirement already satisfied: decorator in /usr/local/lib/python3.7/dist-packages (from ipython>=4.0.0->ipykernel->jupyter==1.0.0->d2l) (4.4.2)\n",
            "Requirement already satisfied: prompt-toolkit<2.0.0,>=1.0.4 in /usr/local/lib/python3.7/dist-packages (from ipython>=4.0.0->ipykernel->jupyter==1.0.0->d2l) (1.0.18)\n",
            "Requirement already satisfied: pygments in /usr/local/lib/python3.7/dist-packages (from ipython>=4.0.0->ipykernel->jupyter==1.0.0->d2l) (2.6.1)\n",
            "Requirement already satisfied: pexpect in /usr/local/lib/python3.7/dist-packages (from ipython>=4.0.0->ipykernel->jupyter==1.0.0->d2l) (4.8.0)\n",
            "Requirement already satisfied: pickleshare in /usr/local/lib/python3.7/dist-packages (from ipython>=4.0.0->ipykernel->jupyter==1.0.0->d2l) (0.7.5)\n",
            "Requirement already satisfied: setuptools>=18.5 in /usr/local/lib/python3.7/dist-packages (from ipython>=4.0.0->ipykernel->jupyter==1.0.0->d2l) (57.4.0)\n",
            "Requirement already satisfied: wcwidth in /usr/local/lib/python3.7/dist-packages (from prompt-toolkit<2.0.0,>=1.0.4->ipython>=4.0.0->ipykernel->jupyter==1.0.0->d2l) (0.2.5)\n",
            "Requirement already satisfied: ipython-genutils~=0.2.0 in /usr/local/lib/python3.7/dist-packages (from ipywidgets->jupyter==1.0.0->d2l) (0.2.0)\n",
            "Requirement already satisfied: nbformat>=4.2.0 in /usr/local/lib/python3.7/dist-packages (from ipywidgets->jupyter==1.0.0->d2l) (5.4.0)\n",
            "Requirement already satisfied: widgetsnbextension~=3.6.0 in /usr/local/lib/python3.7/dist-packages (from ipywidgets->jupyter==1.0.0->d2l) (3.6.0)\n",
            "Requirement already satisfied: jupyterlab-widgets>=1.0.0 in /usr/local/lib/python3.7/dist-packages (from ipywidgets->jupyter==1.0.0->d2l) (1.1.0)\n",
            "Requirement already satisfied: fastjsonschema in /usr/local/lib/python3.7/dist-packages (from nbformat>=4.2.0->ipywidgets->jupyter==1.0.0->d2l) (2.15.3)\n",
            "Requirement already satisfied: jsonschema>=2.6 in /usr/local/lib/python3.7/dist-packages (from nbformat>=4.2.0->ipywidgets->jupyter==1.0.0->d2l) (4.3.3)\n",
            "Requirement already satisfied: jupyter-core in /usr/local/lib/python3.7/dist-packages (from nbformat>=4.2.0->ipywidgets->jupyter==1.0.0->d2l) (4.10.0)\n",
            "Requirement already satisfied: importlib-resources>=1.4.0 in /usr/local/lib/python3.7/dist-packages (from jsonschema>=2.6->nbformat>=4.2.0->ipywidgets->jupyter==1.0.0->d2l) (5.7.1)\n",
            "Requirement already satisfied: pyrsistent!=0.17.0,!=0.17.1,!=0.17.2,>=0.14.0 in /usr/local/lib/python3.7/dist-packages (from jsonschema>=2.6->nbformat>=4.2.0->ipywidgets->jupyter==1.0.0->d2l) (0.18.1)\n",
            "Requirement already satisfied: attrs>=17.4.0 in /usr/local/lib/python3.7/dist-packages (from jsonschema>=2.6->nbformat>=4.2.0->ipywidgets->jupyter==1.0.0->d2l) (21.4.0)\n",
            "Requirement already satisfied: importlib-metadata in /usr/local/lib/python3.7/dist-packages (from jsonschema>=2.6->nbformat>=4.2.0->ipywidgets->jupyter==1.0.0->d2l) (4.11.4)\n",
            "Requirement already satisfied: zipp>=3.1.0 in /usr/local/lib/python3.7/dist-packages (from importlib-resources>=1.4.0->jsonschema>=2.6->nbformat>=4.2.0->ipywidgets->jupyter==1.0.0->d2l) (3.8.0)\n",
            "Requirement already satisfied: jinja2 in /usr/local/lib/python3.7/dist-packages (from notebook->jupyter==1.0.0->d2l) (2.11.3)\n",
            "Requirement already satisfied: terminado>=0.8.1 in /usr/local/lib/python3.7/dist-packages (from notebook->jupyter==1.0.0->d2l) (0.13.3)\n",
            "Requirement already satisfied: Send2Trash in /usr/local/lib/python3.7/dist-packages (from notebook->jupyter==1.0.0->d2l) (1.8.0)\n",
            "Requirement already satisfied: pyzmq>=13 in /usr/local/lib/python3.7/dist-packages (from jupyter-client->ipykernel->jupyter==1.0.0->d2l) (23.1.0)\n",
            "Requirement already satisfied: ptyprocess in /usr/local/lib/python3.7/dist-packages (from terminado>=0.8.1->notebook->jupyter==1.0.0->d2l) (0.7.0)\n",
            "Requirement already satisfied: MarkupSafe>=0.23 in /usr/local/lib/python3.7/dist-packages (from jinja2->notebook->jupyter==1.0.0->d2l) (2.0.1)\n",
            "Requirement already satisfied: bleach in /usr/local/lib/python3.7/dist-packages (from nbconvert->jupyter==1.0.0->d2l) (5.0.0)\n",
            "Requirement already satisfied: testpath in /usr/local/lib/python3.7/dist-packages (from nbconvert->jupyter==1.0.0->d2l) (0.6.0)\n",
            "Requirement already satisfied: pandocfilters>=1.4.1 in /usr/local/lib/python3.7/dist-packages (from nbconvert->jupyter==1.0.0->d2l) (1.5.0)\n",
            "Requirement already satisfied: defusedxml in /usr/local/lib/python3.7/dist-packages (from nbconvert->jupyter==1.0.0->d2l) (0.7.1)\n",
            "Requirement already satisfied: mistune<2,>=0.8.1 in /usr/local/lib/python3.7/dist-packages (from nbconvert->jupyter==1.0.0->d2l) (0.8.4)\n",
            "Requirement already satisfied: entrypoints>=0.2.2 in /usr/local/lib/python3.7/dist-packages (from nbconvert->jupyter==1.0.0->d2l) (0.4)\n",
            "Requirement already satisfied: webencodings in /usr/local/lib/python3.7/dist-packages (from bleach->nbconvert->jupyter==1.0.0->d2l) (0.5.1)\n",
            "Requirement already satisfied: qtpy>=2.0.1 in /usr/local/lib/python3.7/dist-packages (from qtconsole->jupyter==1.0.0->d2l) (2.1.0)\n",
            "Installing collected packages: matplotlib\n",
            "  Attempting uninstall: matplotlib\n",
            "    Found existing installation: matplotlib 3.1.3\n",
            "    Uninstalling matplotlib-3.1.3:\n",
            "      Successfully uninstalled matplotlib-3.1.3\n",
            "\u001b[31mERROR: pip's dependency resolver does not currently take into account all the packages that are installed. This behaviour is the source of the following dependency conflicts.\n",
            "albumentations 0.1.12 requires imgaug<0.2.7,>=0.2.5, but you have imgaug 0.2.9 which is incompatible.\u001b[0m\n",
            "Successfully installed matplotlib-3.5.1\n"
          ]
        },
        {
          "output_type": "display_data",
          "data": {
            "application/vnd.colab-display-data+json": {
              "pip_warning": {
                "packages": [
                  "matplotlib",
                  "mpl_toolkits"
                ]
              }
            }
          },
          "metadata": {}
        }
      ]
    },
    {
      "cell_type": "code",
      "source": [
        "%matplotlib inline\n",
        "import random\n",
        "import torch\n",
        "from d2l import torch as d2l"
      ],
      "metadata": {
        "id": "YyWEB6e3FKYY"
      },
      "execution_count": 4,
      "outputs": []
    },
    {
      "cell_type": "code",
      "source": [
        "def synthetic_data(w, b, num_examples):\n",
        "    \"\"\"Generate y = Xw + b + noise.\"\"\"\n",
        "    X = torch.normal(0, 1, (num_examples, len(w))) #torch.normal(mean,std,size=(numexaples,len(w)):출력텐서)\n",
        "    y = torch.matmul(X, w) + b #matmul : 인수의 종류에 따라서 자동으로 dot(벡터 내적), mv(행렬과 벡터의 곱), mm(행렬과 행렬의 곱)을 선택\n",
        "    y += torch.normal(0, 0.01, y.shape)\n",
        "    return X, y.reshape((-1, 1))\n",
        "\n",
        "true_w = torch.tensor([3, -1.5])\n",
        "true_b = 5.5\n",
        "features, labels = synthetic_data(true_w, true_b, 2000)"
      ],
      "metadata": {
        "id": "exWjbVn2v3CT"
      },
      "execution_count": 5,
      "outputs": []
    },
    {
      "cell_type": "code",
      "source": [
        "print('features:', features[0],'\\nlabel:', labels[0])"
      ],
      "metadata": {
        "id": "5UcjckXPv6iy",
        "colab": {
          "base_uri": "https://localhost:8080/"
        },
        "outputId": "7e0e76d7-bf8d-471e-9d7e-54a6bc70361e"
      },
      "execution_count": 6,
      "outputs": [
        {
          "output_type": "stream",
          "name": "stdout",
          "text": [
            "features: tensor([-0.1471,  0.8624]) \n",
            "label: tensor([3.7642])\n"
          ]
        }
      ]
    },
    {
      "cell_type": "code",
      "source": [
        "def data_iter(batch_size, features, labels):\n",
        "    num_examples = len(features)\n",
        "    indices = list(range(num_examples))\n",
        "    # The examples are read at random, in no particular order\n",
        "    random.shuffle(indices)\n",
        "    for i in range(0,num_examples,batch_size):\n",
        "        ##이하는 반복문에 대한 조건입니다.\n",
        "        batch_indices = torch.tensor(\n",
        "            indices[i: min(i + batch_size, num_examples)])\n",
        "        yield features[batch_indices], labels[batch_indices]"
      ],
      "metadata": {
        "id": "jLY6YR5Zv_gO"
      },
      "execution_count": 7,
      "outputs": []
    },
    {
      "cell_type": "code",
      "source": [
        "batch_size = 20\n",
        "\n",
        "for X, y in data_iter(batch_size, features, labels):\n",
        "    print(X, '\\n', y)\n",
        "    break"
      ],
      "metadata": {
        "id": "zuxxEAvdwA7p",
        "colab": {
          "base_uri": "https://localhost:8080/"
        },
        "outputId": "a0012333-8f1f-4c0d-fc46-43e8eea6166c"
      },
      "execution_count": 8,
      "outputs": [
        {
          "output_type": "stream",
          "name": "stdout",
          "text": [
            "tensor([[ 0.4468, -1.3419],\n",
            "        [-0.4761,  0.8017],\n",
            "        [ 0.7856, -0.8440],\n",
            "        [-0.9725,  1.5631],\n",
            "        [-0.6706, -1.2111],\n",
            "        [-1.6767, -1.5040],\n",
            "        [ 0.6042, -1.8007],\n",
            "        [ 1.1632, -1.2086],\n",
            "        [ 0.1469, -2.5244],\n",
            "        [-0.6283,  1.3188],\n",
            "        [ 0.3751,  0.6446],\n",
            "        [ 0.6913,  0.1483],\n",
            "        [-1.3350, -2.8162],\n",
            "        [-0.0218, -1.3477],\n",
            "        [-0.0712,  0.0030],\n",
            "        [-1.2079, -0.6588],\n",
            "        [-0.0645,  1.2950],\n",
            "        [-0.8030,  0.3343],\n",
            "        [-1.1655, -2.1765],\n",
            "        [-0.8465,  0.7422]]) \n",
            " tensor([[ 8.8614],\n",
            "        [ 2.8882],\n",
            "        [ 9.1007],\n",
            "        [ 0.2446],\n",
            "        [ 5.3136],\n",
            "        [ 2.7262],\n",
            "        [ 9.9918],\n",
            "        [10.8102],\n",
            "        [ 9.7355],\n",
            "        [ 1.6221],\n",
            "        [ 5.6494],\n",
            "        [ 7.3563],\n",
            "        [ 5.7197],\n",
            "        [ 7.4491],\n",
            "        [ 5.2702],\n",
            "        [ 2.8611],\n",
            "        [ 3.3658],\n",
            "        [ 2.5974],\n",
            "        [ 5.2742],\n",
            "        [ 1.8383]])\n"
          ]
        }
      ]
    },
    {
      "cell_type": "code",
      "source": [
        "w = torch.normal(0, 0.01, size=(2,1), requires_grad=True)\n",
        "b = torch.tensor([5.5])"
      ],
      "metadata": {
        "id": "f_yHcVYEwCHq"
      },
      "execution_count": 9,
      "outputs": []
    },
    {
      "cell_type": "code",
      "source": [
        "print(w)"
      ],
      "metadata": {
        "colab": {
          "base_uri": "https://localhost:8080/"
        },
        "id": "3YvQuaObisCT",
        "outputId": "a368be0d-54de-426e-fb07-932605d11315"
      },
      "execution_count": 10,
      "outputs": [
        {
          "output_type": "stream",
          "name": "stdout",
          "text": [
            "tensor([[-0.0029],\n",
            "        [-0.0121]], requires_grad=True)\n"
          ]
        }
      ]
    },
    {
      "cell_type": "code",
      "source": [
        "print(b)"
      ],
      "metadata": {
        "colab": {
          "base_uri": "https://localhost:8080/"
        },
        "id": "iFz6Ah86iw5w",
        "outputId": "195c7565-9f45-4f4d-8c12-2c2a0b24a07d"
      },
      "execution_count": 11,
      "outputs": [
        {
          "output_type": "stream",
          "name": "stdout",
          "text": [
            "tensor([5.5000])\n"
          ]
        }
      ]
    },
    {
      "cell_type": "code",
      "source": [
        "def linreg(X, w, b):\n",
        "    \"\"\"The linear regression model.\"\"\"\n",
        "    return torch.matmul(X,w) + b"
      ],
      "metadata": {
        "id": "wOT4gBtZwDVA"
      },
      "execution_count": 12,
      "outputs": []
    },
    {
      "cell_type": "code",
      "source": [
        "def squared_loss(y_hat, y):  \n",
        "    \"\"\"Squared loss.\"\"\"\n",
        "    return (y_hat - y.reshape(y_hat.shape)) ** 2 / 2"
      ],
      "metadata": {
        "id": "WFYMJrrSwE5R"
      },
      "execution_count": 13,
      "outputs": []
    },
    {
      "cell_type": "code",
      "source": [
        "def sgd(params, lr, batch_size):\n",
        "    \"\"\"Minibatch stochastic gradient descent.\"\"\"\n",
        "    with torch.no_grad():\n",
        "        for param in params:\n",
        "          param -= lr * param.grad / batch_size\n",
        "          param.grad.zero_()"
      ],
      "metadata": {
        "id": "MXD0qP8PwIn0"
      },
      "execution_count": 14,
      "outputs": []
    },
    {
      "cell_type": "code",
      "source": [
        "lr = 0.001\n",
        "num_epochs = 30\n",
        "net = linreg\n",
        "loss = squared_loss\n",
        "\n",
        "w0 = []\n",
        "w1 = []\n",
        "b_l = []\n",
        "loss_arr_w0 = []\n",
        "loss_arr_w1 = []\n",
        "\n",
        "for epoch in range(num_epochs):\n",
        "    for X, y in data_iter(batch_size, features, labels):\n",
        "        l = loss(net(X , w, b), y) \n",
        "        # Compute gradient on `l` with respect to [`w`]\n",
        "        l.sum().backward()\n",
        "        sgd([w], lr, batch_size) # update 파라미터에서 b 제외\n",
        "    with torch.no_grad():\n",
        "        train_l = loss(net(features, w, b), labels)\n",
        "        print(f'epoch {epoch + 1}, loss {float(train_l.mean()):f}')\n",
        "        \n",
        "        w0.append(w.tolist()[0])\n",
        "        w1.append(w.tolist()[1])\n",
        "        b_l.append(b.tolist())\n",
        "        loss_arr_w0.append(train_l[0].mean())\n",
        "        loss_arr_w1.append(train_l[1].mean())"
      ],
      "metadata": {
        "id": "pS_hm3J8wJ4z",
        "colab": {
          "base_uri": "https://localhost:8080/"
        },
        "outputId": "00eae348-40a5-4b5e-fd6b-c16669854c3d"
      },
      "execution_count": 15,
      "outputs": [
        {
          "output_type": "stream",
          "name": "stdout",
          "text": [
            "epoch 1, loss 4.436409\n",
            "epoch 2, loss 3.663480\n",
            "epoch 3, loss 3.025215\n",
            "epoch 4, loss 2.498158\n",
            "epoch 5, loss 2.062930\n",
            "epoch 6, loss 1.703534\n",
            "epoch 7, loss 1.406750\n",
            "epoch 8, loss 1.161672\n",
            "epoch 9, loss 0.959292\n",
            "epoch 10, loss 0.792176\n",
            "epoch 11, loss 0.654172\n",
            "epoch 12, loss 0.540210\n",
            "epoch 13, loss 0.446104\n",
            "epoch 14, loss 0.368394\n",
            "epoch 15, loss 0.304224\n",
            "epoch 16, loss 0.251231\n",
            "epoch 17, loss 0.207472\n",
            "epoch 18, loss 0.171335\n",
            "epoch 19, loss 0.141494\n",
            "epoch 20, loss 0.116852\n",
            "epoch 21, loss 0.096503\n",
            "epoch 22, loss 0.079700\n",
            "epoch 23, loss 0.065823\n",
            "epoch 24, loss 0.054364\n",
            "epoch 25, loss 0.044901\n",
            "epoch 26, loss 0.037088\n",
            "epoch 27, loss 0.030635\n",
            "epoch 28, loss 0.025306\n",
            "epoch 29, loss 0.020906\n",
            "epoch 30, loss 0.017272\n"
          ]
        }
      ]
    },
    {
      "cell_type": "code",
      "source": [
        "print(f'error in estimating w: {true_w - w.reshape(true_w.shape)}')\n",
        "print(f'error in estimating b: {true_b - b}')"
      ],
      "metadata": {
        "id": "u_WSAjwNwMEY",
        "colab": {
          "base_uri": "https://localhost:8080/"
        },
        "outputId": "634727e9-33d8-409d-ee8a-dce7eacafedf"
      },
      "execution_count": 16,
      "outputs": [
        {
          "output_type": "stream",
          "name": "stdout",
          "text": [
            "error in estimating w: tensor([ 0.1690, -0.0862], grad_fn=<SubBackward0>)\n",
            "error in estimating b: tensor([0.])\n"
          ]
        }
      ]
    },
    {
      "cell_type": "code",
      "source": [
        "print(loss_arr_w0)"
      ],
      "metadata": {
        "colab": {
          "base_uri": "https://localhost:8080/"
        },
        "id": "ypLPU5HKZj7j",
        "outputId": "0a31f974-bcde-4e98-f23d-07082fa733ab"
      },
      "execution_count": 17,
      "outputs": [
        {
          "output_type": "stream",
          "name": "stdout",
          "text": [
            "[tensor(1.2314), tensor(1.0182), tensor(0.8420), tensor(0.6962), tensor(0.5757), tensor(0.4761), tensor(0.3937), tensor(0.3255), tensor(0.2692), tensor(0.2226), tensor(0.1841), tensor(0.1522), tensor(0.1259), tensor(0.1041), tensor(0.0861), tensor(0.0712), tensor(0.0589), tensor(0.0487), tensor(0.0403), tensor(0.0333), tensor(0.0276), tensor(0.0228), tensor(0.0189), tensor(0.0156), tensor(0.0129), tensor(0.0107), tensor(0.0088), tensor(0.0073), tensor(0.0061), tensor(0.0050)]\n"
          ]
        }
      ]
    },
    {
      "cell_type": "code",
      "source": [
        "w0"
      ],
      "metadata": {
        "colab": {
          "base_uri": "https://localhost:8080/"
        },
        "id": "8F9cu41YccFj",
        "outputId": "cee78b6c-ced0-4aed-a113-23b031f64993"
      },
      "execution_count": 18,
      "outputs": [
        {
          "output_type": "execute_result",
          "data": {
            "text/plain": [
              "[[0.2718007564544678],\n",
              " [0.5213818550109863],\n",
              " [0.7481280565261841],\n",
              " [0.9541330933570862],\n",
              " [1.141282558441162],\n",
              " [1.3113131523132324],\n",
              " [1.4657893180847168],\n",
              " [1.6061302423477173],\n",
              " [1.7336293458938599],\n",
              " [1.8494619131088257],\n",
              " [1.9547008275985718],\n",
              " [2.0503129959106445],\n",
              " [2.137178421020508],\n",
              " [2.216094732284546],\n",
              " [2.287790060043335],\n",
              " [2.352928638458252],\n",
              " [2.41210675239563],\n",
              " [2.465874433517456],\n",
              " [2.514723539352417],\n",
              " [2.559105634689331],\n",
              " [2.599424362182617],\n",
              " [2.6360561847686768],\n",
              " [2.669337272644043],\n",
              " [2.699573516845703],\n",
              " [2.7270450592041016],\n",
              " [2.7520017623901367],\n",
              " [2.774677038192749],\n",
              " [2.7952780723571777],\n",
              " [2.8139944076538086],\n",
              " [2.830998182296753]]"
            ]
          },
          "metadata": {},
          "execution_count": 18
        }
      ]
    },
    {
      "cell_type": "code",
      "source": [
        "loss_arr_w1"
      ],
      "metadata": {
        "colab": {
          "base_uri": "https://localhost:8080/"
        },
        "id": "TOKMYwwPa055",
        "outputId": "20450efb-79d2-45b8-b780-a6a085479b5e"
      },
      "execution_count": 19,
      "outputs": [
        {
          "output_type": "execute_result",
          "data": {
            "text/plain": [
              "[tensor(3.5008),\n",
              " tensor(2.8914),\n",
              " tensor(2.3882),\n",
              " tensor(1.9726),\n",
              " tensor(1.6294),\n",
              " tensor(1.3460),\n",
              " tensor(1.1119),\n",
              " tensor(0.9185),\n",
              " tensor(0.7588),\n",
              " tensor(0.6269),\n",
              " tensor(0.5180),\n",
              " tensor(0.4280),\n",
              " tensor(0.3537),\n",
              " tensor(0.2923),\n",
              " tensor(0.2415),\n",
              " tensor(0.1996),\n",
              " tensor(0.1650),\n",
              " tensor(0.1364),\n",
              " tensor(0.1128),\n",
              " tensor(0.0933),\n",
              " tensor(0.0771),\n",
              " tensor(0.0638),\n",
              " tensor(0.0528),\n",
              " tensor(0.0437),\n",
              " tensor(0.0361),\n",
              " tensor(0.0299),\n",
              " tensor(0.0248),\n",
              " tensor(0.0205),\n",
              " tensor(0.0170),\n",
              " tensor(0.0141)]"
            ]
          },
          "metadata": {},
          "execution_count": 19
        }
      ]
    },
    {
      "cell_type": "code",
      "source": [
        "w1"
      ],
      "metadata": {
        "colab": {
          "base_uri": "https://localhost:8080/"
        },
        "id": "Tk1KrExJewxb",
        "outputId": "e0a38837-7f3f-4a2a-dd11-301364cd865e"
      },
      "execution_count": 20,
      "outputs": [
        {
          "output_type": "execute_result",
          "data": {
            "text/plain": [
              "[[-0.14665305614471436],\n",
              " [-0.2690679132938385],\n",
              " [-0.3804185688495636],\n",
              " [-0.4816916584968567],\n",
              " [-0.5738223195075989],\n",
              " [-0.6576129794120789],\n",
              " [-0.7338290810585022],\n",
              " [-0.8031614422798157],\n",
              " [-0.8662295341491699],\n",
              " [-0.9235926270484924],\n",
              " [-0.9757664799690247],\n",
              " [-1.0232224464416504],\n",
              " [-1.0663845539093018],\n",
              " [-1.1056464910507202],\n",
              " [-1.141356110572815],\n",
              " [-1.1738383769989014],\n",
              " [-1.2033833265304565],\n",
              " [-1.2302521467208862],\n",
              " [-1.2546930313110352],\n",
              " [-1.276916742324829],\n",
              " [-1.2971352338790894],\n",
              " [-1.3155221939086914],\n",
              " [-1.3322489261627197],\n",
              " [-1.3474618196487427],\n",
              " [-1.3612972497940063],\n",
              " [-1.3738826513290405],\n",
              " [-1.3853296041488647],\n",
              " [-1.3957395553588867],\n",
              " [-1.4052067995071411],\n",
              " [-1.4138193130493164]]"
            ]
          },
          "metadata": {},
          "execution_count": 20
        }
      ]
    },
    {
      "cell_type": "code",
      "source": [
        "b_l"
      ],
      "metadata": {
        "colab": {
          "base_uri": "https://localhost:8080/"
        },
        "id": "Ml0itIlRgHJY",
        "outputId": "8734e40b-cb08-41ee-b97a-403aae9ae1bd"
      },
      "execution_count": 21,
      "outputs": [
        {
          "output_type": "execute_result",
          "data": {
            "text/plain": [
              "[[5.5],\n",
              " [5.5],\n",
              " [5.5],\n",
              " [5.5],\n",
              " [5.5],\n",
              " [5.5],\n",
              " [5.5],\n",
              " [5.5],\n",
              " [5.5],\n",
              " [5.5],\n",
              " [5.5],\n",
              " [5.5],\n",
              " [5.5],\n",
              " [5.5],\n",
              " [5.5],\n",
              " [5.5],\n",
              " [5.5],\n",
              " [5.5],\n",
              " [5.5],\n",
              " [5.5],\n",
              " [5.5],\n",
              " [5.5],\n",
              " [5.5],\n",
              " [5.5],\n",
              " [5.5],\n",
              " [5.5],\n",
              " [5.5],\n",
              " [5.5],\n",
              " [5.5],\n",
              " [5.5]]"
            ]
          },
          "metadata": {},
          "execution_count": 21
        }
      ]
    },
    {
      "cell_type": "markdown",
      "source": [
        "+cost graph 그리기 (x축 w, y축 loss)"
      ],
      "metadata": {
        "id": "tDSteRKdREC9"
      }
    },
    {
      "cell_type": "code",
      "source": [
        "!pip install matplotlib==3.1.3\n",
        "import matplotlib.pyplot as plt\n",
        "import warnings\n",
        "warnings.filterwarnings('ignore')"
      ],
      "metadata": {
        "colab": {
          "base_uri": "https://localhost:8080/",
          "height": 465
        },
        "id": "EO-AUPS9DBxW",
        "outputId": "488ccbda-0e3a-4fbb-be8c-d3dfdacbdd81"
      },
      "execution_count": 22,
      "outputs": [
        {
          "output_type": "stream",
          "name": "stdout",
          "text": [
            "Looking in indexes: https://pypi.org/simple, https://us-python.pkg.dev/colab-wheels/public/simple/\n",
            "Collecting matplotlib==3.1.3\n",
            "  Using cached matplotlib-3.1.3-cp37-cp37m-manylinux1_x86_64.whl (13.1 MB)\n",
            "Requirement already satisfied: cycler>=0.10 in /usr/local/lib/python3.7/dist-packages (from matplotlib==3.1.3) (0.11.0)\n",
            "Requirement already satisfied: kiwisolver>=1.0.1 in /usr/local/lib/python3.7/dist-packages (from matplotlib==3.1.3) (1.4.3)\n",
            "Requirement already satisfied: python-dateutil>=2.1 in /usr/local/lib/python3.7/dist-packages (from matplotlib==3.1.3) (2.8.2)\n",
            "Requirement already satisfied: numpy>=1.11 in /usr/local/lib/python3.7/dist-packages (from matplotlib==3.1.3) (1.21.5)\n",
            "Requirement already satisfied: pyparsing!=2.0.4,!=2.1.2,!=2.1.6,>=2.0.1 in /usr/local/lib/python3.7/dist-packages (from matplotlib==3.1.3) (3.0.9)\n",
            "Requirement already satisfied: typing-extensions in /usr/local/lib/python3.7/dist-packages (from kiwisolver>=1.0.1->matplotlib==3.1.3) (4.1.1)\n",
            "Requirement already satisfied: six>=1.5 in /usr/local/lib/python3.7/dist-packages (from python-dateutil>=2.1->matplotlib==3.1.3) (1.15.0)\n",
            "Installing collected packages: matplotlib\n",
            "  Attempting uninstall: matplotlib\n",
            "    Found existing installation: matplotlib 3.5.1\n",
            "    Uninstalling matplotlib-3.5.1:\n",
            "      Successfully uninstalled matplotlib-3.5.1\n",
            "\u001b[31mERROR: pip's dependency resolver does not currently take into account all the packages that are installed. This behaviour is the source of the following dependency conflicts.\n",
            "d2l 0.17.5 requires matplotlib==3.5.1, but you have matplotlib 3.1.3 which is incompatible.\n",
            "albumentations 0.1.12 requires imgaug<0.2.7,>=0.2.5, but you have imgaug 0.2.9 which is incompatible.\u001b[0m\n",
            "Successfully installed matplotlib-3.1.3\n"
          ]
        },
        {
          "output_type": "display_data",
          "data": {
            "application/vnd.colab-display-data+json": {
              "pip_warning": {
                "packages": [
                  "matplotlib",
                  "mpl_toolkits"
                ]
              }
            }
          },
          "metadata": {}
        }
      ]
    },
    {
      "cell_type": "code",
      "source": [
        "plt.figure(figsize=(20,12))\n",
        "\n",
        "plt.subplot(2,1,1)\n",
        "plt.plot(w0,loss_arr_w0)\n",
        "plt.title('w0 cost graph')\n",
        "plt.xlabel('w0')\n",
        "plt.ylabel('loss')\n",
        "\n",
        "plt.subplot(2,1,2)\n",
        "plt.plot(w1,loss_arr_w1)\n",
        "plt.title('w1 cost graph')\n",
        "plt.xlabel('w1')\n",
        "plt.ylabel('loss')\n"
      ],
      "metadata": {
        "id": "13ySyXh7RMcn",
        "colab": {
          "base_uri": "https://localhost:8080/",
          "height": 748
        },
        "outputId": "01c0ae61-e788-4255-92b3-36e9df22c781"
      },
      "execution_count": 23,
      "outputs": [
        {
          "output_type": "execute_result",
          "data": {
            "text/plain": [
              "Text(0, 0.5, 'loss')"
            ]
          },
          "metadata": {},
          "execution_count": 23
        },
        {
          "output_type": "display_data",
          "data": {
            "text/plain": [
              "<Figure size 1440x864 with 2 Axes>"
            ],
            "image/png": "[encoded data removed]"
          },
          "metadata": {
            "needs_background": "light"
          }
        }
      ]
    },
    {
      "cell_type": "markdown",
      "source": [
        "concise implementation of linear regression \n",
        "- api 사용해보기"
      ],
      "metadata": {
        "id": "WSKKAGx4wNd4"
      }
    },
    {
      "cell_type": "code",
      "source": [
        "import numpy as np\n",
        "import torch\n",
        "from torch.utils import data\n",
        "from d2l import torch as d2l\n",
        "\n",
        "\n",
        "true_w = torch.tensor([3, -1.5])\n",
        "true_b = 5.5\n",
        "features, labels = d2l.synthetic_data(true_w, true_b, 2000)"
      ],
      "metadata": {
        "id": "CWiOlkzKxEkf"
      },
      "execution_count": 24,
      "outputs": []
    },
    {
      "cell_type": "code",
      "source": [
        "def load_array(data_arrays, batch_size, is_train=True): \n",
        "    \"\"\"Construct a PyTorch data iterator.\"\"\"\n",
        "    dataset = data.TensorDataset(*data_arrays)\n",
        "    return data.DataLoader(dataset, batch_size, shuffle=is_train)\n",
        "\n",
        "batch_size = 20\n",
        "data_iter = load_array((features, labels), batch_size)"
      ],
      "metadata": {
        "id": "F5tRyjkmxGUe"
      },
      "execution_count": 25,
      "outputs": []
    },
    {
      "cell_type": "code",
      "source": [
        "next(iter(data_iter))"
      ],
      "metadata": {
        "id": "NBaqnZG4xHgP",
        "colab": {
          "base_uri": "https://localhost:8080/"
        },
        "outputId": "9e7984ff-566e-4a54-8575-dfa943f5e306"
      },
      "execution_count": 26,
      "outputs": [
        {
          "output_type": "execute_result",
          "data": {
            "text/plain": [
              "[tensor([[-0.9169, -0.7451],\n",
              "         [-0.7123, -1.5787],\n",
              "         [-0.4030, -0.2288],\n",
              "         [ 1.3210, -0.5476],\n",
              "         [ 0.0789,  1.1702],\n",
              "         [ 1.0122, -2.5156],\n",
              "         [ 1.0159,  0.3862],\n",
              "         [-0.8792,  0.4887],\n",
              "         [ 1.3609,  0.8133],\n",
              "         [ 1.0029, -1.8617],\n",
              "         [ 0.5331,  0.0573],\n",
              "         [ 0.0337,  0.0191],\n",
              "         [-1.0551, -1.8057],\n",
              "         [-1.3917,  1.0012],\n",
              "         [-0.3229, -0.2396],\n",
              "         [ 2.0947,  1.4487],\n",
              "         [-0.6180, -0.4562],\n",
              "         [-0.7697, -0.4421],\n",
              "         [-0.4238, -0.5577],\n",
              "         [-0.6271,  0.1602]]), tensor([[ 3.8771],\n",
              "         [ 5.7376],\n",
              "         [ 4.6410],\n",
              "         [10.2909],\n",
              "         [ 3.9751],\n",
              "         [12.3021],\n",
              "         [ 7.9659],\n",
              "         [ 2.1401],\n",
              "         [ 8.3703],\n",
              "         [11.3019],\n",
              "         [ 7.0253],\n",
              "         [ 5.5654],\n",
              "         [ 5.0337],\n",
              "         [-0.1666],\n",
              "         [ 4.8836],\n",
              "         [ 9.6037],\n",
              "         [ 4.3254],\n",
              "         [ 3.8621],\n",
              "         [ 5.0590],\n",
              "         [ 3.3780]])]"
            ]
          },
          "metadata": {},
          "execution_count": 26
        }
      ]
    },
    {
      "cell_type": "code",
      "source": [
        "from torch import nn\n",
        "\n",
        "net = nn.Sequential(nn.Linear(2,1))"
      ],
      "metadata": {
        "id": "J_83KBFOxJFB"
      },
      "execution_count": 27,
      "outputs": []
    },
    {
      "cell_type": "code",
      "source": [
        "net[0].weight.data.normal_(0, 0.01)\n",
        "net[0].bias.data.fill_(0)"
      ],
      "metadata": {
        "id": "AdJQQgFaxL2H",
        "colab": {
          "base_uri": "https://localhost:8080/"
        },
        "outputId": "8c8de27a-e66c-49c1-98d6-cac9e6ce8ff9"
      },
      "execution_count": 28,
      "outputs": [
        {
          "output_type": "execute_result",
          "data": {
            "text/plain": [
              "tensor([0.])"
            ]
          },
          "metadata": {},
          "execution_count": 28
        }
      ]
    },
    {
      "cell_type": "code",
      "source": [
        "loss = nn.MSELoss() #L1도 가능"
      ],
      "metadata": {
        "id": "vSCAFyfAxNAn"
      },
      "execution_count": 29,
      "outputs": []
    },
    {
      "cell_type": "code",
      "source": [
        "import torch.optim as optim\n",
        "trainer = optim.SGD(net.parameters(),lr=0.01)"
      ],
      "metadata": {
        "id": "_yee2wG1xOYW"
      },
      "execution_count": 30,
      "outputs": []
    },
    {
      "cell_type": "code",
      "source": [
        "num_epochs = 3\n",
        "for epoch in range(num_epochs):\n",
        "    for X, y in data_iter:\n",
        "      l = loss(net(X),y)\n",
        "      trainer.zero_grad()\n",
        "      l.backward()\n",
        "      trainer.step()\n",
        "    l = loss(net(features), labels)\n",
        "    print(f'epoch {epoch + 1}, loss {l:f}')"
      ],
      "metadata": {
        "id": "5fAmW5bUxP9Z",
        "colab": {
          "base_uri": "https://localhost:8080/"
        },
        "outputId": "e19e06b1-1051-4d94-d86f-e906330ffb8c"
      },
      "execution_count": 31,
      "outputs": [
        {
          "output_type": "stream",
          "name": "stdout",
          "text": [
            "epoch 1, loss 0.818529\n",
            "epoch 2, loss 0.016943\n",
            "epoch 3, loss 0.000450\n"
          ]
        }
      ]
    },
    {
      "cell_type": "code",
      "source": [
        "w = net[0].weight.data\n",
        "print('error in estimating w:', true_w - w.reshape(true_w.shape))\n",
        "b = net[0].bias.data\n",
        "print('error in estimating b:', true_b - b)"
      ],
      "metadata": {
        "id": "JT8VD6GhxR5m",
        "colab": {
          "base_uri": "https://localhost:8080/"
        },
        "outputId": "0c5b0024-6d0e-4561-ae9f-b2f32f50f085"
      },
      "execution_count": 32,
      "outputs": [
        {
          "output_type": "stream",
          "name": "stdout",
          "text": [
            "error in estimating w: tensor([ 0.0103, -0.0051])\n",
            "error in estimating b: tensor([0.0151])\n"
          ]
        }
      ]
    }
  ]
}