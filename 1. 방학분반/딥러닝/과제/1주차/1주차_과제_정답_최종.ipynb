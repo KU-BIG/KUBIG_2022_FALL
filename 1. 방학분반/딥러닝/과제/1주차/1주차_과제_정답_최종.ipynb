{
  "nbformat": 4,
  "nbformat_minor": 0,
  "metadata": {
    "colab": {
      "name": "1주차 과제_정답_최종",
      "provenance": [],
      "collapsed_sections": []
    },
    "kernelspec": {
      "name": "python3",
      "display_name": "Python 3"
    },
    "language_info": {
      "name": "python"
    },
    "accelerator": "GPU",
    "gpuClass": "standard"
  },
  "cells": [
    {
      "cell_type": "markdown",
      "source": [
        "#1주차 과제\n",
        "- 파이토치 시작하기 및 간단한 "
      ],
      "metadata": {
        "id": "YffDGVSIxijw"
      }
    },
    {
      "cell_type": "markdown",
      "source": [
        "#파이토치 시작하기"
      ],
      "metadata": {
        "id": "MivAstLj4EpN"
      }
    },
    {
      "cell_type": "markdown",
      "source": [
        "파이토치 시작하기"
      ],
      "metadata": {
        "id": "XE4yLA7N4TwG"
      }
    },
    {
      "cell_type": "code",
      "execution_count": null,
      "metadata": {
        "id": "BS39ZJTi4CD0"
      },
      "outputs": [],
      "source": [
        "import torch "
      ]
    },
    {
      "cell_type": "markdown",
      "source": [
        "- tensor 개념 파악 (array of numerical values(vector, matrix..))\n",
        "- 4x3 행렬 두개 만들고 행으로 병합, 열로 병합\n"
      ],
      "metadata": {
        "id": "ixz0WyWH4kSJ"
      }
    },
    {
      "cell_type": "code",
      "source": [
        "X=torch.randn(4,3)\n",
        "Y=torch.tensor([[1,2,3],[4,5,6],[7,8,9],[10,11,12]])\n",
        "torch.cat((X, Y), dim=0), torch.cat((X, Y), dim=1)"
      ],
      "metadata": {
        "id": "OlLUsvmL4kEY",
        "colab": {
          "base_uri": "https://localhost:8080/"
        },
        "outputId": "28b8d4d0-b0c1-415d-cb18-62fe37ebfe44"
      },
      "execution_count": null,
      "outputs": [
        {
          "output_type": "execute_result",
          "data": {
            "text/plain": [
              "(tensor([[ 0.7681, -0.3293, -1.3846],\n",
              "         [ 0.0844,  0.2608,  0.8475],\n",
              "         [ 0.3168, -0.4689, -1.8799],\n",
              "         [ 1.3577, -0.4571,  2.1010],\n",
              "         [ 1.0000,  2.0000,  3.0000],\n",
              "         [ 4.0000,  5.0000,  6.0000],\n",
              "         [ 7.0000,  8.0000,  9.0000],\n",
              "         [10.0000, 11.0000, 12.0000]]),\n",
              " tensor([[ 0.7681, -0.3293, -1.3846,  1.0000,  2.0000,  3.0000],\n",
              "         [ 0.0844,  0.2608,  0.8475,  4.0000,  5.0000,  6.0000],\n",
              "         [ 0.3168, -0.4689, -1.8799,  7.0000,  8.0000,  9.0000],\n",
              "         [ 1.3577, -0.4571,  2.1010, 10.0000, 11.0000, 12.0000]]))"
            ]
          },
          "metadata": {},
          "execution_count": 2
        }
      ]
    },
    {
      "cell_type": "markdown",
      "source": [
        "linear regression implementation from scratch"
      ],
      "metadata": {
        "id": "Gh-1LJliusEc"
      }
    },
    {
      "cell_type": "code",
      "source": [
        "!pip install d2l"
      ],
      "metadata": {
        "colab": {
          "base_uri": "https://localhost:8080/",
          "height": 1000
        },
        "id": "-quByBoLoB_i",
        "outputId": "2961087b-0990-498b-9fd5-de5627b1641f"
      },
      "execution_count": null,
      "outputs": [
        {
          "output_type": "stream",
          "name": "stdout",
          "text": [
            "Looking in indexes: https://pypi.org/simple, https://us-python.pkg.dev/colab-wheels/public/simple/\n",
            "Collecting d2l\n",
            "  Downloading d2l-0.17.5-py3-none-any.whl (82 kB)\n",
            "\u001b[K     |████████████████████████████████| 82 kB 686 kB/s \n",
            "\u001b[?25hCollecting numpy==1.21.5\n",
            "  Downloading numpy-1.21.5-cp37-cp37m-manylinux_2_12_x86_64.manylinux2010_x86_64.whl (15.7 MB)\n",
            "\u001b[K     |████████████████████████████████| 15.7 MB 56.5 MB/s \n",
            "\u001b[?25hCollecting matplotlib==3.5.1\n",
            "  Downloading matplotlib-3.5.1-cp37-cp37m-manylinux_2_5_x86_64.manylinux1_x86_64.whl (11.2 MB)\n",
            "\u001b[K     |████████████████████████████████| 11.2 MB 55.5 MB/s \n",
            "\u001b[?25hCollecting pandas==1.2.4\n",
            "  Downloading pandas-1.2.4-cp37-cp37m-manylinux1_x86_64.whl (9.9 MB)\n",
            "\u001b[K     |████████████████████████████████| 9.9 MB 50.2 MB/s \n",
            "\u001b[?25hRequirement already satisfied: jupyter==1.0.0 in /usr/local/lib/python3.7/dist-packages (from d2l) (1.0.0)\n",
            "Collecting requests==2.25.1\n",
            "  Downloading requests-2.25.1-py2.py3-none-any.whl (61 kB)\n",
            "\u001b[K     |████████████████████████████████| 61 kB 9.8 MB/s \n",
            "\u001b[?25hRequirement already satisfied: ipykernel in /usr/local/lib/python3.7/dist-packages (from jupyter==1.0.0->d2l) (4.10.1)\n",
            "Requirement already satisfied: ipywidgets in /usr/local/lib/python3.7/dist-packages (from jupyter==1.0.0->d2l) (7.7.0)\n",
            "Requirement already satisfied: nbconvert in /usr/local/lib/python3.7/dist-packages (from jupyter==1.0.0->d2l) (5.6.1)\n",
            "Requirement already satisfied: notebook in /usr/local/lib/python3.7/dist-packages (from jupyter==1.0.0->d2l) (5.3.1)\n",
            "Requirement already satisfied: qtconsole in /usr/local/lib/python3.7/dist-packages (from jupyter==1.0.0->d2l) (5.3.1)\n",
            "Requirement already satisfied: jupyter-console in /usr/local/lib/python3.7/dist-packages (from jupyter==1.0.0->d2l) (5.2.0)\n",
            "Requirement already satisfied: pillow>=6.2.0 in /usr/local/lib/python3.7/dist-packages (from matplotlib==3.5.1->d2l) (7.1.2)\n",
            "Requirement already satisfied: kiwisolver>=1.0.1 in /usr/local/lib/python3.7/dist-packages (from matplotlib==3.5.1->d2l) (1.4.3)\n",
            "Requirement already satisfied: pyparsing>=2.2.1 in /usr/local/lib/python3.7/dist-packages (from matplotlib==3.5.1->d2l) (3.0.9)\n",
            "Collecting fonttools>=4.22.0\n",
            "  Downloading fonttools-4.34.4-py3-none-any.whl (944 kB)\n",
            "\u001b[K     |████████████████████████████████| 944 kB 63.8 MB/s \n",
            "\u001b[?25hRequirement already satisfied: packaging>=20.0 in /usr/local/lib/python3.7/dist-packages (from matplotlib==3.5.1->d2l) (21.3)\n",
            "Requirement already satisfied: cycler>=0.10 in /usr/local/lib/python3.7/dist-packages (from matplotlib==3.5.1->d2l) (0.11.0)\n",
            "Requirement already satisfied: python-dateutil>=2.7 in /usr/local/lib/python3.7/dist-packages (from matplotlib==3.5.1->d2l) (2.8.2)\n",
            "Requirement already satisfied: pytz>=2017.3 in /usr/local/lib/python3.7/dist-packages (from pandas==1.2.4->d2l) (2022.1)\n",
            "Requirement already satisfied: urllib3<1.27,>=1.21.1 in /usr/local/lib/python3.7/dist-packages (from requests==2.25.1->d2l) (1.24.3)\n",
            "Requirement already satisfied: certifi>=2017.4.17 in /usr/local/lib/python3.7/dist-packages (from requests==2.25.1->d2l) (2022.6.15)\n",
            "Requirement already satisfied: idna<3,>=2.5 in /usr/local/lib/python3.7/dist-packages (from requests==2.25.1->d2l) (2.10)\n",
            "Requirement already satisfied: chardet<5,>=3.0.2 in /usr/local/lib/python3.7/dist-packages (from requests==2.25.1->d2l) (3.0.4)\n",
            "Requirement already satisfied: typing-extensions in /usr/local/lib/python3.7/dist-packages (from kiwisolver>=1.0.1->matplotlib==3.5.1->d2l) (4.1.1)\n",
            "Requirement already satisfied: six>=1.5 in /usr/local/lib/python3.7/dist-packages (from python-dateutil>=2.7->matplotlib==3.5.1->d2l) (1.15.0)\n",
            "Requirement already satisfied: jupyter-client in /usr/local/lib/python3.7/dist-packages (from ipykernel->jupyter==1.0.0->d2l) (5.3.5)\n",
            "Requirement already satisfied: traitlets>=4.1.0 in /usr/local/lib/python3.7/dist-packages (from ipykernel->jupyter==1.0.0->d2l) (5.1.1)\n",
            "Requirement already satisfied: tornado>=4.0 in /usr/local/lib/python3.7/dist-packages (from ipykernel->jupyter==1.0.0->d2l) (5.1.1)\n",
            "Requirement already satisfied: ipython>=4.0.0 in /usr/local/lib/python3.7/dist-packages (from ipykernel->jupyter==1.0.0->d2l) (5.5.0)\n",
            "Requirement already satisfied: pickleshare in /usr/local/lib/python3.7/dist-packages (from ipython>=4.0.0->ipykernel->jupyter==1.0.0->d2l) (0.7.5)\n",
            "Requirement already satisfied: setuptools>=18.5 in /usr/local/lib/python3.7/dist-packages (from ipython>=4.0.0->ipykernel->jupyter==1.0.0->d2l) (57.4.0)\n",
            "Requirement already satisfied: pygments in /usr/local/lib/python3.7/dist-packages (from ipython>=4.0.0->ipykernel->jupyter==1.0.0->d2l) (2.6.1)\n",
            "Requirement already satisfied: pexpect in /usr/local/lib/python3.7/dist-packages (from ipython>=4.0.0->ipykernel->jupyter==1.0.0->d2l) (4.8.0)\n",
            "Requirement already satisfied: decorator in /usr/local/lib/python3.7/dist-packages (from ipython>=4.0.0->ipykernel->jupyter==1.0.0->d2l) (4.4.2)\n",
            "Requirement already satisfied: simplegeneric>0.8 in /usr/local/lib/python3.7/dist-packages (from ipython>=4.0.0->ipykernel->jupyter==1.0.0->d2l) (0.8.1)\n",
            "Requirement already satisfied: prompt-toolkit<2.0.0,>=1.0.4 in /usr/local/lib/python3.7/dist-packages (from ipython>=4.0.0->ipykernel->jupyter==1.0.0->d2l) (1.0.18)\n",
            "Requirement already satisfied: wcwidth in /usr/local/lib/python3.7/dist-packages (from prompt-toolkit<2.0.0,>=1.0.4->ipython>=4.0.0->ipykernel->jupyter==1.0.0->d2l) (0.2.5)\n",
            "Requirement already satisfied: nbformat>=4.2.0 in /usr/local/lib/python3.7/dist-packages (from ipywidgets->jupyter==1.0.0->d2l) (5.4.0)\n",
            "Requirement already satisfied: ipython-genutils~=0.2.0 in /usr/local/lib/python3.7/dist-packages (from ipywidgets->jupyter==1.0.0->d2l) (0.2.0)\n",
            "Requirement already satisfied: widgetsnbextension~=3.6.0 in /usr/local/lib/python3.7/dist-packages (from ipywidgets->jupyter==1.0.0->d2l) (3.6.0)\n",
            "Requirement already satisfied: jupyterlab-widgets>=1.0.0 in /usr/local/lib/python3.7/dist-packages (from ipywidgets->jupyter==1.0.0->d2l) (1.1.0)\n",
            "Requirement already satisfied: jsonschema>=2.6 in /usr/local/lib/python3.7/dist-packages (from nbformat>=4.2.0->ipywidgets->jupyter==1.0.0->d2l) (4.3.3)\n",
            "Requirement already satisfied: jupyter-core in /usr/local/lib/python3.7/dist-packages (from nbformat>=4.2.0->ipywidgets->jupyter==1.0.0->d2l) (4.10.0)\n",
            "Requirement already satisfied: fastjsonschema in /usr/local/lib/python3.7/dist-packages (from nbformat>=4.2.0->ipywidgets->jupyter==1.0.0->d2l) (2.15.3)\n",
            "Requirement already satisfied: importlib-metadata in /usr/local/lib/python3.7/dist-packages (from jsonschema>=2.6->nbformat>=4.2.0->ipywidgets->jupyter==1.0.0->d2l) (4.11.4)\n",
            "Requirement already satisfied: attrs>=17.4.0 in /usr/local/lib/python3.7/dist-packages (from jsonschema>=2.6->nbformat>=4.2.0->ipywidgets->jupyter==1.0.0->d2l) (21.4.0)\n",
            "Requirement already satisfied: importlib-resources>=1.4.0 in /usr/local/lib/python3.7/dist-packages (from jsonschema>=2.6->nbformat>=4.2.0->ipywidgets->jupyter==1.0.0->d2l) (5.7.1)\n",
            "Requirement already satisfied: pyrsistent!=0.17.0,!=0.17.1,!=0.17.2,>=0.14.0 in /usr/local/lib/python3.7/dist-packages (from jsonschema>=2.6->nbformat>=4.2.0->ipywidgets->jupyter==1.0.0->d2l) (0.18.1)\n",
            "Requirement already satisfied: zipp>=3.1.0 in /usr/local/lib/python3.7/dist-packages (from importlib-resources>=1.4.0->jsonschema>=2.6->nbformat>=4.2.0->ipywidgets->jupyter==1.0.0->d2l) (3.8.0)\n",
            "Requirement already satisfied: terminado>=0.8.1 in /usr/local/lib/python3.7/dist-packages (from notebook->jupyter==1.0.0->d2l) (0.13.3)\n",
            "Requirement already satisfied: Send2Trash in /usr/local/lib/python3.7/dist-packages (from notebook->jupyter==1.0.0->d2l) (1.8.0)\n",
            "Requirement already satisfied: jinja2 in /usr/local/lib/python3.7/dist-packages (from notebook->jupyter==1.0.0->d2l) (2.11.3)\n",
            "Requirement already satisfied: pyzmq>=13 in /usr/local/lib/python3.7/dist-packages (from jupyter-client->ipykernel->jupyter==1.0.0->d2l) (23.1.0)\n",
            "Requirement already satisfied: ptyprocess in /usr/local/lib/python3.7/dist-packages (from terminado>=0.8.1->notebook->jupyter==1.0.0->d2l) (0.7.0)\n",
            "Requirement already satisfied: MarkupSafe>=0.23 in /usr/local/lib/python3.7/dist-packages (from jinja2->notebook->jupyter==1.0.0->d2l) (2.0.1)\n",
            "Requirement already satisfied: testpath in /usr/local/lib/python3.7/dist-packages (from nbconvert->jupyter==1.0.0->d2l) (0.6.0)\n",
            "Requirement already satisfied: mistune<2,>=0.8.1 in /usr/local/lib/python3.7/dist-packages (from nbconvert->jupyter==1.0.0->d2l) (0.8.4)\n",
            "Requirement already satisfied: defusedxml in /usr/local/lib/python3.7/dist-packages (from nbconvert->jupyter==1.0.0->d2l) (0.7.1)\n",
            "Requirement already satisfied: entrypoints>=0.2.2 in /usr/local/lib/python3.7/dist-packages (from nbconvert->jupyter==1.0.0->d2l) (0.4)\n",
            "Requirement already satisfied: bleach in /usr/local/lib/python3.7/dist-packages (from nbconvert->jupyter==1.0.0->d2l) (5.0.0)\n",
            "Requirement already satisfied: pandocfilters>=1.4.1 in /usr/local/lib/python3.7/dist-packages (from nbconvert->jupyter==1.0.0->d2l) (1.5.0)\n",
            "Requirement already satisfied: webencodings in /usr/local/lib/python3.7/dist-packages (from bleach->nbconvert->jupyter==1.0.0->d2l) (0.5.1)\n",
            "Requirement already satisfied: qtpy>=2.0.1 in /usr/local/lib/python3.7/dist-packages (from qtconsole->jupyter==1.0.0->d2l) (2.1.0)\n",
            "Installing collected packages: numpy, fonttools, requests, pandas, matplotlib, d2l\n",
            "  Attempting uninstall: numpy\n",
            "    Found existing installation: numpy 1.21.6\n",
            "    Uninstalling numpy-1.21.6:\n",
            "      Successfully uninstalled numpy-1.21.6\n",
            "  Attempting uninstall: requests\n",
            "    Found existing installation: requests 2.23.0\n",
            "    Uninstalling requests-2.23.0:\n",
            "      Successfully uninstalled requests-2.23.0\n",
            "  Attempting uninstall: pandas\n",
            "    Found existing installation: pandas 1.3.5\n",
            "    Uninstalling pandas-1.3.5:\n",
            "      Successfully uninstalled pandas-1.3.5\n",
            "  Attempting uninstall: matplotlib\n",
            "    Found existing installation: matplotlib 3.2.2\n",
            "    Uninstalling matplotlib-3.2.2:\n",
            "      Successfully uninstalled matplotlib-3.2.2\n",
            "\u001b[31mERROR: pip's dependency resolver does not currently take into account all the packages that are installed. This behaviour is the source of the following dependency conflicts.\n",
            "google-colab 1.0.0 requires requests~=2.23.0, but you have requests 2.25.1 which is incompatible.\n",
            "datascience 0.10.6 requires folium==0.2.1, but you have folium 0.8.3 which is incompatible.\n",
            "albumentations 0.1.12 requires imgaug<0.2.7,>=0.2.5, but you have imgaug 0.2.9 which is incompatible.\u001b[0m\n",
            "Successfully installed d2l-0.17.5 fonttools-4.34.4 matplotlib-3.5.1 numpy-1.21.5 pandas-1.2.4 requests-2.25.1\n"
          ]
        },
        {
          "output_type": "display_data",
          "data": {
            "application/vnd.colab-display-data+json": {
              "pip_warning": {
                "packages": [
                  "matplotlib",
                  "mpl_toolkits",
                  "numpy"
                ]
              }
            }
          },
          "metadata": {}
        }
      ]
    },
    {
      "cell_type": "code",
      "source": [
        "%matplotlib inline\n",
        "import random\n",
        "import torch\n",
        "from d2l import torch as d2l"
      ],
      "metadata": {
        "id": "YyWEB6e3FKYY"
      },
      "execution_count": null,
      "outputs": []
    },
    {
      "cell_type": "code",
      "source": [
        "def synthetic_data(w, b, num_examples):\n",
        "    \"\"\"Generate y = Xw + b + noise.\"\"\"\n",
        "    X = torch.normal(0, 1, (num_examples, len(w)))\n",
        "    y = torch.matmul(X, w) + b\n",
        "    y += torch.normal(0, 0.01, y.shape)\n",
        "    return X, y.reshape((-1, 1))\n",
        "\n",
        "true_w = torch.tensor([3, -1.5])\n",
        "true_b = 5.5\n",
        "features, labels = synthetic_data(true_w, true_b, 2000)"
      ],
      "metadata": {
        "id": "exWjbVn2v3CT"
      },
      "execution_count": null,
      "outputs": []
    },
    {
      "cell_type": "code",
      "source": [
        "print('features:', features[0],'\\nlabel:', labels[0])"
      ],
      "metadata": {
        "colab": {
          "base_uri": "https://localhost:8080/"
        },
        "id": "5UcjckXPv6iy",
        "outputId": "698839cf-4921-42a3-8ff6-920ee421dd49"
      },
      "execution_count": null,
      "outputs": [
        {
          "output_type": "stream",
          "name": "stdout",
          "text": [
            "features: tensor([-2.0594379902, -1.1369819641]) \n",
            "label: tensor([1.0334132910])\n"
          ]
        }
      ]
    },
    {
      "cell_type": "code",
      "source": [
        "def data_iter(batch_size, features, labels):\n",
        "    num_examples = len(features)\n",
        "    indices = list(range(num_examples))\n",
        "    # The examples are read at random, in no particular order\n",
        "    random.shuffle(indices)\n",
        "    for i in range(0, num_examples, batch_size):\n",
        "        batch_indices = torch.tensor(\n",
        "            indices[i: min(i + batch_size, num_examples)])\n",
        "        yield features[batch_indices], labels[batch_indices]"
      ],
      "metadata": {
        "id": "jLY6YR5Zv_gO"
      },
      "execution_count": null,
      "outputs": []
    },
    {
      "cell_type": "code",
      "source": [
        "batch_size = 20\n",
        "\n",
        "for X, y in data_iter(batch_size, features, labels):\n",
        "    print(X, '\\n', y)\n",
        "    break"
      ],
      "metadata": {
        "colab": {
          "base_uri": "https://localhost:8080/"
        },
        "id": "zuxxEAvdwA7p",
        "outputId": "03a1215a-5c5c-4cc9-fd82-8740636b3965"
      },
      "execution_count": null,
      "outputs": [
        {
          "output_type": "stream",
          "name": "stdout",
          "text": [
            "tensor([[ 0.1006989554, -1.3141132593],\n",
            "        [ 0.6593064070, -0.1415579915],\n",
            "        [-0.4919404685, -1.4717345238],\n",
            "        [ 1.0201729536,  0.6783710718],\n",
            "        [ 0.8707300425,  0.5142463446],\n",
            "        [-1.6529405117,  0.1244879961],\n",
            "        [-0.4264153838,  1.6868281364],\n",
            "        [-0.9054124355, -0.7142615318],\n",
            "        [ 1.9582899809, -0.6938307881],\n",
            "        [ 0.1318535507, -0.2620876729],\n",
            "        [-0.9260976911, -1.9770048857],\n",
            "        [ 0.0695408583,  0.5115382075],\n",
            "        [ 0.1015465409, -0.8862611651],\n",
            "        [-1.1695837975, -0.5221427679],\n",
            "        [-0.8937658668,  0.3807642758],\n",
            "        [ 1.1841677427,  0.5619402528],\n",
            "        [ 0.3746304810, -1.9538750648],\n",
            "        [ 0.1442539692,  1.5736587048],\n",
            "        [ 0.0807325989, -1.0076221228],\n",
            "        [ 0.5954477787,  0.6311146021]]) \n",
            " tensor([[ 7.7744879723],\n",
            "        [ 7.6793813705],\n",
            "        [ 6.2364354134],\n",
            "        [ 7.5381741524],\n",
            "        [ 7.3322911263],\n",
            "        [ 0.3560040593],\n",
            "        [ 1.6862262487],\n",
            "        [ 3.8778512478],\n",
            "        [12.4071636200],\n",
            "        [ 6.3002905846],\n",
            "        [ 5.6801352501],\n",
            "        [ 4.9508032799],\n",
            "        [ 7.1497840881],\n",
            "        [ 2.7598469257],\n",
            "        [ 2.2432439327],\n",
            "        [ 8.2029447556],\n",
            "        [ 9.5554733276],\n",
            "        [ 3.5712249279],\n",
            "        [ 7.2477254868],\n",
            "        [ 6.3400149345]])\n"
          ]
        }
      ]
    },
    {
      "cell_type": "code",
      "source": [
        "w = torch.normal(0, 0.01, size=(2,1), requires_grad=True)\n",
        "b = torch.zeros(1, requires_grad=True)"
      ],
      "metadata": {
        "id": "f_yHcVYEwCHq"
      },
      "execution_count": null,
      "outputs": []
    },
    {
      "cell_type": "code",
      "source": [
        "torch.set_printoptions(precision=10)"
      ],
      "metadata": {
        "id": "UjkB1z5dIXQk"
      },
      "execution_count": null,
      "outputs": []
    },
    {
      "cell_type": "code",
      "source": [
        "def linreg(X, w, b):\n",
        "    \"\"\"The linear regression model.\"\"\"\n",
        "    return torch.matmul(X, w) + b"
      ],
      "metadata": {
        "id": "wOT4gBtZwDVA"
      },
      "execution_count": null,
      "outputs": []
    },
    {
      "cell_type": "code",
      "source": [
        "def squared_loss(y_hat, y):  \n",
        "    \"\"\"Squared loss.\"\"\"\n",
        "    return (y_hat - y.reshape(y_hat.shape)) ** 2 / 2"
      ],
      "metadata": {
        "id": "WFYMJrrSwE5R"
      },
      "execution_count": null,
      "outputs": []
    },
    {
      "cell_type": "code",
      "source": [
        "def sgd(params, lr, batch_size):\n",
        "    \"\"\"Minibatch stochastic gradient descent.\"\"\"\n",
        "    with torch.no_grad():\n",
        "        for param in params:\n",
        "            param -= lr * param.grad / batch_size\n",
        "            param.grad.zero_()"
      ],
      "metadata": {
        "id": "MXD0qP8PwIn0"
      },
      "execution_count": null,
      "outputs": []
    },
    {
      "cell_type": "code",
      "source": [
        "lr = 0.03\n",
        "num_epochs = 5\n",
        "net = linreg\n",
        "loss = squared_loss\n",
        "b_list=[]\n",
        "w_list=[]\n",
        "\n",
        "for epoch in range(num_epochs):\n",
        "  for X, y in data_iter(batch_size, features, labels):\n",
        "    l = loss(net(X, w, b), y)\n",
        "    l.sum().backward()\n",
        "    sgd([w, b], lr, batch_size)\n",
        "  with torch.no_grad():\n",
        "    train_l = loss(net(features, w, b), labels)\n",
        "    print(f'epoch {epoch + 1}, loss {float(train_l.mean()):f}, b {float(b)}, w{tuple(w)}')\n",
        "    b_float=b.item()\n",
        "    b_list.append(b_float)\n",
        "    w_l=w.tolist()\n",
        "    w_list.append(w_l)"
      ],
      "metadata": {
        "colab": {
          "base_uri": "https://localhost:8080/"
        },
        "id": "pS_hm3J8wJ4z",
        "outputId": "13a80f8a-33b7-479b-ca30-7b5d9bfd0468"
      },
      "execution_count": null,
      "outputs": [
        {
          "output_type": "stream",
          "name": "stdout",
          "text": [
            "epoch 1, loss 0.044386, b 5.246920108795166, w(tensor([2.8631327152], requires_grad=True), tensor([-1.4275966883], requires_grad=True))\n",
            "epoch 2, loss 0.000140, b 5.488286018371582, w(tensor([2.9937605858], requires_grad=True), tensor([-1.4966795444], requires_grad=True))\n",
            "epoch 3, loss 0.000047, b 5.499393463134766, w(tensor([2.9997770786], requires_grad=True), tensor([-1.5000299215], requires_grad=True))\n",
            "epoch 4, loss 0.000047, b 5.499807834625244, w(tensor([3.0000023842], requires_grad=True), tensor([-1.5004016161], requires_grad=True))\n",
            "epoch 5, loss 0.000047, b 5.499847412109375, w(tensor([3.0002057552], requires_grad=True), tensor([-1.5002098083], requires_grad=True))\n"
          ]
        }
      ]
    },
    {
      "cell_type": "code",
      "source": [
        "b_list"
      ],
      "metadata": {
        "colab": {
          "base_uri": "https://localhost:8080/"
        },
        "id": "Q4L3LHbZZsdV",
        "outputId": "ed12a3a0-3adb-40fb-cc42-1a85e7a60f8b"
      },
      "execution_count": null,
      "outputs": [
        {
          "output_type": "execute_result",
          "data": {
            "text/plain": [
              "[5.246920108795166,\n",
              " 5.488286018371582,\n",
              " 5.499393463134766,\n",
              " 5.499807834625244,\n",
              " 5.499847412109375]"
            ]
          },
          "metadata": {},
          "execution_count": 160
        }
      ]
    },
    {
      "cell_type": "code",
      "source": [
        "w_list"
      ],
      "metadata": {
        "colab": {
          "base_uri": "https://localhost:8080/"
        },
        "id": "w3Xbsv3FawvJ",
        "outputId": "6e524510-4538-46c8-ba14-65cc9a2f2613"
      },
      "execution_count": null,
      "outputs": [
        {
          "output_type": "execute_result",
          "data": {
            "text/plain": [
              "[[[2.8631327152252197], [-1.4275966882705688]],\n",
              " [[2.993760585784912], [-1.4966795444488525]],\n",
              " [[2.99977707862854], [-1.5000299215316772]],\n",
              " [[3.000002384185791], [-1.5004016160964966]],\n",
              " [[3.0002057552337646], [-1.5002098083496094]]]"
            ]
          },
          "metadata": {},
          "execution_count": 161
        }
      ]
    },
    {
      "cell_type": "code",
      "source": [
        "print(f'error in estimating w: {true_w - w.reshape(true_w.shape)}')\n",
        "print(f'error in estimating b: {true_b - b}')"
      ],
      "metadata": {
        "colab": {
          "base_uri": "https://localhost:8080/"
        },
        "id": "u_WSAjwNwMEY",
        "outputId": "ff6c718d-96d0-4706-e58f-f93b3474e9bf"
      },
      "execution_count": null,
      "outputs": [
        {
          "output_type": "stream",
          "name": "stdout",
          "text": [
            "error in estimating w: tensor([-0.0002057552,  0.0002098083], grad_fn=<SubBackward0>)\n",
            "error in estimating b: tensor([0.0001525879], grad_fn=<RsubBackward1>)\n"
          ]
        }
      ]
    },
    {
      "cell_type": "markdown",
      "source": [
        "+cost graph 그리기 (x축 w, y축 loss)"
      ],
      "metadata": {
        "id": "CuDB8FArSSIW"
      }
    },
    {
      "cell_type": "markdown",
      "source": [
        "column2 (feature2)"
      ],
      "metadata": {
        "id": "jVocJ_b_OTde"
      }
    },
    {
      "cell_type": "code",
      "source": [
        "import numpy as np"
      ],
      "metadata": {
        "id": "s0XQ7EmORAjo"
      },
      "execution_count": null,
      "outputs": []
    },
    {
      "cell_type": "code",
      "source": [
        "import matplotlib.pyplot as plt"
      ],
      "metadata": {
        "id": "D3cwuU3CSuuz"
      },
      "execution_count": null,
      "outputs": []
    },
    {
      "cell_type": "code",
      "source": [
        "!pip uninstall matplotlib\n",
        "!pip install matplotlib==3.1.3"
      ],
      "metadata": {
        "colab": {
          "base_uri": "https://localhost:8080/",
          "height": 662
        },
        "id": "2pfL5l-DTMa2",
        "outputId": "a7e713d9-55fd-496c-d8d1-bad9d6892a80"
      },
      "execution_count": null,
      "outputs": [
        {
          "output_type": "stream",
          "name": "stdout",
          "text": [
            "Found existing installation: matplotlib 3.5.1\n",
            "Uninstalling matplotlib-3.5.1:\n",
            "  Would remove:\n",
            "    /usr/local/lib/python3.7/dist-packages/matplotlib-3.5.1-py3.7-nspkg.pth\n",
            "    /usr/local/lib/python3.7/dist-packages/matplotlib-3.5.1.dist-info/*\n",
            "    /usr/local/lib/python3.7/dist-packages/matplotlib/*\n",
            "    /usr/local/lib/python3.7/dist-packages/mpl_toolkits/axes_grid/*\n",
            "    /usr/local/lib/python3.7/dist-packages/mpl_toolkits/axes_grid1/*\n",
            "    /usr/local/lib/python3.7/dist-packages/mpl_toolkits/axisartist/*\n",
            "    /usr/local/lib/python3.7/dist-packages/mpl_toolkits/mplot3d/*\n",
            "    /usr/local/lib/python3.7/dist-packages/mpl_toolkits/tests/*\n",
            "    /usr/local/lib/python3.7/dist-packages/pylab.py\n",
            "Proceed (y/n)? y\n",
            "  Successfully uninstalled matplotlib-3.5.1\n",
            "Looking in indexes: https://pypi.org/simple, https://us-python.pkg.dev/colab-wheels/public/simple/\n",
            "Collecting matplotlib==3.1.3\n",
            "  Downloading matplotlib-3.1.3-cp37-cp37m-manylinux1_x86_64.whl (13.1 MB)\n",
            "\u001b[K     |████████████████████████████████| 13.1 MB 5.0 MB/s \n",
            "\u001b[?25hRequirement already satisfied: kiwisolver>=1.0.1 in /usr/local/lib/python3.7/dist-packages (from matplotlib==3.1.3) (1.4.3)\n",
            "Requirement already satisfied: pyparsing!=2.0.4,!=2.1.2,!=2.1.6,>=2.0.1 in /usr/local/lib/python3.7/dist-packages (from matplotlib==3.1.3) (3.0.9)\n",
            "Requirement already satisfied: cycler>=0.10 in /usr/local/lib/python3.7/dist-packages (from matplotlib==3.1.3) (0.11.0)\n",
            "Requirement already satisfied: numpy>=1.11 in /usr/local/lib/python3.7/dist-packages (from matplotlib==3.1.3) (1.21.5)\n",
            "Requirement already satisfied: python-dateutil>=2.1 in /usr/local/lib/python3.7/dist-packages (from matplotlib==3.1.3) (2.8.2)\n",
            "Requirement already satisfied: typing-extensions in /usr/local/lib/python3.7/dist-packages (from kiwisolver>=1.0.1->matplotlib==3.1.3) (4.1.1)\n",
            "Requirement already satisfied: six>=1.5 in /usr/local/lib/python3.7/dist-packages (from python-dateutil>=2.1->matplotlib==3.1.3) (1.15.0)\n",
            "Installing collected packages: matplotlib\n",
            "\u001b[31mERROR: pip's dependency resolver does not currently take into account all the packages that are installed. This behaviour is the source of the following dependency conflicts.\n",
            "d2l 0.17.5 requires matplotlib==3.5.1, but you have matplotlib 3.1.3 which is incompatible.\n",
            "albumentations 0.1.12 requires imgaug<0.2.7,>=0.2.5, but you have imgaug 0.2.9 which is incompatible.\u001b[0m\n",
            "Successfully installed matplotlib-3.1.3\n"
          ]
        },
        {
          "output_type": "display_data",
          "data": {
            "application/vnd.colab-display-data+json": {
              "pip_warning": {
                "packages": [
                  "matplotlib",
                  "mpl_toolkits"
                ]
              }
            }
          },
          "metadata": {}
        }
      ]
    },
    {
      "cell_type": "code",
      "source": [
        "# our model for the forward pass\n",
        "def forward(x):\n",
        "   return x * w2 + 5.5\n",
        "\n",
        "# Loss function\n",
        "def loss(x, y):\n",
        "   y_pred = forward(x)\n",
        "   return (y_pred - y) * (y_pred - y)\n",
        "\n",
        "w2_list = []\n",
        "mse_list = []\n",
        "for w2 in np.arange(-3.0,3.0,0.3):\n",
        "   l_sum = 0\n",
        "   for x_val, y_val in zip(features[:, (1)].detach().numpy(), labels.detach().numpy()):\n",
        "     n=len(features[:, (1)].detach().numpy())\n",
        "     y_pred_val = forward(x_val)\n",
        "     l = loss(x_val, y_val)\n",
        "     l_sum += l\n",
        "   w2_list.append(w2)\n",
        "   mse_list.append(l_sum / n)\n",
        "   print(f'w={w2}, loss={l_sum/n}')\n",
        "\n",
        "plt.plot(w2_list, mse_list)\n",
        "plt.ylabel('Loss')\n",
        "plt.xlabel('w2')\n",
        "plt.show()\n"
      ],
      "metadata": {
        "colab": {
          "base_uri": "https://localhost:8080/",
          "height": 636
        },
        "id": "u8AF8z3GlUsr",
        "outputId": "8528954e-6ae9-4d77-ab58-8dfef6f44c7a"
      },
      "execution_count": null,
      "outputs": [
        {
          "output_type": "stream",
          "name": "stdout",
          "text": [
            "w=-3.0, loss=[11.0893545]\n",
            "w=-2.7, loss=[10.2793455]\n",
            "w=-2.4000000000000004, loss=[9.648614]\n",
            "w=-2.1000000000000005, loss=[9.197114]\n",
            "w=-1.8000000000000007, loss=[8.924903]\n",
            "w=-1.5000000000000009, loss=[8.831943]\n",
            "w=-1.200000000000001, loss=[8.918231]\n",
            "w=-0.9000000000000012, loss=[9.183756]\n",
            "w=-0.6000000000000014, loss=[9.628562]\n",
            "w=-0.3000000000000016, loss=[10.252625]\n",
            "w=-1.7763568394002505e-15, loss=[11.055944]\n",
            "w=0.29999999999999805, loss=[12.038516]\n",
            "w=0.5999999999999979, loss=[13.200345]\n",
            "w=0.8999999999999977, loss=[14.5414295]\n",
            "w=1.1999999999999975, loss=[16.061756]\n",
            "w=1.4999999999999973, loss=[17.761356]\n",
            "w=1.7999999999999972, loss=[19.640219]\n",
            "w=2.099999999999997, loss=[21.698307]\n",
            "w=2.399999999999997, loss=[23.935694]\n",
            "w=2.6999999999999966, loss=[26.352303]\n"
          ]
        },
        {
          "output_type": "display_data",
          "data": {
            "text/plain": [
              "<Figure size 432x288 with 1 Axes>"
            ],
            "image/png": "[encoded data removed]"
          },
          "metadata": {
            "needs_background": "light"
          }
        }
      ]
    },
    {
      "cell_type": "markdown",
      "source": [
        "concise implementation of linear regression \n",
        "- api 사용해보기"
      ],
      "metadata": {
        "id": "WSKKAGx4wNd4"
      }
    },
    {
      "cell_type": "code",
      "source": [
        "import numpy as np\n",
        "import torch\n",
        "from torch.utils import data\n",
        "from d2l import torch as d2l\n",
        "\n",
        "\n",
        "true_w = torch.tensor([3, -1.5])\n",
        "true_b = 5.5\n",
        "features, labels = d2l.synthetic_data(true_w, true_b, 2000)"
      ],
      "metadata": {
        "id": "CWiOlkzKxEkf"
      },
      "execution_count": null,
      "outputs": []
    },
    {
      "cell_type": "code",
      "source": [
        "def load_array(data_arrays, batch_size, is_train=True): \n",
        "    \"\"\"Construct a PyTorch data iterator.\"\"\"\n",
        "    dataset = data.TensorDataset(*data_arrays)\n",
        "    return data.DataLoader(dataset, batch_size, shuffle=is_train)\n",
        "\n",
        "batch_size = 20\n",
        "data_iter = load_array((features, labels), batch_size)"
      ],
      "metadata": {
        "id": "F5tRyjkmxGUe"
      },
      "execution_count": null,
      "outputs": []
    },
    {
      "cell_type": "code",
      "source": [
        "next(iter(data_iter))"
      ],
      "metadata": {
        "colab": {
          "base_uri": "https://localhost:8080/"
        },
        "id": "NBaqnZG4xHgP",
        "outputId": "1a3cdcea-ba11-4c34-f0d8-c184d3f28600"
      },
      "execution_count": null,
      "outputs": [
        {
          "output_type": "execute_result",
          "data": {
            "text/plain": [
              "[tensor([[-0.6689, -0.3901],\n",
              "         [ 1.3018,  1.0822],\n",
              "         [-0.2263, -0.3956],\n",
              "         [ 1.2385,  0.2675],\n",
              "         [ 0.7361,  0.6439],\n",
              "         [ 1.4235, -1.8522],\n",
              "         [ 0.0572,  0.0889],\n",
              "         [ 0.1844,  0.0278],\n",
              "         [-0.3302,  0.0547],\n",
              "         [-0.3448,  0.7105],\n",
              "         [-0.8079, -0.2088],\n",
              "         [-0.5050,  0.1590],\n",
              "         [-0.3555,  0.0908],\n",
              "         [ 0.7245,  3.3008],\n",
              "         [-0.4829, -1.0643],\n",
              "         [ 2.2549,  0.0729],\n",
              "         [-1.9202,  0.8201],\n",
              "         [-0.5730, -0.1560],\n",
              "         [ 2.0282, -1.1173],\n",
              "         [-0.9984,  0.4895]]), tensor([[ 4.0701],\n",
              "         [ 7.7854],\n",
              "         [ 5.4283],\n",
              "         [ 8.8131],\n",
              "         [ 6.7449],\n",
              "         [12.5676],\n",
              "         [ 5.5261],\n",
              "         [ 5.9995],\n",
              "         [ 4.4380],\n",
              "         [ 3.4057],\n",
              "         [ 3.3781],\n",
              "         [ 3.7618],\n",
              "         [ 4.2935],\n",
              "         [ 2.7133],\n",
              "         [ 5.6374],\n",
              "         [12.1540],\n",
              "         [-1.4972],\n",
              "         [ 4.0121],\n",
              "         [13.2605],\n",
              "         [ 1.7824]])]"
            ]
          },
          "metadata": {},
          "execution_count": 28
        }
      ]
    },
    {
      "cell_type": "code",
      "source": [
        "# `nn` is an abbreviation for neural networks\n",
        "from torch import nn\n",
        "\n",
        "net = nn.Sequential(nn.Linear(2, 1))"
      ],
      "metadata": {
        "id": "J_83KBFOxJFB"
      },
      "execution_count": null,
      "outputs": []
    },
    {
      "cell_type": "code",
      "source": [
        "net[0].weight.data.normal_(0, 0.01)\n",
        "net[0].bias.data.fill_(0)"
      ],
      "metadata": {
        "colab": {
          "base_uri": "https://localhost:8080/"
        },
        "id": "AdJQQgFaxL2H",
        "outputId": "e0b7ab9a-7ed6-42c3-8639-02ba92786dac"
      },
      "execution_count": null,
      "outputs": [
        {
          "output_type": "execute_result",
          "data": {
            "text/plain": [
              "tensor([0.])"
            ]
          },
          "metadata": {},
          "execution_count": 30
        }
      ]
    },
    {
      "cell_type": "code",
      "source": [
        "loss = nn.MSELoss()"
      ],
      "metadata": {
        "id": "vSCAFyfAxNAn"
      },
      "execution_count": null,
      "outputs": []
    },
    {
      "cell_type": "markdown",
      "source": [
        "Minibatch stochastic gradient descent is a standard tool for optimizing neural networks and thus PyTorch supports it alongside a number of variations on this algorithm in the optim module. When we instantiate an SGD instance, we will specify the parameters to optimize over (obtainable from our net via net.parameters()), with a dictionary of hyperparameters required by our optimization algorithm. "
      ],
      "metadata": {
        "id": "SImDGiGMBJ0L"
      }
    },
    {
      "cell_type": "code",
      "source": [
        "trainer = torch.optim.SGD(net.parameters(), lr=0.03)"
      ],
      "metadata": {
        "id": "_yee2wG1xOYW"
      },
      "execution_count": null,
      "outputs": []
    },
    {
      "cell_type": "code",
      "source": [
        "num_epochs = 3\n",
        "for epoch in range(num_epochs):\n",
        "    for X, y in data_iter:\n",
        "        l = loss(net(X) ,y)\n",
        "        trainer.zero_grad()\n",
        "        l.backward()\n",
        "        trainer.step()\n",
        "    l = loss(net(features), labels)\n",
        "    print(f'epoch {epoch + 1}, loss {l:f}')"
      ],
      "metadata": {
        "colab": {
          "base_uri": "https://localhost:8080/"
        },
        "id": "5fAmW5bUxP9Z",
        "outputId": "3d797a5d-2646-48fb-92e6-cac6a8c4eaea"
      },
      "execution_count": null,
      "outputs": [
        {
          "output_type": "stream",
          "name": "stdout",
          "text": [
            "epoch 1, loss 0.000263\n",
            "epoch 2, loss 0.000098\n",
            "epoch 3, loss 0.000098\n"
          ]
        }
      ]
    },
    {
      "cell_type": "code",
      "source": [
        "w = net[0].weight.data\n",
        "print('error in estimating w:', true_w - w.reshape(true_w.shape))\n",
        "b = net[0].bias.data\n",
        "print('error in estimating b:', true_b - b)"
      ],
      "metadata": {
        "colab": {
          "base_uri": "https://localhost:8080/"
        },
        "id": "JT8VD6GhxR5m",
        "outputId": "98d0a1ef-cdcd-4bb6-cb61-e24a6c14a352"
      },
      "execution_count": null,
      "outputs": [
        {
          "output_type": "stream",
          "name": "stdout",
          "text": [
            "error in estimating w: tensor([-0.0005,  0.0002])\n",
            "error in estimating b: tensor([-0.0003])\n"
          ]
        }
      ]
    }
  ]
}