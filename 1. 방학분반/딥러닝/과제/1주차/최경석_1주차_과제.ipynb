{
  "nbformat": 4,
  "nbformat_minor": 0,
  "metadata": {
    "colab": {
      "name": "최경석_1주차_과제.ipynb",
      "provenance": [],
      "collapsed_sections": []
    },
    "kernelspec": {
      "name": "python3",
      "display_name": "Python 3"
    },
    "language_info": {
      "name": "python"
    }
  },
  "cells": [
    {
      "cell_type": "markdown",
      "source": [
        "#1주차 과제\n",
        "- 파이토치 시작하기 및 간단한 코드 빈칸 채워넣기"
      ],
      "metadata": {
        "id": "YffDGVSIxijw"
      }
    },
    {
      "cell_type": "markdown",
      "source": [
        "#파이토치 시작하기"
      ],
      "metadata": {
        "id": "MivAstLj4EpN"
      }
    },
    {
      "cell_type": "markdown",
      "source": [
        "파이토치 시작하기"
      ],
      "metadata": {
        "id": "XE4yLA7N4TwG"
      }
    },
    {
      "cell_type": "code",
      "execution_count": null,
      "metadata": {
        "id": "BS39ZJTi4CD0"
      },
      "outputs": [],
      "source": [
        "import torch "
      ]
    },
    {
      "cell_type": "markdown",
      "source": [
        "- tensor 개념 파악 (array of numerical values(vector, matrix..))\n",
        "- 4x3 행렬 두개 만들고 행으로 병합, 열로 병합\n"
      ],
      "metadata": {
        "id": "ixz0WyWH4kSJ"
      }
    },
    {
      "cell_type": "code",
      "source": [
        "shape = (4,3)\n",
        "X=torch.rand(shape)\n",
        "Y=torch.rand(shape)\n",
        "###행으로 병합 코드\n",
        "row_cat = torch.cat([X,Y], dim=1)\n",
        "###열로 병합 코드\n",
        "col_cat = torch.cat([X,Y], dim=0)"
      ],
      "metadata": {
        "id": "OlLUsvmL4kEY"
      },
      "execution_count": null,
      "outputs": []
    },
    {
      "cell_type": "code",
      "source": [
        "print(row_cat)\n",
        "print(col_cat)"
      ],
      "metadata": {
        "colab": {
          "base_uri": "https://localhost:8080/"
        },
        "id": "Liqvk0Dwc9XN",
        "outputId": "98c46d3f-eaae-4529-a1ba-8db3fc68bad9"
      },
      "execution_count": null,
      "outputs": [
        {
          "output_type": "stream",
          "name": "stdout",
          "text": [
            "tensor([[0.4533, 0.3915, 0.9301, 0.5427, 0.7268, 0.4674],\n",
            "        [0.1657, 0.2141, 0.8973, 0.0785, 0.5550, 0.7257],\n",
            "        [0.4353, 0.9773, 0.3359, 0.6661, 0.9174, 0.2004],\n",
            "        [0.3270, 0.1363, 0.6716, 0.0681, 0.7009, 0.5418]])\n",
            "tensor([[0.4533, 0.3915, 0.9301],\n",
            "        [0.1657, 0.2141, 0.8973],\n",
            "        [0.4353, 0.9773, 0.3359],\n",
            "        [0.3270, 0.1363, 0.6716],\n",
            "        [0.5427, 0.7268, 0.4674],\n",
            "        [0.0785, 0.5550, 0.7257],\n",
            "        [0.6661, 0.9174, 0.2004],\n",
            "        [0.0681, 0.7009, 0.5418]])\n"
          ]
        }
      ]
    },
    {
      "cell_type": "markdown",
      "source": [
        "linear regression implementation from scratch\n",
        "- 머신러닝 기초와 비슷한 내용이지만 파이토치로 실행해보며 익숙해지는것이 목표\n"
      ],
      "metadata": {
        "id": "Gh-1LJliusEc"
      }
    },
    {
      "cell_type": "code",
      "source": [
        "!pip install d2l"
      ],
      "metadata": {
        "id": "Ybbbqg8TqAVR"
      },
      "execution_count": null,
      "outputs": []
    },
    {
      "cell_type": "code",
      "source": [
        "%matplotlib inline\n",
        "import random\n",
        "import torch\n",
        "from d2l import torch as d2l"
      ],
      "metadata": {
        "id": "YyWEB6e3FKYY"
      },
      "execution_count": null,
      "outputs": []
    },
    {
      "cell_type": "code",
      "source": [
        "def synthetic_data(w, b, num_examples):\n",
        "    \"\"\"Generate y = Xw + b + noise.\"\"\"\n",
        "    X = torch.normal(0, 1, (num_examples, len(w)))\n",
        "    y = torch.matmul(X, w) + b\n",
        "    y += torch.normal(0, 0.01, y.shape)\n",
        "    return X, y.reshape((-1, 1))\n",
        "\n",
        "true_w = torch.tensor([3, -1.5])\n",
        "true_b = 5.5\n",
        "features, labels = synthetic_data(true_w, true_b, 2000)"
      ],
      "metadata": {
        "id": "exWjbVn2v3CT"
      },
      "execution_count": null,
      "outputs": []
    },
    {
      "cell_type": "code",
      "source": [
        "print('features:', features[0],'\\nlabel:', labels[0])"
      ],
      "metadata": {
        "id": "5UcjckXPv6iy",
        "colab": {
          "base_uri": "https://localhost:8080/"
        },
        "outputId": "e5a0a874-b093-43bd-da0b-df0ee697e32a"
      },
      "execution_count": null,
      "outputs": [
        {
          "output_type": "stream",
          "name": "stdout",
          "text": [
            "features: tensor([-0.0022, -1.2179]) \n",
            "label: tensor([7.3101])\n"
          ]
        }
      ]
    },
    {
      "cell_type": "code",
      "source": [
        "def data_iter(batch_size, features, labels):\n",
        "    num_examples = len(features)\n",
        "    indices = list(range(num_examples))\n",
        "    # The examples are read at random, in no particular order\n",
        "    random.shuffle(indices)\n",
        "    for i in range(0, num_examples, batch_size):\n",
        "        batch_indices = torch.tensor(\n",
        "            indices[i: min(i + batch_size, num_examples)])\n",
        "        yield features[batch_indices], labels[batch_indices]"
      ],
      "metadata": {
        "id": "jLY6YR5Zv_gO"
      },
      "execution_count": null,
      "outputs": []
    },
    {
      "cell_type": "code",
      "source": [
        "batch_size = 20\n",
        "\n",
        "for X, y in data_iter(batch_size, features, labels):\n",
        "    print(X, '\\n', y)\n",
        "    break"
      ],
      "metadata": {
        "id": "zuxxEAvdwA7p",
        "colab": {
          "base_uri": "https://localhost:8080/"
        },
        "outputId": "0c147cc7-ed54-4cf1-9609-24dbd579386b"
      },
      "execution_count": null,
      "outputs": [
        {
          "output_type": "stream",
          "name": "stdout",
          "text": [
            "tensor([[ 0.3778, -1.3286],\n",
            "        [ 1.3146, -1.7048],\n",
            "        [-0.2556,  0.0786],\n",
            "        [-0.1659, -0.2951],\n",
            "        [-0.6279,  0.8722],\n",
            "        [ 1.9909,  1.0110],\n",
            "        [-0.4545,  0.0048],\n",
            "        [ 0.2769, -1.3354],\n",
            "        [-0.0717, -0.2466],\n",
            "        [ 0.2961,  0.6995],\n",
            "        [ 0.4755, -0.8243],\n",
            "        [-0.9352,  0.8403],\n",
            "        [ 1.4800, -1.8012],\n",
            "        [-1.5480, -0.1080],\n",
            "        [-1.0653, -0.3800],\n",
            "        [ 1.0551,  1.2169],\n",
            "        [ 0.5048,  1.0107],\n",
            "        [ 0.2003, -1.2166],\n",
            "        [ 0.7143, -0.3922],\n",
            "        [ 2.1083,  0.3337]]) \n",
            " tensor([[ 8.6121],\n",
            "        [11.9921],\n",
            "        [ 4.6254],\n",
            "        [ 5.4440],\n",
            "        [ 2.3124],\n",
            "        [ 9.9622],\n",
            "        [ 4.1232],\n",
            "        [ 8.3434],\n",
            "        [ 5.6708],\n",
            "        [ 5.3569],\n",
            "        [ 8.1450],\n",
            "        [ 1.4632],\n",
            "        [12.6371],\n",
            "        [ 1.0209],\n",
            "        [ 2.8670],\n",
            "        [ 6.8375],\n",
            "        [ 5.5052],\n",
            "        [ 7.9371],\n",
            "        [ 8.2357],\n",
            "        [11.3209]])\n"
          ]
        }
      ]
    },
    {
      "cell_type": "code",
      "source": [
        "w = torch.normal(0, 0.01, size=(2,1), requires_grad=True)\n",
        "b = torch.tensor([5.5])  #b=5.5로 고정시킴 "
      ],
      "metadata": {
        "id": "f_yHcVYEwCHq"
      },
      "execution_count": null,
      "outputs": []
    },
    {
      "cell_type": "code",
      "source": [
        "print(w)\n",
        "print(b)"
      ],
      "metadata": {
        "colab": {
          "base_uri": "https://localhost:8080/"
        },
        "id": "k7GMLzQN_McV",
        "outputId": "2ebe1c30-d27e-46a9-918e-e5cbc81994e4"
      },
      "execution_count": null,
      "outputs": [
        {
          "output_type": "stream",
          "name": "stdout",
          "text": [
            "tensor([[-0.0093],\n",
            "        [ 0.0093]], requires_grad=True)\n",
            "tensor([5.5000])\n"
          ]
        }
      ]
    },
    {
      "cell_type": "code",
      "source": [
        "def linreg(X, w, b):\n",
        "    \"\"\"The linear regression model.\"\"\"\n",
        "    return torch.matmul(X,w)+b"
      ],
      "metadata": {
        "id": "wOT4gBtZwDVA"
      },
      "execution_count": null,
      "outputs": []
    },
    {
      "cell_type": "code",
      "source": [
        "def squared_loss(y_hat, y):  \n",
        "    \"\"\"Squared loss.\"\"\"\n",
        "    return (y_hat-y.reshape(y_hat.shape))**2/2"
      ],
      "metadata": {
        "id": "WFYMJrrSwE5R"
      },
      "execution_count": null,
      "outputs": []
    },
    {
      "cell_type": "code",
      "source": [
        "def sgd(params, lr, batch_size):\n",
        "    \"\"\"Minibatch stochastic gradient descent.\"\"\"\n",
        "    with torch.no_grad():\n",
        "      for param in params:\n",
        "        param -= lr*param.grad/batch_size\n",
        "        param.grad.zero_()"
      ],
      "metadata": {
        "id": "MXD0qP8PwIn0"
      },
      "execution_count": null,
      "outputs": []
    },
    {
      "cell_type": "code",
      "source": [
        "lr = 0.001\n",
        "num_epochs = 50\n",
        "net = linreg\n",
        "loss = squared_loss\n",
        "\n",
        "w_list = []\n",
        "b_list = []\n",
        "mse_list = []\n",
        "\n",
        "for epoch in range(num_epochs):\n",
        "    for X, y in data_iter(batch_size, features, labels):\n",
        "      l = loss(net(X,w,b),y)\n",
        "      # Compute gradient on `l` with respect to [`w`, `b`]\n",
        "      l.sum().backward()\n",
        "      sgd([w], lr, batch_size)    # b는 update 안함\n",
        "    with torch.no_grad():\n",
        "      train_l = loss(net(features, w, b), labels)\n",
        "      print(f'epoch {epoch + 1}, loss {float(train_l.mean()):f}')\n",
        "      w_l = w.tolist()\n",
        "      w_list.append(w_l)\n",
        "      b_float = b.item()\n",
        "      b_list.append(b_float)\n",
        "      mse_list.append(train_l.mean())"
      ],
      "metadata": {
        "id": "pS_hm3J8wJ4z",
        "colab": {
          "base_uri": "https://localhost:8080/"
        },
        "outputId": "c5bd4c7a-a392-4b36-a003-a0f47143e3a8"
      },
      "execution_count": null,
      "outputs": [
        {
          "output_type": "stream",
          "name": "stdout",
          "text": [
            "epoch 1, loss 4.674706\n",
            "epoch 2, loss 3.819412\n",
            "epoch 3, loss 3.120617\n",
            "epoch 4, loss 2.549672\n",
            "epoch 5, loss 2.083184\n",
            "epoch 6, loss 1.702048\n",
            "epoch 7, loss 1.390649\n",
            "epoch 8, loss 1.136225\n",
            "epoch 9, loss 0.928352\n",
            "epoch 10, loss 0.758510\n",
            "epoch 11, loss 0.619742\n",
            "epoch 12, loss 0.506364\n",
            "epoch 13, loss 0.413729\n",
            "epoch 14, loss 0.338045\n",
            "epoch 15, loss 0.276206\n",
            "epoch 16, loss 0.225682\n",
            "epoch 17, loss 0.184402\n",
            "epoch 18, loss 0.150674\n",
            "epoch 19, loss 0.123117\n",
            "epoch 20, loss 0.100602\n",
            "epoch 21, loss 0.082206\n",
            "epoch 22, loss 0.067175\n",
            "epoch 23, loss 0.054895\n",
            "epoch 24, loss 0.044861\n",
            "epoch 25, loss 0.036663\n",
            "epoch 26, loss 0.029965\n",
            "epoch 27, loss 0.024492\n",
            "epoch 28, loss 0.020020\n",
            "epoch 29, loss 0.016366\n",
            "epoch 30, loss 0.013381\n",
            "epoch 31, loss 0.010942\n",
            "epoch 32, loss 0.008950\n",
            "epoch 33, loss 0.007322\n",
            "epoch 34, loss 0.005991\n",
            "epoch 35, loss 0.004905\n",
            "epoch 36, loss 0.004016\n",
            "epoch 37, loss 0.003291\n",
            "epoch 38, loss 0.002698\n",
            "epoch 39, loss 0.002214\n",
            "epoch 40, loss 0.001818\n",
            "epoch 41, loss 0.001495\n",
            "epoch 42, loss 0.001230\n",
            "epoch 43, loss 0.001014\n",
            "epoch 44, loss 0.000838\n",
            "epoch 45, loss 0.000694\n",
            "epoch 46, loss 0.000576\n",
            "epoch 47, loss 0.000480\n",
            "epoch 48, loss 0.000401\n",
            "epoch 49, loss 0.000337\n",
            "epoch 50, loss 0.000285\n"
          ]
        }
      ]
    },
    {
      "cell_type": "code",
      "source": [
        "print(f'error in estimating w: {true_w - w.reshape(true_w.shape)}')\n",
        "print(f'error in estimating b: {true_b - b}')"
      ],
      "metadata": {
        "id": "u_WSAjwNwMEY",
        "colab": {
          "base_uri": "https://localhost:8080/"
        },
        "outputId": "becf4fa7-2d6c-4915-e4d3-91ea38957538"
      },
      "execution_count": null,
      "outputs": [
        {
          "output_type": "stream",
          "name": "stdout",
          "text": [
            "error in estimating w: tensor([ 0.0193, -0.0102], grad_fn=<SubBackward0>)\n",
            "error in estimating b: tensor([0.])\n"
          ]
        }
      ]
    },
    {
      "cell_type": "markdown",
      "source": [
        "+cost graph 그리기 (x축 w, y축 loss)"
      ],
      "metadata": {
        "id": "tDSteRKdREC9"
      }
    },
    {
      "cell_type": "code",
      "source": [
        "! pip install matplotlib==3.1.1"
      ],
      "metadata": {
        "colab": {
          "base_uri": "https://localhost:8080/"
        },
        "id": "7DeBbS2eUhz3",
        "outputId": "2fdfd316-a51f-4fe3-8d9a-4321e3fddc5d"
      },
      "execution_count": null,
      "outputs": [
        {
          "output_type": "stream",
          "name": "stdout",
          "text": [
            "Looking in indexes: https://pypi.org/simple, https://us-python.pkg.dev/colab-wheels/public/simple/\n",
            "Requirement already satisfied: matplotlib==3.1.1 in /usr/local/lib/python3.7/dist-packages (3.1.1)\n",
            "Requirement already satisfied: cycler>=0.10 in /usr/local/lib/python3.7/dist-packages (from matplotlib==3.1.1) (0.11.0)\n",
            "Requirement already satisfied: kiwisolver>=1.0.1 in /usr/local/lib/python3.7/dist-packages (from matplotlib==3.1.1) (1.4.3)\n",
            "Requirement already satisfied: python-dateutil>=2.1 in /usr/local/lib/python3.7/dist-packages (from matplotlib==3.1.1) (2.8.2)\n",
            "Requirement already satisfied: pyparsing!=2.0.4,!=2.1.2,!=2.1.6,>=2.0.1 in /usr/local/lib/python3.7/dist-packages (from matplotlib==3.1.1) (3.0.9)\n",
            "Requirement already satisfied: numpy>=1.11 in /usr/local/lib/python3.7/dist-packages (from matplotlib==3.1.1) (1.21.5)\n",
            "Requirement already satisfied: typing-extensions in /usr/local/lib/python3.7/dist-packages (from kiwisolver>=1.0.1->matplotlib==3.1.1) (4.1.1)\n",
            "Requirement already satisfied: six>=1.5 in /usr/local/lib/python3.7/dist-packages (from python-dateutil>=2.1->matplotlib==3.1.1) (1.15.0)\n"
          ]
        }
      ]
    },
    {
      "cell_type": "code",
      "source": [
        "import matplotlib.pyplot as plt\n",
        "w1_list = []\n",
        "w2_list = []\n",
        "for w in range(len(w_list)):\n",
        "  w1_list.append(w_list[w][0])\n",
        "  w2_list.append(w_list[w][1])\n",
        "\n",
        "fig = plt.figure(figsize=(15,15))\n",
        "\n",
        "ax1 = plt.subplot(3,1,1)\n",
        "ax1.plot(w1_list, mse_list)\n",
        "ax1.set_ylabel('Loss')\n",
        "ax1.set_xlabel('w1')\n",
        "\n",
        "ax2 = plt.subplot(3,1,2)\n",
        "ax2.plot(w2_list, mse_list)\n",
        "ax2.set_ylabel('Loss')\n",
        "ax2.set_xlabel('w2')\n",
        "\n",
        "ax1 = plt.subplot(3,1,3)\n",
        "ax1.plot(b_list, mse_list)\n",
        "ax1.set_ylabel('Loss')\n",
        "ax1.set_xlabel('b')\n",
        "\n",
        "plt.show()"
      ],
      "metadata": {
        "id": "13ySyXh7RMcn",
        "colab": {
          "base_uri": "https://localhost:8080/",
          "height": 877
        },
        "outputId": "1c01dcd2-24b3-43d0-9336-1578accd872e"
      },
      "execution_count": null,
      "outputs": [
        {
          "output_type": "display_data",
          "data": {
            "text/plain": [
              "<Figure size 1080x1080 with 3 Axes>"
            ],
            "image/png": "[encoded data removed]"
          },
          "metadata": {
            "needs_background": "light"
          }
        }
      ]
    },
    {
      "cell_type": "markdown",
      "source": [
        "concise implementation of linear regression \n",
        "- api 사용해보기"
      ],
      "metadata": {
        "id": "WSKKAGx4wNd4"
      }
    },
    {
      "cell_type": "code",
      "source": [
        "import numpy as np\n",
        "import torch\n",
        "from torch.utils import data\n",
        "from d2l import torch as d2l\n",
        "\n",
        "\n",
        "true_w = torch.tensor([3, -1.5])\n",
        "true_b = 5.5\n",
        "features, labels = d2l.synthetic_data(true_w, true_b, 2000)"
      ],
      "metadata": {
        "id": "CWiOlkzKxEkf"
      },
      "execution_count": null,
      "outputs": []
    },
    {
      "cell_type": "code",
      "source": [
        "def load_array(data_arrays, batch_size, is_train=True): \n",
        "    \"\"\"Construct a PyTorch data iterator.\"\"\"\n",
        "    dataset = data.TensorDataset(*data_arrays)\n",
        "    return data.DataLoader(dataset, batch_size, shuffle=is_train)\n",
        "\n",
        "batch_size = 20\n",
        "data_iter = load_array((features, labels), batch_size)"
      ],
      "metadata": {
        "id": "F5tRyjkmxGUe"
      },
      "execution_count": null,
      "outputs": []
    },
    {
      "cell_type": "code",
      "source": [
        "next(iter(data_iter))"
      ],
      "metadata": {
        "id": "NBaqnZG4xHgP",
        "colab": {
          "base_uri": "https://localhost:8080/"
        },
        "outputId": "46a18672-147f-42a6-88e4-9017b5629f70"
      },
      "execution_count": null,
      "outputs": [
        {
          "output_type": "execute_result",
          "data": {
            "text/plain": [
              "[tensor([[-1.1141,  0.7104],\n",
              "         [-1.1643, -0.8815],\n",
              "         [-0.0953,  0.5954],\n",
              "         [-0.8669,  1.0016],\n",
              "         [ 1.0241, -0.2837],\n",
              "         [ 0.5334,  0.2873],\n",
              "         [ 0.9749, -0.2134],\n",
              "         [ 0.0547, -0.3006],\n",
              "         [ 1.0773, -1.1815],\n",
              "         [-2.7643,  0.1579],\n",
              "         [-1.6331,  0.4953],\n",
              "         [ 1.3111,  0.4872],\n",
              "         [-0.4372, -0.2991],\n",
              "         [-0.3675, -0.8059],\n",
              "         [ 0.4798,  0.9166],\n",
              "         [-1.0653, -1.6791],\n",
              "         [ 0.5648, -0.2354],\n",
              "         [-1.2880, -0.1417],\n",
              "         [ 1.7486,  0.2001],\n",
              "         [ 0.1645, -0.9975]]), tensor([[ 1.0843],\n",
              "         [ 3.3204],\n",
              "         [ 4.3369],\n",
              "         [ 1.3939],\n",
              "         [ 9.0084],\n",
              "         [ 6.6381],\n",
              "         [ 8.7542],\n",
              "         [ 6.1186],\n",
              "         [10.5151],\n",
              "         [-3.0412],\n",
              "         [-0.1440],\n",
              "         [ 8.7139],\n",
              "         [ 4.6452],\n",
              "         [ 5.6106],\n",
              "         [ 5.5493],\n",
              "         [ 4.8156],\n",
              "         [ 7.5513],\n",
              "         [ 1.8470],\n",
              "         [10.4633],\n",
              "         [ 7.4789]])]"
            ]
          },
          "metadata": {},
          "execution_count": 23
        }
      ]
    },
    {
      "cell_type": "code",
      "source": [
        "from torch import nn\n",
        "\n",
        "net = nn.Sequential(nn.Linear(2,1))"
      ],
      "metadata": {
        "id": "J_83KBFOxJFB"
      },
      "execution_count": null,
      "outputs": []
    },
    {
      "cell_type": "code",
      "source": [
        "net[0].weight.data.normal_(0, 0.01)\n",
        "net[0].bias.data.fill_(0)"
      ],
      "metadata": {
        "id": "AdJQQgFaxL2H",
        "colab": {
          "base_uri": "https://localhost:8080/"
        },
        "outputId": "c3eff58a-269d-4298-b5fd-f2920ac52970"
      },
      "execution_count": null,
      "outputs": [
        {
          "output_type": "execute_result",
          "data": {
            "text/plain": [
              "tensor([0.])"
            ]
          },
          "metadata": {},
          "execution_count": 25
        }
      ]
    },
    {
      "cell_type": "code",
      "source": [
        "loss = nn.MSELoss()"
      ],
      "metadata": {
        "id": "vSCAFyfAxNAn"
      },
      "execution_count": null,
      "outputs": []
    },
    {
      "cell_type": "code",
      "source": [
        "trainer = torch.optim.SGD(net.parameters(), lr = 0.05)"
      ],
      "metadata": {
        "id": "_yee2wG1xOYW"
      },
      "execution_count": null,
      "outputs": []
    },
    {
      "cell_type": "code",
      "source": [
        "num_epochs = 3\n",
        "for epoch in range(num_epochs):\n",
        "    for X, y in data_iter:\n",
        "        l = loss(net(X),y)\n",
        "        trainer.zero_grad()\n",
        "        l.backward()\n",
        "        trainer.step()\n",
        "    l = loss(net(features), labels)\n",
        "    print(f'epoch {epoch + 1}, loss {l:f}')"
      ],
      "metadata": {
        "id": "5fAmW5bUxP9Z",
        "colab": {
          "base_uri": "https://localhost:8080/"
        },
        "outputId": "8a796ce5-86aa-4cd1-dea7-509fc2d60ee5"
      },
      "execution_count": null,
      "outputs": [
        {
          "output_type": "stream",
          "name": "stdout",
          "text": [
            "epoch 1, loss 0.000103\n",
            "epoch 2, loss 0.000104\n",
            "epoch 3, loss 0.000104\n"
          ]
        }
      ]
    },
    {
      "cell_type": "code",
      "source": [
        "w = net[0].weight.data\n",
        "print('error in estimating w:', true_w - w.reshape(true_w.shape))\n",
        "b = net[0].bias.data\n",
        "print('error in estimating b:', true_b - b)"
      ],
      "metadata": {
        "id": "JT8VD6GhxR5m",
        "colab": {
          "base_uri": "https://localhost:8080/"
        },
        "outputId": "c60751b6-3de1-4398-dd91-b485ccd4d371"
      },
      "execution_count": null,
      "outputs": [
        {
          "output_type": "stream",
          "name": "stdout",
          "text": [
            "error in estimating w: tensor([-0.0009, -0.0005])\n",
            "error in estimating b: tensor([-0.0003])\n"
          ]
        }
      ]
    }
  ]
}