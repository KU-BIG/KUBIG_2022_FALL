{
  "cells": [
    {
      "cell_type": "markdown",
      "metadata": {
        "id": "YffDGVSIxijw"
      },
      "source": [
        "#1주차 과제\n",
        "- 파이토치 시작하기 및 간단한 코드 빈칸 채워넣기"
      ]
    },
    {
      "cell_type": "markdown",
      "metadata": {
        "id": "MivAstLj4EpN"
      },
      "source": [
        "#파이토치 시작하기"
      ]
    },
    {
      "cell_type": "markdown",
      "metadata": {
        "id": "XE4yLA7N4TwG"
      },
      "source": [
        "파이토치 시작하기"
      ]
    },
    {
      "cell_type": "code",
      "execution_count": 1,
      "metadata": {
        "id": "BS39ZJTi4CD0"
      },
      "outputs": [],
      "source": [
        "import torch "
      ]
    },
    {
      "cell_type": "markdown",
      "metadata": {
        "id": "ixz0WyWH4kSJ"
      },
      "source": [
        "- tensor 개념 파악 (array of numerical values(vector, matrix..))\n",
        "- 4x3 행렬 두개 만들고 행으로 병합, 열로 병합\n"
      ]
    },
    {
      "cell_type": "code",
      "execution_count": 2,
      "metadata": {
        "id": "OlLUsvmL4kEY",
        "colab": {
          "base_uri": "https://localhost:8080/"
        },
        "outputId": "3a40b970-5509-4f69-b449-2a33e40f029c"
      },
      "outputs": [
        {
          "output_type": "stream",
          "name": "stdout",
          "text": [
            "tensor([[ 1.,  2.,  3.],\n",
            "        [ 4.,  5.,  6.],\n",
            "        [ 7.,  8.,  9.],\n",
            "        [10., 11., 12.],\n",
            "        [13., 14., 15.],\n",
            "        [16., 17., 18.],\n",
            "        [19., 20., 21.],\n",
            "        [22., 23., 24.]])\n",
            "tensor([[ 1.,  2.,  3., 13., 14., 15.],\n",
            "        [ 4.,  5.,  6., 16., 17., 18.],\n",
            "        [ 7.,  8.,  9., 19., 20., 21.],\n",
            "        [10., 11., 12., 22., 23., 24.]])\n"
          ]
        }
      ],
      "source": [
        "X=torch.FloatTensor([[1.,2.,3.],\n",
        "                     [4.,5.,6.],\n",
        "                     [7.,8.,9.],\n",
        "                     [10.,11.,12.]])\n",
        "Y=torch.FloatTensor([[13.,14.,15.],\n",
        "                     [16.,17.,18.],\n",
        "                     [19.,20.,21.],\n",
        "                     [22.,23.,24.]])\n",
        "###행으로 병합 코드\n",
        "print(torch.cat([X,Y],dim=0))\n",
        "###열로 병합 코드\n",
        "print(torch.cat([X,Y],dim=1))"
      ]
    },
    {
      "cell_type": "markdown",
      "metadata": {
        "id": "Gh-1LJliusEc"
      },
      "source": [
        "linear regression implementation from scratch\n",
        "- 머신러닝 기초와 비슷한 내용이지만 파이토치로 실행해보며 익숙해지는것이 목표\n"
      ]
    },
    {
      "cell_type": "code",
      "source": [
        "# #Matplotlib 시각화 안될 때\n",
        "# !pip uninstall matplotlib\n",
        "# !pip install matplotlib==3.0.0"
      ],
      "metadata": {
        "id": "Lj8aKGVoHrMC"
      },
      "execution_count": 3,
      "outputs": []
    },
    {
      "cell_type": "code",
      "execution_count": 4,
      "metadata": {
        "id": "Ybbbqg8TqAVR"
      },
      "outputs": [],
      "source": [
        "# !pip install d2l"
      ]
    },
    {
      "cell_type": "code",
      "execution_count": 5,
      "metadata": {
        "id": "YyWEB6e3FKYY"
      },
      "outputs": [],
      "source": [
        "%matplotlib inline\n",
        "import random\n",
        "import torch\n",
        "from d2l import torch as d2l"
      ]
    },
    {
      "cell_type": "code",
      "execution_count": 6,
      "metadata": {
        "id": "exWjbVn2v3CT"
      },
      "outputs": [],
      "source": [
        "def synthetic_data(w, b, num_examples):\n",
        "    \"\"\"Generate y = Xw + b + noise.\"\"\"\n",
        "    X = torch.normal(0, 1, (num_examples, len(w))) #표준정규분포\n",
        "    y = torch.matmul(X, w) + b\n",
        "    y += torch.normal(0, 0.01, y.shape)\n",
        "    return X, y.reshape((-1, 1))\n",
        "\n",
        "true_w = torch.tensor([3, -1.5])\n",
        "true_b = 5.5\n",
        "features, labels = synthetic_data(true_w, true_b, 2000)"
      ]
    },
    {
      "cell_type": "code",
      "execution_count": 7,
      "metadata": {
        "id": "5UcjckXPv6iy",
        "colab": {
          "base_uri": "https://localhost:8080/"
        },
        "outputId": "f5adafb5-1cf0-4a2b-867b-f1ce540484e5"
      },
      "outputs": [
        {
          "output_type": "stream",
          "name": "stdout",
          "text": [
            "features: tensor([0.4503, 0.8485]) \n",
            "label: tensor([5.5866])\n"
          ]
        }
      ],
      "source": [
        "print('features:', features[0],'\\nlabel:', labels[0])"
      ]
    },
    {
      "cell_type": "code",
      "execution_count": 8,
      "metadata": {
        "id": "jLY6YR5Zv_gO"
      },
      "outputs": [],
      "source": [
        "def data_iter(batch_size, features, labels):\n",
        "    num_examples = len(features)\n",
        "    indices = list(range(num_examples))\n",
        "    # The examples are read at random, in no particular order\n",
        "    random.shuffle(indices)\n",
        "     ###반복문으로 채워넣기:\n",
        "    for i in range(0,num_examples,batch_size):\n",
        "        ##이하는 반복문에 대한 조건입니다.\n",
        "        batch_indices = torch.tensor(\n",
        "            indices[i: min(i + batch_size, num_examples)])\n",
        "        yield features[batch_indices], labels[batch_indices]"
      ]
    },
    {
      "cell_type": "code",
      "execution_count": 9,
      "metadata": {
        "id": "zuxxEAvdwA7p",
        "colab": {
          "base_uri": "https://localhost:8080/"
        },
        "outputId": "74080281-17a0-45f5-f50b-79d4b31cf2ca"
      },
      "outputs": [
        {
          "output_type": "stream",
          "name": "stdout",
          "text": [
            "tensor([[-0.1368,  0.3520],\n",
            "        [-0.0210,  0.8070],\n",
            "        [ 0.0666,  1.1493],\n",
            "        [-0.6285, -0.2532],\n",
            "        [-1.2798, -0.4590],\n",
            "        [-0.4853, -1.0555],\n",
            "        [ 1.4074, -0.5917],\n",
            "        [-0.7341,  1.9435],\n",
            "        [-0.0967,  0.7706],\n",
            "        [-0.4895, -0.5459],\n",
            "        [ 0.2308, -0.5679],\n",
            "        [ 1.7716, -1.0881],\n",
            "        [ 1.7665,  0.7653],\n",
            "        [ 0.3359,  0.7178],\n",
            "        [ 0.4613, -0.7557],\n",
            "        [-0.2326, -0.3169],\n",
            "        [ 1.6939, -0.4679],\n",
            "        [ 0.3376, -0.2706],\n",
            "        [-0.8153, -0.2118],\n",
            "        [-0.7869, -2.8041]]) \n",
            " tensor([[ 4.5827],\n",
            "        [ 4.2233],\n",
            "        [ 3.9955],\n",
            "        [ 3.9842],\n",
            "        [ 2.3429],\n",
            "        [ 5.6321],\n",
            "        [10.6053],\n",
            "        [ 0.3808],\n",
            "        [ 4.0417],\n",
            "        [ 4.8248],\n",
            "        [ 7.0350],\n",
            "        [12.4439],\n",
            "        [ 9.6571],\n",
            "        [ 5.4339],\n",
            "        [ 8.0124],\n",
            "        [ 5.2658],\n",
            "        [11.2913],\n",
            "        [ 6.9288],\n",
            "        [ 3.3726],\n",
            "        [ 7.3539]])\n"
          ]
        }
      ],
      "source": [
        "batch_size = 20\n",
        "\n",
        "for X, y in data_iter(batch_size, features, labels):\n",
        "    print(X, '\\n', y)\n",
        "    break"
      ]
    },
    {
      "cell_type": "code",
      "execution_count": 17,
      "metadata": {
        "id": "f_yHcVYEwCHq"
      },
      "outputs": [],
      "source": [
        "w = torch.normal(0, 0.01, size=(2,1), requires_grad=True)\n",
        "b = torch.zeros(1, requires_grad=True)\n",
        "# 가중치 초기화"
      ]
    },
    {
      "cell_type": "code",
      "execution_count": 11,
      "metadata": {
        "id": "wOT4gBtZwDVA"
      },
      "outputs": [],
      "source": [
        "def linreg(X, w, b):\n",
        "    \"\"\"The linear regression model.\"\"\"\n",
        "    return torch.mm(X, w) + b"
      ]
    },
    {
      "cell_type": "code",
      "execution_count": 12,
      "metadata": {
        "id": "WFYMJrrSwE5R"
      },
      "outputs": [],
      "source": [
        "def squared_loss(y_hat, y):  \n",
        "    \"\"\"Squared loss.\"\"\"\n",
        "    return (y_hat-y.reshape(y_hat.shape))**2/2 #미분 계산의 편의를 위해 2로 나눈다."
      ]
    },
    {
      "cell_type": "code",
      "execution_count": 13,
      "metadata": {
        "id": "MXD0qP8PwIn0"
      },
      "outputs": [],
      "source": [
        "def sgd(params, lr, batch_size):\n",
        "    \"\"\"Minibatch stochastic gradient descent.\"\"\"\n",
        "    with torch.no_grad(): #pytorch의 autograd를 비활성화 >> 필요한 메모리 줄어듦\n",
        "        for param in params:\n",
        "            param -= lr * param.grad / batch_size #평균 gradient를 구하기 위해 batchsize로 나눈다.(param.grad = 배치의 gradient 합)\n",
        "            param.grad.zero_() #루프가 끝나면 grad 초기화"
      ]
    },
    {
      "cell_type": "code",
      "execution_count": 18,
      "metadata": {
        "id": "pS_hm3J8wJ4z",
        "colab": {
          "base_uri": "https://localhost:8080/"
        },
        "outputId": "65b504b3-5fca-495a-e727-b24213459d36"
      },
      "outputs": [
        {
          "output_type": "stream",
          "name": "stdout",
          "text": [
            "epoch 1, loss 2.732715, b 3.4989240169525146, w(tensor([1.9627], requires_grad=True), tensor([-0.9451], requires_grad=True))\n",
            "epoch 2, loss 0.355208, b 4.771738529205322, w(tensor([2.6412], requires_grad=True), tensor([-1.2952], requires_grad=True))\n",
            "epoch 3, loss 0.046271, b 5.234852313995361, w(tensor([2.8759], requires_grad=True), tensor([-1.4245], requires_grad=True))\n",
            "epoch 4, loss 0.006079, b 5.403316020965576, w(tensor([2.9572], requires_grad=True), tensor([-1.4721], requires_grad=True))\n",
            "epoch 5, loss 0.000836, b 5.4646406173706055, w(tensor([2.9853], requires_grad=True), tensor([-1.4896], requires_grad=True))\n",
            "epoch 6, loss 0.000151, b 5.487069606781006, w(tensor([2.9950], requires_grad=True), tensor([-1.4960], requires_grad=True))\n",
            "epoch 7, loss 0.000062, b 5.495182514190674, w(tensor([2.9983], requires_grad=True), tensor([-1.4984], requires_grad=True))\n",
            "epoch 8, loss 0.000051, b 5.4981689453125, w(tensor([2.9994], requires_grad=True), tensor([-1.4993], requires_grad=True))\n",
            "epoch 9, loss 0.000049, b 5.499258995056152, w(tensor([2.9997], requires_grad=True), tensor([-1.4996], requires_grad=True))\n",
            "epoch 10, loss 0.000049, b 5.49965238571167, w(tensor([2.9999], requires_grad=True), tensor([-1.4997], requires_grad=True))\n",
            "epoch 11, loss 0.000049, b 5.499802112579346, w(tensor([2.9999], requires_grad=True), tensor([-1.4997], requires_grad=True))\n",
            "epoch 12, loss 0.000049, b 5.49981164932251, w(tensor([2.9999], requires_grad=True), tensor([-1.4998], requires_grad=True))\n",
            "epoch 13, loss 0.000049, b 5.499813556671143, w(tensor([3.0000], requires_grad=True), tensor([-1.4998], requires_grad=True))\n",
            "epoch 14, loss 0.000049, b 5.499845504760742, w(tensor([3.0000], requires_grad=True), tensor([-1.4997], requires_grad=True))\n",
            "epoch 15, loss 0.000049, b 5.499841690063477, w(tensor([3.0000], requires_grad=True), tensor([-1.4997], requires_grad=True))\n",
            "epoch 16, loss 0.000049, b 5.499853134155273, w(tensor([3.0000], requires_grad=True), tensor([-1.4997], requires_grad=True))\n",
            "epoch 17, loss 0.000049, b 5.499800205230713, w(tensor([3.0001], requires_grad=True), tensor([-1.4998], requires_grad=True))\n",
            "epoch 18, loss 0.000049, b 5.499861240386963, w(tensor([3.0000], requires_grad=True), tensor([-1.4997], requires_grad=True))\n",
            "epoch 19, loss 0.000049, b 5.499862194061279, w(tensor([3.0000], requires_grad=True), tensor([-1.4997], requires_grad=True))\n",
            "epoch 20, loss 0.000049, b 5.499873161315918, w(tensor([2.9999], requires_grad=True), tensor([-1.4997], requires_grad=True))\n",
            "epoch 21, loss 0.000049, b 5.499873161315918, w(tensor([3.0000], requires_grad=True), tensor([-1.4998], requires_grad=True))\n",
            "epoch 22, loss 0.000049, b 5.499813079833984, w(tensor([2.9999], requires_grad=True), tensor([-1.4997], requires_grad=True))\n",
            "epoch 23, loss 0.000049, b 5.499775409698486, w(tensor([2.9999], requires_grad=True), tensor([-1.4997], requires_grad=True))\n",
            "epoch 24, loss 0.000049, b 5.499824523925781, w(tensor([3.0000], requires_grad=True), tensor([-1.4998], requires_grad=True))\n",
            "epoch 25, loss 0.000049, b 5.49983024597168, w(tensor([2.9999], requires_grad=True), tensor([-1.4997], requires_grad=True))\n",
            "epoch 26, loss 0.000049, b 5.499839782714844, w(tensor([3.0000], requires_grad=True), tensor([-1.4997], requires_grad=True))\n",
            "epoch 27, loss 0.000049, b 5.499864101409912, w(tensor([3.0000], requires_grad=True), tensor([-1.4998], requires_grad=True))\n",
            "epoch 28, loss 0.000049, b 5.499800682067871, w(tensor([3.0000], requires_grad=True), tensor([-1.4998], requires_grad=True))\n",
            "epoch 29, loss 0.000049, b 5.499826431274414, w(tensor([3.0000], requires_grad=True), tensor([-1.4997], requires_grad=True))\n",
            "epoch 30, loss 0.000049, b 5.499827861785889, w(tensor([3.0000], requires_grad=True), tensor([-1.4997], requires_grad=True))\n",
            "epoch 31, loss 0.000049, b 5.49987268447876, w(tensor([3.0001], requires_grad=True), tensor([-1.4997], requires_grad=True))\n",
            "epoch 32, loss 0.000049, b 5.49980354309082, w(tensor([3.0000], requires_grad=True), tensor([-1.4997], requires_grad=True))\n",
            "epoch 33, loss 0.000049, b 5.499842166900635, w(tensor([3.0000], requires_grad=True), tensor([-1.4997], requires_grad=True))\n",
            "epoch 34, loss 0.000049, b 5.499850749969482, w(tensor([3.0000], requires_grad=True), tensor([-1.4997], requires_grad=True))\n",
            "epoch 35, loss 0.000049, b 5.499776363372803, w(tensor([3.0000], requires_grad=True), tensor([-1.4998], requires_grad=True))\n",
            "epoch 36, loss 0.000049, b 5.499790668487549, w(tensor([3.0000], requires_grad=True), tensor([-1.4997], requires_grad=True))\n",
            "epoch 37, loss 0.000049, b 5.499846935272217, w(tensor([3.0000], requires_grad=True), tensor([-1.4998], requires_grad=True))\n",
            "epoch 38, loss 0.000049, b 5.499841690063477, w(tensor([2.9999], requires_grad=True), tensor([-1.4998], requires_grad=True))\n",
            "epoch 39, loss 0.000049, b 5.4998321533203125, w(tensor([2.9999], requires_grad=True), tensor([-1.4997], requires_grad=True))\n",
            "epoch 40, loss 0.000049, b 5.499818801879883, w(tensor([2.9999], requires_grad=True), tensor([-1.4998], requires_grad=True))\n",
            "epoch 41, loss 0.000049, b 5.499841690063477, w(tensor([3.0000], requires_grad=True), tensor([-1.4997], requires_grad=True))\n",
            "epoch 42, loss 0.000049, b 5.499858856201172, w(tensor([3.0000], requires_grad=True), tensor([-1.4997], requires_grad=True))\n",
            "epoch 43, loss 0.000049, b 5.499791622161865, w(tensor([2.9999], requires_grad=True), tensor([-1.4997], requires_grad=True))\n",
            "epoch 44, loss 0.000049, b 5.499758720397949, w(tensor([2.9999], requires_grad=True), tensor([-1.4998], requires_grad=True))\n",
            "epoch 45, loss 0.000049, b 5.4997878074646, w(tensor([2.9999], requires_grad=True), tensor([-1.4998], requires_grad=True))\n",
            "epoch 46, loss 0.000049, b 5.499902248382568, w(tensor([3.0001], requires_grad=True), tensor([-1.4998], requires_grad=True))\n",
            "epoch 47, loss 0.000049, b 5.499820232391357, w(tensor([3.0001], requires_grad=True), tensor([-1.4998], requires_grad=True))\n",
            "epoch 48, loss 0.000049, b 5.499903202056885, w(tensor([3.0000], requires_grad=True), tensor([-1.4997], requires_grad=True))\n",
            "epoch 49, loss 0.000049, b 5.499854564666748, w(tensor([3.0000], requires_grad=True), tensor([-1.4998], requires_grad=True))\n",
            "epoch 50, loss 0.000049, b 5.499863147735596, w(tensor([3.0000], requires_grad=True), tensor([-1.4998], requires_grad=True))\n"
          ]
        }
      ],
      "source": [
        "lr = 0.01\n",
        "num_epochs = 50\n",
        "net = linreg\n",
        "loss = squared_loss\n",
        "b_list=[]\n",
        "w_list=[] #cost graph에서 쓰기 위한 w_list\n",
        "loss_list=[]  #cost graph에서 쓰기 위한 loss_list, b = torch.zeros(1, requires_grad=True) 초기화된 값으로 고정. w에 따른 Loss만 관찰\n",
        "\n",
        "for epoch in range(num_epochs):\n",
        "    for X, y in data_iter(batch_size, features, labels):\n",
        "        l = loss(net(X,w,b),y) \n",
        "        # Compute gradient on `l` with respect to [`w`, `b`]\n",
        "        l.sum().backward()\n",
        "        sgd([w,b],lr,batch_size)\n",
        "    with torch.no_grad():\n",
        "        train_l = loss(net(features, w, b), labels)\n",
        "        print(f'epoch {epoch + 1}, loss {float(train_l.mean()):f}, b {float(b)}, w{tuple(w)}')\n",
        "        b_float = b.item()\n",
        "        b_list.append(b_float)\n",
        "        w_l = w.tolist() #텐서를 리스트로 변환해야만 value를 확인할 수 있음. 텐서는 value가 아닌 변수 자체를 참고하기 때문에 그냥 텐서를 넣으면 마지막 에폭의 값만 확인가능\n",
        "        w_list.append(w_l)\n",
        "        loss_list.append(float(loss(net(features,w,torch.zeros(1, requires_grad=True)),labels).mean()))"
      ]
    },
    {
      "cell_type": "code",
      "source": [
        "w_list"
      ],
      "metadata": {
        "colab": {
          "base_uri": "https://localhost:8080/"
        },
        "id": "qaNa7yeNlVYr",
        "outputId": "8aad3871-fddb-4543-b796-1f2c5a6a800d"
      },
      "execution_count": 19,
      "outputs": [
        {
          "output_type": "execute_result",
          "data": {
            "text/plain": [
              "[[[1.96273934841156], [-0.9451441168785095]],\n",
              " [[2.641185998916626], [-1.295163631439209]],\n",
              " [[2.875917434692383], [-1.424545407295227]],\n",
              " [[2.9571640491485596], [-1.4720702171325684]],\n",
              " [[2.9853169918060303], [-1.4896022081375122]],\n",
              " [[2.9949564933776855], [-1.4960085153579712]],\n",
              " [[2.998262643814087], [-1.49837327003479]],\n",
              " [[2.9993839263916016], [-1.4992523193359375]],\n",
              " [[2.9996910095214844], [-1.4995638132095337]],\n",
              " [[2.9999308586120605], [-1.4997040033340454]],\n",
              " [[2.9999053478240967], [-1.4996923208236694]],\n",
              " [[2.999910593032837], [-1.4997613430023193]],\n",
              " [[2.99999737739563], [-1.4997721910476685]],\n",
              " [[2.999997615814209], [-1.4997442960739136]],\n",
              " [[3.0000085830688477], [-1.4997470378875732]],\n",
              " [[3.000000238418579], [-1.4997279644012451]],\n",
              " [[3.0000736713409424], [-1.4997504949569702]],\n",
              " [[3.000009298324585], [-1.4996613264083862]],\n",
              " [[2.9999613761901855], [-1.4997023344039917]],\n",
              " [[2.9999122619628906], [-1.4996706247329712]],\n",
              " [[2.9999759197235107], [-1.499794602394104]],\n",
              " [[2.9998939037323], [-1.499721884727478]],\n",
              " [[2.9998929500579834], [-1.4996836185455322]],\n",
              " [[3.0000195503234863], [-1.499790072441101]],\n",
              " [[2.9999260902404785], [-1.4996989965438843]],\n",
              " [[3.0000052452087402], [-1.4997440576553345]],\n",
              " [[2.999999523162842], [-1.4998104572296143]],\n",
              " [[3.0000274181365967], [-1.4997544288635254]],\n",
              " [[2.9999544620513916], [-1.4996800422668457]],\n",
              " [[2.99999737739563], [-1.499682903289795]],\n",
              " [[3.0000650882720947], [-1.4996893405914307]],\n",
              " [[3.0000221729278564], [-1.4997484683990479]],\n",
              " [[2.9999663829803467], [-1.4997432231903076]],\n",
              " [[3.0000178813934326], [-1.499729037284851]],\n",
              " [[2.999966859817505], [-1.4997566938400269]],\n",
              " [[2.999990701675415], [-1.4997272491455078]],\n",
              " [[2.999985694885254], [-1.4997749328613281]],\n",
              " [[2.999941110610962], [-1.4997690916061401]],\n",
              " [[2.9998607635498047], [-1.4997447729110718]],\n",
              " [[2.9999136924743652], [-1.4997608661651611]],\n",
              " [[2.999964714050293], [-1.499711513519287]],\n",
              " [[2.99997615814209], [-1.4997062683105469]],\n",
              " [[2.9999279975891113], [-1.4997349977493286]],\n",
              " [[2.999938726425171], [-1.4998157024383545]],\n",
              " [[2.999927282333374], [-1.4997745752334595]],\n",
              " [[3.0000557899475098], [-1.4997897148132324]],\n",
              " [[3.0000545978546143], [-1.4997578859329224]],\n",
              " [[2.9999818801879883], [-1.499744176864624]],\n",
              " [[2.999995231628418], [-1.4997570514678955]],\n",
              " [[3.0000176429748535], [-1.4997577667236328]]]"
            ]
          },
          "metadata": {},
          "execution_count": 19
        }
      ]
    },
    {
      "cell_type": "code",
      "source": [
        "loss_list"
      ],
      "metadata": {
        "colab": {
          "base_uri": "https://localhost:8080/"
        },
        "id": "-gM1bPltoVOK",
        "outputId": "7d507a7c-c1d0-4406-e98f-b348bca0ad2e"
      },
      "execution_count": 20,
      "outputs": [
        {
          "output_type": "execute_result",
          "data": {
            "text/plain": [
              "[15.893275260925293,\n",
              " 15.232109069824219,\n",
              " 15.14199161529541,\n",
              " 15.127923965454102,\n",
              " 15.1251802444458,\n",
              " 15.124505996704102,\n",
              " 15.124309539794922,\n",
              " 15.124248504638672,\n",
              " 15.124232292175293,\n",
              " 15.12421989440918,\n",
              " 15.124221801757812,\n",
              " 15.124223709106445,\n",
              " 15.124216079711914,\n",
              " 15.124216079711914,\n",
              " 15.124216079711914,\n",
              " 15.124215126037598,\n",
              " 15.124211311340332,\n",
              " 15.124213218688965,\n",
              " 15.124217987060547,\n",
              " 15.12421989440918,\n",
              " 15.124218940734863,\n",
              " 15.124222755432129,\n",
              " 15.124221801757812,\n",
              " 15.124216079711914,\n",
              " 15.12421989440918,\n",
              " 15.124215126037598,\n",
              " 15.12421703338623,\n",
              " 15.124214172363281,\n",
              " 15.124217987060547,\n",
              " 15.124215126037598,\n",
              " 15.124210357666016,\n",
              " 15.124215126037598,\n",
              " 15.124218940734863,\n",
              " 15.124215126037598,\n",
              " 15.124217987060547,\n",
              " 15.124215126037598,\n",
              " 15.12421703338623,\n",
              " 15.124220848083496,\n",
              " 15.124224662780762,\n",
              " 15.124222755432129,\n",
              " 15.124218940734863,\n",
              " 15.12421703338623,\n",
              " 15.124220848083496,\n",
              " 15.124221801757812,\n",
              " 15.124221801757812,\n",
              " 15.124213218688965,\n",
              " 15.124212265014648,\n",
              " 15.12421703338623,\n",
              " 15.12421703338623,\n",
              " 15.124215126037598]"
            ]
          },
          "metadata": {},
          "execution_count": 20
        }
      ]
    },
    {
      "cell_type": "code",
      "execution_count": 21,
      "metadata": {
        "id": "u_WSAjwNwMEY",
        "colab": {
          "base_uri": "https://localhost:8080/"
        },
        "outputId": "7787bb98-ea68-4fbf-96e4-ad0d66b2c38c"
      },
      "outputs": [
        {
          "output_type": "stream",
          "name": "stdout",
          "text": [
            "error in estimating w: tensor([-1.7643e-05, -2.4223e-04], grad_fn=<SubBackward0>)\n",
            "error in estimating b: tensor([0.0001], grad_fn=<RsubBackward1>)\n"
          ]
        }
      ],
      "source": [
        "print(f'error in estimating w: {true_w - w.reshape(true_w.shape)}')\n",
        "print(f'error in estimating b: {true_b - b}')"
      ]
    },
    {
      "cell_type": "markdown",
      "metadata": {
        "id": "tDSteRKdREC9"
      },
      "source": [
        "+cost graph 그리기 (x축 w, y축 loss)"
      ]
    },
    {
      "cell_type": "code",
      "source": [
        "import matplotlib.pyplot as plt\n",
        "import numpy as np"
      ],
      "metadata": {
        "id": "SKAWkHiirEwI"
      },
      "execution_count": 22,
      "outputs": []
    },
    {
      "cell_type": "code",
      "source": [
        "w1_array = np.array([i[0][0] for i in w_list])"
      ],
      "metadata": {
        "id": "JNut2xF2FKT-"
      },
      "execution_count": 23,
      "outputs": []
    },
    {
      "cell_type": "code",
      "source": [
        "w2_array = np.array([i[1][0] for i in w_list])"
      ],
      "metadata": {
        "id": "faE3dtPXFljq"
      },
      "execution_count": 24,
      "outputs": []
    },
    {
      "cell_type": "code",
      "source": [
        "plt.figure(figsize=(12,8))\n",
        "\n",
        "plt.subplot(2,1,1)\n",
        "plt.plot(w1_array,loss_list)\n",
        "plt.ylabel(\"Loss\")\n",
        "plt.xlabel(\"w1\")\n",
        "\n",
        "plt.subplot(2,1,2)\n",
        "plt.plot(w2_array,loss_list)\n",
        "plt.ylabel(\"Loss\")\n",
        "plt.xlabel(\"w2\")\n",
        "\n",
        "plt.show()"
      ],
      "metadata": {
        "colab": {
          "base_uri": "https://localhost:8080/",
          "height": 500
        },
        "id": "xEdAjHzQEhuk",
        "outputId": "b6cbe109-637d-421e-ba66-5f6c06be8551"
      },
      "execution_count": 25,
      "outputs": [
        {
          "output_type": "display_data",
          "data": {
            "text/plain": [
              "<Figure size 864x576 with 2 Axes>"
            ],
            "image/png": "[encoded data removed]"
          },
          "metadata": {
            "needs_background": "light"
          }
        }
      ]
    },
    {
      "cell_type": "markdown",
      "metadata": {
        "id": "WSKKAGx4wNd4"
      },
      "source": [
        "concise implementation of linear regression \n",
        "- api 사용해보기"
      ]
    },
    {
      "cell_type": "code",
      "execution_count": 26,
      "metadata": {
        "id": "CWiOlkzKxEkf"
      },
      "outputs": [],
      "source": [
        "import numpy as np\n",
        "import torch\n",
        "from torch.utils import data\n",
        "from d2l import torch as d2l\n",
        "\n",
        "\n",
        "true_w = torch.tensor([3, -1.5])\n",
        "true_b = 5.5\n",
        "features, labels = d2l.synthetic_data(true_w, true_b, 2000)"
      ]
    },
    {
      "cell_type": "code",
      "execution_count": 27,
      "metadata": {
        "id": "F5tRyjkmxGUe"
      },
      "outputs": [],
      "source": [
        "def load_array(data_arrays, batch_size, is_train=True): \n",
        "    \"\"\"Construct a PyTorch data iterator.\"\"\"\n",
        "    dataset = data.TensorDataset(*data_arrays)\n",
        "    return data.DataLoader(dataset, batch_size, shuffle=is_train)\n",
        "\n",
        "batch_size = 20\n",
        "data_iter = load_array((features, labels), batch_size)"
      ]
    },
    {
      "cell_type": "code",
      "execution_count": 28,
      "metadata": {
        "id": "NBaqnZG4xHgP",
        "colab": {
          "base_uri": "https://localhost:8080/"
        },
        "outputId": "5a511d00-2c4b-4ba7-f1c0-362f05c3ec1e"
      },
      "outputs": [
        {
          "output_type": "execute_result",
          "data": {
            "text/plain": [
              "[tensor([[-0.4779,  1.0665],\n",
              "         [ 0.1692, -1.6408],\n",
              "         [ 0.3332,  1.0185],\n",
              "         [-1.0592,  1.0012],\n",
              "         [ 0.0942,  0.4977],\n",
              "         [ 0.6279, -0.9459],\n",
              "         [ 0.9635, -1.5066],\n",
              "         [-0.0135,  0.0862],\n",
              "         [ 0.5307,  1.1346],\n",
              "         [ 0.7485,  0.3992],\n",
              "         [ 1.5521, -0.2228],\n",
              "         [-0.3450, -0.5345],\n",
              "         [ 0.8566,  0.0768],\n",
              "         [-1.7271,  0.8936],\n",
              "         [-0.3986,  1.3546],\n",
              "         [-0.6037, -0.1265],\n",
              "         [ 0.6958, -0.8207],\n",
              "         [ 1.2514,  1.0200],\n",
              "         [-0.5549,  1.1484],\n",
              "         [-0.2204,  0.9428]]), tensor([[ 2.4809],\n",
              "         [ 8.4501],\n",
              "         [ 4.9710],\n",
              "         [ 0.8252],\n",
              "         [ 5.0456],\n",
              "         [ 8.8046],\n",
              "         [10.6440],\n",
              "         [ 5.3315],\n",
              "         [ 5.3946],\n",
              "         [ 7.1356],\n",
              "         [10.4912],\n",
              "         [ 5.2783],\n",
              "         [ 7.9425],\n",
              "         [-1.0051],\n",
              "         [ 2.2676],\n",
              "         [ 3.8708],\n",
              "         [ 8.8344],\n",
              "         [ 7.7103],\n",
              "         [ 2.1100],\n",
              "         [ 3.4204]])]"
            ]
          },
          "metadata": {},
          "execution_count": 28
        }
      ],
      "source": [
        "next(iter(data_iter))"
      ]
    },
    {
      "cell_type": "code",
      "execution_count": 29,
      "metadata": {
        "id": "J_83KBFOxJFB"
      },
      "outputs": [],
      "source": [
        "from torch import nn\n",
        "#선형회귀모델 nn.Linear(size of each input sample, size of each output sample)\n",
        "net = nn.Sequential(nn.Linear(2,1))"
      ]
    },
    {
      "cell_type": "code",
      "execution_count": 30,
      "metadata": {
        "id": "AdJQQgFaxL2H",
        "colab": {
          "base_uri": "https://localhost:8080/"
        },
        "outputId": "132a7407-a199-4e59-ca0a-83ab6facd7fa"
      },
      "outputs": [
        {
          "output_type": "execute_result",
          "data": {
            "text/plain": [
              "tensor([0.])"
            ]
          },
          "metadata": {},
          "execution_count": 30
        }
      ],
      "source": [
        "net[0].weight.data.normal_(0, 0.01)\n",
        "net[0].bias.data.fill_(0) #w1,b 초기값 설정"
      ]
    },
    {
      "cell_type": "code",
      "execution_count": 31,
      "metadata": {
        "id": "vSCAFyfAxNAn"
      },
      "outputs": [],
      "source": [
        "loss = nn.MSELoss()"
      ]
    },
    {
      "cell_type": "code",
      "execution_count": 32,
      "metadata": {
        "id": "_yee2wG1xOYW"
      },
      "outputs": [],
      "source": [
        "trainer = torch.optim.SGD(net.parameters(),lr=0.01)"
      ]
    },
    {
      "cell_type": "code",
      "execution_count": 33,
      "metadata": {
        "id": "5fAmW5bUxP9Z",
        "colab": {
          "base_uri": "https://localhost:8080/"
        },
        "outputId": "5d1cf71e-7ff1-4105-9d16-fea1d034ecd4"
      },
      "outputs": [
        {
          "output_type": "stream",
          "name": "stdout",
          "text": [
            "epoch 1, loss 0.778801\n",
            "epoch 2, loss 0.015350\n",
            "epoch 3, loss 0.000401\n"
          ]
        }
      ],
      "source": [
        "num_epochs = 3\n",
        "for epoch in range(num_epochs):\n",
        "    for X, y in data_iter:\n",
        "        l = loss(net(X),y)\n",
        "        trainer.zero_grad() #grad 초기화\n",
        "        #역전파: grad 계산\n",
        "        l.backward()\n",
        "        #가중치 업데이트\n",
        "        trainer.step()\n",
        "    l = loss(net(features), labels)\n",
        "    print(f'epoch {epoch + 1}, loss {l:f}')"
      ]
    },
    {
      "cell_type": "code",
      "execution_count": 34,
      "metadata": {
        "id": "JT8VD6GhxR5m",
        "colab": {
          "base_uri": "https://localhost:8080/"
        },
        "outputId": "027062cf-1b7a-471d-c15e-4a0952bc92d4"
      },
      "outputs": [
        {
          "output_type": "stream",
          "name": "stdout",
          "text": [
            "error in estimating w: tensor([ 0.0114, -0.0036])\n",
            "error in estimating b: tensor([0.0136])\n"
          ]
        }
      ],
      "source": [
        "w = net[0].weight.data #역전파 이후 update된 가중치\n",
        "print('error in estimating w:', true_w - w.reshape(true_w.shape))\n",
        "b = net[0].bias.data \n",
        "print('error in estimating b:', true_b - b)"
      ]
    }
  ],
  "metadata": {
    "colab": {
      "collapsed_sections": [],
      "name": "15기 장수혁_1주차_과제.ipynb",
      "provenance": []
    },
    "kernelspec": {
      "display_name": "Python 3 (ipykernel)",
      "language": "python",
      "name": "python3"
    },
    "language_info": {
      "codemirror_mode": {
        "name": "ipython",
        "version": 3
      },
      "file_extension": ".py",
      "mimetype": "text/x-python",
      "name": "python",
      "nbconvert_exporter": "python",
      "pygments_lexer": "ipython3",
      "version": "3.9.12"
    }
  },
  "nbformat": 4,
  "nbformat_minor": 0
}