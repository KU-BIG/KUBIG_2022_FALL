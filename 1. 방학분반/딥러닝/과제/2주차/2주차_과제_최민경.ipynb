{
  "nbformat": 4,
  "nbformat_minor": 0,
  "metadata": {
    "colab": {
      "name": "2주차_과제_최민경.ipynb",
      "provenance": []
    },
    "kernelspec": {
      "name": "python3",
      "display_name": "Python 3"
    },
    "language_info": {
      "name": "python"
    },
    "accelerator": "GPU",
    "gpuClass": "standard",
    "widgets": {
      "application/vnd.jupyter.widget-state+json": {
        "e3f38f603eb6474ea521c1fc97c56eef": {
          "model_module": "@jupyter-widgets/controls",
          "model_name": "HBoxModel",
          "model_module_version": "1.5.0",
          "state": {
            "_dom_classes": [],
            "_model_module": "@jupyter-widgets/controls",
            "_model_module_version": "1.5.0",
            "_model_name": "HBoxModel",
            "_view_count": null,
            "_view_module": "@jupyter-widgets/controls",
            "_view_module_version": "1.5.0",
            "_view_name": "HBoxView",
            "box_style": "",
            "children": [
              "IPY_MODEL_4ad9cb078e074283a78ebac35e52e7a1",
              "IPY_MODEL_e5f28268d33948f3ad3c83d8506ca393",
              "IPY_MODEL_7b83c83b916e48fa811282f6117b6167"
            ],
            "layout": "IPY_MODEL_bb6ba933cd6b4297866c176444fa628a"
          }
        },
        "4ad9cb078e074283a78ebac35e52e7a1": {
          "model_module": "@jupyter-widgets/controls",
          "model_name": "HTMLModel",
          "model_module_version": "1.5.0",
          "state": {
            "_dom_classes": [],
            "_model_module": "@jupyter-widgets/controls",
            "_model_module_version": "1.5.0",
            "_model_name": "HTMLModel",
            "_view_count": null,
            "_view_module": "@jupyter-widgets/controls",
            "_view_module_version": "1.5.0",
            "_view_name": "HTMLView",
            "description": "",
            "description_tooltip": null,
            "layout": "IPY_MODEL_8b2077ab99d548fb84815545c369cbd4",
            "placeholder": "​",
            "style": "IPY_MODEL_b8345c90c24d409788974321645926a4",
            "value": "100%"
          }
        },
        "e5f28268d33948f3ad3c83d8506ca393": {
          "model_module": "@jupyter-widgets/controls",
          "model_name": "FloatProgressModel",
          "model_module_version": "1.5.0",
          "state": {
            "_dom_classes": [],
            "_model_module": "@jupyter-widgets/controls",
            "_model_module_version": "1.5.0",
            "_model_name": "FloatProgressModel",
            "_view_count": null,
            "_view_module": "@jupyter-widgets/controls",
            "_view_module_version": "1.5.0",
            "_view_name": "ProgressView",
            "bar_style": "success",
            "description": "",
            "description_tooltip": null,
            "layout": "IPY_MODEL_2ba23f2cb53a4c8e9166807e1c76361c",
            "max": 6579383,
            "min": 0,
            "orientation": "horizontal",
            "style": "IPY_MODEL_ecfad4cdd14546cdafbffeee3e1b6e42",
            "value": 6579383
          }
        },
        "7b83c83b916e48fa811282f6117b6167": {
          "model_module": "@jupyter-widgets/controls",
          "model_name": "HTMLModel",
          "model_module_version": "1.5.0",
          "state": {
            "_dom_classes": [],
            "_model_module": "@jupyter-widgets/controls",
            "_model_module_version": "1.5.0",
            "_model_name": "HTMLModel",
            "_view_count": null,
            "_view_module": "@jupyter-widgets/controls",
            "_view_module_version": "1.5.0",
            "_view_name": "HTMLView",
            "description": "",
            "description_tooltip": null,
            "layout": "IPY_MODEL_cf733f5c8d104f439a0d6c1bb9d96601",
            "placeholder": "​",
            "style": "IPY_MODEL_5a49f2ba3f49409d95c99dd08abc09f3",
            "value": " 6579383/6579383 [00:00&lt;00:00, 17778273.06it/s]"
          }
        },
        "bb6ba933cd6b4297866c176444fa628a": {
          "model_module": "@jupyter-widgets/base",
          "model_name": "LayoutModel",
          "model_module_version": "1.2.0",
          "state": {
            "_model_module": "@jupyter-widgets/base",
            "_model_module_version": "1.2.0",
            "_model_name": "LayoutModel",
            "_view_count": null,
            "_view_module": "@jupyter-widgets/base",
            "_view_module_version": "1.2.0",
            "_view_name": "LayoutView",
            "align_content": null,
            "align_items": null,
            "align_self": null,
            "border": null,
            "bottom": null,
            "display": null,
            "flex": null,
            "flex_flow": null,
            "grid_area": null,
            "grid_auto_columns": null,
            "grid_auto_flow": null,
            "grid_auto_rows": null,
            "grid_column": null,
            "grid_gap": null,
            "grid_row": null,
            "grid_template_areas": null,
            "grid_template_columns": null,
            "grid_template_rows": null,
            "height": null,
            "justify_content": null,
            "justify_items": null,
            "left": null,
            "margin": null,
            "max_height": null,
            "max_width": null,
            "min_height": null,
            "min_width": null,
            "object_fit": null,
            "object_position": null,
            "order": null,
            "overflow": null,
            "overflow_x": null,
            "overflow_y": null,
            "padding": null,
            "right": null,
            "top": null,
            "visibility": null,
            "width": null
          }
        },
        "8b2077ab99d548fb84815545c369cbd4": {
          "model_module": "@jupyter-widgets/base",
          "model_name": "LayoutModel",
          "model_module_version": "1.2.0",
          "state": {
            "_model_module": "@jupyter-widgets/base",
            "_model_module_version": "1.2.0",
            "_model_name": "LayoutModel",
            "_view_count": null,
            "_view_module": "@jupyter-widgets/base",
            "_view_module_version": "1.2.0",
            "_view_name": "LayoutView",
            "align_content": null,
            "align_items": null,
            "align_self": null,
            "border": null,
            "bottom": null,
            "display": null,
            "flex": null,
            "flex_flow": null,
            "grid_area": null,
            "grid_auto_columns": null,
            "grid_auto_flow": null,
            "grid_auto_rows": null,
            "grid_column": null,
            "grid_gap": null,
            "grid_row": null,
            "grid_template_areas": null,
            "grid_template_columns": null,
            "grid_template_rows": null,
            "height": null,
            "justify_content": null,
            "justify_items": null,
            "left": null,
            "margin": null,
            "max_height": null,
            "max_width": null,
            "min_height": null,
            "min_width": null,
            "object_fit": null,
            "object_position": null,
            "order": null,
            "overflow": null,
            "overflow_x": null,
            "overflow_y": null,
            "padding": null,
            "right": null,
            "top": null,
            "visibility": null,
            "width": null
          }
        },
        "b8345c90c24d409788974321645926a4": {
          "model_module": "@jupyter-widgets/controls",
          "model_name": "DescriptionStyleModel",
          "model_module_version": "1.5.0",
          "state": {
            "_model_module": "@jupyter-widgets/controls",
            "_model_module_version": "1.5.0",
            "_model_name": "DescriptionStyleModel",
            "_view_count": null,
            "_view_module": "@jupyter-widgets/base",
            "_view_module_version": "1.2.0",
            "_view_name": "StyleView",
            "description_width": ""
          }
        },
        "2ba23f2cb53a4c8e9166807e1c76361c": {
          "model_module": "@jupyter-widgets/base",
          "model_name": "LayoutModel",
          "model_module_version": "1.2.0",
          "state": {
            "_model_module": "@jupyter-widgets/base",
            "_model_module_version": "1.2.0",
            "_model_name": "LayoutModel",
            "_view_count": null,
            "_view_module": "@jupyter-widgets/base",
            "_view_module_version": "1.2.0",
            "_view_name": "LayoutView",
            "align_content": null,
            "align_items": null,
            "align_self": null,
            "border": null,
            "bottom": null,
            "display": null,
            "flex": null,
            "flex_flow": null,
            "grid_area": null,
            "grid_auto_columns": null,
            "grid_auto_flow": null,
            "grid_auto_rows": null,
            "grid_column": null,
            "grid_gap": null,
            "grid_row": null,
            "grid_template_areas": null,
            "grid_template_columns": null,
            "grid_template_rows": null,
            "height": null,
            "justify_content": null,
            "justify_items": null,
            "left": null,
            "margin": null,
            "max_height": null,
            "max_width": null,
            "min_height": null,
            "min_width": null,
            "object_fit": null,
            "object_position": null,
            "order": null,
            "overflow": null,
            "overflow_x": null,
            "overflow_y": null,
            "padding": null,
            "right": null,
            "top": null,
            "visibility": null,
            "width": null
          }
        },
        "ecfad4cdd14546cdafbffeee3e1b6e42": {
          "model_module": "@jupyter-widgets/controls",
          "model_name": "ProgressStyleModel",
          "model_module_version": "1.5.0",
          "state": {
            "_model_module": "@jupyter-widgets/controls",
            "_model_module_version": "1.5.0",
            "_model_name": "ProgressStyleModel",
            "_view_count": null,
            "_view_module": "@jupyter-widgets/base",
            "_view_module_version": "1.2.0",
            "_view_name": "StyleView",
            "bar_color": null,
            "description_width": ""
          }
        },
        "cf733f5c8d104f439a0d6c1bb9d96601": {
          "model_module": "@jupyter-widgets/base",
          "model_name": "LayoutModel",
          "model_module_version": "1.2.0",
          "state": {
            "_model_module": "@jupyter-widgets/base",
            "_model_module_version": "1.2.0",
            "_model_name": "LayoutModel",
            "_view_count": null,
            "_view_module": "@jupyter-widgets/base",
            "_view_module_version": "1.2.0",
            "_view_name": "LayoutView",
            "align_content": null,
            "align_items": null,
            "align_self": null,
            "border": null,
            "bottom": null,
            "display": null,
            "flex": null,
            "flex_flow": null,
            "grid_area": null,
            "grid_auto_columns": null,
            "grid_auto_flow": null,
            "grid_auto_rows": null,
            "grid_column": null,
            "grid_gap": null,
            "grid_row": null,
            "grid_template_areas": null,
            "grid_template_columns": null,
            "grid_template_rows": null,
            "height": null,
            "justify_content": null,
            "justify_items": null,
            "left": null,
            "margin": null,
            "max_height": null,
            "max_width": null,
            "min_height": null,
            "min_width": null,
            "object_fit": null,
            "object_position": null,
            "order": null,
            "overflow": null,
            "overflow_x": null,
            "overflow_y": null,
            "padding": null,
            "right": null,
            "top": null,
            "visibility": null,
            "width": null
          }
        },
        "5a49f2ba3f49409d95c99dd08abc09f3": {
          "model_module": "@jupyter-widgets/controls",
          "model_name": "DescriptionStyleModel",
          "model_module_version": "1.5.0",
          "state": {
            "_model_module": "@jupyter-widgets/controls",
            "_model_module_version": "1.5.0",
            "_model_name": "DescriptionStyleModel",
            "_view_count": null,
            "_view_module": "@jupyter-widgets/base",
            "_view_module_version": "1.2.0",
            "_view_name": "StyleView",
            "description_width": ""
          }
        },
        "61cfb722367b468fac5470fa5200e941": {
          "model_module": "@jupyter-widgets/controls",
          "model_name": "HBoxModel",
          "model_module_version": "1.5.0",
          "state": {
            "_dom_classes": [],
            "_model_module": "@jupyter-widgets/controls",
            "_model_module_version": "1.5.0",
            "_model_name": "HBoxModel",
            "_view_count": null,
            "_view_module": "@jupyter-widgets/controls",
            "_view_module_version": "1.5.0",
            "_view_name": "HBoxView",
            "box_style": "",
            "children": [
              "IPY_MODEL_e34408d0f4e74c74a823b33be1a9e390",
              "IPY_MODEL_6978aaef04fe411b85cb53eb72ecbf37",
              "IPY_MODEL_3c7627066e414d7394a72ac2837e0939"
            ],
            "layout": "IPY_MODEL_6211fa88982544b9a32200d38db38771"
          }
        },
        "e34408d0f4e74c74a823b33be1a9e390": {
          "model_module": "@jupyter-widgets/controls",
          "model_name": "HTMLModel",
          "model_module_version": "1.5.0",
          "state": {
            "_dom_classes": [],
            "_model_module": "@jupyter-widgets/controls",
            "_model_module_version": "1.5.0",
            "_model_name": "HTMLModel",
            "_view_count": null,
            "_view_module": "@jupyter-widgets/controls",
            "_view_module_version": "1.5.0",
            "_view_name": "HTMLView",
            "description": "",
            "description_tooltip": null,
            "layout": "IPY_MODEL_a0ff2ad75d7344da853b1990d3f0b4b1",
            "placeholder": "​",
            "style": "IPY_MODEL_e3da566158d54c0abc082c457bc0403d",
            "value": "100%"
          }
        },
        "6978aaef04fe411b85cb53eb72ecbf37": {
          "model_module": "@jupyter-widgets/controls",
          "model_name": "FloatProgressModel",
          "model_module_version": "1.5.0",
          "state": {
            "_dom_classes": [],
            "_model_module": "@jupyter-widgets/controls",
            "_model_module_version": "1.5.0",
            "_model_name": "FloatProgressModel",
            "_view_count": null,
            "_view_module": "@jupyter-widgets/controls",
            "_view_module_version": "1.5.0",
            "_view_name": "ProgressView",
            "bar_style": "success",
            "description": "",
            "description_tooltip": null,
            "layout": "IPY_MODEL_1f3871a54b1f42afa782f40fd276bbbd",
            "max": 1831726,
            "min": 0,
            "orientation": "horizontal",
            "style": "IPY_MODEL_826fd2ae7af04845bb22338739db3199",
            "value": 1831726
          }
        },
        "3c7627066e414d7394a72ac2837e0939": {
          "model_module": "@jupyter-widgets/controls",
          "model_name": "HTMLModel",
          "model_module_version": "1.5.0",
          "state": {
            "_dom_classes": [],
            "_model_module": "@jupyter-widgets/controls",
            "_model_module_version": "1.5.0",
            "_model_name": "HTMLModel",
            "_view_count": null,
            "_view_module": "@jupyter-widgets/controls",
            "_view_module_version": "1.5.0",
            "_view_name": "HTMLView",
            "description": "",
            "description_tooltip": null,
            "layout": "IPY_MODEL_f1d7dea40c80467690fffb8bde652718",
            "placeholder": "​",
            "style": "IPY_MODEL_d4c049fcd9c04fde87368a0501879537",
            "value": " 1831726/1831726 [00:00&lt;00:00, 4016201.14it/s]"
          }
        },
        "6211fa88982544b9a32200d38db38771": {
          "model_module": "@jupyter-widgets/base",
          "model_name": "LayoutModel",
          "model_module_version": "1.2.0",
          "state": {
            "_model_module": "@jupyter-widgets/base",
            "_model_module_version": "1.2.0",
            "_model_name": "LayoutModel",
            "_view_count": null,
            "_view_module": "@jupyter-widgets/base",
            "_view_module_version": "1.2.0",
            "_view_name": "LayoutView",
            "align_content": null,
            "align_items": null,
            "align_self": null,
            "border": null,
            "bottom": null,
            "display": null,
            "flex": null,
            "flex_flow": null,
            "grid_area": null,
            "grid_auto_columns": null,
            "grid_auto_flow": null,
            "grid_auto_rows": null,
            "grid_column": null,
            "grid_gap": null,
            "grid_row": null,
            "grid_template_areas": null,
            "grid_template_columns": null,
            "grid_template_rows": null,
            "height": null,
            "justify_content": null,
            "justify_items": null,
            "left": null,
            "margin": null,
            "max_height": null,
            "max_width": null,
            "min_height": null,
            "min_width": null,
            "object_fit": null,
            "object_position": null,
            "order": null,
            "overflow": null,
            "overflow_x": null,
            "overflow_y": null,
            "padding": null,
            "right": null,
            "top": null,
            "visibility": null,
            "width": null
          }
        },
        "a0ff2ad75d7344da853b1990d3f0b4b1": {
          "model_module": "@jupyter-widgets/base",
          "model_name": "LayoutModel",
          "model_module_version": "1.2.0",
          "state": {
            "_model_module": "@jupyter-widgets/base",
            "_model_module_version": "1.2.0",
            "_model_name": "LayoutModel",
            "_view_count": null,
            "_view_module": "@jupyter-widgets/base",
            "_view_module_version": "1.2.0",
            "_view_name": "LayoutView",
            "align_content": null,
            "align_items": null,
            "align_self": null,
            "border": null,
            "bottom": null,
            "display": null,
            "flex": null,
            "flex_flow": null,
            "grid_area": null,
            "grid_auto_columns": null,
            "grid_auto_flow": null,
            "grid_auto_rows": null,
            "grid_column": null,
            "grid_gap": null,
            "grid_row": null,
            "grid_template_areas": null,
            "grid_template_columns": null,
            "grid_template_rows": null,
            "height": null,
            "justify_content": null,
            "justify_items": null,
            "left": null,
            "margin": null,
            "max_height": null,
            "max_width": null,
            "min_height": null,
            "min_width": null,
            "object_fit": null,
            "object_position": null,
            "order": null,
            "overflow": null,
            "overflow_x": null,
            "overflow_y": null,
            "padding": null,
            "right": null,
            "top": null,
            "visibility": null,
            "width": null
          }
        },
        "e3da566158d54c0abc082c457bc0403d": {
          "model_module": "@jupyter-widgets/controls",
          "model_name": "DescriptionStyleModel",
          "model_module_version": "1.5.0",
          "state": {
            "_model_module": "@jupyter-widgets/controls",
            "_model_module_version": "1.5.0",
            "_model_name": "DescriptionStyleModel",
            "_view_count": null,
            "_view_module": "@jupyter-widgets/base",
            "_view_module_version": "1.2.0",
            "_view_name": "StyleView",
            "description_width": ""
          }
        },
        "1f3871a54b1f42afa782f40fd276bbbd": {
          "model_module": "@jupyter-widgets/base",
          "model_name": "LayoutModel",
          "model_module_version": "1.2.0",
          "state": {
            "_model_module": "@jupyter-widgets/base",
            "_model_module_version": "1.2.0",
            "_model_name": "LayoutModel",
            "_view_count": null,
            "_view_module": "@jupyter-widgets/base",
            "_view_module_version": "1.2.0",
            "_view_name": "LayoutView",
            "align_content": null,
            "align_items": null,
            "align_self": null,
            "border": null,
            "bottom": null,
            "display": null,
            "flex": null,
            "flex_flow": null,
            "grid_area": null,
            "grid_auto_columns": null,
            "grid_auto_flow": null,
            "grid_auto_rows": null,
            "grid_column": null,
            "grid_gap": null,
            "grid_row": null,
            "grid_template_areas": null,
            "grid_template_columns": null,
            "grid_template_rows": null,
            "height": null,
            "justify_content": null,
            "justify_items": null,
            "left": null,
            "margin": null,
            "max_height": null,
            "max_width": null,
            "min_height": null,
            "min_width": null,
            "object_fit": null,
            "object_position": null,
            "order": null,
            "overflow": null,
            "overflow_x": null,
            "overflow_y": null,
            "padding": null,
            "right": null,
            "top": null,
            "visibility": null,
            "width": null
          }
        },
        "826fd2ae7af04845bb22338739db3199": {
          "model_module": "@jupyter-widgets/controls",
          "model_name": "ProgressStyleModel",
          "model_module_version": "1.5.0",
          "state": {
            "_model_module": "@jupyter-widgets/controls",
            "_model_module_version": "1.5.0",
            "_model_name": "ProgressStyleModel",
            "_view_count": null,
            "_view_module": "@jupyter-widgets/base",
            "_view_module_version": "1.2.0",
            "_view_name": "StyleView",
            "bar_color": null,
            "description_width": ""
          }
        },
        "f1d7dea40c80467690fffb8bde652718": {
          "model_module": "@jupyter-widgets/base",
          "model_name": "LayoutModel",
          "model_module_version": "1.2.0",
          "state": {
            "_model_module": "@jupyter-widgets/base",
            "_model_module_version": "1.2.0",
            "_model_name": "LayoutModel",
            "_view_count": null,
            "_view_module": "@jupyter-widgets/base",
            "_view_module_version": "1.2.0",
            "_view_name": "LayoutView",
            "align_content": null,
            "align_items": null,
            "align_self": null,
            "border": null,
            "bottom": null,
            "display": null,
            "flex": null,
            "flex_flow": null,
            "grid_area": null,
            "grid_auto_columns": null,
            "grid_auto_flow": null,
            "grid_auto_rows": null,
            "grid_column": null,
            "grid_gap": null,
            "grid_row": null,
            "grid_template_areas": null,
            "grid_template_columns": null,
            "grid_template_rows": null,
            "height": null,
            "justify_content": null,
            "justify_items": null,
            "left": null,
            "margin": null,
            "max_height": null,
            "max_width": null,
            "min_height": null,
            "min_width": null,
            "object_fit": null,
            "object_position": null,
            "order": null,
            "overflow": null,
            "overflow_x": null,
            "overflow_y": null,
            "padding": null,
            "right": null,
            "top": null,
            "visibility": null,
            "width": null
          }
        },
        "d4c049fcd9c04fde87368a0501879537": {
          "model_module": "@jupyter-widgets/controls",
          "model_name": "DescriptionStyleModel",
          "model_module_version": "1.5.0",
          "state": {
            "_model_module": "@jupyter-widgets/controls",
            "_model_module_version": "1.5.0",
            "_model_name": "DescriptionStyleModel",
            "_view_count": null,
            "_view_module": "@jupyter-widgets/base",
            "_view_module_version": "1.2.0",
            "_view_name": "StyleView",
            "description_width": ""
          }
        }
      }
    }
  },
  "cells": [
    {
      "cell_type": "code",
      "execution_count": null,
      "metadata": {
        "id": "Mh1p5sIlTY8H"
      },
      "outputs": [],
      "source": [
        "from IPython import display"
      ]
    },
    {
      "cell_type": "code",
      "source": [
        "!pip install d2l"
      ],
      "metadata": {
        "colab": {
          "base_uri": "https://localhost:8080/",
          "height": 1000
        },
        "id": "MOTEQGVwTqsN",
        "outputId": "7467ff0a-d013-43e0-e1f7-b90c209b0412"
      },
      "execution_count": null,
      "outputs": [
        {
          "output_type": "stream",
          "name": "stdout",
          "text": [
            "Looking in indexes: https://pypi.org/simple, https://us-python.pkg.dev/colab-wheels/public/simple/\n",
            "Collecting d2l\n",
            "  Downloading d2l-0.17.5-py3-none-any.whl (82 kB)\n",
            "\u001b[K     |████████████████████████████████| 82 kB 289 kB/s \n",
            "\u001b[?25hCollecting numpy==1.21.5\n",
            "  Downloading numpy-1.21.5-cp37-cp37m-manylinux_2_12_x86_64.manylinux2010_x86_64.whl (15.7 MB)\n",
            "\u001b[K     |████████████████████████████████| 15.7 MB 12.1 MB/s \n",
            "\u001b[?25hCollecting requests==2.25.1\n",
            "  Downloading requests-2.25.1-py2.py3-none-any.whl (61 kB)\n",
            "\u001b[K     |████████████████████████████████| 61 kB 6.9 MB/s \n",
            "\u001b[?25hCollecting pandas==1.2.4\n",
            "  Downloading pandas-1.2.4-cp37-cp37m-manylinux1_x86_64.whl (9.9 MB)\n",
            "\u001b[K     |████████████████████████████████| 9.9 MB 18.5 MB/s \n",
            "\u001b[?25hRequirement already satisfied: jupyter==1.0.0 in /usr/local/lib/python3.7/dist-packages (from d2l) (1.0.0)\n",
            "Collecting matplotlib==3.5.1\n",
            "  Downloading matplotlib-3.5.1-cp37-cp37m-manylinux_2_5_x86_64.manylinux1_x86_64.whl (11.2 MB)\n",
            "\u001b[K     |████████████████████████████████| 11.2 MB 61.4 MB/s \n",
            "\u001b[?25hRequirement already satisfied: qtconsole in /usr/local/lib/python3.7/dist-packages (from jupyter==1.0.0->d2l) (5.3.1)\n",
            "Requirement already satisfied: ipykernel in /usr/local/lib/python3.7/dist-packages (from jupyter==1.0.0->d2l) (4.10.1)\n",
            "Requirement already satisfied: ipywidgets in /usr/local/lib/python3.7/dist-packages (from jupyter==1.0.0->d2l) (7.7.1)\n",
            "Requirement already satisfied: jupyter-console in /usr/local/lib/python3.7/dist-packages (from jupyter==1.0.0->d2l) (5.2.0)\n",
            "Requirement already satisfied: notebook in /usr/local/lib/python3.7/dist-packages (from jupyter==1.0.0->d2l) (5.3.1)\n",
            "Requirement already satisfied: nbconvert in /usr/local/lib/python3.7/dist-packages (from jupyter==1.0.0->d2l) (5.6.1)\n",
            "Requirement already satisfied: kiwisolver>=1.0.1 in /usr/local/lib/python3.7/dist-packages (from matplotlib==3.5.1->d2l) (1.4.3)\n",
            "Collecting fonttools>=4.22.0\n",
            "  Downloading fonttools-4.34.4-py3-none-any.whl (944 kB)\n",
            "\u001b[K     |████████████████████████████████| 944 kB 50.8 MB/s \n",
            "\u001b[?25hRequirement already satisfied: packaging>=20.0 in /usr/local/lib/python3.7/dist-packages (from matplotlib==3.5.1->d2l) (21.3)\n",
            "Requirement already satisfied: pillow>=6.2.0 in /usr/local/lib/python3.7/dist-packages (from matplotlib==3.5.1->d2l) (7.1.2)\n",
            "Requirement already satisfied: cycler>=0.10 in /usr/local/lib/python3.7/dist-packages (from matplotlib==3.5.1->d2l) (0.11.0)\n",
            "Requirement already satisfied: pyparsing>=2.2.1 in /usr/local/lib/python3.7/dist-packages (from matplotlib==3.5.1->d2l) (3.0.9)\n",
            "Requirement already satisfied: python-dateutil>=2.7 in /usr/local/lib/python3.7/dist-packages (from matplotlib==3.5.1->d2l) (2.8.2)\n",
            "Requirement already satisfied: pytz>=2017.3 in /usr/local/lib/python3.7/dist-packages (from pandas==1.2.4->d2l) (2022.1)\n",
            "Requirement already satisfied: chardet<5,>=3.0.2 in /usr/local/lib/python3.7/dist-packages (from requests==2.25.1->d2l) (3.0.4)\n",
            "Requirement already satisfied: urllib3<1.27,>=1.21.1 in /usr/local/lib/python3.7/dist-packages (from requests==2.25.1->d2l) (1.24.3)\n",
            "Requirement already satisfied: certifi>=2017.4.17 in /usr/local/lib/python3.7/dist-packages (from requests==2.25.1->d2l) (2022.6.15)\n",
            "Requirement already satisfied: idna<3,>=2.5 in /usr/local/lib/python3.7/dist-packages (from requests==2.25.1->d2l) (2.10)\n",
            "Requirement already satisfied: typing-extensions in /usr/local/lib/python3.7/dist-packages (from kiwisolver>=1.0.1->matplotlib==3.5.1->d2l) (4.1.1)\n",
            "Requirement already satisfied: six>=1.5 in /usr/local/lib/python3.7/dist-packages (from python-dateutil>=2.7->matplotlib==3.5.1->d2l) (1.15.0)\n",
            "Requirement already satisfied: ipython>=4.0.0 in /usr/local/lib/python3.7/dist-packages (from ipykernel->jupyter==1.0.0->d2l) (5.5.0)\n",
            "Requirement already satisfied: tornado>=4.0 in /usr/local/lib/python3.7/dist-packages (from ipykernel->jupyter==1.0.0->d2l) (5.1.1)\n",
            "Requirement already satisfied: jupyter-client in /usr/local/lib/python3.7/dist-packages (from ipykernel->jupyter==1.0.0->d2l) (5.3.5)\n",
            "Requirement already satisfied: traitlets>=4.1.0 in /usr/local/lib/python3.7/dist-packages (from ipykernel->jupyter==1.0.0->d2l) (5.1.1)\n",
            "Requirement already satisfied: pickleshare in /usr/local/lib/python3.7/dist-packages (from ipython>=4.0.0->ipykernel->jupyter==1.0.0->d2l) (0.7.5)\n",
            "Requirement already satisfied: decorator in /usr/local/lib/python3.7/dist-packages (from ipython>=4.0.0->ipykernel->jupyter==1.0.0->d2l) (4.4.2)\n",
            "Requirement already satisfied: pygments in /usr/local/lib/python3.7/dist-packages (from ipython>=4.0.0->ipykernel->jupyter==1.0.0->d2l) (2.6.1)\n",
            "Requirement already satisfied: pexpect in /usr/local/lib/python3.7/dist-packages (from ipython>=4.0.0->ipykernel->jupyter==1.0.0->d2l) (4.8.0)\n",
            "Requirement already satisfied: prompt-toolkit<2.0.0,>=1.0.4 in /usr/local/lib/python3.7/dist-packages (from ipython>=4.0.0->ipykernel->jupyter==1.0.0->d2l) (1.0.18)\n",
            "Requirement already satisfied: simplegeneric>0.8 in /usr/local/lib/python3.7/dist-packages (from ipython>=4.0.0->ipykernel->jupyter==1.0.0->d2l) (0.8.1)\n",
            "Requirement already satisfied: setuptools>=18.5 in /usr/local/lib/python3.7/dist-packages (from ipython>=4.0.0->ipykernel->jupyter==1.0.0->d2l) (57.4.0)\n",
            "Requirement already satisfied: wcwidth in /usr/local/lib/python3.7/dist-packages (from prompt-toolkit<2.0.0,>=1.0.4->ipython>=4.0.0->ipykernel->jupyter==1.0.0->d2l) (0.2.5)\n",
            "Requirement already satisfied: ipython-genutils~=0.2.0 in /usr/local/lib/python3.7/dist-packages (from ipywidgets->jupyter==1.0.0->d2l) (0.2.0)\n",
            "Requirement already satisfied: jupyterlab-widgets>=1.0.0 in /usr/local/lib/python3.7/dist-packages (from ipywidgets->jupyter==1.0.0->d2l) (1.1.1)\n",
            "Requirement already satisfied: widgetsnbextension~=3.6.0 in /usr/local/lib/python3.7/dist-packages (from ipywidgets->jupyter==1.0.0->d2l) (3.6.1)\n",
            "Requirement already satisfied: jupyter-core>=4.4.0 in /usr/local/lib/python3.7/dist-packages (from notebook->jupyter==1.0.0->d2l) (4.11.1)\n",
            "Requirement already satisfied: jinja2 in /usr/local/lib/python3.7/dist-packages (from notebook->jupyter==1.0.0->d2l) (2.11.3)\n",
            "Requirement already satisfied: nbformat in /usr/local/lib/python3.7/dist-packages (from notebook->jupyter==1.0.0->d2l) (5.4.0)\n",
            "Requirement already satisfied: Send2Trash in /usr/local/lib/python3.7/dist-packages (from notebook->jupyter==1.0.0->d2l) (1.8.0)\n",
            "Requirement already satisfied: terminado>=0.8.1 in /usr/local/lib/python3.7/dist-packages (from notebook->jupyter==1.0.0->d2l) (0.13.3)\n",
            "Requirement already satisfied: pyzmq>=13 in /usr/local/lib/python3.7/dist-packages (from jupyter-client->ipykernel->jupyter==1.0.0->d2l) (23.2.0)\n",
            "Requirement already satisfied: ptyprocess in /usr/local/lib/python3.7/dist-packages (from terminado>=0.8.1->notebook->jupyter==1.0.0->d2l) (0.7.0)\n",
            "Requirement already satisfied: MarkupSafe>=0.23 in /usr/local/lib/python3.7/dist-packages (from jinja2->notebook->jupyter==1.0.0->d2l) (2.0.1)\n",
            "Requirement already satisfied: testpath in /usr/local/lib/python3.7/dist-packages (from nbconvert->jupyter==1.0.0->d2l) (0.6.0)\n",
            "Requirement already satisfied: pandocfilters>=1.4.1 in /usr/local/lib/python3.7/dist-packages (from nbconvert->jupyter==1.0.0->d2l) (1.5.0)\n",
            "Requirement already satisfied: defusedxml in /usr/local/lib/python3.7/dist-packages (from nbconvert->jupyter==1.0.0->d2l) (0.7.1)\n",
            "Requirement already satisfied: bleach in /usr/local/lib/python3.7/dist-packages (from nbconvert->jupyter==1.0.0->d2l) (5.0.1)\n",
            "Requirement already satisfied: entrypoints>=0.2.2 in /usr/local/lib/python3.7/dist-packages (from nbconvert->jupyter==1.0.0->d2l) (0.4)\n",
            "Requirement already satisfied: mistune<2,>=0.8.1 in /usr/local/lib/python3.7/dist-packages (from nbconvert->jupyter==1.0.0->d2l) (0.8.4)\n",
            "Requirement already satisfied: jsonschema>=2.6 in /usr/local/lib/python3.7/dist-packages (from nbformat->notebook->jupyter==1.0.0->d2l) (4.3.3)\n",
            "Requirement already satisfied: fastjsonschema in /usr/local/lib/python3.7/dist-packages (from nbformat->notebook->jupyter==1.0.0->d2l) (2.15.3)\n",
            "Requirement already satisfied: attrs>=17.4.0 in /usr/local/lib/python3.7/dist-packages (from jsonschema>=2.6->nbformat->notebook->jupyter==1.0.0->d2l) (21.4.0)\n",
            "Requirement already satisfied: importlib-metadata in /usr/local/lib/python3.7/dist-packages (from jsonschema>=2.6->nbformat->notebook->jupyter==1.0.0->d2l) (4.12.0)\n",
            "Requirement already satisfied: pyrsistent!=0.17.0,!=0.17.1,!=0.17.2,>=0.14.0 in /usr/local/lib/python3.7/dist-packages (from jsonschema>=2.6->nbformat->notebook->jupyter==1.0.0->d2l) (0.18.1)\n",
            "Requirement already satisfied: importlib-resources>=1.4.0 in /usr/local/lib/python3.7/dist-packages (from jsonschema>=2.6->nbformat->notebook->jupyter==1.0.0->d2l) (5.8.0)\n",
            "Requirement already satisfied: zipp>=3.1.0 in /usr/local/lib/python3.7/dist-packages (from importlib-resources>=1.4.0->jsonschema>=2.6->nbformat->notebook->jupyter==1.0.0->d2l) (3.8.0)\n",
            "Requirement already satisfied: webencodings in /usr/local/lib/python3.7/dist-packages (from bleach->nbconvert->jupyter==1.0.0->d2l) (0.5.1)\n",
            "Requirement already satisfied: qtpy>=2.0.1 in /usr/local/lib/python3.7/dist-packages (from qtconsole->jupyter==1.0.0->d2l) (2.1.0)\n",
            "Installing collected packages: numpy, fonttools, requests, pandas, matplotlib, d2l\n",
            "  Attempting uninstall: numpy\n",
            "    Found existing installation: numpy 1.21.6\n",
            "    Uninstalling numpy-1.21.6:\n",
            "      Successfully uninstalled numpy-1.21.6\n",
            "  Attempting uninstall: requests\n",
            "    Found existing installation: requests 2.23.0\n",
            "    Uninstalling requests-2.23.0:\n",
            "      Successfully uninstalled requests-2.23.0\n",
            "  Attempting uninstall: pandas\n",
            "    Found existing installation: pandas 1.3.5\n",
            "    Uninstalling pandas-1.3.5:\n",
            "      Successfully uninstalled pandas-1.3.5\n",
            "  Attempting uninstall: matplotlib\n",
            "    Found existing installation: matplotlib 3.2.2\n",
            "    Uninstalling matplotlib-3.2.2:\n",
            "      Successfully uninstalled matplotlib-3.2.2\n",
            "\u001b[31mERROR: pip's dependency resolver does not currently take into account all the packages that are installed. This behaviour is the source of the following dependency conflicts.\n",
            "google-colab 1.0.0 requires requests~=2.23.0, but you have requests 2.25.1 which is incompatible.\n",
            "datascience 0.10.6 requires folium==0.2.1, but you have folium 0.8.3 which is incompatible.\n",
            "albumentations 0.1.12 requires imgaug<0.2.7,>=0.2.5, but you have imgaug 0.2.9 which is incompatible.\u001b[0m\n",
            "Successfully installed d2l-0.17.5 fonttools-4.34.4 matplotlib-3.5.1 numpy-1.21.5 pandas-1.2.4 requests-2.25.1\n"
          ]
        },
        {
          "output_type": "display_data",
          "data": {
            "application/vnd.colab-display-data+json": {
              "pip_warning": {
                "packages": [
                  "matplotlib",
                  "mpl_toolkits",
                  "numpy"
                ]
              }
            }
          },
          "metadata": {}
        }
      ]
    },
    {
      "cell_type": "code",
      "source": [
        "!pip uninstall matplotlib\n",
        "!pip install matplotlib==3.0.0"
      ],
      "metadata": {
        "colab": {
          "base_uri": "https://localhost:8080/",
          "height": 754
        },
        "id": "sf34zrnoTvOv",
        "outputId": "cf046e5a-39fd-48de-923c-8e8bc121ea64"
      },
      "execution_count": null,
      "outputs": [
        {
          "output_type": "stream",
          "name": "stdout",
          "text": [
            "Found existing installation: matplotlib 3.5.1\n",
            "Uninstalling matplotlib-3.5.1:\n",
            "  Would remove:\n",
            "    /usr/local/lib/python3.7/dist-packages/matplotlib-3.5.1-py3.7-nspkg.pth\n",
            "    /usr/local/lib/python3.7/dist-packages/matplotlib-3.5.1.dist-info/*\n",
            "    /usr/local/lib/python3.7/dist-packages/matplotlib/*\n",
            "    /usr/local/lib/python3.7/dist-packages/mpl_toolkits/axes_grid/*\n",
            "    /usr/local/lib/python3.7/dist-packages/mpl_toolkits/axes_grid1/*\n",
            "    /usr/local/lib/python3.7/dist-packages/mpl_toolkits/axisartist/*\n",
            "    /usr/local/lib/python3.7/dist-packages/mpl_toolkits/mplot3d/*\n",
            "    /usr/local/lib/python3.7/dist-packages/mpl_toolkits/tests/*\n",
            "    /usr/local/lib/python3.7/dist-packages/pylab.py\n",
            "Proceed (y/n)? y\n",
            "  Successfully uninstalled matplotlib-3.5.1\n",
            "Looking in indexes: https://pypi.org/simple, https://us-python.pkg.dev/colab-wheels/public/simple/\n",
            "Collecting matplotlib==3.0.0\n",
            "  Downloading matplotlib-3.0.0-cp37-cp37m-manylinux1_x86_64.whl (12.8 MB)\n",
            "\u001b[K     |████████████████████████████████| 12.8 MB 20.3 MB/s \n",
            "\u001b[?25hRequirement already satisfied: python-dateutil>=2.1 in /usr/local/lib/python3.7/dist-packages (from matplotlib==3.0.0) (2.8.2)\n",
            "Requirement already satisfied: pyparsing!=2.0.4,!=2.1.2,!=2.1.6,>=2.0.1 in /usr/local/lib/python3.7/dist-packages (from matplotlib==3.0.0) (3.0.9)\n",
            "Requirement already satisfied: cycler>=0.10 in /usr/local/lib/python3.7/dist-packages (from matplotlib==3.0.0) (0.11.0)\n",
            "Requirement already satisfied: numpy>=1.10.0 in /usr/local/lib/python3.7/dist-packages (from matplotlib==3.0.0) (1.21.5)\n",
            "Requirement already satisfied: kiwisolver>=1.0.1 in /usr/local/lib/python3.7/dist-packages (from matplotlib==3.0.0) (1.4.3)\n",
            "Requirement already satisfied: typing-extensions in /usr/local/lib/python3.7/dist-packages (from kiwisolver>=1.0.1->matplotlib==3.0.0) (4.1.1)\n",
            "Requirement already satisfied: six>=1.5 in /usr/local/lib/python3.7/dist-packages (from python-dateutil>=2.1->matplotlib==3.0.0) (1.15.0)\n",
            "Installing collected packages: matplotlib\n",
            "\u001b[31mERROR: pip's dependency resolver does not currently take into account all the packages that are installed. This behaviour is the source of the following dependency conflicts.\n",
            "yellowbrick 1.4 requires matplotlib!=3.0.0,>=2.0.2, but you have matplotlib 3.0.0 which is incompatible.\n",
            "scikit-image 0.18.3 requires matplotlib!=3.0.0,>=2.0.0, but you have matplotlib 3.0.0 which is incompatible.\n",
            "plotnine 0.6.0 requires matplotlib>=3.1.1, but you have matplotlib 3.0.0 which is incompatible.\n",
            "mizani 0.6.0 requires matplotlib>=3.1.1, but you have matplotlib 3.0.0 which is incompatible.\n",
            "d2l 0.17.5 requires matplotlib==3.5.1, but you have matplotlib 3.0.0 which is incompatible.\n",
            "albumentations 0.1.12 requires imgaug<0.2.7,>=0.2.5, but you have imgaug 0.2.9 which is incompatible.\u001b[0m\n",
            "Successfully installed matplotlib-3.0.0\n"
          ]
        },
        {
          "output_type": "display_data",
          "data": {
            "application/vnd.colab-display-data+json": {
              "pip_warning": {
                "packages": [
                  "matplotlib",
                  "mpl_toolkits"
                ]
              }
            }
          },
          "metadata": {}
        }
      ]
    },
    {
      "cell_type": "code",
      "source": [
        "%matplotlib inline\n",
        "import torch\n",
        "import torchvision\n",
        "from torch.utils import data\n",
        "from torchvision import transforms\n",
        "\n",
        "from d2l import torch as d2l\n",
        "\n",
        "d2l.use_svg_display()"
      ],
      "metadata": {
        "id": "HV3AzueKT5v9"
      },
      "execution_count": null,
      "outputs": []
    },
    {
      "cell_type": "markdown",
      "source": [
        "##Reading the Dataset"
      ],
      "metadata": {
        "id": "lNefBs02vEKI"
      }
    },
    {
      "cell_type": "code",
      "source": [
        "# USPS : U.S. Postal Service - handwritten text data\n",
        "trans = transforms.ToTensor()\n",
        "usps_train = torchvision.datasets.USPS(\n",
        "    root = \"../data\", train = True, transform = trans, download = True)\n",
        "usps_test = torchvision.datasets.USPS(\n",
        "    root = \"../data\", train = False, transform = trans, download = True)"
      ],
      "metadata": {
        "id": "a9tPfOBqXUeh",
        "colab": {
          "base_uri": "https://localhost:8080/",
          "height": 118,
          "referenced_widgets": [
            "e3f38f603eb6474ea521c1fc97c56eef",
            "4ad9cb078e074283a78ebac35e52e7a1",
            "e5f28268d33948f3ad3c83d8506ca393",
            "7b83c83b916e48fa811282f6117b6167",
            "bb6ba933cd6b4297866c176444fa628a",
            "8b2077ab99d548fb84815545c369cbd4",
            "b8345c90c24d409788974321645926a4",
            "2ba23f2cb53a4c8e9166807e1c76361c",
            "ecfad4cdd14546cdafbffeee3e1b6e42",
            "cf733f5c8d104f439a0d6c1bb9d96601",
            "5a49f2ba3f49409d95c99dd08abc09f3",
            "61cfb722367b468fac5470fa5200e941",
            "e34408d0f4e74c74a823b33be1a9e390",
            "6978aaef04fe411b85cb53eb72ecbf37",
            "3c7627066e414d7394a72ac2837e0939",
            "6211fa88982544b9a32200d38db38771",
            "a0ff2ad75d7344da853b1990d3f0b4b1",
            "e3da566158d54c0abc082c457bc0403d",
            "1f3871a54b1f42afa782f40fd276bbbd",
            "826fd2ae7af04845bb22338739db3199",
            "f1d7dea40c80467690fffb8bde652718",
            "d4c049fcd9c04fde87368a0501879537"
          ]
        },
        "outputId": "4d30b22a-1af5-4389-d85f-c105d7f05f66"
      },
      "execution_count": null,
      "outputs": [
        {
          "output_type": "stream",
          "name": "stdout",
          "text": [
            "Downloading https://www.csie.ntu.edu.tw/~cjlin/libsvmtools/datasets/multiclass/usps.bz2 to ../data/usps.bz2\n"
          ]
        },
        {
          "output_type": "display_data",
          "data": {
            "text/plain": [
              "  0%|          | 0/6579383 [00:00<?, ?it/s]"
            ],
            "application/vnd.jupyter.widget-view+json": {
              "version_major": 2,
              "version_minor": 0,
              "model_id": "e3f38f603eb6474ea521c1fc97c56eef"
            }
          },
          "metadata": {}
        },
        {
          "output_type": "stream",
          "name": "stdout",
          "text": [
            "Downloading https://www.csie.ntu.edu.tw/~cjlin/libsvmtools/datasets/multiclass/usps.t.bz2 to ../data/usps.t.bz2\n"
          ]
        },
        {
          "output_type": "display_data",
          "data": {
            "text/plain": [
              "  0%|          | 0/1831726 [00:00<?, ?it/s]"
            ],
            "application/vnd.jupyter.widget-view+json": {
              "version_major": 2,
              "version_minor": 0,
              "model_id": "61cfb722367b468fac5470fa5200e941"
            }
          },
          "metadata": {}
        }
      ]
    },
    {
      "cell_type": "code",
      "source": [
        "len(usps_train), len(usps_test)"
      ],
      "metadata": {
        "colab": {
          "base_uri": "https://localhost:8080/"
        },
        "id": "PDMgnBLYYHYB",
        "outputId": "fb7c255f-87d0-413a-9728-52e2c2565368"
      },
      "execution_count": null,
      "outputs": [
        {
          "output_type": "execute_result",
          "data": {
            "text/plain": [
              "(7291, 2007)"
            ]
          },
          "metadata": {},
          "execution_count": 6
        }
      ]
    },
    {
      "cell_type": "code",
      "source": [
        "usps_train[0][0].shape\n",
        "\n",
        "# (channel = 1 흑백) * (height = 16) * (width = 16)"
      ],
      "metadata": {
        "colab": {
          "base_uri": "https://localhost:8080/"
        },
        "id": "BiABHk3fY2hL",
        "outputId": "bddac7c7-3956-40bb-886c-ab84112440d2"
      },
      "execution_count": null,
      "outputs": [
        {
          "output_type": "execute_result",
          "data": {
            "text/plain": [
              "torch.Size([1, 16, 16])"
            ]
          },
          "metadata": {},
          "execution_count": 7
        }
      ]
    },
    {
      "cell_type": "code",
      "source": [
        "def get_usps_labels(labels):\n",
        "  text_labels =['0','1','2','3','4','5','6','7','8','9']\n",
        "  return [text_labels[int(i)] for i in labels]\n",
        "\n",
        "  #output이 10개"
      ],
      "metadata": {
        "id": "tAHzMvYZY975"
      },
      "execution_count": null,
      "outputs": []
    },
    {
      "cell_type": "code",
      "source": [
        "# 데이터 시각화 - 가운데에 잘 위치해 있다.\n",
        "def show_images(imgs, num_rows, num_cols, titles=None, scale =1.5):\n",
        "  figsize=(num_cols * scale, num_rows * scale)\n",
        "  _, axes = d2l.plt.subplots(num_rows, num_cols, figsize = figsize)\n",
        "  axes = axes.flatten()\n",
        "  for i, (ax, img) in enumerate(zip(axes, imgs)):\n",
        "    if torch.is_tensor(img) :\n",
        "      ax.imshow(img.numpy())\n",
        "    else :\n",
        "      ax.imshow(img)\n",
        "    ax.axes.get_xaxis().set_visible(False)\n",
        "    ax.axes.get_yaxis().set_visible(False)\n",
        "    if titles:\n",
        "      ax.set_title(titles[i])\n",
        "  return axes"
      ],
      "metadata": {
        "id": "hC9-6oTlbHAK"
      },
      "execution_count": null,
      "outputs": []
    },
    {
      "cell_type": "code",
      "source": [
        "X, y = next(iter(data.DataLoader(usps_train, batch_size=18)))\n"
      ],
      "metadata": {
        "id": "UqBzwqGacqP7"
      },
      "execution_count": null,
      "outputs": []
    },
    {
      "cell_type": "code",
      "source": [
        "show_images(X.reshape(18,16,16), 2,9, titles=get_usps_labels(y));"
      ],
      "metadata": {
        "colab": {
          "base_uri": "https://localhost:8080/",
          "height": 298
        },
        "id": "H7HiBqBOfDED",
        "outputId": "61690c44-cc43-439b-f281-833716edfd9a"
      },
      "execution_count": null,
      "outputs": [
        {
          "output_type": "display_data",
          "data": {
            "text/plain": [
              "<Figure size 972x216 with 18 Axes>"
            ],
            "image/svg+xml": "<?xml version=\"1.0\" encoding=\"utf-8\" standalone=\"no\"?>\n<!DOCTYPE svg PUBLIC \"-//W3C//DTD SVG 1.1//EN\"\n  \"http://www.w3.org/Graphics/SVG/1.1/DTD/svg11.dtd\">\n<!-- Created with matplotlib (https://matplotlib.org/) -->\n<svg height=\"193.03689pt\" version=\"1.1\" viewBox=\"0 0 771.2 193.03689\" width=\"771.2pt\" xmlns=\"http://www.w3.org/2000/svg\" xmlns:xlink=\"http://www.w3.org/1999/xlink\">\n <defs>\n  <style type=\"text/css\">\n*{stroke-linecap:butt;stroke-linejoin:round;}\n  </style>\n </defs>\n <g id=\"figure_1\">\n  <g id=\"patch_1\">\n   <path d=\"M 0 193.03689 \nL 771.2 193.03689 \nL 771.2 -0 \nL 0 -0 \nz\n\" style=\"fill:none;\"/>\n  </g>\n  <g id=\"axes_1\">\n   <g id=\"patch_2\">\n    <path d=\"M 10.7 93.384163 \nL 81.766038 93.384163 \nL 81.766038 22.318125 \nL 10.7 22.318125 \nz\n\" style=\"fill:#ffffff;\"/>\n   </g>\n   <g clip-path=\"url(#pe4053291e7)\">\n    <image height=\"72\" id=\"image286c969e44\" transform=\"scale(1 -1)translate(0 -72)\" width=\"72\" x=\"10.7\" xlink:href=\"data:image/png;base64,\niVBORw0KGgoAAAANSUhEUgAAAEgAAABICAYAAABV7bNHAAAABHNCSVQICAgIfAhkiAAABLRJREFUeJztnN1Pm2UYxt+3fSkUCkUo/YIVRllxMBTZxIk6o3NKtnmwxIP9BxpP/BOMh5567JExcckW4+I80fiRqaDpZiBssvENLWOjhW2VFtr1w+PrvV5zG4JH3r+z68mVll59cnM/H2/NN8x3aoaAWV8P2h0JkSc/gGPZoTryFAb3QCe6HpCnxYOe6fVO8niSPtCRyQJ5rNvLoCuPc+QxauJHN1yi43+OBiSgAQloQAKWfcBekA3DMFx9PaBTb7WTp+kMFtx3YzfIM9Y4D7rXKpOnzsTvbKmLLMalxCjoL+InydNzNQHa+9sceSqPHvOL29AZJKABCWhAApbhcsOAOxomU2oca87TF+6S56Our0Ef9TQ6vJ0HVLbyhBzbFaxLYbdJnvfbJ0AHT3ET+ElpHHRiK0Yecwo/R+1JiTw6gwQ0IAENSEADErBcHlx1F/qDZGp4PQP6w65r5AljrTc2K3nylGyr5yt/HSPPl+nnQDfWceEc9G+AHmteIM/oCWwMF2b6yRNc8YOuZDLk0RkkoAEJaEACltmAi9N8iNavxmtRXGT6XRXyfJ4bBD35qJc8J/yroGd2eLcwMxEB3TZbJc/3oW7QN9/mJvDN8Czo5LEEeYKTbTiwtU0enUECGpCABiSgAQlwRebFs+E2sFCmy17yfDo/Brr661PkmYwfAX18cIk8xTge+5TWeIfTt4H/JFbXAuTxd+FRUEciS569CDaKnjk3eXQGCWhAAhqQgFXbK8KAN8tN4J85bN5Ot9wmT6WKWbfP8olF2x3UN83D5Dk+gEfG6UAredbv4VggzDuKcc8m6JGONHmmAli76hscTnRoRAE0IAENSEADErCqJTx68W7wTuD0XVwtZ8It5Hkhiiv16cgQeYK/YLMWu8bN5B/FOOjhYW4mz4/eAv2Md408UQuPlbPFJvK4yrb7QVXeOdAZJKABCWhAApZRxcbQtXqfTB0TuBt3qX+UPGeDM6B/OnWEPM0pbPB8U/fI05fFY+7FRX6dWy9i43qym09isnt4j3Hh927y9C5ig1krFsmjM0hAAxLQgAQ0IAHTfpHctHiT0ZXAI5yli3xHcfxcEnSji4+ML3/7Euj4lR1+r3ls+kyfjzylw1iUC2EPedwlbAKblh0uki+mQFbz3CTrDBLQgAQ0IAEqOLUy7wTWVnA37tB3vPC7GhgB/d4rP5Ln5VdxkZl8yAvaWK4DdGUlRR73A7ym0uLhB2fsD6rUSlwTnT6rHZ1BAhqQgAYkoAEJcFfoQLWAx7h1M7zLd6gd7wB+FuIV/wcDWLjTZ/hIZ3MLn14J5biZLN/HB2ecLoAfFDqDBDQgAQ1I4F/VIDtOTxA331gHnQ/xvcGv2oZBX4wmyfPxaTzpaF2IksfafgjaaSfwoNAZJKABCWhAAhqQwL6KtNNPOlRsK+zQdX7icDnUA3ruAh/7jPfhBfDrQ8+Tp/MOFnJ74/hPf+N+0BkkoAEJaEAC+6tBDtgXjLXVdfJ0/twM+nLfCHnOHsX7jzsxvpJSa8XXMZxq0AGhM0hAAxLQgAQ0IIEDK9J2qru7NFY/i4U78AM/lfhN/lnQ/jX+Ds3d/271bkdnkIAGJKABCfwNM8I6AsgDmcUAAAAASUVORK5CYII=\" y=\"-21.384163\"/>\n   </g>\n   <g id=\"patch_3\">\n    <path d=\"M 10.7 93.384163 \nL 10.7 22.318125 \n\" style=\"fill:none;stroke:#000000;stroke-linecap:square;stroke-linejoin:miter;stroke-width:0.8;\"/>\n   </g>\n   <g id=\"patch_4\">\n    <path d=\"M 81.766038 93.384163 \nL 81.766038 22.318125 \n\" style=\"fill:none;stroke:#000000;stroke-linecap:square;stroke-linejoin:miter;stroke-width:0.8;\"/>\n   </g>\n   <g id=\"patch_5\">\n    <path d=\"M 10.7 93.384163 \nL 81.766038 93.384163 \n\" style=\"fill:none;stroke:#000000;stroke-linecap:square;stroke-linejoin:miter;stroke-width:0.8;\"/>\n   </g>\n   <g id=\"patch_6\">\n    <path d=\"M 10.7 22.318125 \nL 81.766038 22.318125 \n\" style=\"fill:none;stroke:#000000;stroke-linecap:square;stroke-linejoin:miter;stroke-width:0.8;\"/>\n   </g>\n   <g id=\"text_1\">\n    <!-- 6 -->\n    <defs>\n     <path d=\"M 33.015625 40.375 \nQ 26.375 40.375 22.484375 35.828125 \nQ 18.609375 31.296875 18.609375 23.390625 \nQ 18.609375 15.53125 22.484375 10.953125 \nQ 26.375 6.390625 33.015625 6.390625 \nQ 39.65625 6.390625 43.53125 10.953125 \nQ 47.40625 15.53125 47.40625 23.390625 \nQ 47.40625 31.296875 43.53125 35.828125 \nQ 39.65625 40.375 33.015625 40.375 \nz\nM 52.59375 71.296875 \nL 52.59375 62.3125 \nQ 48.875 64.0625 45.09375 64.984375 \nQ 41.3125 65.921875 37.59375 65.921875 \nQ 27.828125 65.921875 22.671875 59.328125 \nQ 17.53125 52.734375 16.796875 39.40625 \nQ 19.671875 43.65625 24.015625 45.921875 \nQ 28.375 48.1875 33.59375 48.1875 \nQ 44.578125 48.1875 50.953125 41.515625 \nQ 57.328125 34.859375 57.328125 23.390625 \nQ 57.328125 12.15625 50.6875 5.359375 \nQ 44.046875 -1.421875 33.015625 -1.421875 \nQ 20.359375 -1.421875 13.671875 8.265625 \nQ 6.984375 17.96875 6.984375 36.375 \nQ 6.984375 53.65625 15.1875 63.9375 \nQ 23.390625 74.21875 37.203125 74.21875 \nQ 40.921875 74.21875 44.703125 73.484375 \nQ 48.484375 72.75 52.59375 71.296875 \nz\n\" id=\"DejaVuSans-54\"/>\n    </defs>\n    <g transform=\"translate(42.415519 16.318125)scale(0.12 -0.12)\">\n     <use xlink:href=\"#DejaVuSans-54\"/>\n    </g>\n   </g>\n  </g>\n  <g id=\"axes_2\">\n   <g id=\"patch_7\">\n    <path d=\"M 95.979245 93.384163 \nL 167.045283 93.384163 \nL 167.045283 22.318125 \nL 95.979245 22.318125 \nz\n\" style=\"fill:#ffffff;\"/>\n   </g>\n   <g clip-path=\"url(#pe5b125f8a5)\">\n    <image height=\"72\" id=\"image67753888cd\" transform=\"scale(1 -1)translate(0 -72)\" width=\"72\" x=\"95.979245\" xlink:href=\"data:image/png;base64,\niVBORw0KGgoAAAANSUhEUgAAAEgAAABICAYAAABV7bNHAAAABHNCSVQICAgIfAhkiAAABP1JREFUeJztXEtvG1UYnRmPn/GjTiOnmJBXXadRQIRAiqAiILVSQYIFqOqKn8MCsYAFrBE7pAooi4qXiERBIkJKIFJaCoFAQpLazrtx7Dgee4Ztzz0jffkB39md0fFkfObOyf3ud8f2Vft6YD0C23UtE066B7jdmydNp5AFfnwuQZrWmQjwdtYmTX3UB95b2iNNxEFNrXKGNLFqFHj6P5JYuZU28MTSOmkc/pjiUahBAtQgAWqQADeSx8ANhh4j0f44BvDBGPvaLh0DHx/gwJvO1IAXYnXSjMS3gF+M1UgTtYyQHkuTZrOD32uxMUiaW/cngRdvDpNGR5AANUiAGiTAfvnauzBRXHuVJ4rTzy8Dfyn/F2kyDmZQ04+Txgvw3PUuTyarbcy7E5+vJx05AX4hyTn1VAIzcNRtkubb5ijwd26/RRodQQLUIAFqkAA1SID74HIMDrx95Q6JbuTmgS+eDJDm4/XLwP+9VyRNYhvvR/yALyhV6+IFtgLSeD14nq9LfJ8Tl3aBf/jkp6SZjGOQu4MN0ugIEqAGCVCDBLjt4RYcmEn/QaIDY9Jn5o1lWVZ1FnOpdIef52gFQydoHpMmqB8h9zqkSSXwerJjQ6T5J90LfKVcIE02gt+9XU2RRkeQADVIgBokQA0S4DrbOFH8fG+aROVUFbjXjZDGKLCtaPUhaTprG3jA75LmNLCjWOF3MjHSdAcwgM1AtizL+mJnCnjfAo8XHUEC1CABapAAd+RLfDbnVqdI9H0RC8bEDreMC7/heYJ9ziAr8PmYCRvP7cR5ZdIqYYdic4ZXJq9P/Ay86uVI89PiReBjdw9JoyNIgBokQA0SoAYJcN15rN6LK7zXJsgY+4NCKmzr2Ahph4PcSSbxgM+h7eTx77fL3ArfnMHzPHvtd9KUEzi5/eD+FdI8Pmv8Q1it8PXQEQVADRKgBglw/RZmh1/lNq6zb0zWnuCORWMaV/VaeS5oY0dG5nDDwjocxM81LvGq45vjc8DDWs8fLb8CvOdWljS5uTXgnZDJrY4gAWqQADVIgBokgDffhMDpOwu8crWfNLE3toG/0L9KmrqHVbcX8P05n9oBPpbgydu6hy2d95d4Epi7jfsW+37gPZOdihHuISucOoIEqEEC1CABnEE2exbk8Hl+WOYZ3nul74C/ZmSJZVnWSYBF7lqHJ5PLHraIP9t6jjS//nIBePFHLnozC/j2Sre2TZrTdFV0BAlQgwSoQQLUIAEc0iGtGbuJFX/sgH1t+Nj+TTncDvaMULzX5lWBTzZeBL66wPshz95FnthpkyZI4gpEpNBHGv8Aq3e/yZvNdQQJUIMEqEECQjKIJ4HBET6byRprKh6+wNYNtkiTtjEXpuJcQD7oxw7FV8/wPawM4+rg1l6SNLFtLKgTu9xlyf/pAU/Nr5JGR5AANUiAGiRADRIQUs1zmNlxnPR5GdbEHQy8Q5/3BDrGuYsun+f19BLwp0f4NyWawxj27YBXBepdDO7l1jnS3FzAlYLyLmt0BAlQgwSoQQJO1dUwC7+Ql5Wtb2oTwJfqXGSaXYyse0KanTZutak2uGVs2zhRLWV59XIyg9mVi3AL2zIi0A5phesIEqAGCVCDBKhBAmzzN8zCYP6EjjfBb/g1BozkDgu8Lh7sxniiaL7lHD3i1kxgfKzZHyVNfQhFnSRfUO5v5IXZDdLoCBKgBglQgwT8DykTWyvsD0DcAAAAAElFTkSuQmCC\" y=\"-21.384163\"/>\n   </g>\n   <g id=\"patch_8\">\n    <path d=\"M 95.979245 93.384163 \nL 95.979245 22.318125 \n\" style=\"fill:none;stroke:#000000;stroke-linecap:square;stroke-linejoin:miter;stroke-width:0.8;\"/>\n   </g>\n   <g id=\"patch_9\">\n    <path d=\"M 167.045283 93.384163 \nL 167.045283 22.318125 \n\" style=\"fill:none;stroke:#000000;stroke-linecap:square;stroke-linejoin:miter;stroke-width:0.8;\"/>\n   </g>\n   <g id=\"patch_10\">\n    <path d=\"M 95.979245 93.384163 \nL 167.045283 93.384163 \n\" style=\"fill:none;stroke:#000000;stroke-linecap:square;stroke-linejoin:miter;stroke-width:0.8;\"/>\n   </g>\n   <g id=\"patch_11\">\n    <path d=\"M 95.979245 22.318125 \nL 167.045283 22.318125 \n\" style=\"fill:none;stroke:#000000;stroke-linecap:square;stroke-linejoin:miter;stroke-width:0.8;\"/>\n   </g>\n   <g id=\"text_2\">\n    <!-- 5 -->\n    <defs>\n     <path d=\"M 10.796875 72.90625 \nL 49.515625 72.90625 \nL 49.515625 64.59375 \nL 19.828125 64.59375 \nL 19.828125 46.734375 \nQ 21.96875 47.46875 24.109375 47.828125 \nQ 26.265625 48.1875 28.421875 48.1875 \nQ 40.625 48.1875 47.75 41.5 \nQ 54.890625 34.8125 54.890625 23.390625 \nQ 54.890625 11.625 47.5625 5.09375 \nQ 40.234375 -1.421875 26.90625 -1.421875 \nQ 22.3125 -1.421875 17.546875 -0.640625 \nQ 12.796875 0.140625 7.71875 1.703125 \nL 7.71875 11.625 \nQ 12.109375 9.234375 16.796875 8.0625 \nQ 21.484375 6.890625 26.703125 6.890625 \nQ 35.15625 6.890625 40.078125 11.328125 \nQ 45.015625 15.765625 45.015625 23.390625 \nQ 45.015625 31 40.078125 35.4375 \nQ 35.15625 39.890625 26.703125 39.890625 \nQ 22.75 39.890625 18.8125 39.015625 \nQ 14.890625 38.140625 10.796875 36.28125 \nz\n\" id=\"DejaVuSans-53\"/>\n    </defs>\n    <g transform=\"translate(127.694764 16.318125)scale(0.12 -0.12)\">\n     <use xlink:href=\"#DejaVuSans-53\"/>\n    </g>\n   </g>\n  </g>\n  <g id=\"axes_3\">\n   <g id=\"patch_12\">\n    <path d=\"M 181.258491 93.384163 \nL 252.324528 93.384163 \nL 252.324528 22.318125 \nL 181.258491 22.318125 \nz\n\" style=\"fill:#ffffff;\"/>\n   </g>\n   <g clip-path=\"url(#p4f53211d4e)\">\n    <image height=\"72\" id=\"image94812d7658\" transform=\"scale(1 -1)translate(0 -72)\" width=\"72\" x=\"181.258491\" xlink:href=\"data:image/png;base64,\niVBORw0KGgoAAAANSUhEUgAAAEgAAABICAYAAABV7bNHAAAABHNCSVQICAgIfAhkiAAABCNJREFUeJztnM1rVFcYxu+5M5PMZ5JJ0iYxjTEQoyLFYNEKolAqQrtpKS5c+Af497jpov9CXbgREUEXKhoatdaiwarREG/jVzKTzDhf9x534nOeU94wErvw/e2eyzP3Tp45vL73fGiOmRM2+L8whi6lJydAPzvxFXlaBzZAZ24XybP99wh0/GiRn2/lPz0UHZ85GpCABiSgAQmkP+nTnKJsUimy2EIOdH08Ic/pvddA/2YPkye+UsILjz1jwcb/9U3foyNIQAMS0IAEtqwGmd5eupYaHgKdDPWRpzaJ15Ic16CJzBvQ2war5OkU8FmZkJtSy7cmdAQJaEACGpCABiTQXZEOucFL9eEbdWfvFHmiA3nQ69PcqGVHa6B/mnpAnm+zS6CvliPyzI+Mgi7n8+SJq1zcXXQECWhAAhqQANcgzyxfWMT6YkaGyVPd9yXo5ePchf2w/xboUrpBnmaCX2l/YZE829NYT04NXSfP+cOzoPsfTpLH3FkAbdst8ugIEtCABDQgAQ1IgIq0W5CDIAg6s9Ogl4/myJM79Ar06R23yfNnFZdwLlyfJU9hGX+zczPs2f39r6APZTPk+e6bv0Hfnf+aPF8s9oOOX74kj44gAQ1IQAMSSLuNYTjQT6aVg1hzjv8yR56T5Zugz0THyHPv7B7QM5cr5AmbbdBLP3JT+vgINqXbUkvsWccZxZgnOAPT2+Nc8DTJ/DHlQzQgAQ1IQAMSSNMemXabTMaZ+PO9YbcCnGWcu7GLPDsv4XKNXXjCzxosgw5jLtINi43h+doMef69Og56/D7PHNi3b50LvF9IR5CABiSgAQnQy2pSXSdT8TnODv5VnyBPJS6ALj3h7E30Gp/V4hm8IMTPJfweSizUR+la+QF+5557T8mTVHRV46PRgAQ0IAENSICKtPUUznzUBH3x2W7y/Dx1F3SHV3oD0+NUXOP5fWLsSk2HLWsx3ny5MUCe3greJ6nwPz6247m5g44gAQ1IQAMS4BoU85aUTLQGunVnjDz3h7FZawzyi58tegqTgPHsI2w63eNak1dZTMf54GY2JHrQESSgAQloQAIakADvD/LMqtnoBeiROZ7l+2MIl6cLr3kJxW0CvTgHXHxv822LnkozS55iG4uyTbo7WKkjSEADEtCABDa1Tzqp10Hn53l2bnoVm8dUrUkeu/LKueBp3pw6FfIiS7DaxoZzbYMb0FK7u8bQRUeQgAYkoAEJaEACmzvM4jSP8QvPXr43+MZvPQWYZgp8TWkDl4gzG+xZaeKpxFbD92fg842eONwaNCABDUiguwN1vtrhOQjS1a1b2BlmV7lQRHWsQQMDNfLUx3AbTZ8eqNsaNCABDUhAAxL4tP89ziZwl75Lj3jJ+J953H8Yj/HMQaro/PY5nnUMtEh/PBqQgAYk8A5AHSLk9oP43wAAAABJRU5ErkJggg==\" y=\"-21.384163\"/>\n   </g>\n   <g id=\"patch_13\">\n    <path d=\"M 181.258491 93.384163 \nL 181.258491 22.318125 \n\" style=\"fill:none;stroke:#000000;stroke-linecap:square;stroke-linejoin:miter;stroke-width:0.8;\"/>\n   </g>\n   <g id=\"patch_14\">\n    <path d=\"M 252.324528 93.384163 \nL 252.324528 22.318125 \n\" style=\"fill:none;stroke:#000000;stroke-linecap:square;stroke-linejoin:miter;stroke-width:0.8;\"/>\n   </g>\n   <g id=\"patch_15\">\n    <path d=\"M 181.258491 93.384163 \nL 252.324528 93.384163 \n\" style=\"fill:none;stroke:#000000;stroke-linecap:square;stroke-linejoin:miter;stroke-width:0.8;\"/>\n   </g>\n   <g id=\"patch_16\">\n    <path d=\"M 181.258491 22.318125 \nL 252.324528 22.318125 \n\" style=\"fill:none;stroke:#000000;stroke-linecap:square;stroke-linejoin:miter;stroke-width:0.8;\"/>\n   </g>\n   <g id=\"text_3\">\n    <!-- 4 -->\n    <defs>\n     <path d=\"M 37.796875 64.3125 \nL 12.890625 25.390625 \nL 37.796875 25.390625 \nz\nM 35.203125 72.90625 \nL 47.609375 72.90625 \nL 47.609375 25.390625 \nL 58.015625 25.390625 \nL 58.015625 17.1875 \nL 47.609375 17.1875 \nL 47.609375 0 \nL 37.796875 0 \nL 37.796875 17.1875 \nL 4.890625 17.1875 \nL 4.890625 26.703125 \nz\n\" id=\"DejaVuSans-52\"/>\n    </defs>\n    <g transform=\"translate(212.974009 16.318125)scale(0.12 -0.12)\">\n     <use xlink:href=\"#DejaVuSans-52\"/>\n    </g>\n   </g>\n  </g>\n  <g id=\"axes_4\">\n   <g id=\"patch_17\">\n    <path d=\"M 266.537736 93.384163 \nL 337.603774 93.384163 \nL 337.603774 22.318125 \nL 266.537736 22.318125 \nz\n\" style=\"fill:#ffffff;\"/>\n   </g>\n   <g clip-path=\"url(#p4dcca7f7ae)\">\n    <image height=\"72\" id=\"imageaee44f72dd\" transform=\"scale(1 -1)translate(0 -72)\" width=\"72\" x=\"266.537736\" xlink:href=\"data:image/png;base64,\niVBORw0KGgoAAAANSUhEUgAAAEgAAABICAYAAABV7bNHAAAABHNCSVQICAgIfAhkiAAABApJREFUeJztnMtrE2EUxTNJY0vaSVJS29pqGy311ZfVtipWURFFdKPoQkQEEcGVCP4B4r9QXYrgShTE18KFWqxSFZ+lFfu2tTbWaoxo300mrk/O4J2WxoXc3+4MJ5Ph5HJz5/smMXYZh5KuhcAwQGYUF5Hl8+FS0GUHesjTMYyvK71kkMfzvAN0Mh53fJlzxZ22M/8naEACGpCABiSQkbYze/nUk/n4fXC+5C55rpkNoJ/mbSKPz/h3n6tWkIAGJKABCSxcD0qmzJuTU2TJjOHQF4kHyOM28DxWBg+Khgc/1+Ss04ucO1pBAhqQgAYkoAEJpG1QtH79pmP+jwnQzb/XkKfWNwj6TomHPIEgNndrhL8QFgqtIAENSEADEkhfD5qapmPmwAToW93V5Nld1w56rJrPYz0K4YHR7zYXkOBj80ArSEADEtCABDQggfStKNo0SU8kCtr7Jkye4Zpc0DtWd5Gns7wCtL8ni99+fNzJVYpoBQloQAIakED6epANVvQH6Lz2YvJcH6kHfXppM3nONFSBDrQV8pv19KNOXfF0iFaQgAYkoAEJaEAC/7ZJT+Odua/3B3k6X+EzRNnLZsizacsH0IOtq8iT8/kLvvfEBHmcoBUkoAEJaEACjnqQ2+dDnRtkUwJvThPRGFmSs9hPksMj5Ml/uRj0ze0byHOyoAX0qY28O2K2F+CBvgHyOBketYIENCABDUhAAxKgJu3O4tW5ZEUZ6KGtJnm849jwCh5yA070fwJt2TxDFOzA5n73ZS15Du5+DXrt5n7yRF+EQed8GSWPk1VHrSABDUhAAxKgHmRk+8j0bV0O6L3HWsnzfRo9nbFK8vgjX0Hb3kAO4U1mUXMuWS5W7gR9ougJec5uWw56VRevXro6+1Db7MRoBQloQAIakIAGJEBNOjnDT2W7Uw41ZPNgVp6Lg9iRMn72Jxjwg7YmJ8mTGMPhLdDGz/60PSvH8x56QJ49je/wNa015PEP4lBsNzhqBQloQAIakAD3IJu+YA7hSuCVyBbyNC2/AXqmiofAmTLcIvaOs8cwceCcXuInj+XFG+Ogm296j4ZwmH1Sup48wZT30h40DzQgAQ1IQAMS4Cad4DvazEHcIu5+FibP48IVoI9XPifP1X07QAdWVpBnohB/YWjV8o9iLlTfBl29iFdBm2K4he3hHWxHaAUJaEACGpCA4eTvcVK3nuP1/LhJ71FsZ+ca75On2Is7FqNxHgJDnrG/apfL5YomcMC7PNxInv6WMOjwPe5lRjv+PY81xQOnVpCABiSgAQloQAKOmnQqbpO3nmc34CrfwP5F5Knb3A260oyQ583PZaDf9pWQx+zIBB16z6ugvu5voK0Ib4XbNeVUtIIENCABDUjgD00UDmRctiRKAAAAAElFTkSuQmCC\" y=\"-21.384163\"/>\n   </g>\n   <g id=\"patch_18\">\n    <path d=\"M 266.537736 93.384163 \nL 266.537736 22.318125 \n\" style=\"fill:none;stroke:#000000;stroke-linecap:square;stroke-linejoin:miter;stroke-width:0.8;\"/>\n   </g>\n   <g id=\"patch_19\">\n    <path d=\"M 337.603774 93.384163 \nL 337.603774 22.318125 \n\" style=\"fill:none;stroke:#000000;stroke-linecap:square;stroke-linejoin:miter;stroke-width:0.8;\"/>\n   </g>\n   <g id=\"patch_20\">\n    <path d=\"M 266.537736 93.384163 \nL 337.603774 93.384163 \n\" style=\"fill:none;stroke:#000000;stroke-linecap:square;stroke-linejoin:miter;stroke-width:0.8;\"/>\n   </g>\n   <g id=\"patch_21\">\n    <path d=\"M 266.537736 22.318125 \nL 337.603774 22.318125 \n\" style=\"fill:none;stroke:#000000;stroke-linecap:square;stroke-linejoin:miter;stroke-width:0.8;\"/>\n   </g>\n   <g id=\"text_4\">\n    <!-- 7 -->\n    <defs>\n     <path d=\"M 8.203125 72.90625 \nL 55.078125 72.90625 \nL 55.078125 68.703125 \nL 28.609375 0 \nL 18.3125 0 \nL 43.21875 64.59375 \nL 8.203125 64.59375 \nz\n\" id=\"DejaVuSans-55\"/>\n    </defs>\n    <g transform=\"translate(298.253255 16.318125)scale(0.12 -0.12)\">\n     <use xlink:href=\"#DejaVuSans-55\"/>\n    </g>\n   </g>\n  </g>\n  <g id=\"axes_5\">\n   <g id=\"patch_22\">\n    <path d=\"M 351.816981 93.384163 \nL 422.883019 93.384163 \nL 422.883019 22.318125 \nL 351.816981 22.318125 \nz\n\" style=\"fill:#ffffff;\"/>\n   </g>\n   <g clip-path=\"url(#pf3f7813680)\">\n    <image height=\"72\" id=\"image61e729fa73\" transform=\"scale(1 -1)translate(0 -72)\" width=\"72\" x=\"351.816981\" xlink:href=\"data:image/png;base64,\niVBORw0KGgoAAAANSUhEUgAAAEgAAABICAYAAABV7bNHAAAABHNCSVQICAgIfAhkiAAABKtJREFUeJztnN9PW2Ucxs85PW2p0B9QCx11JYIyEJLpTHBBiRcj02RzaqLJ4ow3u/UPWOKVlybGa6MXJl5qonGJiXMSF406psyZZciECVmto7ABBUqh9PR46/M+J/nWGq/8fu6eN085zdOXb7/ve95Te9J52bf+Riget0z8/gdAbzySIM/asA3a698lTzZdBt2fvEueofYS6LBTJ89iNQP6x1KePBs30njt6QZ5EtMF0PU7JfI4NKIAGpCABiSgAQm4ZlHePTpIpqUTLuhnx6+R51hyFnS7s0eemh8C3Qj4fDwfxzzLJk/G3QI9Fv+drzWA7/nd4Qm+VgSLe+oif7HoDBLQgAQ0IAHX6rkfBooTYTK9cfxT0GeTy+T5fKcN9JvzJ8lTuoXXiq6GyBNdR+3UfPI0IliXNge4CXzl6e9Anxv6gjznxk+DTl3PkEdnkIAGJKABCWhAAq5d24eB8DY3ZrM7vaCvtBXI887SKdD1j7rJc2gGK7BTrpDHr+zggMcF2IrgF0nqSB9ZzveNgh4buUUeu7MGuhHjLyidQQIakIAGJOA2SqswcPAC7yhOVY+C/mT0cfJESrg4fPD6Fnn8m4ug67UaeSyfG0MTOxoF7Xj8mlQMF55rXgd5nCI2t065zB7x3fzP0YAENCABDUjAbexiMbNvLJApV+oCfeCbLvLY+x4OFHnF75lFuYmCbNncuDqpJOj1hyPkOZX9DfTVbW4mUzeNgbvr5NEZJKABCWhAAq454O9z81a/Y9QTo7kMwonwwi+USuG19vjOh2/UKaejnTzVx7CeVCa2ydPp4kL4w+lx8hwymtnGFje3OoMENCABDUhAAxKgIt0UDY+GQgk8M7R/eIA864O4eo5UuFGMreAO514nv8XiJL7uteEZ8nxcOAK69yu+xeQs4M6oV+ezSDqDBDQgAQ1IoLUaFLCAtHI9IJdOtJHlheOXQSfdKnm+XX0IdNThuxrPZ3CVObUyRJ6d81nQvT/cJk+9vEljJjqDBDQgAQ1IQAMSaK1IB2HcIg44/211R7Aovpr4hTxnUz+BbrP5M3xv4zDoP77k3cL8RdyB8MwdCctqakdTZ5CABiSgAQm0VoOC/neXcZcxf4EfePlg7xnQ7488SZ6xPDZ0r2enyDNXwSYwsRRwRKaED8r4AQvRZtAZJKABCWhAAhqQQEtF2g7zrV47judvwit8C6XvM1y917/mFf/s6DDot8/wWxyK45OBP3fz55yKGX97U165B6EzSEADEtCABJqrQcYOYiiXJUvpWA50tZt3HZOL2NAl57guJG7jLev5e/yAyVNdeESnmuHG1b4vZgwE7ILqYvXfowEJaEACGpBAk0XaeBI5zYfN743havnME5fJc20Df+JiboZ3Ak1ezM/RWMjC4upWAwpwnW+Pt4LOIAENSEADEmiuBvnY4IXW+ExgxwKeXb46eJA8pw9cAd323Pfk2W1go9ju8JnJt+ZxZ7LrV643vnlbuZkz2QHoDBLQgAQ0IAENSMCetF/6x9XLfOLPsizL6cMmsPwor8KX8cFFKzfCvxlmUiikaaznEn63pC/xU9j14p84oEX6v0EDEtCABP4C0dcxyfkcHSsAAAAASUVORK5CYII=\" y=\"-21.384163\"/>\n   </g>\n   <g id=\"patch_23\">\n    <path d=\"M 351.816981 93.384163 \nL 351.816981 22.318125 \n\" style=\"fill:none;stroke:#000000;stroke-linecap:square;stroke-linejoin:miter;stroke-width:0.8;\"/>\n   </g>\n   <g id=\"patch_24\">\n    <path d=\"M 422.883019 93.384163 \nL 422.883019 22.318125 \n\" style=\"fill:none;stroke:#000000;stroke-linecap:square;stroke-linejoin:miter;stroke-width:0.8;\"/>\n   </g>\n   <g id=\"patch_25\">\n    <path d=\"M 351.816981 93.384163 \nL 422.883019 93.384163 \n\" style=\"fill:none;stroke:#000000;stroke-linecap:square;stroke-linejoin:miter;stroke-width:0.8;\"/>\n   </g>\n   <g id=\"patch_26\">\n    <path d=\"M 351.816981 22.318125 \nL 422.883019 22.318125 \n\" style=\"fill:none;stroke:#000000;stroke-linecap:square;stroke-linejoin:miter;stroke-width:0.8;\"/>\n   </g>\n   <g id=\"text_5\">\n    <!-- 3 -->\n    <defs>\n     <path d=\"M 40.578125 39.3125 \nQ 47.65625 37.796875 51.625 33 \nQ 55.609375 28.21875 55.609375 21.1875 \nQ 55.609375 10.40625 48.1875 4.484375 \nQ 40.765625 -1.421875 27.09375 -1.421875 \nQ 22.515625 -1.421875 17.65625 -0.515625 \nQ 12.796875 0.390625 7.625 2.203125 \nL 7.625 11.71875 \nQ 11.71875 9.328125 16.59375 8.109375 \nQ 21.484375 6.890625 26.8125 6.890625 \nQ 36.078125 6.890625 40.9375 10.546875 \nQ 45.796875 14.203125 45.796875 21.1875 \nQ 45.796875 27.640625 41.28125 31.265625 \nQ 36.765625 34.90625 28.71875 34.90625 \nL 20.21875 34.90625 \nL 20.21875 43.015625 \nL 29.109375 43.015625 \nQ 36.375 43.015625 40.234375 45.921875 \nQ 44.09375 48.828125 44.09375 54.296875 \nQ 44.09375 59.90625 40.109375 62.90625 \nQ 36.140625 65.921875 28.71875 65.921875 \nQ 24.65625 65.921875 20.015625 65.03125 \nQ 15.375 64.15625 9.8125 62.3125 \nL 9.8125 71.09375 \nQ 15.4375 72.65625 20.34375 73.4375 \nQ 25.25 74.21875 29.59375 74.21875 \nQ 40.828125 74.21875 47.359375 69.109375 \nQ 53.90625 64.015625 53.90625 55.328125 \nQ 53.90625 49.265625 50.4375 45.09375 \nQ 46.96875 40.921875 40.578125 39.3125 \nz\n\" id=\"DejaVuSans-51\"/>\n    </defs>\n    <g transform=\"translate(383.5325 16.318125)scale(0.12 -0.12)\">\n     <use xlink:href=\"#DejaVuSans-51\"/>\n    </g>\n   </g>\n  </g>\n  <g id=\"axes_6\">\n   <g id=\"patch_27\">\n    <path d=\"M 437.096226 93.384163 \nL 508.162264 93.384163 \nL 508.162264 22.318125 \nL 437.096226 22.318125 \nz\n\" style=\"fill:#ffffff;\"/>\n   </g>\n   <g clip-path=\"url(#p2d7aeaa181)\">\n    <image height=\"72\" id=\"image1680f9b37a\" transform=\"scale(1 -1)translate(0 -72)\" width=\"72\" x=\"437.096226\" xlink:href=\"data:image/png;base64,\niVBORw0KGgoAAAANSUhEUgAAAEgAAABICAYAAABV7bNHAAAABHNCSVQICAgIfAhkiAAABFJJREFUeJztnEtvU1cUhe/l2Ikf8SPOEwdCokAKFa0ioc4YAEKIESPEiAkTBqgDfkcH/Qf8BIQ6bFWpg6CKSZF4qOXR8KrjJA5xHD+uE/s+Ol5nXWlfWUIddH+zfbXi66ycLO9ztm33qnszcgTMVAXq9uUzpKnfGEK9tvQPaXrDcajfbBwnTellGuqUx0/PDbGeedwgTfD3B7wQBqRJwrGRfup/hBokoAYJqEECKbriunQpOjkP9eYVDs5Lq2+hfrp9gjRhhI/91ek6aU6tNaH+dqJGmvV9fJGotflFo1Dbwnt7HmmSoCtIQA0SUIMEYjKIPRtMZaGeXmyR5vkuNn2Zh2XSFGpHUO8tlUjz5vIc1HcuPibN2vGPUN89c5Y0pVIRas2gL4QaJKAGCahBAhTS7jFuFP2sgbqS5cB7tzMN9fIGa8zT11DPvMiTZqx7Guoflq6T5sHyT1DnL+6S5uhJFerU5yZpouGArtnoChJQgwTUIAFuFGNwA9yc+hH7alLWiZ1rSBMO8NTRaXLDmWtgLmz1iqSZNDmov1/5jTQ/fnML6uqf3LgGO3wSaaMrSEANElCDBNQgAQrpKOTTwtQhBnDTy5JmttSFelCcJk3GYHBHgTyKGfgc9k/s5xNMkKazjLOhaKZCGqdhNZgR/+66ggTUIAE1SCBRo5jqYPPWavEm87uzn6D+ozpPmlwesytod0njDjE72p0cada9VbzXwSnShGVsSoNShu9ln55GnIm6ggTUIAE1SEANEuCQjkK6ZPY6UKc/VUlTPH8IdW+BTybdCauhiwlp42G4+j1+QWgMcIdf7/L4KJ21QjqTJk2SVyhdQQJqkIAaJBCTQbxhC62JQOE9Z1Dbx0bscGFImrBSgNrd3iGN6+F42rQ4X3IGG9dcmqcT2QzeP0yPk8ae4MTEr64gCTVIQA0SUIMEEu3mo0MMznyDd71bfQzTwhw3gf4k7ub5rNBx3E4P6sxnbjhLpg/1tdm/SPNz9DXUR4ZPHZOgK0hADRJQgwSSZZA1fRhrcxP4cX8S6sUyj5U7hZNQ82zEccKDNtSVVz5pfmmcg/r+4q+keThcw3t5nJtxExwbXUECapCAGiSgBgkkCml7m2u6vHvutHA8MzfPnzjcncTWMDfOO2z7Dd+FZ9uk2XyEY557F26TJvcKH7tU48cJ4rbvFrqCBNQgATVIIFkGWZgmb0TTNZw05M8fkaZ7Ajee02U+LbQzKKjxh+4WHmHTN/87v//Q7O/h49Y5g+JOT210BQmoQQJqkIAaJJCwUcQws8dAjuM4xXc4CuoHY6TxVrDBDKpTpHGtN3dHPu/m/U0ruO3acRz6qQSBHIeuIAE1SEANEhipUYz6fbo2Ucf/+tetWdKsLmOz1l7hb2cov8W3uwStg5gnMFqejIKuIAE1SEANElCDBEYL6ZgPoWQ3cPf8YZ2/n2xwDsN9Ju7PY+IG0v8duoIE1CABNUjgX0CsOxgLFvJkAAAAAElFTkSuQmCC\" y=\"-21.384163\"/>\n   </g>\n   <g id=\"patch_28\">\n    <path d=\"M 437.096226 93.384163 \nL 437.096226 22.318125 \n\" style=\"fill:none;stroke:#000000;stroke-linecap:square;stroke-linejoin:miter;stroke-width:0.8;\"/>\n   </g>\n   <g id=\"patch_29\">\n    <path d=\"M 508.162264 93.384163 \nL 508.162264 22.318125 \n\" style=\"fill:none;stroke:#000000;stroke-linecap:square;stroke-linejoin:miter;stroke-width:0.8;\"/>\n   </g>\n   <g id=\"patch_30\">\n    <path d=\"M 437.096226 93.384163 \nL 508.162264 93.384163 \n\" style=\"fill:none;stroke:#000000;stroke-linecap:square;stroke-linejoin:miter;stroke-width:0.8;\"/>\n   </g>\n   <g id=\"patch_31\">\n    <path d=\"M 437.096226 22.318125 \nL 508.162264 22.318125 \n\" style=\"fill:none;stroke:#000000;stroke-linecap:square;stroke-linejoin:miter;stroke-width:0.8;\"/>\n   </g>\n   <g id=\"text_6\">\n    <!-- 6 -->\n    <g transform=\"translate(468.811745 16.318125)scale(0.12 -0.12)\">\n     <use xlink:href=\"#DejaVuSans-54\"/>\n    </g>\n   </g>\n  </g>\n  <g id=\"axes_7\">\n   <g id=\"patch_32\">\n    <path d=\"M 522.375472 93.384163 \nL 593.441509 93.384163 \nL 593.441509 22.318125 \nL 522.375472 22.318125 \nz\n\" style=\"fill:#ffffff;\"/>\n   </g>\n   <g clip-path=\"url(#pb094fa29e5)\">\n    <image height=\"72\" id=\"image4fa36d728d\" transform=\"scale(1 -1)translate(0 -72)\" width=\"72\" x=\"522.375472\" xlink:href=\"data:image/png;base64,\niVBORw0KGgoAAAANSUhEUgAAAEgAAABICAYAAABV7bNHAAAABHNCSVQICAgIfAhkiAAABFBJREFUeJztnE9vG1UUxef5H47juHHtJDSxnbRWKBUpbRBIiIhWqFUX0KogVeqKNTv2fAB27FjwIVghqFoJVClqWlWUNKIVESUINSSp0+DEce3WduwZsz7vPOlaI9jA/e3O08lkfPRyfd97MzHnzZW+JxDNZEC33jlOno1zMdBjczvkKR/aBd3svkSetWoedH/lEHmmbrVAxx88Jo+/v48DffFjOomE+qn/ERqQgAYkoAEJxGgkEqWhoFwEvf4B5/rG6TXQm41R8ixv4XVyI8/J817pdxwokcW7Vp4DXfxmljzpW3gdf3ePLzQAOoMENCABDUiAapCJGDJ1JlKg08Vn5Fl+eAz01E2+TrHSAd0bPkye27Mvg26dbZDn8us/g/42dpI8M8+Ogk7ceUGeoN2mMRudQQIakIAGJKABCVCR7ge86o03uqDbq9wEFn/0QacXfyOPX8finnB8IUw+yIFubE6T57ur2CieP/4reZbengc9s5YnT7C5hQOOFb/OIAENSEADEuDFauCz6dEG6HJznDzmSRU07eh5Hv2N9wO29J7iTmT6do882dwroP8qpMnTPYkL4W4hRx6zVbHujz+7ziABDUhAAxLQgAS4SDuwd+PMfp08gdVgmijvTNq4mlK7cgd1Xs1n1g9Ar9ez5Dk2gV8a7ewkeZJWo+r60tAZJKABCWhAAgPVILvBMzHHYch0AXTrKNcFm8Qe7+hF6y2HE2nn4qDjUS4eERPuqJmu849c5T+MBiSgAQloQAKDFWmLSJZ3FLfPjoFOfCQ/H3T/SYE87Qquuk2Pdx3NBBb3C2Ob5Lnxy2ugZ6v8heBsVC10BgloQAIakECoGtRvd2gsWcNmbf9FkjxnZvCk47PJ6+QpWHcUOE4aFtu4o/n5o/fJM/4DNpPRPx6Tx3fsntroDBLQgAQ0IAENSCBUkbaPkD3P80aX1kEn96bI8+X8h6C/epefG/xi7mvQ54a4kN6snwDdu87HyuOLf6Jnz3EMNQA6gwQ0IAENSCBUDXIdT/e2n4KOV7m+lFbxmcSDe0fI8+nCJ6DnL66SZ2oI64lxLDr7LWtncoCm0IXOIAENSEADEtCABMIVaRf2sz/dA7LYhTxW4+atVJsBfTd7gjwfX1gE3XS88GIyIzjgepllgLcQdQYJaEACGpBAuBpk+KTBM3LW9osyZjhFnk5+GLQ/wg1eJ8Dbjhw47idwPMsSAp1BAhqQgAYkoAEJDFSkIykspmaadwu7uWEas/GT+Nxio5QgT3UBX5y5dGqFPEs7ZdD5h1zIg90aDui/pvh30IAENCABrkGOJjByGJ833D7Dpwi1BTyOzmab5Mmn8M3jtzJV8ozG0PP91qvksU8xJn/ix196Tf79YdAZJKABCWhAAhqQABdpR0PVf46FM7XDK2WrLfPenNggz1AUm8D71SJ5Kiv4rymO3OUmcGQZj5X9yjZ5wjaGNjqDBDQgAQ1I4G/Zni2JWCC7SwAAAABJRU5ErkJggg==\" y=\"-21.384163\"/>\n   </g>\n   <g id=\"patch_33\">\n    <path d=\"M 522.375472 93.384163 \nL 522.375472 22.318125 \n\" style=\"fill:none;stroke:#000000;stroke-linecap:square;stroke-linejoin:miter;stroke-width:0.8;\"/>\n   </g>\n   <g id=\"patch_34\">\n    <path d=\"M 593.441509 93.384163 \nL 593.441509 22.318125 \n\" style=\"fill:none;stroke:#000000;stroke-linecap:square;stroke-linejoin:miter;stroke-width:0.8;\"/>\n   </g>\n   <g id=\"patch_35\">\n    <path d=\"M 522.375472 93.384163 \nL 593.441509 93.384163 \n\" style=\"fill:none;stroke:#000000;stroke-linecap:square;stroke-linejoin:miter;stroke-width:0.8;\"/>\n   </g>\n   <g id=\"patch_36\">\n    <path d=\"M 522.375472 22.318125 \nL 593.441509 22.318125 \n\" style=\"fill:none;stroke:#000000;stroke-linecap:square;stroke-linejoin:miter;stroke-width:0.8;\"/>\n   </g>\n   <g id=\"text_7\">\n    <!-- 3 -->\n    <g transform=\"translate(554.090991 16.318125)scale(0.12 -0.12)\">\n     <use xlink:href=\"#DejaVuSans-51\"/>\n    </g>\n   </g>\n  </g>\n  <g id=\"axes_8\">\n   <g id=\"patch_37\">\n    <path d=\"M 607.654717 93.384163 \nL 678.720755 93.384163 \nL 678.720755 22.318125 \nL 607.654717 22.318125 \nz\n\" style=\"fill:#ffffff;\"/>\n   </g>\n   <g clip-path=\"url(#p59b6f8920f)\">\n    <image height=\"72\" id=\"image2dbaa60c28\" transform=\"scale(1 -1)translate(0 -72)\" width=\"72\" x=\"607.654717\" xlink:href=\"data:image/png;base64,\niVBORw0KGgoAAAANSUhEUgAAAEgAAABICAYAAABV7bNHAAAABHNCSVQICAgIfAhkiAAAAnpJREFUeJztnDFv00AYhu9sJykJBaGqMARRFSYG+BXMSJW68xv4PR27d+/IgsqIUCeKKiohELRRSZsSOzlfx+q7z9UbVb4jw/tsn/XFtR5/enUXO7Vv7LY3EcifPFbHfr99Ier+9i/V8/Psoag3djLVU3w8FLUvy7tc4kLov04EFASgIAAFAYrWzmStLO+tqJaLDVnvvdxVPSPXEfW7T+9Vz/DLfVE7hvT/g4IAFARoL4O8XG/687+q5cG3oagPpkPVszUYiXryrFY9dlVmkDkbqZ7weu4KJwhAQQAKAlAQoL2QDqgvJ+rY6o+ZqPdHr1TP1uCDqN2juerxfb0IjQUnCEBBAAoCRMsgX+uFmp3LYxPXhefJOk6fu0h3XzlBAAoCUBCAggDRQroJG+ywa29v6bwhyxt25RZ/ri04QQAKAlAQIGkG1bnMjkFRwc+4KtcH5/pbxlhwggAUBKAgAAUB0oZ0V96P4cq57jFBAI/1JdoSh3tbcIIAFASgIEC0DLKZ3lC6nrwfr/snqqdn5esv+T99D+1MP+mIBScIQEEACgJQECDpQtEHG/Ou1Y90QmzTxr2ld38WgRMEoCAABQGSZpAJoqMKQ8kYU3r5ikw2Uy3GuCCYImYSJwhAQQAKAlAQIO2j5yBbr+qe6pl6uVPPyobHzA4vMNuCEwSgIAAFAdIuFBfgopb5Ukx1j581rR7jwAkCUBCAggAUBEga0nklV4rH5brqOeqciro71jt1z0fPywMFASgIkPTHLFkpM+jgdFP1HF+tibr/p+HHLBUzaGmgIAAFASgIkHSh2BnLcD36/FT1fL+U3yA+/6r/7YRjSC8PFASgIMA1DvSSrsha9NUAAAAASUVORK5CYII=\" y=\"-21.384163\"/>\n   </g>\n   <g id=\"patch_38\">\n    <path d=\"M 607.654717 93.384163 \nL 607.654717 22.318125 \n\" style=\"fill:none;stroke:#000000;stroke-linecap:square;stroke-linejoin:miter;stroke-width:0.8;\"/>\n   </g>\n   <g id=\"patch_39\">\n    <path d=\"M 678.720755 93.384163 \nL 678.720755 22.318125 \n\" style=\"fill:none;stroke:#000000;stroke-linecap:square;stroke-linejoin:miter;stroke-width:0.8;\"/>\n   </g>\n   <g id=\"patch_40\">\n    <path d=\"M 607.654717 93.384163 \nL 678.720755 93.384163 \n\" style=\"fill:none;stroke:#000000;stroke-linecap:square;stroke-linejoin:miter;stroke-width:0.8;\"/>\n   </g>\n   <g id=\"patch_41\">\n    <path d=\"M 607.654717 22.318125 \nL 678.720755 22.318125 \n\" style=\"fill:none;stroke:#000000;stroke-linecap:square;stroke-linejoin:miter;stroke-width:0.8;\"/>\n   </g>\n   <g id=\"text_8\">\n    <!-- 1 -->\n    <defs>\n     <path d=\"M 12.40625 8.296875 \nL 28.515625 8.296875 \nL 28.515625 63.921875 \nL 10.984375 60.40625 \nL 10.984375 69.390625 \nL 28.421875 72.90625 \nL 38.28125 72.90625 \nL 38.28125 8.296875 \nL 54.390625 8.296875 \nL 54.390625 0 \nL 12.40625 0 \nz\n\" id=\"DejaVuSans-49\"/>\n    </defs>\n    <g transform=\"translate(639.370236 16.318125)scale(0.12 -0.12)\">\n     <use xlink:href=\"#DejaVuSans-49\"/>\n    </g>\n   </g>\n  </g>\n  <g id=\"axes_9\">\n   <g id=\"patch_42\">\n    <path d=\"M 692.933962 93.384163 \nL 764 93.384163 \nL 764 22.318125 \nL 692.933962 22.318125 \nz\n\" style=\"fill:#ffffff;\"/>\n   </g>\n   <g clip-path=\"url(#p668b84ab21)\">\n    <image height=\"72\" id=\"imagebfa7730ece\" transform=\"scale(1 -1)translate(0 -72)\" width=\"72\" x=\"692.933962\" xlink:href=\"data:image/png;base64,\niVBORw0KGgoAAAANSUhEUgAAAEgAAABICAYAAABV7bNHAAAABHNCSVQICAgIfAhkiAAABNxJREFUeJztm01MXGUUhu/l3okzDIwCM8AAlQSqLT8t1bYgizLaYGKaUCMRa42JO39impqoSzWu6sbEYOPKpNHERDc2/qGoUEWhKCVqbSkpQfm3dFooQ6cFmbnjtu/3TnLG2p3n3b03T7g3Lx+H893vXLvdOZCxbpBbGbVMrbRUgl9oI8Rq3jkBviP8GzERJwHesT1i1jI+8J8u3UPM12cawBeN+IiJjF7Fe41PE5NOJOiaqTyR+J9LAxKkAQnSgATZD206DEV6YX81QcWdc+C7KkaJKXTWwMdThcSse1hMb3euEVPvnwdf414lxjF8/3V+5leGHwZf9bFLTMEA/mNJLy8ToytIkAYkSAMS5Ca3VcCFysf+JOi5qhPgX/j5cWIKhvLBBy+kicnbgHJnZRybmGQZ/s6uNHIzGds5Bv7V6JfEfHX/2+AfKXiaGDdZA/62H88SoytIkAYkSAMSpAEJchPV2EC9bBRky7KsifVy8EW9AWLCPdh0edl2ymmjcDtmy2dZhQE/+PJoKT9PQz34ve11xBxtfx98944PiXm+DQt37WQZMbqCBGlAgjQgQW4qiM1axFkl6Lt1/BvPv5QixjM2epkUM6QsTHp9HS+scC0LzeNGOBCvJeZQ4AnwX8SOEhNtXQD/d18xMbqCBGlAgjQgQRqQINe9lhGhWv9F8CcDWXI1m75cinQuyvDzmcc1vtNTxBQNbQU/1lpOzMGqEfDHKvYToytIkAYkSAMS5PqMQ4NVz09QLB83ou/cyZvMUCgEPh2P//eny1HeKje3hTNYA3uWthPTGT4Ffq2E14uuIEEakCANSJAGJMgNXMZi9snyvQR1V2BDtdbMx8HegPE27vIS383jo6BboYzHzaR7He81kywixhdGZqOAf7auIEEakCANSJAbmMMm67PTTQS9GR0G/1LTt8S824DjJuHzQWJymQm8Gdk+Hm1J5WMzW+5PErNhDNLkbfDP1hUkSAMSpAEJ0oAEufbsIlwoGeSG6ljrJvAHCieJOdKKTVd4hN/gWeeMXXeWt4W5yHaxKDtZht/jTTgP+Wz4F2JOGfNBwQWeRdIVJEgDEqQBCXLTxtFuZHSFoCMn94HvaH+LmM7d+HZuuLGZmNA0zjF6SW7erDxs3pwQ7yC9zVgTZ2MhYur2nQef8Hhk570f9oDfcvYKPw4/oepGaUCCNCBBGpAg13zLZ0/NExQZwJnAj1oaiTkcGQB/PLabmNA4FlfHaFIty7KsCpxJvLSLZ3bi9+Ez79lxhhif8TXjG990EFNz3Ni+T84SoytIkAYkSAMSRK/i0gk+sSj+HZvJ7tG9xDz1AH5g8kxbPzEfTD4IPn/xDmLiu9C3tpwjJubHZrZ3Zisxef246b57kBtge3wKfLbGVVeQIA1IkAYkSAMSxOclWY6H8ybxq+fSXv545LX6GPjXy74nZvYgNn0TiQgxdUEsplOr3CiO9OP9o4M8Dxk05hbTixeJ8XKYo9QVJEgDEqQBCeIalEXmW8eSob+I6avGzemWJy8Q82JpH/hDyS5ifvp8G/jIr1wnNo/h/b0FvlfK/CjmJk9QdAUJ0oAEaUCCNCBBdrv96L+uXubRr2VZlt1wF/g/uninHtyOc4vpEyXEVPZgQ5eZniPGu0UFOBfpChKkAQnSgAT9A3qdTYqK/oQxAAAAAElFTkSuQmCC\" y=\"-21.384163\"/>\n   </g>\n   <g id=\"patch_43\">\n    <path d=\"M 692.933962 93.384163 \nL 692.933962 22.318125 \n\" style=\"fill:none;stroke:#000000;stroke-linecap:square;stroke-linejoin:miter;stroke-width:0.8;\"/>\n   </g>\n   <g id=\"patch_44\">\n    <path d=\"M 764 93.384163 \nL 764 22.318125 \n\" style=\"fill:none;stroke:#000000;stroke-linecap:square;stroke-linejoin:miter;stroke-width:0.8;\"/>\n   </g>\n   <g id=\"patch_45\">\n    <path d=\"M 692.933962 93.384163 \nL 764 93.384163 \n\" style=\"fill:none;stroke:#000000;stroke-linecap:square;stroke-linejoin:miter;stroke-width:0.8;\"/>\n   </g>\n   <g id=\"patch_46\">\n    <path d=\"M 692.933962 22.318125 \nL 764 22.318125 \n\" style=\"fill:none;stroke:#000000;stroke-linecap:square;stroke-linejoin:miter;stroke-width:0.8;\"/>\n   </g>\n   <g id=\"text_9\">\n    <!-- 0 -->\n    <defs>\n     <path d=\"M 31.78125 66.40625 \nQ 24.171875 66.40625 20.328125 58.90625 \nQ 16.5 51.421875 16.5 36.375 \nQ 16.5 21.390625 20.328125 13.890625 \nQ 24.171875 6.390625 31.78125 6.390625 \nQ 39.453125 6.390625 43.28125 13.890625 \nQ 47.125 21.390625 47.125 36.375 \nQ 47.125 51.421875 43.28125 58.90625 \nQ 39.453125 66.40625 31.78125 66.40625 \nz\nM 31.78125 74.21875 \nQ 44.046875 74.21875 50.515625 64.515625 \nQ 56.984375 54.828125 56.984375 36.375 \nQ 56.984375 17.96875 50.515625 8.265625 \nQ 44.046875 -1.421875 31.78125 -1.421875 \nQ 19.53125 -1.421875 13.0625 8.265625 \nQ 6.59375 17.96875 6.59375 36.375 \nQ 6.59375 54.828125 13.0625 64.515625 \nQ 19.53125 74.21875 31.78125 74.21875 \nz\n\" id=\"DejaVuSans-48\"/>\n    </defs>\n    <g transform=\"translate(724.649481 16.318125)scale(0.12 -0.12)\">\n     <use xlink:href=\"#DejaVuSans-48\"/>\n    </g>\n   </g>\n  </g>\n  <g id=\"axes_10\">\n   <g id=\"patch_47\">\n    <path d=\"M 10.7 182.33689 \nL 81.766038 182.33689 \nL 81.766038 111.270852 \nL 10.7 111.270852 \nz\n\" style=\"fill:#ffffff;\"/>\n   </g>\n   <g clip-path=\"url(#p2cd96b5c2e)\">\n    <image height=\"72\" id=\"image0633fa67d6\" transform=\"scale(1 -1)translate(0 -72)\" width=\"72\" x=\"10.7\" xlink:href=\"data:image/png;base64,\niVBORw0KGgoAAAANSUhEUgAAAEgAAABICAYAAABV7bNHAAAABHNCSVQICAgIfAhkiAAAApVJREFUeJztnDFv00AUx312SEMCaomKREGoQUIdATFVKmzdWfrhmBFfgZ2RAYTEUKRmSAUTSkJJI7d1Y98xv3uW/lbkOyr0/23PerWvP78+nX3nmkNz5JIApP2+Ola+3BPx5M1tlfNifyziL+ORytl7W8gDn4/1AGyFB9mAtJWz/MdQEICCABQE6LR2JmNEmA7vqZTZc9m49w90c30/+ijio+RQ5Zzd2RVxe7+EhhUEoCAABQHa+/N1cr7p8guVsnm6EvGnyROVc/Log4h/nOtetnVZrjPCtWAFASgIQEEACgIEm2PZ5VId25heidhZffnT1ZaIZ5Ohytmez0RcObvOEBvBCgJQEICCAMF6kLP6RWXVvyXi0c5M5SytfMt4d5zpk09/excL8lI0SRJWEISCABQEoCBAsCZtUqOOlQPZcF9tT1TOIJVLOt2lbsCuKNSxULCCABQEoCBAyAUBRdWV9+Np75fK2e2cibjs6V5mOvGGzQoCUBCAggAUBIjapI33hP+n0nuIMiNz7EbNibKaJ/xAsIIAFASgIEDUN4qdS7n68D3fUTmv+ycitnXtJot3X1lBAAoCUBCAggBxJ4qlbNzzYqByqkQ+vdtuzYk4Ubw5UBCAggBxe5C3RHxds/1l5eL1lyawggAUBKAgAAUBojbpxHvAL0p9+cq/Z+G2/jSCFQSgIAAFAaL2oOxKfoQyzfXD6oW3jOFqRsil5xsEBQEoCEBBgHDdruYDk9Rr0ouFXnrOvSZd9Wpmiql3X43eQ9TW5nJWEICCABQEiDpRTBe5iLOfmyrn27PH8meuG/QXfszy76AgAAUBKAgQcKJY8xHKXG4Sv//1gcp5NzwQ8cNj/b/I3Ln+ojoUrCAABQEoCPAXz/aQRwU2OV4AAAAASUVORK5CYII=\" y=\"-110.33689\"/>\n   </g>\n   <g id=\"patch_48\">\n    <path d=\"M 10.7 182.33689 \nL 10.7 111.270852 \n\" style=\"fill:none;stroke:#000000;stroke-linecap:square;stroke-linejoin:miter;stroke-width:0.8;\"/>\n   </g>\n   <g id=\"patch_49\">\n    <path d=\"M 81.766038 182.33689 \nL 81.766038 111.270852 \n\" style=\"fill:none;stroke:#000000;stroke-linecap:square;stroke-linejoin:miter;stroke-width:0.8;\"/>\n   </g>\n   <g id=\"patch_50\">\n    <path d=\"M 10.7 182.33689 \nL 81.766038 182.33689 \n\" style=\"fill:none;stroke:#000000;stroke-linecap:square;stroke-linejoin:miter;stroke-width:0.8;\"/>\n   </g>\n   <g id=\"patch_51\">\n    <path d=\"M 10.7 111.270852 \nL 81.766038 111.270852 \n\" style=\"fill:none;stroke:#000000;stroke-linecap:square;stroke-linejoin:miter;stroke-width:0.8;\"/>\n   </g>\n   <g id=\"text_10\">\n    <!-- 1 -->\n    <g transform=\"translate(42.415519 105.270852)scale(0.12 -0.12)\">\n     <use xlink:href=\"#DejaVuSans-49\"/>\n    </g>\n   </g>\n  </g>\n  <g id=\"axes_11\">\n   <g id=\"patch_52\">\n    <path d=\"M 95.979245 182.33689 \nL 167.045283 182.33689 \nL 167.045283 111.270852 \nL 95.979245 111.270852 \nz\n\" style=\"fill:#ffffff;\"/>\n   </g>\n   <g clip-path=\"url(#p13e97ff3db)\">\n    <image height=\"72\" id=\"imagef84fcd2479\" transform=\"scale(1 -1)translate(0 -72)\" width=\"72\" x=\"95.979245\" xlink:href=\"data:image/png;base64,\niVBORw0KGgoAAAANSUhEUgAAAEgAAABICAYAAABV7bNHAAAABHNCSVQICAgIfAhkiAAABF9JREFUeJztnM9PFHcYxpnZGVjAZVmWBXZBd8UFS0pSiLUNadSU9KBN6olzE6N/hbee2lujnhuTerBpD40XtUl7oP5K1FBi1BWo4YeAArvLgi7uwu6M52eeSd6Vw57ez+3ZPDCThy8v7/ud72B8Y0y4DXXCbGkBvTs2RJ7Fb23QTTmTPMkbOdDOzEvyuJXKfm6R4KsrgAYkoAEJaEACVl2vFgiALEVtsqRHX4EuV/kW32Z6QB9YaCKPFuk6oQEJaEACda1BbqkMunljlzwrW2HQX8SXyPM41Qu6rT1MHmdnx3Px/fXDuoIENCABDUhAAxKob5Gu7IFuWsyTpzqVAF08/YY8b0dLoEtP4uRp3CyApqJdI7qCBDQgAQ1IoL7DqqdZc9Y2yNLzIAr60WCSPCMpHGgzXw2Q5/AqNpPG3DzfTg0Dra4gAQ1IQAMS0IAEuEgbBrsMT46uw559TMt+zVvz02XQkcl+8qxNhEC3HM+SJ/8Si33Heo481Rw3ql50BQloQAIakIBlBoPwgZnoIZMTakbPms+QmcXf8ZqeKvjULe/36XrQTp75XrzH5KlF8syORUC3z/aSx9h+h7ezxzucuoIENCABDUhAAxKwzO4YfLB6JkGmrUFsDDv/48IZ+wcfI1dWXvPVnKp4Q97i7s6/Ik/i7gHQs/3d5Ok+gs1jbriLPLF5bDi9fyAaGnQFiWhAAhqQgOXaOK+WOtl06stnoKdT3HTly32gI3+XyVPNeobKGgZc5/17+iz4fAV0+CEPtPbZTdDrn/G1Oqc8dSlfII+uIAENSEADEtCABKyGLE7mHRluuubGsJm8MHCPPJfOjoMO7HLhbLuLu5XVDW7MqJn0m/jzWIAjM/wHYb2Ih9Y70rwDUTyMDW/rHJ911BUkoAEJaEACVtWzqxaeWiPTwgAeL1maiJLn4ugt0D+ap8lTCWJdit4Lkqf6Gq/vlrm+uHs40DYW2FMs4C7o8FEenp/3Y1ccivAQritIQAMS0IAENCABy9uYuctczHr/xeL1+5HPyfPzid9AXzl2nTw/hL8DvdzVR574nTbQgf95R9Ep4oRv7vDjGiuLu4WhT30K+UHcKXXbQ+TRFSSgAQloQAJ0/MXxaczsDL5QEpscJM+v6THQl1N/kufq0DX0RMfJczM1CrrnPr8ZHc54zkA3+pzi8cy8psFHdpxmTw2yA+TRFSSgAQloQAIakABXN58dPKewBbrzMe/OPf0kDfqvWJo858P4YspP8UnynDzzAvQvwyfIMzeNDabfv69oPIr33GTyeSV7E4uyUSyRR1eQgAYkoAEJ1PQyCx1JWVgmT8IzZF4a+po8x0eugk5b/PM5ZGF9G++aIc/IOF6/xeRhtdvGGvTH6jHydDzz1Ft99PzxaEACGpCABiSwrzcO/V5CaX2yCnr79iHynAt8DzoZ3iTP9MJB0PYSPw7ejePb0/3JdfJk37WCdu9EyNP3CL/O2domj64gAQ1IQAMS+AC5PEJE704IMgAAAABJRU5ErkJggg==\" y=\"-110.33689\"/>\n   </g>\n   <g id=\"patch_53\">\n    <path d=\"M 95.979245 182.33689 \nL 95.979245 111.270852 \n\" style=\"fill:none;stroke:#000000;stroke-linecap:square;stroke-linejoin:miter;stroke-width:0.8;\"/>\n   </g>\n   <g id=\"patch_54\">\n    <path d=\"M 167.045283 182.33689 \nL 167.045283 111.270852 \n\" style=\"fill:none;stroke:#000000;stroke-linecap:square;stroke-linejoin:miter;stroke-width:0.8;\"/>\n   </g>\n   <g id=\"patch_55\">\n    <path d=\"M 95.979245 182.33689 \nL 167.045283 182.33689 \n\" style=\"fill:none;stroke:#000000;stroke-linecap:square;stroke-linejoin:miter;stroke-width:0.8;\"/>\n   </g>\n   <g id=\"patch_56\">\n    <path d=\"M 95.979245 111.270852 \nL 167.045283 111.270852 \n\" style=\"fill:none;stroke:#000000;stroke-linecap:square;stroke-linejoin:miter;stroke-width:0.8;\"/>\n   </g>\n   <g id=\"text_11\">\n    <!-- 7 -->\n    <g transform=\"translate(127.694764 105.270852)scale(0.12 -0.12)\">\n     <use xlink:href=\"#DejaVuSans-55\"/>\n    </g>\n   </g>\n  </g>\n  <g id=\"axes_12\">\n   <g id=\"patch_57\">\n    <path d=\"M 181.258491 182.33689 \nL 252.324528 182.33689 \nL 252.324528 111.270852 \nL 181.258491 111.270852 \nz\n\" style=\"fill:#ffffff;\"/>\n   </g>\n   <g clip-path=\"url(#pd24a3b80e8)\">\n    <image height=\"72\" id=\"imagedaaf696953\" transform=\"scale(1 -1)translate(0 -72)\" width=\"72\" x=\"181.258491\" xlink:href=\"data:image/png;base64,\niVBORw0KGgoAAAANSUhEUgAAAEgAAABICAYAAABV7bNHAAAABHNCSVQICAgIfAhkiAAABHpJREFUeJztnMtrXFUcx8+9mXcyycRU02SaZhqbiQnWF8EqFEwhWBCK+KAVuxEFdxZx49KF/SMEF0JBF0XwsciiiIIGazS12JYmJdqX6WPSTjIZnMlM5z5cf8/3wu+21I38Prvv4cs9k29OfjmvO86s83po7hW3i5oSgw+Drj83Sp4bLzign3zmL36OG4BePD1OntE5D3R2YYU8fm2T2u4H94E85X+MBiSgAQloQAKJWC4Hi6tdkI0x5vaLu0A3X66T553di6AP5M+RZzTRAT23jYv9R+lXQY/XS+Rxf18GHbbb5ImDjiABDUhAAxKIVYPcdBr01p4d5LFrztHJH8gzt7YH9Mlbk+R5rXgG9Gz3Enneen4e9IlrM+QpVYZAe1f+Jo8JfG6z0BEkoAEJaEACGpBAvCJd6ANdnUyR5+3y96BLydvkuXBzEHSnliHPF/406JHdVfK82/8r6NMHdpJnYwknmD0V/jxBo0FtNjqCBDQgAQ1IgGuQtTA1xpiwtwd0YyQgz3TuEuipJP99H5nExepK4xHyFLM10AW3SZ6hBH6eN7cvkOdYeQx0728F8gRN69khb67qCBLQgAQ0IAENSCCiSHNmQTdO6PyBDnmKXf+Azrtp8jQDnGD+vDJGnrCD/f9YfJQ8x8pfgx5ObnBfO3GlHhTy5DHXuclGR5CABiSgAQnEO9VIYI6JNO/EJa355R93+TEnFp4FXfqKJ5zpdTx92BznE5QPDh0CfXSCdy9D+zMmIsaCXW9D/rl0BAloQAIakIAGJBCvSAdYTP1OkiwdayF8w+snT3YVu8tdXCWPf/0W6P6NInlqZTzSOVPk42nj2QX43q9BGaMjSEQDEtCABLgGhTx5c1t4J9DUe8hTDXBxmnF4QRukrDoQtXvpW5O1Gl+jyaxhDVq/myOPceW+4qAjSEADEtCABDQggVgTRaexBTpdHSDPuo+FeyRRI097GAt30Nctdx51FONjm+uwx0nhP5swajUfAx1BAhqQgAYkEDFRjFjUtXF7MMlzN1O1atC+DL9MMlZaA90a5KPnTAoXwk6OJ4HtAk76ki7vBIYtfOHG6UR4qIXRESSgAQloQAIakECsiWLYwHs0uQqv+M82R0AfyfPdwoNDZ0F/NvUSeXYs4zGP/1AveRolj9ps7N1Ld5PvKwUROxc2OoIENCABDUggVg0Ktlqg81db5Pn2T3xR5b2BefIczp8HfXz/XvLUVodBe1n+HRZ3VUBfrvPiubBiLVbXefEc56RDR5CABiSgAQloQALxJooe7gSmrt7hBy3gCyWfP/Y0eT4cwK+Q+HjqG/K8/8ob2HfE55nOY8FdPFUmz/gSeujSeEx0BAloQAIakEC86y/WhMpf45fTtv+yDfQnEzPkmZi5CXo2y7Xs073HQZ+sP06eLy8+BXr4p4hF52W8BB168gI3Ch1BAhqQgAYkoAEJOPf1HWYRd226CvhGX2Mff/fYtYPY1cwTy+Rp+/h/49Q5fk7xO+y/b/4KebwKHjHpHcX/CA1IQAMS+BfPEib8UBTbJQAAAABJRU5ErkJggg==\" y=\"-110.33689\"/>\n   </g>\n   <g id=\"patch_58\">\n    <path d=\"M 181.258491 182.33689 \nL 181.258491 111.270852 \n\" style=\"fill:none;stroke:#000000;stroke-linecap:square;stroke-linejoin:miter;stroke-width:0.8;\"/>\n   </g>\n   <g id=\"patch_59\">\n    <path d=\"M 252.324528 182.33689 \nL 252.324528 111.270852 \n\" style=\"fill:none;stroke:#000000;stroke-linecap:square;stroke-linejoin:miter;stroke-width:0.8;\"/>\n   </g>\n   <g id=\"patch_60\">\n    <path d=\"M 181.258491 182.33689 \nL 252.324528 182.33689 \n\" style=\"fill:none;stroke:#000000;stroke-linecap:square;stroke-linejoin:miter;stroke-width:0.8;\"/>\n   </g>\n   <g id=\"patch_61\">\n    <path d=\"M 181.258491 111.270852 \nL 252.324528 111.270852 \n\" style=\"fill:none;stroke:#000000;stroke-linecap:square;stroke-linejoin:miter;stroke-width:0.8;\"/>\n   </g>\n   <g id=\"text_12\">\n    <!-- 0 -->\n    <g transform=\"translate(212.974009 105.270852)scale(0.12 -0.12)\">\n     <use xlink:href=\"#DejaVuSans-48\"/>\n    </g>\n   </g>\n  </g>\n  <g id=\"axes_13\">\n   <g id=\"patch_62\">\n    <path d=\"M 266.537736 182.33689 \nL 337.603774 182.33689 \nL 337.603774 111.270852 \nL 266.537736 111.270852 \nz\n\" style=\"fill:#ffffff;\"/>\n   </g>\n   <g clip-path=\"url(#p776eef4427)\">\n    <image height=\"72\" id=\"imageae29a68e6c\" transform=\"scale(1 -1)translate(0 -72)\" width=\"72\" x=\"266.537736\" xlink:href=\"data:image/png;base64,\niVBORw0KGgoAAAANSUhEUgAAAEgAAABICAYAAABV7bNHAAAABHNCSVQICAgIfAhkiAAAAnJJREFUeJztnL9rFEEUx2f2x102JBiLQGIdDFrYShoRsRLLlPlz0vhfSAr/hYBCWhvLFBKCFmIgaLMol7vbnR3rt2/geyf3liN8P90M7+bmPvd4vLndPf/aH0dngC9Hai48fyrG1yc6xjdejB+fTVRM/HLZmzD5CM455zKzle8JFASgIAAFAQqrhf2oVHP1QSXG7159UDFX030x/vTxhYqpCrl2bOb/s8WFYAYBKAhAQQDDGqSbwNmObALfbN6qmL2iFuPz6uVK97UszCAABQEoCEBBALMi7TKvprreu21lGypmJ5vK1+Qr3dXSMIMAFASgIIBdDWpaNZX3zpRNDGZvvyqYQQAKAlAQgIIAZkU6Bl2As7m8PJMq0tteFveu0A1nqgm1ghkEoCAABQHsGsVEDSrkOdTVnb4asZvLLbWVCnG+kDFxNlt+fwvCDAJQEICCABQEMGwUOzWXz2SjeBP0paEnva8sbOim0OfD/czIDAJQEICCAHaNYoK8kTXoV9hWMc9G8p7EME4sVA63bWYQgIIAFASgIMCgRXoRSi+bwEQv6VzBIr02UBCAggBrV4NClIdcr8+8g8IMAlAQgIIAFAQYtEiHUv46uJv/UTF3vSJd/k0sdDdNTNrADAJQEICCAHYPs+TafVvJGvSof9Oic+5HK183rvUTzXFu9wBdH2YQgIIAFASgIMCgTxy2m7JITxP/KHExORTjca3vM0pd1raCGQSgIAAFAQY9rPogi87F5EDFvP92JMYPf+umMHUPthXMIAAFASgIQEEAsyLdJW7ufvBdPqhy+vmtitn6KhvM8uanimkjG8W1gYIAFAT4Bw7Ie4WauPEDAAAAAElFTkSuQmCC\" y=\"-110.33689\"/>\n   </g>\n   <g id=\"patch_63\">\n    <path d=\"M 266.537736 182.33689 \nL 266.537736 111.270852 \n\" style=\"fill:none;stroke:#000000;stroke-linecap:square;stroke-linejoin:miter;stroke-width:0.8;\"/>\n   </g>\n   <g id=\"patch_64\">\n    <path d=\"M 337.603774 182.33689 \nL 337.603774 111.270852 \n\" style=\"fill:none;stroke:#000000;stroke-linecap:square;stroke-linejoin:miter;stroke-width:0.8;\"/>\n   </g>\n   <g id=\"patch_65\">\n    <path d=\"M 266.537736 182.33689 \nL 337.603774 182.33689 \n\" style=\"fill:none;stroke:#000000;stroke-linecap:square;stroke-linejoin:miter;stroke-width:0.8;\"/>\n   </g>\n   <g id=\"patch_66\">\n    <path d=\"M 266.537736 111.270852 \nL 337.603774 111.270852 \n\" style=\"fill:none;stroke:#000000;stroke-linecap:square;stroke-linejoin:miter;stroke-width:0.8;\"/>\n   </g>\n   <g id=\"text_13\">\n    <!-- 1 -->\n    <g transform=\"translate(298.253255 105.270852)scale(0.12 -0.12)\">\n     <use xlink:href=\"#DejaVuSans-49\"/>\n    </g>\n   </g>\n  </g>\n  <g id=\"axes_14\">\n   <g id=\"patch_67\">\n    <path d=\"M 351.816981 182.33689 \nL 422.883019 182.33689 \nL 422.883019 111.270852 \nL 351.816981 111.270852 \nz\n\" style=\"fill:#ffffff;\"/>\n   </g>\n   <g clip-path=\"url(#p5fe755b2ff)\">\n    <image height=\"72\" id=\"image0c42f7fbb1\" transform=\"scale(1 -1)translate(0 -72)\" width=\"72\" x=\"351.816981\" xlink:href=\"data:image/png;base64,\niVBORw0KGgoAAAANSUhEUgAAAEgAAABICAYAAABV7bNHAAAABHNCSVQICAgIfAhkiAAAAkNJREFUeJztnDtOw0AQhr2280RAhUBCAkWkpKGgpMsROAUUHIUCiQtwAwouQImEKJE4QApCHqCQh2Mv9XhW+iPQbiL0f91YI8f6MpqMveuYjjm3kQ+M0cdOj0X4dllRKa39noizmz2V03x4EbHN5r+4wOWIvZ35n0BBAAoCUBAg9XVik+oGPDraEPHd2a3KqZuFiC+2rlROM3b8AHiCFQSgIAAFAbz1oMjRJ2bb8thJdaFy7se7Iq6OC33uws9s64IVBKAgAAUBKAjgb1BMEnXMprJJ14z++M+iIeJ4rhuyzfM/Xt3ysIIAFASgIIC3HuTqE8lM9pOZ1YPiQeVDxHkt3I2pC1YQgIIAFASgIIC/u3nHHXcylXG/0Ms1h+lAxK4mXR5CbeFvcGQFASgIQEEAfz3IQbyQfemr0N/PTiJz8goHxbWGggAUBKAgQNgmXZrnvq3++GapJxeuK+TS8/pAQQAKAgR9omhyOQQOSysYURRFzVKjsnpxJCisIAAFASgIQEGAoIPiMmRWNmkTbiuQE1YQgIIAFARYaQ+aWr2XembH8oBjiyL3KK4RFASgIAAFAVbapDPHE8VhIfcMlZ9ChoYVBKAgAAUBwu6TTuRqxGY8UTm9XA6PiWOfdEhYQQAKAlAQgIIAQQfF8jJy3WQq53Uu/4qivPk8ivgyy1pBQQAKAgTeoyjj50lL5TwO2iKujvQLLyFhBQEoCEBBAAoCBN0f1HiXL69cP3X0BXWrIm53+yont661ID+wggAUBKAgwA/eEHuIgcGcmgAAAABJRU5ErkJggg==\" y=\"-110.33689\"/>\n   </g>\n   <g id=\"patch_68\">\n    <path d=\"M 351.816981 182.33689 \nL 351.816981 111.270852 \n\" style=\"fill:none;stroke:#000000;stroke-linecap:square;stroke-linejoin:miter;stroke-width:0.8;\"/>\n   </g>\n   <g id=\"patch_69\">\n    <path d=\"M 422.883019 182.33689 \nL 422.883019 111.270852 \n\" style=\"fill:none;stroke:#000000;stroke-linecap:square;stroke-linejoin:miter;stroke-width:0.8;\"/>\n   </g>\n   <g id=\"patch_70\">\n    <path d=\"M 351.816981 182.33689 \nL 422.883019 182.33689 \n\" style=\"fill:none;stroke:#000000;stroke-linecap:square;stroke-linejoin:miter;stroke-width:0.8;\"/>\n   </g>\n   <g id=\"patch_71\">\n    <path d=\"M 351.816981 111.270852 \nL 422.883019 111.270852 \n\" style=\"fill:none;stroke:#000000;stroke-linecap:square;stroke-linejoin:miter;stroke-width:0.8;\"/>\n   </g>\n   <g id=\"text_14\">\n    <!-- 1 -->\n    <g transform=\"translate(383.5325 105.270852)scale(0.12 -0.12)\">\n     <use xlink:href=\"#DejaVuSans-49\"/>\n    </g>\n   </g>\n  </g>\n  <g id=\"axes_15\">\n   <g id=\"patch_72\">\n    <path d=\"M 437.096226 182.33689 \nL 508.162264 182.33689 \nL 508.162264 111.270852 \nL 437.096226 111.270852 \nz\n\" style=\"fill:#ffffff;\"/>\n   </g>\n   <g clip-path=\"url(#p3375c5d496)\">\n    <image height=\"72\" id=\"imaged9f9040914\" transform=\"scale(1 -1)translate(0 -72)\" width=\"72\" x=\"437.096226\" xlink:href=\"data:image/png;base64,\niVBORw0KGgoAAAANSUhEUgAAAEgAAABICAYAAABV7bNHAAAABHNCSVQICAgIfAhkiAAAA6JJREFUeJztm79PE2EYx3tHuZb2SqFQLFIREAiD0YSgizEGY4zEwcXoQkxkdtLFxDg7mOigfwCDJizoZowaFxNMNOmAiuGHREAB8QqthUKhd+f83Lfxad6UDub5bN8339xdv/fm6fvrtHPaZddXJbRAgOjC4DHwrIzsEF1cDIOnZzRDtPNlGm/mVuZn6RW5yn+MBMQgATFIQAz+at5M0zSit5tqwDPc95HoiXgXeAovWon2T5V4z66t8ISI9CAGCYhBAmKoag1yi0Wia/M4mLP2TKJ769fAk4ok6XV0DTyuo/KEiPQgBgmIQQJikIAYqlukHVqUjWwRPF8zCaLPxGfBs2vS9xr248/w/iGoIj2IQQJikIAYqlqDvKM3I50Hy/TPFqKHEp/Bk0/Q9xqLRPBeOzvYpoD0IAYJiEECYpCAGKpcpOlAUV/PgSUw30i004/vcCvpmapHTfD4LOuf9y4X6UEMEhCDBMRQuRqk0x0KrdQqn013Gpz1DfCYC4eIztlB8ATbae2ym0sMFOc9715xl0N6EIMExCABMUhADEpFWg/jmR3fEVpci9E6sBizy0Q7mSx4QhYtpovbMfAcT9DrLMe6wRP0/EmobgNJD2KQgBgkIIbyapDn2IqWbAXLtyt0kunr2QJP83gn0dHXeLbQyOwRPWkdBM+l9kmiZw/0gafOcx5SdZdDehCDBMQgATFIQAxKA0XHDGBb1zbR9/ufgefW8jDR0U/N+EAb9DrphUbwhDp2ic4ncOVAj9BVRmcL/zTKQXoQgwTEIAExqE1Wc7it667QVb0GHbeVT5ycIXrpfS94oqlfRIcX8Cy1d5Wx0IQzUdcM0QYN61Q5Ox3SgxgkIAYJiEECYiivSHuL2ZoFlpYPcaIfDJwHz83kK6KvX8APVYJpuoJoZLCQ5h2DaLsBZ+puCAezKkgPYpCAGCQgBqWBop39A22NEz+I/t6G9SU10kH0vVPj4LmTvUq0sYEDvJifTjwD9QXwuIFa2qCpfXQnPYhBAmKQgBgkIAa180ElZsH2yirRbW/w3ODjw3Tw+OjiKHjuDtGVyJfpo+AZNKeIfmoM4CPW1EKbCtKDGCQgBgmIoWJnFL1bu9rcIni6ntNVvhuRYfA8PD1G9FjnW/BkHXqvnIXHcdo2N4l2FM+/SA9ikIAYJCAGCYhh3z5mcfK47WOk5ojuLuKM//bSNaKfnJ0BT26XbvvE3+GgUFv9TRvkY5b9QQJikIAY/gJDQOHc5Sl97gAAAABJRU5ErkJggg==\" y=\"-110.33689\"/>\n   </g>\n   <g id=\"patch_73\">\n    <path d=\"M 437.096226 182.33689 \nL 437.096226 111.270852 \n\" style=\"fill:none;stroke:#000000;stroke-linecap:square;stroke-linejoin:miter;stroke-width:0.8;\"/>\n   </g>\n   <g id=\"patch_74\">\n    <path d=\"M 508.162264 182.33689 \nL 508.162264 111.270852 \n\" style=\"fill:none;stroke:#000000;stroke-linecap:square;stroke-linejoin:miter;stroke-width:0.8;\"/>\n   </g>\n   <g id=\"patch_75\">\n    <path d=\"M 437.096226 182.33689 \nL 508.162264 182.33689 \n\" style=\"fill:none;stroke:#000000;stroke-linecap:square;stroke-linejoin:miter;stroke-width:0.8;\"/>\n   </g>\n   <g id=\"patch_76\">\n    <path d=\"M 437.096226 111.270852 \nL 508.162264 111.270852 \n\" style=\"fill:none;stroke:#000000;stroke-linecap:square;stroke-linejoin:miter;stroke-width:0.8;\"/>\n   </g>\n   <g id=\"text_15\">\n    <!-- 7 -->\n    <g transform=\"translate(468.811745 105.270852)scale(0.12 -0.12)\">\n     <use xlink:href=\"#DejaVuSans-55\"/>\n    </g>\n   </g>\n  </g>\n  <g id=\"axes_16\">\n   <g id=\"patch_77\">\n    <path d=\"M 522.375472 182.33689 \nL 593.441509 182.33689 \nL 593.441509 111.270852 \nL 522.375472 111.270852 \nz\n\" style=\"fill:#ffffff;\"/>\n   </g>\n   <g clip-path=\"url(#pd2ee84c818)\">\n    <image height=\"72\" id=\"imageda2a825197\" transform=\"scale(1 -1)translate(0 -72)\" width=\"72\" x=\"522.375472\" xlink:href=\"data:image/png;base64,\niVBORw0KGgoAAAANSUhEUgAAAEgAAABICAYAAABV7bNHAAAABHNCSVQICAgIfAhkiAAAA75JREFUeJztm0tPE3EUxfsAKZZaKlSesZKKmCARiC4ETDQaE+NSFsbEjR/AnZ/Cj+DOhXFnWOjCsFEDJqilCCpYwAqlgLzl3TIzrs+cJndoBhOT+9ud5sx0cnpz+3+N96a31/K4gD8SAb1+q4U8C3dyeE22jDxNfTvoGZ4gj7m3V8wjFoXvn33Tf4oGJKABCWhAAiXu3QlvtRvl7B+2D4L2tfP/w/P1G6Bj2Sh5zJkMfmC58j9TEK0gAQ1IQAMScK0HWZuboEOZA/IkNxpBP2roJ8/Tlh7QZiTEXzZr+10tw+FTHh6tIAENSEADEtCABFxr0mYuD7oitUGeRDIO+lvVd/IEwzhTN4LHyOPzeUFbpuPHPDRaQQIakIAGJODeZNW0Ddayv8lSlTgJ+uPlJvJcqJkHPdN4jjzhJK5EWgc8KHULrSABDUhAAxLQgATca9I2TNvs3uPxeCLjuKXzdqqZPPdaP4FOtPP2UeVwLX4wmS7wAO7M8LWCBDQgAQ1I4Mh6kGVwDyj9uQA6OBQnz9Z5HAQ2XMqSZ3MIe1DF3AJ5zO1tR88poRUkoAEJaEACGpDAkTXpQtvBxsoa6OgXPufT/wsHhnfjSfK86KwHHRo9xd8/lRafxwlaQQIakIAGJHB0PagA1gHufJSlFsnj/RADvRXjc4zhzmXQuwPV5AlkcGWy2HONWkECGpCABiSgAQkU1aS9JXyZrzJsM3H25jpuRxtLy+SJjtSBfn+NZ/zX61OgX7V3kSf2FRu3mZkjj5PBo1aQgAYkoAEJOOtBXjxu4q+rJcvqVTx/aBzzkqd6AAeGZjpDnkAaJ7SzYzwRrY4lQOc7tsiTf1cF2jfPq45Otqy1ggQ0IAENSEADEnDYpDHH3Bl+wWSzF7eaoyFunGv7OAiMLK+Rx7O6DjKc4ia9lg+C7olNk+dHTSvoigKDW23SLqABCWhAAo56kNd2Ljkf4su6G8dB346MkufxxQegQ+nT5PHv4qqjUcYDzrzlB91Yzr1srML22/v95HGCVpCABiSgAQloQAJFDRTNUm6cJ0pwW6UnwFs6bV2ToEcCvFpo+QKga5r5Pt0hXFHsW+kgT8m+bbVQt56PBg1IQAMScNaDbANFD7cgz58D7B3V/iB5nsRegn5d1UqeDaMc9I7BL9Q9m78CemzwLHniEzjptXI58jhBK0hAAxLQgAQ0IAFnTdrEQVZgcZ8sbz63gb6fD5AnZ+KMejRbT578Ejbp4xmehVem8JB6fKLAyuT0DMhi30rUChLQgAQ0IIG/qkrxTv4mMN8AAAAASUVORK5CYII=\" y=\"-110.33689\"/>\n   </g>\n   <g id=\"patch_78\">\n    <path d=\"M 522.375472 182.33689 \nL 522.375472 111.270852 \n\" style=\"fill:none;stroke:#000000;stroke-linecap:square;stroke-linejoin:miter;stroke-width:0.8;\"/>\n   </g>\n   <g id=\"patch_79\">\n    <path d=\"M 593.441509 182.33689 \nL 593.441509 111.270852 \n\" style=\"fill:none;stroke:#000000;stroke-linecap:square;stroke-linejoin:miter;stroke-width:0.8;\"/>\n   </g>\n   <g id=\"patch_80\">\n    <path d=\"M 522.375472 182.33689 \nL 593.441509 182.33689 \n\" style=\"fill:none;stroke:#000000;stroke-linecap:square;stroke-linejoin:miter;stroke-width:0.8;\"/>\n   </g>\n   <g id=\"patch_81\">\n    <path d=\"M 522.375472 111.270852 \nL 593.441509 111.270852 \n\" style=\"fill:none;stroke:#000000;stroke-linecap:square;stroke-linejoin:miter;stroke-width:0.8;\"/>\n   </g>\n   <g id=\"text_16\">\n    <!-- 7 -->\n    <g transform=\"translate(554.090991 105.270852)scale(0.12 -0.12)\">\n     <use xlink:href=\"#DejaVuSans-55\"/>\n    </g>\n   </g>\n  </g>\n  <g id=\"axes_17\">\n   <g id=\"patch_82\">\n    <path d=\"M 607.654717 182.33689 \nL 678.720755 182.33689 \nL 678.720755 111.270852 \nL 607.654717 111.270852 \nz\n\" style=\"fill:#ffffff;\"/>\n   </g>\n   <g clip-path=\"url(#p1fcc5a3403)\">\n    <image height=\"72\" id=\"imagec2e83ba672\" transform=\"scale(1 -1)translate(0 -72)\" width=\"72\" x=\"607.654717\" xlink:href=\"data:image/png;base64,\niVBORw0KGgoAAAANSUhEUgAAAEgAAABICAYAAABV7bNHAAAABHNCSVQICAgIfAhkiAAAA/FJREFUeJztnE1PE2EUhWemLaXQ0lJSvsEoGpHEyMLgTgNCoisT40JXJv4L/4eJ7vwBJiYuWMiGGIgYFWKIRhA0fLZ8VL5asLSdjuszZ5JbsWWh99mdyWEyOby5eefed2oOm/ccowpYkQhdyw73gd66/4s8iWgW9N54K3m6X26Atr8v8wOU7HIeU8SqyF3+YTQgAQ1IQAMS8FfsTqYJ0orHyLLT6wP9qG+KPJZZAv20j+9TeBcF7VvykcfRIn06aEACGpBA5WqQC6cmQNcKUdyTrubi5BmdvQw6NlNDnsB2GnTJKZGnUugKEtCABDQgAQ1IoGpF2r1xNAzDcFz/jnS+njzheSzKbeNp8jjL66jtymwKvdAVJKABCWhAAqdbg3y4UQz5Cuxx/Zl5cEge++jI9UdVaYoahqErSEQDEtCABDQggeoVaY/CaRaxAkcDPPbJNeObuROpq+xz/SG6ggQ0IAENSKByNchVc8yDLFnqNlrE29T37IPOt/II27+I3UqnkC/nCU+EriABDUhAAxLQgAROVqQ93tQNE7MuHR6RJbKKnb+1Ix4rD3YtgH7TN0Ce9oUEaHvbo+tYKLoueIyGyugC6AoS0IAENCCBsmqQVYcvjFZrM3nseBh0IcIj42w7HlOp9RXJc7fxI+iJW+fIs26dAR370U6e4HYOtH9lizx2+idop8jPoytIQAMS0IAENCAB032Q3F2QDcMw7P4LoNeGeGScv4TdwWgDj2v6E0nQD5snyXO9FvVKkbsCz3dx8ziW6iVP6htuJrtf80ax7u0iaHt3lzy6ggQ0IAENSMBP55ujDWRKXcWaM3RnmjwPmvDM8+ThRfJM73eDfpK8SZ5kYgb07XqefLQEsOuYyQXJ455h20GPtWB5vHS7LaLjP0cDEtCABDQgAb+7q+bkjskUSuMmy+ts4WqhCfSz9zfI0zKOzQOfx7Tm8VAPXhh8QZ6xNH65WDPKncnzn7GjGVjlrqPtMZpyoytIQAMS0IAEqKNYymTI1PhpB/T0BG8CO0b28ILHHiw2jy+w1somefJhrEGz17rI0xrCZ0xleTrh/7oEurh/wA+kU42/RwMS0IAENCABKtJeow/3xyPNM/yl4JeBNtDhRh4927X41m1meKMWWcPD5VPps+QZaZkDPdHJ/+d4KIQXvIp0GegKEtCABDQggbJGz84xvsDWr+fIMz/XAdp3yL+G4M9gJ5COqBiGEUxiXZqf45/H2YpjTTxu4g2fE67M+WpdQQIakIAGJKABCZRXpF1fFfsXk+TpedEJ2vLoTJrLKdClIn9xaG3imZ3Eh0byvApfAd2Q4taBmed7nwRdQQIakIAGJPAbhQkMB4x4VEUAAAAASUVORK5CYII=\" y=\"-110.33689\"/>\n   </g>\n   <g id=\"patch_83\">\n    <path d=\"M 607.654717 182.33689 \nL 607.654717 111.270852 \n\" style=\"fill:none;stroke:#000000;stroke-linecap:square;stroke-linejoin:miter;stroke-width:0.8;\"/>\n   </g>\n   <g id=\"patch_84\">\n    <path d=\"M 678.720755 182.33689 \nL 678.720755 111.270852 \n\" style=\"fill:none;stroke:#000000;stroke-linecap:square;stroke-linejoin:miter;stroke-width:0.8;\"/>\n   </g>\n   <g id=\"patch_85\">\n    <path d=\"M 607.654717 182.33689 \nL 678.720755 182.33689 \n\" style=\"fill:none;stroke:#000000;stroke-linecap:square;stroke-linejoin:miter;stroke-width:0.8;\"/>\n   </g>\n   <g id=\"patch_86\">\n    <path d=\"M 607.654717 111.270852 \nL 678.720755 111.270852 \n\" style=\"fill:none;stroke:#000000;stroke-linecap:square;stroke-linejoin:miter;stroke-width:0.8;\"/>\n   </g>\n   <g id=\"text_17\">\n    <!-- 4 -->\n    <g transform=\"translate(639.370236 105.270852)scale(0.12 -0.12)\">\n     <use xlink:href=\"#DejaVuSans-52\"/>\n    </g>\n   </g>\n  </g>\n  <g id=\"axes_18\">\n   <g id=\"patch_87\">\n    <path d=\"M 692.933962 182.33689 \nL 764 182.33689 \nL 764 111.270852 \nL 692.933962 111.270852 \nz\n\" style=\"fill:#ffffff;\"/>\n   </g>\n   <g clip-path=\"url(#p05434fd2c3)\">\n    <image height=\"72\" id=\"imagee922a823c4\" transform=\"scale(1 -1)translate(0 -72)\" width=\"72\" x=\"692.933962\" xlink:href=\"data:image/png;base64,\niVBORw0KGgoAAAANSUhEUgAAAEgAAABICAYAAABV7bNHAAAABHNCSVQICAgIfAhkiAAABSJJREFUeJztnEtMXHUUxu+9c4cZHsM8CjM8WoZSBIqDoJYQqqGkoTbRRWMw0YUmTVwZTWriwoUxmrjQRJPuTYyNG+PCRkOj0UaKSa1NI49CqQXaAi2PCa/h0WFmmGHG9TcfyYG159t9N78y06//nnvmnDuYPeZrOeOAMp0FdM1RFQK/1VZJzGqzDT7RlCSmObwI3jL57d2ZrQJfMuImprp/HS/ce0hMNsmvny9LJP7n0oAEaUCCNCBBtowYhmkjZtUeJmbhbAX45KktYspLn4AvtNPE1HuWwZ/0TBFTWo3F9dKxF4i5l24CX71yiJjs/AJeyPENQU+QIA1IkAYkaF81yPL7wS+/GCIm+Ooj8Md9UWJ++a0dfNko/5+/XnIEfF93CzEXO34Afz70FzHvtNbh+/unjBhreQV8LpVihq6oQBqQIA1IkAYkiIu0aTJV5gMbe5qL6weHsVDO7nBRdK/iz/bfWiTGSO3gG0zWEHKpBhvDT2v6iOmOTIAfb4gQUzZZDH5Xi/TBpQEJ0oAE7VGD9sjMwmtZJyNuCz94dhQ9IOab9k7wawsVxPhHVsF7ZnjqNzwZBh+t8hDTVIyN6pCfG06zIG8yukf91RMkSAMSpAEJ0oAEcZHOZemSuYorlMBYgJivn+kC/1H4CjGfP/cT+Iu+HmKmG7BwF0W5KTULsKGLZrzEDG5gg1m4wn+vXDKvMdSJ4sGlAQnSgASZ+1k956+a99pqLOZtNSp7Z4j58uiP4J0m14UrW9jQ3dqoJSbiwW1ELF1ETN/VDvDHvl8nJncXm9lceocYPUGCNCBBGpAgDUjQviaKpgNzNDO7xBRH8drEPK+GVsOF4Lv4sR7jXT9OAt/0jhHzOIPjhAsTbxBz6Dbee8z5JWKyGV5950tPkCANSJAGJMg2LAdccAR8BKWbcB281M6NWfxEAvzrzYP8c3L4WgMJ7lEDDqxldbaDmDo7A74rdJ+Yy03YuHrvVxFjJXBamY3HmaErKpAGJEgDEqQBCbLtIK6IY6eOErR4Bovi6cgoMSHXJvi5JBf7C9PY0MWXiolx+rBwnmvgRvGtwN/gz+d5wzCMJ6+4wP/qOkFMbVEDvvYwr6r0BAnSgARpQILsRASng2u93Cx91fYzeLfFk7eP754Dn73KzyWHxnGL4Izxa2W8WDt+b+sk5s8z9eA/aeTHX94rHwAffJmf2/7W1Q3+qe0wMXqCBGlAgjQgQRqQIDsVwOlcpHKWoJNuXLNs5Xjq6HJiM+l8nGFmLm/14uB/n4JtLOTBDK+G1jexuX2/hyeKnz2PN5be0iFibj6LTXHsBj8PqSdIkAYkSAMSZJfMYLM2OF5HUH8QG6g21xwxrrxJYKKUJ4FbPbjpiB/hiaIjhfXN3GPx4HmEf849whPO7yqxwXy7+joxszH8kk5wjeumniBBGpAgDUiQBiTIdkxhwa3qbyToi9BZ8K2hBWLmxnDN4uPfXmHsvhQD/2HjNWIcec8MTafKibn8sBV8NsuNa4sP3+MfG83E5G7i1NP9gG8+eoIEaUCCNCBB9u4GbiO8d9YIil/DD4ejNm8swiP4ITPt4UYxv+dzmtyYtbmxDpwu4l9r09mCq+ah7VpipraD4AeGjhNTfwPX5dkoPyKjJ0iQBiRIAxKkAQmiB8mtYl4HW3nraSPLU77sGk4LzRB/63mpG5vJde5JDVcd3jRaKvib0Zs7+HDjv5PVxHjHcVJaPpwgxjmGN4Dd9Q1i9AQJ0oAEaUCC/gPGbVEzOqKUnQAAAABJRU5ErkJggg==\" y=\"-110.33689\"/>\n   </g>\n   <g id=\"patch_88\">\n    <path d=\"M 692.933962 182.33689 \nL 692.933962 111.270852 \n\" style=\"fill:none;stroke:#000000;stroke-linecap:square;stroke-linejoin:miter;stroke-width:0.8;\"/>\n   </g>\n   <g id=\"patch_89\">\n    <path d=\"M 764 182.33689 \nL 764 111.270852 \n\" style=\"fill:none;stroke:#000000;stroke-linecap:square;stroke-linejoin:miter;stroke-width:0.8;\"/>\n   </g>\n   <g id=\"patch_90\">\n    <path d=\"M 692.933962 182.33689 \nL 764 182.33689 \n\" style=\"fill:none;stroke:#000000;stroke-linecap:square;stroke-linejoin:miter;stroke-width:0.8;\"/>\n   </g>\n   <g id=\"patch_91\">\n    <path d=\"M 692.933962 111.270852 \nL 764 111.270852 \n\" style=\"fill:none;stroke:#000000;stroke-linecap:square;stroke-linejoin:miter;stroke-width:0.8;\"/>\n   </g>\n   <g id=\"text_18\">\n    <!-- 8 -->\n    <defs>\n     <path d=\"M 31.78125 34.625 \nQ 24.75 34.625 20.71875 30.859375 \nQ 16.703125 27.09375 16.703125 20.515625 \nQ 16.703125 13.921875 20.71875 10.15625 \nQ 24.75 6.390625 31.78125 6.390625 \nQ 38.8125 6.390625 42.859375 10.171875 \nQ 46.921875 13.96875 46.921875 20.515625 \nQ 46.921875 27.09375 42.890625 30.859375 \nQ 38.875 34.625 31.78125 34.625 \nz\nM 21.921875 38.8125 \nQ 15.578125 40.375 12.03125 44.71875 \nQ 8.5 49.078125 8.5 55.328125 \nQ 8.5 64.0625 14.71875 69.140625 \nQ 20.953125 74.21875 31.78125 74.21875 \nQ 42.671875 74.21875 48.875 69.140625 \nQ 55.078125 64.0625 55.078125 55.328125 \nQ 55.078125 49.078125 51.53125 44.71875 \nQ 48 40.375 41.703125 38.8125 \nQ 48.828125 37.15625 52.796875 32.3125 \nQ 56.78125 27.484375 56.78125 20.515625 \nQ 56.78125 9.90625 50.3125 4.234375 \nQ 43.84375 -1.421875 31.78125 -1.421875 \nQ 19.734375 -1.421875 13.25 4.234375 \nQ 6.78125 9.90625 6.78125 20.515625 \nQ 6.78125 27.484375 10.78125 32.3125 \nQ 14.796875 37.15625 21.921875 38.8125 \nz\nM 18.3125 54.390625 \nQ 18.3125 48.734375 21.84375 45.5625 \nQ 25.390625 42.390625 31.78125 42.390625 \nQ 38.140625 42.390625 41.71875 45.5625 \nQ 45.3125 48.734375 45.3125 54.390625 \nQ 45.3125 60.0625 41.71875 63.234375 \nQ 38.140625 66.40625 31.78125 66.40625 \nQ 25.390625 66.40625 21.84375 63.234375 \nQ 18.3125 60.0625 18.3125 54.390625 \nz\n\" id=\"DejaVuSans-56\"/>\n    </defs>\n    <g transform=\"translate(724.649481 105.270852)scale(0.12 -0.12)\">\n     <use xlink:href=\"#DejaVuSans-56\"/>\n    </g>\n   </g>\n  </g>\n </g>\n <defs>\n  <clipPath id=\"pe4053291e7\">\n   <rect height=\"71.066038\" width=\"71.066038\" x=\"10.7\" y=\"22.318125\"/>\n  </clipPath>\n  <clipPath id=\"pe5b125f8a5\">\n   <rect height=\"71.066038\" width=\"71.066038\" x=\"95.979245\" y=\"22.318125\"/>\n  </clipPath>\n  <clipPath id=\"p4f53211d4e\">\n   <rect height=\"71.066038\" width=\"71.066038\" x=\"181.258491\" y=\"22.318125\"/>\n  </clipPath>\n  <clipPath id=\"p4dcca7f7ae\">\n   <rect height=\"71.066038\" width=\"71.066038\" x=\"266.537736\" y=\"22.318125\"/>\n  </clipPath>\n  <clipPath id=\"pf3f7813680\">\n   <rect height=\"71.066038\" width=\"71.066038\" x=\"351.816981\" y=\"22.318125\"/>\n  </clipPath>\n  <clipPath id=\"p2d7aeaa181\">\n   <rect height=\"71.066038\" width=\"71.066038\" x=\"437.096226\" y=\"22.318125\"/>\n  </clipPath>\n  <clipPath id=\"pb094fa29e5\">\n   <rect height=\"71.066038\" width=\"71.066038\" x=\"522.375472\" y=\"22.318125\"/>\n  </clipPath>\n  <clipPath id=\"p59b6f8920f\">\n   <rect height=\"71.066038\" width=\"71.066038\" x=\"607.654717\" y=\"22.318125\"/>\n  </clipPath>\n  <clipPath id=\"p668b84ab21\">\n   <rect height=\"71.066038\" width=\"71.066038\" x=\"692.933962\" y=\"22.318125\"/>\n  </clipPath>\n  <clipPath id=\"p2cd96b5c2e\">\n   <rect height=\"71.066038\" width=\"71.066038\" x=\"10.7\" y=\"111.270852\"/>\n  </clipPath>\n  <clipPath id=\"p13e97ff3db\">\n   <rect height=\"71.066038\" width=\"71.066038\" x=\"95.979245\" y=\"111.270852\"/>\n  </clipPath>\n  <clipPath id=\"pd24a3b80e8\">\n   <rect height=\"71.066038\" width=\"71.066038\" x=\"181.258491\" y=\"111.270852\"/>\n  </clipPath>\n  <clipPath id=\"p776eef4427\">\n   <rect height=\"71.066038\" width=\"71.066038\" x=\"266.537736\" y=\"111.270852\"/>\n  </clipPath>\n  <clipPath id=\"p5fe755b2ff\">\n   <rect height=\"71.066038\" width=\"71.066038\" x=\"351.816981\" y=\"111.270852\"/>\n  </clipPath>\n  <clipPath id=\"p3375c5d496\">\n   <rect height=\"71.066038\" width=\"71.066038\" x=\"437.096226\" y=\"111.270852\"/>\n  </clipPath>\n  <clipPath id=\"pd2ee84c818\">\n   <rect height=\"71.066038\" width=\"71.066038\" x=\"522.375472\" y=\"111.270852\"/>\n  </clipPath>\n  <clipPath id=\"p1fcc5a3403\">\n   <rect height=\"71.066038\" width=\"71.066038\" x=\"607.654717\" y=\"111.270852\"/>\n  </clipPath>\n  <clipPath id=\"p05434fd2c3\">\n   <rect height=\"71.066038\" width=\"71.066038\" x=\"692.933962\" y=\"111.270852\"/>\n  </clipPath>\n </defs>\n</svg>\n"
          },
          "metadata": {
            "needs_background": "light"
          }
        }
      ]
    },
    {
      "cell_type": "markdown",
      "source": [
        "## Reading a Minibatch"
      ],
      "metadata": {
        "id": "6AjXqH-9vbmn"
      }
    },
    {
      "cell_type": "code",
      "source": [
        "batch_size = 256\n",
        "\n",
        "def get_dataloader_workers():\n",
        "  return 4\n",
        "\n",
        "train_iter = data.DataLoader(usps_train, batch_size, shuffle=True, num_workers=get_dataloader_workers())"
      ],
      "metadata": {
        "colab": {
          "base_uri": "https://localhost:8080/"
        },
        "id": "7txW3u1sfJ8p",
        "outputId": "ab5e2d80-acf1-4bf6-9433-7dce90d24477"
      },
      "execution_count": null,
      "outputs": [
        {
          "output_type": "stream",
          "name": "stderr",
          "text": [
            "/usr/local/lib/python3.7/dist-packages/torch/utils/data/dataloader.py:560: UserWarning: This DataLoader will create 4 worker processes in total. Our suggested max number of worker in current system is 2, which is smaller than what this DataLoader is going to create. Please be aware that excessive worker creation might get DataLoader running slow or even freeze, lower the worker number to avoid potential slowness/freeze if necessary.\n",
            "  cpuset_checked))\n"
          ]
        }
      ]
    },
    {
      "cell_type": "code",
      "source": [
        "timer = d2l.Timer()\n",
        "for X,y in train_iter:\n",
        "  continue\n",
        "f'{timer.stop() : .2f} sec'"
      ],
      "metadata": {
        "colab": {
          "base_uri": "https://localhost:8080/",
          "height": 92
        },
        "id": "2XM9AxWIlwHF",
        "outputId": "81dd548c-d301-470b-f19c-fa7c28f8a2b1"
      },
      "execution_count": null,
      "outputs": [
        {
          "output_type": "stream",
          "name": "stderr",
          "text": [
            "/usr/local/lib/python3.7/dist-packages/torch/utils/data/dataloader.py:560: UserWarning: This DataLoader will create 4 worker processes in total. Our suggested max number of worker in current system is 2, which is smaller than what this DataLoader is going to create. Please be aware that excessive worker creation might get DataLoader running slow or even freeze, lower the worker number to avoid potential slowness/freeze if necessary.\n",
            "  cpuset_checked))\n"
          ]
        },
        {
          "output_type": "execute_result",
          "data": {
            "text/plain": [
              "' 0.59 sec'"
            ],
            "application/vnd.google.colaboratory.intrinsic+json": {
              "type": "string"
            }
          },
          "metadata": {},
          "execution_count": 13
        }
      ]
    },
    {
      "cell_type": "code",
      "source": [
        "def load_data_usps(batch_size, resize=None):\n",
        "  trans = [transforms.ToTensor()]   # 데이터를 텐서로 바꿔줌\n",
        "  if resize:\n",
        "    trans.insert(0, transforms.Resize(resize))\n",
        "  trans = transforms.Compose(trans)\n",
        "  usps_train = torchvision.datasets.USPS(\n",
        "    root = \"../data\", train = True, transform = trans, download = True)\n",
        "  usps_test = torchvision.datasets.USPS(\n",
        "    root = \"../data\", train = False, transform = trans, download = True)\n",
        "  return (data.DataLoader(usps_train, batch_size, shuffle=True, num_workers=get_dataloader_workers()),\n",
        "          data.DataLoader(usps_test, batch_size, shuffle=False, num_workers=get_dataloader_workers()))"
      ],
      "metadata": {
        "id": "Dd1XEfGml-_t"
      },
      "execution_count": null,
      "outputs": []
    },
    {
      "cell_type": "code",
      "source": [
        "train_iter, test_iter = load_data_usps(32, resize=64)\n",
        "for X,y in train_iter:\n",
        "  print(X.shape, X.dtype, y.shape, y.dtype)\n",
        "  break"
      ],
      "metadata": {
        "colab": {
          "base_uri": "https://localhost:8080/"
        },
        "id": "HkLNJKT_m3Hr",
        "outputId": "7ff0a511-6455-4846-8179-ce836882ff0e"
      },
      "execution_count": null,
      "outputs": [
        {
          "output_type": "stream",
          "name": "stderr",
          "text": [
            "/usr/local/lib/python3.7/dist-packages/torch/utils/data/dataloader.py:560: UserWarning: This DataLoader will create 4 worker processes in total. Our suggested max number of worker in current system is 2, which is smaller than what this DataLoader is going to create. Please be aware that excessive worker creation might get DataLoader running slow or even freeze, lower the worker number to avoid potential slowness/freeze if necessary.\n",
            "  cpuset_checked))\n"
          ]
        },
        {
          "output_type": "stream",
          "name": "stdout",
          "text": [
            "torch.Size([32, 1, 64, 64]) torch.float32 torch.Size([32]) torch.int64\n"
          ]
        }
      ]
    },
    {
      "cell_type": "code",
      "source": [
        "import torch\n",
        "from IPython import display\n",
        "from d2l import torch as d2l\n",
        "\n",
        "batch_size = 256\n",
        "train_iter, test_iter = load_data_usps(batch_size)"
      ],
      "metadata": {
        "id": "UIMfW6BkHRbz",
        "colab": {
          "base_uri": "https://localhost:8080/"
        },
        "outputId": "278031b5-28ff-4c3a-d068-607a86811cd0"
      },
      "execution_count": null,
      "outputs": [
        {
          "output_type": "stream",
          "name": "stderr",
          "text": [
            "/usr/local/lib/python3.7/dist-packages/torch/utils/data/dataloader.py:560: UserWarning: This DataLoader will create 4 worker processes in total. Our suggested max number of worker in current system is 2, which is smaller than what this DataLoader is going to create. Please be aware that excessive worker creation might get DataLoader running slow or even freeze, lower the worker number to avoid potential slowness/freeze if necessary.\n",
            "  cpuset_checked))\n"
          ]
        }
      ]
    },
    {
      "cell_type": "markdown",
      "source": [
        "## Initializing Model Parameters"
      ],
      "metadata": {
        "id": "OPh41BkQv1Qc"
      }
    },
    {
      "cell_type": "code",
      "source": [
        "# input = 16*16\n",
        "# output = 10\n",
        "# weights = 256*10\n",
        "# bias = 1*10\n",
        "\n",
        "num_inputs = 256\n",
        "num_outputs = 10\n",
        "\n",
        "W = torch.normal(0,0.01, size = (num_inputs, num_outputs), requires_grad=True)\n",
        "b = torch.zeros(num_outputs, requires_grad= True)"
      ],
      "metadata": {
        "id": "YcUXAaFjHb7S"
      },
      "execution_count": null,
      "outputs": []
    },
    {
      "cell_type": "markdown",
      "source": [
        "## Defining the Softmax Operation"
      ],
      "metadata": {
        "id": "90a2K9SRwATE"
      }
    },
    {
      "cell_type": "code",
      "source": [
        "def softmax(X):\n",
        "  X_exp = torch.exp(X)\n",
        "  partition = X_exp.sum(1, keepdim = True)\n",
        "  return X_exp / partition"
      ],
      "metadata": {
        "id": "CUttoemxIBjF"
      },
      "execution_count": null,
      "outputs": []
    },
    {
      "cell_type": "code",
      "source": [
        "X = torch.normal(0,1,(2,5))\n",
        "X_prob = softmax(X)\n",
        "X_prob, X_prob.sum(1)"
      ],
      "metadata": {
        "id": "h_3zrr2TIX98",
        "colab": {
          "base_uri": "https://localhost:8080/"
        },
        "outputId": "67f9fa1b-ca81-4b70-88e9-03bde23feae6"
      },
      "execution_count": null,
      "outputs": [
        {
          "output_type": "execute_result",
          "data": {
            "text/plain": [
              "(tensor([[0.0169, 0.0473, 0.0530, 0.8334, 0.0494],\n",
              "         [0.3403, 0.1883, 0.0849, 0.2884, 0.0980]]), tensor([1., 1.]))"
            ]
          },
          "metadata": {},
          "execution_count": 19
        }
      ]
    },
    {
      "cell_type": "markdown",
      "source": [
        "## Defining the Model"
      ],
      "metadata": {
        "id": "gSg_QPCGwHjg"
      }
    },
    {
      "cell_type": "code",
      "source": [
        "def net(X):\n",
        "  return softmax(torch.matmul(X.reshape((-1, W.shape[0])), W)+b)"
      ],
      "metadata": {
        "id": "Zd7LpnTzIi2h"
      },
      "execution_count": null,
      "outputs": []
    },
    {
      "cell_type": "markdown",
      "source": [
        "## Defining the Loss Function"
      ],
      "metadata": {
        "id": "7dwOgcfcwKTv"
      }
    },
    {
      "cell_type": "code",
      "source": [
        "y_hat = torch.tensor([[0.1, 0.3, 0.6], [0.3, 0.2, 0.5]])\n",
        "y = torch.tensor([0,2])\n",
        "y_hat[[0,1], y]"
      ],
      "metadata": {
        "id": "Blb8Tes9IwIQ",
        "colab": {
          "base_uri": "https://localhost:8080/"
        },
        "outputId": "3663460c-54e4-4bc5-def7-71c5a7f8cf51"
      },
      "execution_count": null,
      "outputs": [
        {
          "output_type": "execute_result",
          "data": {
            "text/plain": [
              "tensor([0.1000, 0.5000])"
            ]
          },
          "metadata": {},
          "execution_count": 21
        }
      ]
    },
    {
      "cell_type": "code",
      "source": [
        "def cross_entropy(y_hat, y):\n",
        "  return - torch.log(y_hat[range(len(y_hat)), y])\n",
        "\n",
        "cross_entropy(y_hat, y)"
      ],
      "metadata": {
        "id": "uv_TwUXFJA-L",
        "colab": {
          "base_uri": "https://localhost:8080/"
        },
        "outputId": "a7a78eef-29b1-4d10-f47c-e88ca1924a52"
      },
      "execution_count": null,
      "outputs": [
        {
          "output_type": "execute_result",
          "data": {
            "text/plain": [
              "tensor([2.3026, 0.6931])"
            ]
          },
          "metadata": {},
          "execution_count": 22
        }
      ]
    },
    {
      "cell_type": "code",
      "source": [
        "y_hat.type(y.dtype)"
      ],
      "metadata": {
        "id": "9cfvovnOJRgS",
        "colab": {
          "base_uri": "https://localhost:8080/"
        },
        "outputId": "07e4fd63-e55e-406d-d971-6f3696f146a9"
      },
      "execution_count": null,
      "outputs": [
        {
          "output_type": "execute_result",
          "data": {
            "text/plain": [
              "tensor([[0, 0, 0],\n",
              "        [0, 0, 0]])"
            ]
          },
          "metadata": {},
          "execution_count": 23
        }
      ]
    },
    {
      "cell_type": "markdown",
      "source": [
        "##Classification Accuracy"
      ],
      "metadata": {
        "id": "V7bDN8P4wOQg"
      }
    },
    {
      "cell_type": "code",
      "source": [
        "def accuracy(y_hat, y):\n",
        "  if len(y_hat.shape) >1 and y_hat.shape[1] > 1:\n",
        "    y_hat = y_hat.argmax(axis=1)\n",
        "  cmp = y_hat.type(y.dtype)==y\n",
        "  return float(cmp.type(y.dtype).sum())"
      ],
      "metadata": {
        "id": "XSCDli-bJU8t"
      },
      "execution_count": null,
      "outputs": []
    },
    {
      "cell_type": "code",
      "source": [
        "accuracy(y_hat, y) / len(y)\n",
        "# 성능이 잘 나오지는 않는다."
      ],
      "metadata": {
        "id": "qkvtK5lHJrz7",
        "colab": {
          "base_uri": "https://localhost:8080/"
        },
        "outputId": "abf4113a-5f33-4be6-cf64-a4669a955936"
      },
      "execution_count": null,
      "outputs": [
        {
          "output_type": "execute_result",
          "data": {
            "text/plain": [
              "0.5"
            ]
          },
          "metadata": {},
          "execution_count": 25
        }
      ]
    },
    {
      "cell_type": "code",
      "source": [
        "def evaluate_accuracy(net, data_iter):\n",
        "  if isinstance(net, torch.nn.Module):\n",
        "    net.eval()\n",
        "  metric = Accumulator(2)\n",
        "\n",
        "  with torch.no_grad():\n",
        "    for X,y in data_iter:\n",
        "      metric.add(accuracy(net(X), y), y.numel())\n",
        "  return metric[0] / metric[1]"
      ],
      "metadata": {
        "id": "NtZqfIn8J0Vc"
      },
      "execution_count": null,
      "outputs": []
    },
    {
      "cell_type": "code",
      "source": [
        "# Accumulator : utility class to accumulate sums over multiple variables \n",
        "# 여러가지 변수를 업데이트하고 그 변수들을 저장하는 class\n",
        "class Accumulator:\n",
        "  def __init__(self, n):\n",
        "    self.data = [0,0] * n\n",
        "\n",
        "  def add(self, *args):\n",
        "    self.data = [a+float(b) for a, b in zip(self.data, args)]\n",
        "  \n",
        "  def reset(self):\n",
        "    self.data = [0,0] * len(self.data)\n",
        "\n",
        "  def __getitem__(self, idx):\n",
        "    return self.data[idx]"
      ],
      "metadata": {
        "id": "kQZvT9G1KSG3"
      },
      "execution_count": null,
      "outputs": []
    },
    {
      "cell_type": "code",
      "source": [
        "evaluate_accuracy(net, test_iter)"
      ],
      "metadata": {
        "id": "urA2Rks5K2B5",
        "colab": {
          "base_uri": "https://localhost:8080/"
        },
        "outputId": "593dd9bc-cb14-413f-d00a-be05df362337"
      },
      "execution_count": null,
      "outputs": [
        {
          "output_type": "stream",
          "name": "stderr",
          "text": [
            "/usr/local/lib/python3.7/dist-packages/torch/utils/data/dataloader.py:560: UserWarning: This DataLoader will create 4 worker processes in total. Our suggested max number of worker in current system is 2, which is smaller than what this DataLoader is going to create. Please be aware that excessive worker creation might get DataLoader running slow or even freeze, lower the worker number to avoid potential slowness/freeze if necessary.\n",
            "  cpuset_checked))\n"
          ]
        },
        {
          "output_type": "execute_result",
          "data": {
            "text/plain": [
              "0.07922272047832586"
            ]
          },
          "metadata": {},
          "execution_count": 28
        }
      ]
    },
    {
      "cell_type": "markdown",
      "source": [
        "## Trainig"
      ],
      "metadata": {
        "id": "LDohtytowUL1"
      }
    },
    {
      "cell_type": "code",
      "source": [
        "def train_epoch_ch3(net, train_iter, loss, updater):\n",
        "  if isinstance(net, torch.nn.Module):\n",
        "    net.train()\n",
        "  metric = Accumulator(3)\n",
        "\n",
        "  for X, y in train_iter:\n",
        "    y_hat = net(X)\n",
        "    l = loss(y_hat, y)\n",
        "    if isinstance(updater, torch.optim.Optimizer):\n",
        "      updater.zero_grad()  #training에서는 gradient 연산 진행\n",
        "      l.mean().backward()\n",
        "      updater.step()\n",
        "    else :\n",
        "      l.sum().backward()\n",
        "      updater(X.shape[0])\n",
        "    metric.add(float(l.sum()), accuracy(y_hat, y), y.numel())\n",
        "  return metric[0] / metric[2], metric[1] / metric[2]"
      ],
      "metadata": {
        "id": "15x1v7XFK77f"
      },
      "execution_count": null,
      "outputs": []
    },
    {
      "cell_type": "code",
      "source": [
        "class Animator:\n",
        "  def __init__(self, xlabel=None, ylabel=None, legend=None, xlim=None, ylim=None, xscale='linear', yscale='linear',\n",
        "               fmts=('-','m--','g-.','r:'), nrows=1, ncols=1, figsize=(3.5, 2.5)):\n",
        "    if legend is None:\n",
        "      legend=[]\n",
        "    d2l.use_svg_display()\n",
        "    self.fig, self.axes = d2l.plt.subplots(nrows, ncols, figsize=figsize)\n",
        "    if nrows * ncols == 1:\n",
        "      self.axes = [self.axes, ]\n",
        "    self.config_axes = lambda: d2l.set_axes(\n",
        "        self.axes[0], xlabel, ylabel, xlim, ylim, xscale, yscale, legend)\n",
        "    self.X, self.Y, self.fmts = None, None, fmts\n",
        "\n",
        "  def add(self, x, y):\n",
        "    if not hasattr(y, \"__len__\"):\n",
        "      y=[y]\n",
        "    n=len(y)\n",
        "    if not hasattr(x, \"__len__\"):\n",
        "      x=[x]*n\n",
        "    if not self.X:\n",
        "      self.X = [[] for _ in range(n)]\n",
        "    if not self.Y:\n",
        "      self.Y = [[] for _ in range(n)]\n",
        "    for i, (a,b) in enumerate(zip(x,y)):\n",
        "      if a is not None and b is not None:\n",
        "        self.X[i].append(a)\n",
        "        self.Y[i].append(b)\n",
        "    self.axes[0].cla()\n",
        "    for x,y,fmt in zip(self.X, self.Y, self.fmts):\n",
        "      self.axes[0].plot(x, y, fmt)\n",
        "    self.config_axes()\n",
        "    display.display(self.fig)\n",
        "    display.clear_output(wait=True)\n"
      ],
      "metadata": {
        "id": "cQWV6sXbL5gG"
      },
      "execution_count": null,
      "outputs": []
    },
    {
      "cell_type": "code",
      "source": [
        "def train_ch3(net, train_iter, test_iter, loss, num_epochs, updater): \n",
        "  animator = Animator(xlabel='epoch', xlim=[1, num_epochs], ylim=[0.3, 0.9],\n",
        "                      legend=['train loss', 'train acc', 'test acc'])\n",
        "  for epoch in range(num_epochs):\n",
        "    train_metrics = train_epoch_ch3(net, train_iter, loss, updater)\n",
        "    test_acc = evaluate_accuracy(net, test_iter)\n",
        "    animator.add(epoch + 1, train_metrics + (test_acc,))\n",
        "  train_loss, train_acc = train_metrics\n",
        "  assert train_loss < 0.5, train_loss\n",
        "  assert train_acc <= 1 and train_acc > 0.7, train_acc\n",
        "  assert test_acc <= 1 and test_acc > 0.7, test_acc"
      ],
      "metadata": {
        "id": "9v-a1lU6OxIg"
      },
      "execution_count": null,
      "outputs": []
    },
    {
      "cell_type": "code",
      "source": [
        "lr=0.1\n",
        "\n",
        "def updater(batch_size):\n",
        "  return d2l.sgd([W,b], lr, batch_size)"
      ],
      "metadata": {
        "id": "lt5xp8g8P0ry"
      },
      "execution_count": null,
      "outputs": []
    },
    {
      "cell_type": "code",
      "source": [
        "num_epochs = 10\n",
        "train_ch3(net, train_iter, test_iter, cross_entropy, num_epochs, updater)"
      ],
      "metadata": {
        "id": "m53viHxeP9HE",
        "colab": {
          "base_uri": "https://localhost:8080/",
          "height": 261
        },
        "outputId": "9f32d771-1302-4009-c1ba-ca6ccb1ebdc3"
      },
      "execution_count": null,
      "outputs": [
        {
          "output_type": "display_data",
          "data": {
            "text/plain": [
              "<Figure size 252x180 with 1 Axes>"
            ],
            "image/svg+xml": "<?xml version=\"1.0\" encoding=\"utf-8\" standalone=\"no\"?>\n<!DOCTYPE svg PUBLIC \"-//W3C//DTD SVG 1.1//EN\"\n  \"http://www.w3.org/Graphics/SVG/1.1/DTD/svg11.dtd\">\n<!-- Created with matplotlib (https://matplotlib.org/) -->\n<svg height=\"180.65625pt\" version=\"1.1\" viewBox=\"0 0 238.965625 180.65625\" width=\"238.965625pt\" xmlns=\"http://www.w3.org/2000/svg\" xmlns:xlink=\"http://www.w3.org/1999/xlink\">\n <defs>\n  <style type=\"text/css\">\n*{stroke-linecap:butt;stroke-linejoin:round;}\n  </style>\n </defs>\n <g id=\"figure_1\">\n  <g id=\"patch_1\">\n   <path d=\"M 0 180.65625 \nL 238.965625 180.65625 \nL 238.965625 0 \nL 0 0 \nz\n\" style=\"fill:none;\"/>\n  </g>\n  <g id=\"axes_1\">\n   <g id=\"patch_2\">\n    <path d=\"M 30.103125 143.1 \nL 225.403125 143.1 \nL 225.403125 7.2 \nL 30.103125 7.2 \nz\n\" style=\"fill:#ffffff;\"/>\n   </g>\n   <g id=\"matplotlib.axis_1\">\n    <g id=\"xtick_1\">\n     <g id=\"line2d_1\">\n      <path clip-path=\"url(#p0ffe144439)\" d=\"M 51.803125 143.1 \nL 51.803125 7.2 \n\" style=\"fill:none;stroke:#b0b0b0;stroke-linecap:square;stroke-width:0.8;\"/>\n     </g>\n     <g id=\"line2d_2\">\n      <defs>\n       <path d=\"M 0 0 \nL 0 3.5 \n\" id=\"mdf45ddf1f5\" style=\"stroke:#000000;stroke-width:0.8;\"/>\n      </defs>\n      <g>\n       <use style=\"stroke:#000000;stroke-width:0.8;\" x=\"51.803125\" xlink:href=\"#mdf45ddf1f5\" y=\"143.1\"/>\n      </g>\n     </g>\n     <g id=\"text_1\">\n      <!-- 2 -->\n      <defs>\n       <path d=\"M 19.1875 8.296875 \nL 53.609375 8.296875 \nL 53.609375 0 \nL 7.328125 0 \nL 7.328125 8.296875 \nQ 12.9375 14.109375 22.625 23.890625 \nQ 32.328125 33.6875 34.8125 36.53125 \nQ 39.546875 41.84375 41.421875 45.53125 \nQ 43.3125 49.21875 43.3125 52.78125 \nQ 43.3125 58.59375 39.234375 62.25 \nQ 35.15625 65.921875 28.609375 65.921875 \nQ 23.96875 65.921875 18.8125 64.3125 \nQ 13.671875 62.703125 7.8125 59.421875 \nL 7.8125 69.390625 \nQ 13.765625 71.78125 18.9375 73 \nQ 24.125 74.21875 28.421875 74.21875 \nQ 39.75 74.21875 46.484375 68.546875 \nQ 53.21875 62.890625 53.21875 53.421875 \nQ 53.21875 48.921875 51.53125 44.890625 \nQ 49.859375 40.875 45.40625 35.40625 \nQ 44.1875 33.984375 37.640625 27.21875 \nQ 31.109375 20.453125 19.1875 8.296875 \nz\n\" id=\"DejaVuSans-50\"/>\n      </defs>\n      <g transform=\"translate(48.621875 157.698438)scale(0.1 -0.1)\">\n       <use xlink:href=\"#DejaVuSans-50\"/>\n      </g>\n     </g>\n    </g>\n    <g id=\"xtick_2\">\n     <g id=\"line2d_3\">\n      <path clip-path=\"url(#p0ffe144439)\" d=\"M 95.203125 143.1 \nL 95.203125 7.2 \n\" style=\"fill:none;stroke:#b0b0b0;stroke-linecap:square;stroke-width:0.8;\"/>\n     </g>\n     <g id=\"line2d_4\">\n      <g>\n       <use style=\"stroke:#000000;stroke-width:0.8;\" x=\"95.203125\" xlink:href=\"#mdf45ddf1f5\" y=\"143.1\"/>\n      </g>\n     </g>\n     <g id=\"text_2\">\n      <!-- 4 -->\n      <defs>\n       <path d=\"M 37.796875 64.3125 \nL 12.890625 25.390625 \nL 37.796875 25.390625 \nz\nM 35.203125 72.90625 \nL 47.609375 72.90625 \nL 47.609375 25.390625 \nL 58.015625 25.390625 \nL 58.015625 17.1875 \nL 47.609375 17.1875 \nL 47.609375 0 \nL 37.796875 0 \nL 37.796875 17.1875 \nL 4.890625 17.1875 \nL 4.890625 26.703125 \nz\n\" id=\"DejaVuSans-52\"/>\n      </defs>\n      <g transform=\"translate(92.021875 157.698438)scale(0.1 -0.1)\">\n       <use xlink:href=\"#DejaVuSans-52\"/>\n      </g>\n     </g>\n    </g>\n    <g id=\"xtick_3\">\n     <g id=\"line2d_5\">\n      <path clip-path=\"url(#p0ffe144439)\" d=\"M 138.603125 143.1 \nL 138.603125 7.2 \n\" style=\"fill:none;stroke:#b0b0b0;stroke-linecap:square;stroke-width:0.8;\"/>\n     </g>\n     <g id=\"line2d_6\">\n      <g>\n       <use style=\"stroke:#000000;stroke-width:0.8;\" x=\"138.603125\" xlink:href=\"#mdf45ddf1f5\" y=\"143.1\"/>\n      </g>\n     </g>\n     <g id=\"text_3\">\n      <!-- 6 -->\n      <defs>\n       <path d=\"M 33.015625 40.375 \nQ 26.375 40.375 22.484375 35.828125 \nQ 18.609375 31.296875 18.609375 23.390625 \nQ 18.609375 15.53125 22.484375 10.953125 \nQ 26.375 6.390625 33.015625 6.390625 \nQ 39.65625 6.390625 43.53125 10.953125 \nQ 47.40625 15.53125 47.40625 23.390625 \nQ 47.40625 31.296875 43.53125 35.828125 \nQ 39.65625 40.375 33.015625 40.375 \nz\nM 52.59375 71.296875 \nL 52.59375 62.3125 \nQ 48.875 64.0625 45.09375 64.984375 \nQ 41.3125 65.921875 37.59375 65.921875 \nQ 27.828125 65.921875 22.671875 59.328125 \nQ 17.53125 52.734375 16.796875 39.40625 \nQ 19.671875 43.65625 24.015625 45.921875 \nQ 28.375 48.1875 33.59375 48.1875 \nQ 44.578125 48.1875 50.953125 41.515625 \nQ 57.328125 34.859375 57.328125 23.390625 \nQ 57.328125 12.15625 50.6875 5.359375 \nQ 44.046875 -1.421875 33.015625 -1.421875 \nQ 20.359375 -1.421875 13.671875 8.265625 \nQ 6.984375 17.96875 6.984375 36.375 \nQ 6.984375 53.65625 15.1875 63.9375 \nQ 23.390625 74.21875 37.203125 74.21875 \nQ 40.921875 74.21875 44.703125 73.484375 \nQ 48.484375 72.75 52.59375 71.296875 \nz\n\" id=\"DejaVuSans-54\"/>\n      </defs>\n      <g transform=\"translate(135.421875 157.698438)scale(0.1 -0.1)\">\n       <use xlink:href=\"#DejaVuSans-54\"/>\n      </g>\n     </g>\n    </g>\n    <g id=\"xtick_4\">\n     <g id=\"line2d_7\">\n      <path clip-path=\"url(#p0ffe144439)\" d=\"M 182.003125 143.1 \nL 182.003125 7.2 \n\" style=\"fill:none;stroke:#b0b0b0;stroke-linecap:square;stroke-width:0.8;\"/>\n     </g>\n     <g id=\"line2d_8\">\n      <g>\n       <use style=\"stroke:#000000;stroke-width:0.8;\" x=\"182.003125\" xlink:href=\"#mdf45ddf1f5\" y=\"143.1\"/>\n      </g>\n     </g>\n     <g id=\"text_4\">\n      <!-- 8 -->\n      <defs>\n       <path d=\"M 31.78125 34.625 \nQ 24.75 34.625 20.71875 30.859375 \nQ 16.703125 27.09375 16.703125 20.515625 \nQ 16.703125 13.921875 20.71875 10.15625 \nQ 24.75 6.390625 31.78125 6.390625 \nQ 38.8125 6.390625 42.859375 10.171875 \nQ 46.921875 13.96875 46.921875 20.515625 \nQ 46.921875 27.09375 42.890625 30.859375 \nQ 38.875 34.625 31.78125 34.625 \nz\nM 21.921875 38.8125 \nQ 15.578125 40.375 12.03125 44.71875 \nQ 8.5 49.078125 8.5 55.328125 \nQ 8.5 64.0625 14.71875 69.140625 \nQ 20.953125 74.21875 31.78125 74.21875 \nQ 42.671875 74.21875 48.875 69.140625 \nQ 55.078125 64.0625 55.078125 55.328125 \nQ 55.078125 49.078125 51.53125 44.71875 \nQ 48 40.375 41.703125 38.8125 \nQ 48.828125 37.15625 52.796875 32.3125 \nQ 56.78125 27.484375 56.78125 20.515625 \nQ 56.78125 9.90625 50.3125 4.234375 \nQ 43.84375 -1.421875 31.78125 -1.421875 \nQ 19.734375 -1.421875 13.25 4.234375 \nQ 6.78125 9.90625 6.78125 20.515625 \nQ 6.78125 27.484375 10.78125 32.3125 \nQ 14.796875 37.15625 21.921875 38.8125 \nz\nM 18.3125 54.390625 \nQ 18.3125 48.734375 21.84375 45.5625 \nQ 25.390625 42.390625 31.78125 42.390625 \nQ 38.140625 42.390625 41.71875 45.5625 \nQ 45.3125 48.734375 45.3125 54.390625 \nQ 45.3125 60.0625 41.71875 63.234375 \nQ 38.140625 66.40625 31.78125 66.40625 \nQ 25.390625 66.40625 21.84375 63.234375 \nQ 18.3125 60.0625 18.3125 54.390625 \nz\n\" id=\"DejaVuSans-56\"/>\n      </defs>\n      <g transform=\"translate(178.821875 157.698438)scale(0.1 -0.1)\">\n       <use xlink:href=\"#DejaVuSans-56\"/>\n      </g>\n     </g>\n    </g>\n    <g id=\"xtick_5\">\n     <g id=\"line2d_9\">\n      <path clip-path=\"url(#p0ffe144439)\" d=\"M 225.403125 143.1 \nL 225.403125 7.2 \n\" style=\"fill:none;stroke:#b0b0b0;stroke-linecap:square;stroke-width:0.8;\"/>\n     </g>\n     <g id=\"line2d_10\">\n      <g>\n       <use style=\"stroke:#000000;stroke-width:0.8;\" x=\"225.403125\" xlink:href=\"#mdf45ddf1f5\" y=\"143.1\"/>\n      </g>\n     </g>\n     <g id=\"text_5\">\n      <!-- 10 -->\n      <defs>\n       <path d=\"M 12.40625 8.296875 \nL 28.515625 8.296875 \nL 28.515625 63.921875 \nL 10.984375 60.40625 \nL 10.984375 69.390625 \nL 28.421875 72.90625 \nL 38.28125 72.90625 \nL 38.28125 8.296875 \nL 54.390625 8.296875 \nL 54.390625 0 \nL 12.40625 0 \nz\n\" id=\"DejaVuSans-49\"/>\n       <path d=\"M 31.78125 66.40625 \nQ 24.171875 66.40625 20.328125 58.90625 \nQ 16.5 51.421875 16.5 36.375 \nQ 16.5 21.390625 20.328125 13.890625 \nQ 24.171875 6.390625 31.78125 6.390625 \nQ 39.453125 6.390625 43.28125 13.890625 \nQ 47.125 21.390625 47.125 36.375 \nQ 47.125 51.421875 43.28125 58.90625 \nQ 39.453125 66.40625 31.78125 66.40625 \nz\nM 31.78125 74.21875 \nQ 44.046875 74.21875 50.515625 64.515625 \nQ 56.984375 54.828125 56.984375 36.375 \nQ 56.984375 17.96875 50.515625 8.265625 \nQ 44.046875 -1.421875 31.78125 -1.421875 \nQ 19.53125 -1.421875 13.0625 8.265625 \nQ 6.59375 17.96875 6.59375 36.375 \nQ 6.59375 54.828125 13.0625 64.515625 \nQ 19.53125 74.21875 31.78125 74.21875 \nz\n\" id=\"DejaVuSans-48\"/>\n      </defs>\n      <g transform=\"translate(219.040625 157.698438)scale(0.1 -0.1)\">\n       <use xlink:href=\"#DejaVuSans-49\"/>\n       <use x=\"63.623047\" xlink:href=\"#DejaVuSans-48\"/>\n      </g>\n     </g>\n    </g>\n    <g id=\"text_6\">\n     <!-- epoch -->\n     <defs>\n      <path d=\"M 56.203125 29.59375 \nL 56.203125 25.203125 \nL 14.890625 25.203125 \nQ 15.484375 15.921875 20.484375 11.0625 \nQ 25.484375 6.203125 34.421875 6.203125 \nQ 39.59375 6.203125 44.453125 7.46875 \nQ 49.3125 8.734375 54.109375 11.28125 \nL 54.109375 2.78125 \nQ 49.265625 0.734375 44.1875 -0.34375 \nQ 39.109375 -1.421875 33.890625 -1.421875 \nQ 20.796875 -1.421875 13.15625 6.1875 \nQ 5.515625 13.8125 5.515625 26.8125 \nQ 5.515625 40.234375 12.765625 48.109375 \nQ 20.015625 56 32.328125 56 \nQ 43.359375 56 49.78125 48.890625 \nQ 56.203125 41.796875 56.203125 29.59375 \nz\nM 47.21875 32.234375 \nQ 47.125 39.59375 43.09375 43.984375 \nQ 39.0625 48.390625 32.421875 48.390625 \nQ 24.90625 48.390625 20.390625 44.140625 \nQ 15.875 39.890625 15.1875 32.171875 \nz\n\" id=\"DejaVuSans-101\"/>\n      <path d=\"M 18.109375 8.203125 \nL 18.109375 -20.796875 \nL 9.078125 -20.796875 \nL 9.078125 54.6875 \nL 18.109375 54.6875 \nL 18.109375 46.390625 \nQ 20.953125 51.265625 25.265625 53.625 \nQ 29.59375 56 35.59375 56 \nQ 45.5625 56 51.78125 48.09375 \nQ 58.015625 40.1875 58.015625 27.296875 \nQ 58.015625 14.40625 51.78125 6.484375 \nQ 45.5625 -1.421875 35.59375 -1.421875 \nQ 29.59375 -1.421875 25.265625 0.953125 \nQ 20.953125 3.328125 18.109375 8.203125 \nz\nM 48.6875 27.296875 \nQ 48.6875 37.203125 44.609375 42.84375 \nQ 40.53125 48.484375 33.40625 48.484375 \nQ 26.265625 48.484375 22.1875 42.84375 \nQ 18.109375 37.203125 18.109375 27.296875 \nQ 18.109375 17.390625 22.1875 11.75 \nQ 26.265625 6.109375 33.40625 6.109375 \nQ 40.53125 6.109375 44.609375 11.75 \nQ 48.6875 17.390625 48.6875 27.296875 \nz\n\" id=\"DejaVuSans-112\"/>\n      <path d=\"M 30.609375 48.390625 \nQ 23.390625 48.390625 19.1875 42.75 \nQ 14.984375 37.109375 14.984375 27.296875 \nQ 14.984375 17.484375 19.15625 11.84375 \nQ 23.34375 6.203125 30.609375 6.203125 \nQ 37.796875 6.203125 41.984375 11.859375 \nQ 46.1875 17.53125 46.1875 27.296875 \nQ 46.1875 37.015625 41.984375 42.703125 \nQ 37.796875 48.390625 30.609375 48.390625 \nz\nM 30.609375 56 \nQ 42.328125 56 49.015625 48.375 \nQ 55.71875 40.765625 55.71875 27.296875 \nQ 55.71875 13.875 49.015625 6.21875 \nQ 42.328125 -1.421875 30.609375 -1.421875 \nQ 18.84375 -1.421875 12.171875 6.21875 \nQ 5.515625 13.875 5.515625 27.296875 \nQ 5.515625 40.765625 12.171875 48.375 \nQ 18.84375 56 30.609375 56 \nz\n\" id=\"DejaVuSans-111\"/>\n      <path d=\"M 48.78125 52.59375 \nL 48.78125 44.1875 \nQ 44.96875 46.296875 41.140625 47.34375 \nQ 37.3125 48.390625 33.40625 48.390625 \nQ 24.65625 48.390625 19.8125 42.84375 \nQ 14.984375 37.3125 14.984375 27.296875 \nQ 14.984375 17.28125 19.8125 11.734375 \nQ 24.65625 6.203125 33.40625 6.203125 \nQ 37.3125 6.203125 41.140625 7.25 \nQ 44.96875 8.296875 48.78125 10.40625 \nL 48.78125 2.09375 \nQ 45.015625 0.34375 40.984375 -0.53125 \nQ 36.96875 -1.421875 32.421875 -1.421875 \nQ 20.0625 -1.421875 12.78125 6.34375 \nQ 5.515625 14.109375 5.515625 27.296875 \nQ 5.515625 40.671875 12.859375 48.328125 \nQ 20.21875 56 33.015625 56 \nQ 37.15625 56 41.109375 55.140625 \nQ 45.0625 54.296875 48.78125 52.59375 \nz\n\" id=\"DejaVuSans-99\"/>\n      <path d=\"M 54.890625 33.015625 \nL 54.890625 0 \nL 45.90625 0 \nL 45.90625 32.71875 \nQ 45.90625 40.484375 42.875 44.328125 \nQ 39.84375 48.1875 33.796875 48.1875 \nQ 26.515625 48.1875 22.3125 43.546875 \nQ 18.109375 38.921875 18.109375 30.90625 \nL 18.109375 0 \nL 9.078125 0 \nL 9.078125 75.984375 \nL 18.109375 75.984375 \nL 18.109375 46.1875 \nQ 21.34375 51.125 25.703125 53.5625 \nQ 30.078125 56 35.796875 56 \nQ 45.21875 56 50.046875 50.171875 \nQ 54.890625 44.34375 54.890625 33.015625 \nz\n\" id=\"DejaVuSans-104\"/>\n     </defs>\n     <g transform=\"translate(112.525 171.376563)scale(0.1 -0.1)\">\n      <use xlink:href=\"#DejaVuSans-101\"/>\n      <use x=\"61.523438\" xlink:href=\"#DejaVuSans-112\"/>\n      <use x=\"125\" xlink:href=\"#DejaVuSans-111\"/>\n      <use x=\"186.181641\" xlink:href=\"#DejaVuSans-99\"/>\n      <use x=\"241.162109\" xlink:href=\"#DejaVuSans-104\"/>\n     </g>\n    </g>\n   </g>\n   <g id=\"matplotlib.axis_2\">\n    <g id=\"ytick_1\">\n     <g id=\"line2d_11\">\n      <path clip-path=\"url(#p0ffe144439)\" d=\"M 30.103125 120.45 \nL 225.403125 120.45 \n\" style=\"fill:none;stroke:#b0b0b0;stroke-linecap:square;stroke-width:0.8;\"/>\n     </g>\n     <g id=\"line2d_12\">\n      <defs>\n       <path d=\"M 0 0 \nL -3.5 0 \n\" id=\"m9950920091\" style=\"stroke:#000000;stroke-width:0.8;\"/>\n      </defs>\n      <g>\n       <use style=\"stroke:#000000;stroke-width:0.8;\" x=\"30.103125\" xlink:href=\"#m9950920091\" y=\"120.45\"/>\n      </g>\n     </g>\n     <g id=\"text_7\">\n      <!-- 0.4 -->\n      <defs>\n       <path d=\"M 10.6875 12.40625 \nL 21 12.40625 \nL 21 0 \nL 10.6875 0 \nz\n\" id=\"DejaVuSans-46\"/>\n      </defs>\n      <g transform=\"translate(7.2 124.249219)scale(0.1 -0.1)\">\n       <use xlink:href=\"#DejaVuSans-48\"/>\n       <use x=\"63.623047\" xlink:href=\"#DejaVuSans-46\"/>\n       <use x=\"95.410156\" xlink:href=\"#DejaVuSans-52\"/>\n      </g>\n     </g>\n    </g>\n    <g id=\"ytick_2\">\n     <g id=\"line2d_13\">\n      <path clip-path=\"url(#p0ffe144439)\" d=\"M 30.103125 75.15 \nL 225.403125 75.15 \n\" style=\"fill:none;stroke:#b0b0b0;stroke-linecap:square;stroke-width:0.8;\"/>\n     </g>\n     <g id=\"line2d_14\">\n      <g>\n       <use style=\"stroke:#000000;stroke-width:0.8;\" x=\"30.103125\" xlink:href=\"#m9950920091\" y=\"75.15\"/>\n      </g>\n     </g>\n     <g id=\"text_8\">\n      <!-- 0.6 -->\n      <g transform=\"translate(7.2 78.949219)scale(0.1 -0.1)\">\n       <use xlink:href=\"#DejaVuSans-48\"/>\n       <use x=\"63.623047\" xlink:href=\"#DejaVuSans-46\"/>\n       <use x=\"95.410156\" xlink:href=\"#DejaVuSans-54\"/>\n      </g>\n     </g>\n    </g>\n    <g id=\"ytick_3\">\n     <g id=\"line2d_15\">\n      <path clip-path=\"url(#p0ffe144439)\" d=\"M 30.103125 29.85 \nL 225.403125 29.85 \n\" style=\"fill:none;stroke:#b0b0b0;stroke-linecap:square;stroke-width:0.8;\"/>\n     </g>\n     <g id=\"line2d_16\">\n      <g>\n       <use style=\"stroke:#000000;stroke-width:0.8;\" x=\"30.103125\" xlink:href=\"#m9950920091\" y=\"29.85\"/>\n      </g>\n     </g>\n     <g id=\"text_9\">\n      <!-- 0.8 -->\n      <g transform=\"translate(7.2 33.649219)scale(0.1 -0.1)\">\n       <use xlink:href=\"#DejaVuSans-48\"/>\n       <use x=\"63.623047\" xlink:href=\"#DejaVuSans-46\"/>\n       <use x=\"95.410156\" xlink:href=\"#DejaVuSans-56\"/>\n      </g>\n     </g>\n    </g>\n   </g>\n   <g id=\"line2d_17\">\n    <path clip-path=\"url(#p0ffe144439)\" d=\"M 59.670585 -1 \nL 73.503125 34.355585 \nL 95.203125 63.39886 \nL 116.903125 81.356244 \nL 138.603125 93.636327 \nL 160.303125 102.627883 \nL 182.003125 109.576612 \nL 203.703125 115.027304 \nL 225.403125 119.549633 \n\" style=\"fill:none;stroke:#1f77b4;stroke-linecap:square;stroke-width:1.5;\"/>\n   </g>\n   <g id=\"line2d_18\">\n    <path clip-path=\"url(#p0ffe144439)\" d=\"M 30.103125 81.972027 \nL 51.803125 21.052194 \nL 73.503125 13.441099 \nL 95.203125 10.707317 \nL 116.903125 8.750178 \nL 138.603125 7.321156 \nL 160.303125 6.264923 \nL 182.003125 5.27082 \nL 203.703125 4.369915 \nL 225.403125 3.934995 \n\" style=\"fill:none;stroke:#bf00bf;stroke-dasharray:5.55,2.4;stroke-dashoffset:0;stroke-width:1.5;\"/>\n   </g>\n   <g id=\"line2d_19\">\n    <path clip-path=\"url(#p0ffe144439)\" d=\"M 30.103125 43.234604 \nL 51.803125 24.952093 \nL 73.503125 21.792152 \nL 95.203125 19.309342 \nL 116.903125 17.165097 \nL 138.603125 17.052242 \nL 160.303125 16.036547 \nL 182.003125 15.810837 \nL 203.703125 15.133707 \nL 225.403125 13.440882 \n\" style=\"fill:none;stroke:#008000;stroke-dasharray:9.6,2.4,1.5,2.4;stroke-dashoffset:0;stroke-width:1.5;\"/>\n   </g>\n   <g id=\"patch_3\">\n    <path d=\"M 30.103125 143.1 \nL 30.103125 7.2 \n\" style=\"fill:none;stroke:#000000;stroke-linecap:square;stroke-linejoin:miter;stroke-width:0.8;\"/>\n   </g>\n   <g id=\"patch_4\">\n    <path d=\"M 225.403125 143.1 \nL 225.403125 7.2 \n\" style=\"fill:none;stroke:#000000;stroke-linecap:square;stroke-linejoin:miter;stroke-width:0.8;\"/>\n   </g>\n   <g id=\"patch_5\">\n    <path d=\"M 30.103125 143.1 \nL 225.403125 143.1 \n\" style=\"fill:none;stroke:#000000;stroke-linecap:square;stroke-linejoin:miter;stroke-width:0.8;\"/>\n   </g>\n   <g id=\"patch_6\">\n    <path d=\"M 30.103125 7.2 \nL 225.403125 7.2 \n\" style=\"fill:none;stroke:#000000;stroke-linecap:square;stroke-linejoin:miter;stroke-width:0.8;\"/>\n   </g>\n   <g id=\"legend_1\">\n    <g id=\"patch_7\">\n     <path d=\"M 37.103125 138.1 \nL 114.871875 138.1 \nQ 116.871875 138.1 116.871875 136.1 \nL 116.871875 93.065625 \nQ 116.871875 91.065625 114.871875 91.065625 \nL 37.103125 91.065625 \nQ 35.103125 91.065625 35.103125 93.065625 \nL 35.103125 136.1 \nQ 35.103125 138.1 37.103125 138.1 \nz\n\" style=\"fill:#ffffff;opacity:0.8;stroke:#cccccc;stroke-linejoin:miter;\"/>\n    </g>\n    <g id=\"line2d_20\">\n     <path d=\"M 39.103125 99.164062 \nL 59.103125 99.164062 \n\" style=\"fill:none;stroke:#1f77b4;stroke-linecap:square;stroke-width:1.5;\"/>\n    </g>\n    <g id=\"line2d_21\"/>\n    <g id=\"text_10\">\n     <!-- train loss -->\n     <defs>\n      <path d=\"M 18.3125 70.21875 \nL 18.3125 54.6875 \nL 36.8125 54.6875 \nL 36.8125 47.703125 \nL 18.3125 47.703125 \nL 18.3125 18.015625 \nQ 18.3125 11.328125 20.140625 9.421875 \nQ 21.96875 7.515625 27.59375 7.515625 \nL 36.8125 7.515625 \nL 36.8125 0 \nL 27.59375 0 \nQ 17.1875 0 13.234375 3.875 \nQ 9.28125 7.765625 9.28125 18.015625 \nL 9.28125 47.703125 \nL 2.6875 47.703125 \nL 2.6875 54.6875 \nL 9.28125 54.6875 \nL 9.28125 70.21875 \nz\n\" id=\"DejaVuSans-116\"/>\n      <path d=\"M 41.109375 46.296875 \nQ 39.59375 47.171875 37.8125 47.578125 \nQ 36.03125 48 33.890625 48 \nQ 26.265625 48 22.1875 43.046875 \nQ 18.109375 38.09375 18.109375 28.8125 \nL 18.109375 0 \nL 9.078125 0 \nL 9.078125 54.6875 \nL 18.109375 54.6875 \nL 18.109375 46.1875 \nQ 20.953125 51.171875 25.484375 53.578125 \nQ 30.03125 56 36.53125 56 \nQ 37.453125 56 38.578125 55.875 \nQ 39.703125 55.765625 41.0625 55.515625 \nz\n\" id=\"DejaVuSans-114\"/>\n      <path d=\"M 34.28125 27.484375 \nQ 23.390625 27.484375 19.1875 25 \nQ 14.984375 22.515625 14.984375 16.5 \nQ 14.984375 11.71875 18.140625 8.90625 \nQ 21.296875 6.109375 26.703125 6.109375 \nQ 34.1875 6.109375 38.703125 11.40625 \nQ 43.21875 16.703125 43.21875 25.484375 \nL 43.21875 27.484375 \nz\nM 52.203125 31.203125 \nL 52.203125 0 \nL 43.21875 0 \nL 43.21875 8.296875 \nQ 40.140625 3.328125 35.546875 0.953125 \nQ 30.953125 -1.421875 24.3125 -1.421875 \nQ 15.921875 -1.421875 10.953125 3.296875 \nQ 6 8.015625 6 15.921875 \nQ 6 25.140625 12.171875 29.828125 \nQ 18.359375 34.515625 30.609375 34.515625 \nL 43.21875 34.515625 \nL 43.21875 35.40625 \nQ 43.21875 41.609375 39.140625 45 \nQ 35.0625 48.390625 27.6875 48.390625 \nQ 23 48.390625 18.546875 47.265625 \nQ 14.109375 46.140625 10.015625 43.890625 \nL 10.015625 52.203125 \nQ 14.9375 54.109375 19.578125 55.046875 \nQ 24.21875 56 28.609375 56 \nQ 40.484375 56 46.34375 49.84375 \nQ 52.203125 43.703125 52.203125 31.203125 \nz\n\" id=\"DejaVuSans-97\"/>\n      <path d=\"M 9.421875 54.6875 \nL 18.40625 54.6875 \nL 18.40625 0 \nL 9.421875 0 \nz\nM 9.421875 75.984375 \nL 18.40625 75.984375 \nL 18.40625 64.59375 \nL 9.421875 64.59375 \nz\n\" id=\"DejaVuSans-105\"/>\n      <path d=\"M 54.890625 33.015625 \nL 54.890625 0 \nL 45.90625 0 \nL 45.90625 32.71875 \nQ 45.90625 40.484375 42.875 44.328125 \nQ 39.84375 48.1875 33.796875 48.1875 \nQ 26.515625 48.1875 22.3125 43.546875 \nQ 18.109375 38.921875 18.109375 30.90625 \nL 18.109375 0 \nL 9.078125 0 \nL 9.078125 54.6875 \nL 18.109375 54.6875 \nL 18.109375 46.1875 \nQ 21.34375 51.125 25.703125 53.5625 \nQ 30.078125 56 35.796875 56 \nQ 45.21875 56 50.046875 50.171875 \nQ 54.890625 44.34375 54.890625 33.015625 \nz\n\" id=\"DejaVuSans-110\"/>\n      <path id=\"DejaVuSans-32\"/>\n      <path d=\"M 9.421875 75.984375 \nL 18.40625 75.984375 \nL 18.40625 0 \nL 9.421875 0 \nz\n\" id=\"DejaVuSans-108\"/>\n      <path d=\"M 44.28125 53.078125 \nL 44.28125 44.578125 \nQ 40.484375 46.53125 36.375 47.5 \nQ 32.28125 48.484375 27.875 48.484375 \nQ 21.1875 48.484375 17.84375 46.4375 \nQ 14.5 44.390625 14.5 40.28125 \nQ 14.5 37.15625 16.890625 35.375 \nQ 19.28125 33.59375 26.515625 31.984375 \nL 29.59375 31.296875 \nQ 39.15625 29.25 43.1875 25.515625 \nQ 47.21875 21.78125 47.21875 15.09375 \nQ 47.21875 7.46875 41.1875 3.015625 \nQ 35.15625 -1.421875 24.609375 -1.421875 \nQ 20.21875 -1.421875 15.453125 -0.5625 \nQ 10.6875 0.296875 5.421875 2 \nL 5.421875 11.28125 \nQ 10.40625 8.6875 15.234375 7.390625 \nQ 20.0625 6.109375 24.8125 6.109375 \nQ 31.15625 6.109375 34.5625 8.28125 \nQ 37.984375 10.453125 37.984375 14.40625 \nQ 37.984375 18.0625 35.515625 20.015625 \nQ 33.0625 21.96875 24.703125 23.78125 \nL 21.578125 24.515625 \nQ 13.234375 26.265625 9.515625 29.90625 \nQ 5.8125 33.546875 5.8125 39.890625 \nQ 5.8125 47.609375 11.28125 51.796875 \nQ 16.75 56 26.8125 56 \nQ 31.78125 56 36.171875 55.265625 \nQ 40.578125 54.546875 44.28125 53.078125 \nz\n\" id=\"DejaVuSans-115\"/>\n     </defs>\n     <g transform=\"translate(67.103125 102.664062)scale(0.1 -0.1)\">\n      <use xlink:href=\"#DejaVuSans-116\"/>\n      <use x=\"39.208984\" xlink:href=\"#DejaVuSans-114\"/>\n      <use x=\"80.322266\" xlink:href=\"#DejaVuSans-97\"/>\n      <use x=\"141.601562\" xlink:href=\"#DejaVuSans-105\"/>\n      <use x=\"169.384766\" xlink:href=\"#DejaVuSans-110\"/>\n      <use x=\"232.763672\" xlink:href=\"#DejaVuSans-32\"/>\n      <use x=\"264.550781\" xlink:href=\"#DejaVuSans-108\"/>\n      <use x=\"292.333984\" xlink:href=\"#DejaVuSans-111\"/>\n      <use x=\"353.515625\" xlink:href=\"#DejaVuSans-115\"/>\n      <use x=\"405.615234\" xlink:href=\"#DejaVuSans-115\"/>\n     </g>\n    </g>\n    <g id=\"line2d_22\">\n     <path d=\"M 39.103125 113.842187 \nL 59.103125 113.842187 \n\" style=\"fill:none;stroke:#bf00bf;stroke-dasharray:5.55,2.4;stroke-dashoffset:0;stroke-width:1.5;\"/>\n    </g>\n    <g id=\"line2d_23\"/>\n    <g id=\"text_11\">\n     <!-- train acc -->\n     <g transform=\"translate(67.103125 117.342187)scale(0.1 -0.1)\">\n      <use xlink:href=\"#DejaVuSans-116\"/>\n      <use x=\"39.208984\" xlink:href=\"#DejaVuSans-114\"/>\n      <use x=\"80.322266\" xlink:href=\"#DejaVuSans-97\"/>\n      <use x=\"141.601562\" xlink:href=\"#DejaVuSans-105\"/>\n      <use x=\"169.384766\" xlink:href=\"#DejaVuSans-110\"/>\n      <use x=\"232.763672\" xlink:href=\"#DejaVuSans-32\"/>\n      <use x=\"264.550781\" xlink:href=\"#DejaVuSans-97\"/>\n      <use x=\"325.830078\" xlink:href=\"#DejaVuSans-99\"/>\n      <use x=\"380.810547\" xlink:href=\"#DejaVuSans-99\"/>\n     </g>\n    </g>\n    <g id=\"line2d_24\">\n     <path d=\"M 39.103125 128.520312 \nL 59.103125 128.520312 \n\" style=\"fill:none;stroke:#008000;stroke-dasharray:9.6,2.4,1.5,2.4;stroke-dashoffset:0;stroke-width:1.5;\"/>\n    </g>\n    <g id=\"line2d_25\"/>\n    <g id=\"text_12\">\n     <!-- test acc -->\n     <g transform=\"translate(67.103125 132.020312)scale(0.1 -0.1)\">\n      <use xlink:href=\"#DejaVuSans-116\"/>\n      <use x=\"39.208984\" xlink:href=\"#DejaVuSans-101\"/>\n      <use x=\"100.732422\" xlink:href=\"#DejaVuSans-115\"/>\n      <use x=\"152.832031\" xlink:href=\"#DejaVuSans-116\"/>\n      <use x=\"192.041016\" xlink:href=\"#DejaVuSans-32\"/>\n      <use x=\"223.828125\" xlink:href=\"#DejaVuSans-97\"/>\n      <use x=\"285.107422\" xlink:href=\"#DejaVuSans-99\"/>\n      <use x=\"340.087891\" xlink:href=\"#DejaVuSans-99\"/>\n     </g>\n    </g>\n   </g>\n  </g>\n </g>\n <defs>\n  <clipPath id=\"p0ffe144439\">\n   <rect height=\"135.9\" width=\"195.3\" x=\"30.103125\" y=\"7.2\"/>\n  </clipPath>\n </defs>\n</svg>\n"
          },
          "metadata": {
            "needs_background": "light"
          }
        }
      ]
    },
    {
      "cell_type": "markdown",
      "source": [
        "## Prediction"
      ],
      "metadata": {
        "id": "GRcKyVnKwYJz"
      }
    },
    {
      "cell_type": "code",
      "source": [
        "# prediction이라서 따로 gradient 연산 없다\n",
        "# 예측을 어느정도는 잘 하는 것으로 보인다\n",
        "def predict_ch3(net, test_iter, n=6):\n",
        "  for X,y in test_iter:\n",
        "    break\n",
        "  trues = get_usps_labels(y)\n",
        "  preds = get_usps_labels(net(X).argmax(axis=1))\n",
        "  titles = [true + '\\n' + pred for true, pred in zip(trues, preds)]\n",
        "  d2l.show_images(\n",
        "      X[0:n].reshape((n, 16, 16)),1,n,titles=titles[0:n])\n",
        "  \n",
        "predict_ch3(net, test_iter)"
      ],
      "metadata": {
        "id": "pQTcRWy3QK7i",
        "colab": {
          "base_uri": "https://localhost:8080/",
          "height": 235
        },
        "outputId": "f2644ec6-07d4-42b9-ac44-849c4fcf0265"
      },
      "execution_count": null,
      "outputs": [
        {
          "output_type": "stream",
          "name": "stderr",
          "text": [
            "/usr/local/lib/python3.7/dist-packages/torch/utils/data/dataloader.py:560: UserWarning: This DataLoader will create 4 worker processes in total. Our suggested max number of worker in current system is 2, which is smaller than what this DataLoader is going to create. Please be aware that excessive worker creation might get DataLoader running slow or even freeze, lower the worker number to avoid potential slowness/freeze if necessary.\n",
            "  cpuset_checked))\n"
          ]
        },
        {
          "output_type": "display_data",
          "data": {
            "text/plain": [
              "<Figure size 648x108 with 6 Axes>"
            ],
            "image/svg+xml": "<?xml version=\"1.0\" encoding=\"utf-8\" standalone=\"no\"?>\n<!DOCTYPE svg PUBLIC \"-//W3C//DTD SVG 1.1//EN\"\n  \"http://www.w3.org/Graphics/SVG/1.1/DTD/svg11.dtd\">\n<!-- Created with matplotlib (https://matplotlib.org/) -->\n<svg height=\"118.198357pt\" version=\"1.1\" viewBox=\"0 0 520.1 118.198357\" width=\"520.1pt\" xmlns=\"http://www.w3.org/2000/svg\" xmlns:xlink=\"http://www.w3.org/1999/xlink\">\n <defs>\n  <style type=\"text/css\">\n*{stroke-linecap:butt;stroke-linejoin:round;}\n  </style>\n </defs>\n <g id=\"figure_1\">\n  <g id=\"patch_1\">\n   <path d=\"M 0 118.198357 \nL 520.1 118.198357 \nL 520.1 0 \nL 0 0 \nz\n\" style=\"fill:none;\"/>\n  </g>\n  <g id=\"axes_1\">\n   <g id=\"patch_2\">\n    <path d=\"M 10.7 107.498357 \nL 82.442857 107.498357 \nL 82.442857 35.7555 \nL 10.7 35.7555 \nz\n\" style=\"fill:#ffffff;\"/>\n   </g>\n   <g clip-path=\"url(#p040cb96d25)\">\n    <image height=\"72\" id=\"imagee9c82d48bf\" transform=\"scale(1 -1)translate(0 -72)\" width=\"72\" x=\"10.7\" xlink:href=\"data:image/png;base64,\niVBORw0KGgoAAAANSUhEUgAAAEgAAABICAYAAABV7bNHAAAABHNCSVQICAgIfAhkiAAABGxJREFUeJztnN9PU3cYxs85PaUU2trS0tJSKNMACpu6uSm7NJL4Y1kWl93olYl/wK52sWx/wLL/YXdLlizZLpY4k4XFLJO5xDjJNE7wByAogpYWygGk5/Ts+jlPsxeJcrG8n7uneTgHnnx5837f7xfMUfMT39glrLY20FsjB8gzfdbGDxomeQa+dUD7N+7wyxrey3+DTbBeyVP+x2hAAhqQgAYkYMuWV4cZj4GuDLaQ58zIX6Dv1zLk2cwUQLeGQuTxtUjvDhqQgAYksKs1yGhgT+pb3ASWos9BW2aDPDdiRdDRMP8Yfn1rJ98hoStIQAMS0IAENCCBXS3S/vo66EiVC3Cl3g56b/QZeX4rYGOYTMTJ0wi8a6foChLQgAQ0IIGd1SCTGzzDtAKyicfHRrG1whvKiSo2gRe6x8lT24df56eT/K7Fpf9893bRFSSgAQloQAIakMC2irQZiYAOZTvJ4+ZToOsxnhYG2YrzJHCp3AG6pciFPPVGBZ+TjZHHngqD3unuXleQgAYkoAEJUA0K1hvDMAxz/17Q88dT5HGO4uawlOVN5qaLr1taTpCnlFwF3WMvk2e0OAX6Sul98mRuRkF7Va1BrwUNSEADEtCABOzgzjzUlSXT3AksyvkPHpGnP4FFOWLVyZMKYyFvK3LhPBSdBX0kwg2ns2cC9A/DTYr09S7Q5ppDHt916bMguoIENCABDUjADk4C3RxP55y3N0CnW/n3eezyO6ATD/hl63msd87gC/KMDt0F3Zn7lTxvhfE05PDIPfI8ut2PzylXyeMu4TF3s3uNuoIENCABDUhAAxKwg8czWwluzPry2ARGQ9wEJifxWKVj7CF5zDBO+dxCB3luHjwI+tzpPvJ8d+Qb0F8WL5Hn/IcXQbc4/JzEFfw5vDJPDnQFCWhAAhqQAE0ULZePaJ061o5cZJU813OYddrmAxP3yVPQ5iJPHXNP8MRk0e8lz9f5U6C/KPxMnq8O/Qj609o58sRm8L61UVkhj64gAQ1IQAMS0IAEbN/DHWzLM96pT09i4QwX7pJn412cFjqT3eRpW8epgLfCxd4LFO7stXbyTHQOgf7sVJQ8n/di81jqLpPHjWOjaje506QrSEADEtCABGy6uze3QKaucZwyXu4fIs/HB/Ck4fuP3uPnJAZBJ2/xlM96jldbjJU18mT+3gP6zv4CecZSb4KeneUrO4NVrJt+g5tkXUECGpCABiSgAQnQltur1ciU/PMx6IV0D3muncVj3AvH+AL4H/vwntHUrSJ54g8CzdsGF85aH+qBXj4KvzQ/DDr7O08XrHm8bO7psc/LowEJaEAC5nb+PY4ZmA6GengjujiKzdrmad6Iniz9Azpi8fWTNY/vSAZxfbxffXs5T57qL/hZ8aen5GlMY+1qdh1GV5CABiSgAQloQALbKtL0RU2OdEI5vNu4Mcw77PIwHmuvDnBRjOexUU23818vz8zhzjxzNUyeznGcTDZm5sjjv+D7SUF0BQloQAIakMC/4qwatY1TLkIAAAAASUVORK5CYII=\" y=\"-35.498357\"/>\n   </g>\n   <g id=\"patch_3\">\n    <path d=\"M 10.7 107.498357 \nL 10.7 35.7555 \n\" style=\"fill:none;stroke:#000000;stroke-linecap:square;stroke-linejoin:miter;stroke-width:0.8;\"/>\n   </g>\n   <g id=\"patch_4\">\n    <path d=\"M 82.442857 107.498357 \nL 82.442857 35.7555 \n\" style=\"fill:none;stroke:#000000;stroke-linecap:square;stroke-linejoin:miter;stroke-width:0.8;\"/>\n   </g>\n   <g id=\"patch_5\">\n    <path d=\"M 10.7 107.498357 \nL 82.442857 107.498357 \n\" style=\"fill:none;stroke:#000000;stroke-linecap:square;stroke-linejoin:miter;stroke-width:0.8;\"/>\n   </g>\n   <g id=\"patch_6\">\n    <path d=\"M 10.7 35.7555 \nL 82.442857 35.7555 \n\" style=\"fill:none;stroke:#000000;stroke-linecap:square;stroke-linejoin:miter;stroke-width:0.8;\"/>\n   </g>\n   <g id=\"text_1\">\n    <!-- 9 -->\n    <defs>\n     <path d=\"M 10.984375 1.515625 \nL 10.984375 10.5 \nQ 14.703125 8.734375 18.5 7.8125 \nQ 22.3125 6.890625 25.984375 6.890625 \nQ 35.75 6.890625 40.890625 13.453125 \nQ 46.046875 20.015625 46.78125 33.40625 \nQ 43.953125 29.203125 39.59375 26.953125 \nQ 35.25 24.703125 29.984375 24.703125 \nQ 19.046875 24.703125 12.671875 31.3125 \nQ 6.296875 37.9375 6.296875 49.421875 \nQ 6.296875 60.640625 12.9375 67.421875 \nQ 19.578125 74.21875 30.609375 74.21875 \nQ 43.265625 74.21875 49.921875 64.515625 \nQ 56.59375 54.828125 56.59375 36.375 \nQ 56.59375 19.140625 48.40625 8.859375 \nQ 40.234375 -1.421875 26.421875 -1.421875 \nQ 22.703125 -1.421875 18.890625 -0.6875 \nQ 15.09375 0.046875 10.984375 1.515625 \nz\nM 30.609375 32.421875 \nQ 37.25 32.421875 41.125 36.953125 \nQ 45.015625 41.5 45.015625 49.421875 \nQ 45.015625 57.28125 41.125 61.84375 \nQ 37.25 66.40625 30.609375 66.40625 \nQ 23.96875 66.40625 20.09375 61.84375 \nQ 16.21875 57.28125 16.21875 49.421875 \nQ 16.21875 41.5 20.09375 36.953125 \nQ 23.96875 32.421875 30.609375 32.421875 \nz\n\" id=\"DejaVuSans-57\"/>\n    </defs>\n    <g transform=\"translate(42.753929 16.318125)scale(0.12 -0.12)\">\n     <use xlink:href=\"#DejaVuSans-57\"/>\n    </g>\n    <!-- 9 -->\n    <g transform=\"translate(42.753929 29.7555)scale(0.12 -0.12)\">\n     <use xlink:href=\"#DejaVuSans-57\"/>\n    </g>\n   </g>\n  </g>\n  <g id=\"axes_2\">\n   <g id=\"patch_7\">\n    <path d=\"M 96.791429 107.498357 \nL 168.534286 107.498357 \nL 168.534286 35.7555 \nL 96.791429 35.7555 \nz\n\" style=\"fill:#ffffff;\"/>\n   </g>\n   <g clip-path=\"url(#pa67273d33c)\">\n    <image height=\"72\" id=\"image5d3399aa5b\" transform=\"scale(1 -1)translate(0 -72)\" width=\"72\" x=\"96.791429\" xlink:href=\"data:image/png;base64,\niVBORw0KGgoAAAANSUhEUgAAAEgAAABICAYAAABV7bNHAAAABHNCSVQICAgIfAhkiAAABJdJREFUeJztnM1PG1cUxcf22IBNAQfCEBswJIFGqepSRYkQTauqkC6yqKjURbuq+p902X+hyyjrqKm6y6INISVN0zQfKEHQOASDi82XCRjzYc9Mtz3vTHQRStWqur/dfToaP06eb+57941DY6HPfOvvhEKWSSgWgzgcj5PGsm0ek9jfpyHPHHNd0viebw7ws32fx45A+LU85X+MGiSgBgmoQQJ2KIoJOOIcJ9Hem10Qb/XGSFOPG8mdc71lGXnTrnIibdzEhBvd4SQdK2MijyxvkMZdXcOPPjgImI+cyHUFCahBAmqQgB0+nYGBwhjnIH+0DPFw6ilpmiNc9Jk0RWoQx8OcF9ZrCYhzFZ7P9GIK4sSDDGk67zsQN8z+SRp3DXOXX+P56AoSUIME1CABNUjAXh7FJOiM50mUTRYgfljuJk1puxliz2PvBztWIP4mc501UUzSN3f5ObeTgxA/7T9Bml+y/RAnp/pJ49w05vyc/3ZdQQJqkIAaJGBXRqow8EnHPImuTl6EOP0jP6irhIWib/Nudf7tAYi//ep90nzZPgXx17nPSZOfxSIw2rlLmouDzyAupNtIU4hjLk3/wBtjXUECapCAGiSgBgnY6Y5NGGgI1UkUX4xA3HKPCyp3uYgDkQhpOnexwPvu/BBpzl7AXff2Pp9etj3Bf9fG29yGunPuLYjfHZkjzc4lLFw3Vh3S6AoSUIME1CABe2GpA0e6WFTtxgLKb0mQxi8YHQKXT+fsPH7nk1MnSfN9H+alTzOPSXPlg2GIwz81keb47zif+9EB0rw3jCejkyPHSKMrSEANElCDBNQgAbvlERZi5SEuuk6dxeKtcppP8BLzDRB71Spp3HVsHzm31kgz34KJe+tSI2nGzzyC+KHDJ5zPp9MQ+wGtcLMNlTrJ89EVJKAGCahBAnb7DBZ0k8VTJBpLzUJ87Z0e0jQ/MTZ6AR0Cs7Ub1EXouY5FaXmJK9drwziWHeJT0C8+/BliJ7rFnxVbh/hesZc0uoIE1CABNUhADRKwm2ZLMLAywQk4P4678Ph5LqheznRC3Fp+SRp33biPE3CR3M0tQJzc2CRN6x94P2hhjv9jeXwBC8WB7hXSrFWxKK5PtJNGV5CAGiSgBgnYbhG/m6lbfKo22XcG4o/PTZPmxii2duMrfG/QvosbWG9vj2fkYaFo5i3LsqzQVgXiVIHn7NzFk9JaK3csjtXxTnZske8x6goSUIME1CABNUjANos1e26RRCcmsGX8oJdP8D4awhbKnUKWNH0F4yQy94JndIgXTMxTgXqxxKLSKoTRMB8pmm8u1gPeXNQVJKAGCahBAvSqshuwyWz7Db/j+Qx3NVYvb0PsZ7dJs/srbgYbl5ZJE1g8SgTlLd9olwe8GH0YdAUJqEECapCAGiTAvyfh8WVqz9jldt/g9nQujC3jvR6+61h7A4u1pkTAT1wcJUn/g+gKElCDBNQggUP9po25oQ3P5EiT2cEuwkGqlTSxAnYovMrOYT7+X0VXkIAaJKAGCahBAkf44bFX7LifvcAHLwTVoMYOu87F5H8NXUECapCAGiTwFxfYUzhjJFbVAAAAAElFTkSuQmCC\" y=\"-35.498357\"/>\n   </g>\n   <g id=\"patch_8\">\n    <path d=\"M 96.791429 107.498357 \nL 96.791429 35.7555 \n\" style=\"fill:none;stroke:#000000;stroke-linecap:square;stroke-linejoin:miter;stroke-width:0.8;\"/>\n   </g>\n   <g id=\"patch_9\">\n    <path d=\"M 168.534286 107.498357 \nL 168.534286 35.7555 \n\" style=\"fill:none;stroke:#000000;stroke-linecap:square;stroke-linejoin:miter;stroke-width:0.8;\"/>\n   </g>\n   <g id=\"patch_10\">\n    <path d=\"M 96.791429 107.498357 \nL 168.534286 107.498357 \n\" style=\"fill:none;stroke:#000000;stroke-linecap:square;stroke-linejoin:miter;stroke-width:0.8;\"/>\n   </g>\n   <g id=\"patch_11\">\n    <path d=\"M 96.791429 35.7555 \nL 168.534286 35.7555 \n\" style=\"fill:none;stroke:#000000;stroke-linecap:square;stroke-linejoin:miter;stroke-width:0.8;\"/>\n   </g>\n   <g id=\"text_2\">\n    <!-- 6 -->\n    <defs>\n     <path d=\"M 33.015625 40.375 \nQ 26.375 40.375 22.484375 35.828125 \nQ 18.609375 31.296875 18.609375 23.390625 \nQ 18.609375 15.53125 22.484375 10.953125 \nQ 26.375 6.390625 33.015625 6.390625 \nQ 39.65625 6.390625 43.53125 10.953125 \nQ 47.40625 15.53125 47.40625 23.390625 \nQ 47.40625 31.296875 43.53125 35.828125 \nQ 39.65625 40.375 33.015625 40.375 \nz\nM 52.59375 71.296875 \nL 52.59375 62.3125 \nQ 48.875 64.0625 45.09375 64.984375 \nQ 41.3125 65.921875 37.59375 65.921875 \nQ 27.828125 65.921875 22.671875 59.328125 \nQ 17.53125 52.734375 16.796875 39.40625 \nQ 19.671875 43.65625 24.015625 45.921875 \nQ 28.375 48.1875 33.59375 48.1875 \nQ 44.578125 48.1875 50.953125 41.515625 \nQ 57.328125 34.859375 57.328125 23.390625 \nQ 57.328125 12.15625 50.6875 5.359375 \nQ 44.046875 -1.421875 33.015625 -1.421875 \nQ 20.359375 -1.421875 13.671875 8.265625 \nQ 6.984375 17.96875 6.984375 36.375 \nQ 6.984375 53.65625 15.1875 63.9375 \nQ 23.390625 74.21875 37.203125 74.21875 \nQ 40.921875 74.21875 44.703125 73.484375 \nQ 48.484375 72.75 52.59375 71.296875 \nz\n\" id=\"DejaVuSans-54\"/>\n    </defs>\n    <g transform=\"translate(128.845357 16.318125)scale(0.12 -0.12)\">\n     <use xlink:href=\"#DejaVuSans-54\"/>\n    </g>\n    <!-- 6 -->\n    <g transform=\"translate(128.845357 29.7555)scale(0.12 -0.12)\">\n     <use xlink:href=\"#DejaVuSans-54\"/>\n    </g>\n   </g>\n  </g>\n  <g id=\"axes_3\">\n   <g id=\"patch_12\">\n    <path d=\"M 182.882857 107.498357 \nL 254.625714 107.498357 \nL 254.625714 35.7555 \nL 182.882857 35.7555 \nz\n\" style=\"fill:#ffffff;\"/>\n   </g>\n   <g clip-path=\"url(#p0e2fd67e31)\">\n    <image height=\"72\" id=\"image6bb41fbe57\" transform=\"scale(1 -1)translate(0 -72)\" width=\"72\" x=\"182.882857\" xlink:href=\"data:image/png;base64,\niVBORw0KGgoAAAANSUhEUgAAAEgAAABICAYAAABV7bNHAAAABHNCSVQICAgIfAhkiAAABNBJREFUeJztnEtMXFUcxufcOw8GZmCYMrynPFqKqLEPWjWmtbYSTYwmmmiibeKyO1d259adrt1p0oVxSTCGaDVpxNZYDBAtag1QKiDv13QYGGbmznXrd75J/oX1/7f7Tr558N3D//7PPQfMgHnbD/wPt74+YJM73wN64ZJDnranVkCfOrJAnpDxQM/spMgzvdGAn71eTZ7q2RDo5H2PPLGZDGjzcJE8XjaLA75PHv5JFUADEtCABDQggWDAcWGgfKyNTHNvYPG6+uwd8nRF1kDXOPvksYv0c/EZ8iTadsX3mSk0gh7eeIY8o2N4Y0l/X0uemttToL2tLfLoDBLQgAQ0IIGgcQwMlMMuu6z+aXCGf+f3H8ZBh7Kcve/gGxXquDGLdWCDdzk9RZ6Xau+D/jT9NXnuplpBX4+/Q57e5XYcGHtEHp1BAhqQgAYkoAEJBH0Pm7fQP2tk6hzE5tEpVpEnsrQJ2uxxg2fjRyM0Vkzi6v3Xln7yDJ85B/rqaz+S51r9KOiT3fx0IZNMg464fIPSGSSgAQloQAJB+ymat7JKpqptbN78Uok8XpHHbOymtBKuwWtWVxMlTySDC9Evu86S52T/HOjlXJw8sf0yDvhl8ugMEtCABDQgAQ1IIGgPVCrAlcZsnCpsHp0m3tIpJ2KgTYmLYqBQxNfEuEhnunDbJ5XYJM/Qxml8zd1G8iQXlkB7Hm8f6QwS0IAENCABqkGPg4nwIjPQ2wVyfoC3sLMnsL6YAl8fN4djXozrVEPXOuiQw547t54G3XkzRx5/ccUa0K3nA6MBCWhAAhqQwKGKtBPlJ4qZE7i1ay7wNu7HfTdBp0Mb5Cn7eM0cwwV4ZOcJ0De+vUSezuE8aHfyAX/W7i6N2egMEtCABDQggUPVID/POxbxWWzENie4Ufys6iLod9Nj5Bmo+Qt0X5jPKLqBP0F/0fQCefINYfx+kTB5AjvWE05tFA+OBiSgAQloQALGPkh+WJxqLKamrZk8e91J0Jt9XDh3+vdAXzt1mzzv1U2AvldoIM+H43geqPkGN7fRETxnVLYPlgd0BoloQAIakMDj1SBjNVSmQq72tm0FjwlhX+omuZksHG8BvXiBdzVOv46N4ift35Dnpzwe2flo8Ap5ej7HbXZvihe0OoMENCABDUhAAxKg1bwJ8gLfbW4C7aUS7NnEQ9jeMp8z8gsF0KXlFfIEt7ZBd6y2k+e30pOgv3p/jjxvxX8HHe/j7eliI54ZcqZ5vugMEtCABDQgASo4bsMRMq0NHEX9fIW/Mp6uA906UqFOPcC/PPZ398hjwni0JVDhSEp0FXvb0Uwnec5WY9O3m+eFcarS8RsLnUECGpCABiSgAQkE7ZW6Xxsj03Yv6g/O/0CeuXP4tHDo2BnyJP7AN4quc5EsVuP3ybXy4fNCHxb3KwlehQ9t4ecHx/ggeXBpHnRJD5IfHA1IQAMS4MVqls/yxay14Pijo+S53vId6DdfGSfP/Yv4tHC9xHXB/u8MMTdPnvUivm5ko4c8934+Drr7Fu9Y0IJat54PjgYkoAEJaEACtO1jQrzqdXo6Qf/7Km/1hl/Gw90vtkyTJ+oWacxmv4z3jb+zTeSZnOwAnfqFr3NywjojOTtPnnKOb0g2OoMENCABDUjgP9SWSKjGTmKnAAAAAElFTkSuQmCC\" y=\"-35.498357\"/>\n   </g>\n   <g id=\"patch_13\">\n    <path d=\"M 182.882857 107.498357 \nL 182.882857 35.7555 \n\" style=\"fill:none;stroke:#000000;stroke-linecap:square;stroke-linejoin:miter;stroke-width:0.8;\"/>\n   </g>\n   <g id=\"patch_14\">\n    <path d=\"M 254.625714 107.498357 \nL 254.625714 35.7555 \n\" style=\"fill:none;stroke:#000000;stroke-linecap:square;stroke-linejoin:miter;stroke-width:0.8;\"/>\n   </g>\n   <g id=\"patch_15\">\n    <path d=\"M 182.882857 107.498357 \nL 254.625714 107.498357 \n\" style=\"fill:none;stroke:#000000;stroke-linecap:square;stroke-linejoin:miter;stroke-width:0.8;\"/>\n   </g>\n   <g id=\"patch_16\">\n    <path d=\"M 182.882857 35.7555 \nL 254.625714 35.7555 \n\" style=\"fill:none;stroke:#000000;stroke-linecap:square;stroke-linejoin:miter;stroke-width:0.8;\"/>\n   </g>\n   <g id=\"text_3\">\n    <!-- 3 -->\n    <defs>\n     <path d=\"M 40.578125 39.3125 \nQ 47.65625 37.796875 51.625 33 \nQ 55.609375 28.21875 55.609375 21.1875 \nQ 55.609375 10.40625 48.1875 4.484375 \nQ 40.765625 -1.421875 27.09375 -1.421875 \nQ 22.515625 -1.421875 17.65625 -0.515625 \nQ 12.796875 0.390625 7.625 2.203125 \nL 7.625 11.71875 \nQ 11.71875 9.328125 16.59375 8.109375 \nQ 21.484375 6.890625 26.8125 6.890625 \nQ 36.078125 6.890625 40.9375 10.546875 \nQ 45.796875 14.203125 45.796875 21.1875 \nQ 45.796875 27.640625 41.28125 31.265625 \nQ 36.765625 34.90625 28.71875 34.90625 \nL 20.21875 34.90625 \nL 20.21875 43.015625 \nL 29.109375 43.015625 \nQ 36.375 43.015625 40.234375 45.921875 \nQ 44.09375 48.828125 44.09375 54.296875 \nQ 44.09375 59.90625 40.109375 62.90625 \nQ 36.140625 65.921875 28.71875 65.921875 \nQ 24.65625 65.921875 20.015625 65.03125 \nQ 15.375 64.15625 9.8125 62.3125 \nL 9.8125 71.09375 \nQ 15.4375 72.65625 20.34375 73.4375 \nQ 25.25 74.21875 29.59375 74.21875 \nQ 40.828125 74.21875 47.359375 69.109375 \nQ 53.90625 64.015625 53.90625 55.328125 \nQ 53.90625 49.265625 50.4375 45.09375 \nQ 46.96875 40.921875 40.578125 39.3125 \nz\n\" id=\"DejaVuSans-51\"/>\n    </defs>\n    <g transform=\"translate(214.936786 16.318125)scale(0.12 -0.12)\">\n     <use xlink:href=\"#DejaVuSans-51\"/>\n    </g>\n    <!-- 3 -->\n    <g transform=\"translate(214.936786 29.7555)scale(0.12 -0.12)\">\n     <use xlink:href=\"#DejaVuSans-51\"/>\n    </g>\n   </g>\n  </g>\n  <g id=\"axes_4\">\n   <g id=\"patch_17\">\n    <path d=\"M 268.974286 107.498357 \nL 340.717143 107.498357 \nL 340.717143 35.7555 \nL 268.974286 35.7555 \nz\n\" style=\"fill:#ffffff;\"/>\n   </g>\n   <g clip-path=\"url(#p4df82f7b0f)\">\n    <image height=\"72\" id=\"image04de68dee6\" transform=\"scale(1 -1)translate(0 -72)\" width=\"72\" x=\"268.974286\" xlink:href=\"data:image/png;base64,\niVBORw0KGgoAAAANSUhEUgAAAEgAAABICAYAAABV7bNHAAAABHNCSVQICAgIfAhkiAAABHxJREFUeJztnNtrXFUUxs8+58wtzW0Sm6ttDKEm7Rg1GDUqYhGrL6Wtpkqo0ifRKghe3lTof+CLCvZF8aEURASlikas2lZaogSkWC2hbWpJYkzSzjST6VzP8dVvfwdWUoJSWL+3tflmz/DNZs1ae+8z5jGzN3TWijFrfsm6Eq79I98o7n/2TjcpapCAGiSgBgn49oCJxUnkNtajpqGeNGE8hppqjTWJGI2RxvNwnkqVNOZaHl9z/TppgvwKaqo8z2rQFSSgBgmoQQK+l07DQCXTQ6KFTAri/CaeqFqPxZtb5mKyVhfgQES9F8ZRY0r8Habm2iDeMMcTNU9hXvLPXebPcyWLAwHnTV1BAmqQgBokoAYJ+PlHtsDAX2NFEh0c+gTivtjfpCmGWARmgzrWBKgphx5pGr2iqLHnOV9qJ82Rs8MQtxzdQprWkzMQ12bmSKMrSEANElCDBPyZ0QoMfDFyiEQxg8XbewvbSfPTXC/E+UKSNOU8NsLG4wKvq+MqxPXxEmlsBprmaezA4AmIP0vfTZrZZqx4u47y3LqCBNQgATVIQA0S8A8MHYeBOsMd7aPfvgpx1zdcvLXOYjLdWOZ5TKUAcXZbI2kKY1gE1kLeFSiMY2G4lN1Mms8fwB3EVx78jjTjo1shzs3fShpdQQJqkIAaJOD3J7BBO1NuI1HracwLTcfOkaZ2NQdx5OGwdWKR6LyLJL2t2Ajv2ThJmrfa90HcNskNdtwqSg93DpPm9dsxLx28/xnS6AoSUIME1CABNUjAn63gsc9AgnfVSs1YrJlYxBFyaB/pcJq2R+K5Mmn+WMIfie2bZ0nzws5xiD9I7iBNwwX87nOLDaTpy+APwsC906TRFSSgBgmoQQL+x5dGYODQ1sOsegiPaFd+4+YwdRIb0WB5meex8lTs0gJLvr4N4uebRknzcvf3EL+/8yPSTBZwHs/aFXUcxxlJYuF6T/pP0ugKElCDBNQgATVIwGTeeAfqt137T5BoeMNFiF87Pkaank+xmKz7+QJp7Ps4xuXdQq+7E+LloU7SzA9jcu1/+CJpXuz+AeIO7xppsgHee3pp4jnS6AoSUIME1CAB8/jg25CDpve2kOjZp45BfGeKC6o3zzwJcfIrPrG45Ve83+xO8Tw16w60m0yQxu3AhnZ5kHdBlzJ4BbyU5uY5lscc2D5RIY2uIAE1SEANElCDBMyO+D7IXmZbH4mmd+Ou4xO7J0jzdBrHvszxfZwjp3DnoP/DAmnCyd9xIOJyt/3Eo5tKkcRNN+O8KU729oMyweIVnoffXfk3apCAGiTghxXrZOHseRL1FnEH8cfF+0jzyy7U7O85TZqWTdisViMezOOLNRFYJyZBgXMZja3mSe2IkxhdQQJqkIAaJKAGCdBTz5S0HcepTeGOXVeOj3RWpjFJv3vHHn4zbNSd+GU+5q7ZR9jrxQ3+nYWuIAE1SEANEjDr9fc4dsNoN4tRBEvcHAZFvm/4f6IrSEANElCDBNQgASoUV0VE0WV3z1Ed9s2IriABNUhADRL4B8whMpcAzbNAAAAAAElFTkSuQmCC\" y=\"-35.498357\"/>\n   </g>\n   <g id=\"patch_18\">\n    <path d=\"M 268.974286 107.498357 \nL 268.974286 35.7555 \n\" style=\"fill:none;stroke:#000000;stroke-linecap:square;stroke-linejoin:miter;stroke-width:0.8;\"/>\n   </g>\n   <g id=\"patch_19\">\n    <path d=\"M 340.717143 107.498357 \nL 340.717143 35.7555 \n\" style=\"fill:none;stroke:#000000;stroke-linecap:square;stroke-linejoin:miter;stroke-width:0.8;\"/>\n   </g>\n   <g id=\"patch_20\">\n    <path d=\"M 268.974286 107.498357 \nL 340.717143 107.498357 \n\" style=\"fill:none;stroke:#000000;stroke-linecap:square;stroke-linejoin:miter;stroke-width:0.8;\"/>\n   </g>\n   <g id=\"patch_21\">\n    <path d=\"M 268.974286 35.7555 \nL 340.717143 35.7555 \n\" style=\"fill:none;stroke:#000000;stroke-linecap:square;stroke-linejoin:miter;stroke-width:0.8;\"/>\n   </g>\n   <g id=\"text_4\">\n    <!-- 6 -->\n    <g transform=\"translate(301.028214 16.318125)scale(0.12 -0.12)\">\n     <use xlink:href=\"#DejaVuSans-54\"/>\n    </g>\n    <!-- 2 -->\n    <defs>\n     <path d=\"M 19.1875 8.296875 \nL 53.609375 8.296875 \nL 53.609375 0 \nL 7.328125 0 \nL 7.328125 8.296875 \nQ 12.9375 14.109375 22.625 23.890625 \nQ 32.328125 33.6875 34.8125 36.53125 \nQ 39.546875 41.84375 41.421875 45.53125 \nQ 43.3125 49.21875 43.3125 52.78125 \nQ 43.3125 58.59375 39.234375 62.25 \nQ 35.15625 65.921875 28.609375 65.921875 \nQ 23.96875 65.921875 18.8125 64.3125 \nQ 13.671875 62.703125 7.8125 59.421875 \nL 7.8125 69.390625 \nQ 13.765625 71.78125 18.9375 73 \nQ 24.125 74.21875 28.421875 74.21875 \nQ 39.75 74.21875 46.484375 68.546875 \nQ 53.21875 62.890625 53.21875 53.421875 \nQ 53.21875 48.921875 51.53125 44.890625 \nQ 49.859375 40.875 45.40625 35.40625 \nQ 44.1875 33.984375 37.640625 27.21875 \nQ 31.109375 20.453125 19.1875 8.296875 \nz\n\" id=\"DejaVuSans-50\"/>\n    </defs>\n    <g transform=\"translate(301.028214 29.7555)scale(0.12 -0.12)\">\n     <use xlink:href=\"#DejaVuSans-50\"/>\n    </g>\n   </g>\n  </g>\n  <g id=\"axes_5\">\n   <g id=\"patch_22\">\n    <path d=\"M 355.065714 107.498357 \nL 426.808571 107.498357 \nL 426.808571 35.7555 \nL 355.065714 35.7555 \nz\n\" style=\"fill:#ffffff;\"/>\n   </g>\n   <g clip-path=\"url(#p7e2d3ad9f2)\">\n    <image height=\"72\" id=\"imagef5af13db8a\" transform=\"scale(1 -1)translate(0 -72)\" width=\"72\" x=\"355.065714\" xlink:href=\"data:image/png;base64,\niVBORw0KGgoAAAANSUhEUgAAAEgAAABICAYAAABV7bNHAAAABHNCSVQICAgIfAhkiAAABOhJREFUeJztnEtMXFUcxs+duTDDo0ChzAyv6QBNa4Oh0oAQY0WLLdZEQpMum5jozrhx5da4cGXcNi6MphuNiY/UxijR1gdKUy3SUkotLR0eA+X9HqDM3OvW737X/Alx+f/tvpNvDjPfnPxz7vmfweo88rZr/sVCW8R4WWxAHaxdJ09j5RToSIg9diBLY16mNotB94/XkCf3Tj7o0mGet2hwHrQ7OU0eZ3MTB1yXPIH/fKeKMUYDEtGABDQgATt1JgoDNWcfkun16E3QuVZGnLjcXqWx9vAy6MJAmDzXtrDgXi58ijzTdVjIh56JkSfZh5+r6pci8uTcHAWdXeH3rCtIQAMS0IAEbPeFJRh4q6aHTN8sN4G+NNTIE02GQGeKHfK80/EF6JP5SfK8n+oG3d9/iDxuAdbAo/VT5Il3/g36zxjPczDvMOi8a/fIoytIQAMS0IAENCABu7ViHAbmMryhunylBXTdt9vkyU3Ngt44UkaeD+ufA504PE+ex44NumCSv8Pih0HQqaoEeQInF0F3NN8mzw9BPKao367neWhEATQgAQ1IwA4FcNO14YTIFFq0UI/OkSc7NQO6wOGNYvLXCtBfljeT53xFH+iPXrLJM9YbB104wSeB6wOloGeeXybPK81/ge6ZaSGPriABDUhAAxLQgATs8fR+GDhdMkimdBwLuVNSSB53Ap+o/dos8R583XchLorJdtxgdkbvkGelG089byzFyfNg7gBo2+LWUKfns/52vJY8uoIENCABDUjAHhyphoF0jDeKiUO4CUzHo+TJH8HXUVvXGBMYegC6br2KPDPDWAcuNNWRp7oJ692p6F3ynI3iJrAqZ4k8YWsH9OMMb0p1BQloQAIakIAGJGA1vvkBPAq3v3adTIkwnvxd+PoMeeov4hN+doRb2MbxbNYCQbIEizyb0Aq+r7T2BD6pzx/jeUzDGshYCbeVUwvYwt53tYA8uoIENCABDUjALh9Iw4BfW/m91q9AN5y4T57UXWztli3wxiy7gJ0GqknGmOzyCg6s8l3HwnHcKBYNHCDPTqwE581jT20aN4r2xBh5dAUJaEACGpCABiRg2/ex4JX+zO3Xzw4+Dbrb86RsjDHvduCpXv4sn87l9WFRzK6tkYcuc/sUcmdjA3UyTR5rbBJ0TsAij+vg38q43KrSFSSgAQloQAK249m8RX4vJtO9SqxL17tWyPNqE7aMP0k/S55aF+8Ehm+Mkie75JnbpwYRPj9CMS6+zqe87ApdQQIakIAGJKABCVgvWuegwgXC/AMT90l8Uk927SPPic5boCvDfB/nYn8b6Irvc8izv3cCdGbqEXl2Vbj/J3QFCWhAAhqQAPVana0tMgVu4wliwuUH2l7nGOimU8PkeaPlJ9CflvEdxdl8fOiN/MjfYTaFV2vcjPwDv72iK0hAAxLQgAQ0IAG+EOODt3B77/kYY0wii/d4BjeOkme8A+9Dnq/7gzyfnzsOejq3mjyxK7n4/jynh8YY427zD272gq4gAQ1IQAMS2FUN8uK3mbSGsS7VrFeSZ24e/0PCx11t5Dkdx/uGV1/mqy1z23glJuLTns48mqGxvaArSEADEtCABDQggT0VaT+8GzMnOUGeyCZ6Vlf4/5Ndam0FnSnbIU+Z92sN+txRtDytZr/W0C7QFSSgAQloQAL/AOVPYLECZjk4AAAAAElFTkSuQmCC\" y=\"-35.498357\"/>\n   </g>\n   <g id=\"patch_23\">\n    <path d=\"M 355.065714 107.498357 \nL 355.065714 35.7555 \n\" style=\"fill:none;stroke:#000000;stroke-linecap:square;stroke-linejoin:miter;stroke-width:0.8;\"/>\n   </g>\n   <g id=\"patch_24\">\n    <path d=\"M 426.808571 107.498357 \nL 426.808571 35.7555 \n\" style=\"fill:none;stroke:#000000;stroke-linecap:square;stroke-linejoin:miter;stroke-width:0.8;\"/>\n   </g>\n   <g id=\"patch_25\">\n    <path d=\"M 355.065714 107.498357 \nL 426.808571 107.498357 \n\" style=\"fill:none;stroke:#000000;stroke-linecap:square;stroke-linejoin:miter;stroke-width:0.8;\"/>\n   </g>\n   <g id=\"patch_26\">\n    <path d=\"M 355.065714 35.7555 \nL 426.808571 35.7555 \n\" style=\"fill:none;stroke:#000000;stroke-linecap:square;stroke-linejoin:miter;stroke-width:0.8;\"/>\n   </g>\n   <g id=\"text_5\">\n    <!-- 6 -->\n    <g transform=\"translate(387.119643 16.318125)scale(0.12 -0.12)\">\n     <use xlink:href=\"#DejaVuSans-54\"/>\n    </g>\n    <!-- 6 -->\n    <g transform=\"translate(387.119643 29.7555)scale(0.12 -0.12)\">\n     <use xlink:href=\"#DejaVuSans-54\"/>\n    </g>\n   </g>\n  </g>\n  <g id=\"axes_6\">\n   <g id=\"patch_27\">\n    <path d=\"M 441.157143 107.498357 \nL 512.9 107.498357 \nL 512.9 35.7555 \nL 441.157143 35.7555 \nz\n\" style=\"fill:#ffffff;\"/>\n   </g>\n   <g clip-path=\"url(#p26614518b5)\">\n    <image height=\"72\" id=\"image940aa48595\" transform=\"scale(1 -1)translate(0 -72)\" width=\"72\" x=\"441.157143\" xlink:href=\"data:image/png;base64,\niVBORw0KGgoAAAANSUhEUgAAAEgAAABICAYAAABV7bNHAAAABHNCSVQICAgIfAhkiAAABO5JREFUeJztnEtMXHUYxefeuQwwQAeGx5Rnpw9qkUKlomjUErFxQ5MualM1uiBi4kKXujMmLty60kQT48qouxJN02pZiKjhVa2ltAmPoQLyFhjo0Bnuw/W55yYf7fr77c4/Zx4588833/8xY5w1XvFCAmY0CtqoryHP5hMVoFfaDfJEGzdBn6mdIY8bwsf9tnCYPOnFEtAlUxZ54nf2QBfdXCCPvbjse3GHPCaNKIAGJKABCWhAAlTdzJISMjmtR0H/83KUPEfOzIL+oG6APC2RJdBJi58nbOBntpi4Tp5VF9/2yG6SPJ9NdoK+f/kQeap+xteyFxbJozNIQAMS0IAELCM/HwbcZm7Mpi8WgH6rq588p6OzoCce1JLnp82ToHedPPIUhXOg6wv+I097FBvMSyWz5Ok6NQW6N/o6edZzdaDjV3fJozNIQAMS0IAENCABK1xRDgPzzxaT6VLnIOjO4jvkeW/8NdBOfzl5Yvds0GaWNxLcCK7mh8rD5PmqEXXr85Pk+aShD/T7yWvkebetB3R8LE4enUECGpCABiRguRUxGEg37ZHpQuko6N8zjeRxr2PNqeubI4+ztOIb4B28UBhrTnFhAVkqq6tAT88dJ8/Hb3SD7k3w4tlLZEG7Rfnk0RkkoAEJaEACGpCA5UVwdy5czEU6buZozE8kjU2ft7FFHi+bpTHCxmbSCXiMcR9X3RXlReS58S+u1NOVXOzzIvhansXzRWeQgAYkoAEJWOZWBgaM+SoyzdjYTCbyNsmzW4mLTKOITyxC29uoPfHUOxDP12Catkse28bPPuNyE7iXw/pr2Fx/dQYJaEACGpCABiRghZZWYSB+i4v01bOtoC+WDZNnpwmbSbu+kjzGGh7heHtyAxqEYeIXgl3I94MOlm2Ajod3+In28R2hM0hAAxLQgAQsN4ONYmw6Q6YrqcdBvxn/gzznT/0FerD1KfJUpbDhdNbW+B3to3k0LKw5uRjXoOSBddARg3cv3V1fo5jTo+eHRgMS0IAENCABy78yzptbJ5Mx3AD6lxOPkcffPPZ1tJEnPoEX0M10mjy062jwhXSzFIv9dh0X6eZivG+Y8/gI28zgmBGwK6AzSEADEtCABCx/Y+aucvOWGE2A/vKZ58jzXdtd0G938FHvN6mXQB9aqyOPm8IjayPC9xizTXj/cfNJPvk4WYjP8/1aB3nKxn31bXWDPDqDBDQgAQ1IQAMSoA7LDTjqLZjCez3eUD15rjTiJfGe0jHy/N2NxXVqhRvOhI2N614iRp7Z7gjod9r5Yvtk9iDogYEW8hwbxqLsbmiRfmg0IAENSIBXeQE7eu4ynnzU/Mp3oD8/2gX6dNcseT6q/RH0q+cS5Fk2qkGn+bc1oXMvjoCOBlzP+XTU15T287FyKIW/hPZ8V29CIZ1BIhqQgAYkoAEJGPv5awo/4VJu3ra7ToDO9HDT9W3r16Dv5vh4+sPb50HHCh+Qp7QAj2du/5kkT/01bDijI/w3GM6679eMAV9QOoMENCABDUiAG8V94GzxacSBIdzB26lOkueLmhdA95YPkqelCk8jhgabyJO7ibXi+DjfyQ7NzIN0doKuv8jlV2eQgAYkoAEJaEACj1Skg4qbs4LHRYlhXvFfPvY06LHmBvLM38KdwMM/cKOYN3EPtBvwpRG0Mn8UdAYJaEACGpDA/8NBXijXKKYtAAAAAElFTkSuQmCC\" y=\"-35.498357\"/>\n   </g>\n   <g id=\"patch_28\">\n    <path d=\"M 441.157143 107.498357 \nL 441.157143 35.7555 \n\" style=\"fill:none;stroke:#000000;stroke-linecap:square;stroke-linejoin:miter;stroke-width:0.8;\"/>\n   </g>\n   <g id=\"patch_29\">\n    <path d=\"M 512.9 107.498357 \nL 512.9 35.7555 \n\" style=\"fill:none;stroke:#000000;stroke-linecap:square;stroke-linejoin:miter;stroke-width:0.8;\"/>\n   </g>\n   <g id=\"patch_30\">\n    <path d=\"M 441.157143 107.498357 \nL 512.9 107.498357 \n\" style=\"fill:none;stroke:#000000;stroke-linecap:square;stroke-linejoin:miter;stroke-width:0.8;\"/>\n   </g>\n   <g id=\"patch_31\">\n    <path d=\"M 441.157143 35.7555 \nL 512.9 35.7555 \n\" style=\"fill:none;stroke:#000000;stroke-linecap:square;stroke-linejoin:miter;stroke-width:0.8;\"/>\n   </g>\n   <g id=\"text_6\">\n    <!-- 0 -->\n    <defs>\n     <path d=\"M 31.78125 66.40625 \nQ 24.171875 66.40625 20.328125 58.90625 \nQ 16.5 51.421875 16.5 36.375 \nQ 16.5 21.390625 20.328125 13.890625 \nQ 24.171875 6.390625 31.78125 6.390625 \nQ 39.453125 6.390625 43.28125 13.890625 \nQ 47.125 21.390625 47.125 36.375 \nQ 47.125 51.421875 43.28125 58.90625 \nQ 39.453125 66.40625 31.78125 66.40625 \nz\nM 31.78125 74.21875 \nQ 44.046875 74.21875 50.515625 64.515625 \nQ 56.984375 54.828125 56.984375 36.375 \nQ 56.984375 17.96875 50.515625 8.265625 \nQ 44.046875 -1.421875 31.78125 -1.421875 \nQ 19.53125 -1.421875 13.0625 8.265625 \nQ 6.59375 17.96875 6.59375 36.375 \nQ 6.59375 54.828125 13.0625 64.515625 \nQ 19.53125 74.21875 31.78125 74.21875 \nz\n\" id=\"DejaVuSans-48\"/>\n    </defs>\n    <g transform=\"translate(473.211071 16.318125)scale(0.12 -0.12)\">\n     <use xlink:href=\"#DejaVuSans-48\"/>\n    </g>\n    <!-- 0 -->\n    <g transform=\"translate(473.211071 29.7555)scale(0.12 -0.12)\">\n     <use xlink:href=\"#DejaVuSans-48\"/>\n    </g>\n   </g>\n  </g>\n </g>\n <defs>\n  <clipPath id=\"p040cb96d25\">\n   <rect height=\"71.742857\" width=\"71.742857\" x=\"10.7\" y=\"35.7555\"/>\n  </clipPath>\n  <clipPath id=\"pa67273d33c\">\n   <rect height=\"71.742857\" width=\"71.742857\" x=\"96.791429\" y=\"35.7555\"/>\n  </clipPath>\n  <clipPath id=\"p0e2fd67e31\">\n   <rect height=\"71.742857\" width=\"71.742857\" x=\"182.882857\" y=\"35.7555\"/>\n  </clipPath>\n  <clipPath id=\"p4df82f7b0f\">\n   <rect height=\"71.742857\" width=\"71.742857\" x=\"268.974286\" y=\"35.7555\"/>\n  </clipPath>\n  <clipPath id=\"p7e2d3ad9f2\">\n   <rect height=\"71.742857\" width=\"71.742857\" x=\"355.065714\" y=\"35.7555\"/>\n  </clipPath>\n  <clipPath id=\"p26614518b5\">\n   <rect height=\"71.742857\" width=\"71.742857\" x=\"441.157143\" y=\"35.7555\"/>\n  </clipPath>\n </defs>\n</svg>\n"
          },
          "metadata": {
            "needs_background": "light"
          }
        }
      ]
    },
    {
      "cell_type": "markdown",
      "source": [
        "## Concise Implementation of Softmax Regression\n"
      ],
      "metadata": {
        "id": "xgSHhkt7wdqb"
      }
    },
    {
      "cell_type": "code",
      "source": [
        "from torch import nn\n",
        "batch_size = 256 \n",
        "train_iter, test_iter = loead_data_usps(batch_size)"
      ],
      "metadata": {
        "id": "DIx25SvAhQpw"
      },
      "execution_count": null,
      "outputs": []
    },
    {
      "cell_type": "code",
      "source": [
        "net = nn.Sequential(nn.Flatten(), nn.Linear(256, 10))\n",
        "\n",
        "def init_weights(m):\n",
        "  if type(m) == nn.Linear:\n",
        "    nn.init.normal_(m.weight, std = 0.01)\n",
        "\n",
        "net.apply(init_weights)"
      ],
      "metadata": {
        "id": "b7n_Kp8zRL1U",
        "colab": {
          "base_uri": "https://localhost:8080/"
        },
        "outputId": "5b78155a-48d6-49c7-d954-0065c04a4a41"
      },
      "execution_count": null,
      "outputs": [
        {
          "output_type": "execute_result",
          "data": {
            "text/plain": [
              "Sequential(\n",
              "  (0): Flatten(start_dim=1, end_dim=-1)\n",
              "  (1): Linear(in_features=256, out_features=10, bias=True)\n",
              ")"
            ]
          },
          "metadata": {},
          "execution_count": 36
        }
      ]
    },
    {
      "cell_type": "code",
      "source": [
        "loss = nn.CrossEntropyLoss(reduction='none')"
      ],
      "metadata": {
        "id": "tbc_aAMkRkrc"
      },
      "execution_count": null,
      "outputs": []
    },
    {
      "cell_type": "code",
      "source": [
        "trainer = torch.optim.SGD(net.parameters(), lr=0.1)"
      ],
      "metadata": {
        "id": "GPIG8vTmRqWR"
      },
      "execution_count": null,
      "outputs": []
    },
    {
      "cell_type": "code",
      "source": [
        "num_epochs = 10\n",
        "d2l.train_ch3(net, train_iter, test_iter, loss, num_epochs, trainer)"
      ],
      "metadata": {
        "id": "6vZN5p0yRwpa",
        "colab": {
          "base_uri": "https://localhost:8080/",
          "height": 261
        },
        "outputId": "00d38aa7-c65d-4fac-ba44-1b0cef0af37b"
      },
      "execution_count": null,
      "outputs": [
        {
          "output_type": "display_data",
          "data": {
            "text/plain": [
              "<Figure size 252x180 with 1 Axes>"
            ],
            "image/svg+xml": "<?xml version=\"1.0\" encoding=\"utf-8\" standalone=\"no\"?>\n<!DOCTYPE svg PUBLIC \"-//W3C//DTD SVG 1.1//EN\"\n  \"http://www.w3.org/Graphics/SVG/1.1/DTD/svg11.dtd\">\n<!-- Created with matplotlib (https://matplotlib.org/) -->\n<svg height=\"180.65625pt\" version=\"1.1\" viewBox=\"0 0 238.965625 180.65625\" width=\"238.965625pt\" xmlns=\"http://www.w3.org/2000/svg\" xmlns:xlink=\"http://www.w3.org/1999/xlink\">\n <defs>\n  <style type=\"text/css\">\n*{stroke-linecap:butt;stroke-linejoin:round;}\n  </style>\n </defs>\n <g id=\"figure_1\">\n  <g id=\"patch_1\">\n   <path d=\"M 0 180.65625 \nL 238.965625 180.65625 \nL 238.965625 0 \nL 0 0 \nz\n\" style=\"fill:none;\"/>\n  </g>\n  <g id=\"axes_1\">\n   <g id=\"patch_2\">\n    <path d=\"M 30.103125 143.1 \nL 225.403125 143.1 \nL 225.403125 7.2 \nL 30.103125 7.2 \nz\n\" style=\"fill:#ffffff;\"/>\n   </g>\n   <g id=\"matplotlib.axis_1\">\n    <g id=\"xtick_1\">\n     <g id=\"line2d_1\">\n      <path clip-path=\"url(#p8de3610a6b)\" d=\"M 51.803125 143.1 \nL 51.803125 7.2 \n\" style=\"fill:none;stroke:#b0b0b0;stroke-linecap:square;stroke-width:0.8;\"/>\n     </g>\n     <g id=\"line2d_2\">\n      <defs>\n       <path d=\"M 0 0 \nL 0 3.5 \n\" id=\"m26fffbe6b2\" style=\"stroke:#000000;stroke-width:0.8;\"/>\n      </defs>\n      <g>\n       <use style=\"stroke:#000000;stroke-width:0.8;\" x=\"51.803125\" xlink:href=\"#m26fffbe6b2\" y=\"143.1\"/>\n      </g>\n     </g>\n     <g id=\"text_1\">\n      <!-- 2 -->\n      <defs>\n       <path d=\"M 19.1875 8.296875 \nL 53.609375 8.296875 \nL 53.609375 0 \nL 7.328125 0 \nL 7.328125 8.296875 \nQ 12.9375 14.109375 22.625 23.890625 \nQ 32.328125 33.6875 34.8125 36.53125 \nQ 39.546875 41.84375 41.421875 45.53125 \nQ 43.3125 49.21875 43.3125 52.78125 \nQ 43.3125 58.59375 39.234375 62.25 \nQ 35.15625 65.921875 28.609375 65.921875 \nQ 23.96875 65.921875 18.8125 64.3125 \nQ 13.671875 62.703125 7.8125 59.421875 \nL 7.8125 69.390625 \nQ 13.765625 71.78125 18.9375 73 \nQ 24.125 74.21875 28.421875 74.21875 \nQ 39.75 74.21875 46.484375 68.546875 \nQ 53.21875 62.890625 53.21875 53.421875 \nQ 53.21875 48.921875 51.53125 44.890625 \nQ 49.859375 40.875 45.40625 35.40625 \nQ 44.1875 33.984375 37.640625 27.21875 \nQ 31.109375 20.453125 19.1875 8.296875 \nz\n\" id=\"DejaVuSans-50\"/>\n      </defs>\n      <g transform=\"translate(48.621875 157.698438)scale(0.1 -0.1)\">\n       <use xlink:href=\"#DejaVuSans-50\"/>\n      </g>\n     </g>\n    </g>\n    <g id=\"xtick_2\">\n     <g id=\"line2d_3\">\n      <path clip-path=\"url(#p8de3610a6b)\" d=\"M 95.203125 143.1 \nL 95.203125 7.2 \n\" style=\"fill:none;stroke:#b0b0b0;stroke-linecap:square;stroke-width:0.8;\"/>\n     </g>\n     <g id=\"line2d_4\">\n      <g>\n       <use style=\"stroke:#000000;stroke-width:0.8;\" x=\"95.203125\" xlink:href=\"#m26fffbe6b2\" y=\"143.1\"/>\n      </g>\n     </g>\n     <g id=\"text_2\">\n      <!-- 4 -->\n      <defs>\n       <path d=\"M 37.796875 64.3125 \nL 12.890625 25.390625 \nL 37.796875 25.390625 \nz\nM 35.203125 72.90625 \nL 47.609375 72.90625 \nL 47.609375 25.390625 \nL 58.015625 25.390625 \nL 58.015625 17.1875 \nL 47.609375 17.1875 \nL 47.609375 0 \nL 37.796875 0 \nL 37.796875 17.1875 \nL 4.890625 17.1875 \nL 4.890625 26.703125 \nz\n\" id=\"DejaVuSans-52\"/>\n      </defs>\n      <g transform=\"translate(92.021875 157.698438)scale(0.1 -0.1)\">\n       <use xlink:href=\"#DejaVuSans-52\"/>\n      </g>\n     </g>\n    </g>\n    <g id=\"xtick_3\">\n     <g id=\"line2d_5\">\n      <path clip-path=\"url(#p8de3610a6b)\" d=\"M 138.603125 143.1 \nL 138.603125 7.2 \n\" style=\"fill:none;stroke:#b0b0b0;stroke-linecap:square;stroke-width:0.8;\"/>\n     </g>\n     <g id=\"line2d_6\">\n      <g>\n       <use style=\"stroke:#000000;stroke-width:0.8;\" x=\"138.603125\" xlink:href=\"#m26fffbe6b2\" y=\"143.1\"/>\n      </g>\n     </g>\n     <g id=\"text_3\">\n      <!-- 6 -->\n      <defs>\n       <path d=\"M 33.015625 40.375 \nQ 26.375 40.375 22.484375 35.828125 \nQ 18.609375 31.296875 18.609375 23.390625 \nQ 18.609375 15.53125 22.484375 10.953125 \nQ 26.375 6.390625 33.015625 6.390625 \nQ 39.65625 6.390625 43.53125 10.953125 \nQ 47.40625 15.53125 47.40625 23.390625 \nQ 47.40625 31.296875 43.53125 35.828125 \nQ 39.65625 40.375 33.015625 40.375 \nz\nM 52.59375 71.296875 \nL 52.59375 62.3125 \nQ 48.875 64.0625 45.09375 64.984375 \nQ 41.3125 65.921875 37.59375 65.921875 \nQ 27.828125 65.921875 22.671875 59.328125 \nQ 17.53125 52.734375 16.796875 39.40625 \nQ 19.671875 43.65625 24.015625 45.921875 \nQ 28.375 48.1875 33.59375 48.1875 \nQ 44.578125 48.1875 50.953125 41.515625 \nQ 57.328125 34.859375 57.328125 23.390625 \nQ 57.328125 12.15625 50.6875 5.359375 \nQ 44.046875 -1.421875 33.015625 -1.421875 \nQ 20.359375 -1.421875 13.671875 8.265625 \nQ 6.984375 17.96875 6.984375 36.375 \nQ 6.984375 53.65625 15.1875 63.9375 \nQ 23.390625 74.21875 37.203125 74.21875 \nQ 40.921875 74.21875 44.703125 73.484375 \nQ 48.484375 72.75 52.59375 71.296875 \nz\n\" id=\"DejaVuSans-54\"/>\n      </defs>\n      <g transform=\"translate(135.421875 157.698438)scale(0.1 -0.1)\">\n       <use xlink:href=\"#DejaVuSans-54\"/>\n      </g>\n     </g>\n    </g>\n    <g id=\"xtick_4\">\n     <g id=\"line2d_7\">\n      <path clip-path=\"url(#p8de3610a6b)\" d=\"M 182.003125 143.1 \nL 182.003125 7.2 \n\" style=\"fill:none;stroke:#b0b0b0;stroke-linecap:square;stroke-width:0.8;\"/>\n     </g>\n     <g id=\"line2d_8\">\n      <g>\n       <use style=\"stroke:#000000;stroke-width:0.8;\" x=\"182.003125\" xlink:href=\"#m26fffbe6b2\" y=\"143.1\"/>\n      </g>\n     </g>\n     <g id=\"text_4\">\n      <!-- 8 -->\n      <defs>\n       <path d=\"M 31.78125 34.625 \nQ 24.75 34.625 20.71875 30.859375 \nQ 16.703125 27.09375 16.703125 20.515625 \nQ 16.703125 13.921875 20.71875 10.15625 \nQ 24.75 6.390625 31.78125 6.390625 \nQ 38.8125 6.390625 42.859375 10.171875 \nQ 46.921875 13.96875 46.921875 20.515625 \nQ 46.921875 27.09375 42.890625 30.859375 \nQ 38.875 34.625 31.78125 34.625 \nz\nM 21.921875 38.8125 \nQ 15.578125 40.375 12.03125 44.71875 \nQ 8.5 49.078125 8.5 55.328125 \nQ 8.5 64.0625 14.71875 69.140625 \nQ 20.953125 74.21875 31.78125 74.21875 \nQ 42.671875 74.21875 48.875 69.140625 \nQ 55.078125 64.0625 55.078125 55.328125 \nQ 55.078125 49.078125 51.53125 44.71875 \nQ 48 40.375 41.703125 38.8125 \nQ 48.828125 37.15625 52.796875 32.3125 \nQ 56.78125 27.484375 56.78125 20.515625 \nQ 56.78125 9.90625 50.3125 4.234375 \nQ 43.84375 -1.421875 31.78125 -1.421875 \nQ 19.734375 -1.421875 13.25 4.234375 \nQ 6.78125 9.90625 6.78125 20.515625 \nQ 6.78125 27.484375 10.78125 32.3125 \nQ 14.796875 37.15625 21.921875 38.8125 \nz\nM 18.3125 54.390625 \nQ 18.3125 48.734375 21.84375 45.5625 \nQ 25.390625 42.390625 31.78125 42.390625 \nQ 38.140625 42.390625 41.71875 45.5625 \nQ 45.3125 48.734375 45.3125 54.390625 \nQ 45.3125 60.0625 41.71875 63.234375 \nQ 38.140625 66.40625 31.78125 66.40625 \nQ 25.390625 66.40625 21.84375 63.234375 \nQ 18.3125 60.0625 18.3125 54.390625 \nz\n\" id=\"DejaVuSans-56\"/>\n      </defs>\n      <g transform=\"translate(178.821875 157.698438)scale(0.1 -0.1)\">\n       <use xlink:href=\"#DejaVuSans-56\"/>\n      </g>\n     </g>\n    </g>\n    <g id=\"xtick_5\">\n     <g id=\"line2d_9\">\n      <path clip-path=\"url(#p8de3610a6b)\" d=\"M 225.403125 143.1 \nL 225.403125 7.2 \n\" style=\"fill:none;stroke:#b0b0b0;stroke-linecap:square;stroke-width:0.8;\"/>\n     </g>\n     <g id=\"line2d_10\">\n      <g>\n       <use style=\"stroke:#000000;stroke-width:0.8;\" x=\"225.403125\" xlink:href=\"#m26fffbe6b2\" y=\"143.1\"/>\n      </g>\n     </g>\n     <g id=\"text_5\">\n      <!-- 10 -->\n      <defs>\n       <path d=\"M 12.40625 8.296875 \nL 28.515625 8.296875 \nL 28.515625 63.921875 \nL 10.984375 60.40625 \nL 10.984375 69.390625 \nL 28.421875 72.90625 \nL 38.28125 72.90625 \nL 38.28125 8.296875 \nL 54.390625 8.296875 \nL 54.390625 0 \nL 12.40625 0 \nz\n\" id=\"DejaVuSans-49\"/>\n       <path d=\"M 31.78125 66.40625 \nQ 24.171875 66.40625 20.328125 58.90625 \nQ 16.5 51.421875 16.5 36.375 \nQ 16.5 21.390625 20.328125 13.890625 \nQ 24.171875 6.390625 31.78125 6.390625 \nQ 39.453125 6.390625 43.28125 13.890625 \nQ 47.125 21.390625 47.125 36.375 \nQ 47.125 51.421875 43.28125 58.90625 \nQ 39.453125 66.40625 31.78125 66.40625 \nz\nM 31.78125 74.21875 \nQ 44.046875 74.21875 50.515625 64.515625 \nQ 56.984375 54.828125 56.984375 36.375 \nQ 56.984375 17.96875 50.515625 8.265625 \nQ 44.046875 -1.421875 31.78125 -1.421875 \nQ 19.53125 -1.421875 13.0625 8.265625 \nQ 6.59375 17.96875 6.59375 36.375 \nQ 6.59375 54.828125 13.0625 64.515625 \nQ 19.53125 74.21875 31.78125 74.21875 \nz\n\" id=\"DejaVuSans-48\"/>\n      </defs>\n      <g transform=\"translate(219.040625 157.698438)scale(0.1 -0.1)\">\n       <use xlink:href=\"#DejaVuSans-49\"/>\n       <use x=\"63.623047\" xlink:href=\"#DejaVuSans-48\"/>\n      </g>\n     </g>\n    </g>\n    <g id=\"text_6\">\n     <!-- epoch -->\n     <defs>\n      <path d=\"M 56.203125 29.59375 \nL 56.203125 25.203125 \nL 14.890625 25.203125 \nQ 15.484375 15.921875 20.484375 11.0625 \nQ 25.484375 6.203125 34.421875 6.203125 \nQ 39.59375 6.203125 44.453125 7.46875 \nQ 49.3125 8.734375 54.109375 11.28125 \nL 54.109375 2.78125 \nQ 49.265625 0.734375 44.1875 -0.34375 \nQ 39.109375 -1.421875 33.890625 -1.421875 \nQ 20.796875 -1.421875 13.15625 6.1875 \nQ 5.515625 13.8125 5.515625 26.8125 \nQ 5.515625 40.234375 12.765625 48.109375 \nQ 20.015625 56 32.328125 56 \nQ 43.359375 56 49.78125 48.890625 \nQ 56.203125 41.796875 56.203125 29.59375 \nz\nM 47.21875 32.234375 \nQ 47.125 39.59375 43.09375 43.984375 \nQ 39.0625 48.390625 32.421875 48.390625 \nQ 24.90625 48.390625 20.390625 44.140625 \nQ 15.875 39.890625 15.1875 32.171875 \nz\n\" id=\"DejaVuSans-101\"/>\n      <path d=\"M 18.109375 8.203125 \nL 18.109375 -20.796875 \nL 9.078125 -20.796875 \nL 9.078125 54.6875 \nL 18.109375 54.6875 \nL 18.109375 46.390625 \nQ 20.953125 51.265625 25.265625 53.625 \nQ 29.59375 56 35.59375 56 \nQ 45.5625 56 51.78125 48.09375 \nQ 58.015625 40.1875 58.015625 27.296875 \nQ 58.015625 14.40625 51.78125 6.484375 \nQ 45.5625 -1.421875 35.59375 -1.421875 \nQ 29.59375 -1.421875 25.265625 0.953125 \nQ 20.953125 3.328125 18.109375 8.203125 \nz\nM 48.6875 27.296875 \nQ 48.6875 37.203125 44.609375 42.84375 \nQ 40.53125 48.484375 33.40625 48.484375 \nQ 26.265625 48.484375 22.1875 42.84375 \nQ 18.109375 37.203125 18.109375 27.296875 \nQ 18.109375 17.390625 22.1875 11.75 \nQ 26.265625 6.109375 33.40625 6.109375 \nQ 40.53125 6.109375 44.609375 11.75 \nQ 48.6875 17.390625 48.6875 27.296875 \nz\n\" id=\"DejaVuSans-112\"/>\n      <path d=\"M 30.609375 48.390625 \nQ 23.390625 48.390625 19.1875 42.75 \nQ 14.984375 37.109375 14.984375 27.296875 \nQ 14.984375 17.484375 19.15625 11.84375 \nQ 23.34375 6.203125 30.609375 6.203125 \nQ 37.796875 6.203125 41.984375 11.859375 \nQ 46.1875 17.53125 46.1875 27.296875 \nQ 46.1875 37.015625 41.984375 42.703125 \nQ 37.796875 48.390625 30.609375 48.390625 \nz\nM 30.609375 56 \nQ 42.328125 56 49.015625 48.375 \nQ 55.71875 40.765625 55.71875 27.296875 \nQ 55.71875 13.875 49.015625 6.21875 \nQ 42.328125 -1.421875 30.609375 -1.421875 \nQ 18.84375 -1.421875 12.171875 6.21875 \nQ 5.515625 13.875 5.515625 27.296875 \nQ 5.515625 40.765625 12.171875 48.375 \nQ 18.84375 56 30.609375 56 \nz\n\" id=\"DejaVuSans-111\"/>\n      <path d=\"M 48.78125 52.59375 \nL 48.78125 44.1875 \nQ 44.96875 46.296875 41.140625 47.34375 \nQ 37.3125 48.390625 33.40625 48.390625 \nQ 24.65625 48.390625 19.8125 42.84375 \nQ 14.984375 37.3125 14.984375 27.296875 \nQ 14.984375 17.28125 19.8125 11.734375 \nQ 24.65625 6.203125 33.40625 6.203125 \nQ 37.3125 6.203125 41.140625 7.25 \nQ 44.96875 8.296875 48.78125 10.40625 \nL 48.78125 2.09375 \nQ 45.015625 0.34375 40.984375 -0.53125 \nQ 36.96875 -1.421875 32.421875 -1.421875 \nQ 20.0625 -1.421875 12.78125 6.34375 \nQ 5.515625 14.109375 5.515625 27.296875 \nQ 5.515625 40.671875 12.859375 48.328125 \nQ 20.21875 56 33.015625 56 \nQ 37.15625 56 41.109375 55.140625 \nQ 45.0625 54.296875 48.78125 52.59375 \nz\n\" id=\"DejaVuSans-99\"/>\n      <path d=\"M 54.890625 33.015625 \nL 54.890625 0 \nL 45.90625 0 \nL 45.90625 32.71875 \nQ 45.90625 40.484375 42.875 44.328125 \nQ 39.84375 48.1875 33.796875 48.1875 \nQ 26.515625 48.1875 22.3125 43.546875 \nQ 18.109375 38.921875 18.109375 30.90625 \nL 18.109375 0 \nL 9.078125 0 \nL 9.078125 75.984375 \nL 18.109375 75.984375 \nL 18.109375 46.1875 \nQ 21.34375 51.125 25.703125 53.5625 \nQ 30.078125 56 35.796875 56 \nQ 45.21875 56 50.046875 50.171875 \nQ 54.890625 44.34375 54.890625 33.015625 \nz\n\" id=\"DejaVuSans-104\"/>\n     </defs>\n     <g transform=\"translate(112.525 171.376563)scale(0.1 -0.1)\">\n      <use xlink:href=\"#DejaVuSans-101\"/>\n      <use x=\"61.523438\" xlink:href=\"#DejaVuSans-112\"/>\n      <use x=\"125\" xlink:href=\"#DejaVuSans-111\"/>\n      <use x=\"186.181641\" xlink:href=\"#DejaVuSans-99\"/>\n      <use x=\"241.162109\" xlink:href=\"#DejaVuSans-104\"/>\n     </g>\n    </g>\n   </g>\n   <g id=\"matplotlib.axis_2\">\n    <g id=\"ytick_1\">\n     <g id=\"line2d_11\">\n      <path clip-path=\"url(#p8de3610a6b)\" d=\"M 30.103125 120.45 \nL 225.403125 120.45 \n\" style=\"fill:none;stroke:#b0b0b0;stroke-linecap:square;stroke-width:0.8;\"/>\n     </g>\n     <g id=\"line2d_12\">\n      <defs>\n       <path d=\"M 0 0 \nL -3.5 0 \n\" id=\"m475d4a2599\" style=\"stroke:#000000;stroke-width:0.8;\"/>\n      </defs>\n      <g>\n       <use style=\"stroke:#000000;stroke-width:0.8;\" x=\"30.103125\" xlink:href=\"#m475d4a2599\" y=\"120.45\"/>\n      </g>\n     </g>\n     <g id=\"text_7\">\n      <!-- 0.4 -->\n      <defs>\n       <path d=\"M 10.6875 12.40625 \nL 21 12.40625 \nL 21 0 \nL 10.6875 0 \nz\n\" id=\"DejaVuSans-46\"/>\n      </defs>\n      <g transform=\"translate(7.2 124.249219)scale(0.1 -0.1)\">\n       <use xlink:href=\"#DejaVuSans-48\"/>\n       <use x=\"63.623047\" xlink:href=\"#DejaVuSans-46\"/>\n       <use x=\"95.410156\" xlink:href=\"#DejaVuSans-52\"/>\n      </g>\n     </g>\n    </g>\n    <g id=\"ytick_2\">\n     <g id=\"line2d_13\">\n      <path clip-path=\"url(#p8de3610a6b)\" d=\"M 30.103125 75.15 \nL 225.403125 75.15 \n\" style=\"fill:none;stroke:#b0b0b0;stroke-linecap:square;stroke-width:0.8;\"/>\n     </g>\n     <g id=\"line2d_14\">\n      <g>\n       <use style=\"stroke:#000000;stroke-width:0.8;\" x=\"30.103125\" xlink:href=\"#m475d4a2599\" y=\"75.15\"/>\n      </g>\n     </g>\n     <g id=\"text_8\">\n      <!-- 0.6 -->\n      <g transform=\"translate(7.2 78.949219)scale(0.1 -0.1)\">\n       <use xlink:href=\"#DejaVuSans-48\"/>\n       <use x=\"63.623047\" xlink:href=\"#DejaVuSans-46\"/>\n       <use x=\"95.410156\" xlink:href=\"#DejaVuSans-54\"/>\n      </g>\n     </g>\n    </g>\n    <g id=\"ytick_3\">\n     <g id=\"line2d_15\">\n      <path clip-path=\"url(#p8de3610a6b)\" d=\"M 30.103125 29.85 \nL 225.403125 29.85 \n\" style=\"fill:none;stroke:#b0b0b0;stroke-linecap:square;stroke-width:0.8;\"/>\n     </g>\n     <g id=\"line2d_16\">\n      <g>\n       <use style=\"stroke:#000000;stroke-width:0.8;\" x=\"30.103125\" xlink:href=\"#m475d4a2599\" y=\"29.85\"/>\n      </g>\n     </g>\n     <g id=\"text_9\">\n      <!-- 0.8 -->\n      <g transform=\"translate(7.2 33.649219)scale(0.1 -0.1)\">\n       <use xlink:href=\"#DejaVuSans-48\"/>\n       <use x=\"63.623047\" xlink:href=\"#DejaVuSans-46\"/>\n       <use x=\"95.410156\" xlink:href=\"#DejaVuSans-56\"/>\n      </g>\n     </g>\n    </g>\n   </g>\n   <g id=\"line2d_17\">\n    <path clip-path=\"url(#p8de3610a6b)\" d=\"M 59.685524 -1 \nL 73.503125 34.197629 \nL 95.203125 63.554354 \nL 116.903125 81.585139 \nL 138.603125 93.861932 \nL 160.303125 102.734547 \nL 182.003125 109.707661 \nL 203.703125 115.179644 \nL 225.403125 119.640269 \n\" style=\"fill:none;stroke:#1f77b4;stroke-linecap:square;stroke-width:1.5;\"/>\n   </g>\n   <g id=\"line2d_18\">\n    <path clip-path=\"url(#p8de3610a6b)\" d=\"M 30.103125 82.438013 \nL 51.803125 20.710472 \nL 73.503125 12.63339 \nL 95.203125 10.148135 \nL 116.903125 8.501653 \nL 138.603125 7.383288 \nL 160.303125 6.233857 \nL 182.003125 5.27082 \nL 203.703125 4.338849 \nL 225.403125 3.841798 \n\" style=\"fill:none;stroke:#bf00bf;stroke-dasharray:5.55,2.4;stroke-dashoffset:0;stroke-width:1.5;\"/>\n   </g>\n   <g id=\"line2d_19\">\n    <path clip-path=\"url(#p8de3610a6b)\" d=\"M 30.103125 37.366143 \nL 51.803125 23.484978 \nL 73.503125 20.776457 \nL 95.203125 18.519357 \nL 116.903125 17.277952 \nL 138.603125 17.165097 \nL 160.303125 16.036547 \nL 182.003125 14.456577 \nL 203.703125 14.118012 \nL 225.403125 13.666592 \n\" style=\"fill:none;stroke:#008000;stroke-dasharray:9.6,2.4,1.5,2.4;stroke-dashoffset:0;stroke-width:1.5;\"/>\n   </g>\n   <g id=\"patch_3\">\n    <path d=\"M 30.103125 143.1 \nL 30.103125 7.2 \n\" style=\"fill:none;stroke:#000000;stroke-linecap:square;stroke-linejoin:miter;stroke-width:0.8;\"/>\n   </g>\n   <g id=\"patch_4\">\n    <path d=\"M 225.403125 143.1 \nL 225.403125 7.2 \n\" style=\"fill:none;stroke:#000000;stroke-linecap:square;stroke-linejoin:miter;stroke-width:0.8;\"/>\n   </g>\n   <g id=\"patch_5\">\n    <path d=\"M 30.103125 143.1 \nL 225.403125 143.1 \n\" style=\"fill:none;stroke:#000000;stroke-linecap:square;stroke-linejoin:miter;stroke-width:0.8;\"/>\n   </g>\n   <g id=\"patch_6\">\n    <path d=\"M 30.103125 7.2 \nL 225.403125 7.2 \n\" style=\"fill:none;stroke:#000000;stroke-linecap:square;stroke-linejoin:miter;stroke-width:0.8;\"/>\n   </g>\n   <g id=\"legend_1\">\n    <g id=\"patch_7\">\n     <path d=\"M 37.103125 138.1 \nL 114.871875 138.1 \nQ 116.871875 138.1 116.871875 136.1 \nL 116.871875 93.065625 \nQ 116.871875 91.065625 114.871875 91.065625 \nL 37.103125 91.065625 \nQ 35.103125 91.065625 35.103125 93.065625 \nL 35.103125 136.1 \nQ 35.103125 138.1 37.103125 138.1 \nz\n\" style=\"fill:#ffffff;opacity:0.8;stroke:#cccccc;stroke-linejoin:miter;\"/>\n    </g>\n    <g id=\"line2d_20\">\n     <path d=\"M 39.103125 99.164062 \nL 59.103125 99.164062 \n\" style=\"fill:none;stroke:#1f77b4;stroke-linecap:square;stroke-width:1.5;\"/>\n    </g>\n    <g id=\"line2d_21\"/>\n    <g id=\"text_10\">\n     <!-- train loss -->\n     <defs>\n      <path d=\"M 18.3125 70.21875 \nL 18.3125 54.6875 \nL 36.8125 54.6875 \nL 36.8125 47.703125 \nL 18.3125 47.703125 \nL 18.3125 18.015625 \nQ 18.3125 11.328125 20.140625 9.421875 \nQ 21.96875 7.515625 27.59375 7.515625 \nL 36.8125 7.515625 \nL 36.8125 0 \nL 27.59375 0 \nQ 17.1875 0 13.234375 3.875 \nQ 9.28125 7.765625 9.28125 18.015625 \nL 9.28125 47.703125 \nL 2.6875 47.703125 \nL 2.6875 54.6875 \nL 9.28125 54.6875 \nL 9.28125 70.21875 \nz\n\" id=\"DejaVuSans-116\"/>\n      <path d=\"M 41.109375 46.296875 \nQ 39.59375 47.171875 37.8125 47.578125 \nQ 36.03125 48 33.890625 48 \nQ 26.265625 48 22.1875 43.046875 \nQ 18.109375 38.09375 18.109375 28.8125 \nL 18.109375 0 \nL 9.078125 0 \nL 9.078125 54.6875 \nL 18.109375 54.6875 \nL 18.109375 46.1875 \nQ 20.953125 51.171875 25.484375 53.578125 \nQ 30.03125 56 36.53125 56 \nQ 37.453125 56 38.578125 55.875 \nQ 39.703125 55.765625 41.0625 55.515625 \nz\n\" id=\"DejaVuSans-114\"/>\n      <path d=\"M 34.28125 27.484375 \nQ 23.390625 27.484375 19.1875 25 \nQ 14.984375 22.515625 14.984375 16.5 \nQ 14.984375 11.71875 18.140625 8.90625 \nQ 21.296875 6.109375 26.703125 6.109375 \nQ 34.1875 6.109375 38.703125 11.40625 \nQ 43.21875 16.703125 43.21875 25.484375 \nL 43.21875 27.484375 \nz\nM 52.203125 31.203125 \nL 52.203125 0 \nL 43.21875 0 \nL 43.21875 8.296875 \nQ 40.140625 3.328125 35.546875 0.953125 \nQ 30.953125 -1.421875 24.3125 -1.421875 \nQ 15.921875 -1.421875 10.953125 3.296875 \nQ 6 8.015625 6 15.921875 \nQ 6 25.140625 12.171875 29.828125 \nQ 18.359375 34.515625 30.609375 34.515625 \nL 43.21875 34.515625 \nL 43.21875 35.40625 \nQ 43.21875 41.609375 39.140625 45 \nQ 35.0625 48.390625 27.6875 48.390625 \nQ 23 48.390625 18.546875 47.265625 \nQ 14.109375 46.140625 10.015625 43.890625 \nL 10.015625 52.203125 \nQ 14.9375 54.109375 19.578125 55.046875 \nQ 24.21875 56 28.609375 56 \nQ 40.484375 56 46.34375 49.84375 \nQ 52.203125 43.703125 52.203125 31.203125 \nz\n\" id=\"DejaVuSans-97\"/>\n      <path d=\"M 9.421875 54.6875 \nL 18.40625 54.6875 \nL 18.40625 0 \nL 9.421875 0 \nz\nM 9.421875 75.984375 \nL 18.40625 75.984375 \nL 18.40625 64.59375 \nL 9.421875 64.59375 \nz\n\" id=\"DejaVuSans-105\"/>\n      <path d=\"M 54.890625 33.015625 \nL 54.890625 0 \nL 45.90625 0 \nL 45.90625 32.71875 \nQ 45.90625 40.484375 42.875 44.328125 \nQ 39.84375 48.1875 33.796875 48.1875 \nQ 26.515625 48.1875 22.3125 43.546875 \nQ 18.109375 38.921875 18.109375 30.90625 \nL 18.109375 0 \nL 9.078125 0 \nL 9.078125 54.6875 \nL 18.109375 54.6875 \nL 18.109375 46.1875 \nQ 21.34375 51.125 25.703125 53.5625 \nQ 30.078125 56 35.796875 56 \nQ 45.21875 56 50.046875 50.171875 \nQ 54.890625 44.34375 54.890625 33.015625 \nz\n\" id=\"DejaVuSans-110\"/>\n      <path id=\"DejaVuSans-32\"/>\n      <path d=\"M 9.421875 75.984375 \nL 18.40625 75.984375 \nL 18.40625 0 \nL 9.421875 0 \nz\n\" id=\"DejaVuSans-108\"/>\n      <path d=\"M 44.28125 53.078125 \nL 44.28125 44.578125 \nQ 40.484375 46.53125 36.375 47.5 \nQ 32.28125 48.484375 27.875 48.484375 \nQ 21.1875 48.484375 17.84375 46.4375 \nQ 14.5 44.390625 14.5 40.28125 \nQ 14.5 37.15625 16.890625 35.375 \nQ 19.28125 33.59375 26.515625 31.984375 \nL 29.59375 31.296875 \nQ 39.15625 29.25 43.1875 25.515625 \nQ 47.21875 21.78125 47.21875 15.09375 \nQ 47.21875 7.46875 41.1875 3.015625 \nQ 35.15625 -1.421875 24.609375 -1.421875 \nQ 20.21875 -1.421875 15.453125 -0.5625 \nQ 10.6875 0.296875 5.421875 2 \nL 5.421875 11.28125 \nQ 10.40625 8.6875 15.234375 7.390625 \nQ 20.0625 6.109375 24.8125 6.109375 \nQ 31.15625 6.109375 34.5625 8.28125 \nQ 37.984375 10.453125 37.984375 14.40625 \nQ 37.984375 18.0625 35.515625 20.015625 \nQ 33.0625 21.96875 24.703125 23.78125 \nL 21.578125 24.515625 \nQ 13.234375 26.265625 9.515625 29.90625 \nQ 5.8125 33.546875 5.8125 39.890625 \nQ 5.8125 47.609375 11.28125 51.796875 \nQ 16.75 56 26.8125 56 \nQ 31.78125 56 36.171875 55.265625 \nQ 40.578125 54.546875 44.28125 53.078125 \nz\n\" id=\"DejaVuSans-115\"/>\n     </defs>\n     <g transform=\"translate(67.103125 102.664062)scale(0.1 -0.1)\">\n      <use xlink:href=\"#DejaVuSans-116\"/>\n      <use x=\"39.208984\" xlink:href=\"#DejaVuSans-114\"/>\n      <use x=\"80.322266\" xlink:href=\"#DejaVuSans-97\"/>\n      <use x=\"141.601562\" xlink:href=\"#DejaVuSans-105\"/>\n      <use x=\"169.384766\" xlink:href=\"#DejaVuSans-110\"/>\n      <use x=\"232.763672\" xlink:href=\"#DejaVuSans-32\"/>\n      <use x=\"264.550781\" xlink:href=\"#DejaVuSans-108\"/>\n      <use x=\"292.333984\" xlink:href=\"#DejaVuSans-111\"/>\n      <use x=\"353.515625\" xlink:href=\"#DejaVuSans-115\"/>\n      <use x=\"405.615234\" xlink:href=\"#DejaVuSans-115\"/>\n     </g>\n    </g>\n    <g id=\"line2d_22\">\n     <path d=\"M 39.103125 113.842187 \nL 59.103125 113.842187 \n\" style=\"fill:none;stroke:#bf00bf;stroke-dasharray:5.55,2.4;stroke-dashoffset:0;stroke-width:1.5;\"/>\n    </g>\n    <g id=\"line2d_23\"/>\n    <g id=\"text_11\">\n     <!-- train acc -->\n     <g transform=\"translate(67.103125 117.342187)scale(0.1 -0.1)\">\n      <use xlink:href=\"#DejaVuSans-116\"/>\n      <use x=\"39.208984\" xlink:href=\"#DejaVuSans-114\"/>\n      <use x=\"80.322266\" xlink:href=\"#DejaVuSans-97\"/>\n      <use x=\"141.601562\" xlink:href=\"#DejaVuSans-105\"/>\n      <use x=\"169.384766\" xlink:href=\"#DejaVuSans-110\"/>\n      <use x=\"232.763672\" xlink:href=\"#DejaVuSans-32\"/>\n      <use x=\"264.550781\" xlink:href=\"#DejaVuSans-97\"/>\n      <use x=\"325.830078\" xlink:href=\"#DejaVuSans-99\"/>\n      <use x=\"380.810547\" xlink:href=\"#DejaVuSans-99\"/>\n     </g>\n    </g>\n    <g id=\"line2d_24\">\n     <path d=\"M 39.103125 128.520312 \nL 59.103125 128.520312 \n\" style=\"fill:none;stroke:#008000;stroke-dasharray:9.6,2.4,1.5,2.4;stroke-dashoffset:0;stroke-width:1.5;\"/>\n    </g>\n    <g id=\"line2d_25\"/>\n    <g id=\"text_12\">\n     <!-- test acc -->\n     <g transform=\"translate(67.103125 132.020312)scale(0.1 -0.1)\">\n      <use xlink:href=\"#DejaVuSans-116\"/>\n      <use x=\"39.208984\" xlink:href=\"#DejaVuSans-101\"/>\n      <use x=\"100.732422\" xlink:href=\"#DejaVuSans-115\"/>\n      <use x=\"152.832031\" xlink:href=\"#DejaVuSans-116\"/>\n      <use x=\"192.041016\" xlink:href=\"#DejaVuSans-32\"/>\n      <use x=\"223.828125\" xlink:href=\"#DejaVuSans-97\"/>\n      <use x=\"285.107422\" xlink:href=\"#DejaVuSans-99\"/>\n      <use x=\"340.087891\" xlink:href=\"#DejaVuSans-99\"/>\n     </g>\n    </g>\n   </g>\n  </g>\n </g>\n <defs>\n  <clipPath id=\"p8de3610a6b\">\n   <rect height=\"135.9\" width=\"195.3\" x=\"30.103125\" y=\"7.2\"/>\n  </clipPath>\n </defs>\n</svg>\n"
          },
          "metadata": {
            "needs_background": "light"
          }
        }
      ]
    }
  ]
}