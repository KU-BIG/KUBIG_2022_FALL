{
  "cells": [
    {
      "cell_type": "markdown",
      "source": [
        "## import module"
      ],
      "metadata": {
        "id": "tm-HH5AfHfWb"
      }
    },
    {
      "cell_type": "code",
      "source": [
        "!pip install d2l"
      ],
      "metadata": {
        "id": "dindo16vWAGa",
        "colab": {
          "base_uri": "https://localhost:8080/",
          "height": 1000
        },
        "outputId": "fcde8a05-e18d-4725-cf39-000900425c05"
      },
      "execution_count": 111,
      "outputs": [
        {
          "output_type": "stream",
          "name": "stdout",
          "text": [
            "Looking in indexes: https://pypi.org/simple, https://us-python.pkg.dev/colab-wheels/public/simple/\n",
            "Requirement already satisfied: d2l in /usr/local/lib/python3.7/dist-packages (0.17.5)\n",
            "Requirement already satisfied: numpy==1.21.5 in /usr/local/lib/python3.7/dist-packages (from d2l) (1.21.5)\n",
            "Collecting matplotlib==3.5.1\n",
            "  Using cached matplotlib-3.5.1-cp37-cp37m-manylinux_2_5_x86_64.manylinux1_x86_64.whl (11.2 MB)\n",
            "Requirement already satisfied: jupyter==1.0.0 in /usr/local/lib/python3.7/dist-packages (from d2l) (1.0.0)\n",
            "Requirement already satisfied: pandas==1.2.4 in /usr/local/lib/python3.7/dist-packages (from d2l) (1.2.4)\n",
            "Requirement already satisfied: requests==2.25.1 in /usr/local/lib/python3.7/dist-packages (from d2l) (2.25.1)\n",
            "Requirement already satisfied: jupyter-console in /usr/local/lib/python3.7/dist-packages (from jupyter==1.0.0->d2l) (5.2.0)\n",
            "Requirement already satisfied: ipykernel in /usr/local/lib/python3.7/dist-packages (from jupyter==1.0.0->d2l) (4.10.1)\n",
            "Requirement already satisfied: notebook in /usr/local/lib/python3.7/dist-packages (from jupyter==1.0.0->d2l) (5.3.1)\n",
            "Requirement already satisfied: nbconvert in /usr/local/lib/python3.7/dist-packages (from jupyter==1.0.0->d2l) (5.6.1)\n",
            "Requirement already satisfied: qtconsole in /usr/local/lib/python3.7/dist-packages (from jupyter==1.0.0->d2l) (5.3.1)\n",
            "Requirement already satisfied: ipywidgets in /usr/local/lib/python3.7/dist-packages (from jupyter==1.0.0->d2l) (7.7.1)\n",
            "Requirement already satisfied: fonttools>=4.22.0 in /usr/local/lib/python3.7/dist-packages (from matplotlib==3.5.1->d2l) (4.34.4)\n",
            "Requirement already satisfied: pyparsing>=2.2.1 in /usr/local/lib/python3.7/dist-packages (from matplotlib==3.5.1->d2l) (3.0.9)\n",
            "Requirement already satisfied: pillow>=6.2.0 in /usr/local/lib/python3.7/dist-packages (from matplotlib==3.5.1->d2l) (7.1.2)\n",
            "Requirement already satisfied: packaging>=20.0 in /usr/local/lib/python3.7/dist-packages (from matplotlib==3.5.1->d2l) (21.3)\n",
            "Requirement already satisfied: kiwisolver>=1.0.1 in /usr/local/lib/python3.7/dist-packages (from matplotlib==3.5.1->d2l) (1.4.3)\n",
            "Requirement already satisfied: python-dateutil>=2.7 in /usr/local/lib/python3.7/dist-packages (from matplotlib==3.5.1->d2l) (2.8.2)\n",
            "Requirement already satisfied: cycler>=0.10 in /usr/local/lib/python3.7/dist-packages (from matplotlib==3.5.1->d2l) (0.11.0)\n",
            "Requirement already satisfied: pytz>=2017.3 in /usr/local/lib/python3.7/dist-packages (from pandas==1.2.4->d2l) (2022.1)\n",
            "Requirement already satisfied: chardet<5,>=3.0.2 in /usr/local/lib/python3.7/dist-packages (from requests==2.25.1->d2l) (3.0.4)\n",
            "Requirement already satisfied: idna<3,>=2.5 in /usr/local/lib/python3.7/dist-packages (from requests==2.25.1->d2l) (2.10)\n",
            "Requirement already satisfied: urllib3<1.27,>=1.21.1 in /usr/local/lib/python3.7/dist-packages (from requests==2.25.1->d2l) (1.24.3)\n",
            "Requirement already satisfied: certifi>=2017.4.17 in /usr/local/lib/python3.7/dist-packages (from requests==2.25.1->d2l) (2022.6.15)\n",
            "Requirement already satisfied: typing-extensions in /usr/local/lib/python3.7/dist-packages (from kiwisolver>=1.0.1->matplotlib==3.5.1->d2l) (4.1.1)\n",
            "Requirement already satisfied: six>=1.5 in /usr/local/lib/python3.7/dist-packages (from python-dateutil>=2.7->matplotlib==3.5.1->d2l) (1.15.0)\n",
            "Requirement already satisfied: ipython>=4.0.0 in /usr/local/lib/python3.7/dist-packages (from ipykernel->jupyter==1.0.0->d2l) (5.5.0)\n",
            "Requirement already satisfied: traitlets>=4.1.0 in /usr/local/lib/python3.7/dist-packages (from ipykernel->jupyter==1.0.0->d2l) (5.1.1)\n",
            "Requirement already satisfied: tornado>=4.0 in /usr/local/lib/python3.7/dist-packages (from ipykernel->jupyter==1.0.0->d2l) (5.1.1)\n",
            "Requirement already satisfied: jupyter-client in /usr/local/lib/python3.7/dist-packages (from ipykernel->jupyter==1.0.0->d2l) (5.3.5)\n",
            "Requirement already satisfied: decorator in /usr/local/lib/python3.7/dist-packages (from ipython>=4.0.0->ipykernel->jupyter==1.0.0->d2l) (4.4.2)\n",
            "Requirement already satisfied: prompt-toolkit<2.0.0,>=1.0.4 in /usr/local/lib/python3.7/dist-packages (from ipython>=4.0.0->ipykernel->jupyter==1.0.0->d2l) (1.0.18)\n",
            "Requirement already satisfied: pygments in /usr/local/lib/python3.7/dist-packages (from ipython>=4.0.0->ipykernel->jupyter==1.0.0->d2l) (2.6.1)\n",
            "Requirement already satisfied: simplegeneric>0.8 in /usr/local/lib/python3.7/dist-packages (from ipython>=4.0.0->ipykernel->jupyter==1.0.0->d2l) (0.8.1)\n",
            "Requirement already satisfied: pexpect in /usr/local/lib/python3.7/dist-packages (from ipython>=4.0.0->ipykernel->jupyter==1.0.0->d2l) (4.8.0)\n",
            "Requirement already satisfied: pickleshare in /usr/local/lib/python3.7/dist-packages (from ipython>=4.0.0->ipykernel->jupyter==1.0.0->d2l) (0.7.5)\n",
            "Requirement already satisfied: setuptools>=18.5 in /usr/local/lib/python3.7/dist-packages (from ipython>=4.0.0->ipykernel->jupyter==1.0.0->d2l) (57.4.0)\n",
            "Requirement already satisfied: wcwidth in /usr/local/lib/python3.7/dist-packages (from prompt-toolkit<2.0.0,>=1.0.4->ipython>=4.0.0->ipykernel->jupyter==1.0.0->d2l) (0.2.5)\n",
            "Requirement already satisfied: jupyterlab-widgets>=1.0.0 in /usr/local/lib/python3.7/dist-packages (from ipywidgets->jupyter==1.0.0->d2l) (1.1.1)\n",
            "Requirement already satisfied: widgetsnbextension~=3.6.0 in /usr/local/lib/python3.7/dist-packages (from ipywidgets->jupyter==1.0.0->d2l) (3.6.1)\n",
            "Requirement already satisfied: ipython-genutils~=0.2.0 in /usr/local/lib/python3.7/dist-packages (from ipywidgets->jupyter==1.0.0->d2l) (0.2.0)\n",
            "Requirement already satisfied: jinja2 in /usr/local/lib/python3.7/dist-packages (from notebook->jupyter==1.0.0->d2l) (2.11.3)\n",
            "Requirement already satisfied: jupyter-core>=4.4.0 in /usr/local/lib/python3.7/dist-packages (from notebook->jupyter==1.0.0->d2l) (4.11.1)\n",
            "Requirement already satisfied: Send2Trash in /usr/local/lib/python3.7/dist-packages (from notebook->jupyter==1.0.0->d2l) (1.8.0)\n",
            "Requirement already satisfied: terminado>=0.8.1 in /usr/local/lib/python3.7/dist-packages (from notebook->jupyter==1.0.0->d2l) (0.13.3)\n",
            "Requirement already satisfied: nbformat in /usr/local/lib/python3.7/dist-packages (from notebook->jupyter==1.0.0->d2l) (5.4.0)\n",
            "Requirement already satisfied: pyzmq>=13 in /usr/local/lib/python3.7/dist-packages (from jupyter-client->ipykernel->jupyter==1.0.0->d2l) (23.2.0)\n",
            "Requirement already satisfied: ptyprocess in /usr/local/lib/python3.7/dist-packages (from terminado>=0.8.1->notebook->jupyter==1.0.0->d2l) (0.7.0)\n",
            "Requirement already satisfied: MarkupSafe>=0.23 in /usr/local/lib/python3.7/dist-packages (from jinja2->notebook->jupyter==1.0.0->d2l) (2.0.1)\n",
            "Requirement already satisfied: entrypoints>=0.2.2 in /usr/local/lib/python3.7/dist-packages (from nbconvert->jupyter==1.0.0->d2l) (0.4)\n",
            "Requirement already satisfied: mistune<2,>=0.8.1 in /usr/local/lib/python3.7/dist-packages (from nbconvert->jupyter==1.0.0->d2l) (0.8.4)\n",
            "Requirement already satisfied: defusedxml in /usr/local/lib/python3.7/dist-packages (from nbconvert->jupyter==1.0.0->d2l) (0.7.1)\n",
            "Requirement already satisfied: bleach in /usr/local/lib/python3.7/dist-packages (from nbconvert->jupyter==1.0.0->d2l) (5.0.1)\n",
            "Requirement already satisfied: pandocfilters>=1.4.1 in /usr/local/lib/python3.7/dist-packages (from nbconvert->jupyter==1.0.0->d2l) (1.5.0)\n",
            "Requirement already satisfied: testpath in /usr/local/lib/python3.7/dist-packages (from nbconvert->jupyter==1.0.0->d2l) (0.6.0)\n",
            "Requirement already satisfied: jsonschema>=2.6 in /usr/local/lib/python3.7/dist-packages (from nbformat->notebook->jupyter==1.0.0->d2l) (4.3.3)\n",
            "Requirement already satisfied: fastjsonschema in /usr/local/lib/python3.7/dist-packages (from nbformat->notebook->jupyter==1.0.0->d2l) (2.15.3)\n",
            "Requirement already satisfied: importlib-metadata in /usr/local/lib/python3.7/dist-packages (from jsonschema>=2.6->nbformat->notebook->jupyter==1.0.0->d2l) (4.12.0)\n",
            "Requirement already satisfied: attrs>=17.4.0 in /usr/local/lib/python3.7/dist-packages (from jsonschema>=2.6->nbformat->notebook->jupyter==1.0.0->d2l) (21.4.0)\n",
            "Requirement already satisfied: pyrsistent!=0.17.0,!=0.17.1,!=0.17.2,>=0.14.0 in /usr/local/lib/python3.7/dist-packages (from jsonschema>=2.6->nbformat->notebook->jupyter==1.0.0->d2l) (0.18.1)\n",
            "Requirement already satisfied: importlib-resources>=1.4.0 in /usr/local/lib/python3.7/dist-packages (from jsonschema>=2.6->nbformat->notebook->jupyter==1.0.0->d2l) (5.8.0)\n",
            "Requirement already satisfied: zipp>=3.1.0 in /usr/local/lib/python3.7/dist-packages (from importlib-resources>=1.4.0->jsonschema>=2.6->nbformat->notebook->jupyter==1.0.0->d2l) (3.8.0)\n",
            "Requirement already satisfied: webencodings in /usr/local/lib/python3.7/dist-packages (from bleach->nbconvert->jupyter==1.0.0->d2l) (0.5.1)\n",
            "Requirement already satisfied: qtpy>=2.0.1 in /usr/local/lib/python3.7/dist-packages (from qtconsole->jupyter==1.0.0->d2l) (2.1.0)\n",
            "Installing collected packages: matplotlib\n",
            "  Attempting uninstall: matplotlib\n",
            "    Found existing installation: matplotlib 3.0.0\n",
            "    Uninstalling matplotlib-3.0.0:\n",
            "      Successfully uninstalled matplotlib-3.0.0\n",
            "\u001b[31mERROR: pip's dependency resolver does not currently take into account all the packages that are installed. This behaviour is the source of the following dependency conflicts.\n",
            "albumentations 0.1.12 requires imgaug<0.2.7,>=0.2.5, but you have imgaug 0.2.9 which is incompatible.\u001b[0m\n",
            "Successfully installed matplotlib-3.5.1\n"
          ]
        },
        {
          "output_type": "display_data",
          "data": {
            "application/vnd.colab-display-data+json": {
              "pip_warning": {
                "packages": [
                  "matplotlib",
                  "mpl_toolkits"
                ]
              }
            }
          },
          "metadata": {}
        }
      ]
    },
    {
      "cell_type": "code",
      "source": [
        "!pip install matplotlib==3.0.0"
      ],
      "metadata": {
        "id": "MsOpuiz2YR7Y",
        "colab": {
          "base_uri": "https://localhost:8080/",
          "height": 0
        },
        "outputId": "69c3baf3-15c1-4446-986b-a6197ce534b2"
      },
      "execution_count": 112,
      "outputs": [
        {
          "output_type": "stream",
          "name": "stdout",
          "text": [
            "Looking in indexes: https://pypi.org/simple, https://us-python.pkg.dev/colab-wheels/public/simple/\n",
            "Collecting matplotlib==3.0.0\n",
            "  Using cached matplotlib-3.0.0-cp37-cp37m-manylinux1_x86_64.whl (12.8 MB)\n",
            "Requirement already satisfied: numpy>=1.10.0 in /usr/local/lib/python3.7/dist-packages (from matplotlib==3.0.0) (1.21.5)\n",
            "Requirement already satisfied: kiwisolver>=1.0.1 in /usr/local/lib/python3.7/dist-packages (from matplotlib==3.0.0) (1.4.3)\n",
            "Requirement already satisfied: python-dateutil>=2.1 in /usr/local/lib/python3.7/dist-packages (from matplotlib==3.0.0) (2.8.2)\n",
            "Requirement already satisfied: pyparsing!=2.0.4,!=2.1.2,!=2.1.6,>=2.0.1 in /usr/local/lib/python3.7/dist-packages (from matplotlib==3.0.0) (3.0.9)\n",
            "Requirement already satisfied: cycler>=0.10 in /usr/local/lib/python3.7/dist-packages (from matplotlib==3.0.0) (0.11.0)\n",
            "Requirement already satisfied: typing-extensions in /usr/local/lib/python3.7/dist-packages (from kiwisolver>=1.0.1->matplotlib==3.0.0) (4.1.1)\n",
            "Requirement already satisfied: six>=1.5 in /usr/local/lib/python3.7/dist-packages (from python-dateutil>=2.1->matplotlib==3.0.0) (1.15.0)\n",
            "Installing collected packages: matplotlib\n",
            "  Attempting uninstall: matplotlib\n",
            "    Found existing installation: matplotlib 3.5.1\n",
            "    Uninstalling matplotlib-3.5.1:\n",
            "      Successfully uninstalled matplotlib-3.5.1\n",
            "\u001b[31mERROR: pip's dependency resolver does not currently take into account all the packages that are installed. This behaviour is the source of the following dependency conflicts.\n",
            "yellowbrick 1.4 requires matplotlib!=3.0.0,>=2.0.2, but you have matplotlib 3.0.0 which is incompatible.\n",
            "scikit-image 0.18.3 requires matplotlib!=3.0.0,>=2.0.0, but you have matplotlib 3.0.0 which is incompatible.\n",
            "plotnine 0.6.0 requires matplotlib>=3.1.1, but you have matplotlib 3.0.0 which is incompatible.\n",
            "mizani 0.6.0 requires matplotlib>=3.1.1, but you have matplotlib 3.0.0 which is incompatible.\n",
            "d2l 0.17.5 requires matplotlib==3.5.1, but you have matplotlib 3.0.0 which is incompatible.\n",
            "albumentations 0.1.12 requires imgaug<0.2.7,>=0.2.5, but you have imgaug 0.2.9 which is incompatible.\u001b[0m\n",
            "Successfully installed matplotlib-3.0.0\n"
          ]
        },
        {
          "output_type": "display_data",
          "data": {
            "application/vnd.colab-display-data+json": {
              "pip_warning": {
                "packages": [
                  "matplotlib",
                  "mpl_toolkits"
                ]
              }
            }
          },
          "metadata": {}
        }
      ]
    },
    {
      "cell_type": "code",
      "execution_count": 113,
      "metadata": {
        "id": "fTO3WImEPTOM"
      },
      "outputs": [],
      "source": [
        "%matplotlib inline  \n",
        "#notebook을 실행한 브라우저에서 바로 그림을 볼 수 있게\n",
        "\n",
        "import torch\n",
        "import torchvision\n",
        "from torch.utils import data\n",
        "from torchvision import transforms\n",
        "from d2l import torch as d2l\n",
        "torch.manual_seed(17)\n",
        "\n",
        "d2l.use_svg_display()"
      ]
    },
    {
      "cell_type": "markdown",
      "source": [
        "## 3.5 The Image Classification Dataset\n"
      ],
      "metadata": {
        "id": "T-A4EYxrWHUF"
      }
    },
    {
      "cell_type": "markdown",
      "metadata": {
        "id": "q4kJiQKwPTOP"
      },
      "source": [
        "Reading the Dataset"
      ]
    },
    {
      "cell_type": "code",
      "execution_count": 114,
      "metadata": {
        "id": "iK-znKwzPTOQ"
      },
      "outputs": [],
      "source": [
        "trans = transforms.ToTensor()   \n",
        "\n",
        "mnist_train = torchvision.datasets.MNIST(root=\"../data\", train=True, transform=trans, download=True)\n",
        "mnist_test = torchvision.datasets.MNIST(root=\"../data\", train=False, transform=trans, download=True)\n",
        "\n",
        "\n",
        "# ToTensor converts the image data from PIL type to 32-bit floating point tensors. It divides all numbers by 255 so that all pixel values are between 0 and 1\n",
        "# download를 True로 했을때 데이터셋을 인터넷에서 다운로드\n",
        "# 이렇게 로드를 하면 PIL.Image.Image 타입의 오브젝트가 데이터로 들어감 이것을 torch.Tensor 타입으로 바꾸려면 transform 인자로, torchvision.transforms.toTensor()를 넣어주면 된다.\n"
      ]
    },
    {
      "cell_type": "code",
      "source": [
        "len(mnist_train), len(mnist_test)"
      ],
      "metadata": {
        "id": "2fPsqT_fIt4c",
        "colab": {
          "base_uri": "https://localhost:8080/"
        },
        "outputId": "dfbe06cb-becb-4473-9970-94e37c36afb0"
      },
      "execution_count": 115,
      "outputs": [
        {
          "output_type": "execute_result",
          "data": {
            "text/plain": [
              "(60000, 10000)"
            ]
          },
          "metadata": {},
          "execution_count": 115
        }
      ]
    },
    {
      "cell_type": "code",
      "source": [
        "type(mnist_train[0][0]) , mnist_train[0][0].shape , type(mnist_train[0][1])\n",
        "# train dataset은 600개의 행 (observation) , 각 행은 [0] : 28*28짜리 텐서로 변환된 이미지, [1] : 라벨값인 int\n",
        "# Input : PIL Image / Tensor Image (Channel,Height,Width) / batch of Tensor Images  (Batch,Channel,Height,Width)"
      ],
      "metadata": {
        "id": "1A0dAzZAJIFz",
        "colab": {
          "base_uri": "https://localhost:8080/"
        },
        "outputId": "e12da2dd-c239-48f6-8303-7dcb90c88075"
      },
      "execution_count": 116,
      "outputs": [
        {
          "output_type": "execute_result",
          "data": {
            "text/plain": [
              "(torch.Tensor, torch.Size([1, 28, 28]), int)"
            ]
          },
          "metadata": {},
          "execution_count": 116
        }
      ]
    },
    {
      "cell_type": "code",
      "source": [
        "# visualizing function\n",
        "def show_images(imgs, num_rows, num_cols, titles=None, scale=1.0): \n",
        "  \"\"\"Plot a list of images.\"\"\"\n",
        "  figsize = (num_cols * scale, num_rows * scale)\n",
        "  _, axes = d2l.plt.subplots(num_rows, num_cols, figsize=figsize)\n",
        "  axes = axes.flatten()\n",
        "  for i, (ax, img) in enumerate(zip(axes, imgs)):\n",
        "    if torch.is_tensor(img):  # Tensor Image\n",
        "      ax.imshow(img.numpy())\n",
        "    else: # PIL Image\n",
        "      ax.imshow(img)\n",
        "    ax.axes.get_xaxis().set_visible(False)\n",
        "    ax.axes.get_yaxis().set_visible(False)\n",
        "    if titles:\n",
        "      ax.set_title(titles[i])\n",
        "  return axes\n"
      ],
      "metadata": {
        "id": "1lr9k8XXK9v5"
      },
      "execution_count": 117,
      "outputs": []
    },
    {
      "cell_type": "code",
      "source": [
        "X,y = next(iter(data.DataLoader(mnist_train, batch_size=20)))\n",
        "show_images(X.reshape(20,28,28),2,10, titles = y.tolist() )"
      ],
      "metadata": {
        "colab": {
          "base_uri": "https://localhost:8080/",
          "height": 583
        },
        "id": "Awt-kCP2Lz4T",
        "outputId": "77985d46-2eb8-4604-ddb3-06a17bbd61bc"
      },
      "execution_count": 118,
      "outputs": [
        {
          "output_type": "execute_result",
          "data": {
            "text/plain": [
              "array([<matplotlib.axes._subplots.AxesSubplot object at 0x7f6cad2ea750>,\n",
              "       <matplotlib.axes._subplots.AxesSubplot object at 0x7f6cad64be90>,\n",
              "       <matplotlib.axes._subplots.AxesSubplot object at 0x7f6cac36e7d0>,\n",
              "       <matplotlib.axes._subplots.AxesSubplot object at 0x7f6cac3f5d50>,\n",
              "       <matplotlib.axes._subplots.AxesSubplot object at 0x7f6cac723110>,\n",
              "       <matplotlib.axes._subplots.AxesSubplot object at 0x7f6cb0807750>,\n",
              "       <matplotlib.axes._subplots.AxesSubplot object at 0x7f6cad0ae890>,\n",
              "       <matplotlib.axes._subplots.AxesSubplot object at 0x7f6cad03c050>,\n",
              "       <matplotlib.axes._subplots.AxesSubplot object at 0x7f6cac5d4850>,\n",
              "       <matplotlib.axes._subplots.AxesSubplot object at 0x7f6cac6d2750>,\n",
              "       <matplotlib.axes._subplots.AxesSubplot object at 0x7f6cac3bb8d0>,\n",
              "       <matplotlib.axes._subplots.AxesSubplot object at 0x7f6cace262d0>,\n",
              "       <matplotlib.axes._subplots.AxesSubplot object at 0x7f6cac4d6890>,\n",
              "       <matplotlib.axes._subplots.AxesSubplot object at 0x7f6cac54de50>,\n",
              "       <matplotlib.axes._subplots.AxesSubplot object at 0x7f6cac312450>,\n",
              "       <matplotlib.axes._subplots.AxesSubplot object at 0x7f6cac489a10>,\n",
              "       <matplotlib.axes._subplots.AxesSubplot object at 0x7f6cac334b10>,\n",
              "       <matplotlib.axes._subplots.AxesSubplot object at 0x7f6cacf835d0>,\n",
              "       <matplotlib.axes._subplots.AxesSubplot object at 0x7f6cacf39b90>,\n",
              "       <matplotlib.axes._subplots.AxesSubplot object at 0x7f6cacefd190>],\n",
              "      dtype=object)"
            ]
          },
          "metadata": {},
          "execution_count": 118
        },
        {
          "output_type": "display_data",
          "data": {
            "text/plain": [
              "<Figure size 720x144 with 20 Axes>"
            ],
            "image/svg+xml": "<?xml version=\"1.0\" encoding=\"utf-8\" standalone=\"no\"?>\n<!DOCTYPE svg PUBLIC \"-//W3C//DTD SVG 1.1//EN\"\n  \"http://www.w3.org/Graphics/SVG/1.1/DTD/svg11.dtd\">\n<!-- Created with matplotlib (https://matplotlib.org/) -->\n<svg height=\"139.608079pt\" version=\"1.1\" viewBox=\"0 0 575.9 139.608079\" width=\"575.9pt\" xmlns=\"http://www.w3.org/2000/svg\" xmlns:xlink=\"http://www.w3.org/1999/xlink\">\n <defs>\n  <style type=\"text/css\">\n*{stroke-linecap:butt;stroke-linejoin:round;}\n  </style>\n </defs>\n <g id=\"figure_1\">\n  <g id=\"patch_1\">\n   <path d=\"M 0 139.608079 \nL 575.9 139.608079 \nL 575.9 0 \nL 0 0 \nz\n\" style=\"fill:none;\"/>\n  </g>\n  <g id=\"axes_1\">\n   <g id=\"patch_2\">\n    <path d=\"M 10.7 69.606261 \nL 57.988136 69.606261 \nL 57.988136 22.318125 \nL 10.7 22.318125 \nz\n\" style=\"fill:#ffffff;\"/>\n   </g>\n   <g clip-path=\"url(#p3906840c63)\">\n    <image height=\"48\" id=\"image599ec1c6fb\" transform=\"scale(1 -1)translate(0 -48)\" width=\"48\" x=\"10.7\" xlink:href=\"data:image/png;base64,\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\" y=\"-21.606261\"/>\n   </g>\n   <g id=\"patch_3\">\n    <path d=\"M 10.7 69.606261 \nL 10.7 22.318125 \n\" style=\"fill:none;stroke:#000000;stroke-linecap:square;stroke-linejoin:miter;stroke-width:0.8;\"/>\n   </g>\n   <g id=\"patch_4\">\n    <path d=\"M 57.988136 69.606261 \nL 57.988136 22.318125 \n\" style=\"fill:none;stroke:#000000;stroke-linecap:square;stroke-linejoin:miter;stroke-width:0.8;\"/>\n   </g>\n   <g id=\"patch_5\">\n    <path d=\"M 10.7 69.606261 \nL 57.988136 69.606261 \n\" style=\"fill:none;stroke:#000000;stroke-linecap:square;stroke-linejoin:miter;stroke-width:0.8;\"/>\n   </g>\n   <g id=\"patch_6\">\n    <path d=\"M 10.7 22.318125 \nL 57.988136 22.318125 \n\" style=\"fill:none;stroke:#000000;stroke-linecap:square;stroke-linejoin:miter;stroke-width:0.8;\"/>\n   </g>\n   <g id=\"text_1\">\n    <!-- 5 -->\n    <defs>\n     <path d=\"M 10.796875 72.90625 \nL 49.515625 72.90625 \nL 49.515625 64.59375 \nL 19.828125 64.59375 \nL 19.828125 46.734375 \nQ 21.96875 47.46875 24.109375 47.828125 \nQ 26.265625 48.1875 28.421875 48.1875 \nQ 40.625 48.1875 47.75 41.5 \nQ 54.890625 34.8125 54.890625 23.390625 \nQ 54.890625 11.625 47.5625 5.09375 \nQ 40.234375 -1.421875 26.90625 -1.421875 \nQ 22.3125 -1.421875 17.546875 -0.640625 \nQ 12.796875 0.140625 7.71875 1.703125 \nL 7.71875 11.625 \nQ 12.109375 9.234375 16.796875 8.0625 \nQ 21.484375 6.890625 26.703125 6.890625 \nQ 35.15625 6.890625 40.078125 11.328125 \nQ 45.015625 15.765625 45.015625 23.390625 \nQ 45.015625 31 40.078125 35.4375 \nQ 35.15625 39.890625 26.703125 39.890625 \nQ 22.75 39.890625 18.8125 39.015625 \nQ 14.890625 38.140625 10.796875 36.28125 \nz\n\" id=\"DejaVuSans-53\"/>\n    </defs>\n    <g transform=\"translate(30.526568 16.318125)scale(0.12 -0.12)\">\n     <use xlink:href=\"#DejaVuSans-53\"/>\n    </g>\n   </g>\n  </g>\n  <g id=\"axes_2\">\n   <g id=\"patch_7\">\n    <path d=\"M 67.445763 69.606261 \nL 114.733898 69.606261 \nL 114.733898 22.318125 \nL 67.445763 22.318125 \nz\n\" style=\"fill:#ffffff;\"/>\n   </g>\n   <g clip-path=\"url(#paaaaf47ec2)\">\n    <image height=\"48\" id=\"imageb23896a8cb\" transform=\"scale(1 -1)translate(0 -48)\" width=\"48\" x=\"67.445763\" xlink:href=\"data:image/png;base64,\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\" y=\"-21.606261\"/>\n   </g>\n   <g id=\"patch_8\">\n    <path d=\"M 67.445763 69.606261 \nL 67.445763 22.318125 \n\" style=\"fill:none;stroke:#000000;stroke-linecap:square;stroke-linejoin:miter;stroke-width:0.8;\"/>\n   </g>\n   <g id=\"patch_9\">\n    <path d=\"M 114.733898 69.606261 \nL 114.733898 22.318125 \n\" style=\"fill:none;stroke:#000000;stroke-linecap:square;stroke-linejoin:miter;stroke-width:0.8;\"/>\n   </g>\n   <g id=\"patch_10\">\n    <path d=\"M 67.445763 69.606261 \nL 114.733898 69.606261 \n\" style=\"fill:none;stroke:#000000;stroke-linecap:square;stroke-linejoin:miter;stroke-width:0.8;\"/>\n   </g>\n   <g id=\"patch_11\">\n    <path d=\"M 67.445763 22.318125 \nL 114.733898 22.318125 \n\" style=\"fill:none;stroke:#000000;stroke-linecap:square;stroke-linejoin:miter;stroke-width:0.8;\"/>\n   </g>\n   <g id=\"text_2\">\n    <!-- 0 -->\n    <defs>\n     <path d=\"M 31.78125 66.40625 \nQ 24.171875 66.40625 20.328125 58.90625 \nQ 16.5 51.421875 16.5 36.375 \nQ 16.5 21.390625 20.328125 13.890625 \nQ 24.171875 6.390625 31.78125 6.390625 \nQ 39.453125 6.390625 43.28125 13.890625 \nQ 47.125 21.390625 47.125 36.375 \nQ 47.125 51.421875 43.28125 58.90625 \nQ 39.453125 66.40625 31.78125 66.40625 \nz\nM 31.78125 74.21875 \nQ 44.046875 74.21875 50.515625 64.515625 \nQ 56.984375 54.828125 56.984375 36.375 \nQ 56.984375 17.96875 50.515625 8.265625 \nQ 44.046875 -1.421875 31.78125 -1.421875 \nQ 19.53125 -1.421875 13.0625 8.265625 \nQ 6.59375 17.96875 6.59375 36.375 \nQ 6.59375 54.828125 13.0625 64.515625 \nQ 19.53125 74.21875 31.78125 74.21875 \nz\n\" id=\"DejaVuSans-48\"/>\n    </defs>\n    <g transform=\"translate(87.272331 16.318125)scale(0.12 -0.12)\">\n     <use xlink:href=\"#DejaVuSans-48\"/>\n    </g>\n   </g>\n  </g>\n  <g id=\"axes_3\">\n   <g id=\"patch_12\">\n    <path d=\"M 124.191525 69.606261 \nL 171.479661 69.606261 \nL 171.479661 22.318125 \nL 124.191525 22.318125 \nz\n\" style=\"fill:#ffffff;\"/>\n   </g>\n   <g clip-path=\"url(#p8e0a8daf4f)\">\n    <image height=\"48\" id=\"imagef134d9b688\" transform=\"scale(1 -1)translate(0 -48)\" width=\"48\" x=\"124.191525\" xlink:href=\"data:image/png;base64,\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\" y=\"-21.606261\"/>\n   </g>\n   <g id=\"patch_13\">\n    <path d=\"M 124.191525 69.606261 \nL 124.191525 22.318125 \n\" style=\"fill:none;stroke:#000000;stroke-linecap:square;stroke-linejoin:miter;stroke-width:0.8;\"/>\n   </g>\n   <g id=\"patch_14\">\n    <path d=\"M 171.479661 69.606261 \nL 171.479661 22.318125 \n\" style=\"fill:none;stroke:#000000;stroke-linecap:square;stroke-linejoin:miter;stroke-width:0.8;\"/>\n   </g>\n   <g id=\"patch_15\">\n    <path d=\"M 124.191525 69.606261 \nL 171.479661 69.606261 \n\" style=\"fill:none;stroke:#000000;stroke-linecap:square;stroke-linejoin:miter;stroke-width:0.8;\"/>\n   </g>\n   <g id=\"patch_16\">\n    <path d=\"M 124.191525 22.318125 \nL 171.479661 22.318125 \n\" style=\"fill:none;stroke:#000000;stroke-linecap:square;stroke-linejoin:miter;stroke-width:0.8;\"/>\n   </g>\n   <g id=\"text_3\">\n    <!-- 4 -->\n    <defs>\n     <path d=\"M 37.796875 64.3125 \nL 12.890625 25.390625 \nL 37.796875 25.390625 \nz\nM 35.203125 72.90625 \nL 47.609375 72.90625 \nL 47.609375 25.390625 \nL 58.015625 25.390625 \nL 58.015625 17.1875 \nL 47.609375 17.1875 \nL 47.609375 0 \nL 37.796875 0 \nL 37.796875 17.1875 \nL 4.890625 17.1875 \nL 4.890625 26.703125 \nz\n\" id=\"DejaVuSans-52\"/>\n    </defs>\n    <g transform=\"translate(144.018093 16.318125)scale(0.12 -0.12)\">\n     <use xlink:href=\"#DejaVuSans-52\"/>\n    </g>\n   </g>\n  </g>\n  <g id=\"axes_4\">\n   <g id=\"patch_17\">\n    <path d=\"M 180.937288 69.606261 \nL 228.225424 69.606261 \nL 228.225424 22.318125 \nL 180.937288 22.318125 \nz\n\" style=\"fill:#ffffff;\"/>\n   </g>\n   <g clip-path=\"url(#pbe7312d5d0)\">\n    <image height=\"48\" id=\"image9863e80cc5\" transform=\"scale(1 -1)translate(0 -48)\" width=\"48\" x=\"180.937288\" xlink:href=\"data:image/png;base64,\niVBORw0KGgoAAAANSUhEUgAAADAAAAAwCAYAAABXAvmHAAAABHNCSVQICAgIfAhkiAAABT9JREFUaIHtmUtsVFUYx3/n3MdM5z0t0xdTBijD0wdBVB6SCKJuxLgwLNi40I2JGvZuXJoQN+BelxhNfGwI+IpKBHmroC3Q8iitLR1mWubRmd57z3FRgjx8lJnbNib9TWZzk3u+73+/833feYjt4mXN/xg51w40yryAucZs5GVh2QjLBCGmHmiNdly0M+mHb9OiLgEyGES2NHNt52KqG0o8lemnyXD4fbyN0QNpOt770W8//5G6BAjbRscjFJd4vLLyBK8mjxEUgm/inbzdtstvH/+VunJARCOUsgkWdOfZ3XKSNqPJb7+mTX1JLARaCgypCIqG0qhh6q5CQk/1P0/f3Qe1aMyhB6UuAdpxMEseY6UQ5x1NTTuEhMXD9h90rR1iePcm5EMrEZbtt7/3UV8EXBez7FIt2fQ5KRytsIRBuwFPt16gtH6CWnsYEQz8VWJniLoEePkC8lQP0V8D7Ln4HEOewBIGERngreYTHNjyPvnVAWSqBcTM9sr6RtcaXauR6HcpnE4x4CbwtAIgIgNkTJtaApy2OMIw/PT3Phr6PE2fHaN7z28cKS9DoVEoHO3haU2102VsRQhhW375+rc0HF/tKUYno+S8ibsq0orlg+QeV8hkYkaT2ZcJOlSJ0++GUKjbz3a0/0J25SCqJYaMhP0w87cYS8XqdxoaQSkKpTXsH36C9IpLWKJIUkoy1ghrYlf5YNF6am0dRI4O+OPxPfgwhTziZ/MkezQny0sYcBMANEubFdZNtmXPU1ziIcNhhOl/1248AoDO5QmpMN9nM+iIwbPRqwAEhcH2WB8/WJ2oUx1IV6PL5UbN3YU/RVprxHiJyJkgR4YzGELc/geFyarYMCMb46h0yhdzd+Jbl1G5G6QPjDLW14y857c5eoHJreMUl0b8Mncb/wRMOuhrw3R+p1n++evsK2TJeRM42iMhK3QvuMFEi8RIpXzNBf/6vPJQxSLR3gLthyWHrq+i14nh4BGVVZZGclRbBCrdigj4t0byJYnvojBOU3+BUZHlo5vreCF7lG4LNoUvcT0jOfVoikjfAszxCrpWa9ic7yst7bpTkRhwiVw2ODfZTl65xGWQLdFeti06z9jyECrb5UsU/I/ALYKOQbAa4MqGEGG7wmq7QrdV5clwH/uMdVRDEWLHRkB5DdmZMQEojVXTXHKWcoBlvLHkFBoNaEaabHqa4sSvpDAxUTeLdZuZsQ2tKhZR5QoLP64xSDeVrZNYGFgYvNZymIB0+Tq7maSr4Npg3XZmdrehPLzcDRIXHXac28Wn5Q4sYdBlSl6Mn8bdeYPhjbGGTMz40aJ2XeyxSQb6U5wpL6KiJ7GEQac5wfPpHsoLNWZH+1RprYOZy4E7sDAJTsT4uSvJY6leEnKCuLTZGB7gq0CaYRYTy0l0vvDAY8+KAIHA0jY3owkOWt2sXXCRpDFBkzDpJ8RxOogOBLELVfBu7Sn09K4tZkWArtXQIznilRje9RhyfZVlgUESUpK0hmltLXHywnIioxpRrU05702vvM6KgNvGqi5NBcW3C1dywuzipeazxKRHl3Wd/GqDns3NMJLGFgF0Lj+tMWf1fsArFFBXBwlfNrgw1IqDJiIsMqbJu+3H2btqP+V2Ey8+/bPW2b/gUJpgTkMuwJiCmnYbGm7WBWjPIzroELks+TC/kZ9qSYxbayIp1H+8fT9zEAEP69AJ0l8M8cnBzewdeAaJxBIGBhotQD/AIm/OzsZ1vkDXly3kejI8knkTBBhV6Do5hhwdY7oTS8zfE88x8wLmmnkBc828gLnmT6127gW6j+eVAAAAAElFTkSuQmCC\" y=\"-21.606261\"/>\n   </g>\n   <g id=\"patch_18\">\n    <path d=\"M 180.937288 69.606261 \nL 180.937288 22.318125 \n\" style=\"fill:none;stroke:#000000;stroke-linecap:square;stroke-linejoin:miter;stroke-width:0.8;\"/>\n   </g>\n   <g id=\"patch_19\">\n    <path d=\"M 228.225424 69.606261 \nL 228.225424 22.318125 \n\" style=\"fill:none;stroke:#000000;stroke-linecap:square;stroke-linejoin:miter;stroke-width:0.8;\"/>\n   </g>\n   <g id=\"patch_20\">\n    <path d=\"M 180.937288 69.606261 \nL 228.225424 69.606261 \n\" style=\"fill:none;stroke:#000000;stroke-linecap:square;stroke-linejoin:miter;stroke-width:0.8;\"/>\n   </g>\n   <g id=\"patch_21\">\n    <path d=\"M 180.937288 22.318125 \nL 228.225424 22.318125 \n\" style=\"fill:none;stroke:#000000;stroke-linecap:square;stroke-linejoin:miter;stroke-width:0.8;\"/>\n   </g>\n   <g id=\"text_4\">\n    <!-- 1 -->\n    <defs>\n     <path d=\"M 12.40625 8.296875 \nL 28.515625 8.296875 \nL 28.515625 63.921875 \nL 10.984375 60.40625 \nL 10.984375 69.390625 \nL 28.421875 72.90625 \nL 38.28125 72.90625 \nL 38.28125 8.296875 \nL 54.390625 8.296875 \nL 54.390625 0 \nL 12.40625 0 \nz\n\" id=\"DejaVuSans-49\"/>\n    </defs>\n    <g transform=\"translate(200.763856 16.318125)scale(0.12 -0.12)\">\n     <use xlink:href=\"#DejaVuSans-49\"/>\n    </g>\n   </g>\n  </g>\n  <g id=\"axes_5\">\n   <g id=\"patch_22\">\n    <path d=\"M 237.683051 69.606261 \nL 284.971186 69.606261 \nL 284.971186 22.318125 \nL 237.683051 22.318125 \nz\n\" style=\"fill:#ffffff;\"/>\n   </g>\n   <g clip-path=\"url(#p133b685cce)\">\n    <image height=\"48\" id=\"image07732066fe\" transform=\"scale(1 -1)translate(0 -48)\" width=\"48\" x=\"237.683051\" xlink:href=\"data:image/png;base64,\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\" y=\"-21.606261\"/>\n   </g>\n   <g id=\"patch_23\">\n    <path d=\"M 237.683051 69.606261 \nL 237.683051 22.318125 \n\" style=\"fill:none;stroke:#000000;stroke-linecap:square;stroke-linejoin:miter;stroke-width:0.8;\"/>\n   </g>\n   <g id=\"patch_24\">\n    <path d=\"M 284.971186 69.606261 \nL 284.971186 22.318125 \n\" style=\"fill:none;stroke:#000000;stroke-linecap:square;stroke-linejoin:miter;stroke-width:0.8;\"/>\n   </g>\n   <g id=\"patch_25\">\n    <path d=\"M 237.683051 69.606261 \nL 284.971186 69.606261 \n\" style=\"fill:none;stroke:#000000;stroke-linecap:square;stroke-linejoin:miter;stroke-width:0.8;\"/>\n   </g>\n   <g id=\"patch_26\">\n    <path d=\"M 237.683051 22.318125 \nL 284.971186 22.318125 \n\" style=\"fill:none;stroke:#000000;stroke-linecap:square;stroke-linejoin:miter;stroke-width:0.8;\"/>\n   </g>\n   <g id=\"text_5\">\n    <!-- 9 -->\n    <defs>\n     <path d=\"M 10.984375 1.515625 \nL 10.984375 10.5 \nQ 14.703125 8.734375 18.5 7.8125 \nQ 22.3125 6.890625 25.984375 6.890625 \nQ 35.75 6.890625 40.890625 13.453125 \nQ 46.046875 20.015625 46.78125 33.40625 \nQ 43.953125 29.203125 39.59375 26.953125 \nQ 35.25 24.703125 29.984375 24.703125 \nQ 19.046875 24.703125 12.671875 31.3125 \nQ 6.296875 37.9375 6.296875 49.421875 \nQ 6.296875 60.640625 12.9375 67.421875 \nQ 19.578125 74.21875 30.609375 74.21875 \nQ 43.265625 74.21875 49.921875 64.515625 \nQ 56.59375 54.828125 56.59375 36.375 \nQ 56.59375 19.140625 48.40625 8.859375 \nQ 40.234375 -1.421875 26.421875 -1.421875 \nQ 22.703125 -1.421875 18.890625 -0.6875 \nQ 15.09375 0.046875 10.984375 1.515625 \nz\nM 30.609375 32.421875 \nQ 37.25 32.421875 41.125 36.953125 \nQ 45.015625 41.5 45.015625 49.421875 \nQ 45.015625 57.28125 41.125 61.84375 \nQ 37.25 66.40625 30.609375 66.40625 \nQ 23.96875 66.40625 20.09375 61.84375 \nQ 16.21875 57.28125 16.21875 49.421875 \nQ 16.21875 41.5 20.09375 36.953125 \nQ 23.96875 32.421875 30.609375 32.421875 \nz\n\" id=\"DejaVuSans-57\"/>\n    </defs>\n    <g transform=\"translate(257.509619 16.318125)scale(0.12 -0.12)\">\n     <use xlink:href=\"#DejaVuSans-57\"/>\n    </g>\n   </g>\n  </g>\n  <g id=\"axes_6\">\n   <g id=\"patch_27\">\n    <path d=\"M 294.428814 69.606261 \nL 341.716949 69.606261 \nL 341.716949 22.318125 \nL 294.428814 22.318125 \nz\n\" style=\"fill:#ffffff;\"/>\n   </g>\n   <g clip-path=\"url(#p0bdb6b2243)\">\n    <image height=\"48\" id=\"imagea9a016fdca\" transform=\"scale(1 -1)translate(0 -48)\" width=\"48\" x=\"294.428814\" xlink:href=\"data:image/png;base64,\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\" y=\"-21.606261\"/>\n   </g>\n   <g id=\"patch_28\">\n    <path d=\"M 294.428814 69.606261 \nL 294.428814 22.318125 \n\" style=\"fill:none;stroke:#000000;stroke-linecap:square;stroke-linejoin:miter;stroke-width:0.8;\"/>\n   </g>\n   <g id=\"patch_29\">\n    <path d=\"M 341.716949 69.606261 \nL 341.716949 22.318125 \n\" style=\"fill:none;stroke:#000000;stroke-linecap:square;stroke-linejoin:miter;stroke-width:0.8;\"/>\n   </g>\n   <g id=\"patch_30\">\n    <path d=\"M 294.428814 69.606261 \nL 341.716949 69.606261 \n\" style=\"fill:none;stroke:#000000;stroke-linecap:square;stroke-linejoin:miter;stroke-width:0.8;\"/>\n   </g>\n   <g id=\"patch_31\">\n    <path d=\"M 294.428814 22.318125 \nL 341.716949 22.318125 \n\" style=\"fill:none;stroke:#000000;stroke-linecap:square;stroke-linejoin:miter;stroke-width:0.8;\"/>\n   </g>\n   <g id=\"text_6\">\n    <!-- 2 -->\n    <defs>\n     <path d=\"M 19.1875 8.296875 \nL 53.609375 8.296875 \nL 53.609375 0 \nL 7.328125 0 \nL 7.328125 8.296875 \nQ 12.9375 14.109375 22.625 23.890625 \nQ 32.328125 33.6875 34.8125 36.53125 \nQ 39.546875 41.84375 41.421875 45.53125 \nQ 43.3125 49.21875 43.3125 52.78125 \nQ 43.3125 58.59375 39.234375 62.25 \nQ 35.15625 65.921875 28.609375 65.921875 \nQ 23.96875 65.921875 18.8125 64.3125 \nQ 13.671875 62.703125 7.8125 59.421875 \nL 7.8125 69.390625 \nQ 13.765625 71.78125 18.9375 73 \nQ 24.125 74.21875 28.421875 74.21875 \nQ 39.75 74.21875 46.484375 68.546875 \nQ 53.21875 62.890625 53.21875 53.421875 \nQ 53.21875 48.921875 51.53125 44.890625 \nQ 49.859375 40.875 45.40625 35.40625 \nQ 44.1875 33.984375 37.640625 27.21875 \nQ 31.109375 20.453125 19.1875 8.296875 \nz\n\" id=\"DejaVuSans-50\"/>\n    </defs>\n    <g transform=\"translate(314.255381 16.318125)scale(0.12 -0.12)\">\n     <use xlink:href=\"#DejaVuSans-50\"/>\n    </g>\n   </g>\n  </g>\n  <g id=\"axes_7\">\n   <g id=\"patch_32\">\n    <path d=\"M 351.174576 69.606261 \nL 398.462712 69.606261 \nL 398.462712 22.318125 \nL 351.174576 22.318125 \nz\n\" style=\"fill:#ffffff;\"/>\n   </g>\n   <g clip-path=\"url(#p52555f3ffd)\">\n    <image height=\"48\" id=\"imaged92715c504\" transform=\"scale(1 -1)translate(0 -48)\" width=\"48\" x=\"351.174576\" xlink:href=\"data:image/png;base64,\niVBORw0KGgoAAAANSUhEUgAAADAAAAAwCAYAAABXAvmHAAAABHNCSVQICAgIfAhkiAAAA6FJREFUaIHtmU1vW0UUhp8z9/omcWLHTlI3TiEliIJSPoLEhxA0IFR2dAcSfwEhsWaJxJ4VPwAhsQX2ICqxQEiFIhSaUlApSkI+nC87iXPta987wyJN0pYkErkzMpHyLD3SeefVmXPuzLG8IW8bTjCq0xtIy6mBTnNqoNP4rgWkqwtV6EePnkUHHsYXALwwRm7ewUQRJo6PHd+pAfF91MMjLL8+zOX3fuCVvj94OljGE/hkdZKpd5/Cn1shXlw6tobbDHgecSlPY0i4nJvmQqbKQ34PAEOZOigBle4Uu82A5xGWu2kMa17rCYEu6xpOi1h6e1mcFMaeXHCm4dZAkCF7fpPnB2fvitmXc9tGfY8Xy7O8mrt13+Yz4pGRBCOSWsKZAf+RURoXSjzeW+Gct7H3u0bzdZjh6uoT+BsNTLOZTiftRg9j7dIIqxPCldwUj2V8NBqAULf5YPotwqkiY3/+jImiVDrOMhAVFMlgm25JXEkADg208pAb2CZzwDGPtUIl6c8/uDpCIqgXanw68RlDKrhvqWk0fF/g3PUmpn38K8QuzmqglKvzbOCj2X/wLSYNbrWK9C1ogr9rJEan1nFmQInBEwVG75n4vPYcX8xMULpRI7n9F5j0r1lnNaCNkNyzeYCb9TLr8wWk0bKyeXB8F9rd/G4LvV0bIjvjI410rfNeTvyD5tRAp3FaAwpBY5zcQvc1XAW+20YVdr64h+q4CnxQG3WB/SMkggQBSsy/2qgLrBswLz3DwqVe3jlz1XboA7FnQATxM2yPdFMfbzHWtbK3tJ5E/NoqslrNkdsAUsyBHsSaAQkCvJFh1i96fPjyV0z2zAA7I5Qv6+N8/M2blK7BwC9r6NrG0cH+A/aKWBuIE1QbKu1+mma/+yy382QXFNlKG1mrpZrEPYg9A0ZjmhF+CNP1Mls6s7e0FOXJz2i65zeJlyr/TwMmSdC1DXpWND/NjzIfF2yFPhKLGTCYuI0fGZphQKjtT+EOwp4BEVRfH82ColyqccbftBb6KKwZEM9Dsj208sLFYoWCatgKfST22qjvw0A/Ydnw/tlvOe8bwLMV/lCsZUC32rC8Rt+M8NHcFX5v7wyzrkXCjfUy2aUWshXaktvD4ncgIVlbJz8Xc/23MX5sPMpCHPFdfZyllX6CyhZm274Bsf1Ht1csQmmQeLAX3eWhmsnODPTO7E6WtN1JnfXLXFKtQrWKsF8BLoeLJ/5JeWqg05wa6DT/AInQTOxZHspYAAAAAElFTkSuQmCC\" y=\"-21.606261\"/>\n   </g>\n   <g id=\"patch_33\">\n    <path d=\"M 351.174576 69.606261 \nL 351.174576 22.318125 \n\" style=\"fill:none;stroke:#000000;stroke-linecap:square;stroke-linejoin:miter;stroke-width:0.8;\"/>\n   </g>\n   <g id=\"patch_34\">\n    <path d=\"M 398.462712 69.606261 \nL 398.462712 22.318125 \n\" style=\"fill:none;stroke:#000000;stroke-linecap:square;stroke-linejoin:miter;stroke-width:0.8;\"/>\n   </g>\n   <g id=\"patch_35\">\n    <path d=\"M 351.174576 69.606261 \nL 398.462712 69.606261 \n\" style=\"fill:none;stroke:#000000;stroke-linecap:square;stroke-linejoin:miter;stroke-width:0.8;\"/>\n   </g>\n   <g id=\"patch_36\">\n    <path d=\"M 351.174576 22.318125 \nL 398.462712 22.318125 \n\" style=\"fill:none;stroke:#000000;stroke-linecap:square;stroke-linejoin:miter;stroke-width:0.8;\"/>\n   </g>\n   <g id=\"text_7\">\n    <!-- 1 -->\n    <g transform=\"translate(371.001144 16.318125)scale(0.12 -0.12)\">\n     <use xlink:href=\"#DejaVuSans-49\"/>\n    </g>\n   </g>\n  </g>\n  <g id=\"axes_8\">\n   <g id=\"patch_37\">\n    <path d=\"M 407.920339 69.606261 \nL 455.208475 69.606261 \nL 455.208475 22.318125 \nL 407.920339 22.318125 \nz\n\" style=\"fill:#ffffff;\"/>\n   </g>\n   <g clip-path=\"url(#pa3c9b50682)\">\n    <image height=\"48\" id=\"image3910bcf4dd\" transform=\"scale(1 -1)translate(0 -48)\" width=\"48\" x=\"407.920339\" xlink:href=\"data:image/png;base64,\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\" y=\"-21.606261\"/>\n   </g>\n   <g id=\"patch_38\">\n    <path d=\"M 407.920339 69.606261 \nL 407.920339 22.318125 \n\" style=\"fill:none;stroke:#000000;stroke-linecap:square;stroke-linejoin:miter;stroke-width:0.8;\"/>\n   </g>\n   <g id=\"patch_39\">\n    <path d=\"M 455.208475 69.606261 \nL 455.208475 22.318125 \n\" style=\"fill:none;stroke:#000000;stroke-linecap:square;stroke-linejoin:miter;stroke-width:0.8;\"/>\n   </g>\n   <g id=\"patch_40\">\n    <path d=\"M 407.920339 69.606261 \nL 455.208475 69.606261 \n\" style=\"fill:none;stroke:#000000;stroke-linecap:square;stroke-linejoin:miter;stroke-width:0.8;\"/>\n   </g>\n   <g id=\"patch_41\">\n    <path d=\"M 407.920339 22.318125 \nL 455.208475 22.318125 \n\" style=\"fill:none;stroke:#000000;stroke-linecap:square;stroke-linejoin:miter;stroke-width:0.8;\"/>\n   </g>\n   <g id=\"text_8\">\n    <!-- 3 -->\n    <defs>\n     <path d=\"M 40.578125 39.3125 \nQ 47.65625 37.796875 51.625 33 \nQ 55.609375 28.21875 55.609375 21.1875 \nQ 55.609375 10.40625 48.1875 4.484375 \nQ 40.765625 -1.421875 27.09375 -1.421875 \nQ 22.515625 -1.421875 17.65625 -0.515625 \nQ 12.796875 0.390625 7.625 2.203125 \nL 7.625 11.71875 \nQ 11.71875 9.328125 16.59375 8.109375 \nQ 21.484375 6.890625 26.8125 6.890625 \nQ 36.078125 6.890625 40.9375 10.546875 \nQ 45.796875 14.203125 45.796875 21.1875 \nQ 45.796875 27.640625 41.28125 31.265625 \nQ 36.765625 34.90625 28.71875 34.90625 \nL 20.21875 34.90625 \nL 20.21875 43.015625 \nL 29.109375 43.015625 \nQ 36.375 43.015625 40.234375 45.921875 \nQ 44.09375 48.828125 44.09375 54.296875 \nQ 44.09375 59.90625 40.109375 62.90625 \nQ 36.140625 65.921875 28.71875 65.921875 \nQ 24.65625 65.921875 20.015625 65.03125 \nQ 15.375 64.15625 9.8125 62.3125 \nL 9.8125 71.09375 \nQ 15.4375 72.65625 20.34375 73.4375 \nQ 25.25 74.21875 29.59375 74.21875 \nQ 40.828125 74.21875 47.359375 69.109375 \nQ 53.90625 64.015625 53.90625 55.328125 \nQ 53.90625 49.265625 50.4375 45.09375 \nQ 46.96875 40.921875 40.578125 39.3125 \nz\n\" id=\"DejaVuSans-51\"/>\n    </defs>\n    <g transform=\"translate(427.746907 16.318125)scale(0.12 -0.12)\">\n     <use xlink:href=\"#DejaVuSans-51\"/>\n    </g>\n   </g>\n  </g>\n  <g id=\"axes_9\">\n   <g id=\"patch_42\">\n    <path d=\"M 464.666102 69.606261 \nL 511.954237 69.606261 \nL 511.954237 22.318125 \nL 464.666102 22.318125 \nz\n\" style=\"fill:#ffffff;\"/>\n   </g>\n   <g clip-path=\"url(#p7cf752cafb)\">\n    <image height=\"48\" id=\"imagec59d34c8dc\" transform=\"scale(1 -1)translate(0 -48)\" width=\"48\" x=\"464.666102\" xlink:href=\"data:image/png;base64,\niVBORw0KGgoAAAANSUhEUgAAADAAAAAwCAYAAABXAvmHAAAABHNCSVQICAgIfAhkiAAAAyJJREFUaIHtmc9rXFUUxz/nvl8zr0laM5N0GhqV0KYlG6Go4EIo6ka6E1eCG5euBf8Dl/4N9m9wpRtBqyJ00dIgtfVHDIlOopW8SWcy896797pIBlGLG8+dITAfeNv7vd93zrnnvPvkNXnTc4ox097A/2VmYNrEoQUkyxARMAZflnhrweuVXVADUbvFw/fWqZcrFpd68HGLzqe72N0uvipVNIKmkGQZjSsF1ze+491LnzO4IPi8gUR6smFTKE14Y+0uNxbu8Gxc8sFZh2smiNEzELaIq5rPuuvc6l8hlwg3Zxm1m0iaqEkENeBHJTv3z/PJ3gZNSUkWRvQ7CSSpmsZEjtHSRfxqB7B1hvaXXVyvp7Z28GMUwDrDwAtJIdgft8FZtbUnEgEjngiPN2AaGYjora220hOQyCCLI56e/4NcYLhiqV68ipmbU9MIG4Es5frlh7y19A3LUc6rz2/yw9sGubCsJhHMQLSxTu/aCi+fe8Dl5BFHvuSLn9dofZ1AcaimE8zA0eoCxVrEtcY2F+OMgbdUO2dYul3gDx+r6QQz4I3gDUT8NbiZWpCyBufUdIIZcKngThqu9R7rPVKDHI3wVs9AsD4wPBcxbDsScTiEgYe0J9Rb26rjdLAIDNuC6QxpyPFmLQIe1c1DQAODjue51R1yxab1JCYySmyWCR/+coN8T/8CZCKjxL6d59v9Dklfr3jHTMTAoWvSLxpE5SmNgPUCThD9AMyuVf6FxDEmz2FlyOvtTRoSaUv8DfUISJoieZPzrYJX8u/J5KQd+5NHGf0UEoE45mw2ZCXOMAi/1wuk3YTkca0uF6YGRIiNI+Y4fQrbJD0QouFpMfAPdo6eYvF+Tbyv9zE/JuzVohy/n8obotKB1fuYHzORCDhviEYWFMfoMbM+8F9Y76ixlC4C69VHaQgcgRrLZun56aBFstfD9/vqGvoGrMWXJfcerPJ+9yXujS7S6zeQwz6+rNTl1FPIlRVyUHDpZsVXt15g650W5aMGdXdPWwoIUQPO4itIt36j1Ztn96M1ntnXb2BjZPafeMrMDEybmYFpMzMwbf4EzEgYB06/WbMAAAAASUVORK5CYII=\" y=\"-21.606261\"/>\n   </g>\n   <g id=\"patch_43\">\n    <path d=\"M 464.666102 69.606261 \nL 464.666102 22.318125 \n\" style=\"fill:none;stroke:#000000;stroke-linecap:square;stroke-linejoin:miter;stroke-width:0.8;\"/>\n   </g>\n   <g id=\"patch_44\">\n    <path d=\"M 511.954237 69.606261 \nL 511.954237 22.318125 \n\" style=\"fill:none;stroke:#000000;stroke-linecap:square;stroke-linejoin:miter;stroke-width:0.8;\"/>\n   </g>\n   <g id=\"patch_45\">\n    <path d=\"M 464.666102 69.606261 \nL 511.954237 69.606261 \n\" style=\"fill:none;stroke:#000000;stroke-linecap:square;stroke-linejoin:miter;stroke-width:0.8;\"/>\n   </g>\n   <g id=\"patch_46\">\n    <path d=\"M 464.666102 22.318125 \nL 511.954237 22.318125 \n\" style=\"fill:none;stroke:#000000;stroke-linecap:square;stroke-linejoin:miter;stroke-width:0.8;\"/>\n   </g>\n   <g id=\"text_9\">\n    <!-- 1 -->\n    <g transform=\"translate(484.492669 16.318125)scale(0.12 -0.12)\">\n     <use xlink:href=\"#DejaVuSans-49\"/>\n    </g>\n   </g>\n  </g>\n  <g id=\"axes_10\">\n   <g id=\"patch_47\">\n    <path d=\"M 521.411864 69.606261 \nL 568.7 69.606261 \nL 568.7 22.318125 \nL 521.411864 22.318125 \nz\n\" style=\"fill:#ffffff;\"/>\n   </g>\n   <g clip-path=\"url(#p14dad5d8c2)\">\n    <image height=\"48\" id=\"imageb363c7b3ab\" transform=\"scale(1 -1)translate(0 -48)\" width=\"48\" x=\"521.411864\" xlink:href=\"data:image/png;base64,\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\" y=\"-21.606261\"/>\n   </g>\n   <g id=\"patch_48\">\n    <path d=\"M 521.411864 69.606261 \nL 521.411864 22.318125 \n\" style=\"fill:none;stroke:#000000;stroke-linecap:square;stroke-linejoin:miter;stroke-width:0.8;\"/>\n   </g>\n   <g id=\"patch_49\">\n    <path d=\"M 568.7 69.606261 \nL 568.7 22.318125 \n\" style=\"fill:none;stroke:#000000;stroke-linecap:square;stroke-linejoin:miter;stroke-width:0.8;\"/>\n   </g>\n   <g id=\"patch_50\">\n    <path d=\"M 521.411864 69.606261 \nL 568.7 69.606261 \n\" style=\"fill:none;stroke:#000000;stroke-linecap:square;stroke-linejoin:miter;stroke-width:0.8;\"/>\n   </g>\n   <g id=\"patch_51\">\n    <path d=\"M 521.411864 22.318125 \nL 568.7 22.318125 \n\" style=\"fill:none;stroke:#000000;stroke-linecap:square;stroke-linejoin:miter;stroke-width:0.8;\"/>\n   </g>\n   <g id=\"text_10\">\n    <!-- 4 -->\n    <g transform=\"translate(541.238432 16.318125)scale(0.12 -0.12)\">\n     <use xlink:href=\"#DejaVuSans-52\"/>\n    </g>\n   </g>\n  </g>\n  <g id=\"axes_11\">\n   <g id=\"patch_52\">\n    <path d=\"M 10.7 128.908079 \nL 57.988136 128.908079 \nL 57.988136 81.619943 \nL 10.7 81.619943 \nz\n\" style=\"fill:#ffffff;\"/>\n   </g>\n   <g clip-path=\"url(#pa8f67ba0cc)\">\n    <image height=\"48\" id=\"image3c2358a6ff\" transform=\"scale(1 -1)translate(0 -48)\" width=\"48\" x=\"10.7\" xlink:href=\"data:image/png;base64,\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\" y=\"-80.908079\"/>\n   </g>\n   <g id=\"patch_53\">\n    <path d=\"M 10.7 128.908079 \nL 10.7 81.619943 \n\" style=\"fill:none;stroke:#000000;stroke-linecap:square;stroke-linejoin:miter;stroke-width:0.8;\"/>\n   </g>\n   <g id=\"patch_54\">\n    <path d=\"M 57.988136 128.908079 \nL 57.988136 81.619943 \n\" style=\"fill:none;stroke:#000000;stroke-linecap:square;stroke-linejoin:miter;stroke-width:0.8;\"/>\n   </g>\n   <g id=\"patch_55\">\n    <path d=\"M 10.7 128.908079 \nL 57.988136 128.908079 \n\" style=\"fill:none;stroke:#000000;stroke-linecap:square;stroke-linejoin:miter;stroke-width:0.8;\"/>\n   </g>\n   <g id=\"patch_56\">\n    <path d=\"M 10.7 81.619943 \nL 57.988136 81.619943 \n\" style=\"fill:none;stroke:#000000;stroke-linecap:square;stroke-linejoin:miter;stroke-width:0.8;\"/>\n   </g>\n   <g id=\"text_11\">\n    <!-- 3 -->\n    <g transform=\"translate(30.526568 75.619943)scale(0.12 -0.12)\">\n     <use xlink:href=\"#DejaVuSans-51\"/>\n    </g>\n   </g>\n  </g>\n  <g id=\"axes_12\">\n   <g id=\"patch_57\">\n    <path d=\"M 67.445763 128.908079 \nL 114.733898 128.908079 \nL 114.733898 81.619943 \nL 67.445763 81.619943 \nz\n\" style=\"fill:#ffffff;\"/>\n   </g>\n   <g clip-path=\"url(#pb228350dc3)\">\n    <image height=\"48\" id=\"imageef2f5b4e69\" transform=\"scale(1 -1)translate(0 -48)\" width=\"48\" x=\"67.445763\" xlink:href=\"data:image/png;base64,\niVBORw0KGgoAAAANSUhEUgAAADAAAAAwCAYAAABXAvmHAAAABHNCSVQICAgIfAhkiAAABYFJREFUaIHtmEtsHEUagL/qx0zP+2WPPXYSOybG4Dg4CTGCgIDdhBUPCZAISIjHBaGVVuKK9sidGweOHJAQWi0gVmLhgBBIEEFAJjirJHZsJ07smfFrPPaMPdPdM121BwdrHUfCWcaMIvmT+tJdXVVf/3/VX2pxUpxS3MZozZ7A72VXoNnsCjSbXYFmsyvQbG57AeOWWguBHomAroPPRJgmGPrmNnUP6nVkeRXlOKh6vYHT3cotCeixKLlXD1JtU9T2OAx053gweWnjuSYkwytd/Gc2Q/Tj/SR+WUJOXkW5LqidOXJtW8Do6cbZl2Rl0CWZLnFPa56TiQsMWdcAqCmNBS9Eq1GmK7jER8fux42kaK86qOIy3vJKcwXmTmRYGpR8+Kd36TMdopp1/UkAgKKsMmwn6fdneSUyy9PP/swXpUG+WTxOZDwAzRYo3q04fnSMmObwZTXDO5dPkJ1qwcqvdyE8MNeg1Fvn3kOXebn9Bx4Oj/LBYw8Qb0vSPhnakTWxPQEhMDorvJj+AUtIflnrYvFMO3d8Y2N8+/OmSSUfH+Kse4CTf7nIqcglTh45z1f1ATLhEHhewwX0HtH/1nYaRmczfHFxiPxBH53+IoN3X+ZLqxcz3ElwroqqVAHwr0liWT+FR3SeT1zlnuAYZ4x91C52YDoKWSo1VGDbKWSOTtNaTvPZ6CG62gocTU4jpED9TyURhgGahlAKqQQaGhndR9JfIe/TQG982dm2gLdYgMISva8H0NrTnDk0RN9EEXUth7e6ijAMtFSS0n17yR/XeDoxgUSyKF0Kdgjfigu20zwBAJRCViqwUCA87oOFIqpaBaXQ29Jkn+um1OfRf3CKTrPIiAtvjr9M9myGO+dyG2nWPIHryHIZLpQ33fM6Ugy9NMJTyRGeCq5w1pV8vdrP6j8zdI/a1K9cbciEb+T/ErgZXtDgpZbv6TNLQIDXR17FORen53QB5gt4jRroBhomoIQgotlYYn2hlmYjpCdATefXI7ZDNGxb8OVLnPrqb7yZewyAoYFJ5h+uoSXjCNPXqGG2sO068JsdWRZuKsWYFSOUWqBQj7As/PhHoug+Cz0WRQDKrTf0YNcwAblWIXZhGctu43N5Fz175rm/ZYqf8n046RCVrghW3Y+2XG5oNW6YAEqBVPhrBsEli6uTGc6N9uAmoNwraftzjistrchMO9EFhXIc8H7/0m6cAID0UEtFjIkcweEZ4pcqLJxI0nnXPJ/1/4PziQgXAwnik34Muw5SgabBrxklxPp1C4id/LkrTB8c7mPhSJjQc7M8nrnAQ+ExPike49pagomlFuzROOmfJKHpCnrZRtguqlLFm5vf1hiNjcCNKIlu1/AZEaZjcfQ2l0ejYxyw5jgYznEgXmDcn6BAGDfmx0kHcdvDyGQUvx5Ej4TRAgGU44KSNx1iRyOwgaaj+Uxyfz2KfHSZ451XGAjleC02jkRSU5IaClcpcp6ff5cO8/7wA/iyJsFZQcfnWWR+DmnbW7re2Qj8ilKoeh0rlMYph5mcyXA6e4BP1X6+szvJYdFuLtKiQVzzCOkl1sIWXrpOeY9kbn8r5WMd2IN7scJptCv5ja7/mAjcBD2VpPxIL8U7daoDVd448jVPhs/TZfjQblJfi9Lm09Ve3v7XM/T8/fuN+w07StwqsrRK9McZImNhaqeDfND7BO/Fn8SzwElJEn1LvNA9zDORcwBM1eJ8nDuKtbh5l2qagKq51GeyMLN+nklf7kCFAqiAj8q+CLPVFJ/oh9H3rifIlJ1ifLqNVGFzwjQthbag6QhNgNAQpoEIWIhAAMzr31gpsB3kWmXT4bBpEdiC9DZ2SlVzoVLZ1mu3/b/RXYFmsyvQbHYFms2uQLO57QX+CwHdMtH20q7HAAAAAElFTkSuQmCC\" y=\"-80.908079\"/>\n   </g>\n   <g id=\"patch_58\">\n    <path d=\"M 67.445763 128.908079 \nL 67.445763 81.619943 \n\" style=\"fill:none;stroke:#000000;stroke-linecap:square;stroke-linejoin:miter;stroke-width:0.8;\"/>\n   </g>\n   <g id=\"patch_59\">\n    <path d=\"M 114.733898 128.908079 \nL 114.733898 81.619943 \n\" style=\"fill:none;stroke:#000000;stroke-linecap:square;stroke-linejoin:miter;stroke-width:0.8;\"/>\n   </g>\n   <g id=\"patch_60\">\n    <path d=\"M 67.445763 128.908079 \nL 114.733898 128.908079 \n\" style=\"fill:none;stroke:#000000;stroke-linecap:square;stroke-linejoin:miter;stroke-width:0.8;\"/>\n   </g>\n   <g id=\"patch_61\">\n    <path d=\"M 67.445763 81.619943 \nL 114.733898 81.619943 \n\" style=\"fill:none;stroke:#000000;stroke-linecap:square;stroke-linejoin:miter;stroke-width:0.8;\"/>\n   </g>\n   <g id=\"text_12\">\n    <!-- 5 -->\n    <g transform=\"translate(87.272331 75.619943)scale(0.12 -0.12)\">\n     <use xlink:href=\"#DejaVuSans-53\"/>\n    </g>\n   </g>\n  </g>\n  <g id=\"axes_13\">\n   <g id=\"patch_62\">\n    <path d=\"M 124.191525 128.908079 \nL 171.479661 128.908079 \nL 171.479661 81.619943 \nL 124.191525 81.619943 \nz\n\" style=\"fill:#ffffff;\"/>\n   </g>\n   <g clip-path=\"url(#pb22d59f5c2)\">\n    <image height=\"48\" id=\"image8ec62edb58\" transform=\"scale(1 -1)translate(0 -48)\" width=\"48\" x=\"124.191525\" xlink:href=\"data:image/png;base64,\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\" y=\"-80.908079\"/>\n   </g>\n   <g id=\"patch_63\">\n    <path d=\"M 124.191525 128.908079 \nL 124.191525 81.619943 \n\" style=\"fill:none;stroke:#000000;stroke-linecap:square;stroke-linejoin:miter;stroke-width:0.8;\"/>\n   </g>\n   <g id=\"patch_64\">\n    <path d=\"M 171.479661 128.908079 \nL 171.479661 81.619943 \n\" style=\"fill:none;stroke:#000000;stroke-linecap:square;stroke-linejoin:miter;stroke-width:0.8;\"/>\n   </g>\n   <g id=\"patch_65\">\n    <path d=\"M 124.191525 128.908079 \nL 171.479661 128.908079 \n\" style=\"fill:none;stroke:#000000;stroke-linecap:square;stroke-linejoin:miter;stroke-width:0.8;\"/>\n   </g>\n   <g id=\"patch_66\">\n    <path d=\"M 124.191525 81.619943 \nL 171.479661 81.619943 \n\" style=\"fill:none;stroke:#000000;stroke-linecap:square;stroke-linejoin:miter;stroke-width:0.8;\"/>\n   </g>\n   <g id=\"text_13\">\n    <!-- 3 -->\n    <g transform=\"translate(144.018093 75.619943)scale(0.12 -0.12)\">\n     <use xlink:href=\"#DejaVuSans-51\"/>\n    </g>\n   </g>\n  </g>\n  <g id=\"axes_14\">\n   <g id=\"patch_67\">\n    <path d=\"M 180.937288 128.908079 \nL 228.225424 128.908079 \nL 228.225424 81.619943 \nL 180.937288 81.619943 \nz\n\" style=\"fill:#ffffff;\"/>\n   </g>\n   <g clip-path=\"url(#p22916121b9)\">\n    <image height=\"48\" id=\"image009b13b5f3\" transform=\"scale(1 -1)translate(0 -48)\" width=\"48\" x=\"180.937288\" xlink:href=\"data:image/png;base64,\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\" y=\"-80.908079\"/>\n   </g>\n   <g id=\"patch_68\">\n    <path d=\"M 180.937288 128.908079 \nL 180.937288 81.619943 \n\" style=\"fill:none;stroke:#000000;stroke-linecap:square;stroke-linejoin:miter;stroke-width:0.8;\"/>\n   </g>\n   <g id=\"patch_69\">\n    <path d=\"M 228.225424 128.908079 \nL 228.225424 81.619943 \n\" style=\"fill:none;stroke:#000000;stroke-linecap:square;stroke-linejoin:miter;stroke-width:0.8;\"/>\n   </g>\n   <g id=\"patch_70\">\n    <path d=\"M 180.937288 128.908079 \nL 228.225424 128.908079 \n\" style=\"fill:none;stroke:#000000;stroke-linecap:square;stroke-linejoin:miter;stroke-width:0.8;\"/>\n   </g>\n   <g id=\"patch_71\">\n    <path d=\"M 180.937288 81.619943 \nL 228.225424 81.619943 \n\" style=\"fill:none;stroke:#000000;stroke-linecap:square;stroke-linejoin:miter;stroke-width:0.8;\"/>\n   </g>\n   <g id=\"text_14\">\n    <!-- 6 -->\n    <defs>\n     <path d=\"M 33.015625 40.375 \nQ 26.375 40.375 22.484375 35.828125 \nQ 18.609375 31.296875 18.609375 23.390625 \nQ 18.609375 15.53125 22.484375 10.953125 \nQ 26.375 6.390625 33.015625 6.390625 \nQ 39.65625 6.390625 43.53125 10.953125 \nQ 47.40625 15.53125 47.40625 23.390625 \nQ 47.40625 31.296875 43.53125 35.828125 \nQ 39.65625 40.375 33.015625 40.375 \nz\nM 52.59375 71.296875 \nL 52.59375 62.3125 \nQ 48.875 64.0625 45.09375 64.984375 \nQ 41.3125 65.921875 37.59375 65.921875 \nQ 27.828125 65.921875 22.671875 59.328125 \nQ 17.53125 52.734375 16.796875 39.40625 \nQ 19.671875 43.65625 24.015625 45.921875 \nQ 28.375 48.1875 33.59375 48.1875 \nQ 44.578125 48.1875 50.953125 41.515625 \nQ 57.328125 34.859375 57.328125 23.390625 \nQ 57.328125 12.15625 50.6875 5.359375 \nQ 44.046875 -1.421875 33.015625 -1.421875 \nQ 20.359375 -1.421875 13.671875 8.265625 \nQ 6.984375 17.96875 6.984375 36.375 \nQ 6.984375 53.65625 15.1875 63.9375 \nQ 23.390625 74.21875 37.203125 74.21875 \nQ 40.921875 74.21875 44.703125 73.484375 \nQ 48.484375 72.75 52.59375 71.296875 \nz\n\" id=\"DejaVuSans-54\"/>\n    </defs>\n    <g transform=\"translate(200.763856 75.619943)scale(0.12 -0.12)\">\n     <use xlink:href=\"#DejaVuSans-54\"/>\n    </g>\n   </g>\n  </g>\n  <g id=\"axes_15\">\n   <g id=\"patch_72\">\n    <path d=\"M 237.683051 128.908079 \nL 284.971186 128.908079 \nL 284.971186 81.619943 \nL 237.683051 81.619943 \nz\n\" style=\"fill:#ffffff;\"/>\n   </g>\n   <g clip-path=\"url(#p7337cf0340)\">\n    <image height=\"48\" id=\"imagef28f0f1dfc\" transform=\"scale(1 -1)translate(0 -48)\" width=\"48\" x=\"237.683051\" xlink:href=\"data:image/png;base64,\niVBORw0KGgoAAAANSUhEUgAAADAAAAAwCAYAAABXAvmHAAAABHNCSVQICAgIfAhkiAAAArdJREFUaIHtmctOU0EYx3/fzOk5hbbcSim3eImgCe5MTGThTtzpysSX8AF8Bnc+gWvjI5i4NjFRNPGCAkExRKhAS0tbOOfMuCB4SXTlTJsm/T3A95/fmZlvzpkjN+SOpYdR3R7A/9IX6DaB1+oiqCgCwCYJNk3But1y3gSCyTLpbImVexG2qSm+1JReVDGv3zvN8baE0plxavN5lhbecXlhk9ocHBcHned4m4HNm8PI1Rr3y0/ZSgd5GCyx8eEio45zvM3A8YhlrvidghI0lsT4ifJTVYSkGLM4tk5GFG2boR5nkdR9lHsBESQMkYwhr9tohI/Hk6y9nWZwJ3Ye51xAtEbCEJ0xFHUDhWI/yZGtaILDxHWc+02s8jkoFbk0vc3t3DaR+D1qPCwhBYEmq+Ofg99LcmQrFn3YA0vob6w1xik/r6G+7jiv3RGBxGgkTsG4b0MdETAIxAmkPSrgk44IBJJiB0II3HekjggUoyaH5wowMuS8dkcEhoIWzZLG5rLOa3dEYCKs05wSkkLkvLa3Y1KJRYv/59PvQv/CWPFV+g+8vmml1vgsD/SXUPfxKtDTXUjJyQWWFkVsNZKAGPf3yN4fUWoNtWSAqGpRrR74pDzFWCG1hoY94s3+DJPPKrCzi+sXavcf9UN52jNDDGfatOwxj+sXWN0qwV4N22q5jnM/A2a0wMH5kHJ0QN0kPNpYJFwdIK1UXEcBHmbgYL5AY6nBtfwqbQvb2yNEe65TfuFcoD2quH52nTPBPjECjYCg6e8vljsBEVQux9GYcGvsFWUdE1tFpqYIG70gAGAt+ghWjqaoGkXdhGQrQnbX/X3QKe42sbWYVouBHcOTz1eYnqsCUFpuE336hvsT4AS3Xchaxpb32aPIg4m7AMyufcFUa05jfkf6/4m7TF+g2/QFuk1foNv8AISz4O3ODrRJAAAAAElFTkSuQmCC\" y=\"-80.908079\"/>\n   </g>\n   <g id=\"patch_73\">\n    <path d=\"M 237.683051 128.908079 \nL 237.683051 81.619943 \n\" style=\"fill:none;stroke:#000000;stroke-linecap:square;stroke-linejoin:miter;stroke-width:0.8;\"/>\n   </g>\n   <g id=\"patch_74\">\n    <path d=\"M 284.971186 128.908079 \nL 284.971186 81.619943 \n\" style=\"fill:none;stroke:#000000;stroke-linecap:square;stroke-linejoin:miter;stroke-width:0.8;\"/>\n   </g>\n   <g id=\"patch_75\">\n    <path d=\"M 237.683051 128.908079 \nL 284.971186 128.908079 \n\" style=\"fill:none;stroke:#000000;stroke-linecap:square;stroke-linejoin:miter;stroke-width:0.8;\"/>\n   </g>\n   <g id=\"patch_76\">\n    <path d=\"M 237.683051 81.619943 \nL 284.971186 81.619943 \n\" style=\"fill:none;stroke:#000000;stroke-linecap:square;stroke-linejoin:miter;stroke-width:0.8;\"/>\n   </g>\n   <g id=\"text_15\">\n    <!-- 1 -->\n    <g transform=\"translate(257.509619 75.619943)scale(0.12 -0.12)\">\n     <use xlink:href=\"#DejaVuSans-49\"/>\n    </g>\n   </g>\n  </g>\n  <g id=\"axes_16\">\n   <g id=\"patch_77\">\n    <path d=\"M 294.428814 128.908079 \nL 341.716949 128.908079 \nL 341.716949 81.619943 \nL 294.428814 81.619943 \nz\n\" style=\"fill:#ffffff;\"/>\n   </g>\n   <g clip-path=\"url(#pd19f4379da)\">\n    <image height=\"48\" id=\"imagedf689d126b\" transform=\"scale(1 -1)translate(0 -48)\" width=\"48\" x=\"294.428814\" xlink:href=\"data:image/png;base64,\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\" y=\"-80.908079\"/>\n   </g>\n   <g id=\"patch_78\">\n    <path d=\"M 294.428814 128.908079 \nL 294.428814 81.619943 \n\" style=\"fill:none;stroke:#000000;stroke-linecap:square;stroke-linejoin:miter;stroke-width:0.8;\"/>\n   </g>\n   <g id=\"patch_79\">\n    <path d=\"M 341.716949 128.908079 \nL 341.716949 81.619943 \n\" style=\"fill:none;stroke:#000000;stroke-linecap:square;stroke-linejoin:miter;stroke-width:0.8;\"/>\n   </g>\n   <g id=\"patch_80\">\n    <path d=\"M 294.428814 128.908079 \nL 341.716949 128.908079 \n\" style=\"fill:none;stroke:#000000;stroke-linecap:square;stroke-linejoin:miter;stroke-width:0.8;\"/>\n   </g>\n   <g id=\"patch_81\">\n    <path d=\"M 294.428814 81.619943 \nL 341.716949 81.619943 \n\" style=\"fill:none;stroke:#000000;stroke-linecap:square;stroke-linejoin:miter;stroke-width:0.8;\"/>\n   </g>\n   <g id=\"text_16\">\n    <!-- 7 -->\n    <defs>\n     <path d=\"M 8.203125 72.90625 \nL 55.078125 72.90625 \nL 55.078125 68.703125 \nL 28.609375 0 \nL 18.3125 0 \nL 43.21875 64.59375 \nL 8.203125 64.59375 \nz\n\" id=\"DejaVuSans-55\"/>\n    </defs>\n    <g transform=\"translate(314.255381 75.619943)scale(0.12 -0.12)\">\n     <use xlink:href=\"#DejaVuSans-55\"/>\n    </g>\n   </g>\n  </g>\n  <g id=\"axes_17\">\n   <g id=\"patch_82\">\n    <path d=\"M 351.174576 128.908079 \nL 398.462712 128.908079 \nL 398.462712 81.619943 \nL 351.174576 81.619943 \nz\n\" style=\"fill:#ffffff;\"/>\n   </g>\n   <g clip-path=\"url(#p9edc765246)\">\n    <image height=\"48\" id=\"image6126a27531\" transform=\"scale(1 -1)translate(0 -48)\" width=\"48\" x=\"351.174576\" xlink:href=\"data:image/png;base64,\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\" y=\"-80.908079\"/>\n   </g>\n   <g id=\"patch_83\">\n    <path d=\"M 351.174576 128.908079 \nL 351.174576 81.619943 \n\" style=\"fill:none;stroke:#000000;stroke-linecap:square;stroke-linejoin:miter;stroke-width:0.8;\"/>\n   </g>\n   <g id=\"patch_84\">\n    <path d=\"M 398.462712 128.908079 \nL 398.462712 81.619943 \n\" style=\"fill:none;stroke:#000000;stroke-linecap:square;stroke-linejoin:miter;stroke-width:0.8;\"/>\n   </g>\n   <g id=\"patch_85\">\n    <path d=\"M 351.174576 128.908079 \nL 398.462712 128.908079 \n\" style=\"fill:none;stroke:#000000;stroke-linecap:square;stroke-linejoin:miter;stroke-width:0.8;\"/>\n   </g>\n   <g id=\"patch_86\">\n    <path d=\"M 351.174576 81.619943 \nL 398.462712 81.619943 \n\" style=\"fill:none;stroke:#000000;stroke-linecap:square;stroke-linejoin:miter;stroke-width:0.8;\"/>\n   </g>\n   <g id=\"text_17\">\n    <!-- 2 -->\n    <g transform=\"translate(371.001144 75.619943)scale(0.12 -0.12)\">\n     <use xlink:href=\"#DejaVuSans-50\"/>\n    </g>\n   </g>\n  </g>\n  <g id=\"axes_18\">\n   <g id=\"patch_87\">\n    <path d=\"M 407.920339 128.908079 \nL 455.208475 128.908079 \nL 455.208475 81.619943 \nL 407.920339 81.619943 \nz\n\" style=\"fill:#ffffff;\"/>\n   </g>\n   <g clip-path=\"url(#p2daea8fb55)\">\n    <image height=\"48\" id=\"image8db8fa857f\" transform=\"scale(1 -1)translate(0 -48)\" width=\"48\" x=\"407.920339\" xlink:href=\"data:image/png;base64,\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\" y=\"-80.908079\"/>\n   </g>\n   <g id=\"patch_88\">\n    <path d=\"M 407.920339 128.908079 \nL 407.920339 81.619943 \n\" style=\"fill:none;stroke:#000000;stroke-linecap:square;stroke-linejoin:miter;stroke-width:0.8;\"/>\n   </g>\n   <g id=\"patch_89\">\n    <path d=\"M 455.208475 128.908079 \nL 455.208475 81.619943 \n\" style=\"fill:none;stroke:#000000;stroke-linecap:square;stroke-linejoin:miter;stroke-width:0.8;\"/>\n   </g>\n   <g id=\"patch_90\">\n    <path d=\"M 407.920339 128.908079 \nL 455.208475 128.908079 \n\" style=\"fill:none;stroke:#000000;stroke-linecap:square;stroke-linejoin:miter;stroke-width:0.8;\"/>\n   </g>\n   <g id=\"patch_91\">\n    <path d=\"M 407.920339 81.619943 \nL 455.208475 81.619943 \n\" style=\"fill:none;stroke:#000000;stroke-linecap:square;stroke-linejoin:miter;stroke-width:0.8;\"/>\n   </g>\n   <g id=\"text_18\">\n    <!-- 8 -->\n    <defs>\n     <path d=\"M 31.78125 34.625 \nQ 24.75 34.625 20.71875 30.859375 \nQ 16.703125 27.09375 16.703125 20.515625 \nQ 16.703125 13.921875 20.71875 10.15625 \nQ 24.75 6.390625 31.78125 6.390625 \nQ 38.8125 6.390625 42.859375 10.171875 \nQ 46.921875 13.96875 46.921875 20.515625 \nQ 46.921875 27.09375 42.890625 30.859375 \nQ 38.875 34.625 31.78125 34.625 \nz\nM 21.921875 38.8125 \nQ 15.578125 40.375 12.03125 44.71875 \nQ 8.5 49.078125 8.5 55.328125 \nQ 8.5 64.0625 14.71875 69.140625 \nQ 20.953125 74.21875 31.78125 74.21875 \nQ 42.671875 74.21875 48.875 69.140625 \nQ 55.078125 64.0625 55.078125 55.328125 \nQ 55.078125 49.078125 51.53125 44.71875 \nQ 48 40.375 41.703125 38.8125 \nQ 48.828125 37.15625 52.796875 32.3125 \nQ 56.78125 27.484375 56.78125 20.515625 \nQ 56.78125 9.90625 50.3125 4.234375 \nQ 43.84375 -1.421875 31.78125 -1.421875 \nQ 19.734375 -1.421875 13.25 4.234375 \nQ 6.78125 9.90625 6.78125 20.515625 \nQ 6.78125 27.484375 10.78125 32.3125 \nQ 14.796875 37.15625 21.921875 38.8125 \nz\nM 18.3125 54.390625 \nQ 18.3125 48.734375 21.84375 45.5625 \nQ 25.390625 42.390625 31.78125 42.390625 \nQ 38.140625 42.390625 41.71875 45.5625 \nQ 45.3125 48.734375 45.3125 54.390625 \nQ 45.3125 60.0625 41.71875 63.234375 \nQ 38.140625 66.40625 31.78125 66.40625 \nQ 25.390625 66.40625 21.84375 63.234375 \nQ 18.3125 60.0625 18.3125 54.390625 \nz\n\" id=\"DejaVuSans-56\"/>\n    </defs>\n    <g transform=\"translate(427.746907 75.619943)scale(0.12 -0.12)\">\n     <use xlink:href=\"#DejaVuSans-56\"/>\n    </g>\n   </g>\n  </g>\n  <g id=\"axes_19\">\n   <g id=\"patch_92\">\n    <path d=\"M 464.666102 128.908079 \nL 511.954237 128.908079 \nL 511.954237 81.619943 \nL 464.666102 81.619943 \nz\n\" style=\"fill:#ffffff;\"/>\n   </g>\n   <g clip-path=\"url(#pfea692f4aa)\">\n    <image height=\"48\" id=\"imagef001e93566\" transform=\"scale(1 -1)translate(0 -48)\" width=\"48\" x=\"464.666102\" xlink:href=\"data:image/png;base64,\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\" y=\"-80.908079\"/>\n   </g>\n   <g id=\"patch_93\">\n    <path d=\"M 464.666102 128.908079 \nL 464.666102 81.619943 \n\" style=\"fill:none;stroke:#000000;stroke-linecap:square;stroke-linejoin:miter;stroke-width:0.8;\"/>\n   </g>\n   <g id=\"patch_94\">\n    <path d=\"M 511.954237 128.908079 \nL 511.954237 81.619943 \n\" style=\"fill:none;stroke:#000000;stroke-linecap:square;stroke-linejoin:miter;stroke-width:0.8;\"/>\n   </g>\n   <g id=\"patch_95\">\n    <path d=\"M 464.666102 128.908079 \nL 511.954237 128.908079 \n\" style=\"fill:none;stroke:#000000;stroke-linecap:square;stroke-linejoin:miter;stroke-width:0.8;\"/>\n   </g>\n   <g id=\"patch_96\">\n    <path d=\"M 464.666102 81.619943 \nL 511.954237 81.619943 \n\" style=\"fill:none;stroke:#000000;stroke-linecap:square;stroke-linejoin:miter;stroke-width:0.8;\"/>\n   </g>\n   <g id=\"text_19\">\n    <!-- 6 -->\n    <g transform=\"translate(484.492669 75.619943)scale(0.12 -0.12)\">\n     <use xlink:href=\"#DejaVuSans-54\"/>\n    </g>\n   </g>\n  </g>\n  <g id=\"axes_20\">\n   <g id=\"patch_97\">\n    <path d=\"M 521.411864 128.908079 \nL 568.7 128.908079 \nL 568.7 81.619943 \nL 521.411864 81.619943 \nz\n\" style=\"fill:#ffffff;\"/>\n   </g>\n   <g clip-path=\"url(#pfa78d5e67a)\">\n    <image height=\"48\" id=\"image046217a707\" transform=\"scale(1 -1)translate(0 -48)\" width=\"48\" x=\"521.411864\" xlink:href=\"data:image/png;base64,\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\" y=\"-80.908079\"/>\n   </g>\n   <g id=\"patch_98\">\n    <path d=\"M 521.411864 128.908079 \nL 521.411864 81.619943 \n\" style=\"fill:none;stroke:#000000;stroke-linecap:square;stroke-linejoin:miter;stroke-width:0.8;\"/>\n   </g>\n   <g id=\"patch_99\">\n    <path d=\"M 568.7 128.908079 \nL 568.7 81.619943 \n\" style=\"fill:none;stroke:#000000;stroke-linecap:square;stroke-linejoin:miter;stroke-width:0.8;\"/>\n   </g>\n   <g id=\"patch_100\">\n    <path d=\"M 521.411864 128.908079 \nL 568.7 128.908079 \n\" style=\"fill:none;stroke:#000000;stroke-linecap:square;stroke-linejoin:miter;stroke-width:0.8;\"/>\n   </g>\n   <g id=\"patch_101\">\n    <path d=\"M 521.411864 81.619943 \nL 568.7 81.619943 \n\" style=\"fill:none;stroke:#000000;stroke-linecap:square;stroke-linejoin:miter;stroke-width:0.8;\"/>\n   </g>\n   <g id=\"text_20\">\n    <!-- 9 -->\n    <g transform=\"translate(541.238432 75.619943)scale(0.12 -0.12)\">\n     <use xlink:href=\"#DejaVuSans-57\"/>\n    </g>\n   </g>\n  </g>\n </g>\n <defs>\n  <clipPath id=\"p3906840c63\">\n   <rect height=\"47.288136\" width=\"47.288136\" x=\"10.7\" y=\"22.318125\"/>\n  </clipPath>\n  <clipPath id=\"paaaaf47ec2\">\n   <rect height=\"47.288136\" width=\"47.288136\" x=\"67.445763\" y=\"22.318125\"/>\n  </clipPath>\n  <clipPath id=\"p8e0a8daf4f\">\n   <rect height=\"47.288136\" width=\"47.288136\" x=\"124.191525\" y=\"22.318125\"/>\n  </clipPath>\n  <clipPath id=\"pbe7312d5d0\">\n   <rect height=\"47.288136\" width=\"47.288136\" x=\"180.937288\" y=\"22.318125\"/>\n  </clipPath>\n  <clipPath id=\"p133b685cce\">\n   <rect height=\"47.288136\" width=\"47.288136\" x=\"237.683051\" y=\"22.318125\"/>\n  </clipPath>\n  <clipPath id=\"p0bdb6b2243\">\n   <rect height=\"47.288136\" width=\"47.288136\" x=\"294.428814\" y=\"22.318125\"/>\n  </clipPath>\n  <clipPath id=\"p52555f3ffd\">\n   <rect height=\"47.288136\" width=\"47.288136\" x=\"351.174576\" y=\"22.318125\"/>\n  </clipPath>\n  <clipPath id=\"pa3c9b50682\">\n   <rect height=\"47.288136\" width=\"47.288136\" x=\"407.920339\" y=\"22.318125\"/>\n  </clipPath>\n  <clipPath id=\"p7cf752cafb\">\n   <rect height=\"47.288136\" width=\"47.288136\" x=\"464.666102\" y=\"22.318125\"/>\n  </clipPath>\n  <clipPath id=\"p14dad5d8c2\">\n   <rect height=\"47.288136\" width=\"47.288136\" x=\"521.411864\" y=\"22.318125\"/>\n  </clipPath>\n  <clipPath id=\"pa8f67ba0cc\">\n   <rect height=\"47.288136\" width=\"47.288136\" x=\"10.7\" y=\"81.619943\"/>\n  </clipPath>\n  <clipPath id=\"pb228350dc3\">\n   <rect height=\"47.288136\" width=\"47.288136\" x=\"67.445763\" y=\"81.619943\"/>\n  </clipPath>\n  <clipPath id=\"pb22d59f5c2\">\n   <rect height=\"47.288136\" width=\"47.288136\" x=\"124.191525\" y=\"81.619943\"/>\n  </clipPath>\n  <clipPath id=\"p22916121b9\">\n   <rect height=\"47.288136\" width=\"47.288136\" x=\"180.937288\" y=\"81.619943\"/>\n  </clipPath>\n  <clipPath id=\"p7337cf0340\">\n   <rect height=\"47.288136\" width=\"47.288136\" x=\"237.683051\" y=\"81.619943\"/>\n  </clipPath>\n  <clipPath id=\"pd19f4379da\">\n   <rect height=\"47.288136\" width=\"47.288136\" x=\"294.428814\" y=\"81.619943\"/>\n  </clipPath>\n  <clipPath id=\"p9edc765246\">\n   <rect height=\"47.288136\" width=\"47.288136\" x=\"351.174576\" y=\"81.619943\"/>\n  </clipPath>\n  <clipPath id=\"p2daea8fb55\">\n   <rect height=\"47.288136\" width=\"47.288136\" x=\"407.920339\" y=\"81.619943\"/>\n  </clipPath>\n  <clipPath id=\"pfea692f4aa\">\n   <rect height=\"47.288136\" width=\"47.288136\" x=\"464.666102\" y=\"81.619943\"/>\n  </clipPath>\n  <clipPath id=\"pfa78d5e67a\">\n   <rect height=\"47.288136\" width=\"47.288136\" x=\"521.411864\" y=\"81.619943\"/>\n  </clipPath>\n </defs>\n</svg>\n"
          },
          "metadata": {
            "needs_background": "light"
          }
        }
      ]
    },
    {
      "cell_type": "markdown",
      "source": [
        "Reading a Minibatch"
      ],
      "metadata": {
        "id": "Ck_geeIminYr"
      }
    },
    {
      "cell_type": "markdown",
      "source": [
        "at each iteration, a data iterator reads a minibatch of data with size batch_size each time. We also randomly shuffle the examples for the\n",
        "training data iterator.\n"
      ],
      "metadata": {
        "id": "Chx8SJANjHCY"
      }
    },
    {
      "cell_type": "code",
      "source": [
        "batch_size = 256\n",
        "num_workers = 4\n",
        "\n",
        "# num_workers는 현재 작업하고 있는 환경 내에서 어떤 프로세스에 데이터를 불러올 것인지 조정하는 파라미터입니다.\n",
        "# 0이 Default값이며, 0은 Main Process에 데이터를 불러오는 것을 의미합니다.\n",
        "# 만약 Multi-Processing을 이용해서 데이터를 로드할 경우 Process의 개수에 맞게 할당하여 인자값을 조절하기도 합니다.\n",
        "\n",
        "train_iter = data.DataLoader(mnist_train, batch_size = batch_size, shuffle = True, num_workers=num_workers)"
      ],
      "metadata": {
        "id": "_y1pcjX8i7pR",
        "outputId": "be0b665d-e7b2-4bfd-f750-c771142ca886",
        "colab": {
          "base_uri": "https://localhost:8080/"
        }
      },
      "execution_count": 119,
      "outputs": [
        {
          "output_type": "stream",
          "name": "stderr",
          "text": [
            "/usr/local/lib/python3.7/dist-packages/torch/utils/data/dataloader.py:560: UserWarning: This DataLoader will create 4 worker processes in total. Our suggested max number of worker in current system is 2, which is smaller than what this DataLoader is going to create. Please be aware that excessive worker creation might get DataLoader running slow or even freeze, lower the worker number to avoid potential slowness/freeze if necessary.\n",
            "  cpuset_checked))\n"
          ]
        }
      ]
    },
    {
      "cell_type": "markdown",
      "source": [
        "Putting all things together"
      ],
      "metadata": {
        "id": "Lxv-DS-c8laM"
      }
    },
    {
      "cell_type": "code",
      "source": [
        "def load_data_mnist(batch_size, resize = None):\n",
        "  \"\"\"Download the MNIST dataset and ten load it to memory\"\"\"\n",
        "  trans = [transforms.ToTensor()] # list of transform objects - transforms.CenterCrop(10) 이런거 추가해도 됨\n",
        "  if resize : \n",
        "    trans.insert(0, transforms.Resize(resize))\n",
        "\n",
        "  trans = transforms.Compose(trans) # torchvision.transforms.Compose(list of Transform objects)\n",
        "\n",
        "  mnist_train = torchvision.datasets.MNIST(root = \"../data\", train=True, transform = trans, download=True)\n",
        "  mnist_test = torchvision.datasets.MNIST(root = \"../data\", train=False, transform = trans, download=True)\n",
        "\n",
        "  train_loader = torch.utils.data.DataLoader(mnist_train, batch_size, shuffle = True, num_workers = 2 )\n",
        "  test_loader = torch.utils.data.DataLoader(mnist_test, batch_size, shuffle = False, num_workers = 2 )\n",
        "  return train_loader, test_loader"
      ],
      "metadata": {
        "id": "c3oQOfoJi7mJ"
      },
      "execution_count": 120,
      "outputs": []
    },
    {
      "cell_type": "code",
      "source": [
        "train_iter, test_iter = load_data_mnist(256,resize=28)"
      ],
      "metadata": {
        "id": "pnCKbesqi63j"
      },
      "execution_count": 121,
      "outputs": []
    },
    {
      "cell_type": "code",
      "source": [
        "for X,y in train_iter:\n",
        "  print(X.shape , X.dtype, y.shape, y.dtype)\n",
        "  break"
      ],
      "metadata": {
        "colab": {
          "base_uri": "https://localhost:8080/"
        },
        "id": "pO9_4H0Hi6py",
        "outputId": "4eb12394-cdec-4655-d51e-9543b3aa77ef"
      },
      "execution_count": 122,
      "outputs": [
        {
          "output_type": "stream",
          "name": "stdout",
          "text": [
            "torch.Size([256, 1, 28, 28]) torch.float32 torch.Size([256]) torch.int64\n"
          ]
        }
      ]
    },
    {
      "cell_type": "markdown",
      "source": [
        "## 3.6 Implementation of Softmax Regression from scratch"
      ],
      "metadata": {
        "id": "6CjqxRzJ7aia"
      }
    },
    {
      "cell_type": "markdown",
      "source": [
        "Initailizing Model Parameters"
      ],
      "metadata": {
        "id": "hbU1NYWK7f5Q"
      }
    },
    {
      "cell_type": "markdown",
      "source": [
        "we will flatten each image,\n",
        "treating them as vectors of length 784.(28*28)\n",
        "for now we treat each pixel location as just another feature."
      ],
      "metadata": {
        "id": "baQem_rpGfZx"
      }
    },
    {
      "cell_type": "code",
      "source": [
        "input_dim = 784\n",
        "output_dim = 10\n",
        "\n",
        "W = torch.normal(0, 0.01, size=(input_dim,output_dim), requires_grad= True )  #텐서의 모든 연산에 대하여 추적을 시작\n",
        "b = torch.zeros(output_dim, requires_grad= True)"
      ],
      "metadata": {
        "id": "TbLF5RH271Zo"
      },
      "execution_count": 123,
      "outputs": []
    },
    {
      "cell_type": "markdown",
      "source": [
        "Defining the Softmax Operation"
      ],
      "metadata": {
        "id": "w0c4nwApKJnC"
      }
    },
    {
      "cell_type": "code",
      "source": [
        "#sum 함수 작동 방식 이해해보자는 그런 코두ㅡ\n",
        "X = torch.tensor([[1. ,2. ,3. ],[4. ,5. ,6. ]])\n",
        "X.sum(0, keepdim= True), X.sum(1,keepdim = True)"
      ],
      "metadata": {
        "colab": {
          "base_uri": "https://localhost:8080/"
        },
        "id": "-UvCjpaj7Ymq",
        "outputId": "91f40fbf-3ba6-4c48-c68e-da4b1c733215"
      },
      "execution_count": 124,
      "outputs": [
        {
          "output_type": "execute_result",
          "data": {
            "text/plain": [
              "(tensor([[5., 7., 9.]]), tensor([[ 6.],\n",
              "         [15.]]))"
            ]
          },
          "metadata": {},
          "execution_count": 124
        }
      ]
    },
    {
      "cell_type": "code",
      "source": [
        "def softmax(X_ij):\n",
        "    X_ij_exp = torch.exp(X_ij)\n",
        "    partition = X_ij_exp.sum(1, keepdim=True) # axis 1 : 같은 행끼리 합 \n",
        "    return X_ij_exp / partition  "
      ],
      "metadata": {
        "id": "eJURM1p77YkJ"
      },
      "execution_count": 125,
      "outputs": []
    },
    {
      "cell_type": "code",
      "source": [
        "X = torch.normal(0, 1, (2, 5))\n",
        "X_prob = softmax(X)\n",
        "X_prob, X_prob.sum(1)"
      ],
      "metadata": {
        "colab": {
          "base_uri": "https://localhost:8080/"
        },
        "id": "hMxasu4zRbK9",
        "outputId": "6cdf5ae9-65f8-4bfc-ced7-262d87d63bf5"
      },
      "execution_count": 126,
      "outputs": [
        {
          "output_type": "execute_result",
          "data": {
            "text/plain": [
              "(tensor([[0.1568, 0.4759, 0.0265, 0.2180, 0.1228],\n",
              "         [0.1878, 0.1449, 0.1843, 0.1239, 0.3590]]), tensor([1.0000, 1.0000]))"
            ]
          },
          "metadata": {},
          "execution_count": 126
        }
      ]
    },
    {
      "cell_type": "markdown",
      "source": [
        "Defining the Model"
      ],
      "metadata": {
        "id": "gKR9aGx_S6Pm"
      }
    },
    {
      "cell_type": "code",
      "source": [
        "def net(X):\n",
        "  logit = torch.matmul(X.reshape((-1, W.shape[0])), W) + b  # 행은 자동, 열만 W.shape[0]으로 지정\n",
        "  return softmax(logit)  \n"
      ],
      "metadata": {
        "id": "OaaLeBBj7YdR"
      },
      "execution_count": 127,
      "outputs": []
    },
    {
      "cell_type": "markdown",
      "source": [
        "Defining the Loss Function"
      ],
      "metadata": {
        "id": "TY9cUjjSUEqH"
      }
    },
    {
      "cell_type": "code",
      "source": [
        "y = torch.tensor([0, 2])\n",
        "y_hat = torch.tensor([[0.1, 0.3, 0.6], [0.3, 0.2, 0.5]])  # predicted probabilities of each class\n",
        "y_hat[[0, 1], y]\n",
        "\n",
        "# Using y as the indices of the probabilities in y_hat\n",
        "# we pick the probability of the first class in the first example = (0,1) \n",
        "# and the probability of the third class in the second example. = ()"
      ],
      "metadata": {
        "id": "4M5VGrzv7Yaw",
        "colab": {
          "base_uri": "https://localhost:8080/"
        },
        "outputId": "9fb5fbfb-dfe6-43e4-d8f9-3093ec86545c"
      },
      "execution_count": 128,
      "outputs": [
        {
          "output_type": "execute_result",
          "data": {
            "text/plain": [
              "tensor([0.1000, 0.5000])"
            ]
          },
          "metadata": {},
          "execution_count": 128
        }
      ]
    },
    {
      "cell_type": "code",
      "source": [
        "def cross_entropy(y_hat, y):\n",
        "  res = y_hat[range(len(y_hat)), y]\n",
        "  return - torch.log( res )\n",
        "\n",
        "\n",
        "cross_entropy(y_hat, y)"
      ],
      "metadata": {
        "colab": {
          "base_uri": "https://localhost:8080/"
        },
        "id": "h6Z40YWfUatz",
        "outputId": "19618a88-1a40-4ab7-9b98-f9c59b656267"
      },
      "execution_count": 129,
      "outputs": [
        {
          "output_type": "execute_result",
          "data": {
            "text/plain": [
              "tensor([2.3026, 0.6931])"
            ]
          },
          "metadata": {},
          "execution_count": 129
        }
      ]
    },
    {
      "cell_type": "markdown",
      "source": [
        "Classification Accuracy"
      ],
      "metadata": {
        "id": "by3R8zPfUc9D"
      }
    },
    {
      "cell_type": "code",
      "source": [
        "def accuracy(y_hat, y):  \n",
        "    \"\"\"Compute the number of correct predictions.\"\"\"\n",
        "    if len(y_hat.shape) > 1 and y_hat.shape[1] > 1:\n",
        "        y_hat = y_hat.argmax(axis=1)\n",
        "    cmp = y_hat.type(y.dtype) == y\n",
        "    return float(cmp.type(y.dtype).sum())"
      ],
      "metadata": {
        "id": "sY2e4AQyUgwi"
      },
      "execution_count": 130,
      "outputs": []
    },
    {
      "cell_type": "code",
      "source": [
        "accuracy(y_hat, y) / len(y)"
      ],
      "metadata": {
        "colab": {
          "base_uri": "https://localhost:8080/"
        },
        "id": "NvB9LptTUlJR",
        "outputId": "6c8e05e1-d042-4572-a2c1-cb2c0aa92cb9"
      },
      "execution_count": 131,
      "outputs": [
        {
          "output_type": "execute_result",
          "data": {
            "text/plain": [
              "0.5"
            ]
          },
          "metadata": {},
          "execution_count": 131
        }
      ]
    },
    {
      "cell_type": "code",
      "source": [
        "def evaluate_accuracy(net, data_iter):  \n",
        "    \"\"\"Compute the accuracy for a model on a dataset.\"\"\"\n",
        "    if isinstance(net, torch.nn.Module):\n",
        "        net.eval()  # Set the model to evaluation mode\n",
        "    metric = Accumulator(2)  # No. of correct predictions, no. of predictions\n",
        "    with torch.no_grad():\n",
        "        for X, y in data_iter:\n",
        "            metric.add(accuracy(net(X), y), y.numel())\n",
        "    return metric[0] / metric[1]"
      ],
      "metadata": {
        "id": "ssV0qKWjUlGa"
      },
      "execution_count": 132,
      "outputs": []
    },
    {
      "cell_type": "code",
      "source": [
        "class Accumulator: \n",
        "    \"\"\"For accumulating sums over `n` variables.\"\"\"\n",
        "    def __init__(self, n):\n",
        "        self.data = [0.0] * n\n",
        "    def add(self, *args):\n",
        "        self.data = [a + float(b) for a, b in zip(self.data, args)]\n",
        "    def reset(self):\n",
        "        self.data = [0.0] * len(self.data)\n",
        "    def __getitem__(self, idx):\n",
        "        return self.data[idx]"
      ],
      "metadata": {
        "id": "mFclqg_WUlBf"
      },
      "execution_count": 133,
      "outputs": []
    },
    {
      "cell_type": "code",
      "source": [
        "evaluate_accuracy(net, test_iter)"
      ],
      "metadata": {
        "colab": {
          "base_uri": "https://localhost:8080/"
        },
        "id": "B-uuDh9EU1Qz",
        "outputId": "594c000c-693e-42ff-93f9-9a5eef9686cc"
      },
      "execution_count": 134,
      "outputs": [
        {
          "output_type": "execute_result",
          "data": {
            "text/plain": [
              "0.1169"
            ]
          },
          "metadata": {},
          "execution_count": 134
        }
      ]
    },
    {
      "cell_type": "markdown",
      "source": [
        "Training"
      ],
      "metadata": {
        "id": "2TaBbRBQU6A-"
      }
    },
    {
      "cell_type": "code",
      "source": [
        "def train_epoch_ch3(net, train_iter, loss, updater):\n",
        "  if isinstance(net, torch.nn.Module):\n",
        "    net.train()\n",
        "  # Sum of training loss, sum of training accuracy, no. of examples\n",
        "  metric = Accumulator(3)\n",
        "  for X, y in train_iter:\n",
        "      # Compute gradients and update parameters\n",
        "      y_hat = net(X)\n",
        "      l = loss(y_hat, y)\n",
        "      if isinstance(updater, torch.optim.Optimizer):\n",
        "        # Using PyTorch in-built optimizer & loss criterion\n",
        "          updater.zero_grad()\n",
        "          l.mean().backward()\n",
        "          updater.step()\n",
        "      else:\n",
        "        # Using custom built optimizer & loss criterion\n",
        "          l.sum().backward()\n",
        "          updater(X.shape[0])\n",
        "      metric.add(float(l.sum()), accuracy(y_hat, y), y.numel())\n",
        "# Return training loss and training accuracy\n",
        "  return metric[0] / metric[2], metric[1] / metric[2]"
      ],
      "metadata": {
        "id": "liCDxmyNU3oF"
      },
      "execution_count": 135,
      "outputs": []
    },
    {
      "cell_type": "code",
      "source": [
        "class Animator:  \n",
        "    \"\"\"For plotting data in animation.\"\"\"\n",
        "    def __init__(self, xlabel=None, ylabel=None, legend=None, xlim=None,\n",
        "                 ylim=None, xscale='linear', yscale='linear',\n",
        "                 fmts=('-', 'm--', 'g-.', 'r:'), nrows=1, ncols=1,\n",
        "                 figsize=(3.5, 2.5)):\n",
        "        # Incrementally plot multiple lines\n",
        "        if legend is None:\n",
        "            legend = []\n",
        "        d2l.use_svg_display()\n",
        "        self.fig, self.axes = d2l.plt.subplots(nrows, ncols, figsize=figsize)\n",
        "        if nrows * ncols == 1:\n",
        "            self.axes = [self.axes, ]\n",
        "        # Use a lambda function to capture arguments\n",
        "        self.config_axes = lambda: d2l.set_axes(\n",
        "            self.axes[0], xlabel, ylabel, xlim, ylim, xscale, yscale, legend)\n",
        "        self.X, self.Y, self.fmts = None, None, fmts\n",
        "    def add(self, x, y):\n",
        "        # Add multiple data points into the figure\n",
        "        if not hasattr(y, \"__len__\"):\n",
        "            y = [y]\n",
        "        n = len(y)\n",
        "        if not hasattr(x, \"__len__\"):\n",
        "            x = [x] * n\n",
        "        if not self.X:\n",
        "            self.X = [[] for _ in range(n)]\n",
        "        if not self.Y:\n",
        "            self.Y = [[] for _ in range(n)]\n",
        "        for i, (a, b) in enumerate(zip(x, y)):\n",
        "              if a is not None and b is not None:\n",
        "                self.X[i].append(a)\n",
        "                self.Y[i].append(b)\n",
        "\n",
        "        self.axes[0].cla()\n",
        "        for x, y, fmt in zip(self.X, self.Y, self.fmts):\n",
        "          self.axes[0].plot(x, y, fmt)\n",
        "        self.config_axes()\n",
        "        display.display(self.fig)\n",
        "        display.clear_output(wait=True)"
      ],
      "metadata": {
        "id": "ktio7m-zU3hD"
      },
      "execution_count": 136,
      "outputs": []
    },
    {
      "cell_type": "code",
      "source": [
        "def train_ch3(net, train_iter, test_iter, loss, num_epochs, updater):  \n",
        "    \"\"\"Train a model (defined in Chapter 3).\"\"\"\n",
        "    animator = Animator(xlabel='epoch', xlim=[1, num_epochs], ylim=[0.3, 0.9],\n",
        "                        legend=['train loss', 'train acc', 'test acc'])\n",
        "    for epoch in range(num_epochs):\n",
        "        train_metrics = train_epoch_ch3(net, train_iter, loss, updater)\n",
        "        test_acc = evaluate_accuracy(net, test_iter)\n",
        "        animator.add(epoch + 1, train_metrics + (test_acc,))\n",
        "    train_loss, train_acc = train_metrics\n",
        "    assert train_loss < 0.5, train_loss\n",
        "    assert train_acc <= 1 and train_acc > 0.7, train_acc\n",
        "    assert test_acc <= 1 and test_acc > 0.7, test_acc"
      ],
      "metadata": {
        "id": "y_RrIeLRU3et"
      },
      "execution_count": 137,
      "outputs": []
    },
    {
      "cell_type": "code",
      "source": [
        "lr = 0.1\n",
        "def updater(batch_size):\n",
        "    return d2l.sgd([W, b], lr, batch_size)"
      ],
      "metadata": {
        "id": "RCH5aOIyU3bm"
      },
      "execution_count": 138,
      "outputs": []
    },
    {
      "cell_type": "markdown",
      "source": [
        "## 3.7 Using torch function"
      ],
      "metadata": {
        "id": "MOdv9-htQPe5"
      }
    },
    {
      "cell_type": "code",
      "source": [
        "import torch\n",
        "from torch import nn\n",
        "from d2l import torch as d2l\n",
        "from torchvision.datasets import MNIST\n",
        "import torchvision.transforms as transforms"
      ],
      "metadata": {
        "id": "r5wvsbKqOYhO"
      },
      "execution_count": 139,
      "outputs": []
    },
    {
      "cell_type": "code",
      "source": [
        "batch_size = 256\n",
        "\n",
        "# download path 정의\n",
        "download_root = './MNIST_DATASET'\n",
        "\n",
        "mnist_transform = transforms.ToTensor()\n",
        " \n",
        "\n",
        "train_dataset = MNIST(download_root, transform=mnist_transform, train=True, download=True)\n",
        "test_dataset = MNIST(download_root, transform=mnist_transform, train=False, download=True)\n",
        "train_iter = torch.utils.data.DataLoader(dataset=train_dataset, batch_size=batch_size,shuffle=True)\n",
        "test_iter = torch.utils.data.DataLoader(dataset=test_dataset, batch_size=batch_size,shuffle=True)\n"
      ],
      "metadata": {
        "id": "77ptJ8HCObxg"
      },
      "execution_count": 147,
      "outputs": []
    },
    {
      "cell_type": "code",
      "source": [
        "net = nn.Sequential(nn.Flatten(), nn.Linear(784, 10))\n",
        "\n",
        "def init_weights(m):\n",
        "    if type(m) == nn.Linear:\n",
        "        nn.init.normal_(m.weight, std=0.01)\n",
        "\n",
        "net.apply(init_weights);"
      ],
      "metadata": {
        "id": "9T1lK6FpOU3V"
      },
      "execution_count": 148,
      "outputs": []
    },
    {
      "cell_type": "code",
      "source": [
        "loss = nn.CrossEntropyLoss(reduction='none')"
      ],
      "metadata": {
        "id": "AlY77Mj-ORP0"
      },
      "execution_count": 149,
      "outputs": []
    },
    {
      "cell_type": "code",
      "source": [
        "trainer = torch.optim.SGD(net.parameters(), lr=0.1)"
      ],
      "metadata": {
        "id": "9s7uUfLlOPEf"
      },
      "execution_count": 150,
      "outputs": []
    },
    {
      "cell_type": "code",
      "source": [
        "num_epochs = 10\n",
        "d2l.train_ch3(net, train_iter, test_iter, loss, num_epochs, trainer)"
      ],
      "metadata": {
        "colab": {
          "base_uri": "https://localhost:8080/",
          "height": 263
        },
        "id": "90XO3thvOHFi",
        "outputId": "1d509822-acaf-4f4e-9a52-959d3f5b2e19"
      },
      "execution_count": 151,
      "outputs": [
        {
          "output_type": "display_data",
          "data": {
            "text/plain": [
              "<Figure size 252x180 with 1 Axes>"
            ],
            "image/svg+xml": "<?xml version=\"1.0\" encoding=\"utf-8\" standalone=\"no\"?>\n<!DOCTYPE svg PUBLIC \"-//W3C//DTD SVG 1.1//EN\"\n  \"http://www.w3.org/Graphics/SVG/1.1/DTD/svg11.dtd\">\n<!-- Created with matplotlib (https://matplotlib.org/) -->\n<svg height=\"180.65625pt\" version=\"1.1\" viewBox=\"0 0 238.965625 180.65625\" width=\"238.965625pt\" xmlns=\"http://www.w3.org/2000/svg\" xmlns:xlink=\"http://www.w3.org/1999/xlink\">\n <defs>\n  <style type=\"text/css\">\n*{stroke-linecap:butt;stroke-linejoin:round;}\n  </style>\n </defs>\n <g id=\"figure_1\">\n  <g id=\"patch_1\">\n   <path d=\"M 0 180.65625 \nL 238.965625 180.65625 \nL 238.965625 0 \nL 0 0 \nz\n\" style=\"fill:none;\"/>\n  </g>\n  <g id=\"axes_1\">\n   <g id=\"patch_2\">\n    <path d=\"M 30.103125 143.1 \nL 225.403125 143.1 \nL 225.403125 7.2 \nL 30.103125 7.2 \nz\n\" style=\"fill:#ffffff;\"/>\n   </g>\n   <g id=\"matplotlib.axis_1\">\n    <g id=\"xtick_1\">\n     <g id=\"line2d_1\">\n      <path clip-path=\"url(#p2212f3fc99)\" d=\"M 51.803125 143.1 \nL 51.803125 7.2 \n\" style=\"fill:none;stroke:#b0b0b0;stroke-linecap:square;stroke-width:0.8;\"/>\n     </g>\n     <g id=\"line2d_2\">\n      <defs>\n       <path d=\"M 0 0 \nL 0 3.5 \n\" id=\"m31753a5318\" style=\"stroke:#000000;stroke-width:0.8;\"/>\n      </defs>\n      <g>\n       <use style=\"stroke:#000000;stroke-width:0.8;\" x=\"51.803125\" xlink:href=\"#m31753a5318\" y=\"143.1\"/>\n      </g>\n     </g>\n     <g id=\"text_1\">\n      <!-- 2 -->\n      <defs>\n       <path d=\"M 19.1875 8.296875 \nL 53.609375 8.296875 \nL 53.609375 0 \nL 7.328125 0 \nL 7.328125 8.296875 \nQ 12.9375 14.109375 22.625 23.890625 \nQ 32.328125 33.6875 34.8125 36.53125 \nQ 39.546875 41.84375 41.421875 45.53125 \nQ 43.3125 49.21875 43.3125 52.78125 \nQ 43.3125 58.59375 39.234375 62.25 \nQ 35.15625 65.921875 28.609375 65.921875 \nQ 23.96875 65.921875 18.8125 64.3125 \nQ 13.671875 62.703125 7.8125 59.421875 \nL 7.8125 69.390625 \nQ 13.765625 71.78125 18.9375 73 \nQ 24.125 74.21875 28.421875 74.21875 \nQ 39.75 74.21875 46.484375 68.546875 \nQ 53.21875 62.890625 53.21875 53.421875 \nQ 53.21875 48.921875 51.53125 44.890625 \nQ 49.859375 40.875 45.40625 35.40625 \nQ 44.1875 33.984375 37.640625 27.21875 \nQ 31.109375 20.453125 19.1875 8.296875 \nz\n\" id=\"DejaVuSans-50\"/>\n      </defs>\n      <g transform=\"translate(48.621875 157.698438)scale(0.1 -0.1)\">\n       <use xlink:href=\"#DejaVuSans-50\"/>\n      </g>\n     </g>\n    </g>\n    <g id=\"xtick_2\">\n     <g id=\"line2d_3\">\n      <path clip-path=\"url(#p2212f3fc99)\" d=\"M 95.203125 143.1 \nL 95.203125 7.2 \n\" style=\"fill:none;stroke:#b0b0b0;stroke-linecap:square;stroke-width:0.8;\"/>\n     </g>\n     <g id=\"line2d_4\">\n      <g>\n       <use style=\"stroke:#000000;stroke-width:0.8;\" x=\"95.203125\" xlink:href=\"#m31753a5318\" y=\"143.1\"/>\n      </g>\n     </g>\n     <g id=\"text_2\">\n      <!-- 4 -->\n      <defs>\n       <path d=\"M 37.796875 64.3125 \nL 12.890625 25.390625 \nL 37.796875 25.390625 \nz\nM 35.203125 72.90625 \nL 47.609375 72.90625 \nL 47.609375 25.390625 \nL 58.015625 25.390625 \nL 58.015625 17.1875 \nL 47.609375 17.1875 \nL 47.609375 0 \nL 37.796875 0 \nL 37.796875 17.1875 \nL 4.890625 17.1875 \nL 4.890625 26.703125 \nz\n\" id=\"DejaVuSans-52\"/>\n      </defs>\n      <g transform=\"translate(92.021875 157.698438)scale(0.1 -0.1)\">\n       <use xlink:href=\"#DejaVuSans-52\"/>\n      </g>\n     </g>\n    </g>\n    <g id=\"xtick_3\">\n     <g id=\"line2d_5\">\n      <path clip-path=\"url(#p2212f3fc99)\" d=\"M 138.603125 143.1 \nL 138.603125 7.2 \n\" style=\"fill:none;stroke:#b0b0b0;stroke-linecap:square;stroke-width:0.8;\"/>\n     </g>\n     <g id=\"line2d_6\">\n      <g>\n       <use style=\"stroke:#000000;stroke-width:0.8;\" x=\"138.603125\" xlink:href=\"#m31753a5318\" y=\"143.1\"/>\n      </g>\n     </g>\n     <g id=\"text_3\">\n      <!-- 6 -->\n      <defs>\n       <path d=\"M 33.015625 40.375 \nQ 26.375 40.375 22.484375 35.828125 \nQ 18.609375 31.296875 18.609375 23.390625 \nQ 18.609375 15.53125 22.484375 10.953125 \nQ 26.375 6.390625 33.015625 6.390625 \nQ 39.65625 6.390625 43.53125 10.953125 \nQ 47.40625 15.53125 47.40625 23.390625 \nQ 47.40625 31.296875 43.53125 35.828125 \nQ 39.65625 40.375 33.015625 40.375 \nz\nM 52.59375 71.296875 \nL 52.59375 62.3125 \nQ 48.875 64.0625 45.09375 64.984375 \nQ 41.3125 65.921875 37.59375 65.921875 \nQ 27.828125 65.921875 22.671875 59.328125 \nQ 17.53125 52.734375 16.796875 39.40625 \nQ 19.671875 43.65625 24.015625 45.921875 \nQ 28.375 48.1875 33.59375 48.1875 \nQ 44.578125 48.1875 50.953125 41.515625 \nQ 57.328125 34.859375 57.328125 23.390625 \nQ 57.328125 12.15625 50.6875 5.359375 \nQ 44.046875 -1.421875 33.015625 -1.421875 \nQ 20.359375 -1.421875 13.671875 8.265625 \nQ 6.984375 17.96875 6.984375 36.375 \nQ 6.984375 53.65625 15.1875 63.9375 \nQ 23.390625 74.21875 37.203125 74.21875 \nQ 40.921875 74.21875 44.703125 73.484375 \nQ 48.484375 72.75 52.59375 71.296875 \nz\n\" id=\"DejaVuSans-54\"/>\n      </defs>\n      <g transform=\"translate(135.421875 157.698438)scale(0.1 -0.1)\">\n       <use xlink:href=\"#DejaVuSans-54\"/>\n      </g>\n     </g>\n    </g>\n    <g id=\"xtick_4\">\n     <g id=\"line2d_7\">\n      <path clip-path=\"url(#p2212f3fc99)\" d=\"M 182.003125 143.1 \nL 182.003125 7.2 \n\" style=\"fill:none;stroke:#b0b0b0;stroke-linecap:square;stroke-width:0.8;\"/>\n     </g>\n     <g id=\"line2d_8\">\n      <g>\n       <use style=\"stroke:#000000;stroke-width:0.8;\" x=\"182.003125\" xlink:href=\"#m31753a5318\" y=\"143.1\"/>\n      </g>\n     </g>\n     <g id=\"text_4\">\n      <!-- 8 -->\n      <defs>\n       <path d=\"M 31.78125 34.625 \nQ 24.75 34.625 20.71875 30.859375 \nQ 16.703125 27.09375 16.703125 20.515625 \nQ 16.703125 13.921875 20.71875 10.15625 \nQ 24.75 6.390625 31.78125 6.390625 \nQ 38.8125 6.390625 42.859375 10.171875 \nQ 46.921875 13.96875 46.921875 20.515625 \nQ 46.921875 27.09375 42.890625 30.859375 \nQ 38.875 34.625 31.78125 34.625 \nz\nM 21.921875 38.8125 \nQ 15.578125 40.375 12.03125 44.71875 \nQ 8.5 49.078125 8.5 55.328125 \nQ 8.5 64.0625 14.71875 69.140625 \nQ 20.953125 74.21875 31.78125 74.21875 \nQ 42.671875 74.21875 48.875 69.140625 \nQ 55.078125 64.0625 55.078125 55.328125 \nQ 55.078125 49.078125 51.53125 44.71875 \nQ 48 40.375 41.703125 38.8125 \nQ 48.828125 37.15625 52.796875 32.3125 \nQ 56.78125 27.484375 56.78125 20.515625 \nQ 56.78125 9.90625 50.3125 4.234375 \nQ 43.84375 -1.421875 31.78125 -1.421875 \nQ 19.734375 -1.421875 13.25 4.234375 \nQ 6.78125 9.90625 6.78125 20.515625 \nQ 6.78125 27.484375 10.78125 32.3125 \nQ 14.796875 37.15625 21.921875 38.8125 \nz\nM 18.3125 54.390625 \nQ 18.3125 48.734375 21.84375 45.5625 \nQ 25.390625 42.390625 31.78125 42.390625 \nQ 38.140625 42.390625 41.71875 45.5625 \nQ 45.3125 48.734375 45.3125 54.390625 \nQ 45.3125 60.0625 41.71875 63.234375 \nQ 38.140625 66.40625 31.78125 66.40625 \nQ 25.390625 66.40625 21.84375 63.234375 \nQ 18.3125 60.0625 18.3125 54.390625 \nz\n\" id=\"DejaVuSans-56\"/>\n      </defs>\n      <g transform=\"translate(178.821875 157.698438)scale(0.1 -0.1)\">\n       <use xlink:href=\"#DejaVuSans-56\"/>\n      </g>\n     </g>\n    </g>\n    <g id=\"xtick_5\">\n     <g id=\"line2d_9\">\n      <path clip-path=\"url(#p2212f3fc99)\" d=\"M 225.403125 143.1 \nL 225.403125 7.2 \n\" style=\"fill:none;stroke:#b0b0b0;stroke-linecap:square;stroke-width:0.8;\"/>\n     </g>\n     <g id=\"line2d_10\">\n      <g>\n       <use style=\"stroke:#000000;stroke-width:0.8;\" x=\"225.403125\" xlink:href=\"#m31753a5318\" y=\"143.1\"/>\n      </g>\n     </g>\n     <g id=\"text_5\">\n      <!-- 10 -->\n      <defs>\n       <path d=\"M 12.40625 8.296875 \nL 28.515625 8.296875 \nL 28.515625 63.921875 \nL 10.984375 60.40625 \nL 10.984375 69.390625 \nL 28.421875 72.90625 \nL 38.28125 72.90625 \nL 38.28125 8.296875 \nL 54.390625 8.296875 \nL 54.390625 0 \nL 12.40625 0 \nz\n\" id=\"DejaVuSans-49\"/>\n       <path d=\"M 31.78125 66.40625 \nQ 24.171875 66.40625 20.328125 58.90625 \nQ 16.5 51.421875 16.5 36.375 \nQ 16.5 21.390625 20.328125 13.890625 \nQ 24.171875 6.390625 31.78125 6.390625 \nQ 39.453125 6.390625 43.28125 13.890625 \nQ 47.125 21.390625 47.125 36.375 \nQ 47.125 51.421875 43.28125 58.90625 \nQ 39.453125 66.40625 31.78125 66.40625 \nz\nM 31.78125 74.21875 \nQ 44.046875 74.21875 50.515625 64.515625 \nQ 56.984375 54.828125 56.984375 36.375 \nQ 56.984375 17.96875 50.515625 8.265625 \nQ 44.046875 -1.421875 31.78125 -1.421875 \nQ 19.53125 -1.421875 13.0625 8.265625 \nQ 6.59375 17.96875 6.59375 36.375 \nQ 6.59375 54.828125 13.0625 64.515625 \nQ 19.53125 74.21875 31.78125 74.21875 \nz\n\" id=\"DejaVuSans-48\"/>\n      </defs>\n      <g transform=\"translate(219.040625 157.698438)scale(0.1 -0.1)\">\n       <use xlink:href=\"#DejaVuSans-49\"/>\n       <use x=\"63.623047\" xlink:href=\"#DejaVuSans-48\"/>\n      </g>\n     </g>\n    </g>\n    <g id=\"text_6\">\n     <!-- epoch -->\n     <defs>\n      <path d=\"M 56.203125 29.59375 \nL 56.203125 25.203125 \nL 14.890625 25.203125 \nQ 15.484375 15.921875 20.484375 11.0625 \nQ 25.484375 6.203125 34.421875 6.203125 \nQ 39.59375 6.203125 44.453125 7.46875 \nQ 49.3125 8.734375 54.109375 11.28125 \nL 54.109375 2.78125 \nQ 49.265625 0.734375 44.1875 -0.34375 \nQ 39.109375 -1.421875 33.890625 -1.421875 \nQ 20.796875 -1.421875 13.15625 6.1875 \nQ 5.515625 13.8125 5.515625 26.8125 \nQ 5.515625 40.234375 12.765625 48.109375 \nQ 20.015625 56 32.328125 56 \nQ 43.359375 56 49.78125 48.890625 \nQ 56.203125 41.796875 56.203125 29.59375 \nz\nM 47.21875 32.234375 \nQ 47.125 39.59375 43.09375 43.984375 \nQ 39.0625 48.390625 32.421875 48.390625 \nQ 24.90625 48.390625 20.390625 44.140625 \nQ 15.875 39.890625 15.1875 32.171875 \nz\n\" id=\"DejaVuSans-101\"/>\n      <path d=\"M 18.109375 8.203125 \nL 18.109375 -20.796875 \nL 9.078125 -20.796875 \nL 9.078125 54.6875 \nL 18.109375 54.6875 \nL 18.109375 46.390625 \nQ 20.953125 51.265625 25.265625 53.625 \nQ 29.59375 56 35.59375 56 \nQ 45.5625 56 51.78125 48.09375 \nQ 58.015625 40.1875 58.015625 27.296875 \nQ 58.015625 14.40625 51.78125 6.484375 \nQ 45.5625 -1.421875 35.59375 -1.421875 \nQ 29.59375 -1.421875 25.265625 0.953125 \nQ 20.953125 3.328125 18.109375 8.203125 \nz\nM 48.6875 27.296875 \nQ 48.6875 37.203125 44.609375 42.84375 \nQ 40.53125 48.484375 33.40625 48.484375 \nQ 26.265625 48.484375 22.1875 42.84375 \nQ 18.109375 37.203125 18.109375 27.296875 \nQ 18.109375 17.390625 22.1875 11.75 \nQ 26.265625 6.109375 33.40625 6.109375 \nQ 40.53125 6.109375 44.609375 11.75 \nQ 48.6875 17.390625 48.6875 27.296875 \nz\n\" id=\"DejaVuSans-112\"/>\n      <path d=\"M 30.609375 48.390625 \nQ 23.390625 48.390625 19.1875 42.75 \nQ 14.984375 37.109375 14.984375 27.296875 \nQ 14.984375 17.484375 19.15625 11.84375 \nQ 23.34375 6.203125 30.609375 6.203125 \nQ 37.796875 6.203125 41.984375 11.859375 \nQ 46.1875 17.53125 46.1875 27.296875 \nQ 46.1875 37.015625 41.984375 42.703125 \nQ 37.796875 48.390625 30.609375 48.390625 \nz\nM 30.609375 56 \nQ 42.328125 56 49.015625 48.375 \nQ 55.71875 40.765625 55.71875 27.296875 \nQ 55.71875 13.875 49.015625 6.21875 \nQ 42.328125 -1.421875 30.609375 -1.421875 \nQ 18.84375 -1.421875 12.171875 6.21875 \nQ 5.515625 13.875 5.515625 27.296875 \nQ 5.515625 40.765625 12.171875 48.375 \nQ 18.84375 56 30.609375 56 \nz\n\" id=\"DejaVuSans-111\"/>\n      <path d=\"M 48.78125 52.59375 \nL 48.78125 44.1875 \nQ 44.96875 46.296875 41.140625 47.34375 \nQ 37.3125 48.390625 33.40625 48.390625 \nQ 24.65625 48.390625 19.8125 42.84375 \nQ 14.984375 37.3125 14.984375 27.296875 \nQ 14.984375 17.28125 19.8125 11.734375 \nQ 24.65625 6.203125 33.40625 6.203125 \nQ 37.3125 6.203125 41.140625 7.25 \nQ 44.96875 8.296875 48.78125 10.40625 \nL 48.78125 2.09375 \nQ 45.015625 0.34375 40.984375 -0.53125 \nQ 36.96875 -1.421875 32.421875 -1.421875 \nQ 20.0625 -1.421875 12.78125 6.34375 \nQ 5.515625 14.109375 5.515625 27.296875 \nQ 5.515625 40.671875 12.859375 48.328125 \nQ 20.21875 56 33.015625 56 \nQ 37.15625 56 41.109375 55.140625 \nQ 45.0625 54.296875 48.78125 52.59375 \nz\n\" id=\"DejaVuSans-99\"/>\n      <path d=\"M 54.890625 33.015625 \nL 54.890625 0 \nL 45.90625 0 \nL 45.90625 32.71875 \nQ 45.90625 40.484375 42.875 44.328125 \nQ 39.84375 48.1875 33.796875 48.1875 \nQ 26.515625 48.1875 22.3125 43.546875 \nQ 18.109375 38.921875 18.109375 30.90625 \nL 18.109375 0 \nL 9.078125 0 \nL 9.078125 75.984375 \nL 18.109375 75.984375 \nL 18.109375 46.1875 \nQ 21.34375 51.125 25.703125 53.5625 \nQ 30.078125 56 35.796875 56 \nQ 45.21875 56 50.046875 50.171875 \nQ 54.890625 44.34375 54.890625 33.015625 \nz\n\" id=\"DejaVuSans-104\"/>\n     </defs>\n     <g transform=\"translate(112.525 171.376563)scale(0.1 -0.1)\">\n      <use xlink:href=\"#DejaVuSans-101\"/>\n      <use x=\"61.523438\" xlink:href=\"#DejaVuSans-112\"/>\n      <use x=\"125\" xlink:href=\"#DejaVuSans-111\"/>\n      <use x=\"186.181641\" xlink:href=\"#DejaVuSans-99\"/>\n      <use x=\"241.162109\" xlink:href=\"#DejaVuSans-104\"/>\n     </g>\n    </g>\n   </g>\n   <g id=\"matplotlib.axis_2\">\n    <g id=\"ytick_1\">\n     <g id=\"line2d_11\">\n      <path clip-path=\"url(#p2212f3fc99)\" d=\"M 30.103125 120.45 \nL 225.403125 120.45 \n\" style=\"fill:none;stroke:#b0b0b0;stroke-linecap:square;stroke-width:0.8;\"/>\n     </g>\n     <g id=\"line2d_12\">\n      <defs>\n       <path d=\"M 0 0 \nL -3.5 0 \n\" id=\"m28e4438482\" style=\"stroke:#000000;stroke-width:0.8;\"/>\n      </defs>\n      <g>\n       <use style=\"stroke:#000000;stroke-width:0.8;\" x=\"30.103125\" xlink:href=\"#m28e4438482\" y=\"120.45\"/>\n      </g>\n     </g>\n     <g id=\"text_7\">\n      <!-- 0.4 -->\n      <defs>\n       <path d=\"M 10.6875 12.40625 \nL 21 12.40625 \nL 21 0 \nL 10.6875 0 \nz\n\" id=\"DejaVuSans-46\"/>\n      </defs>\n      <g transform=\"translate(7.2 124.249219)scale(0.1 -0.1)\">\n       <use xlink:href=\"#DejaVuSans-48\"/>\n       <use x=\"63.623047\" xlink:href=\"#DejaVuSans-46\"/>\n       <use x=\"95.410156\" xlink:href=\"#DejaVuSans-52\"/>\n      </g>\n     </g>\n    </g>\n    <g id=\"ytick_2\">\n     <g id=\"line2d_13\">\n      <path clip-path=\"url(#p2212f3fc99)\" d=\"M 30.103125 75.15 \nL 225.403125 75.15 \n\" style=\"fill:none;stroke:#b0b0b0;stroke-linecap:square;stroke-width:0.8;\"/>\n     </g>\n     <g id=\"line2d_14\">\n      <g>\n       <use style=\"stroke:#000000;stroke-width:0.8;\" x=\"30.103125\" xlink:href=\"#m28e4438482\" y=\"75.15\"/>\n      </g>\n     </g>\n     <g id=\"text_8\">\n      <!-- 0.6 -->\n      <g transform=\"translate(7.2 78.949219)scale(0.1 -0.1)\">\n       <use xlink:href=\"#DejaVuSans-48\"/>\n       <use x=\"63.623047\" xlink:href=\"#DejaVuSans-46\"/>\n       <use x=\"95.410156\" xlink:href=\"#DejaVuSans-54\"/>\n      </g>\n     </g>\n    </g>\n    <g id=\"ytick_3\">\n     <g id=\"line2d_15\">\n      <path clip-path=\"url(#p2212f3fc99)\" d=\"M 30.103125 29.85 \nL 225.403125 29.85 \n\" style=\"fill:none;stroke:#b0b0b0;stroke-linecap:square;stroke-width:0.8;\"/>\n     </g>\n     <g id=\"line2d_16\">\n      <g>\n       <use style=\"stroke:#000000;stroke-width:0.8;\" x=\"30.103125\" xlink:href=\"#m28e4438482\" y=\"29.85\"/>\n      </g>\n     </g>\n     <g id=\"text_9\">\n      <!-- 0.8 -->\n      <g transform=\"translate(7.2 33.649219)scale(0.1 -0.1)\">\n       <use xlink:href=\"#DejaVuSans-48\"/>\n       <use x=\"63.623047\" xlink:href=\"#DejaVuSans-46\"/>\n       <use x=\"95.410156\" xlink:href=\"#DejaVuSans-56\"/>\n      </g>\n     </g>\n    </g>\n   </g>\n   <g id=\"line2d_17\">\n    <path clip-path=\"url(#p2212f3fc99)\" d=\"M 30.103125 49.877397 \nL 51.803125 113.751437 \nL 73.503125 124.103571 \nL 95.203125 129.347642 \nL 116.903125 132.679121 \nL 138.603125 135.052929 \nL 160.303125 136.848566 \nL 182.003125 138.300323 \nL 203.703125 139.431342 \nL 225.403125 140.439578 \n\" style=\"fill:none;stroke:#1f77b4;stroke-linecap:square;stroke-width:1.5;\"/>\n   </g>\n   <g id=\"line2d_18\">\n    <path clip-path=\"url(#p2212f3fc99)\" d=\"M 30.103125 20.038775 \nL 51.803125 10.2804 \nL 73.503125 8.177725 \nL 95.203125 6.947075 \nL 116.903125 6.25625 \nL 138.603125 5.78815 \nL 160.303125 5.2068 \nL 182.003125 4.83685 \nL 203.703125 4.4971 \nL 225.403125 4.062975 \n\" style=\"fill:none;stroke:#bf00bf;stroke-dasharray:5.55,2.4;stroke-dashoffset:0;stroke-width:1.5;\"/>\n   </g>\n   <g id=\"line2d_19\">\n    <path clip-path=\"url(#p2212f3fc99)\" d=\"M 30.103125 10.48425 \nL 51.803125 7.13205 \nL 73.503125 5.9316 \nL 95.203125 5.4333 \nL 116.903125 4.50465 \nL 138.603125 4.1196 \nL 160.303125 3.6666 \nL 182.003125 3.55335 \nL 203.703125 3.41745 \nL 225.403125 3.1683 \n\" style=\"fill:none;stroke:#008000;stroke-dasharray:9.6,2.4,1.5,2.4;stroke-dashoffset:0;stroke-width:1.5;\"/>\n   </g>\n   <g id=\"patch_3\">\n    <path d=\"M 30.103125 143.1 \nL 30.103125 7.2 \n\" style=\"fill:none;stroke:#000000;stroke-linecap:square;stroke-linejoin:miter;stroke-width:0.8;\"/>\n   </g>\n   <g id=\"patch_4\">\n    <path d=\"M 225.403125 143.1 \nL 225.403125 7.2 \n\" style=\"fill:none;stroke:#000000;stroke-linecap:square;stroke-linejoin:miter;stroke-width:0.8;\"/>\n   </g>\n   <g id=\"patch_5\">\n    <path d=\"M 30.103125 143.1 \nL 225.403125 143.1 \n\" style=\"fill:none;stroke:#000000;stroke-linecap:square;stroke-linejoin:miter;stroke-width:0.8;\"/>\n   </g>\n   <g id=\"patch_6\">\n    <path d=\"M 30.103125 7.2 \nL 225.403125 7.2 \n\" style=\"fill:none;stroke:#000000;stroke-linecap:square;stroke-linejoin:miter;stroke-width:0.8;\"/>\n   </g>\n   <g id=\"legend_1\">\n    <g id=\"patch_7\">\n     <path d=\"M 140.634375 59.234375 \nL 218.403125 59.234375 \nQ 220.403125 59.234375 220.403125 57.234375 \nL 220.403125 14.2 \nQ 220.403125 12.2 218.403125 12.2 \nL 140.634375 12.2 \nQ 138.634375 12.2 138.634375 14.2 \nL 138.634375 57.234375 \nQ 138.634375 59.234375 140.634375 59.234375 \nz\n\" style=\"fill:#ffffff;opacity:0.8;stroke:#cccccc;stroke-linejoin:miter;\"/>\n    </g>\n    <g id=\"line2d_20\">\n     <path d=\"M 142.634375 20.298438 \nL 162.634375 20.298438 \n\" style=\"fill:none;stroke:#1f77b4;stroke-linecap:square;stroke-width:1.5;\"/>\n    </g>\n    <g id=\"line2d_21\"/>\n    <g id=\"text_10\">\n     <!-- train loss -->\n     <defs>\n      <path d=\"M 18.3125 70.21875 \nL 18.3125 54.6875 \nL 36.8125 54.6875 \nL 36.8125 47.703125 \nL 18.3125 47.703125 \nL 18.3125 18.015625 \nQ 18.3125 11.328125 20.140625 9.421875 \nQ 21.96875 7.515625 27.59375 7.515625 \nL 36.8125 7.515625 \nL 36.8125 0 \nL 27.59375 0 \nQ 17.1875 0 13.234375 3.875 \nQ 9.28125 7.765625 9.28125 18.015625 \nL 9.28125 47.703125 \nL 2.6875 47.703125 \nL 2.6875 54.6875 \nL 9.28125 54.6875 \nL 9.28125 70.21875 \nz\n\" id=\"DejaVuSans-116\"/>\n      <path d=\"M 41.109375 46.296875 \nQ 39.59375 47.171875 37.8125 47.578125 \nQ 36.03125 48 33.890625 48 \nQ 26.265625 48 22.1875 43.046875 \nQ 18.109375 38.09375 18.109375 28.8125 \nL 18.109375 0 \nL 9.078125 0 \nL 9.078125 54.6875 \nL 18.109375 54.6875 \nL 18.109375 46.1875 \nQ 20.953125 51.171875 25.484375 53.578125 \nQ 30.03125 56 36.53125 56 \nQ 37.453125 56 38.578125 55.875 \nQ 39.703125 55.765625 41.0625 55.515625 \nz\n\" id=\"DejaVuSans-114\"/>\n      <path d=\"M 34.28125 27.484375 \nQ 23.390625 27.484375 19.1875 25 \nQ 14.984375 22.515625 14.984375 16.5 \nQ 14.984375 11.71875 18.140625 8.90625 \nQ 21.296875 6.109375 26.703125 6.109375 \nQ 34.1875 6.109375 38.703125 11.40625 \nQ 43.21875 16.703125 43.21875 25.484375 \nL 43.21875 27.484375 \nz\nM 52.203125 31.203125 \nL 52.203125 0 \nL 43.21875 0 \nL 43.21875 8.296875 \nQ 40.140625 3.328125 35.546875 0.953125 \nQ 30.953125 -1.421875 24.3125 -1.421875 \nQ 15.921875 -1.421875 10.953125 3.296875 \nQ 6 8.015625 6 15.921875 \nQ 6 25.140625 12.171875 29.828125 \nQ 18.359375 34.515625 30.609375 34.515625 \nL 43.21875 34.515625 \nL 43.21875 35.40625 \nQ 43.21875 41.609375 39.140625 45 \nQ 35.0625 48.390625 27.6875 48.390625 \nQ 23 48.390625 18.546875 47.265625 \nQ 14.109375 46.140625 10.015625 43.890625 \nL 10.015625 52.203125 \nQ 14.9375 54.109375 19.578125 55.046875 \nQ 24.21875 56 28.609375 56 \nQ 40.484375 56 46.34375 49.84375 \nQ 52.203125 43.703125 52.203125 31.203125 \nz\n\" id=\"DejaVuSans-97\"/>\n      <path d=\"M 9.421875 54.6875 \nL 18.40625 54.6875 \nL 18.40625 0 \nL 9.421875 0 \nz\nM 9.421875 75.984375 \nL 18.40625 75.984375 \nL 18.40625 64.59375 \nL 9.421875 64.59375 \nz\n\" id=\"DejaVuSans-105\"/>\n      <path d=\"M 54.890625 33.015625 \nL 54.890625 0 \nL 45.90625 0 \nL 45.90625 32.71875 \nQ 45.90625 40.484375 42.875 44.328125 \nQ 39.84375 48.1875 33.796875 48.1875 \nQ 26.515625 48.1875 22.3125 43.546875 \nQ 18.109375 38.921875 18.109375 30.90625 \nL 18.109375 0 \nL 9.078125 0 \nL 9.078125 54.6875 \nL 18.109375 54.6875 \nL 18.109375 46.1875 \nQ 21.34375 51.125 25.703125 53.5625 \nQ 30.078125 56 35.796875 56 \nQ 45.21875 56 50.046875 50.171875 \nQ 54.890625 44.34375 54.890625 33.015625 \nz\n\" id=\"DejaVuSans-110\"/>\n      <path id=\"DejaVuSans-32\"/>\n      <path d=\"M 9.421875 75.984375 \nL 18.40625 75.984375 \nL 18.40625 0 \nL 9.421875 0 \nz\n\" id=\"DejaVuSans-108\"/>\n      <path d=\"M 44.28125 53.078125 \nL 44.28125 44.578125 \nQ 40.484375 46.53125 36.375 47.5 \nQ 32.28125 48.484375 27.875 48.484375 \nQ 21.1875 48.484375 17.84375 46.4375 \nQ 14.5 44.390625 14.5 40.28125 \nQ 14.5 37.15625 16.890625 35.375 \nQ 19.28125 33.59375 26.515625 31.984375 \nL 29.59375 31.296875 \nQ 39.15625 29.25 43.1875 25.515625 \nQ 47.21875 21.78125 47.21875 15.09375 \nQ 47.21875 7.46875 41.1875 3.015625 \nQ 35.15625 -1.421875 24.609375 -1.421875 \nQ 20.21875 -1.421875 15.453125 -0.5625 \nQ 10.6875 0.296875 5.421875 2 \nL 5.421875 11.28125 \nQ 10.40625 8.6875 15.234375 7.390625 \nQ 20.0625 6.109375 24.8125 6.109375 \nQ 31.15625 6.109375 34.5625 8.28125 \nQ 37.984375 10.453125 37.984375 14.40625 \nQ 37.984375 18.0625 35.515625 20.015625 \nQ 33.0625 21.96875 24.703125 23.78125 \nL 21.578125 24.515625 \nQ 13.234375 26.265625 9.515625 29.90625 \nQ 5.8125 33.546875 5.8125 39.890625 \nQ 5.8125 47.609375 11.28125 51.796875 \nQ 16.75 56 26.8125 56 \nQ 31.78125 56 36.171875 55.265625 \nQ 40.578125 54.546875 44.28125 53.078125 \nz\n\" id=\"DejaVuSans-115\"/>\n     </defs>\n     <g transform=\"translate(170.634375 23.798438)scale(0.1 -0.1)\">\n      <use xlink:href=\"#DejaVuSans-116\"/>\n      <use x=\"39.208984\" xlink:href=\"#DejaVuSans-114\"/>\n      <use x=\"80.322266\" xlink:href=\"#DejaVuSans-97\"/>\n      <use x=\"141.601562\" xlink:href=\"#DejaVuSans-105\"/>\n      <use x=\"169.384766\" xlink:href=\"#DejaVuSans-110\"/>\n      <use x=\"232.763672\" xlink:href=\"#DejaVuSans-32\"/>\n      <use x=\"264.550781\" xlink:href=\"#DejaVuSans-108\"/>\n      <use x=\"292.333984\" xlink:href=\"#DejaVuSans-111\"/>\n      <use x=\"353.515625\" xlink:href=\"#DejaVuSans-115\"/>\n      <use x=\"405.615234\" xlink:href=\"#DejaVuSans-115\"/>\n     </g>\n    </g>\n    <g id=\"line2d_22\">\n     <path d=\"M 142.634375 34.976562 \nL 162.634375 34.976562 \n\" style=\"fill:none;stroke:#bf00bf;stroke-dasharray:5.55,2.4;stroke-dashoffset:0;stroke-width:1.5;\"/>\n    </g>\n    <g id=\"line2d_23\"/>\n    <g id=\"text_11\">\n     <!-- train acc -->\n     <g transform=\"translate(170.634375 38.476562)scale(0.1 -0.1)\">\n      <use xlink:href=\"#DejaVuSans-116\"/>\n      <use x=\"39.208984\" xlink:href=\"#DejaVuSans-114\"/>\n      <use x=\"80.322266\" xlink:href=\"#DejaVuSans-97\"/>\n      <use x=\"141.601562\" xlink:href=\"#DejaVuSans-105\"/>\n      <use x=\"169.384766\" xlink:href=\"#DejaVuSans-110\"/>\n      <use x=\"232.763672\" xlink:href=\"#DejaVuSans-32\"/>\n      <use x=\"264.550781\" xlink:href=\"#DejaVuSans-97\"/>\n      <use x=\"325.830078\" xlink:href=\"#DejaVuSans-99\"/>\n      <use x=\"380.810547\" xlink:href=\"#DejaVuSans-99\"/>\n     </g>\n    </g>\n    <g id=\"line2d_24\">\n     <path d=\"M 142.634375 49.654688 \nL 162.634375 49.654688 \n\" style=\"fill:none;stroke:#008000;stroke-dasharray:9.6,2.4,1.5,2.4;stroke-dashoffset:0;stroke-width:1.5;\"/>\n    </g>\n    <g id=\"line2d_25\"/>\n    <g id=\"text_12\">\n     <!-- test acc -->\n     <g transform=\"translate(170.634375 53.154688)scale(0.1 -0.1)\">\n      <use xlink:href=\"#DejaVuSans-116\"/>\n      <use x=\"39.208984\" xlink:href=\"#DejaVuSans-101\"/>\n      <use x=\"100.732422\" xlink:href=\"#DejaVuSans-115\"/>\n      <use x=\"152.832031\" xlink:href=\"#DejaVuSans-116\"/>\n      <use x=\"192.041016\" xlink:href=\"#DejaVuSans-32\"/>\n      <use x=\"223.828125\" xlink:href=\"#DejaVuSans-97\"/>\n      <use x=\"285.107422\" xlink:href=\"#DejaVuSans-99\"/>\n      <use x=\"340.087891\" xlink:href=\"#DejaVuSans-99\"/>\n     </g>\n    </g>\n   </g>\n  </g>\n </g>\n <defs>\n  <clipPath id=\"p2212f3fc99\">\n   <rect height=\"135.9\" width=\"195.3\" x=\"30.103125\" y=\"7.2\"/>\n  </clipPath>\n </defs>\n</svg>\n"
          },
          "metadata": {
            "needs_background": "light"
          }
        }
      ]
    }
  ],
  "metadata": {
    "kernelspec": {
      "display_name": "Python 3.8.13 ('pytorch_py3.8')",
      "language": "python",
      "name": "python3"
    },
    "language_info": {
      "codemirror_mode": {
        "name": "ipython",
        "version": 3
      },
      "file_extension": ".py",
      "mimetype": "text/x-python",
      "name": "python",
      "nbconvert_exporter": "python",
      "pygments_lexer": "ipython3",
      "version": "3.8.13"
    },
    "orig_nbformat": 4,
    "vscode": {
      "interpreter": {
        "hash": "5231944d6bebd0e76c5e0ccaaf82d95735fc63c2fda253834f9eeb7e7d55518d"
      }
    },
    "colab": {
      "name": "2주차_과제_김지호.ipynb",
      "provenance": [],
      "collapsed_sections": [
        "sO9qVY2W8Lt7",
        "T-A4EYxrWHUF",
        "q4kJiQKwPTOP",
        "Ck_geeIminYr",
        "Lxv-DS-c8laM",
        "6CjqxRzJ7aia",
        "hbU1NYWK7f5Q",
        "w0c4nwApKJnC",
        "gKR9aGx_S6Pm",
        "TY9cUjjSUEqH",
        "by3R8zPfUc9D",
        "2TaBbRBQU6A-"
      ]
    }
  },
  "nbformat": 4,
  "nbformat_minor": 0
}