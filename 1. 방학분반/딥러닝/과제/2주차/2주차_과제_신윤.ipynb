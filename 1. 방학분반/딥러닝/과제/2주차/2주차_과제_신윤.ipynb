{
  "nbformat": 4,
  "nbformat_minor": 0,
  "metadata": {
    "colab": {
      "name": "2주차 과제.ipynb",
      "provenance": [],
      "collapsed_sections": []
    },
    "kernelspec": {
      "name": "python3",
      "display_name": "Python 3"
    },
    "language_info": {
      "name": "python"
    },
    "widgets": {
      "application/vnd.jupyter.widget-state+json": {
        "1e14db83e6854f16896fde50259ca690": {
          "model_module": "@jupyter-widgets/controls",
          "model_name": "HBoxModel",
          "model_module_version": "1.5.0",
          "state": {
            "_dom_classes": [],
            "_model_module": "@jupyter-widgets/controls",
            "_model_module_version": "1.5.0",
            "_model_name": "HBoxModel",
            "_view_count": null,
            "_view_module": "@jupyter-widgets/controls",
            "_view_module_version": "1.5.0",
            "_view_name": "HBoxView",
            "box_style": "",
            "children": [
              "IPY_MODEL_7d08741be3f248dd995dd031bf6cb076",
              "IPY_MODEL_38faa827783345c2841bf186cc42990a",
              "IPY_MODEL_1457ca1f75e0408c96ec9039975d7cb7"
            ],
            "layout": "IPY_MODEL_5359915202fa464e95dda19aa424bbb6"
          }
        },
        "7d08741be3f248dd995dd031bf6cb076": {
          "model_module": "@jupyter-widgets/controls",
          "model_name": "HTMLModel",
          "model_module_version": "1.5.0",
          "state": {
            "_dom_classes": [],
            "_model_module": "@jupyter-widgets/controls",
            "_model_module_version": "1.5.0",
            "_model_name": "HTMLModel",
            "_view_count": null,
            "_view_module": "@jupyter-widgets/controls",
            "_view_module_version": "1.5.0",
            "_view_name": "HTMLView",
            "description": "",
            "description_tooltip": null,
            "layout": "IPY_MODEL_055aa8adf70a43a8ab8b1d4d4e6f02ad",
            "placeholder": "​",
            "style": "IPY_MODEL_963895749e0949b7af38d24524e5f622",
            "value": "100%"
          }
        },
        "38faa827783345c2841bf186cc42990a": {
          "model_module": "@jupyter-widgets/controls",
          "model_name": "FloatProgressModel",
          "model_module_version": "1.5.0",
          "state": {
            "_dom_classes": [],
            "_model_module": "@jupyter-widgets/controls",
            "_model_module_version": "1.5.0",
            "_model_name": "FloatProgressModel",
            "_view_count": null,
            "_view_module": "@jupyter-widgets/controls",
            "_view_module_version": "1.5.0",
            "_view_name": "ProgressView",
            "bar_style": "success",
            "description": "",
            "description_tooltip": null,
            "layout": "IPY_MODEL_62f411d440a14585acce5ed2762710b7",
            "max": 26421880,
            "min": 0,
            "orientation": "horizontal",
            "style": "IPY_MODEL_03616bedc946491cb6c22744ed2e572b",
            "value": 26421880
          }
        },
        "1457ca1f75e0408c96ec9039975d7cb7": {
          "model_module": "@jupyter-widgets/controls",
          "model_name": "HTMLModel",
          "model_module_version": "1.5.0",
          "state": {
            "_dom_classes": [],
            "_model_module": "@jupyter-widgets/controls",
            "_model_module_version": "1.5.0",
            "_model_name": "HTMLModel",
            "_view_count": null,
            "_view_module": "@jupyter-widgets/controls",
            "_view_module_version": "1.5.0",
            "_view_name": "HTMLView",
            "description": "",
            "description_tooltip": null,
            "layout": "IPY_MODEL_a45d6a173bf543aaa1713f3e554a6a9e",
            "placeholder": "​",
            "style": "IPY_MODEL_14d1d93e2c7b4041856b5e5bec198da9",
            "value": " 26421880/26421880 [00:14&lt;00:00, 5986877.40it/s]"
          }
        },
        "5359915202fa464e95dda19aa424bbb6": {
          "model_module": "@jupyter-widgets/base",
          "model_name": "LayoutModel",
          "model_module_version": "1.2.0",
          "state": {
            "_model_module": "@jupyter-widgets/base",
            "_model_module_version": "1.2.0",
            "_model_name": "LayoutModel",
            "_view_count": null,
            "_view_module": "@jupyter-widgets/base",
            "_view_module_version": "1.2.0",
            "_view_name": "LayoutView",
            "align_content": null,
            "align_items": null,
            "align_self": null,
            "border": null,
            "bottom": null,
            "display": null,
            "flex": null,
            "flex_flow": null,
            "grid_area": null,
            "grid_auto_columns": null,
            "grid_auto_flow": null,
            "grid_auto_rows": null,
            "grid_column": null,
            "grid_gap": null,
            "grid_row": null,
            "grid_template_areas": null,
            "grid_template_columns": null,
            "grid_template_rows": null,
            "height": null,
            "justify_content": null,
            "justify_items": null,
            "left": null,
            "margin": null,
            "max_height": null,
            "max_width": null,
            "min_height": null,
            "min_width": null,
            "object_fit": null,
            "object_position": null,
            "order": null,
            "overflow": null,
            "overflow_x": null,
            "overflow_y": null,
            "padding": null,
            "right": null,
            "top": null,
            "visibility": null,
            "width": null
          }
        },
        "055aa8adf70a43a8ab8b1d4d4e6f02ad": {
          "model_module": "@jupyter-widgets/base",
          "model_name": "LayoutModel",
          "model_module_version": "1.2.0",
          "state": {
            "_model_module": "@jupyter-widgets/base",
            "_model_module_version": "1.2.0",
            "_model_name": "LayoutModel",
            "_view_count": null,
            "_view_module": "@jupyter-widgets/base",
            "_view_module_version": "1.2.0",
            "_view_name": "LayoutView",
            "align_content": null,
            "align_items": null,
            "align_self": null,
            "border": null,
            "bottom": null,
            "display": null,
            "flex": null,
            "flex_flow": null,
            "grid_area": null,
            "grid_auto_columns": null,
            "grid_auto_flow": null,
            "grid_auto_rows": null,
            "grid_column": null,
            "grid_gap": null,
            "grid_row": null,
            "grid_template_areas": null,
            "grid_template_columns": null,
            "grid_template_rows": null,
            "height": null,
            "justify_content": null,
            "justify_items": null,
            "left": null,
            "margin": null,
            "max_height": null,
            "max_width": null,
            "min_height": null,
            "min_width": null,
            "object_fit": null,
            "object_position": null,
            "order": null,
            "overflow": null,
            "overflow_x": null,
            "overflow_y": null,
            "padding": null,
            "right": null,
            "top": null,
            "visibility": null,
            "width": null
          }
        },
        "963895749e0949b7af38d24524e5f622": {
          "model_module": "@jupyter-widgets/controls",
          "model_name": "DescriptionStyleModel",
          "model_module_version": "1.5.0",
          "state": {
            "_model_module": "@jupyter-widgets/controls",
            "_model_module_version": "1.5.0",
            "_model_name": "DescriptionStyleModel",
            "_view_count": null,
            "_view_module": "@jupyter-widgets/base",
            "_view_module_version": "1.2.0",
            "_view_name": "StyleView",
            "description_width": ""
          }
        },
        "62f411d440a14585acce5ed2762710b7": {
          "model_module": "@jupyter-widgets/base",
          "model_name": "LayoutModel",
          "model_module_version": "1.2.0",
          "state": {
            "_model_module": "@jupyter-widgets/base",
            "_model_module_version": "1.2.0",
            "_model_name": "LayoutModel",
            "_view_count": null,
            "_view_module": "@jupyter-widgets/base",
            "_view_module_version": "1.2.0",
            "_view_name": "LayoutView",
            "align_content": null,
            "align_items": null,
            "align_self": null,
            "border": null,
            "bottom": null,
            "display": null,
            "flex": null,
            "flex_flow": null,
            "grid_area": null,
            "grid_auto_columns": null,
            "grid_auto_flow": null,
            "grid_auto_rows": null,
            "grid_column": null,
            "grid_gap": null,
            "grid_row": null,
            "grid_template_areas": null,
            "grid_template_columns": null,
            "grid_template_rows": null,
            "height": null,
            "justify_content": null,
            "justify_items": null,
            "left": null,
            "margin": null,
            "max_height": null,
            "max_width": null,
            "min_height": null,
            "min_width": null,
            "object_fit": null,
            "object_position": null,
            "order": null,
            "overflow": null,
            "overflow_x": null,
            "overflow_y": null,
            "padding": null,
            "right": null,
            "top": null,
            "visibility": null,
            "width": null
          }
        },
        "03616bedc946491cb6c22744ed2e572b": {
          "model_module": "@jupyter-widgets/controls",
          "model_name": "ProgressStyleModel",
          "model_module_version": "1.5.0",
          "state": {
            "_model_module": "@jupyter-widgets/controls",
            "_model_module_version": "1.5.0",
            "_model_name": "ProgressStyleModel",
            "_view_count": null,
            "_view_module": "@jupyter-widgets/base",
            "_view_module_version": "1.2.0",
            "_view_name": "StyleView",
            "bar_color": null,
            "description_width": ""
          }
        },
        "a45d6a173bf543aaa1713f3e554a6a9e": {
          "model_module": "@jupyter-widgets/base",
          "model_name": "LayoutModel",
          "model_module_version": "1.2.0",
          "state": {
            "_model_module": "@jupyter-widgets/base",
            "_model_module_version": "1.2.0",
            "_model_name": "LayoutModel",
            "_view_count": null,
            "_view_module": "@jupyter-widgets/base",
            "_view_module_version": "1.2.0",
            "_view_name": "LayoutView",
            "align_content": null,
            "align_items": null,
            "align_self": null,
            "border": null,
            "bottom": null,
            "display": null,
            "flex": null,
            "flex_flow": null,
            "grid_area": null,
            "grid_auto_columns": null,
            "grid_auto_flow": null,
            "grid_auto_rows": null,
            "grid_column": null,
            "grid_gap": null,
            "grid_row": null,
            "grid_template_areas": null,
            "grid_template_columns": null,
            "grid_template_rows": null,
            "height": null,
            "justify_content": null,
            "justify_items": null,
            "left": null,
            "margin": null,
            "max_height": null,
            "max_width": null,
            "min_height": null,
            "min_width": null,
            "object_fit": null,
            "object_position": null,
            "order": null,
            "overflow": null,
            "overflow_x": null,
            "overflow_y": null,
            "padding": null,
            "right": null,
            "top": null,
            "visibility": null,
            "width": null
          }
        },
        "14d1d93e2c7b4041856b5e5bec198da9": {
          "model_module": "@jupyter-widgets/controls",
          "model_name": "DescriptionStyleModel",
          "model_module_version": "1.5.0",
          "state": {
            "_model_module": "@jupyter-widgets/controls",
            "_model_module_version": "1.5.0",
            "_model_name": "DescriptionStyleModel",
            "_view_count": null,
            "_view_module": "@jupyter-widgets/base",
            "_view_module_version": "1.2.0",
            "_view_name": "StyleView",
            "description_width": ""
          }
        },
        "cf123cc9bb4c49009f94b7de789d86c5": {
          "model_module": "@jupyter-widgets/controls",
          "model_name": "HBoxModel",
          "model_module_version": "1.5.0",
          "state": {
            "_dom_classes": [],
            "_model_module": "@jupyter-widgets/controls",
            "_model_module_version": "1.5.0",
            "_model_name": "HBoxModel",
            "_view_count": null,
            "_view_module": "@jupyter-widgets/controls",
            "_view_module_version": "1.5.0",
            "_view_name": "HBoxView",
            "box_style": "",
            "children": [
              "IPY_MODEL_ce3d91fe5795473bb7e8c78215489c91",
              "IPY_MODEL_3aeed6023a844261bbcee64d282f6a55",
              "IPY_MODEL_83f6ebd234aa4cfa994992e63d910d62"
            ],
            "layout": "IPY_MODEL_67d3695c9a8d4357a3cdd6bc3d030a84"
          }
        },
        "ce3d91fe5795473bb7e8c78215489c91": {
          "model_module": "@jupyter-widgets/controls",
          "model_name": "HTMLModel",
          "model_module_version": "1.5.0",
          "state": {
            "_dom_classes": [],
            "_model_module": "@jupyter-widgets/controls",
            "_model_module_version": "1.5.0",
            "_model_name": "HTMLModel",
            "_view_count": null,
            "_view_module": "@jupyter-widgets/controls",
            "_view_module_version": "1.5.0",
            "_view_name": "HTMLView",
            "description": "",
            "description_tooltip": null,
            "layout": "IPY_MODEL_1ec58f62932a415bbed65e367d635222",
            "placeholder": "​",
            "style": "IPY_MODEL_32e547fdd4c14d85a8b5a5bd4c18d2f2",
            "value": "100%"
          }
        },
        "3aeed6023a844261bbcee64d282f6a55": {
          "model_module": "@jupyter-widgets/controls",
          "model_name": "FloatProgressModel",
          "model_module_version": "1.5.0",
          "state": {
            "_dom_classes": [],
            "_model_module": "@jupyter-widgets/controls",
            "_model_module_version": "1.5.0",
            "_model_name": "FloatProgressModel",
            "_view_count": null,
            "_view_module": "@jupyter-widgets/controls",
            "_view_module_version": "1.5.0",
            "_view_name": "ProgressView",
            "bar_style": "success",
            "description": "",
            "description_tooltip": null,
            "layout": "IPY_MODEL_8954019deef9414eab09747b37f93639",
            "max": 29515,
            "min": 0,
            "orientation": "horizontal",
            "style": "IPY_MODEL_b03bf6d6444c4a89b863f8b8646e74f0",
            "value": 29515
          }
        },
        "83f6ebd234aa4cfa994992e63d910d62": {
          "model_module": "@jupyter-widgets/controls",
          "model_name": "HTMLModel",
          "model_module_version": "1.5.0",
          "state": {
            "_dom_classes": [],
            "_model_module": "@jupyter-widgets/controls",
            "_model_module_version": "1.5.0",
            "_model_name": "HTMLModel",
            "_view_count": null,
            "_view_module": "@jupyter-widgets/controls",
            "_view_module_version": "1.5.0",
            "_view_name": "HTMLView",
            "description": "",
            "description_tooltip": null,
            "layout": "IPY_MODEL_fe9cc835e6844611a2a6628bece0092e",
            "placeholder": "​",
            "style": "IPY_MODEL_97ea65f4f35848f3a073394c08027625",
            "value": " 29515/29515 [00:00&lt;00:00, 110830.49it/s]"
          }
        },
        "67d3695c9a8d4357a3cdd6bc3d030a84": {
          "model_module": "@jupyter-widgets/base",
          "model_name": "LayoutModel",
          "model_module_version": "1.2.0",
          "state": {
            "_model_module": "@jupyter-widgets/base",
            "_model_module_version": "1.2.0",
            "_model_name": "LayoutModel",
            "_view_count": null,
            "_view_module": "@jupyter-widgets/base",
            "_view_module_version": "1.2.0",
            "_view_name": "LayoutView",
            "align_content": null,
            "align_items": null,
            "align_self": null,
            "border": null,
            "bottom": null,
            "display": null,
            "flex": null,
            "flex_flow": null,
            "grid_area": null,
            "grid_auto_columns": null,
            "grid_auto_flow": null,
            "grid_auto_rows": null,
            "grid_column": null,
            "grid_gap": null,
            "grid_row": null,
            "grid_template_areas": null,
            "grid_template_columns": null,
            "grid_template_rows": null,
            "height": null,
            "justify_content": null,
            "justify_items": null,
            "left": null,
            "margin": null,
            "max_height": null,
            "max_width": null,
            "min_height": null,
            "min_width": null,
            "object_fit": null,
            "object_position": null,
            "order": null,
            "overflow": null,
            "overflow_x": null,
            "overflow_y": null,
            "padding": null,
            "right": null,
            "top": null,
            "visibility": null,
            "width": null
          }
        },
        "1ec58f62932a415bbed65e367d635222": {
          "model_module": "@jupyter-widgets/base",
          "model_name": "LayoutModel",
          "model_module_version": "1.2.0",
          "state": {
            "_model_module": "@jupyter-widgets/base",
            "_model_module_version": "1.2.0",
            "_model_name": "LayoutModel",
            "_view_count": null,
            "_view_module": "@jupyter-widgets/base",
            "_view_module_version": "1.2.0",
            "_view_name": "LayoutView",
            "align_content": null,
            "align_items": null,
            "align_self": null,
            "border": null,
            "bottom": null,
            "display": null,
            "flex": null,
            "flex_flow": null,
            "grid_area": null,
            "grid_auto_columns": null,
            "grid_auto_flow": null,
            "grid_auto_rows": null,
            "grid_column": null,
            "grid_gap": null,
            "grid_row": null,
            "grid_template_areas": null,
            "grid_template_columns": null,
            "grid_template_rows": null,
            "height": null,
            "justify_content": null,
            "justify_items": null,
            "left": null,
            "margin": null,
            "max_height": null,
            "max_width": null,
            "min_height": null,
            "min_width": null,
            "object_fit": null,
            "object_position": null,
            "order": null,
            "overflow": null,
            "overflow_x": null,
            "overflow_y": null,
            "padding": null,
            "right": null,
            "top": null,
            "visibility": null,
            "width": null
          }
        },
        "32e547fdd4c14d85a8b5a5bd4c18d2f2": {
          "model_module": "@jupyter-widgets/controls",
          "model_name": "DescriptionStyleModel",
          "model_module_version": "1.5.0",
          "state": {
            "_model_module": "@jupyter-widgets/controls",
            "_model_module_version": "1.5.0",
            "_model_name": "DescriptionStyleModel",
            "_view_count": null,
            "_view_module": "@jupyter-widgets/base",
            "_view_module_version": "1.2.0",
            "_view_name": "StyleView",
            "description_width": ""
          }
        },
        "8954019deef9414eab09747b37f93639": {
          "model_module": "@jupyter-widgets/base",
          "model_name": "LayoutModel",
          "model_module_version": "1.2.0",
          "state": {
            "_model_module": "@jupyter-widgets/base",
            "_model_module_version": "1.2.0",
            "_model_name": "LayoutModel",
            "_view_count": null,
            "_view_module": "@jupyter-widgets/base",
            "_view_module_version": "1.2.0",
            "_view_name": "LayoutView",
            "align_content": null,
            "align_items": null,
            "align_self": null,
            "border": null,
            "bottom": null,
            "display": null,
            "flex": null,
            "flex_flow": null,
            "grid_area": null,
            "grid_auto_columns": null,
            "grid_auto_flow": null,
            "grid_auto_rows": null,
            "grid_column": null,
            "grid_gap": null,
            "grid_row": null,
            "grid_template_areas": null,
            "grid_template_columns": null,
            "grid_template_rows": null,
            "height": null,
            "justify_content": null,
            "justify_items": null,
            "left": null,
            "margin": null,
            "max_height": null,
            "max_width": null,
            "min_height": null,
            "min_width": null,
            "object_fit": null,
            "object_position": null,
            "order": null,
            "overflow": null,
            "overflow_x": null,
            "overflow_y": null,
            "padding": null,
            "right": null,
            "top": null,
            "visibility": null,
            "width": null
          }
        },
        "b03bf6d6444c4a89b863f8b8646e74f0": {
          "model_module": "@jupyter-widgets/controls",
          "model_name": "ProgressStyleModel",
          "model_module_version": "1.5.0",
          "state": {
            "_model_module": "@jupyter-widgets/controls",
            "_model_module_version": "1.5.0",
            "_model_name": "ProgressStyleModel",
            "_view_count": null,
            "_view_module": "@jupyter-widgets/base",
            "_view_module_version": "1.2.0",
            "_view_name": "StyleView",
            "bar_color": null,
            "description_width": ""
          }
        },
        "fe9cc835e6844611a2a6628bece0092e": {
          "model_module": "@jupyter-widgets/base",
          "model_name": "LayoutModel",
          "model_module_version": "1.2.0",
          "state": {
            "_model_module": "@jupyter-widgets/base",
            "_model_module_version": "1.2.0",
            "_model_name": "LayoutModel",
            "_view_count": null,
            "_view_module": "@jupyter-widgets/base",
            "_view_module_version": "1.2.0",
            "_view_name": "LayoutView",
            "align_content": null,
            "align_items": null,
            "align_self": null,
            "border": null,
            "bottom": null,
            "display": null,
            "flex": null,
            "flex_flow": null,
            "grid_area": null,
            "grid_auto_columns": null,
            "grid_auto_flow": null,
            "grid_auto_rows": null,
            "grid_column": null,
            "grid_gap": null,
            "grid_row": null,
            "grid_template_areas": null,
            "grid_template_columns": null,
            "grid_template_rows": null,
            "height": null,
            "justify_content": null,
            "justify_items": null,
            "left": null,
            "margin": null,
            "max_height": null,
            "max_width": null,
            "min_height": null,
            "min_width": null,
            "object_fit": null,
            "object_position": null,
            "order": null,
            "overflow": null,
            "overflow_x": null,
            "overflow_y": null,
            "padding": null,
            "right": null,
            "top": null,
            "visibility": null,
            "width": null
          }
        },
        "97ea65f4f35848f3a073394c08027625": {
          "model_module": "@jupyter-widgets/controls",
          "model_name": "DescriptionStyleModel",
          "model_module_version": "1.5.0",
          "state": {
            "_model_module": "@jupyter-widgets/controls",
            "_model_module_version": "1.5.0",
            "_model_name": "DescriptionStyleModel",
            "_view_count": null,
            "_view_module": "@jupyter-widgets/base",
            "_view_module_version": "1.2.0",
            "_view_name": "StyleView",
            "description_width": ""
          }
        },
        "a3bb9657448d4a5b84c7df47a8026505": {
          "model_module": "@jupyter-widgets/controls",
          "model_name": "HBoxModel",
          "model_module_version": "1.5.0",
          "state": {
            "_dom_classes": [],
            "_model_module": "@jupyter-widgets/controls",
            "_model_module_version": "1.5.0",
            "_model_name": "HBoxModel",
            "_view_count": null,
            "_view_module": "@jupyter-widgets/controls",
            "_view_module_version": "1.5.0",
            "_view_name": "HBoxView",
            "box_style": "",
            "children": [
              "IPY_MODEL_4cf9a56849d6436baed09f47737dfb8f",
              "IPY_MODEL_eab957d35fdc4f5695c93882688162dd",
              "IPY_MODEL_8f2efdc8234948bea07bf7b15fbccf20"
            ],
            "layout": "IPY_MODEL_bec3393608e14e77b22d06f7ffdb104d"
          }
        },
        "4cf9a56849d6436baed09f47737dfb8f": {
          "model_module": "@jupyter-widgets/controls",
          "model_name": "HTMLModel",
          "model_module_version": "1.5.0",
          "state": {
            "_dom_classes": [],
            "_model_module": "@jupyter-widgets/controls",
            "_model_module_version": "1.5.0",
            "_model_name": "HTMLModel",
            "_view_count": null,
            "_view_module": "@jupyter-widgets/controls",
            "_view_module_version": "1.5.0",
            "_view_name": "HTMLView",
            "description": "",
            "description_tooltip": null,
            "layout": "IPY_MODEL_d333dfe3fea4464e9694d118983a6a3e",
            "placeholder": "​",
            "style": "IPY_MODEL_bce29caf3d154a9c8cf4dbda5ef6ac2e",
            "value": "100%"
          }
        },
        "eab957d35fdc4f5695c93882688162dd": {
          "model_module": "@jupyter-widgets/controls",
          "model_name": "FloatProgressModel",
          "model_module_version": "1.5.0",
          "state": {
            "_dom_classes": [],
            "_model_module": "@jupyter-widgets/controls",
            "_model_module_version": "1.5.0",
            "_model_name": "FloatProgressModel",
            "_view_count": null,
            "_view_module": "@jupyter-widgets/controls",
            "_view_module_version": "1.5.0",
            "_view_name": "ProgressView",
            "bar_style": "success",
            "description": "",
            "description_tooltip": null,
            "layout": "IPY_MODEL_1d1b0648ab5e4d79bfbc955568343e75",
            "max": 4422102,
            "min": 0,
            "orientation": "horizontal",
            "style": "IPY_MODEL_520fe466ff49471d8e8602e7aed0f881",
            "value": 4422102
          }
        },
        "8f2efdc8234948bea07bf7b15fbccf20": {
          "model_module": "@jupyter-widgets/controls",
          "model_name": "HTMLModel",
          "model_module_version": "1.5.0",
          "state": {
            "_dom_classes": [],
            "_model_module": "@jupyter-widgets/controls",
            "_model_module_version": "1.5.0",
            "_model_name": "HTMLModel",
            "_view_count": null,
            "_view_module": "@jupyter-widgets/controls",
            "_view_module_version": "1.5.0",
            "_view_name": "HTMLView",
            "description": "",
            "description_tooltip": null,
            "layout": "IPY_MODEL_2a324dfeba1247e28dfe4ec09067c00f",
            "placeholder": "​",
            "style": "IPY_MODEL_de327f32e1894791a741c512b26c3aec",
            "value": " 4422102/4422102 [00:02&lt;00:00, 3484080.86it/s]"
          }
        },
        "bec3393608e14e77b22d06f7ffdb104d": {
          "model_module": "@jupyter-widgets/base",
          "model_name": "LayoutModel",
          "model_module_version": "1.2.0",
          "state": {
            "_model_module": "@jupyter-widgets/base",
            "_model_module_version": "1.2.0",
            "_model_name": "LayoutModel",
            "_view_count": null,
            "_view_module": "@jupyter-widgets/base",
            "_view_module_version": "1.2.0",
            "_view_name": "LayoutView",
            "align_content": null,
            "align_items": null,
            "align_self": null,
            "border": null,
            "bottom": null,
            "display": null,
            "flex": null,
            "flex_flow": null,
            "grid_area": null,
            "grid_auto_columns": null,
            "grid_auto_flow": null,
            "grid_auto_rows": null,
            "grid_column": null,
            "grid_gap": null,
            "grid_row": null,
            "grid_template_areas": null,
            "grid_template_columns": null,
            "grid_template_rows": null,
            "height": null,
            "justify_content": null,
            "justify_items": null,
            "left": null,
            "margin": null,
            "max_height": null,
            "max_width": null,
            "min_height": null,
            "min_width": null,
            "object_fit": null,
            "object_position": null,
            "order": null,
            "overflow": null,
            "overflow_x": null,
            "overflow_y": null,
            "padding": null,
            "right": null,
            "top": null,
            "visibility": null,
            "width": null
          }
        },
        "d333dfe3fea4464e9694d118983a6a3e": {
          "model_module": "@jupyter-widgets/base",
          "model_name": "LayoutModel",
          "model_module_version": "1.2.0",
          "state": {
            "_model_module": "@jupyter-widgets/base",
            "_model_module_version": "1.2.0",
            "_model_name": "LayoutModel",
            "_view_count": null,
            "_view_module": "@jupyter-widgets/base",
            "_view_module_version": "1.2.0",
            "_view_name": "LayoutView",
            "align_content": null,
            "align_items": null,
            "align_self": null,
            "border": null,
            "bottom": null,
            "display": null,
            "flex": null,
            "flex_flow": null,
            "grid_area": null,
            "grid_auto_columns": null,
            "grid_auto_flow": null,
            "grid_auto_rows": null,
            "grid_column": null,
            "grid_gap": null,
            "grid_row": null,
            "grid_template_areas": null,
            "grid_template_columns": null,
            "grid_template_rows": null,
            "height": null,
            "justify_content": null,
            "justify_items": null,
            "left": null,
            "margin": null,
            "max_height": null,
            "max_width": null,
            "min_height": null,
            "min_width": null,
            "object_fit": null,
            "object_position": null,
            "order": null,
            "overflow": null,
            "overflow_x": null,
            "overflow_y": null,
            "padding": null,
            "right": null,
            "top": null,
            "visibility": null,
            "width": null
          }
        },
        "bce29caf3d154a9c8cf4dbda5ef6ac2e": {
          "model_module": "@jupyter-widgets/controls",
          "model_name": "DescriptionStyleModel",
          "model_module_version": "1.5.0",
          "state": {
            "_model_module": "@jupyter-widgets/controls",
            "_model_module_version": "1.5.0",
            "_model_name": "DescriptionStyleModel",
            "_view_count": null,
            "_view_module": "@jupyter-widgets/base",
            "_view_module_version": "1.2.0",
            "_view_name": "StyleView",
            "description_width": ""
          }
        },
        "1d1b0648ab5e4d79bfbc955568343e75": {
          "model_module": "@jupyter-widgets/base",
          "model_name": "LayoutModel",
          "model_module_version": "1.2.0",
          "state": {
            "_model_module": "@jupyter-widgets/base",
            "_model_module_version": "1.2.0",
            "_model_name": "LayoutModel",
            "_view_count": null,
            "_view_module": "@jupyter-widgets/base",
            "_view_module_version": "1.2.0",
            "_view_name": "LayoutView",
            "align_content": null,
            "align_items": null,
            "align_self": null,
            "border": null,
            "bottom": null,
            "display": null,
            "flex": null,
            "flex_flow": null,
            "grid_area": null,
            "grid_auto_columns": null,
            "grid_auto_flow": null,
            "grid_auto_rows": null,
            "grid_column": null,
            "grid_gap": null,
            "grid_row": null,
            "grid_template_areas": null,
            "grid_template_columns": null,
            "grid_template_rows": null,
            "height": null,
            "justify_content": null,
            "justify_items": null,
            "left": null,
            "margin": null,
            "max_height": null,
            "max_width": null,
            "min_height": null,
            "min_width": null,
            "object_fit": null,
            "object_position": null,
            "order": null,
            "overflow": null,
            "overflow_x": null,
            "overflow_y": null,
            "padding": null,
            "right": null,
            "top": null,
            "visibility": null,
            "width": null
          }
        },
        "520fe466ff49471d8e8602e7aed0f881": {
          "model_module": "@jupyter-widgets/controls",
          "model_name": "ProgressStyleModel",
          "model_module_version": "1.5.0",
          "state": {
            "_model_module": "@jupyter-widgets/controls",
            "_model_module_version": "1.5.0",
            "_model_name": "ProgressStyleModel",
            "_view_count": null,
            "_view_module": "@jupyter-widgets/base",
            "_view_module_version": "1.2.0",
            "_view_name": "StyleView",
            "bar_color": null,
            "description_width": ""
          }
        },
        "2a324dfeba1247e28dfe4ec09067c00f": {
          "model_module": "@jupyter-widgets/base",
          "model_name": "LayoutModel",
          "model_module_version": "1.2.0",
          "state": {
            "_model_module": "@jupyter-widgets/base",
            "_model_module_version": "1.2.0",
            "_model_name": "LayoutModel",
            "_view_count": null,
            "_view_module": "@jupyter-widgets/base",
            "_view_module_version": "1.2.0",
            "_view_name": "LayoutView",
            "align_content": null,
            "align_items": null,
            "align_self": null,
            "border": null,
            "bottom": null,
            "display": null,
            "flex": null,
            "flex_flow": null,
            "grid_area": null,
            "grid_auto_columns": null,
            "grid_auto_flow": null,
            "grid_auto_rows": null,
            "grid_column": null,
            "grid_gap": null,
            "grid_row": null,
            "grid_template_areas": null,
            "grid_template_columns": null,
            "grid_template_rows": null,
            "height": null,
            "justify_content": null,
            "justify_items": null,
            "left": null,
            "margin": null,
            "max_height": null,
            "max_width": null,
            "min_height": null,
            "min_width": null,
            "object_fit": null,
            "object_position": null,
            "order": null,
            "overflow": null,
            "overflow_x": null,
            "overflow_y": null,
            "padding": null,
            "right": null,
            "top": null,
            "visibility": null,
            "width": null
          }
        },
        "de327f32e1894791a741c512b26c3aec": {
          "model_module": "@jupyter-widgets/controls",
          "model_name": "DescriptionStyleModel",
          "model_module_version": "1.5.0",
          "state": {
            "_model_module": "@jupyter-widgets/controls",
            "_model_module_version": "1.5.0",
            "_model_name": "DescriptionStyleModel",
            "_view_count": null,
            "_view_module": "@jupyter-widgets/base",
            "_view_module_version": "1.2.0",
            "_view_name": "StyleView",
            "description_width": ""
          }
        },
        "4bb08d8ebb8f4b3ba464d4ddf6beec29": {
          "model_module": "@jupyter-widgets/controls",
          "model_name": "HBoxModel",
          "model_module_version": "1.5.0",
          "state": {
            "_dom_classes": [],
            "_model_module": "@jupyter-widgets/controls",
            "_model_module_version": "1.5.0",
            "_model_name": "HBoxModel",
            "_view_count": null,
            "_view_module": "@jupyter-widgets/controls",
            "_view_module_version": "1.5.0",
            "_view_name": "HBoxView",
            "box_style": "",
            "children": [
              "IPY_MODEL_76f4c5c1bb5447f19076dc167607dfd5",
              "IPY_MODEL_0ae49f9aa73e400eaf87ec967f1a27ce",
              "IPY_MODEL_97fd87cca96c4b318119d324fb205526"
            ],
            "layout": "IPY_MODEL_9b14725487fb4292907555219ac64a32"
          }
        },
        "76f4c5c1bb5447f19076dc167607dfd5": {
          "model_module": "@jupyter-widgets/controls",
          "model_name": "HTMLModel",
          "model_module_version": "1.5.0",
          "state": {
            "_dom_classes": [],
            "_model_module": "@jupyter-widgets/controls",
            "_model_module_version": "1.5.0",
            "_model_name": "HTMLModel",
            "_view_count": null,
            "_view_module": "@jupyter-widgets/controls",
            "_view_module_version": "1.5.0",
            "_view_name": "HTMLView",
            "description": "",
            "description_tooltip": null,
            "layout": "IPY_MODEL_b999a6daaebe490ba371cf3c241a5b58",
            "placeholder": "​",
            "style": "IPY_MODEL_3e6fa0baf1d14e9cb3dd4eb1bf07b921",
            "value": "100%"
          }
        },
        "0ae49f9aa73e400eaf87ec967f1a27ce": {
          "model_module": "@jupyter-widgets/controls",
          "model_name": "FloatProgressModel",
          "model_module_version": "1.5.0",
          "state": {
            "_dom_classes": [],
            "_model_module": "@jupyter-widgets/controls",
            "_model_module_version": "1.5.0",
            "_model_name": "FloatProgressModel",
            "_view_count": null,
            "_view_module": "@jupyter-widgets/controls",
            "_view_module_version": "1.5.0",
            "_view_name": "ProgressView",
            "bar_style": "success",
            "description": "",
            "description_tooltip": null,
            "layout": "IPY_MODEL_e222dd4603b04b48b3f02e7d06439082",
            "max": 5148,
            "min": 0,
            "orientation": "horizontal",
            "style": "IPY_MODEL_02c0371a4cd147578e46122e0cdfe375",
            "value": 5148
          }
        },
        "97fd87cca96c4b318119d324fb205526": {
          "model_module": "@jupyter-widgets/controls",
          "model_name": "HTMLModel",
          "model_module_version": "1.5.0",
          "state": {
            "_dom_classes": [],
            "_model_module": "@jupyter-widgets/controls",
            "_model_module_version": "1.5.0",
            "_model_name": "HTMLModel",
            "_view_count": null,
            "_view_module": "@jupyter-widgets/controls",
            "_view_module_version": "1.5.0",
            "_view_name": "HTMLView",
            "description": "",
            "description_tooltip": null,
            "layout": "IPY_MODEL_c3a9e912e62b4263bbc3e20094ee315f",
            "placeholder": "​",
            "style": "IPY_MODEL_a289d396edb249a299afbb75d312345c",
            "value": " 5148/5148 [00:00&lt;00:00, 73306.48it/s]"
          }
        },
        "9b14725487fb4292907555219ac64a32": {
          "model_module": "@jupyter-widgets/base",
          "model_name": "LayoutModel",
          "model_module_version": "1.2.0",
          "state": {
            "_model_module": "@jupyter-widgets/base",
            "_model_module_version": "1.2.0",
            "_model_name": "LayoutModel",
            "_view_count": null,
            "_view_module": "@jupyter-widgets/base",
            "_view_module_version": "1.2.0",
            "_view_name": "LayoutView",
            "align_content": null,
            "align_items": null,
            "align_self": null,
            "border": null,
            "bottom": null,
            "display": null,
            "flex": null,
            "flex_flow": null,
            "grid_area": null,
            "grid_auto_columns": null,
            "grid_auto_flow": null,
            "grid_auto_rows": null,
            "grid_column": null,
            "grid_gap": null,
            "grid_row": null,
            "grid_template_areas": null,
            "grid_template_columns": null,
            "grid_template_rows": null,
            "height": null,
            "justify_content": null,
            "justify_items": null,
            "left": null,
            "margin": null,
            "max_height": null,
            "max_width": null,
            "min_height": null,
            "min_width": null,
            "object_fit": null,
            "object_position": null,
            "order": null,
            "overflow": null,
            "overflow_x": null,
            "overflow_y": null,
            "padding": null,
            "right": null,
            "top": null,
            "visibility": null,
            "width": null
          }
        },
        "b999a6daaebe490ba371cf3c241a5b58": {
          "model_module": "@jupyter-widgets/base",
          "model_name": "LayoutModel",
          "model_module_version": "1.2.0",
          "state": {
            "_model_module": "@jupyter-widgets/base",
            "_model_module_version": "1.2.0",
            "_model_name": "LayoutModel",
            "_view_count": null,
            "_view_module": "@jupyter-widgets/base",
            "_view_module_version": "1.2.0",
            "_view_name": "LayoutView",
            "align_content": null,
            "align_items": null,
            "align_self": null,
            "border": null,
            "bottom": null,
            "display": null,
            "flex": null,
            "flex_flow": null,
            "grid_area": null,
            "grid_auto_columns": null,
            "grid_auto_flow": null,
            "grid_auto_rows": null,
            "grid_column": null,
            "grid_gap": null,
            "grid_row": null,
            "grid_template_areas": null,
            "grid_template_columns": null,
            "grid_template_rows": null,
            "height": null,
            "justify_content": null,
            "justify_items": null,
            "left": null,
            "margin": null,
            "max_height": null,
            "max_width": null,
            "min_height": null,
            "min_width": null,
            "object_fit": null,
            "object_position": null,
            "order": null,
            "overflow": null,
            "overflow_x": null,
            "overflow_y": null,
            "padding": null,
            "right": null,
            "top": null,
            "visibility": null,
            "width": null
          }
        },
        "3e6fa0baf1d14e9cb3dd4eb1bf07b921": {
          "model_module": "@jupyter-widgets/controls",
          "model_name": "DescriptionStyleModel",
          "model_module_version": "1.5.0",
          "state": {
            "_model_module": "@jupyter-widgets/controls",
            "_model_module_version": "1.5.0",
            "_model_name": "DescriptionStyleModel",
            "_view_count": null,
            "_view_module": "@jupyter-widgets/base",
            "_view_module_version": "1.2.0",
            "_view_name": "StyleView",
            "description_width": ""
          }
        },
        "e222dd4603b04b48b3f02e7d06439082": {
          "model_module": "@jupyter-widgets/base",
          "model_name": "LayoutModel",
          "model_module_version": "1.2.0",
          "state": {
            "_model_module": "@jupyter-widgets/base",
            "_model_module_version": "1.2.0",
            "_model_name": "LayoutModel",
            "_view_count": null,
            "_view_module": "@jupyter-widgets/base",
            "_view_module_version": "1.2.0",
            "_view_name": "LayoutView",
            "align_content": null,
            "align_items": null,
            "align_self": null,
            "border": null,
            "bottom": null,
            "display": null,
            "flex": null,
            "flex_flow": null,
            "grid_area": null,
            "grid_auto_columns": null,
            "grid_auto_flow": null,
            "grid_auto_rows": null,
            "grid_column": null,
            "grid_gap": null,
            "grid_row": null,
            "grid_template_areas": null,
            "grid_template_columns": null,
            "grid_template_rows": null,
            "height": null,
            "justify_content": null,
            "justify_items": null,
            "left": null,
            "margin": null,
            "max_height": null,
            "max_width": null,
            "min_height": null,
            "min_width": null,
            "object_fit": null,
            "object_position": null,
            "order": null,
            "overflow": null,
            "overflow_x": null,
            "overflow_y": null,
            "padding": null,
            "right": null,
            "top": null,
            "visibility": null,
            "width": null
          }
        },
        "02c0371a4cd147578e46122e0cdfe375": {
          "model_module": "@jupyter-widgets/controls",
          "model_name": "ProgressStyleModel",
          "model_module_version": "1.5.0",
          "state": {
            "_model_module": "@jupyter-widgets/controls",
            "_model_module_version": "1.5.0",
            "_model_name": "ProgressStyleModel",
            "_view_count": null,
            "_view_module": "@jupyter-widgets/base",
            "_view_module_version": "1.2.0",
            "_view_name": "StyleView",
            "bar_color": null,
            "description_width": ""
          }
        },
        "c3a9e912e62b4263bbc3e20094ee315f": {
          "model_module": "@jupyter-widgets/base",
          "model_name": "LayoutModel",
          "model_module_version": "1.2.0",
          "state": {
            "_model_module": "@jupyter-widgets/base",
            "_model_module_version": "1.2.0",
            "_model_name": "LayoutModel",
            "_view_count": null,
            "_view_module": "@jupyter-widgets/base",
            "_view_module_version": "1.2.0",
            "_view_name": "LayoutView",
            "align_content": null,
            "align_items": null,
            "align_self": null,
            "border": null,
            "bottom": null,
            "display": null,
            "flex": null,
            "flex_flow": null,
            "grid_area": null,
            "grid_auto_columns": null,
            "grid_auto_flow": null,
            "grid_auto_rows": null,
            "grid_column": null,
            "grid_gap": null,
            "grid_row": null,
            "grid_template_areas": null,
            "grid_template_columns": null,
            "grid_template_rows": null,
            "height": null,
            "justify_content": null,
            "justify_items": null,
            "left": null,
            "margin": null,
            "max_height": null,
            "max_width": null,
            "min_height": null,
            "min_width": null,
            "object_fit": null,
            "object_position": null,
            "order": null,
            "overflow": null,
            "overflow_x": null,
            "overflow_y": null,
            "padding": null,
            "right": null,
            "top": null,
            "visibility": null,
            "width": null
          }
        },
        "a289d396edb249a299afbb75d312345c": {
          "model_module": "@jupyter-widgets/controls",
          "model_name": "DescriptionStyleModel",
          "model_module_version": "1.5.0",
          "state": {
            "_model_module": "@jupyter-widgets/controls",
            "_model_module_version": "1.5.0",
            "_model_name": "DescriptionStyleModel",
            "_view_count": null,
            "_view_module": "@jupyter-widgets/base",
            "_view_module_version": "1.2.0",
            "_view_name": "StyleView",
            "description_width": ""
          }
        }
      }
    }
  },
  "cells": [
    {
      "cell_type": "code",
      "source": [
        "!pip install d2l"
      ],
      "metadata": {
        "colab": {
          "base_uri": "https://localhost:8080/"
        },
        "id": "NdXiDuMxw0ZO",
        "outputId": "a869985f-ec35-4410-a40f-ab8c2aed47c8"
      },
      "execution_count": 1,
      "outputs": [
        {
          "output_type": "stream",
          "name": "stdout",
          "text": [
            "Looking in indexes: https://pypi.org/simple, https://us-python.pkg.dev/colab-wheels/public/simple/\n",
            "Requirement already satisfied: d2l in /usr/local/lib/python3.7/dist-packages (0.17.5)\n",
            "Requirement already satisfied: matplotlib==3.5.1 in /usr/local/lib/python3.7/dist-packages (from d2l) (3.5.1)\n",
            "Requirement already satisfied: requests==2.25.1 in /usr/local/lib/python3.7/dist-packages (from d2l) (2.25.1)\n",
            "Requirement already satisfied: pandas==1.2.4 in /usr/local/lib/python3.7/dist-packages (from d2l) (1.2.4)\n",
            "Requirement already satisfied: numpy==1.21.5 in /usr/local/lib/python3.7/dist-packages (from d2l) (1.21.5)\n",
            "Requirement already satisfied: jupyter==1.0.0 in /usr/local/lib/python3.7/dist-packages (from d2l) (1.0.0)\n",
            "Requirement already satisfied: jupyter-console in /usr/local/lib/python3.7/dist-packages (from jupyter==1.0.0->d2l) (5.2.0)\n",
            "Requirement already satisfied: ipykernel in /usr/local/lib/python3.7/dist-packages (from jupyter==1.0.0->d2l) (4.10.1)\n",
            "Requirement already satisfied: nbconvert in /usr/local/lib/python3.7/dist-packages (from jupyter==1.0.0->d2l) (5.6.1)\n",
            "Requirement already satisfied: qtconsole in /usr/local/lib/python3.7/dist-packages (from jupyter==1.0.0->d2l) (5.3.1)\n",
            "Requirement already satisfied: notebook in /usr/local/lib/python3.7/dist-packages (from jupyter==1.0.0->d2l) (5.3.1)\n",
            "Requirement already satisfied: ipywidgets in /usr/local/lib/python3.7/dist-packages (from jupyter==1.0.0->d2l) (7.7.1)\n",
            "Requirement already satisfied: packaging>=20.0 in /usr/local/lib/python3.7/dist-packages (from matplotlib==3.5.1->d2l) (21.3)\n",
            "Requirement already satisfied: pyparsing>=2.2.1 in /usr/local/lib/python3.7/dist-packages (from matplotlib==3.5.1->d2l) (3.0.9)\n",
            "Requirement already satisfied: python-dateutil>=2.7 in /usr/local/lib/python3.7/dist-packages (from matplotlib==3.5.1->d2l) (2.8.2)\n",
            "Requirement already satisfied: kiwisolver>=1.0.1 in /usr/local/lib/python3.7/dist-packages (from matplotlib==3.5.1->d2l) (1.4.3)\n",
            "Requirement already satisfied: cycler>=0.10 in /usr/local/lib/python3.7/dist-packages (from matplotlib==3.5.1->d2l) (0.11.0)\n",
            "Requirement already satisfied: fonttools>=4.22.0 in /usr/local/lib/python3.7/dist-packages (from matplotlib==3.5.1->d2l) (4.34.4)\n",
            "Requirement already satisfied: pillow>=6.2.0 in /usr/local/lib/python3.7/dist-packages (from matplotlib==3.5.1->d2l) (7.1.2)\n",
            "Requirement already satisfied: pytz>=2017.3 in /usr/local/lib/python3.7/dist-packages (from pandas==1.2.4->d2l) (2022.1)\n",
            "Requirement already satisfied: urllib3<1.27,>=1.21.1 in /usr/local/lib/python3.7/dist-packages (from requests==2.25.1->d2l) (1.24.3)\n",
            "Requirement already satisfied: chardet<5,>=3.0.2 in /usr/local/lib/python3.7/dist-packages (from requests==2.25.1->d2l) (3.0.4)\n",
            "Requirement already satisfied: certifi>=2017.4.17 in /usr/local/lib/python3.7/dist-packages (from requests==2.25.1->d2l) (2022.6.15)\n",
            "Requirement already satisfied: idna<3,>=2.5 in /usr/local/lib/python3.7/dist-packages (from requests==2.25.1->d2l) (2.10)\n",
            "Requirement already satisfied: typing-extensions in /usr/local/lib/python3.7/dist-packages (from kiwisolver>=1.0.1->matplotlib==3.5.1->d2l) (4.1.1)\n",
            "Requirement already satisfied: six>=1.5 in /usr/local/lib/python3.7/dist-packages (from python-dateutil>=2.7->matplotlib==3.5.1->d2l) (1.15.0)\n",
            "Requirement already satisfied: traitlets>=4.1.0 in /usr/local/lib/python3.7/dist-packages (from ipykernel->jupyter==1.0.0->d2l) (5.1.1)\n",
            "Requirement already satisfied: tornado>=4.0 in /usr/local/lib/python3.7/dist-packages (from ipykernel->jupyter==1.0.0->d2l) (5.1.1)\n",
            "Requirement already satisfied: ipython>=4.0.0 in /usr/local/lib/python3.7/dist-packages (from ipykernel->jupyter==1.0.0->d2l) (5.5.0)\n",
            "Requirement already satisfied: jupyter-client in /usr/local/lib/python3.7/dist-packages (from ipykernel->jupyter==1.0.0->d2l) (5.3.5)\n",
            "Requirement already satisfied: setuptools>=18.5 in /usr/local/lib/python3.7/dist-packages (from ipython>=4.0.0->ipykernel->jupyter==1.0.0->d2l) (57.4.0)\n",
            "Requirement already satisfied: pygments in /usr/local/lib/python3.7/dist-packages (from ipython>=4.0.0->ipykernel->jupyter==1.0.0->d2l) (2.6.1)\n",
            "Requirement already satisfied: pexpect in /usr/local/lib/python3.7/dist-packages (from ipython>=4.0.0->ipykernel->jupyter==1.0.0->d2l) (4.8.0)\n",
            "Requirement already satisfied: decorator in /usr/local/lib/python3.7/dist-packages (from ipython>=4.0.0->ipykernel->jupyter==1.0.0->d2l) (4.4.2)\n",
            "Requirement already satisfied: simplegeneric>0.8 in /usr/local/lib/python3.7/dist-packages (from ipython>=4.0.0->ipykernel->jupyter==1.0.0->d2l) (0.8.1)\n",
            "Requirement already satisfied: pickleshare in /usr/local/lib/python3.7/dist-packages (from ipython>=4.0.0->ipykernel->jupyter==1.0.0->d2l) (0.7.5)\n",
            "Requirement already satisfied: prompt-toolkit<2.0.0,>=1.0.4 in /usr/local/lib/python3.7/dist-packages (from ipython>=4.0.0->ipykernel->jupyter==1.0.0->d2l) (1.0.18)\n",
            "Requirement already satisfied: wcwidth in /usr/local/lib/python3.7/dist-packages (from prompt-toolkit<2.0.0,>=1.0.4->ipython>=4.0.0->ipykernel->jupyter==1.0.0->d2l) (0.2.5)\n",
            "Requirement already satisfied: widgetsnbextension~=3.6.0 in /usr/local/lib/python3.7/dist-packages (from ipywidgets->jupyter==1.0.0->d2l) (3.6.1)\n",
            "Requirement already satisfied: ipython-genutils~=0.2.0 in /usr/local/lib/python3.7/dist-packages (from ipywidgets->jupyter==1.0.0->d2l) (0.2.0)\n",
            "Requirement already satisfied: jupyterlab-widgets>=1.0.0 in /usr/local/lib/python3.7/dist-packages (from ipywidgets->jupyter==1.0.0->d2l) (1.1.1)\n",
            "Requirement already satisfied: jinja2 in /usr/local/lib/python3.7/dist-packages (from notebook->jupyter==1.0.0->d2l) (2.11.3)\n",
            "Requirement already satisfied: terminado>=0.8.1 in /usr/local/lib/python3.7/dist-packages (from notebook->jupyter==1.0.0->d2l) (0.13.3)\n",
            "Requirement already satisfied: jupyter-core>=4.4.0 in /usr/local/lib/python3.7/dist-packages (from notebook->jupyter==1.0.0->d2l) (4.11.1)\n",
            "Requirement already satisfied: Send2Trash in /usr/local/lib/python3.7/dist-packages (from notebook->jupyter==1.0.0->d2l) (1.8.0)\n",
            "Requirement already satisfied: nbformat in /usr/local/lib/python3.7/dist-packages (from notebook->jupyter==1.0.0->d2l) (5.4.0)\n",
            "Requirement already satisfied: pyzmq>=13 in /usr/local/lib/python3.7/dist-packages (from jupyter-client->ipykernel->jupyter==1.0.0->d2l) (23.2.0)\n",
            "Requirement already satisfied: ptyprocess in /usr/local/lib/python3.7/dist-packages (from terminado>=0.8.1->notebook->jupyter==1.0.0->d2l) (0.7.0)\n",
            "Requirement already satisfied: MarkupSafe>=0.23 in /usr/local/lib/python3.7/dist-packages (from jinja2->notebook->jupyter==1.0.0->d2l) (2.0.1)\n",
            "Requirement already satisfied: bleach in /usr/local/lib/python3.7/dist-packages (from nbconvert->jupyter==1.0.0->d2l) (5.0.1)\n",
            "Requirement already satisfied: testpath in /usr/local/lib/python3.7/dist-packages (from nbconvert->jupyter==1.0.0->d2l) (0.6.0)\n",
            "Requirement already satisfied: defusedxml in /usr/local/lib/python3.7/dist-packages (from nbconvert->jupyter==1.0.0->d2l) (0.7.1)\n",
            "Requirement already satisfied: entrypoints>=0.2.2 in /usr/local/lib/python3.7/dist-packages (from nbconvert->jupyter==1.0.0->d2l) (0.4)\n",
            "Requirement already satisfied: pandocfilters>=1.4.1 in /usr/local/lib/python3.7/dist-packages (from nbconvert->jupyter==1.0.0->d2l) (1.5.0)\n",
            "Requirement already satisfied: mistune<2,>=0.8.1 in /usr/local/lib/python3.7/dist-packages (from nbconvert->jupyter==1.0.0->d2l) (0.8.4)\n",
            "Requirement already satisfied: fastjsonschema in /usr/local/lib/python3.7/dist-packages (from nbformat->notebook->jupyter==1.0.0->d2l) (2.15.3)\n",
            "Requirement already satisfied: jsonschema>=2.6 in /usr/local/lib/python3.7/dist-packages (from nbformat->notebook->jupyter==1.0.0->d2l) (4.3.3)\n",
            "Requirement already satisfied: attrs>=17.4.0 in /usr/local/lib/python3.7/dist-packages (from jsonschema>=2.6->nbformat->notebook->jupyter==1.0.0->d2l) (21.4.0)\n",
            "Requirement already satisfied: importlib-metadata in /usr/local/lib/python3.7/dist-packages (from jsonschema>=2.6->nbformat->notebook->jupyter==1.0.0->d2l) (4.12.0)\n",
            "Requirement already satisfied: importlib-resources>=1.4.0 in /usr/local/lib/python3.7/dist-packages (from jsonschema>=2.6->nbformat->notebook->jupyter==1.0.0->d2l) (5.8.0)\n",
            "Requirement already satisfied: pyrsistent!=0.17.0,!=0.17.1,!=0.17.2,>=0.14.0 in /usr/local/lib/python3.7/dist-packages (from jsonschema>=2.6->nbformat->notebook->jupyter==1.0.0->d2l) (0.18.1)\n",
            "Requirement already satisfied: zipp>=3.1.0 in /usr/local/lib/python3.7/dist-packages (from importlib-resources>=1.4.0->jsonschema>=2.6->nbformat->notebook->jupyter==1.0.0->d2l) (3.8.0)\n",
            "Requirement already satisfied: webencodings in /usr/local/lib/python3.7/dist-packages (from bleach->nbconvert->jupyter==1.0.0->d2l) (0.5.1)\n",
            "Requirement already satisfied: qtpy>=2.0.1 in /usr/local/lib/python3.7/dist-packages (from qtconsole->jupyter==1.0.0->d2l) (2.1.0)\n"
          ]
        }
      ]
    },
    {
      "cell_type": "code",
      "execution_count": 2,
      "metadata": {
        "id": "RovuBJZIwvGg"
      },
      "outputs": [],
      "source": [
        "%matplotlib inline\n",
        "import torch\n",
        "import torchvision\n",
        "from torch.utils import data\n",
        "from torchvision import transforms\n",
        "from d2l import torch as d2l\n",
        "d2l.use_svg_display()"
      ]
    },
    {
      "cell_type": "markdown",
      "source": [
        "# reading the Dataset"
      ],
      "metadata": {
        "id": "DmiX2ZppyAZA"
      }
    },
    {
      "cell_type": "code",
      "source": [
        "trans = transforms.ToTensor()\n",
        "cifar_train = torchvision.datasets.CIFAR10(\n",
        "  root=\"../data\", train=True, transform=trans, download=True)\n",
        "cifar_test = torchvision.datasets.CIFAR10(\n",
        "  root=\"../data\", train=False, transform=trans, download=True)"
      ],
      "metadata": {
        "colab": {
          "base_uri": "https://localhost:8080/"
        },
        "id": "ya-NMy9S1tRl",
        "outputId": "529c0541-cb21-4e19-dad2-970b59a0ef93"
      },
      "execution_count": 3,
      "outputs": [
        {
          "output_type": "stream",
          "name": "stdout",
          "text": [
            "Files already downloaded and verified\n",
            "Files already downloaded and verified\n"
          ]
        }
      ]
    },
    {
      "cell_type": "markdown",
      "source": [
        "The CIFAR-10 dataset consists of 60000 32x32 colour images in 10 classes, with 6000 images per class. There are 50000 training images and 10000 test images.\n"
      ],
      "metadata": {
        "id": "9uPz2RFR3qM5"
      }
    },
    {
      "cell_type": "code",
      "source": [
        "len(cifar_train), len(cifar_test)"
      ],
      "metadata": {
        "colab": {
          "base_uri": "https://localhost:8080/"
        },
        "id": "Q7R_TgYE1JrP",
        "outputId": "52cda30d-1b6d-48ff-fbf4-3f84e43e0aa8"
      },
      "execution_count": 4,
      "outputs": [
        {
          "output_type": "execute_result",
          "data": {
            "text/plain": [
              "(50000, 10000)"
            ]
          },
          "metadata": {},
          "execution_count": 4
        }
      ]
    },
    {
      "cell_type": "code",
      "source": [
        "cifar_train[0][0].shape"
      ],
      "metadata": {
        "colab": {
          "base_uri": "https://localhost:8080/"
        },
        "id": "WLN6uClP3oG1",
        "outputId": "c930e7dd-1f8c-4afe-f873-75860a7333f4"
      },
      "execution_count": 5,
      "outputs": [
        {
          "output_type": "execute_result",
          "data": {
            "text/plain": [
              "torch.Size([3, 32, 32])"
            ]
          },
          "metadata": {},
          "execution_count": 5
        }
      ]
    },
    {
      "cell_type": "code",
      "source": [
        "def get_cifar_labels(labels):\n",
        "  text_labels = ['airplane', 'automobile', 'bird', 'cat', 'deer',\n",
        "  'dog', 'frog', 'horse', 'ship', 'truck']\n",
        "  return [text_labels[int(i)] for i in labels]"
      ],
      "metadata": {
        "id": "AdT_1mpR323A"
      },
      "execution_count": 6,
      "outputs": []
    },
    {
      "cell_type": "code",
      "source": [
        "def show_images(imgs, num_rows, num_cols, titles=None, scale=1.5):\n",
        "  figsize = (num_cols * scale, num_rows * scale)\n",
        "  _, axes = d2l.plt.subplots(num_rows, num_cols, figsize=figsize)\n",
        "  axes = axes.flatten()\n",
        "  for i, (ax, img) in enumerate(zip(axes, imgs)):\n",
        "    if torch.is_tensor(img):\n",
        "      # Tensor Image\n",
        "      ax.imshow(img.numpy())\n",
        "    else:\n",
        "      # PIL Image\n",
        "      ax.imshow(img)\n",
        "    ax.axes.get_xaxis().set_visible(False)\n",
        "    ax.axes.get_yaxis().set_visible(False)\n",
        "    if titles:\n",
        "      ax.set_title(titles[i])\n",
        "  return axes"
      ],
      "metadata": {
        "id": "FuWdJPBS6B7T"
      },
      "execution_count": 7,
      "outputs": []
    },
    {
      "cell_type": "code",
      "source": [
        "X, y = next(iter(data.DataLoader(cifar_train, batch_size=18)))"
      ],
      "metadata": {
        "id": "rN7Sns8g8CQi"
      },
      "execution_count": 8,
      "outputs": []
    },
    {
      "cell_type": "code",
      "source": [
        "X.shape"
      ],
      "metadata": {
        "colab": {
          "base_uri": "https://localhost:8080/"
        },
        "id": "HPIiwzbeCgrO",
        "outputId": "e5229ac9-5c13-4fd8-901e-a8f07d39f17d"
      },
      "execution_count": 9,
      "outputs": [
        {
          "output_type": "execute_result",
          "data": {
            "text/plain": [
              "torch.Size([18, 3, 32, 32])"
            ]
          },
          "metadata": {},
          "execution_count": 9
        }
      ]
    },
    {
      "cell_type": "code",
      "source": [
        "show_images(X.reshape(54, 32, 32), 2, 9, titles=get_cifar_labels(y));"
      ],
      "metadata": {
        "colab": {
          "base_uri": "https://localhost:8080/",
          "height": 277
        },
        "id": "7rLJzvXG_qmV",
        "outputId": "fbf1b60a-f201-491a-acb6-70e3467f2c8f"
      },
      "execution_count": 10,
      "outputs": [
        {
          "output_type": "display_data",
          "data": {
            "text/plain": [
              "<Figure size 972x216 with 18 Axes>"
            ],
            "image/svg+xml": "<?xml version=\"1.0\" encoding=\"utf-8\" standalone=\"no\"?>\n<!DOCTYPE svg PUBLIC \"-//W3C//DTD SVG 1.1//EN\"\n  \"http://www.w3.org/Graphics/SVG/1.1/DTD/svg11.dtd\">\n<svg xmlns:xlink=\"http://www.w3.org/1999/xlink\" width=\"771.2pt\" height=\"193.03689pt\" viewBox=\"0 0 771.2 193.03689\" xmlns=\"http://www.w3.org/2000/svg\" version=\"1.1\">\n <metadata>\n  <rdf:RDF xmlns:dc=\"http://purl.org/dc/elements/1.1/\" xmlns:cc=\"http://creativecommons.org/ns#\" xmlns:rdf=\"http://www.w3.org/1999/02/22-rdf-syntax-ns#\">\n   <cc:Work>\n    <dc:type rdf:resource=\"http://purl.org/dc/dcmitype/StillImage\"/>\n    <dc:date>2022-07-19T05:01:32.955703</dc:date>\n    <dc:format>image/svg+xml</dc:format>\n    <dc:creator>\n     <cc:Agent>\n      <dc:title>Matplotlib v3.5.1, https://matplotlib.org/</dc:title>\n     </cc:Agent>\n    </dc:creator>\n   </cc:Work>\n  </rdf:RDF>\n </metadata>\n <defs>\n  <style type=\"text/css\">*{stroke-linejoin: round; stroke-linecap: butt}</style>\n </defs>\n <g id=\"figure_1\">\n  <g id=\"patch_1\">\n   <path d=\"M 0 193.03689 \nL 771.2 193.03689 \nL 771.2 -0 \nL 0 -0 \nL 0 193.03689 \nz\n\" style=\"fill: none\"/>\n  </g>\n  <g id=\"axes_1\">\n   <g id=\"patch_2\">\n    <path d=\"M 10.7 93.384163 \nL 81.766038 93.384163 \nL 81.766038 22.318125 \nL 10.7 22.318125 \nz\n\" style=\"fill: #ffffff\"/>\n   </g>\n   <g clip-path=\"url(#p5f60544179)\">\n    <image xlink:href=\"data:image/png;base64,\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\" id=\"image82936d2ba2\" transform=\"scale(1 -1)translate(0 -72)\" x=\"10.7\" y=\"-21.384163\" width=\"72\" height=\"72\"/>\n   </g>\n   <g id=\"patch_3\">\n    <path d=\"M 10.7 93.384163 \nL 10.7 22.318125 \n\" style=\"fill: none; stroke: #000000; stroke-width: 0.8; stroke-linejoin: miter; stroke-linecap: square\"/>\n   </g>\n   <g id=\"patch_4\">\n    <path d=\"M 81.766038 93.384163 \nL 81.766038 22.318125 \n\" style=\"fill: none; stroke: #000000; stroke-width: 0.8; stroke-linejoin: miter; stroke-linecap: square\"/>\n   </g>\n   <g id=\"patch_5\">\n    <path d=\"M 10.7 93.384163 \nL 81.766038 93.384163 \n\" style=\"fill: none; stroke: #000000; stroke-width: 0.8; stroke-linejoin: miter; stroke-linecap: square\"/>\n   </g>\n   <g id=\"patch_6\">\n    <path d=\"M 10.7 22.318125 \nL 81.766038 22.318125 \n\" style=\"fill: none; stroke: #000000; stroke-width: 0.8; stroke-linejoin: miter; stroke-linecap: square\"/>\n   </g>\n   <g id=\"text_1\">\n    <!-- frog -->\n    <g transform=\"translate(34.308956 16.318125)scale(0.12 -0.12)\">\n     <defs>\n      <path id=\"DejaVuSans-66\" d=\"M 2375 4863 \nL 2375 4384 \nL 1825 4384 \nQ 1516 4384 1395 4259 \nQ 1275 4134 1275 3809 \nL 1275 3500 \nL 2222 3500 \nL 2222 3053 \nL 1275 3053 \nL 1275 0 \nL 697 0 \nL 697 3053 \nL 147 3053 \nL 147 3500 \nL 697 3500 \nL 697 3744 \nQ 697 4328 969 4595 \nQ 1241 4863 1831 4863 \nL 2375 4863 \nz\n\" transform=\"scale(0.015625)\"/>\n      <path id=\"DejaVuSans-72\" d=\"M 2631 2963 \nQ 2534 3019 2420 3045 \nQ 2306 3072 2169 3072 \nQ 1681 3072 1420 2755 \nQ 1159 2438 1159 1844 \nL 1159 0 \nL 581 0 \nL 581 3500 \nL 1159 3500 \nL 1159 2956 \nQ 1341 3275 1631 3429 \nQ 1922 3584 2338 3584 \nQ 2397 3584 2469 3576 \nQ 2541 3569 2628 3553 \nL 2631 2963 \nz\n\" transform=\"scale(0.015625)\"/>\n      <path id=\"DejaVuSans-6f\" d=\"M 1959 3097 \nQ 1497 3097 1228 2736 \nQ 959 2375 959 1747 \nQ 959 1119 1226 758 \nQ 1494 397 1959 397 \nQ 2419 397 2687 759 \nQ 2956 1122 2956 1747 \nQ 2956 2369 2687 2733 \nQ 2419 3097 1959 3097 \nz\nM 1959 3584 \nQ 2709 3584 3137 3096 \nQ 3566 2609 3566 1747 \nQ 3566 888 3137 398 \nQ 2709 -91 1959 -91 \nQ 1206 -91 779 398 \nQ 353 888 353 1747 \nQ 353 2609 779 3096 \nQ 1206 3584 1959 3584 \nz\n\" transform=\"scale(0.015625)\"/>\n      <path id=\"DejaVuSans-67\" d=\"M 2906 1791 \nQ 2906 2416 2648 2759 \nQ 2391 3103 1925 3103 \nQ 1463 3103 1205 2759 \nQ 947 2416 947 1791 \nQ 947 1169 1205 825 \nQ 1463 481 1925 481 \nQ 2391 481 2648 825 \nQ 2906 1169 2906 1791 \nz\nM 3481 434 \nQ 3481 -459 3084 -895 \nQ 2688 -1331 1869 -1331 \nQ 1566 -1331 1297 -1286 \nQ 1028 -1241 775 -1147 \nL 775 -588 \nQ 1028 -725 1275 -790 \nQ 1522 -856 1778 -856 \nQ 2344 -856 2625 -561 \nQ 2906 -266 2906 331 \nL 2906 616 \nQ 2728 306 2450 153 \nQ 2172 0 1784 0 \nQ 1141 0 747 490 \nQ 353 981 353 1791 \nQ 353 2603 747 3093 \nQ 1141 3584 1784 3584 \nQ 2172 3584 2450 3431 \nQ 2728 3278 2906 2969 \nL 2906 3500 \nL 3481 3500 \nL 3481 434 \nz\n\" transform=\"scale(0.015625)\"/>\n     </defs>\n     <use xlink:href=\"#DejaVuSans-66\"/>\n     <use xlink:href=\"#DejaVuSans-72\" x=\"35.205078\"/>\n     <use xlink:href=\"#DejaVuSans-6f\" x=\"74.068359\"/>\n     <use xlink:href=\"#DejaVuSans-67\" x=\"135.25\"/>\n    </g>\n   </g>\n  </g>\n  <g id=\"axes_2\">\n   <g id=\"patch_7\">\n    <path d=\"M 95.979245 93.384163 \nL 167.045283 93.384163 \nL 167.045283 22.318125 \nL 95.979245 22.318125 \nz\n\" style=\"fill: #ffffff\"/>\n   </g>\n   <g clip-path=\"url(#p83cf8843ed)\">\n    <image xlink:href=\"data:image/png;base64,\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\" id=\"image55247ad1fa\" transform=\"scale(1 -1)translate(0 -72)\" x=\"95.979245\" y=\"-21.384163\" width=\"72\" height=\"72\"/>\n   </g>\n   <g id=\"patch_8\">\n    <path d=\"M 95.979245 93.384163 \nL 95.979245 22.318125 \n\" style=\"fill: none; stroke: #000000; stroke-width: 0.8; stroke-linejoin: miter; stroke-linecap: square\"/>\n   </g>\n   <g id=\"patch_9\">\n    <path d=\"M 167.045283 93.384163 \nL 167.045283 22.318125 \n\" style=\"fill: none; stroke: #000000; stroke-width: 0.8; stroke-linejoin: miter; stroke-linecap: square\"/>\n   </g>\n   <g id=\"patch_10\">\n    <path d=\"M 95.979245 93.384163 \nL 167.045283 93.384163 \n\" style=\"fill: none; stroke: #000000; stroke-width: 0.8; stroke-linejoin: miter; stroke-linecap: square\"/>\n   </g>\n   <g id=\"patch_11\">\n    <path d=\"M 95.979245 22.318125 \nL 167.045283 22.318125 \n\" style=\"fill: none; stroke: #000000; stroke-width: 0.8; stroke-linejoin: miter; stroke-linecap: square\"/>\n   </g>\n   <g id=\"text_2\">\n    <!-- truck -->\n    <g transform=\"translate(116.117577 16.318125)scale(0.12 -0.12)\">\n     <defs>\n      <path id=\"DejaVuSans-74\" d=\"M 1172 4494 \nL 1172 3500 \nL 2356 3500 \nL 2356 3053 \nL 1172 3053 \nL 1172 1153 \nQ 1172 725 1289 603 \nQ 1406 481 1766 481 \nL 2356 481 \nL 2356 0 \nL 1766 0 \nQ 1100 0 847 248 \nQ 594 497 594 1153 \nL 594 3053 \nL 172 3053 \nL 172 3500 \nL 594 3500 \nL 594 4494 \nL 1172 4494 \nz\n\" transform=\"scale(0.015625)\"/>\n      <path id=\"DejaVuSans-75\" d=\"M 544 1381 \nL 544 3500 \nL 1119 3500 \nL 1119 1403 \nQ 1119 906 1312 657 \nQ 1506 409 1894 409 \nQ 2359 409 2629 706 \nQ 2900 1003 2900 1516 \nL 2900 3500 \nL 3475 3500 \nL 3475 0 \nL 2900 0 \nL 2900 538 \nQ 2691 219 2414 64 \nQ 2138 -91 1772 -91 \nQ 1169 -91 856 284 \nQ 544 659 544 1381 \nz\nM 1991 3584 \nL 1991 3584 \nz\n\" transform=\"scale(0.015625)\"/>\n      <path id=\"DejaVuSans-63\" d=\"M 3122 3366 \nL 3122 2828 \nQ 2878 2963 2633 3030 \nQ 2388 3097 2138 3097 \nQ 1578 3097 1268 2742 \nQ 959 2388 959 1747 \nQ 959 1106 1268 751 \nQ 1578 397 2138 397 \nQ 2388 397 2633 464 \nQ 2878 531 3122 666 \nL 3122 134 \nQ 2881 22 2623 -34 \nQ 2366 -91 2075 -91 \nQ 1284 -91 818 406 \nQ 353 903 353 1747 \nQ 353 2603 823 3093 \nQ 1294 3584 2113 3584 \nQ 2378 3584 2631 3529 \nQ 2884 3475 3122 3366 \nz\n\" transform=\"scale(0.015625)\"/>\n      <path id=\"DejaVuSans-6b\" d=\"M 581 4863 \nL 1159 4863 \nL 1159 1991 \nL 2875 3500 \nL 3609 3500 \nL 1753 1863 \nL 3688 0 \nL 2938 0 \nL 1159 1709 \nL 1159 0 \nL 581 0 \nL 581 4863 \nz\n\" transform=\"scale(0.015625)\"/>\n     </defs>\n     <use xlink:href=\"#DejaVuSans-74\"/>\n     <use xlink:href=\"#DejaVuSans-72\" x=\"39.208984\"/>\n     <use xlink:href=\"#DejaVuSans-75\" x=\"80.322266\"/>\n     <use xlink:href=\"#DejaVuSans-63\" x=\"143.701172\"/>\n     <use xlink:href=\"#DejaVuSans-6b\" x=\"198.681641\"/>\n    </g>\n   </g>\n  </g>\n  <g id=\"axes_3\">\n   <g id=\"patch_12\">\n    <path d=\"M 181.258491 93.384163 \nL 252.324528 93.384163 \nL 252.324528 22.318125 \nL 181.258491 22.318125 \nz\n\" style=\"fill: #ffffff\"/>\n   </g>\n   <g clip-path=\"url(#pcfca4d4722)\">\n    <image xlink:href=\"data:image/png;base64,\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\" id=\"image276597a2a8\" transform=\"scale(1 -1)translate(0 -72)\" x=\"181.258491\" y=\"-21.384163\" width=\"72\" height=\"72\"/>\n   </g>\n   <g id=\"patch_13\">\n    <path d=\"M 181.258491 93.384163 \nL 181.258491 22.318125 \n\" style=\"fill: none; stroke: #000000; stroke-width: 0.8; stroke-linejoin: miter; stroke-linecap: square\"/>\n   </g>\n   <g id=\"patch_14\">\n    <path d=\"M 252.324528 93.384163 \nL 252.324528 22.318125 \n\" style=\"fill: none; stroke: #000000; stroke-width: 0.8; stroke-linejoin: miter; stroke-linecap: square\"/>\n   </g>\n   <g id=\"patch_15\">\n    <path d=\"M 181.258491 93.384163 \nL 252.324528 93.384163 \n\" style=\"fill: none; stroke: #000000; stroke-width: 0.8; stroke-linejoin: miter; stroke-linecap: square\"/>\n   </g>\n   <g id=\"patch_16\">\n    <path d=\"M 181.258491 22.318125 \nL 252.324528 22.318125 \n\" style=\"fill: none; stroke: #000000; stroke-width: 0.8; stroke-linejoin: miter; stroke-linecap: square\"/>\n   </g>\n   <g id=\"text_3\">\n    <!-- truck -->\n    <g transform=\"translate(201.396822 16.318125)scale(0.12 -0.12)\">\n     <use xlink:href=\"#DejaVuSans-74\"/>\n     <use xlink:href=\"#DejaVuSans-72\" x=\"39.208984\"/>\n     <use xlink:href=\"#DejaVuSans-75\" x=\"80.322266\"/>\n     <use xlink:href=\"#DejaVuSans-63\" x=\"143.701172\"/>\n     <use xlink:href=\"#DejaVuSans-6b\" x=\"198.681641\"/>\n    </g>\n   </g>\n  </g>\n  <g id=\"axes_4\">\n   <g id=\"patch_17\">\n    <path d=\"M 266.537736 93.384163 \nL 337.603774 93.384163 \nL 337.603774 22.318125 \nL 266.537736 22.318125 \nz\n\" style=\"fill: #ffffff\"/>\n   </g>\n   <g clip-path=\"url(#p2f134b62c7)\">\n    <image xlink:href=\"data:image/png;base64,\niVBORw0KGgoAAAANSUhEUgAAAEgAAABICAYAAABV7bNHAAAkJElEQVR4nH28yY4sWZKe+ckZVNUmd79TZGZEVlYmyaosssgNiW6AXLHfop+mn6n7BbjhguCGqEYDJAqsYmVmVGRE3MGvDzao6hmECzmq5jeYaAMMfq8NOsiR4Zdf/mPyL/7v/0sBcvaognOK95V5DszniP/Y8cv/kBl+OOPvn9DTGQDEob94w/Nf3jLeOh7/Asq24i8Ol8ElQTJIAT+BH2H/fSGcC8N3R9zzCaYZTcmOVxWcIMMAIhC8/b2M6Diic6Ke27kBRBDvwXvcdovstuhuQ367p3aOtA+UTphuHKWHdBDSHmqv5G0FBxoUREGw5594hD/9MqgC2r7lgODQLiK5twsXoXaBGgT17TMC6uxZg+IQEKjVDFUDaBA0ejQGuy4RUEVLBWfHxTtwDvUOCQFCQKoiIaBV2/oIiLPvLxesClWRrEhRW6hyPb/Ldm0uCera19xy7doMzxd/gyxvALUu7zpq8TA6ROH4dWC63SF1Bwrq7cBpJ4yvhbJR8m2GrlK2QlFwfSF0xa65eMrFk246wtmzuz3QPe3WC3FzJT4nJFfcaB6VX23IgyecC37MyJxxlxlqRaZkRp1myNludBxhTsTTBZwj9hFiIPzZLfPBs7m39VYvlE6oAeYbRw1QNlCjUjrzMHWA12Yg4GoiUJV2U4JkAYX5RsiDUGMzTjNQ6SHvKrVTZFPwoSJibnu7H3m3O1JVKOp4uGz4NL4iHB0uOXIv6+r50TN0DjdXukeBqsw3kbRzlI0jnD0uRfwlmhEvCXJBRNBZIGd0TlAn9LnYjXiPdB3dfkClx88VN1czUnCU3jFeAqUX5huh9IJsoDSvqtEWL/Qxoyrk7AEzTimCiFI7pfjK2QtShBrVYtdZ3GpU6AvildhnnFNKdmh1jCnwOA3UFqZT9qiz1XGz0h2rhUBWpGrzTGF63aNOGO88ZTBvdrMCDqkeoqf2Aarih4ikArngUrYQy2UNU42By882jK89/WOhf0hIVvxxJpyEcC5oEObbQOkcaSukrVB7iw51EIaQqSpcXGwuJKha7pChWGy+Ms+IvuKcrp7mfSV6W7GqggKlRLQ65jnwxGBRJMo8BzOuV/wsxKOFVTjOlE0k3URqdEy3jhqFtBdKBy5BPAlVQMW3vGFGD4NHUrV8kwqoIrnaZ4KjdoHLW8/4RpDqiM8OP2fc8wil4McZgO52Tx0CZd+RtoF08FzeCOqEkKqjVEdKnpI9NTlIDqp5jYpSglIEaJ5jV2D/d6F+mdzWUDUj1iqU4sizx5+crdxFCWPLLZcZ5wUpASKUXii9hW9ta+ZmM4JUO08ZBBWh9B7xglTQzkF9cf4g1OjIA5QO8iCkg6d2DvWCmwvh4zPUSt125F2kds4W8cW9hPPUUVVIU0BHjzt5wslyj1QB0TXjL8lqyesqtJCzCoVTyqEgQ0Gro9ZKmgP5EpDRM3x0xBMMnzPhYcIdL8jzCQe4Q08RmA9C3kLtobZEGZ+TXY8qNTjy1lOj5Q2wQiJVUSdWVWW5JiHdWBGZb8RCVEFqIJ4rN1NGxsT0ZmC68xbupeVYsSgKTtTuW+3pR7FE2SCCSivjgq1g+5y9Zwaqvt1QhHIAFyr9kNj2M2enlNnyD9gx1IP2HtUBnKPu+xUu2M22BXHtXLleq7C/Qgl94c0qsi6UGahdt4IUse+3Y7vFGwGcGTr3gvPgE5Qo1M7uOQxdolTHySuqwua98Ob/m1ZPUS/kjUOdrAlVil00zuK09ML4ypN2wvwVvLo585u7T/z14Xv+/vyWv3HfcHQbkIAKXN4E0tZZuY12XD8p6oV4VPwE516ozWBuyiCCBnPl5XtSm8Gx0K9BKFFWAyIQLi2PHZV4UcJY6T8nZK5Irqj3zHvH9EpwWZCs5K0w31nkBC+KyjV2XIJwztdY9q6tRgNgajnBpWvJlOpwe4dLdowuZA5h4mfxkU9xR/QFF+p64SVa+OZBKIPgJwNyAH5WpAouca1yqaDOgW8uI0L1gtMFBTcPkSU8mvcBkhXXjidFcbPizxlyNQQZ/RcAl+Z5NTQDTzlQFcQpBGV8A59/u0UD5I1hn7S36iPFVs3N1j4sybn6llQ7u7DH84bfhdcAfH+5YZwjWoS8s7uIZ7v57lmRp6tXuqyEU0Gqsn1veWb73Rk+PeA2A9XvQJXasFhp1WxZ3xrsOpawkwrdUfFzQ9kvHqIKKSO5MHwqdv5iRkxbt6LtUKqVdQHEK3mnjG+txKaDolEpt9mQZRGrbpPDX9x6Mm0VTr0Zep49T+PA9/6Gx2kgJY9Ww1Glt89LxcDb1DCVE1yqxM8jbs50y408HqnHk7UU+63lwLbiy7lfGqiGZrRiRvCTEk+V2sn6nn1RkWxuG5+T5diiuKy44im9NwNNKSwGB6fkQ+HinKHmoUBQ/CbjxHKUAnVw5O3iw18sjIVSdZzGjlxumLOnVsuoGkAj+BnisdA9zISHC3UTyTd98yRrnuQyQS7o5QKlgPfUfUfZvuj/FsMsiTvIFRoIVCz0DCdZIpcKNThcdQYoa8VfrL2RajiqxmG9n5BSC1oVxClySHADwdW1dfDe/grgRFdQKIB31ZB4ddQqpGQGmcbIeO5aylDz8KCWO5ISnzPxh0fKt3/Ev3kF7quWM6oZ5nhCzxeoFVWF4Mm7aCU+mFGWSlRDM75vYd4M52hVKylV7LyoFQNcW+CquPNslbLlJb+NoMFyUNcVahUu9x0yOtxs2VwFktcvE99CDSydvigsK7mUzUYd6LYQNwlp9Ekpjhko3pN2nnQIhMMGd7OHzUDtvF3sixCgVnDOTrnbcPp5pEbzHlcsF7qilGiGqV7W6zDPaRCks6O6rPi54qdiLUpjAGRKUKq1J96Tt57xnTW04XZ7YUyBfH9g86PQ3yubT2Utm2uGb9VijXldgNmLsHbW+OUNnP4cdm+O9DGz62ZKdTxtei5Tx/j2gJ8DLu8YxteUbU/eGFDTZpD10Xif9G7Hw2/tnc0Phsb754q/VMpmaX7NO9QZegasbdk5wrkSLobe3XG0nq1UM9L5Yn9v9uiu5/ImcPpnszESqXhS8fhRCCdrIrvn1IBXwxReVuMsHiTK+t6COQwOOCPJzo7TpSNXR+cLRYVUPCU7C/0ApXPUbU/dBDuOLnEhzYkU13XIdkPaBquCjZJZQSuWY3xiRdCWcO1zfrIq5opxROZKDgJoH61RrhUB6m4g7zvyFvymEGIm3D/uqLPn9oMxfv39TLg/rQdSL2gX1gZxSWZr2WyGrBv7TDj7Vi0853HP+aYy/qyzRvapw42OLpuBpjuH+t3VA2dF+wi15f6q8OaO+Rd3PP8q4L4+k8YA/9Djk5r3bpzltGNFquKS/ZVUQcFl8xINbl3AfLex87WoKL1Dg2O69cw3wukbuDmc6WMm1OzQLNYMlhc3XhVyQoJHvV+ZP2BNZuvDe9i0/kUN04QR4slcPGe3wgM3N+8IQu4BdQ3+G9bKu4j3QtjvcFWphy3T68h8EIbNbJXUX3stdW3Bkl2zNAO5uXy5iN5Zo+qsib32kdYplGh9YDoIeVfZdIkhZELsMyU4Tn8WSftIOEfieUv/VNl9e6YGx/gz65VcsptfyKclWeSN5/mXgTJYTlL/MoeA8wpeKX2leGEujrKRtSFckSsC2iPa09/vCReYbiHdKvlV4pthQoDzNxvmG4efFrTtkKKEMwwPlj/TxlGDMN8KebAkXnrQYMwhTq/81pCRWAldIXaZn+0u/OXdB4JUQowF55TxVaEG31CyUD44hg8BDcJ04yldI9+TUmfBj7IaYN57Lu+EsjW3V2ccTjg3AznzthIrKkLeGmisnaKdQqyGtVyl763NOT5sYPTINtNvE/susYszRYWnu0KNDn8W/GyVS9QwUJgc1cP0ysj6yzulHCraVdyQ8aGy3cwEZ14SXeWuv7ANM8EVelfoXeYu2oAg5OwMSW8LOSokwc0OPy3cyJKoF47GwJanJetiCXD1hE4tVNQuNL3J/Ntf/YGNTyR15Op5mDdMJRBdIbhKkMoQEg7FiX33280dx7GnNk4JYCoBL8ruqxMpeeanHhmviD6dHDUayD3/oqJDYffuzO32ghcl+kLvMzfdiEMJrhClsgsTUQpO7PxRCoMz8BhqsRP0uxnn6kqcpafBEvPCrXixGYhYZYiNg1nCbqUgOkVDpXionXB4d+T//Oo/85V/5rUfAXioHefaUzC+uuIYNRp3XbaMGvnd5i33847fHV/z/nlvBqiO6Cp/9e5HnCh/v33D8TwYiBWYzpFz7KiD8vbX97zdnvjnNz/wTf/AWCNJPVEKWz/hUVLLBa4hzqqO8pPWINTvNiCQ28pLI+u7RzGS2wlhtGRXoxnBFdayuRgpnFu8VUftxABnguPDlv/4/FtehfN6Yfd5x7l260Wccs/9vOWcOz5edkw58HgcyI3Ek9mh20J9c2I/TBzixMYnHrcboq94V/GiPHc9T14JofB6czZPEWWskYpQX9z8YojSPMDJtehUdZTW7IV3/8XKXd6Yay7YYvOp4E8z6oX+MeAnx7x31M6g+0qDlkq4CJsPnryBtDeuJozgR+VSev6f4V8RWtuiKqQ5UKsscIdyDoT7gB+FzY8QRuXdUfFTpfSO0sHxm47jvyp4V/lF/8jbeGTnJ57yQO8yG5+YauCUe5xUNj6tYXNsLb4Tazlqu/nFg5BKUb8apiLre6F0BgBrtLJpJJRaeT70RpgNRm4t5VW9dcbiBPHXLnlhAxe2UZ0gBdKxIzkgNzZgNi+twVoVfxHis+BnC1+3DFuDsQp5Yzx1iIU+ZqIr681HqZa3qqOq4MS8aXnfvMQRpeCblzipXxjD6TWPARR1pNoMdP/X7dXGSfpJcJMw3QmXN5s1tF4i6KmAung1ZhDKYAm8xtb/7IxHQqD/rsMlGD4aWxhGoxXmvSPtG9nVCPm8E9LBZnFlUPK+ovvM5mbkr7/6kdtuZOtmCsJUA5cSeZ72nHO3jpg6V/jV7p7e5ReGLGvyHSSRCDzqhrFGcnUUHL3LbN1MUs/UeqhQXrflWvDh6HGjrXDZfGFYJEtj/hpAUwz6uyu5VjubUi7l3hVwk+CygccwGu3pkjbi3Txt4bbLxjDR/KpSNxV/SOx2I6+2F970Z3ZhepFUhaSOsUSOc886JQ6WRxYPAvBSVw9acs9YI5cSmWqwsAswuNSO2zzo3//13+JQfrW55zacecxbnvKwWrGqIzeXO6aeuXrOqeOcIqVaf7XQHkG0jdevs7NcHOMcmbPj9E87KIIkS+a6KbhNtsFjLIRQuN2MdL7wZjixDTMbn9j4xNbNvIonPOYNBeGUex7mLQ/jhuexJ/jKJtoNhhaGL40C8FwGvp9vuZSO351eM5VArhZiv9g+sd3OHEvP++lgx/k/7v4bg0v8b/13fB16nuvMcxMI1Gbp51YiP9UdY+0YNTLWyKiRc+2o6tZKsbjsYuC5Bp5Tz1wDp9RZw6pCVWEbE4c4MYTE6+7Mxs180z/Qu8TBXRhcImm4JtP2GGukqK38JUcuKTKlQNVCF2xS7KnEheh+kVumGnhIW55zz6fLlikFG5QCt91IwT5zTD25OsJj2TFqIiE4HIM0sqU9KjDITFE4tNivKpSW6UeN7d8Ws7N6KpYAFzc2zGNGq+q4zzsuxai/BZwNLq15wlPteBWSBgoOz8vwsGOdc1w9eTlW5wt9yEb4SV3L9RJmST2PaeBx2nD/tKMUx3Y7se0Sod13rp7j3Ax0n3ds/URqB+olEuXLFdurUqm4Rmd5MWNWKkUN/CW+XC0Aj5C0ctKKB7bOU1X5ffZ8qlue64aHsqWoAUX7jhkiqV89p9CqTQvdqo6qjnPuOE9GqYiotSo+0y3JGaVg1GtEW/USnuaBx2lgfu4gO+qQ6Hyhc7Y4Uw2c5o5cHGHJ1qN6zjpTVUkYsxfFtQtSCoqn4sQ8KMqyKkJRxb8AYe7KC9qqIrhmMC92ox5lVs9YvzTMy8S6PrT+ydedaEPRCwF8fSwVzbzWigAVLrUjVU8q18ljFzL7zsY0T3nDOUfj0lUIx9Jbfik7XrvPnNXzXHu2LnHnrHFceCYvilMYGsJzOLzYTS9jhsX7zLvMcBHBiRDFt9cKTipjjXzMh5ZzDPV2cp3JLeGxjMMKX+IVJ4p3SqnGsbkvbURtUGCqgV4zSTzH3HGaO+bcqFBRboaJb7aPTNXzftrzedoyNTAb3k8HOpf5Nr2hk8JD3fJQthzcyLvwREdhkEyUykAhypK8lUIhNeMlNQ/wmnHy5ZU6kZ94mHnjqB2f05aNT/jQmkQ/40UpTWFin7cAR69Gcg0gSsthZT2X/klvqyqUFhEiSnAV6QsoLxQqBjYX0YVWR/gvf/gznK/8eL7h3ebIh8uej+etWXX3yOvuxL/e/57X/siv4z2v2wpXVU5aeayepI6T9msy9ShblzhIZhC4dR1ehIAnCOzczKSJ7+c7/ubzLznEiV9uH7iLZ96FJw7+wli7/6VxTBqsAooViCDWehQnOBWCLww+Mfi0gkSAvFTBClEqN93Evpu5214A2IWZx3Qd9eTqKMmjxRHScwde+b47cMmR+9OW87HnvOmNaB8GvukfKOp4449EKp1UHMpZPR/Kjlk9z3VDQfAoXiqvOYIbgcyBimcJPV1DdqqBc4o4UR6SodJxiMRaVuMsx7O2oIK4P52nXniQfykr1J96s64eswv1C9C5fDZXR509FCHs/j6CwPg+8l2v1niehLzr+fbVhm+HyvvTnkM/8WY4cWhINkrlUiKPaWBueKSqtCpS+PX+E3+x+ZF34Ym/6n4kkvBigqUfyp7namB0GxPHueOHp68JrvK3+6/YhZnf3vzIL7oH7vyZO39ekfCsHk+89lPVrZPhJbwcSm1UCkBRYRmqOqkMPjWDWDUMrjW1qed57vnw6cDmHzqjjjfvjezyF6F2QrhYF563gkuBvFHehxs+95n3/Z4uFBsmusqcPeMcqdWRk0eBGIvJiKu3ktlH87yGbwDuy55T7VuY2HGODxtE4HTp6LrCPk5s3cwgCedbfvsJKq7ICvKA1Ugv319yVlUHUvAt/1QVxrLwQWbYqQTOU0c9RYZPTcixHrxJSSSr8T8C9bk1rq4ndR1pUZhVU2csAgG4jlvGTYGo/ENxfB433PYjf7v/GVHqysc8zBvGEvi7+7c8f9zhjoHtj8645EPHZVB+t33NXbyw9ROjRrpmYMe1p8rVreV4ne6q8T6p+lXh4UW5lMhD2pDVMWaDFoO3PvRx2nDJke/e3yE/9mw+O7rnah60GmgRFyWjHK5jXWzS2qiL5TMuLTSr6XjKYJRrOgi1U6aL54eHgR/7wj/u70wU2oQSCx/E+57tB0f3BPs/FtTBeOdIe8f7X+z5eNhxF8+kGPAowxfqKkjVk4trylyhNAOleu3GwarmpUQe5s2aZ4Kr3DQDfZdueThtcH8cuP07i6Du+BMDrUO3he9p4GNRmC0eQrUyv87J2jBxoSzcLG0ULdQCWoTRG09Ss5VqzQ6K0J2FeIR4UsKlmjqkNkmdNDgg1SqjmPcUrih/yoGU7P8iNLG+Ieap9Y+n3JPUMVf/Rfjl6vj+fEsqnvf3N+RjZDjZ+AuxoSaqBORqHPUmPytdU0y02VHpbFwiRVZaBFjV68scXArEyjqSrtGb9L99T2ZpE1HjgPp7YfuhEo+V7n6kbgLyNrQb1rUjd804nZT1/Ek9pzmSLhHxJiat9VrhnrKxiE8tnIMz3BSaB55yx+/fvyaNgfh9x+5JiM9NjS8w723lg0tcuZ3mEYuxamhzrqDUaBcti3Bh8bw2a3RNA2gvcs1PFcjSlGlXJRhcx8eiTSu9aAeVL5LvUurdInBcz22rKy9AI7BSqks4LYoUsMnIJcfVuIwOP9u+EpZxurueJgyfS1OTeUpTv9cmx50P9u90UPOg1CjZcr252pI745fetWiioRmmQDza31XBqk10uSjFquKT4mfQKuRGe1qYKR2FKo0qVbcaxHmlHxJ9XECsMFdL3kNI7GXiKQ1Wwp/3nH7Y4WZHPBuR56bmGAHysDhJy1V+rkagv5Cv1Dbp1GDsoAZ7LrlloV6h5abGQb/Eb21x7ZB6DUNXQAvXTShfuOK1mr70INeq18tHUbd+ZmlY/2RD27r4uXhOc8c4RsKTN8O0hXspa15GXetmFj8VpNgWpmVHTg2LmNtCS7sKweQuqoIvDhkFqbLmHj+1G2vJvEbQuJzUhJmLFHd5zWUhTG1CkivO1SaMuIbGkqhXwzRsU7GqRTGhekqB0iWCVJuMdheKCh/GPadxx999/w73jwPdSRg+qk14dy29LBHRHGRRpIlCkKx2urZyy2z9+rS5uvimp24HcsW6VpevpV+qed1VDsMqmVnX9uUiaxshJZO+aahr/vrpw0td249lg0xVuwYtQilmMCeV4Aq7pjL9rt5xTB36uWP3R8GPSv+o1KDrFHaZxKxi32oyQVElpENse6iUeLzeWA02f6+dMLpAHSpsCq4vFFHq4JFZCGcbEvqxjXte3OAq7nQgzViywAWx4aObFVdqEzLIFxfqfkK0L6H1XAc+Z+sZw2Mgq42QcrHcdMo9353vuOTI7398Q3mObH70xGfbQwbNOy6Kztd842eburikhMlCPqT9Ik8zyeySX6pvs7ENNrzLQtllhs1M7Zse8RLJRLwDnr5E1nZQbRVB0QpfiLCgyWSKaXmw9196mf8TOaXiOJaBx7ShHiP9o1CDM2FpA4pjCfzh4Y7Lucd9OzB8FoZPSv9Ur4IwNZE5AiWaQjeclXg2j/ZjaUZ8Y+Atnq16vJTm1iiEi1C9pwzCRXvOhwBRka6goydM0mZppvxYBpFfhMrqlW13gbx8XdDoKIeeOnjmnSNv7QOn3PEx7fmdf8edP/Pr+AHXyPiNT8imkA+euisMu5kuZJ7SwCl1nJ4H66kuNpCElxLhJkjNTUboFzBsnij6wohPv7HKcvidEC6V+FToPp0tVioQHLs/dpTec/o6Mh9se9H01hNGIT6aUr57tmGgHq4TVamLbrCV9E6bkr21Ka1VyTFQb0zINL4V0s4q0+dpy1wC34+3/NPdB/4sfsJLZe9H7sKZ21cnHhQOr858ffNEqp6P5x3Plx75YWA4Cd0T+IutVNoKfla6kyIZXDIqska/Dj2zuLaroOWgsq3U3MbLvc3VtUlkpYkiadK2eG6j3M72TbgJu4CpbZBLCjjKtISL5bCSGlBsOIq2OUZ90ylG25ZgT6ueqsI5RaIrX3A6HuOzoyts+5nTpiO4agAwRR5PG6ZLJM4giXVie92jasItEb2qVxYh18unB6oQwruRUhyXy0DpHTXE9UC1k1VRJkXpPyf6e9i+N/WWnyrhecbNBfd4Mn1zH20Hz82GfOjIG890ayu0AE9tY+W0Ey5vPWkrzHc2lZ1vKtpZW/PpacfwOvO6O7P3Ix2FWWh8VOEv7z7wZnPmu6cbvv3winKMxE+BLkE4tymwswVdIAai1GlxBDNcGSz8nCqUBea0Xix2Gcme0itlkLbnwjXhgJggsikxwliRVE3/J4KbMu40Qcom+i4Fxgmc4HNB5gG360E7yuAo0UrZijucIdeygbwzzFU3hrkWnXeQysbPDJLXViOpp6gz4ZVP1Oool4A7e+KzXHvEF0rYheLWNuKWFyj+J9qF5iCWJMN46dAqiIeyUdLe9ote6WBZV0BKWPdamTaoQ8rGcMP4Cskm0iZX2yyiJo/xs+336p8WBYm0cIbplZC3SroxmVz/aqTvMn/+6jPv+iO/2X7kn/U/cufP7CRzrj3/4/KOH8Yb/uv7n3M+9ugp4I+e2HKOZCs4KzJX22G0YB7biGeGMmAIvugKem3jXlugOrddeMK6WyZvrvSFYRZZaiyiy1ala6IVBT+bPjqeCm6uJtge81o1HJV4pinlHTnBfGe7AcsAOpiG8GY3cugnfnv4kV8PH/l5eOSb8LlNXQ0s3s87Plz2nD5v8A/BxFqz4C+WkF1etlVZfwdWMHK7j2Wr0+I5soDd0j6/VFeBQGq8j1dq17Y+ie19KL1VH5ev26CkGH4IF1Y6ZKkQqP11Bfwc8VMlbxzTjcluF7ePl0r3XCl9gFuo28q7rx+4HUb+4uYDd+HMr4ePfBWeOLhLo2ttFJQ08JQGjlNvu4+W1iU0lX1oWvO2cWU55wIGFxAs1bxs2cuxtElLyK37xSS3O2z6wixQBqVuFLlpuuRzQIrgT7ZpToNVqJUWaA0uQFqNqbhk+p/pjeWx+Gw/UbG5r3T3M+MrzwXQTeF//+oP/Lx/5F9u/tGEC5JWw8Rl8oAwq+eUOi5zbI2zmHSm9X812qachcJREVzRa/vj7XOuCG4Bhc3bSi/kcP0MAmHprRZsYptTBI2VbRN26sGa1PHSMc+O/BgNzC3d9AseyDaYWO6StiNwIdoWg0oBN+eV7vBD5s83H/lZePxfjDNq4KFGkgZGjfyP6Ss+nzeMl870SgtZl+1pXi3rXvw16f6EXWDNo2uqtVyalIIdV4EgqWEAb6yXBvMmt8388u6Bu/7Cb/c/snUz7+cDl9rxt49f8cfPt+TkbcNuEZgdkq9eFp20XdNmNFqOWzbpuqM1k7VXDruRf7f977x2Iwn3Be75UG74dn7Dcxl4nw784/mOz5/2yCngptZDTU2TXa8eraXVGbmGzZpzWm5atnyuubQooRFnNbbK/ZL7WLxg6ZCPc48T5TFvKL6pPqVwiBO3uwtz9kwpGN0wByO5YkBmWfdG1NAQdHu4WZjvAuGyJx2EsjXAN0imk7qqTEYNzHhOtedcO861Wwk0Fys1VjR5YwJr86CftG6rnVs1c/nKUljU0FhJvXqWtmRdWohpfHHUaiJyNws1d3w3vuG7qPzD4Q0xZt7tT9x2F/Zx4l+/e7SLbX6cGst3KZG5et6fD9yfN1Ac2iYPtThyEd5vB+LTlvOvMm9/+cBf3b1fK9TYcM636Q1PdcP7dMP7+YATpXeJN/2Jf/KLjzyOAx++fYUffZvE8EVVXRdezVvCaDeeB2HqgCCk7ZXasGRu7RJAE9ovpP2CppbYBIego4esTK4jxcBTsJHt4DM7b+r03l3VGMs8quDYhZltPJCq55IiCsw5kIvjYbJNa90r+wGUt/0R/yJhFByzes61WzVCnrqe67azmfqHJVwWlKwvCAER1l+KkMWDWulXubYTawhezy+qq4YsLLzx6opq7loDtmdVgOQoyfFxPvDJ7fl4u+P+ZkvXxAIAczFk9ao/s/GJt92RX28+rcr2lzK986/sxr/pP/N1/MxX/plbV7A2zZQfd/5MJ4Wfh0fcpjJIYucmfsh3fHt5xSVF3OgIC8/dtYVNrUPvAGSFF/FkHI9LRpqtVe2L/ktWHn1J3l/+wNLqku0foa3AbJSIjAEUjl65j5noC8uPo4z5eqjSXXjXPfOb/j03fuTr8BmAc7VRzGt/ZpDCIEpkUawJ6cXW7UES3lcObuRGJnopHJwZyjV5jJuvVMb6KwsKy77UhS/HCXppBizaBqEv5M0rMDQq1gykPzHQ8qsujagXBbm0n5SIdmZtfEqMJjtZcmAq3vR+2fPh/gZV+Jv9N7zZnbntRn65fWDjZ97GI71L/Lr7yJ07c+cuvPaJorqKsrZNixSlrHsrCsJZA1NRvk1v+Pb5jk8PewOuC0xZwH4beLpmOJcsXJbconL9/ELelW5J8LIa2LUdi21Kp2u82gSjlc+TM83zkHHRwk0Eui6vIgALL8/8aDtv4pPDj8K4H/j97gbdFP7u9Vs2XeI3d5+4jSNp5/lZeIR4z8GlVZQFsHOVopVB2jZOnGmhNfBcN/wxveLj45702LMZZd1Is5b05ecsGjp2adlbcg2ULwg7sd8Lsuhp3ylCxZwkENulZTOpm2S1/hJudXL2i1R9QdrP4Sg0rWIbtzhd2w4ASbZvtRbhJBvOsWfOnk2X+P5ywz5O/Hb/I/98+CN3/szP/RMAJzVQ+F1+xXMZmspVmGrkuQz84fKK+WRbOxfweb1Wvtgnby2PrrnJtm5ZK7Qyw0vV08XAQhXFqW19D36T0Sro2OEuRsL7i6xiBhtBe2qnVK+4aPKXqmKaRUwKI7Gi2a0X7EcDb+oEve9QD+dNz8kr78NbcMr/+/Nv+O1Xv+Tr7SP/Zv87vFSey4Zz7fhP9/+EH06HVbmxiNbHS4f/FAkX1imMW5D0YpwMsTWt4VLtN0eqGWj5kRYQGuBvTbiuu6VtQ3DLQatr6jUw19LZ2L+fiCr+/x8v4PwK6Y35oGYMay37MpJnLIGpmFh80T+PNXLJizi8/dpDdeRsHunKyzh58XjJg7dcslbm9fllC/Inr39hGYH/CbvpidAVkju7AAAAAElFTkSuQmCC\" id=\"imagee007048bef\" transform=\"scale(1 -1)translate(0 -72)\" x=\"266.537736\" y=\"-21.384163\" width=\"72\" height=\"72\"/>\n   </g>\n   <g id=\"patch_18\">\n    <path d=\"M 266.537736 93.384163 \nL 266.537736 22.318125 \n\" style=\"fill: none; stroke: #000000; stroke-width: 0.8; stroke-linejoin: miter; stroke-linecap: square\"/>\n   </g>\n   <g id=\"patch_19\">\n    <path d=\"M 337.603774 93.384163 \nL 337.603774 22.318125 \n\" style=\"fill: none; stroke: #000000; stroke-width: 0.8; stroke-linejoin: miter; stroke-linecap: square\"/>\n   </g>\n   <g id=\"patch_20\">\n    <path d=\"M 266.537736 93.384163 \nL 337.603774 93.384163 \n\" style=\"fill: none; stroke: #000000; stroke-width: 0.8; stroke-linejoin: miter; stroke-linecap: square\"/>\n   </g>\n   <g id=\"patch_21\">\n    <path d=\"M 266.537736 22.318125 \nL 337.603774 22.318125 \n\" style=\"fill: none; stroke: #000000; stroke-width: 0.8; stroke-linejoin: miter; stroke-linecap: square\"/>\n   </g>\n   <g id=\"text_4\">\n    <!-- deer -->\n    <g transform=\"translate(288.41138 16.318125)scale(0.12 -0.12)\">\n     <defs>\n      <path id=\"DejaVuSans-64\" d=\"M 2906 2969 \nL 2906 4863 \nL 3481 4863 \nL 3481 0 \nL 2906 0 \nL 2906 525 \nQ 2725 213 2448 61 \nQ 2172 -91 1784 -91 \nQ 1150 -91 751 415 \nQ 353 922 353 1747 \nQ 353 2572 751 3078 \nQ 1150 3584 1784 3584 \nQ 2172 3584 2448 3432 \nQ 2725 3281 2906 2969 \nz\nM 947 1747 \nQ 947 1113 1208 752 \nQ 1469 391 1925 391 \nQ 2381 391 2643 752 \nQ 2906 1113 2906 1747 \nQ 2906 2381 2643 2742 \nQ 2381 3103 1925 3103 \nQ 1469 3103 1208 2742 \nQ 947 2381 947 1747 \nz\n\" transform=\"scale(0.015625)\"/>\n      <path id=\"DejaVuSans-65\" d=\"M 3597 1894 \nL 3597 1613 \nL 953 1613 \nQ 991 1019 1311 708 \nQ 1631 397 2203 397 \nQ 2534 397 2845 478 \nQ 3156 559 3463 722 \nL 3463 178 \nQ 3153 47 2828 -22 \nQ 2503 -91 2169 -91 \nQ 1331 -91 842 396 \nQ 353 884 353 1716 \nQ 353 2575 817 3079 \nQ 1281 3584 2069 3584 \nQ 2775 3584 3186 3129 \nQ 3597 2675 3597 1894 \nz\nM 3022 2063 \nQ 3016 2534 2758 2815 \nQ 2500 3097 2075 3097 \nQ 1594 3097 1305 2825 \nQ 1016 2553 972 2059 \nL 3022 2063 \nz\n\" transform=\"scale(0.015625)\"/>\n     </defs>\n     <use xlink:href=\"#DejaVuSans-64\"/>\n     <use xlink:href=\"#DejaVuSans-65\" x=\"63.476562\"/>\n     <use xlink:href=\"#DejaVuSans-65\" x=\"125\"/>\n     <use xlink:href=\"#DejaVuSans-72\" x=\"186.523438\"/>\n    </g>\n   </g>\n  </g>\n  <g id=\"axes_5\">\n   <g id=\"patch_22\">\n    <path d=\"M 351.816981 93.384163 \nL 422.883019 93.384163 \nL 422.883019 22.318125 \nL 351.816981 22.318125 \nz\n\" style=\"fill: #ffffff\"/>\n   </g>\n   <g clip-path=\"url(#p49afff8b88)\">\n    <image xlink:href=\"data:image/png;base64,\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\" id=\"image1d961f481e\" transform=\"scale(1 -1)translate(0 -72)\" x=\"351.816981\" y=\"-21.384163\" width=\"72\" height=\"72\"/>\n   </g>\n   <g id=\"patch_23\">\n    <path d=\"M 351.816981 93.384163 \nL 351.816981 22.318125 \n\" style=\"fill: none; stroke: #000000; stroke-width: 0.8; stroke-linejoin: miter; stroke-linecap: square\"/>\n   </g>\n   <g id=\"patch_24\">\n    <path d=\"M 422.883019 93.384163 \nL 422.883019 22.318125 \n\" style=\"fill: none; stroke: #000000; stroke-width: 0.8; stroke-linejoin: miter; stroke-linecap: square\"/>\n   </g>\n   <g id=\"patch_25\">\n    <path d=\"M 351.816981 93.384163 \nL 422.883019 93.384163 \n\" style=\"fill: none; stroke: #000000; stroke-width: 0.8; stroke-linejoin: miter; stroke-linecap: square\"/>\n   </g>\n   <g id=\"patch_26\">\n    <path d=\"M 351.816981 22.318125 \nL 422.883019 22.318125 \n\" style=\"fill: none; stroke: #000000; stroke-width: 0.8; stroke-linejoin: miter; stroke-linecap: square\"/>\n   </g>\n   <g id=\"text_5\">\n    <!-- automobile -->\n    <g transform=\"translate(353.496875 16.318125)scale(0.12 -0.12)\">\n     <defs>\n      <path id=\"DejaVuSans-61\" d=\"M 2194 1759 \nQ 1497 1759 1228 1600 \nQ 959 1441 959 1056 \nQ 959 750 1161 570 \nQ 1363 391 1709 391 \nQ 2188 391 2477 730 \nQ 2766 1069 2766 1631 \nL 2766 1759 \nL 2194 1759 \nz\nM 3341 1997 \nL 3341 0 \nL 2766 0 \nL 2766 531 \nQ 2569 213 2275 61 \nQ 1981 -91 1556 -91 \nQ 1019 -91 701 211 \nQ 384 513 384 1019 \nQ 384 1609 779 1909 \nQ 1175 2209 1959 2209 \nL 2766 2209 \nL 2766 2266 \nQ 2766 2663 2505 2880 \nQ 2244 3097 1772 3097 \nQ 1472 3097 1187 3025 \nQ 903 2953 641 2809 \nL 641 3341 \nQ 956 3463 1253 3523 \nQ 1550 3584 1831 3584 \nQ 2591 3584 2966 3190 \nQ 3341 2797 3341 1997 \nz\n\" transform=\"scale(0.015625)\"/>\n      <path id=\"DejaVuSans-6d\" d=\"M 3328 2828 \nQ 3544 3216 3844 3400 \nQ 4144 3584 4550 3584 \nQ 5097 3584 5394 3201 \nQ 5691 2819 5691 2113 \nL 5691 0 \nL 5113 0 \nL 5113 2094 \nQ 5113 2597 4934 2840 \nQ 4756 3084 4391 3084 \nQ 3944 3084 3684 2787 \nQ 3425 2491 3425 1978 \nL 3425 0 \nL 2847 0 \nL 2847 2094 \nQ 2847 2600 2669 2842 \nQ 2491 3084 2119 3084 \nQ 1678 3084 1418 2786 \nQ 1159 2488 1159 1978 \nL 1159 0 \nL 581 0 \nL 581 3500 \nL 1159 3500 \nL 1159 2956 \nQ 1356 3278 1631 3431 \nQ 1906 3584 2284 3584 \nQ 2666 3584 2933 3390 \nQ 3200 3197 3328 2828 \nz\n\" transform=\"scale(0.015625)\"/>\n      <path id=\"DejaVuSans-62\" d=\"M 3116 1747 \nQ 3116 2381 2855 2742 \nQ 2594 3103 2138 3103 \nQ 1681 3103 1420 2742 \nQ 1159 2381 1159 1747 \nQ 1159 1113 1420 752 \nQ 1681 391 2138 391 \nQ 2594 391 2855 752 \nQ 3116 1113 3116 1747 \nz\nM 1159 2969 \nQ 1341 3281 1617 3432 \nQ 1894 3584 2278 3584 \nQ 2916 3584 3314 3078 \nQ 3713 2572 3713 1747 \nQ 3713 922 3314 415 \nQ 2916 -91 2278 -91 \nQ 1894 -91 1617 61 \nQ 1341 213 1159 525 \nL 1159 0 \nL 581 0 \nL 581 4863 \nL 1159 4863 \nL 1159 2969 \nz\n\" transform=\"scale(0.015625)\"/>\n      <path id=\"DejaVuSans-69\" d=\"M 603 3500 \nL 1178 3500 \nL 1178 0 \nL 603 0 \nL 603 3500 \nz\nM 603 4863 \nL 1178 4863 \nL 1178 4134 \nL 603 4134 \nL 603 4863 \nz\n\" transform=\"scale(0.015625)\"/>\n      <path id=\"DejaVuSans-6c\" d=\"M 603 4863 \nL 1178 4863 \nL 1178 0 \nL 603 0 \nL 603 4863 \nz\n\" transform=\"scale(0.015625)\"/>\n     </defs>\n     <use xlink:href=\"#DejaVuSans-61\"/>\n     <use xlink:href=\"#DejaVuSans-75\" x=\"61.279297\"/>\n     <use xlink:href=\"#DejaVuSans-74\" x=\"124.658203\"/>\n     <use xlink:href=\"#DejaVuSans-6f\" x=\"163.867188\"/>\n     <use xlink:href=\"#DejaVuSans-6d\" x=\"225.048828\"/>\n     <use xlink:href=\"#DejaVuSans-6f\" x=\"322.460938\"/>\n     <use xlink:href=\"#DejaVuSans-62\" x=\"383.642578\"/>\n     <use xlink:href=\"#DejaVuSans-69\" x=\"447.119141\"/>\n     <use xlink:href=\"#DejaVuSans-6c\" x=\"474.902344\"/>\n     <use xlink:href=\"#DejaVuSans-65\" x=\"502.685547\"/>\n    </g>\n   </g>\n  </g>\n  <g id=\"axes_6\">\n   <g id=\"patch_27\">\n    <path d=\"M 437.096226 93.384163 \nL 508.162264 93.384163 \nL 508.162264 22.318125 \nL 437.096226 22.318125 \nz\n\" style=\"fill: #ffffff\"/>\n   </g>\n   <g clip-path=\"url(#pf88ca172ba)\">\n    <image xlink:href=\"data:image/png;base64,\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\" id=\"image0c3c3b960a\" transform=\"scale(1 -1)translate(0 -72)\" x=\"437.096226\" y=\"-21.384163\" width=\"72\" height=\"72\"/>\n   </g>\n   <g id=\"patch_28\">\n    <path d=\"M 437.096226 93.384163 \nL 437.096226 22.318125 \n\" style=\"fill: none; stroke: #000000; stroke-width: 0.8; stroke-linejoin: miter; stroke-linecap: square\"/>\n   </g>\n   <g id=\"patch_29\">\n    <path d=\"M 508.162264 93.384163 \nL 508.162264 22.318125 \n\" style=\"fill: none; stroke: #000000; stroke-width: 0.8; stroke-linejoin: miter; stroke-linecap: square\"/>\n   </g>\n   <g id=\"patch_30\">\n    <path d=\"M 437.096226 93.384163 \nL 508.162264 93.384163 \n\" style=\"fill: none; stroke: #000000; stroke-width: 0.8; stroke-linejoin: miter; stroke-linecap: square\"/>\n   </g>\n   <g id=\"patch_31\">\n    <path d=\"M 437.096226 22.318125 \nL 508.162264 22.318125 \n\" style=\"fill: none; stroke: #000000; stroke-width: 0.8; stroke-linejoin: miter; stroke-linecap: square\"/>\n   </g>\n   <g id=\"text_6\">\n    <!-- automobile -->\n    <g transform=\"translate(438.77612 16.318125)scale(0.12 -0.12)\">\n     <use xlink:href=\"#DejaVuSans-61\"/>\n     <use xlink:href=\"#DejaVuSans-75\" x=\"61.279297\"/>\n     <use xlink:href=\"#DejaVuSans-74\" x=\"124.658203\"/>\n     <use xlink:href=\"#DejaVuSans-6f\" x=\"163.867188\"/>\n     <use xlink:href=\"#DejaVuSans-6d\" x=\"225.048828\"/>\n     <use xlink:href=\"#DejaVuSans-6f\" x=\"322.460938\"/>\n     <use xlink:href=\"#DejaVuSans-62\" x=\"383.642578\"/>\n     <use xlink:href=\"#DejaVuSans-69\" x=\"447.119141\"/>\n     <use xlink:href=\"#DejaVuSans-6c\" x=\"474.902344\"/>\n     <use xlink:href=\"#DejaVuSans-65\" x=\"502.685547\"/>\n    </g>\n   </g>\n  </g>\n  <g id=\"axes_7\">\n   <g id=\"patch_32\">\n    <path d=\"M 522.375472 93.384163 \nL 593.441509 93.384163 \nL 593.441509 22.318125 \nL 522.375472 22.318125 \nz\n\" style=\"fill: #ffffff\"/>\n   </g>\n   <g clip-path=\"url(#p2a92dafaec)\">\n    <image xlink:href=\"data:image/png;base64,\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\" id=\"image544d823779\" transform=\"scale(1 -1)translate(0 -72)\" x=\"522.375472\" y=\"-21.384163\" width=\"72\" height=\"72\"/>\n   </g>\n   <g id=\"patch_33\">\n    <path d=\"M 522.375472 93.384163 \nL 522.375472 22.318125 \n\" style=\"fill: none; stroke: #000000; stroke-width: 0.8; stroke-linejoin: miter; stroke-linecap: square\"/>\n   </g>\n   <g id=\"patch_34\">\n    <path d=\"M 593.441509 93.384163 \nL 593.441509 22.318125 \n\" style=\"fill: none; stroke: #000000; stroke-width: 0.8; stroke-linejoin: miter; stroke-linecap: square\"/>\n   </g>\n   <g id=\"patch_35\">\n    <path d=\"M 522.375472 93.384163 \nL 593.441509 93.384163 \n\" style=\"fill: none; stroke: #000000; stroke-width: 0.8; stroke-linejoin: miter; stroke-linecap: square\"/>\n   </g>\n   <g id=\"patch_36\">\n    <path d=\"M 522.375472 22.318125 \nL 593.441509 22.318125 \n\" style=\"fill: none; stroke: #000000; stroke-width: 0.8; stroke-linejoin: miter; stroke-linecap: square\"/>\n   </g>\n   <g id=\"text_7\">\n    <!-- bird -->\n    <g transform=\"translate(546.261928 16.318125)scale(0.12 -0.12)\">\n     <use xlink:href=\"#DejaVuSans-62\"/>\n     <use xlink:href=\"#DejaVuSans-69\" x=\"63.476562\"/>\n     <use xlink:href=\"#DejaVuSans-72\" x=\"91.259766\"/>\n     <use xlink:href=\"#DejaVuSans-64\" x=\"130.623047\"/>\n    </g>\n   </g>\n  </g>\n  <g id=\"axes_8\">\n   <g id=\"patch_37\">\n    <path d=\"M 607.654717 93.384163 \nL 678.720755 93.384163 \nL 678.720755 22.318125 \nL 607.654717 22.318125 \nz\n\" style=\"fill: #ffffff\"/>\n   </g>\n   <g clip-path=\"url(#pb1c87677cc)\">\n    <image xlink:href=\"data:image/png;base64,\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\" id=\"image0b7dd1688f\" transform=\"scale(1 -1)translate(0 -72)\" x=\"607.654717\" y=\"-21.384163\" width=\"72\" height=\"72\"/>\n   </g>\n   <g id=\"patch_38\">\n    <path d=\"M 607.654717 93.384163 \nL 607.654717 22.318125 \n\" style=\"fill: none; stroke: #000000; stroke-width: 0.8; stroke-linejoin: miter; stroke-linecap: square\"/>\n   </g>\n   <g id=\"patch_39\">\n    <path d=\"M 678.720755 93.384163 \nL 678.720755 22.318125 \n\" style=\"fill: none; stroke: #000000; stroke-width: 0.8; stroke-linejoin: miter; stroke-linecap: square\"/>\n   </g>\n   <g id=\"patch_40\">\n    <path d=\"M 607.654717 93.384163 \nL 678.720755 93.384163 \n\" style=\"fill: none; stroke: #000000; stroke-width: 0.8; stroke-linejoin: miter; stroke-linecap: square\"/>\n   </g>\n   <g id=\"patch_41\">\n    <path d=\"M 607.654717 22.318125 \nL 678.720755 22.318125 \n\" style=\"fill: none; stroke: #000000; stroke-width: 0.8; stroke-linejoin: miter; stroke-linecap: square\"/>\n   </g>\n   <g id=\"text_8\">\n    <!-- horse -->\n    <g transform=\"translate(626.429923 16.318125)scale(0.12 -0.12)\">\n     <defs>\n      <path id=\"DejaVuSans-68\" d=\"M 3513 2113 \nL 3513 0 \nL 2938 0 \nL 2938 2094 \nQ 2938 2591 2744 2837 \nQ 2550 3084 2163 3084 \nQ 1697 3084 1428 2787 \nQ 1159 2491 1159 1978 \nL 1159 0 \nL 581 0 \nL 581 4863 \nL 1159 4863 \nL 1159 2956 \nQ 1366 3272 1645 3428 \nQ 1925 3584 2291 3584 \nQ 2894 3584 3203 3211 \nQ 3513 2838 3513 2113 \nz\n\" transform=\"scale(0.015625)\"/>\n      <path id=\"DejaVuSans-73\" d=\"M 2834 3397 \nL 2834 2853 \nQ 2591 2978 2328 3040 \nQ 2066 3103 1784 3103 \nQ 1356 3103 1142 2972 \nQ 928 2841 928 2578 \nQ 928 2378 1081 2264 \nQ 1234 2150 1697 2047 \nL 1894 2003 \nQ 2506 1872 2764 1633 \nQ 3022 1394 3022 966 \nQ 3022 478 2636 193 \nQ 2250 -91 1575 -91 \nQ 1294 -91 989 -36 \nQ 684 19 347 128 \nL 347 722 \nQ 666 556 975 473 \nQ 1284 391 1588 391 \nQ 1994 391 2212 530 \nQ 2431 669 2431 922 \nQ 2431 1156 2273 1281 \nQ 2116 1406 1581 1522 \nL 1381 1569 \nQ 847 1681 609 1914 \nQ 372 2147 372 2553 \nQ 372 3047 722 3315 \nQ 1072 3584 1716 3584 \nQ 2034 3584 2315 3537 \nQ 2597 3491 2834 3397 \nz\n\" transform=\"scale(0.015625)\"/>\n     </defs>\n     <use xlink:href=\"#DejaVuSans-68\"/>\n     <use xlink:href=\"#DejaVuSans-6f\" x=\"63.378906\"/>\n     <use xlink:href=\"#DejaVuSans-72\" x=\"124.560547\"/>\n     <use xlink:href=\"#DejaVuSans-73\" x=\"165.673828\"/>\n     <use xlink:href=\"#DejaVuSans-65\" x=\"217.773438\"/>\n    </g>\n   </g>\n  </g>\n  <g id=\"axes_9\">\n   <g id=\"patch_42\">\n    <path d=\"M 692.933962 93.384163 \nL 764 93.384163 \nL 764 22.318125 \nL 692.933962 22.318125 \nz\n\" style=\"fill: #ffffff\"/>\n   </g>\n   <g clip-path=\"url(#pd7d1af326a)\">\n    <image xlink:href=\"data:image/png;base64,\niVBORw0KGgoAAAANSUhEUgAAAEgAAABICAYAAABV7bNHAAAa2ElEQVR4nM2b2ZIkyXWev3PcY8nMyqrqfaZnJzgACBopE80okOKNbqQbXchkJjM+hV5FD6ILyUwPoCteSUaYCdCAFEBwMABm6eml9lwiwv3owt0jIqt7NmhEwNvKsioz0pff//Ofxb3lT//jfzIA7Q2JQAQNIBF0MADIL5JfSzMB0/y7Sn4ov8TcX35OjPHv0p85iE4g92Ny2L9YenZ6NbA0Pwxcb0iYJmUqmCvjpzm4naF9RGL6rqkQK0mvdRq7zGG+rtK0/GFf8MDBZMviZhOXETwbF/Cl7QvAvv3eqz7/Ru0bfP/2WPO/vbnUl5oQxZCQ+7fDnU+vdrCjyASmKSBCdDbuRvm+5j4nBqUZSBDUbOpHwGRi4nyjxAwdyAyaNsKcjN+djymW1lLmPPap6TsjYyxZz7geTa/RSwZIU4fJVATM0t8xD2oTOBImmo/mo+VrgomhyGQu+fsjqHNwZkwskwMQsWy6wgGRy5iWTXec87Q58/7HfmNmNhl8lXEjyhokpD5Nya8C2VT9uFMuPaCSmSQgJtOkVMAz26rCCpsWOx9MXjHp+XpnOzgCRgEJCDayYQLIZoCnDRsXKjbra6Z/XomaP4jlNW9EAUtlBLuwSDJB/DjRjFgUEJEEUBFaE8RSh5MpFCGfBD0JY5pgMpWZ+cyx1YkbEmeMegnFW+DNNiW9gvDlumcuj2fTfmkGHwFDMJ+Bnm1ksRT/0sSE0RNEz7ho4lzF01oPviuClZ2aiceB4BdTstlsv0krJltey1y+hnP4QtE/cE7y0nt+LmAA0aXfJSOvYWKShJnQUjxX7lwBm6iazM4O3XteEJo+e5W3fOXC5g5ByDSfmEScmfp8qGzmJtNc0vMGTjApeincZnp0WaSL10IOf4rnuo1oAWZc7Ddorwwl8q7Zrc6kgJKHPwAzM2jUirI5MyBeAl9kHENUDhgsZhiTU5hrn6822Wu4GcWYCV3eQRPQOLnYkRVjYFh6PxTtA0Bk2tXbgKGHK7LZL2OslRljedzi4jXIFIKErCVx5p0z0CaawZjhVkKQopea38uDehnSfFPcc0swD8zp0MWPky0Lu+W+XxV8RZ3+fkm4v8DcRvbMQ4HSR3YaEUuOJc/LkOSlCpAis3HkYPPm1mA6uf4iFb6+jtNC54HZDIToZfRaYsljaW/JfvXWQCMCjAwcvVqVbD56xu8WgOcTnXutAyAz84q/KOyQKFNQmAE41K5blhHK/F4W92JJI0B+V5hghwAFUp4jMLR66zNDBkPmAeF8kEzT0bsYiBTTm2hwEH/k92Ue/9zudw4ME4N05mlsHPNlM06hkiRzyhswOpkZw+Yb70tIXdBNdpy9Qkg74jqbFgJolxJANEXPo6fICz9ISm3a2WTvhpgkTx8TCgfsKdHtbGdfSmLzMzqk+WqY9HJMsMt3lZdbeUQLlsl6opfM7vQKORcrgxqSB0vgaF8g1sMMt4+4fjLNOSVTnjMBJpZZ4crCkqCKShbSieavEveM+SFQeVpubzlAnTH1FrAyY/jtYLAwuMhLdFlOHIQqu/mhkbwb046O8Z6RcploaYwca+gQkS4mthSPpAIKMabkbkwi4SUPRQZN5sHiF3i/gyS0vJWf0yGzPLNR8nznXzVXdkpAb2nOLXYVfY0ImuXDd2vJu5FAKvY3ZeCSzMlAu5CZFZA+TAPn3UFBK5d2plKi09Edj8DEnJVLfmMeMoxMmu3yzAPN+xiz+lkuKJa0sQAOTAGhSz8jgCrZq86C2wBawps8pjeXJCsVnmb+VBg1o0x6Do4M8QAYkRzkSEREiKS4CYVoOgsl0kbeThdGZsyxkCTuL6UWGZSRPTa9SjzsxCKI2kHIkvYlT2bUSMbNkpmO+mGRYxSf04r8o71QuWTjhcpu2yP79EPXg3dQV5m+2Qvt8wapTnrkNb1qes6cvuRdxrnnfuY1m9tuegSlVBosM8ZAQjyMpDOLUTkw6cTq4mhK5zJuYAkhPJr6Fk3jiQiiaQLRkzxOEToz6AcIAYYhdVpluY9pEoSYnlNDYlbJYIllqkkoXTzI6AtIqeySF1QUVpnccmmvAsZs1MsR9Exby47hQM8CyVHY7H3HKBnFbH0JmihZu5BdXKKfOfAbnZLPEGEIWIhIJVBXaYd9MmTpAwwhF6YSYLrr8kJySOAdqIJTTHViRmGLgjUV0RdxmNg1F+LCFswglJJvCTuSzciQvz73rl5zHpdrQtmhFEdjuTZmAn6MdjNA0ecHDGKVPjMPNuRZxph+LI5UNedGgIhxYk55vuvzIgJmhlQVeId5hzg3gZcZjKQ+Dyoi8xrSnC1ZG4lxxuSXPSRW2DvFYJb7Mia2JtcvI8PHbL4Eh4okYQvJq5U68OgVRNLui0Llicsac0qsE0A+xiTgY3UqMWXc9bKQEGHREI/aBGofxrjIRIgLT2wc2sXRY6ZcyZKTCIZ0Q2JrZrZ5l3RxTN7KhlqagyqE7P0Ko1SgOgwo5xXJEaASjVq0sYwgQ36/pB1lwVmUzTvCwhMrJWSA3HaA3TAKq2gBdAZw3lWrPf26RvuI7ofEiD6ACKH1hIXiAd8FYmYWksxY+oBsdiM7zQypa2zZJraVDekHiHFiKyAaEkO1SIOj5Gyjyy8AFTNCDiNbCVBtZ5GqCnFZgyqy2SPbBJAMlvIsNwVqo9dRIGbNMUM0e4S8q1Y5Qlv0wEGIY/gwHhIMNjKkFMkkWGLgELC+PzQllzeQPIYKgnJgryEmx9YpFg3tHKBZXg6dx+Tmy2FhL2hvuA6asyGnCUnEutMGaKguK/y5wyqX4qIQkZyz5MxkmrMqkj3dCNy+Q4ZAWFR0xw631xzFymhqmlMZGeIowBKTGNMPyBCw3Q7b7kAksaNpsCrPY2BkbUmnipeVrh8diDjFqSDBY0sH9RTUQj6nKB71VSebYozR6VgAzwsfF6AyVenm9eYSweISaPk7CpgLyYWX3C/eCuYyU8aoOqZZS4wHok6M4Nz0+5j42uHvks3u9vsZOHP5tPU2g+bnU2PIXsRSBRkMv+mRYMntqqBdFq5g6JAorjs5oLFVjlg5rFaGhcccDIsUINZXLW6f+lg865E+4rb9AUDaBxhKTJWB7EMS9DADwmVtyTGN7DI75mCVDY/ZvIeQNqtO+hgWnn7lGZbK0M6ia4qbZ3LzY5kVxgCxpBZqKc8iTOkHQ8jfL15BE0VyBB0qZVgq0eW6EjnnE3BdRPchJb8ldSnfP2AJk3aFUvKzyaOqJK86Y46EOR1n/YUcppRwQhJrYiUpm3fFMrOb95u8EbvpaLecRAzLFNU2uwHZ7pPYuiLzckjVPkxZPzAsa/q1pzt23LyWCi9+m4R3WAjRK7YVfGFMmeyyypFuWqT0Mbv1gJSAM48viwXStim+ihF86W0GSI6Zpt8jFiPiHFZ5rPXERgn5IkO5GKGZBL6cS/tdEub5LYtQCzpIYknXIyFRc4yE5/QtO1Nq1SKEVulWQneSHUAQtLOx1hIHiH0eA1JiW2k6buoCoAmgYhZ9Tm+Kp6p8koEs2uPm3WZMYV8OB0bAvKaT11wDsuwli+QAeLdLjPG75NKHVgmNEGrojwS/EZrzNe6yOQzXyeWPm92hJuTJuU1Hc+aIvma3KyUVQztozwP+JuD2Of7pY0qCVfE5yS2JLS6ZrdQVVlcj+GjSOXNpkeYU7QN63aWN3HXZJFNadFCTKol1HxAR/Pbl3LA073cpfnEjQDC0CZzdfcNvhe2zmqp1B0GeGPirnuri5mXPYIZsO6ozITQOv8na04HfG+2zDn++TazIO5vinHTbw1SJR3W6YSEJpOgdsZmZkAihdcRK6Y+Ufqk0l4HlbyLsspMZhpRUl0i6BIplHf2AAm6bnU4uo5QNMinXXwxipn2/EPq1sL9jxDd37Dae6xcVzVKpbiJub2PxyVSQcDzGJ2KWSiFDGLP80Ar7e2BqhFZwe6G6qRNgux7dJbOxzAyrUl43rCpCqwyDR/s6nYZUScBDk0R/f6yE7HUA/E6R3YDs9ti+S+CU/M/VyFyjclpilSM0yrBQ/DaiBazyWKiLW0txTnci7B4Y9uaWv/6jH/Fkf8x/Dz+gfuFY/1JpzyJDKwwLQU4Uf3eFRHBdilvqiwG3G5DsmfbHju4PtzgXub6ukb2CeZZLpbmoqM/3YwWymI85Yfugol/OwobsUaNPcwwN7B4PuHVPfF7TvHBUG0HPr7DtFrvZJL0pjGnbVLvKDLfKExcVsfH0x55upbi94a47JE75ny9uzRzEcrdHDeciD+tLAoosB4adjgdryTUmbxxi0pfoyOdTnlgr/mZAQ46fNp7oDQaBkG5TDK3gekW7Ko3pcxFNU/Eu1DI7P0seJrEIwgJCndytRdC94q+h2hjW91jXj2IsOUkVl3QKskNRTRpW6XSaISmZliEmh2CGH1YTRbVPu6R92rnH1Rmt9Ny7d81zOcKkwd8E+oUQa8WGpDmmMKxSTrXtFQmw+syx+jjSngXu/q0nVkn4TROY2wdCv3L4Ex0XbwqxlunM3SC0pO95CI0lcBcGavgLjzz3nP4M7vz0Cnd2Q3xxjoVArrWiqwU0DSxaaOo0X0iJ8nFNaJR+KYQ2aY/0yWNzdQPRpmR1rP0oI2C1BFrtWdUdF/WAaZvoPrssaSHt+NAmFkqdFhfqpFFuH2nPjOiNfpl2KiyEWGU25CJd8UxDmzepSzGJOfKzRqzBnIFPE9Q9+I3Qng/4zy+wmy029IfpjnOI98nbOYGY7zq5HCD62Q2Pov8hJpBDxO8eJL/frwXtYVgZYWG0PnAeluxixd32ht2x5/LOEdv7nt3dJOISBO2EWMP+fsC84S8cbp9MBEvlj+WTmMyyTmY6LFLmHCsZY6JUBwK3LWbGePEpfU6uNgjuJh1Crn8Jy2cDq4+uic/PUilYEiPFOaTyyHKJLZrkNHLZxXL5proecJ1i6nF7wXUxOQmrkbhMDBqOUkgeK0GCECvDKkPVuIkN0ZSjas+62XO2NPqVMCxhWKRBtIJYAyc9zkdC3yCmI8O0j8gm5WuliO9bj1VKd+xhpVMeCFifWDwshFAdOJTxpEh60E5YPh9Y/uYGfXbBcJNSAslph1Q+ufXKY22VNMfl011NQq05+vdbRUyRwdIBg7lR0P36zcsEkAlm6VaEinF3teHvbh5zOTT85PPHXN201NtUqdMBSoApQUCMYeMJaviN4nap8me10i98Zk4OJSSdWppmIc6mrTlIHs+8eqZSiwMb8gWFAZrzlLa0Tzv0YgPDgK6WE5BOoWmSabV1Spxrj9U6uywl443X0CahHlYO84tUwNs1iBn+r974EICFdqgY++jZR89V3/Lzywec7Racf3qMu1HcbhJzv5XR/SqCu0kg+K0k8CKESgkLx+7UJZOqD70ShRFhqmK6LgHvukSpYorlQoTbwdEngepqwH9+CWcXqda8XEwAqWKrBeYccVElgFrHsHAJkHyaXC6bTomqogtFguF36X60/6PlpwBUMqBi9ObYx4oXwwrNvH9anSS9aGDIQjvdXSR5s3Q+Q3WdTmkxGFaO/bFj81piyrCyXFOyfPEpMaIU6hIgiZESUkgRWiM0MQWYl4IOUF8MVJd7pOvzHSBNsY5LpmFOsbYBr4k5Ppnz/iRtVGiKGDOGKGO920AGwXW5xv7v1x8A0M/rUsCvh2P+p3+Pj6r7fLi6S281/bFilaD7tNPapxRlfp/H56pA9LA7TeDcfK+jWvQ8vHPFqupY+B6vgWfbIy62LUNUhsFRVwPv33vK0nc82x2x6evR5D96co/qJwvc3mg+voAXF1icRb0i0NSEO6t0iND45KlqJTph89Bx87oQG2NYZjPuZHaHckpS03F7Xs9aXQYoHhT01rrjxG05rTasVzuugD4KYaG4bdKZxJSkDX5n+UQ2lQqiT94tLGB5suV4uePd4xccVzsW2uE1sq72PK2P6INjO1Qsq47vHn3Okdvzeb3hZmjYhopd8Pxa76BdNsF+wPoueSyVpDnep+i4zsBUmsU+lTL6I2E4shQutOmuAaL5QEKYFw7Bxtq0P5LEtz0DkYiiOBE6t+e79Wfcc9e4tyPXQ8M+VkSETzYnPNuueHpxxP7XS/yNcvTrlK27znBdpDvydMfC7uHAf3jvp7zdvOB7zSesdE8rA5VEXoQl53HJZWj5tL/DkdvxF4tfsNaenTmiCf9j9x4/vn6L/2XC4qmxeDZMZY9S5m1qbLUgrhq603o834peuH7d0R/D5vVI/fpNKuwNDgtCVJ9ClW0yq3SSc6vk6nIlrsLRGzgRFKUVYa1Jld9rnrKrqlGTHtR3+KQ9RcX49UVDuXyUxDefa1Up6JNl4Dvt57xVP+ctf8FKI60ICqzlkru24dy11BJY6p5HrmOtjt4CEWilYx89YVCqbcTvwnRImPUH57KncjkST54veqFfQ3di2Hrg9GjLvvds9xVhcAwhYoNgvUvnoEY6dDSmg8MyjiJU4tDsXpZS8Y7v6a3jgbshzO6gbJqK3VHF369f52/W7/PLy7s8GR5RXQp+69AeNm8Yw+Md33njKT9oP+aBbnjgjEqSSTsEp5EVgbVccyx7Koms8oY9CcrzuOA/f/bn/PSDt1n90rH6zTXuap+qiW2bRFmVeLyku7tI2X+bTGp/KoQFbH6w4/VH57xxdME7yxfchIZn+xVDVDZDTR8dTy7X7HYVoXPYPlUMC5NGgJwo5TgZoBE/LmatPWF2gcDRAz2P3M9ptecnzZv8l3t3MecJraC90N/vefzwnO8df85r7oZTTaA7EULOshtRGqBxgUp6HFCJJ2Ccx4bPhhM+fH6X1YeOo08i7sVNOrKBVF7NiWhsPcMysSf6lLv1a+jXxpuvnfGXDz/kUXXJfX/JVVzwaXVKNMke2+MlctYs2Oxr9ruKGIXYJ6BmBZIM0rxlwCpxVDAuLD0rnOrAD5qPqSTw4/fe4Nn1iu2+Yhgc33vtKX9570P+sH3CWoxG3Gi+pXgXiWOfDgjAeRzYmPDfLv6MDy5ep/vFMY8+DDTnw5Rj5ZKrrRbE2qfaUZMCz2EpdGth805PdbLnhw9+yV8d/YxWelrt6c3xVvWciBJM6c3xsL7iWX/EVd9yNTQMUemiJ94G6HYrgDmUYBEv6U5yaXddw1IH7ulHXL3e8mxYc9Yv2caaf7H+R/7l4kOWYqw1sdGX/zEzNiUQRsCDGVdReRKO+Jsnf8Anv7rH3V/A8d+fwxDGqiMuna6EdUNYJPaERhiaVKfqj+HxO8/57ulT/vXx/+bPmnN6M3pSiabMooz5fv2Eq9hyY/WYXnU5V/pSgG6DFSyOGlUWWOFYSuDd+hmnbsO5X7KJDa/5C1ox6sya26AHi4z/zEZwfrR/i4/29/n0szu0n1Q053EqzZLF06VqYGwcQ+tSyuJSyWJ/B/Z3Iu+sz3h/+Tn33A2VKA6jorBV0HLnGuNUOyqJrG3HTnMlFCWaHgIUbB4JHS7o9u8FrEocd13DD5szel5wFY2dOdYaWIpQiY7if9uEgxm9RXqMncEnYc1//fyf8+H5XY5+0nD6DwOLJztk3+VT2qw5Rw2x9nTrimGphDqVRLoTYfd2x/G9G/7t/R/zJ83HPHaBVupUQqGc7M42WWCpgWBGigS7/EyOpL8MnPL+S9rEbUZpEnUiQQaUQJV3yt2+DX67f4zOjI05zsOKT2+OOb9YcXplVFcB2YfxkA+RxJyceJYcKoxpkNEe77l/dMMDd8lahtHRzMGZs3j8TCKOw2cPAIJJX/QrFvUqkCpxRISlGpVFHIk96d+r+4tEejMuouMX/T3+9uZdPv35A9rPHOvf9DRPrtNBX5U8llUOayq6u6kSODQpGOxOU31q/1bHv/uDv+M77VO+X59xX+vJMeQ53LaI+Sa/qo0ARWyMpOdC/FVg3R7EIemesZQJvTyx0krosDPHeVhyPqSovLoGv80HhcVr5RpyuYsUKpkufTcpEW5WHd9pn/JO/TSb922n8M3bQaDIq2z0a7TbTCoULbv3KnBKC8DzsOJHN+/yfy4e4q8Fv0vRuNXVuLHWVPTrWQ05u/RYw+aNwJ13z/jTB5/yw+U/cE/3LKV+pe590dy/qL3kxW6D81UD3B6o2PMrBfEL2sYaPtsdc7ZZpGQ3Hx6Uuz4AsXaEhRLyOXqsckG/ATnt+OP7n/EnRx/zru84kppGvraD/tL2UiT9dQF5VSt96CzeeaVp5R1zCLUIlQzUOuBdZJ+L9MPCoasq39gXYqN0R1PhLTTp/G5YR95+dMYPTz7k/fozluKoxH2jddzOIubtyyPp36J93T4ihqJURCoClUQqF8YK4rAQdKgIrRDqVOQf2qI5yWv193uO79/w5/c/4l8tf8aJBhay/K3W8UXf+XZ4+Fu0Ynoqwkr3PGouedKuebo0hp2wP84Hevk8bTw49OnQILTQnux5584ZbzcvWGuglW+mnV+n/U4AKnpVSar7PnBb/nj5Mb05PrjzJuAJleC66XRVcz06VrA/NcI68hePf8O/ufcBP2g+5q76yQMXE/4WLOJ3xiAnSrSUh1UYp+6GE79FmkhoDOkB8n/6dwadID4fNq4ithy431zzwF+ylh7FjyHFt9l+ZwBBiWqFtQrv+jNu2obTu9dcuCW9q9NxkUsnHtpnbVoaR29d8mh9zQ/X/8j3q2ecqHxpQPj/Nsffg1aJstbAse44ajqqZsAqw3z+r6CaWJSOn43jds+jxRWn7oa1poh93r4tcOB3zCAgezLHicJr7pJ3j5+nU4yzFu1l/O9Zli9YWh15e33G+6vPuac3VK/I974of/xt2ldm8/8UrRKHQ1jrntfbSzZDzUf6IJ2SdOkIJtbpAgPeuN9c86i6YKk9equcUtq3tZZvPQ76xm3MqB1rFb7bfkarPb96fIfniyPi3kGf56VGtd7zsL7igb9iJQMui3PRn297Db9zE5svaCmO7zefcM9fc/Zoya+O7nLRtVzvG/aDY7+vODna8rC65IG/pMk1nv9f4MDvAUDzpigr6el1w2v1JYM5HrTXDKZsQ8Vl13K32fDQX7KSbkxoUhXCfavaU9pBwWxe5vinbJNrFu67jrX2/LPlR7xZP+ehv+KBu2Jnnqu4oJKBx+6KViKVSKoC5psNyhRbfVvt94pBkArqCuMpxFL3rLWnGhNcw4nhhK+sVn4b7f8CR/h87MC6ew0AAAAASUVORK5CYII=\" id=\"image05b70d7d4d\" transform=\"scale(1 -1)translate(0 -72)\" x=\"692.933962\" y=\"-21.384163\" width=\"72\" height=\"72\"/>\n   </g>\n   <g id=\"patch_43\">\n    <path d=\"M 692.933962 93.384163 \nL 692.933962 22.318125 \n\" style=\"fill: none; stroke: #000000; stroke-width: 0.8; stroke-linejoin: miter; stroke-linecap: square\"/>\n   </g>\n   <g id=\"patch_44\">\n    <path d=\"M 764 93.384163 \nL 764 22.318125 \n\" style=\"fill: none; stroke: #000000; stroke-width: 0.8; stroke-linejoin: miter; stroke-linecap: square\"/>\n   </g>\n   <g id=\"patch_45\">\n    <path d=\"M 692.933962 93.384163 \nL 764 93.384163 \n\" style=\"fill: none; stroke: #000000; stroke-width: 0.8; stroke-linejoin: miter; stroke-linecap: square\"/>\n   </g>\n   <g id=\"patch_46\">\n    <path d=\"M 692.933962 22.318125 \nL 764 22.318125 \n\" style=\"fill: none; stroke: #000000; stroke-width: 0.8; stroke-linejoin: miter; stroke-linecap: square\"/>\n   </g>\n   <g id=\"text_9\">\n    <!-- ship -->\n    <g transform=\"translate(716.062919 16.318125)scale(0.12 -0.12)\">\n     <defs>\n      <path id=\"DejaVuSans-70\" d=\"M 1159 525 \nL 1159 -1331 \nL 581 -1331 \nL 581 3500 \nL 1159 3500 \nL 1159 2969 \nQ 1341 3281 1617 3432 \nQ 1894 3584 2278 3584 \nQ 2916 3584 3314 3078 \nQ 3713 2572 3713 1747 \nQ 3713 922 3314 415 \nQ 2916 -91 2278 -91 \nQ 1894 -91 1617 61 \nQ 1341 213 1159 525 \nz\nM 3116 1747 \nQ 3116 2381 2855 2742 \nQ 2594 3103 2138 3103 \nQ 1681 3103 1420 2742 \nQ 1159 2381 1159 1747 \nQ 1159 1113 1420 752 \nQ 1681 391 2138 391 \nQ 2594 391 2855 752 \nQ 3116 1113 3116 1747 \nz\n\" transform=\"scale(0.015625)\"/>\n     </defs>\n     <use xlink:href=\"#DejaVuSans-73\"/>\n     <use xlink:href=\"#DejaVuSans-68\" x=\"52.099609\"/>\n     <use xlink:href=\"#DejaVuSans-69\" x=\"115.478516\"/>\n     <use xlink:href=\"#DejaVuSans-70\" x=\"143.261719\"/>\n    </g>\n   </g>\n  </g>\n  <g id=\"axes_10\">\n   <g id=\"patch_47\">\n    <path d=\"M 10.7 182.33689 \nL 81.766038 182.33689 \nL 81.766038 111.270852 \nL 10.7 111.270852 \nz\n\" style=\"fill: #ffffff\"/>\n   </g>\n   <g clip-path=\"url(#p25c1423c2d)\">\n    <image xlink:href=\"data:image/png;base64,\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\" id=\"imagefe92039c69\" transform=\"scale(1 -1)translate(0 -72)\" x=\"10.7\" y=\"-110.33689\" width=\"72\" height=\"72\"/>\n   </g>\n   <g id=\"patch_48\">\n    <path d=\"M 10.7 182.33689 \nL 10.7 111.270852 \n\" style=\"fill: none; stroke: #000000; stroke-width: 0.8; stroke-linejoin: miter; stroke-linecap: square\"/>\n   </g>\n   <g id=\"patch_49\">\n    <path d=\"M 81.766038 182.33689 \nL 81.766038 111.270852 \n\" style=\"fill: none; stroke: #000000; stroke-width: 0.8; stroke-linejoin: miter; stroke-linecap: square\"/>\n   </g>\n   <g id=\"patch_50\">\n    <path d=\"M 10.7 182.33689 \nL 81.766038 182.33689 \n\" style=\"fill: none; stroke: #000000; stroke-width: 0.8; stroke-linejoin: miter; stroke-linecap: square\"/>\n   </g>\n   <g id=\"patch_51\">\n    <path d=\"M 10.7 111.270852 \nL 81.766038 111.270852 \n\" style=\"fill: none; stroke: #000000; stroke-width: 0.8; stroke-linejoin: miter; stroke-linecap: square\"/>\n   </g>\n   <g id=\"text_10\">\n    <!-- cat -->\n    <g transform=\"translate(36.904894 105.270852)scale(0.12 -0.12)\">\n     <use xlink:href=\"#DejaVuSans-63\"/>\n     <use xlink:href=\"#DejaVuSans-61\" x=\"54.980469\"/>\n     <use xlink:href=\"#DejaVuSans-74\" x=\"116.259766\"/>\n    </g>\n   </g>\n  </g>\n  <g id=\"axes_11\">\n   <g id=\"patch_52\">\n    <path d=\"M 95.979245 182.33689 \nL 167.045283 182.33689 \nL 167.045283 111.270852 \nL 95.979245 111.270852 \nz\n\" style=\"fill: #ffffff\"/>\n   </g>\n   <g clip-path=\"url(#p4fa40e56cf)\">\n    <image xlink:href=\"data:image/png;base64,\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\" id=\"image7a7ee9be73\" transform=\"scale(1 -1)translate(0 -72)\" x=\"95.979245\" y=\"-110.33689\" width=\"72\" height=\"72\"/>\n   </g>\n   <g id=\"patch_53\">\n    <path d=\"M 95.979245 182.33689 \nL 95.979245 111.270852 \n\" style=\"fill: none; stroke: #000000; stroke-width: 0.8; stroke-linejoin: miter; stroke-linecap: square\"/>\n   </g>\n   <g id=\"patch_54\">\n    <path d=\"M 167.045283 182.33689 \nL 167.045283 111.270852 \n\" style=\"fill: none; stroke: #000000; stroke-width: 0.8; stroke-linejoin: miter; stroke-linecap: square\"/>\n   </g>\n   <g id=\"patch_55\">\n    <path d=\"M 95.979245 182.33689 \nL 167.045283 182.33689 \n\" style=\"fill: none; stroke: #000000; stroke-width: 0.8; stroke-linejoin: miter; stroke-linecap: square\"/>\n   </g>\n   <g id=\"patch_56\">\n    <path d=\"M 95.979245 111.270852 \nL 167.045283 111.270852 \n\" style=\"fill: none; stroke: #000000; stroke-width: 0.8; stroke-linejoin: miter; stroke-linecap: square\"/>\n   </g>\n   <g id=\"text_11\">\n    <!-- deer -->\n    <g transform=\"translate(117.852889 105.270852)scale(0.12 -0.12)\">\n     <use xlink:href=\"#DejaVuSans-64\"/>\n     <use xlink:href=\"#DejaVuSans-65\" x=\"63.476562\"/>\n     <use xlink:href=\"#DejaVuSans-65\" x=\"125\"/>\n     <use xlink:href=\"#DejaVuSans-72\" x=\"186.523438\"/>\n    </g>\n   </g>\n  </g>\n  <g id=\"axes_12\">\n   <g id=\"patch_57\">\n    <path d=\"M 181.258491 182.33689 \nL 252.324528 182.33689 \nL 252.324528 111.270852 \nL 181.258491 111.270852 \nz\n\" style=\"fill: #ffffff\"/>\n   </g>\n   <g clip-path=\"url(#p6a6e43637e)\">\n    <image xlink:href=\"data:image/png;base64,\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\" id=\"imagea032de5c7c\" transform=\"scale(1 -1)translate(0 -72)\" x=\"181.258491\" y=\"-110.33689\" width=\"72\" height=\"72\"/>\n   </g>\n   <g id=\"patch_58\">\n    <path d=\"M 181.258491 182.33689 \nL 181.258491 111.270852 \n\" style=\"fill: none; stroke: #000000; stroke-width: 0.8; stroke-linejoin: miter; stroke-linecap: square\"/>\n   </g>\n   <g id=\"patch_59\">\n    <path d=\"M 252.324528 182.33689 \nL 252.324528 111.270852 \n\" style=\"fill: none; stroke: #000000; stroke-width: 0.8; stroke-linejoin: miter; stroke-linecap: square\"/>\n   </g>\n   <g id=\"patch_60\">\n    <path d=\"M 181.258491 182.33689 \nL 252.324528 182.33689 \n\" style=\"fill: none; stroke: #000000; stroke-width: 0.8; stroke-linejoin: miter; stroke-linecap: square\"/>\n   </g>\n   <g id=\"patch_61\">\n    <path d=\"M 181.258491 111.270852 \nL 252.324528 111.270852 \n\" style=\"fill: none; stroke: #000000; stroke-width: 0.8; stroke-linejoin: miter; stroke-linecap: square\"/>\n   </g>\n   <g id=\"text_12\">\n    <!-- horse -->\n    <g transform=\"translate(200.033697 105.270852)scale(0.12 -0.12)\">\n     <use xlink:href=\"#DejaVuSans-68\"/>\n     <use xlink:href=\"#DejaVuSans-6f\" x=\"63.378906\"/>\n     <use xlink:href=\"#DejaVuSans-72\" x=\"124.560547\"/>\n     <use xlink:href=\"#DejaVuSans-73\" x=\"165.673828\"/>\n     <use xlink:href=\"#DejaVuSans-65\" x=\"217.773438\"/>\n    </g>\n   </g>\n  </g>\n  <g id=\"axes_13\">\n   <g id=\"patch_62\">\n    <path d=\"M 266.537736 182.33689 \nL 337.603774 182.33689 \nL 337.603774 111.270852 \nL 266.537736 111.270852 \nz\n\" style=\"fill: #ffffff\"/>\n   </g>\n   <g clip-path=\"url(#p18938a3b42)\">\n    <image xlink:href=\"data:image/png;base64,\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\" id=\"imageadb884bc68\" transform=\"scale(1 -1)translate(0 -72)\" x=\"266.537736\" y=\"-110.33689\" width=\"72\" height=\"72\"/>\n   </g>\n   <g id=\"patch_63\">\n    <path d=\"M 266.537736 182.33689 \nL 266.537736 111.270852 \n\" style=\"fill: none; stroke: #000000; stroke-width: 0.8; stroke-linejoin: miter; stroke-linecap: square\"/>\n   </g>\n   <g id=\"patch_64\">\n    <path d=\"M 337.603774 182.33689 \nL 337.603774 111.270852 \n\" style=\"fill: none; stroke: #000000; stroke-width: 0.8; stroke-linejoin: miter; stroke-linecap: square\"/>\n   </g>\n   <g id=\"patch_65\">\n    <path d=\"M 266.537736 182.33689 \nL 337.603774 182.33689 \n\" style=\"fill: none; stroke: #000000; stroke-width: 0.8; stroke-linejoin: miter; stroke-linecap: square\"/>\n   </g>\n   <g id=\"patch_66\">\n    <path d=\"M 266.537736 111.270852 \nL 337.603774 111.270852 \n\" style=\"fill: none; stroke: #000000; stroke-width: 0.8; stroke-linejoin: miter; stroke-linecap: square\"/>\n   </g>\n   <g id=\"text_13\">\n    <!-- horse -->\n    <g transform=\"translate(285.312942 105.270852)scale(0.12 -0.12)\">\n     <use xlink:href=\"#DejaVuSans-68\"/>\n     <use xlink:href=\"#DejaVuSans-6f\" x=\"63.378906\"/>\n     <use xlink:href=\"#DejaVuSans-72\" x=\"124.560547\"/>\n     <use xlink:href=\"#DejaVuSans-73\" x=\"165.673828\"/>\n     <use xlink:href=\"#DejaVuSans-65\" x=\"217.773438\"/>\n    </g>\n   </g>\n  </g>\n  <g id=\"axes_14\">\n   <g id=\"patch_67\">\n    <path d=\"M 351.816981 182.33689 \nL 422.883019 182.33689 \nL 422.883019 111.270852 \nL 351.816981 111.270852 \nz\n\" style=\"fill: #ffffff\"/>\n   </g>\n   <g clip-path=\"url(#pa5ff49217d)\">\n    <image xlink:href=\"data:image/png;base64,\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\" id=\"imaged3bedea80e\" transform=\"scale(1 -1)translate(0 -72)\" x=\"351.816981\" y=\"-110.33689\" width=\"72\" height=\"72\"/>\n   </g>\n   <g id=\"patch_68\">\n    <path d=\"M 351.816981 182.33689 \nL 351.816981 111.270852 \n\" style=\"fill: none; stroke: #000000; stroke-width: 0.8; stroke-linejoin: miter; stroke-linecap: square\"/>\n   </g>\n   <g id=\"patch_69\">\n    <path d=\"M 422.883019 182.33689 \nL 422.883019 111.270852 \n\" style=\"fill: none; stroke: #000000; stroke-width: 0.8; stroke-linejoin: miter; stroke-linecap: square\"/>\n   </g>\n   <g id=\"patch_70\">\n    <path d=\"M 351.816981 182.33689 \nL 422.883019 182.33689 \n\" style=\"fill: none; stroke: #000000; stroke-width: 0.8; stroke-linejoin: miter; stroke-linecap: square\"/>\n   </g>\n   <g id=\"patch_71\">\n    <path d=\"M 351.816981 111.270852 \nL 422.883019 111.270852 \n\" style=\"fill: none; stroke: #000000; stroke-width: 0.8; stroke-linejoin: miter; stroke-linecap: square\"/>\n   </g>\n   <g id=\"text_14\">\n    <!-- bird -->\n    <g transform=\"translate(375.703438 105.270852)scale(0.12 -0.12)\">\n     <use xlink:href=\"#DejaVuSans-62\"/>\n     <use xlink:href=\"#DejaVuSans-69\" x=\"63.476562\"/>\n     <use xlink:href=\"#DejaVuSans-72\" x=\"91.259766\"/>\n     <use xlink:href=\"#DejaVuSans-64\" x=\"130.623047\"/>\n    </g>\n   </g>\n  </g>\n  <g id=\"axes_15\">\n   <g id=\"patch_72\">\n    <path d=\"M 437.096226 182.33689 \nL 508.162264 182.33689 \nL 508.162264 111.270852 \nL 437.096226 111.270852 \nz\n\" style=\"fill: #ffffff\"/>\n   </g>\n   <g clip-path=\"url(#pbadda32994)\">\n    <image xlink:href=\"data:image/png;base64,\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\" id=\"image354dc03337\" transform=\"scale(1 -1)translate(0 -72)\" x=\"437.096226\" y=\"-110.33689\" width=\"72\" height=\"72\"/>\n   </g>\n   <g id=\"patch_73\">\n    <path d=\"M 437.096226 182.33689 \nL 437.096226 111.270852 \n\" style=\"fill: none; stroke: #000000; stroke-width: 0.8; stroke-linejoin: miter; stroke-linecap: square\"/>\n   </g>\n   <g id=\"patch_74\">\n    <path d=\"M 508.162264 182.33689 \nL 508.162264 111.270852 \n\" style=\"fill: none; stroke: #000000; stroke-width: 0.8; stroke-linejoin: miter; stroke-linecap: square\"/>\n   </g>\n   <g id=\"patch_75\">\n    <path d=\"M 437.096226 182.33689 \nL 508.162264 182.33689 \n\" style=\"fill: none; stroke: #000000; stroke-width: 0.8; stroke-linejoin: miter; stroke-linecap: square\"/>\n   </g>\n   <g id=\"patch_76\">\n    <path d=\"M 437.096226 111.270852 \nL 508.162264 111.270852 \n\" style=\"fill: none; stroke: #000000; stroke-width: 0.8; stroke-linejoin: miter; stroke-linecap: square\"/>\n   </g>\n   <g id=\"text_15\">\n    <!-- truck -->\n    <g transform=\"translate(457.234558 105.270852)scale(0.12 -0.12)\">\n     <use xlink:href=\"#DejaVuSans-74\"/>\n     <use xlink:href=\"#DejaVuSans-72\" x=\"39.208984\"/>\n     <use xlink:href=\"#DejaVuSans-75\" x=\"80.322266\"/>\n     <use xlink:href=\"#DejaVuSans-63\" x=\"143.701172\"/>\n     <use xlink:href=\"#DejaVuSans-6b\" x=\"198.681641\"/>\n    </g>\n   </g>\n  </g>\n  <g id=\"axes_16\">\n   <g id=\"patch_77\">\n    <path d=\"M 522.375472 182.33689 \nL 593.441509 182.33689 \nL 593.441509 111.270852 \nL 522.375472 111.270852 \nz\n\" style=\"fill: #ffffff\"/>\n   </g>\n   <g clip-path=\"url(#p5193aba812)\">\n    <image xlink:href=\"data:image/png;base64,\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\" id=\"imagef841bbfd1f\" transform=\"scale(1 -1)translate(0 -72)\" x=\"522.375472\" y=\"-110.33689\" width=\"72\" height=\"72\"/>\n   </g>\n   <g id=\"patch_78\">\n    <path d=\"M 522.375472 182.33689 \nL 522.375472 111.270852 \n\" style=\"fill: none; stroke: #000000; stroke-width: 0.8; stroke-linejoin: miter; stroke-linecap: square\"/>\n   </g>\n   <g id=\"patch_79\">\n    <path d=\"M 593.441509 182.33689 \nL 593.441509 111.270852 \n\" style=\"fill: none; stroke: #000000; stroke-width: 0.8; stroke-linejoin: miter; stroke-linecap: square\"/>\n   </g>\n   <g id=\"patch_80\">\n    <path d=\"M 522.375472 182.33689 \nL 593.441509 182.33689 \n\" style=\"fill: none; stroke: #000000; stroke-width: 0.8; stroke-linejoin: miter; stroke-linecap: square\"/>\n   </g>\n   <g id=\"patch_81\">\n    <path d=\"M 522.375472 111.270852 \nL 593.441509 111.270852 \n\" style=\"fill: none; stroke: #000000; stroke-width: 0.8; stroke-linejoin: miter; stroke-linecap: square\"/>\n   </g>\n   <g id=\"text_16\">\n    <!-- truck -->\n    <g transform=\"translate(542.513803 105.270852)scale(0.12 -0.12)\">\n     <use xlink:href=\"#DejaVuSans-74\"/>\n     <use xlink:href=\"#DejaVuSans-72\" x=\"39.208984\"/>\n     <use xlink:href=\"#DejaVuSans-75\" x=\"80.322266\"/>\n     <use xlink:href=\"#DejaVuSans-63\" x=\"143.701172\"/>\n     <use xlink:href=\"#DejaVuSans-6b\" x=\"198.681641\"/>\n    </g>\n   </g>\n  </g>\n  <g id=\"axes_17\">\n   <g id=\"patch_82\">\n    <path d=\"M 607.654717 182.33689 \nL 678.720755 182.33689 \nL 678.720755 111.270852 \nL 607.654717 111.270852 \nz\n\" style=\"fill: #ffffff\"/>\n   </g>\n   <g clip-path=\"url(#pcd4a6504f9)\">\n    <image xlink:href=\"data:image/png;base64,\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\" id=\"image4e9c35a685\" transform=\"scale(1 -1)translate(0 -72)\" x=\"607.654717\" y=\"-110.33689\" width=\"72\" height=\"72\"/>\n   </g>\n   <g id=\"patch_83\">\n    <path d=\"M 607.654717 182.33689 \nL 607.654717 111.270852 \n\" style=\"fill: none; stroke: #000000; stroke-width: 0.8; stroke-linejoin: miter; stroke-linecap: square\"/>\n   </g>\n   <g id=\"patch_84\">\n    <path d=\"M 678.720755 182.33689 \nL 678.720755 111.270852 \n\" style=\"fill: none; stroke: #000000; stroke-width: 0.8; stroke-linejoin: miter; stroke-linecap: square\"/>\n   </g>\n   <g id=\"patch_85\">\n    <path d=\"M 607.654717 182.33689 \nL 678.720755 182.33689 \n\" style=\"fill: none; stroke: #000000; stroke-width: 0.8; stroke-linejoin: miter; stroke-linecap: square\"/>\n   </g>\n   <g id=\"patch_86\">\n    <path d=\"M 607.654717 111.270852 \nL 678.720755 111.270852 \n\" style=\"fill: none; stroke: #000000; stroke-width: 0.8; stroke-linejoin: miter; stroke-linecap: square\"/>\n   </g>\n   <g id=\"text_17\">\n    <!-- truck -->\n    <g transform=\"translate(627.793048 105.270852)scale(0.12 -0.12)\">\n     <use xlink:href=\"#DejaVuSans-74\"/>\n     <use xlink:href=\"#DejaVuSans-72\" x=\"39.208984\"/>\n     <use xlink:href=\"#DejaVuSans-75\" x=\"80.322266\"/>\n     <use xlink:href=\"#DejaVuSans-63\" x=\"143.701172\"/>\n     <use xlink:href=\"#DejaVuSans-6b\" x=\"198.681641\"/>\n    </g>\n   </g>\n  </g>\n  <g id=\"axes_18\">\n   <g id=\"patch_87\">\n    <path d=\"M 692.933962 182.33689 \nL 764 182.33689 \nL 764 111.270852 \nL 692.933962 111.270852 \nz\n\" style=\"fill: #ffffff\"/>\n   </g>\n   <g clip-path=\"url(#pee71b53b1a)\">\n    <image xlink:href=\"data:image/png;base64,\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\" id=\"imagebafe3f891f\" transform=\"scale(1 -1)translate(0 -72)\" x=\"692.933962\" y=\"-110.33689\" width=\"72\" height=\"72\"/>\n   </g>\n   <g id=\"patch_88\">\n    <path d=\"M 692.933962 182.33689 \nL 692.933962 111.270852 \n\" style=\"fill: none; stroke: #000000; stroke-width: 0.8; stroke-linejoin: miter; stroke-linecap: square\"/>\n   </g>\n   <g id=\"patch_89\">\n    <path d=\"M 764 182.33689 \nL 764 111.270852 \n\" style=\"fill: none; stroke: #000000; stroke-width: 0.8; stroke-linejoin: miter; stroke-linecap: square\"/>\n   </g>\n   <g id=\"patch_90\">\n    <path d=\"M 692.933962 182.33689 \nL 764 182.33689 \n\" style=\"fill: none; stroke: #000000; stroke-width: 0.8; stroke-linejoin: miter; stroke-linecap: square\"/>\n   </g>\n   <g id=\"patch_91\">\n    <path d=\"M 692.933962 111.270852 \nL 764 111.270852 \n\" style=\"fill: none; stroke: #000000; stroke-width: 0.8; stroke-linejoin: miter; stroke-linecap: square\"/>\n   </g>\n   <g id=\"text_18\">\n    <!-- cat -->\n    <g transform=\"translate(719.138856 105.270852)scale(0.12 -0.12)\">\n     <use xlink:href=\"#DejaVuSans-63\"/>\n     <use xlink:href=\"#DejaVuSans-61\" x=\"54.980469\"/>\n     <use xlink:href=\"#DejaVuSans-74\" x=\"116.259766\"/>\n    </g>\n   </g>\n  </g>\n </g>\n <defs>\n  <clipPath id=\"p5f60544179\">\n   <rect x=\"10.7\" y=\"22.318125\" width=\"71.066038\" height=\"71.066038\"/>\n  </clipPath>\n  <clipPath id=\"p83cf8843ed\">\n   <rect x=\"95.979245\" y=\"22.318125\" width=\"71.066038\" height=\"71.066038\"/>\n  </clipPath>\n  <clipPath id=\"pcfca4d4722\">\n   <rect x=\"181.258491\" y=\"22.318125\" width=\"71.066038\" height=\"71.066038\"/>\n  </clipPath>\n  <clipPath id=\"p2f134b62c7\">\n   <rect x=\"266.537736\" y=\"22.318125\" width=\"71.066038\" height=\"71.066038\"/>\n  </clipPath>\n  <clipPath id=\"p49afff8b88\">\n   <rect x=\"351.816981\" y=\"22.318125\" width=\"71.066038\" height=\"71.066038\"/>\n  </clipPath>\n  <clipPath id=\"pf88ca172ba\">\n   <rect x=\"437.096226\" y=\"22.318125\" width=\"71.066038\" height=\"71.066038\"/>\n  </clipPath>\n  <clipPath id=\"p2a92dafaec\">\n   <rect x=\"522.375472\" y=\"22.318125\" width=\"71.066038\" height=\"71.066038\"/>\n  </clipPath>\n  <clipPath id=\"pb1c87677cc\">\n   <rect x=\"607.654717\" y=\"22.318125\" width=\"71.066038\" height=\"71.066038\"/>\n  </clipPath>\n  <clipPath id=\"pd7d1af326a\">\n   <rect x=\"692.933962\" y=\"22.318125\" width=\"71.066038\" height=\"71.066038\"/>\n  </clipPath>\n  <clipPath id=\"p25c1423c2d\">\n   <rect x=\"10.7\" y=\"111.270852\" width=\"71.066038\" height=\"71.066038\"/>\n  </clipPath>\n  <clipPath id=\"p4fa40e56cf\">\n   <rect x=\"95.979245\" y=\"111.270852\" width=\"71.066038\" height=\"71.066038\"/>\n  </clipPath>\n  <clipPath id=\"p6a6e43637e\">\n   <rect x=\"181.258491\" y=\"111.270852\" width=\"71.066038\" height=\"71.066038\"/>\n  </clipPath>\n  <clipPath id=\"p18938a3b42\">\n   <rect x=\"266.537736\" y=\"111.270852\" width=\"71.066038\" height=\"71.066038\"/>\n  </clipPath>\n  <clipPath id=\"pa5ff49217d\">\n   <rect x=\"351.816981\" y=\"111.270852\" width=\"71.066038\" height=\"71.066038\"/>\n  </clipPath>\n  <clipPath id=\"pbadda32994\">\n   <rect x=\"437.096226\" y=\"111.270852\" width=\"71.066038\" height=\"71.066038\"/>\n  </clipPath>\n  <clipPath id=\"p5193aba812\">\n   <rect x=\"522.375472\" y=\"111.270852\" width=\"71.066038\" height=\"71.066038\"/>\n  </clipPath>\n  <clipPath id=\"pcd4a6504f9\">\n   <rect x=\"607.654717\" y=\"111.270852\" width=\"71.066038\" height=\"71.066038\"/>\n  </clipPath>\n  <clipPath id=\"pee71b53b1a\">\n   <rect x=\"692.933962\" y=\"111.270852\" width=\"71.066038\" height=\"71.066038\"/>\n  </clipPath>\n </defs>\n</svg>\n"
          },
          "metadata": {
            "needs_background": "light"
          }
        }
      ]
    },
    {
      "cell_type": "code",
      "source": [
        "batch_size = 256\n",
        "def get_dataloader_workers():\n",
        "  return 4\n",
        "\n",
        "train_iter = data.DataLoader(cifar_train, batch_size, shuffle=True,\n",
        "num_workers=get_dataloader_workers())"
      ],
      "metadata": {
        "colab": {
          "base_uri": "https://localhost:8080/"
        },
        "id": "HuVBwYCKGfaE",
        "outputId": "f1866504-9847-4efa-e6ac-e1bc68b9f9e6"
      },
      "execution_count": 11,
      "outputs": [
        {
          "output_type": "stream",
          "name": "stderr",
          "text": [
            "/usr/local/lib/python3.7/dist-packages/torch/utils/data/dataloader.py:560: UserWarning: This DataLoader will create 4 worker processes in total. Our suggested max number of worker in current system is 2, which is smaller than what this DataLoader is going to create. Please be aware that excessive worker creation might get DataLoader running slow or even freeze, lower the worker number to avoid potential slowness/freeze if necessary.\n",
            "  cpuset_checked))\n"
          ]
        }
      ]
    },
    {
      "cell_type": "code",
      "source": [
        "timer = d2l.Timer()\n",
        "for X, y in train_iter:\n",
        "  continue\n",
        "f'{timer.stop():.2f} sec'"
      ],
      "metadata": {
        "colab": {
          "base_uri": "https://localhost:8080/",
          "height": 93
        },
        "id": "fs4e7T4DIT4d",
        "outputId": "ca3656a0-4808-42b5-e00a-56bf409dd304"
      },
      "execution_count": 12,
      "outputs": [
        {
          "output_type": "stream",
          "name": "stderr",
          "text": [
            "/usr/local/lib/python3.7/dist-packages/torch/utils/data/dataloader.py:560: UserWarning: This DataLoader will create 4 worker processes in total. Our suggested max number of worker in current system is 2, which is smaller than what this DataLoader is going to create. Please be aware that excessive worker creation might get DataLoader running slow or even freeze, lower the worker number to avoid potential slowness/freeze if necessary.\n",
            "  cpuset_checked))\n"
          ]
        },
        {
          "output_type": "execute_result",
          "data": {
            "text/plain": [
              "'6.70 sec'"
            ],
            "application/vnd.google.colaboratory.intrinsic+json": {
              "type": "string"
            }
          },
          "metadata": {},
          "execution_count": 12
        }
      ]
    },
    {
      "cell_type": "code",
      "source": [
        "def load_data_cifar(batch_size, resize=None):\n",
        "  trans = [transforms.ToTensor()]\n",
        "  if resize:\n",
        "    trans.insert(0, transforms.Resize(resize))\n",
        "  trans = transforms.Compose(trans)\n",
        "  cifar_train = torchvision.datasets.CIFAR10(\n",
        "    root=\"../data\", train=True, transform=trans, download=True)\n",
        "  cifar_test = torchvision.datasets.CIFAR10(\n",
        "    root=\"../data\", train=False, transform=trans, download=True)\n",
        "  return (data.DataLoader(cifar_train, batch_size, shuffle=True,\n",
        "num_workers=get_dataloader_workers()),\n",
        "data.DataLoader(cifar_test, batch_size, shuffle=False,\n",
        "num_workers=get_dataloader_workers()))"
      ],
      "metadata": {
        "id": "G9A59AWJIcrf"
      },
      "execution_count": 13,
      "outputs": []
    },
    {
      "cell_type": "code",
      "source": [
        "train_iter, test_iter = load_data_cifar(32, resize=64)\n",
        "for X, y in train_iter:\n",
        "  print(X.shape, X.dtype, y.shape, y.dtype)\n",
        "  break"
      ],
      "metadata": {
        "colab": {
          "base_uri": "https://localhost:8080/"
        },
        "id": "_gNdRKGXPQdt",
        "outputId": "a307e194-b2dd-46a5-eaab-e468a916a9bf"
      },
      "execution_count": 14,
      "outputs": [
        {
          "output_type": "stream",
          "name": "stdout",
          "text": [
            "Files already downloaded and verified\n",
            "Files already downloaded and verified\n"
          ]
        },
        {
          "output_type": "stream",
          "name": "stderr",
          "text": [
            "/usr/local/lib/python3.7/dist-packages/torch/utils/data/dataloader.py:560: UserWarning: This DataLoader will create 4 worker processes in total. Our suggested max number of worker in current system is 2, which is smaller than what this DataLoader is going to create. Please be aware that excessive worker creation might get DataLoader running slow or even freeze, lower the worker number to avoid potential slowness/freeze if necessary.\n",
            "  cpuset_checked))\n"
          ]
        },
        {
          "output_type": "stream",
          "name": "stdout",
          "text": [
            "torch.Size([32, 3, 64, 64]) torch.float32 torch.Size([32]) torch.int64\n"
          ]
        }
      ]
    },
    {
      "cell_type": "code",
      "source": [
        "import torch\n",
        "from IPython import display\n",
        "from d2l import torch as d2l"
      ],
      "metadata": {
        "id": "4ofoGg6RPZi9"
      },
      "execution_count": 15,
      "outputs": []
    },
    {
      "cell_type": "code",
      "source": [
        "batch_size = 256\n",
        "train_iter, test_iter = load_data_cifar(batch_size)"
      ],
      "metadata": {
        "colab": {
          "base_uri": "https://localhost:8080/"
        },
        "id": "Mbqv_c85PkOT",
        "outputId": "21b8e56c-ba39-4604-ae78-32c50e239da8"
      },
      "execution_count": 16,
      "outputs": [
        {
          "output_type": "stream",
          "name": "stdout",
          "text": [
            "Files already downloaded and verified\n",
            "Files already downloaded and verified\n"
          ]
        },
        {
          "output_type": "stream",
          "name": "stderr",
          "text": [
            "/usr/local/lib/python3.7/dist-packages/torch/utils/data/dataloader.py:560: UserWarning: This DataLoader will create 4 worker processes in total. Our suggested max number of worker in current system is 2, which is smaller than what this DataLoader is going to create. Please be aware that excessive worker creation might get DataLoader running slow or even freeze, lower the worker number to avoid potential slowness/freeze if necessary.\n",
            "  cpuset_checked))\n"
          ]
        }
      ]
    },
    {
      "cell_type": "code",
      "source": [
        "num_inputs = 784\n",
        "num_outputs = 10\n",
        "W = torch.normal(0, 0.01, size=(num_inputs, num_outputs), requires_grad=True)\n",
        "b = torch.zeros(num_outputs, requires_grad=True)"
      ],
      "metadata": {
        "id": "HUhEi3xPPly4"
      },
      "execution_count": 17,
      "outputs": []
    },
    {
      "cell_type": "code",
      "source": [
        "def softmax(X):\n",
        "  X_exp = torch.exp(X)\n",
        "  partition = X_exp.sum(1, keepdim=True)\n",
        "  return X_exp / partition"
      ],
      "metadata": {
        "id": "EeVR7OqYQZHo"
      },
      "execution_count": 18,
      "outputs": []
    },
    {
      "cell_type": "code",
      "source": [
        "X = torch.normal(0, 1, (2, 5))\n",
        "X_prob = softmax(X)\n",
        "X_prob, X_prob.sum(1)"
      ],
      "metadata": {
        "colab": {
          "base_uri": "https://localhost:8080/"
        },
        "id": "ot5uA8bXQcGz",
        "outputId": "8406faa1-3ea4-4152-97c0-83abc3abac85"
      },
      "execution_count": 19,
      "outputs": [
        {
          "output_type": "execute_result",
          "data": {
            "text/plain": [
              "(tensor([[0.0195, 0.4674, 0.1211, 0.1562, 0.2358],\n",
              "         [0.0574, 0.6437, 0.1495, 0.1101, 0.0393]]), tensor([1.0000, 1.0000]))"
            ]
          },
          "metadata": {},
          "execution_count": 19
        }
      ]
    },
    {
      "cell_type": "code",
      "source": [
        "def net(X):\n",
        "  return softmax(torch.matmul(X.reshape((-1, W.shape[0])), W) + b)"
      ],
      "metadata": {
        "id": "77MAK_O0Qieq"
      },
      "execution_count": 20,
      "outputs": []
    },
    {
      "cell_type": "code",
      "source": [
        "y = torch.tensor([0, 2])\n",
        "y_hat = torch.tensor([[0.1, 0.3, 0.6], [0.3, 0.2, 0.5]])\n",
        "y_hat[[0, 1], y]"
      ],
      "metadata": {
        "colab": {
          "base_uri": "https://localhost:8080/"
        },
        "id": "XQCviSvZQlii",
        "outputId": "aec5543f-14c5-4550-95b1-1713a58a8ad8"
      },
      "execution_count": 21,
      "outputs": [
        {
          "output_type": "execute_result",
          "data": {
            "text/plain": [
              "tensor([0.1000, 0.5000])"
            ]
          },
          "metadata": {},
          "execution_count": 21
        }
      ]
    },
    {
      "cell_type": "code",
      "source": [
        "def cross_entropy(y_hat, y):\n",
        "  return - torch.log(y_hat[range(len(y_hat)), y])\n",
        "\n",
        "cross_entropy(y_hat, y)"
      ],
      "metadata": {
        "colab": {
          "base_uri": "https://localhost:8080/"
        },
        "id": "BhOP53RVQmHK",
        "outputId": "8b66fd3d-7547-44ab-db81-95addd15dbbc"
      },
      "execution_count": 22,
      "outputs": [
        {
          "output_type": "execute_result",
          "data": {
            "text/plain": [
              "tensor([2.3026, 0.6931])"
            ]
          },
          "metadata": {},
          "execution_count": 22
        }
      ]
    },
    {
      "cell_type": "code",
      "source": [
        "def evaluate_accuracy(net, data_iter):\n",
        "  if isinstance(net, torch.nn.Module):\n",
        "    net.eval() # Set the model to evaluation mode\n",
        "  metric = Accumulator(2) # No. of correct predictions, no. of predictions\n",
        "  with torch.no_grad():\n",
        "    for X, y in data_iter:\n",
        "      metric.add(d2l.accuracy(net(X), y), y.numel())\n",
        "  return metric[0] / metric[1]\n"
      ],
      "metadata": {
        "id": "qbe2kOxQQ0VS"
      },
      "execution_count": 23,
      "outputs": []
    },
    {
      "cell_type": "code",
      "source": [
        "class Accumulator:\n",
        "  def __init__(self, n):\n",
        "    self.data = [0.0] * n\n",
        "  def add(self, *args):\n",
        "    self.data = [a + float(b) for a, b in zip(self.data, args)]\n",
        "  def reset(self):\n",
        "    self.data = [0.0] * len(self.data)\n",
        "  def __getitem__(self, idx):\n",
        "    return self.data[idx]"
      ],
      "metadata": {
        "id": "xAcq5NCCQ9pM"
      },
      "execution_count": 24,
      "outputs": []
    },
    {
      "cell_type": "code",
      "source": [
        "evaluate_accuracy(net, test_iter)"
      ],
      "metadata": {
        "colab": {
          "base_uri": "https://localhost:8080/",
          "height": 332
        },
        "id": "FVjdjap-RH9W",
        "outputId": "830ae8da-1eb4-43f6-f757-f9e67022c259"
      },
      "execution_count": 25,
      "outputs": [
        {
          "output_type": "stream",
          "name": "stderr",
          "text": [
            "/usr/local/lib/python3.7/dist-packages/torch/utils/data/dataloader.py:560: UserWarning: This DataLoader will create 4 worker processes in total. Our suggested max number of worker in current system is 2, which is smaller than what this DataLoader is going to create. Please be aware that excessive worker creation might get DataLoader running slow or even freeze, lower the worker number to avoid potential slowness/freeze if necessary.\n",
            "  cpuset_checked))\n"
          ]
        },
        {
          "output_type": "error",
          "ename": "RuntimeError",
          "evalue": "ignored",
          "traceback": [
            "\u001b[0;31m---------------------------------------------------------------------------\u001b[0m",
            "\u001b[0;31mRuntimeError\u001b[0m                              Traceback (most recent call last)",
            "\u001b[0;32m<ipython-input-25-0bc1a4e17189>\u001b[0m in \u001b[0;36m<module>\u001b[0;34m()\u001b[0m\n\u001b[0;32m----> 1\u001b[0;31m \u001b[0mevaluate_accuracy\u001b[0m\u001b[0;34m(\u001b[0m\u001b[0mnet\u001b[0m\u001b[0;34m,\u001b[0m \u001b[0mtest_iter\u001b[0m\u001b[0;34m)\u001b[0m\u001b[0;34m\u001b[0m\u001b[0;34m\u001b[0m\u001b[0m\n\u001b[0m",
            "\u001b[0;32m<ipython-input-23-42aa9c44494f>\u001b[0m in \u001b[0;36mevaluate_accuracy\u001b[0;34m(net, data_iter)\u001b[0m\n\u001b[1;32m      5\u001b[0m   \u001b[0;32mwith\u001b[0m \u001b[0mtorch\u001b[0m\u001b[0;34m.\u001b[0m\u001b[0mno_grad\u001b[0m\u001b[0;34m(\u001b[0m\u001b[0;34m)\u001b[0m\u001b[0;34m:\u001b[0m\u001b[0;34m\u001b[0m\u001b[0;34m\u001b[0m\u001b[0m\n\u001b[1;32m      6\u001b[0m     \u001b[0;32mfor\u001b[0m \u001b[0mX\u001b[0m\u001b[0;34m,\u001b[0m \u001b[0my\u001b[0m \u001b[0;32min\u001b[0m \u001b[0mdata_iter\u001b[0m\u001b[0;34m:\u001b[0m\u001b[0;34m\u001b[0m\u001b[0;34m\u001b[0m\u001b[0m\n\u001b[0;32m----> 7\u001b[0;31m       \u001b[0mmetric\u001b[0m\u001b[0;34m.\u001b[0m\u001b[0madd\u001b[0m\u001b[0;34m(\u001b[0m\u001b[0md2l\u001b[0m\u001b[0;34m.\u001b[0m\u001b[0maccuracy\u001b[0m\u001b[0;34m(\u001b[0m\u001b[0mnet\u001b[0m\u001b[0;34m(\u001b[0m\u001b[0mX\u001b[0m\u001b[0;34m)\u001b[0m\u001b[0;34m,\u001b[0m \u001b[0my\u001b[0m\u001b[0;34m)\u001b[0m\u001b[0;34m,\u001b[0m \u001b[0my\u001b[0m\u001b[0;34m.\u001b[0m\u001b[0mnumel\u001b[0m\u001b[0;34m(\u001b[0m\u001b[0;34m)\u001b[0m\u001b[0;34m)\u001b[0m\u001b[0;34m\u001b[0m\u001b[0;34m\u001b[0m\u001b[0m\n\u001b[0m\u001b[1;32m      8\u001b[0m   \u001b[0;32mreturn\u001b[0m \u001b[0mmetric\u001b[0m\u001b[0;34m[\u001b[0m\u001b[0;36m0\u001b[0m\u001b[0;34m]\u001b[0m \u001b[0;34m/\u001b[0m \u001b[0mmetric\u001b[0m\u001b[0;34m[\u001b[0m\u001b[0;36m1\u001b[0m\u001b[0;34m]\u001b[0m\u001b[0;34m\u001b[0m\u001b[0;34m\u001b[0m\u001b[0m\n",
            "\u001b[0;32m<ipython-input-20-87519ab550d0>\u001b[0m in \u001b[0;36mnet\u001b[0;34m(X)\u001b[0m\n\u001b[1;32m      1\u001b[0m \u001b[0;32mdef\u001b[0m \u001b[0mnet\u001b[0m\u001b[0;34m(\u001b[0m\u001b[0mX\u001b[0m\u001b[0;34m)\u001b[0m\u001b[0;34m:\u001b[0m\u001b[0;34m\u001b[0m\u001b[0;34m\u001b[0m\u001b[0m\n\u001b[0;32m----> 2\u001b[0;31m   \u001b[0;32mreturn\u001b[0m \u001b[0msoftmax\u001b[0m\u001b[0;34m(\u001b[0m\u001b[0mtorch\u001b[0m\u001b[0;34m.\u001b[0m\u001b[0mmatmul\u001b[0m\u001b[0;34m(\u001b[0m\u001b[0mX\u001b[0m\u001b[0;34m.\u001b[0m\u001b[0mreshape\u001b[0m\u001b[0;34m(\u001b[0m\u001b[0;34m(\u001b[0m\u001b[0;34m-\u001b[0m\u001b[0;36m1\u001b[0m\u001b[0;34m,\u001b[0m \u001b[0mW\u001b[0m\u001b[0;34m.\u001b[0m\u001b[0mshape\u001b[0m\u001b[0;34m[\u001b[0m\u001b[0;36m0\u001b[0m\u001b[0;34m]\u001b[0m\u001b[0;34m)\u001b[0m\u001b[0;34m)\u001b[0m\u001b[0;34m,\u001b[0m \u001b[0mW\u001b[0m\u001b[0;34m)\u001b[0m \u001b[0;34m+\u001b[0m \u001b[0mb\u001b[0m\u001b[0;34m)\u001b[0m\u001b[0;34m\u001b[0m\u001b[0;34m\u001b[0m\u001b[0m\n\u001b[0m",
            "\u001b[0;31mRuntimeError\u001b[0m: shape '[-1, 784]' is invalid for input of size 786432"
          ]
        }
      ]
    },
    {
      "cell_type": "code",
      "source": [
        "def train_epoch_ch3(net, train_iter, loss, updater):\n",
        "  if isinstance(net, torch.nn.Module):\n",
        "    net.train()\n",
        "  # Sum of training loss, sum of training accuracy, no. of examples\n",
        "  metric = Accumulator(3)\n",
        "  for X, y in train_iter:\n",
        "    # Compute gradients and update parameters\n",
        "    y_hat = net(X)\n",
        "    l = loss(y_hat, y)\n",
        "    if isinstance(updater, torch.optim.Optimizer):\n",
        "      # Using PyTorch in-built optimizer & loss criterion\n",
        "      updater.zero_grad()\n",
        "      l.mean().backward()\n",
        "      updater.step()\n",
        "    else:\n",
        "      # Using custom built optimizer & loss criterion\n",
        "      l.sum().backward()\n",
        "      updater(X.shape[0])\n",
        "      metric.add(float(l.sum()), d2l.accuracy(y_hat, y), y.numel())\n",
        "  # Return training loss and training accuracy\n",
        "  return metric[0] / metric[2], metric[1] / metric[2]"
      ],
      "metadata": {
        "id": "ZZWKs5bQRIXF"
      },
      "execution_count": 26,
      "outputs": []
    },
    {
      "cell_type": "code",
      "source": [
        "class Animator:\n",
        "  def __init__(self, xlabel=None, ylabel=None, legend=None, xlim=None,\n",
        "               ylim=None, xscale='linear', yscale='linear',\n",
        "               fmts=('-', 'm--', 'g-.', 'r:'), nrows=1, ncols=1,\n",
        "               figsize=(3.5, 2.5)):\n",
        "    # Incrementally plot multiple lines\n",
        "    if legend is None:\n",
        "      legend = []\n",
        "    d2l.use_svg_display()\n",
        "    self.fig, self.axes = d2l.plt.subplots(nrows, ncols, figsize=figsize)\n",
        "    if nrows * ncols == 1:\n",
        "      self.axes = [self.axes, ]\n",
        "    # Use a lambda function to capture arguments\n",
        "    self.config_axes = lambda: d2l.set_axes(\n",
        "      self.axes[0], xlabel, ylabel, xlim, ylim, xscale, yscale, legend)\n",
        "    self.X, self.Y, self.fmts = None, None, fmts\n",
        "\n",
        "def add(self, x, y):\n",
        "  # Add multiple data points into the figure\n",
        "  if not hasattr(y, \"__len__\"):\n",
        "    y = [y]\n",
        "  n = len(y)\n",
        "  if not hasattr(x, \"__len__\"):\n",
        "    x = [x] * n\n",
        "  if not self.X:\n",
        "    self.X = [[] for _ in range(n)]\n",
        "  if not self.Y:\n",
        "    self.Y = [[] for _ in range(n)]\n",
        "  for i, (a, b) in enumerate(zip(x, y)):\n",
        "    if a is not None and b is not None:\n",
        "      self.X[i].append(a)\n",
        "      self.Y[i].append(b)\n",
        "  self.axes[0].cla()\n",
        "  for x, y, fmt in zip(self.X, self.Y, self.fmts):\n",
        "    self.axes[0].plot(x, y, fmt)\n",
        "  self.config_axes()\n",
        "  display.display(self.fig)\n",
        "  display.clear_output(wait=True)"
      ],
      "metadata": {
        "id": "q_wvYnSpSmGQ"
      },
      "execution_count": 27,
      "outputs": []
    },
    {
      "cell_type": "code",
      "source": [
        "def train_ch3(net, train_iter, test_iter, loss, num_epochs, updater):\n",
        "  animator = Animator(xlabel='epoch', xlim=[1, num_epochs], ylim=[0.3, 0.9],\n",
        "                      legend=['train loss', 'train acc', 'test acc'])\n",
        "  for epoch in range(num_epochs):\n",
        "    train_metrics = train_epoch_ch3(net, train_iter, loss, updater)\n",
        "    test_acc = evaluate_accuracy(net, test_iter)\n",
        "    animator.add(epoch + 1, train_metrics + (test_acc,))\n",
        "  train_loss, train_acc = train_metrics\n",
        "  assert train_loss < 0.5, train_loss\n",
        "  assert train_acc <= 1 and train_acc > 0.7, train_acc\n",
        "  assert test_acc <= 1 and test_acc > 0.7, test_acc"
      ],
      "metadata": {
        "id": "jkLc-_6ig9nc"
      },
      "execution_count": 28,
      "outputs": []
    },
    {
      "cell_type": "code",
      "source": [
        "lr = 0.1\n",
        "\n",
        "def updater(batch_size):\n",
        "  return d2l.sgd([W, b], lr, batch_size)"
      ],
      "metadata": {
        "id": "zPndfRZ_h8_x"
      },
      "execution_count": 29,
      "outputs": []
    },
    {
      "cell_type": "code",
      "source": [
        "num_epochs = 10\n",
        "train_ch3(net, train_iter, test_iter, cross_entropy, num_epochs, updater)"
      ],
      "metadata": {
        "id": "ayuqaBLKiAAP",
        "colab": {
          "base_uri": "https://localhost:8080/",
          "height": 581
        },
        "outputId": "132d5be1-d21d-417c-a4ae-ed139b77bf28"
      },
      "execution_count": 30,
      "outputs": [
        {
          "output_type": "stream",
          "name": "stderr",
          "text": [
            "/usr/local/lib/python3.7/dist-packages/torch/utils/data/dataloader.py:560: UserWarning: This DataLoader will create 4 worker processes in total. Our suggested max number of worker in current system is 2, which is smaller than what this DataLoader is going to create. Please be aware that excessive worker creation might get DataLoader running slow or even freeze, lower the worker number to avoid potential slowness/freeze if necessary.\n",
            "  cpuset_checked))\n"
          ]
        },
        {
          "output_type": "error",
          "ename": "RuntimeError",
          "evalue": "ignored",
          "traceback": [
            "\u001b[0;31m---------------------------------------------------------------------------\u001b[0m",
            "\u001b[0;31mRuntimeError\u001b[0m                              Traceback (most recent call last)",
            "\u001b[0;32m<ipython-input-30-a66acf440358>\u001b[0m in \u001b[0;36m<module>\u001b[0;34m()\u001b[0m\n\u001b[1;32m      1\u001b[0m \u001b[0mnum_epochs\u001b[0m \u001b[0;34m=\u001b[0m \u001b[0;36m10\u001b[0m\u001b[0;34m\u001b[0m\u001b[0;34m\u001b[0m\u001b[0m\n\u001b[0;32m----> 2\u001b[0;31m \u001b[0mtrain_ch3\u001b[0m\u001b[0;34m(\u001b[0m\u001b[0mnet\u001b[0m\u001b[0;34m,\u001b[0m \u001b[0mtrain_iter\u001b[0m\u001b[0;34m,\u001b[0m \u001b[0mtest_iter\u001b[0m\u001b[0;34m,\u001b[0m \u001b[0mcross_entropy\u001b[0m\u001b[0;34m,\u001b[0m \u001b[0mnum_epochs\u001b[0m\u001b[0;34m,\u001b[0m \u001b[0mupdater\u001b[0m\u001b[0;34m)\u001b[0m\u001b[0;34m\u001b[0m\u001b[0;34m\u001b[0m\u001b[0m\n\u001b[0m",
            "\u001b[0;32m<ipython-input-28-8d4a923e0187>\u001b[0m in \u001b[0;36mtrain_ch3\u001b[0;34m(net, train_iter, test_iter, loss, num_epochs, updater)\u001b[0m\n\u001b[1;32m      3\u001b[0m                       legend=['train loss', 'train acc', 'test acc'])\n\u001b[1;32m      4\u001b[0m   \u001b[0;32mfor\u001b[0m \u001b[0mepoch\u001b[0m \u001b[0;32min\u001b[0m \u001b[0mrange\u001b[0m\u001b[0;34m(\u001b[0m\u001b[0mnum_epochs\u001b[0m\u001b[0;34m)\u001b[0m\u001b[0;34m:\u001b[0m\u001b[0;34m\u001b[0m\u001b[0;34m\u001b[0m\u001b[0m\n\u001b[0;32m----> 5\u001b[0;31m     \u001b[0mtrain_metrics\u001b[0m \u001b[0;34m=\u001b[0m \u001b[0mtrain_epoch_ch3\u001b[0m\u001b[0;34m(\u001b[0m\u001b[0mnet\u001b[0m\u001b[0;34m,\u001b[0m \u001b[0mtrain_iter\u001b[0m\u001b[0;34m,\u001b[0m \u001b[0mloss\u001b[0m\u001b[0;34m,\u001b[0m \u001b[0mupdater\u001b[0m\u001b[0;34m)\u001b[0m\u001b[0;34m\u001b[0m\u001b[0;34m\u001b[0m\u001b[0m\n\u001b[0m\u001b[1;32m      6\u001b[0m     \u001b[0mtest_acc\u001b[0m \u001b[0;34m=\u001b[0m \u001b[0mevaluate_accuracy\u001b[0m\u001b[0;34m(\u001b[0m\u001b[0mnet\u001b[0m\u001b[0;34m,\u001b[0m \u001b[0mtest_iter\u001b[0m\u001b[0;34m)\u001b[0m\u001b[0;34m\u001b[0m\u001b[0;34m\u001b[0m\u001b[0m\n\u001b[1;32m      7\u001b[0m     \u001b[0manimator\u001b[0m\u001b[0;34m.\u001b[0m\u001b[0madd\u001b[0m\u001b[0;34m(\u001b[0m\u001b[0mepoch\u001b[0m \u001b[0;34m+\u001b[0m \u001b[0;36m1\u001b[0m\u001b[0;34m,\u001b[0m \u001b[0mtrain_metrics\u001b[0m \u001b[0;34m+\u001b[0m \u001b[0;34m(\u001b[0m\u001b[0mtest_acc\u001b[0m\u001b[0;34m,\u001b[0m\u001b[0;34m)\u001b[0m\u001b[0;34m)\u001b[0m\u001b[0;34m\u001b[0m\u001b[0;34m\u001b[0m\u001b[0m\n",
            "\u001b[0;32m<ipython-input-26-48f2ad21d3da>\u001b[0m in \u001b[0;36mtrain_epoch_ch3\u001b[0;34m(net, train_iter, loss, updater)\u001b[0m\n\u001b[1;32m      6\u001b[0m   \u001b[0;32mfor\u001b[0m \u001b[0mX\u001b[0m\u001b[0;34m,\u001b[0m \u001b[0my\u001b[0m \u001b[0;32min\u001b[0m \u001b[0mtrain_iter\u001b[0m\u001b[0;34m:\u001b[0m\u001b[0;34m\u001b[0m\u001b[0;34m\u001b[0m\u001b[0m\n\u001b[1;32m      7\u001b[0m     \u001b[0;31m# Compute gradients and update parameters\u001b[0m\u001b[0;34m\u001b[0m\u001b[0;34m\u001b[0m\u001b[0;34m\u001b[0m\u001b[0m\n\u001b[0;32m----> 8\u001b[0;31m     \u001b[0my_hat\u001b[0m \u001b[0;34m=\u001b[0m \u001b[0mnet\u001b[0m\u001b[0;34m(\u001b[0m\u001b[0mX\u001b[0m\u001b[0;34m)\u001b[0m\u001b[0;34m\u001b[0m\u001b[0;34m\u001b[0m\u001b[0m\n\u001b[0m\u001b[1;32m      9\u001b[0m     \u001b[0ml\u001b[0m \u001b[0;34m=\u001b[0m \u001b[0mloss\u001b[0m\u001b[0;34m(\u001b[0m\u001b[0my_hat\u001b[0m\u001b[0;34m,\u001b[0m \u001b[0my\u001b[0m\u001b[0;34m)\u001b[0m\u001b[0;34m\u001b[0m\u001b[0;34m\u001b[0m\u001b[0m\n\u001b[1;32m     10\u001b[0m     \u001b[0;32mif\u001b[0m \u001b[0misinstance\u001b[0m\u001b[0;34m(\u001b[0m\u001b[0mupdater\u001b[0m\u001b[0;34m,\u001b[0m \u001b[0mtorch\u001b[0m\u001b[0;34m.\u001b[0m\u001b[0moptim\u001b[0m\u001b[0;34m.\u001b[0m\u001b[0mOptimizer\u001b[0m\u001b[0;34m)\u001b[0m\u001b[0;34m:\u001b[0m\u001b[0;34m\u001b[0m\u001b[0;34m\u001b[0m\u001b[0m\n",
            "\u001b[0;32m<ipython-input-20-87519ab550d0>\u001b[0m in \u001b[0;36mnet\u001b[0;34m(X)\u001b[0m\n\u001b[1;32m      1\u001b[0m \u001b[0;32mdef\u001b[0m \u001b[0mnet\u001b[0m\u001b[0;34m(\u001b[0m\u001b[0mX\u001b[0m\u001b[0;34m)\u001b[0m\u001b[0;34m:\u001b[0m\u001b[0;34m\u001b[0m\u001b[0;34m\u001b[0m\u001b[0m\n\u001b[0;32m----> 2\u001b[0;31m   \u001b[0;32mreturn\u001b[0m \u001b[0msoftmax\u001b[0m\u001b[0;34m(\u001b[0m\u001b[0mtorch\u001b[0m\u001b[0;34m.\u001b[0m\u001b[0mmatmul\u001b[0m\u001b[0;34m(\u001b[0m\u001b[0mX\u001b[0m\u001b[0;34m.\u001b[0m\u001b[0mreshape\u001b[0m\u001b[0;34m(\u001b[0m\u001b[0;34m(\u001b[0m\u001b[0;34m-\u001b[0m\u001b[0;36m1\u001b[0m\u001b[0;34m,\u001b[0m \u001b[0mW\u001b[0m\u001b[0;34m.\u001b[0m\u001b[0mshape\u001b[0m\u001b[0;34m[\u001b[0m\u001b[0;36m0\u001b[0m\u001b[0;34m]\u001b[0m\u001b[0;34m)\u001b[0m\u001b[0;34m)\u001b[0m\u001b[0;34m,\u001b[0m \u001b[0mW\u001b[0m\u001b[0;34m)\u001b[0m \u001b[0;34m+\u001b[0m \u001b[0mb\u001b[0m\u001b[0;34m)\u001b[0m\u001b[0;34m\u001b[0m\u001b[0;34m\u001b[0m\u001b[0m\n\u001b[0m",
            "\u001b[0;31mRuntimeError\u001b[0m: shape '[-1, 784]' is invalid for input of size 786432"
          ]
        },
        {
          "output_type": "display_data",
          "data": {
            "text/plain": [
              "<Figure size 252x180 with 1 Axes>"
            ],
            "image/svg+xml": "<?xml version=\"1.0\" encoding=\"utf-8\" standalone=\"no\"?>\n<!DOCTYPE svg PUBLIC \"-//W3C//DTD SVG 1.1//EN\"\n  \"http://www.w3.org/Graphics/SVG/1.1/DTD/svg11.dtd\">\n<svg xmlns:xlink=\"http://www.w3.org/1999/xlink\" width=\"240.554688pt\" height=\"170.777344pt\" viewBox=\"0 0 240.554688 170.777344\" xmlns=\"http://www.w3.org/2000/svg\" version=\"1.1\">\n <metadata>\n  <rdf:RDF xmlns:dc=\"http://purl.org/dc/elements/1.1/\" xmlns:cc=\"http://creativecommons.org/ns#\" xmlns:rdf=\"http://www.w3.org/1999/02/22-rdf-syntax-ns#\">\n   <cc:Work>\n    <dc:type rdf:resource=\"http://purl.org/dc/dcmitype/StillImage\"/>\n    <dc:date>2022-07-19T05:06:32.863262</dc:date>\n    <dc:format>image/svg+xml</dc:format>\n    <dc:creator>\n     <cc:Agent>\n      <dc:title>Matplotlib v3.5.1, https://matplotlib.org/</dc:title>\n     </cc:Agent>\n    </dc:creator>\n   </cc:Work>\n  </rdf:RDF>\n </metadata>\n <defs>\n  <style type=\"text/css\">*{stroke-linejoin: round; stroke-linecap: butt}</style>\n </defs>\n <g id=\"figure_1\">\n  <g id=\"patch_1\">\n   <path d=\"M 0 170.777344 \nL 240.554688 170.777344 \nL 240.554688 0 \nL 0 0 \nL 0 170.777344 \nz\n\" style=\"fill: none\"/>\n  </g>\n  <g id=\"axes_1\">\n   <g id=\"patch_2\">\n    <path d=\"M 30.103125 146.899219 \nL 225.403125 146.899219 \nL 225.403125 10.999219 \nL 30.103125 10.999219 \nz\n\" style=\"fill: #ffffff\"/>\n   </g>\n   <g id=\"matplotlib.axis_1\">\n    <g id=\"xtick_1\">\n     <g id=\"line2d_1\">\n      <defs>\n       <path id=\"m156921c53e\" d=\"M 0 0 \nL 0 3.5 \n\" style=\"stroke: #000000; stroke-width: 0.8\"/>\n      </defs>\n      <g>\n       <use xlink:href=\"#m156921c53e\" x=\"30.103125\" y=\"146.899219\" style=\"stroke: #000000; stroke-width: 0.8\"/>\n      </g>\n     </g>\n     <g id=\"text_1\">\n      <!-- 0.0 -->\n      <g transform=\"translate(22.151563 161.497656)scale(0.1 -0.1)\">\n       <defs>\n        <path id=\"DejaVuSans-30\" d=\"M 2034 4250 \nQ 1547 4250 1301 3770 \nQ 1056 3291 1056 2328 \nQ 1056 1369 1301 889 \nQ 1547 409 2034 409 \nQ 2525 409 2770 889 \nQ 3016 1369 3016 2328 \nQ 3016 3291 2770 3770 \nQ 2525 4250 2034 4250 \nz\nM 2034 4750 \nQ 2819 4750 3233 4129 \nQ 3647 3509 3647 2328 \nQ 3647 1150 3233 529 \nQ 2819 -91 2034 -91 \nQ 1250 -91 836 529 \nQ 422 1150 422 2328 \nQ 422 3509 836 4129 \nQ 1250 4750 2034 4750 \nz\n\" transform=\"scale(0.015625)\"/>\n        <path id=\"DejaVuSans-2e\" d=\"M 684 794 \nL 1344 794 \nL 1344 0 \nL 684 0 \nL 684 794 \nz\n\" transform=\"scale(0.015625)\"/>\n       </defs>\n       <use xlink:href=\"#DejaVuSans-30\"/>\n       <use xlink:href=\"#DejaVuSans-2e\" x=\"63.623047\"/>\n       <use xlink:href=\"#DejaVuSans-30\" x=\"95.410156\"/>\n      </g>\n     </g>\n    </g>\n    <g id=\"xtick_2\">\n     <g id=\"line2d_2\">\n      <g>\n       <use xlink:href=\"#m156921c53e\" x=\"69.163125\" y=\"146.899219\" style=\"stroke: #000000; stroke-width: 0.8\"/>\n      </g>\n     </g>\n     <g id=\"text_2\">\n      <!-- 0.2 -->\n      <g transform=\"translate(61.211563 161.497656)scale(0.1 -0.1)\">\n       <defs>\n        <path id=\"DejaVuSans-32\" d=\"M 1228 531 \nL 3431 531 \nL 3431 0 \nL 469 0 \nL 469 531 \nQ 828 903 1448 1529 \nQ 2069 2156 2228 2338 \nQ 2531 2678 2651 2914 \nQ 2772 3150 2772 3378 \nQ 2772 3750 2511 3984 \nQ 2250 4219 1831 4219 \nQ 1534 4219 1204 4116 \nQ 875 4013 500 3803 \nL 500 4441 \nQ 881 4594 1212 4672 \nQ 1544 4750 1819 4750 \nQ 2544 4750 2975 4387 \nQ 3406 4025 3406 3419 \nQ 3406 3131 3298 2873 \nQ 3191 2616 2906 2266 \nQ 2828 2175 2409 1742 \nQ 1991 1309 1228 531 \nz\n\" transform=\"scale(0.015625)\"/>\n       </defs>\n       <use xlink:href=\"#DejaVuSans-30\"/>\n       <use xlink:href=\"#DejaVuSans-2e\" x=\"63.623047\"/>\n       <use xlink:href=\"#DejaVuSans-32\" x=\"95.410156\"/>\n      </g>\n     </g>\n    </g>\n    <g id=\"xtick_3\">\n     <g id=\"line2d_3\">\n      <g>\n       <use xlink:href=\"#m156921c53e\" x=\"108.223125\" y=\"146.899219\" style=\"stroke: #000000; stroke-width: 0.8\"/>\n      </g>\n     </g>\n     <g id=\"text_3\">\n      <!-- 0.4 -->\n      <g transform=\"translate(100.271563 161.497656)scale(0.1 -0.1)\">\n       <defs>\n        <path id=\"DejaVuSans-34\" d=\"M 2419 4116 \nL 825 1625 \nL 2419 1625 \nL 2419 4116 \nz\nM 2253 4666 \nL 3047 4666 \nL 3047 1625 \nL 3713 1625 \nL 3713 1100 \nL 3047 1100 \nL 3047 0 \nL 2419 0 \nL 2419 1100 \nL 313 1100 \nL 313 1709 \nL 2253 4666 \nz\n\" transform=\"scale(0.015625)\"/>\n       </defs>\n       <use xlink:href=\"#DejaVuSans-30\"/>\n       <use xlink:href=\"#DejaVuSans-2e\" x=\"63.623047\"/>\n       <use xlink:href=\"#DejaVuSans-34\" x=\"95.410156\"/>\n      </g>\n     </g>\n    </g>\n    <g id=\"xtick_4\">\n     <g id=\"line2d_4\">\n      <g>\n       <use xlink:href=\"#m156921c53e\" x=\"147.283125\" y=\"146.899219\" style=\"stroke: #000000; stroke-width: 0.8\"/>\n      </g>\n     </g>\n     <g id=\"text_4\">\n      <!-- 0.6 -->\n      <g transform=\"translate(139.331563 161.497656)scale(0.1 -0.1)\">\n       <defs>\n        <path id=\"DejaVuSans-36\" d=\"M 2113 2584 \nQ 1688 2584 1439 2293 \nQ 1191 2003 1191 1497 \nQ 1191 994 1439 701 \nQ 1688 409 2113 409 \nQ 2538 409 2786 701 \nQ 3034 994 3034 1497 \nQ 3034 2003 2786 2293 \nQ 2538 2584 2113 2584 \nz\nM 3366 4563 \nL 3366 3988 \nQ 3128 4100 2886 4159 \nQ 2644 4219 2406 4219 \nQ 1781 4219 1451 3797 \nQ 1122 3375 1075 2522 \nQ 1259 2794 1537 2939 \nQ 1816 3084 2150 3084 \nQ 2853 3084 3261 2657 \nQ 3669 2231 3669 1497 \nQ 3669 778 3244 343 \nQ 2819 -91 2113 -91 \nQ 1303 -91 875 529 \nQ 447 1150 447 2328 \nQ 447 3434 972 4092 \nQ 1497 4750 2381 4750 \nQ 2619 4750 2861 4703 \nQ 3103 4656 3366 4563 \nz\n\" transform=\"scale(0.015625)\"/>\n       </defs>\n       <use xlink:href=\"#DejaVuSans-30\"/>\n       <use xlink:href=\"#DejaVuSans-2e\" x=\"63.623047\"/>\n       <use xlink:href=\"#DejaVuSans-36\" x=\"95.410156\"/>\n      </g>\n     </g>\n    </g>\n    <g id=\"xtick_5\">\n     <g id=\"line2d_5\">\n      <g>\n       <use xlink:href=\"#m156921c53e\" x=\"186.343125\" y=\"146.899219\" style=\"stroke: #000000; stroke-width: 0.8\"/>\n      </g>\n     </g>\n     <g id=\"text_5\">\n      <!-- 0.8 -->\n      <g transform=\"translate(178.391563 161.497656)scale(0.1 -0.1)\">\n       <defs>\n        <path id=\"DejaVuSans-38\" d=\"M 2034 2216 \nQ 1584 2216 1326 1975 \nQ 1069 1734 1069 1313 \nQ 1069 891 1326 650 \nQ 1584 409 2034 409 \nQ 2484 409 2743 651 \nQ 3003 894 3003 1313 \nQ 3003 1734 2745 1975 \nQ 2488 2216 2034 2216 \nz\nM 1403 2484 \nQ 997 2584 770 2862 \nQ 544 3141 544 3541 \nQ 544 4100 942 4425 \nQ 1341 4750 2034 4750 \nQ 2731 4750 3128 4425 \nQ 3525 4100 3525 3541 \nQ 3525 3141 3298 2862 \nQ 3072 2584 2669 2484 \nQ 3125 2378 3379 2068 \nQ 3634 1759 3634 1313 \nQ 3634 634 3220 271 \nQ 2806 -91 2034 -91 \nQ 1263 -91 848 271 \nQ 434 634 434 1313 \nQ 434 1759 690 2068 \nQ 947 2378 1403 2484 \nz\nM 1172 3481 \nQ 1172 3119 1398 2916 \nQ 1625 2713 2034 2713 \nQ 2441 2713 2670 2916 \nQ 2900 3119 2900 3481 \nQ 2900 3844 2670 4047 \nQ 2441 4250 2034 4250 \nQ 1625 4250 1398 4047 \nQ 1172 3844 1172 3481 \nz\n\" transform=\"scale(0.015625)\"/>\n       </defs>\n       <use xlink:href=\"#DejaVuSans-30\"/>\n       <use xlink:href=\"#DejaVuSans-2e\" x=\"63.623047\"/>\n       <use xlink:href=\"#DejaVuSans-38\" x=\"95.410156\"/>\n      </g>\n     </g>\n    </g>\n    <g id=\"xtick_6\">\n     <g id=\"line2d_6\">\n      <g>\n       <use xlink:href=\"#m156921c53e\" x=\"225.403125\" y=\"146.899219\" style=\"stroke: #000000; stroke-width: 0.8\"/>\n      </g>\n     </g>\n     <g id=\"text_6\">\n      <!-- 1.0 -->\n      <g transform=\"translate(217.451563 161.497656)scale(0.1 -0.1)\">\n       <defs>\n        <path id=\"DejaVuSans-31\" d=\"M 794 531 \nL 1825 531 \nL 1825 4091 \nL 703 3866 \nL 703 4441 \nL 1819 4666 \nL 2450 4666 \nL 2450 531 \nL 3481 531 \nL 3481 0 \nL 794 0 \nL 794 531 \nz\n\" transform=\"scale(0.015625)\"/>\n       </defs>\n       <use xlink:href=\"#DejaVuSans-31\"/>\n       <use xlink:href=\"#DejaVuSans-2e\" x=\"63.623047\"/>\n       <use xlink:href=\"#DejaVuSans-30\" x=\"95.410156\"/>\n      </g>\n     </g>\n    </g>\n   </g>\n   <g id=\"matplotlib.axis_2\">\n    <g id=\"ytick_1\">\n     <g id=\"line2d_7\">\n      <defs>\n       <path id=\"mf69062e25a\" d=\"M 0 0 \nL -3.5 0 \n\" style=\"stroke: #000000; stroke-width: 0.8\"/>\n      </defs>\n      <g>\n       <use xlink:href=\"#mf69062e25a\" x=\"30.103125\" y=\"146.899219\" style=\"stroke: #000000; stroke-width: 0.8\"/>\n      </g>\n     </g>\n     <g id=\"text_7\">\n      <!-- 0.0 -->\n      <g transform=\"translate(7.2 150.698437)scale(0.1 -0.1)\">\n       <use xlink:href=\"#DejaVuSans-30\"/>\n       <use xlink:href=\"#DejaVuSans-2e\" x=\"63.623047\"/>\n       <use xlink:href=\"#DejaVuSans-30\" x=\"95.410156\"/>\n      </g>\n     </g>\n    </g>\n    <g id=\"ytick_2\">\n     <g id=\"line2d_8\">\n      <g>\n       <use xlink:href=\"#mf69062e25a\" x=\"30.103125\" y=\"119.719219\" style=\"stroke: #000000; stroke-width: 0.8\"/>\n      </g>\n     </g>\n     <g id=\"text_8\">\n      <!-- 0.2 -->\n      <g transform=\"translate(7.2 123.518437)scale(0.1 -0.1)\">\n       <use xlink:href=\"#DejaVuSans-30\"/>\n       <use xlink:href=\"#DejaVuSans-2e\" x=\"63.623047\"/>\n       <use xlink:href=\"#DejaVuSans-32\" x=\"95.410156\"/>\n      </g>\n     </g>\n    </g>\n    <g id=\"ytick_3\">\n     <g id=\"line2d_9\">\n      <g>\n       <use xlink:href=\"#mf69062e25a\" x=\"30.103125\" y=\"92.539219\" style=\"stroke: #000000; stroke-width: 0.8\"/>\n      </g>\n     </g>\n     <g id=\"text_9\">\n      <!-- 0.4 -->\n      <g transform=\"translate(7.2 96.338437)scale(0.1 -0.1)\">\n       <use xlink:href=\"#DejaVuSans-30\"/>\n       <use xlink:href=\"#DejaVuSans-2e\" x=\"63.623047\"/>\n       <use xlink:href=\"#DejaVuSans-34\" x=\"95.410156\"/>\n      </g>\n     </g>\n    </g>\n    <g id=\"ytick_4\">\n     <g id=\"line2d_10\">\n      <g>\n       <use xlink:href=\"#mf69062e25a\" x=\"30.103125\" y=\"65.359219\" style=\"stroke: #000000; stroke-width: 0.8\"/>\n      </g>\n     </g>\n     <g id=\"text_10\">\n      <!-- 0.6 -->\n      <g transform=\"translate(7.2 69.158437)scale(0.1 -0.1)\">\n       <use xlink:href=\"#DejaVuSans-30\"/>\n       <use xlink:href=\"#DejaVuSans-2e\" x=\"63.623047\"/>\n       <use xlink:href=\"#DejaVuSans-36\" x=\"95.410156\"/>\n      </g>\n     </g>\n    </g>\n    <g id=\"ytick_5\">\n     <g id=\"line2d_11\">\n      <g>\n       <use xlink:href=\"#mf69062e25a\" x=\"30.103125\" y=\"38.179219\" style=\"stroke: #000000; stroke-width: 0.8\"/>\n      </g>\n     </g>\n     <g id=\"text_11\">\n      <!-- 0.8 -->\n      <g transform=\"translate(7.2 41.978437)scale(0.1 -0.1)\">\n       <use xlink:href=\"#DejaVuSans-30\"/>\n       <use xlink:href=\"#DejaVuSans-2e\" x=\"63.623047\"/>\n       <use xlink:href=\"#DejaVuSans-38\" x=\"95.410156\"/>\n      </g>\n     </g>\n    </g>\n    <g id=\"ytick_6\">\n     <g id=\"line2d_12\">\n      <g>\n       <use xlink:href=\"#mf69062e25a\" x=\"30.103125\" y=\"10.999219\" style=\"stroke: #000000; stroke-width: 0.8\"/>\n      </g>\n     </g>\n     <g id=\"text_12\">\n      <!-- 1.0 -->\n      <g transform=\"translate(7.2 14.798437)scale(0.1 -0.1)\">\n       <use xlink:href=\"#DejaVuSans-31\"/>\n       <use xlink:href=\"#DejaVuSans-2e\" x=\"63.623047\"/>\n       <use xlink:href=\"#DejaVuSans-30\" x=\"95.410156\"/>\n      </g>\n     </g>\n    </g>\n   </g>\n   <g id=\"patch_3\">\n    <path d=\"M 30.103125 146.899219 \nL 30.103125 10.999219 \n\" style=\"fill: none; stroke: #000000; stroke-width: 0.8; stroke-linejoin: miter; stroke-linecap: square\"/>\n   </g>\n   <g id=\"patch_4\">\n    <path d=\"M 225.403125 146.899219 \nL 225.403125 10.999219 \n\" style=\"fill: none; stroke: #000000; stroke-width: 0.8; stroke-linejoin: miter; stroke-linecap: square\"/>\n   </g>\n   <g id=\"patch_5\">\n    <path d=\"M 30.103125 146.899219 \nL 225.403125 146.899219 \n\" style=\"fill: none; stroke: #000000; stroke-width: 0.8; stroke-linejoin: miter; stroke-linecap: square\"/>\n   </g>\n   <g id=\"patch_6\">\n    <path d=\"M 30.103125 10.999219 \nL 225.403125 10.999219 \n\" style=\"fill: none; stroke: #000000; stroke-width: 0.8; stroke-linejoin: miter; stroke-linecap: square\"/>\n   </g>\n  </g>\n </g>\n</svg>\n"
          },
          "metadata": {
            "needs_background": "light"
          }
        }
      ]
    },
    {
      "cell_type": "code",
      "source": [
        "def predict_ch3(net, test_iter, n=6):\n",
        "  for X, y in test_iter:\n",
        "    break\n",
        "  trues = get_cifar_labels(y)\n",
        "  preds = get_cifar_labels(net(X).argmax(axis=1))\n",
        "  titles = [true +'\\n' + pred for true, pred in zip(trues, preds)]\n",
        "  d2l.show_images(\n",
        "    X[0:n].reshape((n, 28, 28)), 1, n, titles=titles[0:n])\n",
        "\n",
        "predict_ch3(net, test_iter)"
      ],
      "metadata": {
        "id": "fuqrgipaodHK",
        "colab": {
          "base_uri": "https://localhost:8080/",
          "height": 369
        },
        "outputId": "fdb33cfc-66ba-4b29-a5ff-025915e7631a"
      },
      "execution_count": 31,
      "outputs": [
        {
          "output_type": "stream",
          "name": "stderr",
          "text": [
            "/usr/local/lib/python3.7/dist-packages/torch/utils/data/dataloader.py:560: UserWarning: This DataLoader will create 4 worker processes in total. Our suggested max number of worker in current system is 2, which is smaller than what this DataLoader is going to create. Please be aware that excessive worker creation might get DataLoader running slow or even freeze, lower the worker number to avoid potential slowness/freeze if necessary.\n",
            "  cpuset_checked))\n"
          ]
        },
        {
          "output_type": "error",
          "ename": "RuntimeError",
          "evalue": "ignored",
          "traceback": [
            "\u001b[0;31m---------------------------------------------------------------------------\u001b[0m",
            "\u001b[0;31mRuntimeError\u001b[0m                              Traceback (most recent call last)",
            "\u001b[0;32m<ipython-input-31-40ad5a16a37c>\u001b[0m in \u001b[0;36m<module>\u001b[0;34m()\u001b[0m\n\u001b[1;32m      8\u001b[0m     X[0:n].reshape((n, 28, 28)), 1, n, titles=titles[0:n])\n\u001b[1;32m      9\u001b[0m \u001b[0;34m\u001b[0m\u001b[0m\n\u001b[0;32m---> 10\u001b[0;31m \u001b[0mpredict_ch3\u001b[0m\u001b[0;34m(\u001b[0m\u001b[0mnet\u001b[0m\u001b[0;34m,\u001b[0m \u001b[0mtest_iter\u001b[0m\u001b[0;34m)\u001b[0m\u001b[0;34m\u001b[0m\u001b[0;34m\u001b[0m\u001b[0m\n\u001b[0m",
            "\u001b[0;32m<ipython-input-31-40ad5a16a37c>\u001b[0m in \u001b[0;36mpredict_ch3\u001b[0;34m(net, test_iter, n)\u001b[0m\n\u001b[1;32m      3\u001b[0m     \u001b[0;32mbreak\u001b[0m\u001b[0;34m\u001b[0m\u001b[0;34m\u001b[0m\u001b[0m\n\u001b[1;32m      4\u001b[0m   \u001b[0mtrues\u001b[0m \u001b[0;34m=\u001b[0m \u001b[0mget_cifar_labels\u001b[0m\u001b[0;34m(\u001b[0m\u001b[0my\u001b[0m\u001b[0;34m)\u001b[0m\u001b[0;34m\u001b[0m\u001b[0;34m\u001b[0m\u001b[0m\n\u001b[0;32m----> 5\u001b[0;31m   \u001b[0mpreds\u001b[0m \u001b[0;34m=\u001b[0m \u001b[0mget_cifar_labels\u001b[0m\u001b[0;34m(\u001b[0m\u001b[0mnet\u001b[0m\u001b[0;34m(\u001b[0m\u001b[0mX\u001b[0m\u001b[0;34m)\u001b[0m\u001b[0;34m.\u001b[0m\u001b[0margmax\u001b[0m\u001b[0;34m(\u001b[0m\u001b[0maxis\u001b[0m\u001b[0;34m=\u001b[0m\u001b[0;36m1\u001b[0m\u001b[0;34m)\u001b[0m\u001b[0;34m)\u001b[0m\u001b[0;34m\u001b[0m\u001b[0;34m\u001b[0m\u001b[0m\n\u001b[0m\u001b[1;32m      6\u001b[0m   \u001b[0mtitles\u001b[0m \u001b[0;34m=\u001b[0m \u001b[0;34m[\u001b[0m\u001b[0mtrue\u001b[0m \u001b[0;34m+\u001b[0m\u001b[0;34m'\\n'\u001b[0m \u001b[0;34m+\u001b[0m \u001b[0mpred\u001b[0m \u001b[0;32mfor\u001b[0m \u001b[0mtrue\u001b[0m\u001b[0;34m,\u001b[0m \u001b[0mpred\u001b[0m \u001b[0;32min\u001b[0m \u001b[0mzip\u001b[0m\u001b[0;34m(\u001b[0m\u001b[0mtrues\u001b[0m\u001b[0;34m,\u001b[0m \u001b[0mpreds\u001b[0m\u001b[0;34m)\u001b[0m\u001b[0;34m]\u001b[0m\u001b[0;34m\u001b[0m\u001b[0;34m\u001b[0m\u001b[0m\n\u001b[1;32m      7\u001b[0m   d2l.show_images(\n",
            "\u001b[0;32m<ipython-input-20-87519ab550d0>\u001b[0m in \u001b[0;36mnet\u001b[0;34m(X)\u001b[0m\n\u001b[1;32m      1\u001b[0m \u001b[0;32mdef\u001b[0m \u001b[0mnet\u001b[0m\u001b[0;34m(\u001b[0m\u001b[0mX\u001b[0m\u001b[0;34m)\u001b[0m\u001b[0;34m:\u001b[0m\u001b[0;34m\u001b[0m\u001b[0;34m\u001b[0m\u001b[0m\n\u001b[0;32m----> 2\u001b[0;31m   \u001b[0;32mreturn\u001b[0m \u001b[0msoftmax\u001b[0m\u001b[0;34m(\u001b[0m\u001b[0mtorch\u001b[0m\u001b[0;34m.\u001b[0m\u001b[0mmatmul\u001b[0m\u001b[0;34m(\u001b[0m\u001b[0mX\u001b[0m\u001b[0;34m.\u001b[0m\u001b[0mreshape\u001b[0m\u001b[0;34m(\u001b[0m\u001b[0;34m(\u001b[0m\u001b[0;34m-\u001b[0m\u001b[0;36m1\u001b[0m\u001b[0;34m,\u001b[0m \u001b[0mW\u001b[0m\u001b[0;34m.\u001b[0m\u001b[0mshape\u001b[0m\u001b[0;34m[\u001b[0m\u001b[0;36m0\u001b[0m\u001b[0;34m]\u001b[0m\u001b[0;34m)\u001b[0m\u001b[0;34m)\u001b[0m\u001b[0;34m,\u001b[0m \u001b[0mW\u001b[0m\u001b[0;34m)\u001b[0m \u001b[0;34m+\u001b[0m \u001b[0mb\u001b[0m\u001b[0;34m)\u001b[0m\u001b[0;34m\u001b[0m\u001b[0;34m\u001b[0m\u001b[0m\n\u001b[0m",
            "\u001b[0;31mRuntimeError\u001b[0m: shape '[-1, 784]' is invalid for input of size 786432"
          ]
        }
      ]
    },
    {
      "cell_type": "code",
      "source": [
        "import torch\n",
        "from torch import nn\n",
        "from d2l import torch as d2l"
      ],
      "metadata": {
        "id": "ffuS-iT6ovGr"
      },
      "execution_count": 32,
      "outputs": []
    },
    {
      "cell_type": "code",
      "source": [
        "batch_size = 256\n",
        "train_iter, test_iter = d2l.load_data_fashion_mnist(batch_size)"
      ],
      "metadata": {
        "colab": {
          "base_uri": "https://localhost:8080/",
          "height": 501,
          "referenced_widgets": [
            "1e14db83e6854f16896fde50259ca690",
            "7d08741be3f248dd995dd031bf6cb076",
            "38faa827783345c2841bf186cc42990a",
            "1457ca1f75e0408c96ec9039975d7cb7",
            "5359915202fa464e95dda19aa424bbb6",
            "055aa8adf70a43a8ab8b1d4d4e6f02ad",
            "963895749e0949b7af38d24524e5f622",
            "62f411d440a14585acce5ed2762710b7",
            "03616bedc946491cb6c22744ed2e572b",
            "a45d6a173bf543aaa1713f3e554a6a9e",
            "14d1d93e2c7b4041856b5e5bec198da9",
            "cf123cc9bb4c49009f94b7de789d86c5",
            "ce3d91fe5795473bb7e8c78215489c91",
            "3aeed6023a844261bbcee64d282f6a55",
            "83f6ebd234aa4cfa994992e63d910d62",
            "67d3695c9a8d4357a3cdd6bc3d030a84",
            "1ec58f62932a415bbed65e367d635222",
            "32e547fdd4c14d85a8b5a5bd4c18d2f2",
            "8954019deef9414eab09747b37f93639",
            "b03bf6d6444c4a89b863f8b8646e74f0",
            "fe9cc835e6844611a2a6628bece0092e",
            "97ea65f4f35848f3a073394c08027625",
            "a3bb9657448d4a5b84c7df47a8026505",
            "4cf9a56849d6436baed09f47737dfb8f",
            "eab957d35fdc4f5695c93882688162dd",
            "8f2efdc8234948bea07bf7b15fbccf20",
            "bec3393608e14e77b22d06f7ffdb104d",
            "d333dfe3fea4464e9694d118983a6a3e",
            "bce29caf3d154a9c8cf4dbda5ef6ac2e",
            "1d1b0648ab5e4d79bfbc955568343e75",
            "520fe466ff49471d8e8602e7aed0f881",
            "2a324dfeba1247e28dfe4ec09067c00f",
            "de327f32e1894791a741c512b26c3aec",
            "4bb08d8ebb8f4b3ba464d4ddf6beec29",
            "76f4c5c1bb5447f19076dc167607dfd5",
            "0ae49f9aa73e400eaf87ec967f1a27ce",
            "97fd87cca96c4b318119d324fb205526",
            "9b14725487fb4292907555219ac64a32",
            "b999a6daaebe490ba371cf3c241a5b58",
            "3e6fa0baf1d14e9cb3dd4eb1bf07b921",
            "e222dd4603b04b48b3f02e7d06439082",
            "02c0371a4cd147578e46122e0cdfe375",
            "c3a9e912e62b4263bbc3e20094ee315f",
            "a289d396edb249a299afbb75d312345c"
          ]
        },
        "id": "oZt6BKB02jSl",
        "outputId": "29df3d33-94f8-4fb4-fba6-7f34d7e60f59"
      },
      "execution_count": 33,
      "outputs": [
        {
          "output_type": "stream",
          "name": "stdout",
          "text": [
            "Downloading http://fashion-mnist.s3-website.eu-central-1.amazonaws.com/train-images-idx3-ubyte.gz\n",
            "Downloading http://fashion-mnist.s3-website.eu-central-1.amazonaws.com/train-images-idx3-ubyte.gz to ../data/FashionMNIST/raw/train-images-idx3-ubyte.gz\n"
          ]
        },
        {
          "output_type": "display_data",
          "data": {
            "text/plain": [
              "  0%|          | 0/26421880 [00:00<?, ?it/s]"
            ],
            "application/vnd.jupyter.widget-view+json": {
              "version_major": 2,
              "version_minor": 0,
              "model_id": "1e14db83e6854f16896fde50259ca690"
            }
          },
          "metadata": {}
        },
        {
          "output_type": "stream",
          "name": "stdout",
          "text": [
            "Extracting ../data/FashionMNIST/raw/train-images-idx3-ubyte.gz to ../data/FashionMNIST/raw\n",
            "\n",
            "Downloading http://fashion-mnist.s3-website.eu-central-1.amazonaws.com/train-labels-idx1-ubyte.gz\n",
            "Downloading http://fashion-mnist.s3-website.eu-central-1.amazonaws.com/train-labels-idx1-ubyte.gz to ../data/FashionMNIST/raw/train-labels-idx1-ubyte.gz\n"
          ]
        },
        {
          "output_type": "display_data",
          "data": {
            "text/plain": [
              "  0%|          | 0/29515 [00:00<?, ?it/s]"
            ],
            "application/vnd.jupyter.widget-view+json": {
              "version_major": 2,
              "version_minor": 0,
              "model_id": "cf123cc9bb4c49009f94b7de789d86c5"
            }
          },
          "metadata": {}
        },
        {
          "output_type": "stream",
          "name": "stdout",
          "text": [
            "Extracting ../data/FashionMNIST/raw/train-labels-idx1-ubyte.gz to ../data/FashionMNIST/raw\n",
            "\n",
            "Downloading http://fashion-mnist.s3-website.eu-central-1.amazonaws.com/t10k-images-idx3-ubyte.gz\n",
            "Downloading http://fashion-mnist.s3-website.eu-central-1.amazonaws.com/t10k-images-idx3-ubyte.gz to ../data/FashionMNIST/raw/t10k-images-idx3-ubyte.gz\n"
          ]
        },
        {
          "output_type": "display_data",
          "data": {
            "text/plain": [
              "  0%|          | 0/4422102 [00:00<?, ?it/s]"
            ],
            "application/vnd.jupyter.widget-view+json": {
              "version_major": 2,
              "version_minor": 0,
              "model_id": "a3bb9657448d4a5b84c7df47a8026505"
            }
          },
          "metadata": {}
        },
        {
          "output_type": "stream",
          "name": "stdout",
          "text": [
            "Extracting ../data/FashionMNIST/raw/t10k-images-idx3-ubyte.gz to ../data/FashionMNIST/raw\n",
            "\n",
            "Downloading http://fashion-mnist.s3-website.eu-central-1.amazonaws.com/t10k-labels-idx1-ubyte.gz\n",
            "Downloading http://fashion-mnist.s3-website.eu-central-1.amazonaws.com/t10k-labels-idx1-ubyte.gz to ../data/FashionMNIST/raw/t10k-labels-idx1-ubyte.gz\n"
          ]
        },
        {
          "output_type": "display_data",
          "data": {
            "text/plain": [
              "  0%|          | 0/5148 [00:00<?, ?it/s]"
            ],
            "application/vnd.jupyter.widget-view+json": {
              "version_major": 2,
              "version_minor": 0,
              "model_id": "4bb08d8ebb8f4b3ba464d4ddf6beec29"
            }
          },
          "metadata": {}
        },
        {
          "output_type": "stream",
          "name": "stdout",
          "text": [
            "Extracting ../data/FashionMNIST/raw/t10k-labels-idx1-ubyte.gz to ../data/FashionMNIST/raw\n",
            "\n"
          ]
        },
        {
          "output_type": "stream",
          "name": "stderr",
          "text": [
            "/usr/local/lib/python3.7/dist-packages/torch/utils/data/dataloader.py:560: UserWarning: This DataLoader will create 4 worker processes in total. Our suggested max number of worker in current system is 2, which is smaller than what this DataLoader is going to create. Please be aware that excessive worker creation might get DataLoader running slow or even freeze, lower the worker number to avoid potential slowness/freeze if necessary.\n",
            "  cpuset_checked))\n"
          ]
        }
      ]
    },
    {
      "cell_type": "code",
      "source": [
        "net = nn.Sequential(nn.Flatten(), nn.Linear(784, 10))\n",
        "\n",
        "def init_weights(m):\n",
        "  if type(m) == nn.Linear:\n",
        "    nn.init.normal_(m.weight, std=0.01)\n",
        "\n",
        "net.apply(init_weights);"
      ],
      "metadata": {
        "id": "AJWaKwc42j1S"
      },
      "execution_count": 34,
      "outputs": []
    },
    {
      "cell_type": "code",
      "source": [
        "loss = nn.CrossEntropyLoss(reduction='none')"
      ],
      "metadata": {
        "id": "DO8NjEM52vwX"
      },
      "execution_count": 35,
      "outputs": []
    },
    {
      "cell_type": "code",
      "source": [
        "trainer = torch.optim.SGD(net.parameters(), lr=0.1)"
      ],
      "metadata": {
        "id": "o3rnwfeE2xbC"
      },
      "execution_count": 36,
      "outputs": []
    },
    {
      "cell_type": "code",
      "source": [
        "num_epochs = 10\n",
        "d2l.train_ch3(net, train_iter, test_iter, loss, num_epochs, trainer)"
      ],
      "metadata": {
        "colab": {
          "base_uri": "https://localhost:8080/",
          "height": 261
        },
        "id": "zqX1uvlR2y7b",
        "outputId": "81a96162-378d-4b73-df88-e58ae5ae3ce0"
      },
      "execution_count": 37,
      "outputs": [
        {
          "output_type": "display_data",
          "data": {
            "text/plain": [
              "<Figure size 252x180 with 1 Axes>"
            ],
            "image/svg+xml": "<?xml version=\"1.0\" encoding=\"utf-8\" standalone=\"no\"?>\n<!DOCTYPE svg PUBLIC \"-//W3C//DTD SVG 1.1//EN\"\n  \"http://www.w3.org/Graphics/SVG/1.1/DTD/svg11.dtd\">\n<svg xmlns:xlink=\"http://www.w3.org/1999/xlink\" width=\"238.965625pt\" height=\"180.65625pt\" viewBox=\"0 0 238.965625 180.65625\" xmlns=\"http://www.w3.org/2000/svg\" version=\"1.1\">\n <metadata>\n  <rdf:RDF xmlns:dc=\"http://purl.org/dc/elements/1.1/\" xmlns:cc=\"http://creativecommons.org/ns#\" xmlns:rdf=\"http://www.w3.org/1999/02/22-rdf-syntax-ns#\">\n   <cc:Work>\n    <dc:type rdf:resource=\"http://purl.org/dc/dcmitype/StillImage\"/>\n    <dc:date>2022-07-19T05:09:24.663148</dc:date>\n    <dc:format>image/svg+xml</dc:format>\n    <dc:creator>\n     <cc:Agent>\n      <dc:title>Matplotlib v3.5.1, https://matplotlib.org/</dc:title>\n     </cc:Agent>\n    </dc:creator>\n   </cc:Work>\n  </rdf:RDF>\n </metadata>\n <defs>\n  <style type=\"text/css\">*{stroke-linejoin: round; stroke-linecap: butt}</style>\n </defs>\n <g id=\"figure_1\">\n  <g id=\"patch_1\">\n   <path d=\"M 0 180.65625 \nL 238.965625 180.65625 \nL 238.965625 0 \nL 0 0 \nL 0 180.65625 \nz\n\" style=\"fill: none\"/>\n  </g>\n  <g id=\"axes_1\">\n   <g id=\"patch_2\">\n    <path d=\"M 30.103125 143.1 \nL 225.403125 143.1 \nL 225.403125 7.2 \nL 30.103125 7.2 \nz\n\" style=\"fill: #ffffff\"/>\n   </g>\n   <g id=\"matplotlib.axis_1\">\n    <g id=\"xtick_1\">\n     <g id=\"line2d_1\">\n      <path d=\"M 51.803125 143.1 \nL 51.803125 7.2 \n\" clip-path=\"url(#p8a5f35e2e8)\" style=\"fill: none; stroke: #b0b0b0; stroke-width: 0.8; stroke-linecap: square\"/>\n     </g>\n     <g id=\"line2d_2\">\n      <defs>\n       <path id=\"m11b533238b\" d=\"M 0 0 \nL 0 3.5 \n\" style=\"stroke: #000000; stroke-width: 0.8\"/>\n      </defs>\n      <g>\n       <use xlink:href=\"#m11b533238b\" x=\"51.803125\" y=\"143.1\" style=\"stroke: #000000; stroke-width: 0.8\"/>\n      </g>\n     </g>\n     <g id=\"text_1\">\n      <!-- 2 -->\n      <g transform=\"translate(48.621875 157.698438)scale(0.1 -0.1)\">\n       <defs>\n        <path id=\"DejaVuSans-32\" d=\"M 1228 531 \nL 3431 531 \nL 3431 0 \nL 469 0 \nL 469 531 \nQ 828 903 1448 1529 \nQ 2069 2156 2228 2338 \nQ 2531 2678 2651 2914 \nQ 2772 3150 2772 3378 \nQ 2772 3750 2511 3984 \nQ 2250 4219 1831 4219 \nQ 1534 4219 1204 4116 \nQ 875 4013 500 3803 \nL 500 4441 \nQ 881 4594 1212 4672 \nQ 1544 4750 1819 4750 \nQ 2544 4750 2975 4387 \nQ 3406 4025 3406 3419 \nQ 3406 3131 3298 2873 \nQ 3191 2616 2906 2266 \nQ 2828 2175 2409 1742 \nQ 1991 1309 1228 531 \nz\n\" transform=\"scale(0.015625)\"/>\n       </defs>\n       <use xlink:href=\"#DejaVuSans-32\"/>\n      </g>\n     </g>\n    </g>\n    <g id=\"xtick_2\">\n     <g id=\"line2d_3\">\n      <path d=\"M 95.203125 143.1 \nL 95.203125 7.2 \n\" clip-path=\"url(#p8a5f35e2e8)\" style=\"fill: none; stroke: #b0b0b0; stroke-width: 0.8; stroke-linecap: square\"/>\n     </g>\n     <g id=\"line2d_4\">\n      <g>\n       <use xlink:href=\"#m11b533238b\" x=\"95.203125\" y=\"143.1\" style=\"stroke: #000000; stroke-width: 0.8\"/>\n      </g>\n     </g>\n     <g id=\"text_2\">\n      <!-- 4 -->\n      <g transform=\"translate(92.021875 157.698438)scale(0.1 -0.1)\">\n       <defs>\n        <path id=\"DejaVuSans-34\" d=\"M 2419 4116 \nL 825 1625 \nL 2419 1625 \nL 2419 4116 \nz\nM 2253 4666 \nL 3047 4666 \nL 3047 1625 \nL 3713 1625 \nL 3713 1100 \nL 3047 1100 \nL 3047 0 \nL 2419 0 \nL 2419 1100 \nL 313 1100 \nL 313 1709 \nL 2253 4666 \nz\n\" transform=\"scale(0.015625)\"/>\n       </defs>\n       <use xlink:href=\"#DejaVuSans-34\"/>\n      </g>\n     </g>\n    </g>\n    <g id=\"xtick_3\">\n     <g id=\"line2d_5\">\n      <path d=\"M 138.603125 143.1 \nL 138.603125 7.2 \n\" clip-path=\"url(#p8a5f35e2e8)\" style=\"fill: none; stroke: #b0b0b0; stroke-width: 0.8; stroke-linecap: square\"/>\n     </g>\n     <g id=\"line2d_6\">\n      <g>\n       <use xlink:href=\"#m11b533238b\" x=\"138.603125\" y=\"143.1\" style=\"stroke: #000000; stroke-width: 0.8\"/>\n      </g>\n     </g>\n     <g id=\"text_3\">\n      <!-- 6 -->\n      <g transform=\"translate(135.421875 157.698438)scale(0.1 -0.1)\">\n       <defs>\n        <path id=\"DejaVuSans-36\" d=\"M 2113 2584 \nQ 1688 2584 1439 2293 \nQ 1191 2003 1191 1497 \nQ 1191 994 1439 701 \nQ 1688 409 2113 409 \nQ 2538 409 2786 701 \nQ 3034 994 3034 1497 \nQ 3034 2003 2786 2293 \nQ 2538 2584 2113 2584 \nz\nM 3366 4563 \nL 3366 3988 \nQ 3128 4100 2886 4159 \nQ 2644 4219 2406 4219 \nQ 1781 4219 1451 3797 \nQ 1122 3375 1075 2522 \nQ 1259 2794 1537 2939 \nQ 1816 3084 2150 3084 \nQ 2853 3084 3261 2657 \nQ 3669 2231 3669 1497 \nQ 3669 778 3244 343 \nQ 2819 -91 2113 -91 \nQ 1303 -91 875 529 \nQ 447 1150 447 2328 \nQ 447 3434 972 4092 \nQ 1497 4750 2381 4750 \nQ 2619 4750 2861 4703 \nQ 3103 4656 3366 4563 \nz\n\" transform=\"scale(0.015625)\"/>\n       </defs>\n       <use xlink:href=\"#DejaVuSans-36\"/>\n      </g>\n     </g>\n    </g>\n    <g id=\"xtick_4\">\n     <g id=\"line2d_7\">\n      <path d=\"M 182.003125 143.1 \nL 182.003125 7.2 \n\" clip-path=\"url(#p8a5f35e2e8)\" style=\"fill: none; stroke: #b0b0b0; stroke-width: 0.8; stroke-linecap: square\"/>\n     </g>\n     <g id=\"line2d_8\">\n      <g>\n       <use xlink:href=\"#m11b533238b\" x=\"182.003125\" y=\"143.1\" style=\"stroke: #000000; stroke-width: 0.8\"/>\n      </g>\n     </g>\n     <g id=\"text_4\">\n      <!-- 8 -->\n      <g transform=\"translate(178.821875 157.698438)scale(0.1 -0.1)\">\n       <defs>\n        <path id=\"DejaVuSans-38\" d=\"M 2034 2216 \nQ 1584 2216 1326 1975 \nQ 1069 1734 1069 1313 \nQ 1069 891 1326 650 \nQ 1584 409 2034 409 \nQ 2484 409 2743 651 \nQ 3003 894 3003 1313 \nQ 3003 1734 2745 1975 \nQ 2488 2216 2034 2216 \nz\nM 1403 2484 \nQ 997 2584 770 2862 \nQ 544 3141 544 3541 \nQ 544 4100 942 4425 \nQ 1341 4750 2034 4750 \nQ 2731 4750 3128 4425 \nQ 3525 4100 3525 3541 \nQ 3525 3141 3298 2862 \nQ 3072 2584 2669 2484 \nQ 3125 2378 3379 2068 \nQ 3634 1759 3634 1313 \nQ 3634 634 3220 271 \nQ 2806 -91 2034 -91 \nQ 1263 -91 848 271 \nQ 434 634 434 1313 \nQ 434 1759 690 2068 \nQ 947 2378 1403 2484 \nz\nM 1172 3481 \nQ 1172 3119 1398 2916 \nQ 1625 2713 2034 2713 \nQ 2441 2713 2670 2916 \nQ 2900 3119 2900 3481 \nQ 2900 3844 2670 4047 \nQ 2441 4250 2034 4250 \nQ 1625 4250 1398 4047 \nQ 1172 3844 1172 3481 \nz\n\" transform=\"scale(0.015625)\"/>\n       </defs>\n       <use xlink:href=\"#DejaVuSans-38\"/>\n      </g>\n     </g>\n    </g>\n    <g id=\"xtick_5\">\n     <g id=\"line2d_9\">\n      <path d=\"M 225.403125 143.1 \nL 225.403125 7.2 \n\" clip-path=\"url(#p8a5f35e2e8)\" style=\"fill: none; stroke: #b0b0b0; stroke-width: 0.8; stroke-linecap: square\"/>\n     </g>\n     <g id=\"line2d_10\">\n      <g>\n       <use xlink:href=\"#m11b533238b\" x=\"225.403125\" y=\"143.1\" style=\"stroke: #000000; stroke-width: 0.8\"/>\n      </g>\n     </g>\n     <g id=\"text_5\">\n      <!-- 10 -->\n      <g transform=\"translate(219.040625 157.698438)scale(0.1 -0.1)\">\n       <defs>\n        <path id=\"DejaVuSans-31\" d=\"M 794 531 \nL 1825 531 \nL 1825 4091 \nL 703 3866 \nL 703 4441 \nL 1819 4666 \nL 2450 4666 \nL 2450 531 \nL 3481 531 \nL 3481 0 \nL 794 0 \nL 794 531 \nz\n\" transform=\"scale(0.015625)\"/>\n        <path id=\"DejaVuSans-30\" d=\"M 2034 4250 \nQ 1547 4250 1301 3770 \nQ 1056 3291 1056 2328 \nQ 1056 1369 1301 889 \nQ 1547 409 2034 409 \nQ 2525 409 2770 889 \nQ 3016 1369 3016 2328 \nQ 3016 3291 2770 3770 \nQ 2525 4250 2034 4250 \nz\nM 2034 4750 \nQ 2819 4750 3233 4129 \nQ 3647 3509 3647 2328 \nQ 3647 1150 3233 529 \nQ 2819 -91 2034 -91 \nQ 1250 -91 836 529 \nQ 422 1150 422 2328 \nQ 422 3509 836 4129 \nQ 1250 4750 2034 4750 \nz\n\" transform=\"scale(0.015625)\"/>\n       </defs>\n       <use xlink:href=\"#DejaVuSans-31\"/>\n       <use xlink:href=\"#DejaVuSans-30\" x=\"63.623047\"/>\n      </g>\n     </g>\n    </g>\n    <g id=\"text_6\">\n     <!-- epoch -->\n     <g transform=\"translate(112.525 171.376563)scale(0.1 -0.1)\">\n      <defs>\n       <path id=\"DejaVuSans-65\" d=\"M 3597 1894 \nL 3597 1613 \nL 953 1613 \nQ 991 1019 1311 708 \nQ 1631 397 2203 397 \nQ 2534 397 2845 478 \nQ 3156 559 3463 722 \nL 3463 178 \nQ 3153 47 2828 -22 \nQ 2503 -91 2169 -91 \nQ 1331 -91 842 396 \nQ 353 884 353 1716 \nQ 353 2575 817 3079 \nQ 1281 3584 2069 3584 \nQ 2775 3584 3186 3129 \nQ 3597 2675 3597 1894 \nz\nM 3022 2063 \nQ 3016 2534 2758 2815 \nQ 2500 3097 2075 3097 \nQ 1594 3097 1305 2825 \nQ 1016 2553 972 2059 \nL 3022 2063 \nz\n\" transform=\"scale(0.015625)\"/>\n       <path id=\"DejaVuSans-70\" d=\"M 1159 525 \nL 1159 -1331 \nL 581 -1331 \nL 581 3500 \nL 1159 3500 \nL 1159 2969 \nQ 1341 3281 1617 3432 \nQ 1894 3584 2278 3584 \nQ 2916 3584 3314 3078 \nQ 3713 2572 3713 1747 \nQ 3713 922 3314 415 \nQ 2916 -91 2278 -91 \nQ 1894 -91 1617 61 \nQ 1341 213 1159 525 \nz\nM 3116 1747 \nQ 3116 2381 2855 2742 \nQ 2594 3103 2138 3103 \nQ 1681 3103 1420 2742 \nQ 1159 2381 1159 1747 \nQ 1159 1113 1420 752 \nQ 1681 391 2138 391 \nQ 2594 391 2855 752 \nQ 3116 1113 3116 1747 \nz\n\" transform=\"scale(0.015625)\"/>\n       <path id=\"DejaVuSans-6f\" d=\"M 1959 3097 \nQ 1497 3097 1228 2736 \nQ 959 2375 959 1747 \nQ 959 1119 1226 758 \nQ 1494 397 1959 397 \nQ 2419 397 2687 759 \nQ 2956 1122 2956 1747 \nQ 2956 2369 2687 2733 \nQ 2419 3097 1959 3097 \nz\nM 1959 3584 \nQ 2709 3584 3137 3096 \nQ 3566 2609 3566 1747 \nQ 3566 888 3137 398 \nQ 2709 -91 1959 -91 \nQ 1206 -91 779 398 \nQ 353 888 353 1747 \nQ 353 2609 779 3096 \nQ 1206 3584 1959 3584 \nz\n\" transform=\"scale(0.015625)\"/>\n       <path id=\"DejaVuSans-63\" d=\"M 3122 3366 \nL 3122 2828 \nQ 2878 2963 2633 3030 \nQ 2388 3097 2138 3097 \nQ 1578 3097 1268 2742 \nQ 959 2388 959 1747 \nQ 959 1106 1268 751 \nQ 1578 397 2138 397 \nQ 2388 397 2633 464 \nQ 2878 531 3122 666 \nL 3122 134 \nQ 2881 22 2623 -34 \nQ 2366 -91 2075 -91 \nQ 1284 -91 818 406 \nQ 353 903 353 1747 \nQ 353 2603 823 3093 \nQ 1294 3584 2113 3584 \nQ 2378 3584 2631 3529 \nQ 2884 3475 3122 3366 \nz\n\" transform=\"scale(0.015625)\"/>\n       <path id=\"DejaVuSans-68\" d=\"M 3513 2113 \nL 3513 0 \nL 2938 0 \nL 2938 2094 \nQ 2938 2591 2744 2837 \nQ 2550 3084 2163 3084 \nQ 1697 3084 1428 2787 \nQ 1159 2491 1159 1978 \nL 1159 0 \nL 581 0 \nL 581 4863 \nL 1159 4863 \nL 1159 2956 \nQ 1366 3272 1645 3428 \nQ 1925 3584 2291 3584 \nQ 2894 3584 3203 3211 \nQ 3513 2838 3513 2113 \nz\n\" transform=\"scale(0.015625)\"/>\n      </defs>\n      <use xlink:href=\"#DejaVuSans-65\"/>\n      <use xlink:href=\"#DejaVuSans-70\" x=\"61.523438\"/>\n      <use xlink:href=\"#DejaVuSans-6f\" x=\"125\"/>\n      <use xlink:href=\"#DejaVuSans-63\" x=\"186.181641\"/>\n      <use xlink:href=\"#DejaVuSans-68\" x=\"241.162109\"/>\n     </g>\n    </g>\n   </g>\n   <g id=\"matplotlib.axis_2\">\n    <g id=\"ytick_1\">\n     <g id=\"line2d_11\">\n      <path d=\"M 30.103125 120.45 \nL 225.403125 120.45 \n\" clip-path=\"url(#p8a5f35e2e8)\" style=\"fill: none; stroke: #b0b0b0; stroke-width: 0.8; stroke-linecap: square\"/>\n     </g>\n     <g id=\"line2d_12\">\n      <defs>\n       <path id=\"m54f65c7ee9\" d=\"M 0 0 \nL -3.5 0 \n\" style=\"stroke: #000000; stroke-width: 0.8\"/>\n      </defs>\n      <g>\n       <use xlink:href=\"#m54f65c7ee9\" x=\"30.103125\" y=\"120.45\" style=\"stroke: #000000; stroke-width: 0.8\"/>\n      </g>\n     </g>\n     <g id=\"text_7\">\n      <!-- 0.4 -->\n      <g transform=\"translate(7.2 124.249219)scale(0.1 -0.1)\">\n       <defs>\n        <path id=\"DejaVuSans-2e\" d=\"M 684 794 \nL 1344 794 \nL 1344 0 \nL 684 0 \nL 684 794 \nz\n\" transform=\"scale(0.015625)\"/>\n       </defs>\n       <use xlink:href=\"#DejaVuSans-30\"/>\n       <use xlink:href=\"#DejaVuSans-2e\" x=\"63.623047\"/>\n       <use xlink:href=\"#DejaVuSans-34\" x=\"95.410156\"/>\n      </g>\n     </g>\n    </g>\n    <g id=\"ytick_2\">\n     <g id=\"line2d_13\">\n      <path d=\"M 30.103125 75.15 \nL 225.403125 75.15 \n\" clip-path=\"url(#p8a5f35e2e8)\" style=\"fill: none; stroke: #b0b0b0; stroke-width: 0.8; stroke-linecap: square\"/>\n     </g>\n     <g id=\"line2d_14\">\n      <g>\n       <use xlink:href=\"#m54f65c7ee9\" x=\"30.103125\" y=\"75.15\" style=\"stroke: #000000; stroke-width: 0.8\"/>\n      </g>\n     </g>\n     <g id=\"text_8\">\n      <!-- 0.6 -->\n      <g transform=\"translate(7.2 78.949219)scale(0.1 -0.1)\">\n       <use xlink:href=\"#DejaVuSans-30\"/>\n       <use xlink:href=\"#DejaVuSans-2e\" x=\"63.623047\"/>\n       <use xlink:href=\"#DejaVuSans-36\" x=\"95.410156\"/>\n      </g>\n     </g>\n    </g>\n    <g id=\"ytick_3\">\n     <g id=\"line2d_15\">\n      <path d=\"M 30.103125 29.85 \nL 225.403125 29.85 \n\" clip-path=\"url(#p8a5f35e2e8)\" style=\"fill: none; stroke: #b0b0b0; stroke-width: 0.8; stroke-linecap: square\"/>\n     </g>\n     <g id=\"line2d_16\">\n      <g>\n       <use xlink:href=\"#m54f65c7ee9\" x=\"30.103125\" y=\"29.85\" style=\"stroke: #000000; stroke-width: 0.8\"/>\n      </g>\n     </g>\n     <g id=\"text_9\">\n      <!-- 0.8 -->\n      <g transform=\"translate(7.2 33.649219)scale(0.1 -0.1)\">\n       <use xlink:href=\"#DejaVuSans-30\"/>\n       <use xlink:href=\"#DejaVuSans-2e\" x=\"63.623047\"/>\n       <use xlink:href=\"#DejaVuSans-38\" x=\"95.410156\"/>\n      </g>\n     </g>\n    </g>\n   </g>\n   <g id=\"line2d_17\">\n    <path d=\"M 30.103125 33.407681 \nL 51.803125 81.981224 \nL 73.503125 92.076888 \nL 95.203125 97.673187 \nL 116.903125 100.960106 \nL 138.603125 103.452464 \nL 160.303125 105.896319 \nL 182.003125 107.216281 \nL 203.703125 108.460589 \nL 225.403125 109.87322 \n\" clip-path=\"url(#p8a5f35e2e8)\" style=\"fill: none; stroke: #1f77b4; stroke-width: 1.5; stroke-linecap: square\"/>\n   </g>\n   <g id=\"line2d_18\">\n    <path d=\"M 30.103125 41.397725 \nL 51.803125 26.89795 \nL 73.503125 24.145975 \nL 95.203125 22.424575 \nL 116.903125 21.526125 \nL 138.603125 20.79755 \nL 160.303125 19.970825 \nL 182.003125 19.60465 \nL 203.703125 19.3555 \nL 225.403125 18.8572 \n\" clip-path=\"url(#p8a5f35e2e8)\" style=\"fill: none; stroke-dasharray: 5.55,2.4; stroke-dashoffset: 0; stroke: #bf00bf; stroke-width: 1.5\"/>\n   </g>\n   <g id=\"line2d_19\">\n    <path d=\"M 30.103125 33.94965 \nL 51.803125 27.74355 \nL 73.503125 26.5431 \nL 95.203125 26.9055 \nL 116.903125 26.4525 \nL 138.603125 23.5986 \nL 160.303125 23.2815 \nL 182.003125 23.84775 \nL 203.703125 22.08105 \nL 225.403125 22.5114 \n\" clip-path=\"url(#p8a5f35e2e8)\" style=\"fill: none; stroke-dasharray: 9.6,2.4,1.5,2.4; stroke-dashoffset: 0; stroke: #008000; stroke-width: 1.5\"/>\n   </g>\n   <g id=\"patch_3\">\n    <path d=\"M 30.103125 143.1 \nL 30.103125 7.2 \n\" style=\"fill: none; stroke: #000000; stroke-width: 0.8; stroke-linejoin: miter; stroke-linecap: square\"/>\n   </g>\n   <g id=\"patch_4\">\n    <path d=\"M 225.403125 143.1 \nL 225.403125 7.2 \n\" style=\"fill: none; stroke: #000000; stroke-width: 0.8; stroke-linejoin: miter; stroke-linecap: square\"/>\n   </g>\n   <g id=\"patch_5\">\n    <path d=\"M 30.103125 143.1 \nL 225.403125 143.1 \n\" style=\"fill: none; stroke: #000000; stroke-width: 0.8; stroke-linejoin: miter; stroke-linecap: square\"/>\n   </g>\n   <g id=\"patch_6\">\n    <path d=\"M 30.103125 7.2 \nL 225.403125 7.2 \n\" style=\"fill: none; stroke: #000000; stroke-width: 0.8; stroke-linejoin: miter; stroke-linecap: square\"/>\n   </g>\n   <g id=\"legend_1\">\n    <g id=\"patch_7\">\n     <path d=\"M 140.634375 98.667187 \nL 218.403125 98.667187 \nQ 220.403125 98.667187 220.403125 96.667187 \nL 220.403125 53.632812 \nQ 220.403125 51.632812 218.403125 51.632812 \nL 140.634375 51.632812 \nQ 138.634375 51.632812 138.634375 53.632812 \nL 138.634375 96.667187 \nQ 138.634375 98.667187 140.634375 98.667187 \nz\n\" style=\"fill: #ffffff; opacity: 0.8; stroke: #cccccc; stroke-linejoin: miter\"/>\n    </g>\n    <g id=\"line2d_20\">\n     <path d=\"M 142.634375 59.73125 \nL 152.634375 59.73125 \nL 162.634375 59.73125 \n\" style=\"fill: none; stroke: #1f77b4; stroke-width: 1.5; stroke-linecap: square\"/>\n    </g>\n    <g id=\"text_10\">\n     <!-- train loss -->\n     <g transform=\"translate(170.634375 63.23125)scale(0.1 -0.1)\">\n      <defs>\n       <path id=\"DejaVuSans-74\" d=\"M 1172 4494 \nL 1172 3500 \nL 2356 3500 \nL 2356 3053 \nL 1172 3053 \nL 1172 1153 \nQ 1172 725 1289 603 \nQ 1406 481 1766 481 \nL 2356 481 \nL 2356 0 \nL 1766 0 \nQ 1100 0 847 248 \nQ 594 497 594 1153 \nL 594 3053 \nL 172 3053 \nL 172 3500 \nL 594 3500 \nL 594 4494 \nL 1172 4494 \nz\n\" transform=\"scale(0.015625)\"/>\n       <path id=\"DejaVuSans-72\" d=\"M 2631 2963 \nQ 2534 3019 2420 3045 \nQ 2306 3072 2169 3072 \nQ 1681 3072 1420 2755 \nQ 1159 2438 1159 1844 \nL 1159 0 \nL 581 0 \nL 581 3500 \nL 1159 3500 \nL 1159 2956 \nQ 1341 3275 1631 3429 \nQ 1922 3584 2338 3584 \nQ 2397 3584 2469 3576 \nQ 2541 3569 2628 3553 \nL 2631 2963 \nz\n\" transform=\"scale(0.015625)\"/>\n       <path id=\"DejaVuSans-61\" d=\"M 2194 1759 \nQ 1497 1759 1228 1600 \nQ 959 1441 959 1056 \nQ 959 750 1161 570 \nQ 1363 391 1709 391 \nQ 2188 391 2477 730 \nQ 2766 1069 2766 1631 \nL 2766 1759 \nL 2194 1759 \nz\nM 3341 1997 \nL 3341 0 \nL 2766 0 \nL 2766 531 \nQ 2569 213 2275 61 \nQ 1981 -91 1556 -91 \nQ 1019 -91 701 211 \nQ 384 513 384 1019 \nQ 384 1609 779 1909 \nQ 1175 2209 1959 2209 \nL 2766 2209 \nL 2766 2266 \nQ 2766 2663 2505 2880 \nQ 2244 3097 1772 3097 \nQ 1472 3097 1187 3025 \nQ 903 2953 641 2809 \nL 641 3341 \nQ 956 3463 1253 3523 \nQ 1550 3584 1831 3584 \nQ 2591 3584 2966 3190 \nQ 3341 2797 3341 1997 \nz\n\" transform=\"scale(0.015625)\"/>\n       <path id=\"DejaVuSans-69\" d=\"M 603 3500 \nL 1178 3500 \nL 1178 0 \nL 603 0 \nL 603 3500 \nz\nM 603 4863 \nL 1178 4863 \nL 1178 4134 \nL 603 4134 \nL 603 4863 \nz\n\" transform=\"scale(0.015625)\"/>\n       <path id=\"DejaVuSans-6e\" d=\"M 3513 2113 \nL 3513 0 \nL 2938 0 \nL 2938 2094 \nQ 2938 2591 2744 2837 \nQ 2550 3084 2163 3084 \nQ 1697 3084 1428 2787 \nQ 1159 2491 1159 1978 \nL 1159 0 \nL 581 0 \nL 581 3500 \nL 1159 3500 \nL 1159 2956 \nQ 1366 3272 1645 3428 \nQ 1925 3584 2291 3584 \nQ 2894 3584 3203 3211 \nQ 3513 2838 3513 2113 \nz\n\" transform=\"scale(0.015625)\"/>\n       <path id=\"DejaVuSans-20\" transform=\"scale(0.015625)\"/>\n       <path id=\"DejaVuSans-6c\" d=\"M 603 4863 \nL 1178 4863 \nL 1178 0 \nL 603 0 \nL 603 4863 \nz\n\" transform=\"scale(0.015625)\"/>\n       <path id=\"DejaVuSans-73\" d=\"M 2834 3397 \nL 2834 2853 \nQ 2591 2978 2328 3040 \nQ 2066 3103 1784 3103 \nQ 1356 3103 1142 2972 \nQ 928 2841 928 2578 \nQ 928 2378 1081 2264 \nQ 1234 2150 1697 2047 \nL 1894 2003 \nQ 2506 1872 2764 1633 \nQ 3022 1394 3022 966 \nQ 3022 478 2636 193 \nQ 2250 -91 1575 -91 \nQ 1294 -91 989 -36 \nQ 684 19 347 128 \nL 347 722 \nQ 666 556 975 473 \nQ 1284 391 1588 391 \nQ 1994 391 2212 530 \nQ 2431 669 2431 922 \nQ 2431 1156 2273 1281 \nQ 2116 1406 1581 1522 \nL 1381 1569 \nQ 847 1681 609 1914 \nQ 372 2147 372 2553 \nQ 372 3047 722 3315 \nQ 1072 3584 1716 3584 \nQ 2034 3584 2315 3537 \nQ 2597 3491 2834 3397 \nz\n\" transform=\"scale(0.015625)\"/>\n      </defs>\n      <use xlink:href=\"#DejaVuSans-74\"/>\n      <use xlink:href=\"#DejaVuSans-72\" x=\"39.208984\"/>\n      <use xlink:href=\"#DejaVuSans-61\" x=\"80.322266\"/>\n      <use xlink:href=\"#DejaVuSans-69\" x=\"141.601562\"/>\n      <use xlink:href=\"#DejaVuSans-6e\" x=\"169.384766\"/>\n      <use xlink:href=\"#DejaVuSans-20\" x=\"232.763672\"/>\n      <use xlink:href=\"#DejaVuSans-6c\" x=\"264.550781\"/>\n      <use xlink:href=\"#DejaVuSans-6f\" x=\"292.333984\"/>\n      <use xlink:href=\"#DejaVuSans-73\" x=\"353.515625\"/>\n      <use xlink:href=\"#DejaVuSans-73\" x=\"405.615234\"/>\n     </g>\n    </g>\n    <g id=\"line2d_21\">\n     <path d=\"M 142.634375 74.409375 \nL 152.634375 74.409375 \nL 162.634375 74.409375 \n\" style=\"fill: none; stroke-dasharray: 5.55,2.4; stroke-dashoffset: 0; stroke: #bf00bf; stroke-width: 1.5\"/>\n    </g>\n    <g id=\"text_11\">\n     <!-- train acc -->\n     <g transform=\"translate(170.634375 77.909375)scale(0.1 -0.1)\">\n      <use xlink:href=\"#DejaVuSans-74\"/>\n      <use xlink:href=\"#DejaVuSans-72\" x=\"39.208984\"/>\n      <use xlink:href=\"#DejaVuSans-61\" x=\"80.322266\"/>\n      <use xlink:href=\"#DejaVuSans-69\" x=\"141.601562\"/>\n      <use xlink:href=\"#DejaVuSans-6e\" x=\"169.384766\"/>\n      <use xlink:href=\"#DejaVuSans-20\" x=\"232.763672\"/>\n      <use xlink:href=\"#DejaVuSans-61\" x=\"264.550781\"/>\n      <use xlink:href=\"#DejaVuSans-63\" x=\"325.830078\"/>\n      <use xlink:href=\"#DejaVuSans-63\" x=\"380.810547\"/>\n     </g>\n    </g>\n    <g id=\"line2d_22\">\n     <path d=\"M 142.634375 89.0875 \nL 152.634375 89.0875 \nL 162.634375 89.0875 \n\" style=\"fill: none; stroke-dasharray: 9.6,2.4,1.5,2.4; stroke-dashoffset: 0; stroke: #008000; stroke-width: 1.5\"/>\n    </g>\n    <g id=\"text_12\">\n     <!-- test acc -->\n     <g transform=\"translate(170.634375 92.5875)scale(0.1 -0.1)\">\n      <use xlink:href=\"#DejaVuSans-74\"/>\n      <use xlink:href=\"#DejaVuSans-65\" x=\"39.208984\"/>\n      <use xlink:href=\"#DejaVuSans-73\" x=\"100.732422\"/>\n      <use xlink:href=\"#DejaVuSans-74\" x=\"152.832031\"/>\n      <use xlink:href=\"#DejaVuSans-20\" x=\"192.041016\"/>\n      <use xlink:href=\"#DejaVuSans-61\" x=\"223.828125\"/>\n      <use xlink:href=\"#DejaVuSans-63\" x=\"285.107422\"/>\n      <use xlink:href=\"#DejaVuSans-63\" x=\"340.087891\"/>\n     </g>\n    </g>\n   </g>\n  </g>\n </g>\n <defs>\n  <clipPath id=\"p8a5f35e2e8\">\n   <rect x=\"30.103125\" y=\"7.2\" width=\"195.3\" height=\"135.9\"/>\n  </clipPath>\n </defs>\n</svg>\n"
          },
          "metadata": {
            "needs_background": "light"
          }
        }
      ]
    }
  ]
}