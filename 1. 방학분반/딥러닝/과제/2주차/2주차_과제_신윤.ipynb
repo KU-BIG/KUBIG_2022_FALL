{
  "nbformat": 4,
  "nbformat_minor": 0,
  "metadata": {
    "colab": {
      "name": "2주차 과제.ipynb",
      "provenance": [],
      "collapsed_sections": []
    },
    "kernelspec": {
      "name": "python3",
      "display_name": "Python 3"
    },
    "language_info": {
      "name": "python"
    }
  },
  "cells": [
    {
      "cell_type": "code",
      "source": [
        "!pip install d2l"
      ],
      "metadata": {
        "colab": {
          "base_uri": "https://localhost:8080/"
        },
        "id": "NdXiDuMxw0ZO",
        "outputId": "a8579de2-7a48-4bf0-da18-f0a17625a3e6"
      },
      "execution_count": 1,
      "outputs": [
        {
          "output_type": "stream",
          "name": "stdout",
          "text": [
            "Looking in indexes: https://pypi.org/simple, https://us-python.pkg.dev/colab-wheels/public/simple/\n",
            "Requirement already satisfied: d2l in /usr/local/lib/python3.7/dist-packages (0.17.5)\n",
            "Requirement already satisfied: matplotlib==3.5.1 in /usr/local/lib/python3.7/dist-packages (from d2l) (3.5.1)\n",
            "Requirement already satisfied: jupyter==1.0.0 in /usr/local/lib/python3.7/dist-packages (from d2l) (1.0.0)\n",
            "Requirement already satisfied: numpy==1.21.5 in /usr/local/lib/python3.7/dist-packages (from d2l) (1.21.5)\n",
            "Requirement already satisfied: pandas==1.2.4 in /usr/local/lib/python3.7/dist-packages (from d2l) (1.2.4)\n",
            "Requirement already satisfied: requests==2.25.1 in /usr/local/lib/python3.7/dist-packages (from d2l) (2.25.1)\n",
            "Requirement already satisfied: notebook in /usr/local/lib/python3.7/dist-packages (from jupyter==1.0.0->d2l) (5.3.1)\n",
            "Requirement already satisfied: nbconvert in /usr/local/lib/python3.7/dist-packages (from jupyter==1.0.0->d2l) (5.6.1)\n",
            "Requirement already satisfied: ipykernel in /usr/local/lib/python3.7/dist-packages (from jupyter==1.0.0->d2l) (4.10.1)\n",
            "Requirement already satisfied: jupyter-console in /usr/local/lib/python3.7/dist-packages (from jupyter==1.0.0->d2l) (5.2.0)\n",
            "Requirement already satisfied: qtconsole in /usr/local/lib/python3.7/dist-packages (from jupyter==1.0.0->d2l) (5.3.1)\n",
            "Requirement already satisfied: ipywidgets in /usr/local/lib/python3.7/dist-packages (from jupyter==1.0.0->d2l) (7.7.1)\n",
            "Requirement already satisfied: fonttools>=4.22.0 in /usr/local/lib/python3.7/dist-packages (from matplotlib==3.5.1->d2l) (4.34.4)\n",
            "Requirement already satisfied: kiwisolver>=1.0.1 in /usr/local/lib/python3.7/dist-packages (from matplotlib==3.5.1->d2l) (1.4.3)\n",
            "Requirement already satisfied: python-dateutil>=2.7 in /usr/local/lib/python3.7/dist-packages (from matplotlib==3.5.1->d2l) (2.8.2)\n",
            "Requirement already satisfied: cycler>=0.10 in /usr/local/lib/python3.7/dist-packages (from matplotlib==3.5.1->d2l) (0.11.0)\n",
            "Requirement already satisfied: pillow>=6.2.0 in /usr/local/lib/python3.7/dist-packages (from matplotlib==3.5.1->d2l) (7.1.2)\n",
            "Requirement already satisfied: pyparsing>=2.2.1 in /usr/local/lib/python3.7/dist-packages (from matplotlib==3.5.1->d2l) (3.0.9)\n",
            "Requirement already satisfied: packaging>=20.0 in /usr/local/lib/python3.7/dist-packages (from matplotlib==3.5.1->d2l) (21.3)\n",
            "Requirement already satisfied: pytz>=2017.3 in /usr/local/lib/python3.7/dist-packages (from pandas==1.2.4->d2l) (2022.1)\n",
            "Requirement already satisfied: chardet<5,>=3.0.2 in /usr/local/lib/python3.7/dist-packages (from requests==2.25.1->d2l) (3.0.4)\n",
            "Requirement already satisfied: urllib3<1.27,>=1.21.1 in /usr/local/lib/python3.7/dist-packages (from requests==2.25.1->d2l) (1.24.3)\n",
            "Requirement already satisfied: idna<3,>=2.5 in /usr/local/lib/python3.7/dist-packages (from requests==2.25.1->d2l) (2.10)\n",
            "Requirement already satisfied: certifi>=2017.4.17 in /usr/local/lib/python3.7/dist-packages (from requests==2.25.1->d2l) (2022.6.15)\n",
            "Requirement already satisfied: typing-extensions in /usr/local/lib/python3.7/dist-packages (from kiwisolver>=1.0.1->matplotlib==3.5.1->d2l) (4.1.1)\n",
            "Requirement already satisfied: six>=1.5 in /usr/local/lib/python3.7/dist-packages (from python-dateutil>=2.7->matplotlib==3.5.1->d2l) (1.15.0)\n",
            "Requirement already satisfied: tornado>=4.0 in /usr/local/lib/python3.7/dist-packages (from ipykernel->jupyter==1.0.0->d2l) (5.1.1)\n",
            "Requirement already satisfied: jupyter-client in /usr/local/lib/python3.7/dist-packages (from ipykernel->jupyter==1.0.0->d2l) (5.3.5)\n",
            "Requirement already satisfied: ipython>=4.0.0 in /usr/local/lib/python3.7/dist-packages (from ipykernel->jupyter==1.0.0->d2l) (5.5.0)\n",
            "Requirement already satisfied: traitlets>=4.1.0 in /usr/local/lib/python3.7/dist-packages (from ipykernel->jupyter==1.0.0->d2l) (5.1.1)\n",
            "Requirement already satisfied: pygments in /usr/local/lib/python3.7/dist-packages (from ipython>=4.0.0->ipykernel->jupyter==1.0.0->d2l) (2.6.1)\n",
            "Requirement already satisfied: pexpect in /usr/local/lib/python3.7/dist-packages (from ipython>=4.0.0->ipykernel->jupyter==1.0.0->d2l) (4.8.0)\n",
            "Requirement already satisfied: setuptools>=18.5 in /usr/local/lib/python3.7/dist-packages (from ipython>=4.0.0->ipykernel->jupyter==1.0.0->d2l) (57.4.0)\n",
            "Requirement already satisfied: simplegeneric>0.8 in /usr/local/lib/python3.7/dist-packages (from ipython>=4.0.0->ipykernel->jupyter==1.0.0->d2l) (0.8.1)\n",
            "Requirement already satisfied: pickleshare in /usr/local/lib/python3.7/dist-packages (from ipython>=4.0.0->ipykernel->jupyter==1.0.0->d2l) (0.7.5)\n",
            "Requirement already satisfied: decorator in /usr/local/lib/python3.7/dist-packages (from ipython>=4.0.0->ipykernel->jupyter==1.0.0->d2l) (4.4.2)\n",
            "Requirement already satisfied: prompt-toolkit<2.0.0,>=1.0.4 in /usr/local/lib/python3.7/dist-packages (from ipython>=4.0.0->ipykernel->jupyter==1.0.0->d2l) (1.0.18)\n",
            "Requirement already satisfied: wcwidth in /usr/local/lib/python3.7/dist-packages (from prompt-toolkit<2.0.0,>=1.0.4->ipython>=4.0.0->ipykernel->jupyter==1.0.0->d2l) (0.2.5)\n",
            "Requirement already satisfied: jupyterlab-widgets>=1.0.0 in /usr/local/lib/python3.7/dist-packages (from ipywidgets->jupyter==1.0.0->d2l) (1.1.1)\n",
            "Requirement already satisfied: ipython-genutils~=0.2.0 in /usr/local/lib/python3.7/dist-packages (from ipywidgets->jupyter==1.0.0->d2l) (0.2.0)\n",
            "Requirement already satisfied: widgetsnbextension~=3.6.0 in /usr/local/lib/python3.7/dist-packages (from ipywidgets->jupyter==1.0.0->d2l) (3.6.1)\n",
            "Requirement already satisfied: Send2Trash in /usr/local/lib/python3.7/dist-packages (from notebook->jupyter==1.0.0->d2l) (1.8.0)\n",
            "Requirement already satisfied: jupyter-core>=4.4.0 in /usr/local/lib/python3.7/dist-packages (from notebook->jupyter==1.0.0->d2l) (4.11.1)\n",
            "Requirement already satisfied: nbformat in /usr/local/lib/python3.7/dist-packages (from notebook->jupyter==1.0.0->d2l) (5.4.0)\n",
            "Requirement already satisfied: jinja2 in /usr/local/lib/python3.7/dist-packages (from notebook->jupyter==1.0.0->d2l) (2.11.3)\n",
            "Requirement already satisfied: terminado>=0.8.1 in /usr/local/lib/python3.7/dist-packages (from notebook->jupyter==1.0.0->d2l) (0.13.3)\n",
            "Requirement already satisfied: pyzmq>=13 in /usr/local/lib/python3.7/dist-packages (from jupyter-client->ipykernel->jupyter==1.0.0->d2l) (23.2.0)\n",
            "Requirement already satisfied: ptyprocess in /usr/local/lib/python3.7/dist-packages (from terminado>=0.8.1->notebook->jupyter==1.0.0->d2l) (0.7.0)\n",
            "Requirement already satisfied: MarkupSafe>=0.23 in /usr/local/lib/python3.7/dist-packages (from jinja2->notebook->jupyter==1.0.0->d2l) (2.0.1)\n",
            "Requirement already satisfied: mistune<2,>=0.8.1 in /usr/local/lib/python3.7/dist-packages (from nbconvert->jupyter==1.0.0->d2l) (0.8.4)\n",
            "Requirement already satisfied: testpath in /usr/local/lib/python3.7/dist-packages (from nbconvert->jupyter==1.0.0->d2l) (0.6.0)\n",
            "Requirement already satisfied: pandocfilters>=1.4.1 in /usr/local/lib/python3.7/dist-packages (from nbconvert->jupyter==1.0.0->d2l) (1.5.0)\n",
            "Requirement already satisfied: entrypoints>=0.2.2 in /usr/local/lib/python3.7/dist-packages (from nbconvert->jupyter==1.0.0->d2l) (0.4)\n",
            "Requirement already satisfied: defusedxml in /usr/local/lib/python3.7/dist-packages (from nbconvert->jupyter==1.0.0->d2l) (0.7.1)\n",
            "Requirement already satisfied: bleach in /usr/local/lib/python3.7/dist-packages (from nbconvert->jupyter==1.0.0->d2l) (5.0.1)\n",
            "Requirement already satisfied: fastjsonschema in /usr/local/lib/python3.7/dist-packages (from nbformat->notebook->jupyter==1.0.0->d2l) (2.15.3)\n",
            "Requirement already satisfied: jsonschema>=2.6 in /usr/local/lib/python3.7/dist-packages (from nbformat->notebook->jupyter==1.0.0->d2l) (4.3.3)\n",
            "Requirement already satisfied: importlib-resources>=1.4.0 in /usr/local/lib/python3.7/dist-packages (from jsonschema>=2.6->nbformat->notebook->jupyter==1.0.0->d2l) (5.8.0)\n",
            "Requirement already satisfied: pyrsistent!=0.17.0,!=0.17.1,!=0.17.2,>=0.14.0 in /usr/local/lib/python3.7/dist-packages (from jsonschema>=2.6->nbformat->notebook->jupyter==1.0.0->d2l) (0.18.1)\n",
            "Requirement already satisfied: attrs>=17.4.0 in /usr/local/lib/python3.7/dist-packages (from jsonschema>=2.6->nbformat->notebook->jupyter==1.0.0->d2l) (21.4.0)\n",
            "Requirement already satisfied: importlib-metadata in /usr/local/lib/python3.7/dist-packages (from jsonschema>=2.6->nbformat->notebook->jupyter==1.0.0->d2l) (4.12.0)\n",
            "Requirement already satisfied: zipp>=3.1.0 in /usr/local/lib/python3.7/dist-packages (from importlib-resources>=1.4.0->jsonschema>=2.6->nbformat->notebook->jupyter==1.0.0->d2l) (3.8.0)\n",
            "Requirement already satisfied: webencodings in /usr/local/lib/python3.7/dist-packages (from bleach->nbconvert->jupyter==1.0.0->d2l) (0.5.1)\n",
            "Requirement already satisfied: qtpy>=2.0.1 in /usr/local/lib/python3.7/dist-packages (from qtconsole->jupyter==1.0.0->d2l) (2.1.0)\n"
          ]
        }
      ]
    },
    {
      "cell_type": "code",
      "execution_count": 2,
      "metadata": {
        "id": "RovuBJZIwvGg"
      },
      "outputs": [],
      "source": [
        "%matplotlib inline\n",
        "import torch\n",
        "import torchvision\n",
        "from torch.utils import data\n",
        "from torchvision import transforms\n",
        "from d2l import torch as d2l\n",
        "d2l.use_svg_display()"
      ]
    },
    {
      "cell_type": "markdown",
      "source": [
        "# reading the Dataset"
      ],
      "metadata": {
        "id": "DmiX2ZppyAZA"
      }
    },
    {
      "cell_type": "code",
      "source": [
        "trans = transforms.ToTensor()\n",
        "USPS_train = torchvision.datasets.USPS(\n",
        "  root=\"../data\", train=True, transform=trans, download=True)\n",
        "USPS_test = torchvision.datasets.USPS(\n",
        "  root=\"../data\", train=False, transform=trans, download=True)"
      ],
      "metadata": {
        "id": "ya-NMy9S1tRl"
      },
      "execution_count": 6,
      "outputs": []
    },
    {
      "cell_type": "code",
      "source": [
        "len(USPS_train), len(USPS_test)"
      ],
      "metadata": {
        "colab": {
          "base_uri": "https://localhost:8080/"
        },
        "id": "Q7R_TgYE1JrP",
        "outputId": "5c6bb65a-2bc9-4df4-ad1d-83447dbe21f3"
      },
      "execution_count": 7,
      "outputs": [
        {
          "output_type": "execute_result",
          "data": {
            "text/plain": [
              "(7291, 2007)"
            ]
          },
          "metadata": {},
          "execution_count": 7
        }
      ]
    },
    {
      "cell_type": "code",
      "source": [
        "USPS_train[0][0].shape"
      ],
      "metadata": {
        "colab": {
          "base_uri": "https://localhost:8080/"
        },
        "id": "WLN6uClP3oG1",
        "outputId": "4d85338a-bed2-4c1b-87d2-bf3bef8a9725"
      },
      "execution_count": 8,
      "outputs": [
        {
          "output_type": "execute_result",
          "data": {
            "text/plain": [
              "torch.Size([1, 16, 16])"
            ]
          },
          "metadata": {},
          "execution_count": 8
        }
      ]
    },
    {
      "cell_type": "code",
      "source": [
        "def get_USPS_labels(labels):\n",
        "  text_labels = ['0', '1', '2', '3', '4',\n",
        "  '5', '6', '7', '8', '9']\n",
        "  return [text_labels[int(i)] for i in labels]"
      ],
      "metadata": {
        "id": "AdT_1mpR323A"
      },
      "execution_count": 18,
      "outputs": []
    },
    {
      "cell_type": "code",
      "source": [
        "def show_images(imgs, num_rows, num_cols, titles=None, scale=1.5):\n",
        "  figsize = (num_cols * scale, num_rows * scale)\n",
        "  _, axes = d2l.plt.subplots(num_rows, num_cols, figsize=figsize)\n",
        "  axes = axes.flatten()\n",
        "  for i, (ax, img) in enumerate(zip(axes, imgs)):\n",
        "    if torch.is_tensor(img):\n",
        "      # Tensor Image\n",
        "      ax.imshow(img.numpy())\n",
        "    else:\n",
        "      # PIL Image\n",
        "      ax.imshow(img)\n",
        "    ax.axes.get_xaxis().set_visible(False)\n",
        "    ax.axes.get_yaxis().set_visible(False)\n",
        "    if titles:\n",
        "      ax.set_title(titles[i])\n",
        "  return axes"
      ],
      "metadata": {
        "id": "FuWdJPBS6B7T"
      },
      "execution_count": 19,
      "outputs": []
    },
    {
      "cell_type": "code",
      "source": [
        "X, y = next(iter(data.DataLoader(USPS_train, batch_size=18)))"
      ],
      "metadata": {
        "id": "rN7Sns8g8CQi"
      },
      "execution_count": 20,
      "outputs": []
    },
    {
      "cell_type": "code",
      "source": [
        "X.shape"
      ],
      "metadata": {
        "colab": {
          "base_uri": "https://localhost:8080/"
        },
        "id": "HPIiwzbeCgrO",
        "outputId": "a8800166-c96f-4635-d2b0-ceb1f81bb6ba"
      },
      "execution_count": 21,
      "outputs": [
        {
          "output_type": "execute_result",
          "data": {
            "text/plain": [
              "torch.Size([18, 1, 16, 16])"
            ]
          },
          "metadata": {},
          "execution_count": 21
        }
      ]
    },
    {
      "cell_type": "code",
      "source": [
        "show_images(X.reshape(18, 16, 16), 2, 9, titles=get_USPS_labels(y));"
      ],
      "metadata": {
        "colab": {
          "base_uri": "https://localhost:8080/",
          "height": 277
        },
        "id": "7rLJzvXG_qmV",
        "outputId": "3ca74194-c043-47c0-c325-ae97bc7accbd"
      },
      "execution_count": 22,
      "outputs": [
        {
          "output_type": "display_data",
          "data": {
            "text/plain": [
              "<Figure size 972x216 with 18 Axes>"
            ],
            "image/svg+xml": "<?xml version=\"1.0\" encoding=\"utf-8\" standalone=\"no\"?>\n<!DOCTYPE svg PUBLIC \"-//W3C//DTD SVG 1.1//EN\"\n  \"http://www.w3.org/Graphics/SVG/1.1/DTD/svg11.dtd\">\n<svg xmlns:xlink=\"http://www.w3.org/1999/xlink\" width=\"771.2pt\" height=\"193.03689pt\" viewBox=\"0 0 771.2 193.03689\" xmlns=\"http://www.w3.org/2000/svg\" version=\"1.1\">\n <metadata>\n  <rdf:RDF xmlns:dc=\"http://purl.org/dc/elements/1.1/\" xmlns:cc=\"http://creativecommons.org/ns#\" xmlns:rdf=\"http://www.w3.org/1999/02/22-rdf-syntax-ns#\">\n   <cc:Work>\n    <dc:type rdf:resource=\"http://purl.org/dc/dcmitype/StillImage\"/>\n    <dc:date>2022-07-19T11:55:54.147622</dc:date>\n    <dc:format>image/svg+xml</dc:format>\n    <dc:creator>\n     <cc:Agent>\n      <dc:title>Matplotlib v3.5.1, https://matplotlib.org/</dc:title>\n     </cc:Agent>\n    </dc:creator>\n   </cc:Work>\n  </rdf:RDF>\n </metadata>\n <defs>\n  <style type=\"text/css\">*{stroke-linejoin: round; stroke-linecap: butt}</style>\n </defs>\n <g id=\"figure_1\">\n  <g id=\"patch_1\">\n   <path d=\"M 0 193.03689 \nL 771.2 193.03689 \nL 771.2 -0 \nL 0 -0 \nL 0 193.03689 \nz\n\" style=\"fill: none\"/>\n  </g>\n  <g id=\"axes_1\">\n   <g id=\"patch_2\">\n    <path d=\"M 10.7 93.384163 \nL 81.766038 93.384163 \nL 81.766038 22.318125 \nL 10.7 22.318125 \nz\n\" style=\"fill: #ffffff\"/>\n   </g>\n   <g clip-path=\"url(#p295ed3e796)\">\n    <image xlink:href=\"data:image/png;base64,\niVBORw0KGgoAAAANSUhEUgAAAEgAAABICAYAAABV7bNHAAAEtElEQVR4nO2c3U9bdRzGz2kP5a1QhNI3usIoKw6GIps4UWd0Tsk2L5Z4sf9A441/gvHSW6+9MiYu2WJcnDcaXzIVNN0MhE023qEwNlrYVmmhHe3x+jnPMV9D8Mrv5+755UlLn/7y5ft7OTXfMN+xDQGztha0NxomT6EPx3IDNeQp9u+CTsUfkKfZh57JtQ7y+NJ+0NHxInms24ugK4/z5DFs8aMbHtHxP0cDEtCABDQgAcs54CzIhmEYnp4u0Jm32sjTeAYL7ruJG+QZaZgF3W3tkafGxO9sIU4W41JqGPQXyZPk6bqaAl3/2wx5Ko8e84s70BkkoAEJaEACluHxwoA3FiFTZhRrztMX7pLno/jXoI/6GlzezgcqV3lCjq0K1qWI1yTP+21joEOnuAn8pDwKOrWZII85gZ/DflImj84gAQ1IQAMS0IAELI8PV93F3hCZ6l7Pgv4wfo08Eaz1xkalQJ6yY/V85a9j5Ply9TnQDTVcOPsD66BHmubIM3wCG8O5qV7yhJYCoCvZLHl0BgloQAIakIBl1uHitBCm9avxWgwXmQFPhTyf5/tBjz/qJs+JwDLoqW3eLcyORUG3TlfJ8324E/TNt7kJfDMyDTp9LEWe0HgrDmxukUdnkIAGJKABCWhAAlyRefFseA0slKt79eT5dHYEdPXXp8gznjwC+nj/AnlKSTz2Ka/wDqd/Hf9JLK8EyROI41FQeypHnt0oNoq+GS95dAYJaEACGpCAZe+WYKA+x03gn3ls3k433yZPpYpZt03ziUXrHdQ3zcPkOd6HR8arwRbyrN3DsWCEdxSTvg3QQ+2r5JkIYu2qrXM50aERBdCABDQgAQ1IwKqW8eilfp13Aifv4mo5G2kmzwsxXKlPRgfIE/oFm7XENW4m/yglQQ8OcjN5fvgW6GfqV8gTs/BYOVdqJI9nz3E/qMo7BzqDBDQgAQ1IwDKq2Bh6lu+TqX0Md+Mu9Q6T52xoCvRPp46QpynTAto/cY88PTk85p6f59e59SI2ric7+SQmt4v3GOd+7yRP9zw2mHapRB6dQQIakIAGJKABCZjOi+SmxZuMnhQe4Sxc5DuKo+fSoBs8fGR8+duXQCevbPN7zWLTZ/r95CkfxqJcjPjI4y1jE9i46HKRfD4DslrgJllnkIAGJKABCVDBsfd4J9Bewt24Q9/xwu9qcAj0e6/8SJ6XX8VFZvohL2gT+XbQlaUMebwP8JpKs48fnHE+qGKXuSa6fVYnOoMENCABDUhAAxLgrtCFahGPcWumeJfvUBveAfwszCv+D/qwcK+eaSHPxiY+vRLOczO5dx8fnHG7AH5Q6AwS0IAENCCBf1WDnLg9Qdx0Yw10Icz3Br9qHQR9MZYmz8en8aSjZS5GHmvrIWi3ncCDQmeQgAYkoAEJaEAC+yrSbj/pUHGssMPX+YnDxXAX6JkLfOwz2oMXwK8PPE+ejjtYyJ2N4z/9jftBZ5CABiSgAQnsrwa54Fww2str5On4uQn05Z4h8pw9ivcftxN8JcVuwdcx3GrQAaEzSEADEtCABDQggQMr0k6qOzs0VjuNhTv4Az+V+E3hWdCBFf4OzZ3/bvXuRGeQgAYkoAEJ/A0zwjoCunQ7jgAAAABJRU5ErkJggg==\" id=\"imagee306c3d355\" transform=\"scale(1 -1)translate(0 -72)\" x=\"10.7\" y=\"-21.384163\" width=\"72\" height=\"72\"/>\n   </g>\n   <g id=\"patch_3\">\n    <path d=\"M 10.7 93.384163 \nL 10.7 22.318125 \n\" style=\"fill: none; stroke: #000000; stroke-width: 0.8; stroke-linejoin: miter; stroke-linecap: square\"/>\n   </g>\n   <g id=\"patch_4\">\n    <path d=\"M 81.766038 93.384163 \nL 81.766038 22.318125 \n\" style=\"fill: none; stroke: #000000; stroke-width: 0.8; stroke-linejoin: miter; stroke-linecap: square\"/>\n   </g>\n   <g id=\"patch_5\">\n    <path d=\"M 10.7 93.384163 \nL 81.766038 93.384163 \n\" style=\"fill: none; stroke: #000000; stroke-width: 0.8; stroke-linejoin: miter; stroke-linecap: square\"/>\n   </g>\n   <g id=\"patch_6\">\n    <path d=\"M 10.7 22.318125 \nL 81.766038 22.318125 \n\" style=\"fill: none; stroke: #000000; stroke-width: 0.8; stroke-linejoin: miter; stroke-linecap: square\"/>\n   </g>\n   <g id=\"text_1\">\n    <!-- 6 -->\n    <g transform=\"translate(42.415519 16.318125)scale(0.12 -0.12)\">\n     <defs>\n      <path id=\"DejaVuSans-36\" d=\"M 2113 2584 \nQ 1688 2584 1439 2293 \nQ 1191 2003 1191 1497 \nQ 1191 994 1439 701 \nQ 1688 409 2113 409 \nQ 2538 409 2786 701 \nQ 3034 994 3034 1497 \nQ 3034 2003 2786 2293 \nQ 2538 2584 2113 2584 \nz\nM 3366 4563 \nL 3366 3988 \nQ 3128 4100 2886 4159 \nQ 2644 4219 2406 4219 \nQ 1781 4219 1451 3797 \nQ 1122 3375 1075 2522 \nQ 1259 2794 1537 2939 \nQ 1816 3084 2150 3084 \nQ 2853 3084 3261 2657 \nQ 3669 2231 3669 1497 \nQ 3669 778 3244 343 \nQ 2819 -91 2113 -91 \nQ 1303 -91 875 529 \nQ 447 1150 447 2328 \nQ 447 3434 972 4092 \nQ 1497 4750 2381 4750 \nQ 2619 4750 2861 4703 \nQ 3103 4656 3366 4563 \nz\n\" transform=\"scale(0.015625)\"/>\n     </defs>\n     <use xlink:href=\"#DejaVuSans-36\"/>\n    </g>\n   </g>\n  </g>\n  <g id=\"axes_2\">\n   <g id=\"patch_7\">\n    <path d=\"M 95.979245 93.384163 \nL 167.045283 93.384163 \nL 167.045283 22.318125 \nL 95.979245 22.318125 \nz\n\" style=\"fill: #ffffff\"/>\n   </g>\n   <g clip-path=\"url(#pbaf98b3dd4)\">\n    <image xlink:href=\"data:image/png;base64,\niVBORw0KGgoAAAANSUhEUgAAAEgAAABICAYAAABV7bNHAAAE/UlEQVR4nO1cS28bVRidGY+f8SNOI6eEkBeu0yggQiBFUBGQWqkgwQJUseLnsEAsYAFrxA6pAsqi4iUiUZCIkBKIlJZCIJCQpLbzdOPYcTz2DNuee0b68gO+szuj48n4zJ2T+93vju2r9vXAegi261omnHQPcLsvT5pOIQv85HyCNK3eCPB21iZNfdwH3lc8IE3EQU213EuaWCUKPP0fSazcWht4YmWTNA5/TPEw1CABapAANUiAG8lj4AYjj5DocBIDuDbBvraLJ8AnhzjwZjNV4IVYnTRj8R3gF2NV0kQtI6Qn0qTZ7uD3Wm4Mk+bmvWnggzdGSaMjSIAaJEANEmC/dO1dmChuvMITxdnnVoG/mP+LNBkHM6jpx0njBXjuepcnk5U25t2pz9eTjpwCv5DknHoygRk47jZJ821zHPg7t94kjY4gAWqQADVIgBokwL1/OQYH3r5ym0Rv5RaBL58OkebjzcvA/707SJrELt6PeI0vKFXt4gW2AtJ4PXier4t8nxOX9oF/+MSnpJmOY5C7ww3S6AgSoAYJUIMEuO3RFhyYS/9Bopox6TPzxrIsqzKPuVS8zc9ztFwDHjRPSBPUj5F7HdKkEng92YkR0vyT7gO+ViqQJhvB796upEijI0iAGiRADRKgBglwnV2cKH5+MEuiUqoC3OtGSGMU2Fa08oA0nY0tPOB3SXMW2FGs8DuZGGm6QxjAZiBblmV9sTcDvH+Jx4uOIAFqkAA1SIA79iU+mwvrMyT6fhALxsQet4wLv+F5gkPOICvw+ZgJG8/txHll0ipih2J7jlcmr0/9DLzi5Ujz0/JF4BN3jkijI0iAGiRADRKgBglw3UWs3gfXekkUZIz9QSEVtnVihLTDQe4kk3jA59B28vj32yVuhW/P4XmeufY7aUoJnNx+cO8KaR6dN/4hrJf5euiIAqAGCVCDBLh+C7PDr3Ab1zk0JmuPcceiMYureq08F7SxYyNzuGFhHQ3j5xqXeNXxjckF4GGt549WXwbeczNLmtzCBvBOyORWR5AANUiAGiRADRLAm29C4PSfA16+OkCa2Ou7wJ8fWCdN3cOq2wv4/jye2gM+keDJ26aHLZ33V3gSmLuF+xb7f+A9k52yEe4hK5w6ggSoQQLUIAGcQTZ7FuTweX5Q4hnee8XvgL9qZIllWdZpgEXuRocnk6setog/23mWNL/+cgH44I9c9GaW8O2VbnWXNGfpqugIEqAGCVCDBKhBAjikQ1ozdhMr/liNfW342P5NOdwO9oxQvNvmVYFPtl4Avr7E+yHP3UGe2GuTJkjiCkSk0E8av4bVu9/kzeY6ggSoQQLUIAEhGcSTwOAYn81klTVlD19g6wY7pEnbmAszcS4g7w9gh+Krp/kelkdxdXDnIEma2C4W1Il97rLk//SApxbXSaMjSIAaJEANEqAGCQip5jnM7DhO+rwMa+IOBt6Rz3sCHePcgy6f57X0CvCnxvg3JZqjGPbtgFcF6l0M7tXWedLcWMKVgtI+a3QECVCDBKhBAs7U1TALv5CXla1vqlPAV+pcZJpdjKx7Spq9Nm61qTS4ZWzbOFEtZnn1cjqD2ZWLcAvbMiLQDmmF6wgSoAYJUIMEqEECbPM3zMJg/oSON8Vv+DWGjOQOC7wuHuzGeKJovuUcPebWTGB8rDkQJU19BEWdJF9Q7m/khfkt0ugIEqAGCVCDBPwPKRNbK8qaEtkAAAAASUVORK5CYII=\" id=\"image824917859f\" transform=\"scale(1 -1)translate(0 -72)\" x=\"95.979245\" y=\"-21.384163\" width=\"72\" height=\"72\"/>\n   </g>\n   <g id=\"patch_8\">\n    <path d=\"M 95.979245 93.384163 \nL 95.979245 22.318125 \n\" style=\"fill: none; stroke: #000000; stroke-width: 0.8; stroke-linejoin: miter; stroke-linecap: square\"/>\n   </g>\n   <g id=\"patch_9\">\n    <path d=\"M 167.045283 93.384163 \nL 167.045283 22.318125 \n\" style=\"fill: none; stroke: #000000; stroke-width: 0.8; stroke-linejoin: miter; stroke-linecap: square\"/>\n   </g>\n   <g id=\"patch_10\">\n    <path d=\"M 95.979245 93.384163 \nL 167.045283 93.384163 \n\" style=\"fill: none; stroke: #000000; stroke-width: 0.8; stroke-linejoin: miter; stroke-linecap: square\"/>\n   </g>\n   <g id=\"patch_11\">\n    <path d=\"M 95.979245 22.318125 \nL 167.045283 22.318125 \n\" style=\"fill: none; stroke: #000000; stroke-width: 0.8; stroke-linejoin: miter; stroke-linecap: square\"/>\n   </g>\n   <g id=\"text_2\">\n    <!-- 5 -->\n    <g transform=\"translate(127.694764 16.318125)scale(0.12 -0.12)\">\n     <defs>\n      <path id=\"DejaVuSans-35\" d=\"M 691 4666 \nL 3169 4666 \nL 3169 4134 \nL 1269 4134 \nL 1269 2991 \nQ 1406 3038 1543 3061 \nQ 1681 3084 1819 3084 \nQ 2600 3084 3056 2656 \nQ 3513 2228 3513 1497 \nQ 3513 744 3044 326 \nQ 2575 -91 1722 -91 \nQ 1428 -91 1123 -41 \nQ 819 9 494 109 \nL 494 744 \nQ 775 591 1075 516 \nQ 1375 441 1709 441 \nQ 2250 441 2565 725 \nQ 2881 1009 2881 1497 \nQ 2881 1984 2565 2268 \nQ 2250 2553 1709 2553 \nQ 1456 2553 1204 2497 \nQ 953 2441 691 2322 \nL 691 4666 \nz\n\" transform=\"scale(0.015625)\"/>\n     </defs>\n     <use xlink:href=\"#DejaVuSans-35\"/>\n    </g>\n   </g>\n  </g>\n  <g id=\"axes_3\">\n   <g id=\"patch_12\">\n    <path d=\"M 181.258491 93.384163 \nL 252.324528 93.384163 \nL 252.324528 22.318125 \nL 181.258491 22.318125 \nz\n\" style=\"fill: #ffffff\"/>\n   </g>\n   <g clip-path=\"url(#p8ead3e8e5a)\">\n    <image xlink:href=\"data:image/png;base64,\niVBORw0KGgoAAAANSUhEUgAAAEgAAABICAYAAABV7bNHAAAEJElEQVR4nO2cS28URxSFu3pm7HnaHtuJbRzjWHIcIoRigXhICCQEQoJNoogFC34AvyebLPIXkkU2CKFIyQJQYuFAgAgsXgbLNOblmbFnmFd3sUM5dSq61iDDIvfbndbp7pkzpevbVdU2J8wZG3wsjKFD6ekp0E/OfEae9v5N0JnrRfLs/CkCHT9Y5vtb+auHouN/jgYkoAEJaEAC6Q96N6com1SKLLaQA92YTMhzfvcV0D/aw+SJfy/hgYeesWDj//qk79ARJKABCWhAAttWg0x/Px1LjY6ATkYGyFOfxmNJjmvQVOY16B3DNfJ0C3ivTMhNqeVLEzqCBDQgAQ1IQAMS6K1Ih9zgpQbwibq7e4Y80f486I1ZbtSy43XQ38zcJc/B7Aroy+WIPItj46DL+Tx54hoXdxcdQQIakIAGJMA1yDPLFxaxvpixUfLUvv4U9OpJ7sJO7f0LdCndJE8rwY+0t7BMnp1prCfnRq6S58LhedCD96bJY24sgbadNnl0BAloQAIakIAGJEBF2i3IQRAE3flZ0KtHc+TJHXoJ+vzn18nzdw2XcC5enSdPYRV/s1/m2LPr+A+gD2Uz5Dm27x/QNxf3kOeT5UHQ8YsX5NERJKABCWhAAmm3MQyHBsm0dgBrzsnvFshztvwn6O+jE+S5/fNXoOd+q5InbHVAr5zmpvThEWxKd6RW2LOBM4oxT3AGpr/POeBpkvk05d9oQAIakIAGJJCmPTKdDpmMM/Hne8JuBzjLuPDHl+T54ldcrrFLj/hew2XQYcxFummxMbxQnyPPs8uToCfv8MyBffPGOcD7hXQECWhAAhqQAD2sJrUNMhWf4uzgrcYUeapxAXTpEWdvold4rzbP4AUhnpfwcyix1BinY+W7+Jn7bj8mT1LVVY33RgMS0IAENCABKtLWUzjzUQv0pSe7yPPtzE3QXV7pDUyfU3GN5/eJsSs1XbZUYrz4anOIPP1VvE5S5T8+tuu5uIOOIAENSEADEuAaFPOWlExUAd2+MUGeO6PYrDWH+cHPFj2FScB49hG2nO6x0uJVFtN1TtzKhkQPOoIENCABDUhAAxLg/UGeWTUbPQc9tsCzfNdGcHm68IqXUNwm0Ivzgovvab5j0VNtZclT7GBRtklvL1bqCBLQgAQ0IIEt7ZNOGg3Q+UWenZtdx+YxVW+Rx669dA54mjenToW8yBKsd7DhrGxyA1rq9NYYuugIEtCABDQgAQ1IYGsvszjNY/zcs5fvdcU5hYskzRT4mtImLhFnNtmz1sK3EttN39fA+xt943B70IAENCCB3l6o89UOz4sgPV26jZ1hdp0LRdTAGjQ0VCdPYwK30QzoC3XbgwYkoAEJaEACH/bf42wBd+m79ICXjO8v4v7DeIJnDlJF57fP8axjoEX6/dGABDQggbdAHSLksSZ3KgAAAABJRU5ErkJggg==\" id=\"imagef1e6bcccb0\" transform=\"scale(1 -1)translate(0 -72)\" x=\"181.258491\" y=\"-21.384163\" width=\"72\" height=\"72\"/>\n   </g>\n   <g id=\"patch_13\">\n    <path d=\"M 181.258491 93.384163 \nL 181.258491 22.318125 \n\" style=\"fill: none; stroke: #000000; stroke-width: 0.8; stroke-linejoin: miter; stroke-linecap: square\"/>\n   </g>\n   <g id=\"patch_14\">\n    <path d=\"M 252.324528 93.384163 \nL 252.324528 22.318125 \n\" style=\"fill: none; stroke: #000000; stroke-width: 0.8; stroke-linejoin: miter; stroke-linecap: square\"/>\n   </g>\n   <g id=\"patch_15\">\n    <path d=\"M 181.258491 93.384163 \nL 252.324528 93.384163 \n\" style=\"fill: none; stroke: #000000; stroke-width: 0.8; stroke-linejoin: miter; stroke-linecap: square\"/>\n   </g>\n   <g id=\"patch_16\">\n    <path d=\"M 181.258491 22.318125 \nL 252.324528 22.318125 \n\" style=\"fill: none; stroke: #000000; stroke-width: 0.8; stroke-linejoin: miter; stroke-linecap: square\"/>\n   </g>\n   <g id=\"text_3\">\n    <!-- 4 -->\n    <g transform=\"translate(212.974009 16.318125)scale(0.12 -0.12)\">\n     <defs>\n      <path id=\"DejaVuSans-34\" d=\"M 2419 4116 \nL 825 1625 \nL 2419 1625 \nL 2419 4116 \nz\nM 2253 4666 \nL 3047 4666 \nL 3047 1625 \nL 3713 1625 \nL 3713 1100 \nL 3047 1100 \nL 3047 0 \nL 2419 0 \nL 2419 1100 \nL 313 1100 \nL 313 1709 \nL 2253 4666 \nz\n\" transform=\"scale(0.015625)\"/>\n     </defs>\n     <use xlink:href=\"#DejaVuSans-34\"/>\n    </g>\n   </g>\n  </g>\n  <g id=\"axes_4\">\n   <g id=\"patch_17\">\n    <path d=\"M 266.537736 93.384163 \nL 337.603774 93.384163 \nL 337.603774 22.318125 \nL 266.537736 22.318125 \nz\n\" style=\"fill: #ffffff\"/>\n   </g>\n   <g clip-path=\"url(#p78d0bc5103)\">\n    <image xlink:href=\"data:image/png;base64,\niVBORw0KGgoAAAANSUhEUgAAAEgAAABICAYAAABV7bNHAAAECklEQVR4nO2cy2sTYRTFM0ljS9pJUlLb2mobLfXVl9W2KlZREUV0o+hCRAQRwZUI/gHiv1BdiuBKFMTXwoVarFIVn6UV+7a1NtZqjGjfTSauT87gnZbGhdzf7gwnk+HkcnPn+yYxdhmHkq6FwDBAZhQXkeXz4VLQZQd6yNMxjK8rvWSQx/O8A3QyHnd8mXPFnbYz/ydoQAIakIAGJJCRtjN7+dST+fh9cL7kLnmumQ2gn+ZtIo/P+Hefq1aQgAYkoAEJLFwPSqbMm5NTZMmM4dAXiQfI4zbwPFYGD4qGBz/X5KzTi5w7WkECGpCABiSgAQmkbVC0fv2mY/6PCdDNv9eQp9Y3CPpOiYc8gSA2d2uEvxAWCq0gAQ1IQAMSSF8PmpqmY+bABOhb3dXk2V3XDnqsms9jPQrhgdHvNheQ4GPzQCtIQAMS0IAENCCB9K0o2jRJTyQK2vsmTJ7hmlzQO1Z3kaezvAK0vyeL33583MlVimgFCWhAAhqQQPp6kA1W9AfovPZi8lwfqQd9emkzec40VIEOtBXym/X0o05d8XSIVpCABiSgAQloQAL/tklP4525r/cHeTpf4TNE2ctmyLNpywfQg62ryJPz+Qu+98QEeZygFSSgAQloQAKOepDb50OdG2RTAm9OE9EYWZKz2E+SwyPkyX+5GPTN7RvIc7KgBfSpjbw7YrYX4IG+AfI4GR61ggQ0IAENSEADEqAm7c7i1blkRRnooa0mebzj2PAKHnIDTvR/Am3ZPEMU7MDmfvdlLXkO7n4Neu3mfvJEX4RB53wZJY+TVUetIAENSEADEqAeZGT7yPRtXQ7ovcdayfN9Gj2dsUry+CNfQdveQA7hTWZRcy5ZLlbuBH2i6Al5zm5bDnpVF69eujr7UNvsxGgFCWhAAhqQgAYkQE06OcNPZbtTDjVk82BWnouD2JEyfvYnGPCDtiYnyZMYw+Et0MbP/rQ9K8fzHnpAnj2N7/A1rTXk8Q/iUGw3OGoFCWhAAhqQAPcgm75gDuFK4JXIFvI0Lb8BeqaKh8CZMtwi9o6zxzBx4Jxe4ieP5cUb46Cbb3qPhnCYfVK6njzBlPfSHjQPNCABDUhAAxLgJp3gO9rMQdwi7n4WJs/jwhWgj1c+J8/VfTtAB1ZWkGeiEH9haNXyj2IuVN8GXb2IV0GbYriF7eEdbEdoBQloQAIakIDh5O9xUree4/X8uEnvUWxn5xrvk6fYizsWo3EeAkOesb9ql8vliiZwwLs83Eie/pYw6PA97mVGO/49jzXFA6dWkIAGJKABCWhAAo6adCpuk7eeZzfgKt/A/kXkqdvcDbrSjJDnzc9loN/2lZDH7MgEHXrPq6C+7m+grQhvhds15VS0ggQ0IAENSOAPTRQOZFy2JEoAAAAASUVORK5CYII=\" id=\"image4f75c7b6ad\" transform=\"scale(1 -1)translate(0 -72)\" x=\"266.537736\" y=\"-21.384163\" width=\"72\" height=\"72\"/>\n   </g>\n   <g id=\"patch_18\">\n    <path d=\"M 266.537736 93.384163 \nL 266.537736 22.318125 \n\" style=\"fill: none; stroke: #000000; stroke-width: 0.8; stroke-linejoin: miter; stroke-linecap: square\"/>\n   </g>\n   <g id=\"patch_19\">\n    <path d=\"M 337.603774 93.384163 \nL 337.603774 22.318125 \n\" style=\"fill: none; stroke: #000000; stroke-width: 0.8; stroke-linejoin: miter; stroke-linecap: square\"/>\n   </g>\n   <g id=\"patch_20\">\n    <path d=\"M 266.537736 93.384163 \nL 337.603774 93.384163 \n\" style=\"fill: none; stroke: #000000; stroke-width: 0.8; stroke-linejoin: miter; stroke-linecap: square\"/>\n   </g>\n   <g id=\"patch_21\">\n    <path d=\"M 266.537736 22.318125 \nL 337.603774 22.318125 \n\" style=\"fill: none; stroke: #000000; stroke-width: 0.8; stroke-linejoin: miter; stroke-linecap: square\"/>\n   </g>\n   <g id=\"text_4\">\n    <!-- 7 -->\n    <g transform=\"translate(298.253255 16.318125)scale(0.12 -0.12)\">\n     <defs>\n      <path id=\"DejaVuSans-37\" d=\"M 525 4666 \nL 3525 4666 \nL 3525 4397 \nL 1831 0 \nL 1172 0 \nL 2766 4134 \nL 525 4134 \nL 525 4666 \nz\n\" transform=\"scale(0.015625)\"/>\n     </defs>\n     <use xlink:href=\"#DejaVuSans-37\"/>\n    </g>\n   </g>\n  </g>\n  <g id=\"axes_5\">\n   <g id=\"patch_22\">\n    <path d=\"M 351.816981 93.384163 \nL 422.883019 93.384163 \nL 422.883019 22.318125 \nL 351.816981 22.318125 \nz\n\" style=\"fill: #ffffff\"/>\n   </g>\n   <g clip-path=\"url(#pedeb943d80)\">\n    <image xlink:href=\"data:image/png;base64,\niVBORw0KGgoAAAANSUhEUgAAAEgAAABICAYAAABV7bNHAAAEq0lEQVR4nO2c309bZRzGzzk9banQH1ALHXUlgjIQkulMcEGJFyPTZHNqosnijDe79Q9Y4pWXJsZroxcmXmqicYmJcxIXjTqmzJllyIQJWa2jsAEFSqH09Hjr8z4n+dYar/x+7p43TznN05dvv+973lN70nnZt/5GKB63TPz+B0BvPJIgz9qwDdrr3yVPNl0G3Z+8S56h9hLosFMnz2I1A/rHUp48GzfSeO3pBnkS0wXQ9Tsl8jg0ogAakIAGJKABCbhmUd49OkimpRMu6GfHr5HnWHIWdLuzR56aHwLdCPh8PB/HPMsmT8bdAj0W/52vNYDv+d3hCb5WBIt76iJ/segMEtCABDQgAdfquR8GihNhMr1x/FPQZ5PL5Pl8pw30m/MnyVO6hdeKrobIE11H7dR88jQiWJc2B7gJfOXp70CfG/qCPOfGT4NOXc+QR2eQgAYkoAEJaEACrl3bh4HwNjdmszu9oK+0FcjzztIp0PWPuslzaAYrsFOukMev7OCAxwXYiuAXSepIH1nO942CHhu5RR67swa6EeMvKJ1BAhqQgAYk4DZKqzBw8ALvKE5Vj4L+ZPRx8kRKuDh88PoWefybi6DrtRp5LJ8bQxM7GgXtePyaVAwXnmteB3mcIja3TrnMHvHd/M/RgAQ0IAENSMBt7GIxs28skClX6gJ94Jsu8tj7Hg4UecXvmUW5iYJs2dy4Oqkk6PWHI+Q5lf0N9NVtbiZTN42Bu+vk0RkkoAEJaEACrjng73PzVr9j1BOjuQzCifDCL5RK4bX2+M6Hb9Qpp6OdPNXHsJ5UJrbJ0+niQvjD6XHyHDKa2cYWN7c6gwQ0IAENSEADEqAi3RQNj4ZCCTwztH94gDzrg7h6jlS4UYyt4A7nXie/xeIkvu614RnyfFw4Arr3K77F5CzgzqhX57NIOoMENCABDUigtRoUsIC0cj0gl060keWF45dBJ90qeb5dfQh01OG7Gs9ncJU5tTJEnp3zWdC9P9wmT728SWMmOoMENCABDUhAAxJorUgHYdwiDjj/bXVHsCi+mviFPGdTP4Fus/kzfG/jMOg/vuTdwvxF3IHwzB0Jy2pqR1NnkIAGJKABCbRWg4L+d5dxlzF/gR94+WDvGdDvjzxJnrE8NnSvZ6fIM1fBJjCxFHBEpoQPyvgBC9Fm0BkkoAEJaEACGpBAS0XaDvOtXjuO52/CK3wLpe8zXL3Xv+YV/+zoMOi3z/BbHIrjk4E/d/PnnIoZf3tTXrkHoTNIQAMS0IAEmqtBxg5iKJclS+lYDnS1m3cdk4vY0CXnuC4kbuMt6/l7/IDJU114RKea4cbVvi9mDATsgupi9d+jAQloQAIakECTRdp4EjnNh83vjeFq+cwTl8lzbQN/4mJuhncCTV7Mz9FYyMLi6lYDCnCdb4+3gs4gAQ1IQAMSaK4G+djghdb4TGDHAp5dvjp4kDynD1wB3fbc9+TZbWCj2O7wmcm35nFnsutXrje+eVu5mTPZAegMEtCABDQgAQ1IwJ60X/rH1ct84s+yLMvpwyaw/CivwpfxwUUrN8K/GWZSKKRprOcSfrekL/FT2PXinzigRfq/QQMS0IAE/gLR1zHJ+RwdKwAAAABJRU5ErkJggg==\" id=\"image2a805fe768\" transform=\"scale(1 -1)translate(0 -72)\" x=\"351.816981\" y=\"-21.384163\" width=\"72\" height=\"72\"/>\n   </g>\n   <g id=\"patch_23\">\n    <path d=\"M 351.816981 93.384163 \nL 351.816981 22.318125 \n\" style=\"fill: none; stroke: #000000; stroke-width: 0.8; stroke-linejoin: miter; stroke-linecap: square\"/>\n   </g>\n   <g id=\"patch_24\">\n    <path d=\"M 422.883019 93.384163 \nL 422.883019 22.318125 \n\" style=\"fill: none; stroke: #000000; stroke-width: 0.8; stroke-linejoin: miter; stroke-linecap: square\"/>\n   </g>\n   <g id=\"patch_25\">\n    <path d=\"M 351.816981 93.384163 \nL 422.883019 93.384163 \n\" style=\"fill: none; stroke: #000000; stroke-width: 0.8; stroke-linejoin: miter; stroke-linecap: square\"/>\n   </g>\n   <g id=\"patch_26\">\n    <path d=\"M 351.816981 22.318125 \nL 422.883019 22.318125 \n\" style=\"fill: none; stroke: #000000; stroke-width: 0.8; stroke-linejoin: miter; stroke-linecap: square\"/>\n   </g>\n   <g id=\"text_5\">\n    <!-- 3 -->\n    <g transform=\"translate(383.5325 16.318125)scale(0.12 -0.12)\">\n     <defs>\n      <path id=\"DejaVuSans-33\" d=\"M 2597 2516 \nQ 3050 2419 3304 2112 \nQ 3559 1806 3559 1356 \nQ 3559 666 3084 287 \nQ 2609 -91 1734 -91 \nQ 1441 -91 1130 -33 \nQ 819 25 488 141 \nL 488 750 \nQ 750 597 1062 519 \nQ 1375 441 1716 441 \nQ 2309 441 2620 675 \nQ 2931 909 2931 1356 \nQ 2931 1769 2642 2001 \nQ 2353 2234 1838 2234 \nL 1294 2234 \nL 1294 2753 \nL 1863 2753 \nQ 2328 2753 2575 2939 \nQ 2822 3125 2822 3475 \nQ 2822 3834 2567 4026 \nQ 2313 4219 1838 4219 \nQ 1578 4219 1281 4162 \nQ 984 4106 628 3988 \nL 628 4550 \nQ 988 4650 1302 4700 \nQ 1616 4750 1894 4750 \nQ 2613 4750 3031 4423 \nQ 3450 4097 3450 3541 \nQ 3450 3153 3228 2886 \nQ 3006 2619 2597 2516 \nz\n\" transform=\"scale(0.015625)\"/>\n     </defs>\n     <use xlink:href=\"#DejaVuSans-33\"/>\n    </g>\n   </g>\n  </g>\n  <g id=\"axes_6\">\n   <g id=\"patch_27\">\n    <path d=\"M 437.096226 93.384163 \nL 508.162264 93.384163 \nL 508.162264 22.318125 \nL 437.096226 22.318125 \nz\n\" style=\"fill: #ffffff\"/>\n   </g>\n   <g clip-path=\"url(#p99ed8f1031)\">\n    <image xlink:href=\"data:image/png;base64,\niVBORw0KGgoAAAANSUhEUgAAAEgAAABICAYAAABV7bNHAAAET0lEQVR4nO2cSW8TWRSFqyg78RAPcUYcCIkCYRCgSIgdi6aFUK96hVj1pje9aPWC38GCf8BPQKiXjZBYBCE2IDGIOYyOkzjEqXgoJ3YNvT7vlHRLllAv+n67WzpxOScvx/e9a9u+Yl+LLAFnogJ16/IJ0tR/HUC9svCNNN3BKNTv1g6TpvQyDXXK46dnh1hPPWyQJvjwGS+EAWmScGion/ofoQYJqEECapBAiq7YNl2Kjs5Cvf4zB+dPy++hfrp5hDRhhI998nidNMdWmlCfH6uRZnUXXyRqLX7RKNQ28N6eR5ok6AoSUIME1CCBmAxiz/oTWagn513SPN/Gpi9zp0yaQu0A6p2FEmneXZ6B+vdLD0mzcvgL1H+cOEWaUqkItWbQD0INElCDBNQgAQpp+xA3in7WgbqS5cD7uDUJ9eIaa5ynb6GeepEnzUjnONQ3F34hze3Fv6HOX9omzcHjKtSp703SRIM+XTPRFSSgBgmoQQLcKMZgB7g59SP21UkZJ3a2Q5qwj6eOVtMlTa6BubDRLZJm3MlB/dfSA9LcOncd6uqrMmmCLT6JNNEVJKAGCahBAmqQAIV0FPJpYWofA7jpZUkzXepA3S9OkibjYHBHgTyK6fsc9o/N5xOMkaa9iLOhaKpCGqthNJgR/+66ggTUIAE1SCBRo5hqY/PmurzJvHjqK9RPqrOkyeUxu4JWhzT2ALOj1c6RZtVbxnvtHSNNWMamNChl+F7m6WnEmagrSEANElCDBNQgAQ7pKKRLzk4b6vTXKmmKZ/eh7s7xyaQ9ZjR0MSHteBiufpdfEBp93OHXOzw+SmeNkM6kSZPkFUpXkIAaJKAGCcRkEG/YQmMiUPjEGdTysRHbnxuQJqwUoLY3t0hjeziedlzOl5yDjWsuzdOJbAbvH6ZHSWNOcGLiV1eQhBokoAYJqEECiXbz0T4GZ77Bu96NHoZpYYabQH8cd/N8VmhZdrsLdeY7N5wlpwf11enXpPknOgP1gcOnjknQFSSgBgmoQQLJMsiYPoy0uAn8sjsO9XzZJU27cBRqno1YVrjXgrryxifNvcZpqG/M3yfNncEK3svj3Iyb4JjoChJQgwTUIAE1SCBRSJvbXKfDu+e2i+OZmVn+xOH2OLaGuVHeYZtv+C482yTN+l0c8/x54TfS5N7gY5dq/DhB3PbdQFeQgBokoAYJJMsgA6fJG9F0DScN+bMHpOkcwY3nZJlPC80MCmr8obu5u9j0zT4q83Pc3cHHrXMGxZ2emugKElCDBNQgATVIIGGjiGFmjoEsy7KKH3EU1AtGSOMtYYMZVCdIYxtv7o583s3760Zwm7VlWfRTCQI5Dl1BAmqQgBokMFSjGPV6dG2sjv/1b91p0iwvYrPWWuJvZyi/x7e7BO5ezBMYLk+GQVeQgBokoAYJqEECw4V0zIdQsmu4e/68yt9P1j+N4T4V9+dx4gbS/x26ggTUIAE1SOBfQKw7GF7qemAAAAAASUVORK5CYII=\" id=\"image8874e472f4\" transform=\"scale(1 -1)translate(0 -72)\" x=\"437.096226\" y=\"-21.384163\" width=\"72\" height=\"72\"/>\n   </g>\n   <g id=\"patch_28\">\n    <path d=\"M 437.096226 93.384163 \nL 437.096226 22.318125 \n\" style=\"fill: none; stroke: #000000; stroke-width: 0.8; stroke-linejoin: miter; stroke-linecap: square\"/>\n   </g>\n   <g id=\"patch_29\">\n    <path d=\"M 508.162264 93.384163 \nL 508.162264 22.318125 \n\" style=\"fill: none; stroke: #000000; stroke-width: 0.8; stroke-linejoin: miter; stroke-linecap: square\"/>\n   </g>\n   <g id=\"patch_30\">\n    <path d=\"M 437.096226 93.384163 \nL 508.162264 93.384163 \n\" style=\"fill: none; stroke: #000000; stroke-width: 0.8; stroke-linejoin: miter; stroke-linecap: square\"/>\n   </g>\n   <g id=\"patch_31\">\n    <path d=\"M 437.096226 22.318125 \nL 508.162264 22.318125 \n\" style=\"fill: none; stroke: #000000; stroke-width: 0.8; stroke-linejoin: miter; stroke-linecap: square\"/>\n   </g>\n   <g id=\"text_6\">\n    <!-- 6 -->\n    <g transform=\"translate(468.811745 16.318125)scale(0.12 -0.12)\">\n     <use xlink:href=\"#DejaVuSans-36\"/>\n    </g>\n   </g>\n  </g>\n  <g id=\"axes_7\">\n   <g id=\"patch_32\">\n    <path d=\"M 522.375472 93.384163 \nL 593.441509 93.384163 \nL 593.441509 22.318125 \nL 522.375472 22.318125 \nz\n\" style=\"fill: #ffffff\"/>\n   </g>\n   <g clip-path=\"url(#p8d9d54629a)\">\n    <image xlink:href=\"data:image/png;base64,\niVBORw0KGgoAAAANSUhEUgAAAEgAAABICAYAAABV7bNHAAAET0lEQVR4nO2cT28bVRTF5/kfjuO4du0kNLGdtFYoFSkQBBIiohVq1QUUAVKlrlizY88HYMeOBR+CFQJUJFClqCmqgDSiFRElCDUkqdPgxHbt1nbsGbM+7zzpWiPYwP3tztPJZHz0cn3fezMxF82VoScQzWRAd147TZ7tCzHQk4v75KkcOwDd7j9Fns1aAfRw/Rh5Zm90QMfv3CeP32jgwFD8mE4ioX7qf4QGJKABCWhAAjEaiURpKKiUQG+9xbm+9OIm6J1Wljxru3id/MRj8rxR/h0HymTxvq4sgi59sUCe9A28jn9wyBcaAZ1BAhqQgAYkQDXIRAyZetMp0OnSI/Ks3T0FevY6X6dU7YEejB8nz82Fp0F3zrfI887zP4P+MnaWPPOPToJOfP+EPEG3S2M2OoMENCABDUhAAxKgIj0MeNUbb/VBdzey5Cn94INOr/xGHr+JxT3h+EKYuZMH3dqZI89XV7FRvHj6V/KsvroEen6zQJ5gZxcHHCt+nUECGpCABiTAi9XAZ9O9bdCV9hR5zIMaaNrR8zz6Gx8GbBk8xJ3I9M0BeXL5Z0D/VUyTp38WF8L9Yp48Zrdq3R9/dp1BAhqQgAYkoAEJcJF2YO/GmUaTPIHVYJoo70zauJpSu3IHTV7NZ7aOQG81c+Q5NY1fGt3cDHmSVqPq+tLQGSSgAQloQAIj1SC7wTMxx2HIXBF05yTXBZvEIe/oRZsdhxPp5uOg41EuHhET7qiZrvOPXOU/jAYkoAEJaEACoxVpi0guS2N75ydBJ96Tnw+6/aBInm4VV91mwLuOZhqL+6XJHfJ888tzoBdq/IXgbFQtdAYJaEACGpBAqBo07PZoLFnHZq3xJEmec/N40vHRzDXyFK07ChwnDStd3NH8+N6b5Jn6DpvJ6B/3yeM7dk9tdAYJaEACGpCABiQQqkjbR8ie53nZ1S3QycNZ8ny69C7oz17n5wY/Wfwc9IUxLqTXm2dAD67xsfLUyp/oOWyQZxR0BgloQAIakECoGuQ6nh7sPQQdr3F9KW/gM4lHP54gz4fLH4BeurxBntmxBmjjWHQOO9bO5AhNoQudQQIakIAGJKABCYQr0i7sZ3/6R2SxC3ms3iBPuT4P+lbuDHnev7QCuu144cVkJnDA9TLLCG8h6gwS0IAENCCBcDXI8EmDZ+Ss7RdlzHiKPL3COGh/ghu8XoC3HTly3E/geJYlBDqDBDQgAQ1IQAMSGKlIR1JYTM0c7xb28+M0ZuMn8bnFVjlBntoyvjjz9gvr5Fndr4Au3OVCHhzUcUD/NcW/gwYkoAEJcA1yNIGR4/i84d45PkWoL+NxdC7XJk8hhW8ev5KpkScbQ8+3u8+Sxz7FmPmJH38ZtPn3h0FnkIAGJKABCWhAAlykHQ3V8DEWztQ+r5Sttsx7eXqbPGNRbAJv10rkqa7jv6Y4cYubwIk1PFb2q3vkCdsY2ugMEtCABDQggb8B2Z4tiddi5Q8AAAAASUVORK5CYII=\" id=\"imageb8cb8b9acf\" transform=\"scale(1 -1)translate(0 -72)\" x=\"522.375472\" y=\"-21.384163\" width=\"72\" height=\"72\"/>\n   </g>\n   <g id=\"patch_33\">\n    <path d=\"M 522.375472 93.384163 \nL 522.375472 22.318125 \n\" style=\"fill: none; stroke: #000000; stroke-width: 0.8; stroke-linejoin: miter; stroke-linecap: square\"/>\n   </g>\n   <g id=\"patch_34\">\n    <path d=\"M 593.441509 93.384163 \nL 593.441509 22.318125 \n\" style=\"fill: none; stroke: #000000; stroke-width: 0.8; stroke-linejoin: miter; stroke-linecap: square\"/>\n   </g>\n   <g id=\"patch_35\">\n    <path d=\"M 522.375472 93.384163 \nL 593.441509 93.384163 \n\" style=\"fill: none; stroke: #000000; stroke-width: 0.8; stroke-linejoin: miter; stroke-linecap: square\"/>\n   </g>\n   <g id=\"patch_36\">\n    <path d=\"M 522.375472 22.318125 \nL 593.441509 22.318125 \n\" style=\"fill: none; stroke: #000000; stroke-width: 0.8; stroke-linejoin: miter; stroke-linecap: square\"/>\n   </g>\n   <g id=\"text_7\">\n    <!-- 3 -->\n    <g transform=\"translate(554.090991 16.318125)scale(0.12 -0.12)\">\n     <use xlink:href=\"#DejaVuSans-33\"/>\n    </g>\n   </g>\n  </g>\n  <g id=\"axes_8\">\n   <g id=\"patch_37\">\n    <path d=\"M 607.654717 93.384163 \nL 678.720755 93.384163 \nL 678.720755 22.318125 \nL 607.654717 22.318125 \nz\n\" style=\"fill: #ffffff\"/>\n   </g>\n   <g clip-path=\"url(#p8b49d31114)\">\n    <image xlink:href=\"data:image/png;base64,\niVBORw0KGgoAAAANSUhEUgAAAEgAAABICAYAAABV7bNHAAACeklEQVR4nO2cMW/TQBiG72wnKQkFoaowBFEVJgb4FcxIlbrzG/g9Hbt378iCyohQJ4oqKiEQtFFJmxI7OV/H6rvP1RtVviPD+2yf9cW1Hn96dRc7tW/stjcRyJ88Vsd+v30h6v72L9Xz8+yhqDd2MtVTfDwUtS/Lu1ziQui/TgQUBKAgAAUBitbOZK0s762olosNWe+93FU9I9cR9btP71XP8Mt9UTuG9P+DggAUBGgvg7xcb/rzv6rlwbehqA+mQ9WzNRiJevKsVj12VWaQORupnvB67gonCEBBAAoCUBCgvZAOqC8n6tjqj5mo90evVM/W4IOo3aO56vF9vQiNBScIQEEACgJEyyBf64WanctjE9eF58k6Tp+7SHdfOUEACgJQEICCANFCugkb7LBrb2/pvCHLG3blFn+uLThBAAoCUBAgaQbVucyOQVHBz7gq1wfn+lvGWHCCABQEoCAABQHShnRX3o/hyrnuMUEAj/Ul2hKHe1twggAUBKAgQLQMspneULqevB+v+yeqp2fl6y/5P30P7Uw/6YgFJwhAQQAKAlAQIOlC0Qcb867Vj3RCbNPGvaV3fxaBEwSgIAAFAZJmkAmiowpDyRhTevmKTDZTLca4IJgiZhInCEBBAAoCUBAg7aPnIFuv6p7qmXq5U8/KhsfMDi8w24ITBKAgAAUB0i4UF+CilvlSTHWPnzWtHuPACQJQEICCABQESBrSeSVXisfluuo56pyKujvWO3XPR8/LAwUBKAiQ9McsWSkz6OB0U/UcX62Juv+n4ccsFTNoaaAgAAUBKAiQdKHYGctwPfr8VPV8v5TfID7/qv/thGNILw8UBKAgwDUO9JKuyFr01QAAAABJRU5ErkJggg==\" id=\"image97e93e6c15\" transform=\"scale(1 -1)translate(0 -72)\" x=\"607.654717\" y=\"-21.384163\" width=\"72\" height=\"72\"/>\n   </g>\n   <g id=\"patch_38\">\n    <path d=\"M 607.654717 93.384163 \nL 607.654717 22.318125 \n\" style=\"fill: none; stroke: #000000; stroke-width: 0.8; stroke-linejoin: miter; stroke-linecap: square\"/>\n   </g>\n   <g id=\"patch_39\">\n    <path d=\"M 678.720755 93.384163 \nL 678.720755 22.318125 \n\" style=\"fill: none; stroke: #000000; stroke-width: 0.8; stroke-linejoin: miter; stroke-linecap: square\"/>\n   </g>\n   <g id=\"patch_40\">\n    <path d=\"M 607.654717 93.384163 \nL 678.720755 93.384163 \n\" style=\"fill: none; stroke: #000000; stroke-width: 0.8; stroke-linejoin: miter; stroke-linecap: square\"/>\n   </g>\n   <g id=\"patch_41\">\n    <path d=\"M 607.654717 22.318125 \nL 678.720755 22.318125 \n\" style=\"fill: none; stroke: #000000; stroke-width: 0.8; stroke-linejoin: miter; stroke-linecap: square\"/>\n   </g>\n   <g id=\"text_8\">\n    <!-- 1 -->\n    <g transform=\"translate(639.370236 16.318125)scale(0.12 -0.12)\">\n     <defs>\n      <path id=\"DejaVuSans-31\" d=\"M 794 531 \nL 1825 531 \nL 1825 4091 \nL 703 3866 \nL 703 4441 \nL 1819 4666 \nL 2450 4666 \nL 2450 531 \nL 3481 531 \nL 3481 0 \nL 794 0 \nL 794 531 \nz\n\" transform=\"scale(0.015625)\"/>\n     </defs>\n     <use xlink:href=\"#DejaVuSans-31\"/>\n    </g>\n   </g>\n  </g>\n  <g id=\"axes_9\">\n   <g id=\"patch_42\">\n    <path d=\"M 692.933962 93.384163 \nL 764 93.384163 \nL 764 22.318125 \nL 692.933962 22.318125 \nz\n\" style=\"fill: #ffffff\"/>\n   </g>\n   <g clip-path=\"url(#p3789556344)\">\n    <image xlink:href=\"data:image/png;base64,\niVBORw0KGgoAAAANSUhEUgAAAEgAAABICAYAAABV7bNHAAAE3ElEQVR4nO2bTUxcZRSG7+XeiTMMjAVmgAFqE6i2/LRU24IsymiDiWlCjUSsNSbu/IlpaqIu1biqGxODjSuTRhMT3dj4h6JCLQpFKVFrS0kJyr+l00IZOi3IzB23fb93kjPW7jzv7r15wr15+Tic737n2m3OgYx1k9zKqGVqubkS/HwrIVbTznHw7eHfiIk4CfCO7RGzmvGB/2zxXmK+OVsPvmjYR0xk5Brea2yKmHQiQddM5YnE/1wakCANSJAGJMh+eONhKNLz+zcRVNwxC76zYoSYQmcVfDxVSMyah8X0Tuc6MXX+OfDV7jViHMP33eBnfnXoEfBVn7jEFPTjP5b00hIxuoIEaUCCNCBBbnJbBVyofPxPgp6vOgH+xZ+fIKZgMB988GKamLx1KHdWxrGJSZbh7+xqAzeTsZ2j4F+LfkXM1w+8A/7RgmeIcZPV4O/48RwxuoIEaUCCNCBBGpAgN7EJG6hXjIJsWZY1vlYOvqgnQEy4G5suL9tOOW0Ubsds+SyrMOAHXx4t5eeprwO/t62WmKNtH4Dv2vERMS+0YuGumSgjRleQIA1IkAYkyE0FsVmLOCsEfb+Gf+P5l1PEeMZGL5NihpSFSa+t4YVlrmWhOdwIB+I1xBwKPAn+y9hRYqIt8+D/7i0mRleQIA1IkAYkSAMS5LrXMyJU478E/lQgS65m05dLkc5FGX4+87jGd2aSmKLBreBHW8qJOVg1DP5YxX5idAUJ0oAEaUCCXJ9xaLDi+QmK5eNG9N27eJMZCoXAp+Px//50Ocpb4ea2cBprYPfidmI6wqfBr5bwetEVJEgDEqQBCdKABLmBK1jMPl26j6CuCmyoVpv4ONjrN97GXVnku3l8FHQ7lPG4mXRv4L2mk0XE+MLIrBfwz9YVJEgDEqQBCXIDs9hkfX6mkaC3okPgX278jpj36nHcJHwhSEwuM4G3ItvHoy2pfGxmy/1JYtaNQZq8df7ZuoIEaUCCNCBBGpAg155ZgAslA9xQHWvZCP5A4QQxR1qw6QoP8xs867yx687ytjAX2S4WZSfL8Hu8Eechnwv/QsxpYz4oOM+zSLqCBGlAgjQgQW7aONqNjCwTdOTUPvDtbW8T07Eb384NNTQRE5rCOUYvyc2blYfNmxPiHaS3GWviTCxETO2+C+ATHo/svP/DHvBbzl3lx+EnVN0sDUiQBiRIAxLkmm/57Mk5giL9OBP4cXMDMYcj/eCPx3YTExrD4uoYTaplWZZVgTOJl3fxzE78fnzmPTvOEuMzvmZ889t2YqqPG9v3iRlidAUJ0oAEaUCC6FVcOsEnFsW/YzPZNbKXmKcfxA9Mnm3tI+bDiYfA5y9sICa+C31L83liYn5sZnumtxKT14eb7nsGuAG2xybBZ2tcdQUJ0oAEaUCCNCBBfF6S5Xg4bwK/ei7t4Y9HXq+LgX+j7CQxMwex6RtPRIipDWIxnVzhRnG4D+8fHeB5yKAxt5heuESMl8Mcpa4gQRqQIA1IENegLDLfOpYM/kVM7ybcnG556iIxL5X2gj+U7CTmpy+2gY/8ynVi8yje35vne6XMj2Ju8QRFV5AgDUiQBiRIAxJkt9mP/evqZR79WpZl2fV3g/+jcwMxwe04t5g+UUJMZTc2dJmpWWK821SAc5GuIEEakCANSNA/ep1Nig7G5W8AAAAASUVORK5CYII=\" id=\"imaged36bb3f663\" transform=\"scale(1 -1)translate(0 -72)\" x=\"692.933962\" y=\"-21.384163\" width=\"72\" height=\"72\"/>\n   </g>\n   <g id=\"patch_43\">\n    <path d=\"M 692.933962 93.384163 \nL 692.933962 22.318125 \n\" style=\"fill: none; stroke: #000000; stroke-width: 0.8; stroke-linejoin: miter; stroke-linecap: square\"/>\n   </g>\n   <g id=\"patch_44\">\n    <path d=\"M 764 93.384163 \nL 764 22.318125 \n\" style=\"fill: none; stroke: #000000; stroke-width: 0.8; stroke-linejoin: miter; stroke-linecap: square\"/>\n   </g>\n   <g id=\"patch_45\">\n    <path d=\"M 692.933962 93.384163 \nL 764 93.384163 \n\" style=\"fill: none; stroke: #000000; stroke-width: 0.8; stroke-linejoin: miter; stroke-linecap: square\"/>\n   </g>\n   <g id=\"patch_46\">\n    <path d=\"M 692.933962 22.318125 \nL 764 22.318125 \n\" style=\"fill: none; stroke: #000000; stroke-width: 0.8; stroke-linejoin: miter; stroke-linecap: square\"/>\n   </g>\n   <g id=\"text_9\">\n    <!-- 0 -->\n    <g transform=\"translate(724.649481 16.318125)scale(0.12 -0.12)\">\n     <defs>\n      <path id=\"DejaVuSans-30\" d=\"M 2034 4250 \nQ 1547 4250 1301 3770 \nQ 1056 3291 1056 2328 \nQ 1056 1369 1301 889 \nQ 1547 409 2034 409 \nQ 2525 409 2770 889 \nQ 3016 1369 3016 2328 \nQ 3016 3291 2770 3770 \nQ 2525 4250 2034 4250 \nz\nM 2034 4750 \nQ 2819 4750 3233 4129 \nQ 3647 3509 3647 2328 \nQ 3647 1150 3233 529 \nQ 2819 -91 2034 -91 \nQ 1250 -91 836 529 \nQ 422 1150 422 2328 \nQ 422 3509 836 4129 \nQ 1250 4750 2034 4750 \nz\n\" transform=\"scale(0.015625)\"/>\n     </defs>\n     <use xlink:href=\"#DejaVuSans-30\"/>\n    </g>\n   </g>\n  </g>\n  <g id=\"axes_10\">\n   <g id=\"patch_47\">\n    <path d=\"M 10.7 182.33689 \nL 81.766038 182.33689 \nL 81.766038 111.270852 \nL 10.7 111.270852 \nz\n\" style=\"fill: #ffffff\"/>\n   </g>\n   <g clip-path=\"url(#p420ed68418)\">\n    <image xlink:href=\"data:image/png;base64,\niVBORw0KGgoAAAANSUhEUgAAAEgAAABICAYAAABV7bNHAAAClUlEQVR4nO2cMW/TQBTHfXZIQwJqiYpEQahBQh0BMVUqbN1Z+uGYEV+BnZEBhMRQpGZIBRNKQkkjt3Vj3zG/e5b+VuQ7KvT/bc96ta8/vz6dfeeaQ3PkkgCk/b46Vr7cE/HkzW2V82J/LOIv45HK2XtbyAOfj/UAbIUH2YC0lbP8x1AQgIIAFATotHYmY0SYDu+plNlz2bj3D3RzfT/6KOKj5FDlnN3ZFXF7v4SGFQSgIAAFAdr783VyvunyC5WyeboS8afJE5Vz8uiDiH+c6162dVmuM8K1YAUBKAhAQQAKAgSbY9nlUh3bmF6J2Fl9+dPVlohnk6HK2Z7PRFw5u8YIm8EKAlAQgIIAwXqQs/pFZdW/JeLRzkzlLK18y3h3nOmTT397FwvyUjRJElYQhIIAFASgIECwJm1So46VA9lwX21PVM4glUs63aVuwK4o1LFQsIIAFASgIEDIBQFF1ZX342nvl8rZ7ZyJuOzpXmY68YbNCgJQEICCABQEiNqkjfeE/6fSe4gyI3PsRs2Jspon/ECwggAUBKAgQNQ3ip1LufrwPd9ROa/7JyK2de0mi3dfWUEACgJQEICCAHEniqVs3PNioHKqRD69227NiThRvDlQEICCAHF7kLdEfF2z/WXl4vWXJrCCABQEoCAABQGiNunEe8AvSn35yr9n4bb+NIIVBKAgAAUBovag7Ep+hDLN9cPqhbeM4WpGyKXnGwQFASgIQEGAcN2u5gOT1GvSi4Vees69Jl31amaKqXdfjd5D1NbmclYQgIIAFASIOlFMF7mIs5+bKufbs8fyZ64b9Bd+zPLvoCAABQEoCBBwoljzEcpcbhK///WBynk3PBDxw2P9v8jcuf6iOhSsIAAFASgI8BfP9pBHswzWpAAAAABJRU5ErkJggg==\" id=\"imagefa44c02537\" transform=\"scale(1 -1)translate(0 -72)\" x=\"10.7\" y=\"-110.33689\" width=\"72\" height=\"72\"/>\n   </g>\n   <g id=\"patch_48\">\n    <path d=\"M 10.7 182.33689 \nL 10.7 111.270852 \n\" style=\"fill: none; stroke: #000000; stroke-width: 0.8; stroke-linejoin: miter; stroke-linecap: square\"/>\n   </g>\n   <g id=\"patch_49\">\n    <path d=\"M 81.766038 182.33689 \nL 81.766038 111.270852 \n\" style=\"fill: none; stroke: #000000; stroke-width: 0.8; stroke-linejoin: miter; stroke-linecap: square\"/>\n   </g>\n   <g id=\"patch_50\">\n    <path d=\"M 10.7 182.33689 \nL 81.766038 182.33689 \n\" style=\"fill: none; stroke: #000000; stroke-width: 0.8; stroke-linejoin: miter; stroke-linecap: square\"/>\n   </g>\n   <g id=\"patch_51\">\n    <path d=\"M 10.7 111.270852 \nL 81.766038 111.270852 \n\" style=\"fill: none; stroke: #000000; stroke-width: 0.8; stroke-linejoin: miter; stroke-linecap: square\"/>\n   </g>\n   <g id=\"text_10\">\n    <!-- 1 -->\n    <g transform=\"translate(42.415519 105.270852)scale(0.12 -0.12)\">\n     <use xlink:href=\"#DejaVuSans-31\"/>\n    </g>\n   </g>\n  </g>\n  <g id=\"axes_11\">\n   <g id=\"patch_52\">\n    <path d=\"M 95.979245 182.33689 \nL 167.045283 182.33689 \nL 167.045283 111.270852 \nL 95.979245 111.270852 \nz\n\" style=\"fill: #ffffff\"/>\n   </g>\n   <g clip-path=\"url(#p45fb02f3d4)\">\n    <image xlink:href=\"data:image/png;base64,\niVBORw0KGgoAAAANSUhEUgAAAEgAAABICAYAAABV7bNHAAAEX0lEQVR4nO2cy08bZxTFmfEMGIixjTFgQ2KHGFJUpICStEJVGhV1kVRqVqwrRclfkV1X7a5Ks64itYtW7aLKJg+pXZBHIzURRVESF2jEI0AC2MaQmNhgz3R95ox0HRZe3bM71g9mdPi43PvNNxifG5NuU4NktrWB3xsfJmbpCxt8S94kJnUjD96ZfUGMW60e5BZJfHUVSAMSpAEJ0oAEWQ29WiAAthyzCcmMvQRfqfEtvsn2gj+02EKMFukGSQMSpAEJamgNcssV8K2be8SsbofBf5RYJuZxug98RyRMjLO767n4wfphXUGCNCBBGpAgDUhQY4t0dR98y1KBmNp0Enzp3Gti3oyVwZefJIhp3iqCp6Jdp3QFCdKABGlAgho7rHqaNWd9k5DehzHwj4ZSxIymcaDNfjJIzNE1bCaN+QW+nToGWl1BgjQgQRqQIA1IEBdpw2DK8OToOswcYFr2a95an66Aj04NELM+GQLfdjpHTOEFFvvOjTwxtTw3ql7pChKkAQnSgARZZjAIH5jJXoKcUCsy6z5DZg5/x+t6quBTt7zfp/thhJiFPrzH1NklYubGo+Ajc33EGDtv8Xb2eYdTV5AgDUiQBiRIAxJkmT1x+GDtfJKg7SFsDLv+iRAT/xMfI1dXX/HVnJp4Q97i7i68JCZ5/xD4uYEeYnqOYfOYH+kmJr6ADaf3D0RTk64gURqQIA1IkOXaOK+Wuxg6+/Ez8DNpbroKlX7w0T8qxNRynqGyjgHXefeOPgs+XwUf/psHWvvCFviNE3ytrmlPXSoUidEVJEgDEqQBCdKABFlNOZzMO7PcdM2PYzN5efABMVcvTIAP7HHh7LiPu5W1TW7MqJn0m/gLWICjs/wHYaOEh9Y7M7wDUToaAd8+z2cddQUJ0oAEaUCCrJpnVy08vU7Q4iAeL1mejBFzZewW+G/Mc8RUg1iXYg+CxNRe4fXdCtcXdx8H2uYiM6Ui7oKOHOfh+fkAdsWhaIQYXUGCNCBBGpAgDUiQ5W3M3BUuZn13I+B/PXaKmO/O/AL+2smfifk6/CX4le5+YhL3OsAH/uMdRaeEE765y49rrBzuFoY+9Cnkh3Gn1I2EiNEVJEgDEqQBCaLjL45PY2Zn8YWS+NQQMT9mxsF/n/6dmOvDPyETmyDmZnoMfO9f/GZ0OFsE7zT7nOLxzLymwUd2nFZPDbIDxOgKEqQBCdKABGlAgri6+ezgOcVt8F2PeXfu6QcZ8HfiGWIuhfHFlG8TU8R8ev5f8D+MnCFmfgYbTL9/X9F8HO+5xeTzSvYWFmWjVCZGV5AgDUiQBiSorpdZ6EjK4goxSc+QeXX4M2JOj14Hn7H453PEwvo20T1LzOgEXr/N5GG1x8Ya9NvaSWI6n3nqrT56fn9pQII0IEEakKADvXHo9xJK+5M18Du3jxBzMfAV+FR4i5iZxcPg7WV+HLyXwLenB1IbxOTetoN370WJ6X+EX+ds7xCjK0iQBiRIAxL0P7k8QkSmpr0PAAAAAElFTkSuQmCC\" id=\"imagebc412f5a64\" transform=\"scale(1 -1)translate(0 -72)\" x=\"95.979245\" y=\"-110.33689\" width=\"72\" height=\"72\"/>\n   </g>\n   <g id=\"patch_53\">\n    <path d=\"M 95.979245 182.33689 \nL 95.979245 111.270852 \n\" style=\"fill: none; stroke: #000000; stroke-width: 0.8; stroke-linejoin: miter; stroke-linecap: square\"/>\n   </g>\n   <g id=\"patch_54\">\n    <path d=\"M 167.045283 182.33689 \nL 167.045283 111.270852 \n\" style=\"fill: none; stroke: #000000; stroke-width: 0.8; stroke-linejoin: miter; stroke-linecap: square\"/>\n   </g>\n   <g id=\"patch_55\">\n    <path d=\"M 95.979245 182.33689 \nL 167.045283 182.33689 \n\" style=\"fill: none; stroke: #000000; stroke-width: 0.8; stroke-linejoin: miter; stroke-linecap: square\"/>\n   </g>\n   <g id=\"patch_56\">\n    <path d=\"M 95.979245 111.270852 \nL 167.045283 111.270852 \n\" style=\"fill: none; stroke: #000000; stroke-width: 0.8; stroke-linejoin: miter; stroke-linecap: square\"/>\n   </g>\n   <g id=\"text_11\">\n    <!-- 7 -->\n    <g transform=\"translate(127.694764 105.270852)scale(0.12 -0.12)\">\n     <use xlink:href=\"#DejaVuSans-37\"/>\n    </g>\n   </g>\n  </g>\n  <g id=\"axes_12\">\n   <g id=\"patch_57\">\n    <path d=\"M 181.258491 182.33689 \nL 252.324528 182.33689 \nL 252.324528 111.270852 \nL 181.258491 111.270852 \nz\n\" style=\"fill: #ffffff\"/>\n   </g>\n   <g clip-path=\"url(#p76af7a3f59)\">\n    <image xlink:href=\"data:image/png;base64,\niVBORw0KGgoAAAANSUhEUgAAAEgAAABICAYAAABV7bNHAAAEeklEQVR4nO2cy2tcZRjGzzmZezLJxFTTZJpmGptJE1pvBKtQMIVgQSjihVbsRhTcWcSNyy7aP6LgQijURRG8LLIooqDBGk0ttqVJifZmepm0k5wMzmSmcy6un+858J6WdlPe3+75eDjf5MmXN9/tjD1tvxtaD4rTQU2J/qdB114ZJs+t12zQz7/0Dz/HCUDPnx0lz/CMBzo7t0Qe312ntofBeSRPeYLRgAQ0IAENSCARy2VjcTULsmVZ1t3Xt4FuvFkjz0fb50Hvy18gz3CiDXpmExf7I+m3QY/WSuRx/lwEHbZa5ImDjiABDUhAAxKIVYOcdBr0xq4t5DFrzuHxn8gzs7IL9Ok74+R5p3gO9HTnAnk+eHUW9KkbU+QpVQZAe9f+JY8V+NxmoCNIQAMS0IAENCCBeEW60AO6Op4iz4flH0GXknfJc+l2P+i2myHPV/4k6KHtVfJ83Ps76LP7tpJnbQEnmF0V/jxBvU5tJjqCBDQgAQ1IgGuQsTC1LMsKu7tA14cC8kzmroCeSPLf96FxXKwu1Z8hTzHrgi44DfIMJPDzvL95jjzHyiOgu/8okCdoGM8OeXNVR5CABiSgAQloQAIRRZozCzpxQuf3tclT7PgPdN5Jk6cR4ATz16UR8oRt7P/n4rPkOVb+FvRgco372oor9aCQJ491k5tMdAQJaEACGpBAvFONBOaYSPNOXNKYX/51nx9zau5l0KVveMKZXsXTh/VRPkH57MAB0IfHePcyND9jImIsmPU25J9LR5CABiSgAQloQALxinSAxdRvJ8nSNhbCt7xe8mSXsbvc5WXy+DfvgO5dK5LHLeORzrkiH09bnlmAH/walGXpCBLRgAQ0IAGuQSFP3pwm3gm0al3kqQa4OM3YvKANUkYdiNq99I3JmsvXaDIrWINW7+fIYzlyX3HQESSgAQloQAIakECsiaJd3wCdrvaRZ9XHwj2UcMnTGsTCHfR0yp1HHcX42ObY7LFT+M8mjFrNx0BHkIAGJKABCURMFCMWdS3cHkzy3M2qGjVoT4ZfJhkprYBu9vPRcyaFC2E7x5PAVgEnfUmHdwLDJr5wY7cjPNTC6AgS0IAENCABDUgg1kQxrOM9mlyFV/znG0OgD+X5buH+gfOgv5x4gzxbFvGYx3+qmzz1kkdtJubupbPO95WCiJ0LEx1BAhqQgAYkEKsGBRtN0PnrTfJ8/ze+qPJJ3yx5DuYvgj6xdzd53OVB0F6Wf4fFbRXQV2u8eC4sGYvVVZc8cU46dAQJaEACGpCABiQQb6Lo4U5g6vo9ftAcvlBycseL5Pm8D79C4ujEd+T59K33sO+IzzOZd0HPnymTZ3QBPXRpPCY6ggQ0IAENSCDe9RdjQuWv8Mtpm3/bBPr42BR5xqZug57Oci37YvcJ0KdrO8nz9eUXQA/+ErHovIqXoENPXuBGoSNIQAMS0IAENCAB+6G+wyzirk1HoQC6voe/e+zGfuxq6rlF8rR8/L9x5gI/p/gD9t8ze408XgWPmPSO4mNCAxLQgAT+B88SJvyxx5qlAAAAAElFTkSuQmCC\" id=\"imagef5f97bfbe4\" transform=\"scale(1 -1)translate(0 -72)\" x=\"181.258491\" y=\"-110.33689\" width=\"72\" height=\"72\"/>\n   </g>\n   <g id=\"patch_58\">\n    <path d=\"M 181.258491 182.33689 \nL 181.258491 111.270852 \n\" style=\"fill: none; stroke: #000000; stroke-width: 0.8; stroke-linejoin: miter; stroke-linecap: square\"/>\n   </g>\n   <g id=\"patch_59\">\n    <path d=\"M 252.324528 182.33689 \nL 252.324528 111.270852 \n\" style=\"fill: none; stroke: #000000; stroke-width: 0.8; stroke-linejoin: miter; stroke-linecap: square\"/>\n   </g>\n   <g id=\"patch_60\">\n    <path d=\"M 181.258491 182.33689 \nL 252.324528 182.33689 \n\" style=\"fill: none; stroke: #000000; stroke-width: 0.8; stroke-linejoin: miter; stroke-linecap: square\"/>\n   </g>\n   <g id=\"patch_61\">\n    <path d=\"M 181.258491 111.270852 \nL 252.324528 111.270852 \n\" style=\"fill: none; stroke: #000000; stroke-width: 0.8; stroke-linejoin: miter; stroke-linecap: square\"/>\n   </g>\n   <g id=\"text_12\">\n    <!-- 0 -->\n    <g transform=\"translate(212.974009 105.270852)scale(0.12 -0.12)\">\n     <use xlink:href=\"#DejaVuSans-30\"/>\n    </g>\n   </g>\n  </g>\n  <g id=\"axes_13\">\n   <g id=\"patch_62\">\n    <path d=\"M 266.537736 182.33689 \nL 337.603774 182.33689 \nL 337.603774 111.270852 \nL 266.537736 111.270852 \nz\n\" style=\"fill: #ffffff\"/>\n   </g>\n   <g clip-path=\"url(#p77155b7cef)\">\n    <image xlink:href=\"data:image/png;base64,\niVBORw0KGgoAAAANSUhEUgAAAEgAAABICAYAAABV7bNHAAACcklEQVR4nO2cv2sUQRTHZ/bHXTYkGItAYh0MWthKGhGxEsuU+XPS+F9ICv+FgEJaG8sUEoIWYiBosyiXu9udHeu3b+B7J/eWI3w/3Qzv5uY+93i8ud09/9ofR2eAL0dqLjx/KsbXJzrGN16MH59NVEz8ctmbMPkIzjnnMrOV7wkUBKAgAAUBCquF/ahUc/VBJcbvXn1QMVfTfTH+9PGFiqkKuXZs5v+zxYVgBgEoCEBBAMMapJvA2Y5sAt9s3qqYvaIW4/Pq5Ur3tSzMIAAFASgIQEEAsyLtMq+mut67bWUbKmYnm8rX5Cvd1dIwgwAUBKAggF0Nalo1lffOlE0MZm+/KphBAAoCUBCAggBmRToGXYCzubw8kyrS214W967QDWeqCbWCGQSgIAAFAewaxUQNKuQ51NWdvhqxm8sttZUKcb6QMXE2W35/C8IMAlAQgIIAFAQwbBQ7NZfPZKN4E/SloSe9ryxs6KbQ58P9zMgMAlAQgIIAdo1igryRNehX2FYxz0bynsQwTixUDrdtZhCAggAUBKAgwKBFehFKL5vARC/pXMEivTZQEICCAGtXg0KUh1yvz7yDwgwCUBCAggAUBBi0SIdS/jq4m/9RMXe9Il3+TSx0N01M2sAMAlAQgIIAdg+z5Np9W8ka9Kh/06Jz7kcrXzeu9RPNcW73AF0fZhCAggAUBKAgwKBPHLabskhPE/8ocTE5FONxre8zSl3WtoIZBKAgAAUBBj2s+iCLzsXkQMW8/3Ykxg9/66YwdQ+2FcwgAAUBKAhAQQCzIt0lbu5+8F0+qHL6+a2K2foqG8zy5qeKaSMbxbWBggAUBPgHDsh7hZq48QMAAAAASUVORK5CYII=\" id=\"image7c16eeea2d\" transform=\"scale(1 -1)translate(0 -72)\" x=\"266.537736\" y=\"-110.33689\" width=\"72\" height=\"72\"/>\n   </g>\n   <g id=\"patch_63\">\n    <path d=\"M 266.537736 182.33689 \nL 266.537736 111.270852 \n\" style=\"fill: none; stroke: #000000; stroke-width: 0.8; stroke-linejoin: miter; stroke-linecap: square\"/>\n   </g>\n   <g id=\"patch_64\">\n    <path d=\"M 337.603774 182.33689 \nL 337.603774 111.270852 \n\" style=\"fill: none; stroke: #000000; stroke-width: 0.8; stroke-linejoin: miter; stroke-linecap: square\"/>\n   </g>\n   <g id=\"patch_65\">\n    <path d=\"M 266.537736 182.33689 \nL 337.603774 182.33689 \n\" style=\"fill: none; stroke: #000000; stroke-width: 0.8; stroke-linejoin: miter; stroke-linecap: square\"/>\n   </g>\n   <g id=\"patch_66\">\n    <path d=\"M 266.537736 111.270852 \nL 337.603774 111.270852 \n\" style=\"fill: none; stroke: #000000; stroke-width: 0.8; stroke-linejoin: miter; stroke-linecap: square\"/>\n   </g>\n   <g id=\"text_13\">\n    <!-- 1 -->\n    <g transform=\"translate(298.253255 105.270852)scale(0.12 -0.12)\">\n     <use xlink:href=\"#DejaVuSans-31\"/>\n    </g>\n   </g>\n  </g>\n  <g id=\"axes_14\">\n   <g id=\"patch_67\">\n    <path d=\"M 351.816981 182.33689 \nL 422.883019 182.33689 \nL 422.883019 111.270852 \nL 351.816981 111.270852 \nz\n\" style=\"fill: #ffffff\"/>\n   </g>\n   <g clip-path=\"url(#pf1317fac7c)\">\n    <image xlink:href=\"data:image/png;base64,\niVBORw0KGgoAAAANSUhEUgAAAEgAAABICAYAAABV7bNHAAACQ0lEQVR4nO2cO07DQBCGvbbzRECFQEICRaSkoaCkyxE4BRQchQKJC3ADCi5AiYQokThACkIeoJCHYy/1eFb6g9BuIvR/3Vgjx/oymoy965iOObeRD4zRx06PRfh2WVEprf2eiLObPZXTfHgRsc3mv7++JYm9nfmfQEEACgJQECD1dWKT6gY8OtoQ8d3Zrcqpm4WIL7auVE4zdvwAeIIVBKAgAAUBvPWgyNEnZtvy2El1oXLux7siro4Lfe7Cz2zrghUEoCAABQEoCOBvUEwSdcymsknXjP74z6Ih4niuG7LN8z9e3fKwggAUBKAggLce5OoTyUz2k5nVg+JB5UPEeS3cjakLVhCAggAUBKAggL+7eccddzKVcb/QyzWH6UDEriZdHkJt4W9wZAUBKAhAQQB/PchBvJB96avQ389OInPyCgfFtYaCABQEoCBA2CZdmue+rf74ZqknF64r5NLz+kBBAAoCBH2iaHI5BA5LKxhRFEXNUqOyenEkKKwgAAUBKAhAQYCgg+IyZFY2aRNuK5ATVhCAggAUBFhpD5pavZd6ZsfygGOLIvcorhEUBKAgAAUBVtqkM8cTxWEh9wyVn0KGhhUEoCAABQHC7pNO5GrEZjxROb1cDo+JY590SFhBAAoCUBCAggBBB8XyMnLdZCrndS7/iqK8+TyK+DLLWkFBAAoCBN6jKOPnSUvlPA7aIq6O9AsvIWEFASgIQEEACgIE3R/UeJcvr1w/dfQFdasibnf7Kie3rrUgP7CCABQEoCDAD94Qe4gitDxOAAAAAElFTkSuQmCC\" id=\"image301d6870d8\" transform=\"scale(1 -1)translate(0 -72)\" x=\"351.816981\" y=\"-110.33689\" width=\"72\" height=\"72\"/>\n   </g>\n   <g id=\"patch_68\">\n    <path d=\"M 351.816981 182.33689 \nL 351.816981 111.270852 \n\" style=\"fill: none; stroke: #000000; stroke-width: 0.8; stroke-linejoin: miter; stroke-linecap: square\"/>\n   </g>\n   <g id=\"patch_69\">\n    <path d=\"M 422.883019 182.33689 \nL 422.883019 111.270852 \n\" style=\"fill: none; stroke: #000000; stroke-width: 0.8; stroke-linejoin: miter; stroke-linecap: square\"/>\n   </g>\n   <g id=\"patch_70\">\n    <path d=\"M 351.816981 182.33689 \nL 422.883019 182.33689 \n\" style=\"fill: none; stroke: #000000; stroke-width: 0.8; stroke-linejoin: miter; stroke-linecap: square\"/>\n   </g>\n   <g id=\"patch_71\">\n    <path d=\"M 351.816981 111.270852 \nL 422.883019 111.270852 \n\" style=\"fill: none; stroke: #000000; stroke-width: 0.8; stroke-linejoin: miter; stroke-linecap: square\"/>\n   </g>\n   <g id=\"text_14\">\n    <!-- 1 -->\n    <g transform=\"translate(383.5325 105.270852)scale(0.12 -0.12)\">\n     <use xlink:href=\"#DejaVuSans-31\"/>\n    </g>\n   </g>\n  </g>\n  <g id=\"axes_15\">\n   <g id=\"patch_72\">\n    <path d=\"M 437.096226 182.33689 \nL 508.162264 182.33689 \nL 508.162264 111.270852 \nL 437.096226 111.270852 \nz\n\" style=\"fill: #ffffff\"/>\n   </g>\n   <g clip-path=\"url(#p0a8a1a2d57)\">\n    <image xlink:href=\"data:image/png;base64,\niVBORw0KGgoAAAANSUhEUgAAAEgAAABICAYAAABV7bNHAAADoklEQVR4nO2bv08TYRjHe0e5lvZKoVAsUhEQCIPRhKCLMQZjjMTBxehCTGR20sXEODuY6KB/AIMmLOhmjBoXE0w06YCK4YdEQAHxCq2FQqF35/zct/Fp3pQO5vls3zff3F2/9+bp++u0c9pl11cltECA6MLgMfCsjOwQXVwMg6dnNEO082Uab+ZW5mfpFbnKf4wExCABMUhADP5q3kzTNKK3m2rAM9z3keiJeBd4Ci9aifZPlXjPrq3whIj0IAYJiEECYqhqDXKLRaJr8ziYs/ZMonvr18CTiiTpdXQNPK6j8oSI9CAGCYhBAmKQgBiqW6QdWpSNbBE8XzMJos/EZ8Gza9L3Gvbjz/D+IagiPYhBAmKQgBiqWoO8ozcjnQfL9M8WoocSn8GTT9D3GotE8F47O9imgPQgBgmIQQJikIAYqlyk6UBRX8+BJTDfSLTTj+9wK+mZqkdN8Pgs65/3LhfpQQwSEIMExFC5GqTTHQqt1CqfTXcanPUN8JgLh4jO2UHwBNtp7bKbSwwU5z3vXnGXQ3oQgwTEIAExSEAMSkVaD+OZHd8RWlyL0TqwGLPLRDuZLHhCFi2mi9sx8BxP0Ossx7rBE/T8SahuA0kPYpCAGCQghvJqkOfYipZsBcu3K3SS6evZAk/zeCfR0dd4ttDI7BE9aR0Ez6X2SaJnD/SBp85zHlJ1l0N6EIMExCABMUhADEoDRccMYFvXNtH3+5+B59byMNHRT834QBv0OumFRvCEOnaJzidw5UCP0FVGZwv/NMpBehCDBMQgATGoTVZzuK3rrtBVvQYdt5VPnJwheul9L3iiqV9EhxfwLLV3lbHQhDNR1wzRBg3rVDk7HdKDGCQgBgmIQQJiKK9Ie4vZmgWWlg9xoh8MnAfPzeQroq9fwA9Vgmm6gmhksJDmHYNouwFn6m4IB7MqSA9ikIAYJCAGpYGinf0DbY0TP4j+3ob1JTXSQfS9U+PguZO9SrSxgQO8mJ9OPAP1BfC4gVraoKl9dCc9iEECYpCAGCQgBrXzQSVmwfbKKtFtb/Dc4OPDdPD46OIoeO4O0ZXIl+mj4Bk0p4h+agzgI9bUQpsK0oMYJCAGCYihYmcUvVu72twieLqe01W+G5Fh8Dw8PUb0WOdb8GQdeq+chcdx2jY3iXYUz79ID2KQgBgkIAYJiGHfPmZx8rjtY6TmiO4u4oz/9tI1op+cnQFPbpdu+8Tf4aBQW/1NG+Rjlv1BAmKQgBj+AkNA4dzlKX3uAAAAAElFTkSuQmCC\" id=\"imagec1c73ce6c7\" transform=\"scale(1 -1)translate(0 -72)\" x=\"437.096226\" y=\"-110.33689\" width=\"72\" height=\"72\"/>\n   </g>\n   <g id=\"patch_73\">\n    <path d=\"M 437.096226 182.33689 \nL 437.096226 111.270852 \n\" style=\"fill: none; stroke: #000000; stroke-width: 0.8; stroke-linejoin: miter; stroke-linecap: square\"/>\n   </g>\n   <g id=\"patch_74\">\n    <path d=\"M 508.162264 182.33689 \nL 508.162264 111.270852 \n\" style=\"fill: none; stroke: #000000; stroke-width: 0.8; stroke-linejoin: miter; stroke-linecap: square\"/>\n   </g>\n   <g id=\"patch_75\">\n    <path d=\"M 437.096226 182.33689 \nL 508.162264 182.33689 \n\" style=\"fill: none; stroke: #000000; stroke-width: 0.8; stroke-linejoin: miter; stroke-linecap: square\"/>\n   </g>\n   <g id=\"patch_76\">\n    <path d=\"M 437.096226 111.270852 \nL 508.162264 111.270852 \n\" style=\"fill: none; stroke: #000000; stroke-width: 0.8; stroke-linejoin: miter; stroke-linecap: square\"/>\n   </g>\n   <g id=\"text_15\">\n    <!-- 7 -->\n    <g transform=\"translate(468.811745 105.270852)scale(0.12 -0.12)\">\n     <use xlink:href=\"#DejaVuSans-37\"/>\n    </g>\n   </g>\n  </g>\n  <g id=\"axes_16\">\n   <g id=\"patch_77\">\n    <path d=\"M 522.375472 182.33689 \nL 593.441509 182.33689 \nL 593.441509 111.270852 \nL 522.375472 111.270852 \nz\n\" style=\"fill: #ffffff\"/>\n   </g>\n   <g clip-path=\"url(#p544ee9e7c1)\">\n    <image xlink:href=\"data:image/png;base64,\niVBORw0KGgoAAAANSUhEUgAAAEgAAABICAYAAABV7bNHAAADv0lEQVR4nO2bS08TcRTF+wAplloqVJ6xkoqYIBGILgRMNBoT41IWxsSNH8Cdn8KP4M6FcWdY6MKwUQMmqDwEFSxghVJAXkXebWfG9ZnT5A7NYGJyf7vTnJlOTm9u/6/x3vT2Wh4X8EcioDO3WsizdCeL16TLyNPUt4uekSnymPv7xTxiUfj+2Tf9p2hAAhqQgAYkUOLenfBWe1HO/mH7IGhfO/8/PM/cAB1LR8ljzqXwA8uV/5mCaAUJaEACGpCAaz3I2toCHUrlyTO62Qj6UUM/eZ629IA2IyH+snnb72oZDp/y8GgFCWhAAhqQgAYk4FqTNrM50BWJTfIMj8ZBf6v6Tp5gGGfqRvAYeXw+L2jLdPyYh0YrSEADEtCABNybrJq2wVr6N1mqhk+C/ni5iTwXahZBzzWeI094FFcirTwPSt1CK0hAAxLQgAQ0IAH3mrQN0za793g8nsgkbum8nWkmz73WT6CH23n7qHKkFj+YThZ4AHdm+FpBAhqQgAYkcGQ9yDK4B5T+XAIdHIqTZ/s8DgIbLqXJszWEPahiYYk85s6Oo+eU0AoS0IAENCABDUjgyJp0oe1gY20DdPQLn/Pp/4UDw7vxUfK86KwHHRo/xd8/kxSfxwlaQQIakIAGJHB0PagAVh53PsoSy+TxfoiB3o7xOcZw5yrovYFq8gRSuDJZ7LlGrSABDUhAAxLQgASKatLeEr7MVxm2mTh7M4Pb0cbKKnmiY3Wg31/jGf/1+gToV+1d5Il9xcZtphbI42TwqBUkoAEJaEACznqQF4+b+OtqybJ+Fc8fGse85KkewIGhmUyRJ5DECe38BE9Eq2PDoHMd2+TJvasC7VvkVUcnW9ZaQQIakIAGJKABCThs0phj9gy/YLLVi1vN0RA3zo0DHARGVjfI41nPgAwnuElv5IKge2Kz5PlR0wq6osDgVpu0C2hAAhqQgKMe5LWdS86F+LLuxknQtyPj5Hl88QHoUPI0efx7uOpolPGAM2f5QTeWcy+bqLD99n4/eZygFSSgAQloQAIakEBRA0WzlBvniRLcVukJ8JZOW9c06LEArxZavgDomma+T3cIVxT71jrIU3JgWy3UreejQQMS0IAEnPUg20DRwy3I8yePvaPaHyTPk9hL0K+rWsmzaZSD3jX4hbpni1dATwyeJU98KgPaymbJ4wStIAENSEADEtCABJw1aRMHWYHlA7K8+dwG+n4uQJ6siTPq8XQ9eXIr2KSPp3gWXpnAQ+rxqQIrk7NzIIt9K1ErSEADEtCABP4CqkrxThADjVIAAAAASUVORK5CYII=\" id=\"image7d84a22a4a\" transform=\"scale(1 -1)translate(0 -72)\" x=\"522.375472\" y=\"-110.33689\" width=\"72\" height=\"72\"/>\n   </g>\n   <g id=\"patch_78\">\n    <path d=\"M 522.375472 182.33689 \nL 522.375472 111.270852 \n\" style=\"fill: none; stroke: #000000; stroke-width: 0.8; stroke-linejoin: miter; stroke-linecap: square\"/>\n   </g>\n   <g id=\"patch_79\">\n    <path d=\"M 593.441509 182.33689 \nL 593.441509 111.270852 \n\" style=\"fill: none; stroke: #000000; stroke-width: 0.8; stroke-linejoin: miter; stroke-linecap: square\"/>\n   </g>\n   <g id=\"patch_80\">\n    <path d=\"M 522.375472 182.33689 \nL 593.441509 182.33689 \n\" style=\"fill: none; stroke: #000000; stroke-width: 0.8; stroke-linejoin: miter; stroke-linecap: square\"/>\n   </g>\n   <g id=\"patch_81\">\n    <path d=\"M 522.375472 111.270852 \nL 593.441509 111.270852 \n\" style=\"fill: none; stroke: #000000; stroke-width: 0.8; stroke-linejoin: miter; stroke-linecap: square\"/>\n   </g>\n   <g id=\"text_16\">\n    <!-- 7 -->\n    <g transform=\"translate(554.090991 105.270852)scale(0.12 -0.12)\">\n     <use xlink:href=\"#DejaVuSans-37\"/>\n    </g>\n   </g>\n  </g>\n  <g id=\"axes_17\">\n   <g id=\"patch_82\">\n    <path d=\"M 607.654717 182.33689 \nL 678.720755 182.33689 \nL 678.720755 111.270852 \nL 607.654717 111.270852 \nz\n\" style=\"fill: #ffffff\"/>\n   </g>\n   <g clip-path=\"url(#p737b947e35)\">\n    <image xlink:href=\"data:image/png;base64,\niVBORw0KGgoAAAANSUhEUgAAAEgAAABICAYAAABV7bNHAAAD8UlEQVR4nO2cTU8TYRSFZ6YtUGhpKSmUT6NoRBIjC4M7DQiJrkyMC12Z+C/8Hya68weYmLhgIRtiIGJUiCEaQdAAhZaPylcLlrbTcX3mTHIrFhZ6n92ZHCaTw5ubd+59p+awec8xTgArHKZrueE+0Jv3f5EnHsmB3h1PkKf75Tpo+/syP0DZruQxRayq3OUfRgMS0IAENCABf9XuZJogrViULNu9PtCP+qbIY5ll0E/7+D7FdxHQviUfeRwt0qeDBiSgAQlUrwa5cGoCdK0YwT1pMh8jz+jsZdDRmRryBLYyoMtOmTzVQleQgAYkoAEJaEACJ1ak3RtHwzAMx/XvyBQayBOax6LcNp4hj7O8htquzqbQC11BAhqQgAYkcLo1yIcbxaCvyB7Xn5n7B+SxDw9df3QiTVHDMHQFiWhAAhqQgAYkcHJF2qNwmiWswJEAj33yLfhm7oTrq/tcf4iuIAENSEADEqheDXLVHHM/R5b69VbxNg09e6ALCR5h+xexW+kUC5U84bHQFSSgAQloQAIakMDxirTHm7phYtblg0OyhJPY+Vs9jJJnsGsB9Ju+AfK0L8RB21seXcdiyXXBYzRUQRdAV5CABiSgAQlUVIOsenxhtBIt5LFjIdDFMI+Mc+14TKXOVyLP3aaPoCdunSPPmnUGdPRHO3lqt/Kg/Sub5LEzP0E7JX4eXUECGpCABiSgAQmY7oPk7oJsGIZh918AvTrEI+PCJewORhp5XNMfT4F+2DJJnut1qFdK3BV4voObx7F0L3nS33Az2f2aN4r1bxdB2zs75NEVJKABCWhAAn463xxpJFP6KtacoTvT5HnQjGeeJw8ukmd6rxv0k9RN8qTiM6BvN/DkozWAXcdsvpY87hm2XeuxFiyPl263RXT852hAAhqQgAYk4Hd31Zz8EZmCGdxkeZ0tTBabQT97f4M8rePYPPB5TGseD/XghcEX5BnL4JeLNaNR8pz/jB3NQJK7jrbHaMqNriABDUhAAxKgjmI5myVT06dt0NMTvAnsGNnFCx57sOg8vsBaKxvkKYSwBs1e6yJPIojPmM7xdML/dQl0aW+fH0inGn+PBiSgAQloQAJUpL1GH+6PR1pm+EvBLwNtoENNPHq26/Ct28zyRi28iofLpzJnyTPSOgd6opP/z7FgEC94FekK0BUkoAEJaEACFY2enSN8gW1Yy5Nnfq4DtO+Afw3Bn8VOIB1RMQyjNoV1aX6Ofx5nM4Y18aiZN3xOqDrnq3UFCWhAAhqQgAYkUFmRdn1V7F9MkafnRSdoy6MzaS6nQZdL/MWhtYFnduIfmsjzKnQFdGOaWwdmge99HHQFCWhAAhqQwG+FCQwHeqCCrAAAAABJRU5ErkJggg==\" id=\"image01e2585334\" transform=\"scale(1 -1)translate(0 -72)\" x=\"607.654717\" y=\"-110.33689\" width=\"72\" height=\"72\"/>\n   </g>\n   <g id=\"patch_83\">\n    <path d=\"M 607.654717 182.33689 \nL 607.654717 111.270852 \n\" style=\"fill: none; stroke: #000000; stroke-width: 0.8; stroke-linejoin: miter; stroke-linecap: square\"/>\n   </g>\n   <g id=\"patch_84\">\n    <path d=\"M 678.720755 182.33689 \nL 678.720755 111.270852 \n\" style=\"fill: none; stroke: #000000; stroke-width: 0.8; stroke-linejoin: miter; stroke-linecap: square\"/>\n   </g>\n   <g id=\"patch_85\">\n    <path d=\"M 607.654717 182.33689 \nL 678.720755 182.33689 \n\" style=\"fill: none; stroke: #000000; stroke-width: 0.8; stroke-linejoin: miter; stroke-linecap: square\"/>\n   </g>\n   <g id=\"patch_86\">\n    <path d=\"M 607.654717 111.270852 \nL 678.720755 111.270852 \n\" style=\"fill: none; stroke: #000000; stroke-width: 0.8; stroke-linejoin: miter; stroke-linecap: square\"/>\n   </g>\n   <g id=\"text_17\">\n    <!-- 4 -->\n    <g transform=\"translate(639.370236 105.270852)scale(0.12 -0.12)\">\n     <use xlink:href=\"#DejaVuSans-34\"/>\n    </g>\n   </g>\n  </g>\n  <g id=\"axes_18\">\n   <g id=\"patch_87\">\n    <path d=\"M 692.933962 182.33689 \nL 764 182.33689 \nL 764 111.270852 \nL 692.933962 111.270852 \nz\n\" style=\"fill: #ffffff\"/>\n   </g>\n   <g clip-path=\"url(#pb2962b2d18)\">\n    <image xlink:href=\"data:image/png;base64,\niVBORw0KGgoAAAANSUhEUgAAAEgAAABICAYAAABV7bNHAAAFIElEQVR4nO2cW0ybdRjGv6/9Ssuh9DBoOWyUMQSGIKgjhGkYWZhL9GIxmOiFJku8MprMxAsvjNHEC0002b2JcfHGeOGiYdHoIsNkzmWRw2DMAduAjUPDqQVW2tLy1eunD8kL177P3fPPj7Y8/Hm/t//3a81e87WccUCZrgJac1aFwW+1VxKz1myBTzaliGmOLIF3mPzy7sxVgS8Z9RBTPRDHhXsPibFT/Pz5cojE/1wakCANSJAGJMiSEcMwLcQctYeJWTxbAT51aouY8tIn4AutDDH13hXwJ73TxJRWY3G9dOwFYu5lmsBXrx4ixl5YxIUcXxB0BwnSgARpQIL2VYMcgQD4lRfDxIRefQT+uD9KzC+/dYAvG+P/+eslR8D397QSc7HzB/Dnw38R805bHb6+f8qIcaysgs+l08zQigqkAQnSgARpQIK4SJsmU2V+sLGnubh+cBgL5dwOF0XPGj524NYSMUZ6B19gqoaQSzXYGH5a009MT8sk+ImGFmLKporB72qRPrg0IEEakKA9atAemTlwzXYx4nHgG8/OogfEfNPRBX59sYKYwOgaeO8sn/qNTEXAR6u8xDQVY6M6HOCG0yzIOxndo/7qDhKkAQnSgARpQIK4SOdsWjLX4uCD40Fivn6mG/xHkSvEfP7cT+Av+nuJmWnAwl0U5abULMCGLpr1ETO0gQ1m4Sr/XrlUXmOoJ4oHlwYkSAMSZO5n9Jw/at5rqrGUN9Wo7Jsl5sujP4J3mVwXrmxhQ3dro5aYFi9OI2KZImL6r3aCP/Z9nJjcXWxmc5kdYnQHCdKABGlAgjQgQfs6UTSdmKOZ3SWmOIprkws8GlqLFILv5tt6jHcDeBL4pm+cmMdZPE64MPkGMYdu47XHXFgmxs7y6DtfuoMEaUCCNCBBluFwwoIz6Cco04Tj4OUObswSJ5LgX28e4sfJ4XMNJrlHDTqxltVZTmLqrCz47vB9Yi43YePqu19FjCOJp5V2IsEMrahAGpAgDUiQBiTIskI4Io6dOkrQ0hksiqdbxogJuzfBz6f8xFyYwYYusVxMjMuPhfNcAzeKbwX/Bn8+zxuGYTx5xQ3+V/cJYmqLGvC5R3hUpTtIkAYkSAMSZCVb8HRwvY+bpa/afwbvcfDJ28d3z4G3r/J9yeEJnCK4YvxcWR/Wjt/bu4j580w9+E8a+faX98oHwYde5vu2v3X3gH9qO0KM7iBBGpAgDUiQBiTISgfxdK6lco6gkx4cs2zl+NTR7cJm0vU4y8x8HBec/Pcp2MZCHsryaCi+ic3t+718ovjZ83hh6SsdJubms9gUx27w/ZC6gwRpQII0IEFWySw2a0MTdQQNhLCBanfPE+POOwlMlvJJ4FYvTjoSR/hE0ZnG+mbuMXjwPsKf84zyCed3ldhgvl19nZi5GH5IJ7TOdVN3kCANSJAGJEgDEmQ5p7HgVg00EvRF+Cz4tvAiMfPjOGbx87dXGLsvxcB/2HiNGGfePUMz6XJiLj9sA2/b3Li2+vE1/rHRTEzuph+85wFffHQHCdKABGlAgqzdDZxG+O6sE5S4hm8Oxyw/MZFRfJOZ8XKjmN/zuUxuzNo9WAdOF/HX2nS14qh5eLuWmOntEPjB4ePE1N/Acbkd5VtkdAcJ0oAEaUCCNCBBdCO5o5jHwY688bRh8ymfvR7HBw7zp56Xe7CZjHNParjr8KLRWsGfjN7cwZsb/52qJsY3gSel5SNJYlzjeAHYjW8QoztIkAYkSAMS9B/GbVEzRhtQGwAAAABJRU5ErkJggg==\" id=\"image2f950d6bbb\" transform=\"scale(1 -1)translate(0 -72)\" x=\"692.933962\" y=\"-110.33689\" width=\"72\" height=\"72\"/>\n   </g>\n   <g id=\"patch_88\">\n    <path d=\"M 692.933962 182.33689 \nL 692.933962 111.270852 \n\" style=\"fill: none; stroke: #000000; stroke-width: 0.8; stroke-linejoin: miter; stroke-linecap: square\"/>\n   </g>\n   <g id=\"patch_89\">\n    <path d=\"M 764 182.33689 \nL 764 111.270852 \n\" style=\"fill: none; stroke: #000000; stroke-width: 0.8; stroke-linejoin: miter; stroke-linecap: square\"/>\n   </g>\n   <g id=\"patch_90\">\n    <path d=\"M 692.933962 182.33689 \nL 764 182.33689 \n\" style=\"fill: none; stroke: #000000; stroke-width: 0.8; stroke-linejoin: miter; stroke-linecap: square\"/>\n   </g>\n   <g id=\"patch_91\">\n    <path d=\"M 692.933962 111.270852 \nL 764 111.270852 \n\" style=\"fill: none; stroke: #000000; stroke-width: 0.8; stroke-linejoin: miter; stroke-linecap: square\"/>\n   </g>\n   <g id=\"text_18\">\n    <!-- 8 -->\n    <g transform=\"translate(724.649481 105.270852)scale(0.12 -0.12)\">\n     <defs>\n      <path id=\"DejaVuSans-38\" d=\"M 2034 2216 \nQ 1584 2216 1326 1975 \nQ 1069 1734 1069 1313 \nQ 1069 891 1326 650 \nQ 1584 409 2034 409 \nQ 2484 409 2743 651 \nQ 3003 894 3003 1313 \nQ 3003 1734 2745 1975 \nQ 2488 2216 2034 2216 \nz\nM 1403 2484 \nQ 997 2584 770 2862 \nQ 544 3141 544 3541 \nQ 544 4100 942 4425 \nQ 1341 4750 2034 4750 \nQ 2731 4750 3128 4425 \nQ 3525 4100 3525 3541 \nQ 3525 3141 3298 2862 \nQ 3072 2584 2669 2484 \nQ 3125 2378 3379 2068 \nQ 3634 1759 3634 1313 \nQ 3634 634 3220 271 \nQ 2806 -91 2034 -91 \nQ 1263 -91 848 271 \nQ 434 634 434 1313 \nQ 434 1759 690 2068 \nQ 947 2378 1403 2484 \nz\nM 1172 3481 \nQ 1172 3119 1398 2916 \nQ 1625 2713 2034 2713 \nQ 2441 2713 2670 2916 \nQ 2900 3119 2900 3481 \nQ 2900 3844 2670 4047 \nQ 2441 4250 2034 4250 \nQ 1625 4250 1398 4047 \nQ 1172 3844 1172 3481 \nz\n\" transform=\"scale(0.015625)\"/>\n     </defs>\n     <use xlink:href=\"#DejaVuSans-38\"/>\n    </g>\n   </g>\n  </g>\n </g>\n <defs>\n  <clipPath id=\"p295ed3e796\">\n   <rect x=\"10.7\" y=\"22.318125\" width=\"71.066038\" height=\"71.066038\"/>\n  </clipPath>\n  <clipPath id=\"pbaf98b3dd4\">\n   <rect x=\"95.979245\" y=\"22.318125\" width=\"71.066038\" height=\"71.066038\"/>\n  </clipPath>\n  <clipPath id=\"p8ead3e8e5a\">\n   <rect x=\"181.258491\" y=\"22.318125\" width=\"71.066038\" height=\"71.066038\"/>\n  </clipPath>\n  <clipPath id=\"p78d0bc5103\">\n   <rect x=\"266.537736\" y=\"22.318125\" width=\"71.066038\" height=\"71.066038\"/>\n  </clipPath>\n  <clipPath id=\"pedeb943d80\">\n   <rect x=\"351.816981\" y=\"22.318125\" width=\"71.066038\" height=\"71.066038\"/>\n  </clipPath>\n  <clipPath id=\"p99ed8f1031\">\n   <rect x=\"437.096226\" y=\"22.318125\" width=\"71.066038\" height=\"71.066038\"/>\n  </clipPath>\n  <clipPath id=\"p8d9d54629a\">\n   <rect x=\"522.375472\" y=\"22.318125\" width=\"71.066038\" height=\"71.066038\"/>\n  </clipPath>\n  <clipPath id=\"p8b49d31114\">\n   <rect x=\"607.654717\" y=\"22.318125\" width=\"71.066038\" height=\"71.066038\"/>\n  </clipPath>\n  <clipPath id=\"p3789556344\">\n   <rect x=\"692.933962\" y=\"22.318125\" width=\"71.066038\" height=\"71.066038\"/>\n  </clipPath>\n  <clipPath id=\"p420ed68418\">\n   <rect x=\"10.7\" y=\"111.270852\" width=\"71.066038\" height=\"71.066038\"/>\n  </clipPath>\n  <clipPath id=\"p45fb02f3d4\">\n   <rect x=\"95.979245\" y=\"111.270852\" width=\"71.066038\" height=\"71.066038\"/>\n  </clipPath>\n  <clipPath id=\"p76af7a3f59\">\n   <rect x=\"181.258491\" y=\"111.270852\" width=\"71.066038\" height=\"71.066038\"/>\n  </clipPath>\n  <clipPath id=\"p77155b7cef\">\n   <rect x=\"266.537736\" y=\"111.270852\" width=\"71.066038\" height=\"71.066038\"/>\n  </clipPath>\n  <clipPath id=\"pf1317fac7c\">\n   <rect x=\"351.816981\" y=\"111.270852\" width=\"71.066038\" height=\"71.066038\"/>\n  </clipPath>\n  <clipPath id=\"p0a8a1a2d57\">\n   <rect x=\"437.096226\" y=\"111.270852\" width=\"71.066038\" height=\"71.066038\"/>\n  </clipPath>\n  <clipPath id=\"p544ee9e7c1\">\n   <rect x=\"522.375472\" y=\"111.270852\" width=\"71.066038\" height=\"71.066038\"/>\n  </clipPath>\n  <clipPath id=\"p737b947e35\">\n   <rect x=\"607.654717\" y=\"111.270852\" width=\"71.066038\" height=\"71.066038\"/>\n  </clipPath>\n  <clipPath id=\"pb2962b2d18\">\n   <rect x=\"692.933962\" y=\"111.270852\" width=\"71.066038\" height=\"71.066038\"/>\n  </clipPath>\n </defs>\n</svg>\n"
          },
          "metadata": {
            "needs_background": "light"
          }
        }
      ]
    },
    {
      "cell_type": "code",
      "source": [
        "batch_size = 256\n",
        "def get_dataloader_workers():\n",
        "  return 4\n",
        "\n",
        "train_iter = data.DataLoader(USPS_train, batch_size, shuffle=True,\n",
        "num_workers=get_dataloader_workers())"
      ],
      "metadata": {
        "colab": {
          "base_uri": "https://localhost:8080/"
        },
        "id": "HuVBwYCKGfaE",
        "outputId": "b0b5d481-04eb-4f7d-8f48-386c581770e5"
      },
      "execution_count": 24,
      "outputs": [
        {
          "output_type": "stream",
          "name": "stderr",
          "text": [
            "/usr/local/lib/python3.7/dist-packages/torch/utils/data/dataloader.py:560: UserWarning: This DataLoader will create 4 worker processes in total. Our suggested max number of worker in current system is 2, which is smaller than what this DataLoader is going to create. Please be aware that excessive worker creation might get DataLoader running slow or even freeze, lower the worker number to avoid potential slowness/freeze if necessary.\n",
            "  cpuset_checked))\n"
          ]
        }
      ]
    },
    {
      "cell_type": "code",
      "source": [
        "timer = d2l.Timer()\n",
        "for X, y in train_iter:\n",
        "  continue\n",
        "f'{timer.stop():.2f} sec'"
      ],
      "metadata": {
        "colab": {
          "base_uri": "https://localhost:8080/",
          "height": 93
        },
        "id": "fs4e7T4DIT4d",
        "outputId": "56ce78e0-9e94-4611-b866-e87df4449c86"
      },
      "execution_count": 25,
      "outputs": [
        {
          "output_type": "stream",
          "name": "stderr",
          "text": [
            "/usr/local/lib/python3.7/dist-packages/torch/utils/data/dataloader.py:560: UserWarning: This DataLoader will create 4 worker processes in total. Our suggested max number of worker in current system is 2, which is smaller than what this DataLoader is going to create. Please be aware that excessive worker creation might get DataLoader running slow or even freeze, lower the worker number to avoid potential slowness/freeze if necessary.\n",
            "  cpuset_checked))\n"
          ]
        },
        {
          "output_type": "execute_result",
          "data": {
            "text/plain": [
              "'0.75 sec'"
            ],
            "application/vnd.google.colaboratory.intrinsic+json": {
              "type": "string"
            }
          },
          "metadata": {},
          "execution_count": 25
        }
      ]
    },
    {
      "cell_type": "code",
      "source": [
        "def load_data_USPS(batch_size, resize=None):\n",
        "  trans = [transforms.ToTensor()]\n",
        "  if resize:\n",
        "    trans.insert(0, transforms.Resize(resize))\n",
        "  trans = transforms.Compose(trans)\n",
        "  USPS_train = torchvision.datasets.USPS(\n",
        "    root=\"../data\", train=True, transform=trans, download=True)\n",
        "  USPS_test = torchvision.datasets.USPS(\n",
        "    root=\"../data\", train=False, transform=trans, download=True)\n",
        "  return (data.DataLoader(USPS_train, batch_size, shuffle=True,\n",
        "num_workers=get_dataloader_workers()),\n",
        "data.DataLoader(USPS_test, batch_size, shuffle=False,\n",
        "num_workers=get_dataloader_workers()))"
      ],
      "metadata": {
        "id": "G9A59AWJIcrf"
      },
      "execution_count": 28,
      "outputs": []
    },
    {
      "cell_type": "code",
      "source": [
        "train_iter, test_iter = load_data_USPS(32, resize=64)\n",
        "for X, y in train_iter:\n",
        "  print(X.shape, X.dtype, y.shape, y.dtype)\n",
        "  break"
      ],
      "metadata": {
        "colab": {
          "base_uri": "https://localhost:8080/"
        },
        "id": "_gNdRKGXPQdt",
        "outputId": "a26c0e33-3612-4a0b-d86a-91066fb53dc5"
      },
      "execution_count": 29,
      "outputs": [
        {
          "output_type": "stream",
          "name": "stderr",
          "text": [
            "/usr/local/lib/python3.7/dist-packages/torch/utils/data/dataloader.py:560: UserWarning: This DataLoader will create 4 worker processes in total. Our suggested max number of worker in current system is 2, which is smaller than what this DataLoader is going to create. Please be aware that excessive worker creation might get DataLoader running slow or even freeze, lower the worker number to avoid potential slowness/freeze if necessary.\n",
            "  cpuset_checked))\n"
          ]
        },
        {
          "output_type": "stream",
          "name": "stdout",
          "text": [
            "torch.Size([32, 1, 64, 64]) torch.float32 torch.Size([32]) torch.int64\n"
          ]
        }
      ]
    },
    {
      "cell_type": "code",
      "source": [
        "import torch\n",
        "from IPython import display\n",
        "from d2l import torch as d2l"
      ],
      "metadata": {
        "id": "4ofoGg6RPZi9"
      },
      "execution_count": 30,
      "outputs": []
    },
    {
      "cell_type": "code",
      "source": [
        "batch_size = 256\n",
        "train_iter, test_iter = load_data_USPS(batch_size)"
      ],
      "metadata": {
        "colab": {
          "base_uri": "https://localhost:8080/"
        },
        "id": "Mbqv_c85PkOT",
        "outputId": "98d60534-5074-437a-f327-59ec67262790"
      },
      "execution_count": 31,
      "outputs": [
        {
          "output_type": "stream",
          "name": "stderr",
          "text": [
            "/usr/local/lib/python3.7/dist-packages/torch/utils/data/dataloader.py:560: UserWarning: This DataLoader will create 4 worker processes in total. Our suggested max number of worker in current system is 2, which is smaller than what this DataLoader is going to create. Please be aware that excessive worker creation might get DataLoader running slow or even freeze, lower the worker number to avoid potential slowness/freeze if necessary.\n",
            "  cpuset_checked))\n"
          ]
        }
      ]
    },
    {
      "cell_type": "code",
      "source": [
        "num_inputs = 784\n",
        "num_outputs = 10\n",
        "W = torch.normal(0, 0.01, size=(num_inputs, num_outputs), requires_grad=True)\n",
        "b = torch.zeros(num_outputs, requires_grad=True)"
      ],
      "metadata": {
        "id": "HUhEi3xPPly4"
      },
      "execution_count": 32,
      "outputs": []
    },
    {
      "cell_type": "code",
      "source": [
        "def softmax(X):\n",
        "  X_exp = torch.exp(X)\n",
        "  partition = X_exp.sum(1, keepdim=True)\n",
        "  return X_exp / partition"
      ],
      "metadata": {
        "id": "EeVR7OqYQZHo"
      },
      "execution_count": 33,
      "outputs": []
    },
    {
      "cell_type": "code",
      "source": [
        "X = torch.normal(0, 1, (2, 5))\n",
        "X_prob = softmax(X)\n",
        "X_prob, X_prob.sum(1)"
      ],
      "metadata": {
        "colab": {
          "base_uri": "https://localhost:8080/"
        },
        "id": "ot5uA8bXQcGz",
        "outputId": "74f00bdc-2e7b-4db4-bd28-34c5e26fdaa6"
      },
      "execution_count": 34,
      "outputs": [
        {
          "output_type": "execute_result",
          "data": {
            "text/plain": [
              "(tensor([[0.2540, 0.1081, 0.1465, 0.1356, 0.3558],\n",
              "         [0.2014, 0.0885, 0.1238, 0.3721, 0.2141]]), tensor([1.0000, 1.0000]))"
            ]
          },
          "metadata": {},
          "execution_count": 34
        }
      ]
    },
    {
      "cell_type": "code",
      "source": [
        "def net(X):\n",
        "  return softmax(torch.matmul(X.reshape((-1, W.shape[0])), W) + b)"
      ],
      "metadata": {
        "id": "77MAK_O0Qieq"
      },
      "execution_count": 35,
      "outputs": []
    },
    {
      "cell_type": "code",
      "source": [
        "y = torch.tensor([0, 2])\n",
        "y_hat = torch.tensor([[0.1, 0.3, 0.6], [0.3, 0.2, 0.5]])\n",
        "y_hat[[0, 1], y]"
      ],
      "metadata": {
        "colab": {
          "base_uri": "https://localhost:8080/"
        },
        "id": "XQCviSvZQlii",
        "outputId": "214f41f0-bf61-4298-b53f-687b5f4d45d7"
      },
      "execution_count": 36,
      "outputs": [
        {
          "output_type": "execute_result",
          "data": {
            "text/plain": [
              "tensor([0.1000, 0.5000])"
            ]
          },
          "metadata": {},
          "execution_count": 36
        }
      ]
    },
    {
      "cell_type": "code",
      "source": [
        "def cross_entropy(y_hat, y):\n",
        "  return - torch.log(y_hat[range(len(y_hat)), y])\n",
        "\n",
        "cross_entropy(y_hat, y)"
      ],
      "metadata": {
        "colab": {
          "base_uri": "https://localhost:8080/"
        },
        "id": "BhOP53RVQmHK",
        "outputId": "0fa52a50-4dcb-4bd8-a5d8-237d2c0e29f6"
      },
      "execution_count": 37,
      "outputs": [
        {
          "output_type": "execute_result",
          "data": {
            "text/plain": [
              "tensor([2.3026, 0.6931])"
            ]
          },
          "metadata": {},
          "execution_count": 37
        }
      ]
    },
    {
      "cell_type": "code",
      "source": [
        "def evaluate_accuracy(net, data_iter):\n",
        "  if isinstance(net, torch.nn.Module):\n",
        "    net.eval() # Set the model to evaluation mode\n",
        "  metric = Accumulator(2) # No. of correct predictions, no. of predictions\n",
        "  with torch.no_grad():\n",
        "    for X, y in data_iter:\n",
        "      metric.add(d2l.accuracy(net(X), y), y.numel())\n",
        "  return metric[0] / metric[1]\n"
      ],
      "metadata": {
        "id": "qbe2kOxQQ0VS"
      },
      "execution_count": 38,
      "outputs": []
    },
    {
      "cell_type": "code",
      "source": [
        "class Accumulator:\n",
        "  def __init__(self, n):\n",
        "    self.data = [0.0] * n\n",
        "  def add(self, *args):\n",
        "    self.data = [a + float(b) for a, b in zip(self.data, args)]\n",
        "  def reset(self):\n",
        "    self.data = [0.0] * len(self.data)\n",
        "  def __getitem__(self, idx):\n",
        "    return self.data[idx]"
      ],
      "metadata": {
        "id": "xAcq5NCCQ9pM"
      },
      "execution_count": 39,
      "outputs": []
    },
    {
      "cell_type": "code",
      "source": [
        "evaluate_accuracy(net, test_iter)"
      ],
      "metadata": {
        "colab": {
          "base_uri": "https://localhost:8080/",
          "height": 332
        },
        "id": "FVjdjap-RH9W",
        "outputId": "87c64062-8f3e-4995-ec37-a739389deba1"
      },
      "execution_count": 40,
      "outputs": [
        {
          "output_type": "stream",
          "name": "stderr",
          "text": [
            "/usr/local/lib/python3.7/dist-packages/torch/utils/data/dataloader.py:560: UserWarning: This DataLoader will create 4 worker processes in total. Our suggested max number of worker in current system is 2, which is smaller than what this DataLoader is going to create. Please be aware that excessive worker creation might get DataLoader running slow or even freeze, lower the worker number to avoid potential slowness/freeze if necessary.\n",
            "  cpuset_checked))\n"
          ]
        },
        {
          "output_type": "error",
          "ename": "RuntimeError",
          "evalue": "ignored",
          "traceback": [
            "\u001b[0;31m---------------------------------------------------------------------------\u001b[0m",
            "\u001b[0;31mRuntimeError\u001b[0m                              Traceback (most recent call last)",
            "\u001b[0;32m<ipython-input-40-0bc1a4e17189>\u001b[0m in \u001b[0;36m<module>\u001b[0;34m()\u001b[0m\n\u001b[0;32m----> 1\u001b[0;31m \u001b[0mevaluate_accuracy\u001b[0m\u001b[0;34m(\u001b[0m\u001b[0mnet\u001b[0m\u001b[0;34m,\u001b[0m \u001b[0mtest_iter\u001b[0m\u001b[0;34m)\u001b[0m\u001b[0;34m\u001b[0m\u001b[0;34m\u001b[0m\u001b[0m\n\u001b[0m",
            "\u001b[0;32m<ipython-input-38-42aa9c44494f>\u001b[0m in \u001b[0;36mevaluate_accuracy\u001b[0;34m(net, data_iter)\u001b[0m\n\u001b[1;32m      5\u001b[0m   \u001b[0;32mwith\u001b[0m \u001b[0mtorch\u001b[0m\u001b[0;34m.\u001b[0m\u001b[0mno_grad\u001b[0m\u001b[0;34m(\u001b[0m\u001b[0;34m)\u001b[0m\u001b[0;34m:\u001b[0m\u001b[0;34m\u001b[0m\u001b[0;34m\u001b[0m\u001b[0m\n\u001b[1;32m      6\u001b[0m     \u001b[0;32mfor\u001b[0m \u001b[0mX\u001b[0m\u001b[0;34m,\u001b[0m \u001b[0my\u001b[0m \u001b[0;32min\u001b[0m \u001b[0mdata_iter\u001b[0m\u001b[0;34m:\u001b[0m\u001b[0;34m\u001b[0m\u001b[0;34m\u001b[0m\u001b[0m\n\u001b[0;32m----> 7\u001b[0;31m       \u001b[0mmetric\u001b[0m\u001b[0;34m.\u001b[0m\u001b[0madd\u001b[0m\u001b[0;34m(\u001b[0m\u001b[0md2l\u001b[0m\u001b[0;34m.\u001b[0m\u001b[0maccuracy\u001b[0m\u001b[0;34m(\u001b[0m\u001b[0mnet\u001b[0m\u001b[0;34m(\u001b[0m\u001b[0mX\u001b[0m\u001b[0;34m)\u001b[0m\u001b[0;34m,\u001b[0m \u001b[0my\u001b[0m\u001b[0;34m)\u001b[0m\u001b[0;34m,\u001b[0m \u001b[0my\u001b[0m\u001b[0;34m.\u001b[0m\u001b[0mnumel\u001b[0m\u001b[0;34m(\u001b[0m\u001b[0;34m)\u001b[0m\u001b[0;34m)\u001b[0m\u001b[0;34m\u001b[0m\u001b[0;34m\u001b[0m\u001b[0m\n\u001b[0m\u001b[1;32m      8\u001b[0m   \u001b[0;32mreturn\u001b[0m \u001b[0mmetric\u001b[0m\u001b[0;34m[\u001b[0m\u001b[0;36m0\u001b[0m\u001b[0;34m]\u001b[0m \u001b[0;34m/\u001b[0m \u001b[0mmetric\u001b[0m\u001b[0;34m[\u001b[0m\u001b[0;36m1\u001b[0m\u001b[0;34m]\u001b[0m\u001b[0;34m\u001b[0m\u001b[0;34m\u001b[0m\u001b[0m\n",
            "\u001b[0;32m<ipython-input-35-87519ab550d0>\u001b[0m in \u001b[0;36mnet\u001b[0;34m(X)\u001b[0m\n\u001b[1;32m      1\u001b[0m \u001b[0;32mdef\u001b[0m \u001b[0mnet\u001b[0m\u001b[0;34m(\u001b[0m\u001b[0mX\u001b[0m\u001b[0;34m)\u001b[0m\u001b[0;34m:\u001b[0m\u001b[0;34m\u001b[0m\u001b[0;34m\u001b[0m\u001b[0m\n\u001b[0;32m----> 2\u001b[0;31m   \u001b[0;32mreturn\u001b[0m \u001b[0msoftmax\u001b[0m\u001b[0;34m(\u001b[0m\u001b[0mtorch\u001b[0m\u001b[0;34m.\u001b[0m\u001b[0mmatmul\u001b[0m\u001b[0;34m(\u001b[0m\u001b[0mX\u001b[0m\u001b[0;34m.\u001b[0m\u001b[0mreshape\u001b[0m\u001b[0;34m(\u001b[0m\u001b[0;34m(\u001b[0m\u001b[0;34m-\u001b[0m\u001b[0;36m1\u001b[0m\u001b[0;34m,\u001b[0m \u001b[0mW\u001b[0m\u001b[0;34m.\u001b[0m\u001b[0mshape\u001b[0m\u001b[0;34m[\u001b[0m\u001b[0;36m0\u001b[0m\u001b[0;34m]\u001b[0m\u001b[0;34m)\u001b[0m\u001b[0;34m)\u001b[0m\u001b[0;34m,\u001b[0m \u001b[0mW\u001b[0m\u001b[0;34m)\u001b[0m \u001b[0;34m+\u001b[0m \u001b[0mb\u001b[0m\u001b[0;34m)\u001b[0m\u001b[0;34m\u001b[0m\u001b[0;34m\u001b[0m\u001b[0m\n\u001b[0m",
            "\u001b[0;31mRuntimeError\u001b[0m: shape '[-1, 784]' is invalid for input of size 65536"
          ]
        }
      ]
    },
    {
      "cell_type": "code",
      "source": [
        "def train_epoch_ch3(net, train_iter, loss, updater):\n",
        "  if isinstance(net, torch.nn.Module):\n",
        "    net.train()\n",
        "  # Sum of training loss, sum of training accuracy, no. of examples\n",
        "  metric = Accumulator(3)\n",
        "  for X, y in train_iter:\n",
        "    # Compute gradients and update parameters\n",
        "    y_hat = net(X)\n",
        "    l = loss(y_hat, y)\n",
        "    if isinstance(updater, torch.optim.Optimizer):\n",
        "      # Using PyTorch in-built optimizer & loss criterion\n",
        "      updater.zero_grad()\n",
        "      l.mean().backward()\n",
        "      updater.step()\n",
        "    else:\n",
        "      # Using custom built optimizer & loss criterion\n",
        "      l.sum().backward()\n",
        "      updater(X.shape[0])\n",
        "      metric.add(float(l.sum()), d2l.accuracy(y_hat, y), y.numel())\n",
        "  # Return training loss and training accuracy\n",
        "  return metric[0] / metric[2], metric[1] / metric[2]"
      ],
      "metadata": {
        "id": "ZZWKs5bQRIXF"
      },
      "execution_count": 41,
      "outputs": []
    },
    {
      "cell_type": "code",
      "source": [
        "class Animator:\n",
        "  def __init__(self, xlabel=None, ylabel=None, legend=None, xlim=None,\n",
        "               ylim=None, xscale='linear', yscale='linear',\n",
        "               fmts=('-', 'm--', 'g-.', 'r:'), nrows=1, ncols=1,\n",
        "               figsize=(3.5, 2.5)):\n",
        "    # Incrementally plot multiple lines\n",
        "    if legend is None:\n",
        "      legend = []\n",
        "    d2l.use_svg_display()\n",
        "    self.fig, self.axes = d2l.plt.subplots(nrows, ncols, figsize=figsize)\n",
        "    if nrows * ncols == 1:\n",
        "      self.axes = [self.axes, ]\n",
        "    # Use a lambda function to capture arguments\n",
        "    self.config_axes = lambda: d2l.set_axes(\n",
        "      self.axes[0], xlabel, ylabel, xlim, ylim, xscale, yscale, legend)\n",
        "    self.X, self.Y, self.fmts = None, None, fmts\n",
        "\n",
        "def add(self, x, y):\n",
        "  # Add multiple data points into the figure\n",
        "  if not hasattr(y, \"__len__\"):\n",
        "    y = [y]\n",
        "  n = len(y)\n",
        "  if not hasattr(x, \"__len__\"):\n",
        "    x = [x] * n\n",
        "  if not self.X:\n",
        "    self.X = [[] for _ in range(n)]\n",
        "  if not self.Y:\n",
        "    self.Y = [[] for _ in range(n)]\n",
        "  for i, (a, b) in enumerate(zip(x, y)):\n",
        "    if a is not None and b is not None:\n",
        "      self.X[i].append(a)\n",
        "      self.Y[i].append(b)\n",
        "  self.axes[0].cla()\n",
        "  for x, y, fmt in zip(self.X, self.Y, self.fmts):\n",
        "    self.axes[0].plot(x, y, fmt)\n",
        "  self.config_axes()\n",
        "  display.display(self.fig)\n",
        "  display.clear_output(wait=True)"
      ],
      "metadata": {
        "id": "q_wvYnSpSmGQ"
      },
      "execution_count": 42,
      "outputs": []
    },
    {
      "cell_type": "code",
      "source": [
        "def train_ch3(net, train_iter, test_iter, loss, num_epochs, updater):\n",
        "  animator = Animator(xlabel='epoch', xlim=[1, num_epochs], ylim=[0.3, 0.9],\n",
        "                      legend=['train loss', 'train acc', 'test acc'])\n",
        "  for epoch in range(num_epochs):\n",
        "    train_metrics = train_epoch_ch3(net, train_iter, loss, updater)\n",
        "    test_acc = evaluate_accuracy(net, test_iter)\n",
        "    animator.add(epoch + 1, train_metrics + (test_acc,))\n",
        "  train_loss, train_acc = train_metrics\n",
        "  assert train_loss < 0.5, train_loss\n",
        "  assert train_acc <= 1 and train_acc > 0.7, train_acc\n",
        "  assert test_acc <= 1 and test_acc > 0.7, test_acc"
      ],
      "metadata": {
        "id": "jkLc-_6ig9nc"
      },
      "execution_count": 43,
      "outputs": []
    },
    {
      "cell_type": "code",
      "source": [
        "lr = 0.1\n",
        "\n",
        "def updater(batch_size):\n",
        "  return d2l.sgd([W, b], lr, batch_size)"
      ],
      "metadata": {
        "id": "zPndfRZ_h8_x"
      },
      "execution_count": 44,
      "outputs": []
    },
    {
      "cell_type": "code",
      "source": [
        "num_epochs = 10\n",
        "train_ch3(net, train_iter, test_iter, cross_entropy, num_epochs, updater)"
      ],
      "metadata": {
        "id": "ayuqaBLKiAAP",
        "colab": {
          "base_uri": "https://localhost:8080/",
          "height": 581
        },
        "outputId": "a33eb6af-70d7-43d0-987e-395349af3005"
      },
      "execution_count": 45,
      "outputs": [
        {
          "output_type": "stream",
          "name": "stderr",
          "text": [
            "/usr/local/lib/python3.7/dist-packages/torch/utils/data/dataloader.py:560: UserWarning: This DataLoader will create 4 worker processes in total. Our suggested max number of worker in current system is 2, which is smaller than what this DataLoader is going to create. Please be aware that excessive worker creation might get DataLoader running slow or even freeze, lower the worker number to avoid potential slowness/freeze if necessary.\n",
            "  cpuset_checked))\n"
          ]
        },
        {
          "output_type": "error",
          "ename": "RuntimeError",
          "evalue": "ignored",
          "traceback": [
            "\u001b[0;31m---------------------------------------------------------------------------\u001b[0m",
            "\u001b[0;31mRuntimeError\u001b[0m                              Traceback (most recent call last)",
            "\u001b[0;32m<ipython-input-45-a66acf440358>\u001b[0m in \u001b[0;36m<module>\u001b[0;34m()\u001b[0m\n\u001b[1;32m      1\u001b[0m \u001b[0mnum_epochs\u001b[0m \u001b[0;34m=\u001b[0m \u001b[0;36m10\u001b[0m\u001b[0;34m\u001b[0m\u001b[0;34m\u001b[0m\u001b[0m\n\u001b[0;32m----> 2\u001b[0;31m \u001b[0mtrain_ch3\u001b[0m\u001b[0;34m(\u001b[0m\u001b[0mnet\u001b[0m\u001b[0;34m,\u001b[0m \u001b[0mtrain_iter\u001b[0m\u001b[0;34m,\u001b[0m \u001b[0mtest_iter\u001b[0m\u001b[0;34m,\u001b[0m \u001b[0mcross_entropy\u001b[0m\u001b[0;34m,\u001b[0m \u001b[0mnum_epochs\u001b[0m\u001b[0;34m,\u001b[0m \u001b[0mupdater\u001b[0m\u001b[0;34m)\u001b[0m\u001b[0;34m\u001b[0m\u001b[0;34m\u001b[0m\u001b[0m\n\u001b[0m",
            "\u001b[0;32m<ipython-input-43-8d4a923e0187>\u001b[0m in \u001b[0;36mtrain_ch3\u001b[0;34m(net, train_iter, test_iter, loss, num_epochs, updater)\u001b[0m\n\u001b[1;32m      3\u001b[0m                       legend=['train loss', 'train acc', 'test acc'])\n\u001b[1;32m      4\u001b[0m   \u001b[0;32mfor\u001b[0m \u001b[0mepoch\u001b[0m \u001b[0;32min\u001b[0m \u001b[0mrange\u001b[0m\u001b[0;34m(\u001b[0m\u001b[0mnum_epochs\u001b[0m\u001b[0;34m)\u001b[0m\u001b[0;34m:\u001b[0m\u001b[0;34m\u001b[0m\u001b[0;34m\u001b[0m\u001b[0m\n\u001b[0;32m----> 5\u001b[0;31m     \u001b[0mtrain_metrics\u001b[0m \u001b[0;34m=\u001b[0m \u001b[0mtrain_epoch_ch3\u001b[0m\u001b[0;34m(\u001b[0m\u001b[0mnet\u001b[0m\u001b[0;34m,\u001b[0m \u001b[0mtrain_iter\u001b[0m\u001b[0;34m,\u001b[0m \u001b[0mloss\u001b[0m\u001b[0;34m,\u001b[0m \u001b[0mupdater\u001b[0m\u001b[0;34m)\u001b[0m\u001b[0;34m\u001b[0m\u001b[0;34m\u001b[0m\u001b[0m\n\u001b[0m\u001b[1;32m      6\u001b[0m     \u001b[0mtest_acc\u001b[0m \u001b[0;34m=\u001b[0m \u001b[0mevaluate_accuracy\u001b[0m\u001b[0;34m(\u001b[0m\u001b[0mnet\u001b[0m\u001b[0;34m,\u001b[0m \u001b[0mtest_iter\u001b[0m\u001b[0;34m)\u001b[0m\u001b[0;34m\u001b[0m\u001b[0;34m\u001b[0m\u001b[0m\n\u001b[1;32m      7\u001b[0m     \u001b[0manimator\u001b[0m\u001b[0;34m.\u001b[0m\u001b[0madd\u001b[0m\u001b[0;34m(\u001b[0m\u001b[0mepoch\u001b[0m \u001b[0;34m+\u001b[0m \u001b[0;36m1\u001b[0m\u001b[0;34m,\u001b[0m \u001b[0mtrain_metrics\u001b[0m \u001b[0;34m+\u001b[0m \u001b[0;34m(\u001b[0m\u001b[0mtest_acc\u001b[0m\u001b[0;34m,\u001b[0m\u001b[0;34m)\u001b[0m\u001b[0;34m)\u001b[0m\u001b[0;34m\u001b[0m\u001b[0;34m\u001b[0m\u001b[0m\n",
            "\u001b[0;32m<ipython-input-41-48f2ad21d3da>\u001b[0m in \u001b[0;36mtrain_epoch_ch3\u001b[0;34m(net, train_iter, loss, updater)\u001b[0m\n\u001b[1;32m      6\u001b[0m   \u001b[0;32mfor\u001b[0m \u001b[0mX\u001b[0m\u001b[0;34m,\u001b[0m \u001b[0my\u001b[0m \u001b[0;32min\u001b[0m \u001b[0mtrain_iter\u001b[0m\u001b[0;34m:\u001b[0m\u001b[0;34m\u001b[0m\u001b[0;34m\u001b[0m\u001b[0m\n\u001b[1;32m      7\u001b[0m     \u001b[0;31m# Compute gradients and update parameters\u001b[0m\u001b[0;34m\u001b[0m\u001b[0;34m\u001b[0m\u001b[0;34m\u001b[0m\u001b[0m\n\u001b[0;32m----> 8\u001b[0;31m     \u001b[0my_hat\u001b[0m \u001b[0;34m=\u001b[0m \u001b[0mnet\u001b[0m\u001b[0;34m(\u001b[0m\u001b[0mX\u001b[0m\u001b[0;34m)\u001b[0m\u001b[0;34m\u001b[0m\u001b[0;34m\u001b[0m\u001b[0m\n\u001b[0m\u001b[1;32m      9\u001b[0m     \u001b[0ml\u001b[0m \u001b[0;34m=\u001b[0m \u001b[0mloss\u001b[0m\u001b[0;34m(\u001b[0m\u001b[0my_hat\u001b[0m\u001b[0;34m,\u001b[0m \u001b[0my\u001b[0m\u001b[0;34m)\u001b[0m\u001b[0;34m\u001b[0m\u001b[0;34m\u001b[0m\u001b[0m\n\u001b[1;32m     10\u001b[0m     \u001b[0;32mif\u001b[0m \u001b[0misinstance\u001b[0m\u001b[0;34m(\u001b[0m\u001b[0mupdater\u001b[0m\u001b[0;34m,\u001b[0m \u001b[0mtorch\u001b[0m\u001b[0;34m.\u001b[0m\u001b[0moptim\u001b[0m\u001b[0;34m.\u001b[0m\u001b[0mOptimizer\u001b[0m\u001b[0;34m)\u001b[0m\u001b[0;34m:\u001b[0m\u001b[0;34m\u001b[0m\u001b[0;34m\u001b[0m\u001b[0m\n",
            "\u001b[0;32m<ipython-input-35-87519ab550d0>\u001b[0m in \u001b[0;36mnet\u001b[0;34m(X)\u001b[0m\n\u001b[1;32m      1\u001b[0m \u001b[0;32mdef\u001b[0m \u001b[0mnet\u001b[0m\u001b[0;34m(\u001b[0m\u001b[0mX\u001b[0m\u001b[0;34m)\u001b[0m\u001b[0;34m:\u001b[0m\u001b[0;34m\u001b[0m\u001b[0;34m\u001b[0m\u001b[0m\n\u001b[0;32m----> 2\u001b[0;31m   \u001b[0;32mreturn\u001b[0m \u001b[0msoftmax\u001b[0m\u001b[0;34m(\u001b[0m\u001b[0mtorch\u001b[0m\u001b[0;34m.\u001b[0m\u001b[0mmatmul\u001b[0m\u001b[0;34m(\u001b[0m\u001b[0mX\u001b[0m\u001b[0;34m.\u001b[0m\u001b[0mreshape\u001b[0m\u001b[0;34m(\u001b[0m\u001b[0;34m(\u001b[0m\u001b[0;34m-\u001b[0m\u001b[0;36m1\u001b[0m\u001b[0;34m,\u001b[0m \u001b[0mW\u001b[0m\u001b[0;34m.\u001b[0m\u001b[0mshape\u001b[0m\u001b[0;34m[\u001b[0m\u001b[0;36m0\u001b[0m\u001b[0;34m]\u001b[0m\u001b[0;34m)\u001b[0m\u001b[0;34m)\u001b[0m\u001b[0;34m,\u001b[0m \u001b[0mW\u001b[0m\u001b[0;34m)\u001b[0m \u001b[0;34m+\u001b[0m \u001b[0mb\u001b[0m\u001b[0;34m)\u001b[0m\u001b[0;34m\u001b[0m\u001b[0;34m\u001b[0m\u001b[0m\n\u001b[0m",
            "\u001b[0;31mRuntimeError\u001b[0m: shape '[-1, 784]' is invalid for input of size 65536"
          ]
        },
        {
          "output_type": "display_data",
          "data": {
            "text/plain": [
              "<Figure size 252x180 with 1 Axes>"
            ],
            "image/svg+xml": "<?xml version=\"1.0\" encoding=\"utf-8\" standalone=\"no\"?>\n<!DOCTYPE svg PUBLIC \"-//W3C//DTD SVG 1.1//EN\"\n  \"http://www.w3.org/Graphics/SVG/1.1/DTD/svg11.dtd\">\n<svg xmlns:xlink=\"http://www.w3.org/1999/xlink\" width=\"240.554688pt\" height=\"170.777344pt\" viewBox=\"0 0 240.554688 170.777344\" xmlns=\"http://www.w3.org/2000/svg\" version=\"1.1\">\n <metadata>\n  <rdf:RDF xmlns:dc=\"http://purl.org/dc/elements/1.1/\" xmlns:cc=\"http://creativecommons.org/ns#\" xmlns:rdf=\"http://www.w3.org/1999/02/22-rdf-syntax-ns#\">\n   <cc:Work>\n    <dc:type rdf:resource=\"http://purl.org/dc/dcmitype/StillImage\"/>\n    <dc:date>2022-07-19T11:57:16.196303</dc:date>\n    <dc:format>image/svg+xml</dc:format>\n    <dc:creator>\n     <cc:Agent>\n      <dc:title>Matplotlib v3.5.1, https://matplotlib.org/</dc:title>\n     </cc:Agent>\n    </dc:creator>\n   </cc:Work>\n  </rdf:RDF>\n </metadata>\n <defs>\n  <style type=\"text/css\">*{stroke-linejoin: round; stroke-linecap: butt}</style>\n </defs>\n <g id=\"figure_1\">\n  <g id=\"patch_1\">\n   <path d=\"M 0 170.777344 \nL 240.554688 170.777344 \nL 240.554688 0 \nL 0 0 \nL 0 170.777344 \nz\n\" style=\"fill: none\"/>\n  </g>\n  <g id=\"axes_1\">\n   <g id=\"patch_2\">\n    <path d=\"M 30.103125 146.899219 \nL 225.403125 146.899219 \nL 225.403125 10.999219 \nL 30.103125 10.999219 \nz\n\" style=\"fill: #ffffff\"/>\n   </g>\n   <g id=\"matplotlib.axis_1\">\n    <g id=\"xtick_1\">\n     <g id=\"line2d_1\">\n      <defs>\n       <path id=\"m301acac607\" d=\"M 0 0 \nL 0 3.5 \n\" style=\"stroke: #000000; stroke-width: 0.8\"/>\n      </defs>\n      <g>\n       <use xlink:href=\"#m301acac607\" x=\"30.103125\" y=\"146.899219\" style=\"stroke: #000000; stroke-width: 0.8\"/>\n      </g>\n     </g>\n     <g id=\"text_1\">\n      <!-- 0.0 -->\n      <g transform=\"translate(22.151563 161.497656)scale(0.1 -0.1)\">\n       <defs>\n        <path id=\"DejaVuSans-30\" d=\"M 2034 4250 \nQ 1547 4250 1301 3770 \nQ 1056 3291 1056 2328 \nQ 1056 1369 1301 889 \nQ 1547 409 2034 409 \nQ 2525 409 2770 889 \nQ 3016 1369 3016 2328 \nQ 3016 3291 2770 3770 \nQ 2525 4250 2034 4250 \nz\nM 2034 4750 \nQ 2819 4750 3233 4129 \nQ 3647 3509 3647 2328 \nQ 3647 1150 3233 529 \nQ 2819 -91 2034 -91 \nQ 1250 -91 836 529 \nQ 422 1150 422 2328 \nQ 422 3509 836 4129 \nQ 1250 4750 2034 4750 \nz\n\" transform=\"scale(0.015625)\"/>\n        <path id=\"DejaVuSans-2e\" d=\"M 684 794 \nL 1344 794 \nL 1344 0 \nL 684 0 \nL 684 794 \nz\n\" transform=\"scale(0.015625)\"/>\n       </defs>\n       <use xlink:href=\"#DejaVuSans-30\"/>\n       <use xlink:href=\"#DejaVuSans-2e\" x=\"63.623047\"/>\n       <use xlink:href=\"#DejaVuSans-30\" x=\"95.410156\"/>\n      </g>\n     </g>\n    </g>\n    <g id=\"xtick_2\">\n     <g id=\"line2d_2\">\n      <g>\n       <use xlink:href=\"#m301acac607\" x=\"69.163125\" y=\"146.899219\" style=\"stroke: #000000; stroke-width: 0.8\"/>\n      </g>\n     </g>\n     <g id=\"text_2\">\n      <!-- 0.2 -->\n      <g transform=\"translate(61.211563 161.497656)scale(0.1 -0.1)\">\n       <defs>\n        <path id=\"DejaVuSans-32\" d=\"M 1228 531 \nL 3431 531 \nL 3431 0 \nL 469 0 \nL 469 531 \nQ 828 903 1448 1529 \nQ 2069 2156 2228 2338 \nQ 2531 2678 2651 2914 \nQ 2772 3150 2772 3378 \nQ 2772 3750 2511 3984 \nQ 2250 4219 1831 4219 \nQ 1534 4219 1204 4116 \nQ 875 4013 500 3803 \nL 500 4441 \nQ 881 4594 1212 4672 \nQ 1544 4750 1819 4750 \nQ 2544 4750 2975 4387 \nQ 3406 4025 3406 3419 \nQ 3406 3131 3298 2873 \nQ 3191 2616 2906 2266 \nQ 2828 2175 2409 1742 \nQ 1991 1309 1228 531 \nz\n\" transform=\"scale(0.015625)\"/>\n       </defs>\n       <use xlink:href=\"#DejaVuSans-30\"/>\n       <use xlink:href=\"#DejaVuSans-2e\" x=\"63.623047\"/>\n       <use xlink:href=\"#DejaVuSans-32\" x=\"95.410156\"/>\n      </g>\n     </g>\n    </g>\n    <g id=\"xtick_3\">\n     <g id=\"line2d_3\">\n      <g>\n       <use xlink:href=\"#m301acac607\" x=\"108.223125\" y=\"146.899219\" style=\"stroke: #000000; stroke-width: 0.8\"/>\n      </g>\n     </g>\n     <g id=\"text_3\">\n      <!-- 0.4 -->\n      <g transform=\"translate(100.271563 161.497656)scale(0.1 -0.1)\">\n       <defs>\n        <path id=\"DejaVuSans-34\" d=\"M 2419 4116 \nL 825 1625 \nL 2419 1625 \nL 2419 4116 \nz\nM 2253 4666 \nL 3047 4666 \nL 3047 1625 \nL 3713 1625 \nL 3713 1100 \nL 3047 1100 \nL 3047 0 \nL 2419 0 \nL 2419 1100 \nL 313 1100 \nL 313 1709 \nL 2253 4666 \nz\n\" transform=\"scale(0.015625)\"/>\n       </defs>\n       <use xlink:href=\"#DejaVuSans-30\"/>\n       <use xlink:href=\"#DejaVuSans-2e\" x=\"63.623047\"/>\n       <use xlink:href=\"#DejaVuSans-34\" x=\"95.410156\"/>\n      </g>\n     </g>\n    </g>\n    <g id=\"xtick_4\">\n     <g id=\"line2d_4\">\n      <g>\n       <use xlink:href=\"#m301acac607\" x=\"147.283125\" y=\"146.899219\" style=\"stroke: #000000; stroke-width: 0.8\"/>\n      </g>\n     </g>\n     <g id=\"text_4\">\n      <!-- 0.6 -->\n      <g transform=\"translate(139.331563 161.497656)scale(0.1 -0.1)\">\n       <defs>\n        <path id=\"DejaVuSans-36\" d=\"M 2113 2584 \nQ 1688 2584 1439 2293 \nQ 1191 2003 1191 1497 \nQ 1191 994 1439 701 \nQ 1688 409 2113 409 \nQ 2538 409 2786 701 \nQ 3034 994 3034 1497 \nQ 3034 2003 2786 2293 \nQ 2538 2584 2113 2584 \nz\nM 3366 4563 \nL 3366 3988 \nQ 3128 4100 2886 4159 \nQ 2644 4219 2406 4219 \nQ 1781 4219 1451 3797 \nQ 1122 3375 1075 2522 \nQ 1259 2794 1537 2939 \nQ 1816 3084 2150 3084 \nQ 2853 3084 3261 2657 \nQ 3669 2231 3669 1497 \nQ 3669 778 3244 343 \nQ 2819 -91 2113 -91 \nQ 1303 -91 875 529 \nQ 447 1150 447 2328 \nQ 447 3434 972 4092 \nQ 1497 4750 2381 4750 \nQ 2619 4750 2861 4703 \nQ 3103 4656 3366 4563 \nz\n\" transform=\"scale(0.015625)\"/>\n       </defs>\n       <use xlink:href=\"#DejaVuSans-30\"/>\n       <use xlink:href=\"#DejaVuSans-2e\" x=\"63.623047\"/>\n       <use xlink:href=\"#DejaVuSans-36\" x=\"95.410156\"/>\n      </g>\n     </g>\n    </g>\n    <g id=\"xtick_5\">\n     <g id=\"line2d_5\">\n      <g>\n       <use xlink:href=\"#m301acac607\" x=\"186.343125\" y=\"146.899219\" style=\"stroke: #000000; stroke-width: 0.8\"/>\n      </g>\n     </g>\n     <g id=\"text_5\">\n      <!-- 0.8 -->\n      <g transform=\"translate(178.391563 161.497656)scale(0.1 -0.1)\">\n       <defs>\n        <path id=\"DejaVuSans-38\" d=\"M 2034 2216 \nQ 1584 2216 1326 1975 \nQ 1069 1734 1069 1313 \nQ 1069 891 1326 650 \nQ 1584 409 2034 409 \nQ 2484 409 2743 651 \nQ 3003 894 3003 1313 \nQ 3003 1734 2745 1975 \nQ 2488 2216 2034 2216 \nz\nM 1403 2484 \nQ 997 2584 770 2862 \nQ 544 3141 544 3541 \nQ 544 4100 942 4425 \nQ 1341 4750 2034 4750 \nQ 2731 4750 3128 4425 \nQ 3525 4100 3525 3541 \nQ 3525 3141 3298 2862 \nQ 3072 2584 2669 2484 \nQ 3125 2378 3379 2068 \nQ 3634 1759 3634 1313 \nQ 3634 634 3220 271 \nQ 2806 -91 2034 -91 \nQ 1263 -91 848 271 \nQ 434 634 434 1313 \nQ 434 1759 690 2068 \nQ 947 2378 1403 2484 \nz\nM 1172 3481 \nQ 1172 3119 1398 2916 \nQ 1625 2713 2034 2713 \nQ 2441 2713 2670 2916 \nQ 2900 3119 2900 3481 \nQ 2900 3844 2670 4047 \nQ 2441 4250 2034 4250 \nQ 1625 4250 1398 4047 \nQ 1172 3844 1172 3481 \nz\n\" transform=\"scale(0.015625)\"/>\n       </defs>\n       <use xlink:href=\"#DejaVuSans-30\"/>\n       <use xlink:href=\"#DejaVuSans-2e\" x=\"63.623047\"/>\n       <use xlink:href=\"#DejaVuSans-38\" x=\"95.410156\"/>\n      </g>\n     </g>\n    </g>\n    <g id=\"xtick_6\">\n     <g id=\"line2d_6\">\n      <g>\n       <use xlink:href=\"#m301acac607\" x=\"225.403125\" y=\"146.899219\" style=\"stroke: #000000; stroke-width: 0.8\"/>\n      </g>\n     </g>\n     <g id=\"text_6\">\n      <!-- 1.0 -->\n      <g transform=\"translate(217.451563 161.497656)scale(0.1 -0.1)\">\n       <defs>\n        <path id=\"DejaVuSans-31\" d=\"M 794 531 \nL 1825 531 \nL 1825 4091 \nL 703 3866 \nL 703 4441 \nL 1819 4666 \nL 2450 4666 \nL 2450 531 \nL 3481 531 \nL 3481 0 \nL 794 0 \nL 794 531 \nz\n\" transform=\"scale(0.015625)\"/>\n       </defs>\n       <use xlink:href=\"#DejaVuSans-31\"/>\n       <use xlink:href=\"#DejaVuSans-2e\" x=\"63.623047\"/>\n       <use xlink:href=\"#DejaVuSans-30\" x=\"95.410156\"/>\n      </g>\n     </g>\n    </g>\n   </g>\n   <g id=\"matplotlib.axis_2\">\n    <g id=\"ytick_1\">\n     <g id=\"line2d_7\">\n      <defs>\n       <path id=\"m8d671a189c\" d=\"M 0 0 \nL -3.5 0 \n\" style=\"stroke: #000000; stroke-width: 0.8\"/>\n      </defs>\n      <g>\n       <use xlink:href=\"#m8d671a189c\" x=\"30.103125\" y=\"146.899219\" style=\"stroke: #000000; stroke-width: 0.8\"/>\n      </g>\n     </g>\n     <g id=\"text_7\">\n      <!-- 0.0 -->\n      <g transform=\"translate(7.2 150.698437)scale(0.1 -0.1)\">\n       <use xlink:href=\"#DejaVuSans-30\"/>\n       <use xlink:href=\"#DejaVuSans-2e\" x=\"63.623047\"/>\n       <use xlink:href=\"#DejaVuSans-30\" x=\"95.410156\"/>\n      </g>\n     </g>\n    </g>\n    <g id=\"ytick_2\">\n     <g id=\"line2d_8\">\n      <g>\n       <use xlink:href=\"#m8d671a189c\" x=\"30.103125\" y=\"119.719219\" style=\"stroke: #000000; stroke-width: 0.8\"/>\n      </g>\n     </g>\n     <g id=\"text_8\">\n      <!-- 0.2 -->\n      <g transform=\"translate(7.2 123.518437)scale(0.1 -0.1)\">\n       <use xlink:href=\"#DejaVuSans-30\"/>\n       <use xlink:href=\"#DejaVuSans-2e\" x=\"63.623047\"/>\n       <use xlink:href=\"#DejaVuSans-32\" x=\"95.410156\"/>\n      </g>\n     </g>\n    </g>\n    <g id=\"ytick_3\">\n     <g id=\"line2d_9\">\n      <g>\n       <use xlink:href=\"#m8d671a189c\" x=\"30.103125\" y=\"92.539219\" style=\"stroke: #000000; stroke-width: 0.8\"/>\n      </g>\n     </g>\n     <g id=\"text_9\">\n      <!-- 0.4 -->\n      <g transform=\"translate(7.2 96.338437)scale(0.1 -0.1)\">\n       <use xlink:href=\"#DejaVuSans-30\"/>\n       <use xlink:href=\"#DejaVuSans-2e\" x=\"63.623047\"/>\n       <use xlink:href=\"#DejaVuSans-34\" x=\"95.410156\"/>\n      </g>\n     </g>\n    </g>\n    <g id=\"ytick_4\">\n     <g id=\"line2d_10\">\n      <g>\n       <use xlink:href=\"#m8d671a189c\" x=\"30.103125\" y=\"65.359219\" style=\"stroke: #000000; stroke-width: 0.8\"/>\n      </g>\n     </g>\n     <g id=\"text_10\">\n      <!-- 0.6 -->\n      <g transform=\"translate(7.2 69.158437)scale(0.1 -0.1)\">\n       <use xlink:href=\"#DejaVuSans-30\"/>\n       <use xlink:href=\"#DejaVuSans-2e\" x=\"63.623047\"/>\n       <use xlink:href=\"#DejaVuSans-36\" x=\"95.410156\"/>\n      </g>\n     </g>\n    </g>\n    <g id=\"ytick_5\">\n     <g id=\"line2d_11\">\n      <g>\n       <use xlink:href=\"#m8d671a189c\" x=\"30.103125\" y=\"38.179219\" style=\"stroke: #000000; stroke-width: 0.8\"/>\n      </g>\n     </g>\n     <g id=\"text_11\">\n      <!-- 0.8 -->\n      <g transform=\"translate(7.2 41.978437)scale(0.1 -0.1)\">\n       <use xlink:href=\"#DejaVuSans-30\"/>\n       <use xlink:href=\"#DejaVuSans-2e\" x=\"63.623047\"/>\n       <use xlink:href=\"#DejaVuSans-38\" x=\"95.410156\"/>\n      </g>\n     </g>\n    </g>\n    <g id=\"ytick_6\">\n     <g id=\"line2d_12\">\n      <g>\n       <use xlink:href=\"#m8d671a189c\" x=\"30.103125\" y=\"10.999219\" style=\"stroke: #000000; stroke-width: 0.8\"/>\n      </g>\n     </g>\n     <g id=\"text_12\">\n      <!-- 1.0 -->\n      <g transform=\"translate(7.2 14.798437)scale(0.1 -0.1)\">\n       <use xlink:href=\"#DejaVuSans-31\"/>\n       <use xlink:href=\"#DejaVuSans-2e\" x=\"63.623047\"/>\n       <use xlink:href=\"#DejaVuSans-30\" x=\"95.410156\"/>\n      </g>\n     </g>\n    </g>\n   </g>\n   <g id=\"patch_3\">\n    <path d=\"M 30.103125 146.899219 \nL 30.103125 10.999219 \n\" style=\"fill: none; stroke: #000000; stroke-width: 0.8; stroke-linejoin: miter; stroke-linecap: square\"/>\n   </g>\n   <g id=\"patch_4\">\n    <path d=\"M 225.403125 146.899219 \nL 225.403125 10.999219 \n\" style=\"fill: none; stroke: #000000; stroke-width: 0.8; stroke-linejoin: miter; stroke-linecap: square\"/>\n   </g>\n   <g id=\"patch_5\">\n    <path d=\"M 30.103125 146.899219 \nL 225.403125 146.899219 \n\" style=\"fill: none; stroke: #000000; stroke-width: 0.8; stroke-linejoin: miter; stroke-linecap: square\"/>\n   </g>\n   <g id=\"patch_6\">\n    <path d=\"M 30.103125 10.999219 \nL 225.403125 10.999219 \n\" style=\"fill: none; stroke: #000000; stroke-width: 0.8; stroke-linejoin: miter; stroke-linecap: square\"/>\n   </g>\n  </g>\n </g>\n</svg>\n"
          },
          "metadata": {
            "needs_background": "light"
          }
        }
      ]
    },
    {
      "cell_type": "code",
      "source": [
        "def predict_ch3(net, test_iter, n=6):\n",
        "  for X, y in test_iter:\n",
        "    break\n",
        "  trues = get_USPS_labels(y)\n",
        "  preds = get_USPS_labels(net(X).argmax(axis=1))\n",
        "  titles = [true +'\\n' + pred for true, pred in zip(trues, preds)]\n",
        "  d2l.show_images(\n",
        "    X[0:n].reshape((n, 28, 28)), 1, n, titles=titles[0:n])\n",
        "\n",
        "predict_ch3(net, test_iter)"
      ],
      "metadata": {
        "id": "fuqrgipaodHK",
        "colab": {
          "base_uri": "https://localhost:8080/",
          "height": 369
        },
        "outputId": "77113209-5f72-44d1-f315-9da5c17469e4"
      },
      "execution_count": 46,
      "outputs": [
        {
          "output_type": "stream",
          "name": "stderr",
          "text": [
            "/usr/local/lib/python3.7/dist-packages/torch/utils/data/dataloader.py:560: UserWarning: This DataLoader will create 4 worker processes in total. Our suggested max number of worker in current system is 2, which is smaller than what this DataLoader is going to create. Please be aware that excessive worker creation might get DataLoader running slow or even freeze, lower the worker number to avoid potential slowness/freeze if necessary.\n",
            "  cpuset_checked))\n"
          ]
        },
        {
          "output_type": "error",
          "ename": "RuntimeError",
          "evalue": "ignored",
          "traceback": [
            "\u001b[0;31m---------------------------------------------------------------------------\u001b[0m",
            "\u001b[0;31mRuntimeError\u001b[0m                              Traceback (most recent call last)",
            "\u001b[0;32m<ipython-input-46-557598dd36b0>\u001b[0m in \u001b[0;36m<module>\u001b[0;34m()\u001b[0m\n\u001b[1;32m      8\u001b[0m     X[0:n].reshape((n, 28, 28)), 1, n, titles=titles[0:n])\n\u001b[1;32m      9\u001b[0m \u001b[0;34m\u001b[0m\u001b[0m\n\u001b[0;32m---> 10\u001b[0;31m \u001b[0mpredict_ch3\u001b[0m\u001b[0;34m(\u001b[0m\u001b[0mnet\u001b[0m\u001b[0;34m,\u001b[0m \u001b[0mtest_iter\u001b[0m\u001b[0;34m)\u001b[0m\u001b[0;34m\u001b[0m\u001b[0;34m\u001b[0m\u001b[0m\n\u001b[0m",
            "\u001b[0;32m<ipython-input-46-557598dd36b0>\u001b[0m in \u001b[0;36mpredict_ch3\u001b[0;34m(net, test_iter, n)\u001b[0m\n\u001b[1;32m      3\u001b[0m     \u001b[0;32mbreak\u001b[0m\u001b[0;34m\u001b[0m\u001b[0;34m\u001b[0m\u001b[0m\n\u001b[1;32m      4\u001b[0m   \u001b[0mtrues\u001b[0m \u001b[0;34m=\u001b[0m \u001b[0mget_USPS_labels\u001b[0m\u001b[0;34m(\u001b[0m\u001b[0my\u001b[0m\u001b[0;34m)\u001b[0m\u001b[0;34m\u001b[0m\u001b[0;34m\u001b[0m\u001b[0m\n\u001b[0;32m----> 5\u001b[0;31m   \u001b[0mpreds\u001b[0m \u001b[0;34m=\u001b[0m \u001b[0mget_USPS_labels\u001b[0m\u001b[0;34m(\u001b[0m\u001b[0mnet\u001b[0m\u001b[0;34m(\u001b[0m\u001b[0mX\u001b[0m\u001b[0;34m)\u001b[0m\u001b[0;34m.\u001b[0m\u001b[0margmax\u001b[0m\u001b[0;34m(\u001b[0m\u001b[0maxis\u001b[0m\u001b[0;34m=\u001b[0m\u001b[0;36m1\u001b[0m\u001b[0;34m)\u001b[0m\u001b[0;34m)\u001b[0m\u001b[0;34m\u001b[0m\u001b[0;34m\u001b[0m\u001b[0m\n\u001b[0m\u001b[1;32m      6\u001b[0m   \u001b[0mtitles\u001b[0m \u001b[0;34m=\u001b[0m \u001b[0;34m[\u001b[0m\u001b[0mtrue\u001b[0m \u001b[0;34m+\u001b[0m\u001b[0;34m'\\n'\u001b[0m \u001b[0;34m+\u001b[0m \u001b[0mpred\u001b[0m \u001b[0;32mfor\u001b[0m \u001b[0mtrue\u001b[0m\u001b[0;34m,\u001b[0m \u001b[0mpred\u001b[0m \u001b[0;32min\u001b[0m \u001b[0mzip\u001b[0m\u001b[0;34m(\u001b[0m\u001b[0mtrues\u001b[0m\u001b[0;34m,\u001b[0m \u001b[0mpreds\u001b[0m\u001b[0;34m)\u001b[0m\u001b[0;34m]\u001b[0m\u001b[0;34m\u001b[0m\u001b[0;34m\u001b[0m\u001b[0m\n\u001b[1;32m      7\u001b[0m   d2l.show_images(\n",
            "\u001b[0;32m<ipython-input-35-87519ab550d0>\u001b[0m in \u001b[0;36mnet\u001b[0;34m(X)\u001b[0m\n\u001b[1;32m      1\u001b[0m \u001b[0;32mdef\u001b[0m \u001b[0mnet\u001b[0m\u001b[0;34m(\u001b[0m\u001b[0mX\u001b[0m\u001b[0;34m)\u001b[0m\u001b[0;34m:\u001b[0m\u001b[0;34m\u001b[0m\u001b[0;34m\u001b[0m\u001b[0m\n\u001b[0;32m----> 2\u001b[0;31m   \u001b[0;32mreturn\u001b[0m \u001b[0msoftmax\u001b[0m\u001b[0;34m(\u001b[0m\u001b[0mtorch\u001b[0m\u001b[0;34m.\u001b[0m\u001b[0mmatmul\u001b[0m\u001b[0;34m(\u001b[0m\u001b[0mX\u001b[0m\u001b[0;34m.\u001b[0m\u001b[0mreshape\u001b[0m\u001b[0;34m(\u001b[0m\u001b[0;34m(\u001b[0m\u001b[0;34m-\u001b[0m\u001b[0;36m1\u001b[0m\u001b[0;34m,\u001b[0m \u001b[0mW\u001b[0m\u001b[0;34m.\u001b[0m\u001b[0mshape\u001b[0m\u001b[0;34m[\u001b[0m\u001b[0;36m0\u001b[0m\u001b[0;34m]\u001b[0m\u001b[0;34m)\u001b[0m\u001b[0;34m)\u001b[0m\u001b[0;34m,\u001b[0m \u001b[0mW\u001b[0m\u001b[0;34m)\u001b[0m \u001b[0;34m+\u001b[0m \u001b[0mb\u001b[0m\u001b[0;34m)\u001b[0m\u001b[0;34m\u001b[0m\u001b[0;34m\u001b[0m\u001b[0m\n\u001b[0m",
            "\u001b[0;31mRuntimeError\u001b[0m: shape '[-1, 784]' is invalid for input of size 65536"
          ]
        }
      ]
    },
    {
      "cell_type": "code",
      "source": [
        "import torch\n",
        "from torch import nn\n",
        "from d2l import torch as d2l"
      ],
      "metadata": {
        "id": "ffuS-iT6ovGr"
      },
      "execution_count": 47,
      "outputs": []
    },
    {
      "cell_type": "code",
      "source": [
        "batch_size = 256\n",
        "train_iter, test_iter = load_data_USPS(batch_size)"
      ],
      "metadata": {
        "colab": {
          "base_uri": "https://localhost:8080/"
        },
        "id": "oZt6BKB02jSl",
        "outputId": "1ffeb175-cd3f-4b95-acea-a312daea9893"
      },
      "execution_count": 48,
      "outputs": [
        {
          "output_type": "stream",
          "name": "stderr",
          "text": [
            "/usr/local/lib/python3.7/dist-packages/torch/utils/data/dataloader.py:560: UserWarning: This DataLoader will create 4 worker processes in total. Our suggested max number of worker in current system is 2, which is smaller than what this DataLoader is going to create. Please be aware that excessive worker creation might get DataLoader running slow or even freeze, lower the worker number to avoid potential slowness/freeze if necessary.\n",
            "  cpuset_checked))\n"
          ]
        }
      ]
    },
    {
      "cell_type": "code",
      "source": [
        "net = nn.Sequential(nn.Flatten(), nn.Linear(784, 10))\n",
        "\n",
        "def init_weights(m):\n",
        "  if type(m) == nn.Linear:\n",
        "    nn.init.normal_(m.weight, std=0.01)\n",
        "\n",
        "net.apply(init_weights);"
      ],
      "metadata": {
        "id": "AJWaKwc42j1S"
      },
      "execution_count": 49,
      "outputs": []
    },
    {
      "cell_type": "code",
      "source": [
        "loss = nn.CrossEntropyLoss(reduction='none')"
      ],
      "metadata": {
        "id": "DO8NjEM52vwX"
      },
      "execution_count": 50,
      "outputs": []
    },
    {
      "cell_type": "code",
      "source": [
        "trainer = torch.optim.SGD(net.parameters(), lr=0.1)"
      ],
      "metadata": {
        "id": "o3rnwfeE2xbC"
      },
      "execution_count": 51,
      "outputs": []
    },
    {
      "cell_type": "code",
      "source": [
        "num_epochs = 10\n",
        "d2l.train_ch3(net, train_iter, test_iter, loss, num_epochs, trainer)"
      ],
      "metadata": {
        "colab": {
          "base_uri": "https://localhost:8080/",
          "height": 637
        },
        "id": "zqX1uvlR2y7b",
        "outputId": "335ceb01-a818-4692-d6be-744a7418f619"
      },
      "execution_count": 52,
      "outputs": [
        {
          "output_type": "stream",
          "name": "stderr",
          "text": [
            "/usr/local/lib/python3.7/dist-packages/torch/utils/data/dataloader.py:560: UserWarning: This DataLoader will create 4 worker processes in total. Our suggested max number of worker in current system is 2, which is smaller than what this DataLoader is going to create. Please be aware that excessive worker creation might get DataLoader running slow or even freeze, lower the worker number to avoid potential slowness/freeze if necessary.\n",
            "  cpuset_checked))\n"
          ]
        },
        {
          "output_type": "error",
          "ename": "RuntimeError",
          "evalue": "ignored",
          "traceback": [
            "\u001b[0;31m---------------------------------------------------------------------------\u001b[0m",
            "\u001b[0;31mRuntimeError\u001b[0m                              Traceback (most recent call last)",
            "\u001b[0;32m<ipython-input-52-335a12f1ccf6>\u001b[0m in \u001b[0;36m<module>\u001b[0;34m()\u001b[0m\n\u001b[1;32m      1\u001b[0m \u001b[0mnum_epochs\u001b[0m \u001b[0;34m=\u001b[0m \u001b[0;36m10\u001b[0m\u001b[0;34m\u001b[0m\u001b[0;34m\u001b[0m\u001b[0m\n\u001b[0;32m----> 2\u001b[0;31m \u001b[0md2l\u001b[0m\u001b[0;34m.\u001b[0m\u001b[0mtrain_ch3\u001b[0m\u001b[0;34m(\u001b[0m\u001b[0mnet\u001b[0m\u001b[0;34m,\u001b[0m \u001b[0mtrain_iter\u001b[0m\u001b[0;34m,\u001b[0m \u001b[0mtest_iter\u001b[0m\u001b[0;34m,\u001b[0m \u001b[0mloss\u001b[0m\u001b[0;34m,\u001b[0m \u001b[0mnum_epochs\u001b[0m\u001b[0;34m,\u001b[0m \u001b[0mtrainer\u001b[0m\u001b[0;34m)\u001b[0m\u001b[0;34m\u001b[0m\u001b[0;34m\u001b[0m\u001b[0m\n\u001b[0m",
            "\u001b[0;32m/usr/local/lib/python3.7/dist-packages/d2l/torch.py\u001b[0m in \u001b[0;36mtrain_ch3\u001b[0;34m(net, train_iter, test_iter, loss, num_epochs, updater)\u001b[0m\n\u001b[1;32m    334\u001b[0m                         legend=['train loss', 'train acc', 'test acc'])\n\u001b[1;32m    335\u001b[0m     \u001b[0;32mfor\u001b[0m \u001b[0mepoch\u001b[0m \u001b[0;32min\u001b[0m \u001b[0mrange\u001b[0m\u001b[0;34m(\u001b[0m\u001b[0mnum_epochs\u001b[0m\u001b[0;34m)\u001b[0m\u001b[0;34m:\u001b[0m\u001b[0;34m\u001b[0m\u001b[0;34m\u001b[0m\u001b[0m\n\u001b[0;32m--> 336\u001b[0;31m         \u001b[0mtrain_metrics\u001b[0m \u001b[0;34m=\u001b[0m \u001b[0mtrain_epoch_ch3\u001b[0m\u001b[0;34m(\u001b[0m\u001b[0mnet\u001b[0m\u001b[0;34m,\u001b[0m \u001b[0mtrain_iter\u001b[0m\u001b[0;34m,\u001b[0m \u001b[0mloss\u001b[0m\u001b[0;34m,\u001b[0m \u001b[0mupdater\u001b[0m\u001b[0;34m)\u001b[0m\u001b[0;34m\u001b[0m\u001b[0;34m\u001b[0m\u001b[0m\n\u001b[0m\u001b[1;32m    337\u001b[0m         \u001b[0mtest_acc\u001b[0m \u001b[0;34m=\u001b[0m \u001b[0mevaluate_accuracy\u001b[0m\u001b[0;34m(\u001b[0m\u001b[0mnet\u001b[0m\u001b[0;34m,\u001b[0m \u001b[0mtest_iter\u001b[0m\u001b[0;34m)\u001b[0m\u001b[0;34m\u001b[0m\u001b[0;34m\u001b[0m\u001b[0m\n\u001b[1;32m    338\u001b[0m         \u001b[0manimator\u001b[0m\u001b[0;34m.\u001b[0m\u001b[0madd\u001b[0m\u001b[0;34m(\u001b[0m\u001b[0mepoch\u001b[0m \u001b[0;34m+\u001b[0m \u001b[0;36m1\u001b[0m\u001b[0;34m,\u001b[0m \u001b[0mtrain_metrics\u001b[0m \u001b[0;34m+\u001b[0m \u001b[0;34m(\u001b[0m\u001b[0mtest_acc\u001b[0m\u001b[0;34m,\u001b[0m\u001b[0;34m)\u001b[0m\u001b[0;34m)\u001b[0m\u001b[0;34m\u001b[0m\u001b[0;34m\u001b[0m\u001b[0m\n",
            "\u001b[0;32m/usr/local/lib/python3.7/dist-packages/d2l/torch.py\u001b[0m in \u001b[0;36mtrain_epoch_ch3\u001b[0;34m(net, train_iter, loss, updater)\u001b[0m\n\u001b[1;32m    271\u001b[0m     \u001b[0;32mfor\u001b[0m \u001b[0mX\u001b[0m\u001b[0;34m,\u001b[0m \u001b[0my\u001b[0m \u001b[0;32min\u001b[0m \u001b[0mtrain_iter\u001b[0m\u001b[0;34m:\u001b[0m\u001b[0;34m\u001b[0m\u001b[0;34m\u001b[0m\u001b[0m\n\u001b[1;32m    272\u001b[0m         \u001b[0;31m# Compute gradients and update parameters\u001b[0m\u001b[0;34m\u001b[0m\u001b[0;34m\u001b[0m\u001b[0;34m\u001b[0m\u001b[0m\n\u001b[0;32m--> 273\u001b[0;31m         \u001b[0my_hat\u001b[0m \u001b[0;34m=\u001b[0m \u001b[0mnet\u001b[0m\u001b[0;34m(\u001b[0m\u001b[0mX\u001b[0m\u001b[0;34m)\u001b[0m\u001b[0;34m\u001b[0m\u001b[0;34m\u001b[0m\u001b[0m\n\u001b[0m\u001b[1;32m    274\u001b[0m         \u001b[0ml\u001b[0m \u001b[0;34m=\u001b[0m \u001b[0mloss\u001b[0m\u001b[0;34m(\u001b[0m\u001b[0my_hat\u001b[0m\u001b[0;34m,\u001b[0m \u001b[0my\u001b[0m\u001b[0;34m)\u001b[0m\u001b[0;34m\u001b[0m\u001b[0;34m\u001b[0m\u001b[0m\n\u001b[1;32m    275\u001b[0m         \u001b[0;32mif\u001b[0m \u001b[0misinstance\u001b[0m\u001b[0;34m(\u001b[0m\u001b[0mupdater\u001b[0m\u001b[0;34m,\u001b[0m \u001b[0mtorch\u001b[0m\u001b[0;34m.\u001b[0m\u001b[0moptim\u001b[0m\u001b[0;34m.\u001b[0m\u001b[0mOptimizer\u001b[0m\u001b[0;34m)\u001b[0m\u001b[0;34m:\u001b[0m\u001b[0;34m\u001b[0m\u001b[0;34m\u001b[0m\u001b[0m\n",
            "\u001b[0;32m/usr/local/lib/python3.7/dist-packages/torch/nn/modules/module.py\u001b[0m in \u001b[0;36m_call_impl\u001b[0;34m(self, *input, **kwargs)\u001b[0m\n\u001b[1;32m   1128\u001b[0m         if not (self._backward_hooks or self._forward_hooks or self._forward_pre_hooks or _global_backward_hooks\n\u001b[1;32m   1129\u001b[0m                 or _global_forward_hooks or _global_forward_pre_hooks):\n\u001b[0;32m-> 1130\u001b[0;31m             \u001b[0;32mreturn\u001b[0m \u001b[0mforward_call\u001b[0m\u001b[0;34m(\u001b[0m\u001b[0;34m*\u001b[0m\u001b[0minput\u001b[0m\u001b[0;34m,\u001b[0m \u001b[0;34m**\u001b[0m\u001b[0mkwargs\u001b[0m\u001b[0;34m)\u001b[0m\u001b[0;34m\u001b[0m\u001b[0;34m\u001b[0m\u001b[0m\n\u001b[0m\u001b[1;32m   1131\u001b[0m         \u001b[0;31m# Do not call functions when jit is used\u001b[0m\u001b[0;34m\u001b[0m\u001b[0;34m\u001b[0m\u001b[0;34m\u001b[0m\u001b[0m\n\u001b[1;32m   1132\u001b[0m         \u001b[0mfull_backward_hooks\u001b[0m\u001b[0;34m,\u001b[0m \u001b[0mnon_full_backward_hooks\u001b[0m \u001b[0;34m=\u001b[0m \u001b[0;34m[\u001b[0m\u001b[0;34m]\u001b[0m\u001b[0;34m,\u001b[0m \u001b[0;34m[\u001b[0m\u001b[0;34m]\u001b[0m\u001b[0;34m\u001b[0m\u001b[0;34m\u001b[0m\u001b[0m\n",
            "\u001b[0;32m/usr/local/lib/python3.7/dist-packages/torch/nn/modules/container.py\u001b[0m in \u001b[0;36mforward\u001b[0;34m(self, input)\u001b[0m\n\u001b[1;32m    137\u001b[0m     \u001b[0;32mdef\u001b[0m \u001b[0mforward\u001b[0m\u001b[0;34m(\u001b[0m\u001b[0mself\u001b[0m\u001b[0;34m,\u001b[0m \u001b[0minput\u001b[0m\u001b[0;34m)\u001b[0m\u001b[0;34m:\u001b[0m\u001b[0;34m\u001b[0m\u001b[0;34m\u001b[0m\u001b[0m\n\u001b[1;32m    138\u001b[0m         \u001b[0;32mfor\u001b[0m \u001b[0mmodule\u001b[0m \u001b[0;32min\u001b[0m \u001b[0mself\u001b[0m\u001b[0;34m:\u001b[0m\u001b[0;34m\u001b[0m\u001b[0;34m\u001b[0m\u001b[0m\n\u001b[0;32m--> 139\u001b[0;31m             \u001b[0minput\u001b[0m \u001b[0;34m=\u001b[0m \u001b[0mmodule\u001b[0m\u001b[0;34m(\u001b[0m\u001b[0minput\u001b[0m\u001b[0;34m)\u001b[0m\u001b[0;34m\u001b[0m\u001b[0;34m\u001b[0m\u001b[0m\n\u001b[0m\u001b[1;32m    140\u001b[0m         \u001b[0;32mreturn\u001b[0m \u001b[0minput\u001b[0m\u001b[0;34m\u001b[0m\u001b[0;34m\u001b[0m\u001b[0m\n\u001b[1;32m    141\u001b[0m \u001b[0;34m\u001b[0m\u001b[0m\n",
            "\u001b[0;32m/usr/local/lib/python3.7/dist-packages/torch/nn/modules/module.py\u001b[0m in \u001b[0;36m_call_impl\u001b[0;34m(self, *input, **kwargs)\u001b[0m\n\u001b[1;32m   1128\u001b[0m         if not (self._backward_hooks or self._forward_hooks or self._forward_pre_hooks or _global_backward_hooks\n\u001b[1;32m   1129\u001b[0m                 or _global_forward_hooks or _global_forward_pre_hooks):\n\u001b[0;32m-> 1130\u001b[0;31m             \u001b[0;32mreturn\u001b[0m \u001b[0mforward_call\u001b[0m\u001b[0;34m(\u001b[0m\u001b[0;34m*\u001b[0m\u001b[0minput\u001b[0m\u001b[0;34m,\u001b[0m \u001b[0;34m**\u001b[0m\u001b[0mkwargs\u001b[0m\u001b[0;34m)\u001b[0m\u001b[0;34m\u001b[0m\u001b[0;34m\u001b[0m\u001b[0m\n\u001b[0m\u001b[1;32m   1131\u001b[0m         \u001b[0;31m# Do not call functions when jit is used\u001b[0m\u001b[0;34m\u001b[0m\u001b[0;34m\u001b[0m\u001b[0;34m\u001b[0m\u001b[0m\n\u001b[1;32m   1132\u001b[0m         \u001b[0mfull_backward_hooks\u001b[0m\u001b[0;34m,\u001b[0m \u001b[0mnon_full_backward_hooks\u001b[0m \u001b[0;34m=\u001b[0m \u001b[0;34m[\u001b[0m\u001b[0;34m]\u001b[0m\u001b[0;34m,\u001b[0m \u001b[0;34m[\u001b[0m\u001b[0;34m]\u001b[0m\u001b[0;34m\u001b[0m\u001b[0;34m\u001b[0m\u001b[0m\n",
            "\u001b[0;32m/usr/local/lib/python3.7/dist-packages/torch/nn/modules/linear.py\u001b[0m in \u001b[0;36mforward\u001b[0;34m(self, input)\u001b[0m\n\u001b[1;32m    112\u001b[0m \u001b[0;34m\u001b[0m\u001b[0m\n\u001b[1;32m    113\u001b[0m     \u001b[0;32mdef\u001b[0m \u001b[0mforward\u001b[0m\u001b[0;34m(\u001b[0m\u001b[0mself\u001b[0m\u001b[0;34m,\u001b[0m \u001b[0minput\u001b[0m\u001b[0;34m:\u001b[0m \u001b[0mTensor\u001b[0m\u001b[0;34m)\u001b[0m \u001b[0;34m->\u001b[0m \u001b[0mTensor\u001b[0m\u001b[0;34m:\u001b[0m\u001b[0;34m\u001b[0m\u001b[0;34m\u001b[0m\u001b[0m\n\u001b[0;32m--> 114\u001b[0;31m         \u001b[0;32mreturn\u001b[0m \u001b[0mF\u001b[0m\u001b[0;34m.\u001b[0m\u001b[0mlinear\u001b[0m\u001b[0;34m(\u001b[0m\u001b[0minput\u001b[0m\u001b[0;34m,\u001b[0m \u001b[0mself\u001b[0m\u001b[0;34m.\u001b[0m\u001b[0mweight\u001b[0m\u001b[0;34m,\u001b[0m \u001b[0mself\u001b[0m\u001b[0;34m.\u001b[0m\u001b[0mbias\u001b[0m\u001b[0;34m)\u001b[0m\u001b[0;34m\u001b[0m\u001b[0;34m\u001b[0m\u001b[0m\n\u001b[0m\u001b[1;32m    115\u001b[0m \u001b[0;34m\u001b[0m\u001b[0m\n\u001b[1;32m    116\u001b[0m     \u001b[0;32mdef\u001b[0m \u001b[0mextra_repr\u001b[0m\u001b[0;34m(\u001b[0m\u001b[0mself\u001b[0m\u001b[0;34m)\u001b[0m \u001b[0;34m->\u001b[0m \u001b[0mstr\u001b[0m\u001b[0;34m:\u001b[0m\u001b[0;34m\u001b[0m\u001b[0;34m\u001b[0m\u001b[0m\n",
            "\u001b[0;31mRuntimeError\u001b[0m: mat1 and mat2 shapes cannot be multiplied (256x256 and 784x10)"
          ]
        },
        {
          "output_type": "display_data",
          "data": {
            "text/plain": [
              "<Figure size 252x180 with 1 Axes>"
            ],
            "image/svg+xml": "<?xml version=\"1.0\" encoding=\"utf-8\" standalone=\"no\"?>\n<!DOCTYPE svg PUBLIC \"-//W3C//DTD SVG 1.1//EN\"\n  \"http://www.w3.org/Graphics/SVG/1.1/DTD/svg11.dtd\">\n<svg xmlns:xlink=\"http://www.w3.org/1999/xlink\" width=\"240.554688pt\" height=\"170.777344pt\" viewBox=\"0 0 240.554688 170.777344\" xmlns=\"http://www.w3.org/2000/svg\" version=\"1.1\">\n <metadata>\n  <rdf:RDF xmlns:dc=\"http://purl.org/dc/elements/1.1/\" xmlns:cc=\"http://creativecommons.org/ns#\" xmlns:rdf=\"http://www.w3.org/1999/02/22-rdf-syntax-ns#\">\n   <cc:Work>\n    <dc:type rdf:resource=\"http://purl.org/dc/dcmitype/StillImage\"/>\n    <dc:date>2022-07-19T11:57:38.531277</dc:date>\n    <dc:format>image/svg+xml</dc:format>\n    <dc:creator>\n     <cc:Agent>\n      <dc:title>Matplotlib v3.5.1, https://matplotlib.org/</dc:title>\n     </cc:Agent>\n    </dc:creator>\n   </cc:Work>\n  </rdf:RDF>\n </metadata>\n <defs>\n  <style type=\"text/css\">*{stroke-linejoin: round; stroke-linecap: butt}</style>\n </defs>\n <g id=\"figure_1\">\n  <g id=\"patch_1\">\n   <path d=\"M 0 170.777344 \nL 240.554688 170.777344 \nL 240.554688 0 \nL 0 0 \nL 0 170.777344 \nz\n\" style=\"fill: none\"/>\n  </g>\n  <g id=\"axes_1\">\n   <g id=\"patch_2\">\n    <path d=\"M 30.103125 146.899219 \nL 225.403125 146.899219 \nL 225.403125 10.999219 \nL 30.103125 10.999219 \nz\n\" style=\"fill: #ffffff\"/>\n   </g>\n   <g id=\"matplotlib.axis_1\">\n    <g id=\"xtick_1\">\n     <g id=\"line2d_1\">\n      <defs>\n       <path id=\"m3c54c4de61\" d=\"M 0 0 \nL 0 3.5 \n\" style=\"stroke: #000000; stroke-width: 0.8\"/>\n      </defs>\n      <g>\n       <use xlink:href=\"#m3c54c4de61\" x=\"30.103125\" y=\"146.899219\" style=\"stroke: #000000; stroke-width: 0.8\"/>\n      </g>\n     </g>\n     <g id=\"text_1\">\n      <!-- 0.0 -->\n      <g transform=\"translate(22.151563 161.497656)scale(0.1 -0.1)\">\n       <defs>\n        <path id=\"DejaVuSans-30\" d=\"M 2034 4250 \nQ 1547 4250 1301 3770 \nQ 1056 3291 1056 2328 \nQ 1056 1369 1301 889 \nQ 1547 409 2034 409 \nQ 2525 409 2770 889 \nQ 3016 1369 3016 2328 \nQ 3016 3291 2770 3770 \nQ 2525 4250 2034 4250 \nz\nM 2034 4750 \nQ 2819 4750 3233 4129 \nQ 3647 3509 3647 2328 \nQ 3647 1150 3233 529 \nQ 2819 -91 2034 -91 \nQ 1250 -91 836 529 \nQ 422 1150 422 2328 \nQ 422 3509 836 4129 \nQ 1250 4750 2034 4750 \nz\n\" transform=\"scale(0.015625)\"/>\n        <path id=\"DejaVuSans-2e\" d=\"M 684 794 \nL 1344 794 \nL 1344 0 \nL 684 0 \nL 684 794 \nz\n\" transform=\"scale(0.015625)\"/>\n       </defs>\n       <use xlink:href=\"#DejaVuSans-30\"/>\n       <use xlink:href=\"#DejaVuSans-2e\" x=\"63.623047\"/>\n       <use xlink:href=\"#DejaVuSans-30\" x=\"95.410156\"/>\n      </g>\n     </g>\n    </g>\n    <g id=\"xtick_2\">\n     <g id=\"line2d_2\">\n      <g>\n       <use xlink:href=\"#m3c54c4de61\" x=\"69.163125\" y=\"146.899219\" style=\"stroke: #000000; stroke-width: 0.8\"/>\n      </g>\n     </g>\n     <g id=\"text_2\">\n      <!-- 0.2 -->\n      <g transform=\"translate(61.211563 161.497656)scale(0.1 -0.1)\">\n       <defs>\n        <path id=\"DejaVuSans-32\" d=\"M 1228 531 \nL 3431 531 \nL 3431 0 \nL 469 0 \nL 469 531 \nQ 828 903 1448 1529 \nQ 2069 2156 2228 2338 \nQ 2531 2678 2651 2914 \nQ 2772 3150 2772 3378 \nQ 2772 3750 2511 3984 \nQ 2250 4219 1831 4219 \nQ 1534 4219 1204 4116 \nQ 875 4013 500 3803 \nL 500 4441 \nQ 881 4594 1212 4672 \nQ 1544 4750 1819 4750 \nQ 2544 4750 2975 4387 \nQ 3406 4025 3406 3419 \nQ 3406 3131 3298 2873 \nQ 3191 2616 2906 2266 \nQ 2828 2175 2409 1742 \nQ 1991 1309 1228 531 \nz\n\" transform=\"scale(0.015625)\"/>\n       </defs>\n       <use xlink:href=\"#DejaVuSans-30\"/>\n       <use xlink:href=\"#DejaVuSans-2e\" x=\"63.623047\"/>\n       <use xlink:href=\"#DejaVuSans-32\" x=\"95.410156\"/>\n      </g>\n     </g>\n    </g>\n    <g id=\"xtick_3\">\n     <g id=\"line2d_3\">\n      <g>\n       <use xlink:href=\"#m3c54c4de61\" x=\"108.223125\" y=\"146.899219\" style=\"stroke: #000000; stroke-width: 0.8\"/>\n      </g>\n     </g>\n     <g id=\"text_3\">\n      <!-- 0.4 -->\n      <g transform=\"translate(100.271563 161.497656)scale(0.1 -0.1)\">\n       <defs>\n        <path id=\"DejaVuSans-34\" d=\"M 2419 4116 \nL 825 1625 \nL 2419 1625 \nL 2419 4116 \nz\nM 2253 4666 \nL 3047 4666 \nL 3047 1625 \nL 3713 1625 \nL 3713 1100 \nL 3047 1100 \nL 3047 0 \nL 2419 0 \nL 2419 1100 \nL 313 1100 \nL 313 1709 \nL 2253 4666 \nz\n\" transform=\"scale(0.015625)\"/>\n       </defs>\n       <use xlink:href=\"#DejaVuSans-30\"/>\n       <use xlink:href=\"#DejaVuSans-2e\" x=\"63.623047\"/>\n       <use xlink:href=\"#DejaVuSans-34\" x=\"95.410156\"/>\n      </g>\n     </g>\n    </g>\n    <g id=\"xtick_4\">\n     <g id=\"line2d_4\">\n      <g>\n       <use xlink:href=\"#m3c54c4de61\" x=\"147.283125\" y=\"146.899219\" style=\"stroke: #000000; stroke-width: 0.8\"/>\n      </g>\n     </g>\n     <g id=\"text_4\">\n      <!-- 0.6 -->\n      <g transform=\"translate(139.331563 161.497656)scale(0.1 -0.1)\">\n       <defs>\n        <path id=\"DejaVuSans-36\" d=\"M 2113 2584 \nQ 1688 2584 1439 2293 \nQ 1191 2003 1191 1497 \nQ 1191 994 1439 701 \nQ 1688 409 2113 409 \nQ 2538 409 2786 701 \nQ 3034 994 3034 1497 \nQ 3034 2003 2786 2293 \nQ 2538 2584 2113 2584 \nz\nM 3366 4563 \nL 3366 3988 \nQ 3128 4100 2886 4159 \nQ 2644 4219 2406 4219 \nQ 1781 4219 1451 3797 \nQ 1122 3375 1075 2522 \nQ 1259 2794 1537 2939 \nQ 1816 3084 2150 3084 \nQ 2853 3084 3261 2657 \nQ 3669 2231 3669 1497 \nQ 3669 778 3244 343 \nQ 2819 -91 2113 -91 \nQ 1303 -91 875 529 \nQ 447 1150 447 2328 \nQ 447 3434 972 4092 \nQ 1497 4750 2381 4750 \nQ 2619 4750 2861 4703 \nQ 3103 4656 3366 4563 \nz\n\" transform=\"scale(0.015625)\"/>\n       </defs>\n       <use xlink:href=\"#DejaVuSans-30\"/>\n       <use xlink:href=\"#DejaVuSans-2e\" x=\"63.623047\"/>\n       <use xlink:href=\"#DejaVuSans-36\" x=\"95.410156\"/>\n      </g>\n     </g>\n    </g>\n    <g id=\"xtick_5\">\n     <g id=\"line2d_5\">\n      <g>\n       <use xlink:href=\"#m3c54c4de61\" x=\"186.343125\" y=\"146.899219\" style=\"stroke: #000000; stroke-width: 0.8\"/>\n      </g>\n     </g>\n     <g id=\"text_5\">\n      <!-- 0.8 -->\n      <g transform=\"translate(178.391563 161.497656)scale(0.1 -0.1)\">\n       <defs>\n        <path id=\"DejaVuSans-38\" d=\"M 2034 2216 \nQ 1584 2216 1326 1975 \nQ 1069 1734 1069 1313 \nQ 1069 891 1326 650 \nQ 1584 409 2034 409 \nQ 2484 409 2743 651 \nQ 3003 894 3003 1313 \nQ 3003 1734 2745 1975 \nQ 2488 2216 2034 2216 \nz\nM 1403 2484 \nQ 997 2584 770 2862 \nQ 544 3141 544 3541 \nQ 544 4100 942 4425 \nQ 1341 4750 2034 4750 \nQ 2731 4750 3128 4425 \nQ 3525 4100 3525 3541 \nQ 3525 3141 3298 2862 \nQ 3072 2584 2669 2484 \nQ 3125 2378 3379 2068 \nQ 3634 1759 3634 1313 \nQ 3634 634 3220 271 \nQ 2806 -91 2034 -91 \nQ 1263 -91 848 271 \nQ 434 634 434 1313 \nQ 434 1759 690 2068 \nQ 947 2378 1403 2484 \nz\nM 1172 3481 \nQ 1172 3119 1398 2916 \nQ 1625 2713 2034 2713 \nQ 2441 2713 2670 2916 \nQ 2900 3119 2900 3481 \nQ 2900 3844 2670 4047 \nQ 2441 4250 2034 4250 \nQ 1625 4250 1398 4047 \nQ 1172 3844 1172 3481 \nz\n\" transform=\"scale(0.015625)\"/>\n       </defs>\n       <use xlink:href=\"#DejaVuSans-30\"/>\n       <use xlink:href=\"#DejaVuSans-2e\" x=\"63.623047\"/>\n       <use xlink:href=\"#DejaVuSans-38\" x=\"95.410156\"/>\n      </g>\n     </g>\n    </g>\n    <g id=\"xtick_6\">\n     <g id=\"line2d_6\">\n      <g>\n       <use xlink:href=\"#m3c54c4de61\" x=\"225.403125\" y=\"146.899219\" style=\"stroke: #000000; stroke-width: 0.8\"/>\n      </g>\n     </g>\n     <g id=\"text_6\">\n      <!-- 1.0 -->\n      <g transform=\"translate(217.451563 161.497656)scale(0.1 -0.1)\">\n       <defs>\n        <path id=\"DejaVuSans-31\" d=\"M 794 531 \nL 1825 531 \nL 1825 4091 \nL 703 3866 \nL 703 4441 \nL 1819 4666 \nL 2450 4666 \nL 2450 531 \nL 3481 531 \nL 3481 0 \nL 794 0 \nL 794 531 \nz\n\" transform=\"scale(0.015625)\"/>\n       </defs>\n       <use xlink:href=\"#DejaVuSans-31\"/>\n       <use xlink:href=\"#DejaVuSans-2e\" x=\"63.623047\"/>\n       <use xlink:href=\"#DejaVuSans-30\" x=\"95.410156\"/>\n      </g>\n     </g>\n    </g>\n   </g>\n   <g id=\"matplotlib.axis_2\">\n    <g id=\"ytick_1\">\n     <g id=\"line2d_7\">\n      <defs>\n       <path id=\"m57c5f2a1a7\" d=\"M 0 0 \nL -3.5 0 \n\" style=\"stroke: #000000; stroke-width: 0.8\"/>\n      </defs>\n      <g>\n       <use xlink:href=\"#m57c5f2a1a7\" x=\"30.103125\" y=\"146.899219\" style=\"stroke: #000000; stroke-width: 0.8\"/>\n      </g>\n     </g>\n     <g id=\"text_7\">\n      <!-- 0.0 -->\n      <g transform=\"translate(7.2 150.698437)scale(0.1 -0.1)\">\n       <use xlink:href=\"#DejaVuSans-30\"/>\n       <use xlink:href=\"#DejaVuSans-2e\" x=\"63.623047\"/>\n       <use xlink:href=\"#DejaVuSans-30\" x=\"95.410156\"/>\n      </g>\n     </g>\n    </g>\n    <g id=\"ytick_2\">\n     <g id=\"line2d_8\">\n      <g>\n       <use xlink:href=\"#m57c5f2a1a7\" x=\"30.103125\" y=\"119.719219\" style=\"stroke: #000000; stroke-width: 0.8\"/>\n      </g>\n     </g>\n     <g id=\"text_8\">\n      <!-- 0.2 -->\n      <g transform=\"translate(7.2 123.518437)scale(0.1 -0.1)\">\n       <use xlink:href=\"#DejaVuSans-30\"/>\n       <use xlink:href=\"#DejaVuSans-2e\" x=\"63.623047\"/>\n       <use xlink:href=\"#DejaVuSans-32\" x=\"95.410156\"/>\n      </g>\n     </g>\n    </g>\n    <g id=\"ytick_3\">\n     <g id=\"line2d_9\">\n      <g>\n       <use xlink:href=\"#m57c5f2a1a7\" x=\"30.103125\" y=\"92.539219\" style=\"stroke: #000000; stroke-width: 0.8\"/>\n      </g>\n     </g>\n     <g id=\"text_9\">\n      <!-- 0.4 -->\n      <g transform=\"translate(7.2 96.338437)scale(0.1 -0.1)\">\n       <use xlink:href=\"#DejaVuSans-30\"/>\n       <use xlink:href=\"#DejaVuSans-2e\" x=\"63.623047\"/>\n       <use xlink:href=\"#DejaVuSans-34\" x=\"95.410156\"/>\n      </g>\n     </g>\n    </g>\n    <g id=\"ytick_4\">\n     <g id=\"line2d_10\">\n      <g>\n       <use xlink:href=\"#m57c5f2a1a7\" x=\"30.103125\" y=\"65.359219\" style=\"stroke: #000000; stroke-width: 0.8\"/>\n      </g>\n     </g>\n     <g id=\"text_10\">\n      <!-- 0.6 -->\n      <g transform=\"translate(7.2 69.158437)scale(0.1 -0.1)\">\n       <use xlink:href=\"#DejaVuSans-30\"/>\n       <use xlink:href=\"#DejaVuSans-2e\" x=\"63.623047\"/>\n       <use xlink:href=\"#DejaVuSans-36\" x=\"95.410156\"/>\n      </g>\n     </g>\n    </g>\n    <g id=\"ytick_5\">\n     <g id=\"line2d_11\">\n      <g>\n       <use xlink:href=\"#m57c5f2a1a7\" x=\"30.103125\" y=\"38.179219\" style=\"stroke: #000000; stroke-width: 0.8\"/>\n      </g>\n     </g>\n     <g id=\"text_11\">\n      <!-- 0.8 -->\n      <g transform=\"translate(7.2 41.978437)scale(0.1 -0.1)\">\n       <use xlink:href=\"#DejaVuSans-30\"/>\n       <use xlink:href=\"#DejaVuSans-2e\" x=\"63.623047\"/>\n       <use xlink:href=\"#DejaVuSans-38\" x=\"95.410156\"/>\n      </g>\n     </g>\n    </g>\n    <g id=\"ytick_6\">\n     <g id=\"line2d_12\">\n      <g>\n       <use xlink:href=\"#m57c5f2a1a7\" x=\"30.103125\" y=\"10.999219\" style=\"stroke: #000000; stroke-width: 0.8\"/>\n      </g>\n     </g>\n     <g id=\"text_12\">\n      <!-- 1.0 -->\n      <g transform=\"translate(7.2 14.798437)scale(0.1 -0.1)\">\n       <use xlink:href=\"#DejaVuSans-31\"/>\n       <use xlink:href=\"#DejaVuSans-2e\" x=\"63.623047\"/>\n       <use xlink:href=\"#DejaVuSans-30\" x=\"95.410156\"/>\n      </g>\n     </g>\n    </g>\n   </g>\n   <g id=\"patch_3\">\n    <path d=\"M 30.103125 146.899219 \nL 30.103125 10.999219 \n\" style=\"fill: none; stroke: #000000; stroke-width: 0.8; stroke-linejoin: miter; stroke-linecap: square\"/>\n   </g>\n   <g id=\"patch_4\">\n    <path d=\"M 225.403125 146.899219 \nL 225.403125 10.999219 \n\" style=\"fill: none; stroke: #000000; stroke-width: 0.8; stroke-linejoin: miter; stroke-linecap: square\"/>\n   </g>\n   <g id=\"patch_5\">\n    <path d=\"M 30.103125 146.899219 \nL 225.403125 146.899219 \n\" style=\"fill: none; stroke: #000000; stroke-width: 0.8; stroke-linejoin: miter; stroke-linecap: square\"/>\n   </g>\n   <g id=\"patch_6\">\n    <path d=\"M 30.103125 10.999219 \nL 225.403125 10.999219 \n\" style=\"fill: none; stroke: #000000; stroke-width: 0.8; stroke-linejoin: miter; stroke-linecap: square\"/>\n   </g>\n  </g>\n </g>\n</svg>\n"
          },
          "metadata": {
            "needs_background": "light"
          }
        }
      ]
    }
  ]
}
