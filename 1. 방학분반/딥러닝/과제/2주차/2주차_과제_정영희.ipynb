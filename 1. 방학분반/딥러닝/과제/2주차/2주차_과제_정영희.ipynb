{
  "nbformat": 4,
  "nbformat_minor": 0,
  "metadata": {
    "colab": {
      "name": "정영희_2주차",
      "provenance": [],
      "collapsed_sections": []
    },
    "kernelspec": {
      "name": "python3",
      "display_name": "Python 3"
    },
    "language_info": {
      "name": "python"
    },
    "gpuClass": "standard"
  },
  "cells": [
    {
      "cell_type": "markdown",
      "source": [
        "#데이터 셋 불러오기"
      ],
      "metadata": {
        "id": "WT7mKeFgII2x"
      }
    },
    {
      "cell_type": "code",
      "source": [
        "!pip install d2l"
      ],
      "metadata": {
        "colab": {
          "base_uri": "https://localhost:8080/",
          "height": 1000
        },
        "id": "2l2wDwI8hiNx",
        "outputId": "6b066f0c-8b45-4787-9733-a48618fa1e8d"
      },
      "execution_count": null,
      "outputs": [
        {
          "output_type": "stream",
          "name": "stdout",
          "text": [
            "Looking in indexes: https://pypi.org/simple, https://us-python.pkg.dev/colab-wheels/public/simple/\n",
            "Collecting d2l\n",
            "  Downloading d2l-0.17.5-py3-none-any.whl (82 kB)\n",
            "\u001b[K     |████████████████████████████████| 82 kB 613 kB/s \n",
            "\u001b[?25hRequirement already satisfied: jupyter==1.0.0 in /usr/local/lib/python3.7/dist-packages (from d2l) (1.0.0)\n",
            "Collecting pandas==1.2.4\n",
            "  Downloading pandas-1.2.4-cp37-cp37m-manylinux1_x86_64.whl (9.9 MB)\n",
            "\u001b[K     |████████████████████████████████| 9.9 MB 23.9 MB/s \n",
            "\u001b[?25hCollecting matplotlib==3.5.1\n",
            "  Downloading matplotlib-3.5.1-cp37-cp37m-manylinux_2_5_x86_64.manylinux1_x86_64.whl (11.2 MB)\n",
            "\u001b[K     |████████████████████████████████| 11.2 MB 30.8 MB/s \n",
            "\u001b[?25hCollecting requests==2.25.1\n",
            "  Downloading requests-2.25.1-py2.py3-none-any.whl (61 kB)\n",
            "\u001b[K     |████████████████████████████████| 61 kB 5.3 MB/s \n",
            "\u001b[?25hCollecting numpy==1.21.5\n",
            "  Downloading numpy-1.21.5-cp37-cp37m-manylinux_2_12_x86_64.manylinux2010_x86_64.whl (15.7 MB)\n",
            "\u001b[K     |████████████████████████████████| 15.7 MB 25.8 MB/s \n",
            "\u001b[?25hRequirement already satisfied: qtconsole in /usr/local/lib/python3.7/dist-packages (from jupyter==1.0.0->d2l) (5.3.1)\n",
            "Requirement already satisfied: ipywidgets in /usr/local/lib/python3.7/dist-packages (from jupyter==1.0.0->d2l) (7.7.1)\n",
            "Requirement already satisfied: jupyter-console in /usr/local/lib/python3.7/dist-packages (from jupyter==1.0.0->d2l) (5.2.0)\n",
            "Requirement already satisfied: ipykernel in /usr/local/lib/python3.7/dist-packages (from jupyter==1.0.0->d2l) (4.10.1)\n",
            "Requirement already satisfied: nbconvert in /usr/local/lib/python3.7/dist-packages (from jupyter==1.0.0->d2l) (5.6.1)\n",
            "Requirement already satisfied: notebook in /usr/local/lib/python3.7/dist-packages (from jupyter==1.0.0->d2l) (5.3.1)\n",
            "Requirement already satisfied: packaging>=20.0 in /usr/local/lib/python3.7/dist-packages (from matplotlib==3.5.1->d2l) (21.3)\n",
            "Requirement already satisfied: cycler>=0.10 in /usr/local/lib/python3.7/dist-packages (from matplotlib==3.5.1->d2l) (0.11.0)\n",
            "Requirement already satisfied: kiwisolver>=1.0.1 in /usr/local/lib/python3.7/dist-packages (from matplotlib==3.5.1->d2l) (1.4.3)\n",
            "Requirement already satisfied: pyparsing>=2.2.1 in /usr/local/lib/python3.7/dist-packages (from matplotlib==3.5.1->d2l) (3.0.9)\n",
            "Collecting fonttools>=4.22.0\n",
            "  Downloading fonttools-4.34.4-py3-none-any.whl (944 kB)\n",
            "\u001b[K     |████████████████████████████████| 944 kB 58.1 MB/s \n",
            "\u001b[?25hRequirement already satisfied: python-dateutil>=2.7 in /usr/local/lib/python3.7/dist-packages (from matplotlib==3.5.1->d2l) (2.8.2)\n",
            "Requirement already satisfied: pillow>=6.2.0 in /usr/local/lib/python3.7/dist-packages (from matplotlib==3.5.1->d2l) (7.1.2)\n",
            "Requirement already satisfied: pytz>=2017.3 in /usr/local/lib/python3.7/dist-packages (from pandas==1.2.4->d2l) (2022.1)\n",
            "Requirement already satisfied: urllib3<1.27,>=1.21.1 in /usr/local/lib/python3.7/dist-packages (from requests==2.25.1->d2l) (1.24.3)\n",
            "Requirement already satisfied: idna<3,>=2.5 in /usr/local/lib/python3.7/dist-packages (from requests==2.25.1->d2l) (2.10)\n",
            "Requirement already satisfied: certifi>=2017.4.17 in /usr/local/lib/python3.7/dist-packages (from requests==2.25.1->d2l) (2022.6.15)\n",
            "Requirement already satisfied: chardet<5,>=3.0.2 in /usr/local/lib/python3.7/dist-packages (from requests==2.25.1->d2l) (3.0.4)\n",
            "Requirement already satisfied: typing-extensions in /usr/local/lib/python3.7/dist-packages (from kiwisolver>=1.0.1->matplotlib==3.5.1->d2l) (4.1.1)\n",
            "Requirement already satisfied: six>=1.5 in /usr/local/lib/python3.7/dist-packages (from python-dateutil>=2.7->matplotlib==3.5.1->d2l) (1.15.0)\n",
            "Requirement already satisfied: tornado>=4.0 in /usr/local/lib/python3.7/dist-packages (from ipykernel->jupyter==1.0.0->d2l) (5.1.1)\n",
            "Requirement already satisfied: ipython>=4.0.0 in /usr/local/lib/python3.7/dist-packages (from ipykernel->jupyter==1.0.0->d2l) (5.5.0)\n",
            "Requirement already satisfied: jupyter-client in /usr/local/lib/python3.7/dist-packages (from ipykernel->jupyter==1.0.0->d2l) (5.3.5)\n",
            "Requirement already satisfied: traitlets>=4.1.0 in /usr/local/lib/python3.7/dist-packages (from ipykernel->jupyter==1.0.0->d2l) (5.1.1)\n",
            "Requirement already satisfied: pexpect in /usr/local/lib/python3.7/dist-packages (from ipython>=4.0.0->ipykernel->jupyter==1.0.0->d2l) (4.8.0)\n",
            "Requirement already satisfied: decorator in /usr/local/lib/python3.7/dist-packages (from ipython>=4.0.0->ipykernel->jupyter==1.0.0->d2l) (4.4.2)\n",
            "Requirement already satisfied: pygments in /usr/local/lib/python3.7/dist-packages (from ipython>=4.0.0->ipykernel->jupyter==1.0.0->d2l) (2.6.1)\n",
            "Requirement already satisfied: prompt-toolkit<2.0.0,>=1.0.4 in /usr/local/lib/python3.7/dist-packages (from ipython>=4.0.0->ipykernel->jupyter==1.0.0->d2l) (1.0.18)\n",
            "Requirement already satisfied: simplegeneric>0.8 in /usr/local/lib/python3.7/dist-packages (from ipython>=4.0.0->ipykernel->jupyter==1.0.0->d2l) (0.8.1)\n",
            "Requirement already satisfied: pickleshare in /usr/local/lib/python3.7/dist-packages (from ipython>=4.0.0->ipykernel->jupyter==1.0.0->d2l) (0.7.5)\n",
            "Requirement already satisfied: setuptools>=18.5 in /usr/local/lib/python3.7/dist-packages (from ipython>=4.0.0->ipykernel->jupyter==1.0.0->d2l) (57.4.0)\n",
            "Requirement already satisfied: wcwidth in /usr/local/lib/python3.7/dist-packages (from prompt-toolkit<2.0.0,>=1.0.4->ipython>=4.0.0->ipykernel->jupyter==1.0.0->d2l) (0.2.5)\n",
            "Requirement already satisfied: widgetsnbextension~=3.6.0 in /usr/local/lib/python3.7/dist-packages (from ipywidgets->jupyter==1.0.0->d2l) (3.6.1)\n",
            "Requirement already satisfied: ipython-genutils~=0.2.0 in /usr/local/lib/python3.7/dist-packages (from ipywidgets->jupyter==1.0.0->d2l) (0.2.0)\n",
            "Requirement already satisfied: jupyterlab-widgets>=1.0.0 in /usr/local/lib/python3.7/dist-packages (from ipywidgets->jupyter==1.0.0->d2l) (1.1.1)\n",
            "Requirement already satisfied: jupyter-core>=4.4.0 in /usr/local/lib/python3.7/dist-packages (from notebook->jupyter==1.0.0->d2l) (4.11.1)\n",
            "Requirement already satisfied: terminado>=0.8.1 in /usr/local/lib/python3.7/dist-packages (from notebook->jupyter==1.0.0->d2l) (0.13.3)\n",
            "Requirement already satisfied: Send2Trash in /usr/local/lib/python3.7/dist-packages (from notebook->jupyter==1.0.0->d2l) (1.8.0)\n",
            "Requirement already satisfied: nbformat in /usr/local/lib/python3.7/dist-packages (from notebook->jupyter==1.0.0->d2l) (5.4.0)\n",
            "Requirement already satisfied: jinja2 in /usr/local/lib/python3.7/dist-packages (from notebook->jupyter==1.0.0->d2l) (2.11.3)\n",
            "Requirement already satisfied: pyzmq>=13 in /usr/local/lib/python3.7/dist-packages (from jupyter-client->ipykernel->jupyter==1.0.0->d2l) (23.2.0)\n",
            "Requirement already satisfied: ptyprocess in /usr/local/lib/python3.7/dist-packages (from terminado>=0.8.1->notebook->jupyter==1.0.0->d2l) (0.7.0)\n",
            "Requirement already satisfied: MarkupSafe>=0.23 in /usr/local/lib/python3.7/dist-packages (from jinja2->notebook->jupyter==1.0.0->d2l) (2.0.1)\n",
            "Requirement already satisfied: bleach in /usr/local/lib/python3.7/dist-packages (from nbconvert->jupyter==1.0.0->d2l) (5.0.1)\n",
            "Requirement already satisfied: testpath in /usr/local/lib/python3.7/dist-packages (from nbconvert->jupyter==1.0.0->d2l) (0.6.0)\n",
            "Requirement already satisfied: pandocfilters>=1.4.1 in /usr/local/lib/python3.7/dist-packages (from nbconvert->jupyter==1.0.0->d2l) (1.5.0)\n",
            "Requirement already satisfied: mistune<2,>=0.8.1 in /usr/local/lib/python3.7/dist-packages (from nbconvert->jupyter==1.0.0->d2l) (0.8.4)\n",
            "Requirement already satisfied: defusedxml in /usr/local/lib/python3.7/dist-packages (from nbconvert->jupyter==1.0.0->d2l) (0.7.1)\n",
            "Requirement already satisfied: entrypoints>=0.2.2 in /usr/local/lib/python3.7/dist-packages (from nbconvert->jupyter==1.0.0->d2l) (0.4)\n",
            "Requirement already satisfied: fastjsonschema in /usr/local/lib/python3.7/dist-packages (from nbformat->notebook->jupyter==1.0.0->d2l) (2.15.3)\n",
            "Requirement already satisfied: jsonschema>=2.6 in /usr/local/lib/python3.7/dist-packages (from nbformat->notebook->jupyter==1.0.0->d2l) (4.3.3)\n",
            "Requirement already satisfied: importlib-resources>=1.4.0 in /usr/local/lib/python3.7/dist-packages (from jsonschema>=2.6->nbformat->notebook->jupyter==1.0.0->d2l) (5.8.0)\n",
            "Requirement already satisfied: importlib-metadata in /usr/local/lib/python3.7/dist-packages (from jsonschema>=2.6->nbformat->notebook->jupyter==1.0.0->d2l) (4.12.0)\n",
            "Requirement already satisfied: pyrsistent!=0.17.0,!=0.17.1,!=0.17.2,>=0.14.0 in /usr/local/lib/python3.7/dist-packages (from jsonschema>=2.6->nbformat->notebook->jupyter==1.0.0->d2l) (0.18.1)\n",
            "Requirement already satisfied: attrs>=17.4.0 in /usr/local/lib/python3.7/dist-packages (from jsonschema>=2.6->nbformat->notebook->jupyter==1.0.0->d2l) (21.4.0)\n",
            "Requirement already satisfied: zipp>=3.1.0 in /usr/local/lib/python3.7/dist-packages (from importlib-resources>=1.4.0->jsonschema>=2.6->nbformat->notebook->jupyter==1.0.0->d2l) (3.8.0)\n",
            "Requirement already satisfied: webencodings in /usr/local/lib/python3.7/dist-packages (from bleach->nbconvert->jupyter==1.0.0->d2l) (0.5.1)\n",
            "Requirement already satisfied: qtpy>=2.0.1 in /usr/local/lib/python3.7/dist-packages (from qtconsole->jupyter==1.0.0->d2l) (2.1.0)\n",
            "Installing collected packages: numpy, fonttools, requests, pandas, matplotlib, d2l\n",
            "  Attempting uninstall: numpy\n",
            "    Found existing installation: numpy 1.21.6\n",
            "    Uninstalling numpy-1.21.6:\n",
            "      Successfully uninstalled numpy-1.21.6\n",
            "  Attempting uninstall: requests\n",
            "    Found existing installation: requests 2.23.0\n",
            "    Uninstalling requests-2.23.0:\n",
            "      Successfully uninstalled requests-2.23.0\n",
            "  Attempting uninstall: pandas\n",
            "    Found existing installation: pandas 1.3.5\n",
            "    Uninstalling pandas-1.3.5:\n",
            "      Successfully uninstalled pandas-1.3.5\n",
            "  Attempting uninstall: matplotlib\n",
            "    Found existing installation: matplotlib 3.2.2\n",
            "    Uninstalling matplotlib-3.2.2:\n",
            "      Successfully uninstalled matplotlib-3.2.2\n",
            "\u001b[31mERROR: pip's dependency resolver does not currently take into account all the packages that are installed. This behaviour is the source of the following dependency conflicts.\n",
            "google-colab 1.0.0 requires requests~=2.23.0, but you have requests 2.25.1 which is incompatible.\n",
            "datascience 0.10.6 requires folium==0.2.1, but you have folium 0.8.3 which is incompatible.\n",
            "albumentations 0.1.12 requires imgaug<0.2.7,>=0.2.5, but you have imgaug 0.2.9 which is incompatible.\u001b[0m\n",
            "Successfully installed d2l-0.17.5 fonttools-4.34.4 matplotlib-3.5.1 numpy-1.21.5 pandas-1.2.4 requests-2.25.1\n"
          ]
        },
        {
          "output_type": "display_data",
          "data": {
            "application/vnd.colab-display-data+json": {
              "pip_warning": {
                "packages": [
                  "matplotlib",
                  "mpl_toolkits",
                  "numpy",
                  "pandas",
                  "requests"
                ]
              }
            }
          },
          "metadata": {}
        }
      ]
    },
    {
      "cell_type": "code",
      "source": [
        "import d2l"
      ],
      "metadata": {
        "id": "KVFryTqXhno4"
      },
      "execution_count": null,
      "outputs": []
    },
    {
      "cell_type": "code",
      "execution_count": null,
      "metadata": {
        "id": "1JGFvbNk3i7k"
      },
      "outputs": [],
      "source": [
        "#라이브러리\n",
        "%matplotlib inline\n",
        "import torch\n",
        "import torchvision\n",
        "from torch.utils import data\n",
        "from torchvision import transforms\n",
        "from d2l import torch as d2l\n",
        "\n",
        "d2l.use_svg_display()"
      ]
    },
    {
      "cell_type": "markdown",
      "source": [
        "https://wikidocs.net/60324\n",
        "https://tutorials.pytorch.kr/beginner/basics/data_tutorial.html\n",
        "\n",
        "토치 비전(torchvision): 데이터셋, 모델 및 이미지 전처리 도구 등을 포함하는 패키지"
      ],
      "metadata": {
        "id": "3yN89wHVDeUa"
      }
    },
    {
      "cell_type": "code",
      "source": [
        "#GPU\n",
        "USE_CUDA = torch.cuda.is_available() #gpu 사용 가능하면 true, 아니면 false\n",
        "device = torch.device(\"cuda\" if USE_CUDA else \"cpu\") #gpu 가능하면 쓰고 아님 cpu 쓰기"
      ],
      "metadata": {
        "id": "rBTIbFk4FsJA"
      },
      "execution_count": null,
      "outputs": []
    },
    {
      "cell_type": "markdown",
      "source": [
        "사용 데이터 셋:MNIST\n",
        "http://yann.lecun.com/exdb/mnist/"
      ],
      "metadata": {
        "id": "MLBarcjZUZ2t"
      }
    },
    {
      "cell_type": "code",
      "source": [
        "trans = transforms.ToTensor() #ToTensor: PIL image파일 -> tensor\n",
        "\n",
        "trainset = torchvision.datasets.MNIST(\n",
        "    root = \"../data\",\n",
        "    train = True,\n",
        "    transform = trans,\n",
        "    download = True)\n",
        "\n",
        "testset = torchvision.datasets.MNIST(\n",
        "    root = \"../data\",\n",
        "    train = False,\n",
        "    transform = trans,\n",
        "    download = True)\n",
        "\n",
        "#root : train/test 데이터가 저장되는 경로\n",
        "#train: train/test 여부 결정\n",
        "#download=True: root 경로에 데이터가 없는 경우, 서버에서 다운로드\n",
        "# transform: feature와 label의 변형을 저장"
      ],
      "metadata": {
        "id": "2Dl9amw6WJzU"
      },
      "execution_count": null,
      "outputs": []
    },
    {
      "cell_type": "code",
      "source": [
        "len(trainset), len(testset)"
      ],
      "metadata": {
        "colab": {
          "base_uri": "https://localhost:8080/"
        },
        "id": "1X5WcUijVew6",
        "outputId": "3801cd2a-62bf-4f28-972e-f481490436f6"
      },
      "execution_count": null,
      "outputs": [
        {
          "output_type": "execute_result",
          "data": {
            "text/plain": [
              "(60000, 10000)"
            ]
          },
          "metadata": {},
          "execution_count": 80
        }
      ]
    },
    {
      "cell_type": "code",
      "source": [
        "trainset[0][0].shape\n",
        "#28x28 픽셀 크기에 1개의 채널(흑백)"
      ],
      "metadata": {
        "colab": {
          "base_uri": "https://localhost:8080/"
        },
        "id": "EHlcnXzDW5j0",
        "outputId": "7046e243-e1e8-467f-e418-934e868b99f0"
      },
      "execution_count": null,
      "outputs": [
        {
          "output_type": "execute_result",
          "data": {
            "text/plain": [
              "torch.Size([1, 28, 28])"
            ]
          },
          "metadata": {},
          "execution_count": 82
        }
      ]
    },
    {
      "cell_type": "markdown",
      "source": [
        "##시각화"
      ],
      "metadata": {
        "id": "TBTVseLCuCUF"
      }
    },
    {
      "cell_type": "code",
      "source": [
        "#이미지와 레이블 그리기\n",
        "def show_images(imgs, num_rows, num_cols, titles=None, scale=1.5):\n",
        "  figsize = (num_cols * scale, num_rows * scale)\n",
        "  _, axes = d2l.plt.subplots(num_rows, num_cols, figsize=figsize)\n",
        "  axes = axes.flatten()\n",
        "  for i, (ax, img) in enumerate(zip(axes, imgs)):\n",
        "    if torch.is_tensor(img):\n",
        "            # Tensor Image\n",
        "      ax.imshow(img.numpy())\n",
        "    else:\n",
        "# PIL Image\n",
        "        ax.imshow(img)\n",
        "    ax.axes.get_xaxis().set_visible(False)\n",
        "    ax.axes.get_yaxis().set_visible(False)\n",
        "    if titles:\n",
        "        ax.set_title(titles[i])\n",
        "  return axes"
      ],
      "metadata": {
        "id": "wiPV-Y82fw_z"
      },
      "execution_count": null,
      "outputs": []
    },
    {
      "cell_type": "code",
      "source": [
        "X, y = next(iter(data.DataLoader(trainset, batch_size=18)))\n",
        "show_images(X.reshape(18, 28, 28), 2, 9, titles= y.tolist());"
      ],
      "metadata": {
        "colab": {
          "base_uri": "https://localhost:8080/",
          "height": 279
        },
        "id": "hzf213PznMHR",
        "outputId": "c3aed322-5037-43fb-bdf7-5a6eff29c432"
      },
      "execution_count": null,
      "outputs": [
        {
          "output_type": "display_data",
          "data": {
            "text/plain": [
              "<Figure size 972x216 with 18 Axes>"
            ],
            "image/svg+xml": "<?xml version=\"1.0\" encoding=\"utf-8\" standalone=\"no\"?>\n<!DOCTYPE svg PUBLIC \"-//W3C//DTD SVG 1.1//EN\"\n  \"http://www.w3.org/Graphics/SVG/1.1/DTD/svg11.dtd\">\n<!-- Created with matplotlib (https://matplotlib.org/) -->\n<svg height=\"193.03689pt\" version=\"1.1\" viewBox=\"0 0 771.2 193.03689\" width=\"771.2pt\" xmlns=\"http://www.w3.org/2000/svg\" xmlns:xlink=\"http://www.w3.org/1999/xlink\">\n <defs>\n  <style type=\"text/css\">\n*{stroke-linecap:butt;stroke-linejoin:round;}\n  </style>\n </defs>\n <g id=\"figure_1\">\n  <g id=\"patch_1\">\n   <path d=\"M 0 193.03689 \nL 771.2 193.03689 \nL 771.2 -0 \nL 0 -0 \nz\n\" style=\"fill:none;\"/>\n  </g>\n  <g id=\"axes_1\">\n   <g id=\"patch_2\">\n    <path d=\"M 10.7 93.384163 \nL 81.766038 93.384163 \nL 81.766038 22.318125 \nL 10.7 22.318125 \nz\n\" style=\"fill:#ffffff;\"/>\n   </g>\n   <g clip-path=\"url(#pa614b1dc41)\">\n    <image height=\"72\" id=\"imagebec42f723d\" transform=\"scale(1 -1)translate(0 -72)\" width=\"72\" x=\"10.7\" xlink:href=\"data:image/png;base64,\niVBORw0KGgoAAAANSUhEUgAAAEgAAABICAYAAABV7bNHAAAABHNCSVQICAgIfAhkiAAADy9JREFUeJztm0lspMd1x3+1fGsvbDb3nZxNs0iyFclrFK8KAthAFsQIEgQIYMDHADnnllOOCRA4QHLKIbCRBEjgQxAkBmJHiazFtiRbzthDSTMiTQ7XJnvv/vpbqnJozkjjoUUq6iF54O9CdKPqY9X/e1X13qvX4jnxFcs5vxR52gM465wLdATnAh3BuUBHcC7QEZwLdAT6OI2E4yKvLBGP5YiHNK0phXHFww0tqNiiIlCJxatm6G7Wf4a1iMTgrO2R7eyCsdgkHuhkHgXHEkjmAiofK1O9DmK+zZ88+V2uehuHtv1JNMfN1gyb3SI3355B73lgQQC6LZh6UeN1uxAnZFkGJhvkfAbOsQRCSIwC41ryfsIN7y6Pu00cIXFQKCGQB6t1RC5TUh3e8ce4OzZETeXACrCQ5hXtSQd3bwLR6aGqHiQxphth4xjs2fNZjyWQjWOKawlWOTSjEl8f+QI3iptc8ze46m4RyoRppfCEw7RO8cQKV91N5q/sUUkLZLYvXivzeOmxJVZqRaLdEYZuTeA2LMM/bSFv3sGm6ZkT6ngCpSnedpuiyGEcl59sTFPp5onGHAqqS8l2GJMRnoBh6TN8sPU/7d194DkGQ3P0JSJr+afGk/x14bOw6+E2Q4pvuf3/laRgz86yUxfE9T87qpEQAhWESCRCarrKp1bLcbM1zsutJV7rLiLciA4dWjYmJaZnUxwhUeLdg1IgMBgkULOK23acXgidNESFZezkCK4TonI5hNaQJIA4VYsSxw1WhechtEb4HqKQxzoaUwxICx6NBY/6l9pcm9zmenGTp3MrlFSb606dURU89CyDoWlitjNJzXj84/4neGlrib1KgdIrLuGuIb/aQS6vYuMYEyentpkfy4IAyDJskmC7XUytjt2vIlsRut5FOzn2Fj06rsQoiacNPRwKqomih8EgEAjRtyKBwBeaEaUYVxmJ7GJdSVu51PcLCCPQPYHbiEFphDUHVnTy1nRsCzq0s+MiXAc5NkLjqSmikiQeEsQlyHxLMpqgw5RrM1t8bfq/mdR1FnXMsPTvP8NguJMkrKbDrMSj/Pvu4+x2c2xslPHWXJwWDL+Z4u/00JUmZmX9RP2nDyXQA0iFkAJZGkIUC5jQpztXIC4qdp4R/M4XX+ZGeJdP+CtccryHuhsMAJm1JGQ83x3h27Un+Fl9go0XZimsWIqrPZzvL2M6nROzpOMvsaOwFoxBCImQEmEsUjuoFJK85nYpz0pvjIYKaNGlYjJc0SEjQ2BxhEYgUELiCEXDxHSEi1CCW9EIqatIfQfPLaHGRlFhDum4SEdj4/SRCTY4C7qHVAilEEoifA+0xk6O0VksEhck+zcE8XTC2ESdr134HlfcLRZ0g1n94GbeMj1qxtCxilvxBHtZnh80lnhlc5520yf/WkDp7RSv0kO98Tam3R7oNO5xPE/6g2AyrMmwCRBFAMhuRL4+jC3mSP0yrdRllyFWpkfJyR5l1SGx2QMeeV565A88hCtOFajyUX+VheAJ3myP8+LWDdy6QqQuoe9BN4L7m/ngGNwSez+kRFgQcYJrPLyGRNc0r7bn+M+tx3g5W2JdeiwnIY7cw9BDYHDFL76/CEf2GPNabBVzbE05VGdd4qlxkqszhKII25WBDn3wFnQIttcji/snj9yrEkpBoTzM6BvjJHmH7Y/P8I3HhxkttVCLhuv+XWZU674F3WNCeYz6TQx1fuPiHaIL8Eo0xzcf/wSr1WH2KTH8YzlQT/xkLOi9mAyyDIRAahdpIC559DxNM3OJQ03N5mnhgqizbzK6NiayKQZDKF20UPhSEQpFhx53knE6xqV3q0DuxxtgzMCGeyIWdBi224XNHeSew0QzYvSNHPGQy9sXrvCzwmO0Zwz5hToFv8fV0g5Tfp2nwlWeC7cJhYtEIgUUZMycX6Wdetz0ZkBIEINzKE9PoDTFNpv9D3v7AATFIv72LGnBY/+aTz0dopkzxLOa3UKeId0hCTb7yaUDfJExrNuUnC5GAfKQRN6H4OSX2PsghEBqB5kYdKaRPY1XkUSVHLubJd70Snx5/EcMSYk4UCm2CSkWIeGllcuUVyXKD/ppk+zD70WnZkGHYaIIu74BQuL93MF/1e1bhOz7VStfvcja9SLTqo0jQCIpS5dnvH0mVYO/mP512ldH8fZjdKdL1ut96DGdKYGgv/SAfrzV6YCQSNfBKoVMDu+TWEvGYJfWPc6cQPcQjovwPWQuJLkwSVxyac9nFGSEI9R9h3Izi/mvziVudacIVlxyt7YQnYis0xnIOM6wQBrh+9hCjtZ8QGdcokY75ESKxL3fbs94vN5aYLkxTrhtyW6vDjR3dLYEkgqVz4GjsXOTtOfy9IYk1WuCeCTl2tQOBZnRswnLieRuWuL5xlW+/fZVkqrHbGVw/s89zpRAMvBhZgKT99n81QLdT7YYGWrztbkf8SvBCpOqxah0qZuYv6t8kRc3F6mtlph+HoLdGHd1j3TAmcezIdBBLkkEPmkpJBlyiUYtV6d2uJCv8IXcz3jSVSRW0bMp+0ax0i5T3csT7Chy6y30dh1bqw98aKcvkFTo+RnSyRKNmYDNZwVivMf12TW+MvFDxnWTaRUDAd+Nivz99qdZa5bYfW2CkTsQ7qbozSq23sB0o4EP79QFEkqRTA1TuxLSuAh/8PkX+L3SDyjLlDHVzzxK+rmi7zWv8P3XL+NVFFOvpuRuVfon1k7lkaVhT08gqZCugwgCWtM+zSVBbyph1OmHH5XMYSMDYyV7JkdkXF7cvUCwofD2LW41RnQibBRhB+Ax/zJOTSAZ+MixEUwpz9anBb//xf+hrNssuhW20gIvtS/zg+oCjZ7PRqVE1tIUlh3mv1ND1tvYRpOs1e6HE4/wSujUBBKOxub692p2vMcfll7BIFhLS9RMyM+7ZVb2y3Q7LnLdJ2wIiqsZ4s46aaNxYuM8cYGE1iAkdn6Krc+UiUbhxvwdStLw43iEP7/9Jbb2i5j1kMKqwI8sfs2guwZ/o4MZQHz1QTgVgYTr0l4oEn22yY3JTb4y/ipl5bESj7LzyiTDb8HQnS765jvYOAFjsNb2Ly8PYrWT4mQFkgo5XMIW83RHFBNDTS7mK/gyYTfrsR6XceuCYD9B17pkjdap1w+dqEAyF9L41AK1S4rW5YQ/nfs+H/VXuROP8436U/zH+jWGl1Nyb2z2k2lnoLjqRGsUhevQmlS0LibMzO3xyeAO152M2CputqbYr+bwd7qk63fJ6ie3Eb8fj1QgofX9qpD+FwKrAMfi6RSFJbGG19qLvLy6iLrro9oHDt8ZKaJ6dEtMCEQQILTGxnHfmRMS44LyU3JOjMSSYHlxawn39TzhlkXUW2dGHHgEAgmt+xbjOMjSENZzkFHcz+/kQ9IAwrBH0YlwhYFfzASKQzKD94JZ10V4/fDDtNonUuUxcIHU7DTx3AhJXtNY0MRDAqcJwZ4hyQnU0zX++LHnmXf2KEuJFILnppf5109p9t4ZonyzhNyt9G890hThuKjxUWzgES2WqT7mIVPL+EtV7Bu3Bj38hxisQEKQDRdoLPrEQ4L6tQxntEu76hNtatLA8pvzt/hqce2gg0diMz5TWMZbSvlnPkJSDPFct+/3pClCyf6dfimkfsGl9nQMiaC4ksd9Y6CjP5TBCCQEQjsIR9OdCqlfhqRoGJqtM1eqsVPIUykUcNyUy8H2A12VEJRViyVvh0vlCrefvMxQ8SqyZ1E9Q+ZLmnOauChozxqmp/dpdH3SsPCexOujYyACCaWQ+RzC99i74fDMcz9lMdzj2fybLOgqPatoWweF5YITAe9WmEkk152ERb3K/Mw+X/9dy3qzRCd2iCKHwE/4/NxbPBGuk5M9SqrDDztLfKv8ecJBDP4IBmRBErQGzyXNwTNDK1xwd3jc3WPifhHnvZPJf6i7Jxw84bCgGzxbfpu1sEwjDajGASNem98uvcZH3BYJlrax7LgFMl8gnAMbsg/noq2x7/1w8PeDn46DsSBHQ6lAVgxI8oZJXWdcNfEPO5Heh5KUfDK4zXXvLh3rERmHUPZY0A084SLJkLL//NacZeTZxxHGIlL7wORFapCdBJGkiCSFJIUkIavWsB8w2B2MQLpfEpyUfLJcfwJlFeGID+aH5qXH0x4YOsC791r3MooOioSMcdXCzETs3QgQmUXGIN5jRCqxeDWDig2qm6G6CbKbIP8ft60DEchmGbITox2Fv+XxN1ufY9RtM+K28ERKQUUMqTa+TCjJDkUZIYXBxSCFZVJlD1S+yvdx8JUQeCKlPNymPusjY9AdgTCQ+mA8i0wkuiWRCTgdi9PycDqGfJqhHI2NescuBB1MjaJUyMBHOBpzeZ76pRxGC4wDVkJvWNCdMBjf4k+2mRhq4sqMghtRcHr81sjrfDk8/o1Ey/T4l9YFXm8tsN4p8ebuGFkmeWp2nc8NL5NYTSXN08lclpsTrFSHae7nGH3BYeidHu52C/PWyrEczcFs0ia7X0Sp7txluD4MSmKVAiXoTudpNDVpTtLK8qzFGq0zAi8h9GLWCiN0gl3UL7lfl0jUe/YzKQRP+GuM6Qb/683RTl16qeZzw8v8UfGdg0r+lMjCK7k5Xsxd4ie5aXbHZvBrDrrlHbtMZuCetO1GiGqjX+UqBEhJmGTobh7jSnIbmiQfHPy8StDU8FeTX+Ivx58D8bAxazfjytQO87kqWmQ4IkMKixQWheGFnYtsvT6JigR/G/0a0SWHaafK095dylJy2d0mK0gckfGtySl0R6G6PoHWx9qwBy6Q6XSg233wy02JfkuBFHgHoiEEQilQCpHPYUP/0LealnO885klfjo9j9UWtAVtKJXbjObbrN0eY+k7CW61x8+zMt/UH+NSqcLVmW0uKp/HRMS0WmVEtfi32Ru0kzxeXRMqdaz5PJpo/hc3P9svDYZ3vSHg3SA0TRHR4W9TG0uwE2CVwiowjsVqqPUUjXyAv6Nxq01kvYNfybO7UaLV9fiH8OP8KNggsi4947DcmSTaCwiaAqeT9UOZYzD4QvIPynss6TCk58HkGDb0sEr0o30hyHyNcSROPUKubGLjBDE7STKeJ/MUvZImcw5Wre0f/cF2jGrFqGqTbH3jWPnt0xfojHP+s/AjOBfoCM4FOoJzgY7gXKAjOBfoCM4FOoJzgY7gXKAjOBfoCM4FOoL/A5kwcoOBEcVcAAAAAElFTkSuQmCC\" y=\"-21.384163\"/>\n   </g>\n   <g id=\"patch_3\">\n    <path d=\"M 10.7 93.384163 \nL 10.7 22.318125 \n\" style=\"fill:none;stroke:#000000;stroke-linecap:square;stroke-linejoin:miter;stroke-width:0.8;\"/>\n   </g>\n   <g id=\"patch_4\">\n    <path d=\"M 81.766038 93.384163 \nL 81.766038 22.318125 \n\" style=\"fill:none;stroke:#000000;stroke-linecap:square;stroke-linejoin:miter;stroke-width:0.8;\"/>\n   </g>\n   <g id=\"patch_5\">\n    <path d=\"M 10.7 93.384163 \nL 81.766038 93.384163 \n\" style=\"fill:none;stroke:#000000;stroke-linecap:square;stroke-linejoin:miter;stroke-width:0.8;\"/>\n   </g>\n   <g id=\"patch_6\">\n    <path d=\"M 10.7 22.318125 \nL 81.766038 22.318125 \n\" style=\"fill:none;stroke:#000000;stroke-linecap:square;stroke-linejoin:miter;stroke-width:0.8;\"/>\n   </g>\n   <g id=\"text_1\">\n    <!-- 5 -->\n    <defs>\n     <path d=\"M 10.796875 72.90625 \nL 49.515625 72.90625 \nL 49.515625 64.59375 \nL 19.828125 64.59375 \nL 19.828125 46.734375 \nQ 21.96875 47.46875 24.109375 47.828125 \nQ 26.265625 48.1875 28.421875 48.1875 \nQ 40.625 48.1875 47.75 41.5 \nQ 54.890625 34.8125 54.890625 23.390625 \nQ 54.890625 11.625 47.5625 5.09375 \nQ 40.234375 -1.421875 26.90625 -1.421875 \nQ 22.3125 -1.421875 17.546875 -0.640625 \nQ 12.796875 0.140625 7.71875 1.703125 \nL 7.71875 11.625 \nQ 12.109375 9.234375 16.796875 8.0625 \nQ 21.484375 6.890625 26.703125 6.890625 \nQ 35.15625 6.890625 40.078125 11.328125 \nQ 45.015625 15.765625 45.015625 23.390625 \nQ 45.015625 31 40.078125 35.4375 \nQ 35.15625 39.890625 26.703125 39.890625 \nQ 22.75 39.890625 18.8125 39.015625 \nQ 14.890625 38.140625 10.796875 36.28125 \nz\n\" id=\"DejaVuSans-53\"/>\n    </defs>\n    <g transform=\"translate(42.415519 16.318125)scale(0.12 -0.12)\">\n     <use xlink:href=\"#DejaVuSans-53\"/>\n    </g>\n   </g>\n  </g>\n  <g id=\"axes_2\">\n   <g id=\"patch_7\">\n    <path d=\"M 95.979245 93.384163 \nL 167.045283 93.384163 \nL 167.045283 22.318125 \nL 95.979245 22.318125 \nz\n\" style=\"fill:#ffffff;\"/>\n   </g>\n   <g clip-path=\"url(#p16d96c3a03)\">\n    <image height=\"72\" id=\"image7337e88706\" transform=\"scale(1 -1)translate(0 -72)\" width=\"72\" x=\"95.979245\" xlink:href=\"data:image/png;base64,\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\" y=\"-21.384163\"/>\n   </g>\n   <g id=\"patch_8\">\n    <path d=\"M 95.979245 93.384163 \nL 95.979245 22.318125 \n\" style=\"fill:none;stroke:#000000;stroke-linecap:square;stroke-linejoin:miter;stroke-width:0.8;\"/>\n   </g>\n   <g id=\"patch_9\">\n    <path d=\"M 167.045283 93.384163 \nL 167.045283 22.318125 \n\" style=\"fill:none;stroke:#000000;stroke-linecap:square;stroke-linejoin:miter;stroke-width:0.8;\"/>\n   </g>\n   <g id=\"patch_10\">\n    <path d=\"M 95.979245 93.384163 \nL 167.045283 93.384163 \n\" style=\"fill:none;stroke:#000000;stroke-linecap:square;stroke-linejoin:miter;stroke-width:0.8;\"/>\n   </g>\n   <g id=\"patch_11\">\n    <path d=\"M 95.979245 22.318125 \nL 167.045283 22.318125 \n\" style=\"fill:none;stroke:#000000;stroke-linecap:square;stroke-linejoin:miter;stroke-width:0.8;\"/>\n   </g>\n   <g id=\"text_2\">\n    <!-- 0 -->\n    <defs>\n     <path d=\"M 31.78125 66.40625 \nQ 24.171875 66.40625 20.328125 58.90625 \nQ 16.5 51.421875 16.5 36.375 \nQ 16.5 21.390625 20.328125 13.890625 \nQ 24.171875 6.390625 31.78125 6.390625 \nQ 39.453125 6.390625 43.28125 13.890625 \nQ 47.125 21.390625 47.125 36.375 \nQ 47.125 51.421875 43.28125 58.90625 \nQ 39.453125 66.40625 31.78125 66.40625 \nz\nM 31.78125 74.21875 \nQ 44.046875 74.21875 50.515625 64.515625 \nQ 56.984375 54.828125 56.984375 36.375 \nQ 56.984375 17.96875 50.515625 8.265625 \nQ 44.046875 -1.421875 31.78125 -1.421875 \nQ 19.53125 -1.421875 13.0625 8.265625 \nQ 6.59375 17.96875 6.59375 36.375 \nQ 6.59375 54.828125 13.0625 64.515625 \nQ 19.53125 74.21875 31.78125 74.21875 \nz\n\" id=\"DejaVuSans-48\"/>\n    </defs>\n    <g transform=\"translate(127.694764 16.318125)scale(0.12 -0.12)\">\n     <use xlink:href=\"#DejaVuSans-48\"/>\n    </g>\n   </g>\n  </g>\n  <g id=\"axes_3\">\n   <g id=\"patch_12\">\n    <path d=\"M 181.258491 93.384163 \nL 252.324528 93.384163 \nL 252.324528 22.318125 \nL 181.258491 22.318125 \nz\n\" style=\"fill:#ffffff;\"/>\n   </g>\n   <g clip-path=\"url(#pcc5f841015)\">\n    <image height=\"72\" id=\"image784d116fef\" transform=\"scale(1 -1)translate(0 -72)\" width=\"72\" x=\"181.258491\" xlink:href=\"data:image/png;base64,\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\" y=\"-21.384163\"/>\n   </g>\n   <g id=\"patch_13\">\n    <path d=\"M 181.258491 93.384163 \nL 181.258491 22.318125 \n\" style=\"fill:none;stroke:#000000;stroke-linecap:square;stroke-linejoin:miter;stroke-width:0.8;\"/>\n   </g>\n   <g id=\"patch_14\">\n    <path d=\"M 252.324528 93.384163 \nL 252.324528 22.318125 \n\" style=\"fill:none;stroke:#000000;stroke-linecap:square;stroke-linejoin:miter;stroke-width:0.8;\"/>\n   </g>\n   <g id=\"patch_15\">\n    <path d=\"M 181.258491 93.384163 \nL 252.324528 93.384163 \n\" style=\"fill:none;stroke:#000000;stroke-linecap:square;stroke-linejoin:miter;stroke-width:0.8;\"/>\n   </g>\n   <g id=\"patch_16\">\n    <path d=\"M 181.258491 22.318125 \nL 252.324528 22.318125 \n\" style=\"fill:none;stroke:#000000;stroke-linecap:square;stroke-linejoin:miter;stroke-width:0.8;\"/>\n   </g>\n   <g id=\"text_3\">\n    <!-- 4 -->\n    <defs>\n     <path d=\"M 37.796875 64.3125 \nL 12.890625 25.390625 \nL 37.796875 25.390625 \nz\nM 35.203125 72.90625 \nL 47.609375 72.90625 \nL 47.609375 25.390625 \nL 58.015625 25.390625 \nL 58.015625 17.1875 \nL 47.609375 17.1875 \nL 47.609375 0 \nL 37.796875 0 \nL 37.796875 17.1875 \nL 4.890625 17.1875 \nL 4.890625 26.703125 \nz\n\" id=\"DejaVuSans-52\"/>\n    </defs>\n    <g transform=\"translate(212.974009 16.318125)scale(0.12 -0.12)\">\n     <use xlink:href=\"#DejaVuSans-52\"/>\n    </g>\n   </g>\n  </g>\n  <g id=\"axes_4\">\n   <g id=\"patch_17\">\n    <path d=\"M 266.537736 93.384163 \nL 337.603774 93.384163 \nL 337.603774 22.318125 \nL 266.537736 22.318125 \nz\n\" style=\"fill:#ffffff;\"/>\n   </g>\n   <g clip-path=\"url(#p05b9519b64)\">\n    <image height=\"72\" id=\"image9e77b17415\" transform=\"scale(1 -1)translate(0 -72)\" width=\"72\" x=\"266.537736\" xlink:href=\"data:image/png;base64,\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\" y=\"-21.384163\"/>\n   </g>\n   <g id=\"patch_18\">\n    <path d=\"M 266.537736 93.384163 \nL 266.537736 22.318125 \n\" style=\"fill:none;stroke:#000000;stroke-linecap:square;stroke-linejoin:miter;stroke-width:0.8;\"/>\n   </g>\n   <g id=\"patch_19\">\n    <path d=\"M 337.603774 93.384163 \nL 337.603774 22.318125 \n\" style=\"fill:none;stroke:#000000;stroke-linecap:square;stroke-linejoin:miter;stroke-width:0.8;\"/>\n   </g>\n   <g id=\"patch_20\">\n    <path d=\"M 266.537736 93.384163 \nL 337.603774 93.384163 \n\" style=\"fill:none;stroke:#000000;stroke-linecap:square;stroke-linejoin:miter;stroke-width:0.8;\"/>\n   </g>\n   <g id=\"patch_21\">\n    <path d=\"M 266.537736 22.318125 \nL 337.603774 22.318125 \n\" style=\"fill:none;stroke:#000000;stroke-linecap:square;stroke-linejoin:miter;stroke-width:0.8;\"/>\n   </g>\n   <g id=\"text_4\">\n    <!-- 1 -->\n    <defs>\n     <path d=\"M 12.40625 8.296875 \nL 28.515625 8.296875 \nL 28.515625 63.921875 \nL 10.984375 60.40625 \nL 10.984375 69.390625 \nL 28.421875 72.90625 \nL 38.28125 72.90625 \nL 38.28125 8.296875 \nL 54.390625 8.296875 \nL 54.390625 0 \nL 12.40625 0 \nz\n\" id=\"DejaVuSans-49\"/>\n    </defs>\n    <g transform=\"translate(298.253255 16.318125)scale(0.12 -0.12)\">\n     <use xlink:href=\"#DejaVuSans-49\"/>\n    </g>\n   </g>\n  </g>\n  <g id=\"axes_5\">\n   <g id=\"patch_22\">\n    <path d=\"M 351.816981 93.384163 \nL 422.883019 93.384163 \nL 422.883019 22.318125 \nL 351.816981 22.318125 \nz\n\" style=\"fill:#ffffff;\"/>\n   </g>\n   <g clip-path=\"url(#p8855911175)\">\n    <image height=\"72\" id=\"imagecda230beae\" transform=\"scale(1 -1)translate(0 -72)\" width=\"72\" x=\"351.816981\" xlink:href=\"data:image/png;base64,\niVBORw0KGgoAAAANSUhEUgAAAEgAAABICAYAAABV7bNHAAAABHNCSVQICAgIfAhkiAAADWZJREFUeJztm9uPXFdWh7+197nVqTp1b/fNdre748TGJpMEK1FgNBBppIgZhHgYCY3EA0iIv4P5B5B44n0ekJBAI6IJUkIIgwgzgQmZTOLEseOxY/e9u7rut3PdPFRjp6OBZsZ9G9E/qaRSd1WdVd9Za++19lolX5dvGc70P8o6aQP+TxIBUZOnSgAwaQrm6O/t6QWkNMqxkSAgunaBcc1mXFUMZwRJYPrHIblbG5jxmLTVgSw9EjNOLSDl2EguB+eqbLzsMbwUs7S0wV8svcZ6XOE77rdZ6NRQnSHSH2DC/y+A9sJJVcpk01VGs3nGUxmFqQEXCy08iSevM0CWTR5HqNMFSGmU5yKuS+e3Ftj4qmCqEd+4+iFfK33KalTju42vcrt7jvyaQW+1MeMxJk6OzKRTBUiUII6NuA79Oc3i9VWeKu7wR7Uf8ryb8T2jeH3zOiuNMlOdDNPvY6IYzNF50ekClMthFuaIix7DOcOrtYfMOm020xLvjEe81niO+7dmcXc1uZ0xJoon3nOEu9mpAqSKAa0rJUZTCufpDn9c+SEZwvd7z3JvVOdHt5aZ/wF4u2Pcu1sko9GRb/XqSD/9F5VtERWFcRWq+SE1bfAkZSMqcbc7hW5beM0YuznEHAMcOGUelFYCdl9IubC0wzfnbuKK4pMkz2s3nyV322PqfoZ7v4HpD8j6g2Ox6XQBKjjMX2rwpwv/yhV3AxvNblrAvedx7v0Yb6NPurGFCcNjs+lUAFKeh+RyhEWLem7AvN2irCK0OKQIKgKrHyOjCJMdb+l48oBEUFN10nqJ/pzFK+UVXnIHKGwUinFm43TB3uxAbzCpwY5RpwCQwrg2acEhyQkla0hBeaR7uU2GQiUGCWNMkhxpzvPzdOK7mCghrQd0Fz1G5wxlPfwCnJM/iTlxQGhNWHEZzAtRPSVQY+B0wIHTAAhQqUFFILEQG31q4MBpAJSmWL2YXMNgdxSDzD1pi/bp5AEBKkqwxgYVTTzoNOnEdzGTpljbHQJgXC7SSf2TNmmfTt6DjCFZXYOf3iZYSWgm+ZO2aJ9O3IMAxHEQxyFzBc3x5jkH6eQBKY26OE80X6azYFG3+ydt0T6deIiJErKSz3DaISpBQY9P2qR9OnFAAKRmUk7sRZdCUEz6X4EaMzonjJ6ZxsyeQyz7WE07FYAkTSeAUsiMoOWxWTXdZ7QYsfO8y2C5iDjHC+hw1iARRGvQGuX7SN5/9HeUQGYetWhMHEOaYZIEMw4RPYGhYoNKoJd59LMxtmgUClsSdC4hyTukrgJ1vPf0UACpXA6Zn8HkPbZeKtG8kSBuimWnKJ0RhxbZwEZChb+hcFsGr5lRvN1BhiGkBm9riF8v8tbWVap6wDV3jWedFFuEID+mU/GICvII6HHpUACJY5PUA6KKQ/P5lL965btcsNrMaUNBudyNQ94PL7AaVfmb+y/QXC+RW7NwugWclo0eROhmH6+Z58FuhXcLy3jlmOvOGg5C4IW0CwmJ5zzq0R+XngyQ0pPQqldpXvcZnhOq8w2quo8vKbZMPj5QGfNWC1sSrk9tcMdK2SkEbKoc1tDBGoI1MgxmhflqhymnR6BGAPgqYbnUYBDZjEt1+FXyIOW5SM5jtFwj/b0Wf7j4ITfy97hsxdhiYcukrqoqh684fWJ6PDe3Tm/GZmAcdl4sMsgcHkZ11sMygTXmaW+Tsh5y0WqhUFRVyrfr7/Lb5QrfWfkDxD3eYvbJPEgELIs0p3imvs2rwUdM6xG+ckmNoZNFjPdaM+neCUYgULZiFDG2M/GSB8kq60kJAEWGlgxfJYCNLYp5q0tehYifgm0hlvWrMf4iWiOWRWYJVWfInDXCl0n+ciuGP7v5J7QeVMCApIKxDPn5HhfKbWZzXX6zdJeyHlLWA6q6j8MEjI0hUIIWAaOpqghfhpSrfQbXpvEqAXplk7SxeygQ/jf98oBEQGtQitQWqvaAaf3Y/T8O50j+qc4zbzeRJIMonuxyL5f5bLHErXMxvaddLuRavBT8jEWrgyuTcPzv0JxcJ6OqJx65WG5y/1KN2C9Q6pfgVAOCyQG6mWTAYWYxzGJsUdiiyauIsGoYXiziNkPslSGSZvg7RVJXE4YO7+kFPvLn+Lg2yzvFbWacLl8PbjKjJ54YKGff5SrOiFtVkERRzHug9CMbjkp6SX7tz3/ZN4vtIJYmni9jv9Tlev4eQkJeWaQMeMdf4OF8jowcwc0GWWOXXCOkeG9E5XZI9QOh+B+K0c0K9z86z3+uLvFpvUaoNVoNmdUpai9klQhrxuLHapZ+UZPftHHWWohSR9oKejIPyjJMmiGpYZg4tDOPvEyq8UDFPFtdQ6uM9QfnQYQsisk2t/bdcREhmJslXy9hj0rcv1HjYn6KabtNaG9gox6F3JTV5Xy1zYNUiPM+vudOxl+OsNP6RB4EAlmGKlf4ZKnMQ11D2RnXnCZKDIlKqHhjPrLqjPwZ0qU5/NSHdm/ydmMmZQqCSg1OYtFLyny6NscbzSv8/fhp3hosMpVbY8YakRDiuSn5fMytwQy2U0UXiujWABNFhwLky3oyQFmKiWOsXIHBVImVUZmopPjd0m0C5XDeanHNW6dS6nFnpsTWBQtnu4D7+S6i5NFWbaKIrNdHGm1Kt3vUPuhTXMsz3C6x3qhhXYp4yX9ATSfcyDV4xr/Pm/oyDTdPZtsE9/pHNsxwKGmphBFe0+Buaz5r1vko9rkbJ8TGkBfFnN1iudRgutplWFfI/AyqXkMcZ7IbGrMPVNbuYDeH5BoZbgsaUYFeZsgATyzKKuF80CadDhnXBFMpoovFI0kinzDE9hQnFJqK0oOUjqnwunuZH42WWS6sc9nJKKkuy7l1FoMm/+gs0Z8qk9RKFJoZpNneQObeQptlmCRFjSO83RDbeDz8dYcrlQ0goqIyHBEW/FWuz6zzYVBn2KmjgjJOqsla7Sf+Ol/UoRSr2WAAt++C0lRmf4O1+SKfTbtszpVQjJnWOaa1YU7f47ULq3wQX8SIS7XgI70+xDFmb3h14k0pabsD7Q5eMc/qwGMzLhGoESl9PLF42Qt52Vvh09m7/MPsFCqxcXdyjz3ykHQ4HvQF2YUyRjykZ/OuP8fHErBjMpbtBlpgRzzSnLDh5Yh0kWSuiit5VLs3qdS/NJygg4Ddp6rccavEtsON3Ofk1OP7up4p/jlZZBRYuD0Xd7VzqFv/oQOSZpfCzzqUHqaMozp3Nud4z57hmzPvM60drrprvFK6xfK5Le7Ml9i5pIgHRQqfTxbZLw9limUjhQq9ToHP/CK/P/sTKvpxpl3SDRamdpm+0Oan2wtU7oSTQ7ooOpQZ6kPvapgwJA1DtBL8Rp3M1rSaeT4I5xibLWY0zFkuy/Y2V0ub2CplpVaEqQpqFCIiZGEIaToZd8lS3G5GvCu0eh7NzGMqG+GJxhZNIIbL7iZaMr4XGEwxj2g1mb5Pnnx++tA96JGyDDe28Xcz7I7H99vP8tcbN4iqhme9h4gkzLpNLud3eL80zcr5Gv3lEo5TwSoU0ZaDGYxABCe1ybUNo8Bn96LLjnEpWbvUtcISISdj8mrA3/a+QhoXMcU8bmOEGTz51n90gNIUOj3YapLvgt9ycRs265cdvlH9kLzAU7ZhyelSyHdIpgzbZZuonUehsUJBWl1IU2QwQjV7pDN11hYtRuKy5O9wyY6wxaKgbByJeDtcZntYxIim+PmIrN154q9xpI3DyTxhCqMxzu4YYyk+fzDFX1Z/h2Vvh1cLnxCIoar7XMlvEU1Z/Pu1gOGsxp8rUZq7BgZSV5FZ0LoKL9a2uVLYpKr3NxgVUHJGJEFGXNAY63CGII62s7qX26SNXaTbw98sMlNd5I2HLxI+NSZ4ccRz7gpXnB2ec7cZFH/C+kxAL8vxZvs6/7Z2CYCKPyJvxbxSfci3Su9R1TElpfeZb4tiudDg9vlzjMIixnV+nkW/sI6l9WyS5NGCmduOiX2HuOhwdzzNlNXlgrSpqpSSJSxYIzIGwE1SM6nkL3gtCnrMkrNNVcd4IgyzlCEpWgQbYbCXHigxHOYEjRznTzLFstAXz5PWAnqX8mzfEJJywvT5Fi9MrVK1BzzvP6Cm+4yNzdjYKDLKeohDyrujZd7aucogdhhEDmFsEXghl8s7APzLnct4n3n4m4bpN1dJHqw8sc3HOrxgkoTk/gO4D+XVaXI7c0Qli8b1c7zxTEA+GNM977GU2+E57yFf83poERSKjIy/a1e49ZMF7K7C7oE1gmYFfrBQAyuj8LFL7ZMYpx1hOt1Dsfn4pzv2kkATRVjtEEkM/pYm9TwGeZc3wqsU/Eu8XbzCUqGBLY8z4tfvXcNfU9h9gz0AKzToUDDKxlgGf9vgtCN0P8SkhzNGc6whtu/CloXy/UmXIihgfA9ja7KcjdGKzFFktmJvGQLA7sZYjR6SpJCkkCTg2Bjfm5wr9YaYvQQxGwwP5XesJzYfZJKEtLsXBrvNff8TQO89vqzjnbM/JdMdp1lngA7QGaADdAboAJ0BOkBngA7QGaADdAboAJ0BOkBngA7QGaADdAboAJ0BOkBngA7QGaADdAboAP0XBsmV3egc/V0AAAAASUVORK5CYII=\" y=\"-21.384163\"/>\n   </g>\n   <g id=\"patch_23\">\n    <path d=\"M 351.816981 93.384163 \nL 351.816981 22.318125 \n\" style=\"fill:none;stroke:#000000;stroke-linecap:square;stroke-linejoin:miter;stroke-width:0.8;\"/>\n   </g>\n   <g id=\"patch_24\">\n    <path d=\"M 422.883019 93.384163 \nL 422.883019 22.318125 \n\" style=\"fill:none;stroke:#000000;stroke-linecap:square;stroke-linejoin:miter;stroke-width:0.8;\"/>\n   </g>\n   <g id=\"patch_25\">\n    <path d=\"M 351.816981 93.384163 \nL 422.883019 93.384163 \n\" style=\"fill:none;stroke:#000000;stroke-linecap:square;stroke-linejoin:miter;stroke-width:0.8;\"/>\n   </g>\n   <g id=\"patch_26\">\n    <path d=\"M 351.816981 22.318125 \nL 422.883019 22.318125 \n\" style=\"fill:none;stroke:#000000;stroke-linecap:square;stroke-linejoin:miter;stroke-width:0.8;\"/>\n   </g>\n   <g id=\"text_5\">\n    <!-- 9 -->\n    <defs>\n     <path d=\"M 10.984375 1.515625 \nL 10.984375 10.5 \nQ 14.703125 8.734375 18.5 7.8125 \nQ 22.3125 6.890625 25.984375 6.890625 \nQ 35.75 6.890625 40.890625 13.453125 \nQ 46.046875 20.015625 46.78125 33.40625 \nQ 43.953125 29.203125 39.59375 26.953125 \nQ 35.25 24.703125 29.984375 24.703125 \nQ 19.046875 24.703125 12.671875 31.3125 \nQ 6.296875 37.9375 6.296875 49.421875 \nQ 6.296875 60.640625 12.9375 67.421875 \nQ 19.578125 74.21875 30.609375 74.21875 \nQ 43.265625 74.21875 49.921875 64.515625 \nQ 56.59375 54.828125 56.59375 36.375 \nQ 56.59375 19.140625 48.40625 8.859375 \nQ 40.234375 -1.421875 26.421875 -1.421875 \nQ 22.703125 -1.421875 18.890625 -0.6875 \nQ 15.09375 0.046875 10.984375 1.515625 \nz\nM 30.609375 32.421875 \nQ 37.25 32.421875 41.125 36.953125 \nQ 45.015625 41.5 45.015625 49.421875 \nQ 45.015625 57.28125 41.125 61.84375 \nQ 37.25 66.40625 30.609375 66.40625 \nQ 23.96875 66.40625 20.09375 61.84375 \nQ 16.21875 57.28125 16.21875 49.421875 \nQ 16.21875 41.5 20.09375 36.953125 \nQ 23.96875 32.421875 30.609375 32.421875 \nz\n\" id=\"DejaVuSans-57\"/>\n    </defs>\n    <g transform=\"translate(383.5325 16.318125)scale(0.12 -0.12)\">\n     <use xlink:href=\"#DejaVuSans-57\"/>\n    </g>\n   </g>\n  </g>\n  <g id=\"axes_6\">\n   <g id=\"patch_27\">\n    <path d=\"M 437.096226 93.384163 \nL 508.162264 93.384163 \nL 508.162264 22.318125 \nL 437.096226 22.318125 \nz\n\" style=\"fill:#ffffff;\"/>\n   </g>\n   <g clip-path=\"url(#p3bfe0847c6)\">\n    <image height=\"72\" id=\"image239f0eb4e7\" transform=\"scale(1 -1)translate(0 -72)\" width=\"72\" x=\"437.096226\" xlink:href=\"data:image/png;base64,\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\" y=\"-21.384163\"/>\n   </g>\n   <g id=\"patch_28\">\n    <path d=\"M 437.096226 93.384163 \nL 437.096226 22.318125 \n\" style=\"fill:none;stroke:#000000;stroke-linecap:square;stroke-linejoin:miter;stroke-width:0.8;\"/>\n   </g>\n   <g id=\"patch_29\">\n    <path d=\"M 508.162264 93.384163 \nL 508.162264 22.318125 \n\" style=\"fill:none;stroke:#000000;stroke-linecap:square;stroke-linejoin:miter;stroke-width:0.8;\"/>\n   </g>\n   <g id=\"patch_30\">\n    <path d=\"M 437.096226 93.384163 \nL 508.162264 93.384163 \n\" style=\"fill:none;stroke:#000000;stroke-linecap:square;stroke-linejoin:miter;stroke-width:0.8;\"/>\n   </g>\n   <g id=\"patch_31\">\n    <path d=\"M 437.096226 22.318125 \nL 508.162264 22.318125 \n\" style=\"fill:none;stroke:#000000;stroke-linecap:square;stroke-linejoin:miter;stroke-width:0.8;\"/>\n   </g>\n   <g id=\"text_6\">\n    <!-- 2 -->\n    <defs>\n     <path d=\"M 19.1875 8.296875 \nL 53.609375 8.296875 \nL 53.609375 0 \nL 7.328125 0 \nL 7.328125 8.296875 \nQ 12.9375 14.109375 22.625 23.890625 \nQ 32.328125 33.6875 34.8125 36.53125 \nQ 39.546875 41.84375 41.421875 45.53125 \nQ 43.3125 49.21875 43.3125 52.78125 \nQ 43.3125 58.59375 39.234375 62.25 \nQ 35.15625 65.921875 28.609375 65.921875 \nQ 23.96875 65.921875 18.8125 64.3125 \nQ 13.671875 62.703125 7.8125 59.421875 \nL 7.8125 69.390625 \nQ 13.765625 71.78125 18.9375 73 \nQ 24.125 74.21875 28.421875 74.21875 \nQ 39.75 74.21875 46.484375 68.546875 \nQ 53.21875 62.890625 53.21875 53.421875 \nQ 53.21875 48.921875 51.53125 44.890625 \nQ 49.859375 40.875 45.40625 35.40625 \nQ 44.1875 33.984375 37.640625 27.21875 \nQ 31.109375 20.453125 19.1875 8.296875 \nz\n\" id=\"DejaVuSans-50\"/>\n    </defs>\n    <g transform=\"translate(468.811745 16.318125)scale(0.12 -0.12)\">\n     <use xlink:href=\"#DejaVuSans-50\"/>\n    </g>\n   </g>\n  </g>\n  <g id=\"axes_7\">\n   <g id=\"patch_32\">\n    <path d=\"M 522.375472 93.384163 \nL 593.441509 93.384163 \nL 593.441509 22.318125 \nL 522.375472 22.318125 \nz\n\" style=\"fill:#ffffff;\"/>\n   </g>\n   <g clip-path=\"url(#p26a1d78786)\">\n    <image height=\"72\" id=\"image29efb7db14\" transform=\"scale(1 -1)translate(0 -72)\" width=\"72\" x=\"522.375472\" xlink:href=\"data:image/png;base64,\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\" y=\"-21.384163\"/>\n   </g>\n   <g id=\"patch_33\">\n    <path d=\"M 522.375472 93.384163 \nL 522.375472 22.318125 \n\" style=\"fill:none;stroke:#000000;stroke-linecap:square;stroke-linejoin:miter;stroke-width:0.8;\"/>\n   </g>\n   <g id=\"patch_34\">\n    <path d=\"M 593.441509 93.384163 \nL 593.441509 22.318125 \n\" style=\"fill:none;stroke:#000000;stroke-linecap:square;stroke-linejoin:miter;stroke-width:0.8;\"/>\n   </g>\n   <g id=\"patch_35\">\n    <path d=\"M 522.375472 93.384163 \nL 593.441509 93.384163 \n\" style=\"fill:none;stroke:#000000;stroke-linecap:square;stroke-linejoin:miter;stroke-width:0.8;\"/>\n   </g>\n   <g id=\"patch_36\">\n    <path d=\"M 522.375472 22.318125 \nL 593.441509 22.318125 \n\" style=\"fill:none;stroke:#000000;stroke-linecap:square;stroke-linejoin:miter;stroke-width:0.8;\"/>\n   </g>\n   <g id=\"text_7\">\n    <!-- 1 -->\n    <g transform=\"translate(554.090991 16.318125)scale(0.12 -0.12)\">\n     <use xlink:href=\"#DejaVuSans-49\"/>\n    </g>\n   </g>\n  </g>\n  <g id=\"axes_8\">\n   <g id=\"patch_37\">\n    <path d=\"M 607.654717 93.384163 \nL 678.720755 93.384163 \nL 678.720755 22.318125 \nL 607.654717 22.318125 \nz\n\" style=\"fill:#ffffff;\"/>\n   </g>\n   <g clip-path=\"url(#p65ad24dbff)\">\n    <image height=\"72\" id=\"imagecec042ee49\" transform=\"scale(1 -1)translate(0 -72)\" width=\"72\" x=\"607.654717\" xlink:href=\"data:image/png;base64,\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\" y=\"-21.384163\"/>\n   </g>\n   <g id=\"patch_38\">\n    <path d=\"M 607.654717 93.384163 \nL 607.654717 22.318125 \n\" style=\"fill:none;stroke:#000000;stroke-linecap:square;stroke-linejoin:miter;stroke-width:0.8;\"/>\n   </g>\n   <g id=\"patch_39\">\n    <path d=\"M 678.720755 93.384163 \nL 678.720755 22.318125 \n\" style=\"fill:none;stroke:#000000;stroke-linecap:square;stroke-linejoin:miter;stroke-width:0.8;\"/>\n   </g>\n   <g id=\"patch_40\">\n    <path d=\"M 607.654717 93.384163 \nL 678.720755 93.384163 \n\" style=\"fill:none;stroke:#000000;stroke-linecap:square;stroke-linejoin:miter;stroke-width:0.8;\"/>\n   </g>\n   <g id=\"patch_41\">\n    <path d=\"M 607.654717 22.318125 \nL 678.720755 22.318125 \n\" style=\"fill:none;stroke:#000000;stroke-linecap:square;stroke-linejoin:miter;stroke-width:0.8;\"/>\n   </g>\n   <g id=\"text_8\">\n    <!-- 3 -->\n    <defs>\n     <path d=\"M 40.578125 39.3125 \nQ 47.65625 37.796875 51.625 33 \nQ 55.609375 28.21875 55.609375 21.1875 \nQ 55.609375 10.40625 48.1875 4.484375 \nQ 40.765625 -1.421875 27.09375 -1.421875 \nQ 22.515625 -1.421875 17.65625 -0.515625 \nQ 12.796875 0.390625 7.625 2.203125 \nL 7.625 11.71875 \nQ 11.71875 9.328125 16.59375 8.109375 \nQ 21.484375 6.890625 26.8125 6.890625 \nQ 36.078125 6.890625 40.9375 10.546875 \nQ 45.796875 14.203125 45.796875 21.1875 \nQ 45.796875 27.640625 41.28125 31.265625 \nQ 36.765625 34.90625 28.71875 34.90625 \nL 20.21875 34.90625 \nL 20.21875 43.015625 \nL 29.109375 43.015625 \nQ 36.375 43.015625 40.234375 45.921875 \nQ 44.09375 48.828125 44.09375 54.296875 \nQ 44.09375 59.90625 40.109375 62.90625 \nQ 36.140625 65.921875 28.71875 65.921875 \nQ 24.65625 65.921875 20.015625 65.03125 \nQ 15.375 64.15625 9.8125 62.3125 \nL 9.8125 71.09375 \nQ 15.4375 72.65625 20.34375 73.4375 \nQ 25.25 74.21875 29.59375 74.21875 \nQ 40.828125 74.21875 47.359375 69.109375 \nQ 53.90625 64.015625 53.90625 55.328125 \nQ 53.90625 49.265625 50.4375 45.09375 \nQ 46.96875 40.921875 40.578125 39.3125 \nz\n\" id=\"DejaVuSans-51\"/>\n    </defs>\n    <g transform=\"translate(639.370236 16.318125)scale(0.12 -0.12)\">\n     <use xlink:href=\"#DejaVuSans-51\"/>\n    </g>\n   </g>\n  </g>\n  <g id=\"axes_9\">\n   <g id=\"patch_42\">\n    <path d=\"M 692.933962 93.384163 \nL 764 93.384163 \nL 764 22.318125 \nL 692.933962 22.318125 \nz\n\" style=\"fill:#ffffff;\"/>\n   </g>\n   <g clip-path=\"url(#pe544d501a8)\">\n    <image height=\"72\" id=\"image9cba893f9b\" transform=\"scale(1 -1)translate(0 -72)\" width=\"72\" x=\"692.933962\" xlink:href=\"data:image/png;base64,\niVBORw0KGgoAAAANSUhEUgAAAEgAAABICAYAAABV7bNHAAAABHNCSVQICAgIfAhkiAAABXxJREFUeJztml2LI8cVQM+t6m61pJmRNDO7nrGZJVnvguNkgw1+sQl5sQl5MeQhfyB/LpB/EAgEY8hbiI3XJnZss18e745X2uhr1K3urrp50I4zG6/pl9BdsDogGhokLodbt+5Vlbwnv1e2/Cim7QBCZyuohq2gGraCatgKqmErqIao7QAuYw/2KW79hGIQ4RKhSg1x5tm7PYGzx2hR4rMMtLnOJChBenyVe7/twLWM0eCc68MJX4yv4v50yOjvipkv8fka1DUWU1iCYks1dJwczHh1MObWzimFs9zvjiCyYG3jMQUlyPdi9o4W/Ob4n1xLxryafMe43OFO9yaaREhkESOoby6msAQlhpPhlF/vfM6ByXjJej5Lx7jOJrswze8pQe1iZu24Px3y4fI17lYjLELfrKlSKHcTtJeCNBtyUILscs3qyyF//NdbfLh4DSPCgV1SjDznL8eU+z3EvsCCpPJEGeTLDtOy+/17NeCttBJtUDXoMoWPmHnH/fKA/jeG/c/m2MkCV1WNxhGsoLWLmPqI02LEzqmHjz+n8gq+uR4IAltiIRK8IIOiBiSKkBYaxeAEqQCiGFEsihWPWpAkaXwHg8BqkO/GFFcrrr8y5tbuKQPjuNE5Y/ILQdzr7N7LsP/4Ap/njcUUVAb5NGb/5RnvH3/C2/0vuWI7vN55yPGbj3j0XsXjN/pIt1v/Q/9Hgsggk6ZI2iHbjRl2c46iGX0pAKFUQ1bGSG6xhdLoIEYIgoxFfnpCdm3Ak5/FvH94h3e6D0hFyNXwdXnE9NMDjj5Sdh6s0HzdaHitCxJrqYY9zo9i8kPlRnrGK7bHWitWWvKk2qF3Jux91U6jGEYNks1H5dnXHnAY8JsxpMl/Ei8IRJCgBjBg2NQYf/FUg3EgpYPKob5ZSUEIUiOo/WEGOVUcskmlyoFrdsyAAGoQRqj6EeuhUO1W9E0BgEMpgaVLSRYK343xRfkC7mKA6whVD0g9sWyKsFelVMh9TJx53HTWSmytLzERoewZipEn3V3TN81u43W0n0HWkh0aBtcn3Ngfc8WeA0nbUX1P6xmEMfgEBt2cUbIifrp7lSi5WtY+ghZvMLWfQc/Bo9wu9vjz7Jd88O1NdpbN714XtJ9BP8Lt/IS/nt5kfDogOm+2e75MsIJKtRRVhFQGabg5vEyQgjyepUvJsgSTyWbMaIkgBQGU3uIrg1SCtFikgxUUCltBNbQrSASxBh/DIMkZxhm2zfX0HFrrgySKkG4XGeyRXfX87qWPOIknXDFS/+UGaa9RFIMkMZrE+J7njc4D9m1JR8IZM6DNJWYEzNM7P5FnYEp6IsSyORycV130PCJayebPspZod9QwAtYgieeKjehIjEHwwLjokzyxJDOQ4gXtpEXk6VMxGAz/rT+Fs5i1bI56XHuNYpDDqlPlbLVL/6HSnXhk1dxJ6v8SbB+0yDt0J550UqBF0VocQWWQvbh/qKAqmyHVKWyH1R/ivWAKxVS+8UtTlwlWkKqAgrh2O+tgBYVCUIKcPnuqGgJBFWmPsvYFC19RlRZb+E0X3WKRDkrQWku+dY7Hrke5SIinK8zsHP+ib/PqhbVWOJSpT5j6HlIaTF5BWbVyJn9Be4KcQ/McWcTsfHLIu6M/cNBf8avDr9m1OXZpkPk5ulyiDd8JukxrgtQ5/HmGOM/x35YsTkc8OjngL+/G/Hz/IfFc8NMZfrls5V7QBe0uMfVQlth5TjqOqdKE04cjVkVMZ8ZmabUoB9oUpIq6zYUo+80juv+ek97tsnd3hEv36N57jGv4PuLzaDmDFNTh5nOYzwGwX93BAu2V5WcJqlEMka2gGraCatgKqmErqIatoBq2gmrYCqphK6iGraAatoJq+A9TZzt7pN/z9gAAAABJRU5ErkJggg==\" y=\"-21.384163\"/>\n   </g>\n   <g id=\"patch_43\">\n    <path d=\"M 692.933962 93.384163 \nL 692.933962 22.318125 \n\" style=\"fill:none;stroke:#000000;stroke-linecap:square;stroke-linejoin:miter;stroke-width:0.8;\"/>\n   </g>\n   <g id=\"patch_44\">\n    <path d=\"M 764 93.384163 \nL 764 22.318125 \n\" style=\"fill:none;stroke:#000000;stroke-linecap:square;stroke-linejoin:miter;stroke-width:0.8;\"/>\n   </g>\n   <g id=\"patch_45\">\n    <path d=\"M 692.933962 93.384163 \nL 764 93.384163 \n\" style=\"fill:none;stroke:#000000;stroke-linecap:square;stroke-linejoin:miter;stroke-width:0.8;\"/>\n   </g>\n   <g id=\"patch_46\">\n    <path d=\"M 692.933962 22.318125 \nL 764 22.318125 \n\" style=\"fill:none;stroke:#000000;stroke-linecap:square;stroke-linejoin:miter;stroke-width:0.8;\"/>\n   </g>\n   <g id=\"text_9\">\n    <!-- 1 -->\n    <g transform=\"translate(724.649481 16.318125)scale(0.12 -0.12)\">\n     <use xlink:href=\"#DejaVuSans-49\"/>\n    </g>\n   </g>\n  </g>\n  <g id=\"axes_10\">\n   <g id=\"patch_47\">\n    <path d=\"M 10.7 182.33689 \nL 81.766038 182.33689 \nL 81.766038 111.270852 \nL 10.7 111.270852 \nz\n\" style=\"fill:#ffffff;\"/>\n   </g>\n   <g clip-path=\"url(#p979fe03fc6)\">\n    <image height=\"72\" id=\"imageca53459bab\" transform=\"scale(1 -1)translate(0 -72)\" width=\"72\" x=\"10.7\" xlink:href=\"data:image/png;base64,\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\" y=\"-110.33689\"/>\n   </g>\n   <g id=\"patch_48\">\n    <path d=\"M 10.7 182.33689 \nL 10.7 111.270852 \n\" style=\"fill:none;stroke:#000000;stroke-linecap:square;stroke-linejoin:miter;stroke-width:0.8;\"/>\n   </g>\n   <g id=\"patch_49\">\n    <path d=\"M 81.766038 182.33689 \nL 81.766038 111.270852 \n\" style=\"fill:none;stroke:#000000;stroke-linecap:square;stroke-linejoin:miter;stroke-width:0.8;\"/>\n   </g>\n   <g id=\"patch_50\">\n    <path d=\"M 10.7 182.33689 \nL 81.766038 182.33689 \n\" style=\"fill:none;stroke:#000000;stroke-linecap:square;stroke-linejoin:miter;stroke-width:0.8;\"/>\n   </g>\n   <g id=\"patch_51\">\n    <path d=\"M 10.7 111.270852 \nL 81.766038 111.270852 \n\" style=\"fill:none;stroke:#000000;stroke-linecap:square;stroke-linejoin:miter;stroke-width:0.8;\"/>\n   </g>\n   <g id=\"text_10\">\n    <!-- 4 -->\n    <g transform=\"translate(42.415519 105.270852)scale(0.12 -0.12)\">\n     <use xlink:href=\"#DejaVuSans-52\"/>\n    </g>\n   </g>\n  </g>\n  <g id=\"axes_11\">\n   <g id=\"patch_52\">\n    <path d=\"M 95.979245 182.33689 \nL 167.045283 182.33689 \nL 167.045283 111.270852 \nL 95.979245 111.270852 \nz\n\" style=\"fill:#ffffff;\"/>\n   </g>\n   <g clip-path=\"url(#p0e45100672)\">\n    <image height=\"72\" id=\"image504f7e10b8\" transform=\"scale(1 -1)translate(0 -72)\" width=\"72\" x=\"95.979245\" xlink:href=\"data:image/png;base64,\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\" y=\"-110.33689\"/>\n   </g>\n   <g id=\"patch_53\">\n    <path d=\"M 95.979245 182.33689 \nL 95.979245 111.270852 \n\" style=\"fill:none;stroke:#000000;stroke-linecap:square;stroke-linejoin:miter;stroke-width:0.8;\"/>\n   </g>\n   <g id=\"patch_54\">\n    <path d=\"M 167.045283 182.33689 \nL 167.045283 111.270852 \n\" style=\"fill:none;stroke:#000000;stroke-linecap:square;stroke-linejoin:miter;stroke-width:0.8;\"/>\n   </g>\n   <g id=\"patch_55\">\n    <path d=\"M 95.979245 182.33689 \nL 167.045283 182.33689 \n\" style=\"fill:none;stroke:#000000;stroke-linecap:square;stroke-linejoin:miter;stroke-width:0.8;\"/>\n   </g>\n   <g id=\"patch_56\">\n    <path d=\"M 95.979245 111.270852 \nL 167.045283 111.270852 \n\" style=\"fill:none;stroke:#000000;stroke-linecap:square;stroke-linejoin:miter;stroke-width:0.8;\"/>\n   </g>\n   <g id=\"text_11\">\n    <!-- 3 -->\n    <g transform=\"translate(127.694764 105.270852)scale(0.12 -0.12)\">\n     <use xlink:href=\"#DejaVuSans-51\"/>\n    </g>\n   </g>\n  </g>\n  <g id=\"axes_12\">\n   <g id=\"patch_57\">\n    <path d=\"M 181.258491 182.33689 \nL 252.324528 182.33689 \nL 252.324528 111.270852 \nL 181.258491 111.270852 \nz\n\" style=\"fill:#ffffff;\"/>\n   </g>\n   <g clip-path=\"url(#p66e9efc593)\">\n    <image height=\"72\" id=\"imagecd216503e7\" transform=\"scale(1 -1)translate(0 -72)\" width=\"72\" x=\"181.258491\" xlink:href=\"data:image/png;base64,\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\" y=\"-110.33689\"/>\n   </g>\n   <g id=\"patch_58\">\n    <path d=\"M 181.258491 182.33689 \nL 181.258491 111.270852 \n\" style=\"fill:none;stroke:#000000;stroke-linecap:square;stroke-linejoin:miter;stroke-width:0.8;\"/>\n   </g>\n   <g id=\"patch_59\">\n    <path d=\"M 252.324528 182.33689 \nL 252.324528 111.270852 \n\" style=\"fill:none;stroke:#000000;stroke-linecap:square;stroke-linejoin:miter;stroke-width:0.8;\"/>\n   </g>\n   <g id=\"patch_60\">\n    <path d=\"M 181.258491 182.33689 \nL 252.324528 182.33689 \n\" style=\"fill:none;stroke:#000000;stroke-linecap:square;stroke-linejoin:miter;stroke-width:0.8;\"/>\n   </g>\n   <g id=\"patch_61\">\n    <path d=\"M 181.258491 111.270852 \nL 252.324528 111.270852 \n\" style=\"fill:none;stroke:#000000;stroke-linecap:square;stroke-linejoin:miter;stroke-width:0.8;\"/>\n   </g>\n   <g id=\"text_12\">\n    <!-- 5 -->\n    <g transform=\"translate(212.974009 105.270852)scale(0.12 -0.12)\">\n     <use xlink:href=\"#DejaVuSans-53\"/>\n    </g>\n   </g>\n  </g>\n  <g id=\"axes_13\">\n   <g id=\"patch_62\">\n    <path d=\"M 266.537736 182.33689 \nL 337.603774 182.33689 \nL 337.603774 111.270852 \nL 266.537736 111.270852 \nz\n\" style=\"fill:#ffffff;\"/>\n   </g>\n   <g clip-path=\"url(#p2bd1895a55)\">\n    <image height=\"72\" id=\"image38f38b0ac8\" transform=\"scale(1 -1)translate(0 -72)\" width=\"72\" x=\"266.537736\" xlink:href=\"data:image/png;base64,\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\" y=\"-110.33689\"/>\n   </g>\n   <g id=\"patch_63\">\n    <path d=\"M 266.537736 182.33689 \nL 266.537736 111.270852 \n\" style=\"fill:none;stroke:#000000;stroke-linecap:square;stroke-linejoin:miter;stroke-width:0.8;\"/>\n   </g>\n   <g id=\"patch_64\">\n    <path d=\"M 337.603774 182.33689 \nL 337.603774 111.270852 \n\" style=\"fill:none;stroke:#000000;stroke-linecap:square;stroke-linejoin:miter;stroke-width:0.8;\"/>\n   </g>\n   <g id=\"patch_65\">\n    <path d=\"M 266.537736 182.33689 \nL 337.603774 182.33689 \n\" style=\"fill:none;stroke:#000000;stroke-linecap:square;stroke-linejoin:miter;stroke-width:0.8;\"/>\n   </g>\n   <g id=\"patch_66\">\n    <path d=\"M 266.537736 111.270852 \nL 337.603774 111.270852 \n\" style=\"fill:none;stroke:#000000;stroke-linecap:square;stroke-linejoin:miter;stroke-width:0.8;\"/>\n   </g>\n   <g id=\"text_13\">\n    <!-- 3 -->\n    <g transform=\"translate(298.253255 105.270852)scale(0.12 -0.12)\">\n     <use xlink:href=\"#DejaVuSans-51\"/>\n    </g>\n   </g>\n  </g>\n  <g id=\"axes_14\">\n   <g id=\"patch_67\">\n    <path d=\"M 351.816981 182.33689 \nL 422.883019 182.33689 \nL 422.883019 111.270852 \nL 351.816981 111.270852 \nz\n\" style=\"fill:#ffffff;\"/>\n   </g>\n   <g clip-path=\"url(#p1a4995f6a4)\">\n    <image height=\"72\" id=\"image7906cbb836\" transform=\"scale(1 -1)translate(0 -72)\" width=\"72\" x=\"351.816981\" xlink:href=\"data:image/png;base64,\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\" y=\"-110.33689\"/>\n   </g>\n   <g id=\"patch_68\">\n    <path d=\"M 351.816981 182.33689 \nL 351.816981 111.270852 \n\" style=\"fill:none;stroke:#000000;stroke-linecap:square;stroke-linejoin:miter;stroke-width:0.8;\"/>\n   </g>\n   <g id=\"patch_69\">\n    <path d=\"M 422.883019 182.33689 \nL 422.883019 111.270852 \n\" style=\"fill:none;stroke:#000000;stroke-linecap:square;stroke-linejoin:miter;stroke-width:0.8;\"/>\n   </g>\n   <g id=\"patch_70\">\n    <path d=\"M 351.816981 182.33689 \nL 422.883019 182.33689 \n\" style=\"fill:none;stroke:#000000;stroke-linecap:square;stroke-linejoin:miter;stroke-width:0.8;\"/>\n   </g>\n   <g id=\"patch_71\">\n    <path d=\"M 351.816981 111.270852 \nL 422.883019 111.270852 \n\" style=\"fill:none;stroke:#000000;stroke-linecap:square;stroke-linejoin:miter;stroke-width:0.8;\"/>\n   </g>\n   <g id=\"text_14\">\n    <!-- 6 -->\n    <defs>\n     <path d=\"M 33.015625 40.375 \nQ 26.375 40.375 22.484375 35.828125 \nQ 18.609375 31.296875 18.609375 23.390625 \nQ 18.609375 15.53125 22.484375 10.953125 \nQ 26.375 6.390625 33.015625 6.390625 \nQ 39.65625 6.390625 43.53125 10.953125 \nQ 47.40625 15.53125 47.40625 23.390625 \nQ 47.40625 31.296875 43.53125 35.828125 \nQ 39.65625 40.375 33.015625 40.375 \nz\nM 52.59375 71.296875 \nL 52.59375 62.3125 \nQ 48.875 64.0625 45.09375 64.984375 \nQ 41.3125 65.921875 37.59375 65.921875 \nQ 27.828125 65.921875 22.671875 59.328125 \nQ 17.53125 52.734375 16.796875 39.40625 \nQ 19.671875 43.65625 24.015625 45.921875 \nQ 28.375 48.1875 33.59375 48.1875 \nQ 44.578125 48.1875 50.953125 41.515625 \nQ 57.328125 34.859375 57.328125 23.390625 \nQ 57.328125 12.15625 50.6875 5.359375 \nQ 44.046875 -1.421875 33.015625 -1.421875 \nQ 20.359375 -1.421875 13.671875 8.265625 \nQ 6.984375 17.96875 6.984375 36.375 \nQ 6.984375 53.65625 15.1875 63.9375 \nQ 23.390625 74.21875 37.203125 74.21875 \nQ 40.921875 74.21875 44.703125 73.484375 \nQ 48.484375 72.75 52.59375 71.296875 \nz\n\" id=\"DejaVuSans-54\"/>\n    </defs>\n    <g transform=\"translate(383.5325 105.270852)scale(0.12 -0.12)\">\n     <use xlink:href=\"#DejaVuSans-54\"/>\n    </g>\n   </g>\n  </g>\n  <g id=\"axes_15\">\n   <g id=\"patch_72\">\n    <path d=\"M 437.096226 182.33689 \nL 508.162264 182.33689 \nL 508.162264 111.270852 \nL 437.096226 111.270852 \nz\n\" style=\"fill:#ffffff;\"/>\n   </g>\n   <g clip-path=\"url(#pcd36a67945)\">\n    <image height=\"72\" id=\"imagebc84068ae9\" transform=\"scale(1 -1)translate(0 -72)\" width=\"72\" x=\"437.096226\" xlink:href=\"data:image/png;base64,\niVBORw0KGgoAAAANSUhEUgAAAEgAAABICAYAAABV7bNHAAAABHNCSVQICAgIfAhkiAAABOBJREFUeJztnN9uG0UUh78zs7Nex2sn3fxTU9QiURXRIlGEkEAI9aaP0FfguXgObrjiplxCUaHQoiSNoqaxkzj22t7dmeHCNUKFdu86K7HfE/z0+Zw5M+Ox5b488LS8ERU6QNNpBdXQCqqhFVRDK6iGVlANUegAACpJkKSDZFeY3N6h6Cs655bk5Qw1K+HwGDseB8kWXpAI0u/DlQGXH21y9KDk5t5Lnjy9Sv+3AZ2RZ3tRQCBB4VtMFNLrYrMe8w3NztaYu9lzels5iw1PsS4Qm2DxgleQmIjpnV1O7hpm71V8c+0R99LHzK4bvucWl8cp1Y9dJFC+8IK05vJaRHEn5/3tM+73H/FprBiu/8J0r8NDblCtJYSqoQa0mGA7wiCdsd2dkIgFoPQRCxfhnCABT4vBKwilKAbw5c4Rt3ov6EsFGObeMC4TyiJCXDhDwStIRPAGsnjKus4xrxab0mtmlcFZgYAVFFaQ0mAiXORZ0wWJKtGAw/F4tsfTwx30UUI0KYJFDNdiIoiJIIrwGtZUQSIlWpYltJ9nmOcx3RNB5QU2UMxgFSRaI3GMxDEu9uyaCzI9wbwa6M6/ai0P+HA9FqyCJI5R6wNc1sdmJfe6z+grIVUJDhcq1r8I2mKYCB9HRB3Lro7pyDLOSo94go54aMKY/w+s9xxN1kkPoDu0yGQWLEsjBTkcL8/63Ph9TjSc4S/CHFQh9Jh/C84LUjikKPEBF+nGCvJOUKVFKgsu3KLdWEF4wPqlnLaCmksrqIbGChIFRAof6eWeKRCNFdRJCubbCXarj3STYDkauQ9SKDqmohhoVGGIonAxG1tB3bikSIWyH4EJd2nfWEHb3Sn5VWG6q/DdTrAcjWoxLcvPSyPEusLGHmcEdLjPsTEVpANOqrfRGEFNpRVUQ2ME2YDnrbfRqEXa+uZcta5oTAU1lVZQDa2gGlpBNbSCamiUIC3q7+OG84IEfvoCDRL0+lHDeUEsiPXwf37+8jrWO6z3zK1BF6AXBP1WozEbRes9FkeFJfcl+6MrbP5a0Tkt4PwyWK7GCAJweEpvmXtPPk64/myMOpvgptNgmcK97kg62CxlkXUw8RyAiVvwc7nGYbmJujBIvsDPF3gb6nVQSEFpj+n1lNmWIktHaBEOK8W3J1/z5HybdF/B6Qg3mQYVFGyR9iai7AllKvTM8ond3GuO8wHDcY8o98vqqar/5zerNksZfSxcfrLgs+wAhSJ3HY7HAxajLmbajOuPYC1WZAnxrTFf7R3wRfoHCmHqYyaTBHOuiWYu6KuOFe9ekAiIwkVCmizYiif01AIA6xW+UkgJyoaXAwEESRwjWlOmipsbp3yePmNPXwIJc2/wM42ZCnoedge94p2vQSICWuM0DMycTT0hkeVO2XmFlIIqQKpm3C6+8wpaTSWTe34a7pGZ25TpEzbUGYdlRvdYM9i3dE5nuIDjfUUYQdYSjyv+fLHBD+oDsmjKh2bI/myL/qFj8PgMGV3gGnBHHWaKeY/OK9TJGgdkfKdvk7uYhy9u0L10SD7HL8L9/OCfSKi/ptBbm9ib17DdiDKNKNcU8djSe3SMG53hixJfhpcUbB9kT4dwOkQDGli9AKpCBXoDjbsPahqtoBpaQTW0gmpoBdXQCqqhFVRDK6iGVlANraAaWkE1/AXQWNT9PdrAlwAAAABJRU5ErkJggg==\" y=\"-110.33689\"/>\n   </g>\n   <g id=\"patch_73\">\n    <path d=\"M 437.096226 182.33689 \nL 437.096226 111.270852 \n\" style=\"fill:none;stroke:#000000;stroke-linecap:square;stroke-linejoin:miter;stroke-width:0.8;\"/>\n   </g>\n   <g id=\"patch_74\">\n    <path d=\"M 508.162264 182.33689 \nL 508.162264 111.270852 \n\" style=\"fill:none;stroke:#000000;stroke-linecap:square;stroke-linejoin:miter;stroke-width:0.8;\"/>\n   </g>\n   <g id=\"patch_75\">\n    <path d=\"M 437.096226 182.33689 \nL 508.162264 182.33689 \n\" style=\"fill:none;stroke:#000000;stroke-linecap:square;stroke-linejoin:miter;stroke-width:0.8;\"/>\n   </g>\n   <g id=\"patch_76\">\n    <path d=\"M 437.096226 111.270852 \nL 508.162264 111.270852 \n\" style=\"fill:none;stroke:#000000;stroke-linecap:square;stroke-linejoin:miter;stroke-width:0.8;\"/>\n   </g>\n   <g id=\"text_15\">\n    <!-- 1 -->\n    <g transform=\"translate(468.811745 105.270852)scale(0.12 -0.12)\">\n     <use xlink:href=\"#DejaVuSans-49\"/>\n    </g>\n   </g>\n  </g>\n  <g id=\"axes_16\">\n   <g id=\"patch_77\">\n    <path d=\"M 522.375472 182.33689 \nL 593.441509 182.33689 \nL 593.441509 111.270852 \nL 522.375472 111.270852 \nz\n\" style=\"fill:#ffffff;\"/>\n   </g>\n   <g clip-path=\"url(#paefac6b4a1)\">\n    <image height=\"72\" id=\"image93d3c68ca6\" transform=\"scale(1 -1)translate(0 -72)\" width=\"72\" x=\"522.375472\" xlink:href=\"data:image/png;base64,\niVBORw0KGgoAAAANSUhEUgAAAEgAAABICAYAAABV7bNHAAAABHNCSVQICAgIfAhkiAAADglJREFUeJztm9tzXdddxz9rrb32fZ+LdHSOLpZkK7HjOGnaQksLlKbthAwUOmWYDjBTXpjpI/8BL/wB/AEd3pjhhQcGeKAzTEugTLkkKU1iY+fixJdYlnWxpKNz2/e9eDiOHZe6aqUj2WX0edRo7/M73/3da/0u64iXxDcMJzwS68juLARCKQBMZcBU47+bX6znMXGBVGsappuUTZ+NXw6J2xCuGqYvDVH9FNY2KXd3J/2xR8ZkBRICppsMz03RW7J47ptX+LP57/Cn7/8Rm/oU/pZHPcvhF0ggOekbGleTRZI8giVvhxWtWYm2iTswaiuquo9wHIR1dG/3JJmwgyRpJ6B7TpLMFiw4Y6d8beoNdr/i8cFOi7tJk/beAmKUUG5sYopioiFMmok7qPAl6VSJrqc01AiA5+xN/nj2v/id5cvEbUFV9zG+C/cW8ScZtSIu/PnE7iYkqjVDHtrkuSbtgG/fZa9yxmIJwfd2ziEKFzwPNwahFMKYJ9ZJkxUI0NLGHdnooeLtqTobVh1LG77grTKj9nhdLnErCMg8jd+3kdJG5CVmNJpkGBNjsq+YMZCkWHspdr/CxIq9zGNUOthCEMmKU0EXbyoma1TkoUUV2gjHnmgYk2TiW0m110MWJZ7qIIchg8xmVNmUxhBJxR+2XuWXajf5m+gz7KzP4TcCppICbq89kUnk5AUajWA0wooCVBqRZJq41AC4wuJFb8SL3jUGpctfzndASGo3nMnvFhPi6JKRNMO/I9jzG/xArPCd4BaLepvz9i4d5dDRe8jZhKFyids2tSjCZBlVmj5RTpr4In2fqiIoQsI7kkES8h/OPJfSReaDHc7ZMZbYw6lXeK2EG9ttGqsgtcakKZTlkYR0EI7M2aYoUNsD3PUR7pZhtO2z1q2xVUQA1GXOM+4dLkR3yGuGsuljIv+Jy7CPzkFmrL4cZWg8TGlT9F3sMzG/XbsJVLhyyIzV42Iwy/tzU4zmQhqrYHaenFrtCAUymDimGgyw0gp/qNGJYu+Thm/OvI0jFC0lmVUZ52rXOLe0zltRC/dHAeLWxpGEdBCOZ/MoCmScY40qtgYB/5MZbhYZuSmRSBoyYV7v0gkHxB0Xa3kR1WyOuwOPmaNz0McQQiArg8JiY6nO+9E0m6bGefcWkbTwRUlHDehbFv82fJpiqoYtQ+T6DlTVUYf3UzmWFdHkBSZJEKMUvSe5tjuNb2X064opWeIIC18Klu275K2CYazxNzWBbUNZYsrysW39x+IgAGEMwoDlNoj3Aq7vzPCKWuH78SLK3uOsHgJD1vw6abtiLQxhqkO1PIeba0SSAQKq400Bjkege9W6SVLcOz3q7wyobbrsJk1WN6fptm2+1niPlpL8Zu09vj7zJums4a1Wk92OTbjporfHxazJ8yMP9+Mcb9JRlVRxgsgLrG4dd9sDBKv9BmtlSSQK6tLGl4Kn3Q0Wm12u54qk6eE2a8i+ohqOwByfi47tFbtPVWGKEpkX+F1DcNfwYbtB3FHcqQIW9QY1adNQW5yPbhPWc14bLlP5AZblY23uHWvv6PhrRGOgKim7Xaobt1Af3MHblFzqzvPuaJZhNQ5pyfL4spfwcu0S5XzKcF6QTGuEPl7TP968viyhKLCGsNar4VsZqVFIxvlPhWFGjvjMyk0uB7Psmjq1iy2UZVH1B+O67Yh5fAJ9tHCnKU7XsLke8QHQO+WgBJT3Bo3LlsVfLP0Dw1OSP5DfInmtgastZFlR/r8W6COqCh1X6K5iGLkklQYe7FRaKOaUBwqafkwRhlS+jbT1sYT32PtUVZZTe2uLpX9KCV73uJIu3HfPQ/9HxWzQo7dk0XsqgHp0LPE9AQ4qKa9eQ12FKfsz3E6bVDzImiseiNW0R8QzBoyk7jvHEt7xb/M/BdmZ4c3npthyIBED5qwhAoG8V7ReK11ezxdIfIkeufiVh3I9TJweWYb9RAmkpU1StLl44zSvhvN8tfUGjuS+SMv2Gr829y5PL27yXbVC4UcQhTh3+pgkOZKYDveKSYWQAoRE2BrkvSWtqsa7VJb9XIWmSVLCOwUqt9jaqbFVOSiRUpegsGhJm7ozYFq+x7dbXyBp1dEDRWjrcWvkCAragztIKqzlU5Tnl0ifX2Dr5Xm2X+zQ+2yH3mdnSZ7tEJQRKs4RSv1M2a8wBruwcPdKRkHI96PTvJEtsOStMm8ZpBAIBAU5N2SLtcBlVLk0bwhkdu9BTLiffWCBhKUpn1lk9xmf7llF5+VVXvz0ZTrn7hI93WNjzkLcruFtZ2M3JftPK0yeY3a6iM0d7KjNuq5xPW7yzPwGn3L2AJBCoDDYesBsNOCNfJboio0VF4i8mHjyeHCBtEX67Dy9FUXSrnjhqQ/5RLBKaKWEVsYIh63NJpbwkJ6PlRuEtn+2p2wMsjNDVrcxRtJrWZR6wJCUukwwQK+SlELydjLLaL2OcH0s5SBLg7Q0Ji8m8sodWCDpumx/aZ7qi3ucOb3Jn8z9gF91b3He2eA5d43z0R2utKdZPafptkJsU0PUaui4oBoM9r2/ziHYlYR3BLcGbf759rP8uzjNr0y9iytzmirljN5lOuzzw9k2G88o4qCGI2uIMET1RhNx08Ed5Lp0f73D0ifWOVvb4qXwXZa1TU1aNJUilH0SSxEGGVezJnpTI4TA2Umpdrv7f0BVIdMCK6nA9ZCZYqdh8aXFd5iSIxpS0lQ2QvRItUMQZNzcncbZkchKYG31MaP4IF/tIQ4ukJRUCx1u2jVuFnU+3f6QBdUf31RIBAYjY6btIbHr8F5QZ9hW6CLAy22U44635kf2nAWUJaI02JXG7cGo7mKWC4bCpql2mVISQ4alUup2wmvxKYrEwUhFcGtI1esfUJYHHCoPcpw6VmyTli7zZ+9y3l1DYHCEuldDpZy1ezwXfMD5+XVqC0Mu7i3ijlykZSN2eo/uEFbleNGOY8TmDvLWFrI9y7XTHj3hs+JvcUZnhNJi2RpxWm9yiTmu53WMUTSuppjtw8/XDpUHyVGO2y0Z9SXrWY2t0mZGZXxUJWmh0MCUSlnU2/Rdj7Rd0Fuy8L2A2k4b0R9CnmGyHFOWmCx7eHH92OEqmRuSTDPIHRLzoFjVQuGKkrbTR9cyisjC2BqkGh8/PsRifXAHGYPMcuzdFKVDrp4NKF0LWyUsWjFKPKiDLQGRjDmlt6nPDTEXEq4uBcRui3y+CVNNVBAi/QAxSh7pquqpBbZXFKUFn27e4nnnwWIvgVSm2GHFNWoE73jovRiBOFQf++AOMoayuwfdPby5KW51fd6bbnPG2QL34UXYFRausphR8K36JZLaW3zb/xx/ffs3yANJZWmEAa0kakPDIw6bycJAJkkyzah6uFiVSJ7SW1SR5PLUHIU/i+u6kB+uPTuRWkw1GvRO1fiwjMh9ixfCq+TkWAIs8X87KhLoY7hidYhbFXsdSf+URdx2iXYcVFEhLT0+v2jbyDBEhgHlbIOkrkkKm+bcgOe998lNiS3Gh0ELMpQouEuNi71Fiqk6jgwQ69sHHkBORiBloa0a+q7mahRxYe4OJYa6TPDkwyZVQqKFYsna47dab/KN+R/xjTM/5PeefZ2bCzVuf3gKL1YIx0FKifB9mK5jmhHGtrASiTUQbCxaPN9YpaKkocYiBULRUjkz9gZXW022TktGcZ3o0taBX7OJ9INMnmN3C4wUiF2bHw2W2XIjGvJdtMhQCPSPOckRFnMK1Mfm75+s3eJi+wLxfIgeuFh9F6MEed2ldCSFLyk8QekKtBw7ouTB9UoIFBYNmXIm2KYwiuv+4Wb8ExGoGgxx3t/A9hxOZS2+++HnSacNr3zhPF+ducSM1WdRb2N/rPnliIJIVthC4AiJKyy+ErzNG7+/xPWXpljrhhQ7EcaqCGZG1P0YLStqOiPUKV+feZNn9DauAM3Dh0AjWd4ve64GKw+6DAdgMg5KU4rV2wAEW9uElxukp6e5NL/AtDNkydsBwJXZ/WsimQAjXFGhpQEBL9iKvzr9PSoqfpC4/Ev/ApFK+N3oIk//xHHPT+4q+kKwYm/iipzCPVw9NvGWq8kLRJygdxP89xr8a/oswivwo08h5QMHBU7GYtQlsDLaTp+O7hGqhAW9QyAy+pXHGWeLSMX4ovy5Qs2NIak0iRnvjofhSE65mjRF9Pqc3p6695MDiZHyoRFBPl3n2kqbwhekU5A1KqqwZH5xmxlvyBenr/L16CK+gEj+7GGWxpAD/cqjW/qIQ7aHJt+0/2jeVRTjI8GPwJntUBenyCPFKFZYsSSLBOtenUHocDaq39dzZErkvXm8utd+1YzLmY+oqMhNSYlhWEnWizq30yYyE4c6Y/TYphpVf4B7YxvH0fhrLkWgKV1FcsWh8Fz+7sLnePUTp/GsHCUrpDA07JgFr8uUNeSl8DIv/NgB/Y2y4HYZ8o97n+JvX/k8/m3J3MUUkz2OTPqQVMMh1bXh/S1YMc6RbMbNuPDLL7A+mKO0DUYBAop6gd8a0Qhils/c5QX77v37lcawXvpcSRZ45fY5zvx9ivrPS5jKYA4x8Xj8c7GHCtPxFzFZhd1N8dYtKi0wEpCQ9zTpIGLNC/i2fJH/bt28f2luFNcGLTaHIdvXm7R6PaoJnAJ5/AL9JIxBvXOTufU6SImR9xI9pTCOhVGKstbkh27r/iXCgMwroryiOejDtdWJhPJkCgT3C+FHIYFH/UZoksc+H/ts/knnRKB9OBFoH04E2ocTgfbhRKB9OBFoH04E2ocTgfbhRKB9OBFoH04E2ocTgfbhRKB9OBFoH04E2of/BRzH06YlYrvnAAAAAElFTkSuQmCC\" y=\"-110.33689\"/>\n   </g>\n   <g id=\"patch_78\">\n    <path d=\"M 522.375472 182.33689 \nL 522.375472 111.270852 \n\" style=\"fill:none;stroke:#000000;stroke-linecap:square;stroke-linejoin:miter;stroke-width:0.8;\"/>\n   </g>\n   <g id=\"patch_79\">\n    <path d=\"M 593.441509 182.33689 \nL 593.441509 111.270852 \n\" style=\"fill:none;stroke:#000000;stroke-linecap:square;stroke-linejoin:miter;stroke-width:0.8;\"/>\n   </g>\n   <g id=\"patch_80\">\n    <path d=\"M 522.375472 182.33689 \nL 593.441509 182.33689 \n\" style=\"fill:none;stroke:#000000;stroke-linecap:square;stroke-linejoin:miter;stroke-width:0.8;\"/>\n   </g>\n   <g id=\"patch_81\">\n    <path d=\"M 522.375472 111.270852 \nL 593.441509 111.270852 \n\" style=\"fill:none;stroke:#000000;stroke-linecap:square;stroke-linejoin:miter;stroke-width:0.8;\"/>\n   </g>\n   <g id=\"text_16\">\n    <!-- 7 -->\n    <defs>\n     <path d=\"M 8.203125 72.90625 \nL 55.078125 72.90625 \nL 55.078125 68.703125 \nL 28.609375 0 \nL 18.3125 0 \nL 43.21875 64.59375 \nL 8.203125 64.59375 \nz\n\" id=\"DejaVuSans-55\"/>\n    </defs>\n    <g transform=\"translate(554.090991 105.270852)scale(0.12 -0.12)\">\n     <use xlink:href=\"#DejaVuSans-55\"/>\n    </g>\n   </g>\n  </g>\n  <g id=\"axes_17\">\n   <g id=\"patch_82\">\n    <path d=\"M 607.654717 182.33689 \nL 678.720755 182.33689 \nL 678.720755 111.270852 \nL 607.654717 111.270852 \nz\n\" style=\"fill:#ffffff;\"/>\n   </g>\n   <g clip-path=\"url(#p7084021e46)\">\n    <image height=\"72\" id=\"imagef187f64e1e\" transform=\"scale(1 -1)translate(0 -72)\" width=\"72\" x=\"607.654717\" xlink:href=\"data:image/png;base64,\niVBORw0KGgoAAAANSUhEUgAAAEgAAABICAYAAABV7bNHAAAABHNCSVQICAgIfAhkiAAADutJREFUeJztmsmPHcd9xz9V1dXdr9/rt8282TkkJS7WmDIlyzYFW7KNwIngSxwEgYFcA+SYcw7xIcgp/0CAXBwEPiQIAsSJE9gXJ0jsyHKkKJZEixJFcZ993jpv7a0qhzcZkabEEck3shjMZ0AQxLCqq779q99WLb4hfs9yxEcif90L+LRzJNABHAl0AEcCHcCRQAdwJNABHAl0AEcCHcCRQAdwJNABHAl0AM4kJpH5PGJpHhN4JFWfUdUBIbDiPg+ODHo3Q8YZujVEdHrYKMa0O9gknsSyJsJkBJqZZuM3agzmBDzV5ffPvkKgIhQWKcyHjnmze4yXb5wk6XoULgdUrpTw2gn6rZSs9f9EIOF5CNclKxcY1gTRXMJz8xt8u/TfhNKgACUEmbVke2P+T64F3aIR5dkoFGk3pxg2FVYK3FKIjGNsmmKTFKwB++trOIiHbXcIz2PwzfNsf14RTxnOPLXKqbCOFAYpLFpkVJwBvkzYiEvcHlYYpZrmKKAfa0IvZqnQxpMpa4MSzWFAu5uDG3l0R1C+aii9WUeMIsxOAzMYTHrvH4uHtiDpeWx9QfEH3/oxx906L+RuU5YOf9F6mr+5+gUsUPQjcjpho1Okv5VHRhK3JXH6cOtExsqFTT6bX+MPZ27wlBuzmsL3V57l+mCaf//ZObx2Gd2OUL0+PG4CIQXGheNunZqzy8AKkizlYneR7q0iIhN0fQPKorqKoCGRCbi7FmcARiv+7fppflmapzWfxw/fpG81M3oXGVh+ujCgsVLAa2mmRjMowI6isSV9gkfu4QUSkrSQ8eXcbUZWcDGaZz2p8LNfnOXU30XIQbKfRIgkQ0QpGINIUkgzpsKA5GcFksI0f/XS17j+pWmWci2+Gb7FbDDk3HO3+cVTJ/iv5gnWSyeYvhjgbvUQV258olHu0aKYY5mWLk0T08gKbMQl3LrCefcWprOLzTKwlg9931LhXNfoUpH8yimunK0BEJQSlpwcNdXkRb/OD/0t/mz2OKM1jep7SCWxySOt+sG2OIlJXCEoqz4VnSMtGJiroXI5TL2BGY0+fJA12DSFwZCpXyY07Dw/qc2x9sUS5ytrPJe/zpf9NRadFpVnd1irVSheClnsH8fp9DCtNqbfn8Ty78sjC6SEQFvBlOoxcDyyMGO0GOLmNHI4hI8UyI5Dea9H7j/e5tjPPbLTS1xPlrm8OMfa2TLPLK5zzNnlz8/+A41TBf6k/C16N0r4Wz46TR8DgVLBehphAC0yymqAVx6xu1zAKzuEYhGnVARjIDNgDHY0wsZ7Z8TsZUXWYqMI1Yvw6yHWcbm1UKFrNKFMqKoBoRwxU+rRmy9gHJ9iPQ9bYn/8YaGeECt/+jADpevSPT/HcNmybQqcdbd5Uu+yVK0zWLHE5yMuny7T+FyR1vki3c+U6T5VhkoFFZYwsxXsTBWmy8hcgHQ0wloKGxmlq4ZbU2VOP7GBxTKrBiwoSyHocHmpzMYJB6dZwr/ZAiE+EPoQeGiBhOvSPz9LtJyhpOX5/A2WnYCzbodvhFe4UH6Xfuhhy4asmtILBVERROIgM0kWOBhfkeUcpBWIdBzh7M01xNoOw6cXOX5ug7yKOKm7TKscZbXDUqFBIUx4751jhO+2xtaXHJ7XfvgjliSUrma898oJ3p5aov25gKfDVRZ0ixO6zshqVoJ1Ztwu9aTAZrXIbuzzfrHG7hkPYQQYAUaie3mcfgGZgu4uIQwMnxnylL/OotPCF+OjlJeCE7pOOxfw/VOW/NfP4LUTvBsNGI4w3d7E/dJDlxoIgZqqIooho5NT3HrJxSyMOL2wze/MvUHV6fG0u0FNWQwQ7/mJrpEkewmSsYIMwU4W0s4C+sajmeVJjMO53G2e93fQCAKpcVAYLAbDahrxR9e+zTvvL+KvaWZfS3CbMfp2nXR1bVLaAI9iQdZiOl3EcIQb+Ph1j6HyuOlVeS04ybTXwxUZA9tEC4PGoITFF4ZQGFwh8MRYqJpq0DYdEitpmxyJdTjmtAmEQu79AEgEEkUoBScKTVZrJbpJSH/WIfMkIquON3SH07ZxAkkMxmLjGJuZcQEMWGMPLIYf3oIAhEAohSwVyZ5cJA1dRlWHUUViXEFUgsy3pHmLKadIN2Oq0mM66LMYdHi+eJVQDUmsw8ho1F5rRGL4jLfBOW3RQiG5u7EU2ZRXI5+r8QzXoxr/0zrGbuSz3S6QdLw7XqLA33Ao3LY4Q0t4a4TTHkKcIEYxpCmms3vfQvjRwvxeLpM1mtBo4gChdin6HsJxEJUS1neJZwvsLnukOU3nmM/OVIVr1Sk4DjW3uz+dlhklNUSLjMQqtLD3iAPgCYcX/ZQX/XUMayTTr2MwvJ8Iria1/f+XWMV3V1/g6tsL6I4E4RP4CjVMUb0IEaWI4RDuUwdPJJO+C2sgSbDGIAZDRJahWw55V5L5Epkp4qZDXAz5cWsF4d0RoqVFOQYhDbXyczxZqpNTCQteh1CNWPHX+KrfxRMfLDuyCTtZysAq3o4XeW80hydSpnUXV6TU/B635wbEZU3d9dA9Dxl7OMM8MraEa1W8ZozTGmCv3bon83+0I/ZR7EUdoRQIidAOwtWgFEJrcBxwFNZzQd5hIVJitcIqQVL2icoOSSDpHRPEJcvM+S3+duV7LKpgf8haNuCnw+PspCGvtk9ypVWj4EV8YeoWM+4uAIpxf6rq9MjLiN3Mp54WqScF/uXmZ+luhBQvOyz9/Q3StfW7tjJ5C4J9p2fTdPx3Et/XjPcRAuG6CKXwK2W8ckgWeliZxxkKdo4XSH7ldfaNZDWushGXuNWt0OrkGfia20GFyDhM6T6zukNZDXjaW6emDH1j6VqHzTTkUmWeSyNNUiiAo+5Z0uEI9LBYO26zZhlmt4uIE5x+jjCvcfsOu2d9RvbuTfx0eIq//O+vououwYagtmnItM/lsMQ7GlIfspwlcyGtJeggwc/FTOUHDBNN/dI0+VVJuJphe/fmUJ8ugQBMNo683S50u8iuj+e56N0cTrtAYu++qXqjt0z15y7Fmym5a03MtZsf/FJIZLGAKOSxgc/gRJm4mGNYy7O6VEYYqF20FK92UZ0h5rEQ6FewmUFGMWLooCLBdlagZdqE0sVBkZMxSV6QFCQ57ez3oPbHD0cgFcJYvFYOmWhAY5REGPCbyTiiDUZg7nXHj4FAGbbZRvT6+I0qL/fPYHifFbfBogo45jfpPZGR5hR+I4+6dPd4M4rGXUwpUN0uynHIeR4Vzx3P3+1jBwNMmmLTe2u6T71AWIMZjhBpihpZGnGBbS/kCd0EIJQjKKQkRUmaU9zjZk2GNeNLpyyKHvjxj4FAdnxsAJHBMNOMrEu2d22rRYrUBqMtVgoQEmx2vxkfiMfjbt5k2CRG7gk0MC5mL8N2RYajU6xrsYfwuh8PgWA/+ZTiI/La+3wH8Ch8+o8YjKOQUhgFnkzxRYL88LuSyT/6E3nKIyKkGJckYmxBH2lFh8DkLUiMHaW4o8ayxoJ5SMcpFTIMEb5HXBScCrY5425SluMit288or6L05XIKN3v9UyKiQsklEI4Dkg5FktKiGNs9HACCT1um5hiQDRleSF/mWfdFC1yAHSyANnWeC2BHqST3ApwGAI5DiIfgOMgghxWO8jBCNNqj2usOHlga7KOwuqxD8qLBE9oDJaUjG7mo4YC3QcRT/52Y+ICydka8fI0UVWz/XmHaDYluOlQe2MBtxOjr22Sbm597PmEEOAojJb7HtNgqWdDulbwenuZ6iVL8foQvdognfAd2WSdtBCYUp7+gkfnpMPiV1b5ztd+gPt8k86Tmt5yDlssPPC0VkqsFFg53rzB0LWCzSzP2m6R4vXR+HuAnfpEtwOHEcUMCAsICHXEom4xX9xlOGPpz0pM3n+g6YTrktQC+os+WZih9/rWiZUkVpFmCpFk2DgZN+QnzMQFEtYi9qri5XyTC16L35q5hH66w+5KQjSTe7D5ghztUx7184LaUptAjP3XyCr6xiNOHOQgwfQHh/JZzCFYkEGmFsw4Z/GEw5zTYSbsoUsRaV4hfR+h3f3s+CMRAjyXuChIyhnV3AAtILOWkXVoZwFZKhHGPHwacQCTddLWwk6TAiCyCq/tLPOT0kVGVvPV2vvcKEzx8pfOkXrPkGuk5C6uYnp97Ci65+3LMESWisTL03RXYl5ceY8LpevkhaRnE/6xfYH/3HoCbgaIYXui27iTiUexrN6ARpO8PMO722VemT/FstvgpfAi20HIO5+bZaswReG6y+Jmee/tm3sFKuTJamUG8x7nT13nOws/IhQWT7g0s5hXtk+y/W6N4m0BowdvY3xcDq1pL4YRzlqVfy6f48zUDnoqxSCZyffoznv0TIHmMxW8ThG3k+J07tikhP5sQH/WYTAv+GKhQbhXXnRMzFpWYLNZJFiX5OrmU/rxwgGYnQYnflAiernEW89O0fh6nuV8i5dqb3N6cZMbKzVef/44rTjg3foM3Xqe/U/zhWV6rsOF2ZvMeR1+u/gGVeWxmka8Hc/wav9JgtcDln6wiRiMyNqdw9rGIQrUH+BcWUXf9hlOLbPeLqJlxly1wwt+n897bb6Su0rfOvwoPM9r5eMY+0FL42vT7/G74ZsEAkrSRSIZWcV6UuHWsEJu25JduXZYy9/n8Nod1mAHQ0hTyu8NSP61xM1SiT8+N8t3F7YouiOO5Vp4MqWXeczndsmpmDl3l1CNOOutEwjIgLdiRdsE/PXWb/LqL07j1RXHrn0y300fzs3qXU8QCEcjXI0MC7RfPMHuScWoanGe7FHKDzlT2eazhQ1mdYcL/g1qyqIQaCHZyVL+qXeO9wez/PDnz3DmewPUdhvTbGO63YOf/4gcfsPMWmwSj6OUtfiNlCQvEZmglw/YCjwGsaY+KlB2h6yHFapOb394My3wk/optnsF/C2FbPWwnV3sIUauOzl8C7oTqXBmprFhHuu5ZCUf6whSX2FciXEEmSu48/JUZKAHBplY/M0+XLmJjaJ77r8Oi0+25WqycSW/Of6n2Pvjftzhh7Ss+/FYtFx/nRwJdABHAh3AkUAHcCTQARwJdABHAh3AkUAHcCTQARwJdABHAh3A/wLbaq6F4y9jZAAAAABJRU5ErkJggg==\" y=\"-110.33689\"/>\n   </g>\n   <g id=\"patch_83\">\n    <path d=\"M 607.654717 182.33689 \nL 607.654717 111.270852 \n\" style=\"fill:none;stroke:#000000;stroke-linecap:square;stroke-linejoin:miter;stroke-width:0.8;\"/>\n   </g>\n   <g id=\"patch_84\">\n    <path d=\"M 678.720755 182.33689 \nL 678.720755 111.270852 \n\" style=\"fill:none;stroke:#000000;stroke-linecap:square;stroke-linejoin:miter;stroke-width:0.8;\"/>\n   </g>\n   <g id=\"patch_85\">\n    <path d=\"M 607.654717 182.33689 \nL 678.720755 182.33689 \n\" style=\"fill:none;stroke:#000000;stroke-linecap:square;stroke-linejoin:miter;stroke-width:0.8;\"/>\n   </g>\n   <g id=\"patch_86\">\n    <path d=\"M 607.654717 111.270852 \nL 678.720755 111.270852 \n\" style=\"fill:none;stroke:#000000;stroke-linecap:square;stroke-linejoin:miter;stroke-width:0.8;\"/>\n   </g>\n   <g id=\"text_17\">\n    <!-- 2 -->\n    <g transform=\"translate(639.370236 105.270852)scale(0.12 -0.12)\">\n     <use xlink:href=\"#DejaVuSans-50\"/>\n    </g>\n   </g>\n  </g>\n  <g id=\"axes_18\">\n   <g id=\"patch_87\">\n    <path d=\"M 692.933962 182.33689 \nL 764 182.33689 \nL 764 111.270852 \nL 692.933962 111.270852 \nz\n\" style=\"fill:#ffffff;\"/>\n   </g>\n   <g clip-path=\"url(#pc8f2574562)\">\n    <image height=\"72\" id=\"imagebc12ed5741\" transform=\"scale(1 -1)translate(0 -72)\" width=\"72\" x=\"692.933962\" xlink:href=\"data:image/png;base64,\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\" y=\"-110.33689\"/>\n   </g>\n   <g id=\"patch_88\">\n    <path d=\"M 692.933962 182.33689 \nL 692.933962 111.270852 \n\" style=\"fill:none;stroke:#000000;stroke-linecap:square;stroke-linejoin:miter;stroke-width:0.8;\"/>\n   </g>\n   <g id=\"patch_89\">\n    <path d=\"M 764 182.33689 \nL 764 111.270852 \n\" style=\"fill:none;stroke:#000000;stroke-linecap:square;stroke-linejoin:miter;stroke-width:0.8;\"/>\n   </g>\n   <g id=\"patch_90\">\n    <path d=\"M 692.933962 182.33689 \nL 764 182.33689 \n\" style=\"fill:none;stroke:#000000;stroke-linecap:square;stroke-linejoin:miter;stroke-width:0.8;\"/>\n   </g>\n   <g id=\"patch_91\">\n    <path d=\"M 692.933962 111.270852 \nL 764 111.270852 \n\" style=\"fill:none;stroke:#000000;stroke-linecap:square;stroke-linejoin:miter;stroke-width:0.8;\"/>\n   </g>\n   <g id=\"text_18\">\n    <!-- 8 -->\n    <defs>\n     <path d=\"M 31.78125 34.625 \nQ 24.75 34.625 20.71875 30.859375 \nQ 16.703125 27.09375 16.703125 20.515625 \nQ 16.703125 13.921875 20.71875 10.15625 \nQ 24.75 6.390625 31.78125 6.390625 \nQ 38.8125 6.390625 42.859375 10.171875 \nQ 46.921875 13.96875 46.921875 20.515625 \nQ 46.921875 27.09375 42.890625 30.859375 \nQ 38.875 34.625 31.78125 34.625 \nz\nM 21.921875 38.8125 \nQ 15.578125 40.375 12.03125 44.71875 \nQ 8.5 49.078125 8.5 55.328125 \nQ 8.5 64.0625 14.71875 69.140625 \nQ 20.953125 74.21875 31.78125 74.21875 \nQ 42.671875 74.21875 48.875 69.140625 \nQ 55.078125 64.0625 55.078125 55.328125 \nQ 55.078125 49.078125 51.53125 44.71875 \nQ 48 40.375 41.703125 38.8125 \nQ 48.828125 37.15625 52.796875 32.3125 \nQ 56.78125 27.484375 56.78125 20.515625 \nQ 56.78125 9.90625 50.3125 4.234375 \nQ 43.84375 -1.421875 31.78125 -1.421875 \nQ 19.734375 -1.421875 13.25 4.234375 \nQ 6.78125 9.90625 6.78125 20.515625 \nQ 6.78125 27.484375 10.78125 32.3125 \nQ 14.796875 37.15625 21.921875 38.8125 \nz\nM 18.3125 54.390625 \nQ 18.3125 48.734375 21.84375 45.5625 \nQ 25.390625 42.390625 31.78125 42.390625 \nQ 38.140625 42.390625 41.71875 45.5625 \nQ 45.3125 48.734375 45.3125 54.390625 \nQ 45.3125 60.0625 41.71875 63.234375 \nQ 38.140625 66.40625 31.78125 66.40625 \nQ 25.390625 66.40625 21.84375 63.234375 \nQ 18.3125 60.0625 18.3125 54.390625 \nz\n\" id=\"DejaVuSans-56\"/>\n    </defs>\n    <g transform=\"translate(724.649481 105.270852)scale(0.12 -0.12)\">\n     <use xlink:href=\"#DejaVuSans-56\"/>\n    </g>\n   </g>\n  </g>\n </g>\n <defs>\n  <clipPath id=\"pa614b1dc41\">\n   <rect height=\"71.066038\" width=\"71.066038\" x=\"10.7\" y=\"22.318125\"/>\n  </clipPath>\n  <clipPath id=\"p16d96c3a03\">\n   <rect height=\"71.066038\" width=\"71.066038\" x=\"95.979245\" y=\"22.318125\"/>\n  </clipPath>\n  <clipPath id=\"pcc5f841015\">\n   <rect height=\"71.066038\" width=\"71.066038\" x=\"181.258491\" y=\"22.318125\"/>\n  </clipPath>\n  <clipPath id=\"p05b9519b64\">\n   <rect height=\"71.066038\" width=\"71.066038\" x=\"266.537736\" y=\"22.318125\"/>\n  </clipPath>\n  <clipPath id=\"p8855911175\">\n   <rect height=\"71.066038\" width=\"71.066038\" x=\"351.816981\" y=\"22.318125\"/>\n  </clipPath>\n  <clipPath id=\"p3bfe0847c6\">\n   <rect height=\"71.066038\" width=\"71.066038\" x=\"437.096226\" y=\"22.318125\"/>\n  </clipPath>\n  <clipPath id=\"p26a1d78786\">\n   <rect height=\"71.066038\" width=\"71.066038\" x=\"522.375472\" y=\"22.318125\"/>\n  </clipPath>\n  <clipPath id=\"p65ad24dbff\">\n   <rect height=\"71.066038\" width=\"71.066038\" x=\"607.654717\" y=\"22.318125\"/>\n  </clipPath>\n  <clipPath id=\"pe544d501a8\">\n   <rect height=\"71.066038\" width=\"71.066038\" x=\"692.933962\" y=\"22.318125\"/>\n  </clipPath>\n  <clipPath id=\"p979fe03fc6\">\n   <rect height=\"71.066038\" width=\"71.066038\" x=\"10.7\" y=\"111.270852\"/>\n  </clipPath>\n  <clipPath id=\"p0e45100672\">\n   <rect height=\"71.066038\" width=\"71.066038\" x=\"95.979245\" y=\"111.270852\"/>\n  </clipPath>\n  <clipPath id=\"p66e9efc593\">\n   <rect height=\"71.066038\" width=\"71.066038\" x=\"181.258491\" y=\"111.270852\"/>\n  </clipPath>\n  <clipPath id=\"p2bd1895a55\">\n   <rect height=\"71.066038\" width=\"71.066038\" x=\"266.537736\" y=\"111.270852\"/>\n  </clipPath>\n  <clipPath id=\"p1a4995f6a4\">\n   <rect height=\"71.066038\" width=\"71.066038\" x=\"351.816981\" y=\"111.270852\"/>\n  </clipPath>\n  <clipPath id=\"pcd36a67945\">\n   <rect height=\"71.066038\" width=\"71.066038\" x=\"437.096226\" y=\"111.270852\"/>\n  </clipPath>\n  <clipPath id=\"paefac6b4a1\">\n   <rect height=\"71.066038\" width=\"71.066038\" x=\"522.375472\" y=\"111.270852\"/>\n  </clipPath>\n  <clipPath id=\"p7084021e46\">\n   <rect height=\"71.066038\" width=\"71.066038\" x=\"607.654717\" y=\"111.270852\"/>\n  </clipPath>\n  <clipPath id=\"pc8f2574562\">\n   <rect height=\"71.066038\" width=\"71.066038\" x=\"692.933962\" y=\"111.270852\"/>\n  </clipPath>\n </defs>\n</svg>\n"
          },
          "metadata": {
            "needs_background": "light"
          }
        }
      ]
    },
    {
      "cell_type": "code",
      "source": [
        "!pip install matplotlib==3.1.3"
      ],
      "metadata": {
        "colab": {
          "base_uri": "https://localhost:8080/",
          "height": 483
        },
        "id": "tQBREW56sFot",
        "outputId": "73e65cdd-1716-4695-d0f2-df45e9e8c06e"
      },
      "execution_count": null,
      "outputs": [
        {
          "output_type": "stream",
          "name": "stdout",
          "text": [
            "Looking in indexes: https://pypi.org/simple, https://us-python.pkg.dev/colab-wheels/public/simple/\n",
            "Collecting matplotlib==3.1.3\n",
            "  Downloading matplotlib-3.1.3-cp37-cp37m-manylinux1_x86_64.whl (13.1 MB)\n",
            "\u001b[K     |████████████████████████████████| 13.1 MB 8.3 MB/s \n",
            "\u001b[?25hRequirement already satisfied: cycler>=0.10 in /usr/local/lib/python3.7/dist-packages (from matplotlib==3.1.3) (0.11.0)\n",
            "Requirement already satisfied: python-dateutil>=2.1 in /usr/local/lib/python3.7/dist-packages (from matplotlib==3.1.3) (2.8.2)\n",
            "Requirement already satisfied: kiwisolver>=1.0.1 in /usr/local/lib/python3.7/dist-packages (from matplotlib==3.1.3) (1.4.3)\n",
            "Requirement already satisfied: numpy>=1.11 in /usr/local/lib/python3.7/dist-packages (from matplotlib==3.1.3) (1.21.5)\n",
            "Requirement already satisfied: pyparsing!=2.0.4,!=2.1.2,!=2.1.6,>=2.0.1 in /usr/local/lib/python3.7/dist-packages (from matplotlib==3.1.3) (3.0.9)\n",
            "Requirement already satisfied: typing-extensions in /usr/local/lib/python3.7/dist-packages (from kiwisolver>=1.0.1->matplotlib==3.1.3) (4.1.1)\n",
            "Requirement already satisfied: six>=1.5 in /usr/local/lib/python3.7/dist-packages (from python-dateutil>=2.1->matplotlib==3.1.3) (1.15.0)\n",
            "Installing collected packages: matplotlib\n",
            "  Attempting uninstall: matplotlib\n",
            "    Found existing installation: matplotlib 3.5.1\n",
            "    Uninstalling matplotlib-3.5.1:\n",
            "      Successfully uninstalled matplotlib-3.5.1\n",
            "\u001b[31mERROR: pip's dependency resolver does not currently take into account all the packages that are installed. This behaviour is the source of the following dependency conflicts.\n",
            "d2l 0.17.5 requires matplotlib==3.5.1, but you have matplotlib 3.1.3 which is incompatible.\n",
            "albumentations 0.1.12 requires imgaug<0.2.7,>=0.2.5, but you have imgaug 0.2.9 which is incompatible.\u001b[0m\n",
            "Successfully installed matplotlib-3.1.3\n"
          ]
        },
        {
          "output_type": "display_data",
          "data": {
            "application/vnd.colab-display-data+json": {
              "pip_warning": {
                "packages": [
                  "matplotlib",
                  "mpl_toolkits"
                ]
              }
            }
          },
          "metadata": {}
        }
      ]
    },
    {
      "cell_type": "markdown",
      "source": [
        "##미니 배치 읽기"
      ],
      "metadata": {
        "id": "blG_KwsduFBh"
      }
    },
    {
      "cell_type": "code",
      "source": [
        "!pip install mxnet"
      ],
      "metadata": {
        "colab": {
          "base_uri": "https://localhost:8080/"
        },
        "id": "4Mzkfcw6v0oL",
        "outputId": "f95b2e61-6fe7-4508-af1c-a47883c1615d"
      },
      "execution_count": null,
      "outputs": [
        {
          "output_type": "stream",
          "name": "stdout",
          "text": [
            "Looking in indexes: https://pypi.org/simple, https://us-python.pkg.dev/colab-wheels/public/simple/\n",
            "Collecting mxnet\n",
            "  Downloading mxnet-1.9.1-py3-none-manylinux2014_x86_64.whl (49.1 MB)\n",
            "\u001b[K     |████████████████████████████████| 49.1 MB 128 kB/s \n",
            "\u001b[?25hCollecting graphviz<0.9.0,>=0.8.1\n",
            "  Downloading graphviz-0.8.4-py2.py3-none-any.whl (16 kB)\n",
            "Requirement already satisfied: requests<3,>=2.20.0 in /usr/local/lib/python3.7/dist-packages (from mxnet) (2.25.1)\n",
            "Requirement already satisfied: numpy<2.0.0,>1.16.0 in /usr/local/lib/python3.7/dist-packages (from mxnet) (1.21.5)\n",
            "Requirement already satisfied: idna<3,>=2.5 in /usr/local/lib/python3.7/dist-packages (from requests<3,>=2.20.0->mxnet) (2.10)\n",
            "Requirement already satisfied: chardet<5,>=3.0.2 in /usr/local/lib/python3.7/dist-packages (from requests<3,>=2.20.0->mxnet) (3.0.4)\n",
            "Requirement already satisfied: urllib3<1.27,>=1.21.1 in /usr/local/lib/python3.7/dist-packages (from requests<3,>=2.20.0->mxnet) (1.24.3)\n",
            "Requirement already satisfied: certifi>=2017.4.17 in /usr/local/lib/python3.7/dist-packages (from requests<3,>=2.20.0->mxnet) (2022.6.15)\n",
            "Installing collected packages: graphviz, mxnet\n",
            "  Attempting uninstall: graphviz\n",
            "    Found existing installation: graphviz 0.10.1\n",
            "    Uninstalling graphviz-0.10.1:\n",
            "      Successfully uninstalled graphviz-0.10.1\n",
            "Successfully installed graphviz-0.8.4 mxnet-1.9.1\n"
          ]
        }
      ]
    },
    {
      "cell_type": "code",
      "source": [
        "batch_size = 256\n",
        "\n",
        "def get_dataloader_workers():\n",
        "  return 4\n",
        "\n",
        "train_iter = data.DataLoader(trainset, batch_size, shuffle = True, num_workers = get_dataloader_workers())"
      ],
      "metadata": {
        "colab": {
          "base_uri": "https://localhost:8080/"
        },
        "id": "1ZZ8zZUjuGYf",
        "outputId": "23457d58-c734-493f-a91e-863b25dccc8d"
      },
      "execution_count": null,
      "outputs": [
        {
          "output_type": "stream",
          "name": "stderr",
          "text": [
            "/usr/local/lib/python3.7/dist-packages/torch/utils/data/dataloader.py:560: UserWarning: This DataLoader will create 4 worker processes in total. Our suggested max number of worker in current system is 2, which is smaller than what this DataLoader is going to create. Please be aware that excessive worker creation might get DataLoader running slow or even freeze, lower the worker number to avoid potential slowness/freeze if necessary.\n",
            "  cpuset_checked))\n"
          ]
        }
      ]
    },
    {
      "cell_type": "code",
      "source": [
        "timer = d2l.Timer()\n",
        "for X, y in train_iter:\n",
        "    continue\n",
        "f'{timer.stop():.2f} sec'"
      ],
      "metadata": {
        "colab": {
          "base_uri": "https://localhost:8080/",
          "height": 92
        },
        "id": "E2Ewr2S0wRwd",
        "outputId": "872c3356-bc98-45af-8224-ccc4b06ddb00"
      },
      "execution_count": null,
      "outputs": [
        {
          "output_type": "stream",
          "name": "stderr",
          "text": [
            "/usr/local/lib/python3.7/dist-packages/torch/utils/data/dataloader.py:560: UserWarning: This DataLoader will create 4 worker processes in total. Our suggested max number of worker in current system is 2, which is smaller than what this DataLoader is going to create. Please be aware that excessive worker creation might get DataLoader running slow or even freeze, lower the worker number to avoid potential slowness/freeze if necessary.\n",
            "  cpuset_checked))\n"
          ]
        },
        {
          "output_type": "execute_result",
          "data": {
            "text/plain": [
              "'6.29 sec'"
            ],
            "application/vnd.google.colaboratory.intrinsic+json": {
              "type": "string"
            }
          },
          "metadata": {},
          "execution_count": 88
        }
      ]
    },
    {
      "cell_type": "code",
      "source": [
        "def load_data_mnist(batch_size, resize=None):  \n",
        "    trans = [transforms.ToTensor()]\n",
        "    if resize:\n",
        "        trans.insert(0, transforms.Resize(resize))\n",
        "    trans = transforms.Compose(trans)\n",
        "    trainset = torchvision.datasets.MNIST(\n",
        "        root=\"../data\", train=True, transform=trans, download=True)\n",
        "    testset = torchvision.datasets.MNIST(\n",
        "        root=\"../data\", train=False, transform=trans, download=True)\n",
        "    return (data.DataLoader(trainset, batch_size, shuffle=True,\n",
        "                            num_workers=get_dataloader_workers()),\n",
        "            data.DataLoader(testset, batch_size, shuffle=False,\n",
        "                            num_workers=get_dataloader_workers()))"
      ],
      "metadata": {
        "id": "wqhg6YCgbxpM"
      },
      "execution_count": null,
      "outputs": []
    },
    {
      "cell_type": "code",
      "source": [
        "train_iter, test_iter = load_data_mnist(256, resize = 28)\n",
        "for X, y in train_iter:\n",
        "  print(X.shape, X.dtype, y.shape, y.dtype)\n",
        "  break"
      ],
      "metadata": {
        "colab": {
          "base_uri": "https://localhost:8080/"
        },
        "id": "t7PAMx-VcVIw",
        "outputId": "55e605bd-7311-4953-8bad-bfc785511164"
      },
      "execution_count": null,
      "outputs": [
        {
          "output_type": "stream",
          "name": "stderr",
          "text": [
            "/usr/local/lib/python3.7/dist-packages/torch/utils/data/dataloader.py:560: UserWarning: This DataLoader will create 4 worker processes in total. Our suggested max number of worker in current system is 2, which is smaller than what this DataLoader is going to create. Please be aware that excessive worker creation might get DataLoader running slow or even freeze, lower the worker number to avoid potential slowness/freeze if necessary.\n",
            "  cpuset_checked))\n"
          ]
        },
        {
          "output_type": "stream",
          "name": "stdout",
          "text": [
            "torch.Size([256, 1, 28, 28]) torch.float32 torch.Size([256]) torch.int64\n"
          ]
        }
      ]
    },
    {
      "cell_type": "markdown",
      "source": [
        "##Softmax"
      ],
      "metadata": {
        "id": "hOAWdoh_wrMD"
      }
    },
    {
      "cell_type": "code",
      "source": [
        "from IPython import display\n",
        "\n",
        "batch_size = 256\n",
        "train_iter, test_iter = load_data_mnist(batch_size)"
      ],
      "metadata": {
        "colab": {
          "base_uri": "https://localhost:8080/"
        },
        "id": "tXmEkT4iO_Ed",
        "outputId": "02c6f7fb-bc88-4adb-d20e-b0e89b484ac3"
      },
      "execution_count": null,
      "outputs": [
        {
          "output_type": "stream",
          "name": "stderr",
          "text": [
            "/usr/local/lib/python3.7/dist-packages/torch/utils/data/dataloader.py:560: UserWarning: This DataLoader will create 4 worker processes in total. Our suggested max number of worker in current system is 2, which is smaller than what this DataLoader is going to create. Please be aware that excessive worker creation might get DataLoader running slow or even freeze, lower the worker number to avoid potential slowness/freeze if necessary.\n",
            "  cpuset_checked))\n"
          ]
        }
      ]
    },
    {
      "cell_type": "code",
      "source": [
        "num_inputs = 784 # 28 x 28\n",
        "num_outputs = 10 #label 개수\n",
        "\n",
        "W = torch.normal(0, 0.01, size = (num_inputs, num_outputs), requires_grad = True) #requires_grad = True: 자동미분한 결과값 저장\n",
        "b = torch.zeros(num_outputs, requires_grad = True)"
      ],
      "metadata": {
        "id": "p00BL2r2dObm"
      },
      "execution_count": null,
      "outputs": []
    },
    {
      "cell_type": "code",
      "source": [
        "X = torch.tensor([[1.0, 2.0, 3.0], [4.0, 5.0, 6.0]])\n",
        "X.sum(0, keepdim=True) #0: 행 기준 더하기 #keepdim\n",
        "X.sum(1, keepdim=True) #1: 열 기준 더하기"
      ],
      "metadata": {
        "colab": {
          "base_uri": "https://localhost:8080/"
        },
        "id": "EeLojHcheY5Y",
        "outputId": "70640f2c-9a12-4c25-8913-602045b7142e"
      },
      "execution_count": null,
      "outputs": [
        {
          "output_type": "execute_result",
          "data": {
            "text/plain": [
              "tensor([[ 6.],\n",
              "        [15.]])"
            ]
          },
          "metadata": {},
          "execution_count": 96
        }
      ]
    },
    {
      "cell_type": "code",
      "source": [
        "#softmax 함수: 지수값 구하기, 정규화 상수를 위해 모두 더해줌 -> 각 행을 정규화 상수로 나눠줌\n",
        "def softmax(X):\n",
        "    X_exp = torch.exp(X)\n",
        "    partition = X_exp.sum(1, keepdim=True) #keepdim으로 차원 수를 줄이지 않고 유지할 수도 있다\n",
        "    return X_exp / partition"
      ],
      "metadata": {
        "id": "DgBpx7R0fWN0"
      },
      "execution_count": null,
      "outputs": []
    },
    {
      "cell_type": "code",
      "source": [
        "X = torch.normal(0, 1, (2,5))\n",
        "X_prob =softmax(X) #softmax 함수에 넣으면 확률값으로 나옴!\n",
        "X_prob, X_prob.sum(1) #확률이니까 더하면 1이 된답니다"
      ],
      "metadata": {
        "colab": {
          "base_uri": "https://localhost:8080/"
        },
        "id": "Ksn-6nvMgK7X",
        "outputId": "db4024a2-753f-405f-a124-f55d2aaf4a58"
      },
      "execution_count": null,
      "outputs": [
        {
          "output_type": "execute_result",
          "data": {
            "text/plain": [
              "(tensor([[0.3094, 0.0793, 0.4118, 0.1231, 0.0764],\n",
              "         [0.2224, 0.2073, 0.4447, 0.0564, 0.0692]]), tensor([1.0000, 1.0000]))"
            ]
          },
          "metadata": {},
          "execution_count": 98
        }
      ]
    },
    {
      "cell_type": "code",
      "source": [
        "#모델 만들기\n",
        "def net(X):\n",
        "  return softmax(torch.matmul(X.reshape((-1, W.shape[0])), W)+ b)"
      ],
      "metadata": {
        "id": "GSVqB4gqgekA"
      },
      "execution_count": null,
      "outputs": []
    },
    {
      "cell_type": "code",
      "source": [
        "#loss function\n",
        "y = torch.tensor([0, 2])\n",
        "y_hat = torch.tensor([[0.1, 0.3, 0.6], [0.3, 0.2, 0.5]])\n",
        "y_hat[[0, 1], y]"
      ],
      "metadata": {
        "colab": {
          "base_uri": "https://localhost:8080/"
        },
        "id": "Jf8kxy5mhNYb",
        "outputId": "35fcebf8-da5f-4b82-f1dc-b73f5ab0625e"
      },
      "execution_count": null,
      "outputs": [
        {
          "output_type": "execute_result",
          "data": {
            "text/plain": [
              "tensor([0.1000, 0.5000])"
            ]
          },
          "metadata": {},
          "execution_count": 100
        }
      ]
    },
    {
      "cell_type": "code",
      "source": [
        "#cross-entropy\n",
        "def cross_entropy(y_hat, y):\n",
        "    return - torch.log(y_hat[range(len(y_hat)), y])\n",
        "cross_entropy(y_hat, y)"
      ],
      "metadata": {
        "colab": {
          "base_uri": "https://localhost:8080/"
        },
        "id": "AvSPdw0uha49",
        "outputId": "66b317eb-bef4-4066-ac1c-b9278a40db5b"
      },
      "execution_count": null,
      "outputs": [
        {
          "output_type": "execute_result",
          "data": {
            "text/plain": [
              "tensor([2.3026, 0.6931])"
            ]
          },
          "metadata": {},
          "execution_count": 101
        }
      ]
    },
    {
      "cell_type": "code",
      "source": [
        "#accuracy: 예측값에서 가장 큰 값과, 실제 값을 비교함\n",
        "def accuracy(y_hat, y): \n",
        "    if len(y_hat.shape) > 1 and y_hat.shape[1] > 1:\n",
        "        y_hat = y_hat.argmax(axis=1)\n",
        "    cmp = y_hat.type(y.dtype) == y\n",
        "    return float(cmp.type(y.dtype).sum())"
      ],
      "metadata": {
        "id": "bGpLhHvRh6QO"
      },
      "execution_count": null,
      "outputs": []
    },
    {
      "cell_type": "code",
      "source": [
        "accuracy(y_hat, y) / len(y) "
      ],
      "metadata": {
        "colab": {
          "base_uri": "https://localhost:8080/"
        },
        "id": "cuexX2X6iOsy",
        "outputId": "63e876df-253c-4e34-ab16-25ce38731844"
      },
      "execution_count": null,
      "outputs": [
        {
          "output_type": "execute_result",
          "data": {
            "text/plain": [
              "0.5"
            ]
          },
          "metadata": {},
          "execution_count": 103
        }
      ]
    },
    {
      "cell_type": "code",
      "source": [
        "class Accumulator: \n",
        "    def __init__(self, n):\n",
        "        self.data = [0.0] * n\n",
        "    def add(self, *args):\n",
        "        self.data = [a + float(b) for a, b in zip(self.data, args)]\n",
        "    def reset(self):\n",
        "        self.data = [0.0] * len(self.data)\n",
        "    def __getitem__(self, idx):\n",
        "        return self.data[idx]"
      ],
      "metadata": {
        "id": "lZyNUBOYjBvZ"
      },
      "execution_count": null,
      "outputs": []
    },
    {
      "cell_type": "code",
      "source": [
        "#data_iter accuracy \n",
        "def evaluate_accuracy(net, data_iter):  \n",
        "    if isinstance(net, torch.nn.Module):\n",
        "        net.eval()  # 최빈값\n",
        "    metric = Accumulator(2)  # 알맞게 예측한 값의 수\n",
        "    with torch.no_grad():\n",
        "        for X, y in data_iter:\n",
        "            metric.add(accuracy(net(X), y), y.numel())\n",
        "    return metric[0] / metric[1]"
      ],
      "metadata": {
        "id": "SiNIlfA2ipos"
      },
      "execution_count": null,
      "outputs": []
    },
    {
      "cell_type": "code",
      "source": [
        "evaluate_accuracy(net, test_iter)"
      ],
      "metadata": {
        "colab": {
          "base_uri": "https://localhost:8080/"
        },
        "id": "duNTn42TjDo-",
        "outputId": "936cbd69-84c0-46a8-8b33-b49fab38dfdc"
      },
      "execution_count": null,
      "outputs": [
        {
          "output_type": "stream",
          "name": "stderr",
          "text": [
            "/usr/local/lib/python3.7/dist-packages/torch/utils/data/dataloader.py:560: UserWarning: This DataLoader will create 4 worker processes in total. Our suggested max number of worker in current system is 2, which is smaller than what this DataLoader is going to create. Please be aware that excessive worker creation might get DataLoader running slow or even freeze, lower the worker number to avoid potential slowness/freeze if necessary.\n",
            "  cpuset_checked))\n"
          ]
        },
        {
          "output_type": "execute_result",
          "data": {
            "text/plain": [
              "0.0757"
            ]
          },
          "metadata": {},
          "execution_count": 106
        }
      ]
    },
    {
      "cell_type": "markdown",
      "source": [
        "## Train"
      ],
      "metadata": {
        "id": "rIj0TpqfjQFV"
      }
    },
    {
      "cell_type": "code",
      "source": [
        "def train_epoch_ch3(net, train_iter, loss, updater):\n",
        "  if isinstance(net, torch.nn.Module):\n",
        "    net.train()\n",
        "  # Sum of training loss, sum of training accuracy, no. of examples\n",
        "  metric = Accumulator(3)\n",
        "  for X, y in train_iter:\n",
        "      #gradients 계산/ 파라미터 업데이트 \n",
        "      y_hat = net(X)\n",
        "      l = loss(y_hat, y)\n",
        "      if isinstance(updater, torch.optim.Optimizer):\n",
        "          updater.zero_grad()\n",
        "          l.mean().backward()\n",
        "          updater.step()\n",
        "      else:\n",
        "          l.sum().backward()\n",
        "          updater(X.shape[0])\n",
        "      metric.add(float(l.sum()), accuracy(y_hat, y), y.numel())\n",
        "\n",
        "  return metric[0] / metric[2], metric[1] / metric[2]"
      ],
      "metadata": {
        "id": "1IMHYzwHjPRg"
      },
      "execution_count": null,
      "outputs": []
    },
    {
      "cell_type": "code",
      "source": [
        "#그래프 만들기 위해서 만들어주는 클래스\n",
        "class Animator:  \n",
        "    def __init__(self, xlabel=None, ylabel=None, legend=None, xlim=None,\n",
        "                 ylim=None, xscale='linear', yscale='linear',\n",
        "                 fmts=('-', 'm--', 'g-.', 'r:'), nrows=1, ncols=1,\n",
        "                 figsize=(3.5, 2.5)):\n",
        "        if legend is None:\n",
        "            legend = []\n",
        "        d2l.use_svg_display()\n",
        "        self.fig, self.axes = d2l.plt.subplots(nrows, ncols, figsize=figsize)\n",
        "        if nrows * ncols == 1:\n",
        "            self.axes = [self.axes, ]\n",
        "        # Use a lambda function to capture arguments\n",
        "        self.config_axes = lambda: d2l.set_axes(\n",
        "            self.axes[0], xlabel, ylabel, xlim, ylim, xscale, yscale, legend)\n",
        "        self.X, self.Y, self.fmts = None, None, fmts\n",
        "    def add(self, x, y):\n",
        "        # Add multiple data points into the figure\n",
        "        if not hasattr(y, \"__len__\"):\n",
        "            y = [y]\n",
        "        n = len(y)\n",
        "        if not hasattr(x, \"__len__\"):\n",
        "            x = [x] * n\n",
        "        if not self.X:\n",
        "            self.X = [[] for _ in range(n)]\n",
        "        if not self.Y:\n",
        "            self.Y = [[] for _ in range(n)]\n",
        "        for i, (a, b) in enumerate(zip(x, y)):\n",
        "              if a is not None and b is not None:\n",
        "                self.X[i].append(a)\n",
        "                self.Y[i].append(b)\n",
        "\n",
        "        self.axes[0].cla()\n",
        "        for x, y, fmt in zip(self.X, self.Y, self.fmts):\n",
        "          self.axes[0].plot(x, y, fmt)\n",
        "        self.config_axes()\n",
        "        display.display(self.fig)\n",
        "        display.clear_output(wait=True)"
      ],
      "metadata": {
        "id": "hLs5JSVYjwBB"
      },
      "execution_count": null,
      "outputs": []
    },
    {
      "cell_type": "code",
      "source": [
        "#net model train\n",
        "def train_ch3(net, train_iter, test_iter, loss, num_epochs, updater):  \n",
        "    animator = Animator(xlabel='epoch', xlim=[1, num_epochs], ylim=[0.3, 0.9],\n",
        "                        legend=['train loss', 'train acc', 'test acc'])\n",
        "    for epoch in range(num_epochs):\n",
        "        train_metrics = train_epoch_ch3(net, train_iter, loss, updater)\n",
        "        test_acc = evaluate_accuracy(net, test_iter)\n",
        "        animator.add(epoch + 1, train_metrics + (test_acc,))\n",
        "    train_loss, train_acc = train_metrics\n",
        "    assert train_loss < 0.5, train_loss\n",
        "    assert train_acc <= 1 and train_acc > 0.7, train_acc\n",
        "    assert test_acc <= 1 and test_acc > 0.7, test_acc"
      ],
      "metadata": {
        "id": "qSlVPIO6kC5G"
      },
      "execution_count": null,
      "outputs": []
    },
    {
      "cell_type": "code",
      "source": [
        "lr = 0.1 #learning rate\n",
        "\n",
        "def updater(batch_size):\n",
        "  return d2l.sgd([W,b], lr, batch_size)"
      ],
      "metadata": {
        "id": "9j9DgBDDkKNi"
      },
      "execution_count": null,
      "outputs": []
    },
    {
      "cell_type": "code",
      "source": [
        "num_epochs = 10\n",
        "train_ch3(net, train_iter, test_iter, cross_entropy, num_epochs, updater)"
      ],
      "metadata": {
        "colab": {
          "base_uri": "https://localhost:8080/",
          "height": 263
        },
        "id": "PjhvhId8kT8-",
        "outputId": "cce15cd8-6f22-4bad-c78d-6414c43fde31"
      },
      "execution_count": null,
      "outputs": [
        {
          "output_type": "display_data",
          "data": {
            "text/plain": [
              "<Figure size 252x180 with 1 Axes>"
            ],
            "image/svg+xml": "<?xml version=\"1.0\" encoding=\"utf-8\" standalone=\"no\"?>\n<!DOCTYPE svg PUBLIC \"-//W3C//DTD SVG 1.1//EN\"\n  \"http://www.w3.org/Graphics/SVG/1.1/DTD/svg11.dtd\">\n<!-- Created with matplotlib (https://matplotlib.org/) -->\n<svg height=\"180.65625pt\" version=\"1.1\" viewBox=\"0 0 238.965625 180.65625\" width=\"238.965625pt\" xmlns=\"http://www.w3.org/2000/svg\" xmlns:xlink=\"http://www.w3.org/1999/xlink\">\n <defs>\n  <style type=\"text/css\">\n*{stroke-linecap:butt;stroke-linejoin:round;}\n  </style>\n </defs>\n <g id=\"figure_1\">\n  <g id=\"patch_1\">\n   <path d=\"M 0 180.65625 \nL 238.965625 180.65625 \nL 238.965625 0 \nL 0 0 \nz\n\" style=\"fill:none;\"/>\n  </g>\n  <g id=\"axes_1\">\n   <g id=\"patch_2\">\n    <path d=\"M 30.103125 143.1 \nL 225.403125 143.1 \nL 225.403125 7.2 \nL 30.103125 7.2 \nz\n\" style=\"fill:#ffffff;\"/>\n   </g>\n   <g id=\"matplotlib.axis_1\">\n    <g id=\"xtick_1\">\n     <g id=\"line2d_1\">\n      <path clip-path=\"url(#p2e47ffc9c0)\" d=\"M 51.803125 143.1 \nL 51.803125 7.2 \n\" style=\"fill:none;stroke:#b0b0b0;stroke-linecap:square;stroke-width:0.8;\"/>\n     </g>\n     <g id=\"line2d_2\">\n      <defs>\n       <path d=\"M 0 0 \nL 0 3.5 \n\" id=\"mf424fd8c0f\" style=\"stroke:#000000;stroke-width:0.8;\"/>\n      </defs>\n      <g>\n       <use style=\"stroke:#000000;stroke-width:0.8;\" x=\"51.803125\" xlink:href=\"#mf424fd8c0f\" y=\"143.1\"/>\n      </g>\n     </g>\n     <g id=\"text_1\">\n      <!-- 2 -->\n      <defs>\n       <path d=\"M 19.1875 8.296875 \nL 53.609375 8.296875 \nL 53.609375 0 \nL 7.328125 0 \nL 7.328125 8.296875 \nQ 12.9375 14.109375 22.625 23.890625 \nQ 32.328125 33.6875 34.8125 36.53125 \nQ 39.546875 41.84375 41.421875 45.53125 \nQ 43.3125 49.21875 43.3125 52.78125 \nQ 43.3125 58.59375 39.234375 62.25 \nQ 35.15625 65.921875 28.609375 65.921875 \nQ 23.96875 65.921875 18.8125 64.3125 \nQ 13.671875 62.703125 7.8125 59.421875 \nL 7.8125 69.390625 \nQ 13.765625 71.78125 18.9375 73 \nQ 24.125 74.21875 28.421875 74.21875 \nQ 39.75 74.21875 46.484375 68.546875 \nQ 53.21875 62.890625 53.21875 53.421875 \nQ 53.21875 48.921875 51.53125 44.890625 \nQ 49.859375 40.875 45.40625 35.40625 \nQ 44.1875 33.984375 37.640625 27.21875 \nQ 31.109375 20.453125 19.1875 8.296875 \nz\n\" id=\"DejaVuSans-50\"/>\n      </defs>\n      <g transform=\"translate(48.621875 157.698438)scale(0.1 -0.1)\">\n       <use xlink:href=\"#DejaVuSans-50\"/>\n      </g>\n     </g>\n    </g>\n    <g id=\"xtick_2\">\n     <g id=\"line2d_3\">\n      <path clip-path=\"url(#p2e47ffc9c0)\" d=\"M 95.203125 143.1 \nL 95.203125 7.2 \n\" style=\"fill:none;stroke:#b0b0b0;stroke-linecap:square;stroke-width:0.8;\"/>\n     </g>\n     <g id=\"line2d_4\">\n      <g>\n       <use style=\"stroke:#000000;stroke-width:0.8;\" x=\"95.203125\" xlink:href=\"#mf424fd8c0f\" y=\"143.1\"/>\n      </g>\n     </g>\n     <g id=\"text_2\">\n      <!-- 4 -->\n      <defs>\n       <path d=\"M 37.796875 64.3125 \nL 12.890625 25.390625 \nL 37.796875 25.390625 \nz\nM 35.203125 72.90625 \nL 47.609375 72.90625 \nL 47.609375 25.390625 \nL 58.015625 25.390625 \nL 58.015625 17.1875 \nL 47.609375 17.1875 \nL 47.609375 0 \nL 37.796875 0 \nL 37.796875 17.1875 \nL 4.890625 17.1875 \nL 4.890625 26.703125 \nz\n\" id=\"DejaVuSans-52\"/>\n      </defs>\n      <g transform=\"translate(92.021875 157.698438)scale(0.1 -0.1)\">\n       <use xlink:href=\"#DejaVuSans-52\"/>\n      </g>\n     </g>\n    </g>\n    <g id=\"xtick_3\">\n     <g id=\"line2d_5\">\n      <path clip-path=\"url(#p2e47ffc9c0)\" d=\"M 138.603125 143.1 \nL 138.603125 7.2 \n\" style=\"fill:none;stroke:#b0b0b0;stroke-linecap:square;stroke-width:0.8;\"/>\n     </g>\n     <g id=\"line2d_6\">\n      <g>\n       <use style=\"stroke:#000000;stroke-width:0.8;\" x=\"138.603125\" xlink:href=\"#mf424fd8c0f\" y=\"143.1\"/>\n      </g>\n     </g>\n     <g id=\"text_3\">\n      <!-- 6 -->\n      <defs>\n       <path d=\"M 33.015625 40.375 \nQ 26.375 40.375 22.484375 35.828125 \nQ 18.609375 31.296875 18.609375 23.390625 \nQ 18.609375 15.53125 22.484375 10.953125 \nQ 26.375 6.390625 33.015625 6.390625 \nQ 39.65625 6.390625 43.53125 10.953125 \nQ 47.40625 15.53125 47.40625 23.390625 \nQ 47.40625 31.296875 43.53125 35.828125 \nQ 39.65625 40.375 33.015625 40.375 \nz\nM 52.59375 71.296875 \nL 52.59375 62.3125 \nQ 48.875 64.0625 45.09375 64.984375 \nQ 41.3125 65.921875 37.59375 65.921875 \nQ 27.828125 65.921875 22.671875 59.328125 \nQ 17.53125 52.734375 16.796875 39.40625 \nQ 19.671875 43.65625 24.015625 45.921875 \nQ 28.375 48.1875 33.59375 48.1875 \nQ 44.578125 48.1875 50.953125 41.515625 \nQ 57.328125 34.859375 57.328125 23.390625 \nQ 57.328125 12.15625 50.6875 5.359375 \nQ 44.046875 -1.421875 33.015625 -1.421875 \nQ 20.359375 -1.421875 13.671875 8.265625 \nQ 6.984375 17.96875 6.984375 36.375 \nQ 6.984375 53.65625 15.1875 63.9375 \nQ 23.390625 74.21875 37.203125 74.21875 \nQ 40.921875 74.21875 44.703125 73.484375 \nQ 48.484375 72.75 52.59375 71.296875 \nz\n\" id=\"DejaVuSans-54\"/>\n      </defs>\n      <g transform=\"translate(135.421875 157.698438)scale(0.1 -0.1)\">\n       <use xlink:href=\"#DejaVuSans-54\"/>\n      </g>\n     </g>\n    </g>\n    <g id=\"xtick_4\">\n     <g id=\"line2d_7\">\n      <path clip-path=\"url(#p2e47ffc9c0)\" d=\"M 182.003125 143.1 \nL 182.003125 7.2 \n\" style=\"fill:none;stroke:#b0b0b0;stroke-linecap:square;stroke-width:0.8;\"/>\n     </g>\n     <g id=\"line2d_8\">\n      <g>\n       <use style=\"stroke:#000000;stroke-width:0.8;\" x=\"182.003125\" xlink:href=\"#mf424fd8c0f\" y=\"143.1\"/>\n      </g>\n     </g>\n     <g id=\"text_4\">\n      <!-- 8 -->\n      <defs>\n       <path d=\"M 31.78125 34.625 \nQ 24.75 34.625 20.71875 30.859375 \nQ 16.703125 27.09375 16.703125 20.515625 \nQ 16.703125 13.921875 20.71875 10.15625 \nQ 24.75 6.390625 31.78125 6.390625 \nQ 38.8125 6.390625 42.859375 10.171875 \nQ 46.921875 13.96875 46.921875 20.515625 \nQ 46.921875 27.09375 42.890625 30.859375 \nQ 38.875 34.625 31.78125 34.625 \nz\nM 21.921875 38.8125 \nQ 15.578125 40.375 12.03125 44.71875 \nQ 8.5 49.078125 8.5 55.328125 \nQ 8.5 64.0625 14.71875 69.140625 \nQ 20.953125 74.21875 31.78125 74.21875 \nQ 42.671875 74.21875 48.875 69.140625 \nQ 55.078125 64.0625 55.078125 55.328125 \nQ 55.078125 49.078125 51.53125 44.71875 \nQ 48 40.375 41.703125 38.8125 \nQ 48.828125 37.15625 52.796875 32.3125 \nQ 56.78125 27.484375 56.78125 20.515625 \nQ 56.78125 9.90625 50.3125 4.234375 \nQ 43.84375 -1.421875 31.78125 -1.421875 \nQ 19.734375 -1.421875 13.25 4.234375 \nQ 6.78125 9.90625 6.78125 20.515625 \nQ 6.78125 27.484375 10.78125 32.3125 \nQ 14.796875 37.15625 21.921875 38.8125 \nz\nM 18.3125 54.390625 \nQ 18.3125 48.734375 21.84375 45.5625 \nQ 25.390625 42.390625 31.78125 42.390625 \nQ 38.140625 42.390625 41.71875 45.5625 \nQ 45.3125 48.734375 45.3125 54.390625 \nQ 45.3125 60.0625 41.71875 63.234375 \nQ 38.140625 66.40625 31.78125 66.40625 \nQ 25.390625 66.40625 21.84375 63.234375 \nQ 18.3125 60.0625 18.3125 54.390625 \nz\n\" id=\"DejaVuSans-56\"/>\n      </defs>\n      <g transform=\"translate(178.821875 157.698438)scale(0.1 -0.1)\">\n       <use xlink:href=\"#DejaVuSans-56\"/>\n      </g>\n     </g>\n    </g>\n    <g id=\"xtick_5\">\n     <g id=\"line2d_9\">\n      <path clip-path=\"url(#p2e47ffc9c0)\" d=\"M 225.403125 143.1 \nL 225.403125 7.2 \n\" style=\"fill:none;stroke:#b0b0b0;stroke-linecap:square;stroke-width:0.8;\"/>\n     </g>\n     <g id=\"line2d_10\">\n      <g>\n       <use style=\"stroke:#000000;stroke-width:0.8;\" x=\"225.403125\" xlink:href=\"#mf424fd8c0f\" y=\"143.1\"/>\n      </g>\n     </g>\n     <g id=\"text_5\">\n      <!-- 10 -->\n      <defs>\n       <path d=\"M 12.40625 8.296875 \nL 28.515625 8.296875 \nL 28.515625 63.921875 \nL 10.984375 60.40625 \nL 10.984375 69.390625 \nL 28.421875 72.90625 \nL 38.28125 72.90625 \nL 38.28125 8.296875 \nL 54.390625 8.296875 \nL 54.390625 0 \nL 12.40625 0 \nz\n\" id=\"DejaVuSans-49\"/>\n       <path d=\"M 31.78125 66.40625 \nQ 24.171875 66.40625 20.328125 58.90625 \nQ 16.5 51.421875 16.5 36.375 \nQ 16.5 21.390625 20.328125 13.890625 \nQ 24.171875 6.390625 31.78125 6.390625 \nQ 39.453125 6.390625 43.28125 13.890625 \nQ 47.125 21.390625 47.125 36.375 \nQ 47.125 51.421875 43.28125 58.90625 \nQ 39.453125 66.40625 31.78125 66.40625 \nz\nM 31.78125 74.21875 \nQ 44.046875 74.21875 50.515625 64.515625 \nQ 56.984375 54.828125 56.984375 36.375 \nQ 56.984375 17.96875 50.515625 8.265625 \nQ 44.046875 -1.421875 31.78125 -1.421875 \nQ 19.53125 -1.421875 13.0625 8.265625 \nQ 6.59375 17.96875 6.59375 36.375 \nQ 6.59375 54.828125 13.0625 64.515625 \nQ 19.53125 74.21875 31.78125 74.21875 \nz\n\" id=\"DejaVuSans-48\"/>\n      </defs>\n      <g transform=\"translate(219.040625 157.698438)scale(0.1 -0.1)\">\n       <use xlink:href=\"#DejaVuSans-49\"/>\n       <use x=\"63.623047\" xlink:href=\"#DejaVuSans-48\"/>\n      </g>\n     </g>\n    </g>\n    <g id=\"text_6\">\n     <!-- epoch -->\n     <defs>\n      <path d=\"M 56.203125 29.59375 \nL 56.203125 25.203125 \nL 14.890625 25.203125 \nQ 15.484375 15.921875 20.484375 11.0625 \nQ 25.484375 6.203125 34.421875 6.203125 \nQ 39.59375 6.203125 44.453125 7.46875 \nQ 49.3125 8.734375 54.109375 11.28125 \nL 54.109375 2.78125 \nQ 49.265625 0.734375 44.1875 -0.34375 \nQ 39.109375 -1.421875 33.890625 -1.421875 \nQ 20.796875 -1.421875 13.15625 6.1875 \nQ 5.515625 13.8125 5.515625 26.8125 \nQ 5.515625 40.234375 12.765625 48.109375 \nQ 20.015625 56 32.328125 56 \nQ 43.359375 56 49.78125 48.890625 \nQ 56.203125 41.796875 56.203125 29.59375 \nz\nM 47.21875 32.234375 \nQ 47.125 39.59375 43.09375 43.984375 \nQ 39.0625 48.390625 32.421875 48.390625 \nQ 24.90625 48.390625 20.390625 44.140625 \nQ 15.875 39.890625 15.1875 32.171875 \nz\n\" id=\"DejaVuSans-101\"/>\n      <path d=\"M 18.109375 8.203125 \nL 18.109375 -20.796875 \nL 9.078125 -20.796875 \nL 9.078125 54.6875 \nL 18.109375 54.6875 \nL 18.109375 46.390625 \nQ 20.953125 51.265625 25.265625 53.625 \nQ 29.59375 56 35.59375 56 \nQ 45.5625 56 51.78125 48.09375 \nQ 58.015625 40.1875 58.015625 27.296875 \nQ 58.015625 14.40625 51.78125 6.484375 \nQ 45.5625 -1.421875 35.59375 -1.421875 \nQ 29.59375 -1.421875 25.265625 0.953125 \nQ 20.953125 3.328125 18.109375 8.203125 \nz\nM 48.6875 27.296875 \nQ 48.6875 37.203125 44.609375 42.84375 \nQ 40.53125 48.484375 33.40625 48.484375 \nQ 26.265625 48.484375 22.1875 42.84375 \nQ 18.109375 37.203125 18.109375 27.296875 \nQ 18.109375 17.390625 22.1875 11.75 \nQ 26.265625 6.109375 33.40625 6.109375 \nQ 40.53125 6.109375 44.609375 11.75 \nQ 48.6875 17.390625 48.6875 27.296875 \nz\n\" id=\"DejaVuSans-112\"/>\n      <path d=\"M 30.609375 48.390625 \nQ 23.390625 48.390625 19.1875 42.75 \nQ 14.984375 37.109375 14.984375 27.296875 \nQ 14.984375 17.484375 19.15625 11.84375 \nQ 23.34375 6.203125 30.609375 6.203125 \nQ 37.796875 6.203125 41.984375 11.859375 \nQ 46.1875 17.53125 46.1875 27.296875 \nQ 46.1875 37.015625 41.984375 42.703125 \nQ 37.796875 48.390625 30.609375 48.390625 \nz\nM 30.609375 56 \nQ 42.328125 56 49.015625 48.375 \nQ 55.71875 40.765625 55.71875 27.296875 \nQ 55.71875 13.875 49.015625 6.21875 \nQ 42.328125 -1.421875 30.609375 -1.421875 \nQ 18.84375 -1.421875 12.171875 6.21875 \nQ 5.515625 13.875 5.515625 27.296875 \nQ 5.515625 40.765625 12.171875 48.375 \nQ 18.84375 56 30.609375 56 \nz\n\" id=\"DejaVuSans-111\"/>\n      <path d=\"M 48.78125 52.59375 \nL 48.78125 44.1875 \nQ 44.96875 46.296875 41.140625 47.34375 \nQ 37.3125 48.390625 33.40625 48.390625 \nQ 24.65625 48.390625 19.8125 42.84375 \nQ 14.984375 37.3125 14.984375 27.296875 \nQ 14.984375 17.28125 19.8125 11.734375 \nQ 24.65625 6.203125 33.40625 6.203125 \nQ 37.3125 6.203125 41.140625 7.25 \nQ 44.96875 8.296875 48.78125 10.40625 \nL 48.78125 2.09375 \nQ 45.015625 0.34375 40.984375 -0.53125 \nQ 36.96875 -1.421875 32.421875 -1.421875 \nQ 20.0625 -1.421875 12.78125 6.34375 \nQ 5.515625 14.109375 5.515625 27.296875 \nQ 5.515625 40.671875 12.859375 48.328125 \nQ 20.21875 56 33.015625 56 \nQ 37.15625 56 41.109375 55.140625 \nQ 45.0625 54.296875 48.78125 52.59375 \nz\n\" id=\"DejaVuSans-99\"/>\n      <path d=\"M 54.890625 33.015625 \nL 54.890625 0 \nL 45.90625 0 \nL 45.90625 32.71875 \nQ 45.90625 40.484375 42.875 44.328125 \nQ 39.84375 48.1875 33.796875 48.1875 \nQ 26.515625 48.1875 22.3125 43.546875 \nQ 18.109375 38.921875 18.109375 30.90625 \nL 18.109375 0 \nL 9.078125 0 \nL 9.078125 75.984375 \nL 18.109375 75.984375 \nL 18.109375 46.1875 \nQ 21.34375 51.125 25.703125 53.5625 \nQ 30.078125 56 35.796875 56 \nQ 45.21875 56 50.046875 50.171875 \nQ 54.890625 44.34375 54.890625 33.015625 \nz\n\" id=\"DejaVuSans-104\"/>\n     </defs>\n     <g transform=\"translate(112.525 171.376563)scale(0.1 -0.1)\">\n      <use xlink:href=\"#DejaVuSans-101\"/>\n      <use x=\"61.523438\" xlink:href=\"#DejaVuSans-112\"/>\n      <use x=\"125\" xlink:href=\"#DejaVuSans-111\"/>\n      <use x=\"186.181641\" xlink:href=\"#DejaVuSans-99\"/>\n      <use x=\"241.162109\" xlink:href=\"#DejaVuSans-104\"/>\n     </g>\n    </g>\n   </g>\n   <g id=\"matplotlib.axis_2\">\n    <g id=\"ytick_1\">\n     <g id=\"line2d_11\">\n      <path clip-path=\"url(#p2e47ffc9c0)\" d=\"M 30.103125 120.45 \nL 225.403125 120.45 \n\" style=\"fill:none;stroke:#b0b0b0;stroke-linecap:square;stroke-width:0.8;\"/>\n     </g>\n     <g id=\"line2d_12\">\n      <defs>\n       <path d=\"M 0 0 \nL -3.5 0 \n\" id=\"m629e3d8c05\" style=\"stroke:#000000;stroke-width:0.8;\"/>\n      </defs>\n      <g>\n       <use style=\"stroke:#000000;stroke-width:0.8;\" x=\"30.103125\" xlink:href=\"#m629e3d8c05\" y=\"120.45\"/>\n      </g>\n     </g>\n     <g id=\"text_7\">\n      <!-- 0.4 -->\n      <defs>\n       <path d=\"M 10.6875 12.40625 \nL 21 12.40625 \nL 21 0 \nL 10.6875 0 \nz\n\" id=\"DejaVuSans-46\"/>\n      </defs>\n      <g transform=\"translate(7.2 124.249219)scale(0.1 -0.1)\">\n       <use xlink:href=\"#DejaVuSans-48\"/>\n       <use x=\"63.623047\" xlink:href=\"#DejaVuSans-46\"/>\n       <use x=\"95.410156\" xlink:href=\"#DejaVuSans-52\"/>\n      </g>\n     </g>\n    </g>\n    <g id=\"ytick_2\">\n     <g id=\"line2d_13\">\n      <path clip-path=\"url(#p2e47ffc9c0)\" d=\"M 30.103125 75.15 \nL 225.403125 75.15 \n\" style=\"fill:none;stroke:#b0b0b0;stroke-linecap:square;stroke-width:0.8;\"/>\n     </g>\n     <g id=\"line2d_14\">\n      <g>\n       <use style=\"stroke:#000000;stroke-width:0.8;\" x=\"30.103125\" xlink:href=\"#m629e3d8c05\" y=\"75.15\"/>\n      </g>\n     </g>\n     <g id=\"text_8\">\n      <!-- 0.6 -->\n      <g transform=\"translate(7.2 78.949219)scale(0.1 -0.1)\">\n       <use xlink:href=\"#DejaVuSans-48\"/>\n       <use x=\"63.623047\" xlink:href=\"#DejaVuSans-46\"/>\n       <use x=\"95.410156\" xlink:href=\"#DejaVuSans-54\"/>\n      </g>\n     </g>\n    </g>\n    <g id=\"ytick_3\">\n     <g id=\"line2d_15\">\n      <path clip-path=\"url(#p2e47ffc9c0)\" d=\"M 30.103125 29.85 \nL 225.403125 29.85 \n\" style=\"fill:none;stroke:#b0b0b0;stroke-linecap:square;stroke-width:0.8;\"/>\n     </g>\n     <g id=\"line2d_16\">\n      <g>\n       <use style=\"stroke:#000000;stroke-width:0.8;\" x=\"30.103125\" xlink:href=\"#m629e3d8c05\" y=\"29.85\"/>\n      </g>\n     </g>\n     <g id=\"text_9\">\n      <!-- 0.8 -->\n      <g transform=\"translate(7.2 33.649219)scale(0.1 -0.1)\">\n       <use xlink:href=\"#DejaVuSans-48\"/>\n       <use x=\"63.623047\" xlink:href=\"#DejaVuSans-46\"/>\n       <use x=\"95.410156\" xlink:href=\"#DejaVuSans-56\"/>\n      </g>\n     </g>\n    </g>\n   </g>\n   <g id=\"line2d_17\">\n    <path clip-path=\"url(#p2e47ffc9c0)\" d=\"M 30.103125 49.84635 \nL 51.803125 113.873456 \nL 73.503125 124.158318 \nL 95.203125 129.402114 \nL 116.903125 132.707652 \nL 138.603125 135.059438 \nL 160.303125 136.87727 \nL 182.003125 138.315551 \nL 203.703125 139.467764 \nL 225.403125 140.472745 \n\" style=\"fill:none;stroke:#1f77b4;stroke-linecap:square;stroke-width:1.5;\"/>\n   </g>\n   <g id=\"line2d_18\">\n    <path clip-path=\"url(#p2e47ffc9c0)\" d=\"M 30.103125 20.45025 \nL 51.803125 10.261525 \nL 73.503125 8.072025 \nL 95.203125 6.939525 \nL 116.903125 6.290225 \nL 138.603125 5.65225 \nL 160.303125 5.13885 \nL 182.003125 4.787775 \nL 203.703125 4.463125 \nL 225.403125 4.1196 \n\" style=\"fill:none;stroke:#bf00bf;stroke-dasharray:5.55,2.4;stroke-dashoffset:0;stroke-width:1.5;\"/>\n   </g>\n   <g id=\"line2d_19\">\n    <path clip-path=\"url(#p2e47ffc9c0)\" d=\"M 30.103125 10.39365 \nL 51.803125 7.31325 \nL 73.503125 6.13545 \nL 95.203125 5.4333 \nL 116.903125 4.7538 \nL 138.603125 4.36875 \nL 160.303125 3.68925 \nL 182.003125 3.3042 \nL 203.703125 3.19095 \nL 225.403125 3.55335 \n\" style=\"fill:none;stroke:#008000;stroke-dasharray:9.6,2.4,1.5,2.4;stroke-dashoffset:0;stroke-width:1.5;\"/>\n   </g>\n   <g id=\"patch_3\">\n    <path d=\"M 30.103125 143.1 \nL 30.103125 7.2 \n\" style=\"fill:none;stroke:#000000;stroke-linecap:square;stroke-linejoin:miter;stroke-width:0.8;\"/>\n   </g>\n   <g id=\"patch_4\">\n    <path d=\"M 225.403125 143.1 \nL 225.403125 7.2 \n\" style=\"fill:none;stroke:#000000;stroke-linecap:square;stroke-linejoin:miter;stroke-width:0.8;\"/>\n   </g>\n   <g id=\"patch_5\">\n    <path d=\"M 30.103125 143.1 \nL 225.403125 143.1 \n\" style=\"fill:none;stroke:#000000;stroke-linecap:square;stroke-linejoin:miter;stroke-width:0.8;\"/>\n   </g>\n   <g id=\"patch_6\">\n    <path d=\"M 30.103125 7.2 \nL 225.403125 7.2 \n\" style=\"fill:none;stroke:#000000;stroke-linecap:square;stroke-linejoin:miter;stroke-width:0.8;\"/>\n   </g>\n   <g id=\"legend_1\">\n    <g id=\"patch_7\">\n     <path d=\"M 140.634375 59.234375 \nL 218.403125 59.234375 \nQ 220.403125 59.234375 220.403125 57.234375 \nL 220.403125 14.2 \nQ 220.403125 12.2 218.403125 12.2 \nL 140.634375 12.2 \nQ 138.634375 12.2 138.634375 14.2 \nL 138.634375 57.234375 \nQ 138.634375 59.234375 140.634375 59.234375 \nz\n\" style=\"fill:#ffffff;opacity:0.8;stroke:#cccccc;stroke-linejoin:miter;\"/>\n    </g>\n    <g id=\"line2d_20\">\n     <path d=\"M 142.634375 20.298438 \nL 162.634375 20.298438 \n\" style=\"fill:none;stroke:#1f77b4;stroke-linecap:square;stroke-width:1.5;\"/>\n    </g>\n    <g id=\"line2d_21\"/>\n    <g id=\"text_10\">\n     <!-- train loss -->\n     <defs>\n      <path d=\"M 18.3125 70.21875 \nL 18.3125 54.6875 \nL 36.8125 54.6875 \nL 36.8125 47.703125 \nL 18.3125 47.703125 \nL 18.3125 18.015625 \nQ 18.3125 11.328125 20.140625 9.421875 \nQ 21.96875 7.515625 27.59375 7.515625 \nL 36.8125 7.515625 \nL 36.8125 0 \nL 27.59375 0 \nQ 17.1875 0 13.234375 3.875 \nQ 9.28125 7.765625 9.28125 18.015625 \nL 9.28125 47.703125 \nL 2.6875 47.703125 \nL 2.6875 54.6875 \nL 9.28125 54.6875 \nL 9.28125 70.21875 \nz\n\" id=\"DejaVuSans-116\"/>\n      <path d=\"M 41.109375 46.296875 \nQ 39.59375 47.171875 37.8125 47.578125 \nQ 36.03125 48 33.890625 48 \nQ 26.265625 48 22.1875 43.046875 \nQ 18.109375 38.09375 18.109375 28.8125 \nL 18.109375 0 \nL 9.078125 0 \nL 9.078125 54.6875 \nL 18.109375 54.6875 \nL 18.109375 46.1875 \nQ 20.953125 51.171875 25.484375 53.578125 \nQ 30.03125 56 36.53125 56 \nQ 37.453125 56 38.578125 55.875 \nQ 39.703125 55.765625 41.0625 55.515625 \nz\n\" id=\"DejaVuSans-114\"/>\n      <path d=\"M 34.28125 27.484375 \nQ 23.390625 27.484375 19.1875 25 \nQ 14.984375 22.515625 14.984375 16.5 \nQ 14.984375 11.71875 18.140625 8.90625 \nQ 21.296875 6.109375 26.703125 6.109375 \nQ 34.1875 6.109375 38.703125 11.40625 \nQ 43.21875 16.703125 43.21875 25.484375 \nL 43.21875 27.484375 \nz\nM 52.203125 31.203125 \nL 52.203125 0 \nL 43.21875 0 \nL 43.21875 8.296875 \nQ 40.140625 3.328125 35.546875 0.953125 \nQ 30.953125 -1.421875 24.3125 -1.421875 \nQ 15.921875 -1.421875 10.953125 3.296875 \nQ 6 8.015625 6 15.921875 \nQ 6 25.140625 12.171875 29.828125 \nQ 18.359375 34.515625 30.609375 34.515625 \nL 43.21875 34.515625 \nL 43.21875 35.40625 \nQ 43.21875 41.609375 39.140625 45 \nQ 35.0625 48.390625 27.6875 48.390625 \nQ 23 48.390625 18.546875 47.265625 \nQ 14.109375 46.140625 10.015625 43.890625 \nL 10.015625 52.203125 \nQ 14.9375 54.109375 19.578125 55.046875 \nQ 24.21875 56 28.609375 56 \nQ 40.484375 56 46.34375 49.84375 \nQ 52.203125 43.703125 52.203125 31.203125 \nz\n\" id=\"DejaVuSans-97\"/>\n      <path d=\"M 9.421875 54.6875 \nL 18.40625 54.6875 \nL 18.40625 0 \nL 9.421875 0 \nz\nM 9.421875 75.984375 \nL 18.40625 75.984375 \nL 18.40625 64.59375 \nL 9.421875 64.59375 \nz\n\" id=\"DejaVuSans-105\"/>\n      <path d=\"M 54.890625 33.015625 \nL 54.890625 0 \nL 45.90625 0 \nL 45.90625 32.71875 \nQ 45.90625 40.484375 42.875 44.328125 \nQ 39.84375 48.1875 33.796875 48.1875 \nQ 26.515625 48.1875 22.3125 43.546875 \nQ 18.109375 38.921875 18.109375 30.90625 \nL 18.109375 0 \nL 9.078125 0 \nL 9.078125 54.6875 \nL 18.109375 54.6875 \nL 18.109375 46.1875 \nQ 21.34375 51.125 25.703125 53.5625 \nQ 30.078125 56 35.796875 56 \nQ 45.21875 56 50.046875 50.171875 \nQ 54.890625 44.34375 54.890625 33.015625 \nz\n\" id=\"DejaVuSans-110\"/>\n      <path id=\"DejaVuSans-32\"/>\n      <path d=\"M 9.421875 75.984375 \nL 18.40625 75.984375 \nL 18.40625 0 \nL 9.421875 0 \nz\n\" id=\"DejaVuSans-108\"/>\n      <path d=\"M 44.28125 53.078125 \nL 44.28125 44.578125 \nQ 40.484375 46.53125 36.375 47.5 \nQ 32.28125 48.484375 27.875 48.484375 \nQ 21.1875 48.484375 17.84375 46.4375 \nQ 14.5 44.390625 14.5 40.28125 \nQ 14.5 37.15625 16.890625 35.375 \nQ 19.28125 33.59375 26.515625 31.984375 \nL 29.59375 31.296875 \nQ 39.15625 29.25 43.1875 25.515625 \nQ 47.21875 21.78125 47.21875 15.09375 \nQ 47.21875 7.46875 41.1875 3.015625 \nQ 35.15625 -1.421875 24.609375 -1.421875 \nQ 20.21875 -1.421875 15.453125 -0.5625 \nQ 10.6875 0.296875 5.421875 2 \nL 5.421875 11.28125 \nQ 10.40625 8.6875 15.234375 7.390625 \nQ 20.0625 6.109375 24.8125 6.109375 \nQ 31.15625 6.109375 34.5625 8.28125 \nQ 37.984375 10.453125 37.984375 14.40625 \nQ 37.984375 18.0625 35.515625 20.015625 \nQ 33.0625 21.96875 24.703125 23.78125 \nL 21.578125 24.515625 \nQ 13.234375 26.265625 9.515625 29.90625 \nQ 5.8125 33.546875 5.8125 39.890625 \nQ 5.8125 47.609375 11.28125 51.796875 \nQ 16.75 56 26.8125 56 \nQ 31.78125 56 36.171875 55.265625 \nQ 40.578125 54.546875 44.28125 53.078125 \nz\n\" id=\"DejaVuSans-115\"/>\n     </defs>\n     <g transform=\"translate(170.634375 23.798438)scale(0.1 -0.1)\">\n      <use xlink:href=\"#DejaVuSans-116\"/>\n      <use x=\"39.208984\" xlink:href=\"#DejaVuSans-114\"/>\n      <use x=\"80.322266\" xlink:href=\"#DejaVuSans-97\"/>\n      <use x=\"141.601562\" xlink:href=\"#DejaVuSans-105\"/>\n      <use x=\"169.384766\" xlink:href=\"#DejaVuSans-110\"/>\n      <use x=\"232.763672\" xlink:href=\"#DejaVuSans-32\"/>\n      <use x=\"264.550781\" xlink:href=\"#DejaVuSans-108\"/>\n      <use x=\"292.333984\" xlink:href=\"#DejaVuSans-111\"/>\n      <use x=\"353.515625\" xlink:href=\"#DejaVuSans-115\"/>\n      <use x=\"405.615234\" xlink:href=\"#DejaVuSans-115\"/>\n     </g>\n    </g>\n    <g id=\"line2d_22\">\n     <path d=\"M 142.634375 34.976562 \nL 162.634375 34.976562 \n\" style=\"fill:none;stroke:#bf00bf;stroke-dasharray:5.55,2.4;stroke-dashoffset:0;stroke-width:1.5;\"/>\n    </g>\n    <g id=\"line2d_23\"/>\n    <g id=\"text_11\">\n     <!-- train acc -->\n     <g transform=\"translate(170.634375 38.476562)scale(0.1 -0.1)\">\n      <use xlink:href=\"#DejaVuSans-116\"/>\n      <use x=\"39.208984\" xlink:href=\"#DejaVuSans-114\"/>\n      <use x=\"80.322266\" xlink:href=\"#DejaVuSans-97\"/>\n      <use x=\"141.601562\" xlink:href=\"#DejaVuSans-105\"/>\n      <use x=\"169.384766\" xlink:href=\"#DejaVuSans-110\"/>\n      <use x=\"232.763672\" xlink:href=\"#DejaVuSans-32\"/>\n      <use x=\"264.550781\" xlink:href=\"#DejaVuSans-97\"/>\n      <use x=\"325.830078\" xlink:href=\"#DejaVuSans-99\"/>\n      <use x=\"380.810547\" xlink:href=\"#DejaVuSans-99\"/>\n     </g>\n    </g>\n    <g id=\"line2d_24\">\n     <path d=\"M 142.634375 49.654688 \nL 162.634375 49.654688 \n\" style=\"fill:none;stroke:#008000;stroke-dasharray:9.6,2.4,1.5,2.4;stroke-dashoffset:0;stroke-width:1.5;\"/>\n    </g>\n    <g id=\"line2d_25\"/>\n    <g id=\"text_12\">\n     <!-- test acc -->\n     <g transform=\"translate(170.634375 53.154688)scale(0.1 -0.1)\">\n      <use xlink:href=\"#DejaVuSans-116\"/>\n      <use x=\"39.208984\" xlink:href=\"#DejaVuSans-101\"/>\n      <use x=\"100.732422\" xlink:href=\"#DejaVuSans-115\"/>\n      <use x=\"152.832031\" xlink:href=\"#DejaVuSans-116\"/>\n      <use x=\"192.041016\" xlink:href=\"#DejaVuSans-32\"/>\n      <use x=\"223.828125\" xlink:href=\"#DejaVuSans-97\"/>\n      <use x=\"285.107422\" xlink:href=\"#DejaVuSans-99\"/>\n      <use x=\"340.087891\" xlink:href=\"#DejaVuSans-99\"/>\n     </g>\n    </g>\n   </g>\n  </g>\n </g>\n <defs>\n  <clipPath id=\"p2e47ffc9c0\">\n   <rect height=\"135.9\" width=\"195.3\" x=\"30.103125\" y=\"7.2\"/>\n  </clipPath>\n </defs>\n</svg>\n"
          },
          "metadata": {
            "needs_background": "light"
          }
        }
      ]
    },
    {
      "cell_type": "markdown",
      "source": [
        "##Torch Function"
      ],
      "metadata": {
        "id": "8WcXbAPbk-Cr"
      }
    },
    {
      "cell_type": "code",
      "source": [
        "from torch import nn"
      ],
      "metadata": {
        "id": "5rGlRSt0k56n"
      },
      "execution_count": null,
      "outputs": []
    },
    {
      "cell_type": "markdown",
      "source": [
        "**Pytorch : nn**\\\n",
        "연산 그래프와 autograd는 복잡한 연산자를 정의하고 도함수(derivative)를 자동으로 계산\n",
        "모듈은 입력 Variable을 받고 출력 Variable을 계산"
      ],
      "metadata": {
        "id": "qjRA9MWrlT7J"
      }
    },
    {
      "cell_type": "code",
      "source": [
        "net = nn.Sequential(nn.Flatten(), nn.Linear(784, 10))\n",
        "def init_weights(m):\n",
        "    if type(m) == nn.Linear:\n",
        "        nn.init.normal_(m.weight, std=0.01)\n",
        "net.apply(init_weights);"
      ],
      "metadata": {
        "id": "s4KubVcblIzd"
      },
      "execution_count": null,
      "outputs": []
    },
    {
      "cell_type": "code",
      "source": [
        "loss = nn.CrossEntropyLoss(reduction='none')"
      ],
      "metadata": {
        "id": "O-ek6a_PlZy7"
      },
      "execution_count": null,
      "outputs": []
    },
    {
      "cell_type": "code",
      "source": [
        "trainer = torch.optim.SGD(net.parameters(), lr=0.1)"
      ],
      "metadata": {
        "id": "2V9c5kRSlbWq"
      },
      "execution_count": null,
      "outputs": []
    },
    {
      "cell_type": "code",
      "source": [
        "num_epochs = 10\n",
        "d2l.train_ch3(net, train_iter, test_iter, loss, num_epochs, trainer)"
      ],
      "metadata": {
        "colab": {
          "base_uri": "https://localhost:8080/",
          "height": 263
        },
        "id": "umrokotOlpvq",
        "outputId": "f1fcf604-5393-4769-dcd6-b03e6f5f4bed"
      },
      "execution_count": null,
      "outputs": [
        {
          "output_type": "display_data",
          "data": {
            "text/plain": [
              "<Figure size 252x180 with 1 Axes>"
            ],
            "image/svg+xml": "<?xml version=\"1.0\" encoding=\"utf-8\" standalone=\"no\"?>\n<!DOCTYPE svg PUBLIC \"-//W3C//DTD SVG 1.1//EN\"\n  \"http://www.w3.org/Graphics/SVG/1.1/DTD/svg11.dtd\">\n<!-- Created with matplotlib (https://matplotlib.org/) -->\n<svg height=\"180.65625pt\" version=\"1.1\" viewBox=\"0 0 238.965625 180.65625\" width=\"238.965625pt\" xmlns=\"http://www.w3.org/2000/svg\" xmlns:xlink=\"http://www.w3.org/1999/xlink\">\n <defs>\n  <style type=\"text/css\">\n*{stroke-linecap:butt;stroke-linejoin:round;}\n  </style>\n </defs>\n <g id=\"figure_1\">\n  <g id=\"patch_1\">\n   <path d=\"M 0 180.65625 \nL 238.965625 180.65625 \nL 238.965625 0 \nL 0 0 \nz\n\" style=\"fill:none;\"/>\n  </g>\n  <g id=\"axes_1\">\n   <g id=\"patch_2\">\n    <path d=\"M 30.103125 143.1 \nL 225.403125 143.1 \nL 225.403125 7.2 \nL 30.103125 7.2 \nz\n\" style=\"fill:#ffffff;\"/>\n   </g>\n   <g id=\"matplotlib.axis_1\">\n    <g id=\"xtick_1\">\n     <g id=\"line2d_1\">\n      <path clip-path=\"url(#p57008a239e)\" d=\"M 51.803125 143.1 \nL 51.803125 7.2 \n\" style=\"fill:none;stroke:#b0b0b0;stroke-linecap:square;stroke-width:0.8;\"/>\n     </g>\n     <g id=\"line2d_2\">\n      <defs>\n       <path d=\"M 0 0 \nL 0 3.5 \n\" id=\"mfc1105e600\" style=\"stroke:#000000;stroke-width:0.8;\"/>\n      </defs>\n      <g>\n       <use style=\"stroke:#000000;stroke-width:0.8;\" x=\"51.803125\" xlink:href=\"#mfc1105e600\" y=\"143.1\"/>\n      </g>\n     </g>\n     <g id=\"text_1\">\n      <!-- 2 -->\n      <defs>\n       <path d=\"M 19.1875 8.296875 \nL 53.609375 8.296875 \nL 53.609375 0 \nL 7.328125 0 \nL 7.328125 8.296875 \nQ 12.9375 14.109375 22.625 23.890625 \nQ 32.328125 33.6875 34.8125 36.53125 \nQ 39.546875 41.84375 41.421875 45.53125 \nQ 43.3125 49.21875 43.3125 52.78125 \nQ 43.3125 58.59375 39.234375 62.25 \nQ 35.15625 65.921875 28.609375 65.921875 \nQ 23.96875 65.921875 18.8125 64.3125 \nQ 13.671875 62.703125 7.8125 59.421875 \nL 7.8125 69.390625 \nQ 13.765625 71.78125 18.9375 73 \nQ 24.125 74.21875 28.421875 74.21875 \nQ 39.75 74.21875 46.484375 68.546875 \nQ 53.21875 62.890625 53.21875 53.421875 \nQ 53.21875 48.921875 51.53125 44.890625 \nQ 49.859375 40.875 45.40625 35.40625 \nQ 44.1875 33.984375 37.640625 27.21875 \nQ 31.109375 20.453125 19.1875 8.296875 \nz\n\" id=\"DejaVuSans-50\"/>\n      </defs>\n      <g transform=\"translate(48.621875 157.698438)scale(0.1 -0.1)\">\n       <use xlink:href=\"#DejaVuSans-50\"/>\n      </g>\n     </g>\n    </g>\n    <g id=\"xtick_2\">\n     <g id=\"line2d_3\">\n      <path clip-path=\"url(#p57008a239e)\" d=\"M 95.203125 143.1 \nL 95.203125 7.2 \n\" style=\"fill:none;stroke:#b0b0b0;stroke-linecap:square;stroke-width:0.8;\"/>\n     </g>\n     <g id=\"line2d_4\">\n      <g>\n       <use style=\"stroke:#000000;stroke-width:0.8;\" x=\"95.203125\" xlink:href=\"#mfc1105e600\" y=\"143.1\"/>\n      </g>\n     </g>\n     <g id=\"text_2\">\n      <!-- 4 -->\n      <defs>\n       <path d=\"M 37.796875 64.3125 \nL 12.890625 25.390625 \nL 37.796875 25.390625 \nz\nM 35.203125 72.90625 \nL 47.609375 72.90625 \nL 47.609375 25.390625 \nL 58.015625 25.390625 \nL 58.015625 17.1875 \nL 47.609375 17.1875 \nL 47.609375 0 \nL 37.796875 0 \nL 37.796875 17.1875 \nL 4.890625 17.1875 \nL 4.890625 26.703125 \nz\n\" id=\"DejaVuSans-52\"/>\n      </defs>\n      <g transform=\"translate(92.021875 157.698438)scale(0.1 -0.1)\">\n       <use xlink:href=\"#DejaVuSans-52\"/>\n      </g>\n     </g>\n    </g>\n    <g id=\"xtick_3\">\n     <g id=\"line2d_5\">\n      <path clip-path=\"url(#p57008a239e)\" d=\"M 138.603125 143.1 \nL 138.603125 7.2 \n\" style=\"fill:none;stroke:#b0b0b0;stroke-linecap:square;stroke-width:0.8;\"/>\n     </g>\n     <g id=\"line2d_6\">\n      <g>\n       <use style=\"stroke:#000000;stroke-width:0.8;\" x=\"138.603125\" xlink:href=\"#mfc1105e600\" y=\"143.1\"/>\n      </g>\n     </g>\n     <g id=\"text_3\">\n      <!-- 6 -->\n      <defs>\n       <path d=\"M 33.015625 40.375 \nQ 26.375 40.375 22.484375 35.828125 \nQ 18.609375 31.296875 18.609375 23.390625 \nQ 18.609375 15.53125 22.484375 10.953125 \nQ 26.375 6.390625 33.015625 6.390625 \nQ 39.65625 6.390625 43.53125 10.953125 \nQ 47.40625 15.53125 47.40625 23.390625 \nQ 47.40625 31.296875 43.53125 35.828125 \nQ 39.65625 40.375 33.015625 40.375 \nz\nM 52.59375 71.296875 \nL 52.59375 62.3125 \nQ 48.875 64.0625 45.09375 64.984375 \nQ 41.3125 65.921875 37.59375 65.921875 \nQ 27.828125 65.921875 22.671875 59.328125 \nQ 17.53125 52.734375 16.796875 39.40625 \nQ 19.671875 43.65625 24.015625 45.921875 \nQ 28.375 48.1875 33.59375 48.1875 \nQ 44.578125 48.1875 50.953125 41.515625 \nQ 57.328125 34.859375 57.328125 23.390625 \nQ 57.328125 12.15625 50.6875 5.359375 \nQ 44.046875 -1.421875 33.015625 -1.421875 \nQ 20.359375 -1.421875 13.671875 8.265625 \nQ 6.984375 17.96875 6.984375 36.375 \nQ 6.984375 53.65625 15.1875 63.9375 \nQ 23.390625 74.21875 37.203125 74.21875 \nQ 40.921875 74.21875 44.703125 73.484375 \nQ 48.484375 72.75 52.59375 71.296875 \nz\n\" id=\"DejaVuSans-54\"/>\n      </defs>\n      <g transform=\"translate(135.421875 157.698438)scale(0.1 -0.1)\">\n       <use xlink:href=\"#DejaVuSans-54\"/>\n      </g>\n     </g>\n    </g>\n    <g id=\"xtick_4\">\n     <g id=\"line2d_7\">\n      <path clip-path=\"url(#p57008a239e)\" d=\"M 182.003125 143.1 \nL 182.003125 7.2 \n\" style=\"fill:none;stroke:#b0b0b0;stroke-linecap:square;stroke-width:0.8;\"/>\n     </g>\n     <g id=\"line2d_8\">\n      <g>\n       <use style=\"stroke:#000000;stroke-width:0.8;\" x=\"182.003125\" xlink:href=\"#mfc1105e600\" y=\"143.1\"/>\n      </g>\n     </g>\n     <g id=\"text_4\">\n      <!-- 8 -->\n      <defs>\n       <path d=\"M 31.78125 34.625 \nQ 24.75 34.625 20.71875 30.859375 \nQ 16.703125 27.09375 16.703125 20.515625 \nQ 16.703125 13.921875 20.71875 10.15625 \nQ 24.75 6.390625 31.78125 6.390625 \nQ 38.8125 6.390625 42.859375 10.171875 \nQ 46.921875 13.96875 46.921875 20.515625 \nQ 46.921875 27.09375 42.890625 30.859375 \nQ 38.875 34.625 31.78125 34.625 \nz\nM 21.921875 38.8125 \nQ 15.578125 40.375 12.03125 44.71875 \nQ 8.5 49.078125 8.5 55.328125 \nQ 8.5 64.0625 14.71875 69.140625 \nQ 20.953125 74.21875 31.78125 74.21875 \nQ 42.671875 74.21875 48.875 69.140625 \nQ 55.078125 64.0625 55.078125 55.328125 \nQ 55.078125 49.078125 51.53125 44.71875 \nQ 48 40.375 41.703125 38.8125 \nQ 48.828125 37.15625 52.796875 32.3125 \nQ 56.78125 27.484375 56.78125 20.515625 \nQ 56.78125 9.90625 50.3125 4.234375 \nQ 43.84375 -1.421875 31.78125 -1.421875 \nQ 19.734375 -1.421875 13.25 4.234375 \nQ 6.78125 9.90625 6.78125 20.515625 \nQ 6.78125 27.484375 10.78125 32.3125 \nQ 14.796875 37.15625 21.921875 38.8125 \nz\nM 18.3125 54.390625 \nQ 18.3125 48.734375 21.84375 45.5625 \nQ 25.390625 42.390625 31.78125 42.390625 \nQ 38.140625 42.390625 41.71875 45.5625 \nQ 45.3125 48.734375 45.3125 54.390625 \nQ 45.3125 60.0625 41.71875 63.234375 \nQ 38.140625 66.40625 31.78125 66.40625 \nQ 25.390625 66.40625 21.84375 63.234375 \nQ 18.3125 60.0625 18.3125 54.390625 \nz\n\" id=\"DejaVuSans-56\"/>\n      </defs>\n      <g transform=\"translate(178.821875 157.698438)scale(0.1 -0.1)\">\n       <use xlink:href=\"#DejaVuSans-56\"/>\n      </g>\n     </g>\n    </g>\n    <g id=\"xtick_5\">\n     <g id=\"line2d_9\">\n      <path clip-path=\"url(#p57008a239e)\" d=\"M 225.403125 143.1 \nL 225.403125 7.2 \n\" style=\"fill:none;stroke:#b0b0b0;stroke-linecap:square;stroke-width:0.8;\"/>\n     </g>\n     <g id=\"line2d_10\">\n      <g>\n       <use style=\"stroke:#000000;stroke-width:0.8;\" x=\"225.403125\" xlink:href=\"#mfc1105e600\" y=\"143.1\"/>\n      </g>\n     </g>\n     <g id=\"text_5\">\n      <!-- 10 -->\n      <defs>\n       <path d=\"M 12.40625 8.296875 \nL 28.515625 8.296875 \nL 28.515625 63.921875 \nL 10.984375 60.40625 \nL 10.984375 69.390625 \nL 28.421875 72.90625 \nL 38.28125 72.90625 \nL 38.28125 8.296875 \nL 54.390625 8.296875 \nL 54.390625 0 \nL 12.40625 0 \nz\n\" id=\"DejaVuSans-49\"/>\n       <path d=\"M 31.78125 66.40625 \nQ 24.171875 66.40625 20.328125 58.90625 \nQ 16.5 51.421875 16.5 36.375 \nQ 16.5 21.390625 20.328125 13.890625 \nQ 24.171875 6.390625 31.78125 6.390625 \nQ 39.453125 6.390625 43.28125 13.890625 \nQ 47.125 21.390625 47.125 36.375 \nQ 47.125 51.421875 43.28125 58.90625 \nQ 39.453125 66.40625 31.78125 66.40625 \nz\nM 31.78125 74.21875 \nQ 44.046875 74.21875 50.515625 64.515625 \nQ 56.984375 54.828125 56.984375 36.375 \nQ 56.984375 17.96875 50.515625 8.265625 \nQ 44.046875 -1.421875 31.78125 -1.421875 \nQ 19.53125 -1.421875 13.0625 8.265625 \nQ 6.59375 17.96875 6.59375 36.375 \nQ 6.59375 54.828125 13.0625 64.515625 \nQ 19.53125 74.21875 31.78125 74.21875 \nz\n\" id=\"DejaVuSans-48\"/>\n      </defs>\n      <g transform=\"translate(219.040625 157.698438)scale(0.1 -0.1)\">\n       <use xlink:href=\"#DejaVuSans-49\"/>\n       <use x=\"63.623047\" xlink:href=\"#DejaVuSans-48\"/>\n      </g>\n     </g>\n    </g>\n    <g id=\"text_6\">\n     <!-- epoch -->\n     <defs>\n      <path d=\"M 56.203125 29.59375 \nL 56.203125 25.203125 \nL 14.890625 25.203125 \nQ 15.484375 15.921875 20.484375 11.0625 \nQ 25.484375 6.203125 34.421875 6.203125 \nQ 39.59375 6.203125 44.453125 7.46875 \nQ 49.3125 8.734375 54.109375 11.28125 \nL 54.109375 2.78125 \nQ 49.265625 0.734375 44.1875 -0.34375 \nQ 39.109375 -1.421875 33.890625 -1.421875 \nQ 20.796875 -1.421875 13.15625 6.1875 \nQ 5.515625 13.8125 5.515625 26.8125 \nQ 5.515625 40.234375 12.765625 48.109375 \nQ 20.015625 56 32.328125 56 \nQ 43.359375 56 49.78125 48.890625 \nQ 56.203125 41.796875 56.203125 29.59375 \nz\nM 47.21875 32.234375 \nQ 47.125 39.59375 43.09375 43.984375 \nQ 39.0625 48.390625 32.421875 48.390625 \nQ 24.90625 48.390625 20.390625 44.140625 \nQ 15.875 39.890625 15.1875 32.171875 \nz\n\" id=\"DejaVuSans-101\"/>\n      <path d=\"M 18.109375 8.203125 \nL 18.109375 -20.796875 \nL 9.078125 -20.796875 \nL 9.078125 54.6875 \nL 18.109375 54.6875 \nL 18.109375 46.390625 \nQ 20.953125 51.265625 25.265625 53.625 \nQ 29.59375 56 35.59375 56 \nQ 45.5625 56 51.78125 48.09375 \nQ 58.015625 40.1875 58.015625 27.296875 \nQ 58.015625 14.40625 51.78125 6.484375 \nQ 45.5625 -1.421875 35.59375 -1.421875 \nQ 29.59375 -1.421875 25.265625 0.953125 \nQ 20.953125 3.328125 18.109375 8.203125 \nz\nM 48.6875 27.296875 \nQ 48.6875 37.203125 44.609375 42.84375 \nQ 40.53125 48.484375 33.40625 48.484375 \nQ 26.265625 48.484375 22.1875 42.84375 \nQ 18.109375 37.203125 18.109375 27.296875 \nQ 18.109375 17.390625 22.1875 11.75 \nQ 26.265625 6.109375 33.40625 6.109375 \nQ 40.53125 6.109375 44.609375 11.75 \nQ 48.6875 17.390625 48.6875 27.296875 \nz\n\" id=\"DejaVuSans-112\"/>\n      <path d=\"M 30.609375 48.390625 \nQ 23.390625 48.390625 19.1875 42.75 \nQ 14.984375 37.109375 14.984375 27.296875 \nQ 14.984375 17.484375 19.15625 11.84375 \nQ 23.34375 6.203125 30.609375 6.203125 \nQ 37.796875 6.203125 41.984375 11.859375 \nQ 46.1875 17.53125 46.1875 27.296875 \nQ 46.1875 37.015625 41.984375 42.703125 \nQ 37.796875 48.390625 30.609375 48.390625 \nz\nM 30.609375 56 \nQ 42.328125 56 49.015625 48.375 \nQ 55.71875 40.765625 55.71875 27.296875 \nQ 55.71875 13.875 49.015625 6.21875 \nQ 42.328125 -1.421875 30.609375 -1.421875 \nQ 18.84375 -1.421875 12.171875 6.21875 \nQ 5.515625 13.875 5.515625 27.296875 \nQ 5.515625 40.765625 12.171875 48.375 \nQ 18.84375 56 30.609375 56 \nz\n\" id=\"DejaVuSans-111\"/>\n      <path d=\"M 48.78125 52.59375 \nL 48.78125 44.1875 \nQ 44.96875 46.296875 41.140625 47.34375 \nQ 37.3125 48.390625 33.40625 48.390625 \nQ 24.65625 48.390625 19.8125 42.84375 \nQ 14.984375 37.3125 14.984375 27.296875 \nQ 14.984375 17.28125 19.8125 11.734375 \nQ 24.65625 6.203125 33.40625 6.203125 \nQ 37.3125 6.203125 41.140625 7.25 \nQ 44.96875 8.296875 48.78125 10.40625 \nL 48.78125 2.09375 \nQ 45.015625 0.34375 40.984375 -0.53125 \nQ 36.96875 -1.421875 32.421875 -1.421875 \nQ 20.0625 -1.421875 12.78125 6.34375 \nQ 5.515625 14.109375 5.515625 27.296875 \nQ 5.515625 40.671875 12.859375 48.328125 \nQ 20.21875 56 33.015625 56 \nQ 37.15625 56 41.109375 55.140625 \nQ 45.0625 54.296875 48.78125 52.59375 \nz\n\" id=\"DejaVuSans-99\"/>\n      <path d=\"M 54.890625 33.015625 \nL 54.890625 0 \nL 45.90625 0 \nL 45.90625 32.71875 \nQ 45.90625 40.484375 42.875 44.328125 \nQ 39.84375 48.1875 33.796875 48.1875 \nQ 26.515625 48.1875 22.3125 43.546875 \nQ 18.109375 38.921875 18.109375 30.90625 \nL 18.109375 0 \nL 9.078125 0 \nL 9.078125 75.984375 \nL 18.109375 75.984375 \nL 18.109375 46.1875 \nQ 21.34375 51.125 25.703125 53.5625 \nQ 30.078125 56 35.796875 56 \nQ 45.21875 56 50.046875 50.171875 \nQ 54.890625 44.34375 54.890625 33.015625 \nz\n\" id=\"DejaVuSans-104\"/>\n     </defs>\n     <g transform=\"translate(112.525 171.376563)scale(0.1 -0.1)\">\n      <use xlink:href=\"#DejaVuSans-101\"/>\n      <use x=\"61.523438\" xlink:href=\"#DejaVuSans-112\"/>\n      <use x=\"125\" xlink:href=\"#DejaVuSans-111\"/>\n      <use x=\"186.181641\" xlink:href=\"#DejaVuSans-99\"/>\n      <use x=\"241.162109\" xlink:href=\"#DejaVuSans-104\"/>\n     </g>\n    </g>\n   </g>\n   <g id=\"matplotlib.axis_2\">\n    <g id=\"ytick_1\">\n     <g id=\"line2d_11\">\n      <path clip-path=\"url(#p57008a239e)\" d=\"M 30.103125 120.45 \nL 225.403125 120.45 \n\" style=\"fill:none;stroke:#b0b0b0;stroke-linecap:square;stroke-width:0.8;\"/>\n     </g>\n     <g id=\"line2d_12\">\n      <defs>\n       <path d=\"M 0 0 \nL -3.5 0 \n\" id=\"m308c7474a0\" style=\"stroke:#000000;stroke-width:0.8;\"/>\n      </defs>\n      <g>\n       <use style=\"stroke:#000000;stroke-width:0.8;\" x=\"30.103125\" xlink:href=\"#m308c7474a0\" y=\"120.45\"/>\n      </g>\n     </g>\n     <g id=\"text_7\">\n      <!-- 0.4 -->\n      <defs>\n       <path d=\"M 10.6875 12.40625 \nL 21 12.40625 \nL 21 0 \nL 10.6875 0 \nz\n\" id=\"DejaVuSans-46\"/>\n      </defs>\n      <g transform=\"translate(7.2 124.249219)scale(0.1 -0.1)\">\n       <use xlink:href=\"#DejaVuSans-48\"/>\n       <use x=\"63.623047\" xlink:href=\"#DejaVuSans-46\"/>\n       <use x=\"95.410156\" xlink:href=\"#DejaVuSans-52\"/>\n      </g>\n     </g>\n    </g>\n    <g id=\"ytick_2\">\n     <g id=\"line2d_13\">\n      <path clip-path=\"url(#p57008a239e)\" d=\"M 30.103125 75.15 \nL 225.403125 75.15 \n\" style=\"fill:none;stroke:#b0b0b0;stroke-linecap:square;stroke-width:0.8;\"/>\n     </g>\n     <g id=\"line2d_14\">\n      <g>\n       <use style=\"stroke:#000000;stroke-width:0.8;\" x=\"30.103125\" xlink:href=\"#m308c7474a0\" y=\"75.15\"/>\n      </g>\n     </g>\n     <g id=\"text_8\">\n      <!-- 0.6 -->\n      <g transform=\"translate(7.2 78.949219)scale(0.1 -0.1)\">\n       <use xlink:href=\"#DejaVuSans-48\"/>\n       <use x=\"63.623047\" xlink:href=\"#DejaVuSans-46\"/>\n       <use x=\"95.410156\" xlink:href=\"#DejaVuSans-54\"/>\n      </g>\n     </g>\n    </g>\n    <g id=\"ytick_3\">\n     <g id=\"line2d_15\">\n      <path clip-path=\"url(#p57008a239e)\" d=\"M 30.103125 29.85 \nL 225.403125 29.85 \n\" style=\"fill:none;stroke:#b0b0b0;stroke-linecap:square;stroke-width:0.8;\"/>\n     </g>\n     <g id=\"line2d_16\">\n      <g>\n       <use style=\"stroke:#000000;stroke-width:0.8;\" x=\"30.103125\" xlink:href=\"#m308c7474a0\" y=\"29.85\"/>\n      </g>\n     </g>\n     <g id=\"text_9\">\n      <!-- 0.8 -->\n      <g transform=\"translate(7.2 33.649219)scale(0.1 -0.1)\">\n       <use xlink:href=\"#DejaVuSans-48\"/>\n       <use x=\"63.623047\" xlink:href=\"#DejaVuSans-46\"/>\n       <use x=\"95.410156\" xlink:href=\"#DejaVuSans-56\"/>\n      </g>\n     </g>\n    </g>\n   </g>\n   <g id=\"line2d_17\">\n    <path clip-path=\"url(#p57008a239e)\" d=\"M 30.103125 49.406291 \nL 51.803125 113.817493 \nL 73.503125 124.122447 \nL 95.203125 129.347904 \nL 116.903125 132.661314 \nL 138.603125 135.063428 \nL 160.303125 136.841934 \nL 182.003125 138.280046 \nL 203.703125 139.488788 \nL 225.403125 140.436374 \n\" style=\"fill:none;stroke:#1f77b4;stroke-linecap:square;stroke-width:1.5;\"/>\n   </g>\n   <g id=\"line2d_18\">\n    <path clip-path=\"url(#p57008a239e)\" d=\"M 30.103125 20.48045 \nL 51.803125 10.0237 \nL 73.503125 8.215475 \nL 95.203125 6.93575 \nL 116.903125 6.2487 \nL 138.603125 5.5692 \nL 160.303125 5.21435 \nL 182.003125 4.750025 \nL 203.703125 4.35365 \nL 225.403125 4.168675 \n\" style=\"fill:none;stroke:#bf00bf;stroke-dasharray:5.55,2.4;stroke-dashoffset:0;stroke-width:1.5;\"/>\n   </g>\n   <g id=\"line2d_19\">\n    <path clip-path=\"url(#p57008a239e)\" d=\"M 30.103125 9.75945 \nL 51.803125 7.22265 \nL 73.503125 5.90895 \nL 95.203125 5.36535 \nL 116.903125 4.7085 \nL 138.603125 3.9837 \nL 160.303125 3.8478 \nL 182.003125 3.46275 \nL 203.703125 3.87045 \nL 225.403125 3.41745 \n\" style=\"fill:none;stroke:#008000;stroke-dasharray:9.6,2.4,1.5,2.4;stroke-dashoffset:0;stroke-width:1.5;\"/>\n   </g>\n   <g id=\"patch_3\">\n    <path d=\"M 30.103125 143.1 \nL 30.103125 7.2 \n\" style=\"fill:none;stroke:#000000;stroke-linecap:square;stroke-linejoin:miter;stroke-width:0.8;\"/>\n   </g>\n   <g id=\"patch_4\">\n    <path d=\"M 225.403125 143.1 \nL 225.403125 7.2 \n\" style=\"fill:none;stroke:#000000;stroke-linecap:square;stroke-linejoin:miter;stroke-width:0.8;\"/>\n   </g>\n   <g id=\"patch_5\">\n    <path d=\"M 30.103125 143.1 \nL 225.403125 143.1 \n\" style=\"fill:none;stroke:#000000;stroke-linecap:square;stroke-linejoin:miter;stroke-width:0.8;\"/>\n   </g>\n   <g id=\"patch_6\">\n    <path d=\"M 30.103125 7.2 \nL 225.403125 7.2 \n\" style=\"fill:none;stroke:#000000;stroke-linecap:square;stroke-linejoin:miter;stroke-width:0.8;\"/>\n   </g>\n   <g id=\"legend_1\">\n    <g id=\"patch_7\">\n     <path d=\"M 140.634375 59.234375 \nL 218.403125 59.234375 \nQ 220.403125 59.234375 220.403125 57.234375 \nL 220.403125 14.2 \nQ 220.403125 12.2 218.403125 12.2 \nL 140.634375 12.2 \nQ 138.634375 12.2 138.634375 14.2 \nL 138.634375 57.234375 \nQ 138.634375 59.234375 140.634375 59.234375 \nz\n\" style=\"fill:#ffffff;opacity:0.8;stroke:#cccccc;stroke-linejoin:miter;\"/>\n    </g>\n    <g id=\"line2d_20\">\n     <path d=\"M 142.634375 20.298438 \nL 162.634375 20.298438 \n\" style=\"fill:none;stroke:#1f77b4;stroke-linecap:square;stroke-width:1.5;\"/>\n    </g>\n    <g id=\"line2d_21\"/>\n    <g id=\"text_10\">\n     <!-- train loss -->\n     <defs>\n      <path d=\"M 18.3125 70.21875 \nL 18.3125 54.6875 \nL 36.8125 54.6875 \nL 36.8125 47.703125 \nL 18.3125 47.703125 \nL 18.3125 18.015625 \nQ 18.3125 11.328125 20.140625 9.421875 \nQ 21.96875 7.515625 27.59375 7.515625 \nL 36.8125 7.515625 \nL 36.8125 0 \nL 27.59375 0 \nQ 17.1875 0 13.234375 3.875 \nQ 9.28125 7.765625 9.28125 18.015625 \nL 9.28125 47.703125 \nL 2.6875 47.703125 \nL 2.6875 54.6875 \nL 9.28125 54.6875 \nL 9.28125 70.21875 \nz\n\" id=\"DejaVuSans-116\"/>\n      <path d=\"M 41.109375 46.296875 \nQ 39.59375 47.171875 37.8125 47.578125 \nQ 36.03125 48 33.890625 48 \nQ 26.265625 48 22.1875 43.046875 \nQ 18.109375 38.09375 18.109375 28.8125 \nL 18.109375 0 \nL 9.078125 0 \nL 9.078125 54.6875 \nL 18.109375 54.6875 \nL 18.109375 46.1875 \nQ 20.953125 51.171875 25.484375 53.578125 \nQ 30.03125 56 36.53125 56 \nQ 37.453125 56 38.578125 55.875 \nQ 39.703125 55.765625 41.0625 55.515625 \nz\n\" id=\"DejaVuSans-114\"/>\n      <path d=\"M 34.28125 27.484375 \nQ 23.390625 27.484375 19.1875 25 \nQ 14.984375 22.515625 14.984375 16.5 \nQ 14.984375 11.71875 18.140625 8.90625 \nQ 21.296875 6.109375 26.703125 6.109375 \nQ 34.1875 6.109375 38.703125 11.40625 \nQ 43.21875 16.703125 43.21875 25.484375 \nL 43.21875 27.484375 \nz\nM 52.203125 31.203125 \nL 52.203125 0 \nL 43.21875 0 \nL 43.21875 8.296875 \nQ 40.140625 3.328125 35.546875 0.953125 \nQ 30.953125 -1.421875 24.3125 -1.421875 \nQ 15.921875 -1.421875 10.953125 3.296875 \nQ 6 8.015625 6 15.921875 \nQ 6 25.140625 12.171875 29.828125 \nQ 18.359375 34.515625 30.609375 34.515625 \nL 43.21875 34.515625 \nL 43.21875 35.40625 \nQ 43.21875 41.609375 39.140625 45 \nQ 35.0625 48.390625 27.6875 48.390625 \nQ 23 48.390625 18.546875 47.265625 \nQ 14.109375 46.140625 10.015625 43.890625 \nL 10.015625 52.203125 \nQ 14.9375 54.109375 19.578125 55.046875 \nQ 24.21875 56 28.609375 56 \nQ 40.484375 56 46.34375 49.84375 \nQ 52.203125 43.703125 52.203125 31.203125 \nz\n\" id=\"DejaVuSans-97\"/>\n      <path d=\"M 9.421875 54.6875 \nL 18.40625 54.6875 \nL 18.40625 0 \nL 9.421875 0 \nz\nM 9.421875 75.984375 \nL 18.40625 75.984375 \nL 18.40625 64.59375 \nL 9.421875 64.59375 \nz\n\" id=\"DejaVuSans-105\"/>\n      <path d=\"M 54.890625 33.015625 \nL 54.890625 0 \nL 45.90625 0 \nL 45.90625 32.71875 \nQ 45.90625 40.484375 42.875 44.328125 \nQ 39.84375 48.1875 33.796875 48.1875 \nQ 26.515625 48.1875 22.3125 43.546875 \nQ 18.109375 38.921875 18.109375 30.90625 \nL 18.109375 0 \nL 9.078125 0 \nL 9.078125 54.6875 \nL 18.109375 54.6875 \nL 18.109375 46.1875 \nQ 21.34375 51.125 25.703125 53.5625 \nQ 30.078125 56 35.796875 56 \nQ 45.21875 56 50.046875 50.171875 \nQ 54.890625 44.34375 54.890625 33.015625 \nz\n\" id=\"DejaVuSans-110\"/>\n      <path id=\"DejaVuSans-32\"/>\n      <path d=\"M 9.421875 75.984375 \nL 18.40625 75.984375 \nL 18.40625 0 \nL 9.421875 0 \nz\n\" id=\"DejaVuSans-108\"/>\n      <path d=\"M 44.28125 53.078125 \nL 44.28125 44.578125 \nQ 40.484375 46.53125 36.375 47.5 \nQ 32.28125 48.484375 27.875 48.484375 \nQ 21.1875 48.484375 17.84375 46.4375 \nQ 14.5 44.390625 14.5 40.28125 \nQ 14.5 37.15625 16.890625 35.375 \nQ 19.28125 33.59375 26.515625 31.984375 \nL 29.59375 31.296875 \nQ 39.15625 29.25 43.1875 25.515625 \nQ 47.21875 21.78125 47.21875 15.09375 \nQ 47.21875 7.46875 41.1875 3.015625 \nQ 35.15625 -1.421875 24.609375 -1.421875 \nQ 20.21875 -1.421875 15.453125 -0.5625 \nQ 10.6875 0.296875 5.421875 2 \nL 5.421875 11.28125 \nQ 10.40625 8.6875 15.234375 7.390625 \nQ 20.0625 6.109375 24.8125 6.109375 \nQ 31.15625 6.109375 34.5625 8.28125 \nQ 37.984375 10.453125 37.984375 14.40625 \nQ 37.984375 18.0625 35.515625 20.015625 \nQ 33.0625 21.96875 24.703125 23.78125 \nL 21.578125 24.515625 \nQ 13.234375 26.265625 9.515625 29.90625 \nQ 5.8125 33.546875 5.8125 39.890625 \nQ 5.8125 47.609375 11.28125 51.796875 \nQ 16.75 56 26.8125 56 \nQ 31.78125 56 36.171875 55.265625 \nQ 40.578125 54.546875 44.28125 53.078125 \nz\n\" id=\"DejaVuSans-115\"/>\n     </defs>\n     <g transform=\"translate(170.634375 23.798438)scale(0.1 -0.1)\">\n      <use xlink:href=\"#DejaVuSans-116\"/>\n      <use x=\"39.208984\" xlink:href=\"#DejaVuSans-114\"/>\n      <use x=\"80.322266\" xlink:href=\"#DejaVuSans-97\"/>\n      <use x=\"141.601562\" xlink:href=\"#DejaVuSans-105\"/>\n      <use x=\"169.384766\" xlink:href=\"#DejaVuSans-110\"/>\n      <use x=\"232.763672\" xlink:href=\"#DejaVuSans-32\"/>\n      <use x=\"264.550781\" xlink:href=\"#DejaVuSans-108\"/>\n      <use x=\"292.333984\" xlink:href=\"#DejaVuSans-111\"/>\n      <use x=\"353.515625\" xlink:href=\"#DejaVuSans-115\"/>\n      <use x=\"405.615234\" xlink:href=\"#DejaVuSans-115\"/>\n     </g>\n    </g>\n    <g id=\"line2d_22\">\n     <path d=\"M 142.634375 34.976562 \nL 162.634375 34.976562 \n\" style=\"fill:none;stroke:#bf00bf;stroke-dasharray:5.55,2.4;stroke-dashoffset:0;stroke-width:1.5;\"/>\n    </g>\n    <g id=\"line2d_23\"/>\n    <g id=\"text_11\">\n     <!-- train acc -->\n     <g transform=\"translate(170.634375 38.476562)scale(0.1 -0.1)\">\n      <use xlink:href=\"#DejaVuSans-116\"/>\n      <use x=\"39.208984\" xlink:href=\"#DejaVuSans-114\"/>\n      <use x=\"80.322266\" xlink:href=\"#DejaVuSans-97\"/>\n      <use x=\"141.601562\" xlink:href=\"#DejaVuSans-105\"/>\n      <use x=\"169.384766\" xlink:href=\"#DejaVuSans-110\"/>\n      <use x=\"232.763672\" xlink:href=\"#DejaVuSans-32\"/>\n      <use x=\"264.550781\" xlink:href=\"#DejaVuSans-97\"/>\n      <use x=\"325.830078\" xlink:href=\"#DejaVuSans-99\"/>\n      <use x=\"380.810547\" xlink:href=\"#DejaVuSans-99\"/>\n     </g>\n    </g>\n    <g id=\"line2d_24\">\n     <path d=\"M 142.634375 49.654688 \nL 162.634375 49.654688 \n\" style=\"fill:none;stroke:#008000;stroke-dasharray:9.6,2.4,1.5,2.4;stroke-dashoffset:0;stroke-width:1.5;\"/>\n    </g>\n    <g id=\"line2d_25\"/>\n    <g id=\"text_12\">\n     <!-- test acc -->\n     <g transform=\"translate(170.634375 53.154688)scale(0.1 -0.1)\">\n      <use xlink:href=\"#DejaVuSans-116\"/>\n      <use x=\"39.208984\" xlink:href=\"#DejaVuSans-101\"/>\n      <use x=\"100.732422\" xlink:href=\"#DejaVuSans-115\"/>\n      <use x=\"152.832031\" xlink:href=\"#DejaVuSans-116\"/>\n      <use x=\"192.041016\" xlink:href=\"#DejaVuSans-32\"/>\n      <use x=\"223.828125\" xlink:href=\"#DejaVuSans-97\"/>\n      <use x=\"285.107422\" xlink:href=\"#DejaVuSans-99\"/>\n      <use x=\"340.087891\" xlink:href=\"#DejaVuSans-99\"/>\n     </g>\n    </g>\n   </g>\n  </g>\n </g>\n <defs>\n  <clipPath id=\"p57008a239e\">\n   <rect height=\"135.9\" width=\"195.3\" x=\"30.103125\" y=\"7.2\"/>\n  </clipPath>\n </defs>\n</svg>\n"
          },
          "metadata": {
            "needs_background": "light"
          }
        }
      ]
    }
  ]
}