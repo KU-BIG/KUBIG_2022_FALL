{
  "nbformat": 4,
  "nbformat_minor": 0,
  "metadata": {
    "colab": {
      "name": "2번째 과제.ipynb",
      "provenance": [],
      "collapsed_sections": []
    },
    "kernelspec": {
      "name": "python3",
      "display_name": "Python 3"
    },
    "language_info": {
      "name": "python"
    },
    "accelerator": "GPU",
    "gpuClass": "standard"
  },
  "cells": [
    {
      "cell_type": "code",
      "source": [
        "!pip install d2l"
      ],
      "metadata": {
        "colab": {
          "base_uri": "https://localhost:8080/"
        },
        "id": "RxULRlhjSVBX",
        "outputId": "9813e1d8-6ed2-4afa-bc3d-f36549c1e262"
      },
      "execution_count": null,
      "outputs": [
        {
          "output_type": "stream",
          "name": "stdout",
          "text": [
            "Looking in indexes: https://pypi.org/simple, https://us-python.pkg.dev/colab-wheels/public/simple/\n",
            "Requirement already satisfied: d2l in /usr/local/lib/python3.7/dist-packages (0.17.5)\n",
            "Requirement already satisfied: matplotlib==3.5.1 in /usr/local/lib/python3.7/dist-packages (from d2l) (3.5.1)\n",
            "Requirement already satisfied: pandas==1.2.4 in /usr/local/lib/python3.7/dist-packages (from d2l) (1.2.4)\n",
            "Requirement already satisfied: numpy==1.21.5 in /usr/local/lib/python3.7/dist-packages (from d2l) (1.21.5)\n",
            "Requirement already satisfied: requests==2.25.1 in /usr/local/lib/python3.7/dist-packages (from d2l) (2.25.1)\n",
            "Requirement already satisfied: jupyter==1.0.0 in /usr/local/lib/python3.7/dist-packages (from d2l) (1.0.0)\n",
            "Requirement already satisfied: qtconsole in /usr/local/lib/python3.7/dist-packages (from jupyter==1.0.0->d2l) (5.3.1)\n",
            "Requirement already satisfied: notebook in /usr/local/lib/python3.7/dist-packages (from jupyter==1.0.0->d2l) (5.3.1)\n",
            "Requirement already satisfied: nbconvert in /usr/local/lib/python3.7/dist-packages (from jupyter==1.0.0->d2l) (5.6.1)\n",
            "Requirement already satisfied: ipywidgets in /usr/local/lib/python3.7/dist-packages (from jupyter==1.0.0->d2l) (7.7.1)\n",
            "Requirement already satisfied: jupyter-console in /usr/local/lib/python3.7/dist-packages (from jupyter==1.0.0->d2l) (5.2.0)\n",
            "Requirement already satisfied: ipykernel in /usr/local/lib/python3.7/dist-packages (from jupyter==1.0.0->d2l) (4.10.1)\n",
            "Requirement already satisfied: packaging>=20.0 in /usr/local/lib/python3.7/dist-packages (from matplotlib==3.5.1->d2l) (21.3)\n",
            "Requirement already satisfied: kiwisolver>=1.0.1 in /usr/local/lib/python3.7/dist-packages (from matplotlib==3.5.1->d2l) (1.4.3)\n",
            "Requirement already satisfied: python-dateutil>=2.7 in /usr/local/lib/python3.7/dist-packages (from matplotlib==3.5.1->d2l) (2.8.2)\n",
            "Requirement already satisfied: cycler>=0.10 in /usr/local/lib/python3.7/dist-packages (from matplotlib==3.5.1->d2l) (0.11.0)\n",
            "Requirement already satisfied: pyparsing>=2.2.1 in /usr/local/lib/python3.7/dist-packages (from matplotlib==3.5.1->d2l) (3.0.9)\n",
            "Requirement already satisfied: pillow>=6.2.0 in /usr/local/lib/python3.7/dist-packages (from matplotlib==3.5.1->d2l) (7.1.2)\n",
            "Requirement already satisfied: fonttools>=4.22.0 in /usr/local/lib/python3.7/dist-packages (from matplotlib==3.5.1->d2l) (4.34.4)\n",
            "Requirement already satisfied: pytz>=2017.3 in /usr/local/lib/python3.7/dist-packages (from pandas==1.2.4->d2l) (2022.1)\n",
            "Requirement already satisfied: chardet<5,>=3.0.2 in /usr/local/lib/python3.7/dist-packages (from requests==2.25.1->d2l) (3.0.4)\n",
            "Requirement already satisfied: urllib3<1.27,>=1.21.1 in /usr/local/lib/python3.7/dist-packages (from requests==2.25.1->d2l) (1.24.3)\n",
            "Requirement already satisfied: idna<3,>=2.5 in /usr/local/lib/python3.7/dist-packages (from requests==2.25.1->d2l) (2.10)\n",
            "Requirement already satisfied: certifi>=2017.4.17 in /usr/local/lib/python3.7/dist-packages (from requests==2.25.1->d2l) (2022.6.15)\n",
            "Requirement already satisfied: typing-extensions in /usr/local/lib/python3.7/dist-packages (from kiwisolver>=1.0.1->matplotlib==3.5.1->d2l) (4.1.1)\n",
            "Requirement already satisfied: six>=1.5 in /usr/local/lib/python3.7/dist-packages (from python-dateutil>=2.7->matplotlib==3.5.1->d2l) (1.15.0)\n",
            "Requirement already satisfied: ipython>=4.0.0 in /usr/local/lib/python3.7/dist-packages (from ipykernel->jupyter==1.0.0->d2l) (5.5.0)\n",
            "Requirement already satisfied: jupyter-client in /usr/local/lib/python3.7/dist-packages (from ipykernel->jupyter==1.0.0->d2l) (5.3.5)\n",
            "Requirement already satisfied: traitlets>=4.1.0 in /usr/local/lib/python3.7/dist-packages (from ipykernel->jupyter==1.0.0->d2l) (5.1.1)\n",
            "Requirement already satisfied: tornado>=4.0 in /usr/local/lib/python3.7/dist-packages (from ipykernel->jupyter==1.0.0->d2l) (5.1.1)\n",
            "Requirement already satisfied: setuptools>=18.5 in /usr/local/lib/python3.7/dist-packages (from ipython>=4.0.0->ipykernel->jupyter==1.0.0->d2l) (57.4.0)\n",
            "Requirement already satisfied: decorator in /usr/local/lib/python3.7/dist-packages (from ipython>=4.0.0->ipykernel->jupyter==1.0.0->d2l) (4.4.2)\n",
            "Requirement already satisfied: pexpect in /usr/local/lib/python3.7/dist-packages (from ipython>=4.0.0->ipykernel->jupyter==1.0.0->d2l) (4.8.0)\n",
            "Requirement already satisfied: pickleshare in /usr/local/lib/python3.7/dist-packages (from ipython>=4.0.0->ipykernel->jupyter==1.0.0->d2l) (0.7.5)\n",
            "Requirement already satisfied: simplegeneric>0.8 in /usr/local/lib/python3.7/dist-packages (from ipython>=4.0.0->ipykernel->jupyter==1.0.0->d2l) (0.8.1)\n",
            "Requirement already satisfied: pygments in /usr/local/lib/python3.7/dist-packages (from ipython>=4.0.0->ipykernel->jupyter==1.0.0->d2l) (2.6.1)\n",
            "Requirement already satisfied: prompt-toolkit<2.0.0,>=1.0.4 in /usr/local/lib/python3.7/dist-packages (from ipython>=4.0.0->ipykernel->jupyter==1.0.0->d2l) (1.0.18)\n",
            "Requirement already satisfied: wcwidth in /usr/local/lib/python3.7/dist-packages (from prompt-toolkit<2.0.0,>=1.0.4->ipython>=4.0.0->ipykernel->jupyter==1.0.0->d2l) (0.2.5)\n",
            "Requirement already satisfied: jupyterlab-widgets>=1.0.0 in /usr/local/lib/python3.7/dist-packages (from ipywidgets->jupyter==1.0.0->d2l) (1.1.1)\n",
            "Requirement already satisfied: widgetsnbextension~=3.6.0 in /usr/local/lib/python3.7/dist-packages (from ipywidgets->jupyter==1.0.0->d2l) (3.6.1)\n",
            "Requirement already satisfied: ipython-genutils~=0.2.0 in /usr/local/lib/python3.7/dist-packages (from ipywidgets->jupyter==1.0.0->d2l) (0.2.0)\n",
            "Requirement already satisfied: terminado>=0.8.1 in /usr/local/lib/python3.7/dist-packages (from notebook->jupyter==1.0.0->d2l) (0.13.3)\n",
            "Requirement already satisfied: jupyter-core>=4.4.0 in /usr/local/lib/python3.7/dist-packages (from notebook->jupyter==1.0.0->d2l) (4.11.1)\n",
            "Requirement already satisfied: jinja2 in /usr/local/lib/python3.7/dist-packages (from notebook->jupyter==1.0.0->d2l) (2.11.3)\n",
            "Requirement already satisfied: nbformat in /usr/local/lib/python3.7/dist-packages (from notebook->jupyter==1.0.0->d2l) (5.4.0)\n",
            "Requirement already satisfied: Send2Trash in /usr/local/lib/python3.7/dist-packages (from notebook->jupyter==1.0.0->d2l) (1.8.0)\n",
            "Requirement already satisfied: pyzmq>=13 in /usr/local/lib/python3.7/dist-packages (from jupyter-client->ipykernel->jupyter==1.0.0->d2l) (23.2.0)\n",
            "Requirement already satisfied: ptyprocess in /usr/local/lib/python3.7/dist-packages (from terminado>=0.8.1->notebook->jupyter==1.0.0->d2l) (0.7.0)\n",
            "Requirement already satisfied: MarkupSafe>=0.23 in /usr/local/lib/python3.7/dist-packages (from jinja2->notebook->jupyter==1.0.0->d2l) (2.0.1)\n",
            "Requirement already satisfied: pandocfilters>=1.4.1 in /usr/local/lib/python3.7/dist-packages (from nbconvert->jupyter==1.0.0->d2l) (1.5.0)\n",
            "Requirement already satisfied: bleach in /usr/local/lib/python3.7/dist-packages (from nbconvert->jupyter==1.0.0->d2l) (5.0.1)\n",
            "Requirement already satisfied: defusedxml in /usr/local/lib/python3.7/dist-packages (from nbconvert->jupyter==1.0.0->d2l) (0.7.1)\n",
            "Requirement already satisfied: testpath in /usr/local/lib/python3.7/dist-packages (from nbconvert->jupyter==1.0.0->d2l) (0.6.0)\n",
            "Requirement already satisfied: mistune<2,>=0.8.1 in /usr/local/lib/python3.7/dist-packages (from nbconvert->jupyter==1.0.0->d2l) (0.8.4)\n",
            "Requirement already satisfied: entrypoints>=0.2.2 in /usr/local/lib/python3.7/dist-packages (from nbconvert->jupyter==1.0.0->d2l) (0.4)\n",
            "Requirement already satisfied: jsonschema>=2.6 in /usr/local/lib/python3.7/dist-packages (from nbformat->notebook->jupyter==1.0.0->d2l) (4.3.3)\n",
            "Requirement already satisfied: fastjsonschema in /usr/local/lib/python3.7/dist-packages (from nbformat->notebook->jupyter==1.0.0->d2l) (2.15.3)\n",
            "Requirement already satisfied: importlib-resources>=1.4.0 in /usr/local/lib/python3.7/dist-packages (from jsonschema>=2.6->nbformat->notebook->jupyter==1.0.0->d2l) (5.8.0)\n",
            "Requirement already satisfied: attrs>=17.4.0 in /usr/local/lib/python3.7/dist-packages (from jsonschema>=2.6->nbformat->notebook->jupyter==1.0.0->d2l) (21.4.0)\n",
            "Requirement already satisfied: importlib-metadata in /usr/local/lib/python3.7/dist-packages (from jsonschema>=2.6->nbformat->notebook->jupyter==1.0.0->d2l) (4.12.0)\n",
            "Requirement already satisfied: pyrsistent!=0.17.0,!=0.17.1,!=0.17.2,>=0.14.0 in /usr/local/lib/python3.7/dist-packages (from jsonschema>=2.6->nbformat->notebook->jupyter==1.0.0->d2l) (0.18.1)\n",
            "Requirement already satisfied: zipp>=3.1.0 in /usr/local/lib/python3.7/dist-packages (from importlib-resources>=1.4.0->jsonschema>=2.6->nbformat->notebook->jupyter==1.0.0->d2l) (3.8.0)\n",
            "Requirement already satisfied: webencodings in /usr/local/lib/python3.7/dist-packages (from bleach->nbconvert->jupyter==1.0.0->d2l) (0.5.1)\n",
            "Requirement already satisfied: qtpy>=2.0.1 in /usr/local/lib/python3.7/dist-packages (from qtconsole->jupyter==1.0.0->d2l) (2.1.0)\n"
          ]
        }
      ]
    },
    {
      "cell_type": "code",
      "execution_count": null,
      "metadata": {
        "id": "t0Kh53aBGUVZ"
      },
      "outputs": [],
      "source": [
        "%matplotlib inline\n",
        "import torch\n",
        "import torchvision\n",
        "import numpy as np\n",
        "from sklearn.model_selection import train_test_split\n",
        "from torch.utils import data\n",
        "from torchvision import transforms\n",
        "from d2l import torch as d2l\n",
        "\n",
        "d2l.use_svg_display()"
      ]
    },
    {
      "cell_type": "markdown",
      "source": [
        "#Reading the Dataset"
      ],
      "metadata": {
        "id": "Y1JVQPKqqtsg"
      }
    },
    {
      "cell_type": "code",
      "source": [
        "trans=transforms.ToTensor()"
      ],
      "metadata": {
        "id": "J8ZbiGH7TV0m"
      },
      "execution_count": null,
      "outputs": []
    },
    {
      "cell_type": "code",
      "source": [
        "usps_train= torchvision.datasets.USPS(root=\"../data\", train=True, transform=trans, download=True)\n",
        "usps_test= torchvision.datasets.USPS(root=\"../data\", train=False ,transform=trans, download=True)"
      ],
      "metadata": {
        "id": "sKaYaSUaUbjk"
      },
      "execution_count": null,
      "outputs": []
    },
    {
      "cell_type": "code",
      "source": [
        "len(usps_train), len(usps_test)"
      ],
      "metadata": {
        "colab": {
          "base_uri": "https://localhost:8080/"
        },
        "id": "qhnVPK5RXjVh",
        "outputId": "f7127995-8d90-41b3-92a2-25d7eef9a685"
      },
      "execution_count": null,
      "outputs": [
        {
          "output_type": "execute_result",
          "data": {
            "text/plain": [
              "(7291, 2007)"
            ]
          },
          "metadata": {},
          "execution_count": 20
        }
      ]
    },
    {
      "cell_type": "code",
      "source": [
        "usps_train[0][0].shape"
      ],
      "metadata": {
        "colab": {
          "base_uri": "https://localhost:8080/"
        },
        "id": "3saafNQbYPyl",
        "outputId": "7e153bf0-6712-4e8c-86af-cbc22cfe1ca1"
      },
      "execution_count": null,
      "outputs": [
        {
          "output_type": "execute_result",
          "data": {
            "text/plain": [
              "torch.Size([1, 16, 16])"
            ]
          },
          "metadata": {},
          "execution_count": 21
        }
      ]
    },
    {
      "cell_type": "code",
      "source": [
        "def get_usps_labels(labels):\n",
        "    text_labels=['0','1','2','3','4','5','6','7','8','9']\n",
        "    return [text_labels[int(i)] for i in labels]"
      ],
      "metadata": {
        "id": "yJQQIw3abWqd"
      },
      "execution_count": null,
      "outputs": []
    },
    {
      "cell_type": "code",
      "source": [
        "def show_images(imgs, num_rows, num_cols, titles=None, scale =1.5):\n",
        "  figsize=(num_cols * scale, num_rows * scale)\n",
        "  _, axes = d2l.plt.subplots(num_rows, num_cols, figsize = figsize)\n",
        "  axes = axes.flatten()\n",
        "  for i, (ax, img) in enumerate(zip(axes, imgs)):\n",
        "    if torch.is_tensor(img) :\n",
        "      ax.imshow(img.numpy())\n",
        "    else :\n",
        "      ax.imshow(img)\n",
        "    ax.axes.get_xaxis().set_visible(False)\n",
        "    ax.axes.get_yaxis().set_visible(False)\n",
        "    if titles:\n",
        "      ax.set_title(titles[i])\n",
        "  return axes"
      ],
      "metadata": {
        "id": "Iavy8lAciGBa"
      },
      "execution_count": null,
      "outputs": []
    },
    {
      "cell_type": "code",
      "source": [
        "X,y = next(iter(data.DataLoader(usps_train, batch_size=12)))"
      ],
      "metadata": {
        "id": "VzTvyg0LtG2S"
      },
      "execution_count": null,
      "outputs": []
    },
    {
      "cell_type": "code",
      "source": [
        "show_images(X.reshape(12,16,16), 2,6,titles=get_usps_labels(y))"
      ],
      "metadata": {
        "colab": {
          "base_uri": "https://localhost:8080/",
          "height": 502
        },
        "id": "v7vHDBCUjMLq",
        "outputId": "96719a86-0216-417b-b705-6a41b31605c2"
      },
      "execution_count": null,
      "outputs": [
        {
          "output_type": "execute_result",
          "data": {
            "text/plain": [
              "array([<AxesSubplot:title={'center':'6'}>,\n",
              "       <AxesSubplot:title={'center':'5'}>,\n",
              "       <AxesSubplot:title={'center':'4'}>,\n",
              "       <AxesSubplot:title={'center':'7'}>,\n",
              "       <AxesSubplot:title={'center':'3'}>,\n",
              "       <AxesSubplot:title={'center':'6'}>,\n",
              "       <AxesSubplot:title={'center':'3'}>,\n",
              "       <AxesSubplot:title={'center':'1'}>,\n",
              "       <AxesSubplot:title={'center':'0'}>,\n",
              "       <AxesSubplot:title={'center':'1'}>,\n",
              "       <AxesSubplot:title={'center':'7'}>,\n",
              "       <AxesSubplot:title={'center':'0'}>], dtype=object)"
            ]
          },
          "metadata": {},
          "execution_count": 7
        },
        {
          "output_type": "display_data",
          "data": {
            "text/plain": [
              "<Figure size 648x216 with 12 Axes>"
            ],
            "image/svg+xml": "<?xml version=\"1.0\" encoding=\"utf-8\" standalone=\"no\"?>\n<!DOCTYPE svg PUBLIC \"-//W3C//DTD SVG 1.1//EN\"\n  \"http://www.w3.org/Graphics/SVG/1.1/DTD/svg11.dtd\">\n<svg xmlns:xlink=\"http://www.w3.org/1999/xlink\" width=\"520.1pt\" height=\"193.713709pt\" viewBox=\"0 0 520.1 193.713709\" xmlns=\"http://www.w3.org/2000/svg\" version=\"1.1\">\n <metadata>\n  <rdf:RDF xmlns:dc=\"http://purl.org/dc/elements/1.1/\" xmlns:cc=\"http://creativecommons.org/ns#\" xmlns:rdf=\"http://www.w3.org/1999/02/22-rdf-syntax-ns#\">\n   <cc:Work>\n    <dc:type rdf:resource=\"http://purl.org/dc/dcmitype/StillImage\"/>\n    <dc:date>2022-07-18T18:16:27.668321</dc:date>\n    <dc:format>image/svg+xml</dc:format>\n    <dc:creator>\n     <cc:Agent>\n      <dc:title>Matplotlib v3.5.1, https://matplotlib.org/</dc:title>\n     </cc:Agent>\n    </dc:creator>\n   </cc:Work>\n  </rdf:RDF>\n </metadata>\n <defs>\n  <style type=\"text/css\">*{stroke-linejoin: round; stroke-linecap: butt}</style>\n </defs>\n <g id=\"figure_1\">\n  <g id=\"patch_1\">\n   <path d=\"M 0 193.713709 \nL 520.1 193.713709 \nL 520.1 0 \nL 0 0 \nL 0 193.713709 \nz\n\" style=\"fill: none\"/>\n  </g>\n  <g id=\"axes_1\">\n   <g id=\"patch_2\">\n    <path d=\"M 10.7 94.060982 \nL 82.442857 94.060982 \nL 82.442857 22.318125 \nL 10.7 22.318125 \nz\n\" style=\"fill: #ffffff\"/>\n   </g>\n   <g clip-path=\"url(#p5a585e6d42)\">\n    <image xlink:href=\"data:image/png;base64,\niVBORw0KGgoAAAANSUhEUgAAAEgAAABICAYAAABV7bNHAAAEtElEQVR4nO2c3U9bdRzGz2kP5a1QhNI3usIoKw6GIps4UWd0Tsk2L5Z4sf9A441/gvHSW6+9MiYu2WJcnDcaXzIVNN0MhE023qEwNlrYVmmhHe3x+jnPMV9D8Mrv5+755UlLn/7y5ft7OTXfMN+xDQGztha0NxomT6EPx3IDNeQp9u+CTsUfkKfZh57JtQ7y+NJ+0NHxInms24ugK4/z5DFs8aMbHtHxP0cDEtCABDQgAcs54CzIhmEYnp4u0Jm32sjTeAYL7ruJG+QZaZgF3W3tkafGxO9sIU4W41JqGPQXyZPk6bqaAl3/2wx5Ko8e84s70BkkoAEJaEACluHxwoA3FiFTZhRrztMX7pLno/jXoI/6GlzezgcqV3lCjq0K1qWI1yTP+21joEOnuAn8pDwKOrWZII85gZ/DflImj84gAQ1IQAMS0IAELI8PV93F3hCZ6l7Pgv4wfo08Eaz1xkalQJ6yY/V85a9j5Ply9TnQDTVcOPsD66BHmubIM3wCG8O5qV7yhJYCoCvZLHl0BgloQAIakIBl1uHitBCm9avxWgwXmQFPhTyf5/tBjz/qJs+JwDLoqW3eLcyORUG3TlfJ8324E/TNt7kJfDMyDTp9LEWe0HgrDmxukUdnkIAGJKABCWhAAlyRefFseA0slKt79eT5dHYEdPXXp8gznjwC+nj/AnlKSTz2Ka/wDqd/Hf9JLK8EyROI41FQeypHnt0oNoq+GS95dAYJaEACGpCAZe+WYKA+x03gn3ls3k433yZPpYpZt03ziUXrHdQ3zcPkOd6HR8arwRbyrN3DsWCEdxSTvg3QQ+2r5JkIYu2qrXM50aERBdCABDQgAQ1IwKqW8eilfp13Aifv4mo5G2kmzwsxXKlPRgfIE/oFm7XENW4m/yglQQ8OcjN5fvgW6GfqV8gTs/BYOVdqJI9nz3E/qMo7BzqDBDQgAQ1IwDKq2Bh6lu+TqX0Md+Mu9Q6T52xoCvRPp46QpynTAto/cY88PTk85p6f59e59SI2ric7+SQmt4v3GOd+7yRP9zw2mHapRB6dQQIakIAGJKABCZjOi+SmxZuMnhQe4Sxc5DuKo+fSoBs8fGR8+duXQCevbPN7zWLTZ/r95CkfxqJcjPjI4y1jE9i46HKRfD4DslrgJllnkIAGJKABCVDBsfd4J9Bewt24Q9/xwu9qcAj0e6/8SJ6XX8VFZvohL2gT+XbQlaUMebwP8JpKs48fnHE+qGKXuSa6fVYnOoMENCABDUhAAxLgrtCFahGPcWumeJfvUBveAfwszCv+D/qwcK+eaSHPxiY+vRLOczO5dx8fnHG7AH5Q6AwS0IAENCCBf1WDnLg9Qdx0Yw10Icz3Br9qHQR9MZYmz8en8aSjZS5GHmvrIWi3ncCDQmeQgAYkoAEJaEAC+yrSbj/pUHGssMPX+YnDxXAX6JkLfOwz2oMXwK8PPE+ejjtYyJ2N4z/9jftBZ5CABiSgAQnsrwa54Fww2str5On4uQn05Z4h8pw9ivcftxN8JcVuwdcx3GrQAaEzSEADEtCABDQggQMr0k6qOzs0VjuNhTv4Az+V+E3hWdCBFf4OzZ3/bvXuRGeQgAYkoAEJ/A0zwjoCunQ7jgAAAABJRU5ErkJggg==\" id=\"image513467cb24\" transform=\"scale(1 -1)translate(0 -72)\" x=\"10.7\" y=\"-22.060982\" width=\"72\" height=\"72\"/>\n   </g>\n   <g id=\"patch_3\">\n    <path d=\"M 10.7 94.060982 \nL 10.7 22.318125 \n\" style=\"fill: none; stroke: #000000; stroke-width: 0.8; stroke-linejoin: miter; stroke-linecap: square\"/>\n   </g>\n   <g id=\"patch_4\">\n    <path d=\"M 82.442857 94.060982 \nL 82.442857 22.318125 \n\" style=\"fill: none; stroke: #000000; stroke-width: 0.8; stroke-linejoin: miter; stroke-linecap: square\"/>\n   </g>\n   <g id=\"patch_5\">\n    <path d=\"M 10.7 94.060982 \nL 82.442857 94.060982 \n\" style=\"fill: none; stroke: #000000; stroke-width: 0.8; stroke-linejoin: miter; stroke-linecap: square\"/>\n   </g>\n   <g id=\"patch_6\">\n    <path d=\"M 10.7 22.318125 \nL 82.442857 22.318125 \n\" style=\"fill: none; stroke: #000000; stroke-width: 0.8; stroke-linejoin: miter; stroke-linecap: square\"/>\n   </g>\n   <g id=\"text_1\">\n    <!-- 6 -->\n    <g transform=\"translate(42.753929 16.318125)scale(0.12 -0.12)\">\n     <defs>\n      <path id=\"DejaVuSans-36\" d=\"M 2113 2584 \nQ 1688 2584 1439 2293 \nQ 1191 2003 1191 1497 \nQ 1191 994 1439 701 \nQ 1688 409 2113 409 \nQ 2538 409 2786 701 \nQ 3034 994 3034 1497 \nQ 3034 2003 2786 2293 \nQ 2538 2584 2113 2584 \nz\nM 3366 4563 \nL 3366 3988 \nQ 3128 4100 2886 4159 \nQ 2644 4219 2406 4219 \nQ 1781 4219 1451 3797 \nQ 1122 3375 1075 2522 \nQ 1259 2794 1537 2939 \nQ 1816 3084 2150 3084 \nQ 2853 3084 3261 2657 \nQ 3669 2231 3669 1497 \nQ 3669 778 3244 343 \nQ 2819 -91 2113 -91 \nQ 1303 -91 875 529 \nQ 447 1150 447 2328 \nQ 447 3434 972 4092 \nQ 1497 4750 2381 4750 \nQ 2619 4750 2861 4703 \nQ 3103 4656 3366 4563 \nz\n\" transform=\"scale(0.015625)\"/>\n     </defs>\n     <use xlink:href=\"#DejaVuSans-36\"/>\n    </g>\n   </g>\n  </g>\n  <g id=\"axes_2\">\n   <g id=\"patch_7\">\n    <path d=\"M 96.791429 94.060982 \nL 168.534286 94.060982 \nL 168.534286 22.318125 \nL 96.791429 22.318125 \nz\n\" style=\"fill: #ffffff\"/>\n   </g>\n   <g clip-path=\"url(#p45aa604198)\">\n    <image xlink:href=\"data:image/png;base64,\niVBORw0KGgoAAAANSUhEUgAAAEgAAABICAYAAABV7bNHAAAE/UlEQVR4nO1cS28bVRidGY+f8SNOI6eEkBeu0yggQiBFUBGQWqkgwQJUseLnsEAsYAFrxA6pAsqi4iUiUZCIkBKIlJZCIJCQpLbzdOPYcTz2DNuee0b68gO+szuj48n4zJ2T+93vju2r9vXAegi261omnHQPcLsvT5pOIQv85HyCNK3eCPB21iZNfdwH3lc8IE3EQU213EuaWCUKPP0fSazcWht4YmWTNA5/TPEw1CABapAANUiAG8lj4AYjj5DocBIDuDbBvraLJ8AnhzjwZjNV4IVYnTRj8R3gF2NV0kQtI6Qn0qTZ7uD3Wm4Mk+bmvWnggzdGSaMjSIAaJEANEmC/dO1dmChuvMITxdnnVoG/mP+LNBkHM6jpx0njBXjuepcnk5U25t2pz9eTjpwCv5DknHoygRk47jZJ821zHPg7t94kjY4gAWqQADVIgBokwL1/OQYH3r5ym0Rv5RaBL58OkebjzcvA/707SJrELt6PeI0vKFXt4gW2AtJ4PXier4t8nxOX9oF/+MSnpJmOY5C7ww3S6AgSoAYJUIMEuO3RFhyYS/9Bopox6TPzxrIsqzKPuVS8zc9ztFwDHjRPSBPUj5F7HdKkEng92YkR0vyT7gO+ViqQJhvB796upEijI0iAGiRADRKgBglwnV2cKH5+MEuiUqoC3OtGSGMU2Fa08oA0nY0tPOB3SXMW2FGs8DuZGGm6QxjAZiBblmV9sTcDvH+Jx4uOIAFqkAA1SIA79iU+mwvrMyT6fhALxsQet4wLv+F5gkPOICvw+ZgJG8/txHll0ipih2J7jlcmr0/9DLzi5Ujz0/JF4BN3jkijI0iAGiRADRKgBglw3UWs3gfXekkUZIz9QSEVtnVihLTDQe4kk3jA59B28vj32yVuhW/P4XmeufY7aUoJnNx+cO8KaR6dN/4hrJf5euiIAqAGCVCDBLh+C7PDr3Ab1zk0JmuPcceiMYureq08F7SxYyNzuGFhHQ3j5xqXeNXxjckF4GGt549WXwbeczNLmtzCBvBOyORWR5AANUiAGiRADRLAm29C4PSfA16+OkCa2Ou7wJ8fWCdN3cOq2wv4/jye2gM+keDJ26aHLZ33V3gSmLuF+xb7f+A9k52yEe4hK5w6ggSoQQLUIAGcQTZ7FuTweX5Q4hnee8XvgL9qZIllWdZpgEXuRocnk6setog/23mWNL/+cgH44I9c9GaW8O2VbnWXNGfpqugIEqAGCVCDBKhBAjikQ1ozdhMr/liNfW342P5NOdwO9oxQvNvmVYFPtl4Avr7E+yHP3UGe2GuTJkjiCkSk0E8av4bVu9/kzeY6ggSoQQLUIAEhGcSTwOAYn81klTVlD19g6wY7pEnbmAszcS4g7w9gh+Krp/kelkdxdXDnIEma2C4W1Il97rLk//SApxbXSaMjSIAaJEANEqAGCQip5jnM7DhO+rwMa+IOBt6Rz3sCHePcgy6f57X0CvCnxvg3JZqjGPbtgFcF6l0M7tXWedLcWMKVgtI+a3QECVCDBKhBAs7U1TALv5CXla1vqlPAV+pcZJpdjKx7Spq9Nm61qTS4ZWzbOFEtZnn1cjqD2ZWLcAvbMiLQDmmF6wgSoAYJUIMEqEECbPM3zMJg/oSON8Vv+DWGjOQOC7wuHuzGeKJovuUcPebWTGB8rDkQJU19BEWdJF9Q7m/khfkt0ugIEqAGCVCDBPwPKRNbK8qaEtkAAAAASUVORK5CYII=\" id=\"image0e40f67b43\" transform=\"scale(1 -1)translate(0 -72)\" x=\"96.791429\" y=\"-22.060982\" width=\"72\" height=\"72\"/>\n   </g>\n   <g id=\"patch_8\">\n    <path d=\"M 96.791429 94.060982 \nL 96.791429 22.318125 \n\" style=\"fill: none; stroke: #000000; stroke-width: 0.8; stroke-linejoin: miter; stroke-linecap: square\"/>\n   </g>\n   <g id=\"patch_9\">\n    <path d=\"M 168.534286 94.060982 \nL 168.534286 22.318125 \n\" style=\"fill: none; stroke: #000000; stroke-width: 0.8; stroke-linejoin: miter; stroke-linecap: square\"/>\n   </g>\n   <g id=\"patch_10\">\n    <path d=\"M 96.791429 94.060982 \nL 168.534286 94.060982 \n\" style=\"fill: none; stroke: #000000; stroke-width: 0.8; stroke-linejoin: miter; stroke-linecap: square\"/>\n   </g>\n   <g id=\"patch_11\">\n    <path d=\"M 96.791429 22.318125 \nL 168.534286 22.318125 \n\" style=\"fill: none; stroke: #000000; stroke-width: 0.8; stroke-linejoin: miter; stroke-linecap: square\"/>\n   </g>\n   <g id=\"text_2\">\n    <!-- 5 -->\n    <g transform=\"translate(128.845357 16.318125)scale(0.12 -0.12)\">\n     <defs>\n      <path id=\"DejaVuSans-35\" d=\"M 691 4666 \nL 3169 4666 \nL 3169 4134 \nL 1269 4134 \nL 1269 2991 \nQ 1406 3038 1543 3061 \nQ 1681 3084 1819 3084 \nQ 2600 3084 3056 2656 \nQ 3513 2228 3513 1497 \nQ 3513 744 3044 326 \nQ 2575 -91 1722 -91 \nQ 1428 -91 1123 -41 \nQ 819 9 494 109 \nL 494 744 \nQ 775 591 1075 516 \nQ 1375 441 1709 441 \nQ 2250 441 2565 725 \nQ 2881 1009 2881 1497 \nQ 2881 1984 2565 2268 \nQ 2250 2553 1709 2553 \nQ 1456 2553 1204 2497 \nQ 953 2441 691 2322 \nL 691 4666 \nz\n\" transform=\"scale(0.015625)\"/>\n     </defs>\n     <use xlink:href=\"#DejaVuSans-35\"/>\n    </g>\n   </g>\n  </g>\n  <g id=\"axes_3\">\n   <g id=\"patch_12\">\n    <path d=\"M 182.882857 94.060982 \nL 254.625714 94.060982 \nL 254.625714 22.318125 \nL 182.882857 22.318125 \nz\n\" style=\"fill: #ffffff\"/>\n   </g>\n   <g clip-path=\"url(#p8dd11ee6a7)\">\n    <image xlink:href=\"data:image/png;base64,\niVBORw0KGgoAAAANSUhEUgAAAEgAAABICAYAAABV7bNHAAAEJElEQVR4nO2cS28URxSFu3pm7HnaHtuJbRzjWHIcIoRigXhICCQEQoJNoogFC34AvyebLPIXkkU2CKFIyQJQYuFAgAgsXgbLNOblmbFnmFd3sUM5dSq61iDDIvfbndbp7pkzpevbVdU2J8wZG3wsjKFD6ekp0E/OfEae9v5N0JnrRfLs/CkCHT9Y5vtb+auHouN/jgYkoAEJaEAC6Q96N6com1SKLLaQA92YTMhzfvcV0D/aw+SJfy/hgYeesWDj//qk79ARJKABCWhAAttWg0x/Px1LjY6ATkYGyFOfxmNJjmvQVOY16B3DNfJ0C3ivTMhNqeVLEzqCBDQgAQ1IQAMS6K1Ih9zgpQbwibq7e4Y80f486I1ZbtSy43XQ38zcJc/B7Aroy+WIPItj46DL+Tx54hoXdxcdQQIakIAGJMA1yDPLFxaxvpixUfLUvv4U9OpJ7sJO7f0LdCndJE8rwY+0t7BMnp1prCfnRq6S58LhedCD96bJY24sgbadNnl0BAloQAIakIAGJEBF2i3IQRAE3flZ0KtHc+TJHXoJ+vzn18nzdw2XcC5enSdPYRV/s1/m2LPr+A+gD2Uz5Dm27x/QNxf3kOeT5UHQ8YsX5NERJKABCWhAAmm3MQyHBsm0dgBrzsnvFshztvwn6O+jE+S5/fNXoOd+q5InbHVAr5zmpvThEWxKd6RW2LOBM4oxT3AGpr/POeBpkvk05d9oQAIakIAGJJCmPTKdDpmMM/Hne8JuBzjLuPDHl+T54ldcrrFLj/hew2XQYcxFummxMbxQnyPPs8uToCfv8MyBffPGOcD7hXQECWhAAhqQAD2sJrUNMhWf4uzgrcYUeapxAXTpEWdvold4rzbP4AUhnpfwcyix1BinY+W7+Jn7bj8mT1LVVY33RgMS0IAENCABKtLWUzjzUQv0pSe7yPPtzE3QXV7pDUyfU3GN5/eJsSs1XbZUYrz4anOIPP1VvE5S5T8+tuu5uIOOIAENSEADEuAaFPOWlExUAd2+MUGeO6PYrDWH+cHPFj2FScB49hG2nO6x0uJVFtN1TtzKhkQPOoIENCABDUhAAxLg/UGeWTUbPQc9tsCzfNdGcHm68IqXUNwm0Ivzgovvab5j0VNtZclT7GBRtklvL1bqCBLQgAQ0IIEt7ZNOGg3Q+UWenZtdx+YxVW+Rx669dA54mjenToW8yBKsd7DhrGxyA1rq9NYYuugIEtCABDQgAQ1IYGsvszjNY/zcs5fvdcU5hYskzRT4mtImLhFnNtmz1sK3EttN39fA+xt943B70IAENCCB3l6o89UOz4sgPV26jZ1hdp0LRdTAGjQ0VCdPYwK30QzoC3XbgwYkoAEJaEACH/bf42wBd+m79ICXjO8v4v7DeIJnDlJF57fP8axjoEX6/dGABDQggbdAHSLksSZ3KgAAAABJRU5ErkJggg==\" id=\"image8c12f51342\" transform=\"scale(1 -1)translate(0 -72)\" x=\"182.882857\" y=\"-22.060982\" width=\"72\" height=\"72\"/>\n   </g>\n   <g id=\"patch_13\">\n    <path d=\"M 182.882857 94.060982 \nL 182.882857 22.318125 \n\" style=\"fill: none; stroke: #000000; stroke-width: 0.8; stroke-linejoin: miter; stroke-linecap: square\"/>\n   </g>\n   <g id=\"patch_14\">\n    <path d=\"M 254.625714 94.060982 \nL 254.625714 22.318125 \n\" style=\"fill: none; stroke: #000000; stroke-width: 0.8; stroke-linejoin: miter; stroke-linecap: square\"/>\n   </g>\n   <g id=\"patch_15\">\n    <path d=\"M 182.882857 94.060982 \nL 254.625714 94.060982 \n\" style=\"fill: none; stroke: #000000; stroke-width: 0.8; stroke-linejoin: miter; stroke-linecap: square\"/>\n   </g>\n   <g id=\"patch_16\">\n    <path d=\"M 182.882857 22.318125 \nL 254.625714 22.318125 \n\" style=\"fill: none; stroke: #000000; stroke-width: 0.8; stroke-linejoin: miter; stroke-linecap: square\"/>\n   </g>\n   <g id=\"text_3\">\n    <!-- 4 -->\n    <g transform=\"translate(214.936786 16.318125)scale(0.12 -0.12)\">\n     <defs>\n      <path id=\"DejaVuSans-34\" d=\"M 2419 4116 \nL 825 1625 \nL 2419 1625 \nL 2419 4116 \nz\nM 2253 4666 \nL 3047 4666 \nL 3047 1625 \nL 3713 1625 \nL 3713 1100 \nL 3047 1100 \nL 3047 0 \nL 2419 0 \nL 2419 1100 \nL 313 1100 \nL 313 1709 \nL 2253 4666 \nz\n\" transform=\"scale(0.015625)\"/>\n     </defs>\n     <use xlink:href=\"#DejaVuSans-34\"/>\n    </g>\n   </g>\n  </g>\n  <g id=\"axes_4\">\n   <g id=\"patch_17\">\n    <path d=\"M 268.974286 94.060982 \nL 340.717143 94.060982 \nL 340.717143 22.318125 \nL 268.974286 22.318125 \nz\n\" style=\"fill: #ffffff\"/>\n   </g>\n   <g clip-path=\"url(#p3281193ad8)\">\n    <image xlink:href=\"data:image/png;base64,\niVBORw0KGgoAAAANSUhEUgAAAEgAAABICAYAAABV7bNHAAAECklEQVR4nO2cy2sTYRTFM0ljS9pJUlLb2mobLfXVl9W2KlZREUV0o+hCRAQRwZUI/gHiv1BdiuBKFMTXwoVarFIVn6UV+7a1NtZqjGjfTSauT87gnZbGhdzf7gwnk+HkcnPn+yYxdhmHkq6FwDBAZhQXkeXz4VLQZQd6yNMxjK8rvWSQx/O8A3QyHnd8mXPFnbYz/ydoQAIakIAGJJCRtjN7+dST+fh9cL7kLnmumQ2gn+ZtIo/P+Hefq1aQgAYkoAEJLFwPSqbMm5NTZMmM4dAXiQfI4zbwPFYGD4qGBz/X5KzTi5w7WkECGpCABiSgAQmkbVC0fv2mY/6PCdDNv9eQp9Y3CPpOiYc8gSA2d2uEvxAWCq0gAQ1IQAMSSF8PmpqmY+bABOhb3dXk2V3XDnqsms9jPQrhgdHvNheQ4GPzQCtIQAMS0IAENCCB9K0o2jRJTyQK2vsmTJ7hmlzQO1Z3kaezvAK0vyeL33583MlVimgFCWhAAhqQQPp6kA1W9AfovPZi8lwfqQd9emkzec40VIEOtBXym/X0o05d8XSIVpCABiSgAQloQAL/tklP4525r/cHeTpf4TNE2ctmyLNpywfQg62ryJPz+Qu+98QEeZygFSSgAQloQAKOepDb50OdG2RTAm9OE9EYWZKz2E+SwyPkyX+5GPTN7RvIc7KgBfSpjbw7YrYX4IG+AfI4GR61ggQ0IAENSEADEqAm7c7i1blkRRnooa0mebzj2PAKHnIDTvR/Am3ZPEMU7MDmfvdlLXkO7n4Neu3mfvJEX4RB53wZJY+TVUetIAENSEADEqAeZGT7yPRtXQ7ovcdayfN9Gj2dsUry+CNfQdveQA7hTWZRcy5ZLlbuBH2i6Al5zm5bDnpVF69eujr7UNvsxGgFCWhAAhqQgAYkQE06OcNPZbtTDjVk82BWnouD2JEyfvYnGPCDtiYnyZMYw+Et0MbP/rQ9K8fzHnpAnj2N7/A1rTXk8Q/iUGw3OGoFCWhAAhqQAPcgm75gDuFK4JXIFvI0Lb8BeqaKh8CZMtwi9o6zxzBx4Jxe4ieP5cUb46Cbb3qPhnCYfVK6njzBlPfSHjQPNCABDUhAAxLgJp3gO9rMQdwi7n4WJs/jwhWgj1c+J8/VfTtAB1ZWkGeiEH9haNXyj2IuVN8GXb2IV0GbYriF7eEdbEdoBQloQAIakIDh5O9xUree4/X8uEnvUWxn5xrvk6fYizsWo3EeAkOesb9ql8vliiZwwLs83Eie/pYw6PA97mVGO/49jzXFA6dWkIAGJKABCWhAAo6adCpuk7eeZzfgKt/A/kXkqdvcDbrSjJDnzc9loN/2lZDH7MgEHXrPq6C+7m+grQhvhds15VS0ggQ0IAENSOAPTRQOZFy2JEoAAAAASUVORK5CYII=\" id=\"image00dd659f23\" transform=\"scale(1 -1)translate(0 -72)\" x=\"268.974286\" y=\"-22.060982\" width=\"72\" height=\"72\"/>\n   </g>\n   <g id=\"patch_18\">\n    <path d=\"M 268.974286 94.060982 \nL 268.974286 22.318125 \n\" style=\"fill: none; stroke: #000000; stroke-width: 0.8; stroke-linejoin: miter; stroke-linecap: square\"/>\n   </g>\n   <g id=\"patch_19\">\n    <path d=\"M 340.717143 94.060982 \nL 340.717143 22.318125 \n\" style=\"fill: none; stroke: #000000; stroke-width: 0.8; stroke-linejoin: miter; stroke-linecap: square\"/>\n   </g>\n   <g id=\"patch_20\">\n    <path d=\"M 268.974286 94.060982 \nL 340.717143 94.060982 \n\" style=\"fill: none; stroke: #000000; stroke-width: 0.8; stroke-linejoin: miter; stroke-linecap: square\"/>\n   </g>\n   <g id=\"patch_21\">\n    <path d=\"M 268.974286 22.318125 \nL 340.717143 22.318125 \n\" style=\"fill: none; stroke: #000000; stroke-width: 0.8; stroke-linejoin: miter; stroke-linecap: square\"/>\n   </g>\n   <g id=\"text_4\">\n    <!-- 7 -->\n    <g transform=\"translate(301.028214 16.318125)scale(0.12 -0.12)\">\n     <defs>\n      <path id=\"DejaVuSans-37\" d=\"M 525 4666 \nL 3525 4666 \nL 3525 4397 \nL 1831 0 \nL 1172 0 \nL 2766 4134 \nL 525 4134 \nL 525 4666 \nz\n\" transform=\"scale(0.015625)\"/>\n     </defs>\n     <use xlink:href=\"#DejaVuSans-37\"/>\n    </g>\n   </g>\n  </g>\n  <g id=\"axes_5\">\n   <g id=\"patch_22\">\n    <path d=\"M 355.065714 94.060982 \nL 426.808571 94.060982 \nL 426.808571 22.318125 \nL 355.065714 22.318125 \nz\n\" style=\"fill: #ffffff\"/>\n   </g>\n   <g clip-path=\"url(#p68cd22f5ef)\">\n    <image xlink:href=\"data:image/png;base64,\niVBORw0KGgoAAAANSUhEUgAAAEgAAABICAYAAABV7bNHAAAEq0lEQVR4nO2c309bZRzGzzk9banQH1ALHXUlgjIQkulMcEGJFyPTZHNqosnijDe79Q9Y4pWXJsZroxcmXmqicYmJcxIXjTqmzJllyIQJWa2jsAEFSqH09Hjr8z4n+dYar/x+7p43TznN05dvv+973lN70nnZt/5GKB63TPz+B0BvPJIgz9qwDdrr3yVPNl0G3Z+8S56h9hLosFMnz2I1A/rHUp48GzfSeO3pBnkS0wXQ9Tsl8jg0ogAakIAGJKABCbhmUd49OkimpRMu6GfHr5HnWHIWdLuzR56aHwLdCPh8PB/HPMsmT8bdAj0W/52vNYDv+d3hCb5WBIt76iJ/segMEtCABDQgAdfquR8GihNhMr1x/FPQZ5PL5Pl8pw30m/MnyVO6hdeKrobIE11H7dR88jQiWJc2B7gJfOXp70CfG/qCPOfGT4NOXc+QR2eQgAYkoAEJaEACrl3bh4HwNjdmszu9oK+0FcjzztIp0PWPuslzaAYrsFOukMev7OCAxwXYiuAXSepIH1nO942CHhu5RR67swa6EeMvKJ1BAhqQgAYk4DZKqzBw8ALvKE5Vj4L+ZPRx8kRKuDh88PoWefybi6DrtRp5LJ8bQxM7GgXtePyaVAwXnmteB3mcIja3TrnMHvHd/M/RgAQ0IAENSMBt7GIxs28skClX6gJ94Jsu8tj7Hg4UecXvmUW5iYJs2dy4Oqkk6PWHI+Q5lf0N9NVtbiZTN42Bu+vk0RkkoAEJaEACrjng73PzVr9j1BOjuQzCifDCL5RK4bX2+M6Hb9Qpp6OdPNXHsJ5UJrbJ0+niQvjD6XHyHDKa2cYWN7c6gwQ0IAENSEADEqAi3RQNj4ZCCTwztH94gDzrg7h6jlS4UYyt4A7nXie/xeIkvu614RnyfFw4Arr3K77F5CzgzqhX57NIOoMENCABDUigtRoUsIC0cj0gl060keWF45dBJ90qeb5dfQh01OG7Gs9ncJU5tTJEnp3zWdC9P9wmT728SWMmOoMENCABDUhAAxJorUgHYdwiDjj/bXVHsCi+mviFPGdTP4Fus/kzfG/jMOg/vuTdwvxF3IHwzB0Jy2pqR1NnkIAGJKABCbRWg4L+d5dxlzF/gR94+WDvGdDvjzxJnrE8NnSvZ6fIM1fBJjCxFHBEpoQPyvgBC9Fm0BkkoAEJaEACGpBAS0XaDvOtXjuO52/CK3wLpe8zXL3Xv+YV/+zoMOi3z/BbHIrjk4E/d/PnnIoZf3tTXrkHoTNIQAMS0IAEmqtBxg5iKJclS+lYDnS1m3cdk4vY0CXnuC4kbuMt6/l7/IDJU114RKea4cbVvi9mDATsgupi9d+jAQloQAIakECTRdp4EjnNh83vjeFq+cwTl8lzbQN/4mJuhncCTV7Mz9FYyMLi6lYDCnCdb4+3gs4gAQ1IQAMSaK4G+djghdb4TGDHAp5dvjp4kDynD1wB3fbc9+TZbWCj2O7wmcm35nFnsutXrje+eVu5mTPZAegMEtCABDQgAQ1IwJ60X/rH1ct84s+yLMvpwyaw/CivwpfxwUUrN8K/GWZSKKRprOcSfrekL/FT2PXinzigRfq/QQMS0IAE/gLR1zHJ+RwdKwAAAABJRU5ErkJggg==\" id=\"image906cd94879\" transform=\"scale(1 -1)translate(0 -72)\" x=\"355.065714\" y=\"-22.060982\" width=\"72\" height=\"72\"/>\n   </g>\n   <g id=\"patch_23\">\n    <path d=\"M 355.065714 94.060982 \nL 355.065714 22.318125 \n\" style=\"fill: none; stroke: #000000; stroke-width: 0.8; stroke-linejoin: miter; stroke-linecap: square\"/>\n   </g>\n   <g id=\"patch_24\">\n    <path d=\"M 426.808571 94.060982 \nL 426.808571 22.318125 \n\" style=\"fill: none; stroke: #000000; stroke-width: 0.8; stroke-linejoin: miter; stroke-linecap: square\"/>\n   </g>\n   <g id=\"patch_25\">\n    <path d=\"M 355.065714 94.060982 \nL 426.808571 94.060982 \n\" style=\"fill: none; stroke: #000000; stroke-width: 0.8; stroke-linejoin: miter; stroke-linecap: square\"/>\n   </g>\n   <g id=\"patch_26\">\n    <path d=\"M 355.065714 22.318125 \nL 426.808571 22.318125 \n\" style=\"fill: none; stroke: #000000; stroke-width: 0.8; stroke-linejoin: miter; stroke-linecap: square\"/>\n   </g>\n   <g id=\"text_5\">\n    <!-- 3 -->\n    <g transform=\"translate(387.119643 16.318125)scale(0.12 -0.12)\">\n     <defs>\n      <path id=\"DejaVuSans-33\" d=\"M 2597 2516 \nQ 3050 2419 3304 2112 \nQ 3559 1806 3559 1356 \nQ 3559 666 3084 287 \nQ 2609 -91 1734 -91 \nQ 1441 -91 1130 -33 \nQ 819 25 488 141 \nL 488 750 \nQ 750 597 1062 519 \nQ 1375 441 1716 441 \nQ 2309 441 2620 675 \nQ 2931 909 2931 1356 \nQ 2931 1769 2642 2001 \nQ 2353 2234 1838 2234 \nL 1294 2234 \nL 1294 2753 \nL 1863 2753 \nQ 2328 2753 2575 2939 \nQ 2822 3125 2822 3475 \nQ 2822 3834 2567 4026 \nQ 2313 4219 1838 4219 \nQ 1578 4219 1281 4162 \nQ 984 4106 628 3988 \nL 628 4550 \nQ 988 4650 1302 4700 \nQ 1616 4750 1894 4750 \nQ 2613 4750 3031 4423 \nQ 3450 4097 3450 3541 \nQ 3450 3153 3228 2886 \nQ 3006 2619 2597 2516 \nz\n\" transform=\"scale(0.015625)\"/>\n     </defs>\n     <use xlink:href=\"#DejaVuSans-33\"/>\n    </g>\n   </g>\n  </g>\n  <g id=\"axes_6\">\n   <g id=\"patch_27\">\n    <path d=\"M 441.157143 94.060982 \nL 512.9 94.060982 \nL 512.9 22.318125 \nL 441.157143 22.318125 \nz\n\" style=\"fill: #ffffff\"/>\n   </g>\n   <g clip-path=\"url(#p97a1ec0386)\">\n    <image xlink:href=\"data:image/png;base64,\niVBORw0KGgoAAAANSUhEUgAAAEgAAABICAYAAABV7bNHAAAET0lEQVR4nO2cSW8TWRSFqyg78RAPcUYcCIkCYRCgSIgdi6aFUK96hVj1pje9aPWC38GCf8BPQKiXjZBYBCE2IDGIOYyOkzjEqXgoJ3YNvT7vlHRLllAv+n67WzpxOScvx/e9a9u+Yl+LLAFnogJ16/IJ0tR/HUC9svCNNN3BKNTv1g6TpvQyDXXK46dnh1hPPWyQJvjwGS+EAWmScGion/ofoQYJqEECapBAiq7YNl2Kjs5Cvf4zB+dPy++hfrp5hDRhhI998nidNMdWmlCfH6uRZnUXXyRqLX7RKNQ28N6eR5ok6AoSUIME1CCBmAxiz/oTWagn513SPN/Gpi9zp0yaQu0A6p2FEmneXZ6B+vdLD0mzcvgL1H+cOEWaUqkItWbQD0INElCDBNQgAQpp+xA3in7WgbqS5cD7uDUJ9eIaa5ynb6GeepEnzUjnONQ3F34hze3Fv6HOX9omzcHjKtSp703SRIM+XTPRFSSgBgmoQQLcKMZgB7g59SP21UkZJ3a2Q5qwj6eOVtMlTa6BubDRLZJm3MlB/dfSA9LcOncd6uqrMmmCLT6JNNEVJKAGCahBAmqQAIV0FPJpYWofA7jpZUkzXepA3S9OkibjYHBHgTyK6fsc9o/N5xOMkaa9iLOhaKpCGqthNJgR/+66ggTUIAE1SCBRo5hqY/PmurzJvHjqK9RPqrOkyeUxu4JWhzT2ALOj1c6RZtVbxnvtHSNNWMamNChl+F7m6WnEmagrSEANElCDBNQgAQ7pKKRLzk4b6vTXKmmKZ/eh7s7xyaQ9ZjR0MSHteBiufpdfEBp93OHXOzw+SmeNkM6kSZPkFUpXkIAaJKAGCcRkEG/YQmMiUPjEGdTysRHbnxuQJqwUoLY3t0hjeziedlzOl5yDjWsuzdOJbAbvH6ZHSWNOcGLiV1eQhBokoAYJqEECiXbz0T4GZ77Bu96NHoZpYYabQH8cd/N8VmhZdrsLdeY7N5wlpwf11enXpPknOgP1gcOnjknQFSSgBgmoQQLJMsiYPoy0uAn8sjsO9XzZJU27cBRqno1YVrjXgrryxifNvcZpqG/M3yfNncEK3svj3Iyb4JjoChJQgwTUIAE1SCBRSJvbXKfDu+e2i+OZmVn+xOH2OLaGuVHeYZtv+C482yTN+l0c8/x54TfS5N7gY5dq/DhB3PbdQFeQgBokoAYJJMsgA6fJG9F0DScN+bMHpOkcwY3nZJlPC80MCmr8obu5u9j0zT4q83Pc3cHHrXMGxZ2emugKElCDBNQgATVIIGGjiGFmjoEsy7KKH3EU1AtGSOMtYYMZVCdIYxtv7o583s3760Zwm7VlWfRTCQI5Dl1BAmqQgBokMFSjGPV6dG2sjv/1b91p0iwvYrPWWuJvZyi/x7e7BO5ezBMYLk+GQVeQgBokoAYJqEECw4V0zIdQsmu4e/68yt9P1j+N4T4V9+dx4gbS/x26ggTUIAE1SOBfQKw7GF7qemAAAAAASUVORK5CYII=\" id=\"imageee049302ab\" transform=\"scale(1 -1)translate(0 -72)\" x=\"441.157143\" y=\"-22.060982\" width=\"72\" height=\"72\"/>\n   </g>\n   <g id=\"patch_28\">\n    <path d=\"M 441.157143 94.060982 \nL 441.157143 22.318125 \n\" style=\"fill: none; stroke: #000000; stroke-width: 0.8; stroke-linejoin: miter; stroke-linecap: square\"/>\n   </g>\n   <g id=\"patch_29\">\n    <path d=\"M 512.9 94.060982 \nL 512.9 22.318125 \n\" style=\"fill: none; stroke: #000000; stroke-width: 0.8; stroke-linejoin: miter; stroke-linecap: square\"/>\n   </g>\n   <g id=\"patch_30\">\n    <path d=\"M 441.157143 94.060982 \nL 512.9 94.060982 \n\" style=\"fill: none; stroke: #000000; stroke-width: 0.8; stroke-linejoin: miter; stroke-linecap: square\"/>\n   </g>\n   <g id=\"patch_31\">\n    <path d=\"M 441.157143 22.318125 \nL 512.9 22.318125 \n\" style=\"fill: none; stroke: #000000; stroke-width: 0.8; stroke-linejoin: miter; stroke-linecap: square\"/>\n   </g>\n   <g id=\"text_6\">\n    <!-- 6 -->\n    <g transform=\"translate(473.211071 16.318125)scale(0.12 -0.12)\">\n     <use xlink:href=\"#DejaVuSans-36\"/>\n    </g>\n   </g>\n  </g>\n  <g id=\"axes_7\">\n   <g id=\"patch_32\">\n    <path d=\"M 10.7 183.013709 \nL 82.442857 183.013709 \nL 82.442857 111.270852 \nL 10.7 111.270852 \nz\n\" style=\"fill: #ffffff\"/>\n   </g>\n   <g clip-path=\"url(#p208fa9a033)\">\n    <image xlink:href=\"data:image/png;base64,\niVBORw0KGgoAAAANSUhEUgAAAEgAAABICAYAAABV7bNHAAAET0lEQVR4nO2cT28bVRTF5/kfjuO4du0kNLGdtFYoFSkQBBIiohVq1QUUAVKlrlizY88HYMeOBR+CFQJUJFClqCmqgDSiFRElCDUkqdPgxHbt1nbsGbM+7zzpWiPYwP3tztPJZHz0cn3fezMxF82VoScQzWRAd147TZ7tCzHQk4v75KkcOwDd7j9Fns1aAfRw/Rh5Zm90QMfv3CeP32jgwFD8mE4ioX7qf4QGJKABCWhAAjEaiURpKKiUQG+9xbm+9OIm6J1Wljxru3id/MRj8rxR/h0HymTxvq4sgi59sUCe9A28jn9wyBcaAZ1BAhqQgAYkQDXIRAyZetMp0OnSI/Ks3T0FevY6X6dU7YEejB8nz82Fp0F3zrfI887zP4P+MnaWPPOPToJOfP+EPEG3S2M2OoMENCABDUhAAxKgIj0MeNUbb/VBdzey5Cn94INOr/xGHr+JxT3h+EKYuZMH3dqZI89XV7FRvHj6V/KsvroEen6zQJ5gZxcHHCt+nUECGpCABiTAi9XAZ9O9bdCV9hR5zIMaaNrR8zz6Gx8GbBk8xJ3I9M0BeXL5Z0D/VUyTp38WF8L9Yp48Zrdq3R9/dp1BAhqQgAYkoAEJcJF2YO/GmUaTPIHVYJoo70zauJpSu3IHTV7NZ7aOQG81c+Q5NY1fGt3cDHmSVqPq+tLQGSSgAQloQAIj1SC7wTMxx2HIXBF05yTXBZvEIe/oRZsdhxPp5uOg41EuHhET7qiZrvOPXOU/jAYkoAEJaEACoxVpi0guS2N75ydBJ96Tnw+6/aBInm4VV91mwLuOZhqL+6XJHfJ888tzoBdq/IXgbFQtdAYJaEACGpBAqBo07PZoLFnHZq3xJEmec/N40vHRzDXyFK07ChwnDStd3NH8+N6b5Jn6DpvJ6B/3yeM7dk9tdAYJaEACGpCABiQQqkjbR8ie53nZ1S3QycNZ8ny69C7oz17n5wY/Wfwc9IUxLqTXm2dAD67xsfLUyp/oOWyQZxR0BgloQAIakECoGuQ6nh7sPQQdr3F9KW/gM4lHP54gz4fLH4BeurxBntmxBmjjWHQOO9bO5AhNoQudQQIakIAGJKABCYQr0i7sZ3/6R2SxC3ms3iBPuT4P+lbuDHnev7QCuu144cVkJnDA9TLLCG8h6gwS0IAENCCBcDXI8EmDZ+Ss7RdlzHiKPL3COGh/ghu8XoC3HTly3E/geJYlBDqDBDQgAQ1IQAMSGKlIR1JYTM0c7xb28+M0ZuMn8bnFVjlBntoyvjjz9gvr5Fndr4Au3OVCHhzUcUD/NcW/gwYkoAEJcA1yNIGR4/i84d45PkWoL+NxdC7XJk8hhW8ev5KpkScbQ8+3u8+Sxz7FmPmJH38ZtPn3h0FnkIAGJKABCWhAAlykHQ3V8DEWztQ+r5Sttsx7eXqbPGNRbAJv10rkqa7jv6Y4cYubwIk1PFb2q3vkCdsY2ugMEtCABDQggb8B2Z4tiddi5Q8AAAAASUVORK5CYII=\" id=\"image281fd8e209\" transform=\"scale(1 -1)translate(0 -72)\" x=\"10.7\" y=\"-111.013709\" width=\"72\" height=\"72\"/>\n   </g>\n   <g id=\"patch_33\">\n    <path d=\"M 10.7 183.013709 \nL 10.7 111.270852 \n\" style=\"fill: none; stroke: #000000; stroke-width: 0.8; stroke-linejoin: miter; stroke-linecap: square\"/>\n   </g>\n   <g id=\"patch_34\">\n    <path d=\"M 82.442857 183.013709 \nL 82.442857 111.270852 \n\" style=\"fill: none; stroke: #000000; stroke-width: 0.8; stroke-linejoin: miter; stroke-linecap: square\"/>\n   </g>\n   <g id=\"patch_35\">\n    <path d=\"M 10.7 183.013709 \nL 82.442857 183.013709 \n\" style=\"fill: none; stroke: #000000; stroke-width: 0.8; stroke-linejoin: miter; stroke-linecap: square\"/>\n   </g>\n   <g id=\"patch_36\">\n    <path d=\"M 10.7 111.270852 \nL 82.442857 111.270852 \n\" style=\"fill: none; stroke: #000000; stroke-width: 0.8; stroke-linejoin: miter; stroke-linecap: square\"/>\n   </g>\n   <g id=\"text_7\">\n    <!-- 3 -->\n    <g transform=\"translate(42.753929 105.270852)scale(0.12 -0.12)\">\n     <use xlink:href=\"#DejaVuSans-33\"/>\n    </g>\n   </g>\n  </g>\n  <g id=\"axes_8\">\n   <g id=\"patch_37\">\n    <path d=\"M 96.791429 183.013709 \nL 168.534286 183.013709 \nL 168.534286 111.270852 \nL 96.791429 111.270852 \nz\n\" style=\"fill: #ffffff\"/>\n   </g>\n   <g clip-path=\"url(#pcae5a49a65)\">\n    <image xlink:href=\"data:image/png;base64,\niVBORw0KGgoAAAANSUhEUgAAAEgAAABICAYAAABV7bNHAAACeklEQVR4nO2cMW/TQBiG72wnKQkFoaowBFEVJgb4FcxIlbrzG/g9Hbt378iCyohQJ4oqKiEQtFFJmxI7OV/H6rvP1RtVviPD+2yf9cW1Hn96dRc7tW/stjcRyJ88Vsd+v30h6v72L9Xz8+yhqDd2MtVTfDwUtS/Lu1ziQui/TgQUBKAgAAUBitbOZK0s762olosNWe+93FU9I9cR9btP71XP8Mt9UTuG9P+DggAUBGgvg7xcb/rzv6rlwbehqA+mQ9WzNRiJevKsVj12VWaQORupnvB67gonCEBBAAoCUBCgvZAOqC8n6tjqj5mo90evVM/W4IOo3aO56vF9vQiNBScIQEEACgJEyyBf64WanctjE9eF58k6Tp+7SHdfOUEACgJQEICCANFCugkb7LBrb2/pvCHLG3blFn+uLThBAAoCUBAgaQbVucyOQVHBz7gq1wfn+lvGWHCCABQEoCAABQHShnRX3o/hyrnuMUEAj/Ul2hKHe1twggAUBKAgQLQMspneULqevB+v+yeqp2fl6y/5P30P7Uw/6YgFJwhAQQAKAlAQIOlC0Qcb867Vj3RCbNPGvaV3fxaBEwSgIAAFAZJmkAmiowpDyRhTevmKTDZTLca4IJgiZhInCEBBAAoCUBAg7aPnIFuv6p7qmXq5U8/KhsfMDi8w24ITBKAgAAUB0i4UF+CilvlSTHWPnzWtHuPACQJQEICCABQESBrSeSVXisfluuo56pyKujvWO3XPR8/LAwUBKAiQ9McsWSkz6OB0U/UcX62Juv+n4ccsFTNoaaAgAAUBKAiQdKHYGctwPfr8VPV8v5TfID7/qv/thGNILw8UBKAgwDUO9JKuyFr01QAAAABJRU5ErkJggg==\" id=\"image9e3be03ac2\" transform=\"scale(1 -1)translate(0 -72)\" x=\"96.791429\" y=\"-111.013709\" width=\"72\" height=\"72\"/>\n   </g>\n   <g id=\"patch_38\">\n    <path d=\"M 96.791429 183.013709 \nL 96.791429 111.270852 \n\" style=\"fill: none; stroke: #000000; stroke-width: 0.8; stroke-linejoin: miter; stroke-linecap: square\"/>\n   </g>\n   <g id=\"patch_39\">\n    <path d=\"M 168.534286 183.013709 \nL 168.534286 111.270852 \n\" style=\"fill: none; stroke: #000000; stroke-width: 0.8; stroke-linejoin: miter; stroke-linecap: square\"/>\n   </g>\n   <g id=\"patch_40\">\n    <path d=\"M 96.791429 183.013709 \nL 168.534286 183.013709 \n\" style=\"fill: none; stroke: #000000; stroke-width: 0.8; stroke-linejoin: miter; stroke-linecap: square\"/>\n   </g>\n   <g id=\"patch_41\">\n    <path d=\"M 96.791429 111.270852 \nL 168.534286 111.270852 \n\" style=\"fill: none; stroke: #000000; stroke-width: 0.8; stroke-linejoin: miter; stroke-linecap: square\"/>\n   </g>\n   <g id=\"text_8\">\n    <!-- 1 -->\n    <g transform=\"translate(128.845357 105.270852)scale(0.12 -0.12)\">\n     <defs>\n      <path id=\"DejaVuSans-31\" d=\"M 794 531 \nL 1825 531 \nL 1825 4091 \nL 703 3866 \nL 703 4441 \nL 1819 4666 \nL 2450 4666 \nL 2450 531 \nL 3481 531 \nL 3481 0 \nL 794 0 \nL 794 531 \nz\n\" transform=\"scale(0.015625)\"/>\n     </defs>\n     <use xlink:href=\"#DejaVuSans-31\"/>\n    </g>\n   </g>\n  </g>\n  <g id=\"axes_9\">\n   <g id=\"patch_42\">\n    <path d=\"M 182.882857 183.013709 \nL 254.625714 183.013709 \nL 254.625714 111.270852 \nL 182.882857 111.270852 \nz\n\" style=\"fill: #ffffff\"/>\n   </g>\n   <g clip-path=\"url(#p74a93316a2)\">\n    <image xlink:href=\"data:image/png;base64,\niVBORw0KGgoAAAANSUhEUgAAAEgAAABICAYAAABV7bNHAAAE3ElEQVR4nO2bTUxcZRSG7+XeiTMMjAVmgAFqE6i2/LRU24IsymiDiWlCjUSsNSbu/IlpaqIu1biqGxODjSuTRhMT3dj4h6JCLQpFKVFrS0kJyr+l00IZOi3IzB23fb93kjPW7jzv7r15wr15+Tic737n2m3OgYx1k9zKqGVqubkS/HwrIVbTznHw7eHfiIk4CfCO7RGzmvGB/2zxXmK+OVsPvmjYR0xk5Brea2yKmHQiQddM5YnE/1wakCANSJAGJMh+eONhKNLz+zcRVNwxC76zYoSYQmcVfDxVSMyah8X0Tuc6MXX+OfDV7jViHMP33eBnfnXoEfBVn7jEFPTjP5b00hIxuoIEaUCCNCBBbnJbBVyofPxPgp6vOgH+xZ+fIKZgMB988GKamLx1KHdWxrGJSZbh7+xqAzeTsZ2j4F+LfkXM1w+8A/7RgmeIcZPV4O/48RwxuoIEaUCCNCBBGpAgN7EJG6hXjIJsWZY1vlYOvqgnQEy4G5suL9tOOW0Ubsds+SyrMOAHXx4t5eeprwO/t62WmKNtH4Dv2vERMS+0YuGumSgjRleQIA1IkAYkyE0FsVmLOCsEfb+Gf+P5l1PEeMZGL5NihpSFSa+t4YVlrmWhOdwIB+I1xBwKPAn+y9hRYqIt8+D/7i0mRleQIA1IkAYkSAMS5LrXMyJU478E/lQgS65m05dLkc5FGX4+87jGd2aSmKLBreBHW8qJOVg1DP5YxX5idAUJ0oAEaUCCXJ9xaLDi+QmK5eNG9N27eJMZCoXAp+Px//50Ocpb4ea2cBprYPfidmI6wqfBr5bwetEVJEgDEqQBCdKABLmBK1jMPl26j6CuCmyoVpv4ONjrN97GXVnku3l8FHQ7lPG4mXRv4L2mk0XE+MLIrBfwz9YVJEgDEqQBCXIDs9hkfX6mkaC3okPgX278jpj36nHcJHwhSEwuM4G3ItvHoy2pfGxmy/1JYtaNQZq8df7ZuoIEaUCCNCBBGpAg155ZgAslA9xQHWvZCP5A4QQxR1qw6QoP8xs867yx687ytjAX2S4WZSfL8Hu8Eechnwv/QsxpYz4oOM+zSLqCBGlAgjQgQW7aONqNjCwTdOTUPvDtbW8T07Eb384NNTQRE5rCOUYvyc2blYfNmxPiHaS3GWviTCxETO2+C+ATHo/svP/DHvBbzl3lx+EnVN0sDUiQBiRIAxLkmm/57Mk5giL9OBP4cXMDMYcj/eCPx3YTExrD4uoYTaplWZZVgTOJl3fxzE78fnzmPTvOEuMzvmZ889t2YqqPG9v3iRlidAUJ0oAEaUCC6FVcOsEnFsW/YzPZNbKXmKcfxA9Mnm3tI+bDiYfA5y9sICa+C31L83liYn5sZnumtxKT14eb7nsGuAG2xybBZ2tcdQUJ0oAEaUCCNCBBfF6S5Xg4bwK/ei7t4Y9HXq+LgX+j7CQxMwex6RtPRIipDWIxnVzhRnG4D+8fHeB5yKAxt5heuESMl8Mcpa4gQRqQIA1IENegLDLfOpYM/kVM7ybcnG556iIxL5X2gj+U7CTmpy+2gY/8ynVi8yje35vne6XMj2Ju8QRFV5AgDUiQBiRIAxJkt9mP/evqZR79WpZl2fV3g/+jcwMxwe04t5g+UUJMZTc2dJmpWWK821SAc5GuIEEakCANSNA/ep1Nig7G5W8AAAAASUVORK5CYII=\" id=\"imaged29177f31d\" transform=\"scale(1 -1)translate(0 -72)\" x=\"182.882857\" y=\"-111.013709\" width=\"72\" height=\"72\"/>\n   </g>\n   <g id=\"patch_43\">\n    <path d=\"M 182.882857 183.013709 \nL 182.882857 111.270852 \n\" style=\"fill: none; stroke: #000000; stroke-width: 0.8; stroke-linejoin: miter; stroke-linecap: square\"/>\n   </g>\n   <g id=\"patch_44\">\n    <path d=\"M 254.625714 183.013709 \nL 254.625714 111.270852 \n\" style=\"fill: none; stroke: #000000; stroke-width: 0.8; stroke-linejoin: miter; stroke-linecap: square\"/>\n   </g>\n   <g id=\"patch_45\">\n    <path d=\"M 182.882857 183.013709 \nL 254.625714 183.013709 \n\" style=\"fill: none; stroke: #000000; stroke-width: 0.8; stroke-linejoin: miter; stroke-linecap: square\"/>\n   </g>\n   <g id=\"patch_46\">\n    <path d=\"M 182.882857 111.270852 \nL 254.625714 111.270852 \n\" style=\"fill: none; stroke: #000000; stroke-width: 0.8; stroke-linejoin: miter; stroke-linecap: square\"/>\n   </g>\n   <g id=\"text_9\">\n    <!-- 0 -->\n    <g transform=\"translate(214.936786 105.270852)scale(0.12 -0.12)\">\n     <defs>\n      <path id=\"DejaVuSans-30\" d=\"M 2034 4250 \nQ 1547 4250 1301 3770 \nQ 1056 3291 1056 2328 \nQ 1056 1369 1301 889 \nQ 1547 409 2034 409 \nQ 2525 409 2770 889 \nQ 3016 1369 3016 2328 \nQ 3016 3291 2770 3770 \nQ 2525 4250 2034 4250 \nz\nM 2034 4750 \nQ 2819 4750 3233 4129 \nQ 3647 3509 3647 2328 \nQ 3647 1150 3233 529 \nQ 2819 -91 2034 -91 \nQ 1250 -91 836 529 \nQ 422 1150 422 2328 \nQ 422 3509 836 4129 \nQ 1250 4750 2034 4750 \nz\n\" transform=\"scale(0.015625)\"/>\n     </defs>\n     <use xlink:href=\"#DejaVuSans-30\"/>\n    </g>\n   </g>\n  </g>\n  <g id=\"axes_10\">\n   <g id=\"patch_47\">\n    <path d=\"M 268.974286 183.013709 \nL 340.717143 183.013709 \nL 340.717143 111.270852 \nL 268.974286 111.270852 \nz\n\" style=\"fill: #ffffff\"/>\n   </g>\n   <g clip-path=\"url(#peac47baf81)\">\n    <image xlink:href=\"data:image/png;base64,\niVBORw0KGgoAAAANSUhEUgAAAEgAAABICAYAAABV7bNHAAAClUlEQVR4nO2cMW/TQBTHfXZIQwJqiYpEQahBQh0BMVUqbN1Z+uGYEV+BnZEBhMRQpGZIBRNKQkkjt3Vj3zG/e5b+VuQ7KvT/bc96ta8/vz6dfeeaQ3PkkgCk/b46Vr7cE/HkzW2V82J/LOIv45HK2XtbyAOfj/UAbIUH2YC0lbP8x1AQgIIAFATotHYmY0SYDu+plNlz2bj3D3RzfT/6KOKj5FDlnN3ZFXF7v4SGFQSgIAAFAdr783VyvunyC5WyeboS8afJE5Vz8uiDiH+c6162dVmuM8K1YAUBKAhAQQAKAgSbY9nlUh3bmF6J2Fl9+dPVlohnk6HK2Z7PRFw5u8YIm8EKAlAQgIIAwXqQs/pFZdW/JeLRzkzlLK18y3h3nOmTT397FwvyUjRJElYQhIIAFASgIECwJm1So46VA9lwX21PVM4glUs63aVuwK4o1LFQsIIAFASgIEDIBQFF1ZX342nvl8rZ7ZyJuOzpXmY68YbNCgJQEICCABQEiNqkjfeE/6fSe4gyI3PsRs2Jspon/ECwggAUBKAgQNQ3ip1LufrwPd9ROa/7JyK2de0mi3dfWUEACgJQEICCAHEniqVs3PNioHKqRD69227NiThRvDlQEICCAHF7kLdEfF2z/WXl4vWXJrCCABQEoCAABQGiNunEe8AvSn35yr9n4bb+NIIVBKAgAAUBovag7Ep+hDLN9cPqhbeM4WpGyKXnGwQFASgIQEGAcN2u5gOT1GvSi4Vees69Jl31amaKqXdfjd5D1NbmclYQgIIAFASIOlFMF7mIs5+bKufbs8fyZ64b9Bd+zPLvoCAABQEoCBBwoljzEcpcbhK///WBynk3PBDxw2P9v8jcuf6iOhSsIAAFASgI8BfP9pBHswzWpAAAAABJRU5ErkJggg==\" id=\"image27049c1b92\" transform=\"scale(1 -1)translate(0 -72)\" x=\"268.974286\" y=\"-111.013709\" width=\"72\" height=\"72\"/>\n   </g>\n   <g id=\"patch_48\">\n    <path d=\"M 268.974286 183.013709 \nL 268.974286 111.270852 \n\" style=\"fill: none; stroke: #000000; stroke-width: 0.8; stroke-linejoin: miter; stroke-linecap: square\"/>\n   </g>\n   <g id=\"patch_49\">\n    <path d=\"M 340.717143 183.013709 \nL 340.717143 111.270852 \n\" style=\"fill: none; stroke: #000000; stroke-width: 0.8; stroke-linejoin: miter; stroke-linecap: square\"/>\n   </g>\n   <g id=\"patch_50\">\n    <path d=\"M 268.974286 183.013709 \nL 340.717143 183.013709 \n\" style=\"fill: none; stroke: #000000; stroke-width: 0.8; stroke-linejoin: miter; stroke-linecap: square\"/>\n   </g>\n   <g id=\"patch_51\">\n    <path d=\"M 268.974286 111.270852 \nL 340.717143 111.270852 \n\" style=\"fill: none; stroke: #000000; stroke-width: 0.8; stroke-linejoin: miter; stroke-linecap: square\"/>\n   </g>\n   <g id=\"text_10\">\n    <!-- 1 -->\n    <g transform=\"translate(301.028214 105.270852)scale(0.12 -0.12)\">\n     <use xlink:href=\"#DejaVuSans-31\"/>\n    </g>\n   </g>\n  </g>\n  <g id=\"axes_11\">\n   <g id=\"patch_52\">\n    <path d=\"M 355.065714 183.013709 \nL 426.808571 183.013709 \nL 426.808571 111.270852 \nL 355.065714 111.270852 \nz\n\" style=\"fill: #ffffff\"/>\n   </g>\n   <g clip-path=\"url(#p87b6fec690)\">\n    <image xlink:href=\"data:image/png;base64,\niVBORw0KGgoAAAANSUhEUgAAAEgAAABICAYAAABV7bNHAAAEX0lEQVR4nO2cy08bZxTFmfEMGIixjTFgQ2KHGFJUpICStEJVGhV1kVRqVqwrRclfkV1X7a5Ks64itYtW7aLKJg+pXZBHIzURRVESF2jEI0AC2MaQmNhgz3R95ox0HRZe3bM71g9mdPi43PvNNxifG5NuU4NktrWB3xsfJmbpCxt8S94kJnUjD96ZfUGMW60e5BZJfHUVSAMSpAEJ0oAEWQ29WiAAthyzCcmMvQRfqfEtvsn2gj+02EKMFukGSQMSpAEJamgNcssV8K2be8SsbofBf5RYJuZxug98RyRMjLO767n4wfphXUGCNCBBGpAgDUhQY4t0dR98y1KBmNp0Enzp3Gti3oyVwZefJIhp3iqCp6Jdp3QFCdKABGlAgho7rHqaNWd9k5DehzHwj4ZSxIymcaDNfjJIzNE1bCaN+QW+nToGWl1BgjQgQRqQIA1IEBdpw2DK8OToOswcYFr2a95an66Aj04NELM+GQLfdjpHTOEFFvvOjTwxtTw3ql7pChKkAQnSgARZZjAIH5jJXoKcUCsy6z5DZg5/x+t6quBTt7zfp/thhJiFPrzH1NklYubGo+Ajc33EGDtv8Xb2eYdTV5AgDUiQBiRIAxJkmT1x+GDtfJKg7SFsDLv+iRAT/xMfI1dXX/HVnJp4Q97i7i68JCZ5/xD4uYEeYnqOYfOYH+kmJr6ADaf3D0RTk64gURqQIA1IkOXaOK+Wuxg6+/Ez8DNpbroKlX7w0T8qxNRynqGyjgHXefeOPgs+XwUf/psHWvvCFviNE3ytrmlPXSoUidEVJEgDEqQBCdKABFlNOZzMO7PcdM2PYzN5efABMVcvTIAP7HHh7LiPu5W1TW7MqJn0m/gLWICjs/wHYaOEh9Y7M7wDUToaAd8+z2cddQUJ0oAEaUCCrJpnVy08vU7Q4iAeL1mejBFzZewW+G/Mc8RUg1iXYg+CxNRe4fXdCtcXdx8H2uYiM6Ui7oKOHOfh+fkAdsWhaIQYXUGCNCBBGpAgDUiQ5W3M3BUuZn13I+B/PXaKmO/O/AL+2smfifk6/CX4le5+YhL3OsAH/uMdRaeEE765y49rrBzuFoY+9Cnkh3Gn1I2EiNEVJEgDEqQBCaLjL45PY2Zn8YWS+NQQMT9mxsF/n/6dmOvDPyETmyDmZnoMfO9f/GZ0OFsE7zT7nOLxzLymwUd2nFZPDbIDxOgKEqQBCdKABGlAgri6+ezgOcVt8F2PeXfu6QcZ8HfiGWIuhfHFlG8TU8R8ev5f8D+MnCFmfgYbTL9/X9F8HO+5xeTzSvYWFmWjVCZGV5AgDUiQBiSorpdZ6EjK4goxSc+QeXX4M2JOj14Hn7H453PEwvo20T1LzOgEXr/N5GG1x8Ya9NvaSWI6n3nqrT56fn9pQII0IEEakKADvXHo9xJK+5M18Du3jxBzMfAV+FR4i5iZxcPg7WV+HLyXwLenB1IbxOTetoN370WJ6X+EX+ds7xCjK0iQBiRIAxL0P7k8QkSmpr0PAAAAAElFTkSuQmCC\" id=\"image6156955c57\" transform=\"scale(1 -1)translate(0 -72)\" x=\"355.065714\" y=\"-111.013709\" width=\"72\" height=\"72\"/>\n   </g>\n   <g id=\"patch_53\">\n    <path d=\"M 355.065714 183.013709 \nL 355.065714 111.270852 \n\" style=\"fill: none; stroke: #000000; stroke-width: 0.8; stroke-linejoin: miter; stroke-linecap: square\"/>\n   </g>\n   <g id=\"patch_54\">\n    <path d=\"M 426.808571 183.013709 \nL 426.808571 111.270852 \n\" style=\"fill: none; stroke: #000000; stroke-width: 0.8; stroke-linejoin: miter; stroke-linecap: square\"/>\n   </g>\n   <g id=\"patch_55\">\n    <path d=\"M 355.065714 183.013709 \nL 426.808571 183.013709 \n\" style=\"fill: none; stroke: #000000; stroke-width: 0.8; stroke-linejoin: miter; stroke-linecap: square\"/>\n   </g>\n   <g id=\"patch_56\">\n    <path d=\"M 355.065714 111.270852 \nL 426.808571 111.270852 \n\" style=\"fill: none; stroke: #000000; stroke-width: 0.8; stroke-linejoin: miter; stroke-linecap: square\"/>\n   </g>\n   <g id=\"text_11\">\n    <!-- 7 -->\n    <g transform=\"translate(387.119643 105.270852)scale(0.12 -0.12)\">\n     <use xlink:href=\"#DejaVuSans-37\"/>\n    </g>\n   </g>\n  </g>\n  <g id=\"axes_12\">\n   <g id=\"patch_57\">\n    <path d=\"M 441.157143 183.013709 \nL 512.9 183.013709 \nL 512.9 111.270852 \nL 441.157143 111.270852 \nz\n\" style=\"fill: #ffffff\"/>\n   </g>\n   <g clip-path=\"url(#pa461396565)\">\n    <image xlink:href=\"data:image/png;base64,\niVBORw0KGgoAAAANSUhEUgAAAEgAAABICAYAAABV7bNHAAAEeklEQVR4nO2cy2tcZRjGzzmZezLJxFTTZJpmGptJE1pvBKtQMIVgQSjihVbsRhTcWcSNyy7aP6LgQijURRG8LLIooqDBGk0ttqVJifZmepm0k5wMzmSmcy6un+858J6WdlPe3+75eDjf5MmXN9/tjD1tvxtaD4rTQU2J/qdB114ZJs+t12zQz7/0Dz/HCUDPnx0lz/CMBzo7t0Qe312ntofBeSRPeYLRgAQ0IAENSCARy2VjcTULsmVZ1t3Xt4FuvFkjz0fb50Hvy18gz3CiDXpmExf7I+m3QY/WSuRx/lwEHbZa5ImDjiABDUhAAxKIVYOcdBr0xq4t5DFrzuHxn8gzs7IL9Ok74+R5p3gO9HTnAnk+eHUW9KkbU+QpVQZAe9f+JY8V+NxmoCNIQAMS0IAENCCBeEW60AO6Op4iz4flH0GXknfJc+l2P+i2myHPV/4k6KHtVfJ83Ps76LP7tpJnbQEnmF0V/jxBvU5tJjqCBDQgAQ1IgGuQsTC1LMsKu7tA14cC8kzmroCeSPLf96FxXKwu1Z8hTzHrgi44DfIMJPDzvL95jjzHyiOgu/8okCdoGM8OeXNVR5CABiSgAQloQAIRRZozCzpxQuf3tclT7PgPdN5Jk6cR4ATz16UR8oRt7P/n4rPkOVb+FvRgco372oor9aCQJ491k5tMdAQJaEACGpBAvFONBOaYSPNOXNKYX/51nx9zau5l0KVveMKZXsXTh/VRPkH57MAB0IfHePcyND9jImIsmPU25J9LR5CABiSgAQloQALxinSAxdRvJ8nSNhbCt7xe8mSXsbvc5WXy+DfvgO5dK5LHLeORzrkiH09bnlmAH/walGXpCBLRgAQ0IAGuQSFP3pwm3gm0al3kqQa4OM3YvKANUkYdiNq99I3JmsvXaDIrWINW7+fIYzlyX3HQESSgAQloQAIakECsiaJd3wCdrvaRZ9XHwj2UcMnTGsTCHfR0yp1HHcX42ObY7LFT+M8mjFrNx0BHkIAGJKABCURMFCMWdS3cHkzy3M2qGjVoT4ZfJhkprYBu9vPRcyaFC2E7x5PAVgEnfUmHdwLDJr5wY7cjPNTC6AgS0IAENCABDUgg1kQxrOM9mlyFV/znG0OgD+X5buH+gfOgv5x4gzxbFvGYx3+qmzz1kkdtJubupbPO95WCiJ0LEx1BAhqQgAYkEKsGBRtN0PnrTfJ8/ze+qPJJ3yx5DuYvgj6xdzd53OVB0F6Wf4fFbRXQV2u8eC4sGYvVVZc8cU46dAQJaEACGpCABiQQb6Lo4U5g6vo9ftAcvlBycseL5Pm8D79C4ujEd+T59K33sO+IzzOZd0HPnymTZ3QBPXRpPCY6ggQ0IAENSCDe9RdjQuWv8Mtpm3/bBPr42BR5xqZug57Oci37YvcJ0KdrO8nz9eUXQA/+ErHovIqXoENPXuBGoSNIQAMS0IAENCAB+6G+wyzirk1HoQC6voe/e+zGfuxq6rlF8rR8/L9x5gI/p/gD9t8ze408XgWPmPSO4mNCAxLQgAT+B88SJvyxx5qlAAAAAElFTkSuQmCC\" id=\"imagefce46e4856\" transform=\"scale(1 -1)translate(0 -72)\" x=\"441.157143\" y=\"-111.013709\" width=\"72\" height=\"72\"/>\n   </g>\n   <g id=\"patch_58\">\n    <path d=\"M 441.157143 183.013709 \nL 441.157143 111.270852 \n\" style=\"fill: none; stroke: #000000; stroke-width: 0.8; stroke-linejoin: miter; stroke-linecap: square\"/>\n   </g>\n   <g id=\"patch_59\">\n    <path d=\"M 512.9 183.013709 \nL 512.9 111.270852 \n\" style=\"fill: none; stroke: #000000; stroke-width: 0.8; stroke-linejoin: miter; stroke-linecap: square\"/>\n   </g>\n   <g id=\"patch_60\">\n    <path d=\"M 441.157143 183.013709 \nL 512.9 183.013709 \n\" style=\"fill: none; stroke: #000000; stroke-width: 0.8; stroke-linejoin: miter; stroke-linecap: square\"/>\n   </g>\n   <g id=\"patch_61\">\n    <path d=\"M 441.157143 111.270852 \nL 512.9 111.270852 \n\" style=\"fill: none; stroke: #000000; stroke-width: 0.8; stroke-linejoin: miter; stroke-linecap: square\"/>\n   </g>\n   <g id=\"text_12\">\n    <!-- 0 -->\n    <g transform=\"translate(473.211071 105.270852)scale(0.12 -0.12)\">\n     <use xlink:href=\"#DejaVuSans-30\"/>\n    </g>\n   </g>\n  </g>\n </g>\n <defs>\n  <clipPath id=\"p5a585e6d42\">\n   <rect x=\"10.7\" y=\"22.318125\" width=\"71.742857\" height=\"71.742857\"/>\n  </clipPath>\n  <clipPath id=\"p45aa604198\">\n   <rect x=\"96.791429\" y=\"22.318125\" width=\"71.742857\" height=\"71.742857\"/>\n  </clipPath>\n  <clipPath id=\"p8dd11ee6a7\">\n   <rect x=\"182.882857\" y=\"22.318125\" width=\"71.742857\" height=\"71.742857\"/>\n  </clipPath>\n  <clipPath id=\"p3281193ad8\">\n   <rect x=\"268.974286\" y=\"22.318125\" width=\"71.742857\" height=\"71.742857\"/>\n  </clipPath>\n  <clipPath id=\"p68cd22f5ef\">\n   <rect x=\"355.065714\" y=\"22.318125\" width=\"71.742857\" height=\"71.742857\"/>\n  </clipPath>\n  <clipPath id=\"p97a1ec0386\">\n   <rect x=\"441.157143\" y=\"22.318125\" width=\"71.742857\" height=\"71.742857\"/>\n  </clipPath>\n  <clipPath id=\"p208fa9a033\">\n   <rect x=\"10.7\" y=\"111.270852\" width=\"71.742857\" height=\"71.742857\"/>\n  </clipPath>\n  <clipPath id=\"pcae5a49a65\">\n   <rect x=\"96.791429\" y=\"111.270852\" width=\"71.742857\" height=\"71.742857\"/>\n  </clipPath>\n  <clipPath id=\"p74a93316a2\">\n   <rect x=\"182.882857\" y=\"111.270852\" width=\"71.742857\" height=\"71.742857\"/>\n  </clipPath>\n  <clipPath id=\"peac47baf81\">\n   <rect x=\"268.974286\" y=\"111.270852\" width=\"71.742857\" height=\"71.742857\"/>\n  </clipPath>\n  <clipPath id=\"p87b6fec690\">\n   <rect x=\"355.065714\" y=\"111.270852\" width=\"71.742857\" height=\"71.742857\"/>\n  </clipPath>\n  <clipPath id=\"pa461396565\">\n   <rect x=\"441.157143\" y=\"111.270852\" width=\"71.742857\" height=\"71.742857\"/>\n  </clipPath>\n </defs>\n</svg>\n"
          },
          "metadata": {
            "needs_background": "light"
          }
        }
      ]
    },
    {
      "cell_type": "markdown",
      "source": [
        "#Reading a Minibatch"
      ],
      "metadata": {
        "id": "SS-uOpqgqo-9"
      }
    },
    {
      "cell_type": "code",
      "source": [
        "batch_size = 400\n",
        "\n",
        "def get_dataloader_workers():\n",
        "  return 4\n",
        "\n",
        "train_iter = data.DataLoader(usps_train, batch_size, shuffle=True, num_workers=get_dataloader_workers())"
      ],
      "metadata": {
        "colab": {
          "base_uri": "https://localhost:8080/"
        },
        "id": "MyOaCCtVvSkt",
        "outputId": "31d9ee92-11e9-48ec-97f4-dbac9cdfedb2"
      },
      "execution_count": null,
      "outputs": [
        {
          "output_type": "stream",
          "name": "stderr",
          "text": [
            "/usr/local/lib/python3.7/dist-packages/torch/utils/data/dataloader.py:560: UserWarning: This DataLoader will create 4 worker processes in total. Our suggested max number of worker in current system is 2, which is smaller than what this DataLoader is going to create. Please be aware that excessive worker creation might get DataLoader running slow or even freeze, lower the worker number to avoid potential slowness/freeze if necessary.\n",
            "  cpuset_checked))\n"
          ]
        }
      ]
    },
    {
      "cell_type": "code",
      "source": [
        "timer = d2l.Timer()\n",
        "for X,y in train_iter:\n",
        "  continue\n",
        "f'{timer.stop() : .2f} sec'"
      ],
      "metadata": {
        "colab": {
          "base_uri": "https://localhost:8080/",
          "height": 93
        },
        "id": "yvXtUaJues0N",
        "outputId": "03df7afc-af16-4b09-b75b-50ef1ce65523"
      },
      "execution_count": null,
      "outputs": [
        {
          "output_type": "stream",
          "name": "stderr",
          "text": [
            "/usr/local/lib/python3.7/dist-packages/torch/utils/data/dataloader.py:560: UserWarning: This DataLoader will create 4 worker processes in total. Our suggested max number of worker in current system is 2, which is smaller than what this DataLoader is going to create. Please be aware that excessive worker creation might get DataLoader running slow or even freeze, lower the worker number to avoid potential slowness/freeze if necessary.\n",
            "  cpuset_checked))\n"
          ]
        },
        {
          "output_type": "execute_result",
          "data": {
            "text/plain": [
              "' 0.84 sec'"
            ],
            "application/vnd.google.colaboratory.intrinsic+json": {
              "type": "string"
            }
          },
          "metadata": {},
          "execution_count": 42
        }
      ]
    },
    {
      "cell_type": "code",
      "source": [
        "def load_data_usps(batch_size, resize=None):\n",
        "  trans = [transforms.ToTensor()]   \n",
        "  if resize:\n",
        "    trans.insert(0, transforms.Resize(resize))\n",
        "  trans = transforms.Compose(trans)\n",
        "  usps_train= torchvision.datasets.USPS(root=\"../data\", train=True, transform=trans, download=True)\n",
        "  usps_test= torchvision.datasets.USPS(root=\"../data\", train=False ,transform=trans, download=True)\n",
        "  return (data.DataLoader(usps_train, batch_size, shuffle=True, num_workers=get_dataloader_workers()),\n",
        "          data.DataLoader(usps_test, batch_size, shuffle=False, num_workers=get_dataloader_workers()))"
      ],
      "metadata": {
        "id": "l5GqUvMVeyYg"
      },
      "execution_count": null,
      "outputs": []
    },
    {
      "cell_type": "code",
      "source": [
        "train_iter, test_iter = load_data_usps(123, resize=64)\n",
        "for X,y in train_iter:\n",
        "  print(X.shape, X.dtype, y.shape, y.dtype)\n",
        "  break"
      ],
      "metadata": {
        "colab": {
          "base_uri": "https://localhost:8080/"
        },
        "id": "Wy6FcXmxgG93",
        "outputId": "e9bd3886-8ce0-4dfa-aef4-45340339ce15"
      },
      "execution_count": null,
      "outputs": [
        {
          "output_type": "stream",
          "name": "stderr",
          "text": [
            "/usr/local/lib/python3.7/dist-packages/torch/utils/data/dataloader.py:560: UserWarning: This DataLoader will create 4 worker processes in total. Our suggested max number of worker in current system is 2, which is smaller than what this DataLoader is going to create. Please be aware that excessive worker creation might get DataLoader running slow or even freeze, lower the worker number to avoid potential slowness/freeze if necessary.\n",
            "  cpuset_checked))\n"
          ]
        },
        {
          "output_type": "stream",
          "name": "stdout",
          "text": [
            "torch.Size([123, 1, 64, 64]) torch.float32 torch.Size([123]) torch.int64\n"
          ]
        }
      ]
    },
    {
      "cell_type": "code",
      "source": [
        "import torch\n",
        "from IPython import display\n",
        "from d2l import torch as d2l\n",
        "\n",
        "batch_size = 400\n",
        "train_iter, test_iter = load_data_usps(batch_size)"
      ],
      "metadata": {
        "colab": {
          "base_uri": "https://localhost:8080/"
        },
        "id": "EjRvNbh-hDum",
        "outputId": "fcc248fa-bc2e-4992-b336-726d3a3648ca"
      },
      "execution_count": null,
      "outputs": [
        {
          "output_type": "stream",
          "name": "stderr",
          "text": [
            "/usr/local/lib/python3.7/dist-packages/torch/utils/data/dataloader.py:560: UserWarning: This DataLoader will create 4 worker processes in total. Our suggested max number of worker in current system is 2, which is smaller than what this DataLoader is going to create. Please be aware that excessive worker creation might get DataLoader running slow or even freeze, lower the worker number to avoid potential slowness/freeze if necessary.\n",
            "  cpuset_checked))\n"
          ]
        }
      ]
    },
    {
      "cell_type": "markdown",
      "source": [
        "#Initializing Model Parameters"
      ],
      "metadata": {
        "id": "JTFPa9kMqiYJ"
      }
    },
    {
      "cell_type": "code",
      "source": [
        "num_inputs = 256 #16*16\n",
        "num_outputs = 10 # class 수\n",
        "\n",
        "W = torch.normal(0,0.01, size = (num_inputs, num_outputs), requires_grad=True)\n",
        "b = torch.zeros(num_outputs, requires_grad= True)"
      ],
      "metadata": {
        "id": "t0dcImpRhO_z"
      },
      "execution_count": null,
      "outputs": []
    },
    {
      "cell_type": "markdown",
      "source": [
        "#Defining the Softmax Operation"
      ],
      "metadata": {
        "id": "urObPGNhqfBe"
      }
    },
    {
      "cell_type": "code",
      "source": [
        "def softmax(X):\n",
        "  X_exp = torch.exp(X)\n",
        "  partition = X_exp.sum(1, keepdim = True)\n",
        "  return X_exp / partition"
      ],
      "metadata": {
        "id": "DU43ls-xj3yI"
      },
      "execution_count": null,
      "outputs": []
    },
    {
      "cell_type": "markdown",
      "source": [
        "#Defining the Model"
      ],
      "metadata": {
        "id": "XQuxekJ8qxWL"
      }
    },
    {
      "cell_type": "code",
      "source": [
        "def net(X):\n",
        "  return softmax(torch.matmul(X.reshape((-1, W.shape[0])), W)+b)"
      ],
      "metadata": {
        "id": "c4eVszfPq2KE"
      },
      "execution_count": null,
      "outputs": []
    },
    {
      "cell_type": "markdown",
      "source": [
        "#Defining the Loss Function"
      ],
      "metadata": {
        "id": "fK-t-2h0q-Yd"
      }
    },
    {
      "cell_type": "code",
      "source": [
        "def cross_entropy(y_hat, y):\n",
        "  return - torch.log(y_hat[range(len(y_hat)), y])"
      ],
      "metadata": {
        "id": "nveRm_hQrFBt"
      },
      "execution_count": null,
      "outputs": []
    },
    {
      "cell_type": "markdown",
      "source": [
        "#Classification Accuracy"
      ],
      "metadata": {
        "id": "-tmDb83frN9P"
      }
    },
    {
      "cell_type": "code",
      "source": [
        "def accuracy(y_hat, y):\n",
        "  if len(y_hat.shape) >1 and y_hat.shape[1] > 1:\n",
        "    y_hat = y_hat.argmax(axis=1)\n",
        "  cmp = y_hat.type(y.dtype)==y\n",
        "  return float(cmp.type(y.dtype).sum())"
      ],
      "metadata": {
        "id": "lJaUxxQkrOlk"
      },
      "execution_count": null,
      "outputs": []
    },
    {
      "cell_type": "code",
      "source": [
        "def evaluate_accuracy(net, data_iter):\n",
        "  if isinstance(net, torch.nn.Module):\n",
        "    net.eval()\n",
        "  metric = Accumulator(2)\n",
        "\n",
        "  with torch.no_grad():\n",
        "    for X,y in data_iter:\n",
        "      metric.add(accuracy(net(X), y), y.numel())\n",
        "  return metric[0] / metric[1]\n",
        "\n",
        "\n",
        "class Accumulator:\n",
        "  def __init__(self, n):\n",
        "    self.data = [0,0] * n\n",
        "\n",
        "  def add(self, *args):\n",
        "    self.data = [a+float(b) for a, b in zip(self.data, args)]\n",
        "  \n",
        "  def reset(self):\n",
        "    self.data = [0,0] * len(self.data)\n",
        "\n",
        "  def __getitem__(self, idx):\n",
        "    return self.data[idx]\n"
      ],
      "metadata": {
        "id": "U6gE3_aurX5_"
      },
      "execution_count": null,
      "outputs": []
    },
    {
      "cell_type": "markdown",
      "source": [
        "#Training"
      ],
      "metadata": {
        "id": "OvAYVmU3riXV"
      }
    },
    {
      "cell_type": "code",
      "source": [
        "def train_epoch_ch3(net, train_iter, loss, updater):\n",
        "  if isinstance(net, torch.nn.Module):\n",
        "    net.train()\n",
        "  metric = Accumulator(3)\n",
        "\n",
        "  for X, y in train_iter:\n",
        "    y_hat = net(X)\n",
        "    l = loss(y_hat, y)\n",
        "    if isinstance(updater, torch.optim.Optimizer):\n",
        "      updater.zero_grad() \n",
        "      l.mean().backward()\n",
        "      updater.step()\n",
        "    else :\n",
        "      l.sum().backward()\n",
        "      updater(X.shape[0])\n",
        "    metric.add(float(l.sum()), accuracy(y_hat, y), y.numel())\n",
        "  return metric[0] / metric[2], metric[1] / metric[2]"
      ],
      "metadata": {
        "id": "RQidAuY0sFnR"
      },
      "execution_count": null,
      "outputs": []
    },
    {
      "cell_type": "code",
      "source": [
        "class Animator:\n",
        "  def __init__(self, xlabel=None, ylabel=None, legend=None, xlim=None, ylim=None, xscale='linear', yscale='linear',\n",
        "               fmts=('-','m--','g-.','r:'), nrows=1, ncols=1, figsize=(3.5, 2.5)):\n",
        "    if legend is None:\n",
        "      legend=[]\n",
        "    d2l.use_svg_display()\n",
        "    self.fig, self.axes = d2l.plt.subplots(nrows, ncols, figsize=figsize)\n",
        "    if nrows * ncols == 1:\n",
        "      self.axes = [self.axes, ]\n",
        "    self.config_axes = lambda: d2l.set_axes(\n",
        "        self.axes[0], xlabel, ylabel, xlim, ylim, xscale, yscale, legend)\n",
        "    self.X, self.Y, self.fmts = None, None, fmts\n",
        "\n",
        "  def add(self, x, y):\n",
        "    if not hasattr(y, \"__len__\"):\n",
        "      y=[y]\n",
        "    n=len(y)\n",
        "    if not hasattr(x, \"__len__\"):\n",
        "      x=[x]*n\n",
        "    if not self.X:\n",
        "      self.X = [[] for _ in range(n)]\n",
        "    if not self.Y:\n",
        "      self.Y = [[] for _ in range(n)]\n",
        "    for i, (a,b) in enumerate(zip(x,y)):\n",
        "      if a is not None and b is not None:\n",
        "        self.X[i].append(a)\n",
        "        self.Y[i].append(b)\n",
        "    self.axes[0].cla()\n",
        "    for x,y,fmt in zip(self.X, self.Y, self.fmts):\n",
        "      self.axes[0].plot(x, y, fmt)\n",
        "    self.config_axes()\n",
        "    display.display(self.fig)\n",
        "    display.clear_output(wait=True)"
      ],
      "metadata": {
        "id": "YZcaT5nfsH8R"
      },
      "execution_count": null,
      "outputs": []
    },
    {
      "cell_type": "code",
      "source": [
        "def train_ch3(net, train_iter, test_iter, loss, num_epochs, updater): \n",
        "  animator = Animator(xlabel='epoch', xlim=[1, num_epochs], ylim=[0.3, 0.9],\n",
        "                      legend=['train loss', 'train acc', 'test acc'])\n",
        "  for epoch in range(num_epochs):\n",
        "    train_metrics = train_epoch_ch3(net, train_iter, loss, updater)\n",
        "    test_acc = evaluate_accuracy(net, test_iter)\n",
        "    animator.add(epoch + 1, train_metrics + (test_acc,))\n",
        "  train_loss, train_acc = train_metrics\n",
        "  assert train_loss < 0.5, train_loss\n",
        "  assert train_acc <= 1 and train_acc > 0.7, train_acc\n",
        "  assert test_acc <= 1 and test_acc > 0.7, test_acc"
      ],
      "metadata": {
        "id": "kmPnWXawsR7I"
      },
      "execution_count": null,
      "outputs": []
    },
    {
      "cell_type": "code",
      "source": [
        "lr=0.1\n",
        "\n",
        "def updater(batch_size):\n",
        "  return d2l.sgd([W,b], lr, batch_size)"
      ],
      "metadata": {
        "id": "IuqNV3zXrgb_"
      },
      "execution_count": null,
      "outputs": []
    },
    {
      "cell_type": "code",
      "source": [
        "num_epochs =10\n",
        "\n",
        "train_ch3(net, train_iter, test_iter, cross_entropy, num_epochs, updater)"
      ],
      "metadata": {
        "colab": {
          "base_uri": "https://localhost:8080/",
          "height": 261
        },
        "id": "1EJqQLN0xNZH",
        "outputId": "8d585d21-fe11-4249-f84b-a2b2ff39df44"
      },
      "execution_count": null,
      "outputs": [
        {
          "output_type": "display_data",
          "data": {
            "text/plain": [
              "<Figure size 252x180 with 1 Axes>"
            ],
            "image/svg+xml": "<?xml version=\"1.0\" encoding=\"utf-8\" standalone=\"no\"?>\n<!DOCTYPE svg PUBLIC \"-//W3C//DTD SVG 1.1//EN\"\n  \"http://www.w3.org/Graphics/SVG/1.1/DTD/svg11.dtd\">\n<svg xmlns:xlink=\"http://www.w3.org/1999/xlink\" width=\"238.965625pt\" height=\"180.65625pt\" viewBox=\"0 0 238.965625 180.65625\" xmlns=\"http://www.w3.org/2000/svg\" version=\"1.1\">\n <metadata>\n  <rdf:RDF xmlns:dc=\"http://purl.org/dc/elements/1.1/\" xmlns:cc=\"http://creativecommons.org/ns#\" xmlns:rdf=\"http://www.w3.org/1999/02/22-rdf-syntax-ns#\">\n   <cc:Work>\n    <dc:type rdf:resource=\"http://purl.org/dc/dcmitype/StillImage\"/>\n    <dc:date>2022-07-18T18:17:38.288678</dc:date>\n    <dc:format>image/svg+xml</dc:format>\n    <dc:creator>\n     <cc:Agent>\n      <dc:title>Matplotlib v3.5.1, https://matplotlib.org/</dc:title>\n     </cc:Agent>\n    </dc:creator>\n   </cc:Work>\n  </rdf:RDF>\n </metadata>\n <defs>\n  <style type=\"text/css\">*{stroke-linejoin: round; stroke-linecap: butt}</style>\n </defs>\n <g id=\"figure_1\">\n  <g id=\"patch_1\">\n   <path d=\"M 0 180.65625 \nL 238.965625 180.65625 \nL 238.965625 0 \nL 0 0 \nL 0 180.65625 \nz\n\" style=\"fill: none\"/>\n  </g>\n  <g id=\"axes_1\">\n   <g id=\"patch_2\">\n    <path d=\"M 30.103125 143.1 \nL 225.403125 143.1 \nL 225.403125 7.2 \nL 30.103125 7.2 \nz\n\" style=\"fill: #ffffff\"/>\n   </g>\n   <g id=\"matplotlib.axis_1\">\n    <g id=\"xtick_1\">\n     <g id=\"line2d_1\">\n      <path d=\"M 51.803125 143.1 \nL 51.803125 7.2 \n\" clip-path=\"url(#pd924417b04)\" style=\"fill: none; stroke: #b0b0b0; stroke-width: 0.8; stroke-linecap: square\"/>\n     </g>\n     <g id=\"line2d_2\">\n      <defs>\n       <path id=\"m63329e3fe6\" d=\"M 0 0 \nL 0 3.5 \n\" style=\"stroke: #000000; stroke-width: 0.8\"/>\n      </defs>\n      <g>\n       <use xlink:href=\"#m63329e3fe6\" x=\"51.803125\" y=\"143.1\" style=\"stroke: #000000; stroke-width: 0.8\"/>\n      </g>\n     </g>\n     <g id=\"text_1\">\n      <!-- 2 -->\n      <g transform=\"translate(48.621875 157.698438)scale(0.1 -0.1)\">\n       <defs>\n        <path id=\"DejaVuSans-32\" d=\"M 1228 531 \nL 3431 531 \nL 3431 0 \nL 469 0 \nL 469 531 \nQ 828 903 1448 1529 \nQ 2069 2156 2228 2338 \nQ 2531 2678 2651 2914 \nQ 2772 3150 2772 3378 \nQ 2772 3750 2511 3984 \nQ 2250 4219 1831 4219 \nQ 1534 4219 1204 4116 \nQ 875 4013 500 3803 \nL 500 4441 \nQ 881 4594 1212 4672 \nQ 1544 4750 1819 4750 \nQ 2544 4750 2975 4387 \nQ 3406 4025 3406 3419 \nQ 3406 3131 3298 2873 \nQ 3191 2616 2906 2266 \nQ 2828 2175 2409 1742 \nQ 1991 1309 1228 531 \nz\n\" transform=\"scale(0.015625)\"/>\n       </defs>\n       <use xlink:href=\"#DejaVuSans-32\"/>\n      </g>\n     </g>\n    </g>\n    <g id=\"xtick_2\">\n     <g id=\"line2d_3\">\n      <path d=\"M 95.203125 143.1 \nL 95.203125 7.2 \n\" clip-path=\"url(#pd924417b04)\" style=\"fill: none; stroke: #b0b0b0; stroke-width: 0.8; stroke-linecap: square\"/>\n     </g>\n     <g id=\"line2d_4\">\n      <g>\n       <use xlink:href=\"#m63329e3fe6\" x=\"95.203125\" y=\"143.1\" style=\"stroke: #000000; stroke-width: 0.8\"/>\n      </g>\n     </g>\n     <g id=\"text_2\">\n      <!-- 4 -->\n      <g transform=\"translate(92.021875 157.698438)scale(0.1 -0.1)\">\n       <defs>\n        <path id=\"DejaVuSans-34\" d=\"M 2419 4116 \nL 825 1625 \nL 2419 1625 \nL 2419 4116 \nz\nM 2253 4666 \nL 3047 4666 \nL 3047 1625 \nL 3713 1625 \nL 3713 1100 \nL 3047 1100 \nL 3047 0 \nL 2419 0 \nL 2419 1100 \nL 313 1100 \nL 313 1709 \nL 2253 4666 \nz\n\" transform=\"scale(0.015625)\"/>\n       </defs>\n       <use xlink:href=\"#DejaVuSans-34\"/>\n      </g>\n     </g>\n    </g>\n    <g id=\"xtick_3\">\n     <g id=\"line2d_5\">\n      <path d=\"M 138.603125 143.1 \nL 138.603125 7.2 \n\" clip-path=\"url(#pd924417b04)\" style=\"fill: none; stroke: #b0b0b0; stroke-width: 0.8; stroke-linecap: square\"/>\n     </g>\n     <g id=\"line2d_6\">\n      <g>\n       <use xlink:href=\"#m63329e3fe6\" x=\"138.603125\" y=\"143.1\" style=\"stroke: #000000; stroke-width: 0.8\"/>\n      </g>\n     </g>\n     <g id=\"text_3\">\n      <!-- 6 -->\n      <g transform=\"translate(135.421875 157.698438)scale(0.1 -0.1)\">\n       <defs>\n        <path id=\"DejaVuSans-36\" d=\"M 2113 2584 \nQ 1688 2584 1439 2293 \nQ 1191 2003 1191 1497 \nQ 1191 994 1439 701 \nQ 1688 409 2113 409 \nQ 2538 409 2786 701 \nQ 3034 994 3034 1497 \nQ 3034 2003 2786 2293 \nQ 2538 2584 2113 2584 \nz\nM 3366 4563 \nL 3366 3988 \nQ 3128 4100 2886 4159 \nQ 2644 4219 2406 4219 \nQ 1781 4219 1451 3797 \nQ 1122 3375 1075 2522 \nQ 1259 2794 1537 2939 \nQ 1816 3084 2150 3084 \nQ 2853 3084 3261 2657 \nQ 3669 2231 3669 1497 \nQ 3669 778 3244 343 \nQ 2819 -91 2113 -91 \nQ 1303 -91 875 529 \nQ 447 1150 447 2328 \nQ 447 3434 972 4092 \nQ 1497 4750 2381 4750 \nQ 2619 4750 2861 4703 \nQ 3103 4656 3366 4563 \nz\n\" transform=\"scale(0.015625)\"/>\n       </defs>\n       <use xlink:href=\"#DejaVuSans-36\"/>\n      </g>\n     </g>\n    </g>\n    <g id=\"xtick_4\">\n     <g id=\"line2d_7\">\n      <path d=\"M 182.003125 143.1 \nL 182.003125 7.2 \n\" clip-path=\"url(#pd924417b04)\" style=\"fill: none; stroke: #b0b0b0; stroke-width: 0.8; stroke-linecap: square\"/>\n     </g>\n     <g id=\"line2d_8\">\n      <g>\n       <use xlink:href=\"#m63329e3fe6\" x=\"182.003125\" y=\"143.1\" style=\"stroke: #000000; stroke-width: 0.8\"/>\n      </g>\n     </g>\n     <g id=\"text_4\">\n      <!-- 8 -->\n      <g transform=\"translate(178.821875 157.698438)scale(0.1 -0.1)\">\n       <defs>\n        <path id=\"DejaVuSans-38\" d=\"M 2034 2216 \nQ 1584 2216 1326 1975 \nQ 1069 1734 1069 1313 \nQ 1069 891 1326 650 \nQ 1584 409 2034 409 \nQ 2484 409 2743 651 \nQ 3003 894 3003 1313 \nQ 3003 1734 2745 1975 \nQ 2488 2216 2034 2216 \nz\nM 1403 2484 \nQ 997 2584 770 2862 \nQ 544 3141 544 3541 \nQ 544 4100 942 4425 \nQ 1341 4750 2034 4750 \nQ 2731 4750 3128 4425 \nQ 3525 4100 3525 3541 \nQ 3525 3141 3298 2862 \nQ 3072 2584 2669 2484 \nQ 3125 2378 3379 2068 \nQ 3634 1759 3634 1313 \nQ 3634 634 3220 271 \nQ 2806 -91 2034 -91 \nQ 1263 -91 848 271 \nQ 434 634 434 1313 \nQ 434 1759 690 2068 \nQ 947 2378 1403 2484 \nz\nM 1172 3481 \nQ 1172 3119 1398 2916 \nQ 1625 2713 2034 2713 \nQ 2441 2713 2670 2916 \nQ 2900 3119 2900 3481 \nQ 2900 3844 2670 4047 \nQ 2441 4250 2034 4250 \nQ 1625 4250 1398 4047 \nQ 1172 3844 1172 3481 \nz\n\" transform=\"scale(0.015625)\"/>\n       </defs>\n       <use xlink:href=\"#DejaVuSans-38\"/>\n      </g>\n     </g>\n    </g>\n    <g id=\"xtick_5\">\n     <g id=\"line2d_9\">\n      <path d=\"M 225.403125 143.1 \nL 225.403125 7.2 \n\" clip-path=\"url(#pd924417b04)\" style=\"fill: none; stroke: #b0b0b0; stroke-width: 0.8; stroke-linecap: square\"/>\n     </g>\n     <g id=\"line2d_10\">\n      <g>\n       <use xlink:href=\"#m63329e3fe6\" x=\"225.403125\" y=\"143.1\" style=\"stroke: #000000; stroke-width: 0.8\"/>\n      </g>\n     </g>\n     <g id=\"text_5\">\n      <!-- 10 -->\n      <g transform=\"translate(219.040625 157.698438)scale(0.1 -0.1)\">\n       <defs>\n        <path id=\"DejaVuSans-31\" d=\"M 794 531 \nL 1825 531 \nL 1825 4091 \nL 703 3866 \nL 703 4441 \nL 1819 4666 \nL 2450 4666 \nL 2450 531 \nL 3481 531 \nL 3481 0 \nL 794 0 \nL 794 531 \nz\n\" transform=\"scale(0.015625)\"/>\n        <path id=\"DejaVuSans-30\" d=\"M 2034 4250 \nQ 1547 4250 1301 3770 \nQ 1056 3291 1056 2328 \nQ 1056 1369 1301 889 \nQ 1547 409 2034 409 \nQ 2525 409 2770 889 \nQ 3016 1369 3016 2328 \nQ 3016 3291 2770 3770 \nQ 2525 4250 2034 4250 \nz\nM 2034 4750 \nQ 2819 4750 3233 4129 \nQ 3647 3509 3647 2328 \nQ 3647 1150 3233 529 \nQ 2819 -91 2034 -91 \nQ 1250 -91 836 529 \nQ 422 1150 422 2328 \nQ 422 3509 836 4129 \nQ 1250 4750 2034 4750 \nz\n\" transform=\"scale(0.015625)\"/>\n       </defs>\n       <use xlink:href=\"#DejaVuSans-31\"/>\n       <use xlink:href=\"#DejaVuSans-30\" x=\"63.623047\"/>\n      </g>\n     </g>\n    </g>\n    <g id=\"text_6\">\n     <!-- epoch -->\n     <g transform=\"translate(112.525 171.376563)scale(0.1 -0.1)\">\n      <defs>\n       <path id=\"DejaVuSans-65\" d=\"M 3597 1894 \nL 3597 1613 \nL 953 1613 \nQ 991 1019 1311 708 \nQ 1631 397 2203 397 \nQ 2534 397 2845 478 \nQ 3156 559 3463 722 \nL 3463 178 \nQ 3153 47 2828 -22 \nQ 2503 -91 2169 -91 \nQ 1331 -91 842 396 \nQ 353 884 353 1716 \nQ 353 2575 817 3079 \nQ 1281 3584 2069 3584 \nQ 2775 3584 3186 3129 \nQ 3597 2675 3597 1894 \nz\nM 3022 2063 \nQ 3016 2534 2758 2815 \nQ 2500 3097 2075 3097 \nQ 1594 3097 1305 2825 \nQ 1016 2553 972 2059 \nL 3022 2063 \nz\n\" transform=\"scale(0.015625)\"/>\n       <path id=\"DejaVuSans-70\" d=\"M 1159 525 \nL 1159 -1331 \nL 581 -1331 \nL 581 3500 \nL 1159 3500 \nL 1159 2969 \nQ 1341 3281 1617 3432 \nQ 1894 3584 2278 3584 \nQ 2916 3584 3314 3078 \nQ 3713 2572 3713 1747 \nQ 3713 922 3314 415 \nQ 2916 -91 2278 -91 \nQ 1894 -91 1617 61 \nQ 1341 213 1159 525 \nz\nM 3116 1747 \nQ 3116 2381 2855 2742 \nQ 2594 3103 2138 3103 \nQ 1681 3103 1420 2742 \nQ 1159 2381 1159 1747 \nQ 1159 1113 1420 752 \nQ 1681 391 2138 391 \nQ 2594 391 2855 752 \nQ 3116 1113 3116 1747 \nz\n\" transform=\"scale(0.015625)\"/>\n       <path id=\"DejaVuSans-6f\" d=\"M 1959 3097 \nQ 1497 3097 1228 2736 \nQ 959 2375 959 1747 \nQ 959 1119 1226 758 \nQ 1494 397 1959 397 \nQ 2419 397 2687 759 \nQ 2956 1122 2956 1747 \nQ 2956 2369 2687 2733 \nQ 2419 3097 1959 3097 \nz\nM 1959 3584 \nQ 2709 3584 3137 3096 \nQ 3566 2609 3566 1747 \nQ 3566 888 3137 398 \nQ 2709 -91 1959 -91 \nQ 1206 -91 779 398 \nQ 353 888 353 1747 \nQ 353 2609 779 3096 \nQ 1206 3584 1959 3584 \nz\n\" transform=\"scale(0.015625)\"/>\n       <path id=\"DejaVuSans-63\" d=\"M 3122 3366 \nL 3122 2828 \nQ 2878 2963 2633 3030 \nQ 2388 3097 2138 3097 \nQ 1578 3097 1268 2742 \nQ 959 2388 959 1747 \nQ 959 1106 1268 751 \nQ 1578 397 2138 397 \nQ 2388 397 2633 464 \nQ 2878 531 3122 666 \nL 3122 134 \nQ 2881 22 2623 -34 \nQ 2366 -91 2075 -91 \nQ 1284 -91 818 406 \nQ 353 903 353 1747 \nQ 353 2603 823 3093 \nQ 1294 3584 2113 3584 \nQ 2378 3584 2631 3529 \nQ 2884 3475 3122 3366 \nz\n\" transform=\"scale(0.015625)\"/>\n       <path id=\"DejaVuSans-68\" d=\"M 3513 2113 \nL 3513 0 \nL 2938 0 \nL 2938 2094 \nQ 2938 2591 2744 2837 \nQ 2550 3084 2163 3084 \nQ 1697 3084 1428 2787 \nQ 1159 2491 1159 1978 \nL 1159 0 \nL 581 0 \nL 581 4863 \nL 1159 4863 \nL 1159 2956 \nQ 1366 3272 1645 3428 \nQ 1925 3584 2291 3584 \nQ 2894 3584 3203 3211 \nQ 3513 2838 3513 2113 \nz\n\" transform=\"scale(0.015625)\"/>\n      </defs>\n      <use xlink:href=\"#DejaVuSans-65\"/>\n      <use xlink:href=\"#DejaVuSans-70\" x=\"61.523438\"/>\n      <use xlink:href=\"#DejaVuSans-6f\" x=\"125\"/>\n      <use xlink:href=\"#DejaVuSans-63\" x=\"186.181641\"/>\n      <use xlink:href=\"#DejaVuSans-68\" x=\"241.162109\"/>\n     </g>\n    </g>\n   </g>\n   <g id=\"matplotlib.axis_2\">\n    <g id=\"ytick_1\">\n     <g id=\"line2d_11\">\n      <path d=\"M 30.103125 120.45 \nL 225.403125 120.45 \n\" clip-path=\"url(#pd924417b04)\" style=\"fill: none; stroke: #b0b0b0; stroke-width: 0.8; stroke-linecap: square\"/>\n     </g>\n     <g id=\"line2d_12\">\n      <defs>\n       <path id=\"m809a8bbcf2\" d=\"M 0 0 \nL -3.5 0 \n\" style=\"stroke: #000000; stroke-width: 0.8\"/>\n      </defs>\n      <g>\n       <use xlink:href=\"#m809a8bbcf2\" x=\"30.103125\" y=\"120.45\" style=\"stroke: #000000; stroke-width: 0.8\"/>\n      </g>\n     </g>\n     <g id=\"text_7\">\n      <!-- 0.4 -->\n      <g transform=\"translate(7.2 124.249219)scale(0.1 -0.1)\">\n       <defs>\n        <path id=\"DejaVuSans-2e\" d=\"M 684 794 \nL 1344 794 \nL 1344 0 \nL 684 0 \nL 684 794 \nz\n\" transform=\"scale(0.015625)\"/>\n       </defs>\n       <use xlink:href=\"#DejaVuSans-30\"/>\n       <use xlink:href=\"#DejaVuSans-2e\" x=\"63.623047\"/>\n       <use xlink:href=\"#DejaVuSans-34\" x=\"95.410156\"/>\n      </g>\n     </g>\n    </g>\n    <g id=\"ytick_2\">\n     <g id=\"line2d_13\">\n      <path d=\"M 30.103125 75.15 \nL 225.403125 75.15 \n\" clip-path=\"url(#pd924417b04)\" style=\"fill: none; stroke: #b0b0b0; stroke-width: 0.8; stroke-linecap: square\"/>\n     </g>\n     <g id=\"line2d_14\">\n      <g>\n       <use xlink:href=\"#m809a8bbcf2\" x=\"30.103125\" y=\"75.15\" style=\"stroke: #000000; stroke-width: 0.8\"/>\n      </g>\n     </g>\n     <g id=\"text_8\">\n      <!-- 0.6 -->\n      <g transform=\"translate(7.2 78.949219)scale(0.1 -0.1)\">\n       <use xlink:href=\"#DejaVuSans-30\"/>\n       <use xlink:href=\"#DejaVuSans-2e\" x=\"63.623047\"/>\n       <use xlink:href=\"#DejaVuSans-36\" x=\"95.410156\"/>\n      </g>\n     </g>\n    </g>\n    <g id=\"ytick_3\">\n     <g id=\"line2d_15\">\n      <path d=\"M 30.103125 29.85 \nL 225.403125 29.85 \n\" clip-path=\"url(#pd924417b04)\" style=\"fill: none; stroke: #b0b0b0; stroke-width: 0.8; stroke-linecap: square\"/>\n     </g>\n     <g id=\"line2d_16\">\n      <g>\n       <use xlink:href=\"#m809a8bbcf2\" x=\"30.103125\" y=\"29.85\" style=\"stroke: #000000; stroke-width: 0.8\"/>\n      </g>\n     </g>\n     <g id=\"text_9\">\n      <!-- 0.8 -->\n      <g transform=\"translate(7.2 33.649219)scale(0.1 -0.1)\">\n       <use xlink:href=\"#DejaVuSans-30\"/>\n       <use xlink:href=\"#DejaVuSans-2e\" x=\"63.623047\"/>\n       <use xlink:href=\"#DejaVuSans-38\" x=\"95.410156\"/>\n      </g>\n     </g>\n    </g>\n   </g>\n   <g id=\"line2d_17\">\n    <path d=\"M 78.439805 -1 \nL 95.203125 26.686799 \nL 116.903125 49.910595 \nL 138.603125 66.084447 \nL 160.303125 78.047342 \nL 182.003125 87.256224 \nL 203.703125 94.607783 \nL 225.403125 100.638139 \n\" clip-path=\"url(#pd924417b04)\" style=\"fill: none; stroke: #1f77b4; stroke-width: 1.5; stroke-linecap: square\"/>\n   </g>\n   <g id=\"line2d_18\">\n    <path d=\"M 30.103125 102.786044 \nL 51.803125 30.18551 \nL 73.503125 19.405713 \nL 95.203125 13.689624 \nL 116.903125 11.421828 \nL 138.603125 9.961741 \nL 160.303125 8.532718 \nL 182.003125 8.097799 \nL 203.703125 7.290091 \nL 225.403125 6.606645 \n\" clip-path=\"url(#pd924417b04)\" style=\"fill: none; stroke-dasharray: 5.55,2.4; stroke-dashoffset: 0; stroke: #bf00bf; stroke-width: 1.5\"/>\n   </g>\n   <g id=\"line2d_19\">\n    <path d=\"M 30.103125 45.378849 \nL 51.803125 33.190508 \nL 73.503125 24.387818 \nL 95.203125 22.017862 \nL 116.903125 19.083632 \nL 138.603125 18.293647 \nL 160.303125 18.519357 \nL 182.003125 17.277952 \nL 203.703125 17.052242 \nL 225.403125 16.262257 \n\" clip-path=\"url(#pd924417b04)\" style=\"fill: none; stroke-dasharray: 9.6,2.4,1.5,2.4; stroke-dashoffset: 0; stroke: #008000; stroke-width: 1.5\"/>\n   </g>\n   <g id=\"patch_3\">\n    <path d=\"M 30.103125 143.1 \nL 30.103125 7.2 \n\" style=\"fill: none; stroke: #000000; stroke-width: 0.8; stroke-linejoin: miter; stroke-linecap: square\"/>\n   </g>\n   <g id=\"patch_4\">\n    <path d=\"M 225.403125 143.1 \nL 225.403125 7.2 \n\" style=\"fill: none; stroke: #000000; stroke-width: 0.8; stroke-linejoin: miter; stroke-linecap: square\"/>\n   </g>\n   <g id=\"patch_5\">\n    <path d=\"M 30.103125 143.1 \nL 225.403125 143.1 \n\" style=\"fill: none; stroke: #000000; stroke-width: 0.8; stroke-linejoin: miter; stroke-linecap: square\"/>\n   </g>\n   <g id=\"patch_6\">\n    <path d=\"M 30.103125 7.2 \nL 225.403125 7.2 \n\" style=\"fill: none; stroke: #000000; stroke-width: 0.8; stroke-linejoin: miter; stroke-linecap: square\"/>\n   </g>\n   <g id=\"legend_1\">\n    <g id=\"patch_7\">\n     <path d=\"M 37.103125 138.1 \nL 114.871875 138.1 \nQ 116.871875 138.1 116.871875 136.1 \nL 116.871875 93.065625 \nQ 116.871875 91.065625 114.871875 91.065625 \nL 37.103125 91.065625 \nQ 35.103125 91.065625 35.103125 93.065625 \nL 35.103125 136.1 \nQ 35.103125 138.1 37.103125 138.1 \nz\n\" style=\"fill: #ffffff; opacity: 0.8; stroke: #cccccc; stroke-linejoin: miter\"/>\n    </g>\n    <g id=\"line2d_20\">\n     <path d=\"M 39.103125 99.164062 \nL 49.103125 99.164062 \nL 59.103125 99.164062 \n\" style=\"fill: none; stroke: #1f77b4; stroke-width: 1.5; stroke-linecap: square\"/>\n    </g>\n    <g id=\"text_10\">\n     <!-- train loss -->\n     <g transform=\"translate(67.103125 102.664062)scale(0.1 -0.1)\">\n      <defs>\n       <path id=\"DejaVuSans-74\" d=\"M 1172 4494 \nL 1172 3500 \nL 2356 3500 \nL 2356 3053 \nL 1172 3053 \nL 1172 1153 \nQ 1172 725 1289 603 \nQ 1406 481 1766 481 \nL 2356 481 \nL 2356 0 \nL 1766 0 \nQ 1100 0 847 248 \nQ 594 497 594 1153 \nL 594 3053 \nL 172 3053 \nL 172 3500 \nL 594 3500 \nL 594 4494 \nL 1172 4494 \nz\n\" transform=\"scale(0.015625)\"/>\n       <path id=\"DejaVuSans-72\" d=\"M 2631 2963 \nQ 2534 3019 2420 3045 \nQ 2306 3072 2169 3072 \nQ 1681 3072 1420 2755 \nQ 1159 2438 1159 1844 \nL 1159 0 \nL 581 0 \nL 581 3500 \nL 1159 3500 \nL 1159 2956 \nQ 1341 3275 1631 3429 \nQ 1922 3584 2338 3584 \nQ 2397 3584 2469 3576 \nQ 2541 3569 2628 3553 \nL 2631 2963 \nz\n\" transform=\"scale(0.015625)\"/>\n       <path id=\"DejaVuSans-61\" d=\"M 2194 1759 \nQ 1497 1759 1228 1600 \nQ 959 1441 959 1056 \nQ 959 750 1161 570 \nQ 1363 391 1709 391 \nQ 2188 391 2477 730 \nQ 2766 1069 2766 1631 \nL 2766 1759 \nL 2194 1759 \nz\nM 3341 1997 \nL 3341 0 \nL 2766 0 \nL 2766 531 \nQ 2569 213 2275 61 \nQ 1981 -91 1556 -91 \nQ 1019 -91 701 211 \nQ 384 513 384 1019 \nQ 384 1609 779 1909 \nQ 1175 2209 1959 2209 \nL 2766 2209 \nL 2766 2266 \nQ 2766 2663 2505 2880 \nQ 2244 3097 1772 3097 \nQ 1472 3097 1187 3025 \nQ 903 2953 641 2809 \nL 641 3341 \nQ 956 3463 1253 3523 \nQ 1550 3584 1831 3584 \nQ 2591 3584 2966 3190 \nQ 3341 2797 3341 1997 \nz\n\" transform=\"scale(0.015625)\"/>\n       <path id=\"DejaVuSans-69\" d=\"M 603 3500 \nL 1178 3500 \nL 1178 0 \nL 603 0 \nL 603 3500 \nz\nM 603 4863 \nL 1178 4863 \nL 1178 4134 \nL 603 4134 \nL 603 4863 \nz\n\" transform=\"scale(0.015625)\"/>\n       <path id=\"DejaVuSans-6e\" d=\"M 3513 2113 \nL 3513 0 \nL 2938 0 \nL 2938 2094 \nQ 2938 2591 2744 2837 \nQ 2550 3084 2163 3084 \nQ 1697 3084 1428 2787 \nQ 1159 2491 1159 1978 \nL 1159 0 \nL 581 0 \nL 581 3500 \nL 1159 3500 \nL 1159 2956 \nQ 1366 3272 1645 3428 \nQ 1925 3584 2291 3584 \nQ 2894 3584 3203 3211 \nQ 3513 2838 3513 2113 \nz\n\" transform=\"scale(0.015625)\"/>\n       <path id=\"DejaVuSans-20\" transform=\"scale(0.015625)\"/>\n       <path id=\"DejaVuSans-6c\" d=\"M 603 4863 \nL 1178 4863 \nL 1178 0 \nL 603 0 \nL 603 4863 \nz\n\" transform=\"scale(0.015625)\"/>\n       <path id=\"DejaVuSans-73\" d=\"M 2834 3397 \nL 2834 2853 \nQ 2591 2978 2328 3040 \nQ 2066 3103 1784 3103 \nQ 1356 3103 1142 2972 \nQ 928 2841 928 2578 \nQ 928 2378 1081 2264 \nQ 1234 2150 1697 2047 \nL 1894 2003 \nQ 2506 1872 2764 1633 \nQ 3022 1394 3022 966 \nQ 3022 478 2636 193 \nQ 2250 -91 1575 -91 \nQ 1294 -91 989 -36 \nQ 684 19 347 128 \nL 347 722 \nQ 666 556 975 473 \nQ 1284 391 1588 391 \nQ 1994 391 2212 530 \nQ 2431 669 2431 922 \nQ 2431 1156 2273 1281 \nQ 2116 1406 1581 1522 \nL 1381 1569 \nQ 847 1681 609 1914 \nQ 372 2147 372 2553 \nQ 372 3047 722 3315 \nQ 1072 3584 1716 3584 \nQ 2034 3584 2315 3537 \nQ 2597 3491 2834 3397 \nz\n\" transform=\"scale(0.015625)\"/>\n      </defs>\n      <use xlink:href=\"#DejaVuSans-74\"/>\n      <use xlink:href=\"#DejaVuSans-72\" x=\"39.208984\"/>\n      <use xlink:href=\"#DejaVuSans-61\" x=\"80.322266\"/>\n      <use xlink:href=\"#DejaVuSans-69\" x=\"141.601562\"/>\n      <use xlink:href=\"#DejaVuSans-6e\" x=\"169.384766\"/>\n      <use xlink:href=\"#DejaVuSans-20\" x=\"232.763672\"/>\n      <use xlink:href=\"#DejaVuSans-6c\" x=\"264.550781\"/>\n      <use xlink:href=\"#DejaVuSans-6f\" x=\"292.333984\"/>\n      <use xlink:href=\"#DejaVuSans-73\" x=\"353.515625\"/>\n      <use xlink:href=\"#DejaVuSans-73\" x=\"405.615234\"/>\n     </g>\n    </g>\n    <g id=\"line2d_21\">\n     <path d=\"M 39.103125 113.842187 \nL 49.103125 113.842187 \nL 59.103125 113.842187 \n\" style=\"fill: none; stroke-dasharray: 5.55,2.4; stroke-dashoffset: 0; stroke: #bf00bf; stroke-width: 1.5\"/>\n    </g>\n    <g id=\"text_11\">\n     <!-- train acc -->\n     <g transform=\"translate(67.103125 117.342187)scale(0.1 -0.1)\">\n      <use xlink:href=\"#DejaVuSans-74\"/>\n      <use xlink:href=\"#DejaVuSans-72\" x=\"39.208984\"/>\n      <use xlink:href=\"#DejaVuSans-61\" x=\"80.322266\"/>\n      <use xlink:href=\"#DejaVuSans-69\" x=\"141.601562\"/>\n      <use xlink:href=\"#DejaVuSans-6e\" x=\"169.384766\"/>\n      <use xlink:href=\"#DejaVuSans-20\" x=\"232.763672\"/>\n      <use xlink:href=\"#DejaVuSans-61\" x=\"264.550781\"/>\n      <use xlink:href=\"#DejaVuSans-63\" x=\"325.830078\"/>\n      <use xlink:href=\"#DejaVuSans-63\" x=\"380.810547\"/>\n     </g>\n    </g>\n    <g id=\"line2d_22\">\n     <path d=\"M 39.103125 128.520312 \nL 49.103125 128.520312 \nL 59.103125 128.520312 \n\" style=\"fill: none; stroke-dasharray: 9.6,2.4,1.5,2.4; stroke-dashoffset: 0; stroke: #008000; stroke-width: 1.5\"/>\n    </g>\n    <g id=\"text_12\">\n     <!-- test acc -->\n     <g transform=\"translate(67.103125 132.020312)scale(0.1 -0.1)\">\n      <use xlink:href=\"#DejaVuSans-74\"/>\n      <use xlink:href=\"#DejaVuSans-65\" x=\"39.208984\"/>\n      <use xlink:href=\"#DejaVuSans-73\" x=\"100.732422\"/>\n      <use xlink:href=\"#DejaVuSans-74\" x=\"152.832031\"/>\n      <use xlink:href=\"#DejaVuSans-20\" x=\"192.041016\"/>\n      <use xlink:href=\"#DejaVuSans-61\" x=\"223.828125\"/>\n      <use xlink:href=\"#DejaVuSans-63\" x=\"285.107422\"/>\n      <use xlink:href=\"#DejaVuSans-63\" x=\"340.087891\"/>\n     </g>\n    </g>\n   </g>\n  </g>\n </g>\n <defs>\n  <clipPath id=\"pd924417b04\">\n   <rect x=\"30.103125\" y=\"7.2\" width=\"195.3\" height=\"135.9\"/>\n  </clipPath>\n </defs>\n</svg>\n"
          },
          "metadata": {
            "needs_background": "light"
          }
        }
      ]
    },
    {
      "cell_type": "code",
      "source": [
        "def predict_ch3(net, test_iter, n=6):\n",
        "  for X,y in test_iter:\n",
        "    break\n",
        "  trues = get_usps_labels(y)\n",
        "  preds = get_usps_labels(net(X).argmax(axis=1))\n",
        "  titles = [true + '\\n' + pred for true, pred in zip(trues, preds)]\n",
        "  d2l.show_images(\n",
        "      X[0:n].reshape((n, 16, 16)),1,n,titles=titles[0:n])\n",
        "  \n",
        "predict_ch3(net, test_iter)"
      ],
      "metadata": {
        "id": "A3sKCl86sDrB",
        "colab": {
          "base_uri": "https://localhost:8080/",
          "height": 235
        },
        "outputId": "bf6ce1c6-519a-4fb6-9a83-966c117bcd78"
      },
      "execution_count": null,
      "outputs": [
        {
          "output_type": "stream",
          "name": "stderr",
          "text": [
            "/usr/local/lib/python3.7/dist-packages/torch/utils/data/dataloader.py:560: UserWarning: This DataLoader will create 4 worker processes in total. Our suggested max number of worker in current system is 2, which is smaller than what this DataLoader is going to create. Please be aware that excessive worker creation might get DataLoader running slow or even freeze, lower the worker number to avoid potential slowness/freeze if necessary.\n",
            "  cpuset_checked))\n"
          ]
        },
        {
          "output_type": "display_data",
          "data": {
            "text/plain": [
              "<Figure size 648x108 with 6 Axes>"
            ],
            "image/svg+xml": "<?xml version=\"1.0\" encoding=\"utf-8\" standalone=\"no\"?>\n<!DOCTYPE svg PUBLIC \"-//W3C//DTD SVG 1.1//EN\"\n  \"http://www.w3.org/Graphics/SVG/1.1/DTD/svg11.dtd\">\n<svg xmlns:xlink=\"http://www.w3.org/1999/xlink\" width=\"520.1pt\" height=\"118.198357pt\" viewBox=\"0 0 520.1 118.198357\" xmlns=\"http://www.w3.org/2000/svg\" version=\"1.1\">\n <metadata>\n  <rdf:RDF xmlns:dc=\"http://purl.org/dc/elements/1.1/\" xmlns:cc=\"http://creativecommons.org/ns#\" xmlns:rdf=\"http://www.w3.org/1999/02/22-rdf-syntax-ns#\">\n   <cc:Work>\n    <dc:type rdf:resource=\"http://purl.org/dc/dcmitype/StillImage\"/>\n    <dc:date>2022-07-18T18:17:44.064167</dc:date>\n    <dc:format>image/svg+xml</dc:format>\n    <dc:creator>\n     <cc:Agent>\n      <dc:title>Matplotlib v3.5.1, https://matplotlib.org/</dc:title>\n     </cc:Agent>\n    </dc:creator>\n   </cc:Work>\n  </rdf:RDF>\n </metadata>\n <defs>\n  <style type=\"text/css\">*{stroke-linejoin: round; stroke-linecap: butt}</style>\n </defs>\n <g id=\"figure_1\">\n  <g id=\"patch_1\">\n   <path d=\"M 0 118.198357 \nL 520.1 118.198357 \nL 520.1 0 \nL 0 0 \nL 0 118.198357 \nz\n\" style=\"fill: none\"/>\n  </g>\n  <g id=\"axes_1\">\n   <g id=\"patch_2\">\n    <path d=\"M 10.7 107.498357 \nL 82.442857 107.498357 \nL 82.442857 35.7555 \nL 10.7 35.7555 \nz\n\" style=\"fill: #ffffff\"/>\n   </g>\n   <g clip-path=\"url(#pc1d2c634bf)\">\n    <image xlink:href=\"data:image/png;base64,\niVBORw0KGgoAAAANSUhEUgAAAEgAAABICAYAAABV7bNHAAAEaklEQVR4nO2c309TdxjGzzk9pRTa2tLS0lIo0wAKTre5H+xyGcnUZTGa3bgrk/0Bu9qFcX/Asv/BuyVLTPTCxJkYjDGOucQ4yTRO2BwgTAUtLZQDSM/p8fo5T7MXiePCvJ+7p3k4B558efN+v98XzFHzS9/YIay2NtCbI/vIM33cxg8aJnkGfnRA+7fv88sa3qt/g02wXstT3mA0IAENSEADErBly+vDjMdAVwZbyHN05HfQf9cy5NnIFEC3hkLk8bVI7wwakIAGJLCjNchoYE/qW9wElqLPQVtmgzy3Y0XQ0TD/GH59czvfIaErSEADEtCABDQggR0t0v7aGuhIlQtwpd4Oenf0GXmuF7AxTCbi5GkE3rVddAUJaEACGpDA9mqQyQ2eYVoB2cTjY6PYWuEN5UQVm8BT3ePkqe3Br/PTSX7XwuJ/vnur6AoS0IAENCABDUhgS0XajERAh7Kd5HHzKdD1GJ8WBtmM80ngYrkDdEuRC3nqrQo+Jxsjjz0VBr3d3b2uIAENSEADEqAaFKw3hmEY5t7doOc/SZHH+RA3h6UsbzI3XHzd4lKCPKXkCugee4k8o8Up0NdKH5MncycK2qtqDfpf0IAENCABDUjADu7MQ11ZMs19ikU5//kj8vQnsChHrDp5UmEs5G1FLpwHo7OgD0W44XR2TYA+P9ykSN/qAm2uOuTxXZc+C6IrSEADEtCABOzgSaCbS5LJeXcddLqVf5/HLr8HOvGQX7aWx3rnDL4gz+jQA9CduavkeTuMtyHvjPxFnkf3+vE55Sp53EW85m4216grSEADEtCABDQgATt4PbOZ4MasL49NYDTETWByEq9VOsb+IY8ZxlM+t9BBnjsHDoA+eaSPPD8dOgv6u+Il8nz1xdegWxx+TuIa/hxemU8OdAUJaEACGpAAnShaLl/ROnWsHbnICnlu5TDrtM0XJu7jp6DNBT51zD3GG5MFv5c8P+QPgz5T+Jk83x+8APqb2knyxGZw3tqoLJNHV5CABiSgAQloQAK27+EOtuUZ79SnJ7FwhgsPyLP+Pp4WOpPd5Glbw1MBb5mLvRco3Nmb7eSZ6BwC/e3hKHlO92LzWOouk8eNY6NqN5lp0hUkoAEJaEACNs3uzT0hU9d4EvTl/iHynNg3AfrcsQ/4OYlB0Mm7VfJYz3G0xVheJU/mj12g7+8tkGcstR/07CyP7AxWsW76DW6SdQUJaEACGpCABiRAW26vViNT8rd/QT9J95Dn5nG8xj31EQ+A/7oH54ym7hbJE38YaN7WuXDW+lAP9PJV+KX5YdDZG3y6YM3jsLmn1z6vjgYkoAEJmFv59zhm4HQw1MMb0YVRbNY2jvBG9LPSn6AjFo+frHo8IxnE9XG++t5SnjzVK/hZ8eJT8jSmsXY1G4fRFSSgAQloQAIakMCWijR9UZMrnVAOZxvXh3mHXR7Ga+2VAS6K8Tw2qul2/uvlmTncmWd+CZOncxxPJhszc+TxX/B8UhBdQQIakIAGJPAS4qwatcmju24AAAAASUVORK5CYII=\" id=\"image8a3ee7885f\" transform=\"scale(1 -1)translate(0 -72)\" x=\"10.7\" y=\"-35.498357\" width=\"72\" height=\"72\"/>\n   </g>\n   <g id=\"patch_3\">\n    <path d=\"M 10.7 107.498357 \nL 10.7 35.7555 \n\" style=\"fill: none; stroke: #000000; stroke-width: 0.8; stroke-linejoin: miter; stroke-linecap: square\"/>\n   </g>\n   <g id=\"patch_4\">\n    <path d=\"M 82.442857 107.498357 \nL 82.442857 35.7555 \n\" style=\"fill: none; stroke: #000000; stroke-width: 0.8; stroke-linejoin: miter; stroke-linecap: square\"/>\n   </g>\n   <g id=\"patch_5\">\n    <path d=\"M 10.7 107.498357 \nL 82.442857 107.498357 \n\" style=\"fill: none; stroke: #000000; stroke-width: 0.8; stroke-linejoin: miter; stroke-linecap: square\"/>\n   </g>\n   <g id=\"patch_6\">\n    <path d=\"M 10.7 35.7555 \nL 82.442857 35.7555 \n\" style=\"fill: none; stroke: #000000; stroke-width: 0.8; stroke-linejoin: miter; stroke-linecap: square\"/>\n   </g>\n   <g id=\"text_1\">\n    <!-- 9 -->\n    <g transform=\"translate(42.753929 16.318125)scale(0.12 -0.12)\">\n     <defs>\n      <path id=\"DejaVuSans-39\" d=\"M 703 97 \nL 703 672 \nQ 941 559 1184 500 \nQ 1428 441 1663 441 \nQ 2288 441 2617 861 \nQ 2947 1281 2994 2138 \nQ 2813 1869 2534 1725 \nQ 2256 1581 1919 1581 \nQ 1219 1581 811 2004 \nQ 403 2428 403 3163 \nQ 403 3881 828 4315 \nQ 1253 4750 1959 4750 \nQ 2769 4750 3195 4129 \nQ 3622 3509 3622 2328 \nQ 3622 1225 3098 567 \nQ 2575 -91 1691 -91 \nQ 1453 -91 1209 -44 \nQ 966 3 703 97 \nz\nM 1959 2075 \nQ 2384 2075 2632 2365 \nQ 2881 2656 2881 3163 \nQ 2881 3666 2632 3958 \nQ 2384 4250 1959 4250 \nQ 1534 4250 1286 3958 \nQ 1038 3666 1038 3163 \nQ 1038 2656 1286 2365 \nQ 1534 2075 1959 2075 \nz\n\" transform=\"scale(0.015625)\"/>\n     </defs>\n     <use xlink:href=\"#DejaVuSans-39\"/>\n    </g>\n    <!-- 9 -->\n    <g transform=\"translate(42.753929 29.7555)scale(0.12 -0.12)\">\n     <use xlink:href=\"#DejaVuSans-39\"/>\n    </g>\n   </g>\n  </g>\n  <g id=\"axes_2\">\n   <g id=\"patch_7\">\n    <path d=\"M 96.791429 107.498357 \nL 168.534286 107.498357 \nL 168.534286 35.7555 \nL 96.791429 35.7555 \nz\n\" style=\"fill: #ffffff\"/>\n   </g>\n   <g clip-path=\"url(#pdbb96309a1)\">\n    <image xlink:href=\"data:image/png;base64,\niVBORw0KGgoAAAANSUhEUgAAAEgAAABICAYAAABV7bNHAAAEl0lEQVR4nO2c309bZRzGT9vTAi0CHYzDWqCwDVxmrDXLFoLTGGFe7MJg4oVeGf8TL/0XvDReL854twsdYzLnnPtBNgKuYxQqLb/KoJQf7TnHW5/3OeZLiEZjvp+7582T08Ozt9993/c9p6Hx0Ee+9WdCIcskFIuBDsfj5LFsm8ckDg5oyDPHXJc8vuebA3xt3+exYxD+W67yP0YDEtCABDQgATsUxQIccU6Saf/VHtDb/THyNOJGcedab1lG3bRrXEibt7DgRne5SMcqWMgjK5vkcdfW8aMPDwPuRy7kOoMENCABDUjADp/NwEBxnGuQP1YBPZJ6Sp7WCDd9Ji2ROuh4mOvCRj0BOl/l+5lZSoFOPMiQp/u+A7pp7nfyuOtYu/w634/OIAENSEADEtCABOyVMSyCzkSBTNlkEfTDSi95yjutoD2Psx/uWgX9ReY6e6JYpG/u8XVuJ4dBPx08RZ6fsoOgk9OD5HFuGvf8nP92nUECGpCABiRgV0drMPBB1wKZvp66DDr9PV+op4yNom/zanXh9SHQX372Nnk+7ZwG/Xn+Y/IU5rAJjHbvkefy8DPQxXQHeYpxrKXp73hhrDNIQAMS0IAENCABO921BQNNoQaZ4ksR0G33uKFyV0o4EImQp3sPG7xvLubIc/4Srrp3Dnj3suMJ/rs23+ZjqDsXXgP95ug8eXavYOO6ueaQR2eQgAYkoAEJ2IvLXTjSw6ZaLzZQfluCPH7ROCFweXfOLuB3Pjl9mjzfDuRAf5h5TJ6v3hkBHf6hhTwnf8X7uR8dIs9bI7gzOjV6gjw6gwQ0IAENSEADErDbHmEjVslx03XmPDZv1bO8g5dYaALt1WrkcTfw+Mi5tU6ehTYs3NtXmskzce4R6IcO73A+n0mD9gOOws1jqNRpvh+dQQIakIAGJGB3zmJDN1U6Q6bx1Bzoa2/0kaf1ibHQCzghMI92g04R+q5jU1pZ5s712giOZXO8C/rJuz+CdqLb/FmxDdD3Sv3k0RkkoAEJaEACGpCA3TJXhoHVSS7AhQlchccvckP1crYbdHvlJXncDeN5nIAHyd38Iujk5hZ52n/D54MW5/k/lseXsFEc6l0lz3oNm+LGZCd5dAYJaEACGpCA7Zbwu5m6xbtqUwPnQL9/YYY8N8Y6QMdX+blB+y4uYL39fb4jDxtFs25ZlmWFtqugU0W+Z+cu7pTW2/nE4kQDn8mOLfFzjDqDBDQgAQ1IQAMSsM1mzZ5fItOpSTwyftDPO3jv5fAI5U4xS56BorETmX/Bd3SEF0zMXYFGqcym8hrIaJi3FM03FxsBby7qDBLQgAQ0IAF6VdkNWGR2/ILf8UKGTzXWru6A9rM75Nn7GReDzcsr5AlsHiWC6pZvHJcHvBh9FHQGCWhAAhqQgAYkwL8n4fHD1J6xyu29wcfT+TAeGe/38bOO9VewWWtJBPzExXGK9D+IziABDUhAAxI40m/amAva8GyePJldPEU4TLWTJ1bcAu1Vd4/y8f8qOoMENCABDUhAAxI4xg+P/cWK+9kLvPBiUA9qrLAb3Ez+19AZJKABCWhAAn8AF9hTOJcFXLUAAAAASUVORK5CYII=\" id=\"image2c4d04d120\" transform=\"scale(1 -1)translate(0 -72)\" x=\"96.791429\" y=\"-35.498357\" width=\"72\" height=\"72\"/>\n   </g>\n   <g id=\"patch_8\">\n    <path d=\"M 96.791429 107.498357 \nL 96.791429 35.7555 \n\" style=\"fill: none; stroke: #000000; stroke-width: 0.8; stroke-linejoin: miter; stroke-linecap: square\"/>\n   </g>\n   <g id=\"patch_9\">\n    <path d=\"M 168.534286 107.498357 \nL 168.534286 35.7555 \n\" style=\"fill: none; stroke: #000000; stroke-width: 0.8; stroke-linejoin: miter; stroke-linecap: square\"/>\n   </g>\n   <g id=\"patch_10\">\n    <path d=\"M 96.791429 107.498357 \nL 168.534286 107.498357 \n\" style=\"fill: none; stroke: #000000; stroke-width: 0.8; stroke-linejoin: miter; stroke-linecap: square\"/>\n   </g>\n   <g id=\"patch_11\">\n    <path d=\"M 96.791429 35.7555 \nL 168.534286 35.7555 \n\" style=\"fill: none; stroke: #000000; stroke-width: 0.8; stroke-linejoin: miter; stroke-linecap: square\"/>\n   </g>\n   <g id=\"text_2\">\n    <!-- 6 -->\n    <g transform=\"translate(128.845357 16.318125)scale(0.12 -0.12)\">\n     <defs>\n      <path id=\"DejaVuSans-36\" d=\"M 2113 2584 \nQ 1688 2584 1439 2293 \nQ 1191 2003 1191 1497 \nQ 1191 994 1439 701 \nQ 1688 409 2113 409 \nQ 2538 409 2786 701 \nQ 3034 994 3034 1497 \nQ 3034 2003 2786 2293 \nQ 2538 2584 2113 2584 \nz\nM 3366 4563 \nL 3366 3988 \nQ 3128 4100 2886 4159 \nQ 2644 4219 2406 4219 \nQ 1781 4219 1451 3797 \nQ 1122 3375 1075 2522 \nQ 1259 2794 1537 2939 \nQ 1816 3084 2150 3084 \nQ 2853 3084 3261 2657 \nQ 3669 2231 3669 1497 \nQ 3669 778 3244 343 \nQ 2819 -91 2113 -91 \nQ 1303 -91 875 529 \nQ 447 1150 447 2328 \nQ 447 3434 972 4092 \nQ 1497 4750 2381 4750 \nQ 2619 4750 2861 4703 \nQ 3103 4656 3366 4563 \nz\n\" transform=\"scale(0.015625)\"/>\n     </defs>\n     <use xlink:href=\"#DejaVuSans-36\"/>\n    </g>\n    <!-- 6 -->\n    <g transform=\"translate(128.845357 29.7555)scale(0.12 -0.12)\">\n     <use xlink:href=\"#DejaVuSans-36\"/>\n    </g>\n   </g>\n  </g>\n  <g id=\"axes_3\">\n   <g id=\"patch_12\">\n    <path d=\"M 182.882857 107.498357 \nL 254.625714 107.498357 \nL 254.625714 35.7555 \nL 182.882857 35.7555 \nz\n\" style=\"fill: #ffffff\"/>\n   </g>\n   <g clip-path=\"url(#p0721556a4a)\">\n    <image xlink:href=\"data:image/png;base64,\niVBORw0KGgoAAAANSUhEUgAAAEgAAABICAYAAABV7bNHAAAE0UlEQVR4nO2cS0xcVRzG59w7DwZmYJgyvKc8WoqosQ9aNaa1thJNjCaaaKJt4rI7V3bn1p2u3WnShXFJMIZoNWnE1lgMEC1qDVAqIO/XdBgYZubOdet3vkn+hfX/t/tOvnnw3cP//s89B8yAedsP/A+3vj5gkzvfA3rhkkOetqdWQJ86skCekPFAz+ykyDO90YCfvV5NnurZEOjkfY88sZkMaPNwkTxeNosDvk8e/kkVQAMS0IAENCCBYMBxYaB8rI1Mc29g8br67B3ydEXWQNc4++Sxi/Rz8RnyJNp2xfeZKTSCHt54hjyjY3hjSX9fS56a21Ogva0t8ugMEtCABDQggaBxDAyUwy67rP5pcIZ/5/cfxkGHspy97+AbFeq4MYt1YIN3OT1Fnpdq74P+NP01ee6mWkFfj79Dnt7ldhwYe0QenUECGpCABiSgAQkEfQ+bt9A/a2TqHMTm0SlWkSeytAna7HGDZ+NHIzRWTOLq/deWfvIMnzkH+uprP5LnWv0o6JPd/HQhk0yDjrh8g9IZJKABCWhAAkH7KZq3skqmqm1s3vxSiTxekcds7Ka0Eq7Ba1ZXEyVPJIML0S+7zpLnZP8c6OVcnDyx/TIO+GXy6AwS0IAENCABDUggaA9UKsCVxmycKmwenSbe0iknYqBNiYtioFDE18S4SGe6cNsnldgkz9DGaXzN3UbyJBeWQHsebx/pDBLQgAQ0IAGqQY+DifAiM9DbBXJ+gLewsyewvpgCXx83h2NejOtUQ9c66JDDnju3ngbdeTNHHn9xxRrQrecDowEJaEACGpDAoYq0E+UnipkTuLVrLvA27sd9N0GnQxvkKft4zRzDBXhk5wnQN769RJ7O4Txod/IBf9buLo3Z6AwS0IAENCCBQ9UgP887FvFZbMQ2J7hR/KzqIuh302PkGaj5C3RfmM8ouoE/QX/R9AJ58g1h/H6RMHkCO9YTTm0UD44GJKABCWhAAsY+SH5YnGospqatmTx73UnQm31cOHf690BfO3WbPO/VTYC+V2ggz4fjeB6o+QY3t9ERPGdUtg+WB3QGiWhAAhqQwOPVIGM1VKZCrva2bQWPCWFf6ia5mSwcbwG9eIF3NU6/jo3iJ+3fkOenPB7Z+WjwCnl6Psdtdm+KF7Q6gwQ0IAENSEADEqDVvAnyAt9tbgLtpRLs2cRD2N4ynzPyCwXQpeUV8gS3tkF3rLaT57fSk6C/en+OPG/Ffwcd7+Pt6WIjnhlypnm+6AwS0IAENCABKjhuwxEyrQ0cRf18hb8ynq4D3TqSII/7AP/y2N/dI48J49GWQIUjKdFV7G1HM53kOVuNTd9unhfGqUrHbyx0BgloQAIakIAGJBC0V+p+bYxM272oPzj/A3nmzuHTwqFjZ8iT+APfKLrORbJYjd8n18qHzwt9WNyvJHgVPrSFnx8c44PkwaV50CU9SH5wNCABDUiAF6tZPssXs9aC44+Okud6y3eg33xlnDz3L+LTwvUS1wX7vzPE3Dx51ov4upGNHvLc+/k46O5bvGNBC2rdej44GpCABiSgAQnQto8J8arX6ekE/e+rvNUbfhkPd7/YMk2eqFukMZv9Mt43/s42kWdysgN06he+zskJ64zk7Dx5yjm+IdnoDBLQgAQ0IIH/ANSWSKjxh/VbAAAAAElFTkSuQmCC\" id=\"image32e50da27e\" transform=\"scale(1 -1)translate(0 -72)\" x=\"182.882857\" y=\"-35.498357\" width=\"72\" height=\"72\"/>\n   </g>\n   <g id=\"patch_13\">\n    <path d=\"M 182.882857 107.498357 \nL 182.882857 35.7555 \n\" style=\"fill: none; stroke: #000000; stroke-width: 0.8; stroke-linejoin: miter; stroke-linecap: square\"/>\n   </g>\n   <g id=\"patch_14\">\n    <path d=\"M 254.625714 107.498357 \nL 254.625714 35.7555 \n\" style=\"fill: none; stroke: #000000; stroke-width: 0.8; stroke-linejoin: miter; stroke-linecap: square\"/>\n   </g>\n   <g id=\"patch_15\">\n    <path d=\"M 182.882857 107.498357 \nL 254.625714 107.498357 \n\" style=\"fill: none; stroke: #000000; stroke-width: 0.8; stroke-linejoin: miter; stroke-linecap: square\"/>\n   </g>\n   <g id=\"patch_16\">\n    <path d=\"M 182.882857 35.7555 \nL 254.625714 35.7555 \n\" style=\"fill: none; stroke: #000000; stroke-width: 0.8; stroke-linejoin: miter; stroke-linecap: square\"/>\n   </g>\n   <g id=\"text_3\">\n    <!-- 3 -->\n    <g transform=\"translate(214.936786 16.318125)scale(0.12 -0.12)\">\n     <defs>\n      <path id=\"DejaVuSans-33\" d=\"M 2597 2516 \nQ 3050 2419 3304 2112 \nQ 3559 1806 3559 1356 \nQ 3559 666 3084 287 \nQ 2609 -91 1734 -91 \nQ 1441 -91 1130 -33 \nQ 819 25 488 141 \nL 488 750 \nQ 750 597 1062 519 \nQ 1375 441 1716 441 \nQ 2309 441 2620 675 \nQ 2931 909 2931 1356 \nQ 2931 1769 2642 2001 \nQ 2353 2234 1838 2234 \nL 1294 2234 \nL 1294 2753 \nL 1863 2753 \nQ 2328 2753 2575 2939 \nQ 2822 3125 2822 3475 \nQ 2822 3834 2567 4026 \nQ 2313 4219 1838 4219 \nQ 1578 4219 1281 4162 \nQ 984 4106 628 3988 \nL 628 4550 \nQ 988 4650 1302 4700 \nQ 1616 4750 1894 4750 \nQ 2613 4750 3031 4423 \nQ 3450 4097 3450 3541 \nQ 3450 3153 3228 2886 \nQ 3006 2619 2597 2516 \nz\n\" transform=\"scale(0.015625)\"/>\n     </defs>\n     <use xlink:href=\"#DejaVuSans-33\"/>\n    </g>\n    <!-- 3 -->\n    <g transform=\"translate(214.936786 29.7555)scale(0.12 -0.12)\">\n     <use xlink:href=\"#DejaVuSans-33\"/>\n    </g>\n   </g>\n  </g>\n  <g id=\"axes_4\">\n   <g id=\"patch_17\">\n    <path d=\"M 268.974286 107.498357 \nL 340.717143 107.498357 \nL 340.717143 35.7555 \nL 268.974286 35.7555 \nz\n\" style=\"fill: #ffffff\"/>\n   </g>\n   <g clip-path=\"url(#p91b17c0af7)\">\n    <image xlink:href=\"data:image/png;base64,\niVBORw0KGgoAAAANSUhEUgAAAEgAAABICAYAAABV7bNHAAAEe0lEQVR4nO2c22tcVRTGzz7nzC3NbRKbq20MoSbtGG0walTEIlZfSltNlVClT6JVELy8qdD/wBcV7IviQymICEoVjVi1rViiBKRYLaFtakliTNLONJPpXM/x1W9/B1ZSglJYv7e1+WbP8M1mzVp77zPmUbMvdNaKMWt+yboSrv0j3yjuf/ZONylqkIAaJKAGCfj2gInFSeQ21qOmoZ40YTyGmmqNNYkYjZHG83CeSpU05loeX3P9OmmC/ApqqjzPatAVJKAGCahBAr6XTsNAJdNDooVMCuL8Jp6oWo/Fm1vmYrJWF+BARL0XxlFjSvwdpubaIN4wxxM1T2Fe8s9d5s9zJYsDAedNXUECapCAGiSgBgn4+Ye3wMBfY0USHRr6GOK+2N+kKYZYBGaDOtYEqCmHHmkavaKosec5X2onzdGzwxC3HNtCmtZTMxDXZuZIoytIQA0SUIME/JnRCgx8PnKYRDGDxdu7CztI8+NcL8T5QpI05Tw2wsbjAq+r4yrE9fESaWwGmuZp7ODgSYg/TW8nzWwzVrxdx3huXUECapCAGiSgBgn4B4dOwECd4Y72kW9egbjray7eWmcxmW4s8zymUoA4u62RNIUxLAJrIe8KFMaxMFzKbibNZ/fjDuLLD3xLmvHRrRDn5m8lja4gATVIQA0S8PsT2KCdKbeRqPU05oWm4+dIU7uagzjycNg6sUh03kWS3lZshPdunCTNm+37IW6b5AY7bhWlRzqHSfPa7ZiXDt33NGl0BQmoQQJqkIAaJODPVvDYZyDBu2qlZizWTCziCDm0j3Q4Tdsj8VyZNH8s4Y/Ejs2zpHl+1zjE7yd3kqbhAn73ucUG0vRl8Adh4J5p0ugKElCDBNQgAf+jSyMwcHjrEVY9mIVw5TduDlOnsBENlpd5HitPxS4tsOSr2yB+rmmUNC91fwfxe7s+JM1kAefxrF1Rx3GckSQWrnen/ySNriABNUhADRJQgwRM5vW3oX7bfeAkiYY3XIT41RNjpOn5BIvJup8vkMa+j2Nc3i30ujshXh7qJM38MCbX/ocukuaF7u8h7vCukSYb4L2nFyeeJY2uIAE1SEANEjCPDb4FOWh6XwuJnnnyOMR3prigeuPMExAnv+QTi1t+xfvN7hTPU7PuQLvJBGncDmxolwd5F3Qpg1fAS2lunmN5zIHtExXS6AoSUIME1CABNUjA7Izvh+xltvWRaHoP7jo+vmeCNE+lceyL3HbSHP0Jdw76PyiQJpz8HQciLnfbTzy6qRRJ3HQzzpviZG8/KBMsXuF5+N2Vf6MGCahBAn5YsU4Wzp4nUW8RdxB/WLyXNL/sRs2BntOkadmUhbga8WAeX6yJwDoxCQqcy2hsNU9qR5zE6AoSUIME1CABNUiAnnqmpO04Tm0Kd+y6cnykszKNSfqdO/bym2Gj7sQv8zF3zT7CXi9u8O8sdAUJqEECapCAWa+/x7EbRrtZjCJY4uYwKPJ9w/8TXUECapCAGiSgBglQobgqIoouu3uO6rBvRnQFCahBAmqQwD/MITKXvwgUWAAAAABJRU5ErkJggg==\" id=\"imageeffa0344d7\" transform=\"scale(1 -1)translate(0 -72)\" x=\"268.974286\" y=\"-35.498357\" width=\"72\" height=\"72\"/>\n   </g>\n   <g id=\"patch_18\">\n    <path d=\"M 268.974286 107.498357 \nL 268.974286 35.7555 \n\" style=\"fill: none; stroke: #000000; stroke-width: 0.8; stroke-linejoin: miter; stroke-linecap: square\"/>\n   </g>\n   <g id=\"patch_19\">\n    <path d=\"M 340.717143 107.498357 \nL 340.717143 35.7555 \n\" style=\"fill: none; stroke: #000000; stroke-width: 0.8; stroke-linejoin: miter; stroke-linecap: square\"/>\n   </g>\n   <g id=\"patch_20\">\n    <path d=\"M 268.974286 107.498357 \nL 340.717143 107.498357 \n\" style=\"fill: none; stroke: #000000; stroke-width: 0.8; stroke-linejoin: miter; stroke-linecap: square\"/>\n   </g>\n   <g id=\"patch_21\">\n    <path d=\"M 268.974286 35.7555 \nL 340.717143 35.7555 \n\" style=\"fill: none; stroke: #000000; stroke-width: 0.8; stroke-linejoin: miter; stroke-linecap: square\"/>\n   </g>\n   <g id=\"text_4\">\n    <!-- 6 -->\n    <g transform=\"translate(301.028214 16.318125)scale(0.12 -0.12)\">\n     <use xlink:href=\"#DejaVuSans-36\"/>\n    </g>\n    <!-- 2 -->\n    <g transform=\"translate(301.028214 29.7555)scale(0.12 -0.12)\">\n     <defs>\n      <path id=\"DejaVuSans-32\" d=\"M 1228 531 \nL 3431 531 \nL 3431 0 \nL 469 0 \nL 469 531 \nQ 828 903 1448 1529 \nQ 2069 2156 2228 2338 \nQ 2531 2678 2651 2914 \nQ 2772 3150 2772 3378 \nQ 2772 3750 2511 3984 \nQ 2250 4219 1831 4219 \nQ 1534 4219 1204 4116 \nQ 875 4013 500 3803 \nL 500 4441 \nQ 881 4594 1212 4672 \nQ 1544 4750 1819 4750 \nQ 2544 4750 2975 4387 \nQ 3406 4025 3406 3419 \nQ 3406 3131 3298 2873 \nQ 3191 2616 2906 2266 \nQ 2828 2175 2409 1742 \nQ 1991 1309 1228 531 \nz\n\" transform=\"scale(0.015625)\"/>\n     </defs>\n     <use xlink:href=\"#DejaVuSans-32\"/>\n    </g>\n   </g>\n  </g>\n  <g id=\"axes_5\">\n   <g id=\"patch_22\">\n    <path d=\"M 355.065714 107.498357 \nL 426.808571 107.498357 \nL 426.808571 35.7555 \nL 355.065714 35.7555 \nz\n\" style=\"fill: #ffffff\"/>\n   </g>\n   <g clip-path=\"url(#p8273b8cbab)\">\n    <image xlink:href=\"data:image/png;base64,\niVBORw0KGgoAAAANSUhEUgAAAEgAAABICAYAAABV7bNHAAAE6UlEQVR4nO2cS0xcVRzGz525MMOjQKHMDK/pAE1rg6HSgBBjRYst1kRCky6bmOjOuHHl1rhwZdw2LoymG42Jj9TGKNHWB0pTLdJSSi0tHR4D5f0eoMzc69bvftf8CXH5/+2+k2/OzHxz8s953bE6j7ztmn+x0BYxXhYbUAdr18nTWDkFOhJijx3IUpuXqc1i0P3jNeTJvZMPunSY+y0anAftTk6Tx9ncxAbXJU/gPz+pYozRgEQ0IAENSMBOnYlCQ83Zh2R6PXoTdK6VETsut1eprT28DLowECbPtS0suJcLnyLPdB0W8qFnYuRJ9uH3qvqliDw5N0dBZ1f4M+sIEtCABDQgAdt9YQka3qrpIdM3y02gLw01ckeTIdCZYoc873R8AfpkfpI876e6Qff3HyKPW4A18Gj9FHninX+D/jPG/RzMOww679o98ugIEtCABDQgAQ1IwG6tGIeGuQxPqC5faQFd9+02eXJTs6A3jpSR58P650AnDs+T57Fjgy6Y5N+w+GEQdKoqQZ7AyUXQHc23yfNDELcp6rfruR9qUQANSEADErBDAZx0bTghMoUWLdSjc+TJTs2ALnB4opj8tQL0l+XN5Dlf0Qf6o5ds8oz1xkEXTvBO4PpAKeiZ55fJ80rzX6B7ZlrIoyNIQAMS0IAENCABezy9HxpOlwySKR3HQu6UFJLHncAVtd8xS7wHX/ddiItish0nmJ3RO+RZ6cZdzxtLcfI8mDsA2rb4aKjT811/O15LHh1BAhqQgAYkYA+OVENDOsYTxcQhnASm41Hy5I/g6+hY1xgTGHoAum69ijwzw1gHLjTVkae6Cevdqehd8pyN4iSwKmeJPGFrB/TjDE9KdQQJaEACGpCABiRgNb75ASyF21+7TqZEGHf+Lnx9hjz1F3GFnx3hI2zjeCZrgSBZgkWeSWgF31daewJX6vPHuB/TsAYyVsLHyqkFPMLed7WAPDqCBDQgAQ1IwC4fSEOD37Hye61fgW44cZ88qbt4tFu2wBOz7AKeNFBNMsZkl1ewYZXvOhaO40SxaOAAeXZiJdhvHntq0zhRtCfGyKMjSEADEtCABDQgAdu+jwWv9Gc+fv3s4NOguz0rZWOMebcDd/XyZ3l3Lq8Pi2J2bY08dJnbp5A7Gxuok2nyWGOToHMCFnlcB98r4/JRlY4gAQ1IQAMSsB3P5C3yezGZ7lViXbretUKeV5vwyPiT9LPkqXXxTmD4xih5skuevn1qEOHzEIpx8XU+5WVX6AgS0IAENCABDUjAetE6BxUuEOYHTNwncaWe7NpHnhOdt0BXeh5cMcaYi/1toCu+zyHP/t4J0JmpR+TZVeH+n9ARJKABCWhAAnTW6mxtkSlwG3cQEy4vaHudY6CbTg2T542Wn0B/WsZ3FGfzcdEb+ZF/w2wKr9a4GfkBv72iI0hAAxLQgAQ0IAG+EOODt3B77/kYY0wii/d4BjeOkme8A+9Dnq/7gzyfnzsOejq3mjyxK7n4+Ty7h8YY427zAzd7QUeQgAYkoAEJ7KoGefGbTFrDWJdq1ivJMzeP/5DwcVcbeU7H8b7h1Zf5asvcNl6JifgcT2cezVDbXtARJKABCWhAAhqQwJ6KtB/eiZmTnCBPZBM9qyv8/2SXWltBZ8p2yFPm/VmDPncULc9Rs9/R0C7QESSgAQloQAL/AOVPYLH7PsY6AAAAAElFTkSuQmCC\" id=\"imaged8952873b4\" transform=\"scale(1 -1)translate(0 -72)\" x=\"355.065714\" y=\"-35.498357\" width=\"72\" height=\"72\"/>\n   </g>\n   <g id=\"patch_23\">\n    <path d=\"M 355.065714 107.498357 \nL 355.065714 35.7555 \n\" style=\"fill: none; stroke: #000000; stroke-width: 0.8; stroke-linejoin: miter; stroke-linecap: square\"/>\n   </g>\n   <g id=\"patch_24\">\n    <path d=\"M 426.808571 107.498357 \nL 426.808571 35.7555 \n\" style=\"fill: none; stroke: #000000; stroke-width: 0.8; stroke-linejoin: miter; stroke-linecap: square\"/>\n   </g>\n   <g id=\"patch_25\">\n    <path d=\"M 355.065714 107.498357 \nL 426.808571 107.498357 \n\" style=\"fill: none; stroke: #000000; stroke-width: 0.8; stroke-linejoin: miter; stroke-linecap: square\"/>\n   </g>\n   <g id=\"patch_26\">\n    <path d=\"M 355.065714 35.7555 \nL 426.808571 35.7555 \n\" style=\"fill: none; stroke: #000000; stroke-width: 0.8; stroke-linejoin: miter; stroke-linecap: square\"/>\n   </g>\n   <g id=\"text_5\">\n    <!-- 6 -->\n    <g transform=\"translate(387.119643 16.318125)scale(0.12 -0.12)\">\n     <use xlink:href=\"#DejaVuSans-36\"/>\n    </g>\n    <!-- 6 -->\n    <g transform=\"translate(387.119643 29.7555)scale(0.12 -0.12)\">\n     <use xlink:href=\"#DejaVuSans-36\"/>\n    </g>\n   </g>\n  </g>\n  <g id=\"axes_6\">\n   <g id=\"patch_27\">\n    <path d=\"M 441.157143 107.498357 \nL 512.9 107.498357 \nL 512.9 35.7555 \nL 441.157143 35.7555 \nz\n\" style=\"fill: #ffffff\"/>\n   </g>\n   <g clip-path=\"url(#p1d4ec85267)\">\n    <image xlink:href=\"data:image/png;base64,\niVBORw0KGgoAAAANSUhEUgAAAEgAAABICAYAAABV7bNHAAAE7klEQVR4nO2cS0xcdRjF5965DDBAB4bHlGenD2qRQqWiaNQSsXFDky5qUzW6IGLiQpe6MyYu3LrSRBPjyqi7Ek3TalmIqOFVraW0CY+hAvIWGOjQGe7D9bnnJh/t+vvtzj9nHjnzzzff/zFjnDVe8UICZjQK2qivIc/mExWgV9oN8kQbN0GfqZ0hjxvCx/22cJg86cUS0CVTFnnid/ZAF91cII+9uOx7cYc8Jo0ogAYkoAEJaEACVN3MkhIyOa1HQf/zcpQ8R87Mgv6gboA8LZEl0EmLnyds4Ge2mLhOnlUX3/bIbpI8n012gr5/+RB5qn7G17IXFsmjM0hAAxLQgAQsIz8fBtxmbsymLxaAfqurnzyno7OgJx7UkuenzZOgd5088hSFc6DrC/4jT3sUG8xLJbPk6To1Bbo3+jp51nN1oONXd8mjM0hAAxLQgAQ0IAErXFEOA/PPFpPpUucg6M7iO+R5b/w10E5/OXli92zQZpY3EtwIruaHysPk+aoRdevzk+T5pKEP9PvJa+R5t60HdHwsTh6dQQIakIAGJGC5FTEYSDftkelC6Sjo3zON5HGvY82p65sjj7O04hvgHbxQGGtOcWEBWSqrq0BPzx0nz8dvdIPuTfDi2UtkQbtF+eTRGSSgAQloQAIakIDlRXB3LlzMRTpu5mjMTySNTZ+3sUUeL5ulMcLGZtIJeIxxH1fdFeVF5LnxL67U05Vc7PMi+FqexfNFZ5CABiSgAQlY5lYGBoz5KjLN2NhMJvI2ybNbiYtMo4hPLELb26g98dQ7EM/XYJq2Sx7bxs8+43ITuJfD+mvYXH91BgloQAIakIAGJGCFllZhIH6Li/TVs62gL5YNk2enCZtJu76SPMYaHuF4e3IDGoRh4heCXcj3gw6WbYCOh3f4ifbxHaEzSEADEtCABCw3g41ibDpDpiupx0G/Gf+DPOdP/QV6sPUp8lSlsOF01tb4He2jeTQsrDm5GNeg5IF10BGDdy/dXV+jmNOj54dGAxLQgAQ0IAHLvzLOm1snkzHcAPqXE4+Rx9889nW0kSc+gRfQzXSaPLTraPCFdLMUi/12HRfp5mK8b5jz+AjbzOCYEbAroDNIQAMS0IAELH9j5q5y85YYTYD+8pnnyPNd213Qb3fwUe83qZdAH1qrI4+bwiNrI8L3GLNNeP9x80k++ThZiM/z/VoHecrGffVtdYM8OoMENCABDUhAAxKgDssNOOotmMJ7Pd5QPXmuNOIl8Z7SMfL83Y3FdWqFG86EjY3rXiJGntnuCOh32vli+2T2IOiBgRbyHBvGouxuaJF+aDQgAQ1IgFd5ATt67jKefNT8ynegPz/aBfp01yx5Pqr9EfSr5xLkWTaqQaf5tzWhcy+OgI4GXM/5dNTXlPbzsXIohb+E9nxXb0IhnUEiGpCABiSgAQkY+/lrCj/hUm7etrtOgM70cNP1bevXoO/m+Hj6w9vnQccKH5CntACPZ27/mSRP/TVsOKMj/DcYzrrv14wBX1A6gwQ0IAENSIAbxX3gbPFpxIEh3MHbqU6S54uaF0D3lg+Sp6UKTyOGBpvIk7uJteL4ON/JDs3Mg3R2gq6/yOVXZ5CABiSgAQloQAKPVKSDipuzgsdFiWFe8V8+9jToseYG8szfwp3Awz9wo5g3cQ+0G/ClEbQyfxR0BgloQAIakMD/w0FeKNcopi0AAAAASUVORK5CYII=\" id=\"imagedc49de68af\" transform=\"scale(1 -1)translate(0 -72)\" x=\"441.157143\" y=\"-35.498357\" width=\"72\" height=\"72\"/>\n   </g>\n   <g id=\"patch_28\">\n    <path d=\"M 441.157143 107.498357 \nL 441.157143 35.7555 \n\" style=\"fill: none; stroke: #000000; stroke-width: 0.8; stroke-linejoin: miter; stroke-linecap: square\"/>\n   </g>\n   <g id=\"patch_29\">\n    <path d=\"M 512.9 107.498357 \nL 512.9 35.7555 \n\" style=\"fill: none; stroke: #000000; stroke-width: 0.8; stroke-linejoin: miter; stroke-linecap: square\"/>\n   </g>\n   <g id=\"patch_30\">\n    <path d=\"M 441.157143 107.498357 \nL 512.9 107.498357 \n\" style=\"fill: none; stroke: #000000; stroke-width: 0.8; stroke-linejoin: miter; stroke-linecap: square\"/>\n   </g>\n   <g id=\"patch_31\">\n    <path d=\"M 441.157143 35.7555 \nL 512.9 35.7555 \n\" style=\"fill: none; stroke: #000000; stroke-width: 0.8; stroke-linejoin: miter; stroke-linecap: square\"/>\n   </g>\n   <g id=\"text_6\">\n    <!-- 0 -->\n    <g transform=\"translate(473.211071 16.318125)scale(0.12 -0.12)\">\n     <defs>\n      <path id=\"DejaVuSans-30\" d=\"M 2034 4250 \nQ 1547 4250 1301 3770 \nQ 1056 3291 1056 2328 \nQ 1056 1369 1301 889 \nQ 1547 409 2034 409 \nQ 2525 409 2770 889 \nQ 3016 1369 3016 2328 \nQ 3016 3291 2770 3770 \nQ 2525 4250 2034 4250 \nz\nM 2034 4750 \nQ 2819 4750 3233 4129 \nQ 3647 3509 3647 2328 \nQ 3647 1150 3233 529 \nQ 2819 -91 2034 -91 \nQ 1250 -91 836 529 \nQ 422 1150 422 2328 \nQ 422 3509 836 4129 \nQ 1250 4750 2034 4750 \nz\n\" transform=\"scale(0.015625)\"/>\n     </defs>\n     <use xlink:href=\"#DejaVuSans-30\"/>\n    </g>\n    <!-- 0 -->\n    <g transform=\"translate(473.211071 29.7555)scale(0.12 -0.12)\">\n     <use xlink:href=\"#DejaVuSans-30\"/>\n    </g>\n   </g>\n  </g>\n </g>\n <defs>\n  <clipPath id=\"pc1d2c634bf\">\n   <rect x=\"10.7\" y=\"35.7555\" width=\"71.742857\" height=\"71.742857\"/>\n  </clipPath>\n  <clipPath id=\"pdbb96309a1\">\n   <rect x=\"96.791429\" y=\"35.7555\" width=\"71.742857\" height=\"71.742857\"/>\n  </clipPath>\n  <clipPath id=\"p0721556a4a\">\n   <rect x=\"182.882857\" y=\"35.7555\" width=\"71.742857\" height=\"71.742857\"/>\n  </clipPath>\n  <clipPath id=\"p91b17c0af7\">\n   <rect x=\"268.974286\" y=\"35.7555\" width=\"71.742857\" height=\"71.742857\"/>\n  </clipPath>\n  <clipPath id=\"p8273b8cbab\">\n   <rect x=\"355.065714\" y=\"35.7555\" width=\"71.742857\" height=\"71.742857\"/>\n  </clipPath>\n  <clipPath id=\"p1d4ec85267\">\n   <rect x=\"441.157143\" y=\"35.7555\" width=\"71.742857\" height=\"71.742857\"/>\n  </clipPath>\n </defs>\n</svg>\n"
          },
          "metadata": {
            "needs_background": "light"
          }
        }
      ]
    },
    {
      "cell_type": "markdown",
      "source": [
        "#Concise Implementation of Softmax Regression"
      ],
      "metadata": {
        "id": "CpTSwYpfeyi7"
      }
    },
    {
      "cell_type": "code",
      "source": [
        "import torch\n",
        "from torch import nn\n",
        "from d2l import torch as d2l"
      ],
      "metadata": {
        "id": "xWy-EQ00e60Q"
      },
      "execution_count": null,
      "outputs": []
    },
    {
      "cell_type": "code",
      "source": [
        "batch_size = 400 \n",
        "train_iter, test_iter = load_data_usps(batch_size)"
      ],
      "metadata": {
        "colab": {
          "base_uri": "https://localhost:8080/"
        },
        "id": "uLiLNAdvgKDP",
        "outputId": "b439e595-5c3c-483d-dbb0-e56c1129d40f"
      },
      "execution_count": null,
      "outputs": [
        {
          "output_type": "stream",
          "name": "stderr",
          "text": [
            "/usr/local/lib/python3.7/dist-packages/torch/utils/data/dataloader.py:560: UserWarning: This DataLoader will create 4 worker processes in total. Our suggested max number of worker in current system is 2, which is smaller than what this DataLoader is going to create. Please be aware that excessive worker creation might get DataLoader running slow or even freeze, lower the worker number to avoid potential slowness/freeze if necessary.\n",
            "  cpuset_checked))\n"
          ]
        }
      ]
    },
    {
      "cell_type": "code",
      "source": [
        "net = nn.Sequential(nn.Flatten(), nn.Linear(256, 10))\n",
        "\n",
        "def init_weights(m):\n",
        "  if type(m) == nn.Linear:\n",
        "    nn.init.normal_(m.weight, std = 0.01)\n",
        "\n",
        "net.apply(init_weights)"
      ],
      "metadata": {
        "colab": {
          "base_uri": "https://localhost:8080/"
        },
        "id": "LK65QMxDgXVJ",
        "outputId": "778852d1-254f-48bc-e042-b12451dea1ef"
      },
      "execution_count": null,
      "outputs": [
        {
          "output_type": "execute_result",
          "data": {
            "text/plain": [
              "Sequential(\n",
              "  (0): Flatten(start_dim=1, end_dim=-1)\n",
              "  (1): Linear(in_features=256, out_features=10, bias=True)\n",
              ")"
            ]
          },
          "metadata": {},
          "execution_count": 26
        }
      ]
    },
    {
      "cell_type": "code",
      "source": [
        "loss = nn.CrossEntropyLoss(reduction='none')"
      ],
      "metadata": {
        "id": "4KP76pDcgq5S"
      },
      "execution_count": null,
      "outputs": []
    },
    {
      "cell_type": "code",
      "source": [
        "trainer = torch.optim.SGD(net.parameters(), lr=0.3)"
      ],
      "metadata": {
        "id": "4q2NlFgYgs0U"
      },
      "execution_count": null,
      "outputs": []
    },
    {
      "cell_type": "code",
      "source": [
        "num_epochs = 5\n",
        "d2l.train_ch3(net, train_iter, test_iter, loss, num_epochs, trainer)"
      ],
      "metadata": {
        "colab": {
          "base_uri": "https://localhost:8080/",
          "height": 261
        },
        "id": "X-Tur16gg40d",
        "outputId": "fbdf5636-1f51-44aa-c5d2-6e7614d24457"
      },
      "execution_count": null,
      "outputs": [
        {
          "output_type": "display_data",
          "data": {
            "text/plain": [
              "<Figure size 252x180 with 1 Axes>"
            ],
            "image/svg+xml": "<?xml version=\"1.0\" encoding=\"utf-8\" standalone=\"no\"?>\n<!DOCTYPE svg PUBLIC \"-//W3C//DTD SVG 1.1//EN\"\n  \"http://www.w3.org/Graphics/SVG/1.1/DTD/svg11.dtd\">\n<svg xmlns:xlink=\"http://www.w3.org/1999/xlink\" width=\"235.784375pt\" height=\"180.65625pt\" viewBox=\"0 0 235.784375 180.65625\" xmlns=\"http://www.w3.org/2000/svg\" version=\"1.1\">\n <metadata>\n  <rdf:RDF xmlns:dc=\"http://purl.org/dc/elements/1.1/\" xmlns:cc=\"http://creativecommons.org/ns#\" xmlns:rdf=\"http://www.w3.org/1999/02/22-rdf-syntax-ns#\">\n   <cc:Work>\n    <dc:type rdf:resource=\"http://purl.org/dc/dcmitype/StillImage\"/>\n    <dc:date>2022-07-18T18:18:18.210417</dc:date>\n    <dc:format>image/svg+xml</dc:format>\n    <dc:creator>\n     <cc:Agent>\n      <dc:title>Matplotlib v3.5.1, https://matplotlib.org/</dc:title>\n     </cc:Agent>\n    </dc:creator>\n   </cc:Work>\n  </rdf:RDF>\n </metadata>\n <defs>\n  <style type=\"text/css\">*{stroke-linejoin: round; stroke-linecap: butt}</style>\n </defs>\n <g id=\"figure_1\">\n  <g id=\"patch_1\">\n   <path d=\"M 0 180.65625 \nL 235.784375 180.65625 \nL 235.784375 0 \nL 0 0 \nL 0 180.65625 \nz\n\" style=\"fill: none\"/>\n  </g>\n  <g id=\"axes_1\">\n   <g id=\"patch_2\">\n    <path d=\"M 30.103125 143.1 \nL 225.403125 143.1 \nL 225.403125 7.2 \nL 30.103125 7.2 \nz\n\" style=\"fill: #ffffff\"/>\n   </g>\n   <g id=\"matplotlib.axis_1\">\n    <g id=\"xtick_1\">\n     <g id=\"line2d_1\">\n      <path d=\"M 30.103125 143.1 \nL 30.103125 7.2 \n\" clip-path=\"url(#pf7481d9cdf)\" style=\"fill: none; stroke: #b0b0b0; stroke-width: 0.8; stroke-linecap: square\"/>\n     </g>\n     <g id=\"line2d_2\">\n      <defs>\n       <path id=\"mcff699e194\" d=\"M 0 0 \nL 0 3.5 \n\" style=\"stroke: #000000; stroke-width: 0.8\"/>\n      </defs>\n      <g>\n       <use xlink:href=\"#mcff699e194\" x=\"30.103125\" y=\"143.1\" style=\"stroke: #000000; stroke-width: 0.8\"/>\n      </g>\n     </g>\n     <g id=\"text_1\">\n      <!-- 1 -->\n      <g transform=\"translate(26.921875 157.698438)scale(0.1 -0.1)\">\n       <defs>\n        <path id=\"DejaVuSans-31\" d=\"M 794 531 \nL 1825 531 \nL 1825 4091 \nL 703 3866 \nL 703 4441 \nL 1819 4666 \nL 2450 4666 \nL 2450 531 \nL 3481 531 \nL 3481 0 \nL 794 0 \nL 794 531 \nz\n\" transform=\"scale(0.015625)\"/>\n       </defs>\n       <use xlink:href=\"#DejaVuSans-31\"/>\n      </g>\n     </g>\n    </g>\n    <g id=\"xtick_2\">\n     <g id=\"line2d_3\">\n      <path d=\"M 78.928125 143.1 \nL 78.928125 7.2 \n\" clip-path=\"url(#pf7481d9cdf)\" style=\"fill: none; stroke: #b0b0b0; stroke-width: 0.8; stroke-linecap: square\"/>\n     </g>\n     <g id=\"line2d_4\">\n      <g>\n       <use xlink:href=\"#mcff699e194\" x=\"78.928125\" y=\"143.1\" style=\"stroke: #000000; stroke-width: 0.8\"/>\n      </g>\n     </g>\n     <g id=\"text_2\">\n      <!-- 2 -->\n      <g transform=\"translate(75.746875 157.698438)scale(0.1 -0.1)\">\n       <defs>\n        <path id=\"DejaVuSans-32\" d=\"M 1228 531 \nL 3431 531 \nL 3431 0 \nL 469 0 \nL 469 531 \nQ 828 903 1448 1529 \nQ 2069 2156 2228 2338 \nQ 2531 2678 2651 2914 \nQ 2772 3150 2772 3378 \nQ 2772 3750 2511 3984 \nQ 2250 4219 1831 4219 \nQ 1534 4219 1204 4116 \nQ 875 4013 500 3803 \nL 500 4441 \nQ 881 4594 1212 4672 \nQ 1544 4750 1819 4750 \nQ 2544 4750 2975 4387 \nQ 3406 4025 3406 3419 \nQ 3406 3131 3298 2873 \nQ 3191 2616 2906 2266 \nQ 2828 2175 2409 1742 \nQ 1991 1309 1228 531 \nz\n\" transform=\"scale(0.015625)\"/>\n       </defs>\n       <use xlink:href=\"#DejaVuSans-32\"/>\n      </g>\n     </g>\n    </g>\n    <g id=\"xtick_3\">\n     <g id=\"line2d_5\">\n      <path d=\"M 127.753125 143.1 \nL 127.753125 7.2 \n\" clip-path=\"url(#pf7481d9cdf)\" style=\"fill: none; stroke: #b0b0b0; stroke-width: 0.8; stroke-linecap: square\"/>\n     </g>\n     <g id=\"line2d_6\">\n      <g>\n       <use xlink:href=\"#mcff699e194\" x=\"127.753125\" y=\"143.1\" style=\"stroke: #000000; stroke-width: 0.8\"/>\n      </g>\n     </g>\n     <g id=\"text_3\">\n      <!-- 3 -->\n      <g transform=\"translate(124.571875 157.698438)scale(0.1 -0.1)\">\n       <defs>\n        <path id=\"DejaVuSans-33\" d=\"M 2597 2516 \nQ 3050 2419 3304 2112 \nQ 3559 1806 3559 1356 \nQ 3559 666 3084 287 \nQ 2609 -91 1734 -91 \nQ 1441 -91 1130 -33 \nQ 819 25 488 141 \nL 488 750 \nQ 750 597 1062 519 \nQ 1375 441 1716 441 \nQ 2309 441 2620 675 \nQ 2931 909 2931 1356 \nQ 2931 1769 2642 2001 \nQ 2353 2234 1838 2234 \nL 1294 2234 \nL 1294 2753 \nL 1863 2753 \nQ 2328 2753 2575 2939 \nQ 2822 3125 2822 3475 \nQ 2822 3834 2567 4026 \nQ 2313 4219 1838 4219 \nQ 1578 4219 1281 4162 \nQ 984 4106 628 3988 \nL 628 4550 \nQ 988 4650 1302 4700 \nQ 1616 4750 1894 4750 \nQ 2613 4750 3031 4423 \nQ 3450 4097 3450 3541 \nQ 3450 3153 3228 2886 \nQ 3006 2619 2597 2516 \nz\n\" transform=\"scale(0.015625)\"/>\n       </defs>\n       <use xlink:href=\"#DejaVuSans-33\"/>\n      </g>\n     </g>\n    </g>\n    <g id=\"xtick_4\">\n     <g id=\"line2d_7\">\n      <path d=\"M 176.578125 143.1 \nL 176.578125 7.2 \n\" clip-path=\"url(#pf7481d9cdf)\" style=\"fill: none; stroke: #b0b0b0; stroke-width: 0.8; stroke-linecap: square\"/>\n     </g>\n     <g id=\"line2d_8\">\n      <g>\n       <use xlink:href=\"#mcff699e194\" x=\"176.578125\" y=\"143.1\" style=\"stroke: #000000; stroke-width: 0.8\"/>\n      </g>\n     </g>\n     <g id=\"text_4\">\n      <!-- 4 -->\n      <g transform=\"translate(173.396875 157.698438)scale(0.1 -0.1)\">\n       <defs>\n        <path id=\"DejaVuSans-34\" d=\"M 2419 4116 \nL 825 1625 \nL 2419 1625 \nL 2419 4116 \nz\nM 2253 4666 \nL 3047 4666 \nL 3047 1625 \nL 3713 1625 \nL 3713 1100 \nL 3047 1100 \nL 3047 0 \nL 2419 0 \nL 2419 1100 \nL 313 1100 \nL 313 1709 \nL 2253 4666 \nz\n\" transform=\"scale(0.015625)\"/>\n       </defs>\n       <use xlink:href=\"#DejaVuSans-34\"/>\n      </g>\n     </g>\n    </g>\n    <g id=\"xtick_5\">\n     <g id=\"line2d_9\">\n      <path d=\"M 225.403125 143.1 \nL 225.403125 7.2 \n\" clip-path=\"url(#pf7481d9cdf)\" style=\"fill: none; stroke: #b0b0b0; stroke-width: 0.8; stroke-linecap: square\"/>\n     </g>\n     <g id=\"line2d_10\">\n      <g>\n       <use xlink:href=\"#mcff699e194\" x=\"225.403125\" y=\"143.1\" style=\"stroke: #000000; stroke-width: 0.8\"/>\n      </g>\n     </g>\n     <g id=\"text_5\">\n      <!-- 5 -->\n      <g transform=\"translate(222.221875 157.698438)scale(0.1 -0.1)\">\n       <defs>\n        <path id=\"DejaVuSans-35\" d=\"M 691 4666 \nL 3169 4666 \nL 3169 4134 \nL 1269 4134 \nL 1269 2991 \nQ 1406 3038 1543 3061 \nQ 1681 3084 1819 3084 \nQ 2600 3084 3056 2656 \nQ 3513 2228 3513 1497 \nQ 3513 744 3044 326 \nQ 2575 -91 1722 -91 \nQ 1428 -91 1123 -41 \nQ 819 9 494 109 \nL 494 744 \nQ 775 591 1075 516 \nQ 1375 441 1709 441 \nQ 2250 441 2565 725 \nQ 2881 1009 2881 1497 \nQ 2881 1984 2565 2268 \nQ 2250 2553 1709 2553 \nQ 1456 2553 1204 2497 \nQ 953 2441 691 2322 \nL 691 4666 \nz\n\" transform=\"scale(0.015625)\"/>\n       </defs>\n       <use xlink:href=\"#DejaVuSans-35\"/>\n      </g>\n     </g>\n    </g>\n    <g id=\"text_6\">\n     <!-- epoch -->\n     <g transform=\"translate(112.525 171.376563)scale(0.1 -0.1)\">\n      <defs>\n       <path id=\"DejaVuSans-65\" d=\"M 3597 1894 \nL 3597 1613 \nL 953 1613 \nQ 991 1019 1311 708 \nQ 1631 397 2203 397 \nQ 2534 397 2845 478 \nQ 3156 559 3463 722 \nL 3463 178 \nQ 3153 47 2828 -22 \nQ 2503 -91 2169 -91 \nQ 1331 -91 842 396 \nQ 353 884 353 1716 \nQ 353 2575 817 3079 \nQ 1281 3584 2069 3584 \nQ 2775 3584 3186 3129 \nQ 3597 2675 3597 1894 \nz\nM 3022 2063 \nQ 3016 2534 2758 2815 \nQ 2500 3097 2075 3097 \nQ 1594 3097 1305 2825 \nQ 1016 2553 972 2059 \nL 3022 2063 \nz\n\" transform=\"scale(0.015625)\"/>\n       <path id=\"DejaVuSans-70\" d=\"M 1159 525 \nL 1159 -1331 \nL 581 -1331 \nL 581 3500 \nL 1159 3500 \nL 1159 2969 \nQ 1341 3281 1617 3432 \nQ 1894 3584 2278 3584 \nQ 2916 3584 3314 3078 \nQ 3713 2572 3713 1747 \nQ 3713 922 3314 415 \nQ 2916 -91 2278 -91 \nQ 1894 -91 1617 61 \nQ 1341 213 1159 525 \nz\nM 3116 1747 \nQ 3116 2381 2855 2742 \nQ 2594 3103 2138 3103 \nQ 1681 3103 1420 2742 \nQ 1159 2381 1159 1747 \nQ 1159 1113 1420 752 \nQ 1681 391 2138 391 \nQ 2594 391 2855 752 \nQ 3116 1113 3116 1747 \nz\n\" transform=\"scale(0.015625)\"/>\n       <path id=\"DejaVuSans-6f\" d=\"M 1959 3097 \nQ 1497 3097 1228 2736 \nQ 959 2375 959 1747 \nQ 959 1119 1226 758 \nQ 1494 397 1959 397 \nQ 2419 397 2687 759 \nQ 2956 1122 2956 1747 \nQ 2956 2369 2687 2733 \nQ 2419 3097 1959 3097 \nz\nM 1959 3584 \nQ 2709 3584 3137 3096 \nQ 3566 2609 3566 1747 \nQ 3566 888 3137 398 \nQ 2709 -91 1959 -91 \nQ 1206 -91 779 398 \nQ 353 888 353 1747 \nQ 353 2609 779 3096 \nQ 1206 3584 1959 3584 \nz\n\" transform=\"scale(0.015625)\"/>\n       <path id=\"DejaVuSans-63\" d=\"M 3122 3366 \nL 3122 2828 \nQ 2878 2963 2633 3030 \nQ 2388 3097 2138 3097 \nQ 1578 3097 1268 2742 \nQ 959 2388 959 1747 \nQ 959 1106 1268 751 \nQ 1578 397 2138 397 \nQ 2388 397 2633 464 \nQ 2878 531 3122 666 \nL 3122 134 \nQ 2881 22 2623 -34 \nQ 2366 -91 2075 -91 \nQ 1284 -91 818 406 \nQ 353 903 353 1747 \nQ 353 2603 823 3093 \nQ 1294 3584 2113 3584 \nQ 2378 3584 2631 3529 \nQ 2884 3475 3122 3366 \nz\n\" transform=\"scale(0.015625)\"/>\n       <path id=\"DejaVuSans-68\" d=\"M 3513 2113 \nL 3513 0 \nL 2938 0 \nL 2938 2094 \nQ 2938 2591 2744 2837 \nQ 2550 3084 2163 3084 \nQ 1697 3084 1428 2787 \nQ 1159 2491 1159 1978 \nL 1159 0 \nL 581 0 \nL 581 4863 \nL 1159 4863 \nL 1159 2956 \nQ 1366 3272 1645 3428 \nQ 1925 3584 2291 3584 \nQ 2894 3584 3203 3211 \nQ 3513 2838 3513 2113 \nz\n\" transform=\"scale(0.015625)\"/>\n      </defs>\n      <use xlink:href=\"#DejaVuSans-65\"/>\n      <use xlink:href=\"#DejaVuSans-70\" x=\"61.523438\"/>\n      <use xlink:href=\"#DejaVuSans-6f\" x=\"125\"/>\n      <use xlink:href=\"#DejaVuSans-63\" x=\"186.181641\"/>\n      <use xlink:href=\"#DejaVuSans-68\" x=\"241.162109\"/>\n     </g>\n    </g>\n   </g>\n   <g id=\"matplotlib.axis_2\">\n    <g id=\"ytick_1\">\n     <g id=\"line2d_11\">\n      <path d=\"M 30.103125 120.45 \nL 225.403125 120.45 \n\" clip-path=\"url(#pf7481d9cdf)\" style=\"fill: none; stroke: #b0b0b0; stroke-width: 0.8; stroke-linecap: square\"/>\n     </g>\n     <g id=\"line2d_12\">\n      <defs>\n       <path id=\"m77f6be65f1\" d=\"M 0 0 \nL -3.5 0 \n\" style=\"stroke: #000000; stroke-width: 0.8\"/>\n      </defs>\n      <g>\n       <use xlink:href=\"#m77f6be65f1\" x=\"30.103125\" y=\"120.45\" style=\"stroke: #000000; stroke-width: 0.8\"/>\n      </g>\n     </g>\n     <g id=\"text_7\">\n      <!-- 0.4 -->\n      <g transform=\"translate(7.2 124.249219)scale(0.1 -0.1)\">\n       <defs>\n        <path id=\"DejaVuSans-30\" d=\"M 2034 4250 \nQ 1547 4250 1301 3770 \nQ 1056 3291 1056 2328 \nQ 1056 1369 1301 889 \nQ 1547 409 2034 409 \nQ 2525 409 2770 889 \nQ 3016 1369 3016 2328 \nQ 3016 3291 2770 3770 \nQ 2525 4250 2034 4250 \nz\nM 2034 4750 \nQ 2819 4750 3233 4129 \nQ 3647 3509 3647 2328 \nQ 3647 1150 3233 529 \nQ 2819 -91 2034 -91 \nQ 1250 -91 836 529 \nQ 422 1150 422 2328 \nQ 422 3509 836 4129 \nQ 1250 4750 2034 4750 \nz\n\" transform=\"scale(0.015625)\"/>\n        <path id=\"DejaVuSans-2e\" d=\"M 684 794 \nL 1344 794 \nL 1344 0 \nL 684 0 \nL 684 794 \nz\n\" transform=\"scale(0.015625)\"/>\n       </defs>\n       <use xlink:href=\"#DejaVuSans-30\"/>\n       <use xlink:href=\"#DejaVuSans-2e\" x=\"63.623047\"/>\n       <use xlink:href=\"#DejaVuSans-34\" x=\"95.410156\"/>\n      </g>\n     </g>\n    </g>\n    <g id=\"ytick_2\">\n     <g id=\"line2d_13\">\n      <path d=\"M 30.103125 75.15 \nL 225.403125 75.15 \n\" clip-path=\"url(#pf7481d9cdf)\" style=\"fill: none; stroke: #b0b0b0; stroke-width: 0.8; stroke-linecap: square\"/>\n     </g>\n     <g id=\"line2d_14\">\n      <g>\n       <use xlink:href=\"#m77f6be65f1\" x=\"30.103125\" y=\"75.15\" style=\"stroke: #000000; stroke-width: 0.8\"/>\n      </g>\n     </g>\n     <g id=\"text_8\">\n      <!-- 0.6 -->\n      <g transform=\"translate(7.2 78.949219)scale(0.1 -0.1)\">\n       <defs>\n        <path id=\"DejaVuSans-36\" d=\"M 2113 2584 \nQ 1688 2584 1439 2293 \nQ 1191 2003 1191 1497 \nQ 1191 994 1439 701 \nQ 1688 409 2113 409 \nQ 2538 409 2786 701 \nQ 3034 994 3034 1497 \nQ 3034 2003 2786 2293 \nQ 2538 2584 2113 2584 \nz\nM 3366 4563 \nL 3366 3988 \nQ 3128 4100 2886 4159 \nQ 2644 4219 2406 4219 \nQ 1781 4219 1451 3797 \nQ 1122 3375 1075 2522 \nQ 1259 2794 1537 2939 \nQ 1816 3084 2150 3084 \nQ 2853 3084 3261 2657 \nQ 3669 2231 3669 1497 \nQ 3669 778 3244 343 \nQ 2819 -91 2113 -91 \nQ 1303 -91 875 529 \nQ 447 1150 447 2328 \nQ 447 3434 972 4092 \nQ 1497 4750 2381 4750 \nQ 2619 4750 2861 4703 \nQ 3103 4656 3366 4563 \nz\n\" transform=\"scale(0.015625)\"/>\n       </defs>\n       <use xlink:href=\"#DejaVuSans-30\"/>\n       <use xlink:href=\"#DejaVuSans-2e\" x=\"63.623047\"/>\n       <use xlink:href=\"#DejaVuSans-36\" x=\"95.410156\"/>\n      </g>\n     </g>\n    </g>\n    <g id=\"ytick_3\">\n     <g id=\"line2d_15\">\n      <path d=\"M 30.103125 29.85 \nL 225.403125 29.85 \n\" clip-path=\"url(#pf7481d9cdf)\" style=\"fill: none; stroke: #b0b0b0; stroke-width: 0.8; stroke-linecap: square\"/>\n     </g>\n     <g id=\"line2d_16\">\n      <g>\n       <use xlink:href=\"#m77f6be65f1\" x=\"30.103125\" y=\"29.85\" style=\"stroke: #000000; stroke-width: 0.8\"/>\n      </g>\n     </g>\n     <g id=\"text_9\">\n      <!-- 0.8 -->\n      <g transform=\"translate(7.2 33.649219)scale(0.1 -0.1)\">\n       <defs>\n        <path id=\"DejaVuSans-38\" d=\"M 2034 2216 \nQ 1584 2216 1326 1975 \nQ 1069 1734 1069 1313 \nQ 1069 891 1326 650 \nQ 1584 409 2034 409 \nQ 2484 409 2743 651 \nQ 3003 894 3003 1313 \nQ 3003 1734 2745 1975 \nQ 2488 2216 2034 2216 \nz\nM 1403 2484 \nQ 997 2584 770 2862 \nQ 544 3141 544 3541 \nQ 544 4100 942 4425 \nQ 1341 4750 2034 4750 \nQ 2731 4750 3128 4425 \nQ 3525 4100 3525 3541 \nQ 3525 3141 3298 2862 \nQ 3072 2584 2669 2484 \nQ 3125 2378 3379 2068 \nQ 3634 1759 3634 1313 \nQ 3634 634 3220 271 \nQ 2806 -91 2034 -91 \nQ 1263 -91 848 271 \nQ 434 634 434 1313 \nQ 434 1759 690 2068 \nQ 947 2378 1403 2484 \nz\nM 1172 3481 \nQ 1172 3119 1398 2916 \nQ 1625 2713 2034 2713 \nQ 2441 2713 2670 2916 \nQ 2900 3119 2900 3481 \nQ 2900 3844 2670 4047 \nQ 2441 4250 2034 4250 \nQ 1625 4250 1398 4047 \nQ 1172 3844 1172 3481 \nz\n\" transform=\"scale(0.015625)\"/>\n       </defs>\n       <use xlink:href=\"#DejaVuSans-30\"/>\n       <use xlink:href=\"#DejaVuSans-2e\" x=\"63.623047\"/>\n       <use xlink:href=\"#DejaVuSans-38\" x=\"95.410156\"/>\n      </g>\n     </g>\n    </g>\n   </g>\n   <g id=\"line2d_17\">\n    <path d=\"M 63.352786 -1 \nL 78.928125 46.256899 \nL 127.753125 85.992444 \nL 176.578125 105.303282 \nL 225.403125 116.62649 \n\" clip-path=\"url(#pf7481d9cdf)\" style=\"fill: none; stroke: #1f77b4; stroke-width: 1.5; stroke-linecap: square\"/>\n   </g>\n   <g id=\"line2d_18\">\n    <path d=\"M 30.103125 57.989309 \nL 78.928125 12.105274 \nL 127.753125 8.532718 \nL 176.578125 5.861068 \nL 225.403125 4.059258 \n\" clip-path=\"url(#pf7481d9cdf)\" style=\"fill: none; stroke-dasharray: 5.55,2.4; stroke-dashoffset: 0; stroke: #bf00bf; stroke-width: 1.5\"/>\n   </g>\n   <g id=\"line2d_19\">\n    <path d=\"M 30.103125 29.127728 \nL 78.928125 22.356428 \nL 127.753125 16.375112 \nL 176.578125 15.133707 \nL 225.403125 14.230867 \n\" clip-path=\"url(#pf7481d9cdf)\" style=\"fill: none; stroke-dasharray: 9.6,2.4,1.5,2.4; stroke-dashoffset: 0; stroke: #008000; stroke-width: 1.5\"/>\n   </g>\n   <g id=\"patch_3\">\n    <path d=\"M 30.103125 143.1 \nL 30.103125 7.2 \n\" style=\"fill: none; stroke: #000000; stroke-width: 0.8; stroke-linejoin: miter; stroke-linecap: square\"/>\n   </g>\n   <g id=\"patch_4\">\n    <path d=\"M 225.403125 143.1 \nL 225.403125 7.2 \n\" style=\"fill: none; stroke: #000000; stroke-width: 0.8; stroke-linejoin: miter; stroke-linecap: square\"/>\n   </g>\n   <g id=\"patch_5\">\n    <path d=\"M 30.103125 143.1 \nL 225.403125 143.1 \n\" style=\"fill: none; stroke: #000000; stroke-width: 0.8; stroke-linejoin: miter; stroke-linecap: square\"/>\n   </g>\n   <g id=\"patch_6\">\n    <path d=\"M 30.103125 7.2 \nL 225.403125 7.2 \n\" style=\"fill: none; stroke: #000000; stroke-width: 0.8; stroke-linejoin: miter; stroke-linecap: square\"/>\n   </g>\n   <g id=\"legend_1\">\n    <g id=\"patch_7\">\n     <path d=\"M 37.103125 138.1 \nL 114.871875 138.1 \nQ 116.871875 138.1 116.871875 136.1 \nL 116.871875 93.065625 \nQ 116.871875 91.065625 114.871875 91.065625 \nL 37.103125 91.065625 \nQ 35.103125 91.065625 35.103125 93.065625 \nL 35.103125 136.1 \nQ 35.103125 138.1 37.103125 138.1 \nz\n\" style=\"fill: #ffffff; opacity: 0.8; stroke: #cccccc; stroke-linejoin: miter\"/>\n    </g>\n    <g id=\"line2d_20\">\n     <path d=\"M 39.103125 99.164062 \nL 49.103125 99.164062 \nL 59.103125 99.164062 \n\" style=\"fill: none; stroke: #1f77b4; stroke-width: 1.5; stroke-linecap: square\"/>\n    </g>\n    <g id=\"text_10\">\n     <!-- train loss -->\n     <g transform=\"translate(67.103125 102.664062)scale(0.1 -0.1)\">\n      <defs>\n       <path id=\"DejaVuSans-74\" d=\"M 1172 4494 \nL 1172 3500 \nL 2356 3500 \nL 2356 3053 \nL 1172 3053 \nL 1172 1153 \nQ 1172 725 1289 603 \nQ 1406 481 1766 481 \nL 2356 481 \nL 2356 0 \nL 1766 0 \nQ 1100 0 847 248 \nQ 594 497 594 1153 \nL 594 3053 \nL 172 3053 \nL 172 3500 \nL 594 3500 \nL 594 4494 \nL 1172 4494 \nz\n\" transform=\"scale(0.015625)\"/>\n       <path id=\"DejaVuSans-72\" d=\"M 2631 2963 \nQ 2534 3019 2420 3045 \nQ 2306 3072 2169 3072 \nQ 1681 3072 1420 2755 \nQ 1159 2438 1159 1844 \nL 1159 0 \nL 581 0 \nL 581 3500 \nL 1159 3500 \nL 1159 2956 \nQ 1341 3275 1631 3429 \nQ 1922 3584 2338 3584 \nQ 2397 3584 2469 3576 \nQ 2541 3569 2628 3553 \nL 2631 2963 \nz\n\" transform=\"scale(0.015625)\"/>\n       <path id=\"DejaVuSans-61\" d=\"M 2194 1759 \nQ 1497 1759 1228 1600 \nQ 959 1441 959 1056 \nQ 959 750 1161 570 \nQ 1363 391 1709 391 \nQ 2188 391 2477 730 \nQ 2766 1069 2766 1631 \nL 2766 1759 \nL 2194 1759 \nz\nM 3341 1997 \nL 3341 0 \nL 2766 0 \nL 2766 531 \nQ 2569 213 2275 61 \nQ 1981 -91 1556 -91 \nQ 1019 -91 701 211 \nQ 384 513 384 1019 \nQ 384 1609 779 1909 \nQ 1175 2209 1959 2209 \nL 2766 2209 \nL 2766 2266 \nQ 2766 2663 2505 2880 \nQ 2244 3097 1772 3097 \nQ 1472 3097 1187 3025 \nQ 903 2953 641 2809 \nL 641 3341 \nQ 956 3463 1253 3523 \nQ 1550 3584 1831 3584 \nQ 2591 3584 2966 3190 \nQ 3341 2797 3341 1997 \nz\n\" transform=\"scale(0.015625)\"/>\n       <path id=\"DejaVuSans-69\" d=\"M 603 3500 \nL 1178 3500 \nL 1178 0 \nL 603 0 \nL 603 3500 \nz\nM 603 4863 \nL 1178 4863 \nL 1178 4134 \nL 603 4134 \nL 603 4863 \nz\n\" transform=\"scale(0.015625)\"/>\n       <path id=\"DejaVuSans-6e\" d=\"M 3513 2113 \nL 3513 0 \nL 2938 0 \nL 2938 2094 \nQ 2938 2591 2744 2837 \nQ 2550 3084 2163 3084 \nQ 1697 3084 1428 2787 \nQ 1159 2491 1159 1978 \nL 1159 0 \nL 581 0 \nL 581 3500 \nL 1159 3500 \nL 1159 2956 \nQ 1366 3272 1645 3428 \nQ 1925 3584 2291 3584 \nQ 2894 3584 3203 3211 \nQ 3513 2838 3513 2113 \nz\n\" transform=\"scale(0.015625)\"/>\n       <path id=\"DejaVuSans-20\" transform=\"scale(0.015625)\"/>\n       <path id=\"DejaVuSans-6c\" d=\"M 603 4863 \nL 1178 4863 \nL 1178 0 \nL 603 0 \nL 603 4863 \nz\n\" transform=\"scale(0.015625)\"/>\n       <path id=\"DejaVuSans-73\" d=\"M 2834 3397 \nL 2834 2853 \nQ 2591 2978 2328 3040 \nQ 2066 3103 1784 3103 \nQ 1356 3103 1142 2972 \nQ 928 2841 928 2578 \nQ 928 2378 1081 2264 \nQ 1234 2150 1697 2047 \nL 1894 2003 \nQ 2506 1872 2764 1633 \nQ 3022 1394 3022 966 \nQ 3022 478 2636 193 \nQ 2250 -91 1575 -91 \nQ 1294 -91 989 -36 \nQ 684 19 347 128 \nL 347 722 \nQ 666 556 975 473 \nQ 1284 391 1588 391 \nQ 1994 391 2212 530 \nQ 2431 669 2431 922 \nQ 2431 1156 2273 1281 \nQ 2116 1406 1581 1522 \nL 1381 1569 \nQ 847 1681 609 1914 \nQ 372 2147 372 2553 \nQ 372 3047 722 3315 \nQ 1072 3584 1716 3584 \nQ 2034 3584 2315 3537 \nQ 2597 3491 2834 3397 \nz\n\" transform=\"scale(0.015625)\"/>\n      </defs>\n      <use xlink:href=\"#DejaVuSans-74\"/>\n      <use xlink:href=\"#DejaVuSans-72\" x=\"39.208984\"/>\n      <use xlink:href=\"#DejaVuSans-61\" x=\"80.322266\"/>\n      <use xlink:href=\"#DejaVuSans-69\" x=\"141.601562\"/>\n      <use xlink:href=\"#DejaVuSans-6e\" x=\"169.384766\"/>\n      <use xlink:href=\"#DejaVuSans-20\" x=\"232.763672\"/>\n      <use xlink:href=\"#DejaVuSans-6c\" x=\"264.550781\"/>\n      <use xlink:href=\"#DejaVuSans-6f\" x=\"292.333984\"/>\n      <use xlink:href=\"#DejaVuSans-73\" x=\"353.515625\"/>\n      <use xlink:href=\"#DejaVuSans-73\" x=\"405.615234\"/>\n     </g>\n    </g>\n    <g id=\"line2d_21\">\n     <path d=\"M 39.103125 113.842187 \nL 49.103125 113.842187 \nL 59.103125 113.842187 \n\" style=\"fill: none; stroke-dasharray: 5.55,2.4; stroke-dashoffset: 0; stroke: #bf00bf; stroke-width: 1.5\"/>\n    </g>\n    <g id=\"text_11\">\n     <!-- train acc -->\n     <g transform=\"translate(67.103125 117.342187)scale(0.1 -0.1)\">\n      <use xlink:href=\"#DejaVuSans-74\"/>\n      <use xlink:href=\"#DejaVuSans-72\" x=\"39.208984\"/>\n      <use xlink:href=\"#DejaVuSans-61\" x=\"80.322266\"/>\n      <use xlink:href=\"#DejaVuSans-69\" x=\"141.601562\"/>\n      <use xlink:href=\"#DejaVuSans-6e\" x=\"169.384766\"/>\n      <use xlink:href=\"#DejaVuSans-20\" x=\"232.763672\"/>\n      <use xlink:href=\"#DejaVuSans-61\" x=\"264.550781\"/>\n      <use xlink:href=\"#DejaVuSans-63\" x=\"325.830078\"/>\n      <use xlink:href=\"#DejaVuSans-63\" x=\"380.810547\"/>\n     </g>\n    </g>\n    <g id=\"line2d_22\">\n     <path d=\"M 39.103125 128.520312 \nL 49.103125 128.520312 \nL 59.103125 128.520312 \n\" style=\"fill: none; stroke-dasharray: 9.6,2.4,1.5,2.4; stroke-dashoffset: 0; stroke: #008000; stroke-width: 1.5\"/>\n    </g>\n    <g id=\"text_12\">\n     <!-- test acc -->\n     <g transform=\"translate(67.103125 132.020312)scale(0.1 -0.1)\">\n      <use xlink:href=\"#DejaVuSans-74\"/>\n      <use xlink:href=\"#DejaVuSans-65\" x=\"39.208984\"/>\n      <use xlink:href=\"#DejaVuSans-73\" x=\"100.732422\"/>\n      <use xlink:href=\"#DejaVuSans-74\" x=\"152.832031\"/>\n      <use xlink:href=\"#DejaVuSans-20\" x=\"192.041016\"/>\n      <use xlink:href=\"#DejaVuSans-61\" x=\"223.828125\"/>\n      <use xlink:href=\"#DejaVuSans-63\" x=\"285.107422\"/>\n      <use xlink:href=\"#DejaVuSans-63\" x=\"340.087891\"/>\n     </g>\n    </g>\n   </g>\n  </g>\n </g>\n <defs>\n  <clipPath id=\"pf7481d9cdf\">\n   <rect x=\"30.103125\" y=\"7.2\" width=\"195.3\" height=\"135.9\"/>\n  </clipPath>\n </defs>\n</svg>\n"
          },
          "metadata": {
            "needs_background": "light"
          }
        }
      ]
    }
  ]
}